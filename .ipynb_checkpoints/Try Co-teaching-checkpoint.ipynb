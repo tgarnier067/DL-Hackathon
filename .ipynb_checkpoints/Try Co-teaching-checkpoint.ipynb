{
 "cells": [
  {
   "cell_type": "code",
   "execution_count": 1,
   "id": "6228bc1c",
   "metadata": {
    "id": "xSkgt1zf-raF",
    "outputId": "59f4a52f-5eb4-41e5-9fba-07432989fe78",
    "papermill": {
     "duration": 5.620104,
     "end_time": "2025-05-21T16:23:24.361690",
     "exception": false,
     "start_time": "2025-05-21T16:23:18.741586",
     "status": "completed"
    },
    "tags": []
   },
   "outputs": [],
   "source": [
    "!pip install torch_geometric torch gdown --quiet"
   ]
  },
  {
   "cell_type": "code",
   "execution_count": null,
   "id": "c86aceda",
   "metadata": {
    "id": "5oR2D2Us-xSQ",
    "outputId": "7086cadf-a7fe-4d75-f271-6339bee8164d",
    "papermill": {
     "duration": 4.049235,
     "end_time": "2025-05-21T16:23:28.415556",
     "exception": false,
     "start_time": "2025-05-21T16:23:24.366321",
     "status": "completed"
    },
    "tags": []
   },
   "outputs": [],
   "source": [
    "!git clone --branch baselineCe https://github.com/Graph-Classification-Noisy-Label/hackaton.git"
   ]
  },
  {
   "cell_type": "code",
   "execution_count": 2,
   "id": "c129091c",
   "metadata": {
    "id": "tEhfPly6-7UK",
    "outputId": "3078ee06-6312-4fca-f5f9-888fa628c80a",
    "papermill": {
     "duration": 0.013251,
     "end_time": "2025-05-21T16:23:28.434119",
     "exception": false,
     "start_time": "2025-05-21T16:23:28.420868",
     "status": "completed"
    },
    "tags": []
   },
   "outputs": [
    {
     "name": "stdout",
     "output_type": "stream",
     "text": [
      "/home/onyxia/work/DL-Hackathon/hackaton\n"
     ]
    }
   ],
   "source": [
    "%cd hackaton/"
   ]
  },
  {
   "cell_type": "code",
   "execution_count": null,
   "id": "d48103c0",
   "metadata": {
    "id": "PxBvwB0_6xI8",
    "outputId": "5933387c-2cfb-474f-d842-f36a3e2d2a73",
    "papermill": {
     "duration": 83.957666,
     "end_time": "2025-05-21T16:24:52.396720",
     "exception": false,
     "start_time": "2025-05-21T16:23:28.439054",
     "status": "completed"
    },
    "tags": []
   },
   "outputs": [],
   "source": [
    "!gdown --folder https://drive.google.com/drive/folders/1Z-1JkPJ6q4C6jX4brvq1VRbJH5RPUCAk -O datasets\n"
   ]
  },
  {
   "cell_type": "code",
   "execution_count": 3,
   "id": "80dab1bc",
   "metadata": {
    "id": "1rockhiQ7Nny",
    "outputId": "2cd2e6f4-5f8f-4a62-f0ec-53e6fc78c9b7",
    "papermill": {
     "duration": 0.138969,
     "end_time": "2025-05-21T16:24:52.549260",
     "exception": false,
     "start_time": "2025-05-21T16:24:52.410291",
     "status": "completed"
    },
    "tags": []
   },
   "outputs": [
    {
     "name": "stdout",
     "output_type": "stream",
     "text": [
      "total 16K\n",
      "drwxr-sr-x 2 onyxia users 4.0K May 24 07:10 A\n",
      "drwxr-sr-x 2 onyxia users 4.0K May 24 07:11 B\n",
      "drwxr-sr-x 2 onyxia users 4.0K May 24 07:11 C\n",
      "drwxr-sr-x 2 onyxia users 4.0K May 24 07:11 D\n"
     ]
    }
   ],
   "source": [
    "!ls -lh datasets"
   ]
  },
  {
   "cell_type": "code",
   "execution_count": 4,
   "id": "817b1078",
   "metadata": {
    "id": "lAQuCuIoBbq5",
    "papermill": {
     "duration": 9.949638,
     "end_time": "2025-05-21T16:25:02.510764",
     "exception": false,
     "start_time": "2025-05-21T16:24:52.561126",
     "status": "completed"
    },
    "tags": []
   },
   "outputs": [],
   "source": [
    "import os\n",
    "import torch\n",
    "import pandas as pd\n",
    "import matplotlib.pyplot as plt\n",
    "import logging\n",
    "from tqdm import tqdm\n",
    "from torch_geometric.loader import DataLoader\n",
    "from torch.utils.data import random_split\n",
    "# Load utility functions from cloned repository\n",
    "from src.loadData import GraphDataset\n",
    "from src.utils import set_seed\n",
    "from src.models import GNN\n",
    "import argparse\n",
    "\n",
    "# Set the random seed\n",
    "set_seed(42)\n"
   ]
  },
  {
   "cell_type": "code",
   "execution_count": 5,
   "id": "0a9c70d7",
   "metadata": {
    "id": "Dyf0I2-t9IcW",
    "papermill": {
     "duration": 0.019268,
     "end_time": "2025-05-21T16:25:02.544583",
     "exception": false,
     "start_time": "2025-05-21T16:25:02.525315",
     "status": "completed"
    },
    "tags": []
   },
   "outputs": [],
   "source": [
    "def add_zeros(data):\n",
    "    data.x = torch.zeros(data.num_nodes, dtype=torch.long)\n",
    "    return data"
   ]
  },
  {
   "cell_type": "code",
   "execution_count": 6,
   "id": "3622cfa1",
   "metadata": {
    "id": "3jKvoQYI9Zbc",
    "papermill": {
     "duration": 0.019599,
     "end_time": "2025-05-21T16:25:02.577661",
     "exception": false,
     "start_time": "2025-05-21T16:25:02.558062",
     "status": "completed"
    },
    "tags": []
   },
   "outputs": [],
   "source": [
    "def train(data_loader, model, optimizer, criterion, device, save_checkpoints, checkpoint_path, current_epoch):\n",
    "    model.train()\n",
    "    total_loss = 0\n",
    "    correct = 0\n",
    "    total = 0\n",
    "    for data in tqdm(data_loader, desc=\"Iterating training graphs\", unit=\"batch\"):\n",
    "        data = data.to(device)\n",
    "        optimizer.zero_grad()\n",
    "        output = model(data)\n",
    "        loss = criterion(output, data.y)\n",
    "        loss.backward()\n",
    "        optimizer.step()\n",
    "        total_loss += loss.item()\n",
    "        pred = output.argmax(dim=1)\n",
    "        correct += (pred == data.y).sum().item()\n",
    "        total += data.y.size(0)\n",
    "\n",
    "    # Save checkpoints if required\n",
    "    if save_checkpoints:\n",
    "        checkpoint_file = f\"{checkpoint_path}_epoch_{current_epoch + 1}.pth\"\n",
    "        torch.save(model.state_dict(), checkpoint_file)\n",
    "        print(f\"Checkpoint saved at {checkpoint_file}\")\n",
    "\n",
    "    return total_loss / len(data_loader),  correct / total"
   ]
  },
  {
   "cell_type": "code",
   "execution_count": 7,
   "id": "6139b912",
   "metadata": {
    "id": "8peFiIS19ZpK",
    "papermill": {
     "duration": 0.017908,
     "end_time": "2025-05-21T16:25:02.607848",
     "exception": false,
     "start_time": "2025-05-21T16:25:02.589940",
     "status": "completed"
    },
    "tags": []
   },
   "outputs": [],
   "source": [
    "def evaluate(data_loader, model, device, calculate_accuracy=False):\n",
    "    model.eval()\n",
    "    correct = 0\n",
    "    total = 0\n",
    "    predictions = []\n",
    "    total_loss = 0\n",
    "    criterion = torch.nn.CrossEntropyLoss()\n",
    "    with torch.no_grad():\n",
    "        for data in tqdm(data_loader, desc=\"Iterating eval graphs\", unit=\"batch\"):\n",
    "            data = data.to(device)\n",
    "            output = model(data)\n",
    "            pred = output.argmax(dim=1)\n",
    "            \n",
    "            if calculate_accuracy:\n",
    "                correct += (pred == data.y).sum().item()\n",
    "                total += data.y.size(0)\n",
    "                total_loss += criterion(output, data.y).item()\n",
    "            else:\n",
    "                predictions.extend(pred.cpu().numpy())\n",
    "    if calculate_accuracy:\n",
    "        accuracy = correct / total\n",
    "        return  total_loss / len(data_loader),accuracy\n",
    "    return predictions"
   ]
  },
  {
   "cell_type": "code",
   "execution_count": 8,
   "id": "fbdbd871",
   "metadata": {
    "id": "WanuZKxy9Zs-",
    "papermill": {
     "duration": 0.016728,
     "end_time": "2025-05-21T16:25:02.635694",
     "exception": false,
     "start_time": "2025-05-21T16:25:02.618966",
     "status": "completed"
    },
    "tags": []
   },
   "outputs": [],
   "source": [
    "def save_predictions(predictions, test_path):\n",
    "    script_dir = os.getcwd() \n",
    "    submission_folder = os.path.join(script_dir, \"submission\")\n",
    "    test_dir_name = os.path.basename(os.path.dirname(test_path))\n",
    "    \n",
    "    os.makedirs(submission_folder, exist_ok=True)\n",
    "    \n",
    "    output_csv_path = os.path.join(submission_folder, f\"testset_{test_dir_name}.csv\")\n",
    "    \n",
    "    test_graph_ids = list(range(len(predictions)))\n",
    "    output_df = pd.DataFrame({\n",
    "        \"id\": test_graph_ids,\n",
    "        \"pred\": predictions\n",
    "    })\n",
    "    \n",
    "    output_df.to_csv(output_csv_path, index=False)\n",
    "    print(f\"Predictions saved to {output_csv_path}\")"
   ]
  },
  {
   "cell_type": "code",
   "execution_count": 9,
   "id": "fc3d24da",
   "metadata": {
    "id": "uyHIJS5U9ZzB",
    "papermill": {
     "duration": 0.017765,
     "end_time": "2025-05-21T16:25:02.664538",
     "exception": false,
     "start_time": "2025-05-21T16:25:02.646773",
     "status": "completed"
    },
    "tags": []
   },
   "outputs": [],
   "source": [
    "def plot_training_progress(train_losses, train_accuracies, output_dir):\n",
    "    epochs = range(1, len(train_losses) + 1)\n",
    "    plt.figure(figsize=(12, 6))\n",
    "\n",
    "    # Plot loss\n",
    "    plt.subplot(1, 2, 1)\n",
    "    plt.plot(epochs, train_losses, label=\"Training Loss\", color='blue')\n",
    "    plt.xlabel('Epoch')\n",
    "    plt.ylabel('Loss')\n",
    "    plt.title('Training Loss per Epoch')\n",
    "\n",
    "    # Plot accuracy\n",
    "    plt.subplot(1, 2, 2)\n",
    "    plt.plot(epochs, train_accuracies, label=\"Training Accuracy\", color='green')\n",
    "    plt.xlabel('Epoch')\n",
    "    plt.ylabel('Accuracy')\n",
    "    plt.title('Training Accuracy per Epoch')\n",
    "\n",
    "    # Save plots in the current directory\n",
    "    os.makedirs(output_dir, exist_ok=True)\n",
    "    plt.tight_layout()\n",
    "    plt.savefig(os.path.join(output_dir, \"training_progress.png\"))\n",
    "    plt.close()"
   ]
  },
  {
   "cell_type": "code",
   "execution_count": 10,
   "id": "22574fa5",
   "metadata": {
    "papermill": {
     "duration": 0.016577,
     "end_time": "2025-05-21T16:25:02.692205",
     "exception": false,
     "start_time": "2025-05-21T16:25:02.675628",
     "status": "completed"
    },
    "tags": []
   },
   "outputs": [],
   "source": [
    "def get_user_input(prompt, default=None, required=False, type_cast=str):\n",
    "\n",
    "    while True:\n",
    "        user_input = input(f\"{prompt} [{default}]: \")\n",
    "        \n",
    "        if user_input == \"\" and required:\n",
    "            print(\"This field is required. Please enter a value.\")\n",
    "            continue\n",
    "        \n",
    "        if user_input == \"\" and default is not None:\n",
    "            return default\n",
    "        \n",
    "        if user_input == \"\" and not required:\n",
    "            return None\n",
    "        \n",
    "        try:\n",
    "            return type_cast(user_input)\n",
    "        except ValueError:\n",
    "            print(f\"Invalid input. Please enter a valid {type_cast.__name__}.\")"
   ]
  },
  {
   "cell_type": "code",
   "execution_count": 11,
   "id": "139e88b2",
   "metadata": {
    "papermill": {
     "duration": 0.017703,
     "end_time": "2025-05-21T16:25:02.721184",
     "exception": false,
     "start_time": "2025-05-21T16:25:02.703481",
     "status": "completed"
    },
    "tags": []
   },
   "outputs": [],
   "source": [
    "def get_arguments():\n",
    "    args = {}\n",
    "    args['train_path'] = get_user_input(\"Path to the training dataset (optional)\")\n",
    "    args['test_path'] = get_user_input(\"Path to the test dataset\", required=True)\n",
    "    args['num_checkpoints'] = get_user_input(\"Number of checkpoints to save during training\", type_cast=int)\n",
    "    args['device'] = get_user_input(\"Which GPU to use if any\", default=1, type_cast=int)\n",
    "    args['gnn'] = get_user_input(\"GNN type (gin, gin-virtual, gcn, gcn-virtual)\", default='gin')\n",
    "    args['drop_ratio'] = get_user_input(\"Dropout ratio\", default=0.0, type_cast=float)\n",
    "    args['num_layer'] = get_user_input(\"Number of GNN message passing layers\", default=5, type_cast=int)\n",
    "    args['emb_dim'] = get_user_input(\"Dimensionality of hidden units in GNNs\", default=300, type_cast=int)\n",
    "    args['batch_size'] = get_user_input(\"Input batch size for training\", default=32, type_cast=int)\n",
    "    args['epochs'] = get_user_input(\"Number of epochs to train\", default=10, type_cast=int)\n",
    "    args['baseline_mode'] = get_user_input(\"Baseline mode: 1 (CE), 2 (Noisy CE)\", default=1, type_cast=int)\n",
    "    args['noise_prob'] = get_user_input(\"Noise probability p (used if baseline_mode=2)\", default=0.2, type_cast=float)\n",
    "\n",
    "    \n",
    "    return argparse.Namespace(**args)\n"
   ]
  },
  {
   "cell_type": "code",
   "execution_count": 12,
   "id": "45bffa19",
   "metadata": {
    "papermill": {
     "duration": 0.118164,
     "end_time": "2025-05-21T16:25:02.850799",
     "exception": true,
     "start_time": "2025-05-21T16:25:02.732635",
     "status": "failed"
    },
    "tags": []
   },
   "outputs": [
    {
     "name": "stdin",
     "output_type": "stream",
     "text": [
      "Path to the training dataset (optional) [None]:  datasets/B/train.json.gz\n",
      "Path to the test dataset [None]:  datasets/B/test.json.gz\n",
      "Number of checkpoints to save during training [None]:  30\n",
      "Which GPU to use if any [1]:  1\n",
      "GNN type (gin, gin-virtual, gcn, gcn-virtual) [gin]:  gcn\n",
      "Dropout ratio [0.0]:  0.2\n",
      "Number of GNN message passing layers [5]:  5\n",
      "Dimensionality of hidden units in GNNs [300]:  300\n",
      "Input batch size for training [32]:  8\n",
      "Number of epochs to train [10]:  30\n",
      "Baseline mode: 1 (CE), 2 (Noisy CE) [1]:  1\n",
      "Noise probability p (used if baseline_mode=2) [0.2]:  0.2\n"
     ]
    },
    {
     "name": "stdout",
     "output_type": "stream",
     "text": [
      "Arguments received:\n",
      "train_path: datasets/B/train.json.gz\n",
      "test_path: datasets/B/test.json.gz\n",
      "num_checkpoints: 30\n",
      "device: 1\n",
      "gnn: gcn\n",
      "drop_ratio: 0.2\n",
      "num_layer: 5\n",
      "emb_dim: 300\n",
      "batch_size: 8\n",
      "epochs: 30\n",
      "baseline_mode: 1\n",
      "noise_prob: 0.2\n"
     ]
    }
   ],
   "source": [
    "def populate_args(args):\n",
    "    print(\"Arguments received:\")\n",
    "    for key, value in vars(args).items():\n",
    "        print(f\"{key}: {value}\")\n",
    "args = get_arguments()\n",
    "populate_args(args)"
   ]
  },
  {
   "cell_type": "code",
   "execution_count": 13,
   "id": "09b57d62",
   "metadata": {
    "papermill": {
     "duration": null,
     "end_time": null,
     "exception": null,
     "start_time": null,
     "status": "pending"
    },
    "tags": []
   },
   "outputs": [],
   "source": [
    "class NoisyCrossEntropyLoss(torch.nn.Module):\n",
    "    def __init__(self, p_noisy):\n",
    "        super().__init__()\n",
    "        self.p = p_noisy\n",
    "        self.ce = torch.nn.CrossEntropyLoss(reduction='none')\n",
    "\n",
    "    def forward(self, logits, targets):\n",
    "        losses = self.ce(logits, targets)\n",
    "        weights = (1 - self.p) + self.p * (1 - torch.nn.functional.one_hot(targets, num_classes=logits.size(1)).float().sum(dim=1))\n",
    "        return (losses * weights).mean()"
   ]
  },
  {
   "cell_type": "code",
   "execution_count": 14,
   "id": "f58745df",
   "metadata": {
    "id": "lHX55XGECXBr",
    "papermill": {
     "duration": null,
     "end_time": null,
     "exception": null,
     "start_time": null,
     "status": "pending"
    },
    "tags": []
   },
   "outputs": [],
   "source": [
    "script_dir = os.getcwd() \n",
    "# device = torch.device(f\"cuda:{args.device}\" if torch.cuda.is_available() else \"cpu\")\n",
    "device = torch.device(\"cuda\" if torch.cuda.is_available() else \"cpu\")\n",
    "num_checkpoints = args.num_checkpoints if args.num_checkpoints else 3\n",
    "    \n",
    "if args.gnn == 'gin':\n",
    "    model1 = GNN(gnn_type='gin', num_class=6, num_layer=args.num_layer, emb_dim=args.emb_dim, drop_ratio=args.drop_ratio, virtual_node=False).to(device)\n",
    "    model2 = GNN(gnn_type='gin', num_class=6, num_layer=args.num_layer, emb_dim=args.emb_dim, drop_ratio=args.drop_ratio, virtual_node=False).to(device)\n",
    "elif args.gnn == 'gin-virtual':\n",
    "    model1 = GNN(gnn_type='gin', num_class=6, num_layer=args.num_layer, emb_dim=args.emb_dim, drop_ratio=args.drop_ratio, virtual_node=True).to(device)\n",
    "    model2 = GNN(gnn_type='gin', num_class=6, num_layer=args.num_layer, emb_dim=args.emb_dim, drop_ratio=args.drop_ratio, virtual_node=True).to(device)\n",
    "elif args.gnn == 'gcn':\n",
    "    model1 = GNN(gnn_type='gcn', num_class=6, num_layer=args.num_layer, emb_dim=args.emb_dim, drop_ratio=args.drop_ratio, virtual_node=False).to(device)\n",
    "    model2 = GNN(gnn_type='gcn', num_class=6, num_layer=args.num_layer, emb_dim=args.emb_dim, drop_ratio=args.drop_ratio, virtual_node=False).to(device)\n",
    "elif args.gnn == 'gcn-virtual':\n",
    "    model1 = GNN(gnn_type='gcn', num_class=6, num_layer=args.num_layer, emb_dim=args.emb_dim, drop_ratio=args.drop_ratio, virtual_node=True).to(device)\n",
    "    model2 = GNN(gnn_type='gcn', num_class=6, num_layer=args.num_layer, emb_dim=args.emb_dim, drop_ratio=args.drop_ratio, virtual_node=True).to(device)\n",
    "else:\n",
    "    raise ValueError('Invalid GNN type')\n",
    "    \n",
    "optimizer1 = torch.optim.Adam(model1.parameters(), lr=0.001)\n",
    "optimizer2 = torch.optim.Adam(model2.parameters(), lr=0.001)\n",
    "# criterion = torch.nn.CrossEntropyLoss()\n",
    "if args.baseline_mode == 2:\n",
    "    criterion = NoisyCrossEntropyLoss(args.noise_prob)\n",
    "else:\n",
    "    criterion = torch.nn.CrossEntropyLoss(reduction='none')"
   ]
  },
  {
   "cell_type": "code",
   "execution_count": 15,
   "id": "6a025914",
   "metadata": {
    "id": "BTYT5jYuChPb",
    "papermill": {
     "duration": null,
     "end_time": null,
     "exception": null,
     "start_time": null,
     "status": "pending"
    },
    "tags": []
   },
   "outputs": [],
   "source": [
    "test_dir_name = os.path.basename(os.path.dirname(args.test_path))\n",
    "logs_folder = os.path.join(script_dir, \"logs\", test_dir_name)\n",
    "log_file = os.path.join(logs_folder, \"training.log\")\n",
    "os.makedirs(os.path.dirname(log_file), exist_ok=True)\n",
    "logging.basicConfig(filename=log_file, level=logging.INFO, format='%(asctime)s - %(message)s')\n",
    "logging.getLogger().addHandler(logging.StreamHandler())\n",
    "\n",
    "checkpoint_path = os.path.join(script_dir, \"checkpoints\", f\"model_{test_dir_name}_best.pth\")\n",
    "checkpoints_folder = os.path.join(script_dir, \"checkpoints\", test_dir_name)\n",
    "os.makedirs(checkpoints_folder, exist_ok=True)\n"
   ]
  },
  {
   "cell_type": "code",
   "execution_count": 16,
   "id": "dbca6779",
   "metadata": {
    "papermill": {
     "duration": null,
     "end_time": null,
     "exception": null,
     "start_time": null,
     "status": "pending"
    },
    "tags": []
   },
   "outputs": [],
   "source": [
    "if os.path.exists(checkpoint_path) and not args.train_path:\n",
    "    model1.load_state_dict(torch.load(checkpoint_path))\n",
    "    print(f\"Loaded best model from {checkpoint_path}\")"
   ]
  },
  {
   "cell_type": "code",
   "execution_count": 17,
   "id": "74027780-797a-46f2-80f2-0925e6cb8728",
   "metadata": {},
   "outputs": [],
   "source": [
    "def train_coteaching(train_loader, model1, model2, optimizer1, optimizer2, criterion, device, forget_rate, epoch, num_epochs):\n",
    "    model1.train()\n",
    "    model2.train()\n",
    "\n",
    "    total_correct1 = total_correct2 = total_samples = 0\n",
    "    running_loss1 = 0.0\n",
    "    running_loss2 = 0.0\n",
    "\n",
    "    for batch in train_loader:\n",
    "        batch = batch.to(device, non_blocking=True)\n",
    "\n",
    "        out1 = model1(batch)\n",
    "        out2 = model2(batch)\n",
    "\n",
    "        # Perte par échantillon (shape: [batch_size])\n",
    "        loss1 = criterion(out1, batch.y)\n",
    "        loss2 = criterion(out2, batch.y)\n",
    "\n",
    "        remember_rate = 1.0 - forget_rate\n",
    "        num_remember = int(remember_rate * batch.y.size(0))\n",
    "\n",
    "        _, idx1 = loss1.topk(num_remember, largest=False)\n",
    "        _, idx2 = loss2.topk(num_remember, largest=False)\n",
    "\n",
    "        loss1_update = criterion(out1[idx2], batch.y[idx2]).mean()\n",
    "        loss2_update = criterion(out2[idx1], batch.y[idx1]).mean()\n",
    "\n",
    "        optimizer1.zero_grad()\n",
    "        loss1_update.backward()\n",
    "        optimizer1.step()\n",
    "\n",
    "        optimizer2.zero_grad()\n",
    "        loss2_update.backward()\n",
    "        optimizer2.step()\n",
    "\n",
    "        # On calcule la loss moyenne pondérée par la taille du batch (pour l’epoch)\n",
    "        running_loss1 += loss1_update.item() * batch.y.size(0)\n",
    "        running_loss2 += loss2_update.item() * batch.y.size(0)\n",
    "\n",
    "        # Calcul des bonnes prédictions\n",
    "        total_correct1 += (out1.argmax(dim=1) == batch.y).sum().item()\n",
    "        total_correct2 += (out2.argmax(dim=1) == batch.y).sum().item()\n",
    "        total_samples += batch.y.size(0)\n",
    "\n",
    "    avg_loss1 = running_loss1 / total_samples\n",
    "    avg_loss2 = running_loss2 / total_samples\n",
    "    acc1 = total_correct1 / total_samples\n",
    "    acc2 = total_correct2 / total_samples\n",
    "\n",
    "    return acc1, acc2, avg_loss1, avg_loss2"
   ]
  },
  {
   "cell_type": "code",
   "execution_count": 18,
   "id": "ef4a359c",
   "metadata": {
    "papermill": {
     "duration": null,
     "end_time": null,
     "exception": null,
     "start_time": null,
     "status": "pending"
    },
    "tags": []
   },
   "outputs": [
    {
     "name": "stderr",
     "output_type": "stream",
     "text": [
      "Iterating eval graphs: 100%|██████████| 140/140 [00:15<00:00,  9.11batch/s]\n",
      "Iterating eval graphs: 100%|██████████| 140/140 [00:14<00:00,  9.76batch/s]\n"
     ]
    },
    {
     "name": "stdout",
     "output_type": "stream",
     "text": [
      "Epoch 1/30 | Forget rate: 0.000\n",
      "Train Loss Model1: 1.6972, Acc: 0.3482\n",
      "Train Loss Model2: 1.7053, Acc: 0.3424\n",
      "Val   Loss Model1: 1.6820, Acc: 0.4286\n",
      "Val   Loss Model2: 1.7448, Acc: 0.3759\n",
      "[Co-Teaching] Best model1 updated and saved at /home/onyxia/work/DL-Hackathon/hackaton/checkpoints/B/model_B\n"
     ]
    },
    {
     "name": "stderr",
     "output_type": "stream",
     "text": [
      "Iterating eval graphs: 100%|██████████| 140/140 [00:36<00:00,  3.80batch/s]\n",
      "Iterating eval graphs: 100%|██████████| 140/140 [00:25<00:00,  5.40batch/s]\n"
     ]
    },
    {
     "name": "stdout",
     "output_type": "stream",
     "text": [
      "Epoch 2/30 | Forget rate: 0.013\n",
      "Train Loss Model1: 1.4731, Acc: 0.4071\n",
      "Train Loss Model2: 1.4799, Acc: 0.4080\n",
      "Val   Loss Model1: 1.6766, Acc: 0.4259\n",
      "Val   Loss Model2: 1.9022, Acc: 0.4170\n"
     ]
    },
    {
     "name": "stderr",
     "output_type": "stream",
     "text": [
      "Iterating eval graphs: 100%|██████████| 140/140 [00:24<00:00,  5.60batch/s]\n",
      "Iterating eval graphs: 100%|██████████| 140/140 [00:21<00:00,  6.51batch/s]\n"
     ]
    },
    {
     "name": "stdout",
     "output_type": "stream",
     "text": [
      "Epoch 3/30 | Forget rate: 0.027\n",
      "Train Loss Model1: 1.4351, Acc: 0.4167\n",
      "Train Loss Model2: 1.4442, Acc: 0.4210\n",
      "Val   Loss Model1: 1.9272, Acc: 0.3696\n",
      "Val   Loss Model2: 1.6933, Acc: 0.4080\n"
     ]
    },
    {
     "name": "stderr",
     "output_type": "stream",
     "text": [
      "Iterating eval graphs: 100%|██████████| 140/140 [00:43<00:00,  3.23batch/s]\n",
      "Iterating eval graphs: 100%|██████████| 140/140 [00:33<00:00,  4.17batch/s]\n"
     ]
    },
    {
     "name": "stdout",
     "output_type": "stream",
     "text": [
      "Epoch 4/30 | Forget rate: 0.040\n",
      "Train Loss Model1: 1.3976, Acc: 0.4520\n",
      "Train Loss Model2: 1.3967, Acc: 0.4518\n",
      "Val   Loss Model1: 1.6970, Acc: 0.3348\n",
      "Val   Loss Model2: 1.6536, Acc: 0.4402\n"
     ]
    },
    {
     "name": "stderr",
     "output_type": "stream",
     "text": [
      "Iterating eval graphs: 100%|██████████| 140/140 [00:30<00:00,  4.66batch/s]\n",
      "Iterating eval graphs: 100%|██████████| 140/140 [00:55<00:00,  2.52batch/s]\n"
     ]
    },
    {
     "name": "stdout",
     "output_type": "stream",
     "text": [
      "Epoch 5/30 | Forget rate: 0.053\n",
      "Train Loss Model1: 1.3751, Acc: 0.4585\n",
      "Train Loss Model2: 1.3666, Acc: 0.4605\n",
      "Val   Loss Model1: 1.6187, Acc: 0.4205\n",
      "Val   Loss Model2: 1.5922, Acc: 0.4821\n"
     ]
    },
    {
     "name": "stderr",
     "output_type": "stream",
     "text": [
      "Iterating eval graphs: 100%|██████████| 140/140 [01:04<00:00,  2.17batch/s]\n",
      "Iterating eval graphs: 100%|██████████| 140/140 [01:10<00:00,  1.98batch/s]\n"
     ]
    },
    {
     "name": "stdout",
     "output_type": "stream",
     "text": [
      "Epoch 6/30 | Forget rate: 0.067\n",
      "Train Loss Model1: 1.3563, Acc: 0.4658\n",
      "Train Loss Model2: 1.3529, Acc: 0.4616\n",
      "Val   Loss Model1: 1.6047, Acc: 0.5223\n",
      "Val   Loss Model2: 1.5986, Acc: 0.4821\n",
      "[Co-Teaching] Best model1 updated and saved at /home/onyxia/work/DL-Hackathon/hackaton/checkpoints/B/model_B\n"
     ]
    },
    {
     "name": "stderr",
     "output_type": "stream",
     "text": [
      "Iterating eval graphs: 100%|██████████| 140/140 [00:51<00:00,  2.72batch/s]\n",
      "Iterating eval graphs: 100%|██████████| 140/140 [00:50<00:00,  2.77batch/s]\n"
     ]
    },
    {
     "name": "stdout",
     "output_type": "stream",
     "text": [
      "Epoch 7/30 | Forget rate: 0.080\n",
      "Train Loss Model1: 1.3427, Acc: 0.4632\n",
      "Train Loss Model2: 1.3417, Acc: 0.4641\n",
      "Val   Loss Model1: 1.6214, Acc: 0.5009\n",
      "Val   Loss Model2: 1.6237, Acc: 0.4616\n"
     ]
    },
    {
     "name": "stderr",
     "output_type": "stream",
     "text": [
      "Iterating eval graphs: 100%|██████████| 140/140 [00:22<00:00,  6.18batch/s]\n",
      "Iterating eval graphs: 100%|██████████| 140/140 [00:18<00:00,  7.51batch/s]\n"
     ]
    },
    {
     "name": "stdout",
     "output_type": "stream",
     "text": [
      "Epoch 8/30 | Forget rate: 0.093\n",
      "Train Loss Model1: 1.3286, Acc: 0.4730\n",
      "Train Loss Model2: 1.3212, Acc: 0.4730\n",
      "Val   Loss Model1: 1.5870, Acc: 0.4625\n",
      "Val   Loss Model2: 1.6349, Acc: 0.4786\n"
     ]
    },
    {
     "name": "stderr",
     "output_type": "stream",
     "text": [
      "Iterating eval graphs: 100%|██████████| 140/140 [00:18<00:00,  7.54batch/s]\n",
      "Iterating eval graphs: 100%|██████████| 140/140 [00:18<00:00,  7.37batch/s]\n"
     ]
    },
    {
     "name": "stdout",
     "output_type": "stream",
     "text": [
      "Epoch 9/30 | Forget rate: 0.107\n",
      "Train Loss Model1: 1.3159, Acc: 0.4770\n",
      "Train Loss Model2: 1.3028, Acc: 0.4864\n",
      "Val   Loss Model1: 1.5375, Acc: 0.4571\n",
      "Val   Loss Model2: 1.6510, Acc: 0.4848\n"
     ]
    },
    {
     "name": "stderr",
     "output_type": "stream",
     "text": [
      "Iterating eval graphs: 100%|██████████| 140/140 [00:09<00:00, 15.26batch/s]\n",
      "Iterating eval graphs: 100%|██████████| 140/140 [00:09<00:00, 14.37batch/s]\n"
     ]
    },
    {
     "name": "stdout",
     "output_type": "stream",
     "text": [
      "Epoch 10/30 | Forget rate: 0.120\n",
      "Train Loss Model1: 1.3089, Acc: 0.4833\n",
      "Train Loss Model2: 1.2926, Acc: 0.4857\n",
      "Val   Loss Model1: 1.7887, Acc: 0.3500\n",
      "Val   Loss Model2: 1.7006, Acc: 0.5036\n"
     ]
    },
    {
     "name": "stderr",
     "output_type": "stream",
     "text": [
      "Iterating eval graphs: 100%|██████████| 140/140 [00:08<00:00, 15.87batch/s]\n",
      "Iterating eval graphs: 100%|██████████| 140/140 [00:09<00:00, 15.25batch/s]\n"
     ]
    },
    {
     "name": "stdout",
     "output_type": "stream",
     "text": [
      "Epoch 11/30 | Forget rate: 0.133\n",
      "Train Loss Model1: 1.0676, Acc: 0.4908\n",
      "Train Loss Model2: 1.0639, Acc: 0.4926\n",
      "Val   Loss Model1: 1.8752, Acc: 0.4759\n",
      "Val   Loss Model2: 1.8116, Acc: 0.5062\n"
     ]
    },
    {
     "name": "stderr",
     "output_type": "stream",
     "text": [
      "Iterating eval graphs: 100%|██████████| 140/140 [00:09<00:00, 15.35batch/s]\n",
      "Iterating eval graphs: 100%|██████████| 140/140 [00:09<00:00, 14.09batch/s]\n"
     ]
    },
    {
     "name": "stdout",
     "output_type": "stream",
     "text": [
      "Epoch 12/30 | Forget rate: 0.147\n",
      "Train Loss Model1: 1.0675, Acc: 0.4815\n",
      "Train Loss Model2: 1.0724, Acc: 0.4882\n",
      "Val   Loss Model1: 1.7594, Acc: 0.5009\n",
      "Val   Loss Model2: 1.7745, Acc: 0.5098\n"
     ]
    },
    {
     "name": "stderr",
     "output_type": "stream",
     "text": [
      "Iterating eval graphs: 100%|██████████| 140/140 [00:09<00:00, 15.23batch/s]\n",
      "Iterating eval graphs: 100%|██████████| 140/140 [00:09<00:00, 15.12batch/s]\n"
     ]
    },
    {
     "name": "stdout",
     "output_type": "stream",
     "text": [
      "Epoch 13/30 | Forget rate: 0.160\n",
      "Train Loss Model1: 1.0399, Acc: 0.4893\n",
      "Train Loss Model2: 1.0436, Acc: 0.5022\n",
      "Val   Loss Model1: 1.9441, Acc: 0.4500\n",
      "Val   Loss Model2: 1.8140, Acc: 0.5152\n"
     ]
    },
    {
     "name": "stderr",
     "output_type": "stream",
     "text": [
      "Iterating eval graphs: 100%|██████████| 140/140 [00:09<00:00, 15.26batch/s]\n",
      "Iterating eval graphs: 100%|██████████| 140/140 [00:09<00:00, 14.06batch/s]\n"
     ]
    },
    {
     "name": "stdout",
     "output_type": "stream",
     "text": [
      "Epoch 14/30 | Forget rate: 0.173\n",
      "Train Loss Model1: 1.0274, Acc: 0.5049\n",
      "Train Loss Model2: 1.0275, Acc: 0.5038\n",
      "Val   Loss Model1: 1.7980, Acc: 0.4911\n",
      "Val   Loss Model2: 1.7764, Acc: 0.5116\n"
     ]
    },
    {
     "name": "stderr",
     "output_type": "stream",
     "text": [
      "Iterating eval graphs: 100%|██████████| 140/140 [00:20<00:00,  6.81batch/s]\n",
      "Iterating eval graphs: 100%|██████████| 140/140 [00:15<00:00,  9.05batch/s]\n"
     ]
    },
    {
     "name": "stdout",
     "output_type": "stream",
     "text": [
      "Epoch 15/30 | Forget rate: 0.187\n",
      "Train Loss Model1: 1.0217, Acc: 0.5027\n",
      "Train Loss Model2: 1.0142, Acc: 0.5049\n",
      "Val   Loss Model1: 1.7900, Acc: 0.5009\n",
      "Val   Loss Model2: 1.7865, Acc: 0.5036\n"
     ]
    },
    {
     "name": "stderr",
     "output_type": "stream",
     "text": [
      "Iterating eval graphs: 100%|██████████| 140/140 [00:20<00:00,  6.71batch/s]\n",
      "Iterating eval graphs: 100%|██████████| 140/140 [00:23<00:00,  5.91batch/s]\n"
     ]
    },
    {
     "name": "stdout",
     "output_type": "stream",
     "text": [
      "Epoch 16/30 | Forget rate: 0.200\n",
      "Train Loss Model1: 1.0319, Acc: 0.4993\n",
      "Train Loss Model2: 1.0308, Acc: 0.5009\n",
      "Val   Loss Model1: 1.8379, Acc: 0.5241\n",
      "Val   Loss Model2: 1.9147, Acc: 0.5268\n",
      "[Co-Teaching] Best model1 updated and saved at /home/onyxia/work/DL-Hackathon/hackaton/checkpoints/B/model_B\n"
     ]
    },
    {
     "name": "stderr",
     "output_type": "stream",
     "text": [
      "Iterating eval graphs: 100%|██████████| 140/140 [00:21<00:00,  6.43batch/s]\n",
      "Iterating eval graphs: 100%|██████████| 140/140 [00:19<00:00,  7.07batch/s]\n"
     ]
    },
    {
     "name": "stdout",
     "output_type": "stream",
     "text": [
      "Epoch 17/30 | Forget rate: 0.200\n",
      "Train Loss Model1: 1.0089, Acc: 0.5074\n",
      "Train Loss Model2: 0.9974, Acc: 0.5114\n",
      "Val   Loss Model1: 1.7614, Acc: 0.5411\n",
      "Val   Loss Model2: 1.9075, Acc: 0.5071\n",
      "[Co-Teaching] Best model1 updated and saved at /home/onyxia/work/DL-Hackathon/hackaton/checkpoints/B/model_B\n"
     ]
    },
    {
     "name": "stderr",
     "output_type": "stream",
     "text": [
      "Iterating eval graphs: 100%|██████████| 140/140 [00:19<00:00,  7.22batch/s]\n",
      "Iterating eval graphs: 100%|██████████| 140/140 [00:18<00:00,  7.50batch/s]\n"
     ]
    },
    {
     "name": "stdout",
     "output_type": "stream",
     "text": [
      "Epoch 18/30 | Forget rate: 0.200\n",
      "Train Loss Model1: 1.0128, Acc: 0.5094\n",
      "Train Loss Model2: 0.9883, Acc: 0.5174\n",
      "Val   Loss Model1: 1.8450, Acc: 0.5143\n",
      "Val   Loss Model2: 1.8160, Acc: 0.4464\n"
     ]
    },
    {
     "name": "stderr",
     "output_type": "stream",
     "text": [
      "Iterating eval graphs: 100%|██████████| 140/140 [00:22<00:00,  6.31batch/s]\n",
      "Iterating eval graphs: 100%|██████████| 140/140 [00:19<00:00,  7.23batch/s]\n"
     ]
    },
    {
     "name": "stdout",
     "output_type": "stream",
     "text": [
      "Epoch 19/30 | Forget rate: 0.200\n",
      "Train Loss Model1: 0.9676, Acc: 0.5176\n",
      "Train Loss Model2: 0.9620, Acc: 0.5196\n",
      "Val   Loss Model1: 2.0285, Acc: 0.5188\n",
      "Val   Loss Model2: 1.9127, Acc: 0.5268\n"
     ]
    },
    {
     "name": "stderr",
     "output_type": "stream",
     "text": [
      "Iterating eval graphs: 100%|██████████| 140/140 [00:20<00:00,  6.73batch/s]\n",
      "Iterating eval graphs: 100%|██████████| 140/140 [00:18<00:00,  7.77batch/s]\n"
     ]
    },
    {
     "name": "stdout",
     "output_type": "stream",
     "text": [
      "Epoch 20/30 | Forget rate: 0.200\n",
      "Train Loss Model1: 0.9583, Acc: 0.5225\n",
      "Train Loss Model2: 0.9649, Acc: 0.5165\n",
      "Val   Loss Model1: 1.8562, Acc: 0.4821\n",
      "Val   Loss Model2: 1.8588, Acc: 0.5018\n"
     ]
    },
    {
     "name": "stderr",
     "output_type": "stream",
     "text": [
      "Iterating eval graphs: 100%|██████████| 140/140 [00:22<00:00,  6.17batch/s]\n",
      "Iterating eval graphs: 100%|██████████| 140/140 [00:20<00:00,  6.98batch/s]\n"
     ]
    },
    {
     "name": "stdout",
     "output_type": "stream",
     "text": [
      "Epoch 21/30 | Forget rate: 0.200\n",
      "Train Loss Model1: 0.9521, Acc: 0.5297\n",
      "Train Loss Model2: 0.9471, Acc: 0.5297\n",
      "Val   Loss Model1: 1.8471, Acc: 0.5018\n",
      "Val   Loss Model2: 1.8690, Acc: 0.5357\n"
     ]
    },
    {
     "name": "stderr",
     "output_type": "stream",
     "text": [
      "Iterating eval graphs: 100%|██████████| 140/140 [00:09<00:00, 14.48batch/s]\n",
      "Iterating eval graphs: 100%|██████████| 140/140 [00:10<00:00, 13.74batch/s]\n"
     ]
    },
    {
     "name": "stdout",
     "output_type": "stream",
     "text": [
      "Epoch 22/30 | Forget rate: 0.200\n",
      "Train Loss Model1: 0.9629, Acc: 0.5259\n",
      "Train Loss Model2: 0.9550, Acc: 0.5308\n",
      "Val   Loss Model1: 1.7807, Acc: 0.5223\n",
      "Val   Loss Model2: 1.8265, Acc: 0.5312\n"
     ]
    },
    {
     "name": "stderr",
     "output_type": "stream",
     "text": [
      "Iterating eval graphs: 100%|██████████| 140/140 [00:09<00:00, 14.51batch/s]\n",
      "Iterating eval graphs: 100%|██████████| 140/140 [00:10<00:00, 13.47batch/s]\n"
     ]
    },
    {
     "name": "stdout",
     "output_type": "stream",
     "text": [
      "Epoch 23/30 | Forget rate: 0.200\n",
      "Train Loss Model1: 0.9621, Acc: 0.5239\n",
      "Train Loss Model2: 0.9316, Acc: 0.5319\n",
      "Val   Loss Model1: 1.7315, Acc: 0.5411\n",
      "Val   Loss Model2: 1.9170, Acc: 0.5429\n"
     ]
    },
    {
     "name": "stderr",
     "output_type": "stream",
     "text": [
      "Iterating eval graphs: 100%|██████████| 140/140 [00:09<00:00, 14.03batch/s]\n",
      "Iterating eval graphs: 100%|██████████| 140/140 [00:10<00:00, 13.61batch/s]\n"
     ]
    },
    {
     "name": "stdout",
     "output_type": "stream",
     "text": [
      "Epoch 24/30 | Forget rate: 0.200\n",
      "Train Loss Model1: 0.9250, Acc: 0.5357\n",
      "Train Loss Model2: 0.9305, Acc: 0.5342\n",
      "Val   Loss Model1: 2.1856, Acc: 0.3259\n",
      "Val   Loss Model2: 1.7428, Acc: 0.4580\n"
     ]
    },
    {
     "name": "stderr",
     "output_type": "stream",
     "text": [
      "Iterating eval graphs: 100%|██████████| 140/140 [00:23<00:00,  5.96batch/s]\n",
      "Iterating eval graphs: 100%|██████████| 140/140 [00:22<00:00,  6.16batch/s]\n"
     ]
    },
    {
     "name": "stdout",
     "output_type": "stream",
     "text": [
      "Epoch 25/30 | Forget rate: 0.200\n",
      "Train Loss Model1: 0.9130, Acc: 0.5377\n",
      "Train Loss Model2: 0.9103, Acc: 0.5377\n",
      "Val   Loss Model1: 1.8490, Acc: 0.5330\n",
      "Val   Loss Model2: 1.7688, Acc: 0.5268\n"
     ]
    },
    {
     "name": "stderr",
     "output_type": "stream",
     "text": [
      "Iterating eval graphs: 100%|██████████| 140/140 [00:23<00:00,  5.96batch/s]\n",
      "Iterating eval graphs: 100%|██████████| 140/140 [00:17<00:00,  7.89batch/s]\n"
     ]
    },
    {
     "name": "stdout",
     "output_type": "stream",
     "text": [
      "Epoch 26/30 | Forget rate: 0.200\n",
      "Train Loss Model1: 0.9212, Acc: 0.5373\n",
      "Train Loss Model2: 0.9227, Acc: 0.5350\n",
      "Val   Loss Model1: 1.9756, Acc: 0.5339\n",
      "Val   Loss Model2: 1.8696, Acc: 0.5295\n"
     ]
    },
    {
     "name": "stderr",
     "output_type": "stream",
     "text": [
      "Iterating eval graphs: 100%|██████████| 140/140 [00:10<00:00, 13.74batch/s]\n",
      "Iterating eval graphs: 100%|██████████| 140/140 [00:10<00:00, 13.46batch/s]\n"
     ]
    },
    {
     "name": "stdout",
     "output_type": "stream",
     "text": [
      "Epoch 27/30 | Forget rate: 0.200\n",
      "Train Loss Model1: 0.9281, Acc: 0.5411\n",
      "Train Loss Model2: 0.9206, Acc: 0.5366\n",
      "Val   Loss Model1: 1.8612, Acc: 0.4420\n",
      "Val   Loss Model2: 1.8777, Acc: 0.5089\n"
     ]
    },
    {
     "name": "stderr",
     "output_type": "stream",
     "text": [
      "Iterating eval graphs: 100%|██████████| 140/140 [00:11<00:00, 12.09batch/s]\n",
      "Iterating eval graphs: 100%|██████████| 140/140 [00:10<00:00, 12.98batch/s]\n"
     ]
    },
    {
     "name": "stdout",
     "output_type": "stream",
     "text": [
      "Epoch 28/30 | Forget rate: 0.200\n",
      "Train Loss Model1: 0.8903, Acc: 0.5487\n",
      "Train Loss Model2: 0.8936, Acc: 0.5491\n",
      "Val   Loss Model1: 1.9278, Acc: 0.5384\n",
      "Val   Loss Model2: 1.9599, Acc: 0.5188\n"
     ]
    },
    {
     "name": "stderr",
     "output_type": "stream",
     "text": [
      "Iterating eval graphs: 100%|██████████| 140/140 [00:07<00:00, 17.98batch/s]\n",
      "Iterating eval graphs: 100%|██████████| 140/140 [00:11<00:00, 12.66batch/s]\n"
     ]
    },
    {
     "name": "stdout",
     "output_type": "stream",
     "text": [
      "Epoch 29/30 | Forget rate: 0.200\n",
      "Train Loss Model1: 0.9113, Acc: 0.5469\n",
      "Train Loss Model2: 0.9245, Acc: 0.5453\n",
      "Val   Loss Model1: 1.7389, Acc: 0.5223\n",
      "Val   Loss Model2: 1.8429, Acc: 0.5152\n"
     ]
    },
    {
     "name": "stderr",
     "output_type": "stream",
     "text": [
      "Iterating eval graphs: 100%|██████████| 140/140 [00:10<00:00, 13.69batch/s]\n",
      "Iterating eval graphs: 100%|██████████| 140/140 [00:10<00:00, 12.94batch/s]\n"
     ]
    },
    {
     "name": "stdout",
     "output_type": "stream",
     "text": [
      "Epoch 30/30 | Forget rate: 0.200\n",
      "Train Loss Model1: 0.9112, Acc: 0.5469\n",
      "Train Loss Model2: 0.9083, Acc: 0.5424\n",
      "Val   Loss Model1: 1.7818, Acc: 0.5402\n",
      "Val   Loss Model2: 1.8276, Acc: 0.5429\n"
     ]
    }
   ],
   "source": [
    "if args.train_path:\n",
    "    full_dataset = GraphDataset(args.train_path, transform=add_zeros)\n",
    "    val_size = int(0.2 * len(full_dataset))\n",
    "    train_size = len(full_dataset) - val_size\n",
    "\n",
    "    generator = torch.Generator().manual_seed(12)\n",
    "    train_dataset, val_dataset = random_split(full_dataset, [train_size, val_size], generator=generator)\n",
    "\n",
    "    train_loader = DataLoader(train_dataset, batch_size=args.batch_size, shuffle=True)\n",
    "    val_loader = DataLoader(val_dataset, batch_size=args.batch_size, shuffle=False)\n",
    "\n",
    "    num_epochs = args.epochs\n",
    "    best_val_accuracy = 0.0\n",
    "\n",
    "    train_losses_model1 = []\n",
    "    train_losses_model2 = []\n",
    "    train_accuracies1 = []\n",
    "    train_accuracies2 = []\n",
    "    val_losses_model1 = []\n",
    "    val_losses_model2 = []\n",
    "    val_accuracies1 = []\n",
    "    val_accuracies2 = []\n",
    "\n",
    "\n",
    "    if num_checkpoints > 1:\n",
    "        checkpoint_intervals = [int((i + 1) * num_epochs / num_checkpoints) for i in range(num_checkpoints)]\n",
    "    else:\n",
    "        checkpoint_intervals = [num_epochs]\n",
    "\n",
    "    def get_forget_rate(epoch, total_epochs, max_forget=0.2):\n",
    "        return min(max_forget, max_forget * epoch / (total_epochs * 0.5))\n",
    "\n",
    "    for epoch in range(num_epochs):\n",
    "        forget_rate = get_forget_rate(epoch, num_epochs)\n",
    "\n",
    "        # Phase d'entraînement\n",
    "        train_acc1, train_acc2, train_loss1, train_loss2 = train_coteaching(\n",
    "            train_loader, model1, model2, optimizer1, optimizer2,\n",
    "            criterion, device, forget_rate, epoch, num_epochs\n",
    "        )\n",
    "\n",
    "        # Phase de validation\n",
    "        val_loss1, val_acc1 = evaluate(val_loader, model1, device, calculate_accuracy=True)\n",
    "        val_loss2, val_acc2 = evaluate(val_loader, model2, device, calculate_accuracy=True)\n",
    "\n",
    "        # Stocker les métriques\n",
    "        train_losses_model1.append(train_loss1)\n",
    "        train_losses_model2.append(train_loss2)\n",
    "        train_accuracies1.append(train_acc1)\n",
    "        train_accuracies2.append(train_acc2)\n",
    "    \n",
    "        val_losses_model1.append(val_loss1)\n",
    "        val_losses_model2.append(val_loss2)\n",
    "        val_accuracies1.append(val_acc1)\n",
    "        val_accuracies2.append(val_acc2)\n",
    "    \n",
    "        print(f\"Epoch {epoch+1}/{num_epochs} | Forget rate: {forget_rate:.3f}\")\n",
    "        print(f\"Train Loss Model1: {train_loss1:.4f}, Acc: {train_acc1:.4f}\")\n",
    "        print(f\"Train Loss Model2: {train_loss2:.4f}, Acc: {train_acc2:.4f}\")\n",
    "        print(f\"Val   Loss Model1: {val_loss1:.4f}, Acc: {val_acc1:.4f}\")\n",
    "        print(f\"Val   Loss Model2: {val_loss2:.4f}, Acc: {val_acc2:.4f}\")\n",
    "        \n",
    "        if val_acc1 > best_val_accuracy:\n",
    "            best_val_accuracy = val_acc1\n",
    "            torch.save(model1.state_dict(), os.path.join(checkpoints_folder, f\"model_{test_dir_name}\"))\n",
    "            print(f\"[Co-Teaching] Best model1 updated and saved at {checkpoints_folder}/model_{test_dir_name}\")\n",
    "\n",
    "    # Assuming you have train_losses1 and train_losses2 collected similarly to train_accuracies\n",
    "    plot_training_progress(train_losses_model1, train_accuracies1, os.path.join(logs_folder, \"plots_model1\"))\n",
    "    plot_training_progress(val_losses_model1, val_accuracies1, os.path.join(logs_folder, \"plotsVal_model1\"))\n"
   ]
  },
  {
   "cell_type": "code",
   "execution_count": null,
   "id": "07594aff",
   "metadata": {
    "papermill": {
     "duration": null,
     "end_time": null,
     "exception": null,
     "start_time": null,
     "status": "pending"
    },
    "tags": []
   },
   "outputs": [],
   "source": [
    "import gc\n",
    "del train_dataset\n",
    "del train_loader\n",
    "del full_dataset\n",
    "del val_dataset\n",
    "del val_loader\n",
    "gc.collect()"
   ]
  },
  {
   "cell_type": "code",
   "execution_count": null,
   "id": "ba668fff",
   "metadata": {
    "id": "xsXZIj4Mdu3I",
    "papermill": {
     "duration": null,
     "end_time": null,
     "exception": null,
     "start_time": null,
     "status": "pending"
    },
    "tags": []
   },
   "outputs": [],
   "source": [
    "test_dataset = GraphDataset(args.test_path, transform=add_zeros)\n",
    "test_loader = DataLoader(test_dataset, batch_size=args.batch_size, shuffle=False)\n",
    "    "
   ]
  },
  {
   "cell_type": "code",
   "execution_count": null,
   "id": "7828e983",
   "metadata": {
    "id": "x1OnGq_nCmTr",
    "papermill": {
     "duration": null,
     "end_time": null,
     "exception": null,
     "start_time": null,
     "status": "pending"
    },
    "tags": []
   },
   "outputs": [],
   "source": [
    "model.load_state_dict(torch.load(checkpoint_path))\n",
    "predictions = evaluate(test_loader, model, device, calculate_accuracy=False)\n",
    "save_predictions(predictions, args.test_path)"
   ]
  },
  {
   "cell_type": "code",
   "execution_count": null,
   "id": "343c36b2",
   "metadata": {
    "papermill": {
     "duration": null,
     "end_time": null,
     "exception": null,
     "start_time": null,
     "status": "pending"
    },
    "tags": []
   },
   "outputs": [],
   "source": []
  }
 ],
 "metadata": {
  "accelerator": "GPU",
  "colab": {
   "gpuType": "T4",
   "provenance": []
  },
  "kaggle": {
   "accelerator": "gpu",
   "dataSources": [],
   "dockerImageVersionId": 30919,
   "isGpuEnabled": true,
   "isInternetEnabled": true,
   "language": "python",
   "sourceType": "notebook"
  },
  "kernelspec": {
   "display_name": "Python 3 (ipykernel)",
   "language": "python",
   "name": "python3"
  },
  "language_info": {
   "codemirror_mode": {
    "name": "ipython",
    "version": 3
   },
   "file_extension": ".py",
   "mimetype": "text/x-python",
   "name": "python",
   "nbconvert_exporter": "python",
   "pygments_lexer": "ipython3",
   "version": "3.12.9"
  },
  "papermill": {
   "default_parameters": {},
   "duration": 108.457758,
   "end_time": "2025-05-21T16:25:04.482169",
   "environment_variables": {},
   "exception": true,
   "input_path": "__notebook__.ipynb",
   "output_path": "__notebook__.ipynb",
   "parameters": {},
   "start_time": "2025-05-21T16:23:16.024411",
   "version": "2.6.0"
  }
 },
 "nbformat": 4,
 "nbformat_minor": 5
}
