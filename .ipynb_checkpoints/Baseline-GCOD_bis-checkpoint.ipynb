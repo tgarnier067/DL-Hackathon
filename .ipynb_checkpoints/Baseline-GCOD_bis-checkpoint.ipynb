{
 "cells": [
  {
   "cell_type": "code",
   "execution_count": 1,
   "id": "6228bc1c",
   "metadata": {
    "id": "xSkgt1zf-raF",
    "outputId": "59f4a52f-5eb4-41e5-9fba-07432989fe78",
    "papermill": {
     "duration": 5.620104,
     "end_time": "2025-05-21T16:23:24.361690",
     "exception": false,
     "start_time": "2025-05-21T16:23:18.741586",
     "status": "completed"
    },
    "tags": []
   },
   "outputs": [],
   "source": [
    "!pip install matplotlib torch_geometric torch gdown --quiet"
   ]
  },
  {
   "cell_type": "code",
   "execution_count": null,
   "id": "f3e004e5-c0fa-41f4-9be2-1093c8d66aa2",
   "metadata": {
    "id": "5oR2D2Us-xSQ",
    "outputId": "7086cadf-a7fe-4d75-f271-6339bee8164d",
    "papermill": {
     "duration": 4.049235,
     "end_time": "2025-05-21T16:23:28.415556",
     "exception": false,
     "start_time": "2025-05-21T16:23:24.366321",
     "status": "completed"
    },
    "tags": []
   },
   "outputs": [],
   "source": [
    "!git clone --branch baselineCe https://github.com/Graph-Classification-Noisy-Label/hackaton.git"
   ]
  },
  {
   "cell_type": "code",
   "execution_count": 2,
   "id": "c129091c",
   "metadata": {
    "id": "tEhfPly6-7UK",
    "outputId": "3078ee06-6312-4fca-f5f9-888fa628c80a",
    "papermill": {
     "duration": 0.013251,
     "end_time": "2025-05-21T16:23:28.434119",
     "exception": false,
     "start_time": "2025-05-21T16:23:28.420868",
     "status": "completed"
    },
    "tags": []
   },
   "outputs": [
    {
     "name": "stdout",
     "output_type": "stream",
     "text": [
      "/home/onyxia/work/DL-Hackathon/hackaton\n"
     ]
    }
   ],
   "source": [
    "%cd hackaton/"
   ]
  },
  {
   "cell_type": "code",
   "execution_count": null,
   "id": "966bdca8-b2a7-4045-83c5-eb9458904c18",
   "metadata": {
    "id": "PxBvwB0_6xI8",
    "outputId": "5933387c-2cfb-474f-d842-f36a3e2d2a73",
    "papermill": {
     "duration": 83.957666,
     "end_time": "2025-05-21T16:24:52.396720",
     "exception": false,
     "start_time": "2025-05-21T16:23:28.439054",
     "status": "completed"
    },
    "scrolled": true,
    "tags": []
   },
   "outputs": [],
   "source": [
    "!gdown --folder https://drive.google.com/drive/folders/1Z-1JkPJ6q4C6jX4brvq1VRbJH5RPUCAk -O datasets\n"
   ]
  },
  {
   "cell_type": "code",
   "execution_count": 3,
   "id": "80dab1bc",
   "metadata": {
    "id": "1rockhiQ7Nny",
    "outputId": "2cd2e6f4-5f8f-4a62-f0ec-53e6fc78c9b7",
    "papermill": {
     "duration": 0.138969,
     "end_time": "2025-05-21T16:24:52.549260",
     "exception": false,
     "start_time": "2025-05-21T16:24:52.410291",
     "status": "completed"
    },
    "tags": []
   },
   "outputs": [
    {
     "name": "stdout",
     "output_type": "stream",
     "text": [
      "total 16K\n",
      "drwxr-sr-x 2 onyxia users 4.0K May 29 21:18 A\n",
      "drwxr-sr-x 2 onyxia users 4.0K May 29 21:18 B\n",
      "drwxr-sr-x 2 onyxia users 4.0K May 29 21:19 C\n",
      "drwxr-sr-x 2 onyxia users 4.0K May 29 21:19 D\n"
     ]
    }
   ],
   "source": [
    "!ls -lh datasets"
   ]
  },
  {
   "cell_type": "code",
   "execution_count": 4,
   "id": "817b1078",
   "metadata": {
    "id": "lAQuCuIoBbq5",
    "papermill": {
     "duration": 9.949638,
     "end_time": "2025-05-21T16:25:02.510764",
     "exception": false,
     "start_time": "2025-05-21T16:24:52.561126",
     "status": "completed"
    },
    "tags": []
   },
   "outputs": [],
   "source": [
    "import os\n",
    "import torch\n",
    "import pandas as pd\n",
    "import matplotlib.pyplot as plt\n",
    "import logging\n",
    "from tqdm import tqdm\n",
    "from torch_geometric.loader import DataLoader\n",
    "from torch.utils.data import random_split\n",
    "# Load utility functions from cloned repository\n",
    "from src.loadData import GraphDataset\n",
    "from src.utils import set_seed\n",
    "from src.models import GNN\n",
    "import argparse\n",
    "\n",
    "# Set the random seed\n",
    "set_seed()\n",
    "\n",
    "\n",
    "os.environ[\"CUDA_LAUNCH_BLOCKING\"] = \"1\"\n"
   ]
  },
  {
   "cell_type": "code",
   "execution_count": 5,
   "id": "6fc6f726-09e8-4e45-8d64-78f97ba07c98",
   "metadata": {},
   "outputs": [],
   "source": [
    "# Modification og the class GraphDataset to get indexes\n",
    "\n",
    "import gzip\n",
    "import json\n",
    "import torch\n",
    "from torch_geometric.data import Dataset, Data\n",
    "from torch_geometric.loader import DataLoader\n",
    "\n",
    "class GraphDataset(Dataset):\n",
    "    def __init__(self, filename, transform=None, pre_transform=None):\n",
    "        self.raw = filename\n",
    "        self.num_graphs, self.graphs_dicts = self._count_graphs() \n",
    "        super().__init__(None, transform, pre_transform)\n",
    "\n",
    "    def len(self):\n",
    "        return self.num_graphs  \n",
    "\n",
    "    # Addition of this function\n",
    "    def get(self, idx):\n",
    "        data = dictToGraphObject(self.graphs_dicts[idx])\n",
    "        data.idx = idx\n",
    "        return data\n",
    "\n",
    "    def _count_graphs(self):\n",
    "        with gzip.open(self.raw, \"rt\", encoding=\"utf-8\") as f:\n",
    "            graphs_dicts = json.load(f)\n",
    "            return len(graphs_dicts), graphs_dicts\n",
    "\n",
    "def dictToGraphObject(graph_dict):\n",
    "    edge_index = torch.tensor(graph_dict[\"edge_index\"], dtype=torch.long)\n",
    "    edge_attr = torch.tensor(graph_dict[\"edge_attr\"], dtype=torch.float) if graph_dict[\"edge_attr\"] else None\n",
    "    num_nodes = graph_dict[\"num_nodes\"]\n",
    "    y = torch.tensor(graph_dict[\"y\"][0], dtype=torch.long) if graph_dict[\"y\"] is not None else None\n",
    "    return Data(edge_index=edge_index, edge_attr=edge_attr, num_nodes=num_nodes, y=y)"
   ]
  },
  {
   "cell_type": "code",
   "execution_count": 6,
   "id": "e0361871",
   "metadata": {},
   "outputs": [],
   "source": [
    "\n",
    "# Modification of the class GNN to get the embeddings, in order to build means of class embeddings\n",
    "\n",
    "import torch\n",
    "from torch_geometric.nn import MessagePassing\n",
    "from torch_geometric.nn import global_add_pool, global_mean_pool, global_max_pool, GlobalAttention, Set2Set\n",
    "import torch.nn.functional as F\n",
    "from torch_geometric.nn.inits import uniform\n",
    "\n",
    "from src.conv import GNN_node, GNN_node_Virtualnode\n",
    "\n",
    "class GNN(torch.nn.Module):\n",
    "\n",
    "    def __init__(self, num_class, num_layer = 5, emb_dim = 300, \n",
    "                    gnn_type = 'gin', virtual_node = True, residual = False, drop_ratio = 0.5, JK = \"last\", graph_pooling = \"mean\"):\n",
    "        '''\n",
    "            num_tasks (int): number of labels to be predicted\n",
    "            virtual_node (bool): whether to add virtual node or not\n",
    "        '''\n",
    "\n",
    "        super(GNN, self).__init__()\n",
    "\n",
    "        self.num_layer = num_layer\n",
    "        self.drop_ratio = drop_ratio\n",
    "        self.JK = JK\n",
    "        self.emb_dim = emb_dim\n",
    "        self.num_class = num_class\n",
    "        self.graph_pooling = graph_pooling\n",
    "\n",
    "        if self.num_layer < 2:\n",
    "            raise ValueError(\"Number of GNN layers must be greater than 1.\")\n",
    "\n",
    "        ### GNN to generate node embeddings\n",
    "        if virtual_node:\n",
    "            self.gnn_node = GNN_node_Virtualnode(num_layer, emb_dim, JK = JK, drop_ratio = drop_ratio, residual = residual, gnn_type = gnn_type)\n",
    "        else:\n",
    "            self.gnn_node = GNN_node(num_layer, emb_dim, JK = JK, drop_ratio = drop_ratio, residual = residual, gnn_type = gnn_type)\n",
    "\n",
    "\n",
    "        ### Pooling function to generate whole-graph embeddings\n",
    "        if self.graph_pooling == \"sum\":\n",
    "            self.pool = global_add_pool\n",
    "        elif self.graph_pooling == \"mean\":\n",
    "            self.pool = global_mean_pool\n",
    "        elif self.graph_pooling == \"max\":\n",
    "            self.pool = global_max_pool\n",
    "        elif self.graph_pooling == \"attention\":\n",
    "            self.pool = GlobalAttention(gate_nn = torch.nn.Sequential(torch.nn.Linear(emb_dim, 2*emb_dim), torch.nn.BatchNorm1d(2*emb_dim), torch.nn.ReLU(), torch.nn.Linear(2*emb_dim, 1)))\n",
    "        elif self.graph_pooling == \"set2set\":\n",
    "            self.pool = Set2Set(emb_dim, processing_steps = 2)\n",
    "        else:\n",
    "            raise ValueError(\"Invalid graph pooling type.\")\n",
    "\n",
    "        if graph_pooling == \"set2set\":\n",
    "            self.graph_pred_linear = torch.nn.Linear(2*self.emb_dim, self.num_class)\n",
    "        else:\n",
    "            self.graph_pred_linear = torch.nn.Linear(self.emb_dim, self.num_class)\n",
    "\n",
    "    def forward(self, batched_data, return_embeddings=False):\n",
    "        h_node = self.gnn_node(batched_data)\n",
    "        h_graph = self.pool(h_node, batched_data.batch)  # les embeddings de graphes\n",
    "        logits = self.graph_pred_linear(h_graph)\n",
    "\n",
    "        if return_embeddings:\n",
    "            return logits, F.normalize(h_graph, p=2, dim=1)  # on retourne aussi les embeddings normalisés si demandé\n",
    "        else:\n",
    "            return logits\n"
   ]
  },
  {
   "cell_type": "code",
   "execution_count": 7,
   "id": "0a9c70d7",
   "metadata": {
    "id": "Dyf0I2-t9IcW",
    "papermill": {
     "duration": 0.019268,
     "end_time": "2025-05-21T16:25:02.544583",
     "exception": false,
     "start_time": "2025-05-21T16:25:02.525315",
     "status": "completed"
    },
    "tags": []
   },
   "outputs": [],
   "source": [
    "def add_zeros(data):\n",
    "    data.x = torch.zeros(data.num_nodes, dtype=torch.long)\n",
    "    return data"
   ]
  },
  {
   "cell_type": "code",
   "execution_count": 8,
   "id": "6139b912",
   "metadata": {
    "id": "8peFiIS19ZpK",
    "papermill": {
     "duration": 0.017908,
     "end_time": "2025-05-21T16:25:02.607848",
     "exception": false,
     "start_time": "2025-05-21T16:25:02.589940",
     "status": "completed"
    },
    "tags": []
   },
   "outputs": [],
   "source": [
    "def evaluate(data_loader, model, device, calculate_accuracy=False):\n",
    "    model.eval()\n",
    "    correct = 0\n",
    "    total = 0\n",
    "    predictions = []\n",
    "    total_loss = 0\n",
    "    criterion = torch.nn.CrossEntropyLoss()\n",
    "    with torch.no_grad():\n",
    "        for data in tqdm(data_loader, desc=\"Iterating eval graphs\", unit=\"batch\"):\n",
    "            data = data.to(device)\n",
    "            output = model(data)\n",
    "            pred = output.argmax(dim=1)\n",
    "            \n",
    "            if calculate_accuracy:\n",
    "                correct += (pred == data.y).sum().item()\n",
    "                total += data.y.size(0)\n",
    "                total_loss += criterion(output, data.y).item()\n",
    "            else:\n",
    "                predictions.extend(pred.cpu().numpy())\n",
    "    if calculate_accuracy:\n",
    "        accuracy = correct / total\n",
    "        return  total_loss / len(data_loader),accuracy\n",
    "    return predictions"
   ]
  },
  {
   "cell_type": "code",
   "execution_count": 9,
   "id": "fbdbd871",
   "metadata": {
    "id": "WanuZKxy9Zs-",
    "papermill": {
     "duration": 0.016728,
     "end_time": "2025-05-21T16:25:02.635694",
     "exception": false,
     "start_time": "2025-05-21T16:25:02.618966",
     "status": "completed"
    },
    "tags": []
   },
   "outputs": [],
   "source": [
    "def save_predictions(predictions, test_path):\n",
    "    script_dir = os.getcwd() \n",
    "    submission_folder = os.path.join(script_dir, \"submission\")\n",
    "    test_dir_name = os.path.basename(os.path.dirname(test_path))\n",
    "    \n",
    "    os.makedirs(submission_folder, exist_ok=True)\n",
    "    \n",
    "    output_csv_path = os.path.join(submission_folder, f\"testset_{test_dir_name}.csv\")\n",
    "    \n",
    "    test_graph_ids = list(range(len(predictions)))\n",
    "    output_df = pd.DataFrame({\n",
    "        \"id\": test_graph_ids,\n",
    "        \"pred\": predictions\n",
    "    })\n",
    "    \n",
    "    output_df.to_csv(output_csv_path, index=False)\n",
    "    print(f\"Predictions saved to {output_csv_path}\")"
   ]
  },
  {
   "cell_type": "code",
   "execution_count": 10,
   "id": "fc3d24da",
   "metadata": {
    "id": "uyHIJS5U9ZzB",
    "papermill": {
     "duration": 0.017765,
     "end_time": "2025-05-21T16:25:02.664538",
     "exception": false,
     "start_time": "2025-05-21T16:25:02.646773",
     "status": "completed"
    },
    "tags": []
   },
   "outputs": [],
   "source": [
    "def plot_training_progress(train_losses, train_accuracies, output_dir):\n",
    "    epochs = range(1, len(train_losses) + 1)\n",
    "    plt.figure(figsize=(12, 6))\n",
    "\n",
    "    # Plot loss\n",
    "    plt.subplot(1, 2, 1)\n",
    "    plt.plot(epochs, train_losses, label=\"Training Loss\", color='blue')\n",
    "    plt.xlabel('Epoch')\n",
    "    plt.ylabel('Loss')\n",
    "    plt.title('Training Loss per Epoch')\n",
    "\n",
    "    # Plot accuracy\n",
    "    plt.subplot(1, 2, 2)\n",
    "    plt.plot(epochs, train_accuracies, label=\"Training Accuracy\", color='green')\n",
    "    plt.xlabel('Epoch')\n",
    "    plt.ylabel('Accuracy')\n",
    "    plt.title('Training Accuracy per Epoch')\n",
    "\n",
    "    # Save plots in the current directory\n",
    "    os.makedirs(output_dir, exist_ok=True)\n",
    "    plt.tight_layout()\n",
    "    plt.savefig(os.path.join(output_dir, \"training_progress.png\"))\n",
    "    plt.close()"
   ]
  },
  {
   "cell_type": "code",
   "execution_count": 11,
   "id": "22574fa5",
   "metadata": {
    "papermill": {
     "duration": 0.016577,
     "end_time": "2025-05-21T16:25:02.692205",
     "exception": false,
     "start_time": "2025-05-21T16:25:02.675628",
     "status": "completed"
    },
    "tags": []
   },
   "outputs": [],
   "source": [
    "def get_user_input(prompt, default=None, required=False, type_cast=str):\n",
    "\n",
    "    while True:\n",
    "        user_input = input(f\"{prompt} [{default}]: \")\n",
    "        \n",
    "        if user_input == \"\" and required:\n",
    "            print(\"This field is required. Please enter a value.\")\n",
    "            continue\n",
    "        \n",
    "        if user_input == \"\" and default is not None:\n",
    "            return default\n",
    "        \n",
    "        if user_input == \"\" and not required:\n",
    "            return None\n",
    "        \n",
    "        try:\n",
    "            return type_cast(user_input)\n",
    "        except ValueError:\n",
    "            print(f\"Invalid input. Please enter a valid {type_cast.__name__}.\")"
   ]
  },
  {
   "cell_type": "code",
   "execution_count": 12,
   "id": "139e88b2",
   "metadata": {
    "papermill": {
     "duration": 0.017703,
     "end_time": "2025-05-21T16:25:02.721184",
     "exception": false,
     "start_time": "2025-05-21T16:25:02.703481",
     "status": "completed"
    },
    "tags": []
   },
   "outputs": [],
   "source": [
    "def get_arguments():\n",
    "    args = {}\n",
    "    args['train_path'] = get_user_input(\"Path to the training dataset (optional)\")\n",
    "    args['test_path'] = get_user_input(\"Path to the test dataset\", required=True)\n",
    "    args['num_checkpoints'] = get_user_input(\"Number of checkpoints to save during training\", type_cast=int)\n",
    "    args['device'] = get_user_input(\"Which GPU to use if any\", default=1, type_cast=int)\n",
    "    args['gnn'] = get_user_input(\"GNN type (gin, gin-virtual, gcn, gcn-virtual)\", default='gin')\n",
    "    args['drop_ratio'] = get_user_input(\"Dropout ratio\", default=0.0, type_cast=float)\n",
    "    args['num_layer'] = get_user_input(\"Number of GNN message passing layers\", default=5, type_cast=int)\n",
    "    args['emb_dim'] = get_user_input(\"Dimensionality of hidden units in GNNs\", default=300, type_cast=int)\n",
    "    args['batch_size'] = get_user_input(\"Input batch size for training\", default=32, type_cast=int)\n",
    "    args['epochs'] = get_user_input(\"Number of epochs to train\", default=10, type_cast=int)\n",
    "    args['baseline_mode'] = get_user_input(\"Baseline mode: 1 (CE), 2 (GCOD)\", default=1, type_cast=int)\n",
    "    args['noise_prob'] = get_user_input(\"Noise probability p (used if baseline_mode=2)\", default=0.2, type_cast=float)\n",
    "\n",
    "    \n",
    "    return argparse.Namespace(**args)\n"
   ]
  },
  {
   "cell_type": "code",
   "execution_count": 14,
   "id": "45bffa19",
   "metadata": {
    "papermill": {
     "duration": 0.118164,
     "end_time": "2025-05-21T16:25:02.850799",
     "exception": true,
     "start_time": "2025-05-21T16:25:02.732635",
     "status": "failed"
    },
    "tags": []
   },
   "outputs": [
    {
     "name": "stdin",
     "output_type": "stream",
     "text": [
      "Path to the training dataset (optional) [None]:  datasets/A/train.json.gz\n",
      "Path to the test dataset [None]:  datasets/A/test.json.gz\n",
      "Number of checkpoints to save during training [None]:  20\n",
      "Which GPU to use if any [1]:  \n",
      "GNN type (gin, gin-virtual, gcn, gcn-virtual) [gin]:  gcn\n",
      "Dropout ratio [0.0]:  0.5\n",
      "Number of GNN message passing layers [5]:  \n",
      "Dimensionality of hidden units in GNNs [300]:  \n",
      "Input batch size for training [32]:  \n",
      "Number of epochs to train [10]:  200\n",
      "Baseline mode: 1 (CE), 2 (GCOD) [1]:  2\n",
      "Noise probability p (used if baseline_mode=2) [0.2]:  \n"
     ]
    },
    {
     "name": "stdout",
     "output_type": "stream",
     "text": [
      "Arguments received:\n",
      "train_path: datasets/A/train.json.gz\n",
      "test_path: datasets/A/test.json.gz\n",
      "num_checkpoints: 20\n",
      "device: 1\n",
      "gnn: gcn\n",
      "drop_ratio: 0.5\n",
      "num_layer: 5\n",
      "emb_dim: 300\n",
      "batch_size: 32\n",
      "epochs: 200\n",
      "baseline_mode: 2\n",
      "noise_prob: 0.2\n"
     ]
    }
   ],
   "source": [
    "def populate_args(args):\n",
    "    print(\"Arguments received:\")\n",
    "    for key, value in vars(args).items():\n",
    "        print(f\"{key}: {value}\")\n",
    "args = get_arguments()\n",
    "populate_args(args)"
   ]
  },
  {
   "cell_type": "code",
   "execution_count": 15,
   "id": "f58745df",
   "metadata": {
    "id": "lHX55XGECXBr",
    "papermill": {
     "duration": null,
     "end_time": null,
     "exception": null,
     "start_time": null,
     "status": "pending"
    },
    "tags": []
   },
   "outputs": [],
   "source": [
    "script_dir = os.getcwd() \n",
    "# device = torch.device(f\"cuda:{args.device}\" if torch.cuda.is_available() else \"cpu\")\n",
    "device = torch.device(\"cuda\" if torch.cuda.is_available() else \"cpu\")\n",
    "num_checkpoints = args.num_checkpoints if args.num_checkpoints else 3\n",
    "    \n",
    "if args.gnn == 'gin':\n",
    "    model = GNN(gnn_type='gin', num_class=6, num_layer=args.num_layer, emb_dim=args.emb_dim, drop_ratio=args.drop_ratio, virtual_node=False).to(device)\n",
    "elif args.gnn == 'gin-virtual':\n",
    "    model = GNN(gnn_type='gin', num_class=6, num_layer=args.num_layer, emb_dim=args.emb_dim, drop_ratio=args.drop_ratio, virtual_node=True).to(device)\n",
    "elif args.gnn == 'gcn':\n",
    "    model = GNN(gnn_type='gcn', num_class=6, num_layer=args.num_layer, emb_dim=args.emb_dim, drop_ratio=args.drop_ratio, virtual_node=False).to(device)\n",
    "elif args.gnn == 'gcn-virtual':\n",
    "    model = GNN(gnn_type='gcn', num_class=6, num_layer=args.num_layer, emb_dim=args.emb_dim, drop_ratio=args.drop_ratio, virtual_node=True).to(device)\n",
    "else:\n",
    "    raise ValueError('Invalid GNN type')\n",
    "    \n",
    "optimizer = torch.optim.Adam(model.parameters(), lr=0.001)\n",
    "# criterion = torch.nn.CrossEntropyLoss()\n",
    "if args.baseline_mode == 2:\n",
    "    # We initializa criterion and optimizers in the cell after the definition of full_dataset, as we need train_size\n",
    "    pass\n",
    "else:\n",
    "    criterion = torch.nn.CrossEntropyLoss()"
   ]
  },
  {
   "cell_type": "code",
   "execution_count": 16,
   "id": "6a025914",
   "metadata": {
    "id": "BTYT5jYuChPb",
    "papermill": {
     "duration": null,
     "end_time": null,
     "exception": null,
     "start_time": null,
     "status": "pending"
    },
    "tags": []
   },
   "outputs": [],
   "source": [
    "test_dir_name = os.path.basename(os.path.dirname(args.test_path))\n",
    "logs_folder = os.path.join(script_dir, \"logs\", test_dir_name)\n",
    "log_file = os.path.join(logs_folder, \"training.log\")\n",
    "os.makedirs(os.path.dirname(log_file), exist_ok=True)\n",
    "logging.basicConfig(filename=log_file, level=logging.INFO, format='%(asctime)s - %(message)s')\n",
    "logging.getLogger().addHandler(logging.StreamHandler())\n",
    "\n",
    "checkpoint_path = os.path.join(script_dir, \"checkpoints\", f\"model_{test_dir_name}_best.pth\")\n",
    "checkpoints_folder = os.path.join(script_dir, \"checkpoints\", test_dir_name)\n",
    "os.makedirs(checkpoints_folder, exist_ok=True)\n"
   ]
  },
  {
   "cell_type": "code",
   "execution_count": 17,
   "id": "dbca6779",
   "metadata": {
    "papermill": {
     "duration": null,
     "end_time": null,
     "exception": null,
     "start_time": null,
     "status": "pending"
    },
    "tags": []
   },
   "outputs": [],
   "source": [
    "if os.path.exists(checkpoint_path) and not args.train_path:\n",
    "    model.load_state_dict(torch.load(checkpoint_path))\n",
    "    print(f\"Loaded best model from {checkpoint_path}\")"
   ]
  },
  {
   "cell_type": "code",
   "execution_count": 18,
   "id": "40cbffaf-190a-4e81-8be1-9972a709ad65",
   "metadata": {},
   "outputs": [],
   "source": [
    "# We define a class to give indexes for the train set (subset of the full set (train and val))\n",
    "class IndexedSubDataset(Dataset):\n",
    "    def __init__(self, subset):\n",
    "        self.subset = subset\n",
    "\n",
    "    def __len__(self):\n",
    "        return len(self.subset)\n",
    "\n",
    "    def __getitem__(self, i):\n",
    "        data = self.subset[i]\n",
    "        data.idx = i\n",
    "        return data"
   ]
  },
  {
   "cell_type": "code",
   "execution_count": 19,
   "id": "96036e5b-e165-4bf7-9665-19cf3c17861b",
   "metadata": {},
   "outputs": [],
   "source": [
    "import torch\n",
    "import torch.nn as nn\n",
    "import torch.nn.functional as F\n",
    "\n",
    "class GCODLoss(nn.Module):\n",
    "    #def __init__(self, num_samples, num_classes=6, alpha=1.0, beta=1.0):\n",
    "    def __init__(self, num_classes=6, alpha=1.0, beta=1.0):\n",
    "        super().__init__()\n",
    "        self.num_classes = num_classes\n",
    "        self.alpha = alpha\n",
    "        self.beta = beta\n",
    "\n",
    "\n",
    "    def forward(self, logits, u_batch, y_onehot, y_soft, a_train):\n",
    "        \"\"\"\n",
    "        logits: (B, C)\n",
    "        u_batch: (B,)\n",
    "        y_onehot: (B, C)\n",
    "        y_soft: (B, C)\n",
    "        a_train: float\n",
    "        \"\"\"\n",
    "        B, C = logits.shape\n",
    "\n",
    "        u_diag_y = u_batch.unsqueeze(1) * y_onehot  # (B, C)\n",
    "\n",
    "        # L1: weighted cross-entropy with soft labels\n",
    "        logits_mod = logits + a_train * u_diag_y\n",
    "        L1 = F.cross_entropy(logits_mod, y_soft.argmax(dim=1))\n",
    "\n",
    "        # L2: squared norm alignment\n",
    "        y_pred_onehot = torch.zeros_like(y_onehot)\n",
    "        y_pred_onehot.scatter_(1, logits.argmax(dim=1, keepdim=True), 1)\n",
    "        L2 = (1 / C) * ((y_pred_onehot + u_diag_y - y_onehot).pow(2).sum(dim=1).mean())\n",
    "\n",
    "        # L3: KL regularization\n",
    "        # Get fθ(ZB) @ yB^T → logits of the true class for each sample\n",
    "        # logits: (B, C), y_onehot: (B, C)\n",
    "        eps = 1e-12\n",
    "        # Step 1: Matrix multiplication (B x C) @ (C x B) = (B x B)\n",
    "        logits_yT = torch.matmul(logits, y_onehot.T)  # (B, B)\n",
    "    \n",
    "        # Step 2: Extract diagonal\n",
    "        diag_logits_y = torch.diag(logits_yT)  # (B,)\n",
    "    \n",
    "        # Step 3: Softmax + log → log P\n",
    "        log_P = F.log_softmax(diag_logits_y, dim=0)\n",
    "        P = torch.exp(log_P)\n",
    "    \n",
    "        # Step 4: Softmax of -log(u)\n",
    "        log_u = torch.log(u_batch.clamp(min=eps))\n",
    "        Q = F.softmax(-log_u, dim=0)\n",
    "        log_Q = torch.log(Q + eps)\n",
    "    \n",
    "        # Step 5: KL(P || Q)\n",
    "        L3 = (1 - a_train) * torch.sum(P * (log_P - log_Q))\n",
    "\n",
    "\n",
    "        return L1 + L3, L2"
   ]
  },
  {
   "cell_type": "code",
   "execution_count": 20,
   "id": "9acafb80-607f-4ee3-9a46-cc72479c47e3",
   "metadata": {},
   "outputs": [],
   "source": [
    "def train(train_loader, model, optimizer_theta, optimizer_u, criterion, device):\n",
    "    model.train()\n",
    "    total_loss = 0\n",
    "    correct = 0\n",
    "    total = 0\n",
    "\n",
    "    for batch in train_loader:\n",
    "        batch = batch.to(device)\n",
    "\n",
    "        optimizer_theta.zero_grad()\n",
    "        optimizer_u.zero_grad()\n",
    "\n",
    "        logits, embeddings = model(batch, return_embeddings=True) \n",
    "        y = batch.y\n",
    "        y_onehot = F.one_hot(y, num_classes=criterion.num_classes).float()\n",
    "\n",
    "        # Compute y_soft \n",
    "        # See paper : Wani, F. A., Bucarelli, M. S., and Silvestri, F. (2023).\n",
    "        # Combining distance to class centroids and outlier discounting for improved learning with noisy labels \n",
    "        \n",
    "        # Compute embeddings centroïds for each class \n",
    "        class_means = {}\n",
    "        for c in torch.unique(y):\n",
    "            mask = (y == c)\n",
    "            class_embs = embeddings[mask]\n",
    "            if class_embs.size(0) > 0:\n",
    "                mean_emb = class_embs.mean(dim=0)\n",
    "                norm_mean_emb = mean_emb / (mean_emb.norm(p=2) + 1e-12)  # normalize\n",
    "                class_means[c.item()] = norm_mean_emb  # shape: [embedding_dim]\n",
    "        \n",
    "        # y_soft initialized to zero\n",
    "        y_soft = torch.zeros_like(y_onehot)  # shape: [batch_size, num_classes]\n",
    "        \n",
    "        for i in range(len(y)):\n",
    "            emb_i = embeddings[i]\n",
    "            norm_emb_i = emb_i / (emb_i.norm(p=2) + 1e-12)\n",
    "            class_idx = y[i].item()\n",
    "        \n",
    "            if class_idx in class_means:\n",
    "                sim = torch.dot(norm_emb_i, class_means[class_idx])\n",
    "                sim = torch.clamp(sim, min=0.0)  # ReLU\n",
    "                y_soft[i, class_idx] = sim\n",
    "            else:\n",
    "                y_soft[i, class_idx] = 0.0\n",
    "\n",
    "\n",
    "\n",
    "        # Get indices\n",
    "        graph_indices = batch.idx.to(device)\n",
    "        u_batch = u[graph_indices]  # 🔁 u est passé de l'extérieur\n",
    "\n",
    "        #  Clamp u between 0 and 1 (u is a confidence index for the level of noise of the label)\n",
    "        u.data.clamp_(0, 1)\n",
    "\n",
    "        # predictions for accuracy\n",
    "        preds = logits.argmax(dim=1)\n",
    "        correct += (preds == y).sum().item()\n",
    "        total += y.size(0)\n",
    "        train_acc = correct / total # train_acc = a_train in the paper 'Robustness of Graph Classification ...'\n",
    "\n",
    "        # losses\n",
    "        loss_theta, loss_u = criterion(logits, u_batch, y_onehot, y_soft, train_acc)\n",
    "\n",
    "        # Backpropagation\n",
    "        loss_theta.backward(retain_graph=True)\n",
    "        optimizer_theta.step()\n",
    "\n",
    "        loss_u.backward()\n",
    "        optimizer_u.step()\n",
    "\n",
    "        #  Clamp u between 0 and 1 (u is a confidence index for the level of noise of the label)\n",
    "        u.data.clamp_(0, 1)\n",
    "\n",
    "\n",
    "        total_loss += loss_theta.item()\n",
    "\n",
    "    avg_loss = total_loss / len(train_loader)\n",
    "    final_train_acc = correct / total\n",
    "    return avg_loss, final_train_acc\n"
   ]
  },
  {
   "cell_type": "code",
   "execution_count": 21,
   "id": "64e363d9-4b20-49ee-bd97-44e9e5608b19",
   "metadata": {},
   "outputs": [
    {
     "name": "stderr",
     "output_type": "stream",
     "text": [
      "Iterating eval graphs: 100%|██████████| 71/71 [00:12<00:00,  5.81batch/s]\n",
      "Epoch 1/200, Loss: 1.6836, Train Acc: 0.3480, Val Acc: 0.4158\n"
     ]
    },
    {
     "name": "stdout",
     "output_type": "stream",
     "text": [
      "Epoch 1/200, Loss: 1.6836, Train Acc: 0.3480, Val Acc: 0.4158\n",
      "Best model updated and saved at /home/onyxia/work/DL-Hackathon/hackaton/checkpoints/model_A_best.pth\n"
     ]
    },
    {
     "name": "stderr",
     "output_type": "stream",
     "text": [
      "Iterating eval graphs: 100%|██████████| 71/71 [00:12<00:00,  5.61batch/s]\n",
      "Epoch 2/200, Loss: 5.4824, Train Acc: 0.3731, Val Acc: 0.4016\n"
     ]
    },
    {
     "name": "stdout",
     "output_type": "stream",
     "text": [
      "Epoch 2/200, Loss: 5.4824, Train Acc: 0.3731, Val Acc: 0.4016\n"
     ]
    },
    {
     "name": "stderr",
     "output_type": "stream",
     "text": [
      "Iterating eval graphs: 100%|██████████| 71/71 [00:12<00:00,  5.65batch/s]\n",
      "Epoch 3/200, Loss: 6.4132, Train Acc: 0.3142, Val Acc: 0.3067\n"
     ]
    },
    {
     "name": "stdout",
     "output_type": "stream",
     "text": [
      "Epoch 3/200, Loss: 6.4132, Train Acc: 0.3142, Val Acc: 0.3067\n"
     ]
    },
    {
     "name": "stderr",
     "output_type": "stream",
     "text": [
      "Iterating eval graphs: 100%|██████████| 71/71 [00:12<00:00,  5.66batch/s]\n",
      "Epoch 4/200, Loss: 15.6302, Train Acc: 0.2962, Val Acc: 0.2332\n"
     ]
    },
    {
     "name": "stdout",
     "output_type": "stream",
     "text": [
      "Epoch 4/200, Loss: 15.6302, Train Acc: 0.2962, Val Acc: 0.2332\n"
     ]
    },
    {
     "name": "stderr",
     "output_type": "stream",
     "text": [
      "Iterating eval graphs: 100%|██████████| 71/71 [00:12<00:00,  5.75batch/s]\n",
      "Epoch 5/200, Loss: 8.0283, Train Acc: 0.2930, Val Acc: 0.2899\n"
     ]
    },
    {
     "name": "stdout",
     "output_type": "stream",
     "text": [
      "Epoch 5/200, Loss: 8.0283, Train Acc: 0.2930, Val Acc: 0.2899\n"
     ]
    },
    {
     "name": "stderr",
     "output_type": "stream",
     "text": [
      "Iterating eval graphs: 100%|██████████| 71/71 [00:13<00:00,  5.45batch/s]\n",
      "Epoch 6/200, Loss: 14.9979, Train Acc: 0.2920, Val Acc: 0.2686\n"
     ]
    },
    {
     "name": "stdout",
     "output_type": "stream",
     "text": [
      "Epoch 6/200, Loss: 14.9979, Train Acc: 0.2920, Val Acc: 0.2686\n"
     ]
    },
    {
     "name": "stderr",
     "output_type": "stream",
     "text": [
      "Iterating eval graphs: 100%|██████████| 71/71 [00:12<00:00,  5.57batch/s]\n",
      "Epoch 7/200, Loss: 8.0146, Train Acc: 0.2922, Val Acc: 0.2739\n"
     ]
    },
    {
     "name": "stdout",
     "output_type": "stream",
     "text": [
      "Epoch 7/200, Loss: 8.0146, Train Acc: 0.2922, Val Acc: 0.2739\n"
     ]
    },
    {
     "name": "stderr",
     "output_type": "stream",
     "text": [
      "Iterating eval graphs: 100%|██████████| 71/71 [00:12<00:00,  5.51batch/s]\n",
      "Epoch 8/200, Loss: 14.8598, Train Acc: 0.2961, Val Acc: 0.2934\n"
     ]
    },
    {
     "name": "stdout",
     "output_type": "stream",
     "text": [
      "Epoch 8/200, Loss: 14.8598, Train Acc: 0.2961, Val Acc: 0.2934\n"
     ]
    },
    {
     "name": "stderr",
     "output_type": "stream",
     "text": [
      "Iterating eval graphs: 100%|██████████| 71/71 [00:12<00:00,  5.91batch/s]\n",
      "Epoch 9/200, Loss: 7.7192, Train Acc: 0.3050, Val Acc: 0.2855\n"
     ]
    },
    {
     "name": "stdout",
     "output_type": "stream",
     "text": [
      "Epoch 9/200, Loss: 7.7192, Train Acc: 0.3050, Val Acc: 0.2855\n"
     ]
    },
    {
     "name": "stderr",
     "output_type": "stream",
     "text": [
      "Iterating eval graphs: 100%|██████████| 71/71 [00:12<00:00,  5.68batch/s]\n",
      "Epoch 10/200, Loss: 14.3951, Train Acc: 0.3047, Val Acc: 0.3010\n"
     ]
    },
    {
     "name": "stdout",
     "output_type": "stream",
     "text": [
      "Epoch 10/200, Loss: 14.3951, Train Acc: 0.3047, Val Acc: 0.3010\n"
     ]
    },
    {
     "name": "stderr",
     "output_type": "stream",
     "text": [
      "Iterating eval graphs: 100%|██████████| 71/71 [00:12<00:00,  5.69batch/s]\n",
      "Epoch 11/200, Loss: 7.5957, Train Acc: 0.3219, Val Acc: 0.2948\n"
     ]
    },
    {
     "name": "stdout",
     "output_type": "stream",
     "text": [
      "Epoch 11/200, Loss: 7.5957, Train Acc: 0.3219, Val Acc: 0.2948\n"
     ]
    },
    {
     "name": "stderr",
     "output_type": "stream",
     "text": [
      "Iterating eval graphs: 100%|██████████| 71/71 [00:12<00:00,  5.74batch/s]\n",
      "Epoch 12/200, Loss: 13.8286, Train Acc: 0.3082, Val Acc: 0.3125\n"
     ]
    },
    {
     "name": "stdout",
     "output_type": "stream",
     "text": [
      "Epoch 12/200, Loss: 13.8286, Train Acc: 0.3082, Val Acc: 0.3125\n"
     ]
    },
    {
     "name": "stderr",
     "output_type": "stream",
     "text": [
      "Iterating eval graphs: 100%|██████████| 71/71 [00:12<00:00,  5.76batch/s]\n",
      "Epoch 13/200, Loss: 8.0495, Train Acc: 0.3012, Val Acc: 0.3045\n"
     ]
    },
    {
     "name": "stdout",
     "output_type": "stream",
     "text": [
      "Epoch 13/200, Loss: 8.0495, Train Acc: 0.3012, Val Acc: 0.3045\n"
     ]
    },
    {
     "name": "stderr",
     "output_type": "stream",
     "text": [
      "Iterating eval graphs: 100%|██████████| 71/71 [00:12<00:00,  5.61batch/s]\n",
      "Epoch 14/200, Loss: 12.2510, Train Acc: 0.3149, Val Acc: 0.3076\n"
     ]
    },
    {
     "name": "stdout",
     "output_type": "stream",
     "text": [
      "Epoch 14/200, Loss: 12.2510, Train Acc: 0.3149, Val Acc: 0.3076\n"
     ]
    },
    {
     "name": "stderr",
     "output_type": "stream",
     "text": [
      "Iterating eval graphs: 100%|██████████| 71/71 [00:12<00:00,  5.78batch/s]\n",
      "Epoch 15/200, Loss: 6.9806, Train Acc: 0.3250, Val Acc: 0.3081\n"
     ]
    },
    {
     "name": "stdout",
     "output_type": "stream",
     "text": [
      "Epoch 15/200, Loss: 6.9806, Train Acc: 0.3250, Val Acc: 0.3081\n"
     ]
    },
    {
     "name": "stderr",
     "output_type": "stream",
     "text": [
      "Iterating eval graphs: 100%|██████████| 71/71 [00:12<00:00,  5.78batch/s]\n",
      "Epoch 16/200, Loss: 10.6639, Train Acc: 0.3260, Val Acc: 0.3103\n"
     ]
    },
    {
     "name": "stdout",
     "output_type": "stream",
     "text": [
      "Epoch 16/200, Loss: 10.6639, Train Acc: 0.3260, Val Acc: 0.3103\n"
     ]
    },
    {
     "name": "stderr",
     "output_type": "stream",
     "text": [
      "Iterating eval graphs: 100%|██████████| 71/71 [00:12<00:00,  5.73batch/s]\n",
      "Epoch 17/200, Loss: 6.8853, Train Acc: 0.3431, Val Acc: 0.2917\n"
     ]
    },
    {
     "name": "stdout",
     "output_type": "stream",
     "text": [
      "Epoch 17/200, Loss: 6.8853, Train Acc: 0.3431, Val Acc: 0.2917\n"
     ]
    },
    {
     "name": "stderr",
     "output_type": "stream",
     "text": [
      "Iterating eval graphs: 100%|██████████| 71/71 [00:12<00:00,  5.76batch/s]\n",
      "Epoch 18/200, Loss: 8.5214, Train Acc: 0.3470, Val Acc: 0.3160\n"
     ]
    },
    {
     "name": "stdout",
     "output_type": "stream",
     "text": [
      "Epoch 18/200, Loss: 8.5214, Train Acc: 0.3470, Val Acc: 0.3160\n"
     ]
    },
    {
     "name": "stderr",
     "output_type": "stream",
     "text": [
      "Iterating eval graphs: 100%|██████████| 71/71 [00:12<00:00,  5.73batch/s]\n",
      "Epoch 19/200, Loss: 6.0925, Train Acc: 0.3428, Val Acc: 0.3196\n"
     ]
    },
    {
     "name": "stdout",
     "output_type": "stream",
     "text": [
      "Epoch 19/200, Loss: 6.0925, Train Acc: 0.3428, Val Acc: 0.3196\n"
     ]
    },
    {
     "name": "stderr",
     "output_type": "stream",
     "text": [
      "Iterating eval graphs: 100%|██████████| 71/71 [00:12<00:00,  5.81batch/s]\n",
      "Epoch 20/200, Loss: 7.2908, Train Acc: 0.3454, Val Acc: 0.3254\n"
     ]
    },
    {
     "name": "stdout",
     "output_type": "stream",
     "text": [
      "Epoch 20/200, Loss: 7.2908, Train Acc: 0.3454, Val Acc: 0.3254\n"
     ]
    },
    {
     "name": "stderr",
     "output_type": "stream",
     "text": [
      "Iterating eval graphs: 100%|██████████| 71/71 [00:12<00:00,  5.81batch/s]\n",
      "Epoch 21/200, Loss: 5.7489, Train Acc: 0.3421, Val Acc: 0.3098\n"
     ]
    },
    {
     "name": "stdout",
     "output_type": "stream",
     "text": [
      "Epoch 21/200, Loss: 5.7489, Train Acc: 0.3421, Val Acc: 0.3098\n"
     ]
    },
    {
     "name": "stderr",
     "output_type": "stream",
     "text": [
      "Iterating eval graphs: 100%|██████████| 71/71 [00:12<00:00,  5.74batch/s]\n",
      "Epoch 22/200, Loss: 6.1301, Train Acc: 0.3486, Val Acc: 0.3506\n"
     ]
    },
    {
     "name": "stdout",
     "output_type": "stream",
     "text": [
      "Epoch 22/200, Loss: 6.1301, Train Acc: 0.3486, Val Acc: 0.3506\n"
     ]
    },
    {
     "name": "stderr",
     "output_type": "stream",
     "text": [
      "Iterating eval graphs: 100%|██████████| 71/71 [00:12<00:00,  5.75batch/s]\n",
      "Epoch 23/200, Loss: 5.0165, Train Acc: 0.3643, Val Acc: 0.3373\n"
     ]
    },
    {
     "name": "stdout",
     "output_type": "stream",
     "text": [
      "Epoch 23/200, Loss: 5.0165, Train Acc: 0.3643, Val Acc: 0.3373\n"
     ]
    },
    {
     "name": "stderr",
     "output_type": "stream",
     "text": [
      "Iterating eval graphs: 100%|██████████| 71/71 [00:12<00:00,  5.54batch/s]\n",
      "Epoch 24/200, Loss: 5.8515, Train Acc: 0.3533, Val Acc: 0.3449\n"
     ]
    },
    {
     "name": "stdout",
     "output_type": "stream",
     "text": [
      "Epoch 24/200, Loss: 5.8515, Train Acc: 0.3533, Val Acc: 0.3449\n"
     ]
    },
    {
     "name": "stderr",
     "output_type": "stream",
     "text": [
      "Iterating eval graphs: 100%|██████████| 71/71 [00:12<00:00,  5.63batch/s]\n",
      "Epoch 25/200, Loss: 4.8393, Train Acc: 0.3664, Val Acc: 0.3457\n"
     ]
    },
    {
     "name": "stdout",
     "output_type": "stream",
     "text": [
      "Epoch 25/200, Loss: 4.8393, Train Acc: 0.3664, Val Acc: 0.3457\n"
     ]
    },
    {
     "name": "stderr",
     "output_type": "stream",
     "text": [
      "Iterating eval graphs: 100%|██████████| 71/71 [00:12<00:00,  5.67batch/s]\n",
      "Epoch 26/200, Loss: 5.1480, Train Acc: 0.3588, Val Acc: 0.3223\n"
     ]
    },
    {
     "name": "stdout",
     "output_type": "stream",
     "text": [
      "Epoch 26/200, Loss: 5.1480, Train Acc: 0.3588, Val Acc: 0.3223\n"
     ]
    },
    {
     "name": "stderr",
     "output_type": "stream",
     "text": [
      "Iterating eval graphs: 100%|██████████| 71/71 [00:12<00:00,  5.55batch/s]\n",
      "Epoch 27/200, Loss: 4.7302, Train Acc: 0.3648, Val Acc: 0.3400\n"
     ]
    },
    {
     "name": "stdout",
     "output_type": "stream",
     "text": [
      "Epoch 27/200, Loss: 4.7302, Train Acc: 0.3648, Val Acc: 0.3400\n"
     ]
    },
    {
     "name": "stderr",
     "output_type": "stream",
     "text": [
      "Iterating eval graphs: 100%|██████████| 71/71 [00:12<00:00,  5.83batch/s]\n",
      "Epoch 28/200, Loss: 5.0942, Train Acc: 0.3646, Val Acc: 0.3258\n"
     ]
    },
    {
     "name": "stdout",
     "output_type": "stream",
     "text": [
      "Epoch 28/200, Loss: 5.0942, Train Acc: 0.3646, Val Acc: 0.3258\n"
     ]
    },
    {
     "name": "stderr",
     "output_type": "stream",
     "text": [
      "Iterating eval graphs: 100%|██████████| 71/71 [00:12<00:00,  5.70batch/s]\n",
      "Epoch 29/200, Loss: 4.5510, Train Acc: 0.3747, Val Acc: 0.3444\n"
     ]
    },
    {
     "name": "stdout",
     "output_type": "stream",
     "text": [
      "Epoch 29/200, Loss: 4.5510, Train Acc: 0.3747, Val Acc: 0.3444\n"
     ]
    },
    {
     "name": "stderr",
     "output_type": "stream",
     "text": [
      "Iterating eval graphs: 100%|██████████| 71/71 [00:12<00:00,  5.58batch/s]\n",
      "Epoch 30/200, Loss: 4.9585, Train Acc: 0.3721, Val Acc: 0.3449\n"
     ]
    },
    {
     "name": "stdout",
     "output_type": "stream",
     "text": [
      "Epoch 30/200, Loss: 4.9585, Train Acc: 0.3721, Val Acc: 0.3449\n"
     ]
    },
    {
     "name": "stderr",
     "output_type": "stream",
     "text": [
      "Iterating eval graphs: 100%|██████████| 71/71 [00:12<00:00,  5.69batch/s]\n",
      "Epoch 31/200, Loss: 4.3283, Train Acc: 0.3774, Val Acc: 0.3803\n"
     ]
    },
    {
     "name": "stdout",
     "output_type": "stream",
     "text": [
      "Epoch 31/200, Loss: 4.3283, Train Acc: 0.3774, Val Acc: 0.3803\n"
     ]
    },
    {
     "name": "stderr",
     "output_type": "stream",
     "text": [
      "Iterating eval graphs: 100%|██████████| 71/71 [00:13<00:00,  5.09batch/s]\n",
      "Epoch 32/200, Loss: 4.7123, Train Acc: 0.3723, Val Acc: 0.3577\n"
     ]
    },
    {
     "name": "stdout",
     "output_type": "stream",
     "text": [
      "Epoch 32/200, Loss: 4.7123, Train Acc: 0.3723, Val Acc: 0.3577\n"
     ]
    },
    {
     "name": "stderr",
     "output_type": "stream",
     "text": [
      "Iterating eval graphs: 100%|██████████| 71/71 [00:12<00:00,  5.48batch/s]\n",
      "Epoch 33/200, Loss: 4.2928, Train Acc: 0.3821, Val Acc: 0.3670\n"
     ]
    },
    {
     "name": "stdout",
     "output_type": "stream",
     "text": [
      "Epoch 33/200, Loss: 4.2928, Train Acc: 0.3821, Val Acc: 0.3670\n"
     ]
    },
    {
     "name": "stderr",
     "output_type": "stream",
     "text": [
      "Iterating eval graphs: 100%|██████████| 71/71 [00:12<00:00,  5.48batch/s]\n",
      "Epoch 34/200, Loss: 4.6890, Train Acc: 0.3809, Val Acc: 0.3621\n"
     ]
    },
    {
     "name": "stdout",
     "output_type": "stream",
     "text": [
      "Epoch 34/200, Loss: 4.6890, Train Acc: 0.3809, Val Acc: 0.3621\n"
     ]
    },
    {
     "name": "stderr",
     "output_type": "stream",
     "text": [
      "Iterating eval graphs: 100%|██████████| 71/71 [00:12<00:00,  5.63batch/s]\n",
      "Epoch 35/200, Loss: 4.2128, Train Acc: 0.3841, Val Acc: 0.3861\n"
     ]
    },
    {
     "name": "stdout",
     "output_type": "stream",
     "text": [
      "Epoch 35/200, Loss: 4.2128, Train Acc: 0.3841, Val Acc: 0.3861\n"
     ]
    },
    {
     "name": "stderr",
     "output_type": "stream",
     "text": [
      "Iterating eval graphs: 100%|██████████| 71/71 [00:12<00:00,  5.56batch/s]\n",
      "Epoch 36/200, Loss: 4.5255, Train Acc: 0.3873, Val Acc: 0.3617\n"
     ]
    },
    {
     "name": "stdout",
     "output_type": "stream",
     "text": [
      "Epoch 36/200, Loss: 4.5255, Train Acc: 0.3873, Val Acc: 0.3617\n"
     ]
    },
    {
     "name": "stderr",
     "output_type": "stream",
     "text": [
      "Iterating eval graphs: 100%|██████████| 71/71 [00:12<00:00,  5.75batch/s]\n",
      "Epoch 37/200, Loss: 4.3050, Train Acc: 0.3933, Val Acc: 0.3799\n"
     ]
    },
    {
     "name": "stdout",
     "output_type": "stream",
     "text": [
      "Epoch 37/200, Loss: 4.3050, Train Acc: 0.3933, Val Acc: 0.3799\n"
     ]
    },
    {
     "name": "stderr",
     "output_type": "stream",
     "text": [
      "Iterating eval graphs: 100%|██████████| 71/71 [00:12<00:00,  5.56batch/s]\n",
      "Epoch 38/200, Loss: 4.6280, Train Acc: 0.3906, Val Acc: 0.3808\n"
     ]
    },
    {
     "name": "stdout",
     "output_type": "stream",
     "text": [
      "Epoch 38/200, Loss: 4.6280, Train Acc: 0.3906, Val Acc: 0.3808\n"
     ]
    },
    {
     "name": "stderr",
     "output_type": "stream",
     "text": [
      "Iterating eval graphs: 100%|██████████| 71/71 [00:12<00:00,  5.72batch/s]\n",
      "Epoch 39/200, Loss: 4.2188, Train Acc: 0.3898, Val Acc: 0.3821\n"
     ]
    },
    {
     "name": "stdout",
     "output_type": "stream",
     "text": [
      "Epoch 39/200, Loss: 4.2188, Train Acc: 0.3898, Val Acc: 0.3821\n"
     ]
    },
    {
     "name": "stderr",
     "output_type": "stream",
     "text": [
      "Iterating eval graphs: 100%|██████████| 71/71 [00:12<00:00,  5.48batch/s]\n",
      "Epoch 40/200, Loss: 4.5088, Train Acc: 0.3932, Val Acc: 0.3688\n"
     ]
    },
    {
     "name": "stdout",
     "output_type": "stream",
     "text": [
      "Epoch 40/200, Loss: 4.5088, Train Acc: 0.3932, Val Acc: 0.3688\n"
     ]
    },
    {
     "name": "stderr",
     "output_type": "stream",
     "text": [
      "Iterating eval graphs: 100%|██████████| 71/71 [00:12<00:00,  5.68batch/s]\n",
      "Epoch 41/200, Loss: 4.1645, Train Acc: 0.3935, Val Acc: 0.4065\n"
     ]
    },
    {
     "name": "stdout",
     "output_type": "stream",
     "text": [
      "Epoch 41/200, Loss: 4.1645, Train Acc: 0.3935, Val Acc: 0.4065\n"
     ]
    },
    {
     "name": "stderr",
     "output_type": "stream",
     "text": [
      "Iterating eval graphs: 100%|██████████| 71/71 [00:13<00:00,  5.42batch/s]\n",
      "Epoch 42/200, Loss: 4.2425, Train Acc: 0.3978, Val Acc: 0.3746\n"
     ]
    },
    {
     "name": "stdout",
     "output_type": "stream",
     "text": [
      "Epoch 42/200, Loss: 4.2425, Train Acc: 0.3978, Val Acc: 0.3746\n"
     ]
    },
    {
     "name": "stderr",
     "output_type": "stream",
     "text": [
      "Iterating eval graphs: 100%|██████████| 71/71 [00:12<00:00,  5.57batch/s]\n",
      "Epoch 43/200, Loss: 4.2435, Train Acc: 0.3976, Val Acc: 0.3989\n"
     ]
    },
    {
     "name": "stdout",
     "output_type": "stream",
     "text": [
      "Epoch 43/200, Loss: 4.2435, Train Acc: 0.3976, Val Acc: 0.3989\n"
     ]
    },
    {
     "name": "stderr",
     "output_type": "stream",
     "text": [
      "Iterating eval graphs: 100%|██████████| 71/71 [00:12<00:00,  5.59batch/s]\n",
      "Epoch 44/200, Loss: 4.2633, Train Acc: 0.3997, Val Acc: 0.3954\n"
     ]
    },
    {
     "name": "stdout",
     "output_type": "stream",
     "text": [
      "Epoch 44/200, Loss: 4.2633, Train Acc: 0.3997, Val Acc: 0.3954\n"
     ]
    },
    {
     "name": "stderr",
     "output_type": "stream",
     "text": [
      "Iterating eval graphs: 100%|██████████| 71/71 [00:12<00:00,  5.69batch/s]\n",
      "Epoch 45/200, Loss: 3.8412, Train Acc: 0.4046, Val Acc: 0.4060\n"
     ]
    },
    {
     "name": "stdout",
     "output_type": "stream",
     "text": [
      "Epoch 45/200, Loss: 3.8412, Train Acc: 0.4046, Val Acc: 0.4060\n"
     ]
    },
    {
     "name": "stderr",
     "output_type": "stream",
     "text": [
      "Iterating eval graphs: 100%|██████████| 71/71 [00:12<00:00,  5.64batch/s]\n",
      "Epoch 46/200, Loss: 4.0669, Train Acc: 0.4035, Val Acc: 0.3927\n"
     ]
    },
    {
     "name": "stdout",
     "output_type": "stream",
     "text": [
      "Epoch 46/200, Loss: 4.0669, Train Acc: 0.4035, Val Acc: 0.3927\n"
     ]
    },
    {
     "name": "stderr",
     "output_type": "stream",
     "text": [
      "Iterating eval graphs: 100%|██████████| 71/71 [00:12<00:00,  5.78batch/s]\n",
      "Epoch 47/200, Loss: 4.0223, Train Acc: 0.4062, Val Acc: 0.3972\n"
     ]
    },
    {
     "name": "stdout",
     "output_type": "stream",
     "text": [
      "Epoch 47/200, Loss: 4.0223, Train Acc: 0.4062, Val Acc: 0.3972\n"
     ]
    },
    {
     "name": "stderr",
     "output_type": "stream",
     "text": [
      "Iterating eval graphs: 100%|██████████| 71/71 [00:12<00:00,  5.59batch/s]\n",
      "Epoch 48/200, Loss: 4.3099, Train Acc: 0.3987, Val Acc: 0.3976\n"
     ]
    },
    {
     "name": "stdout",
     "output_type": "stream",
     "text": [
      "Epoch 48/200, Loss: 4.3099, Train Acc: 0.3987, Val Acc: 0.3976\n"
     ]
    },
    {
     "name": "stderr",
     "output_type": "stream",
     "text": [
      "Iterating eval graphs: 100%|██████████| 71/71 [00:12<00:00,  5.67batch/s]\n",
      "Epoch 49/200, Loss: 3.9989, Train Acc: 0.4033, Val Acc: 0.3958\n"
     ]
    },
    {
     "name": "stdout",
     "output_type": "stream",
     "text": [
      "Epoch 49/200, Loss: 3.9989, Train Acc: 0.4033, Val Acc: 0.3958\n"
     ]
    },
    {
     "name": "stderr",
     "output_type": "stream",
     "text": [
      "Iterating eval graphs: 100%|██████████| 71/71 [00:12<00:00,  5.68batch/s]\n",
      "Epoch 50/200, Loss: 4.2238, Train Acc: 0.4055, Val Acc: 0.4091\n"
     ]
    },
    {
     "name": "stdout",
     "output_type": "stream",
     "text": [
      "Epoch 50/200, Loss: 4.2238, Train Acc: 0.4055, Val Acc: 0.4091\n"
     ]
    },
    {
     "name": "stderr",
     "output_type": "stream",
     "text": [
      "Iterating eval graphs: 100%|██████████| 71/71 [00:12<00:00,  5.66batch/s]\n",
      "Epoch 51/200, Loss: 3.9046, Train Acc: 0.4059, Val Acc: 0.4158\n"
     ]
    },
    {
     "name": "stdout",
     "output_type": "stream",
     "text": [
      "Epoch 51/200, Loss: 3.9046, Train Acc: 0.4059, Val Acc: 0.4158\n"
     ]
    },
    {
     "name": "stderr",
     "output_type": "stream",
     "text": [
      "Iterating eval graphs: 100%|██████████| 71/71 [00:12<00:00,  5.77batch/s]\n",
      "Epoch 52/200, Loss: 4.2655, Train Acc: 0.4079, Val Acc: 0.4051\n"
     ]
    },
    {
     "name": "stdout",
     "output_type": "stream",
     "text": [
      "Epoch 52/200, Loss: 4.2655, Train Acc: 0.4079, Val Acc: 0.4051\n"
     ]
    },
    {
     "name": "stderr",
     "output_type": "stream",
     "text": [
      "Iterating eval graphs: 100%|██████████| 71/71 [00:12<00:00,  5.61batch/s]\n",
      "Epoch 53/200, Loss: 4.1405, Train Acc: 0.4069, Val Acc: 0.4047\n"
     ]
    },
    {
     "name": "stdout",
     "output_type": "stream",
     "text": [
      "Epoch 53/200, Loss: 4.1405, Train Acc: 0.4069, Val Acc: 0.4047\n"
     ]
    },
    {
     "name": "stderr",
     "output_type": "stream",
     "text": [
      "Iterating eval graphs: 100%|██████████| 71/71 [00:12<00:00,  5.53batch/s]\n",
      "Epoch 54/200, Loss: 3.8231, Train Acc: 0.4047, Val Acc: 0.3777\n"
     ]
    },
    {
     "name": "stdout",
     "output_type": "stream",
     "text": [
      "Epoch 54/200, Loss: 3.8231, Train Acc: 0.4047, Val Acc: 0.3777\n"
     ]
    },
    {
     "name": "stderr",
     "output_type": "stream",
     "text": [
      "Iterating eval graphs: 100%|██████████| 71/71 [00:12<00:00,  5.72batch/s]\n",
      "Epoch 55/200, Loss: 3.9047, Train Acc: 0.4097, Val Acc: 0.4176\n"
     ]
    },
    {
     "name": "stdout",
     "output_type": "stream",
     "text": [
      "Epoch 55/200, Loss: 3.9047, Train Acc: 0.4097, Val Acc: 0.4176\n",
      "Best model updated and saved at /home/onyxia/work/DL-Hackathon/hackaton/checkpoints/model_A_best.pth\n"
     ]
    },
    {
     "name": "stderr",
     "output_type": "stream",
     "text": [
      "Iterating eval graphs: 100%|██████████| 71/71 [00:12<00:00,  5.80batch/s]\n",
      "Epoch 56/200, Loss: 4.1110, Train Acc: 0.4050, Val Acc: 0.3998\n"
     ]
    },
    {
     "name": "stdout",
     "output_type": "stream",
     "text": [
      "Epoch 56/200, Loss: 4.1110, Train Acc: 0.4050, Val Acc: 0.3998\n"
     ]
    },
    {
     "name": "stderr",
     "output_type": "stream",
     "text": [
      "Iterating eval graphs: 100%|██████████| 71/71 [00:12<00:00,  5.75batch/s]\n",
      "Epoch 57/200, Loss: 3.6011, Train Acc: 0.4177, Val Acc: 0.4087\n"
     ]
    },
    {
     "name": "stdout",
     "output_type": "stream",
     "text": [
      "Epoch 57/200, Loss: 3.6011, Train Acc: 0.4177, Val Acc: 0.4087\n"
     ]
    },
    {
     "name": "stderr",
     "output_type": "stream",
     "text": [
      "Iterating eval graphs: 100%|██████████| 71/71 [00:12<00:00,  5.59batch/s]\n",
      "Epoch 58/200, Loss: 3.9435, Train Acc: 0.4116, Val Acc: 0.4220\n"
     ]
    },
    {
     "name": "stdout",
     "output_type": "stream",
     "text": [
      "Epoch 58/200, Loss: 3.9435, Train Acc: 0.4116, Val Acc: 0.4220\n",
      "Best model updated and saved at /home/onyxia/work/DL-Hackathon/hackaton/checkpoints/model_A_best.pth\n"
     ]
    },
    {
     "name": "stderr",
     "output_type": "stream",
     "text": [
      "Iterating eval graphs: 100%|██████████| 71/71 [00:12<00:00,  5.60batch/s]\n",
      "Epoch 59/200, Loss: 4.0101, Train Acc: 0.4152, Val Acc: 0.3905\n"
     ]
    },
    {
     "name": "stdout",
     "output_type": "stream",
     "text": [
      "Epoch 59/200, Loss: 4.0101, Train Acc: 0.4152, Val Acc: 0.3905\n"
     ]
    },
    {
     "name": "stderr",
     "output_type": "stream",
     "text": [
      "Iterating eval graphs: 100%|██████████| 71/71 [00:12<00:00,  5.69batch/s]\n",
      "Epoch 60/200, Loss: 3.8119, Train Acc: 0.4172, Val Acc: 0.3768\n"
     ]
    },
    {
     "name": "stdout",
     "output_type": "stream",
     "text": [
      "Epoch 60/200, Loss: 3.8119, Train Acc: 0.4172, Val Acc: 0.3768\n"
     ]
    },
    {
     "name": "stderr",
     "output_type": "stream",
     "text": [
      "Iterating eval graphs: 100%|██████████| 71/71 [00:12<00:00,  5.58batch/s]\n",
      "Epoch 61/200, Loss: 3.7025, Train Acc: 0.4272, Val Acc: 0.4140\n"
     ]
    },
    {
     "name": "stdout",
     "output_type": "stream",
     "text": [
      "Epoch 61/200, Loss: 3.7025, Train Acc: 0.4272, Val Acc: 0.4140\n"
     ]
    },
    {
     "name": "stderr",
     "output_type": "stream",
     "text": [
      "Iterating eval graphs: 100%|██████████| 71/71 [00:12<00:00,  5.69batch/s]\n",
      "Epoch 62/200, Loss: 3.8244, Train Acc: 0.4227, Val Acc: 0.4317\n"
     ]
    },
    {
     "name": "stdout",
     "output_type": "stream",
     "text": [
      "Epoch 62/200, Loss: 3.8244, Train Acc: 0.4227, Val Acc: 0.4317\n",
      "Best model updated and saved at /home/onyxia/work/DL-Hackathon/hackaton/checkpoints/model_A_best.pth\n"
     ]
    },
    {
     "name": "stderr",
     "output_type": "stream",
     "text": [
      "Iterating eval graphs: 100%|██████████| 71/71 [00:12<00:00,  5.52batch/s]\n",
      "Epoch 63/200, Loss: 3.8266, Train Acc: 0.4299, Val Acc: 0.4176\n"
     ]
    },
    {
     "name": "stdout",
     "output_type": "stream",
     "text": [
      "Epoch 63/200, Loss: 3.8266, Train Acc: 0.4299, Val Acc: 0.4176\n"
     ]
    },
    {
     "name": "stderr",
     "output_type": "stream",
     "text": [
      "Iterating eval graphs: 100%|██████████| 71/71 [00:12<00:00,  5.71batch/s]\n",
      "Epoch 64/200, Loss: 3.7887, Train Acc: 0.4245, Val Acc: 0.4171\n"
     ]
    },
    {
     "name": "stdout",
     "output_type": "stream",
     "text": [
      "Epoch 64/200, Loss: 3.7887, Train Acc: 0.4245, Val Acc: 0.4171\n"
     ]
    },
    {
     "name": "stderr",
     "output_type": "stream",
     "text": [
      "Iterating eval graphs: 100%|██████████| 71/71 [00:12<00:00,  5.70batch/s]\n",
      "Epoch 65/200, Loss: 3.8296, Train Acc: 0.4283, Val Acc: 0.4171\n"
     ]
    },
    {
     "name": "stdout",
     "output_type": "stream",
     "text": [
      "Epoch 65/200, Loss: 3.8296, Train Acc: 0.4283, Val Acc: 0.4171\n"
     ]
    },
    {
     "name": "stderr",
     "output_type": "stream",
     "text": [
      "Iterating eval graphs: 100%|██████████| 71/71 [00:12<00:00,  5.70batch/s]\n",
      "Epoch 66/200, Loss: 3.6748, Train Acc: 0.4254, Val Acc: 0.4158\n"
     ]
    },
    {
     "name": "stdout",
     "output_type": "stream",
     "text": [
      "Epoch 66/200, Loss: 3.6748, Train Acc: 0.4254, Val Acc: 0.4158\n"
     ]
    },
    {
     "name": "stderr",
     "output_type": "stream",
     "text": [
      "Iterating eval graphs: 100%|██████████| 71/71 [00:12<00:00,  5.68batch/s]\n",
      "Epoch 67/200, Loss: 3.7047, Train Acc: 0.4274, Val Acc: 0.4113\n"
     ]
    },
    {
     "name": "stdout",
     "output_type": "stream",
     "text": [
      "Epoch 67/200, Loss: 3.7047, Train Acc: 0.4274, Val Acc: 0.4113\n"
     ]
    },
    {
     "name": "stderr",
     "output_type": "stream",
     "text": [
      "Iterating eval graphs: 100%|██████████| 71/71 [00:12<00:00,  5.81batch/s]\n",
      "Epoch 68/200, Loss: 3.8059, Train Acc: 0.4264, Val Acc: 0.4096\n"
     ]
    },
    {
     "name": "stdout",
     "output_type": "stream",
     "text": [
      "Epoch 68/200, Loss: 3.8059, Train Acc: 0.4264, Val Acc: 0.4096\n"
     ]
    },
    {
     "name": "stderr",
     "output_type": "stream",
     "text": [
      "Iterating eval graphs: 100%|██████████| 71/71 [00:12<00:00,  5.57batch/s]\n",
      "Epoch 69/200, Loss: 3.6816, Train Acc: 0.4245, Val Acc: 0.4304\n"
     ]
    },
    {
     "name": "stdout",
     "output_type": "stream",
     "text": [
      "Epoch 69/200, Loss: 3.6816, Train Acc: 0.4245, Val Acc: 0.4304\n"
     ]
    },
    {
     "name": "stderr",
     "output_type": "stream",
     "text": [
      "Iterating eval graphs: 100%|██████████| 71/71 [00:12<00:00,  5.62batch/s]\n",
      "Epoch 70/200, Loss: 3.6241, Train Acc: 0.4321, Val Acc: 0.4171\n"
     ]
    },
    {
     "name": "stdout",
     "output_type": "stream",
     "text": [
      "Epoch 70/200, Loss: 3.6241, Train Acc: 0.4321, Val Acc: 0.4171\n"
     ]
    },
    {
     "name": "stderr",
     "output_type": "stream",
     "text": [
      "Iterating eval graphs: 100%|██████████| 71/71 [00:12<00:00,  5.84batch/s]\n",
      "Epoch 71/200, Loss: 3.7778, Train Acc: 0.4353, Val Acc: 0.4242\n"
     ]
    },
    {
     "name": "stdout",
     "output_type": "stream",
     "text": [
      "Epoch 71/200, Loss: 3.7778, Train Acc: 0.4353, Val Acc: 0.4242\n"
     ]
    },
    {
     "name": "stderr",
     "output_type": "stream",
     "text": [
      "Iterating eval graphs: 100%|██████████| 71/71 [00:12<00:00,  5.67batch/s]\n",
      "Epoch 72/200, Loss: 3.6603, Train Acc: 0.4376, Val Acc: 0.4260\n"
     ]
    },
    {
     "name": "stdout",
     "output_type": "stream",
     "text": [
      "Epoch 72/200, Loss: 3.6603, Train Acc: 0.4376, Val Acc: 0.4260\n"
     ]
    },
    {
     "name": "stderr",
     "output_type": "stream",
     "text": [
      "Iterating eval graphs: 100%|██████████| 71/71 [00:12<00:00,  5.63batch/s]\n",
      "Epoch 73/200, Loss: 3.5548, Train Acc: 0.4384, Val Acc: 0.4198\n"
     ]
    },
    {
     "name": "stdout",
     "output_type": "stream",
     "text": [
      "Epoch 73/200, Loss: 3.5548, Train Acc: 0.4384, Val Acc: 0.4198\n"
     ]
    },
    {
     "name": "stderr",
     "output_type": "stream",
     "text": [
      "Iterating eval graphs: 100%|██████████| 71/71 [00:12<00:00,  5.61batch/s]\n",
      "Epoch 74/200, Loss: 3.7248, Train Acc: 0.4340, Val Acc: 0.4251\n"
     ]
    },
    {
     "name": "stdout",
     "output_type": "stream",
     "text": [
      "Epoch 74/200, Loss: 3.7248, Train Acc: 0.4340, Val Acc: 0.4251\n"
     ]
    },
    {
     "name": "stderr",
     "output_type": "stream",
     "text": [
      "Iterating eval graphs: 100%|██████████| 71/71 [00:12<00:00,  5.58batch/s]\n",
      "Epoch 75/200, Loss: 3.3437, Train Acc: 0.4461, Val Acc: 0.4375\n"
     ]
    },
    {
     "name": "stdout",
     "output_type": "stream",
     "text": [
      "Epoch 75/200, Loss: 3.3437, Train Acc: 0.4461, Val Acc: 0.4375\n",
      "Best model updated and saved at /home/onyxia/work/DL-Hackathon/hackaton/checkpoints/model_A_best.pth\n"
     ]
    },
    {
     "name": "stderr",
     "output_type": "stream",
     "text": [
      "Iterating eval graphs: 100%|██████████| 71/71 [00:13<00:00,  5.42batch/s]\n",
      "Epoch 76/200, Loss: 3.5619, Train Acc: 0.4396, Val Acc: 0.4255\n"
     ]
    },
    {
     "name": "stdout",
     "output_type": "stream",
     "text": [
      "Epoch 76/200, Loss: 3.5619, Train Acc: 0.4396, Val Acc: 0.4255\n"
     ]
    },
    {
     "name": "stderr",
     "output_type": "stream",
     "text": [
      "Iterating eval graphs: 100%|██████████| 71/71 [00:12<00:00,  5.60batch/s]\n",
      "Epoch 77/200, Loss: 3.4882, Train Acc: 0.4425, Val Acc: 0.4255\n"
     ]
    },
    {
     "name": "stdout",
     "output_type": "stream",
     "text": [
      "Epoch 77/200, Loss: 3.4882, Train Acc: 0.4425, Val Acc: 0.4255\n"
     ]
    },
    {
     "name": "stderr",
     "output_type": "stream",
     "text": [
      "Iterating eval graphs: 100%|██████████| 71/71 [00:13<00:00,  5.41batch/s]\n",
      "Epoch 78/200, Loss: 3.6020, Train Acc: 0.4398, Val Acc: 0.4087\n"
     ]
    },
    {
     "name": "stdout",
     "output_type": "stream",
     "text": [
      "Epoch 78/200, Loss: 3.6020, Train Acc: 0.4398, Val Acc: 0.4087\n"
     ]
    },
    {
     "name": "stderr",
     "output_type": "stream",
     "text": [
      "Iterating eval graphs: 100%|██████████| 71/71 [00:12<00:00,  5.60batch/s]\n",
      "Epoch 79/200, Loss: 3.4663, Train Acc: 0.4494, Val Acc: 0.4158\n"
     ]
    },
    {
     "name": "stdout",
     "output_type": "stream",
     "text": [
      "Epoch 79/200, Loss: 3.4663, Train Acc: 0.4494, Val Acc: 0.4158\n"
     ]
    },
    {
     "name": "stderr",
     "output_type": "stream",
     "text": [
      "Iterating eval graphs: 100%|██████████| 71/71 [00:12<00:00,  5.61batch/s]\n",
      "Epoch 80/200, Loss: 3.6354, Train Acc: 0.4479, Val Acc: 0.4309\n"
     ]
    },
    {
     "name": "stdout",
     "output_type": "stream",
     "text": [
      "Epoch 80/200, Loss: 3.6354, Train Acc: 0.4479, Val Acc: 0.4309\n"
     ]
    },
    {
     "name": "stderr",
     "output_type": "stream",
     "text": [
      "Iterating eval graphs: 100%|██████████| 71/71 [00:13<00:00,  5.38batch/s]\n",
      "Epoch 81/200, Loss: 3.6208, Train Acc: 0.4450, Val Acc: 0.4251\n"
     ]
    },
    {
     "name": "stdout",
     "output_type": "stream",
     "text": [
      "Epoch 81/200, Loss: 3.6208, Train Acc: 0.4450, Val Acc: 0.4251\n"
     ]
    },
    {
     "name": "stderr",
     "output_type": "stream",
     "text": [
      "Iterating eval graphs: 100%|██████████| 71/71 [00:12<00:00,  5.62batch/s]\n",
      "Epoch 82/200, Loss: 3.7764, Train Acc: 0.4368, Val Acc: 0.4242\n"
     ]
    },
    {
     "name": "stdout",
     "output_type": "stream",
     "text": [
      "Epoch 82/200, Loss: 3.7764, Train Acc: 0.4368, Val Acc: 0.4242\n"
     ]
    },
    {
     "name": "stderr",
     "output_type": "stream",
     "text": [
      "Iterating eval graphs: 100%|██████████| 71/71 [00:12<00:00,  5.79batch/s]\n",
      "Epoch 83/200, Loss: 3.4765, Train Acc: 0.4481, Val Acc: 0.4176\n"
     ]
    },
    {
     "name": "stdout",
     "output_type": "stream",
     "text": [
      "Epoch 83/200, Loss: 3.4765, Train Acc: 0.4481, Val Acc: 0.4176\n"
     ]
    },
    {
     "name": "stderr",
     "output_type": "stream",
     "text": [
      "Iterating eval graphs: 100%|██████████| 71/71 [00:12<00:00,  5.83batch/s]\n",
      "Epoch 84/200, Loss: 3.7968, Train Acc: 0.4432, Val Acc: 0.4229\n"
     ]
    },
    {
     "name": "stdout",
     "output_type": "stream",
     "text": [
      "Epoch 84/200, Loss: 3.7968, Train Acc: 0.4432, Val Acc: 0.4229\n"
     ]
    },
    {
     "name": "stderr",
     "output_type": "stream",
     "text": [
      "Iterating eval graphs: 100%|██████████| 71/71 [00:12<00:00,  5.73batch/s]\n",
      "Epoch 85/200, Loss: 3.5120, Train Acc: 0.4438, Val Acc: 0.4326\n"
     ]
    },
    {
     "name": "stdout",
     "output_type": "stream",
     "text": [
      "Epoch 85/200, Loss: 3.5120, Train Acc: 0.4438, Val Acc: 0.4326\n"
     ]
    },
    {
     "name": "stderr",
     "output_type": "stream",
     "text": [
      "Iterating eval graphs: 100%|██████████| 71/71 [00:12<00:00,  5.58batch/s]\n",
      "Epoch 86/200, Loss: 3.3638, Train Acc: 0.4532, Val Acc: 0.4384\n"
     ]
    },
    {
     "name": "stdout",
     "output_type": "stream",
     "text": [
      "Epoch 86/200, Loss: 3.3638, Train Acc: 0.4532, Val Acc: 0.4384\n",
      "Best model updated and saved at /home/onyxia/work/DL-Hackathon/hackaton/checkpoints/model_A_best.pth\n"
     ]
    },
    {
     "name": "stderr",
     "output_type": "stream",
     "text": [
      "Iterating eval graphs: 100%|██████████| 71/71 [00:12<00:00,  5.75batch/s]\n",
      "Epoch 87/200, Loss: 3.8252, Train Acc: 0.4481, Val Acc: 0.4109\n"
     ]
    },
    {
     "name": "stdout",
     "output_type": "stream",
     "text": [
      "Epoch 87/200, Loss: 3.8252, Train Acc: 0.4481, Val Acc: 0.4109\n"
     ]
    },
    {
     "name": "stderr",
     "output_type": "stream",
     "text": [
      "Iterating eval graphs: 100%|██████████| 71/71 [00:12<00:00,  5.70batch/s]\n",
      "Epoch 88/200, Loss: 3.3157, Train Acc: 0.4535, Val Acc: 0.4402\n"
     ]
    },
    {
     "name": "stdout",
     "output_type": "stream",
     "text": [
      "Epoch 88/200, Loss: 3.3157, Train Acc: 0.4535, Val Acc: 0.4402\n",
      "Best model updated and saved at /home/onyxia/work/DL-Hackathon/hackaton/checkpoints/model_A_best.pth\n"
     ]
    },
    {
     "name": "stderr",
     "output_type": "stream",
     "text": [
      "Iterating eval graphs: 100%|██████████| 71/71 [00:12<00:00,  5.57batch/s]\n",
      "Epoch 89/200, Loss: 3.2500, Train Acc: 0.4576, Val Acc: 0.4504\n"
     ]
    },
    {
     "name": "stdout",
     "output_type": "stream",
     "text": [
      "Epoch 89/200, Loss: 3.2500, Train Acc: 0.4576, Val Acc: 0.4504\n",
      "Best model updated and saved at /home/onyxia/work/DL-Hackathon/hackaton/checkpoints/model_A_best.pth\n"
     ]
    },
    {
     "name": "stderr",
     "output_type": "stream",
     "text": [
      "Iterating eval graphs: 100%|██████████| 71/71 [00:12<00:00,  5.62batch/s]\n",
      "Epoch 90/200, Loss: 3.5035, Train Acc: 0.4563, Val Acc: 0.4353\n"
     ]
    },
    {
     "name": "stdout",
     "output_type": "stream",
     "text": [
      "Epoch 90/200, Loss: 3.5035, Train Acc: 0.4563, Val Acc: 0.4353\n"
     ]
    },
    {
     "name": "stderr",
     "output_type": "stream",
     "text": [
      "Iterating eval graphs: 100%|██████████| 71/71 [00:12<00:00,  5.69batch/s]\n",
      "Epoch 91/200, Loss: 3.5023, Train Acc: 0.4548, Val Acc: 0.4238\n"
     ]
    },
    {
     "name": "stdout",
     "output_type": "stream",
     "text": [
      "Epoch 91/200, Loss: 3.5023, Train Acc: 0.4548, Val Acc: 0.4238\n"
     ]
    },
    {
     "name": "stderr",
     "output_type": "stream",
     "text": [
      "Iterating eval graphs: 100%|██████████| 71/71 [00:12<00:00,  5.52batch/s]\n",
      "Epoch 92/200, Loss: 3.4156, Train Acc: 0.4570, Val Acc: 0.4331\n"
     ]
    },
    {
     "name": "stdout",
     "output_type": "stream",
     "text": [
      "Epoch 92/200, Loss: 3.4156, Train Acc: 0.4570, Val Acc: 0.4331\n"
     ]
    },
    {
     "name": "stderr",
     "output_type": "stream",
     "text": [
      "Iterating eval graphs: 100%|██████████| 71/71 [00:12<00:00,  5.81batch/s]\n",
      "Epoch 93/200, Loss: 3.4009, Train Acc: 0.4546, Val Acc: 0.4499\n"
     ]
    },
    {
     "name": "stdout",
     "output_type": "stream",
     "text": [
      "Epoch 93/200, Loss: 3.4009, Train Acc: 0.4546, Val Acc: 0.4499\n"
     ]
    },
    {
     "name": "stderr",
     "output_type": "stream",
     "text": [
      "Iterating eval graphs: 100%|██████████| 71/71 [00:12<00:00,  5.64batch/s]\n",
      "Epoch 94/200, Loss: 3.4175, Train Acc: 0.4573, Val Acc: 0.4122\n"
     ]
    },
    {
     "name": "stdout",
     "output_type": "stream",
     "text": [
      "Epoch 94/200, Loss: 3.4175, Train Acc: 0.4573, Val Acc: 0.4122\n"
     ]
    },
    {
     "name": "stderr",
     "output_type": "stream",
     "text": [
      "Iterating eval graphs: 100%|██████████| 71/71 [00:12<00:00,  5.83batch/s]\n",
      "Epoch 95/200, Loss: 3.3899, Train Acc: 0.4551, Val Acc: 0.4402\n"
     ]
    },
    {
     "name": "stdout",
     "output_type": "stream",
     "text": [
      "Epoch 95/200, Loss: 3.3899, Train Acc: 0.4551, Val Acc: 0.4402\n"
     ]
    },
    {
     "name": "stderr",
     "output_type": "stream",
     "text": [
      "Iterating eval graphs: 100%|██████████| 71/71 [00:12<00:00,  5.48batch/s]\n",
      "Epoch 96/200, Loss: 3.3871, Train Acc: 0.4607, Val Acc: 0.4317\n"
     ]
    },
    {
     "name": "stdout",
     "output_type": "stream",
     "text": [
      "Epoch 96/200, Loss: 3.3871, Train Acc: 0.4607, Val Acc: 0.4317\n"
     ]
    },
    {
     "name": "stderr",
     "output_type": "stream",
     "text": [
      "Iterating eval graphs: 100%|██████████| 71/71 [00:12<00:00,  5.73batch/s]\n",
      "Epoch 97/200, Loss: 3.3220, Train Acc: 0.4620, Val Acc: 0.4375\n"
     ]
    },
    {
     "name": "stdout",
     "output_type": "stream",
     "text": [
      "Epoch 97/200, Loss: 3.3220, Train Acc: 0.4620, Val Acc: 0.4375\n"
     ]
    },
    {
     "name": "stderr",
     "output_type": "stream",
     "text": [
      "Iterating eval graphs: 100%|██████████| 71/71 [00:12<00:00,  5.75batch/s]\n",
      "Epoch 98/200, Loss: 3.5883, Train Acc: 0.4576, Val Acc: 0.4490\n"
     ]
    },
    {
     "name": "stdout",
     "output_type": "stream",
     "text": [
      "Epoch 98/200, Loss: 3.5883, Train Acc: 0.4576, Val Acc: 0.4490\n"
     ]
    },
    {
     "name": "stderr",
     "output_type": "stream",
     "text": [
      "Iterating eval graphs: 100%|██████████| 71/71 [00:12<00:00,  5.51batch/s]\n",
      "Epoch 99/200, Loss: 3.4029, Train Acc: 0.4504, Val Acc: 0.4282\n"
     ]
    },
    {
     "name": "stdout",
     "output_type": "stream",
     "text": [
      "Epoch 99/200, Loss: 3.4029, Train Acc: 0.4504, Val Acc: 0.4282\n"
     ]
    },
    {
     "name": "stderr",
     "output_type": "stream",
     "text": [
      "Iterating eval graphs: 100%|██████████| 71/71 [00:12<00:00,  5.56batch/s]\n",
      "Epoch 100/200, Loss: 3.4739, Train Acc: 0.4492, Val Acc: 0.4433\n"
     ]
    },
    {
     "name": "stdout",
     "output_type": "stream",
     "text": [
      "Epoch 100/200, Loss: 3.4739, Train Acc: 0.4492, Val Acc: 0.4433\n"
     ]
    },
    {
     "name": "stderr",
     "output_type": "stream",
     "text": [
      "Iterating eval graphs: 100%|██████████| 71/71 [00:12<00:00,  5.79batch/s]\n",
      "Epoch 101/200, Loss: 3.2120, Train Acc: 0.4600, Val Acc: 0.4282\n"
     ]
    },
    {
     "name": "stdout",
     "output_type": "stream",
     "text": [
      "Epoch 101/200, Loss: 3.2120, Train Acc: 0.4600, Val Acc: 0.4282\n"
     ]
    },
    {
     "name": "stderr",
     "output_type": "stream",
     "text": [
      "Iterating eval graphs: 100%|██████████| 71/71 [00:12<00:00,  5.76batch/s]\n",
      "Epoch 102/200, Loss: 3.1682, Train Acc: 0.4671, Val Acc: 0.4490\n"
     ]
    },
    {
     "name": "stdout",
     "output_type": "stream",
     "text": [
      "Epoch 102/200, Loss: 3.1682, Train Acc: 0.4671, Val Acc: 0.4490\n"
     ]
    },
    {
     "name": "stderr",
     "output_type": "stream",
     "text": [
      "Iterating eval graphs: 100%|██████████| 71/71 [00:12<00:00,  5.57batch/s]\n",
      "Epoch 103/200, Loss: 3.0934, Train Acc: 0.4706, Val Acc: 0.4481\n"
     ]
    },
    {
     "name": "stdout",
     "output_type": "stream",
     "text": [
      "Epoch 103/200, Loss: 3.0934, Train Acc: 0.4706, Val Acc: 0.4481\n"
     ]
    },
    {
     "name": "stderr",
     "output_type": "stream",
     "text": [
      "Iterating eval graphs: 100%|██████████| 71/71 [00:12<00:00,  5.73batch/s]\n",
      "Epoch 104/200, Loss: 3.2317, Train Acc: 0.4703, Val Acc: 0.4579\n"
     ]
    },
    {
     "name": "stdout",
     "output_type": "stream",
     "text": [
      "Epoch 104/200, Loss: 3.2317, Train Acc: 0.4703, Val Acc: 0.4579\n",
      "Best model updated and saved at /home/onyxia/work/DL-Hackathon/hackaton/checkpoints/model_A_best.pth\n"
     ]
    },
    {
     "name": "stderr",
     "output_type": "stream",
     "text": [
      "Iterating eval graphs: 100%|██████████| 71/71 [00:12<00:00,  5.86batch/s]\n",
      "Epoch 105/200, Loss: 3.0972, Train Acc: 0.4737, Val Acc: 0.4415\n"
     ]
    },
    {
     "name": "stdout",
     "output_type": "stream",
     "text": [
      "Epoch 105/200, Loss: 3.0972, Train Acc: 0.4737, Val Acc: 0.4415\n"
     ]
    },
    {
     "name": "stderr",
     "output_type": "stream",
     "text": [
      "Iterating eval graphs: 100%|██████████| 71/71 [00:12<00:00,  5.67batch/s]\n",
      "Epoch 106/200, Loss: 3.2220, Train Acc: 0.4762, Val Acc: 0.4455\n"
     ]
    },
    {
     "name": "stdout",
     "output_type": "stream",
     "text": [
      "Epoch 106/200, Loss: 3.2220, Train Acc: 0.4762, Val Acc: 0.4455\n"
     ]
    },
    {
     "name": "stderr",
     "output_type": "stream",
     "text": [
      "Iterating eval graphs: 100%|██████████| 71/71 [00:12<00:00,  5.58batch/s]\n",
      "Epoch 107/200, Loss: 3.0379, Train Acc: 0.4752, Val Acc: 0.4623\n"
     ]
    },
    {
     "name": "stdout",
     "output_type": "stream",
     "text": [
      "Epoch 107/200, Loss: 3.0379, Train Acc: 0.4752, Val Acc: 0.4623\n",
      "Best model updated and saved at /home/onyxia/work/DL-Hackathon/hackaton/checkpoints/model_A_best.pth\n"
     ]
    },
    {
     "name": "stderr",
     "output_type": "stream",
     "text": [
      "Iterating eval graphs: 100%|██████████| 71/71 [00:12<00:00,  5.78batch/s]\n",
      "Epoch 108/200, Loss: 3.1641, Train Acc: 0.4712, Val Acc: 0.4353\n"
     ]
    },
    {
     "name": "stdout",
     "output_type": "stream",
     "text": [
      "Epoch 108/200, Loss: 3.1641, Train Acc: 0.4712, Val Acc: 0.4353\n"
     ]
    },
    {
     "name": "stderr",
     "output_type": "stream",
     "text": [
      "Iterating eval graphs: 100%|██████████| 71/71 [00:12<00:00,  5.88batch/s]\n",
      "Epoch 109/200, Loss: 3.2642, Train Acc: 0.4734, Val Acc: 0.4433\n"
     ]
    },
    {
     "name": "stdout",
     "output_type": "stream",
     "text": [
      "Epoch 109/200, Loss: 3.2642, Train Acc: 0.4734, Val Acc: 0.4433\n"
     ]
    },
    {
     "name": "stderr",
     "output_type": "stream",
     "text": [
      "Iterating eval graphs: 100%|██████████| 71/71 [00:12<00:00,  5.60batch/s]\n",
      "Epoch 110/200, Loss: 3.0581, Train Acc: 0.4726, Val Acc: 0.4535\n"
     ]
    },
    {
     "name": "stdout",
     "output_type": "stream",
     "text": [
      "Epoch 110/200, Loss: 3.0581, Train Acc: 0.4726, Val Acc: 0.4535\n"
     ]
    },
    {
     "name": "stderr",
     "output_type": "stream",
     "text": [
      "Iterating eval graphs: 100%|██████████| 71/71 [00:12<00:00,  5.70batch/s]\n",
      "Epoch 111/200, Loss: 3.2315, Train Acc: 0.4719, Val Acc: 0.4468\n"
     ]
    },
    {
     "name": "stdout",
     "output_type": "stream",
     "text": [
      "Epoch 111/200, Loss: 3.2315, Train Acc: 0.4719, Val Acc: 0.4468\n"
     ]
    },
    {
     "name": "stderr",
     "output_type": "stream",
     "text": [
      "Iterating eval graphs: 100%|██████████| 71/71 [00:12<00:00,  5.76batch/s]\n",
      "Epoch 112/200, Loss: 3.1526, Train Acc: 0.4743, Val Acc: 0.4583\n"
     ]
    },
    {
     "name": "stdout",
     "output_type": "stream",
     "text": [
      "Epoch 112/200, Loss: 3.1526, Train Acc: 0.4743, Val Acc: 0.4583\n"
     ]
    },
    {
     "name": "stderr",
     "output_type": "stream",
     "text": [
      "Iterating eval graphs: 100%|██████████| 71/71 [00:12<00:00,  5.86batch/s]\n",
      "Epoch 113/200, Loss: 3.3376, Train Acc: 0.4738, Val Acc: 0.4495\n"
     ]
    },
    {
     "name": "stdout",
     "output_type": "stream",
     "text": [
      "Epoch 113/200, Loss: 3.3376, Train Acc: 0.4738, Val Acc: 0.4495\n"
     ]
    },
    {
     "name": "stderr",
     "output_type": "stream",
     "text": [
      "Iterating eval graphs: 100%|██████████| 71/71 [00:12<00:00,  5.58batch/s]\n",
      "Epoch 114/200, Loss: 3.1262, Train Acc: 0.4814, Val Acc: 0.4530\n"
     ]
    },
    {
     "name": "stdout",
     "output_type": "stream",
     "text": [
      "Epoch 114/200, Loss: 3.1262, Train Acc: 0.4814, Val Acc: 0.4530\n"
     ]
    },
    {
     "name": "stderr",
     "output_type": "stream",
     "text": [
      "Iterating eval graphs: 100%|██████████| 71/71 [00:12<00:00,  5.77batch/s]\n",
      "Epoch 115/200, Loss: 3.1347, Train Acc: 0.4737, Val Acc: 0.4650\n"
     ]
    },
    {
     "name": "stdout",
     "output_type": "stream",
     "text": [
      "Epoch 115/200, Loss: 3.1347, Train Acc: 0.4737, Val Acc: 0.4650\n",
      "Best model updated and saved at /home/onyxia/work/DL-Hackathon/hackaton/checkpoints/model_A_best.pth\n"
     ]
    },
    {
     "name": "stderr",
     "output_type": "stream",
     "text": [
      "Iterating eval graphs: 100%|██████████| 71/71 [00:12<00:00,  5.74batch/s]\n",
      "Epoch 116/200, Loss: 3.0917, Train Acc: 0.4787, Val Acc: 0.4579\n"
     ]
    },
    {
     "name": "stdout",
     "output_type": "stream",
     "text": [
      "Epoch 116/200, Loss: 3.0917, Train Acc: 0.4787, Val Acc: 0.4579\n"
     ]
    },
    {
     "name": "stderr",
     "output_type": "stream",
     "text": [
      "Iterating eval graphs: 100%|██████████| 71/71 [00:12<00:00,  5.72batch/s]\n",
      "Epoch 117/200, Loss: 2.9832, Train Acc: 0.4857, Val Acc: 0.4255\n"
     ]
    },
    {
     "name": "stdout",
     "output_type": "stream",
     "text": [
      "Epoch 117/200, Loss: 2.9832, Train Acc: 0.4857, Val Acc: 0.4255\n"
     ]
    },
    {
     "name": "stderr",
     "output_type": "stream",
     "text": [
      "Iterating eval graphs: 100%|██████████| 71/71 [00:13<00:00,  5.41batch/s]\n",
      "Epoch 118/200, Loss: 2.9384, Train Acc: 0.4818, Val Acc: 0.4601\n"
     ]
    },
    {
     "name": "stdout",
     "output_type": "stream",
     "text": [
      "Epoch 118/200, Loss: 2.9384, Train Acc: 0.4818, Val Acc: 0.4601\n"
     ]
    },
    {
     "name": "stderr",
     "output_type": "stream",
     "text": [
      "Iterating eval graphs: 100%|██████████| 71/71 [00:12<00:00,  5.72batch/s]\n",
      "Epoch 119/200, Loss: 2.8080, Train Acc: 0.4837, Val Acc: 0.4450\n"
     ]
    },
    {
     "name": "stdout",
     "output_type": "stream",
     "text": [
      "Epoch 119/200, Loss: 2.8080, Train Acc: 0.4837, Val Acc: 0.4450\n"
     ]
    },
    {
     "name": "stderr",
     "output_type": "stream",
     "text": [
      "Iterating eval graphs: 100%|██████████| 71/71 [00:12<00:00,  5.91batch/s]\n",
      "Epoch 120/200, Loss: 2.8535, Train Acc: 0.4916, Val Acc: 0.4685\n"
     ]
    },
    {
     "name": "stdout",
     "output_type": "stream",
     "text": [
      "Epoch 120/200, Loss: 2.8535, Train Acc: 0.4916, Val Acc: 0.4685\n",
      "Best model updated and saved at /home/onyxia/work/DL-Hackathon/hackaton/checkpoints/model_A_best.pth\n"
     ]
    },
    {
     "name": "stderr",
     "output_type": "stream",
     "text": [
      "Iterating eval graphs: 100%|██████████| 71/71 [00:12<00:00,  5.66batch/s]\n",
      "Epoch 121/200, Loss: 2.9979, Train Acc: 0.4834, Val Acc: 0.4778\n"
     ]
    },
    {
     "name": "stdout",
     "output_type": "stream",
     "text": [
      "Epoch 121/200, Loss: 2.9979, Train Acc: 0.4834, Val Acc: 0.4778\n",
      "Best model updated and saved at /home/onyxia/work/DL-Hackathon/hackaton/checkpoints/model_A_best.pth\n"
     ]
    },
    {
     "name": "stderr",
     "output_type": "stream",
     "text": [
      "Iterating eval graphs: 100%|██████████| 71/71 [00:12<00:00,  5.74batch/s]\n",
      "Epoch 122/200, Loss: 3.3485, Train Acc: 0.4797, Val Acc: 0.4805\n"
     ]
    },
    {
     "name": "stdout",
     "output_type": "stream",
     "text": [
      "Epoch 122/200, Loss: 3.3485, Train Acc: 0.4797, Val Acc: 0.4805\n",
      "Best model updated and saved at /home/onyxia/work/DL-Hackathon/hackaton/checkpoints/model_A_best.pth\n"
     ]
    },
    {
     "name": "stderr",
     "output_type": "stream",
     "text": [
      "Iterating eval graphs: 100%|██████████| 71/71 [00:12<00:00,  5.72batch/s]\n",
      "Epoch 123/200, Loss: 2.9566, Train Acc: 0.4837, Val Acc: 0.4619\n"
     ]
    },
    {
     "name": "stdout",
     "output_type": "stream",
     "text": [
      "Epoch 123/200, Loss: 2.9566, Train Acc: 0.4837, Val Acc: 0.4619\n"
     ]
    },
    {
     "name": "stderr",
     "output_type": "stream",
     "text": [
      "Iterating eval graphs: 100%|██████████| 71/71 [00:12<00:00,  5.67batch/s]\n",
      "Epoch 124/200, Loss: 3.1648, Train Acc: 0.4828, Val Acc: 0.4730\n"
     ]
    },
    {
     "name": "stdout",
     "output_type": "stream",
     "text": [
      "Epoch 124/200, Loss: 3.1648, Train Acc: 0.4828, Val Acc: 0.4730\n"
     ]
    },
    {
     "name": "stderr",
     "output_type": "stream",
     "text": [
      "Iterating eval graphs: 100%|██████████| 71/71 [00:12<00:00,  5.72batch/s]\n",
      "Epoch 125/200, Loss: 3.0950, Train Acc: 0.4793, Val Acc: 0.4676\n"
     ]
    },
    {
     "name": "stdout",
     "output_type": "stream",
     "text": [
      "Epoch 125/200, Loss: 3.0950, Train Acc: 0.4793, Val Acc: 0.4676\n"
     ]
    },
    {
     "name": "stderr",
     "output_type": "stream",
     "text": [
      "Iterating eval graphs: 100%|██████████| 71/71 [00:12<00:00,  5.69batch/s]\n",
      "Epoch 126/200, Loss: 3.3004, Train Acc: 0.4747, Val Acc: 0.4574\n"
     ]
    },
    {
     "name": "stdout",
     "output_type": "stream",
     "text": [
      "Epoch 126/200, Loss: 3.3004, Train Acc: 0.4747, Val Acc: 0.4574\n"
     ]
    },
    {
     "name": "stderr",
     "output_type": "stream",
     "text": [
      "Iterating eval graphs: 100%|██████████| 71/71 [00:12<00:00,  5.91batch/s]\n",
      "Epoch 127/200, Loss: 2.9487, Train Acc: 0.4878, Val Acc: 0.4770\n"
     ]
    },
    {
     "name": "stdout",
     "output_type": "stream",
     "text": [
      "Epoch 127/200, Loss: 2.9487, Train Acc: 0.4878, Val Acc: 0.4770\n"
     ]
    },
    {
     "name": "stderr",
     "output_type": "stream",
     "text": [
      "Iterating eval graphs: 100%|██████████| 71/71 [00:12<00:00,  5.56batch/s]\n",
      "Epoch 128/200, Loss: 2.8960, Train Acc: 0.4947, Val Acc: 0.4716\n"
     ]
    },
    {
     "name": "stdout",
     "output_type": "stream",
     "text": [
      "Epoch 128/200, Loss: 2.8960, Train Acc: 0.4947, Val Acc: 0.4716\n"
     ]
    },
    {
     "name": "stderr",
     "output_type": "stream",
     "text": [
      "Iterating eval graphs: 100%|██████████| 71/71 [00:12<00:00,  5.91batch/s]\n",
      "Epoch 129/200, Loss: 2.8695, Train Acc: 0.4976, Val Acc: 0.4282\n"
     ]
    },
    {
     "name": "stdout",
     "output_type": "stream",
     "text": [
      "Epoch 129/200, Loss: 2.8695, Train Acc: 0.4976, Val Acc: 0.4282\n"
     ]
    },
    {
     "name": "stderr",
     "output_type": "stream",
     "text": [
      "Iterating eval graphs: 100%|██████████| 71/71 [00:12<00:00,  5.72batch/s]\n",
      "Epoch 130/200, Loss: 2.7949, Train Acc: 0.4963, Val Acc: 0.4557\n"
     ]
    },
    {
     "name": "stdout",
     "output_type": "stream",
     "text": [
      "Epoch 130/200, Loss: 2.7949, Train Acc: 0.4963, Val Acc: 0.4557\n"
     ]
    },
    {
     "name": "stderr",
     "output_type": "stream",
     "text": [
      "Iterating eval graphs: 100%|██████████| 71/71 [00:12<00:00,  5.81batch/s]\n",
      "Epoch 131/200, Loss: 2.8537, Train Acc: 0.4949, Val Acc: 0.4588\n"
     ]
    },
    {
     "name": "stdout",
     "output_type": "stream",
     "text": [
      "Epoch 131/200, Loss: 2.8537, Train Acc: 0.4949, Val Acc: 0.4588\n"
     ]
    },
    {
     "name": "stderr",
     "output_type": "stream",
     "text": [
      "Iterating eval graphs: 100%|██████████| 71/71 [00:12<00:00,  5.57batch/s]\n",
      "Epoch 132/200, Loss: 2.9434, Train Acc: 0.4989, Val Acc: 0.4690\n"
     ]
    },
    {
     "name": "stdout",
     "output_type": "stream",
     "text": [
      "Epoch 132/200, Loss: 2.9434, Train Acc: 0.4989, Val Acc: 0.4690\n"
     ]
    },
    {
     "name": "stderr",
     "output_type": "stream",
     "text": [
      "Iterating eval graphs: 100%|██████████| 71/71 [00:12<00:00,  5.82batch/s]\n",
      "Epoch 133/200, Loss: 2.7632, Train Acc: 0.5028, Val Acc: 0.4637\n"
     ]
    },
    {
     "name": "stdout",
     "output_type": "stream",
     "text": [
      "Epoch 133/200, Loss: 2.7632, Train Acc: 0.5028, Val Acc: 0.4637\n"
     ]
    },
    {
     "name": "stderr",
     "output_type": "stream",
     "text": [
      "Iterating eval graphs: 100%|██████████| 71/71 [00:12<00:00,  5.83batch/s]\n",
      "Epoch 134/200, Loss: 3.0766, Train Acc: 0.4912, Val Acc: 0.4668\n"
     ]
    },
    {
     "name": "stdout",
     "output_type": "stream",
     "text": [
      "Epoch 134/200, Loss: 3.0766, Train Acc: 0.4912, Val Acc: 0.4668\n"
     ]
    },
    {
     "name": "stderr",
     "output_type": "stream",
     "text": [
      "Iterating eval graphs: 100%|██████████| 71/71 [00:12<00:00,  5.78batch/s]\n",
      "Epoch 135/200, Loss: 2.8086, Train Acc: 0.4999, Val Acc: 0.4716\n"
     ]
    },
    {
     "name": "stdout",
     "output_type": "stream",
     "text": [
      "Epoch 135/200, Loss: 2.8086, Train Acc: 0.4999, Val Acc: 0.4716\n"
     ]
    },
    {
     "name": "stderr",
     "output_type": "stream",
     "text": [
      "Iterating eval graphs: 100%|██████████| 71/71 [00:12<00:00,  5.84batch/s]\n",
      "Epoch 136/200, Loss: 2.9726, Train Acc: 0.4918, Val Acc: 0.4207\n"
     ]
    },
    {
     "name": "stdout",
     "output_type": "stream",
     "text": [
      "Epoch 136/200, Loss: 2.9726, Train Acc: 0.4918, Val Acc: 0.4207\n"
     ]
    },
    {
     "name": "stderr",
     "output_type": "stream",
     "text": [
      "Iterating eval graphs: 100%|██████████| 71/71 [00:11<00:00,  5.96batch/s]\n",
      "Epoch 137/200, Loss: 2.8139, Train Acc: 0.4981, Val Acc: 0.4840\n"
     ]
    },
    {
     "name": "stdout",
     "output_type": "stream",
     "text": [
      "Epoch 137/200, Loss: 2.8139, Train Acc: 0.4981, Val Acc: 0.4840\n",
      "Best model updated and saved at /home/onyxia/work/DL-Hackathon/hackaton/checkpoints/model_A_best.pth\n"
     ]
    },
    {
     "name": "stderr",
     "output_type": "stream",
     "text": [
      "Iterating eval graphs: 100%|██████████| 71/71 [00:12<00:00,  5.63batch/s]\n",
      "Epoch 138/200, Loss: 2.6495, Train Acc: 0.5066, Val Acc: 0.4672\n"
     ]
    },
    {
     "name": "stdout",
     "output_type": "stream",
     "text": [
      "Epoch 138/200, Loss: 2.6495, Train Acc: 0.5066, Val Acc: 0.4672\n"
     ]
    },
    {
     "name": "stderr",
     "output_type": "stream",
     "text": [
      "Iterating eval graphs: 100%|██████████| 71/71 [00:12<00:00,  5.65batch/s]\n",
      "Epoch 139/200, Loss: 2.9209, Train Acc: 0.4950, Val Acc: 0.3590\n"
     ]
    },
    {
     "name": "stdout",
     "output_type": "stream",
     "text": [
      "Epoch 139/200, Loss: 2.9209, Train Acc: 0.4950, Val Acc: 0.3590\n"
     ]
    },
    {
     "name": "stderr",
     "output_type": "stream",
     "text": [
      "Iterating eval graphs: 100%|██████████| 71/71 [00:12<00:00,  5.77batch/s]\n",
      "Epoch 140/200, Loss: 3.0122, Train Acc: 0.4924, Val Acc: 0.4623\n"
     ]
    },
    {
     "name": "stdout",
     "output_type": "stream",
     "text": [
      "Epoch 140/200, Loss: 3.0122, Train Acc: 0.4924, Val Acc: 0.4623\n"
     ]
    },
    {
     "name": "stderr",
     "output_type": "stream",
     "text": [
      "Iterating eval graphs: 100%|██████████| 71/71 [00:11<00:00,  5.96batch/s]\n",
      "Epoch 141/200, Loss: 2.7980, Train Acc: 0.4962, Val Acc: 0.4641\n"
     ]
    },
    {
     "name": "stdout",
     "output_type": "stream",
     "text": [
      "Epoch 141/200, Loss: 2.7980, Train Acc: 0.4962, Val Acc: 0.4641\n"
     ]
    },
    {
     "name": "stderr",
     "output_type": "stream",
     "text": [
      "Iterating eval graphs: 100%|██████████| 71/71 [00:12<00:00,  5.59batch/s]\n",
      "Epoch 142/200, Loss: 2.8082, Train Acc: 0.5048, Val Acc: 0.4761\n"
     ]
    },
    {
     "name": "stdout",
     "output_type": "stream",
     "text": [
      "Epoch 142/200, Loss: 2.8082, Train Acc: 0.5048, Val Acc: 0.4761\n"
     ]
    },
    {
     "name": "stderr",
     "output_type": "stream",
     "text": [
      "Iterating eval graphs: 100%|██████████| 71/71 [00:12<00:00,  5.67batch/s]\n",
      "Epoch 143/200, Loss: 2.9986, Train Acc: 0.4950, Val Acc: 0.4570\n"
     ]
    },
    {
     "name": "stdout",
     "output_type": "stream",
     "text": [
      "Epoch 143/200, Loss: 2.9986, Train Acc: 0.4950, Val Acc: 0.4570\n"
     ]
    },
    {
     "name": "stderr",
     "output_type": "stream",
     "text": [
      "Iterating eval graphs: 100%|██████████| 71/71 [00:12<00:00,  5.86batch/s]\n",
      "Epoch 144/200, Loss: 2.8977, Train Acc: 0.4984, Val Acc: 0.4557\n"
     ]
    },
    {
     "name": "stdout",
     "output_type": "stream",
     "text": [
      "Epoch 144/200, Loss: 2.8977, Train Acc: 0.4984, Val Acc: 0.4557\n"
     ]
    },
    {
     "name": "stderr",
     "output_type": "stream",
     "text": [
      "Iterating eval graphs: 100%|██████████| 71/71 [00:12<00:00,  5.77batch/s]\n",
      "Epoch 145/200, Loss: 3.0062, Train Acc: 0.5012, Val Acc: 0.4637\n"
     ]
    },
    {
     "name": "stdout",
     "output_type": "stream",
     "text": [
      "Epoch 145/200, Loss: 3.0062, Train Acc: 0.5012, Val Acc: 0.4637\n"
     ]
    },
    {
     "name": "stderr",
     "output_type": "stream",
     "text": [
      "Iterating eval graphs: 100%|██████████| 71/71 [00:12<00:00,  5.73batch/s]\n",
      "Epoch 146/200, Loss: 2.6841, Train Acc: 0.5135, Val Acc: 0.4641\n"
     ]
    },
    {
     "name": "stdout",
     "output_type": "stream",
     "text": [
      "Epoch 146/200, Loss: 2.6841, Train Acc: 0.5135, Val Acc: 0.4641\n"
     ]
    },
    {
     "name": "stderr",
     "output_type": "stream",
     "text": [
      "Iterating eval graphs: 100%|██████████| 71/71 [00:12<00:00,  5.55batch/s]\n",
      "Epoch 147/200, Loss: 2.8678, Train Acc: 0.5119, Val Acc: 0.4681\n"
     ]
    },
    {
     "name": "stdout",
     "output_type": "stream",
     "text": [
      "Epoch 147/200, Loss: 2.8678, Train Acc: 0.5119, Val Acc: 0.4681\n"
     ]
    },
    {
     "name": "stderr",
     "output_type": "stream",
     "text": [
      "Iterating eval graphs: 100%|██████████| 71/71 [00:12<00:00,  5.77batch/s]\n",
      "Epoch 148/200, Loss: 2.8603, Train Acc: 0.5088, Val Acc: 0.4743\n"
     ]
    },
    {
     "name": "stdout",
     "output_type": "stream",
     "text": [
      "Epoch 148/200, Loss: 2.8603, Train Acc: 0.5088, Val Acc: 0.4743\n"
     ]
    },
    {
     "name": "stderr",
     "output_type": "stream",
     "text": [
      "Iterating eval graphs: 100%|██████████| 71/71 [00:12<00:00,  5.84batch/s]\n",
      "Epoch 149/200, Loss: 2.7682, Train Acc: 0.5092, Val Acc: 0.4814\n"
     ]
    },
    {
     "name": "stdout",
     "output_type": "stream",
     "text": [
      "Epoch 149/200, Loss: 2.7682, Train Acc: 0.5092, Val Acc: 0.4814\n"
     ]
    },
    {
     "name": "stderr",
     "output_type": "stream",
     "text": [
      "Iterating eval graphs: 100%|██████████| 71/71 [00:12<00:00,  5.54batch/s]\n",
      "Epoch 150/200, Loss: 2.8449, Train Acc: 0.5023, Val Acc: 0.4574\n"
     ]
    },
    {
     "name": "stdout",
     "output_type": "stream",
     "text": [
      "Epoch 150/200, Loss: 2.8449, Train Acc: 0.5023, Val Acc: 0.4574\n"
     ]
    },
    {
     "name": "stderr",
     "output_type": "stream",
     "text": [
      "Iterating eval graphs: 100%|██████████| 71/71 [00:12<00:00,  5.88batch/s]\n",
      "Epoch 151/200, Loss: 2.8020, Train Acc: 0.5106, Val Acc: 0.4787\n"
     ]
    },
    {
     "name": "stdout",
     "output_type": "stream",
     "text": [
      "Epoch 151/200, Loss: 2.8020, Train Acc: 0.5106, Val Acc: 0.4787\n"
     ]
    },
    {
     "name": "stderr",
     "output_type": "stream",
     "text": [
      "Iterating eval graphs: 100%|██████████| 71/71 [00:12<00:00,  5.56batch/s]\n",
      "Epoch 152/200, Loss: 2.6991, Train Acc: 0.5121, Val Acc: 0.4770\n"
     ]
    },
    {
     "name": "stdout",
     "output_type": "stream",
     "text": [
      "Epoch 152/200, Loss: 2.6991, Train Acc: 0.5121, Val Acc: 0.4770\n"
     ]
    },
    {
     "name": "stderr",
     "output_type": "stream",
     "text": [
      "Iterating eval graphs: 100%|██████████| 71/71 [00:12<00:00,  5.78batch/s]\n",
      "Epoch 153/200, Loss: 2.8999, Train Acc: 0.5027, Val Acc: 0.4499\n"
     ]
    },
    {
     "name": "stdout",
     "output_type": "stream",
     "text": [
      "Epoch 153/200, Loss: 2.8999, Train Acc: 0.5027, Val Acc: 0.4499\n"
     ]
    },
    {
     "name": "stderr",
     "output_type": "stream",
     "text": [
      "Iterating eval graphs: 100%|██████████| 71/71 [00:12<00:00,  5.77batch/s]\n",
      "Epoch 154/200, Loss: 2.7933, Train Acc: 0.5079, Val Acc: 0.4902\n"
     ]
    },
    {
     "name": "stdout",
     "output_type": "stream",
     "text": [
      "Epoch 154/200, Loss: 2.7933, Train Acc: 0.5079, Val Acc: 0.4902\n",
      "Best model updated and saved at /home/onyxia/work/DL-Hackathon/hackaton/checkpoints/model_A_best.pth\n"
     ]
    },
    {
     "name": "stderr",
     "output_type": "stream",
     "text": [
      "Iterating eval graphs: 100%|██████████| 71/71 [00:11<00:00,  5.96batch/s]\n",
      "Epoch 155/200, Loss: 2.9311, Train Acc: 0.5057, Val Acc: 0.4583\n"
     ]
    },
    {
     "name": "stdout",
     "output_type": "stream",
     "text": [
      "Epoch 155/200, Loss: 2.9311, Train Acc: 0.5057, Val Acc: 0.4583\n"
     ]
    },
    {
     "name": "stderr",
     "output_type": "stream",
     "text": [
      "Iterating eval graphs: 100%|██████████| 71/71 [00:12<00:00,  5.81batch/s]\n",
      "Epoch 156/200, Loss: 2.6706, Train Acc: 0.5093, Val Acc: 0.4716\n"
     ]
    },
    {
     "name": "stdout",
     "output_type": "stream",
     "text": [
      "Epoch 156/200, Loss: 2.6706, Train Acc: 0.5093, Val Acc: 0.4716\n"
     ]
    },
    {
     "name": "stderr",
     "output_type": "stream",
     "text": [
      "Iterating eval graphs: 100%|██████████| 71/71 [00:12<00:00,  5.68batch/s]\n",
      "Epoch 157/200, Loss: 2.6662, Train Acc: 0.5150, Val Acc: 0.4854\n"
     ]
    },
    {
     "name": "stdout",
     "output_type": "stream",
     "text": [
      "Epoch 157/200, Loss: 2.6662, Train Acc: 0.5150, Val Acc: 0.4854\n"
     ]
    },
    {
     "name": "stderr",
     "output_type": "stream",
     "text": [
      "Iterating eval graphs: 100%|██████████| 71/71 [00:12<00:00,  5.73batch/s]\n",
      "Epoch 158/200, Loss: 2.6158, Train Acc: 0.5147, Val Acc: 0.4827\n"
     ]
    },
    {
     "name": "stdout",
     "output_type": "stream",
     "text": [
      "Epoch 158/200, Loss: 2.6158, Train Acc: 0.5147, Val Acc: 0.4827\n"
     ]
    },
    {
     "name": "stderr",
     "output_type": "stream",
     "text": [
      "Iterating eval graphs: 100%|██████████| 71/71 [00:11<00:00,  5.95batch/s]\n",
      "Epoch 159/200, Loss: 2.8951, Train Acc: 0.5068, Val Acc: 0.4774\n"
     ]
    },
    {
     "name": "stdout",
     "output_type": "stream",
     "text": [
      "Epoch 159/200, Loss: 2.8951, Train Acc: 0.5068, Val Acc: 0.4774\n"
     ]
    },
    {
     "name": "stderr",
     "output_type": "stream",
     "text": [
      "Iterating eval graphs: 100%|██████████| 71/71 [00:12<00:00,  5.82batch/s]\n",
      "Epoch 160/200, Loss: 2.6757, Train Acc: 0.5152, Val Acc: 0.4645\n"
     ]
    },
    {
     "name": "stdout",
     "output_type": "stream",
     "text": [
      "Epoch 160/200, Loss: 2.6757, Train Acc: 0.5152, Val Acc: 0.4645\n"
     ]
    },
    {
     "name": "stderr",
     "output_type": "stream",
     "text": [
      "Iterating eval graphs: 100%|██████████| 71/71 [00:12<00:00,  5.79batch/s]\n",
      "Epoch 161/200, Loss: 2.6470, Train Acc: 0.5175, Val Acc: 0.4956\n"
     ]
    },
    {
     "name": "stdout",
     "output_type": "stream",
     "text": [
      "Epoch 161/200, Loss: 2.6470, Train Acc: 0.5175, Val Acc: 0.4956\n",
      "Best model updated and saved at /home/onyxia/work/DL-Hackathon/hackaton/checkpoints/model_A_best.pth\n"
     ]
    },
    {
     "name": "stderr",
     "output_type": "stream",
     "text": [
      "Iterating eval graphs: 100%|██████████| 71/71 [00:12<00:00,  5.65batch/s]\n",
      "Epoch 162/200, Loss: 2.6985, Train Acc: 0.5214, Val Acc: 0.4894\n"
     ]
    },
    {
     "name": "stdout",
     "output_type": "stream",
     "text": [
      "Epoch 162/200, Loss: 2.6985, Train Acc: 0.5214, Val Acc: 0.4894\n"
     ]
    },
    {
     "name": "stderr",
     "output_type": "stream",
     "text": [
      "Iterating eval graphs: 100%|██████████| 71/71 [00:12<00:00,  5.85batch/s]\n",
      "Epoch 163/200, Loss: 2.6825, Train Acc: 0.5202, Val Acc: 0.4934\n"
     ]
    },
    {
     "name": "stdout",
     "output_type": "stream",
     "text": [
      "Epoch 163/200, Loss: 2.6825, Train Acc: 0.5202, Val Acc: 0.4934\n"
     ]
    },
    {
     "name": "stderr",
     "output_type": "stream",
     "text": [
      "Iterating eval graphs: 100%|██████████| 71/71 [00:12<00:00,  5.72batch/s]\n",
      "Epoch 164/200, Loss: 2.6225, Train Acc: 0.5211, Val Acc: 0.4823\n"
     ]
    },
    {
     "name": "stdout",
     "output_type": "stream",
     "text": [
      "Epoch 164/200, Loss: 2.6225, Train Acc: 0.5211, Val Acc: 0.4823\n"
     ]
    },
    {
     "name": "stderr",
     "output_type": "stream",
     "text": [
      "Iterating eval graphs: 100%|██████████| 71/71 [00:12<00:00,  5.79batch/s]\n",
      "Epoch 165/200, Loss: 2.6135, Train Acc: 0.5193, Val Acc: 0.4889\n"
     ]
    },
    {
     "name": "stdout",
     "output_type": "stream",
     "text": [
      "Epoch 165/200, Loss: 2.6135, Train Acc: 0.5193, Val Acc: 0.4889\n"
     ]
    },
    {
     "name": "stderr",
     "output_type": "stream",
     "text": [
      "Iterating eval graphs: 100%|██████████| 71/71 [00:12<00:00,  5.83batch/s]\n",
      "Epoch 166/200, Loss: 2.7148, Train Acc: 0.5157, Val Acc: 0.4823\n"
     ]
    },
    {
     "name": "stdout",
     "output_type": "stream",
     "text": [
      "Epoch 166/200, Loss: 2.7148, Train Acc: 0.5157, Val Acc: 0.4823\n"
     ]
    },
    {
     "name": "stderr",
     "output_type": "stream",
     "text": [
      "Iterating eval graphs: 100%|██████████| 71/71 [00:12<00:00,  5.55batch/s]\n",
      "Epoch 167/200, Loss: 2.8344, Train Acc: 0.5111, Val Acc: 0.4282\n"
     ]
    },
    {
     "name": "stdout",
     "output_type": "stream",
     "text": [
      "Epoch 167/200, Loss: 2.8344, Train Acc: 0.5111, Val Acc: 0.4282\n"
     ]
    },
    {
     "name": "stderr",
     "output_type": "stream",
     "text": [
      "Iterating eval graphs: 100%|██████████| 71/71 [00:12<00:00,  5.79batch/s]\n",
      "Epoch 168/200, Loss: 2.7398, Train Acc: 0.5068, Val Acc: 0.4734\n"
     ]
    },
    {
     "name": "stdout",
     "output_type": "stream",
     "text": [
      "Epoch 168/200, Loss: 2.7398, Train Acc: 0.5068, Val Acc: 0.4734\n"
     ]
    },
    {
     "name": "stderr",
     "output_type": "stream",
     "text": [
      "Iterating eval graphs: 100%|██████████| 71/71 [00:12<00:00,  5.68batch/s]\n",
      "Epoch 169/200, Loss: 2.6345, Train Acc: 0.5180, Val Acc: 0.5098\n"
     ]
    },
    {
     "name": "stdout",
     "output_type": "stream",
     "text": [
      "Epoch 169/200, Loss: 2.6345, Train Acc: 0.5180, Val Acc: 0.5098\n",
      "Best model updated and saved at /home/onyxia/work/DL-Hackathon/hackaton/checkpoints/model_A_best.pth\n"
     ]
    },
    {
     "name": "stderr",
     "output_type": "stream",
     "text": [
      "Iterating eval graphs: 100%|██████████| 71/71 [00:12<00:00,  5.82batch/s]\n",
      "Epoch 170/200, Loss: 2.6575, Train Acc: 0.5153, Val Acc: 0.4761\n"
     ]
    },
    {
     "name": "stdout",
     "output_type": "stream",
     "text": [
      "Epoch 170/200, Loss: 2.6575, Train Acc: 0.5153, Val Acc: 0.4761\n"
     ]
    },
    {
     "name": "stderr",
     "output_type": "stream",
     "text": [
      "Iterating eval graphs: 100%|██████████| 71/71 [00:12<00:00,  5.84batch/s]\n",
      "Epoch 171/200, Loss: 2.7293, Train Acc: 0.5143, Val Acc: 0.4778\n"
     ]
    },
    {
     "name": "stdout",
     "output_type": "stream",
     "text": [
      "Epoch 171/200, Loss: 2.7293, Train Acc: 0.5143, Val Acc: 0.4778\n"
     ]
    },
    {
     "name": "stderr",
     "output_type": "stream",
     "text": [
      "Iterating eval graphs: 100%|██████████| 71/71 [00:12<00:00,  5.85batch/s]\n",
      "Epoch 172/200, Loss: 2.5675, Train Acc: 0.5217, Val Acc: 0.4907\n"
     ]
    },
    {
     "name": "stdout",
     "output_type": "stream",
     "text": [
      "Epoch 172/200, Loss: 2.5675, Train Acc: 0.5217, Val Acc: 0.4907\n"
     ]
    },
    {
     "name": "stderr",
     "output_type": "stream",
     "text": [
      "Iterating eval graphs: 100%|██████████| 71/71 [00:12<00:00,  5.83batch/s]\n",
      "Epoch 173/200, Loss: 2.5287, Train Acc: 0.5267, Val Acc: 0.4845\n"
     ]
    },
    {
     "name": "stdout",
     "output_type": "stream",
     "text": [
      "Epoch 173/200, Loss: 2.5287, Train Acc: 0.5267, Val Acc: 0.4845\n"
     ]
    },
    {
     "name": "stderr",
     "output_type": "stream",
     "text": [
      "Iterating eval graphs: 100%|██████████| 71/71 [00:11<00:00,  5.97batch/s]\n",
      "Epoch 174/200, Loss: 2.6138, Train Acc: 0.5260, Val Acc: 0.4752\n"
     ]
    },
    {
     "name": "stdout",
     "output_type": "stream",
     "text": [
      "Epoch 174/200, Loss: 2.6138, Train Acc: 0.5260, Val Acc: 0.4752\n"
     ]
    },
    {
     "name": "stderr",
     "output_type": "stream",
     "text": [
      "Iterating eval graphs: 100%|██████████| 71/71 [00:12<00:00,  5.75batch/s]\n",
      "Epoch 175/200, Loss: 2.6349, Train Acc: 0.5204, Val Acc: 0.4707\n"
     ]
    },
    {
     "name": "stdout",
     "output_type": "stream",
     "text": [
      "Epoch 175/200, Loss: 2.6349, Train Acc: 0.5204, Val Acc: 0.4707\n"
     ]
    },
    {
     "name": "stderr",
     "output_type": "stream",
     "text": [
      "Iterating eval graphs: 100%|██████████| 71/71 [00:12<00:00,  5.63batch/s]\n",
      "Epoch 176/200, Loss: 2.6204, Train Acc: 0.5236, Val Acc: 0.4880\n"
     ]
    },
    {
     "name": "stdout",
     "output_type": "stream",
     "text": [
      "Epoch 176/200, Loss: 2.6204, Train Acc: 0.5236, Val Acc: 0.4880\n"
     ]
    },
    {
     "name": "stderr",
     "output_type": "stream",
     "text": [
      "Iterating eval graphs: 100%|██████████| 71/71 [00:12<00:00,  5.64batch/s]\n",
      "Epoch 177/200, Loss: 2.6652, Train Acc: 0.5312, Val Acc: 0.4880\n"
     ]
    },
    {
     "name": "stdout",
     "output_type": "stream",
     "text": [
      "Epoch 177/200, Loss: 2.6652, Train Acc: 0.5312, Val Acc: 0.4880\n"
     ]
    },
    {
     "name": "stderr",
     "output_type": "stream",
     "text": [
      "Iterating eval graphs: 100%|██████████| 71/71 [00:12<00:00,  5.75batch/s]\n",
      "Epoch 178/200, Loss: 2.7217, Train Acc: 0.5260, Val Acc: 0.4504\n"
     ]
    },
    {
     "name": "stdout",
     "output_type": "stream",
     "text": [
      "Epoch 178/200, Loss: 2.7217, Train Acc: 0.5260, Val Acc: 0.4504\n"
     ]
    },
    {
     "name": "stderr",
     "output_type": "stream",
     "text": [
      "Iterating eval graphs: 100%|██████████| 71/71 [00:12<00:00,  5.85batch/s]\n",
      "Epoch 179/200, Loss: 2.5903, Train Acc: 0.5219, Val Acc: 0.4960\n"
     ]
    },
    {
     "name": "stdout",
     "output_type": "stream",
     "text": [
      "Epoch 179/200, Loss: 2.5903, Train Acc: 0.5219, Val Acc: 0.4960\n"
     ]
    },
    {
     "name": "stderr",
     "output_type": "stream",
     "text": [
      "Iterating eval graphs: 100%|██████████| 71/71 [00:12<00:00,  5.84batch/s]\n",
      "Epoch 180/200, Loss: 2.6179, Train Acc: 0.5245, Val Acc: 0.4685\n"
     ]
    },
    {
     "name": "stdout",
     "output_type": "stream",
     "text": [
      "Epoch 180/200, Loss: 2.6179, Train Acc: 0.5245, Val Acc: 0.4685\n"
     ]
    },
    {
     "name": "stderr",
     "output_type": "stream",
     "text": [
      "Iterating eval graphs: 100%|██████████| 71/71 [00:12<00:00,  5.75batch/s]\n",
      "Epoch 181/200, Loss: 2.7222, Train Acc: 0.5244, Val Acc: 0.4801\n"
     ]
    },
    {
     "name": "stdout",
     "output_type": "stream",
     "text": [
      "Epoch 181/200, Loss: 2.7222, Train Acc: 0.5244, Val Acc: 0.4801\n"
     ]
    },
    {
     "name": "stderr",
     "output_type": "stream",
     "text": [
      "Iterating eval graphs: 100%|██████████| 71/71 [00:12<00:00,  5.88batch/s]\n",
      "Epoch 182/200, Loss: 2.5586, Train Acc: 0.5298, Val Acc: 0.4832\n"
     ]
    },
    {
     "name": "stdout",
     "output_type": "stream",
     "text": [
      "Epoch 182/200, Loss: 2.5586, Train Acc: 0.5298, Val Acc: 0.4832\n"
     ]
    },
    {
     "name": "stderr",
     "output_type": "stream",
     "text": [
      "Iterating eval graphs: 100%|██████████| 71/71 [00:12<00:00,  5.71batch/s]\n",
      "Epoch 183/200, Loss: 2.6818, Train Acc: 0.5230, Val Acc: 0.4605\n"
     ]
    },
    {
     "name": "stdout",
     "output_type": "stream",
     "text": [
      "Epoch 183/200, Loss: 2.6818, Train Acc: 0.5230, Val Acc: 0.4605\n"
     ]
    },
    {
     "name": "stderr",
     "output_type": "stream",
     "text": [
      "Iterating eval graphs: 100%|██████████| 71/71 [00:12<00:00,  5.74batch/s]\n",
      "Epoch 184/200, Loss: 2.6488, Train Acc: 0.5280, Val Acc: 0.4818\n"
     ]
    },
    {
     "name": "stdout",
     "output_type": "stream",
     "text": [
      "Epoch 184/200, Loss: 2.6488, Train Acc: 0.5280, Val Acc: 0.4818\n"
     ]
    },
    {
     "name": "stderr",
     "output_type": "stream",
     "text": [
      "Iterating eval graphs: 100%|██████████| 71/71 [00:12<00:00,  5.84batch/s]\n",
      "Epoch 185/200, Loss: 2.5805, Train Acc: 0.5268, Val Acc: 0.4965\n"
     ]
    },
    {
     "name": "stdout",
     "output_type": "stream",
     "text": [
      "Epoch 185/200, Loss: 2.5805, Train Acc: 0.5268, Val Acc: 0.4965\n"
     ]
    },
    {
     "name": "stderr",
     "output_type": "stream",
     "text": [
      "Iterating eval graphs: 100%|██████████| 71/71 [00:12<00:00,  5.63batch/s]\n",
      "Epoch 186/200, Loss: 2.5166, Train Acc: 0.5304, Val Acc: 0.4730\n"
     ]
    },
    {
     "name": "stdout",
     "output_type": "stream",
     "text": [
      "Epoch 186/200, Loss: 2.5166, Train Acc: 0.5304, Val Acc: 0.4730\n"
     ]
    },
    {
     "name": "stderr",
     "output_type": "stream",
     "text": [
      "Iterating eval graphs: 100%|██████████| 71/71 [00:12<00:00,  5.52batch/s]\n",
      "Epoch 187/200, Loss: 2.6436, Train Acc: 0.5303, Val Acc: 0.4787\n"
     ]
    },
    {
     "name": "stdout",
     "output_type": "stream",
     "text": [
      "Epoch 187/200, Loss: 2.6436, Train Acc: 0.5303, Val Acc: 0.4787\n"
     ]
    },
    {
     "name": "stderr",
     "output_type": "stream",
     "text": [
      "Iterating eval graphs: 100%|██████████| 71/71 [00:12<00:00,  5.77batch/s]\n",
      "Epoch 188/200, Loss: 2.7057, Train Acc: 0.5267, Val Acc: 0.5027\n"
     ]
    },
    {
     "name": "stdout",
     "output_type": "stream",
     "text": [
      "Epoch 188/200, Loss: 2.7057, Train Acc: 0.5267, Val Acc: 0.5027\n"
     ]
    },
    {
     "name": "stderr",
     "output_type": "stream",
     "text": [
      "Iterating eval graphs: 100%|██████████| 71/71 [00:12<00:00,  5.81batch/s]\n",
      "Epoch 189/200, Loss: 2.4754, Train Acc: 0.5325, Val Acc: 0.4934\n"
     ]
    },
    {
     "name": "stdout",
     "output_type": "stream",
     "text": [
      "Epoch 189/200, Loss: 2.4754, Train Acc: 0.5325, Val Acc: 0.4934\n"
     ]
    },
    {
     "name": "stderr",
     "output_type": "stream",
     "text": [
      "Iterating eval graphs: 100%|██████████| 71/71 [00:12<00:00,  5.69batch/s]\n",
      "Epoch 190/200, Loss: 2.6122, Train Acc: 0.5317, Val Acc: 0.4960\n"
     ]
    },
    {
     "name": "stdout",
     "output_type": "stream",
     "text": [
      "Epoch 190/200, Loss: 2.6122, Train Acc: 0.5317, Val Acc: 0.4960\n"
     ]
    },
    {
     "name": "stderr",
     "output_type": "stream",
     "text": [
      "Iterating eval graphs: 100%|██████████| 71/71 [00:12<00:00,  5.70batch/s]\n",
      "Epoch 191/200, Loss: 2.4423, Train Acc: 0.5439, Val Acc: 0.4907\n"
     ]
    },
    {
     "name": "stdout",
     "output_type": "stream",
     "text": [
      "Epoch 191/200, Loss: 2.4423, Train Acc: 0.5439, Val Acc: 0.4907\n"
     ]
    },
    {
     "name": "stderr",
     "output_type": "stream",
     "text": [
      "Iterating eval graphs: 100%|██████████| 71/71 [00:12<00:00,  5.81batch/s]\n",
      "Epoch 192/200, Loss: 2.5474, Train Acc: 0.5321, Val Acc: 0.5084\n"
     ]
    },
    {
     "name": "stdout",
     "output_type": "stream",
     "text": [
      "Epoch 192/200, Loss: 2.5474, Train Acc: 0.5321, Val Acc: 0.5084\n"
     ]
    },
    {
     "name": "stderr",
     "output_type": "stream",
     "text": [
      "Iterating eval graphs: 100%|██████████| 71/71 [00:12<00:00,  5.79batch/s]\n",
      "Epoch 193/200, Loss: 2.4495, Train Acc: 0.5399, Val Acc: 0.4863\n"
     ]
    },
    {
     "name": "stdout",
     "output_type": "stream",
     "text": [
      "Epoch 193/200, Loss: 2.4495, Train Acc: 0.5399, Val Acc: 0.4863\n"
     ]
    },
    {
     "name": "stderr",
     "output_type": "stream",
     "text": [
      "Iterating eval graphs: 100%|██████████| 71/71 [00:12<00:00,  5.77batch/s]\n",
      "Epoch 194/200, Loss: 2.4446, Train Acc: 0.5382, Val Acc: 0.5022\n"
     ]
    },
    {
     "name": "stdout",
     "output_type": "stream",
     "text": [
      "Epoch 194/200, Loss: 2.4446, Train Acc: 0.5382, Val Acc: 0.5022\n"
     ]
    },
    {
     "name": "stderr",
     "output_type": "stream",
     "text": [
      "Iterating eval graphs: 100%|██████████| 71/71 [00:12<00:00,  5.61batch/s]\n",
      "Epoch 195/200, Loss: 2.3398, Train Acc: 0.5439, Val Acc: 0.5018\n"
     ]
    },
    {
     "name": "stdout",
     "output_type": "stream",
     "text": [
      "Epoch 195/200, Loss: 2.3398, Train Acc: 0.5439, Val Acc: 0.5018\n"
     ]
    },
    {
     "name": "stderr",
     "output_type": "stream",
     "text": [
      "Iterating eval graphs: 100%|██████████| 71/71 [00:12<00:00,  5.67batch/s]\n",
      "Epoch 196/200, Loss: 2.3725, Train Acc: 0.5493, Val Acc: 0.5000\n"
     ]
    },
    {
     "name": "stdout",
     "output_type": "stream",
     "text": [
      "Epoch 196/200, Loss: 2.3725, Train Acc: 0.5493, Val Acc: 0.5000\n"
     ]
    },
    {
     "name": "stderr",
     "output_type": "stream",
     "text": [
      "Iterating eval graphs: 100%|██████████| 71/71 [00:12<00:00,  5.76batch/s]\n",
      "Epoch 197/200, Loss: 2.4920, Train Acc: 0.5409, Val Acc: 0.4978\n"
     ]
    },
    {
     "name": "stdout",
     "output_type": "stream",
     "text": [
      "Epoch 197/200, Loss: 2.4920, Train Acc: 0.5409, Val Acc: 0.4978\n"
     ]
    },
    {
     "name": "stderr",
     "output_type": "stream",
     "text": [
      "Iterating eval graphs: 100%|██████████| 71/71 [00:12<00:00,  5.75batch/s]\n",
      "Epoch 198/200, Loss: 2.4721, Train Acc: 0.5376, Val Acc: 0.5040\n"
     ]
    },
    {
     "name": "stdout",
     "output_type": "stream",
     "text": [
      "Epoch 198/200, Loss: 2.4721, Train Acc: 0.5376, Val Acc: 0.5040\n"
     ]
    },
    {
     "name": "stderr",
     "output_type": "stream",
     "text": [
      "Iterating eval graphs: 100%|██████████| 71/71 [00:12<00:00,  5.75batch/s]\n",
      "Epoch 199/200, Loss: 2.4163, Train Acc: 0.5493, Val Acc: 0.4996\n"
     ]
    },
    {
     "name": "stdout",
     "output_type": "stream",
     "text": [
      "Epoch 199/200, Loss: 2.4163, Train Acc: 0.5493, Val Acc: 0.4996\n"
     ]
    },
    {
     "name": "stderr",
     "output_type": "stream",
     "text": [
      "Iterating eval graphs: 100%|██████████| 71/71 [00:12<00:00,  5.83batch/s]\n",
      "Epoch 200/200, Loss: 2.5348, Train Acc: 0.5410, Val Acc: 0.4663\n"
     ]
    },
    {
     "name": "stdout",
     "output_type": "stream",
     "text": [
      "Epoch 200/200, Loss: 2.5348, Train Acc: 0.5410, Val Acc: 0.4663\n"
     ]
    }
   ],
   "source": [
    "from torch.optim.lr_scheduler import ReduceLROnPlateau\n",
    "\n",
    "if args.train_path:\n",
    "    full_dataset = GraphDataset(args.train_path, transform=add_zeros)\n",
    "    val_size = int(0.2 * len(full_dataset))\n",
    "    train_size = len(full_dataset) - val_size\n",
    "\n",
    "    generator = torch.Generator().manual_seed(12)\n",
    "    train_dataset, val_dataset = random_split(full_dataset, [train_size, val_size], generator=generator)\n",
    "\n",
    "    train_dataset = IndexedSubDataset(train_dataset)\n",
    "\n",
    "    if args.baseline_mode == 2:\n",
    "\n",
    "        u = nn.Parameter(torch.zeros(len(train_dataset), device=device))\n",
    "        optimizer_u = torch.optim.Adam([u], lr=1)\n",
    "        optimizer_theta = torch.optim.Adam(model.parameters(), lr=0.001, weight_decay=1e-4)\n",
    "\n",
    "        #scheduler = ReduceLROnPlateau(\n",
    "        #optimizer_theta, \n",
    "        #mode='max',           # maximiser val_acc\n",
    "        #factor=0.5,           # réduction du LR par 2\n",
    "        #patience=5,           # n epochs sans amélioration\n",
    "        #threshold=1e-3,       # tolérance d’amélioration\n",
    "        #min_lr=1e-6           # LR minimum\n",
    "        #)\n",
    "\n",
    "\n",
    "        \n",
    "        criterion = GCODLoss(num_classes=6, alpha=1.0, beta=1.0)\n",
    "\n",
    "\n",
    "    train_loader = DataLoader(train_dataset, batch_size=args.batch_size, shuffle=False)  # shuffle=False mandatory, not to loose indexes ?\n",
    "    val_loader = DataLoader(val_dataset, batch_size=args.batch_size, shuffle=False)\n",
    "\n",
    "    num_epochs = args.epochs\n",
    "    best_val_accuracy = 0.0\n",
    "\n",
    "    train_losses = []\n",
    "    train_accuracies = []\n",
    "    val_losses = []\n",
    "    val_accuracies = []\n",
    "\n",
    "    if num_checkpoints > 1:\n",
    "        checkpoint_intervals = [int((i + 1) * num_epochs / num_checkpoints) for i in range(num_checkpoints)]\n",
    "    else:\n",
    "        checkpoint_intervals = [num_epochs]\n",
    "\n",
    "    for epoch in range(num_epochs):\n",
    "        train_loss, train_acc = train(\n",
    "            train_loader, model, optimizer_theta, optimizer_u, criterion, device\n",
    "        )\n",
    "\n",
    "        val_loss, val_acc = evaluate(val_loader, model, device, calculate_accuracy=True)\n",
    "\n",
    "        print(f\"Epoch {epoch + 1}/{num_epochs}, Loss: {train_loss:.4f}, Train Acc: {train_acc:.4f}, Val Acc: {val_acc:.4f}\")\n",
    "        logging.info(f\"Epoch {epoch + 1}/{num_epochs}, Loss: {train_loss:.4f}, Train Acc: {train_acc:.4f}, Val Acc: {val_acc:.4f}\")\n",
    "\n",
    "        train_losses.append(train_loss)\n",
    "        train_accuracies.append(train_acc)\n",
    "        val_losses.append(val_loss)\n",
    "        val_accuracies.append(val_acc)\n",
    "\n",
    "        # 🔽 Appel du scheduler avec la métrique à surveiller\n",
    "        #scheduler.step(val_acc)\n",
    "\n",
    "        if val_acc > best_val_accuracy:\n",
    "            best_val_accuracy = val_acc\n",
    "            torch.save(model.state_dict(), checkpoint_path)\n",
    "            print(f\"Best model updated and saved at {checkpoint_path}\")\n",
    "\n",
    "    plot_training_progress(train_losses, train_accuracies, os.path.join(logs_folder, \"plots\"))\n",
    "    plot_training_progress(val_losses, val_accuracies, os.path.join(logs_folder, \"plotsVal\"))"
   ]
  },
  {
   "cell_type": "code",
   "execution_count": 22,
   "id": "07594aff",
   "metadata": {
    "papermill": {
     "duration": null,
     "end_time": null,
     "exception": null,
     "start_time": null,
     "status": "pending"
    },
    "tags": []
   },
   "outputs": [
    {
     "data": {
      "text/plain": [
       "13308"
      ]
     },
     "execution_count": 22,
     "metadata": {},
     "output_type": "execute_result"
    }
   ],
   "source": [
    "import gc\n",
    "del train_dataset\n",
    "del train_loader\n",
    "del full_dataset\n",
    "del val_dataset\n",
    "del val_loader\n",
    "gc.collect()"
   ]
  },
  {
   "cell_type": "code",
   "execution_count": 23,
   "id": "ba668fff",
   "metadata": {
    "id": "xsXZIj4Mdu3I",
    "papermill": {
     "duration": null,
     "end_time": null,
     "exception": null,
     "start_time": null,
     "status": "pending"
    },
    "tags": []
   },
   "outputs": [],
   "source": [
    "test_dataset = GraphDataset(args.test_path, transform=add_zeros)\n",
    "test_loader = DataLoader(test_dataset, batch_size=args.batch_size, shuffle=False)"
   ]
  },
  {
   "cell_type": "code",
   "execution_count": 24,
   "id": "7828e983",
   "metadata": {
    "id": "x1OnGq_nCmTr",
    "papermill": {
     "duration": null,
     "end_time": null,
     "exception": null,
     "start_time": null,
     "status": "pending"
    },
    "tags": []
   },
   "outputs": [
    {
     "name": "stderr",
     "output_type": "stream",
     "text": [
      "Iterating eval graphs: 100%|██████████| 74/74 [00:11<00:00,  6.27batch/s]"
     ]
    },
    {
     "name": "stdout",
     "output_type": "stream",
     "text": [
      "Predictions saved to /home/onyxia/work/DL-Hackathon/hackaton/submission/testset_A.csv\n"
     ]
    },
    {
     "name": "stderr",
     "output_type": "stream",
     "text": [
      "\n"
     ]
    },
    {
     "name": "stderr",
     "output_type": "stream",
     "text": [
      "\n"
     ]
    }
   ],
   "source": [
    "model.load_state_dict(torch.load(checkpoint_path))\n",
    "predictions = evaluate(test_loader, model, device, calculate_accuracy=False)\n",
    "save_predictions(predictions, args.test_path)"
   ]
  },
  {
   "cell_type": "code",
   "execution_count": null,
   "id": "729eea6c-f238-4c5b-a8e4-9aa0cbfd2d18",
   "metadata": {},
   "outputs": [],
   "source": []
  },
  {
   "cell_type": "markdown",
   "id": "c852a501-a976-46bb-8a27-08bddf896ca6",
   "metadata": {},
   "source": [
    "# B"
   ]
  },
  {
   "cell_type": "code",
   "execution_count": 25,
   "id": "a75b1990-855b-4b01-b35f-1bae2ef504a7",
   "metadata": {},
   "outputs": [],
   "source": [
    "args.train_path = 'datasets/B/train.json.gz'\n",
    "args.test_path = 'datasets/B/test.json.gz'"
   ]
  },
  {
   "cell_type": "code",
   "execution_count": 26,
   "id": "c99cc63c-a659-4bca-b588-6dbf547a7581",
   "metadata": {
    "id": "lHX55XGECXBr",
    "papermill": {
     "duration": null,
     "end_time": null,
     "exception": null,
     "start_time": null,
     "status": "pending"
    },
    "tags": []
   },
   "outputs": [],
   "source": [
    "script_dir = os.getcwd() \n",
    "# device = torch.device(f\"cuda:{args.device}\" if torch.cuda.is_available() else \"cpu\")\n",
    "device = torch.device(\"cuda\" if torch.cuda.is_available() else \"cpu\")\n",
    "num_checkpoints = args.num_checkpoints if args.num_checkpoints else 3\n",
    "    \n",
    "if args.gnn == 'gin':\n",
    "    model = GNN(gnn_type='gin', num_class=6, num_layer=args.num_layer, emb_dim=args.emb_dim, drop_ratio=args.drop_ratio, virtual_node=False).to(device)\n",
    "elif args.gnn == 'gin-virtual':\n",
    "    model = GNN(gnn_type='gin', num_class=6, num_layer=args.num_layer, emb_dim=args.emb_dim, drop_ratio=args.drop_ratio, virtual_node=True).to(device)\n",
    "elif args.gnn == 'gcn':\n",
    "    model = GNN(gnn_type='gcn', num_class=6, num_layer=args.num_layer, emb_dim=args.emb_dim, drop_ratio=args.drop_ratio, virtual_node=False).to(device)\n",
    "elif args.gnn == 'gcn-virtual':\n",
    "    model = GNN(gnn_type='gcn', num_class=6, num_layer=args.num_layer, emb_dim=args.emb_dim, drop_ratio=args.drop_ratio, virtual_node=True).to(device)\n",
    "else:\n",
    "    raise ValueError('Invalid GNN type')\n",
    "    \n",
    "optimizer = torch.optim.Adam(model.parameters(), lr=0.001)\n",
    "# criterion = torch.nn.CrossEntropyLoss()\n",
    "if args.baseline_mode == 2:\n",
    "    # We initializa criterion and optimizers in the cell after the definition of full_dataset, as we need train_size\n",
    "    pass\n",
    "else:\n",
    "    criterion = torch.nn.CrossEntropyLoss()"
   ]
  },
  {
   "cell_type": "code",
   "execution_count": 27,
   "id": "c9536867-c85f-4583-b753-ddd92ef62bc3",
   "metadata": {
    "id": "BTYT5jYuChPb",
    "papermill": {
     "duration": null,
     "end_time": null,
     "exception": null,
     "start_time": null,
     "status": "pending"
    },
    "tags": []
   },
   "outputs": [],
   "source": [
    "test_dir_name = os.path.basename(os.path.dirname(args.test_path))\n",
    "logs_folder = os.path.join(script_dir, \"logs\", test_dir_name)\n",
    "log_file = os.path.join(logs_folder, \"training.log\")\n",
    "os.makedirs(os.path.dirname(log_file), exist_ok=True)\n",
    "logging.basicConfig(filename=log_file, level=logging.INFO, format='%(asctime)s - %(message)s')\n",
    "logging.getLogger().addHandler(logging.StreamHandler())\n",
    "\n",
    "checkpoint_path = os.path.join(script_dir, \"checkpoints\", f\"model_{test_dir_name}_best.pth\")\n",
    "checkpoints_folder = os.path.join(script_dir, \"checkpoints\", test_dir_name)\n",
    "os.makedirs(checkpoints_folder, exist_ok=True)\n"
   ]
  },
  {
   "cell_type": "code",
   "execution_count": 28,
   "id": "8bbc1c28-9391-4ce8-bc9e-3a55501b50f1",
   "metadata": {
    "papermill": {
     "duration": null,
     "end_time": null,
     "exception": null,
     "start_time": null,
     "status": "pending"
    },
    "tags": []
   },
   "outputs": [],
   "source": [
    "if os.path.exists(checkpoint_path) and not args.train_path:\n",
    "    model.load_state_dict(torch.load(checkpoint_path))\n",
    "    print(f\"Loaded best model from {checkpoint_path}\")"
   ]
  },
  {
   "cell_type": "code",
   "execution_count": 29,
   "id": "104cc5ea-147b-42c7-a4e8-92c4b4a41789",
   "metadata": {},
   "outputs": [
    {
     "name": "stderr",
     "output_type": "stream",
     "text": [
      "Iterating eval graphs: 100%|██████████| 35/35 [00:05<00:00,  5.90batch/s]\n",
      "Epoch 1/200, Loss: 1.7810, Train Acc: 0.3085, Val Acc: 0.3777\n",
      "Epoch 1/200, Loss: 1.7810, Train Acc: 0.3085, Val Acc: 0.3777\n"
     ]
    },
    {
     "name": "stdout",
     "output_type": "stream",
     "text": [
      "Epoch 1/200, Loss: 1.7810, Train Acc: 0.3085, Val Acc: 0.3777\n",
      "Best model updated and saved at /home/onyxia/work/DL-Hackathon/hackaton/checkpoints/model_B_best.pth\n"
     ]
    },
    {
     "name": "stderr",
     "output_type": "stream",
     "text": [
      "Iterating eval graphs: 100%|██████████| 35/35 [00:05<00:00,  6.41batch/s]\n",
      "Epoch 2/200, Loss: 6.3690, Train Acc: 0.2949, Val Acc: 0.3500\n",
      "Epoch 2/200, Loss: 6.3690, Train Acc: 0.2949, Val Acc: 0.3500\n"
     ]
    },
    {
     "name": "stdout",
     "output_type": "stream",
     "text": [
      "Epoch 2/200, Loss: 6.3690, Train Acc: 0.2949, Val Acc: 0.3500\n"
     ]
    },
    {
     "name": "stderr",
     "output_type": "stream",
     "text": [
      "Iterating eval graphs: 100%|██████████| 35/35 [00:05<00:00,  5.94batch/s]\n",
      "Epoch 3/200, Loss: 6.8622, Train Acc: 0.2946, Val Acc: 0.3143\n",
      "Epoch 3/200, Loss: 6.8622, Train Acc: 0.2946, Val Acc: 0.3143\n"
     ]
    },
    {
     "name": "stdout",
     "output_type": "stream",
     "text": [
      "Epoch 3/200, Loss: 6.8622, Train Acc: 0.2946, Val Acc: 0.3143\n"
     ]
    },
    {
     "name": "stderr",
     "output_type": "stream",
     "text": [
      "Iterating eval graphs: 100%|██████████| 35/35 [00:05<00:00,  5.98batch/s]\n",
      "Epoch 4/200, Loss: 14.7192, Train Acc: 0.3179, Val Acc: 0.2598\n",
      "Epoch 4/200, Loss: 14.7192, Train Acc: 0.3179, Val Acc: 0.2598\n"
     ]
    },
    {
     "name": "stdout",
     "output_type": "stream",
     "text": [
      "Epoch 4/200, Loss: 14.7192, Train Acc: 0.3179, Val Acc: 0.2598\n"
     ]
    },
    {
     "name": "stderr",
     "output_type": "stream",
     "text": [
      "Iterating eval graphs: 100%|██████████| 35/35 [00:05<00:00,  5.91batch/s]\n",
      "Epoch 5/200, Loss: 7.2337, Train Acc: 0.3321, Val Acc: 0.3125\n",
      "Epoch 5/200, Loss: 7.2337, Train Acc: 0.3321, Val Acc: 0.3125\n"
     ]
    },
    {
     "name": "stdout",
     "output_type": "stream",
     "text": [
      "Epoch 5/200, Loss: 7.2337, Train Acc: 0.3321, Val Acc: 0.3125\n"
     ]
    },
    {
     "name": "stderr",
     "output_type": "stream",
     "text": [
      "Iterating eval graphs: 100%|██████████| 35/35 [00:06<00:00,  5.75batch/s]\n",
      "Epoch 6/200, Loss: 13.4012, Train Acc: 0.3272, Val Acc: 0.3018\n",
      "Epoch 6/200, Loss: 13.4012, Train Acc: 0.3272, Val Acc: 0.3018\n"
     ]
    },
    {
     "name": "stdout",
     "output_type": "stream",
     "text": [
      "Epoch 6/200, Loss: 13.4012, Train Acc: 0.3272, Val Acc: 0.3018\n"
     ]
    },
    {
     "name": "stderr",
     "output_type": "stream",
     "text": [
      "Iterating eval graphs: 100%|██████████| 35/35 [00:05<00:00,  6.03batch/s]\n",
      "Epoch 7/200, Loss: 7.4293, Train Acc: 0.3217, Val Acc: 0.2911\n",
      "Epoch 7/200, Loss: 7.4293, Train Acc: 0.3217, Val Acc: 0.2911\n"
     ]
    },
    {
     "name": "stdout",
     "output_type": "stream",
     "text": [
      "Epoch 7/200, Loss: 7.4293, Train Acc: 0.3217, Val Acc: 0.2911\n"
     ]
    },
    {
     "name": "stderr",
     "output_type": "stream",
     "text": [
      "Iterating eval graphs: 100%|██████████| 35/35 [00:06<00:00,  5.82batch/s]\n",
      "Epoch 8/200, Loss: 10.3876, Train Acc: 0.3190, Val Acc: 0.3223\n",
      "Epoch 8/200, Loss: 10.3876, Train Acc: 0.3190, Val Acc: 0.3223\n"
     ]
    },
    {
     "name": "stdout",
     "output_type": "stream",
     "text": [
      "Epoch 8/200, Loss: 10.3876, Train Acc: 0.3190, Val Acc: 0.3223\n"
     ]
    },
    {
     "name": "stderr",
     "output_type": "stream",
     "text": [
      "Iterating eval graphs: 100%|██████████| 35/35 [00:05<00:00,  5.94batch/s]\n",
      "Epoch 9/200, Loss: 6.7055, Train Acc: 0.3203, Val Acc: 0.3187\n",
      "Epoch 9/200, Loss: 6.7055, Train Acc: 0.3203, Val Acc: 0.3187\n"
     ]
    },
    {
     "name": "stdout",
     "output_type": "stream",
     "text": [
      "Epoch 9/200, Loss: 6.7055, Train Acc: 0.3203, Val Acc: 0.3187\n"
     ]
    },
    {
     "name": "stderr",
     "output_type": "stream",
     "text": [
      "Iterating eval graphs: 100%|██████████| 35/35 [00:05<00:00,  5.93batch/s]\n",
      "Epoch 10/200, Loss: 9.3275, Train Acc: 0.3205, Val Acc: 0.3214\n",
      "Epoch 10/200, Loss: 9.3275, Train Acc: 0.3205, Val Acc: 0.3214\n"
     ]
    },
    {
     "name": "stdout",
     "output_type": "stream",
     "text": [
      "Epoch 10/200, Loss: 9.3275, Train Acc: 0.3205, Val Acc: 0.3214\n"
     ]
    },
    {
     "name": "stderr",
     "output_type": "stream",
     "text": [
      "Iterating eval graphs: 100%|██████████| 35/35 [00:05<00:00,  5.88batch/s]\n",
      "Epoch 11/200, Loss: 6.2300, Train Acc: 0.3141, Val Acc: 0.3241\n",
      "Epoch 11/200, Loss: 6.2300, Train Acc: 0.3141, Val Acc: 0.3241\n"
     ]
    },
    {
     "name": "stdout",
     "output_type": "stream",
     "text": [
      "Epoch 11/200, Loss: 6.2300, Train Acc: 0.3141, Val Acc: 0.3241\n"
     ]
    },
    {
     "name": "stderr",
     "output_type": "stream",
     "text": [
      "Iterating eval graphs: 100%|██████████| 35/35 [00:05<00:00,  5.98batch/s]\n",
      "Epoch 12/200, Loss: 7.1492, Train Acc: 0.3167, Val Acc: 0.3250\n",
      "Epoch 12/200, Loss: 7.1492, Train Acc: 0.3167, Val Acc: 0.3250\n"
     ]
    },
    {
     "name": "stdout",
     "output_type": "stream",
     "text": [
      "Epoch 12/200, Loss: 7.1492, Train Acc: 0.3167, Val Acc: 0.3250\n"
     ]
    },
    {
     "name": "stderr",
     "output_type": "stream",
     "text": [
      "Iterating eval graphs: 100%|██████████| 35/35 [00:06<00:00,  5.75batch/s]\n",
      "Epoch 13/200, Loss: 5.9852, Train Acc: 0.3259, Val Acc: 0.3286\n",
      "Epoch 13/200, Loss: 5.9852, Train Acc: 0.3259, Val Acc: 0.3286\n"
     ]
    },
    {
     "name": "stdout",
     "output_type": "stream",
     "text": [
      "Epoch 13/200, Loss: 5.9852, Train Acc: 0.3259, Val Acc: 0.3286\n"
     ]
    },
    {
     "name": "stderr",
     "output_type": "stream",
     "text": [
      "Iterating eval graphs: 100%|██████████| 35/35 [00:06<00:00,  5.81batch/s]\n",
      "Epoch 14/200, Loss: 5.7903, Train Acc: 0.3290, Val Acc: 0.3393\n",
      "Epoch 14/200, Loss: 5.7903, Train Acc: 0.3290, Val Acc: 0.3393\n"
     ]
    },
    {
     "name": "stdout",
     "output_type": "stream",
     "text": [
      "Epoch 14/200, Loss: 5.7903, Train Acc: 0.3290, Val Acc: 0.3393\n"
     ]
    },
    {
     "name": "stderr",
     "output_type": "stream",
     "text": [
      "Iterating eval graphs: 100%|██████████| 35/35 [00:06<00:00,  5.63batch/s]\n",
      "Epoch 15/200, Loss: 5.6304, Train Acc: 0.3464, Val Acc: 0.3464\n",
      "Epoch 15/200, Loss: 5.6304, Train Acc: 0.3464, Val Acc: 0.3464\n"
     ]
    },
    {
     "name": "stdout",
     "output_type": "stream",
     "text": [
      "Epoch 15/200, Loss: 5.6304, Train Acc: 0.3464, Val Acc: 0.3464\n"
     ]
    },
    {
     "name": "stderr",
     "output_type": "stream",
     "text": [
      "Iterating eval graphs: 100%|██████████| 35/35 [00:05<00:00,  6.08batch/s]\n",
      "Epoch 16/200, Loss: 5.4350, Train Acc: 0.3462, Val Acc: 0.3500\n",
      "Epoch 16/200, Loss: 5.4350, Train Acc: 0.3462, Val Acc: 0.3500\n"
     ]
    },
    {
     "name": "stdout",
     "output_type": "stream",
     "text": [
      "Epoch 16/200, Loss: 5.4350, Train Acc: 0.3462, Val Acc: 0.3500\n"
     ]
    },
    {
     "name": "stderr",
     "output_type": "stream",
     "text": [
      "Iterating eval graphs: 100%|██████████| 35/35 [00:05<00:00,  5.98batch/s]\n",
      "Epoch 17/200, Loss: 4.8668, Train Acc: 0.3348, Val Acc: 0.3375\n",
      "Epoch 17/200, Loss: 4.8668, Train Acc: 0.3348, Val Acc: 0.3375\n"
     ]
    },
    {
     "name": "stdout",
     "output_type": "stream",
     "text": [
      "Epoch 17/200, Loss: 4.8668, Train Acc: 0.3348, Val Acc: 0.3375\n"
     ]
    },
    {
     "name": "stderr",
     "output_type": "stream",
     "text": [
      "Iterating eval graphs: 100%|██████████| 35/35 [00:05<00:00,  5.99batch/s]\n",
      "Epoch 18/200, Loss: 5.5586, Train Acc: 0.3446, Val Acc: 0.3446\n",
      "Epoch 18/200, Loss: 5.5586, Train Acc: 0.3446, Val Acc: 0.3446\n"
     ]
    },
    {
     "name": "stdout",
     "output_type": "stream",
     "text": [
      "Epoch 18/200, Loss: 5.5586, Train Acc: 0.3446, Val Acc: 0.3446\n"
     ]
    },
    {
     "name": "stderr",
     "output_type": "stream",
     "text": [
      "Iterating eval graphs: 100%|██████████| 35/35 [00:05<00:00,  6.09batch/s]\n",
      "Epoch 19/200, Loss: 4.6250, Train Acc: 0.3502, Val Acc: 0.3482\n",
      "Epoch 19/200, Loss: 4.6250, Train Acc: 0.3502, Val Acc: 0.3482\n"
     ]
    },
    {
     "name": "stdout",
     "output_type": "stream",
     "text": [
      "Epoch 19/200, Loss: 4.6250, Train Acc: 0.3502, Val Acc: 0.3482\n"
     ]
    },
    {
     "name": "stderr",
     "output_type": "stream",
     "text": [
      "Iterating eval graphs: 100%|██████████| 35/35 [00:06<00:00,  5.68batch/s]\n",
      "Epoch 20/200, Loss: 4.7521, Train Acc: 0.3621, Val Acc: 0.3812\n",
      "Epoch 20/200, Loss: 4.7521, Train Acc: 0.3621, Val Acc: 0.3812\n"
     ]
    },
    {
     "name": "stdout",
     "output_type": "stream",
     "text": [
      "Epoch 20/200, Loss: 4.7521, Train Acc: 0.3621, Val Acc: 0.3812\n",
      "Best model updated and saved at /home/onyxia/work/DL-Hackathon/hackaton/checkpoints/model_B_best.pth\n"
     ]
    },
    {
     "name": "stderr",
     "output_type": "stream",
     "text": [
      "Iterating eval graphs: 100%|██████████| 35/35 [00:05<00:00,  5.88batch/s]\n",
      "Epoch 21/200, Loss: 4.6980, Train Acc: 0.3536, Val Acc: 0.3366\n",
      "Epoch 21/200, Loss: 4.6980, Train Acc: 0.3536, Val Acc: 0.3366\n"
     ]
    },
    {
     "name": "stdout",
     "output_type": "stream",
     "text": [
      "Epoch 21/200, Loss: 4.6980, Train Acc: 0.3536, Val Acc: 0.3366\n"
     ]
    },
    {
     "name": "stderr",
     "output_type": "stream",
     "text": [
      "Iterating eval graphs: 100%|██████████| 35/35 [00:05<00:00,  6.09batch/s]\n",
      "Epoch 22/200, Loss: 4.9643, Train Acc: 0.3502, Val Acc: 0.3643\n",
      "Epoch 22/200, Loss: 4.9643, Train Acc: 0.3502, Val Acc: 0.3643\n"
     ]
    },
    {
     "name": "stdout",
     "output_type": "stream",
     "text": [
      "Epoch 22/200, Loss: 4.9643, Train Acc: 0.3502, Val Acc: 0.3643\n"
     ]
    },
    {
     "name": "stderr",
     "output_type": "stream",
     "text": [
      "Iterating eval graphs: 100%|██████████| 35/35 [00:05<00:00,  5.87batch/s]\n",
      "Epoch 23/200, Loss: 4.6901, Train Acc: 0.3529, Val Acc: 0.3536\n",
      "Epoch 23/200, Loss: 4.6901, Train Acc: 0.3529, Val Acc: 0.3536\n"
     ]
    },
    {
     "name": "stdout",
     "output_type": "stream",
     "text": [
      "Epoch 23/200, Loss: 4.6901, Train Acc: 0.3529, Val Acc: 0.3536\n"
     ]
    },
    {
     "name": "stderr",
     "output_type": "stream",
     "text": [
      "Iterating eval graphs: 100%|██████████| 35/35 [00:06<00:00,  5.65batch/s]\n",
      "Epoch 24/200, Loss: 4.6394, Train Acc: 0.3533, Val Acc: 0.3741\n",
      "Epoch 24/200, Loss: 4.6394, Train Acc: 0.3533, Val Acc: 0.3741\n"
     ]
    },
    {
     "name": "stdout",
     "output_type": "stream",
     "text": [
      "Epoch 24/200, Loss: 4.6394, Train Acc: 0.3533, Val Acc: 0.3741\n"
     ]
    },
    {
     "name": "stderr",
     "output_type": "stream",
     "text": [
      "Iterating eval graphs: 100%|██████████| 35/35 [00:05<00:00,  5.88batch/s]\n",
      "Epoch 25/200, Loss: 4.6930, Train Acc: 0.3525, Val Acc: 0.3589\n",
      "Epoch 25/200, Loss: 4.6930, Train Acc: 0.3525, Val Acc: 0.3589\n"
     ]
    },
    {
     "name": "stdout",
     "output_type": "stream",
     "text": [
      "Epoch 25/200, Loss: 4.6930, Train Acc: 0.3525, Val Acc: 0.3589\n"
     ]
    },
    {
     "name": "stderr",
     "output_type": "stream",
     "text": [
      "Iterating eval graphs: 100%|██████████| 35/35 [00:05<00:00,  5.93batch/s]\n",
      "Epoch 26/200, Loss: 4.4336, Train Acc: 0.3576, Val Acc: 0.3795\n",
      "Epoch 26/200, Loss: 4.4336, Train Acc: 0.3576, Val Acc: 0.3795\n"
     ]
    },
    {
     "name": "stdout",
     "output_type": "stream",
     "text": [
      "Epoch 26/200, Loss: 4.4336, Train Acc: 0.3576, Val Acc: 0.3795\n"
     ]
    },
    {
     "name": "stderr",
     "output_type": "stream",
     "text": [
      "Iterating eval graphs: 100%|██████████| 35/35 [00:06<00:00,  5.82batch/s]\n",
      "Epoch 27/200, Loss: 4.1276, Train Acc: 0.3609, Val Acc: 0.3580\n",
      "Epoch 27/200, Loss: 4.1276, Train Acc: 0.3609, Val Acc: 0.3580\n"
     ]
    },
    {
     "name": "stdout",
     "output_type": "stream",
     "text": [
      "Epoch 27/200, Loss: 4.1276, Train Acc: 0.3609, Val Acc: 0.3580\n"
     ]
    },
    {
     "name": "stderr",
     "output_type": "stream",
     "text": [
      "Iterating eval graphs: 100%|██████████| 35/35 [00:05<00:00,  5.85batch/s]\n",
      "Epoch 28/200, Loss: 4.1974, Train Acc: 0.3614, Val Acc: 0.3821\n",
      "Epoch 28/200, Loss: 4.1974, Train Acc: 0.3614, Val Acc: 0.3821\n"
     ]
    },
    {
     "name": "stdout",
     "output_type": "stream",
     "text": [
      "Epoch 28/200, Loss: 4.1974, Train Acc: 0.3614, Val Acc: 0.3821\n",
      "Best model updated and saved at /home/onyxia/work/DL-Hackathon/hackaton/checkpoints/model_B_best.pth\n"
     ]
    },
    {
     "name": "stderr",
     "output_type": "stream",
     "text": [
      "Iterating eval graphs: 100%|██████████| 35/35 [00:05<00:00,  6.02batch/s]\n",
      "Epoch 29/200, Loss: 4.2519, Train Acc: 0.3712, Val Acc: 0.3821\n",
      "Epoch 29/200, Loss: 4.2519, Train Acc: 0.3712, Val Acc: 0.3821\n"
     ]
    },
    {
     "name": "stdout",
     "output_type": "stream",
     "text": [
      "Epoch 29/200, Loss: 4.2519, Train Acc: 0.3712, Val Acc: 0.3821\n"
     ]
    },
    {
     "name": "stderr",
     "output_type": "stream",
     "text": [
      "Iterating eval graphs: 100%|██████████| 35/35 [00:05<00:00,  5.87batch/s]\n",
      "Epoch 30/200, Loss: 4.1520, Train Acc: 0.3754, Val Acc: 0.3964\n",
      "Epoch 30/200, Loss: 4.1520, Train Acc: 0.3754, Val Acc: 0.3964\n"
     ]
    },
    {
     "name": "stdout",
     "output_type": "stream",
     "text": [
      "Epoch 30/200, Loss: 4.1520, Train Acc: 0.3754, Val Acc: 0.3964\n",
      "Best model updated and saved at /home/onyxia/work/DL-Hackathon/hackaton/checkpoints/model_B_best.pth\n"
     ]
    },
    {
     "name": "stderr",
     "output_type": "stream",
     "text": [
      "Iterating eval graphs: 100%|██████████| 35/35 [00:05<00:00,  6.02batch/s]\n",
      "Epoch 31/200, Loss: 3.9728, Train Acc: 0.3694, Val Acc: 0.3884\n",
      "Epoch 31/200, Loss: 3.9728, Train Acc: 0.3694, Val Acc: 0.3884\n"
     ]
    },
    {
     "name": "stdout",
     "output_type": "stream",
     "text": [
      "Epoch 31/200, Loss: 3.9728, Train Acc: 0.3694, Val Acc: 0.3884\n"
     ]
    },
    {
     "name": "stderr",
     "output_type": "stream",
     "text": [
      "Iterating eval graphs: 100%|██████████| 35/35 [00:05<00:00,  5.90batch/s]\n",
      "Epoch 32/200, Loss: 3.9444, Train Acc: 0.3768, Val Acc: 0.4027\n",
      "Epoch 32/200, Loss: 3.9444, Train Acc: 0.3768, Val Acc: 0.4027\n"
     ]
    },
    {
     "name": "stdout",
     "output_type": "stream",
     "text": [
      "Epoch 32/200, Loss: 3.9444, Train Acc: 0.3768, Val Acc: 0.4027\n",
      "Best model updated and saved at /home/onyxia/work/DL-Hackathon/hackaton/checkpoints/model_B_best.pth\n"
     ]
    },
    {
     "name": "stderr",
     "output_type": "stream",
     "text": [
      "Iterating eval graphs: 100%|██████████| 35/35 [00:05<00:00,  5.93batch/s]\n",
      "Epoch 33/200, Loss: 3.8276, Train Acc: 0.3746, Val Acc: 0.3848\n",
      "Epoch 33/200, Loss: 3.8276, Train Acc: 0.3746, Val Acc: 0.3848\n"
     ]
    },
    {
     "name": "stdout",
     "output_type": "stream",
     "text": [
      "Epoch 33/200, Loss: 3.8276, Train Acc: 0.3746, Val Acc: 0.3848\n"
     ]
    },
    {
     "name": "stderr",
     "output_type": "stream",
     "text": [
      "Iterating eval graphs: 100%|██████████| 35/35 [00:05<00:00,  6.05batch/s]\n",
      "Epoch 34/200, Loss: 3.9264, Train Acc: 0.3810, Val Acc: 0.3955\n",
      "Epoch 34/200, Loss: 3.9264, Train Acc: 0.3810, Val Acc: 0.3955\n"
     ]
    },
    {
     "name": "stdout",
     "output_type": "stream",
     "text": [
      "Epoch 34/200, Loss: 3.9264, Train Acc: 0.3810, Val Acc: 0.3955\n"
     ]
    },
    {
     "name": "stderr",
     "output_type": "stream",
     "text": [
      "Iterating eval graphs: 100%|██████████| 35/35 [00:05<00:00,  5.97batch/s]\n",
      "Epoch 35/200, Loss: 3.8271, Train Acc: 0.3743, Val Acc: 0.3946\n",
      "Epoch 35/200, Loss: 3.8271, Train Acc: 0.3743, Val Acc: 0.3946\n"
     ]
    },
    {
     "name": "stdout",
     "output_type": "stream",
     "text": [
      "Epoch 35/200, Loss: 3.8271, Train Acc: 0.3743, Val Acc: 0.3946\n"
     ]
    },
    {
     "name": "stderr",
     "output_type": "stream",
     "text": [
      "Iterating eval graphs: 100%|██████████| 35/35 [00:05<00:00,  5.95batch/s]\n",
      "Epoch 36/200, Loss: 3.7232, Train Acc: 0.3810, Val Acc: 0.3732\n",
      "Epoch 36/200, Loss: 3.7232, Train Acc: 0.3810, Val Acc: 0.3732\n"
     ]
    },
    {
     "name": "stdout",
     "output_type": "stream",
     "text": [
      "Epoch 36/200, Loss: 3.7232, Train Acc: 0.3810, Val Acc: 0.3732\n"
     ]
    },
    {
     "name": "stderr",
     "output_type": "stream",
     "text": [
      "Iterating eval graphs: 100%|██████████| 35/35 [00:05<00:00,  6.06batch/s]\n",
      "Epoch 37/200, Loss: 3.7471, Train Acc: 0.3817, Val Acc: 0.3589\n",
      "Epoch 37/200, Loss: 3.7471, Train Acc: 0.3817, Val Acc: 0.3589\n"
     ]
    },
    {
     "name": "stdout",
     "output_type": "stream",
     "text": [
      "Epoch 37/200, Loss: 3.7471, Train Acc: 0.3817, Val Acc: 0.3589\n"
     ]
    },
    {
     "name": "stderr",
     "output_type": "stream",
     "text": [
      "Iterating eval graphs: 100%|██████████| 35/35 [00:05<00:00,  6.02batch/s]\n",
      "Epoch 38/200, Loss: 3.7617, Train Acc: 0.3775, Val Acc: 0.3893\n",
      "Epoch 38/200, Loss: 3.7617, Train Acc: 0.3775, Val Acc: 0.3893\n"
     ]
    },
    {
     "name": "stdout",
     "output_type": "stream",
     "text": [
      "Epoch 38/200, Loss: 3.7617, Train Acc: 0.3775, Val Acc: 0.3893\n"
     ]
    },
    {
     "name": "stderr",
     "output_type": "stream",
     "text": [
      "Iterating eval graphs: 100%|██████████| 35/35 [00:05<00:00,  6.11batch/s]\n",
      "Epoch 39/200, Loss: 3.7412, Train Acc: 0.3933, Val Acc: 0.3893\n",
      "Epoch 39/200, Loss: 3.7412, Train Acc: 0.3933, Val Acc: 0.3893\n"
     ]
    },
    {
     "name": "stdout",
     "output_type": "stream",
     "text": [
      "Epoch 39/200, Loss: 3.7412, Train Acc: 0.3933, Val Acc: 0.3893\n"
     ]
    },
    {
     "name": "stderr",
     "output_type": "stream",
     "text": [
      "Iterating eval graphs: 100%|██████████| 35/35 [00:05<00:00,  5.94batch/s]\n",
      "Epoch 40/200, Loss: 3.8392, Train Acc: 0.3815, Val Acc: 0.4009\n",
      "Epoch 40/200, Loss: 3.8392, Train Acc: 0.3815, Val Acc: 0.4009\n"
     ]
    },
    {
     "name": "stdout",
     "output_type": "stream",
     "text": [
      "Epoch 40/200, Loss: 3.8392, Train Acc: 0.3815, Val Acc: 0.4009\n"
     ]
    },
    {
     "name": "stderr",
     "output_type": "stream",
     "text": [
      "Iterating eval graphs: 100%|██████████| 35/35 [00:05<00:00,  6.00batch/s]\n",
      "Epoch 41/200, Loss: 3.5610, Train Acc: 0.3812, Val Acc: 0.3777\n",
      "Epoch 41/200, Loss: 3.5610, Train Acc: 0.3812, Val Acc: 0.3777\n"
     ]
    },
    {
     "name": "stdout",
     "output_type": "stream",
     "text": [
      "Epoch 41/200, Loss: 3.5610, Train Acc: 0.3812, Val Acc: 0.3777\n"
     ]
    },
    {
     "name": "stderr",
     "output_type": "stream",
     "text": [
      "Iterating eval graphs: 100%|██████████| 35/35 [00:06<00:00,  5.78batch/s]\n",
      "Epoch 42/200, Loss: 4.0817, Train Acc: 0.3788, Val Acc: 0.3821\n",
      "Epoch 42/200, Loss: 4.0817, Train Acc: 0.3788, Val Acc: 0.3821\n"
     ]
    },
    {
     "name": "stdout",
     "output_type": "stream",
     "text": [
      "Epoch 42/200, Loss: 4.0817, Train Acc: 0.3788, Val Acc: 0.3821\n"
     ]
    },
    {
     "name": "stderr",
     "output_type": "stream",
     "text": [
      "Iterating eval graphs: 100%|██████████| 35/35 [00:06<00:00,  5.79batch/s]\n",
      "Epoch 43/200, Loss: 3.5698, Train Acc: 0.3895, Val Acc: 0.3830\n",
      "Epoch 43/200, Loss: 3.5698, Train Acc: 0.3895, Val Acc: 0.3830\n"
     ]
    },
    {
     "name": "stdout",
     "output_type": "stream",
     "text": [
      "Epoch 43/200, Loss: 3.5698, Train Acc: 0.3895, Val Acc: 0.3830\n"
     ]
    },
    {
     "name": "stderr",
     "output_type": "stream",
     "text": [
      "Iterating eval graphs: 100%|██████████| 35/35 [00:05<00:00,  6.08batch/s]\n",
      "Epoch 44/200, Loss: 3.9169, Train Acc: 0.3904, Val Acc: 0.3920\n",
      "Epoch 44/200, Loss: 3.9169, Train Acc: 0.3904, Val Acc: 0.3920\n"
     ]
    },
    {
     "name": "stdout",
     "output_type": "stream",
     "text": [
      "Epoch 44/200, Loss: 3.9169, Train Acc: 0.3904, Val Acc: 0.3920\n"
     ]
    },
    {
     "name": "stderr",
     "output_type": "stream",
     "text": [
      "Iterating eval graphs: 100%|██████████| 35/35 [00:05<00:00,  5.92batch/s]\n",
      "Epoch 45/200, Loss: 3.8026, Train Acc: 0.3864, Val Acc: 0.3741\n",
      "Epoch 45/200, Loss: 3.8026, Train Acc: 0.3864, Val Acc: 0.3741\n"
     ]
    },
    {
     "name": "stdout",
     "output_type": "stream",
     "text": [
      "Epoch 45/200, Loss: 3.8026, Train Acc: 0.3864, Val Acc: 0.3741\n"
     ]
    },
    {
     "name": "stderr",
     "output_type": "stream",
     "text": [
      "Iterating eval graphs: 100%|██████████| 35/35 [00:05<00:00,  6.03batch/s]\n",
      "Epoch 46/200, Loss: 3.5725, Train Acc: 0.3913, Val Acc: 0.3937\n",
      "Epoch 46/200, Loss: 3.5725, Train Acc: 0.3913, Val Acc: 0.3937\n"
     ]
    },
    {
     "name": "stdout",
     "output_type": "stream",
     "text": [
      "Epoch 46/200, Loss: 3.5725, Train Acc: 0.3913, Val Acc: 0.3937\n"
     ]
    },
    {
     "name": "stderr",
     "output_type": "stream",
     "text": [
      "Iterating eval graphs: 100%|██████████| 35/35 [00:05<00:00,  6.02batch/s]\n",
      "Epoch 47/200, Loss: 3.5955, Train Acc: 0.3868, Val Acc: 0.3866\n",
      "Epoch 47/200, Loss: 3.5955, Train Acc: 0.3868, Val Acc: 0.3866\n"
     ]
    },
    {
     "name": "stdout",
     "output_type": "stream",
     "text": [
      "Epoch 47/200, Loss: 3.5955, Train Acc: 0.3868, Val Acc: 0.3866\n"
     ]
    },
    {
     "name": "stderr",
     "output_type": "stream",
     "text": [
      "Iterating eval graphs: 100%|██████████| 35/35 [00:05<00:00,  5.96batch/s]\n",
      "Epoch 48/200, Loss: 3.4244, Train Acc: 0.4020, Val Acc: 0.3982\n",
      "Epoch 48/200, Loss: 3.4244, Train Acc: 0.4020, Val Acc: 0.3982\n"
     ]
    },
    {
     "name": "stdout",
     "output_type": "stream",
     "text": [
      "Epoch 48/200, Loss: 3.4244, Train Acc: 0.4020, Val Acc: 0.3982\n"
     ]
    },
    {
     "name": "stderr",
     "output_type": "stream",
     "text": [
      "Iterating eval graphs: 100%|██████████| 35/35 [00:06<00:00,  5.55batch/s]\n",
      "Epoch 49/200, Loss: 3.4727, Train Acc: 0.4038, Val Acc: 0.3911\n",
      "Epoch 49/200, Loss: 3.4727, Train Acc: 0.4038, Val Acc: 0.3911\n"
     ]
    },
    {
     "name": "stdout",
     "output_type": "stream",
     "text": [
      "Epoch 49/200, Loss: 3.4727, Train Acc: 0.4038, Val Acc: 0.3911\n"
     ]
    },
    {
     "name": "stderr",
     "output_type": "stream",
     "text": [
      "Iterating eval graphs: 100%|██████████| 35/35 [00:05<00:00,  6.00batch/s]\n",
      "Epoch 50/200, Loss: 3.5631, Train Acc: 0.4036, Val Acc: 0.4080\n",
      "Epoch 50/200, Loss: 3.5631, Train Acc: 0.4036, Val Acc: 0.4080\n"
     ]
    },
    {
     "name": "stdout",
     "output_type": "stream",
     "text": [
      "Epoch 50/200, Loss: 3.5631, Train Acc: 0.4036, Val Acc: 0.4080\n",
      "Best model updated and saved at /home/onyxia/work/DL-Hackathon/hackaton/checkpoints/model_B_best.pth\n"
     ]
    },
    {
     "name": "stderr",
     "output_type": "stream",
     "text": [
      "Iterating eval graphs: 100%|██████████| 35/35 [00:05<00:00,  6.07batch/s]\n",
      "Epoch 51/200, Loss: 3.6154, Train Acc: 0.3944, Val Acc: 0.3759\n",
      "Epoch 51/200, Loss: 3.6154, Train Acc: 0.3944, Val Acc: 0.3759\n"
     ]
    },
    {
     "name": "stdout",
     "output_type": "stream",
     "text": [
      "Epoch 51/200, Loss: 3.6154, Train Acc: 0.3944, Val Acc: 0.3759\n"
     ]
    },
    {
     "name": "stderr",
     "output_type": "stream",
     "text": [
      "Iterating eval graphs: 100%|██████████| 35/35 [00:06<00:00,  5.66batch/s]\n",
      "Epoch 52/200, Loss: 3.5604, Train Acc: 0.4004, Val Acc: 0.3152\n",
      "Epoch 52/200, Loss: 3.5604, Train Acc: 0.4004, Val Acc: 0.3152\n"
     ]
    },
    {
     "name": "stdout",
     "output_type": "stream",
     "text": [
      "Epoch 52/200, Loss: 3.5604, Train Acc: 0.4004, Val Acc: 0.3152\n"
     ]
    },
    {
     "name": "stderr",
     "output_type": "stream",
     "text": [
      "Iterating eval graphs: 100%|██████████| 35/35 [00:05<00:00,  5.98batch/s]\n",
      "Epoch 53/200, Loss: 3.7137, Train Acc: 0.3991, Val Acc: 0.3670\n",
      "Epoch 53/200, Loss: 3.7137, Train Acc: 0.3991, Val Acc: 0.3670\n"
     ]
    },
    {
     "name": "stdout",
     "output_type": "stream",
     "text": [
      "Epoch 53/200, Loss: 3.7137, Train Acc: 0.3991, Val Acc: 0.3670\n"
     ]
    },
    {
     "name": "stderr",
     "output_type": "stream",
     "text": [
      "Iterating eval graphs: 100%|██████████| 35/35 [00:05<00:00,  5.96batch/s]\n",
      "Epoch 54/200, Loss: 3.4451, Train Acc: 0.3996, Val Acc: 0.3821\n",
      "Epoch 54/200, Loss: 3.4451, Train Acc: 0.3996, Val Acc: 0.3821\n"
     ]
    },
    {
     "name": "stdout",
     "output_type": "stream",
     "text": [
      "Epoch 54/200, Loss: 3.4451, Train Acc: 0.3996, Val Acc: 0.3821\n"
     ]
    },
    {
     "name": "stderr",
     "output_type": "stream",
     "text": [
      "Iterating eval graphs: 100%|██████████| 35/35 [00:05<00:00,  5.89batch/s]\n",
      "Epoch 55/200, Loss: 3.6580, Train Acc: 0.4002, Val Acc: 0.3937\n",
      "Epoch 55/200, Loss: 3.6580, Train Acc: 0.4002, Val Acc: 0.3937\n"
     ]
    },
    {
     "name": "stdout",
     "output_type": "stream",
     "text": [
      "Epoch 55/200, Loss: 3.6580, Train Acc: 0.4002, Val Acc: 0.3937\n"
     ]
    },
    {
     "name": "stderr",
     "output_type": "stream",
     "text": [
      "Iterating eval graphs: 100%|██████████| 35/35 [00:05<00:00,  5.87batch/s]\n",
      "Epoch 56/200, Loss: 3.5424, Train Acc: 0.3960, Val Acc: 0.3795\n",
      "Epoch 56/200, Loss: 3.5424, Train Acc: 0.3960, Val Acc: 0.3795\n"
     ]
    },
    {
     "name": "stdout",
     "output_type": "stream",
     "text": [
      "Epoch 56/200, Loss: 3.5424, Train Acc: 0.3960, Val Acc: 0.3795\n"
     ]
    },
    {
     "name": "stderr",
     "output_type": "stream",
     "text": [
      "Iterating eval graphs: 100%|██████████| 35/35 [00:05<00:00,  6.08batch/s]\n",
      "Epoch 57/200, Loss: 3.3790, Train Acc: 0.3962, Val Acc: 0.3812\n",
      "Epoch 57/200, Loss: 3.3790, Train Acc: 0.3962, Val Acc: 0.3812\n"
     ]
    },
    {
     "name": "stdout",
     "output_type": "stream",
     "text": [
      "Epoch 57/200, Loss: 3.3790, Train Acc: 0.3962, Val Acc: 0.3812\n"
     ]
    },
    {
     "name": "stderr",
     "output_type": "stream",
     "text": [
      "Iterating eval graphs: 100%|██████████| 35/35 [00:05<00:00,  6.01batch/s]\n",
      "Epoch 58/200, Loss: 3.4951, Train Acc: 0.4016, Val Acc: 0.3991\n",
      "Epoch 58/200, Loss: 3.4951, Train Acc: 0.4016, Val Acc: 0.3991\n"
     ]
    },
    {
     "name": "stdout",
     "output_type": "stream",
     "text": [
      "Epoch 58/200, Loss: 3.4951, Train Acc: 0.4016, Val Acc: 0.3991\n"
     ]
    },
    {
     "name": "stderr",
     "output_type": "stream",
     "text": [
      "Iterating eval graphs: 100%|██████████| 35/35 [00:05<00:00,  5.89batch/s]\n",
      "Epoch 59/200, Loss: 3.4416, Train Acc: 0.3960, Val Acc: 0.4152\n",
      "Epoch 59/200, Loss: 3.4416, Train Acc: 0.3960, Val Acc: 0.4152\n"
     ]
    },
    {
     "name": "stdout",
     "output_type": "stream",
     "text": [
      "Epoch 59/200, Loss: 3.4416, Train Acc: 0.3960, Val Acc: 0.4152\n",
      "Best model updated and saved at /home/onyxia/work/DL-Hackathon/hackaton/checkpoints/model_B_best.pth\n"
     ]
    },
    {
     "name": "stderr",
     "output_type": "stream",
     "text": [
      "Iterating eval graphs: 100%|██████████| 35/35 [00:05<00:00,  5.94batch/s]\n",
      "Epoch 60/200, Loss: 3.4389, Train Acc: 0.4089, Val Acc: 0.3937\n",
      "Epoch 60/200, Loss: 3.4389, Train Acc: 0.4089, Val Acc: 0.3937\n"
     ]
    },
    {
     "name": "stdout",
     "output_type": "stream",
     "text": [
      "Epoch 60/200, Loss: 3.4389, Train Acc: 0.4089, Val Acc: 0.3937\n"
     ]
    },
    {
     "name": "stderr",
     "output_type": "stream",
     "text": [
      "Iterating eval graphs: 100%|██████████| 35/35 [00:05<00:00,  6.11batch/s]\n",
      "Epoch 61/200, Loss: 3.3930, Train Acc: 0.4181, Val Acc: 0.3964\n",
      "Epoch 61/200, Loss: 3.3930, Train Acc: 0.4181, Val Acc: 0.3964\n"
     ]
    },
    {
     "name": "stdout",
     "output_type": "stream",
     "text": [
      "Epoch 61/200, Loss: 3.3930, Train Acc: 0.4181, Val Acc: 0.3964\n"
     ]
    },
    {
     "name": "stderr",
     "output_type": "stream",
     "text": [
      "Iterating eval graphs: 100%|██████████| 35/35 [00:05<00:00,  5.94batch/s]\n",
      "Epoch 62/200, Loss: 3.4135, Train Acc: 0.4172, Val Acc: 0.3563\n",
      "Epoch 62/200, Loss: 3.4135, Train Acc: 0.4172, Val Acc: 0.3563\n"
     ]
    },
    {
     "name": "stdout",
     "output_type": "stream",
     "text": [
      "Epoch 62/200, Loss: 3.4135, Train Acc: 0.4172, Val Acc: 0.3563\n"
     ]
    },
    {
     "name": "stderr",
     "output_type": "stream",
     "text": [
      "Iterating eval graphs: 100%|██████████| 35/35 [00:05<00:00,  6.01batch/s]\n",
      "Epoch 63/200, Loss: 3.4768, Train Acc: 0.4062, Val Acc: 0.3902\n",
      "Epoch 63/200, Loss: 3.4768, Train Acc: 0.4062, Val Acc: 0.3902\n"
     ]
    },
    {
     "name": "stdout",
     "output_type": "stream",
     "text": [
      "Epoch 63/200, Loss: 3.4768, Train Acc: 0.4062, Val Acc: 0.3902\n"
     ]
    },
    {
     "name": "stderr",
     "output_type": "stream",
     "text": [
      "Iterating eval graphs: 100%|██████████| 35/35 [00:05<00:00,  5.85batch/s]\n",
      "Epoch 64/200, Loss: 3.4080, Train Acc: 0.4127, Val Acc: 0.4054\n",
      "Epoch 64/200, Loss: 3.4080, Train Acc: 0.4127, Val Acc: 0.4054\n"
     ]
    },
    {
     "name": "stdout",
     "output_type": "stream",
     "text": [
      "Epoch 64/200, Loss: 3.4080, Train Acc: 0.4127, Val Acc: 0.4054\n"
     ]
    },
    {
     "name": "stderr",
     "output_type": "stream",
     "text": [
      "Iterating eval graphs: 100%|██████████| 35/35 [00:05<00:00,  6.05batch/s]\n",
      "Epoch 65/200, Loss: 3.2072, Train Acc: 0.4167, Val Acc: 0.4125\n",
      "Epoch 65/200, Loss: 3.2072, Train Acc: 0.4167, Val Acc: 0.4125\n"
     ]
    },
    {
     "name": "stdout",
     "output_type": "stream",
     "text": [
      "Epoch 65/200, Loss: 3.2072, Train Acc: 0.4167, Val Acc: 0.4125\n"
     ]
    },
    {
     "name": "stderr",
     "output_type": "stream",
     "text": [
      "Iterating eval graphs: 100%|██████████| 35/35 [00:05<00:00,  5.99batch/s]\n",
      "Epoch 66/200, Loss: 3.4986, Train Acc: 0.4040, Val Acc: 0.4036\n",
      "Epoch 66/200, Loss: 3.4986, Train Acc: 0.4040, Val Acc: 0.4036\n"
     ]
    },
    {
     "name": "stdout",
     "output_type": "stream",
     "text": [
      "Epoch 66/200, Loss: 3.4986, Train Acc: 0.4040, Val Acc: 0.4036\n"
     ]
    },
    {
     "name": "stderr",
     "output_type": "stream",
     "text": [
      "Iterating eval graphs: 100%|██████████| 35/35 [00:06<00:00,  5.81batch/s]\n",
      "Epoch 67/200, Loss: 3.7033, Train Acc: 0.4027, Val Acc: 0.3616\n",
      "Epoch 67/200, Loss: 3.7033, Train Acc: 0.4027, Val Acc: 0.3616\n"
     ]
    },
    {
     "name": "stdout",
     "output_type": "stream",
     "text": [
      "Epoch 67/200, Loss: 3.7033, Train Acc: 0.4027, Val Acc: 0.3616\n"
     ]
    },
    {
     "name": "stderr",
     "output_type": "stream",
     "text": [
      "Iterating eval graphs: 100%|██████████| 35/35 [00:05<00:00,  5.89batch/s]\n",
      "Epoch 68/200, Loss: 3.5973, Train Acc: 0.3955, Val Acc: 0.4107\n",
      "Epoch 68/200, Loss: 3.5973, Train Acc: 0.3955, Val Acc: 0.4107\n"
     ]
    },
    {
     "name": "stdout",
     "output_type": "stream",
     "text": [
      "Epoch 68/200, Loss: 3.5973, Train Acc: 0.3955, Val Acc: 0.4107\n"
     ]
    },
    {
     "name": "stderr",
     "output_type": "stream",
     "text": [
      "Iterating eval graphs: 100%|██████████| 35/35 [00:05<00:00,  6.07batch/s]\n",
      "Epoch 69/200, Loss: 3.3278, Train Acc: 0.4105, Val Acc: 0.3946\n",
      "Epoch 69/200, Loss: 3.3278, Train Acc: 0.4105, Val Acc: 0.3946\n"
     ]
    },
    {
     "name": "stdout",
     "output_type": "stream",
     "text": [
      "Epoch 69/200, Loss: 3.3278, Train Acc: 0.4105, Val Acc: 0.3946\n"
     ]
    },
    {
     "name": "stderr",
     "output_type": "stream",
     "text": [
      "Iterating eval graphs: 100%|██████████| 35/35 [00:06<00:00,  5.76batch/s]\n",
      "Epoch 70/200, Loss: 3.3577, Train Acc: 0.4163, Val Acc: 0.4045\n",
      "Epoch 70/200, Loss: 3.3577, Train Acc: 0.4163, Val Acc: 0.4045\n"
     ]
    },
    {
     "name": "stdout",
     "output_type": "stream",
     "text": [
      "Epoch 70/200, Loss: 3.3577, Train Acc: 0.4163, Val Acc: 0.4045\n"
     ]
    },
    {
     "name": "stderr",
     "output_type": "stream",
     "text": [
      "Iterating eval graphs: 100%|██████████| 35/35 [00:05<00:00,  5.98batch/s]\n",
      "Epoch 71/200, Loss: 3.2824, Train Acc: 0.4083, Val Acc: 0.4027\n",
      "Epoch 71/200, Loss: 3.2824, Train Acc: 0.4083, Val Acc: 0.4027\n"
     ]
    },
    {
     "name": "stdout",
     "output_type": "stream",
     "text": [
      "Epoch 71/200, Loss: 3.2824, Train Acc: 0.4083, Val Acc: 0.4027\n"
     ]
    },
    {
     "name": "stderr",
     "output_type": "stream",
     "text": [
      "Iterating eval graphs: 100%|██████████| 35/35 [00:05<00:00,  5.91batch/s]\n",
      "Epoch 72/200, Loss: 3.4253, Train Acc: 0.4125, Val Acc: 0.3973\n",
      "Epoch 72/200, Loss: 3.4253, Train Acc: 0.4125, Val Acc: 0.3973\n"
     ]
    },
    {
     "name": "stdout",
     "output_type": "stream",
     "text": [
      "Epoch 72/200, Loss: 3.4253, Train Acc: 0.4125, Val Acc: 0.3973\n"
     ]
    },
    {
     "name": "stderr",
     "output_type": "stream",
     "text": [
      "Iterating eval graphs: 100%|██████████| 35/35 [00:05<00:00,  5.98batch/s]\n",
      "Epoch 73/200, Loss: 3.2564, Train Acc: 0.4194, Val Acc: 0.4080\n",
      "Epoch 73/200, Loss: 3.2564, Train Acc: 0.4194, Val Acc: 0.4080\n"
     ]
    },
    {
     "name": "stdout",
     "output_type": "stream",
     "text": [
      "Epoch 73/200, Loss: 3.2564, Train Acc: 0.4194, Val Acc: 0.4080\n"
     ]
    },
    {
     "name": "stderr",
     "output_type": "stream",
     "text": [
      "Iterating eval graphs: 100%|██████████| 35/35 [00:06<00:00,  5.76batch/s]\n",
      "Epoch 74/200, Loss: 3.5117, Train Acc: 0.4138, Val Acc: 0.3777\n",
      "Epoch 74/200, Loss: 3.5117, Train Acc: 0.4138, Val Acc: 0.3777\n"
     ]
    },
    {
     "name": "stdout",
     "output_type": "stream",
     "text": [
      "Epoch 74/200, Loss: 3.5117, Train Acc: 0.4138, Val Acc: 0.3777\n"
     ]
    },
    {
     "name": "stderr",
     "output_type": "stream",
     "text": [
      "Iterating eval graphs: 100%|██████████| 35/35 [00:05<00:00,  6.06batch/s]\n",
      "Epoch 75/200, Loss: 3.2246, Train Acc: 0.4196, Val Acc: 0.3920\n",
      "Epoch 75/200, Loss: 3.2246, Train Acc: 0.4196, Val Acc: 0.3920\n"
     ]
    },
    {
     "name": "stdout",
     "output_type": "stream",
     "text": [
      "Epoch 75/200, Loss: 3.2246, Train Acc: 0.4196, Val Acc: 0.3920\n"
     ]
    },
    {
     "name": "stderr",
     "output_type": "stream",
     "text": [
      "Iterating eval graphs: 100%|██████████| 35/35 [00:05<00:00,  5.85batch/s]\n",
      "Epoch 76/200, Loss: 3.2791, Train Acc: 0.4301, Val Acc: 0.4375\n",
      "Epoch 76/200, Loss: 3.2791, Train Acc: 0.4301, Val Acc: 0.4375\n"
     ]
    },
    {
     "name": "stdout",
     "output_type": "stream",
     "text": [
      "Epoch 76/200, Loss: 3.2791, Train Acc: 0.4301, Val Acc: 0.4375\n",
      "Best model updated and saved at /home/onyxia/work/DL-Hackathon/hackaton/checkpoints/model_B_best.pth\n"
     ]
    },
    {
     "name": "stderr",
     "output_type": "stream",
     "text": [
      "Iterating eval graphs: 100%|██████████| 35/35 [00:05<00:00,  5.86batch/s]\n",
      "Epoch 77/200, Loss: 3.2928, Train Acc: 0.4176, Val Acc: 0.4054\n",
      "Epoch 77/200, Loss: 3.2928, Train Acc: 0.4176, Val Acc: 0.4054\n"
     ]
    },
    {
     "name": "stdout",
     "output_type": "stream",
     "text": [
      "Epoch 77/200, Loss: 3.2928, Train Acc: 0.4176, Val Acc: 0.4054\n"
     ]
    },
    {
     "name": "stderr",
     "output_type": "stream",
     "text": [
      "Iterating eval graphs: 100%|██████████| 35/35 [00:05<00:00,  5.91batch/s]\n",
      "Epoch 78/200, Loss: 3.2506, Train Acc: 0.4230, Val Acc: 0.4304\n",
      "Epoch 78/200, Loss: 3.2506, Train Acc: 0.4230, Val Acc: 0.4304\n"
     ]
    },
    {
     "name": "stdout",
     "output_type": "stream",
     "text": [
      "Epoch 78/200, Loss: 3.2506, Train Acc: 0.4230, Val Acc: 0.4304\n"
     ]
    },
    {
     "name": "stderr",
     "output_type": "stream",
     "text": [
      "Iterating eval graphs: 100%|██████████| 35/35 [00:05<00:00,  5.95batch/s]\n",
      "Epoch 79/200, Loss: 2.9996, Train Acc: 0.4268, Val Acc: 0.4179\n",
      "Epoch 79/200, Loss: 2.9996, Train Acc: 0.4268, Val Acc: 0.4179\n"
     ]
    },
    {
     "name": "stdout",
     "output_type": "stream",
     "text": [
      "Epoch 79/200, Loss: 2.9996, Train Acc: 0.4268, Val Acc: 0.4179\n"
     ]
    },
    {
     "name": "stderr",
     "output_type": "stream",
     "text": [
      "Iterating eval graphs: 100%|██████████| 35/35 [00:05<00:00,  5.86batch/s]\n",
      "Epoch 80/200, Loss: 3.0862, Train Acc: 0.4375, Val Acc: 0.4268\n",
      "Epoch 80/200, Loss: 3.0862, Train Acc: 0.4375, Val Acc: 0.4268\n"
     ]
    },
    {
     "name": "stdout",
     "output_type": "stream",
     "text": [
      "Epoch 80/200, Loss: 3.0862, Train Acc: 0.4375, Val Acc: 0.4268\n"
     ]
    },
    {
     "name": "stderr",
     "output_type": "stream",
     "text": [
      "Iterating eval graphs: 100%|██████████| 35/35 [00:05<00:00,  5.88batch/s]\n",
      "Epoch 81/200, Loss: 3.1929, Train Acc: 0.4357, Val Acc: 0.4250\n",
      "Epoch 81/200, Loss: 3.1929, Train Acc: 0.4357, Val Acc: 0.4250\n"
     ]
    },
    {
     "name": "stdout",
     "output_type": "stream",
     "text": [
      "Epoch 81/200, Loss: 3.1929, Train Acc: 0.4357, Val Acc: 0.4250\n"
     ]
    },
    {
     "name": "stderr",
     "output_type": "stream",
     "text": [
      "Iterating eval graphs: 100%|██████████| 35/35 [00:06<00:00,  5.83batch/s]\n",
      "Epoch 82/200, Loss: 3.3028, Train Acc: 0.4266, Val Acc: 0.4223\n",
      "Epoch 82/200, Loss: 3.3028, Train Acc: 0.4266, Val Acc: 0.4223\n"
     ]
    },
    {
     "name": "stdout",
     "output_type": "stream",
     "text": [
      "Epoch 82/200, Loss: 3.3028, Train Acc: 0.4266, Val Acc: 0.4223\n"
     ]
    },
    {
     "name": "stderr",
     "output_type": "stream",
     "text": [
      "Iterating eval graphs: 100%|██████████| 35/35 [00:06<00:00,  5.79batch/s]\n",
      "Epoch 83/200, Loss: 3.2758, Train Acc: 0.4295, Val Acc: 0.3848\n",
      "Epoch 83/200, Loss: 3.2758, Train Acc: 0.4295, Val Acc: 0.3848\n"
     ]
    },
    {
     "name": "stdout",
     "output_type": "stream",
     "text": [
      "Epoch 83/200, Loss: 3.2758, Train Acc: 0.4295, Val Acc: 0.3848\n"
     ]
    },
    {
     "name": "stderr",
     "output_type": "stream",
     "text": [
      "Iterating eval graphs: 100%|██████████| 35/35 [00:05<00:00,  5.99batch/s]\n",
      "Epoch 84/200, Loss: 3.4795, Train Acc: 0.4125, Val Acc: 0.4045\n",
      "Epoch 84/200, Loss: 3.4795, Train Acc: 0.4125, Val Acc: 0.4045\n"
     ]
    },
    {
     "name": "stdout",
     "output_type": "stream",
     "text": [
      "Epoch 84/200, Loss: 3.4795, Train Acc: 0.4125, Val Acc: 0.4045\n"
     ]
    },
    {
     "name": "stderr",
     "output_type": "stream",
     "text": [
      "Iterating eval graphs: 100%|██████████| 35/35 [00:05<00:00,  5.91batch/s]\n",
      "Epoch 85/200, Loss: 3.1359, Train Acc: 0.4232, Val Acc: 0.3429\n",
      "Epoch 85/200, Loss: 3.1359, Train Acc: 0.4232, Val Acc: 0.3429\n"
     ]
    },
    {
     "name": "stdout",
     "output_type": "stream",
     "text": [
      "Epoch 85/200, Loss: 3.1359, Train Acc: 0.4232, Val Acc: 0.3429\n"
     ]
    },
    {
     "name": "stderr",
     "output_type": "stream",
     "text": [
      "Iterating eval graphs: 100%|██████████| 35/35 [00:05<00:00,  5.97batch/s]\n",
      "Epoch 86/200, Loss: 3.5403, Train Acc: 0.4114, Val Acc: 0.3964\n",
      "Epoch 86/200, Loss: 3.5403, Train Acc: 0.4114, Val Acc: 0.3964\n"
     ]
    },
    {
     "name": "stdout",
     "output_type": "stream",
     "text": [
      "Epoch 86/200, Loss: 3.5403, Train Acc: 0.4114, Val Acc: 0.3964\n"
     ]
    },
    {
     "name": "stderr",
     "output_type": "stream",
     "text": [
      "Iterating eval graphs: 100%|██████████| 35/35 [00:05<00:00,  5.97batch/s]\n",
      "Epoch 87/200, Loss: 3.4705, Train Acc: 0.4129, Val Acc: 0.3982\n",
      "Epoch 87/200, Loss: 3.4705, Train Acc: 0.4129, Val Acc: 0.3982\n"
     ]
    },
    {
     "name": "stdout",
     "output_type": "stream",
     "text": [
      "Epoch 87/200, Loss: 3.4705, Train Acc: 0.4129, Val Acc: 0.3982\n"
     ]
    },
    {
     "name": "stderr",
     "output_type": "stream",
     "text": [
      "Iterating eval graphs: 100%|██████████| 35/35 [00:06<00:00,  5.79batch/s]\n",
      "Epoch 88/200, Loss: 3.2614, Train Acc: 0.4214, Val Acc: 0.4125\n",
      "Epoch 88/200, Loss: 3.2614, Train Acc: 0.4214, Val Acc: 0.4125\n"
     ]
    },
    {
     "name": "stdout",
     "output_type": "stream",
     "text": [
      "Epoch 88/200, Loss: 3.2614, Train Acc: 0.4214, Val Acc: 0.4125\n"
     ]
    },
    {
     "name": "stderr",
     "output_type": "stream",
     "text": [
      "Iterating eval graphs: 100%|██████████| 35/35 [00:05<00:00,  5.94batch/s]\n",
      "Epoch 89/200, Loss: 3.2781, Train Acc: 0.4237, Val Acc: 0.4036\n",
      "Epoch 89/200, Loss: 3.2781, Train Acc: 0.4237, Val Acc: 0.4036\n"
     ]
    },
    {
     "name": "stdout",
     "output_type": "stream",
     "text": [
      "Epoch 89/200, Loss: 3.2781, Train Acc: 0.4237, Val Acc: 0.4036\n"
     ]
    },
    {
     "name": "stderr",
     "output_type": "stream",
     "text": [
      "Iterating eval graphs: 100%|██████████| 35/35 [00:05<00:00,  5.89batch/s]\n",
      "Epoch 90/200, Loss: 3.3233, Train Acc: 0.4170, Val Acc: 0.3991\n",
      "Epoch 90/200, Loss: 3.3233, Train Acc: 0.4170, Val Acc: 0.3991\n"
     ]
    },
    {
     "name": "stdout",
     "output_type": "stream",
     "text": [
      "Epoch 90/200, Loss: 3.3233, Train Acc: 0.4170, Val Acc: 0.3991\n"
     ]
    },
    {
     "name": "stderr",
     "output_type": "stream",
     "text": [
      "Iterating eval graphs: 100%|██████████| 35/35 [00:05<00:00,  5.86batch/s]\n",
      "Epoch 91/200, Loss: 3.2761, Train Acc: 0.4188, Val Acc: 0.3982\n",
      "Epoch 91/200, Loss: 3.2761, Train Acc: 0.4188, Val Acc: 0.3982\n"
     ]
    },
    {
     "name": "stdout",
     "output_type": "stream",
     "text": [
      "Epoch 91/200, Loss: 3.2761, Train Acc: 0.4188, Val Acc: 0.3982\n"
     ]
    },
    {
     "name": "stderr",
     "output_type": "stream",
     "text": [
      "Iterating eval graphs: 100%|██████████| 35/35 [00:05<00:00,  5.97batch/s]\n",
      "Epoch 92/200, Loss: 3.1184, Train Acc: 0.4246, Val Acc: 0.4054\n",
      "Epoch 92/200, Loss: 3.1184, Train Acc: 0.4246, Val Acc: 0.4054\n"
     ]
    },
    {
     "name": "stdout",
     "output_type": "stream",
     "text": [
      "Epoch 92/200, Loss: 3.1184, Train Acc: 0.4246, Val Acc: 0.4054\n"
     ]
    },
    {
     "name": "stderr",
     "output_type": "stream",
     "text": [
      "Iterating eval graphs: 100%|██████████| 35/35 [00:06<00:00,  5.59batch/s]\n",
      "Epoch 93/200, Loss: 3.0791, Train Acc: 0.4283, Val Acc: 0.4045\n",
      "Epoch 93/200, Loss: 3.0791, Train Acc: 0.4283, Val Acc: 0.4045\n"
     ]
    },
    {
     "name": "stdout",
     "output_type": "stream",
     "text": [
      "Epoch 93/200, Loss: 3.0791, Train Acc: 0.4283, Val Acc: 0.4045\n"
     ]
    },
    {
     "name": "stderr",
     "output_type": "stream",
     "text": [
      "Iterating eval graphs: 100%|██████████| 35/35 [00:06<00:00,  5.79batch/s]\n",
      "Epoch 94/200, Loss: 3.0410, Train Acc: 0.4203, Val Acc: 0.4098\n",
      "Epoch 94/200, Loss: 3.0410, Train Acc: 0.4203, Val Acc: 0.4098\n"
     ]
    },
    {
     "name": "stdout",
     "output_type": "stream",
     "text": [
      "Epoch 94/200, Loss: 3.0410, Train Acc: 0.4203, Val Acc: 0.4098\n"
     ]
    },
    {
     "name": "stderr",
     "output_type": "stream",
     "text": [
      "Iterating eval graphs: 100%|██████████| 35/35 [00:05<00:00,  6.01batch/s]\n",
      "Epoch 95/200, Loss: 3.2241, Train Acc: 0.4252, Val Acc: 0.4241\n",
      "Epoch 95/200, Loss: 3.2241, Train Acc: 0.4252, Val Acc: 0.4241\n"
     ]
    },
    {
     "name": "stdout",
     "output_type": "stream",
     "text": [
      "Epoch 95/200, Loss: 3.2241, Train Acc: 0.4252, Val Acc: 0.4241\n"
     ]
    },
    {
     "name": "stderr",
     "output_type": "stream",
     "text": [
      "Iterating eval graphs: 100%|██████████| 35/35 [00:06<00:00,  5.69batch/s]\n",
      "Epoch 96/200, Loss: 2.9947, Train Acc: 0.4355, Val Acc: 0.4134\n",
      "Epoch 96/200, Loss: 2.9947, Train Acc: 0.4355, Val Acc: 0.4134\n"
     ]
    },
    {
     "name": "stdout",
     "output_type": "stream",
     "text": [
      "Epoch 96/200, Loss: 2.9947, Train Acc: 0.4355, Val Acc: 0.4134\n"
     ]
    },
    {
     "name": "stderr",
     "output_type": "stream",
     "text": [
      "Iterating eval graphs: 100%|██████████| 35/35 [00:05<00:00,  5.99batch/s]\n",
      "Epoch 97/200, Loss: 3.1770, Train Acc: 0.4321, Val Acc: 0.4339\n",
      "Epoch 97/200, Loss: 3.1770, Train Acc: 0.4321, Val Acc: 0.4339\n"
     ]
    },
    {
     "name": "stdout",
     "output_type": "stream",
     "text": [
      "Epoch 97/200, Loss: 3.1770, Train Acc: 0.4321, Val Acc: 0.4339\n"
     ]
    },
    {
     "name": "stderr",
     "output_type": "stream",
     "text": [
      "Iterating eval graphs: 100%|██████████| 35/35 [00:05<00:00,  6.15batch/s]\n",
      "Epoch 98/200, Loss: 3.0220, Train Acc: 0.4411, Val Acc: 0.4304\n",
      "Epoch 98/200, Loss: 3.0220, Train Acc: 0.4411, Val Acc: 0.4304\n"
     ]
    },
    {
     "name": "stdout",
     "output_type": "stream",
     "text": [
      "Epoch 98/200, Loss: 3.0220, Train Acc: 0.4411, Val Acc: 0.4304\n"
     ]
    },
    {
     "name": "stderr",
     "output_type": "stream",
     "text": [
      "Iterating eval graphs: 100%|██████████| 35/35 [00:06<00:00,  5.82batch/s]\n",
      "Epoch 99/200, Loss: 3.0892, Train Acc: 0.4404, Val Acc: 0.4161\n",
      "Epoch 99/200, Loss: 3.0892, Train Acc: 0.4404, Val Acc: 0.4161\n"
     ]
    },
    {
     "name": "stdout",
     "output_type": "stream",
     "text": [
      "Epoch 99/200, Loss: 3.0892, Train Acc: 0.4404, Val Acc: 0.4161\n"
     ]
    },
    {
     "name": "stderr",
     "output_type": "stream",
     "text": [
      "Iterating eval graphs: 100%|██████████| 35/35 [00:05<00:00,  5.90batch/s]\n",
      "Epoch 100/200, Loss: 2.9528, Train Acc: 0.4384, Val Acc: 0.4161\n",
      "Epoch 100/200, Loss: 2.9528, Train Acc: 0.4384, Val Acc: 0.4161\n"
     ]
    },
    {
     "name": "stdout",
     "output_type": "stream",
     "text": [
      "Epoch 100/200, Loss: 2.9528, Train Acc: 0.4384, Val Acc: 0.4161\n"
     ]
    },
    {
     "name": "stderr",
     "output_type": "stream",
     "text": [
      "Iterating eval graphs: 100%|██████████| 35/35 [00:06<00:00,  5.82batch/s]\n",
      "Epoch 101/200, Loss: 3.3668, Train Acc: 0.4190, Val Acc: 0.3991\n",
      "Epoch 101/200, Loss: 3.3668, Train Acc: 0.4190, Val Acc: 0.3991\n"
     ]
    },
    {
     "name": "stdout",
     "output_type": "stream",
     "text": [
      "Epoch 101/200, Loss: 3.3668, Train Acc: 0.4190, Val Acc: 0.3991\n"
     ]
    },
    {
     "name": "stderr",
     "output_type": "stream",
     "text": [
      "Iterating eval graphs: 100%|██████████| 35/35 [00:06<00:00,  5.73batch/s]\n",
      "Epoch 102/200, Loss: 3.0226, Train Acc: 0.4283, Val Acc: 0.4161\n",
      "Epoch 102/200, Loss: 3.0226, Train Acc: 0.4283, Val Acc: 0.4161\n"
     ]
    },
    {
     "name": "stdout",
     "output_type": "stream",
     "text": [
      "Epoch 102/200, Loss: 3.0226, Train Acc: 0.4283, Val Acc: 0.4161\n"
     ]
    },
    {
     "name": "stderr",
     "output_type": "stream",
     "text": [
      "Iterating eval graphs: 100%|██████████| 35/35 [00:05<00:00,  5.85batch/s]\n",
      "Epoch 103/200, Loss: 3.2991, Train Acc: 0.4225, Val Acc: 0.4268\n",
      "Epoch 103/200, Loss: 3.2991, Train Acc: 0.4225, Val Acc: 0.4268\n"
     ]
    },
    {
     "name": "stdout",
     "output_type": "stream",
     "text": [
      "Epoch 103/200, Loss: 3.2991, Train Acc: 0.4225, Val Acc: 0.4268\n"
     ]
    },
    {
     "name": "stderr",
     "output_type": "stream",
     "text": [
      "Iterating eval graphs: 100%|██████████| 35/35 [00:05<00:00,  6.10batch/s]\n",
      "Epoch 104/200, Loss: 3.0307, Train Acc: 0.4250, Val Acc: 0.4214\n",
      "Epoch 104/200, Loss: 3.0307, Train Acc: 0.4250, Val Acc: 0.4214\n"
     ]
    },
    {
     "name": "stdout",
     "output_type": "stream",
     "text": [
      "Epoch 104/200, Loss: 3.0307, Train Acc: 0.4250, Val Acc: 0.4214\n"
     ]
    },
    {
     "name": "stderr",
     "output_type": "stream",
     "text": [
      "Iterating eval graphs: 100%|██████████| 35/35 [00:05<00:00,  6.00batch/s]\n",
      "Epoch 105/200, Loss: 3.0104, Train Acc: 0.4288, Val Acc: 0.4268\n",
      "Epoch 105/200, Loss: 3.0104, Train Acc: 0.4288, Val Acc: 0.4268\n"
     ]
    },
    {
     "name": "stdout",
     "output_type": "stream",
     "text": [
      "Epoch 105/200, Loss: 3.0104, Train Acc: 0.4288, Val Acc: 0.4268\n"
     ]
    },
    {
     "name": "stderr",
     "output_type": "stream",
     "text": [
      "Iterating eval graphs: 100%|██████████| 35/35 [00:05<00:00,  5.89batch/s]\n",
      "Epoch 106/200, Loss: 2.9420, Train Acc: 0.4196, Val Acc: 0.4339\n",
      "Epoch 106/200, Loss: 2.9420, Train Acc: 0.4196, Val Acc: 0.4339\n"
     ]
    },
    {
     "name": "stdout",
     "output_type": "stream",
     "text": [
      "Epoch 106/200, Loss: 2.9420, Train Acc: 0.4196, Val Acc: 0.4339\n"
     ]
    },
    {
     "name": "stderr",
     "output_type": "stream",
     "text": [
      "Iterating eval graphs: 100%|██████████| 35/35 [00:06<00:00,  5.77batch/s]\n",
      "Epoch 107/200, Loss: 3.1306, Train Acc: 0.4350, Val Acc: 0.4384\n",
      "Epoch 107/200, Loss: 3.1306, Train Acc: 0.4350, Val Acc: 0.4384\n"
     ]
    },
    {
     "name": "stdout",
     "output_type": "stream",
     "text": [
      "Epoch 107/200, Loss: 3.1306, Train Acc: 0.4350, Val Acc: 0.4384\n",
      "Best model updated and saved at /home/onyxia/work/DL-Hackathon/hackaton/checkpoints/model_B_best.pth\n"
     ]
    },
    {
     "name": "stderr",
     "output_type": "stream",
     "text": [
      "Iterating eval graphs: 100%|██████████| 35/35 [00:05<00:00,  5.93batch/s]\n",
      "Epoch 108/200, Loss: 2.9314, Train Acc: 0.4368, Val Acc: 0.4339\n",
      "Epoch 108/200, Loss: 2.9314, Train Acc: 0.4368, Val Acc: 0.4339\n"
     ]
    },
    {
     "name": "stdout",
     "output_type": "stream",
     "text": [
      "Epoch 108/200, Loss: 2.9314, Train Acc: 0.4368, Val Acc: 0.4339\n"
     ]
    },
    {
     "name": "stderr",
     "output_type": "stream",
     "text": [
      "Iterating eval graphs: 100%|██████████| 35/35 [00:06<00:00,  5.76batch/s]\n",
      "Epoch 109/200, Loss: 2.9392, Train Acc: 0.4415, Val Acc: 0.4330\n",
      "Epoch 109/200, Loss: 2.9392, Train Acc: 0.4415, Val Acc: 0.4330\n"
     ]
    },
    {
     "name": "stdout",
     "output_type": "stream",
     "text": [
      "Epoch 109/200, Loss: 2.9392, Train Acc: 0.4415, Val Acc: 0.4330\n"
     ]
    },
    {
     "name": "stderr",
     "output_type": "stream",
     "text": [
      "Iterating eval graphs: 100%|██████████| 35/35 [00:05<00:00,  5.92batch/s]\n",
      "Epoch 110/200, Loss: 2.8843, Train Acc: 0.4382, Val Acc: 0.4491\n",
      "Epoch 110/200, Loss: 2.8843, Train Acc: 0.4382, Val Acc: 0.4491\n"
     ]
    },
    {
     "name": "stdout",
     "output_type": "stream",
     "text": [
      "Epoch 110/200, Loss: 2.8843, Train Acc: 0.4382, Val Acc: 0.4491\n",
      "Best model updated and saved at /home/onyxia/work/DL-Hackathon/hackaton/checkpoints/model_B_best.pth\n"
     ]
    },
    {
     "name": "stderr",
     "output_type": "stream",
     "text": [
      "Iterating eval graphs: 100%|██████████| 35/35 [00:05<00:00,  5.90batch/s]\n",
      "Epoch 111/200, Loss: 3.0487, Train Acc: 0.4402, Val Acc: 0.4232\n",
      "Epoch 111/200, Loss: 3.0487, Train Acc: 0.4402, Val Acc: 0.4232\n"
     ]
    },
    {
     "name": "stdout",
     "output_type": "stream",
     "text": [
      "Epoch 111/200, Loss: 3.0487, Train Acc: 0.4402, Val Acc: 0.4232\n"
     ]
    },
    {
     "name": "stderr",
     "output_type": "stream",
     "text": [
      "Iterating eval graphs: 100%|██████████| 35/35 [00:05<00:00,  5.84batch/s]\n",
      "Epoch 112/200, Loss: 2.9514, Train Acc: 0.4362, Val Acc: 0.4250\n",
      "Epoch 112/200, Loss: 2.9514, Train Acc: 0.4362, Val Acc: 0.4250\n"
     ]
    },
    {
     "name": "stdout",
     "output_type": "stream",
     "text": [
      "Epoch 112/200, Loss: 2.9514, Train Acc: 0.4362, Val Acc: 0.4250\n"
     ]
    },
    {
     "name": "stderr",
     "output_type": "stream",
     "text": [
      "Iterating eval graphs: 100%|██████████| 35/35 [00:05<00:00,  6.01batch/s]\n",
      "Epoch 113/200, Loss: 3.2035, Train Acc: 0.4375, Val Acc: 0.4268\n",
      "Epoch 113/200, Loss: 3.2035, Train Acc: 0.4375, Val Acc: 0.4268\n"
     ]
    },
    {
     "name": "stdout",
     "output_type": "stream",
     "text": [
      "Epoch 113/200, Loss: 3.2035, Train Acc: 0.4375, Val Acc: 0.4268\n"
     ]
    },
    {
     "name": "stderr",
     "output_type": "stream",
     "text": [
      "Iterating eval graphs: 100%|██████████| 35/35 [00:05<00:00,  5.89batch/s]\n",
      "Epoch 114/200, Loss: 2.9350, Train Acc: 0.4375, Val Acc: 0.4348\n",
      "Epoch 114/200, Loss: 2.9350, Train Acc: 0.4375, Val Acc: 0.4348\n"
     ]
    },
    {
     "name": "stdout",
     "output_type": "stream",
     "text": [
      "Epoch 114/200, Loss: 2.9350, Train Acc: 0.4375, Val Acc: 0.4348\n"
     ]
    },
    {
     "name": "stderr",
     "output_type": "stream",
     "text": [
      "Iterating eval graphs: 100%|██████████| 35/35 [00:05<00:00,  5.87batch/s]\n",
      "Epoch 115/200, Loss: 2.9942, Train Acc: 0.4404, Val Acc: 0.4062\n",
      "Epoch 115/200, Loss: 2.9942, Train Acc: 0.4404, Val Acc: 0.4062\n"
     ]
    },
    {
     "name": "stdout",
     "output_type": "stream",
     "text": [
      "Epoch 115/200, Loss: 2.9942, Train Acc: 0.4404, Val Acc: 0.4062\n"
     ]
    },
    {
     "name": "stderr",
     "output_type": "stream",
     "text": [
      "Iterating eval graphs: 100%|██████████| 35/35 [00:05<00:00,  6.13batch/s]\n",
      "Epoch 116/200, Loss: 2.9086, Train Acc: 0.4400, Val Acc: 0.4259\n",
      "Epoch 116/200, Loss: 2.9086, Train Acc: 0.4400, Val Acc: 0.4259\n"
     ]
    },
    {
     "name": "stdout",
     "output_type": "stream",
     "text": [
      "Epoch 116/200, Loss: 2.9086, Train Acc: 0.4400, Val Acc: 0.4259\n"
     ]
    },
    {
     "name": "stderr",
     "output_type": "stream",
     "text": [
      "Iterating eval graphs: 100%|██████████| 35/35 [00:06<00:00,  5.48batch/s]\n",
      "Epoch 117/200, Loss: 2.9731, Train Acc: 0.4424, Val Acc: 0.4366\n",
      "Epoch 117/200, Loss: 2.9731, Train Acc: 0.4424, Val Acc: 0.4366\n"
     ]
    },
    {
     "name": "stdout",
     "output_type": "stream",
     "text": [
      "Epoch 117/200, Loss: 2.9731, Train Acc: 0.4424, Val Acc: 0.4366\n"
     ]
    },
    {
     "name": "stderr",
     "output_type": "stream",
     "text": [
      "Iterating eval graphs: 100%|██████████| 35/35 [00:05<00:00,  6.00batch/s]\n",
      "Epoch 118/200, Loss: 2.8921, Train Acc: 0.4513, Val Acc: 0.4321\n",
      "Epoch 118/200, Loss: 2.8921, Train Acc: 0.4513, Val Acc: 0.4321\n"
     ]
    },
    {
     "name": "stdout",
     "output_type": "stream",
     "text": [
      "Epoch 118/200, Loss: 2.8921, Train Acc: 0.4513, Val Acc: 0.4321\n"
     ]
    },
    {
     "name": "stderr",
     "output_type": "stream",
     "text": [
      "Iterating eval graphs: 100%|██████████| 35/35 [00:05<00:00,  5.98batch/s]\n",
      "Epoch 119/200, Loss: 2.8447, Train Acc: 0.4547, Val Acc: 0.4339\n",
      "Epoch 119/200, Loss: 2.8447, Train Acc: 0.4547, Val Acc: 0.4339\n"
     ]
    },
    {
     "name": "stdout",
     "output_type": "stream",
     "text": [
      "Epoch 119/200, Loss: 2.8447, Train Acc: 0.4547, Val Acc: 0.4339\n"
     ]
    },
    {
     "name": "stderr",
     "output_type": "stream",
     "text": [
      "Iterating eval graphs: 100%|██████████| 35/35 [00:06<00:00,  5.83batch/s]\n",
      "Epoch 120/200, Loss: 2.6204, Train Acc: 0.4529, Val Acc: 0.4330\n",
      "Epoch 120/200, Loss: 2.6204, Train Acc: 0.4529, Val Acc: 0.4330\n"
     ]
    },
    {
     "name": "stdout",
     "output_type": "stream",
     "text": [
      "Epoch 120/200, Loss: 2.6204, Train Acc: 0.4529, Val Acc: 0.4330\n"
     ]
    },
    {
     "name": "stderr",
     "output_type": "stream",
     "text": [
      "Iterating eval graphs: 100%|██████████| 35/35 [00:05<00:00,  5.87batch/s]\n",
      "Epoch 121/200, Loss: 2.8286, Train Acc: 0.4554, Val Acc: 0.4214\n",
      "Epoch 121/200, Loss: 2.8286, Train Acc: 0.4554, Val Acc: 0.4214\n"
     ]
    },
    {
     "name": "stdout",
     "output_type": "stream",
     "text": [
      "Epoch 121/200, Loss: 2.8286, Train Acc: 0.4554, Val Acc: 0.4214\n"
     ]
    },
    {
     "name": "stderr",
     "output_type": "stream",
     "text": [
      "Iterating eval graphs: 100%|██████████| 35/35 [00:05<00:00,  6.02batch/s]\n",
      "Epoch 122/200, Loss: 2.7116, Train Acc: 0.4527, Val Acc: 0.4366\n",
      "Epoch 122/200, Loss: 2.7116, Train Acc: 0.4527, Val Acc: 0.4366\n"
     ]
    },
    {
     "name": "stdout",
     "output_type": "stream",
     "text": [
      "Epoch 122/200, Loss: 2.7116, Train Acc: 0.4527, Val Acc: 0.4366\n"
     ]
    },
    {
     "name": "stderr",
     "output_type": "stream",
     "text": [
      "Iterating eval graphs: 100%|██████████| 35/35 [00:05<00:00,  6.03batch/s]\n",
      "Epoch 123/200, Loss: 2.8319, Train Acc: 0.4433, Val Acc: 0.4259\n",
      "Epoch 123/200, Loss: 2.8319, Train Acc: 0.4433, Val Acc: 0.4259\n"
     ]
    },
    {
     "name": "stdout",
     "output_type": "stream",
     "text": [
      "Epoch 123/200, Loss: 2.8319, Train Acc: 0.4433, Val Acc: 0.4259\n"
     ]
    },
    {
     "name": "stderr",
     "output_type": "stream",
     "text": [
      "Iterating eval graphs: 100%|██████████| 35/35 [00:05<00:00,  6.05batch/s]\n",
      "Epoch 124/200, Loss: 3.0743, Train Acc: 0.4306, Val Acc: 0.4143\n",
      "Epoch 124/200, Loss: 3.0743, Train Acc: 0.4306, Val Acc: 0.4143\n"
     ]
    },
    {
     "name": "stdout",
     "output_type": "stream",
     "text": [
      "Epoch 124/200, Loss: 3.0743, Train Acc: 0.4306, Val Acc: 0.4143\n"
     ]
    },
    {
     "name": "stderr",
     "output_type": "stream",
     "text": [
      "Iterating eval graphs: 100%|██████████| 35/35 [00:05<00:00,  6.03batch/s]\n",
      "Epoch 125/200, Loss: 3.3218, Train Acc: 0.4252, Val Acc: 0.3830\n",
      "Epoch 125/200, Loss: 3.3218, Train Acc: 0.4252, Val Acc: 0.3830\n"
     ]
    },
    {
     "name": "stdout",
     "output_type": "stream",
     "text": [
      "Epoch 125/200, Loss: 3.3218, Train Acc: 0.4252, Val Acc: 0.3830\n"
     ]
    },
    {
     "name": "stderr",
     "output_type": "stream",
     "text": [
      "Iterating eval graphs: 100%|██████████| 35/35 [00:06<00:00,  5.81batch/s]\n",
      "Epoch 126/200, Loss: 3.0534, Train Acc: 0.4313, Val Acc: 0.4304\n",
      "Epoch 126/200, Loss: 3.0534, Train Acc: 0.4313, Val Acc: 0.4304\n"
     ]
    },
    {
     "name": "stdout",
     "output_type": "stream",
     "text": [
      "Epoch 126/200, Loss: 3.0534, Train Acc: 0.4313, Val Acc: 0.4304\n"
     ]
    },
    {
     "name": "stderr",
     "output_type": "stream",
     "text": [
      "Iterating eval graphs: 100%|██████████| 35/35 [00:05<00:00,  6.08batch/s]\n",
      "Epoch 127/200, Loss: 2.8362, Train Acc: 0.4420, Val Acc: 0.4304\n",
      "Epoch 127/200, Loss: 2.8362, Train Acc: 0.4420, Val Acc: 0.4304\n"
     ]
    },
    {
     "name": "stdout",
     "output_type": "stream",
     "text": [
      "Epoch 127/200, Loss: 2.8362, Train Acc: 0.4420, Val Acc: 0.4304\n"
     ]
    },
    {
     "name": "stderr",
     "output_type": "stream",
     "text": [
      "Iterating eval graphs: 100%|██████████| 35/35 [00:05<00:00,  5.96batch/s]\n",
      "Epoch 128/200, Loss: 2.7113, Train Acc: 0.4462, Val Acc: 0.4393\n",
      "Epoch 128/200, Loss: 2.7113, Train Acc: 0.4462, Val Acc: 0.4393\n"
     ]
    },
    {
     "name": "stdout",
     "output_type": "stream",
     "text": [
      "Epoch 128/200, Loss: 2.7113, Train Acc: 0.4462, Val Acc: 0.4393\n"
     ]
    },
    {
     "name": "stderr",
     "output_type": "stream",
     "text": [
      "Iterating eval graphs: 100%|██████████| 35/35 [00:05<00:00,  6.06batch/s]\n",
      "Epoch 129/200, Loss: 3.1466, Train Acc: 0.4395, Val Acc: 0.3563\n",
      "Epoch 129/200, Loss: 3.1466, Train Acc: 0.4395, Val Acc: 0.3563\n"
     ]
    },
    {
     "name": "stdout",
     "output_type": "stream",
     "text": [
      "Epoch 129/200, Loss: 3.1466, Train Acc: 0.4395, Val Acc: 0.3563\n"
     ]
    },
    {
     "name": "stderr",
     "output_type": "stream",
     "text": [
      "Iterating eval graphs: 100%|██████████| 35/35 [00:05<00:00,  6.06batch/s]\n",
      "Epoch 130/200, Loss: 3.0184, Train Acc: 0.4308, Val Acc: 0.4348\n",
      "Epoch 130/200, Loss: 3.0184, Train Acc: 0.4308, Val Acc: 0.4348\n"
     ]
    },
    {
     "name": "stdout",
     "output_type": "stream",
     "text": [
      "Epoch 130/200, Loss: 3.0184, Train Acc: 0.4308, Val Acc: 0.4348\n"
     ]
    },
    {
     "name": "stderr",
     "output_type": "stream",
     "text": [
      "Iterating eval graphs: 100%|██████████| 35/35 [00:05<00:00,  5.92batch/s]\n",
      "Epoch 131/200, Loss: 3.1187, Train Acc: 0.4348, Val Acc: 0.4330\n",
      "Epoch 131/200, Loss: 3.1187, Train Acc: 0.4348, Val Acc: 0.4330\n"
     ]
    },
    {
     "name": "stdout",
     "output_type": "stream",
     "text": [
      "Epoch 131/200, Loss: 3.1187, Train Acc: 0.4348, Val Acc: 0.4330\n"
     ]
    },
    {
     "name": "stderr",
     "output_type": "stream",
     "text": [
      "Iterating eval graphs: 100%|██████████| 35/35 [00:05<00:00,  6.07batch/s]\n",
      "Epoch 132/200, Loss: 2.8596, Train Acc: 0.4471, Val Acc: 0.4375\n",
      "Epoch 132/200, Loss: 2.8596, Train Acc: 0.4471, Val Acc: 0.4375\n"
     ]
    },
    {
     "name": "stdout",
     "output_type": "stream",
     "text": [
      "Epoch 132/200, Loss: 2.8596, Train Acc: 0.4471, Val Acc: 0.4375\n"
     ]
    },
    {
     "name": "stderr",
     "output_type": "stream",
     "text": [
      "Iterating eval graphs: 100%|██████████| 35/35 [00:05<00:00,  6.00batch/s]\n",
      "Epoch 133/200, Loss: 2.8973, Train Acc: 0.4458, Val Acc: 0.4411\n",
      "Epoch 133/200, Loss: 2.8973, Train Acc: 0.4458, Val Acc: 0.4411\n"
     ]
    },
    {
     "name": "stdout",
     "output_type": "stream",
     "text": [
      "Epoch 133/200, Loss: 2.8973, Train Acc: 0.4458, Val Acc: 0.4411\n"
     ]
    },
    {
     "name": "stderr",
     "output_type": "stream",
     "text": [
      "Iterating eval graphs: 100%|██████████| 35/35 [00:06<00:00,  5.81batch/s]\n",
      "Epoch 134/200, Loss: 2.6689, Train Acc: 0.4482, Val Acc: 0.4429\n",
      "Epoch 134/200, Loss: 2.6689, Train Acc: 0.4482, Val Acc: 0.4429\n"
     ]
    },
    {
     "name": "stdout",
     "output_type": "stream",
     "text": [
      "Epoch 134/200, Loss: 2.6689, Train Acc: 0.4482, Val Acc: 0.4429\n"
     ]
    },
    {
     "name": "stderr",
     "output_type": "stream",
     "text": [
      "Iterating eval graphs: 100%|██████████| 35/35 [00:05<00:00,  6.03batch/s]\n",
      "Epoch 135/200, Loss: 2.7551, Train Acc: 0.4547, Val Acc: 0.4348\n",
      "Epoch 135/200, Loss: 2.7551, Train Acc: 0.4547, Val Acc: 0.4348\n"
     ]
    },
    {
     "name": "stdout",
     "output_type": "stream",
     "text": [
      "Epoch 135/200, Loss: 2.7551, Train Acc: 0.4547, Val Acc: 0.4348\n"
     ]
    },
    {
     "name": "stderr",
     "output_type": "stream",
     "text": [
      "Iterating eval graphs: 100%|██████████| 35/35 [00:06<00:00,  5.69batch/s]\n",
      "Epoch 136/200, Loss: 3.1881, Train Acc: 0.4417, Val Acc: 0.4170\n",
      "Epoch 136/200, Loss: 3.1881, Train Acc: 0.4417, Val Acc: 0.4170\n"
     ]
    },
    {
     "name": "stdout",
     "output_type": "stream",
     "text": [
      "Epoch 136/200, Loss: 3.1881, Train Acc: 0.4417, Val Acc: 0.4170\n"
     ]
    },
    {
     "name": "stderr",
     "output_type": "stream",
     "text": [
      "Iterating eval graphs: 100%|██████████| 35/35 [00:06<00:00,  5.52batch/s]\n",
      "Epoch 137/200, Loss: 3.0974, Train Acc: 0.4451, Val Acc: 0.3955\n",
      "Epoch 137/200, Loss: 3.0974, Train Acc: 0.4451, Val Acc: 0.3955\n"
     ]
    },
    {
     "name": "stdout",
     "output_type": "stream",
     "text": [
      "Epoch 137/200, Loss: 3.0974, Train Acc: 0.4451, Val Acc: 0.3955\n"
     ]
    },
    {
     "name": "stderr",
     "output_type": "stream",
     "text": [
      "Iterating eval graphs: 100%|██████████| 35/35 [00:06<00:00,  5.83batch/s]\n",
      "Epoch 138/200, Loss: 2.9209, Train Acc: 0.4408, Val Acc: 0.4420\n",
      "Epoch 138/200, Loss: 2.9209, Train Acc: 0.4408, Val Acc: 0.4420\n"
     ]
    },
    {
     "name": "stdout",
     "output_type": "stream",
     "text": [
      "Epoch 138/200, Loss: 2.9209, Train Acc: 0.4408, Val Acc: 0.4420\n"
     ]
    },
    {
     "name": "stderr",
     "output_type": "stream",
     "text": [
      "Iterating eval graphs: 100%|██████████| 35/35 [00:05<00:00,  5.95batch/s]\n",
      "Epoch 139/200, Loss: 2.9353, Train Acc: 0.4344, Val Acc: 0.4089\n",
      "Epoch 139/200, Loss: 2.9353, Train Acc: 0.4344, Val Acc: 0.4089\n"
     ]
    },
    {
     "name": "stdout",
     "output_type": "stream",
     "text": [
      "Epoch 139/200, Loss: 2.9353, Train Acc: 0.4344, Val Acc: 0.4089\n"
     ]
    },
    {
     "name": "stderr",
     "output_type": "stream",
     "text": [
      "Iterating eval graphs: 100%|██████████| 35/35 [00:06<00:00,  5.77batch/s]\n",
      "Epoch 140/200, Loss: 2.7851, Train Acc: 0.4489, Val Acc: 0.4464\n",
      "Epoch 140/200, Loss: 2.7851, Train Acc: 0.4489, Val Acc: 0.4464\n"
     ]
    },
    {
     "name": "stdout",
     "output_type": "stream",
     "text": [
      "Epoch 140/200, Loss: 2.7851, Train Acc: 0.4489, Val Acc: 0.4464\n"
     ]
    },
    {
     "name": "stderr",
     "output_type": "stream",
     "text": [
      "Iterating eval graphs: 100%|██████████| 35/35 [00:05<00:00,  5.99batch/s]\n",
      "Epoch 141/200, Loss: 3.1049, Train Acc: 0.4449, Val Acc: 0.4125\n",
      "Epoch 141/200, Loss: 3.1049, Train Acc: 0.4449, Val Acc: 0.4125\n"
     ]
    },
    {
     "name": "stdout",
     "output_type": "stream",
     "text": [
      "Epoch 141/200, Loss: 3.1049, Train Acc: 0.4449, Val Acc: 0.4125\n"
     ]
    },
    {
     "name": "stderr",
     "output_type": "stream",
     "text": [
      "Iterating eval graphs: 100%|██████████| 35/35 [00:05<00:00,  5.93batch/s]\n",
      "Epoch 142/200, Loss: 2.7966, Train Acc: 0.4487, Val Acc: 0.4259\n",
      "Epoch 142/200, Loss: 2.7966, Train Acc: 0.4487, Val Acc: 0.4259\n"
     ]
    },
    {
     "name": "stdout",
     "output_type": "stream",
     "text": [
      "Epoch 142/200, Loss: 2.7966, Train Acc: 0.4487, Val Acc: 0.4259\n"
     ]
    },
    {
     "name": "stderr",
     "output_type": "stream",
     "text": [
      "Iterating eval graphs: 100%|██████████| 35/35 [00:05<00:00,  5.97batch/s]\n",
      "Epoch 143/200, Loss: 2.7965, Train Acc: 0.4540, Val Acc: 0.4330\n",
      "Epoch 143/200, Loss: 2.7965, Train Acc: 0.4540, Val Acc: 0.4330\n"
     ]
    },
    {
     "name": "stdout",
     "output_type": "stream",
     "text": [
      "Epoch 143/200, Loss: 2.7965, Train Acc: 0.4540, Val Acc: 0.4330\n"
     ]
    },
    {
     "name": "stderr",
     "output_type": "stream",
     "text": [
      "Iterating eval graphs: 100%|██████████| 35/35 [00:05<00:00,  6.09batch/s]\n",
      "Epoch 144/200, Loss: 2.6766, Train Acc: 0.4540, Val Acc: 0.4295\n",
      "Epoch 144/200, Loss: 2.6766, Train Acc: 0.4540, Val Acc: 0.4295\n"
     ]
    },
    {
     "name": "stdout",
     "output_type": "stream",
     "text": [
      "Epoch 144/200, Loss: 2.6766, Train Acc: 0.4540, Val Acc: 0.4295\n"
     ]
    },
    {
     "name": "stderr",
     "output_type": "stream",
     "text": [
      "Iterating eval graphs: 100%|██████████| 35/35 [00:05<00:00,  5.97batch/s]\n",
      "Epoch 145/200, Loss: 2.7312, Train Acc: 0.4556, Val Acc: 0.4384\n",
      "Epoch 145/200, Loss: 2.7312, Train Acc: 0.4556, Val Acc: 0.4384\n"
     ]
    },
    {
     "name": "stdout",
     "output_type": "stream",
     "text": [
      "Epoch 145/200, Loss: 2.7312, Train Acc: 0.4556, Val Acc: 0.4384\n"
     ]
    },
    {
     "name": "stderr",
     "output_type": "stream",
     "text": [
      "Iterating eval graphs: 100%|██████████| 35/35 [00:05<00:00,  5.92batch/s]\n",
      "Epoch 146/200, Loss: 2.8654, Train Acc: 0.4435, Val Acc: 0.4241\n",
      "Epoch 146/200, Loss: 2.8654, Train Acc: 0.4435, Val Acc: 0.4241\n"
     ]
    },
    {
     "name": "stdout",
     "output_type": "stream",
     "text": [
      "Epoch 146/200, Loss: 2.8654, Train Acc: 0.4435, Val Acc: 0.4241\n"
     ]
    },
    {
     "name": "stderr",
     "output_type": "stream",
     "text": [
      "Iterating eval graphs: 100%|██████████| 35/35 [00:06<00:00,  5.81batch/s]\n",
      "Epoch 147/200, Loss: 2.8615, Train Acc: 0.4511, Val Acc: 0.4384\n",
      "Epoch 147/200, Loss: 2.8615, Train Acc: 0.4511, Val Acc: 0.4384\n"
     ]
    },
    {
     "name": "stdout",
     "output_type": "stream",
     "text": [
      "Epoch 147/200, Loss: 2.8615, Train Acc: 0.4511, Val Acc: 0.4384\n"
     ]
    },
    {
     "name": "stderr",
     "output_type": "stream",
     "text": [
      "Iterating eval graphs: 100%|██████████| 35/35 [00:06<00:00,  5.81batch/s]\n",
      "Epoch 148/200, Loss: 3.1850, Train Acc: 0.4538, Val Acc: 0.4304\n",
      "Epoch 148/200, Loss: 3.1850, Train Acc: 0.4538, Val Acc: 0.4304\n"
     ]
    },
    {
     "name": "stdout",
     "output_type": "stream",
     "text": [
      "Epoch 148/200, Loss: 3.1850, Train Acc: 0.4538, Val Acc: 0.4304\n"
     ]
    },
    {
     "name": "stderr",
     "output_type": "stream",
     "text": [
      "Iterating eval graphs: 100%|██████████| 35/35 [00:05<00:00,  5.95batch/s]\n",
      "Epoch 149/200, Loss: 2.9682, Train Acc: 0.4538, Val Acc: 0.4464\n",
      "Epoch 149/200, Loss: 2.9682, Train Acc: 0.4538, Val Acc: 0.4464\n"
     ]
    },
    {
     "name": "stdout",
     "output_type": "stream",
     "text": [
      "Epoch 149/200, Loss: 2.9682, Train Acc: 0.4538, Val Acc: 0.4464\n"
     ]
    },
    {
     "name": "stderr",
     "output_type": "stream",
     "text": [
      "Iterating eval graphs: 100%|██████████| 35/35 [00:05<00:00,  5.90batch/s]\n",
      "Epoch 150/200, Loss: 2.6886, Train Acc: 0.4585, Val Acc: 0.4464\n",
      "Epoch 150/200, Loss: 2.6886, Train Acc: 0.4585, Val Acc: 0.4464\n"
     ]
    },
    {
     "name": "stdout",
     "output_type": "stream",
     "text": [
      "Epoch 150/200, Loss: 2.6886, Train Acc: 0.4585, Val Acc: 0.4464\n"
     ]
    },
    {
     "name": "stderr",
     "output_type": "stream",
     "text": [
      "Iterating eval graphs: 100%|██████████| 35/35 [00:05<00:00,  6.02batch/s]\n",
      "Epoch 151/200, Loss: 2.9531, Train Acc: 0.4500, Val Acc: 0.4339\n",
      "Epoch 151/200, Loss: 2.9531, Train Acc: 0.4500, Val Acc: 0.4339\n"
     ]
    },
    {
     "name": "stdout",
     "output_type": "stream",
     "text": [
      "Epoch 151/200, Loss: 2.9531, Train Acc: 0.4500, Val Acc: 0.4339\n"
     ]
    },
    {
     "name": "stderr",
     "output_type": "stream",
     "text": [
      "Iterating eval graphs: 100%|██████████| 35/35 [00:05<00:00,  6.06batch/s]\n",
      "Epoch 152/200, Loss: 2.6915, Train Acc: 0.4529, Val Acc: 0.4437\n",
      "Epoch 152/200, Loss: 2.6915, Train Acc: 0.4529, Val Acc: 0.4437\n"
     ]
    },
    {
     "name": "stdout",
     "output_type": "stream",
     "text": [
      "Epoch 152/200, Loss: 2.6915, Train Acc: 0.4529, Val Acc: 0.4437\n"
     ]
    },
    {
     "name": "stderr",
     "output_type": "stream",
     "text": [
      "Iterating eval graphs: 100%|██████████| 35/35 [00:05<00:00,  5.99batch/s]\n",
      "Epoch 153/200, Loss: 2.7396, Train Acc: 0.4444, Val Acc: 0.4330\n",
      "Epoch 153/200, Loss: 2.7396, Train Acc: 0.4444, Val Acc: 0.4330\n"
     ]
    },
    {
     "name": "stdout",
     "output_type": "stream",
     "text": [
      "Epoch 153/200, Loss: 2.7396, Train Acc: 0.4444, Val Acc: 0.4330\n"
     ]
    },
    {
     "name": "stderr",
     "output_type": "stream",
     "text": [
      "Iterating eval graphs: 100%|██████████| 35/35 [00:05<00:00,  5.95batch/s]\n",
      "Epoch 154/200, Loss: 2.6385, Train Acc: 0.4679, Val Acc: 0.4402\n",
      "Epoch 154/200, Loss: 2.6385, Train Acc: 0.4679, Val Acc: 0.4402\n"
     ]
    },
    {
     "name": "stdout",
     "output_type": "stream",
     "text": [
      "Epoch 154/200, Loss: 2.6385, Train Acc: 0.4679, Val Acc: 0.4402\n"
     ]
    },
    {
     "name": "stderr",
     "output_type": "stream",
     "text": [
      "Iterating eval graphs: 100%|██████████| 35/35 [00:05<00:00,  5.92batch/s]\n",
      "Epoch 155/200, Loss: 2.5644, Train Acc: 0.4699, Val Acc: 0.4580\n",
      "Epoch 155/200, Loss: 2.5644, Train Acc: 0.4699, Val Acc: 0.4580\n"
     ]
    },
    {
     "name": "stdout",
     "output_type": "stream",
     "text": [
      "Epoch 155/200, Loss: 2.5644, Train Acc: 0.4699, Val Acc: 0.4580\n",
      "Best model updated and saved at /home/onyxia/work/DL-Hackathon/hackaton/checkpoints/model_B_best.pth\n"
     ]
    },
    {
     "name": "stderr",
     "output_type": "stream",
     "text": [
      "Iterating eval graphs: 100%|██████████| 35/35 [00:06<00:00,  5.82batch/s]\n",
      "Epoch 156/200, Loss: 2.6661, Train Acc: 0.4643, Val Acc: 0.4437\n",
      "Epoch 156/200, Loss: 2.6661, Train Acc: 0.4643, Val Acc: 0.4437\n"
     ]
    },
    {
     "name": "stdout",
     "output_type": "stream",
     "text": [
      "Epoch 156/200, Loss: 2.6661, Train Acc: 0.4643, Val Acc: 0.4437\n"
     ]
    },
    {
     "name": "stderr",
     "output_type": "stream",
     "text": [
      "Iterating eval graphs: 100%|██████████| 35/35 [00:05<00:00,  6.03batch/s]\n",
      "Epoch 157/200, Loss: 2.6024, Train Acc: 0.4672, Val Acc: 0.4437\n",
      "Epoch 157/200, Loss: 2.6024, Train Acc: 0.4672, Val Acc: 0.4437\n"
     ]
    },
    {
     "name": "stdout",
     "output_type": "stream",
     "text": [
      "Epoch 157/200, Loss: 2.6024, Train Acc: 0.4672, Val Acc: 0.4437\n"
     ]
    },
    {
     "name": "stderr",
     "output_type": "stream",
     "text": [
      "Iterating eval graphs: 100%|██████████| 35/35 [00:05<00:00,  5.87batch/s]\n",
      "Epoch 158/200, Loss: 2.8239, Train Acc: 0.4679, Val Acc: 0.4366\n",
      "Epoch 158/200, Loss: 2.8239, Train Acc: 0.4679, Val Acc: 0.4366\n"
     ]
    },
    {
     "name": "stdout",
     "output_type": "stream",
     "text": [
      "Epoch 158/200, Loss: 2.8239, Train Acc: 0.4679, Val Acc: 0.4366\n"
     ]
    },
    {
     "name": "stderr",
     "output_type": "stream",
     "text": [
      "Iterating eval graphs: 100%|██████████| 35/35 [00:05<00:00,  5.88batch/s]\n",
      "Epoch 159/200, Loss: 2.7270, Train Acc: 0.4571, Val Acc: 0.4357\n",
      "Epoch 159/200, Loss: 2.7270, Train Acc: 0.4571, Val Acc: 0.4357\n"
     ]
    },
    {
     "name": "stdout",
     "output_type": "stream",
     "text": [
      "Epoch 159/200, Loss: 2.7270, Train Acc: 0.4571, Val Acc: 0.4357\n"
     ]
    },
    {
     "name": "stderr",
     "output_type": "stream",
     "text": [
      "Iterating eval graphs: 100%|██████████| 35/35 [00:05<00:00,  6.01batch/s]\n",
      "Epoch 160/200, Loss: 2.8222, Train Acc: 0.4612, Val Acc: 0.3491\n",
      "Epoch 160/200, Loss: 2.8222, Train Acc: 0.4612, Val Acc: 0.3491\n"
     ]
    },
    {
     "name": "stdout",
     "output_type": "stream",
     "text": [
      "Epoch 160/200, Loss: 2.8222, Train Acc: 0.4612, Val Acc: 0.3491\n"
     ]
    },
    {
     "name": "stderr",
     "output_type": "stream",
     "text": [
      "Iterating eval graphs: 100%|██████████| 35/35 [00:05<00:00,  5.90batch/s]\n",
      "Epoch 161/200, Loss: 2.6945, Train Acc: 0.4603, Val Acc: 0.4411\n",
      "Epoch 161/200, Loss: 2.6945, Train Acc: 0.4603, Val Acc: 0.4411\n"
     ]
    },
    {
     "name": "stdout",
     "output_type": "stream",
     "text": [
      "Epoch 161/200, Loss: 2.6945, Train Acc: 0.4603, Val Acc: 0.4411\n"
     ]
    },
    {
     "name": "stderr",
     "output_type": "stream",
     "text": [
      "Iterating eval graphs: 100%|██████████| 35/35 [00:05<00:00,  5.91batch/s]\n",
      "Epoch 162/200, Loss: 2.6254, Train Acc: 0.4647, Val Acc: 0.4393\n",
      "Epoch 162/200, Loss: 2.6254, Train Acc: 0.4647, Val Acc: 0.4393\n"
     ]
    },
    {
     "name": "stdout",
     "output_type": "stream",
     "text": [
      "Epoch 162/200, Loss: 2.6254, Train Acc: 0.4647, Val Acc: 0.4393\n"
     ]
    },
    {
     "name": "stderr",
     "output_type": "stream",
     "text": [
      "Iterating eval graphs: 100%|██████████| 35/35 [00:05<00:00,  6.06batch/s]\n",
      "Epoch 163/200, Loss: 2.6404, Train Acc: 0.4654, Val Acc: 0.4518\n",
      "Epoch 163/200, Loss: 2.6404, Train Acc: 0.4654, Val Acc: 0.4518\n"
     ]
    },
    {
     "name": "stdout",
     "output_type": "stream",
     "text": [
      "Epoch 163/200, Loss: 2.6404, Train Acc: 0.4654, Val Acc: 0.4518\n"
     ]
    },
    {
     "name": "stderr",
     "output_type": "stream",
     "text": [
      "Iterating eval graphs: 100%|██████████| 35/35 [00:05<00:00,  5.95batch/s]\n",
      "Epoch 164/200, Loss: 2.6867, Train Acc: 0.4634, Val Acc: 0.4491\n",
      "Epoch 164/200, Loss: 2.6867, Train Acc: 0.4634, Val Acc: 0.4491\n"
     ]
    },
    {
     "name": "stdout",
     "output_type": "stream",
     "text": [
      "Epoch 164/200, Loss: 2.6867, Train Acc: 0.4634, Val Acc: 0.4491\n"
     ]
    },
    {
     "name": "stderr",
     "output_type": "stream",
     "text": [
      "Iterating eval graphs: 100%|██████████| 35/35 [00:05<00:00,  5.96batch/s]\n",
      "Epoch 165/200, Loss: 2.6765, Train Acc: 0.4614, Val Acc: 0.4464\n",
      "Epoch 165/200, Loss: 2.6765, Train Acc: 0.4614, Val Acc: 0.4464\n"
     ]
    },
    {
     "name": "stdout",
     "output_type": "stream",
     "text": [
      "Epoch 165/200, Loss: 2.6765, Train Acc: 0.4614, Val Acc: 0.4464\n"
     ]
    },
    {
     "name": "stderr",
     "output_type": "stream",
     "text": [
      "Iterating eval graphs: 100%|██████████| 35/35 [00:05<00:00,  5.97batch/s]\n",
      "Epoch 166/200, Loss: 2.7353, Train Acc: 0.4638, Val Acc: 0.4313\n",
      "Epoch 166/200, Loss: 2.7353, Train Acc: 0.4638, Val Acc: 0.4313\n"
     ]
    },
    {
     "name": "stdout",
     "output_type": "stream",
     "text": [
      "Epoch 166/200, Loss: 2.7353, Train Acc: 0.4638, Val Acc: 0.4313\n"
     ]
    },
    {
     "name": "stderr",
     "output_type": "stream",
     "text": [
      "Iterating eval graphs: 100%|██████████| 35/35 [00:05<00:00,  5.95batch/s]\n",
      "Epoch 167/200, Loss: 2.7126, Train Acc: 0.4560, Val Acc: 0.4196\n",
      "Epoch 167/200, Loss: 2.7126, Train Acc: 0.4560, Val Acc: 0.4196\n"
     ]
    },
    {
     "name": "stdout",
     "output_type": "stream",
     "text": [
      "Epoch 167/200, Loss: 2.7126, Train Acc: 0.4560, Val Acc: 0.4196\n"
     ]
    },
    {
     "name": "stderr",
     "output_type": "stream",
     "text": [
      "Iterating eval graphs: 100%|██████████| 35/35 [00:05<00:00,  5.84batch/s]\n",
      "Epoch 168/200, Loss: 2.6473, Train Acc: 0.4683, Val Acc: 0.4429\n",
      "Epoch 168/200, Loss: 2.6473, Train Acc: 0.4683, Val Acc: 0.4429\n"
     ]
    },
    {
     "name": "stdout",
     "output_type": "stream",
     "text": [
      "Epoch 168/200, Loss: 2.6473, Train Acc: 0.4683, Val Acc: 0.4429\n"
     ]
    },
    {
     "name": "stderr",
     "output_type": "stream",
     "text": [
      "Iterating eval graphs: 100%|██████████| 35/35 [00:05<00:00,  5.84batch/s]\n",
      "Epoch 169/200, Loss: 2.6806, Train Acc: 0.4578, Val Acc: 0.4455\n",
      "Epoch 169/200, Loss: 2.6806, Train Acc: 0.4578, Val Acc: 0.4455\n"
     ]
    },
    {
     "name": "stdout",
     "output_type": "stream",
     "text": [
      "Epoch 169/200, Loss: 2.6806, Train Acc: 0.4578, Val Acc: 0.4455\n"
     ]
    },
    {
     "name": "stderr",
     "output_type": "stream",
     "text": [
      "Iterating eval graphs: 100%|██████████| 35/35 [00:05<00:00,  5.93batch/s]\n",
      "Epoch 170/200, Loss: 2.8246, Train Acc: 0.4618, Val Acc: 0.3812\n",
      "Epoch 170/200, Loss: 2.8246, Train Acc: 0.4618, Val Acc: 0.3812\n"
     ]
    },
    {
     "name": "stdout",
     "output_type": "stream",
     "text": [
      "Epoch 170/200, Loss: 2.8246, Train Acc: 0.4618, Val Acc: 0.3812\n"
     ]
    },
    {
     "name": "stderr",
     "output_type": "stream",
     "text": [
      "Iterating eval graphs: 100%|██████████| 35/35 [00:05<00:00,  6.03batch/s]\n",
      "Epoch 171/200, Loss: 2.9433, Train Acc: 0.4545, Val Acc: 0.4009\n",
      "Epoch 171/200, Loss: 2.9433, Train Acc: 0.4545, Val Acc: 0.4009\n"
     ]
    },
    {
     "name": "stdout",
     "output_type": "stream",
     "text": [
      "Epoch 171/200, Loss: 2.9433, Train Acc: 0.4545, Val Acc: 0.4009\n"
     ]
    },
    {
     "name": "stderr",
     "output_type": "stream",
     "text": [
      "Iterating eval graphs: 100%|██████████| 35/35 [00:05<00:00,  5.89batch/s]\n",
      "Epoch 172/200, Loss: 2.9959, Train Acc: 0.4504, Val Acc: 0.3518\n",
      "Epoch 172/200, Loss: 2.9959, Train Acc: 0.4504, Val Acc: 0.3518\n"
     ]
    },
    {
     "name": "stdout",
     "output_type": "stream",
     "text": [
      "Epoch 172/200, Loss: 2.9959, Train Acc: 0.4504, Val Acc: 0.3518\n"
     ]
    },
    {
     "name": "stderr",
     "output_type": "stream",
     "text": [
      "Iterating eval graphs: 100%|██████████| 35/35 [00:05<00:00,  6.16batch/s]\n",
      "Epoch 173/200, Loss: 2.8762, Train Acc: 0.4415, Val Acc: 0.4580\n",
      "Epoch 173/200, Loss: 2.8762, Train Acc: 0.4415, Val Acc: 0.4580\n"
     ]
    },
    {
     "name": "stdout",
     "output_type": "stream",
     "text": [
      "Epoch 173/200, Loss: 2.8762, Train Acc: 0.4415, Val Acc: 0.4580\n"
     ]
    },
    {
     "name": "stderr",
     "output_type": "stream",
     "text": [
      "Iterating eval graphs: 100%|██████████| 35/35 [00:05<00:00,  6.13batch/s]\n",
      "Epoch 174/200, Loss: 2.6156, Train Acc: 0.4587, Val Acc: 0.4643\n",
      "Epoch 174/200, Loss: 2.6156, Train Acc: 0.4587, Val Acc: 0.4643\n"
     ]
    },
    {
     "name": "stdout",
     "output_type": "stream",
     "text": [
      "Epoch 174/200, Loss: 2.6156, Train Acc: 0.4587, Val Acc: 0.4643\n",
      "Best model updated and saved at /home/onyxia/work/DL-Hackathon/hackaton/checkpoints/model_B_best.pth\n"
     ]
    },
    {
     "name": "stderr",
     "output_type": "stream",
     "text": [
      "Iterating eval graphs: 100%|██████████| 35/35 [00:06<00:00,  5.81batch/s]\n",
      "Epoch 175/200, Loss: 2.7530, Train Acc: 0.4643, Val Acc: 0.4384\n",
      "Epoch 175/200, Loss: 2.7530, Train Acc: 0.4643, Val Acc: 0.4384\n"
     ]
    },
    {
     "name": "stdout",
     "output_type": "stream",
     "text": [
      "Epoch 175/200, Loss: 2.7530, Train Acc: 0.4643, Val Acc: 0.4384\n"
     ]
    },
    {
     "name": "stderr",
     "output_type": "stream",
     "text": [
      "Iterating eval graphs: 100%|██████████| 35/35 [00:05<00:00,  6.07batch/s]\n",
      "Epoch 176/200, Loss: 2.7686, Train Acc: 0.4585, Val Acc: 0.4607\n",
      "Epoch 176/200, Loss: 2.7686, Train Acc: 0.4585, Val Acc: 0.4607\n"
     ]
    },
    {
     "name": "stdout",
     "output_type": "stream",
     "text": [
      "Epoch 176/200, Loss: 2.7686, Train Acc: 0.4585, Val Acc: 0.4607\n"
     ]
    },
    {
     "name": "stderr",
     "output_type": "stream",
     "text": [
      "Iterating eval graphs: 100%|██████████| 35/35 [00:05<00:00,  5.96batch/s]\n",
      "Epoch 177/200, Loss: 2.6140, Train Acc: 0.4623, Val Acc: 0.4536\n",
      "Epoch 177/200, Loss: 2.6140, Train Acc: 0.4623, Val Acc: 0.4536\n"
     ]
    },
    {
     "name": "stdout",
     "output_type": "stream",
     "text": [
      "Epoch 177/200, Loss: 2.6140, Train Acc: 0.4623, Val Acc: 0.4536\n"
     ]
    },
    {
     "name": "stderr",
     "output_type": "stream",
     "text": [
      "Iterating eval graphs: 100%|██████████| 35/35 [00:06<00:00,  5.72batch/s]\n",
      "Epoch 178/200, Loss: 2.4672, Train Acc: 0.4741, Val Acc: 0.4473\n",
      "Epoch 178/200, Loss: 2.4672, Train Acc: 0.4741, Val Acc: 0.4473\n"
     ]
    },
    {
     "name": "stdout",
     "output_type": "stream",
     "text": [
      "Epoch 178/200, Loss: 2.4672, Train Acc: 0.4741, Val Acc: 0.4473\n"
     ]
    },
    {
     "name": "stderr",
     "output_type": "stream",
     "text": [
      "Iterating eval graphs: 100%|██████████| 35/35 [00:05<00:00,  6.03batch/s]\n",
      "Epoch 179/200, Loss: 2.5393, Train Acc: 0.4743, Val Acc: 0.4625\n",
      "Epoch 179/200, Loss: 2.5393, Train Acc: 0.4743, Val Acc: 0.4625\n"
     ]
    },
    {
     "name": "stdout",
     "output_type": "stream",
     "text": [
      "Epoch 179/200, Loss: 2.5393, Train Acc: 0.4743, Val Acc: 0.4625\n"
     ]
    },
    {
     "name": "stderr",
     "output_type": "stream",
     "text": [
      "Iterating eval graphs: 100%|██████████| 35/35 [00:06<00:00,  5.78batch/s]\n",
      "Epoch 180/200, Loss: 2.6436, Train Acc: 0.4641, Val Acc: 0.4205\n",
      "Epoch 180/200, Loss: 2.6436, Train Acc: 0.4641, Val Acc: 0.4205\n"
     ]
    },
    {
     "name": "stdout",
     "output_type": "stream",
     "text": [
      "Epoch 180/200, Loss: 2.6436, Train Acc: 0.4641, Val Acc: 0.4205\n"
     ]
    },
    {
     "name": "stderr",
     "output_type": "stream",
     "text": [
      "Iterating eval graphs: 100%|██████████| 35/35 [00:05<00:00,  6.03batch/s]\n",
      "Epoch 181/200, Loss: 2.6897, Train Acc: 0.4674, Val Acc: 0.4277\n",
      "Epoch 181/200, Loss: 2.6897, Train Acc: 0.4674, Val Acc: 0.4277\n"
     ]
    },
    {
     "name": "stdout",
     "output_type": "stream",
     "text": [
      "Epoch 181/200, Loss: 2.6897, Train Acc: 0.4674, Val Acc: 0.4277\n"
     ]
    },
    {
     "name": "stderr",
     "output_type": "stream",
     "text": [
      "Iterating eval graphs: 100%|██████████| 35/35 [00:05<00:00,  5.89batch/s]\n",
      "Epoch 182/200, Loss: 2.7387, Train Acc: 0.4558, Val Acc: 0.4384\n",
      "Epoch 182/200, Loss: 2.7387, Train Acc: 0.4558, Val Acc: 0.4384\n"
     ]
    },
    {
     "name": "stdout",
     "output_type": "stream",
     "text": [
      "Epoch 182/200, Loss: 2.7387, Train Acc: 0.4558, Val Acc: 0.4384\n"
     ]
    },
    {
     "name": "stderr",
     "output_type": "stream",
     "text": [
      "Iterating eval graphs: 100%|██████████| 35/35 [00:05<00:00,  5.85batch/s]\n",
      "Epoch 183/200, Loss: 2.8402, Train Acc: 0.4592, Val Acc: 0.3982\n",
      "Epoch 183/200, Loss: 2.8402, Train Acc: 0.4592, Val Acc: 0.3982\n"
     ]
    },
    {
     "name": "stdout",
     "output_type": "stream",
     "text": [
      "Epoch 183/200, Loss: 2.8402, Train Acc: 0.4592, Val Acc: 0.3982\n"
     ]
    },
    {
     "name": "stderr",
     "output_type": "stream",
     "text": [
      "Iterating eval graphs: 100%|██████████| 35/35 [00:05<00:00,  6.03batch/s]\n",
      "Epoch 184/200, Loss: 2.9239, Train Acc: 0.4516, Val Acc: 0.4304\n",
      "Epoch 184/200, Loss: 2.9239, Train Acc: 0.4516, Val Acc: 0.4304\n"
     ]
    },
    {
     "name": "stdout",
     "output_type": "stream",
     "text": [
      "Epoch 184/200, Loss: 2.9239, Train Acc: 0.4516, Val Acc: 0.4304\n"
     ]
    },
    {
     "name": "stderr",
     "output_type": "stream",
     "text": [
      "Iterating eval graphs: 100%|██████████| 35/35 [00:05<00:00,  5.94batch/s]\n",
      "Epoch 185/200, Loss: 2.7006, Train Acc: 0.4641, Val Acc: 0.4196\n",
      "Epoch 185/200, Loss: 2.7006, Train Acc: 0.4641, Val Acc: 0.4196\n"
     ]
    },
    {
     "name": "stdout",
     "output_type": "stream",
     "text": [
      "Epoch 185/200, Loss: 2.7006, Train Acc: 0.4641, Val Acc: 0.4196\n"
     ]
    },
    {
     "name": "stderr",
     "output_type": "stream",
     "text": [
      "Iterating eval graphs: 100%|██████████| 35/35 [00:05<00:00,  5.95batch/s]\n",
      "Epoch 186/200, Loss: 2.6003, Train Acc: 0.4712, Val Acc: 0.4420\n",
      "Epoch 186/200, Loss: 2.6003, Train Acc: 0.4712, Val Acc: 0.4420\n"
     ]
    },
    {
     "name": "stdout",
     "output_type": "stream",
     "text": [
      "Epoch 186/200, Loss: 2.6003, Train Acc: 0.4712, Val Acc: 0.4420\n"
     ]
    },
    {
     "name": "stderr",
     "output_type": "stream",
     "text": [
      "Iterating eval graphs: 100%|██████████| 35/35 [00:06<00:00,  5.74batch/s]\n",
      "Epoch 187/200, Loss: 2.5346, Train Acc: 0.4754, Val Acc: 0.4420\n",
      "Epoch 187/200, Loss: 2.5346, Train Acc: 0.4754, Val Acc: 0.4420\n"
     ]
    },
    {
     "name": "stdout",
     "output_type": "stream",
     "text": [
      "Epoch 187/200, Loss: 2.5346, Train Acc: 0.4754, Val Acc: 0.4420\n"
     ]
    },
    {
     "name": "stderr",
     "output_type": "stream",
     "text": [
      "Iterating eval graphs: 100%|██████████| 35/35 [00:05<00:00,  5.90batch/s]\n",
      "Epoch 188/200, Loss: 2.4738, Train Acc: 0.4830, Val Acc: 0.4554\n",
      "Epoch 188/200, Loss: 2.4738, Train Acc: 0.4830, Val Acc: 0.4554\n"
     ]
    },
    {
     "name": "stdout",
     "output_type": "stream",
     "text": [
      "Epoch 188/200, Loss: 2.4738, Train Acc: 0.4830, Val Acc: 0.4554\n"
     ]
    },
    {
     "name": "stderr",
     "output_type": "stream",
     "text": [
      "Iterating eval graphs: 100%|██████████| 35/35 [00:05<00:00,  6.02batch/s]\n",
      "Epoch 189/200, Loss: 2.5118, Train Acc: 0.4777, Val Acc: 0.4437\n",
      "Epoch 189/200, Loss: 2.5118, Train Acc: 0.4777, Val Acc: 0.4437\n"
     ]
    },
    {
     "name": "stdout",
     "output_type": "stream",
     "text": [
      "Epoch 189/200, Loss: 2.5118, Train Acc: 0.4777, Val Acc: 0.4437\n"
     ]
    },
    {
     "name": "stderr",
     "output_type": "stream",
     "text": [
      "Iterating eval graphs: 100%|██████████| 35/35 [00:05<00:00,  5.93batch/s]\n",
      "Epoch 190/200, Loss: 2.4849, Train Acc: 0.4846, Val Acc: 0.4473\n",
      "Epoch 190/200, Loss: 2.4849, Train Acc: 0.4846, Val Acc: 0.4473\n"
     ]
    },
    {
     "name": "stdout",
     "output_type": "stream",
     "text": [
      "Epoch 190/200, Loss: 2.4849, Train Acc: 0.4846, Val Acc: 0.4473\n"
     ]
    },
    {
     "name": "stderr",
     "output_type": "stream",
     "text": [
      "Iterating eval graphs: 100%|██████████| 35/35 [00:05<00:00,  6.07batch/s]\n",
      "Epoch 191/200, Loss: 2.5315, Train Acc: 0.4853, Val Acc: 0.4634\n",
      "Epoch 191/200, Loss: 2.5315, Train Acc: 0.4853, Val Acc: 0.4634\n"
     ]
    },
    {
     "name": "stdout",
     "output_type": "stream",
     "text": [
      "Epoch 191/200, Loss: 2.5315, Train Acc: 0.4853, Val Acc: 0.4634\n"
     ]
    },
    {
     "name": "stderr",
     "output_type": "stream",
     "text": [
      "Iterating eval graphs: 100%|██████████| 35/35 [00:05<00:00,  5.95batch/s]\n",
      "Epoch 192/200, Loss: 2.6865, Train Acc: 0.4656, Val Acc: 0.4429\n",
      "Epoch 192/200, Loss: 2.6865, Train Acc: 0.4656, Val Acc: 0.4429\n"
     ]
    },
    {
     "name": "stdout",
     "output_type": "stream",
     "text": [
      "Epoch 192/200, Loss: 2.6865, Train Acc: 0.4656, Val Acc: 0.4429\n"
     ]
    },
    {
     "name": "stderr",
     "output_type": "stream",
     "text": [
      "Iterating eval graphs: 100%|██████████| 35/35 [00:05<00:00,  6.01batch/s]\n",
      "Epoch 193/200, Loss: 2.8377, Train Acc: 0.4638, Val Acc: 0.3545\n",
      "Epoch 193/200, Loss: 2.8377, Train Acc: 0.4638, Val Acc: 0.3545\n"
     ]
    },
    {
     "name": "stdout",
     "output_type": "stream",
     "text": [
      "Epoch 193/200, Loss: 2.8377, Train Acc: 0.4638, Val Acc: 0.3545\n"
     ]
    },
    {
     "name": "stderr",
     "output_type": "stream",
     "text": [
      "Iterating eval graphs: 100%|██████████| 35/35 [00:05<00:00,  5.94batch/s]\n",
      "Epoch 194/200, Loss: 2.8143, Train Acc: 0.4607, Val Acc: 0.4518\n",
      "Epoch 194/200, Loss: 2.8143, Train Acc: 0.4607, Val Acc: 0.4518\n"
     ]
    },
    {
     "name": "stdout",
     "output_type": "stream",
     "text": [
      "Epoch 194/200, Loss: 2.8143, Train Acc: 0.4607, Val Acc: 0.4518\n"
     ]
    },
    {
     "name": "stderr",
     "output_type": "stream",
     "text": [
      "Iterating eval graphs: 100%|██████████| 35/35 [00:05<00:00,  6.03batch/s]\n",
      "Epoch 195/200, Loss: 2.8277, Train Acc: 0.4667, Val Acc: 0.4321\n",
      "Epoch 195/200, Loss: 2.8277, Train Acc: 0.4667, Val Acc: 0.4321\n"
     ]
    },
    {
     "name": "stdout",
     "output_type": "stream",
     "text": [
      "Epoch 195/200, Loss: 2.8277, Train Acc: 0.4667, Val Acc: 0.4321\n"
     ]
    },
    {
     "name": "stderr",
     "output_type": "stream",
     "text": [
      "Iterating eval graphs: 100%|██████████| 35/35 [00:06<00:00,  5.81batch/s]\n",
      "Epoch 196/200, Loss: 2.7438, Train Acc: 0.4681, Val Acc: 0.4527\n",
      "Epoch 196/200, Loss: 2.7438, Train Acc: 0.4681, Val Acc: 0.4527\n"
     ]
    },
    {
     "name": "stdout",
     "output_type": "stream",
     "text": [
      "Epoch 196/200, Loss: 2.7438, Train Acc: 0.4681, Val Acc: 0.4527\n"
     ]
    },
    {
     "name": "stderr",
     "output_type": "stream",
     "text": [
      "Iterating eval graphs: 100%|██████████| 35/35 [00:05<00:00,  5.94batch/s]\n",
      "Epoch 197/200, Loss: 2.4656, Train Acc: 0.4732, Val Acc: 0.4473\n",
      "Epoch 197/200, Loss: 2.4656, Train Acc: 0.4732, Val Acc: 0.4473\n"
     ]
    },
    {
     "name": "stdout",
     "output_type": "stream",
     "text": [
      "Epoch 197/200, Loss: 2.4656, Train Acc: 0.4732, Val Acc: 0.4473\n"
     ]
    },
    {
     "name": "stderr",
     "output_type": "stream",
     "text": [
      "Iterating eval graphs: 100%|██████████| 35/35 [00:05<00:00,  5.97batch/s]\n",
      "Epoch 198/200, Loss: 2.6546, Train Acc: 0.4743, Val Acc: 0.4286\n",
      "Epoch 198/200, Loss: 2.6546, Train Acc: 0.4743, Val Acc: 0.4286\n"
     ]
    },
    {
     "name": "stdout",
     "output_type": "stream",
     "text": [
      "Epoch 198/200, Loss: 2.6546, Train Acc: 0.4743, Val Acc: 0.4286\n"
     ]
    },
    {
     "name": "stderr",
     "output_type": "stream",
     "text": [
      "Iterating eval graphs: 100%|██████████| 35/35 [00:05<00:00,  6.04batch/s]\n",
      "Epoch 199/200, Loss: 2.5833, Train Acc: 0.4775, Val Acc: 0.4009\n",
      "Epoch 199/200, Loss: 2.5833, Train Acc: 0.4775, Val Acc: 0.4009\n"
     ]
    },
    {
     "name": "stdout",
     "output_type": "stream",
     "text": [
      "Epoch 199/200, Loss: 2.5833, Train Acc: 0.4775, Val Acc: 0.4009\n"
     ]
    },
    {
     "name": "stderr",
     "output_type": "stream",
     "text": [
      "Iterating eval graphs: 100%|██████████| 35/35 [00:05<00:00,  6.10batch/s]\n",
      "Epoch 200/200, Loss: 2.5210, Train Acc: 0.4766, Val Acc: 0.4509\n",
      "Epoch 200/200, Loss: 2.5210, Train Acc: 0.4766, Val Acc: 0.4509\n"
     ]
    },
    {
     "name": "stdout",
     "output_type": "stream",
     "text": [
      "Epoch 200/200, Loss: 2.5210, Train Acc: 0.4766, Val Acc: 0.4509\n"
     ]
    }
   ],
   "source": [
    "from torch.optim.lr_scheduler import ReduceLROnPlateau\n",
    "\n",
    "if args.train_path:\n",
    "    full_dataset = GraphDataset(args.train_path, transform=add_zeros)\n",
    "    val_size = int(0.2 * len(full_dataset))\n",
    "    train_size = len(full_dataset) - val_size\n",
    "\n",
    "    generator = torch.Generator().manual_seed(12)\n",
    "    train_dataset, val_dataset = random_split(full_dataset, [train_size, val_size], generator=generator)\n",
    "\n",
    "    train_dataset = IndexedSubDataset(train_dataset)\n",
    "\n",
    "    if args.baseline_mode == 2:\n",
    "\n",
    "        u = nn.Parameter(torch.zeros(len(train_dataset), device=device))\n",
    "        optimizer_u = torch.optim.Adam([u], lr=1)\n",
    "        optimizer_theta = torch.optim.Adam(model.parameters(), lr=0.001, weight_decay=1e-4)\n",
    "\n",
    "        #scheduler = ReduceLROnPlateau(\n",
    "        #optimizer_theta, \n",
    "        #mode='max',           # maximiser val_acc\n",
    "        #factor=0.5,           # réduction du LR par 2\n",
    "        #patience=5,           # n epochs sans amélioration\n",
    "        #threshold=1e-3,       # tolérance d’amélioration\n",
    "        #min_lr=1e-6           # LR minimum\n",
    "        #)\n",
    "\n",
    "\n",
    "        \n",
    "        criterion = GCODLoss(num_classes=6, alpha=1.0, beta=1.0)\n",
    "\n",
    "\n",
    "    train_loader = DataLoader(train_dataset, batch_size=args.batch_size, shuffle=False)  # shuffle=False mandatory, not to loose indexes ?\n",
    "    val_loader = DataLoader(val_dataset, batch_size=args.batch_size, shuffle=False)\n",
    "\n",
    "    num_epochs = args.epochs\n",
    "    best_val_accuracy = 0.0\n",
    "\n",
    "    train_losses = []\n",
    "    train_accuracies = []\n",
    "    val_losses = []\n",
    "    val_accuracies = []\n",
    "\n",
    "    if num_checkpoints > 1:\n",
    "        checkpoint_intervals = [int((i + 1) * num_epochs / num_checkpoints) for i in range(num_checkpoints)]\n",
    "    else:\n",
    "        checkpoint_intervals = [num_epochs]\n",
    "\n",
    "    for epoch in range(num_epochs):\n",
    "        train_loss, train_acc = train(\n",
    "            train_loader, model, optimizer_theta, optimizer_u, criterion, device\n",
    "        )\n",
    "\n",
    "        val_loss, val_acc = evaluate(val_loader, model, device, calculate_accuracy=True)\n",
    "\n",
    "        print(f\"Epoch {epoch + 1}/{num_epochs}, Loss: {train_loss:.4f}, Train Acc: {train_acc:.4f}, Val Acc: {val_acc:.4f}\")\n",
    "        logging.info(f\"Epoch {epoch + 1}/{num_epochs}, Loss: {train_loss:.4f}, Train Acc: {train_acc:.4f}, Val Acc: {val_acc:.4f}\")\n",
    "\n",
    "        train_losses.append(train_loss)\n",
    "        train_accuracies.append(train_acc)\n",
    "        val_losses.append(val_loss)\n",
    "        val_accuracies.append(val_acc)\n",
    "\n",
    "        # 🔽 Appel du scheduler avec la métrique à surveiller\n",
    "        #scheduler.step(val_acc)\n",
    "\n",
    "        if val_acc > best_val_accuracy:\n",
    "            best_val_accuracy = val_acc\n",
    "            torch.save(model.state_dict(), checkpoint_path)\n",
    "            print(f\"Best model updated and saved at {checkpoint_path}\")\n",
    "\n",
    "    plot_training_progress(train_losses, train_accuracies, os.path.join(logs_folder, \"plots\"))\n",
    "    plot_training_progress(val_losses, val_accuracies, os.path.join(logs_folder, \"plotsVal\"))"
   ]
  },
  {
   "cell_type": "code",
   "execution_count": 30,
   "id": "10b158ad-caef-45e4-a9c6-1cc51db625c1",
   "metadata": {
    "papermill": {
     "duration": null,
     "end_time": null,
     "exception": null,
     "start_time": null,
     "status": "pending"
    },
    "tags": []
   },
   "outputs": [
    {
     "data": {
      "text/plain": [
       "13745"
      ]
     },
     "execution_count": 30,
     "metadata": {},
     "output_type": "execute_result"
    }
   ],
   "source": [
    "import gc\n",
    "del train_dataset\n",
    "del train_loader\n",
    "del full_dataset\n",
    "del val_dataset\n",
    "del val_loader\n",
    "gc.collect()"
   ]
  },
  {
   "cell_type": "code",
   "execution_count": 31,
   "id": "893f449f-d056-4e40-81ef-ba47c3e51613",
   "metadata": {
    "id": "xsXZIj4Mdu3I",
    "papermill": {
     "duration": null,
     "end_time": null,
     "exception": null,
     "start_time": null,
     "status": "pending"
    },
    "tags": []
   },
   "outputs": [],
   "source": [
    "test_dataset = GraphDataset(args.test_path, transform=add_zeros)\n",
    "test_loader = DataLoader(test_dataset, batch_size=args.batch_size, shuffle=False)"
   ]
  },
  {
   "cell_type": "code",
   "execution_count": 32,
   "id": "2172aa4a-f620-4ccf-8d32-6ca93892c871",
   "metadata": {
    "id": "x1OnGq_nCmTr",
    "papermill": {
     "duration": null,
     "end_time": null,
     "exception": null,
     "start_time": null,
     "status": "pending"
    },
    "tags": []
   },
   "outputs": [
    {
     "name": "stderr",
     "output_type": "stream",
     "text": [
      "Iterating eval graphs: 100%|██████████| 49/49 [00:08<00:00,  6.10batch/s]"
     ]
    },
    {
     "name": "stdout",
     "output_type": "stream",
     "text": [
      "Predictions saved to /home/onyxia/work/DL-Hackathon/hackaton/submission/testset_B.csv\n"
     ]
    },
    {
     "name": "stderr",
     "output_type": "stream",
     "text": [
      "\n"
     ]
    },
    {
     "name": "stderr",
     "output_type": "stream",
     "text": [
      "\n"
     ]
    }
   ],
   "source": [
    "model.load_state_dict(torch.load(checkpoint_path))\n",
    "predictions = evaluate(test_loader, model, device, calculate_accuracy=False)\n",
    "save_predictions(predictions, args.test_path)"
   ]
  },
  {
   "cell_type": "markdown",
   "id": "5b8e42a0-38af-4fff-9985-6355a5acdc2a",
   "metadata": {},
   "source": [
    "# C"
   ]
  },
  {
   "cell_type": "code",
   "execution_count": 33,
   "id": "1213f0fa-8916-46a9-9933-30ef0b647a73",
   "metadata": {},
   "outputs": [],
   "source": [
    "args.train_path = 'datasets/C/train.json.gz'\n",
    "args.test_path = 'datasets/C/test.json.gz'"
   ]
  },
  {
   "cell_type": "code",
   "execution_count": 34,
   "id": "57982647-66ca-42cc-bef2-8e5fe105ff41",
   "metadata": {
    "id": "lHX55XGECXBr",
    "papermill": {
     "duration": null,
     "end_time": null,
     "exception": null,
     "start_time": null,
     "status": "pending"
    },
    "tags": []
   },
   "outputs": [],
   "source": [
    "script_dir = os.getcwd() \n",
    "# device = torch.device(f\"cuda:{args.device}\" if torch.cuda.is_available() else \"cpu\")\n",
    "device = torch.device(\"cuda\" if torch.cuda.is_available() else \"cpu\")\n",
    "num_checkpoints = args.num_checkpoints if args.num_checkpoints else 3\n",
    "    \n",
    "if args.gnn == 'gin':\n",
    "    model = GNN(gnn_type='gin', num_class=6, num_layer=args.num_layer, emb_dim=args.emb_dim, drop_ratio=args.drop_ratio, virtual_node=False).to(device)\n",
    "elif args.gnn == 'gin-virtual':\n",
    "    model = GNN(gnn_type='gin', num_class=6, num_layer=args.num_layer, emb_dim=args.emb_dim, drop_ratio=args.drop_ratio, virtual_node=True).to(device)\n",
    "elif args.gnn == 'gcn':\n",
    "    model = GNN(gnn_type='gcn', num_class=6, num_layer=args.num_layer, emb_dim=args.emb_dim, drop_ratio=args.drop_ratio, virtual_node=False).to(device)\n",
    "elif args.gnn == 'gcn-virtual':\n",
    "    model = GNN(gnn_type='gcn', num_class=6, num_layer=args.num_layer, emb_dim=args.emb_dim, drop_ratio=args.drop_ratio, virtual_node=True).to(device)\n",
    "else:\n",
    "    raise ValueError('Invalid GNN type')\n",
    "    \n",
    "optimizer = torch.optim.Adam(model.parameters(), lr=0.001)\n",
    "# criterion = torch.nn.CrossEntropyLoss()\n",
    "if args.baseline_mode == 2:\n",
    "    # We initializa criterion and optimizers in the cell after the definition of full_dataset, as we need train_size\n",
    "    pass\n",
    "else:\n",
    "    criterion = torch.nn.CrossEntropyLoss()"
   ]
  },
  {
   "cell_type": "code",
   "execution_count": 35,
   "id": "15150e24-98a0-4ebb-abfc-f0a429b9396a",
   "metadata": {
    "id": "BTYT5jYuChPb",
    "papermill": {
     "duration": null,
     "end_time": null,
     "exception": null,
     "start_time": null,
     "status": "pending"
    },
    "tags": []
   },
   "outputs": [],
   "source": [
    "test_dir_name = os.path.basename(os.path.dirname(args.test_path))\n",
    "logs_folder = os.path.join(script_dir, \"logs\", test_dir_name)\n",
    "log_file = os.path.join(logs_folder, \"training.log\")\n",
    "os.makedirs(os.path.dirname(log_file), exist_ok=True)\n",
    "logging.basicConfig(filename=log_file, level=logging.INFO, format='%(asctime)s - %(message)s')\n",
    "logging.getLogger().addHandler(logging.StreamHandler())\n",
    "\n",
    "checkpoint_path = os.path.join(script_dir, \"checkpoints\", f\"model_{test_dir_name}_best.pth\")\n",
    "checkpoints_folder = os.path.join(script_dir, \"checkpoints\", test_dir_name)\n",
    "os.makedirs(checkpoints_folder, exist_ok=True)\n"
   ]
  },
  {
   "cell_type": "code",
   "execution_count": 36,
   "id": "3fbcb569-7704-4913-84d3-ed52a30610e0",
   "metadata": {
    "papermill": {
     "duration": null,
     "end_time": null,
     "exception": null,
     "start_time": null,
     "status": "pending"
    },
    "tags": []
   },
   "outputs": [],
   "source": [
    "if os.path.exists(checkpoint_path) and not args.train_path:\n",
    "    model.load_state_dict(torch.load(checkpoint_path))\n",
    "    print(f\"Loaded best model from {checkpoint_path}\")"
   ]
  },
  {
   "cell_type": "code",
   "execution_count": 37,
   "id": "40f920bd-e8de-4326-8198-0cc94c95ecb6",
   "metadata": {},
   "outputs": [
    {
     "name": "stderr",
     "output_type": "stream",
     "text": [
      "Iterating eval graphs: 100%|██████████| 48/48 [00:08<00:00,  5.74batch/s]\n",
      "Epoch 1/200, Loss: 1.6246, Train Acc: 0.4012, Val Acc: 0.4674\n",
      "Epoch 1/200, Loss: 1.6246, Train Acc: 0.4012, Val Acc: 0.4674\n",
      "Epoch 1/200, Loss: 1.6246, Train Acc: 0.4012, Val Acc: 0.4674\n"
     ]
    },
    {
     "name": "stdout",
     "output_type": "stream",
     "text": [
      "Epoch 1/200, Loss: 1.6246, Train Acc: 0.4012, Val Acc: 0.4674\n",
      "Best model updated and saved at /home/onyxia/work/DL-Hackathon/hackaton/checkpoints/model_C_best.pth\n"
     ]
    },
    {
     "name": "stderr",
     "output_type": "stream",
     "text": [
      "Iterating eval graphs: 100%|██████████| 48/48 [00:08<00:00,  5.98batch/s]\n",
      "Epoch 2/200, Loss: 5.6292, Train Acc: 0.4554, Val Acc: 0.4798\n",
      "Epoch 2/200, Loss: 5.6292, Train Acc: 0.4554, Val Acc: 0.4798\n",
      "Epoch 2/200, Loss: 5.6292, Train Acc: 0.4554, Val Acc: 0.4798\n"
     ]
    },
    {
     "name": "stdout",
     "output_type": "stream",
     "text": [
      "Epoch 2/200, Loss: 5.6292, Train Acc: 0.4554, Val Acc: 0.4798\n",
      "Best model updated and saved at /home/onyxia/work/DL-Hackathon/hackaton/checkpoints/model_C_best.pth\n"
     ]
    },
    {
     "name": "stderr",
     "output_type": "stream",
     "text": [
      "Iterating eval graphs: 100%|██████████| 48/48 [00:08<00:00,  5.78batch/s]\n",
      "Epoch 3/200, Loss: 4.9517, Train Acc: 0.3944, Val Acc: 0.4108\n",
      "Epoch 3/200, Loss: 4.9517, Train Acc: 0.3944, Val Acc: 0.4108\n",
      "Epoch 3/200, Loss: 4.9517, Train Acc: 0.3944, Val Acc: 0.4108\n"
     ]
    },
    {
     "name": "stdout",
     "output_type": "stream",
     "text": [
      "Epoch 3/200, Loss: 4.9517, Train Acc: 0.3944, Val Acc: 0.4108\n"
     ]
    },
    {
     "name": "stderr",
     "output_type": "stream",
     "text": [
      "Iterating eval graphs: 100%|██████████| 48/48 [00:08<00:00,  5.99batch/s]\n",
      "Epoch 4/200, Loss: 14.1707, Train Acc: 0.3545, Val Acc: 0.3548\n",
      "Epoch 4/200, Loss: 14.1707, Train Acc: 0.3545, Val Acc: 0.3548\n",
      "Epoch 4/200, Loss: 14.1707, Train Acc: 0.3545, Val Acc: 0.3548\n"
     ]
    },
    {
     "name": "stdout",
     "output_type": "stream",
     "text": [
      "Epoch 4/200, Loss: 14.1707, Train Acc: 0.3545, Val Acc: 0.3548\n"
     ]
    },
    {
     "name": "stderr",
     "output_type": "stream",
     "text": [
      "Iterating eval graphs: 100%|██████████| 48/48 [00:07<00:00,  6.05batch/s]\n",
      "Epoch 5/200, Loss: 6.7388, Train Acc: 0.3618, Val Acc: 0.3945\n",
      "Epoch 5/200, Loss: 6.7388, Train Acc: 0.3618, Val Acc: 0.3945\n",
      "Epoch 5/200, Loss: 6.7388, Train Acc: 0.3618, Val Acc: 0.3945\n"
     ]
    },
    {
     "name": "stdout",
     "output_type": "stream",
     "text": [
      "Epoch 5/200, Loss: 6.7388, Train Acc: 0.3618, Val Acc: 0.3945\n"
     ]
    },
    {
     "name": "stderr",
     "output_type": "stream",
     "text": [
      "Iterating eval graphs: 100%|██████████| 48/48 [00:08<00:00,  5.87batch/s]\n",
      "Epoch 6/200, Loss: 12.8521, Train Acc: 0.3664, Val Acc: 0.3646\n",
      "Epoch 6/200, Loss: 12.8521, Train Acc: 0.3664, Val Acc: 0.3646\n",
      "Epoch 6/200, Loss: 12.8521, Train Acc: 0.3664, Val Acc: 0.3646\n"
     ]
    },
    {
     "name": "stdout",
     "output_type": "stream",
     "text": [
      "Epoch 6/200, Loss: 12.8521, Train Acc: 0.3664, Val Acc: 0.3646\n"
     ]
    },
    {
     "name": "stderr",
     "output_type": "stream",
     "text": [
      "Iterating eval graphs: 100%|██████████| 48/48 [00:08<00:00,  5.93batch/s]\n",
      "Epoch 7/200, Loss: 6.9499, Train Acc: 0.3807, Val Acc: 0.3939\n",
      "Epoch 7/200, Loss: 6.9499, Train Acc: 0.3807, Val Acc: 0.3939\n",
      "Epoch 7/200, Loss: 6.9499, Train Acc: 0.3807, Val Acc: 0.3939\n"
     ]
    },
    {
     "name": "stdout",
     "output_type": "stream",
     "text": [
      "Epoch 7/200, Loss: 6.9499, Train Acc: 0.3807, Val Acc: 0.3939\n"
     ]
    },
    {
     "name": "stderr",
     "output_type": "stream",
     "text": [
      "Iterating eval graphs: 100%|██████████| 48/48 [00:08<00:00,  5.82batch/s]\n",
      "Epoch 8/200, Loss: 12.4754, Train Acc: 0.3960, Val Acc: 0.4115\n",
      "Epoch 8/200, Loss: 12.4754, Train Acc: 0.3960, Val Acc: 0.4115\n",
      "Epoch 8/200, Loss: 12.4754, Train Acc: 0.3960, Val Acc: 0.4115\n"
     ]
    },
    {
     "name": "stdout",
     "output_type": "stream",
     "text": [
      "Epoch 8/200, Loss: 12.4754, Train Acc: 0.3960, Val Acc: 0.4115\n"
     ]
    },
    {
     "name": "stderr",
     "output_type": "stream",
     "text": [
      "Iterating eval graphs: 100%|██████████| 48/48 [00:08<00:00,  5.89batch/s]\n",
      "Epoch 9/200, Loss: 7.5052, Train Acc: 0.3931, Val Acc: 0.3978\n",
      "Epoch 9/200, Loss: 7.5052, Train Acc: 0.3931, Val Acc: 0.3978\n",
      "Epoch 9/200, Loss: 7.5052, Train Acc: 0.3931, Val Acc: 0.3978\n"
     ]
    },
    {
     "name": "stdout",
     "output_type": "stream",
     "text": [
      "Epoch 9/200, Loss: 7.5052, Train Acc: 0.3931, Val Acc: 0.3978\n"
     ]
    },
    {
     "name": "stderr",
     "output_type": "stream",
     "text": [
      "Iterating eval graphs: 100%|██████████| 48/48 [00:08<00:00,  5.78batch/s]\n",
      "Epoch 10/200, Loss: 12.2699, Train Acc: 0.4110, Val Acc: 0.4147\n",
      "Epoch 10/200, Loss: 12.2699, Train Acc: 0.4110, Val Acc: 0.4147\n",
      "Epoch 10/200, Loss: 12.2699, Train Acc: 0.4110, Val Acc: 0.4147\n"
     ]
    },
    {
     "name": "stdout",
     "output_type": "stream",
     "text": [
      "Epoch 10/200, Loss: 12.2699, Train Acc: 0.4110, Val Acc: 0.4147\n"
     ]
    },
    {
     "name": "stderr",
     "output_type": "stream",
     "text": [
      "Iterating eval graphs: 100%|██████████| 48/48 [00:08<00:00,  5.82batch/s]\n",
      "Epoch 11/200, Loss: 6.7576, Train Acc: 0.4059, Val Acc: 0.4082\n",
      "Epoch 11/200, Loss: 6.7576, Train Acc: 0.4059, Val Acc: 0.4082\n",
      "Epoch 11/200, Loss: 6.7576, Train Acc: 0.4059, Val Acc: 0.4082\n"
     ]
    },
    {
     "name": "stdout",
     "output_type": "stream",
     "text": [
      "Epoch 11/200, Loss: 6.7576, Train Acc: 0.4059, Val Acc: 0.4082\n"
     ]
    },
    {
     "name": "stderr",
     "output_type": "stream",
     "text": [
      "Iterating eval graphs: 100%|██████████| 48/48 [00:08<00:00,  5.86batch/s]\n",
      "Epoch 12/200, Loss: 11.9670, Train Acc: 0.4150, Val Acc: 0.4108\n",
      "Epoch 12/200, Loss: 11.9670, Train Acc: 0.4150, Val Acc: 0.4108\n",
      "Epoch 12/200, Loss: 11.9670, Train Acc: 0.4150, Val Acc: 0.4108\n"
     ]
    },
    {
     "name": "stdout",
     "output_type": "stream",
     "text": [
      "Epoch 12/200, Loss: 11.9670, Train Acc: 0.4150, Val Acc: 0.4108\n"
     ]
    },
    {
     "name": "stderr",
     "output_type": "stream",
     "text": [
      "Iterating eval graphs: 100%|██████████| 48/48 [00:07<00:00,  6.04batch/s]\n",
      "Epoch 13/200, Loss: 6.6484, Train Acc: 0.4067, Val Acc: 0.4004\n",
      "Epoch 13/200, Loss: 6.6484, Train Acc: 0.4067, Val Acc: 0.4004\n",
      "Epoch 13/200, Loss: 6.6484, Train Acc: 0.4067, Val Acc: 0.4004\n"
     ]
    },
    {
     "name": "stdout",
     "output_type": "stream",
     "text": [
      "Epoch 13/200, Loss: 6.6484, Train Acc: 0.4067, Val Acc: 0.4004\n"
     ]
    },
    {
     "name": "stderr",
     "output_type": "stream",
     "text": [
      "Iterating eval graphs: 100%|██████████| 48/48 [00:08<00:00,  5.96batch/s]\n",
      "Epoch 14/200, Loss: 11.7080, Train Acc: 0.4194, Val Acc: 0.4290\n",
      "Epoch 14/200, Loss: 11.7080, Train Acc: 0.4194, Val Acc: 0.4290\n",
      "Epoch 14/200, Loss: 11.7080, Train Acc: 0.4194, Val Acc: 0.4290\n"
     ]
    },
    {
     "name": "stdout",
     "output_type": "stream",
     "text": [
      "Epoch 14/200, Loss: 11.7080, Train Acc: 0.4194, Val Acc: 0.4290\n"
     ]
    },
    {
     "name": "stderr",
     "output_type": "stream",
     "text": [
      "Iterating eval graphs: 100%|██████████| 48/48 [00:08<00:00,  5.95batch/s]\n",
      "Epoch 15/200, Loss: 6.4296, Train Acc: 0.4162, Val Acc: 0.4264\n",
      "Epoch 15/200, Loss: 6.4296, Train Acc: 0.4162, Val Acc: 0.4264\n",
      "Epoch 15/200, Loss: 6.4296, Train Acc: 0.4162, Val Acc: 0.4264\n"
     ]
    },
    {
     "name": "stdout",
     "output_type": "stream",
     "text": [
      "Epoch 15/200, Loss: 6.4296, Train Acc: 0.4162, Val Acc: 0.4264\n"
     ]
    },
    {
     "name": "stderr",
     "output_type": "stream",
     "text": [
      "Iterating eval graphs: 100%|██████████| 48/48 [00:08<00:00,  5.89batch/s]\n",
      "Epoch 16/200, Loss: 11.4559, Train Acc: 0.4201, Val Acc: 0.4089\n",
      "Epoch 16/200, Loss: 11.4559, Train Acc: 0.4201, Val Acc: 0.4089\n",
      "Epoch 16/200, Loss: 11.4559, Train Acc: 0.4201, Val Acc: 0.4089\n"
     ]
    },
    {
     "name": "stdout",
     "output_type": "stream",
     "text": [
      "Epoch 16/200, Loss: 11.4559, Train Acc: 0.4201, Val Acc: 0.4089\n"
     ]
    },
    {
     "name": "stderr",
     "output_type": "stream",
     "text": [
      "Iterating eval graphs: 100%|██████████| 48/48 [00:08<00:00,  5.75batch/s]\n",
      "Epoch 17/200, Loss: 6.3950, Train Acc: 0.4240, Val Acc: 0.4544\n",
      "Epoch 17/200, Loss: 6.3950, Train Acc: 0.4240, Val Acc: 0.4544\n",
      "Epoch 17/200, Loss: 6.3950, Train Acc: 0.4240, Val Acc: 0.4544\n"
     ]
    },
    {
     "name": "stdout",
     "output_type": "stream",
     "text": [
      "Epoch 17/200, Loss: 6.3950, Train Acc: 0.4240, Val Acc: 0.4544\n"
     ]
    },
    {
     "name": "stderr",
     "output_type": "stream",
     "text": [
      "Iterating eval graphs: 100%|██████████| 48/48 [00:08<00:00,  5.97batch/s]\n",
      "Epoch 18/200, Loss: 10.7832, Train Acc: 0.4271, Val Acc: 0.3730\n",
      "Epoch 18/200, Loss: 10.7832, Train Acc: 0.4271, Val Acc: 0.3730\n",
      "Epoch 18/200, Loss: 10.7832, Train Acc: 0.4271, Val Acc: 0.3730\n"
     ]
    },
    {
     "name": "stdout",
     "output_type": "stream",
     "text": [
      "Epoch 18/200, Loss: 10.7832, Train Acc: 0.4271, Val Acc: 0.3730\n"
     ]
    },
    {
     "name": "stderr",
     "output_type": "stream",
     "text": [
      "Iterating eval graphs: 100%|██████████| 48/48 [00:08<00:00,  5.78batch/s]\n",
      "Epoch 19/200, Loss: 6.5127, Train Acc: 0.4245, Val Acc: 0.4225\n",
      "Epoch 19/200, Loss: 6.5127, Train Acc: 0.4245, Val Acc: 0.4225\n",
      "Epoch 19/200, Loss: 6.5127, Train Acc: 0.4245, Val Acc: 0.4225\n"
     ]
    },
    {
     "name": "stdout",
     "output_type": "stream",
     "text": [
      "Epoch 19/200, Loss: 6.5127, Train Acc: 0.4245, Val Acc: 0.4225\n"
     ]
    },
    {
     "name": "stderr",
     "output_type": "stream",
     "text": [
      "Iterating eval graphs: 100%|██████████| 48/48 [00:08<00:00,  5.87batch/s]\n",
      "Epoch 20/200, Loss: 10.3276, Train Acc: 0.4339, Val Acc: 0.4277\n",
      "Epoch 20/200, Loss: 10.3276, Train Acc: 0.4339, Val Acc: 0.4277\n",
      "Epoch 20/200, Loss: 10.3276, Train Acc: 0.4339, Val Acc: 0.4277\n"
     ]
    },
    {
     "name": "stdout",
     "output_type": "stream",
     "text": [
      "Epoch 20/200, Loss: 10.3276, Train Acc: 0.4339, Val Acc: 0.4277\n"
     ]
    },
    {
     "name": "stderr",
     "output_type": "stream",
     "text": [
      "Iterating eval graphs: 100%|██████████| 48/48 [00:08<00:00,  5.74batch/s]\n",
      "Epoch 21/200, Loss: 6.3379, Train Acc: 0.4160, Val Acc: 0.4277\n",
      "Epoch 21/200, Loss: 6.3379, Train Acc: 0.4160, Val Acc: 0.4277\n",
      "Epoch 21/200, Loss: 6.3379, Train Acc: 0.4160, Val Acc: 0.4277\n"
     ]
    },
    {
     "name": "stdout",
     "output_type": "stream",
     "text": [
      "Epoch 21/200, Loss: 6.3379, Train Acc: 0.4160, Val Acc: 0.4277\n"
     ]
    },
    {
     "name": "stderr",
     "output_type": "stream",
     "text": [
      "Iterating eval graphs: 100%|██████████| 48/48 [00:08<00:00,  5.78batch/s]\n",
      "Epoch 22/200, Loss: 10.3424, Train Acc: 0.4281, Val Acc: 0.4440\n",
      "Epoch 22/200, Loss: 10.3424, Train Acc: 0.4281, Val Acc: 0.4440\n",
      "Epoch 22/200, Loss: 10.3424, Train Acc: 0.4281, Val Acc: 0.4440\n"
     ]
    },
    {
     "name": "stdout",
     "output_type": "stream",
     "text": [
      "Epoch 22/200, Loss: 10.3424, Train Acc: 0.4281, Val Acc: 0.4440\n"
     ]
    },
    {
     "name": "stderr",
     "output_type": "stream",
     "text": [
      "Iterating eval graphs: 100%|██████████| 48/48 [00:08<00:00,  5.95batch/s]\n",
      "Epoch 23/200, Loss: 6.4659, Train Acc: 0.4318, Val Acc: 0.4395\n",
      "Epoch 23/200, Loss: 6.4659, Train Acc: 0.4318, Val Acc: 0.4395\n",
      "Epoch 23/200, Loss: 6.4659, Train Acc: 0.4318, Val Acc: 0.4395\n"
     ]
    },
    {
     "name": "stdout",
     "output_type": "stream",
     "text": [
      "Epoch 23/200, Loss: 6.4659, Train Acc: 0.4318, Val Acc: 0.4395\n"
     ]
    },
    {
     "name": "stderr",
     "output_type": "stream",
     "text": [
      "Iterating eval graphs: 100%|██████████| 48/48 [00:08<00:00,  5.95batch/s]\n",
      "Epoch 24/200, Loss: 9.3336, Train Acc: 0.4437, Val Acc: 0.4238\n",
      "Epoch 24/200, Loss: 9.3336, Train Acc: 0.4437, Val Acc: 0.4238\n",
      "Epoch 24/200, Loss: 9.3336, Train Acc: 0.4437, Val Acc: 0.4238\n"
     ]
    },
    {
     "name": "stdout",
     "output_type": "stream",
     "text": [
      "Epoch 24/200, Loss: 9.3336, Train Acc: 0.4437, Val Acc: 0.4238\n"
     ]
    },
    {
     "name": "stderr",
     "output_type": "stream",
     "text": [
      "Iterating eval graphs: 100%|██████████| 48/48 [00:08<00:00,  5.79batch/s]\n",
      "Epoch 25/200, Loss: 6.0415, Train Acc: 0.4398, Val Acc: 0.4707\n",
      "Epoch 25/200, Loss: 6.0415, Train Acc: 0.4398, Val Acc: 0.4707\n",
      "Epoch 25/200, Loss: 6.0415, Train Acc: 0.4398, Val Acc: 0.4707\n"
     ]
    },
    {
     "name": "stdout",
     "output_type": "stream",
     "text": [
      "Epoch 25/200, Loss: 6.0415, Train Acc: 0.4398, Val Acc: 0.4707\n"
     ]
    },
    {
     "name": "stderr",
     "output_type": "stream",
     "text": [
      "Iterating eval graphs: 100%|██████████| 48/48 [00:08<00:00,  5.80batch/s]\n",
      "Epoch 26/200, Loss: 8.4623, Train Acc: 0.4380, Val Acc: 0.4551\n",
      "Epoch 26/200, Loss: 8.4623, Train Acc: 0.4380, Val Acc: 0.4551\n",
      "Epoch 26/200, Loss: 8.4623, Train Acc: 0.4380, Val Acc: 0.4551\n"
     ]
    },
    {
     "name": "stdout",
     "output_type": "stream",
     "text": [
      "Epoch 26/200, Loss: 8.4623, Train Acc: 0.4380, Val Acc: 0.4551\n"
     ]
    },
    {
     "name": "stderr",
     "output_type": "stream",
     "text": [
      "Iterating eval graphs: 100%|██████████| 48/48 [00:08<00:00,  5.81batch/s]\n",
      "Epoch 27/200, Loss: 6.0660, Train Acc: 0.4443, Val Acc: 0.4648\n",
      "Epoch 27/200, Loss: 6.0660, Train Acc: 0.4443, Val Acc: 0.4648\n",
      "Epoch 27/200, Loss: 6.0660, Train Acc: 0.4443, Val Acc: 0.4648\n"
     ]
    },
    {
     "name": "stdout",
     "output_type": "stream",
     "text": [
      "Epoch 27/200, Loss: 6.0660, Train Acc: 0.4443, Val Acc: 0.4648\n"
     ]
    },
    {
     "name": "stderr",
     "output_type": "stream",
     "text": [
      "Iterating eval graphs: 100%|██████████| 48/48 [00:08<00:00,  5.83batch/s]\n",
      "Epoch 28/200, Loss: 7.5812, Train Acc: 0.4508, Val Acc: 0.4473\n",
      "Epoch 28/200, Loss: 7.5812, Train Acc: 0.4508, Val Acc: 0.4473\n",
      "Epoch 28/200, Loss: 7.5812, Train Acc: 0.4508, Val Acc: 0.4473\n"
     ]
    },
    {
     "name": "stdout",
     "output_type": "stream",
     "text": [
      "Epoch 28/200, Loss: 7.5812, Train Acc: 0.4508, Val Acc: 0.4473\n"
     ]
    },
    {
     "name": "stderr",
     "output_type": "stream",
     "text": [
      "Iterating eval graphs: 100%|██████████| 48/48 [00:08<00:00,  5.47batch/s]\n",
      "Epoch 29/200, Loss: 5.4486, Train Acc: 0.4437, Val Acc: 0.4557\n",
      "Epoch 29/200, Loss: 5.4486, Train Acc: 0.4437, Val Acc: 0.4557\n",
      "Epoch 29/200, Loss: 5.4486, Train Acc: 0.4437, Val Acc: 0.4557\n"
     ]
    },
    {
     "name": "stdout",
     "output_type": "stream",
     "text": [
      "Epoch 29/200, Loss: 5.4486, Train Acc: 0.4437, Val Acc: 0.4557\n"
     ]
    },
    {
     "name": "stderr",
     "output_type": "stream",
     "text": [
      "Iterating eval graphs: 100%|██████████| 48/48 [00:08<00:00,  5.99batch/s]\n",
      "Epoch 30/200, Loss: 6.8071, Train Acc: 0.4491, Val Acc: 0.4857\n",
      "Epoch 30/200, Loss: 6.8071, Train Acc: 0.4491, Val Acc: 0.4857\n",
      "Epoch 30/200, Loss: 6.8071, Train Acc: 0.4491, Val Acc: 0.4857\n"
     ]
    },
    {
     "name": "stdout",
     "output_type": "stream",
     "text": [
      "Epoch 30/200, Loss: 6.8071, Train Acc: 0.4491, Val Acc: 0.4857\n",
      "Best model updated and saved at /home/onyxia/work/DL-Hackathon/hackaton/checkpoints/model_C_best.pth\n"
     ]
    },
    {
     "name": "stderr",
     "output_type": "stream",
     "text": [
      "Iterating eval graphs: 100%|██████████| 48/48 [00:08<00:00,  5.72batch/s]\n",
      "Epoch 31/200, Loss: 5.3118, Train Acc: 0.4627, Val Acc: 0.4870\n",
      "Epoch 31/200, Loss: 5.3118, Train Acc: 0.4627, Val Acc: 0.4870\n",
      "Epoch 31/200, Loss: 5.3118, Train Acc: 0.4627, Val Acc: 0.4870\n"
     ]
    },
    {
     "name": "stdout",
     "output_type": "stream",
     "text": [
      "Epoch 31/200, Loss: 5.3118, Train Acc: 0.4627, Val Acc: 0.4870\n",
      "Best model updated and saved at /home/onyxia/work/DL-Hackathon/hackaton/checkpoints/model_C_best.pth\n"
     ]
    },
    {
     "name": "stderr",
     "output_type": "stream",
     "text": [
      "Iterating eval graphs: 100%|██████████| 48/48 [00:08<00:00,  5.87batch/s]\n",
      "Epoch 32/200, Loss: 5.8190, Train Acc: 0.4608, Val Acc: 0.4681\n",
      "Epoch 32/200, Loss: 5.8190, Train Acc: 0.4608, Val Acc: 0.4681\n",
      "Epoch 32/200, Loss: 5.8190, Train Acc: 0.4608, Val Acc: 0.4681\n"
     ]
    },
    {
     "name": "stdout",
     "output_type": "stream",
     "text": [
      "Epoch 32/200, Loss: 5.8190, Train Acc: 0.4608, Val Acc: 0.4681\n"
     ]
    },
    {
     "name": "stderr",
     "output_type": "stream",
     "text": [
      "Iterating eval graphs: 100%|██████████| 48/48 [00:08<00:00,  5.64batch/s]\n",
      "Epoch 33/200, Loss: 4.9707, Train Acc: 0.4676, Val Acc: 0.4902\n",
      "Epoch 33/200, Loss: 4.9707, Train Acc: 0.4676, Val Acc: 0.4902\n",
      "Epoch 33/200, Loss: 4.9707, Train Acc: 0.4676, Val Acc: 0.4902\n"
     ]
    },
    {
     "name": "stdout",
     "output_type": "stream",
     "text": [
      "Epoch 33/200, Loss: 4.9707, Train Acc: 0.4676, Val Acc: 0.4902\n",
      "Best model updated and saved at /home/onyxia/work/DL-Hackathon/hackaton/checkpoints/model_C_best.pth\n"
     ]
    },
    {
     "name": "stderr",
     "output_type": "stream",
     "text": [
      "Iterating eval graphs: 100%|██████████| 48/48 [00:08<00:00,  5.54batch/s]\n",
      "Epoch 34/200, Loss: 5.1426, Train Acc: 0.4705, Val Acc: 0.4876\n",
      "Epoch 34/200, Loss: 5.1426, Train Acc: 0.4705, Val Acc: 0.4876\n",
      "Epoch 34/200, Loss: 5.1426, Train Acc: 0.4705, Val Acc: 0.4876\n"
     ]
    },
    {
     "name": "stdout",
     "output_type": "stream",
     "text": [
      "Epoch 34/200, Loss: 5.1426, Train Acc: 0.4705, Val Acc: 0.4876\n"
     ]
    },
    {
     "name": "stderr",
     "output_type": "stream",
     "text": [
      "Iterating eval graphs: 100%|██████████| 48/48 [00:08<00:00,  5.79batch/s]\n",
      "Epoch 35/200, Loss: 4.6369, Train Acc: 0.4767, Val Acc: 0.4766\n",
      "Epoch 35/200, Loss: 4.6369, Train Acc: 0.4767, Val Acc: 0.4766\n",
      "Epoch 35/200, Loss: 4.6369, Train Acc: 0.4767, Val Acc: 0.4766\n"
     ]
    },
    {
     "name": "stdout",
     "output_type": "stream",
     "text": [
      "Epoch 35/200, Loss: 4.6369, Train Acc: 0.4767, Val Acc: 0.4766\n"
     ]
    },
    {
     "name": "stderr",
     "output_type": "stream",
     "text": [
      "Iterating eval graphs: 100%|██████████| 48/48 [00:08<00:00,  5.85batch/s]\n",
      "Epoch 36/200, Loss: 4.4859, Train Acc: 0.4772, Val Acc: 0.4850\n",
      "Epoch 36/200, Loss: 4.4859, Train Acc: 0.4772, Val Acc: 0.4850\n",
      "Epoch 36/200, Loss: 4.4859, Train Acc: 0.4772, Val Acc: 0.4850\n"
     ]
    },
    {
     "name": "stdout",
     "output_type": "stream",
     "text": [
      "Epoch 36/200, Loss: 4.4859, Train Acc: 0.4772, Val Acc: 0.4850\n"
     ]
    },
    {
     "name": "stderr",
     "output_type": "stream",
     "text": [
      "Iterating eval graphs: 100%|██████████| 48/48 [00:08<00:00,  5.86batch/s]\n",
      "Epoch 37/200, Loss: 3.9298, Train Acc: 0.4842, Val Acc: 0.5085\n",
      "Epoch 37/200, Loss: 3.9298, Train Acc: 0.4842, Val Acc: 0.5085\n",
      "Epoch 37/200, Loss: 3.9298, Train Acc: 0.4842, Val Acc: 0.5085\n"
     ]
    },
    {
     "name": "stdout",
     "output_type": "stream",
     "text": [
      "Epoch 37/200, Loss: 3.9298, Train Acc: 0.4842, Val Acc: 0.5085\n",
      "Best model updated and saved at /home/onyxia/work/DL-Hackathon/hackaton/checkpoints/model_C_best.pth\n"
     ]
    },
    {
     "name": "stderr",
     "output_type": "stream",
     "text": [
      "Iterating eval graphs: 100%|██████████| 48/48 [00:08<00:00,  5.75batch/s]\n",
      "Epoch 38/200, Loss: 3.6780, Train Acc: 0.4731, Val Acc: 0.4883\n",
      "Epoch 38/200, Loss: 3.6780, Train Acc: 0.4731, Val Acc: 0.4883\n",
      "Epoch 38/200, Loss: 3.6780, Train Acc: 0.4731, Val Acc: 0.4883\n"
     ]
    },
    {
     "name": "stdout",
     "output_type": "stream",
     "text": [
      "Epoch 38/200, Loss: 3.6780, Train Acc: 0.4731, Val Acc: 0.4883\n"
     ]
    },
    {
     "name": "stderr",
     "output_type": "stream",
     "text": [
      "Iterating eval graphs: 100%|██████████| 48/48 [00:08<00:00,  5.82batch/s]\n",
      "Epoch 39/200, Loss: 3.8120, Train Acc: 0.4805, Val Acc: 0.5156\n",
      "Epoch 39/200, Loss: 3.8120, Train Acc: 0.4805, Val Acc: 0.5156\n",
      "Epoch 39/200, Loss: 3.8120, Train Acc: 0.4805, Val Acc: 0.5156\n"
     ]
    },
    {
     "name": "stdout",
     "output_type": "stream",
     "text": [
      "Epoch 39/200, Loss: 3.8120, Train Acc: 0.4805, Val Acc: 0.5156\n",
      "Best model updated and saved at /home/onyxia/work/DL-Hackathon/hackaton/checkpoints/model_C_best.pth\n"
     ]
    },
    {
     "name": "stderr",
     "output_type": "stream",
     "text": [
      "Iterating eval graphs: 100%|██████████| 48/48 [00:08<00:00,  5.94batch/s]\n",
      "Epoch 40/200, Loss: 3.9597, Train Acc: 0.4857, Val Acc: 0.4616\n",
      "Epoch 40/200, Loss: 3.9597, Train Acc: 0.4857, Val Acc: 0.4616\n",
      "Epoch 40/200, Loss: 3.9597, Train Acc: 0.4857, Val Acc: 0.4616\n"
     ]
    },
    {
     "name": "stdout",
     "output_type": "stream",
     "text": [
      "Epoch 40/200, Loss: 3.9597, Train Acc: 0.4857, Val Acc: 0.4616\n"
     ]
    },
    {
     "name": "stderr",
     "output_type": "stream",
     "text": [
      "Iterating eval graphs: 100%|██████████| 48/48 [00:08<00:00,  5.78batch/s]\n",
      "Epoch 41/200, Loss: 3.4686, Train Acc: 0.4928, Val Acc: 0.5124\n",
      "Epoch 41/200, Loss: 3.4686, Train Acc: 0.4928, Val Acc: 0.5124\n",
      "Epoch 41/200, Loss: 3.4686, Train Acc: 0.4928, Val Acc: 0.5124\n"
     ]
    },
    {
     "name": "stdout",
     "output_type": "stream",
     "text": [
      "Epoch 41/200, Loss: 3.4686, Train Acc: 0.4928, Val Acc: 0.5124\n"
     ]
    },
    {
     "name": "stderr",
     "output_type": "stream",
     "text": [
      "Iterating eval graphs: 100%|██████████| 48/48 [00:07<00:00,  6.35batch/s]\n",
      "Epoch 42/200, Loss: 3.7452, Train Acc: 0.4876, Val Acc: 0.4831\n",
      "Epoch 42/200, Loss: 3.7452, Train Acc: 0.4876, Val Acc: 0.4831\n",
      "Epoch 42/200, Loss: 3.7452, Train Acc: 0.4876, Val Acc: 0.4831\n"
     ]
    },
    {
     "name": "stdout",
     "output_type": "stream",
     "text": [
      "Epoch 42/200, Loss: 3.7452, Train Acc: 0.4876, Val Acc: 0.4831\n"
     ]
    },
    {
     "name": "stderr",
     "output_type": "stream",
     "text": [
      "Iterating eval graphs: 100%|██████████| 48/48 [00:08<00:00,  5.84batch/s]\n",
      "Epoch 43/200, Loss: 3.4444, Train Acc: 0.4867, Val Acc: 0.5039\n",
      "Epoch 43/200, Loss: 3.4444, Train Acc: 0.4867, Val Acc: 0.5039\n",
      "Epoch 43/200, Loss: 3.4444, Train Acc: 0.4867, Val Acc: 0.5039\n"
     ]
    },
    {
     "name": "stdout",
     "output_type": "stream",
     "text": [
      "Epoch 43/200, Loss: 3.4444, Train Acc: 0.4867, Val Acc: 0.5039\n"
     ]
    },
    {
     "name": "stderr",
     "output_type": "stream",
     "text": [
      "Iterating eval graphs: 100%|██████████| 48/48 [00:08<00:00,  5.75batch/s]\n",
      "Epoch 44/200, Loss: 3.3600, Train Acc: 0.4868, Val Acc: 0.4909\n",
      "Epoch 44/200, Loss: 3.3600, Train Acc: 0.4868, Val Acc: 0.4909\n",
      "Epoch 44/200, Loss: 3.3600, Train Acc: 0.4868, Val Acc: 0.4909\n"
     ]
    },
    {
     "name": "stdout",
     "output_type": "stream",
     "text": [
      "Epoch 44/200, Loss: 3.3600, Train Acc: 0.4868, Val Acc: 0.4909\n"
     ]
    },
    {
     "name": "stderr",
     "output_type": "stream",
     "text": [
      "Iterating eval graphs: 100%|██████████| 48/48 [00:08<00:00,  5.87batch/s]\n",
      "Epoch 45/200, Loss: 3.3342, Train Acc: 0.4842, Val Acc: 0.5130\n",
      "Epoch 45/200, Loss: 3.3342, Train Acc: 0.4842, Val Acc: 0.5130\n",
      "Epoch 45/200, Loss: 3.3342, Train Acc: 0.4842, Val Acc: 0.5130\n"
     ]
    },
    {
     "name": "stdout",
     "output_type": "stream",
     "text": [
      "Epoch 45/200, Loss: 3.3342, Train Acc: 0.4842, Val Acc: 0.5130\n"
     ]
    },
    {
     "name": "stderr",
     "output_type": "stream",
     "text": [
      "Iterating eval graphs: 100%|██████████| 48/48 [00:08<00:00,  5.91batch/s]\n",
      "Epoch 46/200, Loss: 3.1766, Train Acc: 0.4963, Val Acc: 0.4896\n",
      "Epoch 46/200, Loss: 3.1766, Train Acc: 0.4963, Val Acc: 0.4896\n",
      "Epoch 46/200, Loss: 3.1766, Train Acc: 0.4963, Val Acc: 0.4896\n"
     ]
    },
    {
     "name": "stdout",
     "output_type": "stream",
     "text": [
      "Epoch 46/200, Loss: 3.1766, Train Acc: 0.4963, Val Acc: 0.4896\n"
     ]
    },
    {
     "name": "stderr",
     "output_type": "stream",
     "text": [
      "Iterating eval graphs: 100%|██████████| 48/48 [00:08<00:00,  5.84batch/s]\n",
      "Epoch 47/200, Loss: 3.1504, Train Acc: 0.4893, Val Acc: 0.5286\n",
      "Epoch 47/200, Loss: 3.1504, Train Acc: 0.4893, Val Acc: 0.5286\n",
      "Epoch 47/200, Loss: 3.1504, Train Acc: 0.4893, Val Acc: 0.5286\n"
     ]
    },
    {
     "name": "stdout",
     "output_type": "stream",
     "text": [
      "Epoch 47/200, Loss: 3.1504, Train Acc: 0.4893, Val Acc: 0.5286\n",
      "Best model updated and saved at /home/onyxia/work/DL-Hackathon/hackaton/checkpoints/model_C_best.pth\n"
     ]
    },
    {
     "name": "stderr",
     "output_type": "stream",
     "text": [
      "Iterating eval graphs: 100%|██████████| 48/48 [00:08<00:00,  5.83batch/s]\n",
      "Epoch 48/200, Loss: 2.8984, Train Acc: 0.5078, Val Acc: 0.5143\n",
      "Epoch 48/200, Loss: 2.8984, Train Acc: 0.5078, Val Acc: 0.5143\n",
      "Epoch 48/200, Loss: 2.8984, Train Acc: 0.5078, Val Acc: 0.5143\n"
     ]
    },
    {
     "name": "stdout",
     "output_type": "stream",
     "text": [
      "Epoch 48/200, Loss: 2.8984, Train Acc: 0.5078, Val Acc: 0.5143\n"
     ]
    },
    {
     "name": "stderr",
     "output_type": "stream",
     "text": [
      "Iterating eval graphs: 100%|██████████| 48/48 [00:08<00:00,  5.99batch/s]\n",
      "Epoch 49/200, Loss: 3.1606, Train Acc: 0.5036, Val Acc: 0.5111\n",
      "Epoch 49/200, Loss: 3.1606, Train Acc: 0.5036, Val Acc: 0.5111\n",
      "Epoch 49/200, Loss: 3.1606, Train Acc: 0.5036, Val Acc: 0.5111\n"
     ]
    },
    {
     "name": "stdout",
     "output_type": "stream",
     "text": [
      "Epoch 49/200, Loss: 3.1606, Train Acc: 0.5036, Val Acc: 0.5111\n"
     ]
    },
    {
     "name": "stderr",
     "output_type": "stream",
     "text": [
      "Iterating eval graphs: 100%|██████████| 48/48 [00:08<00:00,  5.90batch/s]\n",
      "Epoch 50/200, Loss: 3.4169, Train Acc: 0.5029, Val Acc: 0.5033\n",
      "Epoch 50/200, Loss: 3.4169, Train Acc: 0.5029, Val Acc: 0.5033\n",
      "Epoch 50/200, Loss: 3.4169, Train Acc: 0.5029, Val Acc: 0.5033\n"
     ]
    },
    {
     "name": "stdout",
     "output_type": "stream",
     "text": [
      "Epoch 50/200, Loss: 3.4169, Train Acc: 0.5029, Val Acc: 0.5033\n"
     ]
    },
    {
     "name": "stderr",
     "output_type": "stream",
     "text": [
      "Iterating eval graphs: 100%|██████████| 48/48 [00:08<00:00,  5.85batch/s]\n",
      "Epoch 51/200, Loss: 3.1348, Train Acc: 0.4997, Val Acc: 0.5046\n",
      "Epoch 51/200, Loss: 3.1348, Train Acc: 0.4997, Val Acc: 0.5046\n",
      "Epoch 51/200, Loss: 3.1348, Train Acc: 0.4997, Val Acc: 0.5046\n"
     ]
    },
    {
     "name": "stdout",
     "output_type": "stream",
     "text": [
      "Epoch 51/200, Loss: 3.1348, Train Acc: 0.4997, Val Acc: 0.5046\n"
     ]
    },
    {
     "name": "stderr",
     "output_type": "stream",
     "text": [
      "Iterating eval graphs: 100%|██████████| 48/48 [00:08<00:00,  5.89batch/s]\n",
      "Epoch 52/200, Loss: 3.4958, Train Acc: 0.4992, Val Acc: 0.5098\n",
      "Epoch 52/200, Loss: 3.4958, Train Acc: 0.4992, Val Acc: 0.5098\n",
      "Epoch 52/200, Loss: 3.4958, Train Acc: 0.4992, Val Acc: 0.5098\n"
     ]
    },
    {
     "name": "stdout",
     "output_type": "stream",
     "text": [
      "Epoch 52/200, Loss: 3.4958, Train Acc: 0.4992, Val Acc: 0.5098\n"
     ]
    },
    {
     "name": "stderr",
     "output_type": "stream",
     "text": [
      "Iterating eval graphs: 100%|██████████| 48/48 [00:08<00:00,  5.80batch/s]\n",
      "Epoch 53/200, Loss: 3.2725, Train Acc: 0.5000, Val Acc: 0.5501\n",
      "Epoch 53/200, Loss: 3.2725, Train Acc: 0.5000, Val Acc: 0.5501\n",
      "Epoch 53/200, Loss: 3.2725, Train Acc: 0.5000, Val Acc: 0.5501\n"
     ]
    },
    {
     "name": "stdout",
     "output_type": "stream",
     "text": [
      "Epoch 53/200, Loss: 3.2725, Train Acc: 0.5000, Val Acc: 0.5501\n",
      "Best model updated and saved at /home/onyxia/work/DL-Hackathon/hackaton/checkpoints/model_C_best.pth\n"
     ]
    },
    {
     "name": "stderr",
     "output_type": "stream",
     "text": [
      "Iterating eval graphs: 100%|██████████| 48/48 [00:08<00:00,  5.57batch/s]\n",
      "Epoch 54/200, Loss: 3.1147, Train Acc: 0.4943, Val Acc: 0.5345\n",
      "Epoch 54/200, Loss: 3.1147, Train Acc: 0.4943, Val Acc: 0.5345\n",
      "Epoch 54/200, Loss: 3.1147, Train Acc: 0.4943, Val Acc: 0.5345\n"
     ]
    },
    {
     "name": "stdout",
     "output_type": "stream",
     "text": [
      "Epoch 54/200, Loss: 3.1147, Train Acc: 0.4943, Val Acc: 0.5345\n"
     ]
    },
    {
     "name": "stderr",
     "output_type": "stream",
     "text": [
      "Iterating eval graphs: 100%|██████████| 48/48 [00:08<00:00,  5.84batch/s]\n",
      "Epoch 55/200, Loss: 2.8930, Train Acc: 0.5109, Val Acc: 0.5326\n",
      "Epoch 55/200, Loss: 2.8930, Train Acc: 0.5109, Val Acc: 0.5326\n",
      "Epoch 55/200, Loss: 2.8930, Train Acc: 0.5109, Val Acc: 0.5326\n"
     ]
    },
    {
     "name": "stdout",
     "output_type": "stream",
     "text": [
      "Epoch 55/200, Loss: 2.8930, Train Acc: 0.5109, Val Acc: 0.5326\n"
     ]
    },
    {
     "name": "stderr",
     "output_type": "stream",
     "text": [
      "Iterating eval graphs: 100%|██████████| 48/48 [00:08<00:00,  5.69batch/s]\n",
      "Epoch 56/200, Loss: 3.0478, Train Acc: 0.5153, Val Acc: 0.5449\n",
      "Epoch 56/200, Loss: 3.0478, Train Acc: 0.5153, Val Acc: 0.5449\n",
      "Epoch 56/200, Loss: 3.0478, Train Acc: 0.5153, Val Acc: 0.5449\n"
     ]
    },
    {
     "name": "stdout",
     "output_type": "stream",
     "text": [
      "Epoch 56/200, Loss: 3.0478, Train Acc: 0.5153, Val Acc: 0.5449\n"
     ]
    },
    {
     "name": "stderr",
     "output_type": "stream",
     "text": [
      "Iterating eval graphs: 100%|██████████| 48/48 [00:08<00:00,  5.95batch/s]\n",
      "Epoch 57/200, Loss: 3.0895, Train Acc: 0.5176, Val Acc: 0.4987\n",
      "Epoch 57/200, Loss: 3.0895, Train Acc: 0.5176, Val Acc: 0.4987\n",
      "Epoch 57/200, Loss: 3.0895, Train Acc: 0.5176, Val Acc: 0.4987\n"
     ]
    },
    {
     "name": "stdout",
     "output_type": "stream",
     "text": [
      "Epoch 57/200, Loss: 3.0895, Train Acc: 0.5176, Val Acc: 0.4987\n"
     ]
    },
    {
     "name": "stderr",
     "output_type": "stream",
     "text": [
      "Iterating eval graphs: 100%|██████████| 48/48 [00:08<00:00,  5.64batch/s]\n",
      "Epoch 58/200, Loss: 3.2947, Train Acc: 0.5055, Val Acc: 0.5514\n",
      "Epoch 58/200, Loss: 3.2947, Train Acc: 0.5055, Val Acc: 0.5514\n",
      "Epoch 58/200, Loss: 3.2947, Train Acc: 0.5055, Val Acc: 0.5514\n"
     ]
    },
    {
     "name": "stdout",
     "output_type": "stream",
     "text": [
      "Epoch 58/200, Loss: 3.2947, Train Acc: 0.5055, Val Acc: 0.5514\n",
      "Best model updated and saved at /home/onyxia/work/DL-Hackathon/hackaton/checkpoints/model_C_best.pth\n"
     ]
    },
    {
     "name": "stderr",
     "output_type": "stream",
     "text": [
      "Iterating eval graphs: 100%|██████████| 48/48 [00:07<00:00,  6.04batch/s]\n",
      "Epoch 59/200, Loss: 3.1981, Train Acc: 0.5210, Val Acc: 0.5247\n",
      "Epoch 59/200, Loss: 3.1981, Train Acc: 0.5210, Val Acc: 0.5247\n",
      "Epoch 59/200, Loss: 3.1981, Train Acc: 0.5210, Val Acc: 0.5247\n"
     ]
    },
    {
     "name": "stdout",
     "output_type": "stream",
     "text": [
      "Epoch 59/200, Loss: 3.1981, Train Acc: 0.5210, Val Acc: 0.5247\n"
     ]
    },
    {
     "name": "stderr",
     "output_type": "stream",
     "text": [
      "Iterating eval graphs: 100%|██████████| 48/48 [00:08<00:00,  5.90batch/s]\n",
      "Epoch 60/200, Loss: 3.0797, Train Acc: 0.5233, Val Acc: 0.5215\n",
      "Epoch 60/200, Loss: 3.0797, Train Acc: 0.5233, Val Acc: 0.5215\n",
      "Epoch 60/200, Loss: 3.0797, Train Acc: 0.5233, Val Acc: 0.5215\n"
     ]
    },
    {
     "name": "stdout",
     "output_type": "stream",
     "text": [
      "Epoch 60/200, Loss: 3.0797, Train Acc: 0.5233, Val Acc: 0.5215\n"
     ]
    },
    {
     "name": "stderr",
     "output_type": "stream",
     "text": [
      "Iterating eval graphs: 100%|██████████| 48/48 [00:08<00:00,  5.90batch/s]\n",
      "Epoch 61/200, Loss: 2.9696, Train Acc: 0.5187, Val Acc: 0.5560\n",
      "Epoch 61/200, Loss: 2.9696, Train Acc: 0.5187, Val Acc: 0.5560\n",
      "Epoch 61/200, Loss: 2.9696, Train Acc: 0.5187, Val Acc: 0.5560\n"
     ]
    },
    {
     "name": "stdout",
     "output_type": "stream",
     "text": [
      "Epoch 61/200, Loss: 2.9696, Train Acc: 0.5187, Val Acc: 0.5560\n",
      "Best model updated and saved at /home/onyxia/work/DL-Hackathon/hackaton/checkpoints/model_C_best.pth\n"
     ]
    },
    {
     "name": "stderr",
     "output_type": "stream",
     "text": [
      "Iterating eval graphs: 100%|██████████| 48/48 [00:07<00:00,  6.09batch/s]\n",
      "Epoch 62/200, Loss: 3.0424, Train Acc: 0.5226, Val Acc: 0.5365\n",
      "Epoch 62/200, Loss: 3.0424, Train Acc: 0.5226, Val Acc: 0.5365\n",
      "Epoch 62/200, Loss: 3.0424, Train Acc: 0.5226, Val Acc: 0.5365\n"
     ]
    },
    {
     "name": "stdout",
     "output_type": "stream",
     "text": [
      "Epoch 62/200, Loss: 3.0424, Train Acc: 0.5226, Val Acc: 0.5365\n"
     ]
    },
    {
     "name": "stderr",
     "output_type": "stream",
     "text": [
      "Iterating eval graphs: 100%|██████████| 48/48 [00:08<00:00,  5.69batch/s]\n",
      "Epoch 63/200, Loss: 2.8182, Train Acc: 0.5246, Val Acc: 0.5599\n",
      "Epoch 63/200, Loss: 2.8182, Train Acc: 0.5246, Val Acc: 0.5599\n",
      "Epoch 63/200, Loss: 2.8182, Train Acc: 0.5246, Val Acc: 0.5599\n"
     ]
    },
    {
     "name": "stdout",
     "output_type": "stream",
     "text": [
      "Epoch 63/200, Loss: 2.8182, Train Acc: 0.5246, Val Acc: 0.5599\n",
      "Best model updated and saved at /home/onyxia/work/DL-Hackathon/hackaton/checkpoints/model_C_best.pth\n"
     ]
    },
    {
     "name": "stderr",
     "output_type": "stream",
     "text": [
      "Iterating eval graphs: 100%|██████████| 48/48 [00:08<00:00,  5.80batch/s]\n",
      "Epoch 64/200, Loss: 2.8633, Train Acc: 0.5290, Val Acc: 0.5566\n",
      "Epoch 64/200, Loss: 2.8633, Train Acc: 0.5290, Val Acc: 0.5566\n",
      "Epoch 64/200, Loss: 2.8633, Train Acc: 0.5290, Val Acc: 0.5566\n"
     ]
    },
    {
     "name": "stdout",
     "output_type": "stream",
     "text": [
      "Epoch 64/200, Loss: 2.8633, Train Acc: 0.5290, Val Acc: 0.5566\n"
     ]
    },
    {
     "name": "stderr",
     "output_type": "stream",
     "text": [
      "Iterating eval graphs: 100%|██████████| 48/48 [00:08<00:00,  5.70batch/s]\n",
      "Epoch 65/200, Loss: 2.8553, Train Acc: 0.5356, Val Acc: 0.5345\n",
      "Epoch 65/200, Loss: 2.8553, Train Acc: 0.5356, Val Acc: 0.5345\n",
      "Epoch 65/200, Loss: 2.8553, Train Acc: 0.5356, Val Acc: 0.5345\n"
     ]
    },
    {
     "name": "stdout",
     "output_type": "stream",
     "text": [
      "Epoch 65/200, Loss: 2.8553, Train Acc: 0.5356, Val Acc: 0.5345\n"
     ]
    },
    {
     "name": "stderr",
     "output_type": "stream",
     "text": [
      "Iterating eval graphs: 100%|██████████| 48/48 [00:08<00:00,  5.82batch/s]\n",
      "Epoch 66/200, Loss: 2.9034, Train Acc: 0.5295, Val Acc: 0.5488\n",
      "Epoch 66/200, Loss: 2.9034, Train Acc: 0.5295, Val Acc: 0.5488\n",
      "Epoch 66/200, Loss: 2.9034, Train Acc: 0.5295, Val Acc: 0.5488\n"
     ]
    },
    {
     "name": "stdout",
     "output_type": "stream",
     "text": [
      "Epoch 66/200, Loss: 2.9034, Train Acc: 0.5295, Val Acc: 0.5488\n"
     ]
    },
    {
     "name": "stderr",
     "output_type": "stream",
     "text": [
      "Iterating eval graphs: 100%|██████████| 48/48 [00:08<00:00,  5.91batch/s]\n",
      "Epoch 67/200, Loss: 2.8717, Train Acc: 0.5348, Val Acc: 0.5801\n",
      "Epoch 67/200, Loss: 2.8717, Train Acc: 0.5348, Val Acc: 0.5801\n",
      "Epoch 67/200, Loss: 2.8717, Train Acc: 0.5348, Val Acc: 0.5801\n"
     ]
    },
    {
     "name": "stdout",
     "output_type": "stream",
     "text": [
      "Epoch 67/200, Loss: 2.8717, Train Acc: 0.5348, Val Acc: 0.5801\n",
      "Best model updated and saved at /home/onyxia/work/DL-Hackathon/hackaton/checkpoints/model_C_best.pth\n"
     ]
    },
    {
     "name": "stderr",
     "output_type": "stream",
     "text": [
      "Iterating eval graphs: 100%|██████████| 48/48 [00:08<00:00,  5.68batch/s]\n",
      "Epoch 68/200, Loss: 2.8512, Train Acc: 0.5431, Val Acc: 0.5632\n",
      "Epoch 68/200, Loss: 2.8512, Train Acc: 0.5431, Val Acc: 0.5632\n",
      "Epoch 68/200, Loss: 2.8512, Train Acc: 0.5431, Val Acc: 0.5632\n"
     ]
    },
    {
     "name": "stdout",
     "output_type": "stream",
     "text": [
      "Epoch 68/200, Loss: 2.8512, Train Acc: 0.5431, Val Acc: 0.5632\n"
     ]
    },
    {
     "name": "stderr",
     "output_type": "stream",
     "text": [
      "Iterating eval graphs: 100%|██████████| 48/48 [00:08<00:00,  5.93batch/s]\n",
      "Epoch 69/200, Loss: 2.6733, Train Acc: 0.5488, Val Acc: 0.5703\n",
      "Epoch 69/200, Loss: 2.6733, Train Acc: 0.5488, Val Acc: 0.5703\n",
      "Epoch 69/200, Loss: 2.6733, Train Acc: 0.5488, Val Acc: 0.5703\n"
     ]
    },
    {
     "name": "stdout",
     "output_type": "stream",
     "text": [
      "Epoch 69/200, Loss: 2.6733, Train Acc: 0.5488, Val Acc: 0.5703\n"
     ]
    },
    {
     "name": "stderr",
     "output_type": "stream",
     "text": [
      "Iterating eval graphs: 100%|██████████| 48/48 [00:08<00:00,  5.88batch/s]\n",
      "Epoch 70/200, Loss: 2.8690, Train Acc: 0.5386, Val Acc: 0.5664\n",
      "Epoch 70/200, Loss: 2.8690, Train Acc: 0.5386, Val Acc: 0.5664\n",
      "Epoch 70/200, Loss: 2.8690, Train Acc: 0.5386, Val Acc: 0.5664\n"
     ]
    },
    {
     "name": "stdout",
     "output_type": "stream",
     "text": [
      "Epoch 70/200, Loss: 2.8690, Train Acc: 0.5386, Val Acc: 0.5664\n"
     ]
    },
    {
     "name": "stderr",
     "output_type": "stream",
     "text": [
      "Iterating eval graphs: 100%|██████████| 48/48 [00:08<00:00,  5.85batch/s]\n",
      "Epoch 71/200, Loss: 2.6717, Train Acc: 0.5425, Val Acc: 0.5885\n",
      "Epoch 71/200, Loss: 2.6717, Train Acc: 0.5425, Val Acc: 0.5885\n",
      "Epoch 71/200, Loss: 2.6717, Train Acc: 0.5425, Val Acc: 0.5885\n"
     ]
    },
    {
     "name": "stdout",
     "output_type": "stream",
     "text": [
      "Epoch 71/200, Loss: 2.6717, Train Acc: 0.5425, Val Acc: 0.5885\n",
      "Best model updated and saved at /home/onyxia/work/DL-Hackathon/hackaton/checkpoints/model_C_best.pth\n"
     ]
    },
    {
     "name": "stderr",
     "output_type": "stream",
     "text": [
      "Iterating eval graphs: 100%|██████████| 48/48 [00:08<00:00,  5.84batch/s]\n",
      "Epoch 72/200, Loss: 2.9244, Train Acc: 0.5438, Val Acc: 0.5833\n",
      "Epoch 72/200, Loss: 2.9244, Train Acc: 0.5438, Val Acc: 0.5833\n",
      "Epoch 72/200, Loss: 2.9244, Train Acc: 0.5438, Val Acc: 0.5833\n"
     ]
    },
    {
     "name": "stdout",
     "output_type": "stream",
     "text": [
      "Epoch 72/200, Loss: 2.9244, Train Acc: 0.5438, Val Acc: 0.5833\n"
     ]
    },
    {
     "name": "stderr",
     "output_type": "stream",
     "text": [
      "Iterating eval graphs: 100%|██████████| 48/48 [00:08<00:00,  5.84batch/s]\n",
      "Epoch 73/200, Loss: 2.7016, Train Acc: 0.5412, Val Acc: 0.5026\n",
      "Epoch 73/200, Loss: 2.7016, Train Acc: 0.5412, Val Acc: 0.5026\n",
      "Epoch 73/200, Loss: 2.7016, Train Acc: 0.5412, Val Acc: 0.5026\n"
     ]
    },
    {
     "name": "stdout",
     "output_type": "stream",
     "text": [
      "Epoch 73/200, Loss: 2.7016, Train Acc: 0.5412, Val Acc: 0.5026\n"
     ]
    },
    {
     "name": "stderr",
     "output_type": "stream",
     "text": [
      "Iterating eval graphs: 100%|██████████| 48/48 [00:08<00:00,  5.58batch/s]\n",
      "Epoch 74/200, Loss: 2.5824, Train Acc: 0.5501, Val Acc: 0.5898\n",
      "Epoch 74/200, Loss: 2.5824, Train Acc: 0.5501, Val Acc: 0.5898\n",
      "Epoch 74/200, Loss: 2.5824, Train Acc: 0.5501, Val Acc: 0.5898\n"
     ]
    },
    {
     "name": "stdout",
     "output_type": "stream",
     "text": [
      "Epoch 74/200, Loss: 2.5824, Train Acc: 0.5501, Val Acc: 0.5898\n",
      "Best model updated and saved at /home/onyxia/work/DL-Hackathon/hackaton/checkpoints/model_C_best.pth\n"
     ]
    },
    {
     "name": "stderr",
     "output_type": "stream",
     "text": [
      "Iterating eval graphs: 100%|██████████| 48/48 [00:08<00:00,  5.85batch/s]\n",
      "Epoch 75/200, Loss: 2.7022, Train Acc: 0.5547, Val Acc: 0.5697\n",
      "Epoch 75/200, Loss: 2.7022, Train Acc: 0.5547, Val Acc: 0.5697\n",
      "Epoch 75/200, Loss: 2.7022, Train Acc: 0.5547, Val Acc: 0.5697\n"
     ]
    },
    {
     "name": "stdout",
     "output_type": "stream",
     "text": [
      "Epoch 75/200, Loss: 2.7022, Train Acc: 0.5547, Val Acc: 0.5697\n"
     ]
    },
    {
     "name": "stderr",
     "output_type": "stream",
     "text": [
      "Iterating eval graphs: 100%|██████████| 48/48 [00:08<00:00,  5.77batch/s]\n",
      "Epoch 76/200, Loss: 2.7498, Train Acc: 0.5526, Val Acc: 0.5781\n",
      "Epoch 76/200, Loss: 2.7498, Train Acc: 0.5526, Val Acc: 0.5781\n",
      "Epoch 76/200, Loss: 2.7498, Train Acc: 0.5526, Val Acc: 0.5781\n"
     ]
    },
    {
     "name": "stdout",
     "output_type": "stream",
     "text": [
      "Epoch 76/200, Loss: 2.7498, Train Acc: 0.5526, Val Acc: 0.5781\n"
     ]
    },
    {
     "name": "stderr",
     "output_type": "stream",
     "text": [
      "Iterating eval graphs: 100%|██████████| 48/48 [00:08<00:00,  5.80batch/s]\n",
      "Epoch 77/200, Loss: 2.6171, Train Acc: 0.5544, Val Acc: 0.5990\n",
      "Epoch 77/200, Loss: 2.6171, Train Acc: 0.5544, Val Acc: 0.5990\n",
      "Epoch 77/200, Loss: 2.6171, Train Acc: 0.5544, Val Acc: 0.5990\n"
     ]
    },
    {
     "name": "stdout",
     "output_type": "stream",
     "text": [
      "Epoch 77/200, Loss: 2.6171, Train Acc: 0.5544, Val Acc: 0.5990\n",
      "Best model updated and saved at /home/onyxia/work/DL-Hackathon/hackaton/checkpoints/model_C_best.pth\n"
     ]
    },
    {
     "name": "stderr",
     "output_type": "stream",
     "text": [
      "Iterating eval graphs: 100%|██████████| 48/48 [00:08<00:00,  5.84batch/s]\n",
      "Epoch 78/200, Loss: 2.7122, Train Acc: 0.5615, Val Acc: 0.5898\n",
      "Epoch 78/200, Loss: 2.7122, Train Acc: 0.5615, Val Acc: 0.5898\n",
      "Epoch 78/200, Loss: 2.7122, Train Acc: 0.5615, Val Acc: 0.5898\n"
     ]
    },
    {
     "name": "stdout",
     "output_type": "stream",
     "text": [
      "Epoch 78/200, Loss: 2.7122, Train Acc: 0.5615, Val Acc: 0.5898\n"
     ]
    },
    {
     "name": "stderr",
     "output_type": "stream",
     "text": [
      "Iterating eval graphs: 100%|██████████| 48/48 [00:08<00:00,  5.77batch/s]\n",
      "Epoch 79/200, Loss: 2.9721, Train Acc: 0.5661, Val Acc: 0.5885\n",
      "Epoch 79/200, Loss: 2.9721, Train Acc: 0.5661, Val Acc: 0.5885\n",
      "Epoch 79/200, Loss: 2.9721, Train Acc: 0.5661, Val Acc: 0.5885\n"
     ]
    },
    {
     "name": "stdout",
     "output_type": "stream",
     "text": [
      "Epoch 79/200, Loss: 2.9721, Train Acc: 0.5661, Val Acc: 0.5885\n"
     ]
    },
    {
     "name": "stderr",
     "output_type": "stream",
     "text": [
      "Iterating eval graphs: 100%|██████████| 48/48 [00:08<00:00,  5.94batch/s]\n",
      "Epoch 80/200, Loss: 2.7170, Train Acc: 0.5659, Val Acc: 0.5716\n",
      "Epoch 80/200, Loss: 2.7170, Train Acc: 0.5659, Val Acc: 0.5716\n",
      "Epoch 80/200, Loss: 2.7170, Train Acc: 0.5659, Val Acc: 0.5716\n"
     ]
    },
    {
     "name": "stdout",
     "output_type": "stream",
     "text": [
      "Epoch 80/200, Loss: 2.7170, Train Acc: 0.5659, Val Acc: 0.5716\n"
     ]
    },
    {
     "name": "stderr",
     "output_type": "stream",
     "text": [
      "Iterating eval graphs: 100%|██████████| 48/48 [00:08<00:00,  5.85batch/s]\n",
      "Epoch 81/200, Loss: 2.6539, Train Acc: 0.5628, Val Acc: 0.5501\n",
      "Epoch 81/200, Loss: 2.6539, Train Acc: 0.5628, Val Acc: 0.5501\n",
      "Epoch 81/200, Loss: 2.6539, Train Acc: 0.5628, Val Acc: 0.5501\n"
     ]
    },
    {
     "name": "stdout",
     "output_type": "stream",
     "text": [
      "Epoch 81/200, Loss: 2.6539, Train Acc: 0.5628, Val Acc: 0.5501\n"
     ]
    },
    {
     "name": "stderr",
     "output_type": "stream",
     "text": [
      "Iterating eval graphs: 100%|██████████| 48/48 [00:08<00:00,  5.83batch/s]\n",
      "Epoch 82/200, Loss: 2.7145, Train Acc: 0.5623, Val Acc: 0.5768\n",
      "Epoch 82/200, Loss: 2.7145, Train Acc: 0.5623, Val Acc: 0.5768\n",
      "Epoch 82/200, Loss: 2.7145, Train Acc: 0.5623, Val Acc: 0.5768\n"
     ]
    },
    {
     "name": "stdout",
     "output_type": "stream",
     "text": [
      "Epoch 82/200, Loss: 2.7145, Train Acc: 0.5623, Val Acc: 0.5768\n"
     ]
    },
    {
     "name": "stderr",
     "output_type": "stream",
     "text": [
      "Iterating eval graphs: 100%|██████████| 48/48 [00:08<00:00,  5.97batch/s]\n",
      "Epoch 83/200, Loss: 2.5343, Train Acc: 0.5607, Val Acc: 0.5944\n",
      "Epoch 83/200, Loss: 2.5343, Train Acc: 0.5607, Val Acc: 0.5944\n",
      "Epoch 83/200, Loss: 2.5343, Train Acc: 0.5607, Val Acc: 0.5944\n"
     ]
    },
    {
     "name": "stdout",
     "output_type": "stream",
     "text": [
      "Epoch 83/200, Loss: 2.5343, Train Acc: 0.5607, Val Acc: 0.5944\n"
     ]
    },
    {
     "name": "stderr",
     "output_type": "stream",
     "text": [
      "Iterating eval graphs: 100%|██████████| 48/48 [00:08<00:00,  5.87batch/s]\n",
      "Epoch 84/200, Loss: 2.3529, Train Acc: 0.5729, Val Acc: 0.5866\n",
      "Epoch 84/200, Loss: 2.3529, Train Acc: 0.5729, Val Acc: 0.5866\n",
      "Epoch 84/200, Loss: 2.3529, Train Acc: 0.5729, Val Acc: 0.5866\n"
     ]
    },
    {
     "name": "stdout",
     "output_type": "stream",
     "text": [
      "Epoch 84/200, Loss: 2.3529, Train Acc: 0.5729, Val Acc: 0.5866\n"
     ]
    },
    {
     "name": "stderr",
     "output_type": "stream",
     "text": [
      "Iterating eval graphs: 100%|██████████| 48/48 [00:08<00:00,  5.79batch/s]\n",
      "Epoch 85/200, Loss: 2.6501, Train Acc: 0.5662, Val Acc: 0.5742\n",
      "Epoch 85/200, Loss: 2.6501, Train Acc: 0.5662, Val Acc: 0.5742\n",
      "Epoch 85/200, Loss: 2.6501, Train Acc: 0.5662, Val Acc: 0.5742\n"
     ]
    },
    {
     "name": "stdout",
     "output_type": "stream",
     "text": [
      "Epoch 85/200, Loss: 2.6501, Train Acc: 0.5662, Val Acc: 0.5742\n"
     ]
    },
    {
     "name": "stderr",
     "output_type": "stream",
     "text": [
      "Iterating eval graphs: 100%|██████████| 48/48 [00:08<00:00,  5.67batch/s]\n",
      "Epoch 86/200, Loss: 2.6819, Train Acc: 0.5604, Val Acc: 0.5762\n",
      "Epoch 86/200, Loss: 2.6819, Train Acc: 0.5604, Val Acc: 0.5762\n",
      "Epoch 86/200, Loss: 2.6819, Train Acc: 0.5604, Val Acc: 0.5762\n"
     ]
    },
    {
     "name": "stdout",
     "output_type": "stream",
     "text": [
      "Epoch 86/200, Loss: 2.6819, Train Acc: 0.5604, Val Acc: 0.5762\n"
     ]
    },
    {
     "name": "stderr",
     "output_type": "stream",
     "text": [
      "Iterating eval graphs: 100%|██████████| 48/48 [00:08<00:00,  5.91batch/s]\n",
      "Epoch 87/200, Loss: 2.3559, Train Acc: 0.5785, Val Acc: 0.5684\n",
      "Epoch 87/200, Loss: 2.3559, Train Acc: 0.5785, Val Acc: 0.5684\n",
      "Epoch 87/200, Loss: 2.3559, Train Acc: 0.5785, Val Acc: 0.5684\n"
     ]
    },
    {
     "name": "stdout",
     "output_type": "stream",
     "text": [
      "Epoch 87/200, Loss: 2.3559, Train Acc: 0.5785, Val Acc: 0.5684\n"
     ]
    },
    {
     "name": "stderr",
     "output_type": "stream",
     "text": [
      "Iterating eval graphs: 100%|██████████| 48/48 [00:08<00:00,  5.79batch/s]\n",
      "Epoch 88/200, Loss: 2.2953, Train Acc: 0.5767, Val Acc: 0.5781\n",
      "Epoch 88/200, Loss: 2.2953, Train Acc: 0.5767, Val Acc: 0.5781\n",
      "Epoch 88/200, Loss: 2.2953, Train Acc: 0.5767, Val Acc: 0.5781\n"
     ]
    },
    {
     "name": "stdout",
     "output_type": "stream",
     "text": [
      "Epoch 88/200, Loss: 2.2953, Train Acc: 0.5767, Val Acc: 0.5781\n"
     ]
    },
    {
     "name": "stderr",
     "output_type": "stream",
     "text": [
      "Iterating eval graphs: 100%|██████████| 48/48 [00:08<00:00,  5.87batch/s]\n",
      "Epoch 89/200, Loss: 2.2792, Train Acc: 0.5846, Val Acc: 0.6009\n",
      "Epoch 89/200, Loss: 2.2792, Train Acc: 0.5846, Val Acc: 0.6009\n",
      "Epoch 89/200, Loss: 2.2792, Train Acc: 0.5846, Val Acc: 0.6009\n"
     ]
    },
    {
     "name": "stdout",
     "output_type": "stream",
     "text": [
      "Epoch 89/200, Loss: 2.2792, Train Acc: 0.5846, Val Acc: 0.6009\n",
      "Best model updated and saved at /home/onyxia/work/DL-Hackathon/hackaton/checkpoints/model_C_best.pth\n"
     ]
    },
    {
     "name": "stderr",
     "output_type": "stream",
     "text": [
      "Iterating eval graphs: 100%|██████████| 48/48 [00:08<00:00,  5.76batch/s]\n",
      "Epoch 90/200, Loss: 2.3846, Train Acc: 0.5869, Val Acc: 0.5612\n",
      "Epoch 90/200, Loss: 2.3846, Train Acc: 0.5869, Val Acc: 0.5612\n",
      "Epoch 90/200, Loss: 2.3846, Train Acc: 0.5869, Val Acc: 0.5612\n"
     ]
    },
    {
     "name": "stdout",
     "output_type": "stream",
     "text": [
      "Epoch 90/200, Loss: 2.3846, Train Acc: 0.5869, Val Acc: 0.5612\n"
     ]
    },
    {
     "name": "stderr",
     "output_type": "stream",
     "text": [
      "Iterating eval graphs: 100%|██████████| 48/48 [00:08<00:00,  5.77batch/s]\n",
      "Epoch 91/200, Loss: 2.5447, Train Acc: 0.5739, Val Acc: 0.5931\n",
      "Epoch 91/200, Loss: 2.5447, Train Acc: 0.5739, Val Acc: 0.5931\n",
      "Epoch 91/200, Loss: 2.5447, Train Acc: 0.5739, Val Acc: 0.5931\n"
     ]
    },
    {
     "name": "stdout",
     "output_type": "stream",
     "text": [
      "Epoch 91/200, Loss: 2.5447, Train Acc: 0.5739, Val Acc: 0.5931\n"
     ]
    },
    {
     "name": "stderr",
     "output_type": "stream",
     "text": [
      "Iterating eval graphs: 100%|██████████| 48/48 [00:08<00:00,  5.95batch/s]\n",
      "Epoch 92/200, Loss: 2.3901, Train Acc: 0.5825, Val Acc: 0.5911\n",
      "Epoch 92/200, Loss: 2.3901, Train Acc: 0.5825, Val Acc: 0.5911\n",
      "Epoch 92/200, Loss: 2.3901, Train Acc: 0.5825, Val Acc: 0.5911\n"
     ]
    },
    {
     "name": "stdout",
     "output_type": "stream",
     "text": [
      "Epoch 92/200, Loss: 2.3901, Train Acc: 0.5825, Val Acc: 0.5911\n"
     ]
    },
    {
     "name": "stderr",
     "output_type": "stream",
     "text": [
      "Iterating eval graphs: 100%|██████████| 48/48 [00:08<00:00,  5.94batch/s]\n",
      "Epoch 93/200, Loss: 2.6244, Train Acc: 0.5783, Val Acc: 0.6113\n",
      "Epoch 93/200, Loss: 2.6244, Train Acc: 0.5783, Val Acc: 0.6113\n",
      "Epoch 93/200, Loss: 2.6244, Train Acc: 0.5783, Val Acc: 0.6113\n"
     ]
    },
    {
     "name": "stdout",
     "output_type": "stream",
     "text": [
      "Epoch 93/200, Loss: 2.6244, Train Acc: 0.5783, Val Acc: 0.6113\n",
      "Best model updated and saved at /home/onyxia/work/DL-Hackathon/hackaton/checkpoints/model_C_best.pth\n"
     ]
    },
    {
     "name": "stderr",
     "output_type": "stream",
     "text": [
      "Iterating eval graphs: 100%|██████████| 48/48 [00:08<00:00,  5.91batch/s]\n",
      "Epoch 94/200, Loss: 2.5008, Train Acc: 0.5905, Val Acc: 0.6146\n",
      "Epoch 94/200, Loss: 2.5008, Train Acc: 0.5905, Val Acc: 0.6146\n",
      "Epoch 94/200, Loss: 2.5008, Train Acc: 0.5905, Val Acc: 0.6146\n"
     ]
    },
    {
     "name": "stdout",
     "output_type": "stream",
     "text": [
      "Epoch 94/200, Loss: 2.5008, Train Acc: 0.5905, Val Acc: 0.6146\n",
      "Best model updated and saved at /home/onyxia/work/DL-Hackathon/hackaton/checkpoints/model_C_best.pth\n"
     ]
    },
    {
     "name": "stderr",
     "output_type": "stream",
     "text": [
      "Iterating eval graphs: 100%|██████████| 48/48 [00:08<00:00,  5.81batch/s]\n",
      "Epoch 95/200, Loss: 2.4016, Train Acc: 0.5994, Val Acc: 0.6016\n",
      "Epoch 95/200, Loss: 2.4016, Train Acc: 0.5994, Val Acc: 0.6016\n",
      "Epoch 95/200, Loss: 2.4016, Train Acc: 0.5994, Val Acc: 0.6016\n"
     ]
    },
    {
     "name": "stdout",
     "output_type": "stream",
     "text": [
      "Epoch 95/200, Loss: 2.4016, Train Acc: 0.5994, Val Acc: 0.6016\n"
     ]
    },
    {
     "name": "stderr",
     "output_type": "stream",
     "text": [
      "Iterating eval graphs: 100%|██████████| 48/48 [00:08<00:00,  5.81batch/s]\n",
      "Epoch 96/200, Loss: 2.3764, Train Acc: 0.5877, Val Acc: 0.6113\n",
      "Epoch 96/200, Loss: 2.3764, Train Acc: 0.5877, Val Acc: 0.6113\n",
      "Epoch 96/200, Loss: 2.3764, Train Acc: 0.5877, Val Acc: 0.6113\n"
     ]
    },
    {
     "name": "stdout",
     "output_type": "stream",
     "text": [
      "Epoch 96/200, Loss: 2.3764, Train Acc: 0.5877, Val Acc: 0.6113\n"
     ]
    },
    {
     "name": "stderr",
     "output_type": "stream",
     "text": [
      "Iterating eval graphs: 100%|██████████| 48/48 [00:08<00:00,  5.70batch/s]\n",
      "Epoch 97/200, Loss: 2.2520, Train Acc: 0.5980, Val Acc: 0.6126\n",
      "Epoch 97/200, Loss: 2.2520, Train Acc: 0.5980, Val Acc: 0.6126\n",
      "Epoch 97/200, Loss: 2.2520, Train Acc: 0.5980, Val Acc: 0.6126\n"
     ]
    },
    {
     "name": "stdout",
     "output_type": "stream",
     "text": [
      "Epoch 97/200, Loss: 2.2520, Train Acc: 0.5980, Val Acc: 0.6126\n"
     ]
    },
    {
     "name": "stderr",
     "output_type": "stream",
     "text": [
      "Iterating eval graphs: 100%|██████████| 48/48 [00:08<00:00,  5.63batch/s]\n",
      "Epoch 98/200, Loss: 2.1899, Train Acc: 0.5970, Val Acc: 0.5820\n",
      "Epoch 98/200, Loss: 2.1899, Train Acc: 0.5970, Val Acc: 0.5820\n",
      "Epoch 98/200, Loss: 2.1899, Train Acc: 0.5970, Val Acc: 0.5820\n"
     ]
    },
    {
     "name": "stdout",
     "output_type": "stream",
     "text": [
      "Epoch 98/200, Loss: 2.1899, Train Acc: 0.5970, Val Acc: 0.5820\n"
     ]
    },
    {
     "name": "stderr",
     "output_type": "stream",
     "text": [
      "Iterating eval graphs: 100%|██████████| 48/48 [00:08<00:00,  5.91batch/s]\n",
      "Epoch 99/200, Loss: 2.3546, Train Acc: 0.5926, Val Acc: 0.6074\n",
      "Epoch 99/200, Loss: 2.3546, Train Acc: 0.5926, Val Acc: 0.6074\n",
      "Epoch 99/200, Loss: 2.3546, Train Acc: 0.5926, Val Acc: 0.6074\n"
     ]
    },
    {
     "name": "stdout",
     "output_type": "stream",
     "text": [
      "Epoch 99/200, Loss: 2.3546, Train Acc: 0.5926, Val Acc: 0.6074\n"
     ]
    },
    {
     "name": "stderr",
     "output_type": "stream",
     "text": [
      "Iterating eval graphs: 100%|██████████| 48/48 [00:07<00:00,  6.01batch/s]\n",
      "Epoch 100/200, Loss: 2.1257, Train Acc: 0.6014, Val Acc: 0.6211\n",
      "Epoch 100/200, Loss: 2.1257, Train Acc: 0.6014, Val Acc: 0.6211\n",
      "Epoch 100/200, Loss: 2.1257, Train Acc: 0.6014, Val Acc: 0.6211\n"
     ]
    },
    {
     "name": "stdout",
     "output_type": "stream",
     "text": [
      "Epoch 100/200, Loss: 2.1257, Train Acc: 0.6014, Val Acc: 0.6211\n",
      "Best model updated and saved at /home/onyxia/work/DL-Hackathon/hackaton/checkpoints/model_C_best.pth\n"
     ]
    },
    {
     "name": "stderr",
     "output_type": "stream",
     "text": [
      "Iterating eval graphs: 100%|██████████| 48/48 [00:08<00:00,  5.84batch/s]\n",
      "Epoch 101/200, Loss: 2.1505, Train Acc: 0.6050, Val Acc: 0.6237\n",
      "Epoch 101/200, Loss: 2.1505, Train Acc: 0.6050, Val Acc: 0.6237\n",
      "Epoch 101/200, Loss: 2.1505, Train Acc: 0.6050, Val Acc: 0.6237\n"
     ]
    },
    {
     "name": "stdout",
     "output_type": "stream",
     "text": [
      "Epoch 101/200, Loss: 2.1505, Train Acc: 0.6050, Val Acc: 0.6237\n",
      "Best model updated and saved at /home/onyxia/work/DL-Hackathon/hackaton/checkpoints/model_C_best.pth\n"
     ]
    },
    {
     "name": "stderr",
     "output_type": "stream",
     "text": [
      "Iterating eval graphs: 100%|██████████| 48/48 [00:08<00:00,  5.68batch/s]\n",
      "Epoch 102/200, Loss: 2.3029, Train Acc: 0.5949, Val Acc: 0.6146\n",
      "Epoch 102/200, Loss: 2.3029, Train Acc: 0.5949, Val Acc: 0.6146\n",
      "Epoch 102/200, Loss: 2.3029, Train Acc: 0.5949, Val Acc: 0.6146\n"
     ]
    },
    {
     "name": "stdout",
     "output_type": "stream",
     "text": [
      "Epoch 102/200, Loss: 2.3029, Train Acc: 0.5949, Val Acc: 0.6146\n"
     ]
    },
    {
     "name": "stderr",
     "output_type": "stream",
     "text": [
      "Iterating eval graphs: 100%|██████████| 48/48 [00:08<00:00,  5.86batch/s]\n",
      "Epoch 103/200, Loss: 2.4032, Train Acc: 0.5965, Val Acc: 0.6061\n",
      "Epoch 103/200, Loss: 2.4032, Train Acc: 0.5965, Val Acc: 0.6061\n",
      "Epoch 103/200, Loss: 2.4032, Train Acc: 0.5965, Val Acc: 0.6061\n"
     ]
    },
    {
     "name": "stdout",
     "output_type": "stream",
     "text": [
      "Epoch 103/200, Loss: 2.4032, Train Acc: 0.5965, Val Acc: 0.6061\n"
     ]
    },
    {
     "name": "stderr",
     "output_type": "stream",
     "text": [
      "Iterating eval graphs: 100%|██████████| 48/48 [00:08<00:00,  5.88batch/s]\n",
      "Epoch 104/200, Loss: 2.1136, Train Acc: 0.6060, Val Acc: 0.6146\n",
      "Epoch 104/200, Loss: 2.1136, Train Acc: 0.6060, Val Acc: 0.6146\n",
      "Epoch 104/200, Loss: 2.1136, Train Acc: 0.6060, Val Acc: 0.6146\n"
     ]
    },
    {
     "name": "stdout",
     "output_type": "stream",
     "text": [
      "Epoch 104/200, Loss: 2.1136, Train Acc: 0.6060, Val Acc: 0.6146\n"
     ]
    },
    {
     "name": "stderr",
     "output_type": "stream",
     "text": [
      "Iterating eval graphs: 100%|██████████| 48/48 [00:08<00:00,  5.99batch/s]\n",
      "Epoch 105/200, Loss: 2.4410, Train Acc: 0.5907, Val Acc: 0.6035\n",
      "Epoch 105/200, Loss: 2.4410, Train Acc: 0.5907, Val Acc: 0.6035\n",
      "Epoch 105/200, Loss: 2.4410, Train Acc: 0.5907, Val Acc: 0.6035\n"
     ]
    },
    {
     "name": "stdout",
     "output_type": "stream",
     "text": [
      "Epoch 105/200, Loss: 2.4410, Train Acc: 0.5907, Val Acc: 0.6035\n"
     ]
    },
    {
     "name": "stderr",
     "output_type": "stream",
     "text": [
      "Iterating eval graphs: 100%|██████████| 48/48 [00:08<00:00,  5.87batch/s]\n",
      "Epoch 106/200, Loss: 2.2509, Train Acc: 0.6012, Val Acc: 0.5944\n",
      "Epoch 106/200, Loss: 2.2509, Train Acc: 0.6012, Val Acc: 0.5944\n",
      "Epoch 106/200, Loss: 2.2509, Train Acc: 0.6012, Val Acc: 0.5944\n"
     ]
    },
    {
     "name": "stdout",
     "output_type": "stream",
     "text": [
      "Epoch 106/200, Loss: 2.2509, Train Acc: 0.6012, Val Acc: 0.5944\n"
     ]
    },
    {
     "name": "stderr",
     "output_type": "stream",
     "text": [
      "Iterating eval graphs: 100%|██████████| 48/48 [00:08<00:00,  5.96batch/s]\n",
      "Epoch 107/200, Loss: 2.3646, Train Acc: 0.6034, Val Acc: 0.5768\n",
      "Epoch 107/200, Loss: 2.3646, Train Acc: 0.6034, Val Acc: 0.5768\n",
      "Epoch 107/200, Loss: 2.3646, Train Acc: 0.6034, Val Acc: 0.5768\n"
     ]
    },
    {
     "name": "stdout",
     "output_type": "stream",
     "text": [
      "Epoch 107/200, Loss: 2.3646, Train Acc: 0.6034, Val Acc: 0.5768\n"
     ]
    },
    {
     "name": "stderr",
     "output_type": "stream",
     "text": [
      "Iterating eval graphs: 100%|██████████| 48/48 [00:08<00:00,  5.74batch/s]\n",
      "Epoch 108/200, Loss: 2.2510, Train Acc: 0.6089, Val Acc: 0.6107\n",
      "Epoch 108/200, Loss: 2.2510, Train Acc: 0.6089, Val Acc: 0.6107\n",
      "Epoch 108/200, Loss: 2.2510, Train Acc: 0.6089, Val Acc: 0.6107\n"
     ]
    },
    {
     "name": "stdout",
     "output_type": "stream",
     "text": [
      "Epoch 108/200, Loss: 2.2510, Train Acc: 0.6089, Val Acc: 0.6107\n"
     ]
    },
    {
     "name": "stderr",
     "output_type": "stream",
     "text": [
      "Iterating eval graphs: 100%|██████████| 48/48 [00:08<00:00,  5.67batch/s]\n",
      "Epoch 109/200, Loss: 2.2454, Train Acc: 0.6108, Val Acc: 0.5879\n",
      "Epoch 109/200, Loss: 2.2454, Train Acc: 0.6108, Val Acc: 0.5879\n",
      "Epoch 109/200, Loss: 2.2454, Train Acc: 0.6108, Val Acc: 0.5879\n"
     ]
    },
    {
     "name": "stdout",
     "output_type": "stream",
     "text": [
      "Epoch 109/200, Loss: 2.2454, Train Acc: 0.6108, Val Acc: 0.5879\n"
     ]
    },
    {
     "name": "stderr",
     "output_type": "stream",
     "text": [
      "Iterating eval graphs: 100%|██████████| 48/48 [00:08<00:00,  5.79batch/s]\n",
      "Epoch 110/200, Loss: 2.3872, Train Acc: 0.5970, Val Acc: 0.6237\n",
      "Epoch 110/200, Loss: 2.3872, Train Acc: 0.5970, Val Acc: 0.6237\n",
      "Epoch 110/200, Loss: 2.3872, Train Acc: 0.5970, Val Acc: 0.6237\n"
     ]
    },
    {
     "name": "stdout",
     "output_type": "stream",
     "text": [
      "Epoch 110/200, Loss: 2.3872, Train Acc: 0.5970, Val Acc: 0.6237\n"
     ]
    },
    {
     "name": "stderr",
     "output_type": "stream",
     "text": [
      "Iterating eval graphs: 100%|██████████| 48/48 [00:08<00:00,  5.79batch/s]\n",
      "Epoch 111/200, Loss: 2.0709, Train Acc: 0.6169, Val Acc: 0.6198\n",
      "Epoch 111/200, Loss: 2.0709, Train Acc: 0.6169, Val Acc: 0.6198\n",
      "Epoch 111/200, Loss: 2.0709, Train Acc: 0.6169, Val Acc: 0.6198\n"
     ]
    },
    {
     "name": "stdout",
     "output_type": "stream",
     "text": [
      "Epoch 111/200, Loss: 2.0709, Train Acc: 0.6169, Val Acc: 0.6198\n"
     ]
    },
    {
     "name": "stderr",
     "output_type": "stream",
     "text": [
      "Iterating eval graphs: 100%|██████████| 48/48 [00:08<00:00,  5.90batch/s]\n",
      "Epoch 112/200, Loss: 2.0411, Train Acc: 0.6170, Val Acc: 0.6289\n",
      "Epoch 112/200, Loss: 2.0411, Train Acc: 0.6170, Val Acc: 0.6289\n",
      "Epoch 112/200, Loss: 2.0411, Train Acc: 0.6170, Val Acc: 0.6289\n"
     ]
    },
    {
     "name": "stdout",
     "output_type": "stream",
     "text": [
      "Epoch 112/200, Loss: 2.0411, Train Acc: 0.6170, Val Acc: 0.6289\n",
      "Best model updated and saved at /home/onyxia/work/DL-Hackathon/hackaton/checkpoints/model_C_best.pth\n"
     ]
    },
    {
     "name": "stderr",
     "output_type": "stream",
     "text": [
      "Iterating eval graphs: 100%|██████████| 48/48 [00:07<00:00,  6.05batch/s]\n",
      "Epoch 113/200, Loss: 2.4557, Train Acc: 0.6064, Val Acc: 0.6224\n",
      "Epoch 113/200, Loss: 2.4557, Train Acc: 0.6064, Val Acc: 0.6224\n",
      "Epoch 113/200, Loss: 2.4557, Train Acc: 0.6064, Val Acc: 0.6224\n"
     ]
    },
    {
     "name": "stdout",
     "output_type": "stream",
     "text": [
      "Epoch 113/200, Loss: 2.4557, Train Acc: 0.6064, Val Acc: 0.6224\n"
     ]
    },
    {
     "name": "stderr",
     "output_type": "stream",
     "text": [
      "Iterating eval graphs: 100%|██████████| 48/48 [00:07<00:00,  6.01batch/s]\n",
      "Epoch 114/200, Loss: 2.1931, Train Acc: 0.6177, Val Acc: 0.6426\n",
      "Epoch 114/200, Loss: 2.1931, Train Acc: 0.6177, Val Acc: 0.6426\n",
      "Epoch 114/200, Loss: 2.1931, Train Acc: 0.6177, Val Acc: 0.6426\n"
     ]
    },
    {
     "name": "stdout",
     "output_type": "stream",
     "text": [
      "Epoch 114/200, Loss: 2.1931, Train Acc: 0.6177, Val Acc: 0.6426\n",
      "Best model updated and saved at /home/onyxia/work/DL-Hackathon/hackaton/checkpoints/model_C_best.pth\n"
     ]
    },
    {
     "name": "stderr",
     "output_type": "stream",
     "text": [
      "Iterating eval graphs: 100%|██████████| 48/48 [00:08<00:00,  5.91batch/s]\n",
      "Epoch 115/200, Loss: 2.2960, Train Acc: 0.6193, Val Acc: 0.6191\n",
      "Epoch 115/200, Loss: 2.2960, Train Acc: 0.6193, Val Acc: 0.6191\n",
      "Epoch 115/200, Loss: 2.2960, Train Acc: 0.6193, Val Acc: 0.6191\n"
     ]
    },
    {
     "name": "stdout",
     "output_type": "stream",
     "text": [
      "Epoch 115/200, Loss: 2.2960, Train Acc: 0.6193, Val Acc: 0.6191\n"
     ]
    },
    {
     "name": "stderr",
     "output_type": "stream",
     "text": [
      "Iterating eval graphs: 100%|██████████| 48/48 [00:08<00:00,  5.90batch/s]\n",
      "Epoch 116/200, Loss: 2.1699, Train Acc: 0.6097, Val Acc: 0.6302\n",
      "Epoch 116/200, Loss: 2.1699, Train Acc: 0.6097, Val Acc: 0.6302\n",
      "Epoch 116/200, Loss: 2.1699, Train Acc: 0.6097, Val Acc: 0.6302\n"
     ]
    },
    {
     "name": "stdout",
     "output_type": "stream",
     "text": [
      "Epoch 116/200, Loss: 2.1699, Train Acc: 0.6097, Val Acc: 0.6302\n"
     ]
    },
    {
     "name": "stderr",
     "output_type": "stream",
     "text": [
      "Iterating eval graphs: 100%|██████████| 48/48 [00:08<00:00,  5.89batch/s]\n",
      "Epoch 117/200, Loss: 2.1480, Train Acc: 0.6112, Val Acc: 0.6257\n",
      "Epoch 117/200, Loss: 2.1480, Train Acc: 0.6112, Val Acc: 0.6257\n",
      "Epoch 117/200, Loss: 2.1480, Train Acc: 0.6112, Val Acc: 0.6257\n"
     ]
    },
    {
     "name": "stdout",
     "output_type": "stream",
     "text": [
      "Epoch 117/200, Loss: 2.1480, Train Acc: 0.6112, Val Acc: 0.6257\n"
     ]
    },
    {
     "name": "stderr",
     "output_type": "stream",
     "text": [
      "Iterating eval graphs: 100%|██████████| 48/48 [00:08<00:00,  5.83batch/s]\n",
      "Epoch 118/200, Loss: 1.9662, Train Acc: 0.6263, Val Acc: 0.6289\n",
      "Epoch 118/200, Loss: 1.9662, Train Acc: 0.6263, Val Acc: 0.6289\n",
      "Epoch 118/200, Loss: 1.9662, Train Acc: 0.6263, Val Acc: 0.6289\n"
     ]
    },
    {
     "name": "stdout",
     "output_type": "stream",
     "text": [
      "Epoch 118/200, Loss: 1.9662, Train Acc: 0.6263, Val Acc: 0.6289\n"
     ]
    },
    {
     "name": "stderr",
     "output_type": "stream",
     "text": [
      "Iterating eval graphs: 100%|██████████| 48/48 [00:08<00:00,  5.77batch/s]\n",
      "Epoch 119/200, Loss: 2.1629, Train Acc: 0.6226, Val Acc: 0.6230\n",
      "Epoch 119/200, Loss: 2.1629, Train Acc: 0.6226, Val Acc: 0.6230\n",
      "Epoch 119/200, Loss: 2.1629, Train Acc: 0.6226, Val Acc: 0.6230\n"
     ]
    },
    {
     "name": "stdout",
     "output_type": "stream",
     "text": [
      "Epoch 119/200, Loss: 2.1629, Train Acc: 0.6226, Val Acc: 0.6230\n"
     ]
    },
    {
     "name": "stderr",
     "output_type": "stream",
     "text": [
      "Iterating eval graphs: 100%|██████████| 48/48 [00:08<00:00,  5.84batch/s]\n",
      "Epoch 120/200, Loss: 1.8924, Train Acc: 0.6357, Val Acc: 0.6510\n",
      "Epoch 120/200, Loss: 1.8924, Train Acc: 0.6357, Val Acc: 0.6510\n",
      "Epoch 120/200, Loss: 1.8924, Train Acc: 0.6357, Val Acc: 0.6510\n"
     ]
    },
    {
     "name": "stdout",
     "output_type": "stream",
     "text": [
      "Epoch 120/200, Loss: 1.8924, Train Acc: 0.6357, Val Acc: 0.6510\n",
      "Best model updated and saved at /home/onyxia/work/DL-Hackathon/hackaton/checkpoints/model_C_best.pth\n"
     ]
    },
    {
     "name": "stderr",
     "output_type": "stream",
     "text": [
      "Iterating eval graphs: 100%|██████████| 48/48 [00:08<00:00,  5.81batch/s]\n",
      "Epoch 121/200, Loss: 2.1389, Train Acc: 0.6203, Val Acc: 0.6328\n",
      "Epoch 121/200, Loss: 2.1389, Train Acc: 0.6203, Val Acc: 0.6328\n",
      "Epoch 121/200, Loss: 2.1389, Train Acc: 0.6203, Val Acc: 0.6328\n"
     ]
    },
    {
     "name": "stdout",
     "output_type": "stream",
     "text": [
      "Epoch 121/200, Loss: 2.1389, Train Acc: 0.6203, Val Acc: 0.6328\n"
     ]
    },
    {
     "name": "stderr",
     "output_type": "stream",
     "text": [
      "Iterating eval graphs: 100%|██████████| 48/48 [00:08<00:00,  5.61batch/s]\n",
      "Epoch 122/200, Loss: 2.0872, Train Acc: 0.6265, Val Acc: 0.6113\n",
      "Epoch 122/200, Loss: 2.0872, Train Acc: 0.6265, Val Acc: 0.6113\n",
      "Epoch 122/200, Loss: 2.0872, Train Acc: 0.6265, Val Acc: 0.6113\n"
     ]
    },
    {
     "name": "stdout",
     "output_type": "stream",
     "text": [
      "Epoch 122/200, Loss: 2.0872, Train Acc: 0.6265, Val Acc: 0.6113\n"
     ]
    },
    {
     "name": "stderr",
     "output_type": "stream",
     "text": [
      "Iterating eval graphs: 100%|██████████| 48/48 [00:08<00:00,  5.64batch/s]\n",
      "Epoch 123/200, Loss: 2.3570, Train Acc: 0.6108, Val Acc: 0.6361\n",
      "Epoch 123/200, Loss: 2.3570, Train Acc: 0.6108, Val Acc: 0.6361\n",
      "Epoch 123/200, Loss: 2.3570, Train Acc: 0.6108, Val Acc: 0.6361\n"
     ]
    },
    {
     "name": "stdout",
     "output_type": "stream",
     "text": [
      "Epoch 123/200, Loss: 2.3570, Train Acc: 0.6108, Val Acc: 0.6361\n"
     ]
    },
    {
     "name": "stderr",
     "output_type": "stream",
     "text": [
      "Iterating eval graphs: 100%|██████████| 48/48 [00:08<00:00,  5.75batch/s]\n",
      "Epoch 124/200, Loss: 2.0475, Train Acc: 0.6230, Val Acc: 0.6406\n",
      "Epoch 124/200, Loss: 2.0475, Train Acc: 0.6230, Val Acc: 0.6406\n",
      "Epoch 124/200, Loss: 2.0475, Train Acc: 0.6230, Val Acc: 0.6406\n"
     ]
    },
    {
     "name": "stdout",
     "output_type": "stream",
     "text": [
      "Epoch 124/200, Loss: 2.0475, Train Acc: 0.6230, Val Acc: 0.6406\n"
     ]
    },
    {
     "name": "stderr",
     "output_type": "stream",
     "text": [
      "Iterating eval graphs: 100%|██████████| 48/48 [00:08<00:00,  5.34batch/s]\n",
      "Epoch 125/200, Loss: 2.4082, Train Acc: 0.6274, Val Acc: 0.6315\n",
      "Epoch 125/200, Loss: 2.4082, Train Acc: 0.6274, Val Acc: 0.6315\n",
      "Epoch 125/200, Loss: 2.4082, Train Acc: 0.6274, Val Acc: 0.6315\n"
     ]
    },
    {
     "name": "stdout",
     "output_type": "stream",
     "text": [
      "Epoch 125/200, Loss: 2.4082, Train Acc: 0.6274, Val Acc: 0.6315\n"
     ]
    },
    {
     "name": "stderr",
     "output_type": "stream",
     "text": [
      "Iterating eval graphs: 100%|██████████| 48/48 [00:07<00:00,  6.03batch/s]\n",
      "Epoch 126/200, Loss: 1.9892, Train Acc: 0.6265, Val Acc: 0.6361\n",
      "Epoch 126/200, Loss: 1.9892, Train Acc: 0.6265, Val Acc: 0.6361\n",
      "Epoch 126/200, Loss: 1.9892, Train Acc: 0.6265, Val Acc: 0.6361\n"
     ]
    },
    {
     "name": "stdout",
     "output_type": "stream",
     "text": [
      "Epoch 126/200, Loss: 1.9892, Train Acc: 0.6265, Val Acc: 0.6361\n"
     ]
    },
    {
     "name": "stderr",
     "output_type": "stream",
     "text": [
      "Iterating eval graphs: 100%|██████████| 48/48 [00:08<00:00,  5.96batch/s]\n",
      "Epoch 127/200, Loss: 2.0946, Train Acc: 0.6325, Val Acc: 0.6237\n",
      "Epoch 127/200, Loss: 2.0946, Train Acc: 0.6325, Val Acc: 0.6237\n",
      "Epoch 127/200, Loss: 2.0946, Train Acc: 0.6325, Val Acc: 0.6237\n"
     ]
    },
    {
     "name": "stdout",
     "output_type": "stream",
     "text": [
      "Epoch 127/200, Loss: 2.0946, Train Acc: 0.6325, Val Acc: 0.6237\n"
     ]
    },
    {
     "name": "stderr",
     "output_type": "stream",
     "text": [
      "Iterating eval graphs: 100%|██████████| 48/48 [00:07<00:00,  6.00batch/s]\n",
      "Epoch 128/200, Loss: 1.9538, Train Acc: 0.6284, Val Acc: 0.6530\n",
      "Epoch 128/200, Loss: 1.9538, Train Acc: 0.6284, Val Acc: 0.6530\n",
      "Epoch 128/200, Loss: 1.9538, Train Acc: 0.6284, Val Acc: 0.6530\n"
     ]
    },
    {
     "name": "stdout",
     "output_type": "stream",
     "text": [
      "Epoch 128/200, Loss: 1.9538, Train Acc: 0.6284, Val Acc: 0.6530\n",
      "Best model updated and saved at /home/onyxia/work/DL-Hackathon/hackaton/checkpoints/model_C_best.pth\n"
     ]
    },
    {
     "name": "stderr",
     "output_type": "stream",
     "text": [
      "Iterating eval graphs: 100%|██████████| 48/48 [00:08<00:00,  5.55batch/s]\n",
      "Epoch 129/200, Loss: 1.9436, Train Acc: 0.6340, Val Acc: 0.6484\n",
      "Epoch 129/200, Loss: 1.9436, Train Acc: 0.6340, Val Acc: 0.6484\n",
      "Epoch 129/200, Loss: 1.9436, Train Acc: 0.6340, Val Acc: 0.6484\n"
     ]
    },
    {
     "name": "stdout",
     "output_type": "stream",
     "text": [
      "Epoch 129/200, Loss: 1.9436, Train Acc: 0.6340, Val Acc: 0.6484\n"
     ]
    },
    {
     "name": "stderr",
     "output_type": "stream",
     "text": [
      "Iterating eval graphs: 100%|██████████| 48/48 [00:08<00:00,  5.85batch/s]\n",
      "Epoch 130/200, Loss: 2.2912, Train Acc: 0.6317, Val Acc: 0.6478\n",
      "Epoch 130/200, Loss: 2.2912, Train Acc: 0.6317, Val Acc: 0.6478\n",
      "Epoch 130/200, Loss: 2.2912, Train Acc: 0.6317, Val Acc: 0.6478\n"
     ]
    },
    {
     "name": "stdout",
     "output_type": "stream",
     "text": [
      "Epoch 130/200, Loss: 2.2912, Train Acc: 0.6317, Val Acc: 0.6478\n"
     ]
    },
    {
     "name": "stderr",
     "output_type": "stream",
     "text": [
      "Iterating eval graphs: 100%|██████████| 48/48 [00:08<00:00,  5.77batch/s]\n",
      "Epoch 131/200, Loss: 2.0674, Train Acc: 0.6375, Val Acc: 0.6439\n",
      "Epoch 131/200, Loss: 2.0674, Train Acc: 0.6375, Val Acc: 0.6439\n",
      "Epoch 131/200, Loss: 2.0674, Train Acc: 0.6375, Val Acc: 0.6439\n"
     ]
    },
    {
     "name": "stdout",
     "output_type": "stream",
     "text": [
      "Epoch 131/200, Loss: 2.0674, Train Acc: 0.6375, Val Acc: 0.6439\n"
     ]
    },
    {
     "name": "stderr",
     "output_type": "stream",
     "text": [
      "Iterating eval graphs: 100%|██████████| 48/48 [00:08<00:00,  5.66batch/s]\n",
      "Epoch 132/200, Loss: 2.1002, Train Acc: 0.6343, Val Acc: 0.6309\n",
      "Epoch 132/200, Loss: 2.1002, Train Acc: 0.6343, Val Acc: 0.6309\n",
      "Epoch 132/200, Loss: 2.1002, Train Acc: 0.6343, Val Acc: 0.6309\n"
     ]
    },
    {
     "name": "stdout",
     "output_type": "stream",
     "text": [
      "Epoch 132/200, Loss: 2.1002, Train Acc: 0.6343, Val Acc: 0.6309\n"
     ]
    },
    {
     "name": "stderr",
     "output_type": "stream",
     "text": [
      "Iterating eval graphs: 100%|██████████| 48/48 [00:07<00:00,  6.06batch/s]\n",
      "Epoch 133/200, Loss: 2.2611, Train Acc: 0.6271, Val Acc: 0.6367\n",
      "Epoch 133/200, Loss: 2.2611, Train Acc: 0.6271, Val Acc: 0.6367\n",
      "Epoch 133/200, Loss: 2.2611, Train Acc: 0.6271, Val Acc: 0.6367\n"
     ]
    },
    {
     "name": "stdout",
     "output_type": "stream",
     "text": [
      "Epoch 133/200, Loss: 2.2611, Train Acc: 0.6271, Val Acc: 0.6367\n"
     ]
    },
    {
     "name": "stderr",
     "output_type": "stream",
     "text": [
      "Iterating eval graphs: 100%|██████████| 48/48 [00:08<00:00,  5.77batch/s]\n",
      "Epoch 134/200, Loss: 2.0680, Train Acc: 0.6292, Val Acc: 0.6426\n",
      "Epoch 134/200, Loss: 2.0680, Train Acc: 0.6292, Val Acc: 0.6426\n",
      "Epoch 134/200, Loss: 2.0680, Train Acc: 0.6292, Val Acc: 0.6426\n"
     ]
    },
    {
     "name": "stdout",
     "output_type": "stream",
     "text": [
      "Epoch 134/200, Loss: 2.0680, Train Acc: 0.6292, Val Acc: 0.6426\n"
     ]
    },
    {
     "name": "stderr",
     "output_type": "stream",
     "text": [
      "Iterating eval graphs: 100%|██████████| 48/48 [00:08<00:00,  5.95batch/s]\n",
      "Epoch 135/200, Loss: 2.0639, Train Acc: 0.6423, Val Acc: 0.6549\n",
      "Epoch 135/200, Loss: 2.0639, Train Acc: 0.6423, Val Acc: 0.6549\n",
      "Epoch 135/200, Loss: 2.0639, Train Acc: 0.6423, Val Acc: 0.6549\n"
     ]
    },
    {
     "name": "stdout",
     "output_type": "stream",
     "text": [
      "Epoch 135/200, Loss: 2.0639, Train Acc: 0.6423, Val Acc: 0.6549\n",
      "Best model updated and saved at /home/onyxia/work/DL-Hackathon/hackaton/checkpoints/model_C_best.pth\n"
     ]
    },
    {
     "name": "stderr",
     "output_type": "stream",
     "text": [
      "Iterating eval graphs: 100%|██████████| 48/48 [00:08<00:00,  5.82batch/s]\n",
      "Epoch 136/200, Loss: 1.8564, Train Acc: 0.6460, Val Acc: 0.6471\n",
      "Epoch 136/200, Loss: 1.8564, Train Acc: 0.6460, Val Acc: 0.6471\n",
      "Epoch 136/200, Loss: 1.8564, Train Acc: 0.6460, Val Acc: 0.6471\n"
     ]
    },
    {
     "name": "stdout",
     "output_type": "stream",
     "text": [
      "Epoch 136/200, Loss: 1.8564, Train Acc: 0.6460, Val Acc: 0.6471\n"
     ]
    },
    {
     "name": "stderr",
     "output_type": "stream",
     "text": [
      "Iterating eval graphs: 100%|██████████| 48/48 [00:08<00:00,  5.88batch/s]\n",
      "Epoch 137/200, Loss: 1.8564, Train Acc: 0.6462, Val Acc: 0.6562\n",
      "Epoch 137/200, Loss: 1.8564, Train Acc: 0.6462, Val Acc: 0.6562\n",
      "Epoch 137/200, Loss: 1.8564, Train Acc: 0.6462, Val Acc: 0.6562\n"
     ]
    },
    {
     "name": "stdout",
     "output_type": "stream",
     "text": [
      "Epoch 137/200, Loss: 1.8564, Train Acc: 0.6462, Val Acc: 0.6562\n",
      "Best model updated and saved at /home/onyxia/work/DL-Hackathon/hackaton/checkpoints/model_C_best.pth\n"
     ]
    },
    {
     "name": "stderr",
     "output_type": "stream",
     "text": [
      "Iterating eval graphs: 100%|██████████| 48/48 [00:08<00:00,  5.84batch/s]\n",
      "Epoch 138/200, Loss: 1.8521, Train Acc: 0.6522, Val Acc: 0.6491\n",
      "Epoch 138/200, Loss: 1.8521, Train Acc: 0.6522, Val Acc: 0.6491\n",
      "Epoch 138/200, Loss: 1.8521, Train Acc: 0.6522, Val Acc: 0.6491\n"
     ]
    },
    {
     "name": "stdout",
     "output_type": "stream",
     "text": [
      "Epoch 138/200, Loss: 1.8521, Train Acc: 0.6522, Val Acc: 0.6491\n"
     ]
    },
    {
     "name": "stderr",
     "output_type": "stream",
     "text": [
      "Iterating eval graphs: 100%|██████████| 48/48 [00:08<00:00,  5.75batch/s]\n",
      "Epoch 139/200, Loss: 1.8808, Train Acc: 0.6502, Val Acc: 0.6445\n",
      "Epoch 139/200, Loss: 1.8808, Train Acc: 0.6502, Val Acc: 0.6445\n",
      "Epoch 139/200, Loss: 1.8808, Train Acc: 0.6502, Val Acc: 0.6445\n"
     ]
    },
    {
     "name": "stdout",
     "output_type": "stream",
     "text": [
      "Epoch 139/200, Loss: 1.8808, Train Acc: 0.6502, Val Acc: 0.6445\n"
     ]
    },
    {
     "name": "stderr",
     "output_type": "stream",
     "text": [
      "Iterating eval graphs: 100%|██████████| 48/48 [00:08<00:00,  5.66batch/s]\n",
      "Epoch 140/200, Loss: 1.8933, Train Acc: 0.6471, Val Acc: 0.6589\n",
      "Epoch 140/200, Loss: 1.8933, Train Acc: 0.6471, Val Acc: 0.6589\n",
      "Epoch 140/200, Loss: 1.8933, Train Acc: 0.6471, Val Acc: 0.6589\n"
     ]
    },
    {
     "name": "stdout",
     "output_type": "stream",
     "text": [
      "Epoch 140/200, Loss: 1.8933, Train Acc: 0.6471, Val Acc: 0.6589\n",
      "Best model updated and saved at /home/onyxia/work/DL-Hackathon/hackaton/checkpoints/model_C_best.pth\n"
     ]
    },
    {
     "name": "stderr",
     "output_type": "stream",
     "text": [
      "Iterating eval graphs: 100%|██████████| 48/48 [00:08<00:00,  5.91batch/s]\n",
      "Epoch 141/200, Loss: 1.7687, Train Acc: 0.6569, Val Acc: 0.6595\n",
      "Epoch 141/200, Loss: 1.7687, Train Acc: 0.6569, Val Acc: 0.6595\n",
      "Epoch 141/200, Loss: 1.7687, Train Acc: 0.6569, Val Acc: 0.6595\n"
     ]
    },
    {
     "name": "stdout",
     "output_type": "stream",
     "text": [
      "Epoch 141/200, Loss: 1.7687, Train Acc: 0.6569, Val Acc: 0.6595\n",
      "Best model updated and saved at /home/onyxia/work/DL-Hackathon/hackaton/checkpoints/model_C_best.pth\n"
     ]
    },
    {
     "name": "stderr",
     "output_type": "stream",
     "text": [
      "Iterating eval graphs: 100%|██████████| 48/48 [00:08<00:00,  5.72batch/s]\n",
      "Epoch 142/200, Loss: 1.8088, Train Acc: 0.6553, Val Acc: 0.6283\n",
      "Epoch 142/200, Loss: 1.8088, Train Acc: 0.6553, Val Acc: 0.6283\n",
      "Epoch 142/200, Loss: 1.8088, Train Acc: 0.6553, Val Acc: 0.6283\n"
     ]
    },
    {
     "name": "stdout",
     "output_type": "stream",
     "text": [
      "Epoch 142/200, Loss: 1.8088, Train Acc: 0.6553, Val Acc: 0.6283\n"
     ]
    },
    {
     "name": "stderr",
     "output_type": "stream",
     "text": [
      "Iterating eval graphs: 100%|██████████| 48/48 [00:08<00:00,  5.96batch/s]\n",
      "Epoch 143/200, Loss: 1.7601, Train Acc: 0.6670, Val Acc: 0.6523\n",
      "Epoch 143/200, Loss: 1.7601, Train Acc: 0.6670, Val Acc: 0.6523\n",
      "Epoch 143/200, Loss: 1.7601, Train Acc: 0.6670, Val Acc: 0.6523\n"
     ]
    },
    {
     "name": "stdout",
     "output_type": "stream",
     "text": [
      "Epoch 143/200, Loss: 1.7601, Train Acc: 0.6670, Val Acc: 0.6523\n"
     ]
    },
    {
     "name": "stderr",
     "output_type": "stream",
     "text": [
      "Iterating eval graphs: 100%|██████████| 48/48 [00:08<00:00,  5.93batch/s]\n",
      "Epoch 144/200, Loss: 1.8298, Train Acc: 0.6605, Val Acc: 0.6556\n",
      "Epoch 144/200, Loss: 1.8298, Train Acc: 0.6605, Val Acc: 0.6556\n",
      "Epoch 144/200, Loss: 1.8298, Train Acc: 0.6605, Val Acc: 0.6556\n"
     ]
    },
    {
     "name": "stdout",
     "output_type": "stream",
     "text": [
      "Epoch 144/200, Loss: 1.8298, Train Acc: 0.6605, Val Acc: 0.6556\n"
     ]
    },
    {
     "name": "stderr",
     "output_type": "stream",
     "text": [
      "Iterating eval graphs: 100%|██████████| 48/48 [00:08<00:00,  5.80batch/s]\n",
      "Epoch 145/200, Loss: 1.7545, Train Acc: 0.6597, Val Acc: 0.6569\n",
      "Epoch 145/200, Loss: 1.7545, Train Acc: 0.6597, Val Acc: 0.6569\n",
      "Epoch 145/200, Loss: 1.7545, Train Acc: 0.6597, Val Acc: 0.6569\n"
     ]
    },
    {
     "name": "stdout",
     "output_type": "stream",
     "text": [
      "Epoch 145/200, Loss: 1.7545, Train Acc: 0.6597, Val Acc: 0.6569\n"
     ]
    },
    {
     "name": "stderr",
     "output_type": "stream",
     "text": [
      "Iterating eval graphs: 100%|██████████| 48/48 [00:08<00:00,  5.88batch/s]\n",
      "Epoch 146/200, Loss: 2.0191, Train Acc: 0.6530, Val Acc: 0.6491\n",
      "Epoch 146/200, Loss: 2.0191, Train Acc: 0.6530, Val Acc: 0.6491\n",
      "Epoch 146/200, Loss: 2.0191, Train Acc: 0.6530, Val Acc: 0.6491\n"
     ]
    },
    {
     "name": "stdout",
     "output_type": "stream",
     "text": [
      "Epoch 146/200, Loss: 2.0191, Train Acc: 0.6530, Val Acc: 0.6491\n"
     ]
    },
    {
     "name": "stderr",
     "output_type": "stream",
     "text": [
      "Iterating eval graphs: 100%|██████████| 48/48 [00:08<00:00,  5.79batch/s]\n",
      "Epoch 147/200, Loss: 1.9037, Train Acc: 0.6419, Val Acc: 0.6510\n",
      "Epoch 147/200, Loss: 1.9037, Train Acc: 0.6419, Val Acc: 0.6510\n",
      "Epoch 147/200, Loss: 1.9037, Train Acc: 0.6419, Val Acc: 0.6510\n"
     ]
    },
    {
     "name": "stdout",
     "output_type": "stream",
     "text": [
      "Epoch 147/200, Loss: 1.9037, Train Acc: 0.6419, Val Acc: 0.6510\n"
     ]
    },
    {
     "name": "stderr",
     "output_type": "stream",
     "text": [
      "Iterating eval graphs: 100%|██████████| 48/48 [00:08<00:00,  5.90batch/s]\n",
      "Epoch 148/200, Loss: 1.9419, Train Acc: 0.6512, Val Acc: 0.6536\n",
      "Epoch 148/200, Loss: 1.9419, Train Acc: 0.6512, Val Acc: 0.6536\n",
      "Epoch 148/200, Loss: 1.9419, Train Acc: 0.6512, Val Acc: 0.6536\n"
     ]
    },
    {
     "name": "stdout",
     "output_type": "stream",
     "text": [
      "Epoch 148/200, Loss: 1.9419, Train Acc: 0.6512, Val Acc: 0.6536\n"
     ]
    },
    {
     "name": "stderr",
     "output_type": "stream",
     "text": [
      "Iterating eval graphs: 100%|██████████| 48/48 [00:08<00:00,  5.91batch/s]\n",
      "Epoch 149/200, Loss: 2.0463, Train Acc: 0.6545, Val Acc: 0.6458\n",
      "Epoch 149/200, Loss: 2.0463, Train Acc: 0.6545, Val Acc: 0.6458\n",
      "Epoch 149/200, Loss: 2.0463, Train Acc: 0.6545, Val Acc: 0.6458\n"
     ]
    },
    {
     "name": "stdout",
     "output_type": "stream",
     "text": [
      "Epoch 149/200, Loss: 2.0463, Train Acc: 0.6545, Val Acc: 0.6458\n"
     ]
    },
    {
     "name": "stderr",
     "output_type": "stream",
     "text": [
      "Iterating eval graphs: 100%|██████████| 48/48 [00:08<00:00,  5.72batch/s]\n",
      "Epoch 150/200, Loss: 2.0996, Train Acc: 0.6382, Val Acc: 0.5768\n",
      "Epoch 150/200, Loss: 2.0996, Train Acc: 0.6382, Val Acc: 0.5768\n",
      "Epoch 150/200, Loss: 2.0996, Train Acc: 0.6382, Val Acc: 0.5768\n"
     ]
    },
    {
     "name": "stdout",
     "output_type": "stream",
     "text": [
      "Epoch 150/200, Loss: 2.0996, Train Acc: 0.6382, Val Acc: 0.5768\n"
     ]
    },
    {
     "name": "stderr",
     "output_type": "stream",
     "text": [
      "Iterating eval graphs: 100%|██████████| 48/48 [00:08<00:00,  5.91batch/s]\n",
      "Epoch 151/200, Loss: 1.7971, Train Acc: 0.6654, Val Acc: 0.6576\n",
      "Epoch 151/200, Loss: 1.7971, Train Acc: 0.6654, Val Acc: 0.6576\n",
      "Epoch 151/200, Loss: 1.7971, Train Acc: 0.6654, Val Acc: 0.6576\n"
     ]
    },
    {
     "name": "stdout",
     "output_type": "stream",
     "text": [
      "Epoch 151/200, Loss: 1.7971, Train Acc: 0.6654, Val Acc: 0.6576\n"
     ]
    },
    {
     "name": "stderr",
     "output_type": "stream",
     "text": [
      "Iterating eval graphs: 100%|██████████| 48/48 [00:08<00:00,  5.74batch/s]\n",
      "Epoch 152/200, Loss: 1.8905, Train Acc: 0.6582, Val Acc: 0.6562\n",
      "Epoch 152/200, Loss: 1.8905, Train Acc: 0.6582, Val Acc: 0.6562\n",
      "Epoch 152/200, Loss: 1.8905, Train Acc: 0.6582, Val Acc: 0.6562\n"
     ]
    },
    {
     "name": "stdout",
     "output_type": "stream",
     "text": [
      "Epoch 152/200, Loss: 1.8905, Train Acc: 0.6582, Val Acc: 0.6562\n"
     ]
    },
    {
     "name": "stderr",
     "output_type": "stream",
     "text": [
      "Iterating eval graphs: 100%|██████████| 48/48 [00:08<00:00,  5.71batch/s]\n",
      "Epoch 153/200, Loss: 1.7663, Train Acc: 0.6704, Val Acc: 0.6458\n",
      "Epoch 153/200, Loss: 1.7663, Train Acc: 0.6704, Val Acc: 0.6458\n",
      "Epoch 153/200, Loss: 1.7663, Train Acc: 0.6704, Val Acc: 0.6458\n"
     ]
    },
    {
     "name": "stdout",
     "output_type": "stream",
     "text": [
      "Epoch 153/200, Loss: 1.7663, Train Acc: 0.6704, Val Acc: 0.6458\n"
     ]
    },
    {
     "name": "stderr",
     "output_type": "stream",
     "text": [
      "Iterating eval graphs: 100%|██████████| 48/48 [00:07<00:00,  6.01batch/s]\n",
      "Epoch 154/200, Loss: 1.8344, Train Acc: 0.6722, Val Acc: 0.6595\n",
      "Epoch 154/200, Loss: 1.8344, Train Acc: 0.6722, Val Acc: 0.6595\n",
      "Epoch 154/200, Loss: 1.8344, Train Acc: 0.6722, Val Acc: 0.6595\n"
     ]
    },
    {
     "name": "stdout",
     "output_type": "stream",
     "text": [
      "Epoch 154/200, Loss: 1.8344, Train Acc: 0.6722, Val Acc: 0.6595\n"
     ]
    },
    {
     "name": "stderr",
     "output_type": "stream",
     "text": [
      "Iterating eval graphs: 100%|██████████| 48/48 [00:08<00:00,  5.88batch/s]\n",
      "Epoch 155/200, Loss: 1.7409, Train Acc: 0.6737, Val Acc: 0.6686\n",
      "Epoch 155/200, Loss: 1.7409, Train Acc: 0.6737, Val Acc: 0.6686\n",
      "Epoch 155/200, Loss: 1.7409, Train Acc: 0.6737, Val Acc: 0.6686\n"
     ]
    },
    {
     "name": "stdout",
     "output_type": "stream",
     "text": [
      "Epoch 155/200, Loss: 1.7409, Train Acc: 0.6737, Val Acc: 0.6686\n",
      "Best model updated and saved at /home/onyxia/work/DL-Hackathon/hackaton/checkpoints/model_C_best.pth\n"
     ]
    },
    {
     "name": "stderr",
     "output_type": "stream",
     "text": [
      "Iterating eval graphs: 100%|██████████| 48/48 [00:08<00:00,  5.88batch/s]\n",
      "Epoch 156/200, Loss: 1.7664, Train Acc: 0.6667, Val Acc: 0.6497\n",
      "Epoch 156/200, Loss: 1.7664, Train Acc: 0.6667, Val Acc: 0.6497\n",
      "Epoch 156/200, Loss: 1.7664, Train Acc: 0.6667, Val Acc: 0.6497\n"
     ]
    },
    {
     "name": "stdout",
     "output_type": "stream",
     "text": [
      "Epoch 156/200, Loss: 1.7664, Train Acc: 0.6667, Val Acc: 0.6497\n"
     ]
    },
    {
     "name": "stderr",
     "output_type": "stream",
     "text": [
      "Iterating eval graphs: 100%|██████████| 48/48 [00:08<00:00,  5.90batch/s]\n",
      "Epoch 157/200, Loss: 1.7145, Train Acc: 0.6720, Val Acc: 0.6660\n",
      "Epoch 157/200, Loss: 1.7145, Train Acc: 0.6720, Val Acc: 0.6660\n",
      "Epoch 157/200, Loss: 1.7145, Train Acc: 0.6720, Val Acc: 0.6660\n"
     ]
    },
    {
     "name": "stdout",
     "output_type": "stream",
     "text": [
      "Epoch 157/200, Loss: 1.7145, Train Acc: 0.6720, Val Acc: 0.6660\n"
     ]
    },
    {
     "name": "stderr",
     "output_type": "stream",
     "text": [
      "Iterating eval graphs: 100%|██████████| 48/48 [00:08<00:00,  5.83batch/s]\n",
      "Epoch 158/200, Loss: 1.8814, Train Acc: 0.6715, Val Acc: 0.6400\n",
      "Epoch 158/200, Loss: 1.8814, Train Acc: 0.6715, Val Acc: 0.6400\n",
      "Epoch 158/200, Loss: 1.8814, Train Acc: 0.6715, Val Acc: 0.6400\n"
     ]
    },
    {
     "name": "stdout",
     "output_type": "stream",
     "text": [
      "Epoch 158/200, Loss: 1.8814, Train Acc: 0.6715, Val Acc: 0.6400\n"
     ]
    },
    {
     "name": "stderr",
     "output_type": "stream",
     "text": [
      "Iterating eval graphs: 100%|██████████| 48/48 [00:08<00:00,  5.61batch/s]\n",
      "Epoch 159/200, Loss: 1.6723, Train Acc: 0.6792, Val Acc: 0.6680\n",
      "Epoch 159/200, Loss: 1.6723, Train Acc: 0.6792, Val Acc: 0.6680\n",
      "Epoch 159/200, Loss: 1.6723, Train Acc: 0.6792, Val Acc: 0.6680\n"
     ]
    },
    {
     "name": "stdout",
     "output_type": "stream",
     "text": [
      "Epoch 159/200, Loss: 1.6723, Train Acc: 0.6792, Val Acc: 0.6680\n"
     ]
    },
    {
     "name": "stderr",
     "output_type": "stream",
     "text": [
      "Iterating eval graphs: 100%|██████████| 48/48 [00:08<00:00,  5.88batch/s]\n",
      "Epoch 160/200, Loss: 1.8183, Train Acc: 0.6774, Val Acc: 0.6172\n",
      "Epoch 160/200, Loss: 1.8183, Train Acc: 0.6774, Val Acc: 0.6172\n",
      "Epoch 160/200, Loss: 1.8183, Train Acc: 0.6774, Val Acc: 0.6172\n"
     ]
    },
    {
     "name": "stdout",
     "output_type": "stream",
     "text": [
      "Epoch 160/200, Loss: 1.8183, Train Acc: 0.6774, Val Acc: 0.6172\n"
     ]
    },
    {
     "name": "stderr",
     "output_type": "stream",
     "text": [
      "Iterating eval graphs: 100%|██████████| 48/48 [00:08<00:00,  5.66batch/s]\n",
      "Epoch 161/200, Loss: 2.0909, Train Acc: 0.6569, Val Acc: 0.6706\n",
      "Epoch 161/200, Loss: 2.0909, Train Acc: 0.6569, Val Acc: 0.6706\n",
      "Epoch 161/200, Loss: 2.0909, Train Acc: 0.6569, Val Acc: 0.6706\n"
     ]
    },
    {
     "name": "stdout",
     "output_type": "stream",
     "text": [
      "Epoch 161/200, Loss: 2.0909, Train Acc: 0.6569, Val Acc: 0.6706\n",
      "Best model updated and saved at /home/onyxia/work/DL-Hackathon/hackaton/checkpoints/model_C_best.pth\n"
     ]
    },
    {
     "name": "stderr",
     "output_type": "stream",
     "text": [
      "Iterating eval graphs: 100%|██████████| 48/48 [00:08<00:00,  5.84batch/s]\n",
      "Epoch 162/200, Loss: 2.0072, Train Acc: 0.6642, Val Acc: 0.6361\n",
      "Epoch 162/200, Loss: 2.0072, Train Acc: 0.6642, Val Acc: 0.6361\n",
      "Epoch 162/200, Loss: 2.0072, Train Acc: 0.6642, Val Acc: 0.6361\n"
     ]
    },
    {
     "name": "stdout",
     "output_type": "stream",
     "text": [
      "Epoch 162/200, Loss: 2.0072, Train Acc: 0.6642, Val Acc: 0.6361\n"
     ]
    },
    {
     "name": "stderr",
     "output_type": "stream",
     "text": [
      "Iterating eval graphs: 100%|██████████| 48/48 [00:08<00:00,  5.91batch/s]\n",
      "Epoch 163/200, Loss: 1.8443, Train Acc: 0.6618, Val Acc: 0.6615\n",
      "Epoch 163/200, Loss: 1.8443, Train Acc: 0.6618, Val Acc: 0.6615\n",
      "Epoch 163/200, Loss: 1.8443, Train Acc: 0.6618, Val Acc: 0.6615\n"
     ]
    },
    {
     "name": "stdout",
     "output_type": "stream",
     "text": [
      "Epoch 163/200, Loss: 1.8443, Train Acc: 0.6618, Val Acc: 0.6615\n"
     ]
    },
    {
     "name": "stderr",
     "output_type": "stream",
     "text": [
      "Iterating eval graphs: 100%|██████████| 48/48 [00:08<00:00,  5.84batch/s]\n",
      "Epoch 164/200, Loss: 1.6562, Train Acc: 0.6886, Val Acc: 0.6634\n",
      "Epoch 164/200, Loss: 1.6562, Train Acc: 0.6886, Val Acc: 0.6634\n",
      "Epoch 164/200, Loss: 1.6562, Train Acc: 0.6886, Val Acc: 0.6634\n"
     ]
    },
    {
     "name": "stdout",
     "output_type": "stream",
     "text": [
      "Epoch 164/200, Loss: 1.6562, Train Acc: 0.6886, Val Acc: 0.6634\n"
     ]
    },
    {
     "name": "stderr",
     "output_type": "stream",
     "text": [
      "Iterating eval graphs: 100%|██████████| 48/48 [00:08<00:00,  5.78batch/s]\n",
      "Epoch 165/200, Loss: 1.7035, Train Acc: 0.6870, Val Acc: 0.6725\n",
      "Epoch 165/200, Loss: 1.7035, Train Acc: 0.6870, Val Acc: 0.6725\n",
      "Epoch 165/200, Loss: 1.7035, Train Acc: 0.6870, Val Acc: 0.6725\n"
     ]
    },
    {
     "name": "stdout",
     "output_type": "stream",
     "text": [
      "Epoch 165/200, Loss: 1.7035, Train Acc: 0.6870, Val Acc: 0.6725\n",
      "Best model updated and saved at /home/onyxia/work/DL-Hackathon/hackaton/checkpoints/model_C_best.pth\n"
     ]
    },
    {
     "name": "stderr",
     "output_type": "stream",
     "text": [
      "Iterating eval graphs: 100%|██████████| 48/48 [00:08<00:00,  5.66batch/s]\n",
      "Epoch 166/200, Loss: 1.7481, Train Acc: 0.6795, Val Acc: 0.6549\n",
      "Epoch 166/200, Loss: 1.7481, Train Acc: 0.6795, Val Acc: 0.6549\n",
      "Epoch 166/200, Loss: 1.7481, Train Acc: 0.6795, Val Acc: 0.6549\n"
     ]
    },
    {
     "name": "stdout",
     "output_type": "stream",
     "text": [
      "Epoch 166/200, Loss: 1.7481, Train Acc: 0.6795, Val Acc: 0.6549\n"
     ]
    },
    {
     "name": "stderr",
     "output_type": "stream",
     "text": [
      "Iterating eval graphs: 100%|██████████| 48/48 [00:07<00:00,  6.03batch/s]\n",
      "Epoch 167/200, Loss: 2.0262, Train Acc: 0.6626, Val Acc: 0.6576\n",
      "Epoch 167/200, Loss: 2.0262, Train Acc: 0.6626, Val Acc: 0.6576\n",
      "Epoch 167/200, Loss: 2.0262, Train Acc: 0.6626, Val Acc: 0.6576\n"
     ]
    },
    {
     "name": "stdout",
     "output_type": "stream",
     "text": [
      "Epoch 167/200, Loss: 2.0262, Train Acc: 0.6626, Val Acc: 0.6576\n"
     ]
    },
    {
     "name": "stderr",
     "output_type": "stream",
     "text": [
      "Iterating eval graphs: 100%|██████████| 48/48 [00:08<00:00,  5.96batch/s]\n",
      "Epoch 168/200, Loss: 2.0051, Train Acc: 0.6644, Val Acc: 0.6615\n",
      "Epoch 168/200, Loss: 2.0051, Train Acc: 0.6644, Val Acc: 0.6615\n",
      "Epoch 168/200, Loss: 2.0051, Train Acc: 0.6644, Val Acc: 0.6615\n"
     ]
    },
    {
     "name": "stdout",
     "output_type": "stream",
     "text": [
      "Epoch 168/200, Loss: 2.0051, Train Acc: 0.6644, Val Acc: 0.6615\n"
     ]
    },
    {
     "name": "stderr",
     "output_type": "stream",
     "text": [
      "Iterating eval graphs: 100%|██████████| 48/48 [00:08<00:00,  5.75batch/s]\n",
      "Epoch 169/200, Loss: 1.7097, Train Acc: 0.6844, Val Acc: 0.6608\n",
      "Epoch 169/200, Loss: 1.7097, Train Acc: 0.6844, Val Acc: 0.6608\n",
      "Epoch 169/200, Loss: 1.7097, Train Acc: 0.6844, Val Acc: 0.6608\n"
     ]
    },
    {
     "name": "stdout",
     "output_type": "stream",
     "text": [
      "Epoch 169/200, Loss: 1.7097, Train Acc: 0.6844, Val Acc: 0.6608\n"
     ]
    },
    {
     "name": "stderr",
     "output_type": "stream",
     "text": [
      "Iterating eval graphs: 100%|██████████| 48/48 [00:08<00:00,  5.74batch/s]\n",
      "Epoch 170/200, Loss: 1.7806, Train Acc: 0.6740, Val Acc: 0.5508\n",
      "Epoch 170/200, Loss: 1.7806, Train Acc: 0.6740, Val Acc: 0.5508\n",
      "Epoch 170/200, Loss: 1.7806, Train Acc: 0.6740, Val Acc: 0.5508\n"
     ]
    },
    {
     "name": "stdout",
     "output_type": "stream",
     "text": [
      "Epoch 170/200, Loss: 1.7806, Train Acc: 0.6740, Val Acc: 0.5508\n"
     ]
    },
    {
     "name": "stderr",
     "output_type": "stream",
     "text": [
      "Iterating eval graphs: 100%|██████████| 48/48 [00:08<00:00,  5.83batch/s]\n",
      "Epoch 171/200, Loss: 1.7402, Train Acc: 0.6890, Val Acc: 0.6536\n",
      "Epoch 171/200, Loss: 1.7402, Train Acc: 0.6890, Val Acc: 0.6536\n",
      "Epoch 171/200, Loss: 1.7402, Train Acc: 0.6890, Val Acc: 0.6536\n"
     ]
    },
    {
     "name": "stdout",
     "output_type": "stream",
     "text": [
      "Epoch 171/200, Loss: 1.7402, Train Acc: 0.6890, Val Acc: 0.6536\n"
     ]
    },
    {
     "name": "stderr",
     "output_type": "stream",
     "text": [
      "Iterating eval graphs: 100%|██████████| 48/48 [00:08<00:00,  5.64batch/s]\n",
      "Epoch 172/200, Loss: 1.7976, Train Acc: 0.6802, Val Acc: 0.6491\n",
      "Epoch 172/200, Loss: 1.7976, Train Acc: 0.6802, Val Acc: 0.6491\n",
      "Epoch 172/200, Loss: 1.7976, Train Acc: 0.6802, Val Acc: 0.6491\n"
     ]
    },
    {
     "name": "stdout",
     "output_type": "stream",
     "text": [
      "Epoch 172/200, Loss: 1.7976, Train Acc: 0.6802, Val Acc: 0.6491\n"
     ]
    },
    {
     "name": "stderr",
     "output_type": "stream",
     "text": [
      "Iterating eval graphs: 100%|██████████| 48/48 [00:08<00:00,  5.80batch/s]\n",
      "Epoch 173/200, Loss: 1.7689, Train Acc: 0.6893, Val Acc: 0.6803\n",
      "Epoch 173/200, Loss: 1.7689, Train Acc: 0.6893, Val Acc: 0.6803\n",
      "Epoch 173/200, Loss: 1.7689, Train Acc: 0.6893, Val Acc: 0.6803\n"
     ]
    },
    {
     "name": "stdout",
     "output_type": "stream",
     "text": [
      "Epoch 173/200, Loss: 1.7689, Train Acc: 0.6893, Val Acc: 0.6803\n",
      "Best model updated and saved at /home/onyxia/work/DL-Hackathon/hackaton/checkpoints/model_C_best.pth\n"
     ]
    },
    {
     "name": "stderr",
     "output_type": "stream",
     "text": [
      "Iterating eval graphs: 100%|██████████| 48/48 [00:08<00:00,  5.99batch/s]\n",
      "Epoch 174/200, Loss: 1.8251, Train Acc: 0.6846, Val Acc: 0.6764\n",
      "Epoch 174/200, Loss: 1.8251, Train Acc: 0.6846, Val Acc: 0.6764\n",
      "Epoch 174/200, Loss: 1.8251, Train Acc: 0.6846, Val Acc: 0.6764\n"
     ]
    },
    {
     "name": "stdout",
     "output_type": "stream",
     "text": [
      "Epoch 174/200, Loss: 1.8251, Train Acc: 0.6846, Val Acc: 0.6764\n"
     ]
    },
    {
     "name": "stderr",
     "output_type": "stream",
     "text": [
      "Iterating eval graphs: 100%|██████████| 48/48 [00:08<00:00,  5.81batch/s]\n",
      "Epoch 175/200, Loss: 1.7413, Train Acc: 0.6888, Val Acc: 0.6426\n",
      "Epoch 175/200, Loss: 1.7413, Train Acc: 0.6888, Val Acc: 0.6426\n",
      "Epoch 175/200, Loss: 1.7413, Train Acc: 0.6888, Val Acc: 0.6426\n"
     ]
    },
    {
     "name": "stdout",
     "output_type": "stream",
     "text": [
      "Epoch 175/200, Loss: 1.7413, Train Acc: 0.6888, Val Acc: 0.6426\n"
     ]
    },
    {
     "name": "stderr",
     "output_type": "stream",
     "text": [
      "Iterating eval graphs: 100%|██████████| 48/48 [00:08<00:00,  5.73batch/s]\n",
      "Epoch 176/200, Loss: 1.7937, Train Acc: 0.6921, Val Acc: 0.6706\n",
      "Epoch 176/200, Loss: 1.7937, Train Acc: 0.6921, Val Acc: 0.6706\n",
      "Epoch 176/200, Loss: 1.7937, Train Acc: 0.6921, Val Acc: 0.6706\n"
     ]
    },
    {
     "name": "stdout",
     "output_type": "stream",
     "text": [
      "Epoch 176/200, Loss: 1.7937, Train Acc: 0.6921, Val Acc: 0.6706\n"
     ]
    },
    {
     "name": "stderr",
     "output_type": "stream",
     "text": [
      "Iterating eval graphs: 100%|██████████| 48/48 [00:08<00:00,  5.62batch/s]\n",
      "Epoch 177/200, Loss: 1.7315, Train Acc: 0.6940, Val Acc: 0.6217\n",
      "Epoch 177/200, Loss: 1.7315, Train Acc: 0.6940, Val Acc: 0.6217\n",
      "Epoch 177/200, Loss: 1.7315, Train Acc: 0.6940, Val Acc: 0.6217\n"
     ]
    },
    {
     "name": "stdout",
     "output_type": "stream",
     "text": [
      "Epoch 177/200, Loss: 1.7315, Train Acc: 0.6940, Val Acc: 0.6217\n"
     ]
    },
    {
     "name": "stderr",
     "output_type": "stream",
     "text": [
      "Iterating eval graphs: 100%|██████████| 48/48 [00:07<00:00,  6.03batch/s]\n",
      "Epoch 178/200, Loss: 1.6215, Train Acc: 0.7030, Val Acc: 0.6680\n",
      "Epoch 178/200, Loss: 1.6215, Train Acc: 0.7030, Val Acc: 0.6680\n",
      "Epoch 178/200, Loss: 1.6215, Train Acc: 0.7030, Val Acc: 0.6680\n"
     ]
    },
    {
     "name": "stdout",
     "output_type": "stream",
     "text": [
      "Epoch 178/200, Loss: 1.6215, Train Acc: 0.7030, Val Acc: 0.6680\n"
     ]
    },
    {
     "name": "stderr",
     "output_type": "stream",
     "text": [
      "Iterating eval graphs: 100%|██████████| 48/48 [00:08<00:00,  5.91batch/s]\n",
      "Epoch 179/200, Loss: 1.5942, Train Acc: 0.7018, Val Acc: 0.6595\n",
      "Epoch 179/200, Loss: 1.5942, Train Acc: 0.7018, Val Acc: 0.6595\n",
      "Epoch 179/200, Loss: 1.5942, Train Acc: 0.7018, Val Acc: 0.6595\n"
     ]
    },
    {
     "name": "stdout",
     "output_type": "stream",
     "text": [
      "Epoch 179/200, Loss: 1.5942, Train Acc: 0.7018, Val Acc: 0.6595\n"
     ]
    },
    {
     "name": "stderr",
     "output_type": "stream",
     "text": [
      "Iterating eval graphs: 100%|██████████| 48/48 [00:08<00:00,  5.65batch/s]\n",
      "Epoch 180/200, Loss: 1.6026, Train Acc: 0.7041, Val Acc: 0.6790\n",
      "Epoch 180/200, Loss: 1.6026, Train Acc: 0.7041, Val Acc: 0.6790\n",
      "Epoch 180/200, Loss: 1.6026, Train Acc: 0.7041, Val Acc: 0.6790\n"
     ]
    },
    {
     "name": "stdout",
     "output_type": "stream",
     "text": [
      "Epoch 180/200, Loss: 1.6026, Train Acc: 0.7041, Val Acc: 0.6790\n"
     ]
    },
    {
     "name": "stderr",
     "output_type": "stream",
     "text": [
      "Iterating eval graphs: 100%|██████████| 48/48 [00:08<00:00,  5.42batch/s]\n",
      "Epoch 181/200, Loss: 1.7507, Train Acc: 0.6938, Val Acc: 0.6510\n",
      "Epoch 181/200, Loss: 1.7507, Train Acc: 0.6938, Val Acc: 0.6510\n",
      "Epoch 181/200, Loss: 1.7507, Train Acc: 0.6938, Val Acc: 0.6510\n"
     ]
    },
    {
     "name": "stdout",
     "output_type": "stream",
     "text": [
      "Epoch 181/200, Loss: 1.7507, Train Acc: 0.6938, Val Acc: 0.6510\n"
     ]
    },
    {
     "name": "stderr",
     "output_type": "stream",
     "text": [
      "Iterating eval graphs: 100%|██████████| 48/48 [00:08<00:00,  5.79batch/s]\n",
      "Epoch 182/200, Loss: 1.8122, Train Acc: 0.6878, Val Acc: 0.6647\n",
      "Epoch 182/200, Loss: 1.8122, Train Acc: 0.6878, Val Acc: 0.6647\n",
      "Epoch 182/200, Loss: 1.8122, Train Acc: 0.6878, Val Acc: 0.6647\n"
     ]
    },
    {
     "name": "stdout",
     "output_type": "stream",
     "text": [
      "Epoch 182/200, Loss: 1.8122, Train Acc: 0.6878, Val Acc: 0.6647\n"
     ]
    },
    {
     "name": "stderr",
     "output_type": "stream",
     "text": [
      "Iterating eval graphs: 100%|██████████| 48/48 [00:08<00:00,  5.67batch/s]\n",
      "Epoch 183/200, Loss: 1.7505, Train Acc: 0.6943, Val Acc: 0.6855\n",
      "Epoch 183/200, Loss: 1.7505, Train Acc: 0.6943, Val Acc: 0.6855\n",
      "Epoch 183/200, Loss: 1.7505, Train Acc: 0.6943, Val Acc: 0.6855\n"
     ]
    },
    {
     "name": "stdout",
     "output_type": "stream",
     "text": [
      "Epoch 183/200, Loss: 1.7505, Train Acc: 0.6943, Val Acc: 0.6855\n",
      "Best model updated and saved at /home/onyxia/work/DL-Hackathon/hackaton/checkpoints/model_C_best.pth\n"
     ]
    },
    {
     "name": "stderr",
     "output_type": "stream",
     "text": [
      "Iterating eval graphs: 100%|██████████| 48/48 [00:08<00:00,  5.78batch/s]\n",
      "Epoch 184/200, Loss: 1.7928, Train Acc: 0.7010, Val Acc: 0.6589\n",
      "Epoch 184/200, Loss: 1.7928, Train Acc: 0.7010, Val Acc: 0.6589\n",
      "Epoch 184/200, Loss: 1.7928, Train Acc: 0.7010, Val Acc: 0.6589\n"
     ]
    },
    {
     "name": "stdout",
     "output_type": "stream",
     "text": [
      "Epoch 184/200, Loss: 1.7928, Train Acc: 0.7010, Val Acc: 0.6589\n"
     ]
    },
    {
     "name": "stderr",
     "output_type": "stream",
     "text": [
      "Iterating eval graphs: 100%|██████████| 48/48 [00:08<00:00,  5.97batch/s]\n",
      "Epoch 185/200, Loss: 1.7021, Train Acc: 0.6924, Val Acc: 0.6712\n",
      "Epoch 185/200, Loss: 1.7021, Train Acc: 0.6924, Val Acc: 0.6712\n",
      "Epoch 185/200, Loss: 1.7021, Train Acc: 0.6924, Val Acc: 0.6712\n"
     ]
    },
    {
     "name": "stdout",
     "output_type": "stream",
     "text": [
      "Epoch 185/200, Loss: 1.7021, Train Acc: 0.6924, Val Acc: 0.6712\n"
     ]
    },
    {
     "name": "stderr",
     "output_type": "stream",
     "text": [
      "Iterating eval graphs: 100%|██████████| 48/48 [00:08<00:00,  5.59batch/s]\n",
      "Epoch 186/200, Loss: 1.5683, Train Acc: 0.7030, Val Acc: 0.6315\n",
      "Epoch 186/200, Loss: 1.5683, Train Acc: 0.7030, Val Acc: 0.6315\n",
      "Epoch 186/200, Loss: 1.5683, Train Acc: 0.7030, Val Acc: 0.6315\n"
     ]
    },
    {
     "name": "stdout",
     "output_type": "stream",
     "text": [
      "Epoch 186/200, Loss: 1.5683, Train Acc: 0.7030, Val Acc: 0.6315\n"
     ]
    },
    {
     "name": "stderr",
     "output_type": "stream",
     "text": [
      "Iterating eval graphs: 100%|██████████| 48/48 [00:08<00:00,  5.81batch/s]\n",
      "Epoch 187/200, Loss: 1.8002, Train Acc: 0.6997, Val Acc: 0.6615\n",
      "Epoch 187/200, Loss: 1.8002, Train Acc: 0.6997, Val Acc: 0.6615\n",
      "Epoch 187/200, Loss: 1.8002, Train Acc: 0.6997, Val Acc: 0.6615\n"
     ]
    },
    {
     "name": "stdout",
     "output_type": "stream",
     "text": [
      "Epoch 187/200, Loss: 1.8002, Train Acc: 0.6997, Val Acc: 0.6615\n"
     ]
    },
    {
     "name": "stderr",
     "output_type": "stream",
     "text": [
      "Iterating eval graphs: 100%|██████████| 48/48 [00:08<00:00,  5.74batch/s]\n",
      "Epoch 188/200, Loss: 1.8178, Train Acc: 0.6857, Val Acc: 0.6667\n",
      "Epoch 188/200, Loss: 1.8178, Train Acc: 0.6857, Val Acc: 0.6667\n",
      "Epoch 188/200, Loss: 1.8178, Train Acc: 0.6857, Val Acc: 0.6667\n"
     ]
    },
    {
     "name": "stdout",
     "output_type": "stream",
     "text": [
      "Epoch 188/200, Loss: 1.8178, Train Acc: 0.6857, Val Acc: 0.6667\n"
     ]
    },
    {
     "name": "stderr",
     "output_type": "stream",
     "text": [
      "Iterating eval graphs: 100%|██████████| 48/48 [00:08<00:00,  5.83batch/s]\n",
      "Epoch 189/200, Loss: 1.7203, Train Acc: 0.6981, Val Acc: 0.6868\n",
      "Epoch 189/200, Loss: 1.7203, Train Acc: 0.6981, Val Acc: 0.6868\n",
      "Epoch 189/200, Loss: 1.7203, Train Acc: 0.6981, Val Acc: 0.6868\n"
     ]
    },
    {
     "name": "stdout",
     "output_type": "stream",
     "text": [
      "Epoch 189/200, Loss: 1.7203, Train Acc: 0.6981, Val Acc: 0.6868\n",
      "Best model updated and saved at /home/onyxia/work/DL-Hackathon/hackaton/checkpoints/model_C_best.pth\n"
     ]
    },
    {
     "name": "stderr",
     "output_type": "stream",
     "text": [
      "Iterating eval graphs: 100%|██████████| 48/48 [00:07<00:00,  6.06batch/s]\n",
      "Epoch 190/200, Loss: 1.5968, Train Acc: 0.7085, Val Acc: 0.6602\n",
      "Epoch 190/200, Loss: 1.5968, Train Acc: 0.7085, Val Acc: 0.6602\n",
      "Epoch 190/200, Loss: 1.5968, Train Acc: 0.7085, Val Acc: 0.6602\n"
     ]
    },
    {
     "name": "stdout",
     "output_type": "stream",
     "text": [
      "Epoch 190/200, Loss: 1.5968, Train Acc: 0.7085, Val Acc: 0.6602\n"
     ]
    },
    {
     "name": "stderr",
     "output_type": "stream",
     "text": [
      "Iterating eval graphs: 100%|██████████| 48/48 [00:08<00:00,  5.55batch/s]\n",
      "Epoch 191/200, Loss: 1.5525, Train Acc: 0.7095, Val Acc: 0.6790\n",
      "Epoch 191/200, Loss: 1.5525, Train Acc: 0.7095, Val Acc: 0.6790\n",
      "Epoch 191/200, Loss: 1.5525, Train Acc: 0.7095, Val Acc: 0.6790\n"
     ]
    },
    {
     "name": "stdout",
     "output_type": "stream",
     "text": [
      "Epoch 191/200, Loss: 1.5525, Train Acc: 0.7095, Val Acc: 0.6790\n"
     ]
    },
    {
     "name": "stderr",
     "output_type": "stream",
     "text": [
      "Iterating eval graphs: 100%|██████████| 48/48 [00:08<00:00,  5.95batch/s]\n",
      "Epoch 192/200, Loss: 1.5885, Train Acc: 0.7106, Val Acc: 0.6719\n",
      "Epoch 192/200, Loss: 1.5885, Train Acc: 0.7106, Val Acc: 0.6719\n",
      "Epoch 192/200, Loss: 1.5885, Train Acc: 0.7106, Val Acc: 0.6719\n"
     ]
    },
    {
     "name": "stdout",
     "output_type": "stream",
     "text": [
      "Epoch 192/200, Loss: 1.5885, Train Acc: 0.7106, Val Acc: 0.6719\n"
     ]
    },
    {
     "name": "stderr",
     "output_type": "stream",
     "text": [
      "Iterating eval graphs: 100%|██████████| 48/48 [00:08<00:00,  5.66batch/s]\n",
      "Epoch 193/200, Loss: 1.5964, Train Acc: 0.7069, Val Acc: 0.6504\n",
      "Epoch 193/200, Loss: 1.5964, Train Acc: 0.7069, Val Acc: 0.6504\n",
      "Epoch 193/200, Loss: 1.5964, Train Acc: 0.7069, Val Acc: 0.6504\n"
     ]
    },
    {
     "name": "stdout",
     "output_type": "stream",
     "text": [
      "Epoch 193/200, Loss: 1.5964, Train Acc: 0.7069, Val Acc: 0.6504\n"
     ]
    },
    {
     "name": "stderr",
     "output_type": "stream",
     "text": [
      "Iterating eval graphs: 100%|██████████| 48/48 [00:08<00:00,  5.65batch/s]\n",
      "Epoch 194/200, Loss: 1.5255, Train Acc: 0.7176, Val Acc: 0.6960\n",
      "Epoch 194/200, Loss: 1.5255, Train Acc: 0.7176, Val Acc: 0.6960\n",
      "Epoch 194/200, Loss: 1.5255, Train Acc: 0.7176, Val Acc: 0.6960\n"
     ]
    },
    {
     "name": "stdout",
     "output_type": "stream",
     "text": [
      "Epoch 194/200, Loss: 1.5255, Train Acc: 0.7176, Val Acc: 0.6960\n",
      "Best model updated and saved at /home/onyxia/work/DL-Hackathon/hackaton/checkpoints/model_C_best.pth\n"
     ]
    },
    {
     "name": "stderr",
     "output_type": "stream",
     "text": [
      "Iterating eval graphs: 100%|██████████| 48/48 [00:08<00:00,  5.80batch/s]\n",
      "Epoch 195/200, Loss: 1.5300, Train Acc: 0.7145, Val Acc: 0.6608\n",
      "Epoch 195/200, Loss: 1.5300, Train Acc: 0.7145, Val Acc: 0.6608\n",
      "Epoch 195/200, Loss: 1.5300, Train Acc: 0.7145, Val Acc: 0.6608\n"
     ]
    },
    {
     "name": "stdout",
     "output_type": "stream",
     "text": [
      "Epoch 195/200, Loss: 1.5300, Train Acc: 0.7145, Val Acc: 0.6608\n"
     ]
    },
    {
     "name": "stderr",
     "output_type": "stream",
     "text": [
      "Iterating eval graphs: 100%|██████████| 48/48 [00:08<00:00,  5.82batch/s]\n",
      "Epoch 196/200, Loss: 1.9929, Train Acc: 0.6927, Val Acc: 0.7142\n",
      "Epoch 196/200, Loss: 1.9929, Train Acc: 0.6927, Val Acc: 0.7142\n",
      "Epoch 196/200, Loss: 1.9929, Train Acc: 0.6927, Val Acc: 0.7142\n"
     ]
    },
    {
     "name": "stdout",
     "output_type": "stream",
     "text": [
      "Epoch 196/200, Loss: 1.9929, Train Acc: 0.6927, Val Acc: 0.7142\n",
      "Best model updated and saved at /home/onyxia/work/DL-Hackathon/hackaton/checkpoints/model_C_best.pth\n"
     ]
    },
    {
     "name": "stderr",
     "output_type": "stream",
     "text": [
      "Iterating eval graphs: 100%|██████████| 48/48 [00:08<00:00,  5.76batch/s]\n",
      "Epoch 197/200, Loss: 1.7003, Train Acc: 0.7057, Val Acc: 0.6992\n",
      "Epoch 197/200, Loss: 1.7003, Train Acc: 0.7057, Val Acc: 0.6992\n",
      "Epoch 197/200, Loss: 1.7003, Train Acc: 0.7057, Val Acc: 0.6992\n"
     ]
    },
    {
     "name": "stdout",
     "output_type": "stream",
     "text": [
      "Epoch 197/200, Loss: 1.7003, Train Acc: 0.7057, Val Acc: 0.6992\n"
     ]
    },
    {
     "name": "stderr",
     "output_type": "stream",
     "text": [
      "Iterating eval graphs: 100%|██████████| 48/48 [00:08<00:00,  5.84batch/s]\n",
      "Epoch 198/200, Loss: 1.6255, Train Acc: 0.7072, Val Acc: 0.6895\n",
      "Epoch 198/200, Loss: 1.6255, Train Acc: 0.7072, Val Acc: 0.6895\n",
      "Epoch 198/200, Loss: 1.6255, Train Acc: 0.7072, Val Acc: 0.6895\n"
     ]
    },
    {
     "name": "stdout",
     "output_type": "stream",
     "text": [
      "Epoch 198/200, Loss: 1.6255, Train Acc: 0.7072, Val Acc: 0.6895\n"
     ]
    },
    {
     "name": "stderr",
     "output_type": "stream",
     "text": [
      "Iterating eval graphs: 100%|██████████| 48/48 [00:08<00:00,  5.52batch/s]\n",
      "Epoch 199/200, Loss: 1.5146, Train Acc: 0.7186, Val Acc: 0.6732\n",
      "Epoch 199/200, Loss: 1.5146, Train Acc: 0.7186, Val Acc: 0.6732\n",
      "Epoch 199/200, Loss: 1.5146, Train Acc: 0.7186, Val Acc: 0.6732\n"
     ]
    },
    {
     "name": "stdout",
     "output_type": "stream",
     "text": [
      "Epoch 199/200, Loss: 1.5146, Train Acc: 0.7186, Val Acc: 0.6732\n"
     ]
    },
    {
     "name": "stderr",
     "output_type": "stream",
     "text": [
      "Iterating eval graphs: 100%|██████████| 48/48 [00:08<00:00,  5.88batch/s]\n",
      "Epoch 200/200, Loss: 1.5898, Train Acc: 0.7155, Val Acc: 0.6270\n",
      "Epoch 200/200, Loss: 1.5898, Train Acc: 0.7155, Val Acc: 0.6270\n",
      "Epoch 200/200, Loss: 1.5898, Train Acc: 0.7155, Val Acc: 0.6270\n"
     ]
    },
    {
     "name": "stdout",
     "output_type": "stream",
     "text": [
      "Epoch 200/200, Loss: 1.5898, Train Acc: 0.7155, Val Acc: 0.6270\n"
     ]
    }
   ],
   "source": [
    "from torch.optim.lr_scheduler import ReduceLROnPlateau\n",
    "\n",
    "if args.train_path:\n",
    "    full_dataset = GraphDataset(args.train_path, transform=add_zeros)\n",
    "    val_size = int(0.2 * len(full_dataset))\n",
    "    train_size = len(full_dataset) - val_size\n",
    "\n",
    "    generator = torch.Generator().manual_seed(12)\n",
    "    train_dataset, val_dataset = random_split(full_dataset, [train_size, val_size], generator=generator)\n",
    "\n",
    "    train_dataset = IndexedSubDataset(train_dataset)\n",
    "\n",
    "    if args.baseline_mode == 2:\n",
    "\n",
    "        u = nn.Parameter(torch.zeros(len(train_dataset), device=device))\n",
    "        optimizer_u = torch.optim.Adam([u], lr=1)\n",
    "        optimizer_theta = torch.optim.Adam(model.parameters(), lr=0.001, weight_decay=1e-4)\n",
    "\n",
    "        #scheduler = ReduceLROnPlateau(\n",
    "        #optimizer_theta, \n",
    "        #mode='max',           # maximiser val_acc\n",
    "        #factor=0.5,           # réduction du LR par 2\n",
    "        #patience=5,           # n epochs sans amélioration\n",
    "        #threshold=1e-3,       # tolérance d’amélioration\n",
    "        #min_lr=1e-6           # LR minimum\n",
    "        #)\n",
    "\n",
    "\n",
    "        \n",
    "        criterion = GCODLoss(num_classes=6, alpha=1.0, beta=1.0)\n",
    "\n",
    "\n",
    "    train_loader = DataLoader(train_dataset, batch_size=args.batch_size, shuffle=False)  # shuffle=False mandatory, not to loose indexes ?\n",
    "    val_loader = DataLoader(val_dataset, batch_size=args.batch_size, shuffle=False)\n",
    "\n",
    "    num_epochs = args.epochs\n",
    "    best_val_accuracy = 0.0\n",
    "\n",
    "    train_losses = []\n",
    "    train_accuracies = []\n",
    "    val_losses = []\n",
    "    val_accuracies = []\n",
    "\n",
    "    if num_checkpoints > 1:\n",
    "        checkpoint_intervals = [int((i + 1) * num_epochs / num_checkpoints) for i in range(num_checkpoints)]\n",
    "    else:\n",
    "        checkpoint_intervals = [num_epochs]\n",
    "\n",
    "    for epoch in range(num_epochs):\n",
    "        train_loss, train_acc = train(\n",
    "            train_loader, model, optimizer_theta, optimizer_u, criterion, device\n",
    "        )\n",
    "\n",
    "        val_loss, val_acc = evaluate(val_loader, model, device, calculate_accuracy=True)\n",
    "\n",
    "        print(f\"Epoch {epoch + 1}/{num_epochs}, Loss: {train_loss:.4f}, Train Acc: {train_acc:.4f}, Val Acc: {val_acc:.4f}\")\n",
    "        logging.info(f\"Epoch {epoch + 1}/{num_epochs}, Loss: {train_loss:.4f}, Train Acc: {train_acc:.4f}, Val Acc: {val_acc:.4f}\")\n",
    "\n",
    "        train_losses.append(train_loss)\n",
    "        train_accuracies.append(train_acc)\n",
    "        val_losses.append(val_loss)\n",
    "        val_accuracies.append(val_acc)\n",
    "\n",
    "        # 🔽 Appel du scheduler avec la métrique à surveiller\n",
    "        #scheduler.step(val_acc)\n",
    "\n",
    "        if val_acc > best_val_accuracy:\n",
    "            best_val_accuracy = val_acc\n",
    "            torch.save(model.state_dict(), checkpoint_path)\n",
    "            print(f\"Best model updated and saved at {checkpoint_path}\")\n",
    "\n",
    "    plot_training_progress(train_losses, train_accuracies, os.path.join(logs_folder, \"plots\"))\n",
    "    plot_training_progress(val_losses, val_accuracies, os.path.join(logs_folder, \"plotsVal\"))"
   ]
  },
  {
   "cell_type": "code",
   "execution_count": 38,
   "id": "4bc89759-5430-4e7c-a05b-6bdebc4ff81f",
   "metadata": {
    "papermill": {
     "duration": null,
     "end_time": null,
     "exception": null,
     "start_time": null,
     "status": "pending"
    },
    "tags": []
   },
   "outputs": [
    {
     "data": {
      "text/plain": [
       "13535"
      ]
     },
     "execution_count": 38,
     "metadata": {},
     "output_type": "execute_result"
    }
   ],
   "source": [
    "import gc\n",
    "del train_dataset\n",
    "del train_loader\n",
    "del full_dataset\n",
    "del val_dataset\n",
    "del val_loader\n",
    "gc.collect()"
   ]
  },
  {
   "cell_type": "code",
   "execution_count": 39,
   "id": "1eabe043-2115-44b5-8459-b503a6067f1e",
   "metadata": {
    "id": "xsXZIj4Mdu3I",
    "papermill": {
     "duration": null,
     "end_time": null,
     "exception": null,
     "start_time": null,
     "status": "pending"
    },
    "tags": []
   },
   "outputs": [],
   "source": [
    "test_dataset = GraphDataset(args.test_path, transform=add_zeros)\n",
    "test_loader = DataLoader(test_dataset, batch_size=args.batch_size, shuffle=False)"
   ]
  },
  {
   "cell_type": "code",
   "execution_count": 40,
   "id": "7365abc9-7908-4354-ab92-98c912efb78a",
   "metadata": {
    "id": "x1OnGq_nCmTr",
    "papermill": {
     "duration": null,
     "end_time": null,
     "exception": null,
     "start_time": null,
     "status": "pending"
    },
    "tags": []
   },
   "outputs": [
    {
     "name": "stderr",
     "output_type": "stream",
     "text": [
      "Iterating eval graphs: 100%|██████████| 48/48 [00:08<00:00,  6.00batch/s]"
     ]
    },
    {
     "name": "stdout",
     "output_type": "stream",
     "text": [
      "Predictions saved to /home/onyxia/work/DL-Hackathon/hackaton/submission/testset_C.csv\n"
     ]
    },
    {
     "name": "stderr",
     "output_type": "stream",
     "text": [
      "\n"
     ]
    },
    {
     "name": "stderr",
     "output_type": "stream",
     "text": [
      "\n"
     ]
    }
   ],
   "source": [
    "model.load_state_dict(torch.load(checkpoint_path))\n",
    "predictions = evaluate(test_loader, model, device, calculate_accuracy=False)\n",
    "save_predictions(predictions, args.test_path)"
   ]
  },
  {
   "cell_type": "markdown",
   "id": "08e3c687-ff76-4993-b449-a06ed8c9938e",
   "metadata": {},
   "source": [
    "# D"
   ]
  },
  {
   "cell_type": "code",
   "execution_count": 41,
   "id": "65c595f4-5aa9-49ae-8bb5-f2c959c64be9",
   "metadata": {},
   "outputs": [],
   "source": [
    "args.train_path = 'datasets/D/train.json.gz'\n",
    "args.test_path = 'datasets/D/test.json.gz'"
   ]
  },
  {
   "cell_type": "code",
   "execution_count": 42,
   "id": "1834c28e-70fe-4d6e-b66c-a69d494382c5",
   "metadata": {
    "id": "lHX55XGECXBr",
    "papermill": {
     "duration": null,
     "end_time": null,
     "exception": null,
     "start_time": null,
     "status": "pending"
    },
    "tags": []
   },
   "outputs": [],
   "source": [
    "script_dir = os.getcwd() \n",
    "# device = torch.device(f\"cuda:{args.device}\" if torch.cuda.is_available() else \"cpu\")\n",
    "device = torch.device(\"cuda\" if torch.cuda.is_available() else \"cpu\")\n",
    "num_checkpoints = args.num_checkpoints if args.num_checkpoints else 3\n",
    "    \n",
    "if args.gnn == 'gin':\n",
    "    model = GNN(gnn_type='gin', num_class=6, num_layer=args.num_layer, emb_dim=args.emb_dim, drop_ratio=args.drop_ratio, virtual_node=False).to(device)\n",
    "elif args.gnn == 'gin-virtual':\n",
    "    model = GNN(gnn_type='gin', num_class=6, num_layer=args.num_layer, emb_dim=args.emb_dim, drop_ratio=args.drop_ratio, virtual_node=True).to(device)\n",
    "elif args.gnn == 'gcn':\n",
    "    model = GNN(gnn_type='gcn', num_class=6, num_layer=args.num_layer, emb_dim=args.emb_dim, drop_ratio=args.drop_ratio, virtual_node=False).to(device)\n",
    "elif args.gnn == 'gcn-virtual':\n",
    "    model = GNN(gnn_type='gcn', num_class=6, num_layer=args.num_layer, emb_dim=args.emb_dim, drop_ratio=args.drop_ratio, virtual_node=True).to(device)\n",
    "else:\n",
    "    raise ValueError('Invalid GNN type')\n",
    "    \n",
    "optimizer = torch.optim.Adam(model.parameters(), lr=0.001)\n",
    "# criterion = torch.nn.CrossEntropyLoss()\n",
    "if args.baseline_mode == 2:\n",
    "    # We initializa criterion and optimizers in the cell after the definition of full_dataset, as we need train_size\n",
    "    pass\n",
    "else:\n",
    "    criterion = torch.nn.CrossEntropyLoss()"
   ]
  },
  {
   "cell_type": "code",
   "execution_count": 43,
   "id": "3c38ec61-0ca3-447e-b7fe-b111ccac955c",
   "metadata": {
    "id": "BTYT5jYuChPb",
    "papermill": {
     "duration": null,
     "end_time": null,
     "exception": null,
     "start_time": null,
     "status": "pending"
    },
    "tags": []
   },
   "outputs": [],
   "source": [
    "test_dir_name = os.path.basename(os.path.dirname(args.test_path))\n",
    "logs_folder = os.path.join(script_dir, \"logs\", test_dir_name)\n",
    "log_file = os.path.join(logs_folder, \"training.log\")\n",
    "os.makedirs(os.path.dirname(log_file), exist_ok=True)\n",
    "logging.basicConfig(filename=log_file, level=logging.INFO, format='%(asctime)s - %(message)s')\n",
    "logging.getLogger().addHandler(logging.StreamHandler())\n",
    "\n",
    "checkpoint_path = os.path.join(script_dir, \"checkpoints\", f\"model_{test_dir_name}_best.pth\")\n",
    "checkpoints_folder = os.path.join(script_dir, \"checkpoints\", test_dir_name)\n",
    "os.makedirs(checkpoints_folder, exist_ok=True)\n"
   ]
  },
  {
   "cell_type": "code",
   "execution_count": 44,
   "id": "38de7a55-d52e-41a2-92a0-16497500d5c5",
   "metadata": {
    "papermill": {
     "duration": null,
     "end_time": null,
     "exception": null,
     "start_time": null,
     "status": "pending"
    },
    "tags": []
   },
   "outputs": [],
   "source": [
    "if os.path.exists(checkpoint_path) and not args.train_path:\n",
    "    model.load_state_dict(torch.load(checkpoint_path))\n",
    "    print(f\"Loaded best model from {checkpoint_path}\")"
   ]
  },
  {
   "cell_type": "code",
   "execution_count": 45,
   "id": "4d57d4fb-2c24-4082-a962-1e9a04afe1ac",
   "metadata": {},
   "outputs": [
    {
     "name": "stderr",
     "output_type": "stream",
     "text": [
      "Iterating eval graphs: 100%|██████████| 65/65 [00:11<00:00,  5.58batch/s]\n",
      "Epoch 1/200, Loss: 1.4993, Train Acc: 0.4128, Val Acc: 0.3842\n",
      "Epoch 1/200, Loss: 1.4993, Train Acc: 0.4128, Val Acc: 0.3842\n",
      "Epoch 1/200, Loss: 1.4993, Train Acc: 0.4128, Val Acc: 0.3842\n",
      "Epoch 1/200, Loss: 1.4993, Train Acc: 0.4128, Val Acc: 0.3842\n"
     ]
    },
    {
     "name": "stdout",
     "output_type": "stream",
     "text": [
      "Epoch 1/200, Loss: 1.4993, Train Acc: 0.4128, Val Acc: 0.3842\n",
      "Best model updated and saved at /home/onyxia/work/DL-Hackathon/hackaton/checkpoints/model_D_best.pth\n"
     ]
    },
    {
     "name": "stderr",
     "output_type": "stream",
     "text": [
      "Iterating eval graphs: 100%|██████████| 65/65 [00:11<00:00,  5.50batch/s]\n",
      "Epoch 2/200, Loss: 3.3562, Train Acc: 0.4771, Val Acc: 0.4805\n",
      "Epoch 2/200, Loss: 3.3562, Train Acc: 0.4771, Val Acc: 0.4805\n",
      "Epoch 2/200, Loss: 3.3562, Train Acc: 0.4771, Val Acc: 0.4805\n",
      "Epoch 2/200, Loss: 3.3562, Train Acc: 0.4771, Val Acc: 0.4805\n"
     ]
    },
    {
     "name": "stdout",
     "output_type": "stream",
     "text": [
      "Epoch 2/200, Loss: 3.3562, Train Acc: 0.4771, Val Acc: 0.4805\n",
      "Best model updated and saved at /home/onyxia/work/DL-Hackathon/hackaton/checkpoints/model_D_best.pth\n"
     ]
    },
    {
     "name": "stderr",
     "output_type": "stream",
     "text": [
      "Iterating eval graphs: 100%|██████████| 65/65 [00:11<00:00,  5.66batch/s]\n",
      "Epoch 3/200, Loss: 6.0982, Train Acc: 0.3665, Val Acc: 0.3638\n",
      "Epoch 3/200, Loss: 6.0982, Train Acc: 0.3665, Val Acc: 0.3638\n",
      "Epoch 3/200, Loss: 6.0982, Train Acc: 0.3665, Val Acc: 0.3638\n",
      "Epoch 3/200, Loss: 6.0982, Train Acc: 0.3665, Val Acc: 0.3638\n"
     ]
    },
    {
     "name": "stdout",
     "output_type": "stream",
     "text": [
      "Epoch 3/200, Loss: 6.0982, Train Acc: 0.3665, Val Acc: 0.3638\n"
     ]
    },
    {
     "name": "stderr",
     "output_type": "stream",
     "text": [
      "Iterating eval graphs: 100%|██████████| 65/65 [00:11<00:00,  5.69batch/s]\n",
      "Epoch 4/200, Loss: 14.0298, Train Acc: 0.3402, Val Acc: 0.3818\n",
      "Epoch 4/200, Loss: 14.0298, Train Acc: 0.3402, Val Acc: 0.3818\n",
      "Epoch 4/200, Loss: 14.0298, Train Acc: 0.3402, Val Acc: 0.3818\n",
      "Epoch 4/200, Loss: 14.0298, Train Acc: 0.3402, Val Acc: 0.3818\n"
     ]
    },
    {
     "name": "stdout",
     "output_type": "stream",
     "text": [
      "Epoch 4/200, Loss: 14.0298, Train Acc: 0.3402, Val Acc: 0.3818\n"
     ]
    },
    {
     "name": "stderr",
     "output_type": "stream",
     "text": [
      "Iterating eval graphs: 100%|██████████| 65/65 [00:11<00:00,  5.61batch/s]\n",
      "Epoch 5/200, Loss: 8.9923, Train Acc: 0.3413, Val Acc: 0.2996\n",
      "Epoch 5/200, Loss: 8.9923, Train Acc: 0.3413, Val Acc: 0.2996\n",
      "Epoch 5/200, Loss: 8.9923, Train Acc: 0.3413, Val Acc: 0.2996\n",
      "Epoch 5/200, Loss: 8.9923, Train Acc: 0.3413, Val Acc: 0.2996\n"
     ]
    },
    {
     "name": "stdout",
     "output_type": "stream",
     "text": [
      "Epoch 5/200, Loss: 8.9923, Train Acc: 0.3413, Val Acc: 0.2996\n"
     ]
    },
    {
     "name": "stderr",
     "output_type": "stream",
     "text": [
      "Iterating eval graphs: 100%|██████████| 65/65 [00:11<00:00,  5.58batch/s]\n",
      "Epoch 6/200, Loss: 13.3549, Train Acc: 0.3321, Val Acc: 0.3152\n",
      "Epoch 6/200, Loss: 13.3549, Train Acc: 0.3321, Val Acc: 0.3152\n",
      "Epoch 6/200, Loss: 13.3549, Train Acc: 0.3321, Val Acc: 0.3152\n",
      "Epoch 6/200, Loss: 13.3549, Train Acc: 0.3321, Val Acc: 0.3152\n"
     ]
    },
    {
     "name": "stdout",
     "output_type": "stream",
     "text": [
      "Epoch 6/200, Loss: 13.3549, Train Acc: 0.3321, Val Acc: 0.3152\n"
     ]
    },
    {
     "name": "stderr",
     "output_type": "stream",
     "text": [
      "Iterating eval graphs: 100%|██████████| 65/65 [00:11<00:00,  5.58batch/s]\n",
      "Epoch 7/200, Loss: 10.3507, Train Acc: 0.3124, Val Acc: 0.3463\n",
      "Epoch 7/200, Loss: 10.3507, Train Acc: 0.3124, Val Acc: 0.3463\n",
      "Epoch 7/200, Loss: 10.3507, Train Acc: 0.3124, Val Acc: 0.3463\n",
      "Epoch 7/200, Loss: 10.3507, Train Acc: 0.3124, Val Acc: 0.3463\n"
     ]
    },
    {
     "name": "stdout",
     "output_type": "stream",
     "text": [
      "Epoch 7/200, Loss: 10.3507, Train Acc: 0.3124, Val Acc: 0.3463\n"
     ]
    },
    {
     "name": "stderr",
     "output_type": "stream",
     "text": [
      "Iterating eval graphs: 100%|██████████| 65/65 [00:12<00:00,  5.35batch/s]\n",
      "Epoch 8/200, Loss: 12.9560, Train Acc: 0.3065, Val Acc: 0.3137\n",
      "Epoch 8/200, Loss: 12.9560, Train Acc: 0.3065, Val Acc: 0.3137\n",
      "Epoch 8/200, Loss: 12.9560, Train Acc: 0.3065, Val Acc: 0.3137\n",
      "Epoch 8/200, Loss: 12.9560, Train Acc: 0.3065, Val Acc: 0.3137\n"
     ]
    },
    {
     "name": "stdout",
     "output_type": "stream",
     "text": [
      "Epoch 8/200, Loss: 12.9560, Train Acc: 0.3065, Val Acc: 0.3137\n"
     ]
    },
    {
     "name": "stderr",
     "output_type": "stream",
     "text": [
      "Iterating eval graphs: 100%|██████████| 65/65 [00:11<00:00,  5.59batch/s]\n",
      "Epoch 9/200, Loss: 10.7083, Train Acc: 0.3298, Val Acc: 0.3653\n",
      "Epoch 9/200, Loss: 10.7083, Train Acc: 0.3298, Val Acc: 0.3653\n",
      "Epoch 9/200, Loss: 10.7083, Train Acc: 0.3298, Val Acc: 0.3653\n",
      "Epoch 9/200, Loss: 10.7083, Train Acc: 0.3298, Val Acc: 0.3653\n"
     ]
    },
    {
     "name": "stdout",
     "output_type": "stream",
     "text": [
      "Epoch 9/200, Loss: 10.7083, Train Acc: 0.3298, Val Acc: 0.3653\n"
     ]
    },
    {
     "name": "stderr",
     "output_type": "stream",
     "text": [
      "Iterating eval graphs: 100%|██████████| 65/65 [00:11<00:00,  5.58batch/s]\n",
      "Epoch 10/200, Loss: 11.8819, Train Acc: 0.3411, Val Acc: 0.3517\n",
      "Epoch 10/200, Loss: 11.8819, Train Acc: 0.3411, Val Acc: 0.3517\n",
      "Epoch 10/200, Loss: 11.8819, Train Acc: 0.3411, Val Acc: 0.3517\n",
      "Epoch 10/200, Loss: 11.8819, Train Acc: 0.3411, Val Acc: 0.3517\n"
     ]
    },
    {
     "name": "stdout",
     "output_type": "stream",
     "text": [
      "Epoch 10/200, Loss: 11.8819, Train Acc: 0.3411, Val Acc: 0.3517\n"
     ]
    },
    {
     "name": "stderr",
     "output_type": "stream",
     "text": [
      "Iterating eval graphs: 100%|██████████| 65/65 [00:11<00:00,  5.66batch/s]\n",
      "Epoch 11/200, Loss: 10.1823, Train Acc: 0.3455, Val Acc: 0.3638\n",
      "Epoch 11/200, Loss: 10.1823, Train Acc: 0.3455, Val Acc: 0.3638\n",
      "Epoch 11/200, Loss: 10.1823, Train Acc: 0.3455, Val Acc: 0.3638\n",
      "Epoch 11/200, Loss: 10.1823, Train Acc: 0.3455, Val Acc: 0.3638\n"
     ]
    },
    {
     "name": "stdout",
     "output_type": "stream",
     "text": [
      "Epoch 11/200, Loss: 10.1823, Train Acc: 0.3455, Val Acc: 0.3638\n"
     ]
    },
    {
     "name": "stderr",
     "output_type": "stream",
     "text": [
      "Iterating eval graphs: 100%|██████████| 65/65 [00:11<00:00,  5.65batch/s]\n",
      "Epoch 12/200, Loss: 11.3659, Train Acc: 0.3599, Val Acc: 0.3828\n",
      "Epoch 12/200, Loss: 11.3659, Train Acc: 0.3599, Val Acc: 0.3828\n",
      "Epoch 12/200, Loss: 11.3659, Train Acc: 0.3599, Val Acc: 0.3828\n",
      "Epoch 12/200, Loss: 11.3659, Train Acc: 0.3599, Val Acc: 0.3828\n"
     ]
    },
    {
     "name": "stdout",
     "output_type": "stream",
     "text": [
      "Epoch 12/200, Loss: 11.3659, Train Acc: 0.3599, Val Acc: 0.3828\n"
     ]
    },
    {
     "name": "stderr",
     "output_type": "stream",
     "text": [
      "Iterating eval graphs: 100%|██████████| 65/65 [00:12<00:00,  5.41batch/s]\n",
      "Epoch 13/200, Loss: 8.6426, Train Acc: 0.3694, Val Acc: 0.3740\n",
      "Epoch 13/200, Loss: 8.6426, Train Acc: 0.3694, Val Acc: 0.3740\n",
      "Epoch 13/200, Loss: 8.6426, Train Acc: 0.3694, Val Acc: 0.3740\n",
      "Epoch 13/200, Loss: 8.6426, Train Acc: 0.3694, Val Acc: 0.3740\n"
     ]
    },
    {
     "name": "stdout",
     "output_type": "stream",
     "text": [
      "Epoch 13/200, Loss: 8.6426, Train Acc: 0.3694, Val Acc: 0.3740\n"
     ]
    },
    {
     "name": "stderr",
     "output_type": "stream",
     "text": [
      "Iterating eval graphs: 100%|██████████| 65/65 [00:12<00:00,  5.39batch/s]\n",
      "Epoch 14/200, Loss: 9.1146, Train Acc: 0.3824, Val Acc: 0.3716\n",
      "Epoch 14/200, Loss: 9.1146, Train Acc: 0.3824, Val Acc: 0.3716\n",
      "Epoch 14/200, Loss: 9.1146, Train Acc: 0.3824, Val Acc: 0.3716\n",
      "Epoch 14/200, Loss: 9.1146, Train Acc: 0.3824, Val Acc: 0.3716\n"
     ]
    },
    {
     "name": "stdout",
     "output_type": "stream",
     "text": [
      "Epoch 14/200, Loss: 9.1146, Train Acc: 0.3824, Val Acc: 0.3716\n"
     ]
    },
    {
     "name": "stderr",
     "output_type": "stream",
     "text": [
      "Iterating eval graphs: 100%|██████████| 65/65 [00:11<00:00,  5.64batch/s]\n",
      "Epoch 15/200, Loss: 7.9756, Train Acc: 0.3724, Val Acc: 0.3969\n",
      "Epoch 15/200, Loss: 7.9756, Train Acc: 0.3724, Val Acc: 0.3969\n",
      "Epoch 15/200, Loss: 7.9756, Train Acc: 0.3724, Val Acc: 0.3969\n",
      "Epoch 15/200, Loss: 7.9756, Train Acc: 0.3724, Val Acc: 0.3969\n"
     ]
    },
    {
     "name": "stdout",
     "output_type": "stream",
     "text": [
      "Epoch 15/200, Loss: 7.9756, Train Acc: 0.3724, Val Acc: 0.3969\n"
     ]
    },
    {
     "name": "stderr",
     "output_type": "stream",
     "text": [
      "Iterating eval graphs: 100%|██████████| 65/65 [00:11<00:00,  5.54batch/s]\n",
      "Epoch 16/200, Loss: 8.0969, Train Acc: 0.3943, Val Acc: 0.4076\n",
      "Epoch 16/200, Loss: 8.0969, Train Acc: 0.3943, Val Acc: 0.4076\n",
      "Epoch 16/200, Loss: 8.0969, Train Acc: 0.3943, Val Acc: 0.4076\n",
      "Epoch 16/200, Loss: 8.0969, Train Acc: 0.3943, Val Acc: 0.4076\n"
     ]
    },
    {
     "name": "stdout",
     "output_type": "stream",
     "text": [
      "Epoch 16/200, Loss: 8.0969, Train Acc: 0.3943, Val Acc: 0.4076\n"
     ]
    },
    {
     "name": "stderr",
     "output_type": "stream",
     "text": [
      "Iterating eval graphs: 100%|██████████| 65/65 [00:11<00:00,  5.49batch/s]\n",
      "Epoch 17/200, Loss: 6.4919, Train Acc: 0.4010, Val Acc: 0.4061\n",
      "Epoch 17/200, Loss: 6.4919, Train Acc: 0.4010, Val Acc: 0.4061\n",
      "Epoch 17/200, Loss: 6.4919, Train Acc: 0.4010, Val Acc: 0.4061\n",
      "Epoch 17/200, Loss: 6.4919, Train Acc: 0.4010, Val Acc: 0.4061\n"
     ]
    },
    {
     "name": "stdout",
     "output_type": "stream",
     "text": [
      "Epoch 17/200, Loss: 6.4919, Train Acc: 0.4010, Val Acc: 0.4061\n"
     ]
    },
    {
     "name": "stderr",
     "output_type": "stream",
     "text": [
      "Iterating eval graphs: 100%|██████████| 65/65 [00:11<00:00,  5.57batch/s]\n",
      "Epoch 18/200, Loss: 6.7436, Train Acc: 0.3960, Val Acc: 0.4115\n",
      "Epoch 18/200, Loss: 6.7436, Train Acc: 0.3960, Val Acc: 0.4115\n",
      "Epoch 18/200, Loss: 6.7436, Train Acc: 0.3960, Val Acc: 0.4115\n",
      "Epoch 18/200, Loss: 6.7436, Train Acc: 0.3960, Val Acc: 0.4115\n"
     ]
    },
    {
     "name": "stdout",
     "output_type": "stream",
     "text": [
      "Epoch 18/200, Loss: 6.7436, Train Acc: 0.3960, Val Acc: 0.4115\n"
     ]
    },
    {
     "name": "stderr",
     "output_type": "stream",
     "text": [
      "Iterating eval graphs: 100%|██████████| 65/65 [00:11<00:00,  5.65batch/s]\n",
      "Epoch 19/200, Loss: 5.5010, Train Acc: 0.4045, Val Acc: 0.4261\n",
      "Epoch 19/200, Loss: 5.5010, Train Acc: 0.4045, Val Acc: 0.4261\n",
      "Epoch 19/200, Loss: 5.5010, Train Acc: 0.4045, Val Acc: 0.4261\n",
      "Epoch 19/200, Loss: 5.5010, Train Acc: 0.4045, Val Acc: 0.4261\n"
     ]
    },
    {
     "name": "stdout",
     "output_type": "stream",
     "text": [
      "Epoch 19/200, Loss: 5.5010, Train Acc: 0.4045, Val Acc: 0.4261\n"
     ]
    },
    {
     "name": "stderr",
     "output_type": "stream",
     "text": [
      "Iterating eval graphs: 100%|██████████| 65/65 [00:11<00:00,  5.64batch/s]\n",
      "Epoch 20/200, Loss: 5.6062, Train Acc: 0.4176, Val Acc: 0.4416\n",
      "Epoch 20/200, Loss: 5.6062, Train Acc: 0.4176, Val Acc: 0.4416\n",
      "Epoch 20/200, Loss: 5.6062, Train Acc: 0.4176, Val Acc: 0.4416\n",
      "Epoch 20/200, Loss: 5.6062, Train Acc: 0.4176, Val Acc: 0.4416\n"
     ]
    },
    {
     "name": "stdout",
     "output_type": "stream",
     "text": [
      "Epoch 20/200, Loss: 5.6062, Train Acc: 0.4176, Val Acc: 0.4416\n"
     ]
    },
    {
     "name": "stderr",
     "output_type": "stream",
     "text": [
      "Iterating eval graphs: 100%|██████████| 65/65 [00:11<00:00,  5.53batch/s]\n",
      "Epoch 21/200, Loss: 4.4421, Train Acc: 0.4285, Val Acc: 0.4348\n",
      "Epoch 21/200, Loss: 4.4421, Train Acc: 0.4285, Val Acc: 0.4348\n",
      "Epoch 21/200, Loss: 4.4421, Train Acc: 0.4285, Val Acc: 0.4348\n",
      "Epoch 21/200, Loss: 4.4421, Train Acc: 0.4285, Val Acc: 0.4348\n"
     ]
    },
    {
     "name": "stdout",
     "output_type": "stream",
     "text": [
      "Epoch 21/200, Loss: 4.4421, Train Acc: 0.4285, Val Acc: 0.4348\n"
     ]
    },
    {
     "name": "stderr",
     "output_type": "stream",
     "text": [
      "Iterating eval graphs: 100%|██████████| 65/65 [00:11<00:00,  5.57batch/s]\n",
      "Epoch 22/200, Loss: 5.1543, Train Acc: 0.4314, Val Acc: 0.4611\n",
      "Epoch 22/200, Loss: 5.1543, Train Acc: 0.4314, Val Acc: 0.4611\n",
      "Epoch 22/200, Loss: 5.1543, Train Acc: 0.4314, Val Acc: 0.4611\n",
      "Epoch 22/200, Loss: 5.1543, Train Acc: 0.4314, Val Acc: 0.4611\n"
     ]
    },
    {
     "name": "stdout",
     "output_type": "stream",
     "text": [
      "Epoch 22/200, Loss: 5.1543, Train Acc: 0.4314, Val Acc: 0.4611\n"
     ]
    },
    {
     "name": "stderr",
     "output_type": "stream",
     "text": [
      "Iterating eval graphs: 100%|██████████| 65/65 [00:12<00:00,  5.41batch/s]\n",
      "Epoch 23/200, Loss: 4.3075, Train Acc: 0.4408, Val Acc: 0.4446\n",
      "Epoch 23/200, Loss: 4.3075, Train Acc: 0.4408, Val Acc: 0.4446\n",
      "Epoch 23/200, Loss: 4.3075, Train Acc: 0.4408, Val Acc: 0.4446\n",
      "Epoch 23/200, Loss: 4.3075, Train Acc: 0.4408, Val Acc: 0.4446\n"
     ]
    },
    {
     "name": "stdout",
     "output_type": "stream",
     "text": [
      "Epoch 23/200, Loss: 4.3075, Train Acc: 0.4408, Val Acc: 0.4446\n"
     ]
    },
    {
     "name": "stderr",
     "output_type": "stream",
     "text": [
      "Iterating eval graphs: 100%|██████████| 65/65 [00:12<00:00,  5.41batch/s]\n",
      "Epoch 24/200, Loss: 4.3480, Train Acc: 0.4411, Val Acc: 0.4728\n",
      "Epoch 24/200, Loss: 4.3480, Train Acc: 0.4411, Val Acc: 0.4728\n",
      "Epoch 24/200, Loss: 4.3480, Train Acc: 0.4411, Val Acc: 0.4728\n",
      "Epoch 24/200, Loss: 4.3480, Train Acc: 0.4411, Val Acc: 0.4728\n"
     ]
    },
    {
     "name": "stdout",
     "output_type": "stream",
     "text": [
      "Epoch 24/200, Loss: 4.3480, Train Acc: 0.4411, Val Acc: 0.4728\n"
     ]
    },
    {
     "name": "stderr",
     "output_type": "stream",
     "text": [
      "Iterating eval graphs: 100%|██████████| 65/65 [00:12<00:00,  5.32batch/s]\n",
      "Epoch 25/200, Loss: 3.8401, Train Acc: 0.4437, Val Acc: 0.4596\n",
      "Epoch 25/200, Loss: 3.8401, Train Acc: 0.4437, Val Acc: 0.4596\n",
      "Epoch 25/200, Loss: 3.8401, Train Acc: 0.4437, Val Acc: 0.4596\n",
      "Epoch 25/200, Loss: 3.8401, Train Acc: 0.4437, Val Acc: 0.4596\n"
     ]
    },
    {
     "name": "stdout",
     "output_type": "stream",
     "text": [
      "Epoch 25/200, Loss: 3.8401, Train Acc: 0.4437, Val Acc: 0.4596\n"
     ]
    },
    {
     "name": "stderr",
     "output_type": "stream",
     "text": [
      "Iterating eval graphs: 100%|██████████| 65/65 [00:11<00:00,  5.46batch/s]\n",
      "Epoch 26/200, Loss: 4.0924, Train Acc: 0.4615, Val Acc: 0.4708\n",
      "Epoch 26/200, Loss: 4.0924, Train Acc: 0.4615, Val Acc: 0.4708\n",
      "Epoch 26/200, Loss: 4.0924, Train Acc: 0.4615, Val Acc: 0.4708\n",
      "Epoch 26/200, Loss: 4.0924, Train Acc: 0.4615, Val Acc: 0.4708\n"
     ]
    },
    {
     "name": "stdout",
     "output_type": "stream",
     "text": [
      "Epoch 26/200, Loss: 4.0924, Train Acc: 0.4615, Val Acc: 0.4708\n"
     ]
    },
    {
     "name": "stderr",
     "output_type": "stream",
     "text": [
      "Iterating eval graphs: 100%|██████████| 65/65 [00:11<00:00,  5.62batch/s]\n",
      "Epoch 27/200, Loss: 3.6157, Train Acc: 0.4623, Val Acc: 0.4674\n",
      "Epoch 27/200, Loss: 3.6157, Train Acc: 0.4623, Val Acc: 0.4674\n",
      "Epoch 27/200, Loss: 3.6157, Train Acc: 0.4623, Val Acc: 0.4674\n",
      "Epoch 27/200, Loss: 3.6157, Train Acc: 0.4623, Val Acc: 0.4674\n"
     ]
    },
    {
     "name": "stdout",
     "output_type": "stream",
     "text": [
      "Epoch 27/200, Loss: 3.6157, Train Acc: 0.4623, Val Acc: 0.4674\n"
     ]
    },
    {
     "name": "stderr",
     "output_type": "stream",
     "text": [
      "Iterating eval graphs: 100%|██████████| 65/65 [00:11<00:00,  5.64batch/s]\n",
      "Epoch 28/200, Loss: 4.0668, Train Acc: 0.4663, Val Acc: 0.4849\n",
      "Epoch 28/200, Loss: 4.0668, Train Acc: 0.4663, Val Acc: 0.4849\n",
      "Epoch 28/200, Loss: 4.0668, Train Acc: 0.4663, Val Acc: 0.4849\n",
      "Epoch 28/200, Loss: 4.0668, Train Acc: 0.4663, Val Acc: 0.4849\n"
     ]
    },
    {
     "name": "stdout",
     "output_type": "stream",
     "text": [
      "Epoch 28/200, Loss: 4.0668, Train Acc: 0.4663, Val Acc: 0.4849\n",
      "Best model updated and saved at /home/onyxia/work/DL-Hackathon/hackaton/checkpoints/model_D_best.pth\n"
     ]
    },
    {
     "name": "stderr",
     "output_type": "stream",
     "text": [
      "Iterating eval graphs: 100%|██████████| 65/65 [00:11<00:00,  5.53batch/s]\n",
      "Epoch 29/200, Loss: 3.4461, Train Acc: 0.4702, Val Acc: 0.4912\n",
      "Epoch 29/200, Loss: 3.4461, Train Acc: 0.4702, Val Acc: 0.4912\n",
      "Epoch 29/200, Loss: 3.4461, Train Acc: 0.4702, Val Acc: 0.4912\n",
      "Epoch 29/200, Loss: 3.4461, Train Acc: 0.4702, Val Acc: 0.4912\n"
     ]
    },
    {
     "name": "stdout",
     "output_type": "stream",
     "text": [
      "Epoch 29/200, Loss: 3.4461, Train Acc: 0.4702, Val Acc: 0.4912\n",
      "Best model updated and saved at /home/onyxia/work/DL-Hackathon/hackaton/checkpoints/model_D_best.pth\n"
     ]
    },
    {
     "name": "stderr",
     "output_type": "stream",
     "text": [
      "Iterating eval graphs: 100%|██████████| 65/65 [00:11<00:00,  5.56batch/s]\n",
      "Epoch 30/200, Loss: 3.6095, Train Acc: 0.4688, Val Acc: 0.4888\n",
      "Epoch 30/200, Loss: 3.6095, Train Acc: 0.4688, Val Acc: 0.4888\n",
      "Epoch 30/200, Loss: 3.6095, Train Acc: 0.4688, Val Acc: 0.4888\n",
      "Epoch 30/200, Loss: 3.6095, Train Acc: 0.4688, Val Acc: 0.4888\n"
     ]
    },
    {
     "name": "stdout",
     "output_type": "stream",
     "text": [
      "Epoch 30/200, Loss: 3.6095, Train Acc: 0.4688, Val Acc: 0.4888\n"
     ]
    },
    {
     "name": "stderr",
     "output_type": "stream",
     "text": [
      "Iterating eval graphs: 100%|██████████| 65/65 [00:11<00:00,  5.72batch/s]\n",
      "Epoch 31/200, Loss: 3.1435, Train Acc: 0.4776, Val Acc: 0.5039\n",
      "Epoch 31/200, Loss: 3.1435, Train Acc: 0.4776, Val Acc: 0.5039\n",
      "Epoch 31/200, Loss: 3.1435, Train Acc: 0.4776, Val Acc: 0.5039\n",
      "Epoch 31/200, Loss: 3.1435, Train Acc: 0.4776, Val Acc: 0.5039\n"
     ]
    },
    {
     "name": "stdout",
     "output_type": "stream",
     "text": [
      "Epoch 31/200, Loss: 3.1435, Train Acc: 0.4776, Val Acc: 0.5039\n",
      "Best model updated and saved at /home/onyxia/work/DL-Hackathon/hackaton/checkpoints/model_D_best.pth\n"
     ]
    },
    {
     "name": "stderr",
     "output_type": "stream",
     "text": [
      "Iterating eval graphs: 100%|██████████| 65/65 [00:11<00:00,  5.56batch/s]\n",
      "Epoch 32/200, Loss: 3.6260, Train Acc: 0.4821, Val Acc: 0.5029\n",
      "Epoch 32/200, Loss: 3.6260, Train Acc: 0.4821, Val Acc: 0.5029\n",
      "Epoch 32/200, Loss: 3.6260, Train Acc: 0.4821, Val Acc: 0.5029\n",
      "Epoch 32/200, Loss: 3.6260, Train Acc: 0.4821, Val Acc: 0.5029\n"
     ]
    },
    {
     "name": "stdout",
     "output_type": "stream",
     "text": [
      "Epoch 32/200, Loss: 3.6260, Train Acc: 0.4821, Val Acc: 0.5029\n"
     ]
    },
    {
     "name": "stderr",
     "output_type": "stream",
     "text": [
      "Iterating eval graphs: 100%|██████████| 65/65 [00:12<00:00,  5.24batch/s]\n",
      "Epoch 33/200, Loss: 3.6606, Train Acc: 0.4758, Val Acc: 0.5024\n",
      "Epoch 33/200, Loss: 3.6606, Train Acc: 0.4758, Val Acc: 0.5024\n",
      "Epoch 33/200, Loss: 3.6606, Train Acc: 0.4758, Val Acc: 0.5024\n",
      "Epoch 33/200, Loss: 3.6606, Train Acc: 0.4758, Val Acc: 0.5024\n"
     ]
    },
    {
     "name": "stdout",
     "output_type": "stream",
     "text": [
      "Epoch 33/200, Loss: 3.6606, Train Acc: 0.4758, Val Acc: 0.5024\n"
     ]
    },
    {
     "name": "stderr",
     "output_type": "stream",
     "text": [
      "Iterating eval graphs: 100%|██████████| 65/65 [00:11<00:00,  5.63batch/s]\n",
      "Epoch 34/200, Loss: 3.5506, Train Acc: 0.4827, Val Acc: 0.5136\n",
      "Epoch 34/200, Loss: 3.5506, Train Acc: 0.4827, Val Acc: 0.5136\n",
      "Epoch 34/200, Loss: 3.5506, Train Acc: 0.4827, Val Acc: 0.5136\n",
      "Epoch 34/200, Loss: 3.5506, Train Acc: 0.4827, Val Acc: 0.5136\n"
     ]
    },
    {
     "name": "stdout",
     "output_type": "stream",
     "text": [
      "Epoch 34/200, Loss: 3.5506, Train Acc: 0.4827, Val Acc: 0.5136\n",
      "Best model updated and saved at /home/onyxia/work/DL-Hackathon/hackaton/checkpoints/model_D_best.pth\n"
     ]
    },
    {
     "name": "stderr",
     "output_type": "stream",
     "text": [
      "Iterating eval graphs: 100%|██████████| 65/65 [00:11<00:00,  5.61batch/s]\n",
      "Epoch 35/200, Loss: 3.3244, Train Acc: 0.4903, Val Acc: 0.5073\n",
      "Epoch 35/200, Loss: 3.3244, Train Acc: 0.4903, Val Acc: 0.5073\n",
      "Epoch 35/200, Loss: 3.3244, Train Acc: 0.4903, Val Acc: 0.5073\n",
      "Epoch 35/200, Loss: 3.3244, Train Acc: 0.4903, Val Acc: 0.5073\n"
     ]
    },
    {
     "name": "stdout",
     "output_type": "stream",
     "text": [
      "Epoch 35/200, Loss: 3.3244, Train Acc: 0.4903, Val Acc: 0.5073\n"
     ]
    },
    {
     "name": "stderr",
     "output_type": "stream",
     "text": [
      "Iterating eval graphs: 100%|██████████| 65/65 [00:11<00:00,  5.52batch/s]\n",
      "Epoch 36/200, Loss: 3.3301, Train Acc: 0.4837, Val Acc: 0.4976\n",
      "Epoch 36/200, Loss: 3.3301, Train Acc: 0.4837, Val Acc: 0.4976\n",
      "Epoch 36/200, Loss: 3.3301, Train Acc: 0.4837, Val Acc: 0.4976\n",
      "Epoch 36/200, Loss: 3.3301, Train Acc: 0.4837, Val Acc: 0.4976\n"
     ]
    },
    {
     "name": "stdout",
     "output_type": "stream",
     "text": [
      "Epoch 36/200, Loss: 3.3301, Train Acc: 0.4837, Val Acc: 0.4976\n"
     ]
    },
    {
     "name": "stderr",
     "output_type": "stream",
     "text": [
      "Iterating eval graphs: 100%|██████████| 65/65 [00:11<00:00,  5.51batch/s]\n",
      "Epoch 37/200, Loss: 3.2582, Train Acc: 0.4875, Val Acc: 0.5097\n",
      "Epoch 37/200, Loss: 3.2582, Train Acc: 0.4875, Val Acc: 0.5097\n",
      "Epoch 37/200, Loss: 3.2582, Train Acc: 0.4875, Val Acc: 0.5097\n",
      "Epoch 37/200, Loss: 3.2582, Train Acc: 0.4875, Val Acc: 0.5097\n"
     ]
    },
    {
     "name": "stdout",
     "output_type": "stream",
     "text": [
      "Epoch 37/200, Loss: 3.2582, Train Acc: 0.4875, Val Acc: 0.5097\n"
     ]
    },
    {
     "name": "stderr",
     "output_type": "stream",
     "text": [
      "Iterating eval graphs: 100%|██████████| 65/65 [00:11<00:00,  5.68batch/s]\n",
      "Epoch 38/200, Loss: 3.3616, Train Acc: 0.4889, Val Acc: 0.5000\n",
      "Epoch 38/200, Loss: 3.3616, Train Acc: 0.4889, Val Acc: 0.5000\n",
      "Epoch 38/200, Loss: 3.3616, Train Acc: 0.4889, Val Acc: 0.5000\n",
      "Epoch 38/200, Loss: 3.3616, Train Acc: 0.4889, Val Acc: 0.5000\n"
     ]
    },
    {
     "name": "stdout",
     "output_type": "stream",
     "text": [
      "Epoch 38/200, Loss: 3.3616, Train Acc: 0.4889, Val Acc: 0.5000\n"
     ]
    },
    {
     "name": "stderr",
     "output_type": "stream",
     "text": [
      "Iterating eval graphs: 100%|██████████| 65/65 [00:11<00:00,  5.50batch/s]\n",
      "Epoch 39/200, Loss: 3.4619, Train Acc: 0.4933, Val Acc: 0.5233\n",
      "Epoch 39/200, Loss: 3.4619, Train Acc: 0.4933, Val Acc: 0.5233\n",
      "Epoch 39/200, Loss: 3.4619, Train Acc: 0.4933, Val Acc: 0.5233\n",
      "Epoch 39/200, Loss: 3.4619, Train Acc: 0.4933, Val Acc: 0.5233\n"
     ]
    },
    {
     "name": "stdout",
     "output_type": "stream",
     "text": [
      "Epoch 39/200, Loss: 3.4619, Train Acc: 0.4933, Val Acc: 0.5233\n",
      "Best model updated and saved at /home/onyxia/work/DL-Hackathon/hackaton/checkpoints/model_D_best.pth\n"
     ]
    },
    {
     "name": "stderr",
     "output_type": "stream",
     "text": [
      "Iterating eval graphs: 100%|██████████| 65/65 [00:11<00:00,  5.46batch/s]\n",
      "Epoch 40/200, Loss: 3.2568, Train Acc: 0.5024, Val Acc: 0.5195\n",
      "Epoch 40/200, Loss: 3.2568, Train Acc: 0.5024, Val Acc: 0.5195\n",
      "Epoch 40/200, Loss: 3.2568, Train Acc: 0.5024, Val Acc: 0.5195\n",
      "Epoch 40/200, Loss: 3.2568, Train Acc: 0.5024, Val Acc: 0.5195\n"
     ]
    },
    {
     "name": "stdout",
     "output_type": "stream",
     "text": [
      "Epoch 40/200, Loss: 3.2568, Train Acc: 0.5024, Val Acc: 0.5195\n"
     ]
    },
    {
     "name": "stderr",
     "output_type": "stream",
     "text": [
      "Iterating eval graphs: 100%|██████████| 65/65 [00:11<00:00,  5.63batch/s]\n",
      "Epoch 41/200, Loss: 3.2439, Train Acc: 0.4957, Val Acc: 0.5146\n",
      "Epoch 41/200, Loss: 3.2439, Train Acc: 0.4957, Val Acc: 0.5146\n",
      "Epoch 41/200, Loss: 3.2439, Train Acc: 0.4957, Val Acc: 0.5146\n",
      "Epoch 41/200, Loss: 3.2439, Train Acc: 0.4957, Val Acc: 0.5146\n"
     ]
    },
    {
     "name": "stdout",
     "output_type": "stream",
     "text": [
      "Epoch 41/200, Loss: 3.2439, Train Acc: 0.4957, Val Acc: 0.5146\n"
     ]
    },
    {
     "name": "stderr",
     "output_type": "stream",
     "text": [
      "Iterating eval graphs: 100%|██████████| 65/65 [00:11<00:00,  5.59batch/s]\n",
      "Epoch 42/200, Loss: 3.4205, Train Acc: 0.4914, Val Acc: 0.4874\n",
      "Epoch 42/200, Loss: 3.4205, Train Acc: 0.4914, Val Acc: 0.4874\n",
      "Epoch 42/200, Loss: 3.4205, Train Acc: 0.4914, Val Acc: 0.4874\n",
      "Epoch 42/200, Loss: 3.4205, Train Acc: 0.4914, Val Acc: 0.4874\n"
     ]
    },
    {
     "name": "stdout",
     "output_type": "stream",
     "text": [
      "Epoch 42/200, Loss: 3.4205, Train Acc: 0.4914, Val Acc: 0.4874\n"
     ]
    },
    {
     "name": "stderr",
     "output_type": "stream",
     "text": [
      "Iterating eval graphs: 100%|██████████| 65/65 [00:11<00:00,  5.67batch/s]\n",
      "Epoch 43/200, Loss: 3.6408, Train Acc: 0.4886, Val Acc: 0.5107\n",
      "Epoch 43/200, Loss: 3.6408, Train Acc: 0.4886, Val Acc: 0.5107\n",
      "Epoch 43/200, Loss: 3.6408, Train Acc: 0.4886, Val Acc: 0.5107\n",
      "Epoch 43/200, Loss: 3.6408, Train Acc: 0.4886, Val Acc: 0.5107\n"
     ]
    },
    {
     "name": "stdout",
     "output_type": "stream",
     "text": [
      "Epoch 43/200, Loss: 3.6408, Train Acc: 0.4886, Val Acc: 0.5107\n"
     ]
    },
    {
     "name": "stderr",
     "output_type": "stream",
     "text": [
      "Iterating eval graphs: 100%|██████████| 65/65 [00:11<00:00,  5.65batch/s]\n",
      "Epoch 44/200, Loss: 3.6300, Train Acc: 0.4998, Val Acc: 0.5195\n",
      "Epoch 44/200, Loss: 3.6300, Train Acc: 0.4998, Val Acc: 0.5195\n",
      "Epoch 44/200, Loss: 3.6300, Train Acc: 0.4998, Val Acc: 0.5195\n",
      "Epoch 44/200, Loss: 3.6300, Train Acc: 0.4998, Val Acc: 0.5195\n"
     ]
    },
    {
     "name": "stdout",
     "output_type": "stream",
     "text": [
      "Epoch 44/200, Loss: 3.6300, Train Acc: 0.4998, Val Acc: 0.5195\n"
     ]
    },
    {
     "name": "stderr",
     "output_type": "stream",
     "text": [
      "Iterating eval graphs: 100%|██████████| 65/65 [00:11<00:00,  5.54batch/s]\n",
      "Epoch 45/200, Loss: 3.3512, Train Acc: 0.4934, Val Acc: 0.5248\n",
      "Epoch 45/200, Loss: 3.3512, Train Acc: 0.4934, Val Acc: 0.5248\n",
      "Epoch 45/200, Loss: 3.3512, Train Acc: 0.4934, Val Acc: 0.5248\n",
      "Epoch 45/200, Loss: 3.3512, Train Acc: 0.4934, Val Acc: 0.5248\n"
     ]
    },
    {
     "name": "stdout",
     "output_type": "stream",
     "text": [
      "Epoch 45/200, Loss: 3.3512, Train Acc: 0.4934, Val Acc: 0.5248\n",
      "Best model updated and saved at /home/onyxia/work/DL-Hackathon/hackaton/checkpoints/model_D_best.pth\n"
     ]
    },
    {
     "name": "stderr",
     "output_type": "stream",
     "text": [
      "Iterating eval graphs: 100%|██████████| 65/65 [00:11<00:00,  5.74batch/s]\n",
      "Epoch 46/200, Loss: 3.3558, Train Acc: 0.5051, Val Acc: 0.5195\n",
      "Epoch 46/200, Loss: 3.3558, Train Acc: 0.5051, Val Acc: 0.5195\n",
      "Epoch 46/200, Loss: 3.3558, Train Acc: 0.5051, Val Acc: 0.5195\n",
      "Epoch 46/200, Loss: 3.3558, Train Acc: 0.5051, Val Acc: 0.5195\n"
     ]
    },
    {
     "name": "stdout",
     "output_type": "stream",
     "text": [
      "Epoch 46/200, Loss: 3.3558, Train Acc: 0.5051, Val Acc: 0.5195\n"
     ]
    },
    {
     "name": "stderr",
     "output_type": "stream",
     "text": [
      "Iterating eval graphs: 100%|██████████| 65/65 [00:11<00:00,  5.64batch/s]\n",
      "Epoch 47/200, Loss: 3.2116, Train Acc: 0.5052, Val Acc: 0.5292\n",
      "Epoch 47/200, Loss: 3.2116, Train Acc: 0.5052, Val Acc: 0.5292\n",
      "Epoch 47/200, Loss: 3.2116, Train Acc: 0.5052, Val Acc: 0.5292\n",
      "Epoch 47/200, Loss: 3.2116, Train Acc: 0.5052, Val Acc: 0.5292\n"
     ]
    },
    {
     "name": "stdout",
     "output_type": "stream",
     "text": [
      "Epoch 47/200, Loss: 3.2116, Train Acc: 0.5052, Val Acc: 0.5292\n",
      "Best model updated and saved at /home/onyxia/work/DL-Hackathon/hackaton/checkpoints/model_D_best.pth\n"
     ]
    },
    {
     "name": "stderr",
     "output_type": "stream",
     "text": [
      "Iterating eval graphs: 100%|██████████| 65/65 [00:11<00:00,  5.44batch/s]\n",
      "Epoch 48/200, Loss: 3.5172, Train Acc: 0.5072, Val Acc: 0.5029\n",
      "Epoch 48/200, Loss: 3.5172, Train Acc: 0.5072, Val Acc: 0.5029\n",
      "Epoch 48/200, Loss: 3.5172, Train Acc: 0.5072, Val Acc: 0.5029\n",
      "Epoch 48/200, Loss: 3.5172, Train Acc: 0.5072, Val Acc: 0.5029\n"
     ]
    },
    {
     "name": "stdout",
     "output_type": "stream",
     "text": [
      "Epoch 48/200, Loss: 3.5172, Train Acc: 0.5072, Val Acc: 0.5029\n"
     ]
    },
    {
     "name": "stderr",
     "output_type": "stream",
     "text": [
      "Iterating eval graphs: 100%|██████████| 65/65 [00:11<00:00,  5.70batch/s]\n",
      "Epoch 49/200, Loss: 3.2558, Train Acc: 0.5068, Val Acc: 0.5287\n",
      "Epoch 49/200, Loss: 3.2558, Train Acc: 0.5068, Val Acc: 0.5287\n",
      "Epoch 49/200, Loss: 3.2558, Train Acc: 0.5068, Val Acc: 0.5287\n",
      "Epoch 49/200, Loss: 3.2558, Train Acc: 0.5068, Val Acc: 0.5287\n"
     ]
    },
    {
     "name": "stdout",
     "output_type": "stream",
     "text": [
      "Epoch 49/200, Loss: 3.2558, Train Acc: 0.5068, Val Acc: 0.5287\n"
     ]
    },
    {
     "name": "stderr",
     "output_type": "stream",
     "text": [
      "Iterating eval graphs: 100%|██████████| 65/65 [00:11<00:00,  5.54batch/s]\n",
      "Epoch 50/200, Loss: 3.4756, Train Acc: 0.5058, Val Acc: 0.5019\n",
      "Epoch 50/200, Loss: 3.4756, Train Acc: 0.5058, Val Acc: 0.5019\n",
      "Epoch 50/200, Loss: 3.4756, Train Acc: 0.5058, Val Acc: 0.5019\n",
      "Epoch 50/200, Loss: 3.4756, Train Acc: 0.5058, Val Acc: 0.5019\n"
     ]
    },
    {
     "name": "stdout",
     "output_type": "stream",
     "text": [
      "Epoch 50/200, Loss: 3.4756, Train Acc: 0.5058, Val Acc: 0.5019\n"
     ]
    },
    {
     "name": "stderr",
     "output_type": "stream",
     "text": [
      "Iterating eval graphs: 100%|██████████| 65/65 [00:11<00:00,  5.72batch/s]\n",
      "Epoch 51/200, Loss: 3.5013, Train Acc: 0.5002, Val Acc: 0.5302\n",
      "Epoch 51/200, Loss: 3.5013, Train Acc: 0.5002, Val Acc: 0.5302\n",
      "Epoch 51/200, Loss: 3.5013, Train Acc: 0.5002, Val Acc: 0.5302\n",
      "Epoch 51/200, Loss: 3.5013, Train Acc: 0.5002, Val Acc: 0.5302\n"
     ]
    },
    {
     "name": "stdout",
     "output_type": "stream",
     "text": [
      "Epoch 51/200, Loss: 3.5013, Train Acc: 0.5002, Val Acc: 0.5302\n",
      "Best model updated and saved at /home/onyxia/work/DL-Hackathon/hackaton/checkpoints/model_D_best.pth\n"
     ]
    },
    {
     "name": "stderr",
     "output_type": "stream",
     "text": [
      "Iterating eval graphs: 100%|██████████| 65/65 [00:11<00:00,  5.64batch/s]\n",
      "Epoch 52/200, Loss: 3.3324, Train Acc: 0.5085, Val Acc: 0.5282\n",
      "Epoch 52/200, Loss: 3.3324, Train Acc: 0.5085, Val Acc: 0.5282\n",
      "Epoch 52/200, Loss: 3.3324, Train Acc: 0.5085, Val Acc: 0.5282\n",
      "Epoch 52/200, Loss: 3.3324, Train Acc: 0.5085, Val Acc: 0.5282\n"
     ]
    },
    {
     "name": "stdout",
     "output_type": "stream",
     "text": [
      "Epoch 52/200, Loss: 3.3324, Train Acc: 0.5085, Val Acc: 0.5282\n"
     ]
    },
    {
     "name": "stderr",
     "output_type": "stream",
     "text": [
      "Iterating eval graphs: 100%|██████████| 65/65 [00:11<00:00,  5.52batch/s]\n",
      "Epoch 53/200, Loss: 3.5204, Train Acc: 0.5024, Val Acc: 0.5297\n",
      "Epoch 53/200, Loss: 3.5204, Train Acc: 0.5024, Val Acc: 0.5297\n",
      "Epoch 53/200, Loss: 3.5204, Train Acc: 0.5024, Val Acc: 0.5297\n",
      "Epoch 53/200, Loss: 3.5204, Train Acc: 0.5024, Val Acc: 0.5297\n"
     ]
    },
    {
     "name": "stdout",
     "output_type": "stream",
     "text": [
      "Epoch 53/200, Loss: 3.5204, Train Acc: 0.5024, Val Acc: 0.5297\n"
     ]
    },
    {
     "name": "stderr",
     "output_type": "stream",
     "text": [
      "Iterating eval graphs: 100%|██████████| 65/65 [00:11<00:00,  5.50batch/s]\n",
      "Epoch 54/200, Loss: 3.3057, Train Acc: 0.4991, Val Acc: 0.5107\n",
      "Epoch 54/200, Loss: 3.3057, Train Acc: 0.4991, Val Acc: 0.5107\n",
      "Epoch 54/200, Loss: 3.3057, Train Acc: 0.4991, Val Acc: 0.5107\n",
      "Epoch 54/200, Loss: 3.3057, Train Acc: 0.4991, Val Acc: 0.5107\n"
     ]
    },
    {
     "name": "stdout",
     "output_type": "stream",
     "text": [
      "Epoch 54/200, Loss: 3.3057, Train Acc: 0.4991, Val Acc: 0.5107\n"
     ]
    },
    {
     "name": "stderr",
     "output_type": "stream",
     "text": [
      "Iterating eval graphs: 100%|██████████| 65/65 [00:11<00:00,  5.48batch/s]\n",
      "Epoch 55/200, Loss: 3.4843, Train Acc: 0.4956, Val Acc: 0.5326\n",
      "Epoch 55/200, Loss: 3.4843, Train Acc: 0.4956, Val Acc: 0.5326\n",
      "Epoch 55/200, Loss: 3.4843, Train Acc: 0.4956, Val Acc: 0.5326\n",
      "Epoch 55/200, Loss: 3.4843, Train Acc: 0.4956, Val Acc: 0.5326\n"
     ]
    },
    {
     "name": "stdout",
     "output_type": "stream",
     "text": [
      "Epoch 55/200, Loss: 3.4843, Train Acc: 0.4956, Val Acc: 0.5326\n",
      "Best model updated and saved at /home/onyxia/work/DL-Hackathon/hackaton/checkpoints/model_D_best.pth\n"
     ]
    },
    {
     "name": "stderr",
     "output_type": "stream",
     "text": [
      "Iterating eval graphs: 100%|██████████| 65/65 [00:11<00:00,  5.53batch/s]\n",
      "Epoch 56/200, Loss: 3.1156, Train Acc: 0.5174, Val Acc: 0.2831\n",
      "Epoch 56/200, Loss: 3.1156, Train Acc: 0.5174, Val Acc: 0.2831\n",
      "Epoch 56/200, Loss: 3.1156, Train Acc: 0.5174, Val Acc: 0.2831\n",
      "Epoch 56/200, Loss: 3.1156, Train Acc: 0.5174, Val Acc: 0.2831\n"
     ]
    },
    {
     "name": "stdout",
     "output_type": "stream",
     "text": [
      "Epoch 56/200, Loss: 3.1156, Train Acc: 0.5174, Val Acc: 0.2831\n"
     ]
    },
    {
     "name": "stderr",
     "output_type": "stream",
     "text": [
      "Iterating eval graphs: 100%|██████████| 65/65 [00:11<00:00,  5.48batch/s]\n",
      "Epoch 57/200, Loss: 3.0569, Train Acc: 0.5117, Val Acc: 0.5564\n",
      "Epoch 57/200, Loss: 3.0569, Train Acc: 0.5117, Val Acc: 0.5564\n",
      "Epoch 57/200, Loss: 3.0569, Train Acc: 0.5117, Val Acc: 0.5564\n",
      "Epoch 57/200, Loss: 3.0569, Train Acc: 0.5117, Val Acc: 0.5564\n"
     ]
    },
    {
     "name": "stdout",
     "output_type": "stream",
     "text": [
      "Epoch 57/200, Loss: 3.0569, Train Acc: 0.5117, Val Acc: 0.5564\n",
      "Best model updated and saved at /home/onyxia/work/DL-Hackathon/hackaton/checkpoints/model_D_best.pth\n"
     ]
    },
    {
     "name": "stderr",
     "output_type": "stream",
     "text": [
      "Iterating eval graphs: 100%|██████████| 65/65 [00:12<00:00,  5.36batch/s]\n",
      "Epoch 58/200, Loss: 3.3074, Train Acc: 0.5226, Val Acc: 0.5224\n",
      "Epoch 58/200, Loss: 3.3074, Train Acc: 0.5226, Val Acc: 0.5224\n",
      "Epoch 58/200, Loss: 3.3074, Train Acc: 0.5226, Val Acc: 0.5224\n",
      "Epoch 58/200, Loss: 3.3074, Train Acc: 0.5226, Val Acc: 0.5224\n"
     ]
    },
    {
     "name": "stdout",
     "output_type": "stream",
     "text": [
      "Epoch 58/200, Loss: 3.3074, Train Acc: 0.5226, Val Acc: 0.5224\n"
     ]
    },
    {
     "name": "stderr",
     "output_type": "stream",
     "text": [
      "Iterating eval graphs: 100%|██████████| 65/65 [00:11<00:00,  5.52batch/s]\n",
      "Epoch 59/200, Loss: 3.2635, Train Acc: 0.5152, Val Acc: 0.5506\n",
      "Epoch 59/200, Loss: 3.2635, Train Acc: 0.5152, Val Acc: 0.5506\n",
      "Epoch 59/200, Loss: 3.2635, Train Acc: 0.5152, Val Acc: 0.5506\n",
      "Epoch 59/200, Loss: 3.2635, Train Acc: 0.5152, Val Acc: 0.5506\n"
     ]
    },
    {
     "name": "stdout",
     "output_type": "stream",
     "text": [
      "Epoch 59/200, Loss: 3.2635, Train Acc: 0.5152, Val Acc: 0.5506\n"
     ]
    },
    {
     "name": "stderr",
     "output_type": "stream",
     "text": [
      "Iterating eval graphs: 100%|██████████| 65/65 [00:11<00:00,  5.62batch/s]\n",
      "Epoch 60/200, Loss: 3.2798, Train Acc: 0.5195, Val Acc: 0.5409\n",
      "Epoch 60/200, Loss: 3.2798, Train Acc: 0.5195, Val Acc: 0.5409\n",
      "Epoch 60/200, Loss: 3.2798, Train Acc: 0.5195, Val Acc: 0.5409\n",
      "Epoch 60/200, Loss: 3.2798, Train Acc: 0.5195, Val Acc: 0.5409\n"
     ]
    },
    {
     "name": "stdout",
     "output_type": "stream",
     "text": [
      "Epoch 60/200, Loss: 3.2798, Train Acc: 0.5195, Val Acc: 0.5409\n"
     ]
    },
    {
     "name": "stderr",
     "output_type": "stream",
     "text": [
      "Iterating eval graphs: 100%|██████████| 65/65 [00:11<00:00,  5.54batch/s]\n",
      "Epoch 61/200, Loss: 3.1732, Train Acc: 0.5254, Val Acc: 0.5151\n",
      "Epoch 61/200, Loss: 3.1732, Train Acc: 0.5254, Val Acc: 0.5151\n",
      "Epoch 61/200, Loss: 3.1732, Train Acc: 0.5254, Val Acc: 0.5151\n",
      "Epoch 61/200, Loss: 3.1732, Train Acc: 0.5254, Val Acc: 0.5151\n"
     ]
    },
    {
     "name": "stdout",
     "output_type": "stream",
     "text": [
      "Epoch 61/200, Loss: 3.1732, Train Acc: 0.5254, Val Acc: 0.5151\n"
     ]
    },
    {
     "name": "stderr",
     "output_type": "stream",
     "text": [
      "Iterating eval graphs: 100%|██████████| 65/65 [00:11<00:00,  5.51batch/s]\n",
      "Epoch 62/200, Loss: 3.2619, Train Acc: 0.5289, Val Acc: 0.5355\n",
      "Epoch 62/200, Loss: 3.2619, Train Acc: 0.5289, Val Acc: 0.5355\n",
      "Epoch 62/200, Loss: 3.2619, Train Acc: 0.5289, Val Acc: 0.5355\n",
      "Epoch 62/200, Loss: 3.2619, Train Acc: 0.5289, Val Acc: 0.5355\n"
     ]
    },
    {
     "name": "stdout",
     "output_type": "stream",
     "text": [
      "Epoch 62/200, Loss: 3.2619, Train Acc: 0.5289, Val Acc: 0.5355\n"
     ]
    },
    {
     "name": "stderr",
     "output_type": "stream",
     "text": [
      "Iterating eval graphs: 100%|██████████| 65/65 [00:11<00:00,  5.44batch/s]\n",
      "Epoch 63/200, Loss: 3.0412, Train Acc: 0.5283, Val Acc: 0.5272\n",
      "Epoch 63/200, Loss: 3.0412, Train Acc: 0.5283, Val Acc: 0.5272\n",
      "Epoch 63/200, Loss: 3.0412, Train Acc: 0.5283, Val Acc: 0.5272\n",
      "Epoch 63/200, Loss: 3.0412, Train Acc: 0.5283, Val Acc: 0.5272\n"
     ]
    },
    {
     "name": "stdout",
     "output_type": "stream",
     "text": [
      "Epoch 63/200, Loss: 3.0412, Train Acc: 0.5283, Val Acc: 0.5272\n"
     ]
    },
    {
     "name": "stderr",
     "output_type": "stream",
     "text": [
      "Iterating eval graphs: 100%|██████████| 65/65 [00:11<00:00,  5.66batch/s]\n",
      "Epoch 64/200, Loss: 3.2588, Train Acc: 0.5300, Val Acc: 0.5282\n",
      "Epoch 64/200, Loss: 3.2588, Train Acc: 0.5300, Val Acc: 0.5282\n",
      "Epoch 64/200, Loss: 3.2588, Train Acc: 0.5300, Val Acc: 0.5282\n",
      "Epoch 64/200, Loss: 3.2588, Train Acc: 0.5300, Val Acc: 0.5282\n"
     ]
    },
    {
     "name": "stdout",
     "output_type": "stream",
     "text": [
      "Epoch 64/200, Loss: 3.2588, Train Acc: 0.5300, Val Acc: 0.5282\n"
     ]
    },
    {
     "name": "stderr",
     "output_type": "stream",
     "text": [
      "Iterating eval graphs: 100%|██████████| 65/65 [00:11<00:00,  5.53batch/s]\n",
      "Epoch 65/200, Loss: 3.2423, Train Acc: 0.5161, Val Acc: 0.5302\n",
      "Epoch 65/200, Loss: 3.2423, Train Acc: 0.5161, Val Acc: 0.5302\n",
      "Epoch 65/200, Loss: 3.2423, Train Acc: 0.5161, Val Acc: 0.5302\n",
      "Epoch 65/200, Loss: 3.2423, Train Acc: 0.5161, Val Acc: 0.5302\n"
     ]
    },
    {
     "name": "stdout",
     "output_type": "stream",
     "text": [
      "Epoch 65/200, Loss: 3.2423, Train Acc: 0.5161, Val Acc: 0.5302\n"
     ]
    },
    {
     "name": "stderr",
     "output_type": "stream",
     "text": [
      "Iterating eval graphs: 100%|██████████| 65/65 [00:11<00:00,  5.64batch/s]\n",
      "Epoch 66/200, Loss: 3.1944, Train Acc: 0.5310, Val Acc: 0.5311\n",
      "Epoch 66/200, Loss: 3.1944, Train Acc: 0.5310, Val Acc: 0.5311\n",
      "Epoch 66/200, Loss: 3.1944, Train Acc: 0.5310, Val Acc: 0.5311\n",
      "Epoch 66/200, Loss: 3.1944, Train Acc: 0.5310, Val Acc: 0.5311\n"
     ]
    },
    {
     "name": "stdout",
     "output_type": "stream",
     "text": [
      "Epoch 66/200, Loss: 3.1944, Train Acc: 0.5310, Val Acc: 0.5311\n"
     ]
    },
    {
     "name": "stderr",
     "output_type": "stream",
     "text": [
      "Iterating eval graphs: 100%|██████████| 65/65 [00:11<00:00,  5.66batch/s]\n",
      "Epoch 67/200, Loss: 2.9913, Train Acc: 0.5370, Val Acc: 0.5559\n",
      "Epoch 67/200, Loss: 2.9913, Train Acc: 0.5370, Val Acc: 0.5559\n",
      "Epoch 67/200, Loss: 2.9913, Train Acc: 0.5370, Val Acc: 0.5559\n",
      "Epoch 67/200, Loss: 2.9913, Train Acc: 0.5370, Val Acc: 0.5559\n"
     ]
    },
    {
     "name": "stdout",
     "output_type": "stream",
     "text": [
      "Epoch 67/200, Loss: 2.9913, Train Acc: 0.5370, Val Acc: 0.5559\n"
     ]
    },
    {
     "name": "stderr",
     "output_type": "stream",
     "text": [
      "Iterating eval graphs: 100%|██████████| 65/65 [00:11<00:00,  5.62batch/s]\n",
      "Epoch 68/200, Loss: 3.0021, Train Acc: 0.5373, Val Acc: 0.5569\n",
      "Epoch 68/200, Loss: 3.0021, Train Acc: 0.5373, Val Acc: 0.5569\n",
      "Epoch 68/200, Loss: 3.0021, Train Acc: 0.5373, Val Acc: 0.5569\n",
      "Epoch 68/200, Loss: 3.0021, Train Acc: 0.5373, Val Acc: 0.5569\n"
     ]
    },
    {
     "name": "stdout",
     "output_type": "stream",
     "text": [
      "Epoch 68/200, Loss: 3.0021, Train Acc: 0.5373, Val Acc: 0.5569\n",
      "Best model updated and saved at /home/onyxia/work/DL-Hackathon/hackaton/checkpoints/model_D_best.pth\n"
     ]
    },
    {
     "name": "stderr",
     "output_type": "stream",
     "text": [
      "Iterating eval graphs: 100%|██████████| 65/65 [00:11<00:00,  5.59batch/s]\n",
      "Epoch 69/200, Loss: 3.1811, Train Acc: 0.5308, Val Acc: 0.5618\n",
      "Epoch 69/200, Loss: 3.1811, Train Acc: 0.5308, Val Acc: 0.5618\n",
      "Epoch 69/200, Loss: 3.1811, Train Acc: 0.5308, Val Acc: 0.5618\n",
      "Epoch 69/200, Loss: 3.1811, Train Acc: 0.5308, Val Acc: 0.5618\n"
     ]
    },
    {
     "name": "stdout",
     "output_type": "stream",
     "text": [
      "Epoch 69/200, Loss: 3.1811, Train Acc: 0.5308, Val Acc: 0.5618\n",
      "Best model updated and saved at /home/onyxia/work/DL-Hackathon/hackaton/checkpoints/model_D_best.pth\n"
     ]
    },
    {
     "name": "stderr",
     "output_type": "stream",
     "text": [
      "Iterating eval graphs: 100%|██████████| 65/65 [00:11<00:00,  5.75batch/s]\n",
      "Epoch 70/200, Loss: 3.3090, Train Acc: 0.5336, Val Acc: 0.5229\n",
      "Epoch 70/200, Loss: 3.3090, Train Acc: 0.5336, Val Acc: 0.5229\n",
      "Epoch 70/200, Loss: 3.3090, Train Acc: 0.5336, Val Acc: 0.5229\n",
      "Epoch 70/200, Loss: 3.3090, Train Acc: 0.5336, Val Acc: 0.5229\n"
     ]
    },
    {
     "name": "stdout",
     "output_type": "stream",
     "text": [
      "Epoch 70/200, Loss: 3.3090, Train Acc: 0.5336, Val Acc: 0.5229\n"
     ]
    },
    {
     "name": "stderr",
     "output_type": "stream",
     "text": [
      "Iterating eval graphs: 100%|██████████| 65/65 [00:11<00:00,  5.57batch/s]\n",
      "Epoch 71/200, Loss: 3.3090, Train Acc: 0.5392, Val Acc: 0.5584\n",
      "Epoch 71/200, Loss: 3.3090, Train Acc: 0.5392, Val Acc: 0.5584\n",
      "Epoch 71/200, Loss: 3.3090, Train Acc: 0.5392, Val Acc: 0.5584\n",
      "Epoch 71/200, Loss: 3.3090, Train Acc: 0.5392, Val Acc: 0.5584\n"
     ]
    },
    {
     "name": "stdout",
     "output_type": "stream",
     "text": [
      "Epoch 71/200, Loss: 3.3090, Train Acc: 0.5392, Val Acc: 0.5584\n"
     ]
    },
    {
     "name": "stderr",
     "output_type": "stream",
     "text": [
      "Iterating eval graphs: 100%|██████████| 65/65 [00:11<00:00,  5.59batch/s]\n",
      "Epoch 72/200, Loss: 2.9302, Train Acc: 0.5527, Val Acc: 0.5520\n",
      "Epoch 72/200, Loss: 2.9302, Train Acc: 0.5527, Val Acc: 0.5520\n",
      "Epoch 72/200, Loss: 2.9302, Train Acc: 0.5527, Val Acc: 0.5520\n",
      "Epoch 72/200, Loss: 2.9302, Train Acc: 0.5527, Val Acc: 0.5520\n"
     ]
    },
    {
     "name": "stdout",
     "output_type": "stream",
     "text": [
      "Epoch 72/200, Loss: 2.9302, Train Acc: 0.5527, Val Acc: 0.5520\n"
     ]
    },
    {
     "name": "stderr",
     "output_type": "stream",
     "text": [
      "Iterating eval graphs: 100%|██████████| 65/65 [00:11<00:00,  5.57batch/s]\n",
      "Epoch 73/200, Loss: 3.0605, Train Acc: 0.5458, Val Acc: 0.5618\n",
      "Epoch 73/200, Loss: 3.0605, Train Acc: 0.5458, Val Acc: 0.5618\n",
      "Epoch 73/200, Loss: 3.0605, Train Acc: 0.5458, Val Acc: 0.5618\n",
      "Epoch 73/200, Loss: 3.0605, Train Acc: 0.5458, Val Acc: 0.5618\n"
     ]
    },
    {
     "name": "stdout",
     "output_type": "stream",
     "text": [
      "Epoch 73/200, Loss: 3.0605, Train Acc: 0.5458, Val Acc: 0.5618\n"
     ]
    },
    {
     "name": "stderr",
     "output_type": "stream",
     "text": [
      "Iterating eval graphs: 100%|██████████| 65/65 [00:11<00:00,  5.59batch/s]\n",
      "Epoch 74/200, Loss: 3.1456, Train Acc: 0.5497, Val Acc: 0.5632\n",
      "Epoch 74/200, Loss: 3.1456, Train Acc: 0.5497, Val Acc: 0.5632\n",
      "Epoch 74/200, Loss: 3.1456, Train Acc: 0.5497, Val Acc: 0.5632\n",
      "Epoch 74/200, Loss: 3.1456, Train Acc: 0.5497, Val Acc: 0.5632\n"
     ]
    },
    {
     "name": "stdout",
     "output_type": "stream",
     "text": [
      "Epoch 74/200, Loss: 3.1456, Train Acc: 0.5497, Val Acc: 0.5632\n",
      "Best model updated and saved at /home/onyxia/work/DL-Hackathon/hackaton/checkpoints/model_D_best.pth\n"
     ]
    },
    {
     "name": "stderr",
     "output_type": "stream",
     "text": [
      "Iterating eval graphs: 100%|██████████| 65/65 [00:11<00:00,  5.67batch/s]\n",
      "Epoch 75/200, Loss: 3.1322, Train Acc: 0.5483, Val Acc: 0.5686\n",
      "Epoch 75/200, Loss: 3.1322, Train Acc: 0.5483, Val Acc: 0.5686\n",
      "Epoch 75/200, Loss: 3.1322, Train Acc: 0.5483, Val Acc: 0.5686\n",
      "Epoch 75/200, Loss: 3.1322, Train Acc: 0.5483, Val Acc: 0.5686\n"
     ]
    },
    {
     "name": "stdout",
     "output_type": "stream",
     "text": [
      "Epoch 75/200, Loss: 3.1322, Train Acc: 0.5483, Val Acc: 0.5686\n",
      "Best model updated and saved at /home/onyxia/work/DL-Hackathon/hackaton/checkpoints/model_D_best.pth\n"
     ]
    },
    {
     "name": "stderr",
     "output_type": "stream",
     "text": [
      "Iterating eval graphs: 100%|██████████| 65/65 [00:11<00:00,  5.61batch/s]\n",
      "Epoch 76/200, Loss: 2.9855, Train Acc: 0.5489, Val Acc: 0.5598\n",
      "Epoch 76/200, Loss: 2.9855, Train Acc: 0.5489, Val Acc: 0.5598\n",
      "Epoch 76/200, Loss: 2.9855, Train Acc: 0.5489, Val Acc: 0.5598\n",
      "Epoch 76/200, Loss: 2.9855, Train Acc: 0.5489, Val Acc: 0.5598\n"
     ]
    },
    {
     "name": "stdout",
     "output_type": "stream",
     "text": [
      "Epoch 76/200, Loss: 2.9855, Train Acc: 0.5489, Val Acc: 0.5598\n"
     ]
    },
    {
     "name": "stderr",
     "output_type": "stream",
     "text": [
      "Iterating eval graphs: 100%|██████████| 65/65 [00:11<00:00,  5.71batch/s]\n",
      "Epoch 77/200, Loss: 3.0042, Train Acc: 0.5506, Val Acc: 0.5744\n",
      "Epoch 77/200, Loss: 3.0042, Train Acc: 0.5506, Val Acc: 0.5744\n",
      "Epoch 77/200, Loss: 3.0042, Train Acc: 0.5506, Val Acc: 0.5744\n",
      "Epoch 77/200, Loss: 3.0042, Train Acc: 0.5506, Val Acc: 0.5744\n"
     ]
    },
    {
     "name": "stdout",
     "output_type": "stream",
     "text": [
      "Epoch 77/200, Loss: 3.0042, Train Acc: 0.5506, Val Acc: 0.5744\n",
      "Best model updated and saved at /home/onyxia/work/DL-Hackathon/hackaton/checkpoints/model_D_best.pth\n"
     ]
    },
    {
     "name": "stderr",
     "output_type": "stream",
     "text": [
      "Iterating eval graphs: 100%|██████████| 65/65 [00:11<00:00,  5.56batch/s]\n",
      "Epoch 78/200, Loss: 2.8762, Train Acc: 0.5569, Val Acc: 0.5671\n",
      "Epoch 78/200, Loss: 2.8762, Train Acc: 0.5569, Val Acc: 0.5671\n",
      "Epoch 78/200, Loss: 2.8762, Train Acc: 0.5569, Val Acc: 0.5671\n",
      "Epoch 78/200, Loss: 2.8762, Train Acc: 0.5569, Val Acc: 0.5671\n"
     ]
    },
    {
     "name": "stdout",
     "output_type": "stream",
     "text": [
      "Epoch 78/200, Loss: 2.8762, Train Acc: 0.5569, Val Acc: 0.5671\n"
     ]
    },
    {
     "name": "stderr",
     "output_type": "stream",
     "text": [
      "Iterating eval graphs: 100%|██████████| 65/65 [00:11<00:00,  5.45batch/s]\n",
      "Epoch 79/200, Loss: 2.8318, Train Acc: 0.5536, Val Acc: 0.5647\n",
      "Epoch 79/200, Loss: 2.8318, Train Acc: 0.5536, Val Acc: 0.5647\n",
      "Epoch 79/200, Loss: 2.8318, Train Acc: 0.5536, Val Acc: 0.5647\n",
      "Epoch 79/200, Loss: 2.8318, Train Acc: 0.5536, Val Acc: 0.5647\n"
     ]
    },
    {
     "name": "stdout",
     "output_type": "stream",
     "text": [
      "Epoch 79/200, Loss: 2.8318, Train Acc: 0.5536, Val Acc: 0.5647\n"
     ]
    },
    {
     "name": "stderr",
     "output_type": "stream",
     "text": [
      "Iterating eval graphs: 100%|██████████| 65/65 [00:11<00:00,  5.62batch/s]\n",
      "Epoch 80/200, Loss: 2.8977, Train Acc: 0.5525, Val Acc: 0.5744\n",
      "Epoch 80/200, Loss: 2.8977, Train Acc: 0.5525, Val Acc: 0.5744\n",
      "Epoch 80/200, Loss: 2.8977, Train Acc: 0.5525, Val Acc: 0.5744\n",
      "Epoch 80/200, Loss: 2.8977, Train Acc: 0.5525, Val Acc: 0.5744\n"
     ]
    },
    {
     "name": "stdout",
     "output_type": "stream",
     "text": [
      "Epoch 80/200, Loss: 2.8977, Train Acc: 0.5525, Val Acc: 0.5744\n"
     ]
    },
    {
     "name": "stderr",
     "output_type": "stream",
     "text": [
      "Iterating eval graphs: 100%|██████████| 65/65 [00:11<00:00,  5.65batch/s]\n",
      "Epoch 81/200, Loss: 2.7020, Train Acc: 0.5631, Val Acc: 0.5433\n",
      "Epoch 81/200, Loss: 2.7020, Train Acc: 0.5631, Val Acc: 0.5433\n",
      "Epoch 81/200, Loss: 2.7020, Train Acc: 0.5631, Val Acc: 0.5433\n",
      "Epoch 81/200, Loss: 2.7020, Train Acc: 0.5631, Val Acc: 0.5433\n"
     ]
    },
    {
     "name": "stdout",
     "output_type": "stream",
     "text": [
      "Epoch 81/200, Loss: 2.7020, Train Acc: 0.5631, Val Acc: 0.5433\n"
     ]
    },
    {
     "name": "stderr",
     "output_type": "stream",
     "text": [
      "Iterating eval graphs: 100%|██████████| 65/65 [00:11<00:00,  5.56batch/s]\n",
      "Epoch 82/200, Loss: 2.7331, Train Acc: 0.5726, Val Acc: 0.5871\n",
      "Epoch 82/200, Loss: 2.7331, Train Acc: 0.5726, Val Acc: 0.5871\n",
      "Epoch 82/200, Loss: 2.7331, Train Acc: 0.5726, Val Acc: 0.5871\n",
      "Epoch 82/200, Loss: 2.7331, Train Acc: 0.5726, Val Acc: 0.5871\n"
     ]
    },
    {
     "name": "stdout",
     "output_type": "stream",
     "text": [
      "Epoch 82/200, Loss: 2.7331, Train Acc: 0.5726, Val Acc: 0.5871\n",
      "Best model updated and saved at /home/onyxia/work/DL-Hackathon/hackaton/checkpoints/model_D_best.pth\n"
     ]
    },
    {
     "name": "stderr",
     "output_type": "stream",
     "text": [
      "Iterating eval graphs: 100%|██████████| 65/65 [00:11<00:00,  5.45batch/s]\n",
      "Epoch 83/200, Loss: 2.8418, Train Acc: 0.5706, Val Acc: 0.5793\n",
      "Epoch 83/200, Loss: 2.8418, Train Acc: 0.5706, Val Acc: 0.5793\n",
      "Epoch 83/200, Loss: 2.8418, Train Acc: 0.5706, Val Acc: 0.5793\n",
      "Epoch 83/200, Loss: 2.8418, Train Acc: 0.5706, Val Acc: 0.5793\n"
     ]
    },
    {
     "name": "stdout",
     "output_type": "stream",
     "text": [
      "Epoch 83/200, Loss: 2.8418, Train Acc: 0.5706, Val Acc: 0.5793\n"
     ]
    },
    {
     "name": "stderr",
     "output_type": "stream",
     "text": [
      "Iterating eval graphs: 100%|██████████| 65/65 [00:11<00:00,  5.55batch/s]\n",
      "Epoch 84/200, Loss: 2.7514, Train Acc: 0.5685, Val Acc: 0.5477\n",
      "Epoch 84/200, Loss: 2.7514, Train Acc: 0.5685, Val Acc: 0.5477\n",
      "Epoch 84/200, Loss: 2.7514, Train Acc: 0.5685, Val Acc: 0.5477\n",
      "Epoch 84/200, Loss: 2.7514, Train Acc: 0.5685, Val Acc: 0.5477\n"
     ]
    },
    {
     "name": "stdout",
     "output_type": "stream",
     "text": [
      "Epoch 84/200, Loss: 2.7514, Train Acc: 0.5685, Val Acc: 0.5477\n"
     ]
    },
    {
     "name": "stderr",
     "output_type": "stream",
     "text": [
      "Iterating eval graphs: 100%|██████████| 65/65 [00:12<00:00,  5.41batch/s]\n",
      "Epoch 85/200, Loss: 2.7690, Train Acc: 0.5598, Val Acc: 0.5803\n",
      "Epoch 85/200, Loss: 2.7690, Train Acc: 0.5598, Val Acc: 0.5803\n",
      "Epoch 85/200, Loss: 2.7690, Train Acc: 0.5598, Val Acc: 0.5803\n",
      "Epoch 85/200, Loss: 2.7690, Train Acc: 0.5598, Val Acc: 0.5803\n"
     ]
    },
    {
     "name": "stdout",
     "output_type": "stream",
     "text": [
      "Epoch 85/200, Loss: 2.7690, Train Acc: 0.5598, Val Acc: 0.5803\n"
     ]
    },
    {
     "name": "stderr",
     "output_type": "stream",
     "text": [
      "Iterating eval graphs: 100%|██████████| 65/65 [00:11<00:00,  5.70batch/s]\n",
      "Epoch 86/200, Loss: 2.6890, Train Acc: 0.5609, Val Acc: 0.5910\n",
      "Epoch 86/200, Loss: 2.6890, Train Acc: 0.5609, Val Acc: 0.5910\n",
      "Epoch 86/200, Loss: 2.6890, Train Acc: 0.5609, Val Acc: 0.5910\n",
      "Epoch 86/200, Loss: 2.6890, Train Acc: 0.5609, Val Acc: 0.5910\n"
     ]
    },
    {
     "name": "stdout",
     "output_type": "stream",
     "text": [
      "Epoch 86/200, Loss: 2.6890, Train Acc: 0.5609, Val Acc: 0.5910\n",
      "Best model updated and saved at /home/onyxia/work/DL-Hackathon/hackaton/checkpoints/model_D_best.pth\n"
     ]
    },
    {
     "name": "stderr",
     "output_type": "stream",
     "text": [
      "Iterating eval graphs: 100%|██████████| 65/65 [00:11<00:00,  5.67batch/s]\n",
      "Epoch 87/200, Loss: 2.6203, Train Acc: 0.5728, Val Acc: 0.5807\n",
      "Epoch 87/200, Loss: 2.6203, Train Acc: 0.5728, Val Acc: 0.5807\n",
      "Epoch 87/200, Loss: 2.6203, Train Acc: 0.5728, Val Acc: 0.5807\n",
      "Epoch 87/200, Loss: 2.6203, Train Acc: 0.5728, Val Acc: 0.5807\n"
     ]
    },
    {
     "name": "stdout",
     "output_type": "stream",
     "text": [
      "Epoch 87/200, Loss: 2.6203, Train Acc: 0.5728, Val Acc: 0.5807\n"
     ]
    },
    {
     "name": "stderr",
     "output_type": "stream",
     "text": [
      "Iterating eval graphs: 100%|██████████| 65/65 [00:11<00:00,  5.51batch/s]\n",
      "Epoch 88/200, Loss: 2.6974, Train Acc: 0.5792, Val Acc: 0.5657\n",
      "Epoch 88/200, Loss: 2.6974, Train Acc: 0.5792, Val Acc: 0.5657\n",
      "Epoch 88/200, Loss: 2.6974, Train Acc: 0.5792, Val Acc: 0.5657\n",
      "Epoch 88/200, Loss: 2.6974, Train Acc: 0.5792, Val Acc: 0.5657\n"
     ]
    },
    {
     "name": "stdout",
     "output_type": "stream",
     "text": [
      "Epoch 88/200, Loss: 2.6974, Train Acc: 0.5792, Val Acc: 0.5657\n"
     ]
    },
    {
     "name": "stderr",
     "output_type": "stream",
     "text": [
      "Iterating eval graphs: 100%|██████████| 65/65 [00:11<00:00,  5.50batch/s]\n",
      "Epoch 89/200, Loss: 2.7664, Train Acc: 0.5654, Val Acc: 0.5734\n",
      "Epoch 89/200, Loss: 2.7664, Train Acc: 0.5654, Val Acc: 0.5734\n",
      "Epoch 89/200, Loss: 2.7664, Train Acc: 0.5654, Val Acc: 0.5734\n",
      "Epoch 89/200, Loss: 2.7664, Train Acc: 0.5654, Val Acc: 0.5734\n"
     ]
    },
    {
     "name": "stdout",
     "output_type": "stream",
     "text": [
      "Epoch 89/200, Loss: 2.7664, Train Acc: 0.5654, Val Acc: 0.5734\n"
     ]
    },
    {
     "name": "stderr",
     "output_type": "stream",
     "text": [
      "Iterating eval graphs: 100%|██████████| 65/65 [00:11<00:00,  5.51batch/s]\n",
      "Epoch 90/200, Loss: 2.5881, Train Acc: 0.5793, Val Acc: 0.5793\n",
      "Epoch 90/200, Loss: 2.5881, Train Acc: 0.5793, Val Acc: 0.5793\n",
      "Epoch 90/200, Loss: 2.5881, Train Acc: 0.5793, Val Acc: 0.5793\n",
      "Epoch 90/200, Loss: 2.5881, Train Acc: 0.5793, Val Acc: 0.5793\n"
     ]
    },
    {
     "name": "stdout",
     "output_type": "stream",
     "text": [
      "Epoch 90/200, Loss: 2.5881, Train Acc: 0.5793, Val Acc: 0.5793\n"
     ]
    },
    {
     "name": "stderr",
     "output_type": "stream",
     "text": [
      "Iterating eval graphs: 100%|██████████| 65/65 [00:11<00:00,  5.54batch/s]\n",
      "Epoch 91/200, Loss: 2.7891, Train Acc: 0.5720, Val Acc: 0.5788\n",
      "Epoch 91/200, Loss: 2.7891, Train Acc: 0.5720, Val Acc: 0.5788\n",
      "Epoch 91/200, Loss: 2.7891, Train Acc: 0.5720, Val Acc: 0.5788\n",
      "Epoch 91/200, Loss: 2.7891, Train Acc: 0.5720, Val Acc: 0.5788\n"
     ]
    },
    {
     "name": "stdout",
     "output_type": "stream",
     "text": [
      "Epoch 91/200, Loss: 2.7891, Train Acc: 0.5720, Val Acc: 0.5788\n"
     ]
    },
    {
     "name": "stderr",
     "output_type": "stream",
     "text": [
      "Iterating eval graphs: 100%|██████████| 65/65 [00:11<00:00,  5.78batch/s]\n",
      "Epoch 92/200, Loss: 2.5248, Train Acc: 0.5742, Val Acc: 0.5939\n",
      "Epoch 92/200, Loss: 2.5248, Train Acc: 0.5742, Val Acc: 0.5939\n",
      "Epoch 92/200, Loss: 2.5248, Train Acc: 0.5742, Val Acc: 0.5939\n",
      "Epoch 92/200, Loss: 2.5248, Train Acc: 0.5742, Val Acc: 0.5939\n"
     ]
    },
    {
     "name": "stdout",
     "output_type": "stream",
     "text": [
      "Epoch 92/200, Loss: 2.5248, Train Acc: 0.5742, Val Acc: 0.5939\n",
      "Best model updated and saved at /home/onyxia/work/DL-Hackathon/hackaton/checkpoints/model_D_best.pth\n"
     ]
    },
    {
     "name": "stderr",
     "output_type": "stream",
     "text": [
      "Iterating eval graphs: 100%|██████████| 65/65 [00:11<00:00,  5.62batch/s]\n",
      "Epoch 93/200, Loss: 3.1144, Train Acc: 0.5719, Val Acc: 0.5827\n",
      "Epoch 93/200, Loss: 3.1144, Train Acc: 0.5719, Val Acc: 0.5827\n",
      "Epoch 93/200, Loss: 3.1144, Train Acc: 0.5719, Val Acc: 0.5827\n",
      "Epoch 93/200, Loss: 3.1144, Train Acc: 0.5719, Val Acc: 0.5827\n"
     ]
    },
    {
     "name": "stdout",
     "output_type": "stream",
     "text": [
      "Epoch 93/200, Loss: 3.1144, Train Acc: 0.5719, Val Acc: 0.5827\n"
     ]
    },
    {
     "name": "stderr",
     "output_type": "stream",
     "text": [
      "Iterating eval graphs: 100%|██████████| 65/65 [00:11<00:00,  5.77batch/s]\n",
      "Epoch 94/200, Loss: 2.6968, Train Acc: 0.5670, Val Acc: 0.5768\n",
      "Epoch 94/200, Loss: 2.6968, Train Acc: 0.5670, Val Acc: 0.5768\n",
      "Epoch 94/200, Loss: 2.6968, Train Acc: 0.5670, Val Acc: 0.5768\n",
      "Epoch 94/200, Loss: 2.6968, Train Acc: 0.5670, Val Acc: 0.5768\n"
     ]
    },
    {
     "name": "stdout",
     "output_type": "stream",
     "text": [
      "Epoch 94/200, Loss: 2.6968, Train Acc: 0.5670, Val Acc: 0.5768\n"
     ]
    },
    {
     "name": "stderr",
     "output_type": "stream",
     "text": [
      "Iterating eval graphs: 100%|██████████| 65/65 [00:11<00:00,  5.68batch/s]\n",
      "Epoch 95/200, Loss: 2.6970, Train Acc: 0.5779, Val Acc: 0.5812\n",
      "Epoch 95/200, Loss: 2.6970, Train Acc: 0.5779, Val Acc: 0.5812\n",
      "Epoch 95/200, Loss: 2.6970, Train Acc: 0.5779, Val Acc: 0.5812\n",
      "Epoch 95/200, Loss: 2.6970, Train Acc: 0.5779, Val Acc: 0.5812\n"
     ]
    },
    {
     "name": "stdout",
     "output_type": "stream",
     "text": [
      "Epoch 95/200, Loss: 2.6970, Train Acc: 0.5779, Val Acc: 0.5812\n"
     ]
    },
    {
     "name": "stderr",
     "output_type": "stream",
     "text": [
      "Iterating eval graphs: 100%|██████████| 65/65 [00:11<00:00,  5.69batch/s]\n",
      "Epoch 96/200, Loss: 2.5508, Train Acc: 0.5781, Val Acc: 0.5705\n",
      "Epoch 96/200, Loss: 2.5508, Train Acc: 0.5781, Val Acc: 0.5705\n",
      "Epoch 96/200, Loss: 2.5508, Train Acc: 0.5781, Val Acc: 0.5705\n",
      "Epoch 96/200, Loss: 2.5508, Train Acc: 0.5781, Val Acc: 0.5705\n"
     ]
    },
    {
     "name": "stdout",
     "output_type": "stream",
     "text": [
      "Epoch 96/200, Loss: 2.5508, Train Acc: 0.5781, Val Acc: 0.5705\n"
     ]
    },
    {
     "name": "stderr",
     "output_type": "stream",
     "text": [
      "Iterating eval graphs: 100%|██████████| 65/65 [00:11<00:00,  5.53batch/s]\n",
      "Epoch 97/200, Loss: 2.5890, Train Acc: 0.5843, Val Acc: 0.5866\n",
      "Epoch 97/200, Loss: 2.5890, Train Acc: 0.5843, Val Acc: 0.5866\n",
      "Epoch 97/200, Loss: 2.5890, Train Acc: 0.5843, Val Acc: 0.5866\n",
      "Epoch 97/200, Loss: 2.5890, Train Acc: 0.5843, Val Acc: 0.5866\n"
     ]
    },
    {
     "name": "stdout",
     "output_type": "stream",
     "text": [
      "Epoch 97/200, Loss: 2.5890, Train Acc: 0.5843, Val Acc: 0.5866\n"
     ]
    },
    {
     "name": "stderr",
     "output_type": "stream",
     "text": [
      "Iterating eval graphs: 100%|██████████| 65/65 [00:11<00:00,  5.68batch/s]\n",
      "Epoch 98/200, Loss: 2.4554, Train Acc: 0.5920, Val Acc: 0.5924\n",
      "Epoch 98/200, Loss: 2.4554, Train Acc: 0.5920, Val Acc: 0.5924\n",
      "Epoch 98/200, Loss: 2.4554, Train Acc: 0.5920, Val Acc: 0.5924\n",
      "Epoch 98/200, Loss: 2.4554, Train Acc: 0.5920, Val Acc: 0.5924\n"
     ]
    },
    {
     "name": "stdout",
     "output_type": "stream",
     "text": [
      "Epoch 98/200, Loss: 2.4554, Train Acc: 0.5920, Val Acc: 0.5924\n"
     ]
    },
    {
     "name": "stderr",
     "output_type": "stream",
     "text": [
      "Iterating eval graphs: 100%|██████████| 65/65 [00:11<00:00,  5.68batch/s]\n",
      "Epoch 99/200, Loss: 2.6472, Train Acc: 0.5901, Val Acc: 0.5535\n",
      "Epoch 99/200, Loss: 2.6472, Train Acc: 0.5901, Val Acc: 0.5535\n",
      "Epoch 99/200, Loss: 2.6472, Train Acc: 0.5901, Val Acc: 0.5535\n",
      "Epoch 99/200, Loss: 2.6472, Train Acc: 0.5901, Val Acc: 0.5535\n"
     ]
    },
    {
     "name": "stdout",
     "output_type": "stream",
     "text": [
      "Epoch 99/200, Loss: 2.6472, Train Acc: 0.5901, Val Acc: 0.5535\n"
     ]
    },
    {
     "name": "stderr",
     "output_type": "stream",
     "text": [
      "Iterating eval graphs: 100%|██████████| 65/65 [00:11<00:00,  5.46batch/s]\n",
      "Epoch 100/200, Loss: 2.4553, Train Acc: 0.5863, Val Acc: 0.5759\n",
      "Epoch 100/200, Loss: 2.4553, Train Acc: 0.5863, Val Acc: 0.5759\n",
      "Epoch 100/200, Loss: 2.4553, Train Acc: 0.5863, Val Acc: 0.5759\n",
      "Epoch 100/200, Loss: 2.4553, Train Acc: 0.5863, Val Acc: 0.5759\n"
     ]
    },
    {
     "name": "stdout",
     "output_type": "stream",
     "text": [
      "Epoch 100/200, Loss: 2.4553, Train Acc: 0.5863, Val Acc: 0.5759\n"
     ]
    },
    {
     "name": "stderr",
     "output_type": "stream",
     "text": [
      "Iterating eval graphs: 100%|██████████| 65/65 [00:11<00:00,  5.50batch/s]\n",
      "Epoch 101/200, Loss: 2.4737, Train Acc: 0.5931, Val Acc: 0.6002\n",
      "Epoch 101/200, Loss: 2.4737, Train Acc: 0.5931, Val Acc: 0.6002\n",
      "Epoch 101/200, Loss: 2.4737, Train Acc: 0.5931, Val Acc: 0.6002\n",
      "Epoch 101/200, Loss: 2.4737, Train Acc: 0.5931, Val Acc: 0.6002\n"
     ]
    },
    {
     "name": "stdout",
     "output_type": "stream",
     "text": [
      "Epoch 101/200, Loss: 2.4737, Train Acc: 0.5931, Val Acc: 0.6002\n",
      "Best model updated and saved at /home/onyxia/work/DL-Hackathon/hackaton/checkpoints/model_D_best.pth\n"
     ]
    },
    {
     "name": "stderr",
     "output_type": "stream",
     "text": [
      "Iterating eval graphs: 100%|██████████| 65/65 [00:11<00:00,  5.57batch/s]\n",
      "Epoch 102/200, Loss: 2.5370, Train Acc: 0.5890, Val Acc: 0.5968\n",
      "Epoch 102/200, Loss: 2.5370, Train Acc: 0.5890, Val Acc: 0.5968\n",
      "Epoch 102/200, Loss: 2.5370, Train Acc: 0.5890, Val Acc: 0.5968\n",
      "Epoch 102/200, Loss: 2.5370, Train Acc: 0.5890, Val Acc: 0.5968\n"
     ]
    },
    {
     "name": "stdout",
     "output_type": "stream",
     "text": [
      "Epoch 102/200, Loss: 2.5370, Train Acc: 0.5890, Val Acc: 0.5968\n"
     ]
    },
    {
     "name": "stderr",
     "output_type": "stream",
     "text": [
      "Iterating eval graphs: 100%|██████████| 65/65 [00:11<00:00,  5.50batch/s]\n",
      "Epoch 103/200, Loss: 2.5589, Train Acc: 0.5872, Val Acc: 0.5681\n",
      "Epoch 103/200, Loss: 2.5589, Train Acc: 0.5872, Val Acc: 0.5681\n",
      "Epoch 103/200, Loss: 2.5589, Train Acc: 0.5872, Val Acc: 0.5681\n",
      "Epoch 103/200, Loss: 2.5589, Train Acc: 0.5872, Val Acc: 0.5681\n"
     ]
    },
    {
     "name": "stdout",
     "output_type": "stream",
     "text": [
      "Epoch 103/200, Loss: 2.5589, Train Acc: 0.5872, Val Acc: 0.5681\n"
     ]
    },
    {
     "name": "stderr",
     "output_type": "stream",
     "text": [
      "Iterating eval graphs: 100%|██████████| 65/65 [00:11<00:00,  5.48batch/s]\n",
      "Epoch 104/200, Loss: 2.5673, Train Acc: 0.5835, Val Acc: 0.5355\n",
      "Epoch 104/200, Loss: 2.5673, Train Acc: 0.5835, Val Acc: 0.5355\n",
      "Epoch 104/200, Loss: 2.5673, Train Acc: 0.5835, Val Acc: 0.5355\n",
      "Epoch 104/200, Loss: 2.5673, Train Acc: 0.5835, Val Acc: 0.5355\n"
     ]
    },
    {
     "name": "stdout",
     "output_type": "stream",
     "text": [
      "Epoch 104/200, Loss: 2.5673, Train Acc: 0.5835, Val Acc: 0.5355\n"
     ]
    },
    {
     "name": "stderr",
     "output_type": "stream",
     "text": [
      "Iterating eval graphs: 100%|██████████| 65/65 [00:11<00:00,  5.70batch/s]\n",
      "Epoch 105/200, Loss: 2.6783, Train Acc: 0.5934, Val Acc: 0.5589\n",
      "Epoch 105/200, Loss: 2.6783, Train Acc: 0.5934, Val Acc: 0.5589\n",
      "Epoch 105/200, Loss: 2.6783, Train Acc: 0.5934, Val Acc: 0.5589\n",
      "Epoch 105/200, Loss: 2.6783, Train Acc: 0.5934, Val Acc: 0.5589\n"
     ]
    },
    {
     "name": "stdout",
     "output_type": "stream",
     "text": [
      "Epoch 105/200, Loss: 2.6783, Train Acc: 0.5934, Val Acc: 0.5589\n"
     ]
    },
    {
     "name": "stderr",
     "output_type": "stream",
     "text": [
      "Iterating eval graphs: 100%|██████████| 65/65 [00:11<00:00,  5.57batch/s]\n",
      "Epoch 106/200, Loss: 2.2783, Train Acc: 0.5982, Val Acc: 0.6002\n",
      "Epoch 106/200, Loss: 2.2783, Train Acc: 0.5982, Val Acc: 0.6002\n",
      "Epoch 106/200, Loss: 2.2783, Train Acc: 0.5982, Val Acc: 0.6002\n",
      "Epoch 106/200, Loss: 2.2783, Train Acc: 0.5982, Val Acc: 0.6002\n"
     ]
    },
    {
     "name": "stdout",
     "output_type": "stream",
     "text": [
      "Epoch 106/200, Loss: 2.2783, Train Acc: 0.5982, Val Acc: 0.6002\n"
     ]
    },
    {
     "name": "stderr",
     "output_type": "stream",
     "text": [
      "Iterating eval graphs: 100%|██████████| 65/65 [00:11<00:00,  5.65batch/s]\n",
      "Epoch 107/200, Loss: 2.4675, Train Acc: 0.5963, Val Acc: 0.5958\n",
      "Epoch 107/200, Loss: 2.4675, Train Acc: 0.5963, Val Acc: 0.5958\n",
      "Epoch 107/200, Loss: 2.4675, Train Acc: 0.5963, Val Acc: 0.5958\n",
      "Epoch 107/200, Loss: 2.4675, Train Acc: 0.5963, Val Acc: 0.5958\n"
     ]
    },
    {
     "name": "stdout",
     "output_type": "stream",
     "text": [
      "Epoch 107/200, Loss: 2.4675, Train Acc: 0.5963, Val Acc: 0.5958\n"
     ]
    },
    {
     "name": "stderr",
     "output_type": "stream",
     "text": [
      "Iterating eval graphs: 100%|██████████| 65/65 [00:11<00:00,  5.49batch/s]\n",
      "Epoch 108/200, Loss: 2.4682, Train Acc: 0.5965, Val Acc: 0.5676\n",
      "Epoch 108/200, Loss: 2.4682, Train Acc: 0.5965, Val Acc: 0.5676\n",
      "Epoch 108/200, Loss: 2.4682, Train Acc: 0.5965, Val Acc: 0.5676\n",
      "Epoch 108/200, Loss: 2.4682, Train Acc: 0.5965, Val Acc: 0.5676\n"
     ]
    },
    {
     "name": "stdout",
     "output_type": "stream",
     "text": [
      "Epoch 108/200, Loss: 2.4682, Train Acc: 0.5965, Val Acc: 0.5676\n"
     ]
    },
    {
     "name": "stderr",
     "output_type": "stream",
     "text": [
      "Iterating eval graphs: 100%|██████████| 65/65 [00:11<00:00,  5.63batch/s]\n",
      "Epoch 109/200, Loss: 2.6168, Train Acc: 0.5833, Val Acc: 0.5511\n",
      "Epoch 109/200, Loss: 2.6168, Train Acc: 0.5833, Val Acc: 0.5511\n",
      "Epoch 109/200, Loss: 2.6168, Train Acc: 0.5833, Val Acc: 0.5511\n",
      "Epoch 109/200, Loss: 2.6168, Train Acc: 0.5833, Val Acc: 0.5511\n"
     ]
    },
    {
     "name": "stdout",
     "output_type": "stream",
     "text": [
      "Epoch 109/200, Loss: 2.6168, Train Acc: 0.5833, Val Acc: 0.5511\n"
     ]
    },
    {
     "name": "stderr",
     "output_type": "stream",
     "text": [
      "Iterating eval graphs: 100%|██████████| 65/65 [00:11<00:00,  5.53batch/s]\n",
      "Epoch 110/200, Loss: 2.3939, Train Acc: 0.5980, Val Acc: 0.5905\n",
      "Epoch 110/200, Loss: 2.3939, Train Acc: 0.5980, Val Acc: 0.5905\n",
      "Epoch 110/200, Loss: 2.3939, Train Acc: 0.5980, Val Acc: 0.5905\n",
      "Epoch 110/200, Loss: 2.3939, Train Acc: 0.5980, Val Acc: 0.5905\n"
     ]
    },
    {
     "name": "stdout",
     "output_type": "stream",
     "text": [
      "Epoch 110/200, Loss: 2.3939, Train Acc: 0.5980, Val Acc: 0.5905\n"
     ]
    },
    {
     "name": "stderr",
     "output_type": "stream",
     "text": [
      "Iterating eval graphs: 100%|██████████| 65/65 [00:11<00:00,  5.63batch/s]\n",
      "Epoch 111/200, Loss: 2.3560, Train Acc: 0.6036, Val Acc: 0.5890\n",
      "Epoch 111/200, Loss: 2.3560, Train Acc: 0.6036, Val Acc: 0.5890\n",
      "Epoch 111/200, Loss: 2.3560, Train Acc: 0.6036, Val Acc: 0.5890\n",
      "Epoch 111/200, Loss: 2.3560, Train Acc: 0.6036, Val Acc: 0.5890\n"
     ]
    },
    {
     "name": "stdout",
     "output_type": "stream",
     "text": [
      "Epoch 111/200, Loss: 2.3560, Train Acc: 0.6036, Val Acc: 0.5890\n"
     ]
    },
    {
     "name": "stderr",
     "output_type": "stream",
     "text": [
      "Iterating eval graphs: 100%|██████████| 65/65 [00:11<00:00,  5.50batch/s]\n",
      "Epoch 112/200, Loss: 2.4490, Train Acc: 0.5980, Val Acc: 0.6012\n",
      "Epoch 112/200, Loss: 2.4490, Train Acc: 0.5980, Val Acc: 0.6012\n",
      "Epoch 112/200, Loss: 2.4490, Train Acc: 0.5980, Val Acc: 0.6012\n",
      "Epoch 112/200, Loss: 2.4490, Train Acc: 0.5980, Val Acc: 0.6012\n"
     ]
    },
    {
     "name": "stdout",
     "output_type": "stream",
     "text": [
      "Epoch 112/200, Loss: 2.4490, Train Acc: 0.5980, Val Acc: 0.6012\n",
      "Best model updated and saved at /home/onyxia/work/DL-Hackathon/hackaton/checkpoints/model_D_best.pth\n"
     ]
    },
    {
     "name": "stderr",
     "output_type": "stream",
     "text": [
      "Iterating eval graphs: 100%|██████████| 65/65 [00:12<00:00,  5.34batch/s]\n",
      "Epoch 113/200, Loss: 2.3444, Train Acc: 0.5965, Val Acc: 0.5885\n",
      "Epoch 113/200, Loss: 2.3444, Train Acc: 0.5965, Val Acc: 0.5885\n",
      "Epoch 113/200, Loss: 2.3444, Train Acc: 0.5965, Val Acc: 0.5885\n",
      "Epoch 113/200, Loss: 2.3444, Train Acc: 0.5965, Val Acc: 0.5885\n"
     ]
    },
    {
     "name": "stdout",
     "output_type": "stream",
     "text": [
      "Epoch 113/200, Loss: 2.3444, Train Acc: 0.5965, Val Acc: 0.5885\n"
     ]
    },
    {
     "name": "stderr",
     "output_type": "stream",
     "text": [
      "Iterating eval graphs: 100%|██████████| 65/65 [00:11<00:00,  5.61batch/s]\n",
      "Epoch 114/200, Loss: 2.4071, Train Acc: 0.6060, Val Acc: 0.5929\n",
      "Epoch 114/200, Loss: 2.4071, Train Acc: 0.6060, Val Acc: 0.5929\n",
      "Epoch 114/200, Loss: 2.4071, Train Acc: 0.6060, Val Acc: 0.5929\n",
      "Epoch 114/200, Loss: 2.4071, Train Acc: 0.6060, Val Acc: 0.5929\n"
     ]
    },
    {
     "name": "stdout",
     "output_type": "stream",
     "text": [
      "Epoch 114/200, Loss: 2.4071, Train Acc: 0.6060, Val Acc: 0.5929\n"
     ]
    },
    {
     "name": "stderr",
     "output_type": "stream",
     "text": [
      "Iterating eval graphs: 100%|██████████| 65/65 [00:11<00:00,  5.67batch/s]\n",
      "Epoch 115/200, Loss: 2.3423, Train Acc: 0.6077, Val Acc: 0.3050\n",
      "Epoch 115/200, Loss: 2.3423, Train Acc: 0.6077, Val Acc: 0.3050\n",
      "Epoch 115/200, Loss: 2.3423, Train Acc: 0.6077, Val Acc: 0.3050\n",
      "Epoch 115/200, Loss: 2.3423, Train Acc: 0.6077, Val Acc: 0.3050\n"
     ]
    },
    {
     "name": "stdout",
     "output_type": "stream",
     "text": [
      "Epoch 115/200, Loss: 2.3423, Train Acc: 0.6077, Val Acc: 0.3050\n"
     ]
    },
    {
     "name": "stderr",
     "output_type": "stream",
     "text": [
      "Iterating eval graphs: 100%|██████████| 65/65 [00:11<00:00,  5.50batch/s]\n",
      "Epoch 116/200, Loss: 2.2440, Train Acc: 0.6088, Val Acc: 0.5958\n",
      "Epoch 116/200, Loss: 2.2440, Train Acc: 0.6088, Val Acc: 0.5958\n",
      "Epoch 116/200, Loss: 2.2440, Train Acc: 0.6088, Val Acc: 0.5958\n",
      "Epoch 116/200, Loss: 2.2440, Train Acc: 0.6088, Val Acc: 0.5958\n"
     ]
    },
    {
     "name": "stdout",
     "output_type": "stream",
     "text": [
      "Epoch 116/200, Loss: 2.2440, Train Acc: 0.6088, Val Acc: 0.5958\n"
     ]
    },
    {
     "name": "stderr",
     "output_type": "stream",
     "text": [
      "Iterating eval graphs: 100%|██████████| 65/65 [00:11<00:00,  5.58batch/s]\n",
      "Epoch 117/200, Loss: 2.2804, Train Acc: 0.6024, Val Acc: 0.6089\n",
      "Epoch 117/200, Loss: 2.2804, Train Acc: 0.6024, Val Acc: 0.6089\n",
      "Epoch 117/200, Loss: 2.2804, Train Acc: 0.6024, Val Acc: 0.6089\n",
      "Epoch 117/200, Loss: 2.2804, Train Acc: 0.6024, Val Acc: 0.6089\n"
     ]
    },
    {
     "name": "stdout",
     "output_type": "stream",
     "text": [
      "Epoch 117/200, Loss: 2.2804, Train Acc: 0.6024, Val Acc: 0.6089\n",
      "Best model updated and saved at /home/onyxia/work/DL-Hackathon/hackaton/checkpoints/model_D_best.pth\n"
     ]
    },
    {
     "name": "stderr",
     "output_type": "stream",
     "text": [
      "Iterating eval graphs: 100%|██████████| 65/65 [00:11<00:00,  5.60batch/s]\n",
      "Epoch 118/200, Loss: 2.0357, Train Acc: 0.6206, Val Acc: 0.6021\n",
      "Epoch 118/200, Loss: 2.0357, Train Acc: 0.6206, Val Acc: 0.6021\n",
      "Epoch 118/200, Loss: 2.0357, Train Acc: 0.6206, Val Acc: 0.6021\n",
      "Epoch 118/200, Loss: 2.0357, Train Acc: 0.6206, Val Acc: 0.6021\n"
     ]
    },
    {
     "name": "stdout",
     "output_type": "stream",
     "text": [
      "Epoch 118/200, Loss: 2.0357, Train Acc: 0.6206, Val Acc: 0.6021\n"
     ]
    },
    {
     "name": "stderr",
     "output_type": "stream",
     "text": [
      "Iterating eval graphs: 100%|██████████| 65/65 [00:11<00:00,  5.42batch/s]\n",
      "Epoch 119/200, Loss: 2.2216, Train Acc: 0.6153, Val Acc: 0.6031\n",
      "Epoch 119/200, Loss: 2.2216, Train Acc: 0.6153, Val Acc: 0.6031\n",
      "Epoch 119/200, Loss: 2.2216, Train Acc: 0.6153, Val Acc: 0.6031\n",
      "Epoch 119/200, Loss: 2.2216, Train Acc: 0.6153, Val Acc: 0.6031\n"
     ]
    },
    {
     "name": "stdout",
     "output_type": "stream",
     "text": [
      "Epoch 119/200, Loss: 2.2216, Train Acc: 0.6153, Val Acc: 0.6031\n"
     ]
    },
    {
     "name": "stderr",
     "output_type": "stream",
     "text": [
      "Iterating eval graphs: 100%|██████████| 65/65 [00:11<00:00,  5.56batch/s]\n",
      "Epoch 120/200, Loss: 2.2493, Train Acc: 0.6079, Val Acc: 0.6201\n",
      "Epoch 120/200, Loss: 2.2493, Train Acc: 0.6079, Val Acc: 0.6201\n",
      "Epoch 120/200, Loss: 2.2493, Train Acc: 0.6079, Val Acc: 0.6201\n",
      "Epoch 120/200, Loss: 2.2493, Train Acc: 0.6079, Val Acc: 0.6201\n"
     ]
    },
    {
     "name": "stdout",
     "output_type": "stream",
     "text": [
      "Epoch 120/200, Loss: 2.2493, Train Acc: 0.6079, Val Acc: 0.6201\n",
      "Best model updated and saved at /home/onyxia/work/DL-Hackathon/hackaton/checkpoints/model_D_best.pth\n"
     ]
    },
    {
     "name": "stderr",
     "output_type": "stream",
     "text": [
      "Iterating eval graphs: 100%|██████████| 65/65 [00:11<00:00,  5.54batch/s]\n",
      "Epoch 121/200, Loss: 2.2901, Train Acc: 0.6107, Val Acc: 0.5997\n",
      "Epoch 121/200, Loss: 2.2901, Train Acc: 0.6107, Val Acc: 0.5997\n",
      "Epoch 121/200, Loss: 2.2901, Train Acc: 0.6107, Val Acc: 0.5997\n",
      "Epoch 121/200, Loss: 2.2901, Train Acc: 0.6107, Val Acc: 0.5997\n"
     ]
    },
    {
     "name": "stdout",
     "output_type": "stream",
     "text": [
      "Epoch 121/200, Loss: 2.2901, Train Acc: 0.6107, Val Acc: 0.5997\n"
     ]
    },
    {
     "name": "stderr",
     "output_type": "stream",
     "text": [
      "Iterating eval graphs: 100%|██████████| 65/65 [00:12<00:00,  5.42batch/s]\n",
      "Epoch 122/200, Loss: 2.3029, Train Acc: 0.6116, Val Acc: 0.6051\n",
      "Epoch 122/200, Loss: 2.3029, Train Acc: 0.6116, Val Acc: 0.6051\n",
      "Epoch 122/200, Loss: 2.3029, Train Acc: 0.6116, Val Acc: 0.6051\n",
      "Epoch 122/200, Loss: 2.3029, Train Acc: 0.6116, Val Acc: 0.6051\n"
     ]
    },
    {
     "name": "stdout",
     "output_type": "stream",
     "text": [
      "Epoch 122/200, Loss: 2.3029, Train Acc: 0.6116, Val Acc: 0.6051\n"
     ]
    },
    {
     "name": "stderr",
     "output_type": "stream",
     "text": [
      "Iterating eval graphs: 100%|██████████| 65/65 [00:11<00:00,  5.56batch/s]\n",
      "Epoch 123/200, Loss: 2.4040, Train Acc: 0.6030, Val Acc: 0.6085\n",
      "Epoch 123/200, Loss: 2.4040, Train Acc: 0.6030, Val Acc: 0.6085\n",
      "Epoch 123/200, Loss: 2.4040, Train Acc: 0.6030, Val Acc: 0.6085\n",
      "Epoch 123/200, Loss: 2.4040, Train Acc: 0.6030, Val Acc: 0.6085\n"
     ]
    },
    {
     "name": "stdout",
     "output_type": "stream",
     "text": [
      "Epoch 123/200, Loss: 2.4040, Train Acc: 0.6030, Val Acc: 0.6085\n"
     ]
    },
    {
     "name": "stderr",
     "output_type": "stream",
     "text": [
      "Iterating eval graphs: 100%|██████████| 65/65 [00:11<00:00,  5.58batch/s]\n",
      "Epoch 124/200, Loss: 1.9571, Train Acc: 0.6257, Val Acc: 0.6104\n",
      "Epoch 124/200, Loss: 1.9571, Train Acc: 0.6257, Val Acc: 0.6104\n",
      "Epoch 124/200, Loss: 1.9571, Train Acc: 0.6257, Val Acc: 0.6104\n",
      "Epoch 124/200, Loss: 1.9571, Train Acc: 0.6257, Val Acc: 0.6104\n"
     ]
    },
    {
     "name": "stdout",
     "output_type": "stream",
     "text": [
      "Epoch 124/200, Loss: 1.9571, Train Acc: 0.6257, Val Acc: 0.6104\n"
     ]
    },
    {
     "name": "stderr",
     "output_type": "stream",
     "text": [
      "Iterating eval graphs: 100%|██████████| 65/65 [00:12<00:00,  5.30batch/s]\n",
      "Epoch 125/200, Loss: 2.3357, Train Acc: 0.6179, Val Acc: 0.5885\n",
      "Epoch 125/200, Loss: 2.3357, Train Acc: 0.6179, Val Acc: 0.5885\n",
      "Epoch 125/200, Loss: 2.3357, Train Acc: 0.6179, Val Acc: 0.5885\n",
      "Epoch 125/200, Loss: 2.3357, Train Acc: 0.6179, Val Acc: 0.5885\n"
     ]
    },
    {
     "name": "stdout",
     "output_type": "stream",
     "text": [
      "Epoch 125/200, Loss: 2.3357, Train Acc: 0.6179, Val Acc: 0.5885\n"
     ]
    },
    {
     "name": "stderr",
     "output_type": "stream",
     "text": [
      "Iterating eval graphs: 100%|██████████| 65/65 [00:11<00:00,  5.60batch/s]\n",
      "Epoch 126/200, Loss: 2.3001, Train Acc: 0.6051, Val Acc: 0.6177\n",
      "Epoch 126/200, Loss: 2.3001, Train Acc: 0.6051, Val Acc: 0.6177\n",
      "Epoch 126/200, Loss: 2.3001, Train Acc: 0.6051, Val Acc: 0.6177\n",
      "Epoch 126/200, Loss: 2.3001, Train Acc: 0.6051, Val Acc: 0.6177\n"
     ]
    },
    {
     "name": "stdout",
     "output_type": "stream",
     "text": [
      "Epoch 126/200, Loss: 2.3001, Train Acc: 0.6051, Val Acc: 0.6177\n"
     ]
    },
    {
     "name": "stderr",
     "output_type": "stream",
     "text": [
      "Iterating eval graphs: 100%|██████████| 65/65 [00:11<00:00,  5.72batch/s]\n",
      "Epoch 127/200, Loss: 2.2257, Train Acc: 0.6189, Val Acc: 0.6182\n",
      "Epoch 127/200, Loss: 2.2257, Train Acc: 0.6189, Val Acc: 0.6182\n",
      "Epoch 127/200, Loss: 2.2257, Train Acc: 0.6189, Val Acc: 0.6182\n",
      "Epoch 127/200, Loss: 2.2257, Train Acc: 0.6189, Val Acc: 0.6182\n"
     ]
    },
    {
     "name": "stdout",
     "output_type": "stream",
     "text": [
      "Epoch 127/200, Loss: 2.2257, Train Acc: 0.6189, Val Acc: 0.6182\n"
     ]
    },
    {
     "name": "stderr",
     "output_type": "stream",
     "text": [
      "Iterating eval graphs: 100%|██████████| 65/65 [00:11<00:00,  5.58batch/s]\n",
      "Epoch 128/200, Loss: 1.8605, Train Acc: 0.6384, Val Acc: 0.6206\n",
      "Epoch 128/200, Loss: 1.8605, Train Acc: 0.6384, Val Acc: 0.6206\n",
      "Epoch 128/200, Loss: 1.8605, Train Acc: 0.6384, Val Acc: 0.6206\n",
      "Epoch 128/200, Loss: 1.8605, Train Acc: 0.6384, Val Acc: 0.6206\n"
     ]
    },
    {
     "name": "stdout",
     "output_type": "stream",
     "text": [
      "Epoch 128/200, Loss: 1.8605, Train Acc: 0.6384, Val Acc: 0.6206\n",
      "Best model updated and saved at /home/onyxia/work/DL-Hackathon/hackaton/checkpoints/model_D_best.pth\n"
     ]
    },
    {
     "name": "stderr",
     "output_type": "stream",
     "text": [
      "Iterating eval graphs: 100%|██████████| 65/65 [00:11<00:00,  5.63batch/s]\n",
      "Epoch 129/200, Loss: 2.2043, Train Acc: 0.6221, Val Acc: 0.6211\n",
      "Epoch 129/200, Loss: 2.2043, Train Acc: 0.6221, Val Acc: 0.6211\n",
      "Epoch 129/200, Loss: 2.2043, Train Acc: 0.6221, Val Acc: 0.6211\n",
      "Epoch 129/200, Loss: 2.2043, Train Acc: 0.6221, Val Acc: 0.6211\n"
     ]
    },
    {
     "name": "stdout",
     "output_type": "stream",
     "text": [
      "Epoch 129/200, Loss: 2.2043, Train Acc: 0.6221, Val Acc: 0.6211\n",
      "Best model updated and saved at /home/onyxia/work/DL-Hackathon/hackaton/checkpoints/model_D_best.pth\n"
     ]
    },
    {
     "name": "stderr",
     "output_type": "stream",
     "text": [
      "Iterating eval graphs: 100%|██████████| 65/65 [00:11<00:00,  5.70batch/s]\n",
      "Epoch 130/200, Loss: 2.2974, Train Acc: 0.6204, Val Acc: 0.6196\n",
      "Epoch 130/200, Loss: 2.2974, Train Acc: 0.6204, Val Acc: 0.6196\n",
      "Epoch 130/200, Loss: 2.2974, Train Acc: 0.6204, Val Acc: 0.6196\n",
      "Epoch 130/200, Loss: 2.2974, Train Acc: 0.6204, Val Acc: 0.6196\n"
     ]
    },
    {
     "name": "stdout",
     "output_type": "stream",
     "text": [
      "Epoch 130/200, Loss: 2.2974, Train Acc: 0.6204, Val Acc: 0.6196\n"
     ]
    },
    {
     "name": "stderr",
     "output_type": "stream",
     "text": [
      "Iterating eval graphs: 100%|██████████| 65/65 [00:11<00:00,  5.56batch/s]\n",
      "Epoch 131/200, Loss: 2.1976, Train Acc: 0.6280, Val Acc: 0.6080\n",
      "Epoch 131/200, Loss: 2.1976, Train Acc: 0.6280, Val Acc: 0.6080\n",
      "Epoch 131/200, Loss: 2.1976, Train Acc: 0.6280, Val Acc: 0.6080\n",
      "Epoch 131/200, Loss: 2.1976, Train Acc: 0.6280, Val Acc: 0.6080\n"
     ]
    },
    {
     "name": "stdout",
     "output_type": "stream",
     "text": [
      "Epoch 131/200, Loss: 2.1976, Train Acc: 0.6280, Val Acc: 0.6080\n"
     ]
    },
    {
     "name": "stderr",
     "output_type": "stream",
     "text": [
      "Iterating eval graphs: 100%|██████████| 65/65 [00:11<00:00,  5.50batch/s]\n",
      "Epoch 132/200, Loss: 2.5007, Train Acc: 0.5957, Val Acc: 0.6109\n",
      "Epoch 132/200, Loss: 2.5007, Train Acc: 0.5957, Val Acc: 0.6109\n",
      "Epoch 132/200, Loss: 2.5007, Train Acc: 0.5957, Val Acc: 0.6109\n",
      "Epoch 132/200, Loss: 2.5007, Train Acc: 0.5957, Val Acc: 0.6109\n"
     ]
    },
    {
     "name": "stdout",
     "output_type": "stream",
     "text": [
      "Epoch 132/200, Loss: 2.5007, Train Acc: 0.5957, Val Acc: 0.6109\n"
     ]
    },
    {
     "name": "stderr",
     "output_type": "stream",
     "text": [
      "Iterating eval graphs: 100%|██████████| 65/65 [00:11<00:00,  5.45batch/s]\n",
      "Epoch 133/200, Loss: 2.6035, Train Acc: 0.5992, Val Acc: 0.6002\n",
      "Epoch 133/200, Loss: 2.6035, Train Acc: 0.5992, Val Acc: 0.6002\n",
      "Epoch 133/200, Loss: 2.6035, Train Acc: 0.5992, Val Acc: 0.6002\n",
      "Epoch 133/200, Loss: 2.6035, Train Acc: 0.5992, Val Acc: 0.6002\n"
     ]
    },
    {
     "name": "stdout",
     "output_type": "stream",
     "text": [
      "Epoch 133/200, Loss: 2.6035, Train Acc: 0.5992, Val Acc: 0.6002\n"
     ]
    },
    {
     "name": "stderr",
     "output_type": "stream",
     "text": [
      "Iterating eval graphs: 100%|██████████| 65/65 [00:11<00:00,  5.49batch/s]\n",
      "Epoch 134/200, Loss: 2.2426, Train Acc: 0.6144, Val Acc: 0.6206\n",
      "Epoch 134/200, Loss: 2.2426, Train Acc: 0.6144, Val Acc: 0.6206\n",
      "Epoch 134/200, Loss: 2.2426, Train Acc: 0.6144, Val Acc: 0.6206\n",
      "Epoch 134/200, Loss: 2.2426, Train Acc: 0.6144, Val Acc: 0.6206\n"
     ]
    },
    {
     "name": "stdout",
     "output_type": "stream",
     "text": [
      "Epoch 134/200, Loss: 2.2426, Train Acc: 0.6144, Val Acc: 0.6206\n"
     ]
    },
    {
     "name": "stderr",
     "output_type": "stream",
     "text": [
      "Iterating eval graphs: 100%|██████████| 65/65 [00:11<00:00,  5.74batch/s]\n",
      "Epoch 135/200, Loss: 2.0458, Train Acc: 0.6200, Val Acc: 0.6196\n",
      "Epoch 135/200, Loss: 2.0458, Train Acc: 0.6200, Val Acc: 0.6196\n",
      "Epoch 135/200, Loss: 2.0458, Train Acc: 0.6200, Val Acc: 0.6196\n",
      "Epoch 135/200, Loss: 2.0458, Train Acc: 0.6200, Val Acc: 0.6196\n"
     ]
    },
    {
     "name": "stdout",
     "output_type": "stream",
     "text": [
      "Epoch 135/200, Loss: 2.0458, Train Acc: 0.6200, Val Acc: 0.6196\n"
     ]
    },
    {
     "name": "stderr",
     "output_type": "stream",
     "text": [
      "Iterating eval graphs: 100%|██████████| 65/65 [00:11<00:00,  5.68batch/s]\n",
      "Epoch 136/200, Loss: 2.1595, Train Acc: 0.6290, Val Acc: 0.6250\n",
      "Epoch 136/200, Loss: 2.1595, Train Acc: 0.6290, Val Acc: 0.6250\n",
      "Epoch 136/200, Loss: 2.1595, Train Acc: 0.6290, Val Acc: 0.6250\n",
      "Epoch 136/200, Loss: 2.1595, Train Acc: 0.6290, Val Acc: 0.6250\n"
     ]
    },
    {
     "name": "stdout",
     "output_type": "stream",
     "text": [
      "Epoch 136/200, Loss: 2.1595, Train Acc: 0.6290, Val Acc: 0.6250\n",
      "Best model updated and saved at /home/onyxia/work/DL-Hackathon/hackaton/checkpoints/model_D_best.pth\n"
     ]
    },
    {
     "name": "stderr",
     "output_type": "stream",
     "text": [
      "Iterating eval graphs: 100%|██████████| 65/65 [00:11<00:00,  5.55batch/s]\n",
      "Epoch 137/200, Loss: 2.0533, Train Acc: 0.6358, Val Acc: 0.6430\n",
      "Epoch 137/200, Loss: 2.0533, Train Acc: 0.6358, Val Acc: 0.6430\n",
      "Epoch 137/200, Loss: 2.0533, Train Acc: 0.6358, Val Acc: 0.6430\n",
      "Epoch 137/200, Loss: 2.0533, Train Acc: 0.6358, Val Acc: 0.6430\n"
     ]
    },
    {
     "name": "stdout",
     "output_type": "stream",
     "text": [
      "Epoch 137/200, Loss: 2.0533, Train Acc: 0.6358, Val Acc: 0.6430\n",
      "Best model updated and saved at /home/onyxia/work/DL-Hackathon/hackaton/checkpoints/model_D_best.pth\n"
     ]
    },
    {
     "name": "stderr",
     "output_type": "stream",
     "text": [
      "Iterating eval graphs: 100%|██████████| 65/65 [00:11<00:00,  5.42batch/s]\n",
      "Epoch 138/200, Loss: 2.1010, Train Acc: 0.6300, Val Acc: 0.6308\n",
      "Epoch 138/200, Loss: 2.1010, Train Acc: 0.6300, Val Acc: 0.6308\n",
      "Epoch 138/200, Loss: 2.1010, Train Acc: 0.6300, Val Acc: 0.6308\n",
      "Epoch 138/200, Loss: 2.1010, Train Acc: 0.6300, Val Acc: 0.6308\n"
     ]
    },
    {
     "name": "stdout",
     "output_type": "stream",
     "text": [
      "Epoch 138/200, Loss: 2.1010, Train Acc: 0.6300, Val Acc: 0.6308\n"
     ]
    },
    {
     "name": "stderr",
     "output_type": "stream",
     "text": [
      "Iterating eval graphs: 100%|██████████| 65/65 [00:11<00:00,  5.76batch/s]\n",
      "Epoch 139/200, Loss: 2.1329, Train Acc: 0.6228, Val Acc: 0.6119\n",
      "Epoch 139/200, Loss: 2.1329, Train Acc: 0.6228, Val Acc: 0.6119\n",
      "Epoch 139/200, Loss: 2.1329, Train Acc: 0.6228, Val Acc: 0.6119\n",
      "Epoch 139/200, Loss: 2.1329, Train Acc: 0.6228, Val Acc: 0.6119\n"
     ]
    },
    {
     "name": "stdout",
     "output_type": "stream",
     "text": [
      "Epoch 139/200, Loss: 2.1329, Train Acc: 0.6228, Val Acc: 0.6119\n"
     ]
    },
    {
     "name": "stderr",
     "output_type": "stream",
     "text": [
      "Iterating eval graphs: 100%|██████████| 65/65 [00:11<00:00,  5.53batch/s]\n",
      "Epoch 140/200, Loss: 2.2672, Train Acc: 0.6244, Val Acc: 0.6435\n",
      "Epoch 140/200, Loss: 2.2672, Train Acc: 0.6244, Val Acc: 0.6435\n",
      "Epoch 140/200, Loss: 2.2672, Train Acc: 0.6244, Val Acc: 0.6435\n",
      "Epoch 140/200, Loss: 2.2672, Train Acc: 0.6244, Val Acc: 0.6435\n"
     ]
    },
    {
     "name": "stdout",
     "output_type": "stream",
     "text": [
      "Epoch 140/200, Loss: 2.2672, Train Acc: 0.6244, Val Acc: 0.6435\n",
      "Best model updated and saved at /home/onyxia/work/DL-Hackathon/hackaton/checkpoints/model_D_best.pth\n"
     ]
    },
    {
     "name": "stderr",
     "output_type": "stream",
     "text": [
      "Iterating eval graphs: 100%|██████████| 65/65 [00:11<00:00,  5.55batch/s]\n",
      "Epoch 141/200, Loss: 2.2764, Train Acc: 0.6325, Val Acc: 0.6313\n",
      "Epoch 141/200, Loss: 2.2764, Train Acc: 0.6325, Val Acc: 0.6313\n",
      "Epoch 141/200, Loss: 2.2764, Train Acc: 0.6325, Val Acc: 0.6313\n",
      "Epoch 141/200, Loss: 2.2764, Train Acc: 0.6325, Val Acc: 0.6313\n"
     ]
    },
    {
     "name": "stdout",
     "output_type": "stream",
     "text": [
      "Epoch 141/200, Loss: 2.2764, Train Acc: 0.6325, Val Acc: 0.6313\n"
     ]
    },
    {
     "name": "stderr",
     "output_type": "stream",
     "text": [
      "Iterating eval graphs: 100%|██████████| 65/65 [00:11<00:00,  5.76batch/s]\n",
      "Epoch 142/200, Loss: 2.2361, Train Acc: 0.6254, Val Acc: 0.6119\n",
      "Epoch 142/200, Loss: 2.2361, Train Acc: 0.6254, Val Acc: 0.6119\n",
      "Epoch 142/200, Loss: 2.2361, Train Acc: 0.6254, Val Acc: 0.6119\n",
      "Epoch 142/200, Loss: 2.2361, Train Acc: 0.6254, Val Acc: 0.6119\n"
     ]
    },
    {
     "name": "stdout",
     "output_type": "stream",
     "text": [
      "Epoch 142/200, Loss: 2.2361, Train Acc: 0.6254, Val Acc: 0.6119\n"
     ]
    },
    {
     "name": "stderr",
     "output_type": "stream",
     "text": [
      "Iterating eval graphs: 100%|██████████| 65/65 [00:11<00:00,  5.77batch/s]\n",
      "Epoch 143/200, Loss: 1.9909, Train Acc: 0.6347, Val Acc: 0.6328\n",
      "Epoch 143/200, Loss: 1.9909, Train Acc: 0.6347, Val Acc: 0.6328\n",
      "Epoch 143/200, Loss: 1.9909, Train Acc: 0.6347, Val Acc: 0.6328\n",
      "Epoch 143/200, Loss: 1.9909, Train Acc: 0.6347, Val Acc: 0.6328\n"
     ]
    },
    {
     "name": "stdout",
     "output_type": "stream",
     "text": [
      "Epoch 143/200, Loss: 1.9909, Train Acc: 0.6347, Val Acc: 0.6328\n"
     ]
    },
    {
     "name": "stderr",
     "output_type": "stream",
     "text": [
      "Iterating eval graphs: 100%|██████████| 65/65 [00:11<00:00,  5.76batch/s]\n",
      "Epoch 144/200, Loss: 1.9713, Train Acc: 0.6415, Val Acc: 0.6294\n",
      "Epoch 144/200, Loss: 1.9713, Train Acc: 0.6415, Val Acc: 0.6294\n",
      "Epoch 144/200, Loss: 1.9713, Train Acc: 0.6415, Val Acc: 0.6294\n",
      "Epoch 144/200, Loss: 1.9713, Train Acc: 0.6415, Val Acc: 0.6294\n"
     ]
    },
    {
     "name": "stdout",
     "output_type": "stream",
     "text": [
      "Epoch 144/200, Loss: 1.9713, Train Acc: 0.6415, Val Acc: 0.6294\n"
     ]
    },
    {
     "name": "stderr",
     "output_type": "stream",
     "text": [
      "Iterating eval graphs: 100%|██████████| 65/65 [00:11<00:00,  5.60batch/s]\n",
      "Epoch 145/200, Loss: 1.9451, Train Acc: 0.6424, Val Acc: 0.6362\n",
      "Epoch 145/200, Loss: 1.9451, Train Acc: 0.6424, Val Acc: 0.6362\n",
      "Epoch 145/200, Loss: 1.9451, Train Acc: 0.6424, Val Acc: 0.6362\n",
      "Epoch 145/200, Loss: 1.9451, Train Acc: 0.6424, Val Acc: 0.6362\n"
     ]
    },
    {
     "name": "stdout",
     "output_type": "stream",
     "text": [
      "Epoch 145/200, Loss: 1.9451, Train Acc: 0.6424, Val Acc: 0.6362\n"
     ]
    },
    {
     "name": "stderr",
     "output_type": "stream",
     "text": [
      "Iterating eval graphs: 100%|██████████| 65/65 [00:11<00:00,  5.69batch/s]\n",
      "Epoch 146/200, Loss: 2.0099, Train Acc: 0.6443, Val Acc: 0.5598\n",
      "Epoch 146/200, Loss: 2.0099, Train Acc: 0.6443, Val Acc: 0.5598\n",
      "Epoch 146/200, Loss: 2.0099, Train Acc: 0.6443, Val Acc: 0.5598\n",
      "Epoch 146/200, Loss: 2.0099, Train Acc: 0.6443, Val Acc: 0.5598\n"
     ]
    },
    {
     "name": "stdout",
     "output_type": "stream",
     "text": [
      "Epoch 146/200, Loss: 2.0099, Train Acc: 0.6443, Val Acc: 0.5598\n"
     ]
    },
    {
     "name": "stderr",
     "output_type": "stream",
     "text": [
      "Iterating eval graphs: 100%|██████████| 65/65 [00:11<00:00,  5.70batch/s]\n",
      "Epoch 147/200, Loss: 1.9286, Train Acc: 0.6412, Val Acc: 0.6367\n",
      "Epoch 147/200, Loss: 1.9286, Train Acc: 0.6412, Val Acc: 0.6367\n",
      "Epoch 147/200, Loss: 1.9286, Train Acc: 0.6412, Val Acc: 0.6367\n",
      "Epoch 147/200, Loss: 1.9286, Train Acc: 0.6412, Val Acc: 0.6367\n"
     ]
    },
    {
     "name": "stdout",
     "output_type": "stream",
     "text": [
      "Epoch 147/200, Loss: 1.9286, Train Acc: 0.6412, Val Acc: 0.6367\n"
     ]
    },
    {
     "name": "stderr",
     "output_type": "stream",
     "text": [
      "Iterating eval graphs: 100%|██████████| 65/65 [00:11<00:00,  5.88batch/s]\n",
      "Epoch 148/200, Loss: 1.8823, Train Acc: 0.6481, Val Acc: 0.6352\n",
      "Epoch 148/200, Loss: 1.8823, Train Acc: 0.6481, Val Acc: 0.6352\n",
      "Epoch 148/200, Loss: 1.8823, Train Acc: 0.6481, Val Acc: 0.6352\n",
      "Epoch 148/200, Loss: 1.8823, Train Acc: 0.6481, Val Acc: 0.6352\n"
     ]
    },
    {
     "name": "stdout",
     "output_type": "stream",
     "text": [
      "Epoch 148/200, Loss: 1.8823, Train Acc: 0.6481, Val Acc: 0.6352\n"
     ]
    },
    {
     "name": "stderr",
     "output_type": "stream",
     "text": [
      "Iterating eval graphs: 100%|██████████| 65/65 [00:11<00:00,  5.63batch/s]\n",
      "Epoch 149/200, Loss: 1.9790, Train Acc: 0.6436, Val Acc: 0.6445\n",
      "Epoch 149/200, Loss: 1.9790, Train Acc: 0.6436, Val Acc: 0.6445\n",
      "Epoch 149/200, Loss: 1.9790, Train Acc: 0.6436, Val Acc: 0.6445\n",
      "Epoch 149/200, Loss: 1.9790, Train Acc: 0.6436, Val Acc: 0.6445\n"
     ]
    },
    {
     "name": "stdout",
     "output_type": "stream",
     "text": [
      "Epoch 149/200, Loss: 1.9790, Train Acc: 0.6436, Val Acc: 0.6445\n",
      "Best model updated and saved at /home/onyxia/work/DL-Hackathon/hackaton/checkpoints/model_D_best.pth\n"
     ]
    },
    {
     "name": "stderr",
     "output_type": "stream",
     "text": [
      "Iterating eval graphs: 100%|██████████| 65/65 [00:11<00:00,  5.70batch/s]\n",
      "Epoch 150/200, Loss: 1.8206, Train Acc: 0.6490, Val Acc: 0.6415\n",
      "Epoch 150/200, Loss: 1.8206, Train Acc: 0.6490, Val Acc: 0.6415\n",
      "Epoch 150/200, Loss: 1.8206, Train Acc: 0.6490, Val Acc: 0.6415\n",
      "Epoch 150/200, Loss: 1.8206, Train Acc: 0.6490, Val Acc: 0.6415\n"
     ]
    },
    {
     "name": "stdout",
     "output_type": "stream",
     "text": [
      "Epoch 150/200, Loss: 1.8206, Train Acc: 0.6490, Val Acc: 0.6415\n"
     ]
    },
    {
     "name": "stderr",
     "output_type": "stream",
     "text": [
      "Iterating eval graphs: 100%|██████████| 65/65 [00:11<00:00,  5.68batch/s]\n",
      "Epoch 151/200, Loss: 1.8733, Train Acc: 0.6492, Val Acc: 0.6464\n",
      "Epoch 151/200, Loss: 1.8733, Train Acc: 0.6492, Val Acc: 0.6464\n",
      "Epoch 151/200, Loss: 1.8733, Train Acc: 0.6492, Val Acc: 0.6464\n",
      "Epoch 151/200, Loss: 1.8733, Train Acc: 0.6492, Val Acc: 0.6464\n"
     ]
    },
    {
     "name": "stdout",
     "output_type": "stream",
     "text": [
      "Epoch 151/200, Loss: 1.8733, Train Acc: 0.6492, Val Acc: 0.6464\n",
      "Best model updated and saved at /home/onyxia/work/DL-Hackathon/hackaton/checkpoints/model_D_best.pth\n"
     ]
    },
    {
     "name": "stderr",
     "output_type": "stream",
     "text": [
      "Iterating eval graphs: 100%|██████████| 65/65 [00:11<00:00,  5.68batch/s]\n",
      "Epoch 152/200, Loss: 1.9045, Train Acc: 0.6491, Val Acc: 0.6255\n",
      "Epoch 152/200, Loss: 1.9045, Train Acc: 0.6491, Val Acc: 0.6255\n",
      "Epoch 152/200, Loss: 1.9045, Train Acc: 0.6491, Val Acc: 0.6255\n",
      "Epoch 152/200, Loss: 1.9045, Train Acc: 0.6491, Val Acc: 0.6255\n"
     ]
    },
    {
     "name": "stdout",
     "output_type": "stream",
     "text": [
      "Epoch 152/200, Loss: 1.9045, Train Acc: 0.6491, Val Acc: 0.6255\n"
     ]
    },
    {
     "name": "stderr",
     "output_type": "stream",
     "text": [
      "Iterating eval graphs: 100%|██████████| 65/65 [00:11<00:00,  5.72batch/s]\n",
      "Epoch 153/200, Loss: 2.1193, Train Acc: 0.6418, Val Acc: 0.6362\n",
      "Epoch 153/200, Loss: 2.1193, Train Acc: 0.6418, Val Acc: 0.6362\n",
      "Epoch 153/200, Loss: 2.1193, Train Acc: 0.6418, Val Acc: 0.6362\n",
      "Epoch 153/200, Loss: 2.1193, Train Acc: 0.6418, Val Acc: 0.6362\n"
     ]
    },
    {
     "name": "stdout",
     "output_type": "stream",
     "text": [
      "Epoch 153/200, Loss: 2.1193, Train Acc: 0.6418, Val Acc: 0.6362\n"
     ]
    },
    {
     "name": "stderr",
     "output_type": "stream",
     "text": [
      "Iterating eval graphs: 100%|██████████| 65/65 [00:11<00:00,  5.66batch/s]\n",
      "Epoch 154/200, Loss: 1.9080, Train Acc: 0.6503, Val Acc: 0.6449\n",
      "Epoch 154/200, Loss: 1.9080, Train Acc: 0.6503, Val Acc: 0.6449\n",
      "Epoch 154/200, Loss: 1.9080, Train Acc: 0.6503, Val Acc: 0.6449\n",
      "Epoch 154/200, Loss: 1.9080, Train Acc: 0.6503, Val Acc: 0.6449\n"
     ]
    },
    {
     "name": "stdout",
     "output_type": "stream",
     "text": [
      "Epoch 154/200, Loss: 1.9080, Train Acc: 0.6503, Val Acc: 0.6449\n"
     ]
    },
    {
     "name": "stderr",
     "output_type": "stream",
     "text": [
      "Iterating eval graphs: 100%|██████████| 65/65 [00:11<00:00,  5.70batch/s]\n",
      "Epoch 155/200, Loss: 2.0174, Train Acc: 0.6426, Val Acc: 0.6420\n",
      "Epoch 155/200, Loss: 2.0174, Train Acc: 0.6426, Val Acc: 0.6420\n",
      "Epoch 155/200, Loss: 2.0174, Train Acc: 0.6426, Val Acc: 0.6420\n",
      "Epoch 155/200, Loss: 2.0174, Train Acc: 0.6426, Val Acc: 0.6420\n"
     ]
    },
    {
     "name": "stdout",
     "output_type": "stream",
     "text": [
      "Epoch 155/200, Loss: 2.0174, Train Acc: 0.6426, Val Acc: 0.6420\n"
     ]
    },
    {
     "name": "stderr",
     "output_type": "stream",
     "text": [
      "Iterating eval graphs: 100%|██████████| 65/65 [00:11<00:00,  5.60batch/s]\n",
      "Epoch 156/200, Loss: 2.0721, Train Acc: 0.6372, Val Acc: 0.6411\n",
      "Epoch 156/200, Loss: 2.0721, Train Acc: 0.6372, Val Acc: 0.6411\n",
      "Epoch 156/200, Loss: 2.0721, Train Acc: 0.6372, Val Acc: 0.6411\n",
      "Epoch 156/200, Loss: 2.0721, Train Acc: 0.6372, Val Acc: 0.6411\n"
     ]
    },
    {
     "name": "stdout",
     "output_type": "stream",
     "text": [
      "Epoch 156/200, Loss: 2.0721, Train Acc: 0.6372, Val Acc: 0.6411\n"
     ]
    },
    {
     "name": "stderr",
     "output_type": "stream",
     "text": [
      "Iterating eval graphs: 100%|██████████| 65/65 [00:11<00:00,  5.57batch/s]\n",
      "Epoch 157/200, Loss: 1.9374, Train Acc: 0.6453, Val Acc: 0.6396\n",
      "Epoch 157/200, Loss: 1.9374, Train Acc: 0.6453, Val Acc: 0.6396\n",
      "Epoch 157/200, Loss: 1.9374, Train Acc: 0.6453, Val Acc: 0.6396\n",
      "Epoch 157/200, Loss: 1.9374, Train Acc: 0.6453, Val Acc: 0.6396\n"
     ]
    },
    {
     "name": "stdout",
     "output_type": "stream",
     "text": [
      "Epoch 157/200, Loss: 1.9374, Train Acc: 0.6453, Val Acc: 0.6396\n"
     ]
    },
    {
     "name": "stderr",
     "output_type": "stream",
     "text": [
      "Iterating eval graphs: 100%|██████████| 65/65 [00:11<00:00,  5.68batch/s]\n",
      "Epoch 158/200, Loss: 1.8217, Train Acc: 0.6515, Val Acc: 0.6420\n",
      "Epoch 158/200, Loss: 1.8217, Train Acc: 0.6515, Val Acc: 0.6420\n",
      "Epoch 158/200, Loss: 1.8217, Train Acc: 0.6515, Val Acc: 0.6420\n",
      "Epoch 158/200, Loss: 1.8217, Train Acc: 0.6515, Val Acc: 0.6420\n"
     ]
    },
    {
     "name": "stdout",
     "output_type": "stream",
     "text": [
      "Epoch 158/200, Loss: 1.8217, Train Acc: 0.6515, Val Acc: 0.6420\n"
     ]
    },
    {
     "name": "stderr",
     "output_type": "stream",
     "text": [
      "Iterating eval graphs: 100%|██████████| 65/65 [00:11<00:00,  5.51batch/s]\n",
      "Epoch 159/200, Loss: 1.8027, Train Acc: 0.6496, Val Acc: 0.6430\n",
      "Epoch 159/200, Loss: 1.8027, Train Acc: 0.6496, Val Acc: 0.6430\n",
      "Epoch 159/200, Loss: 1.8027, Train Acc: 0.6496, Val Acc: 0.6430\n",
      "Epoch 159/200, Loss: 1.8027, Train Acc: 0.6496, Val Acc: 0.6430\n"
     ]
    },
    {
     "name": "stdout",
     "output_type": "stream",
     "text": [
      "Epoch 159/200, Loss: 1.8027, Train Acc: 0.6496, Val Acc: 0.6430\n"
     ]
    },
    {
     "name": "stderr",
     "output_type": "stream",
     "text": [
      "Iterating eval graphs: 100%|██████████| 65/65 [00:11<00:00,  5.65batch/s]\n",
      "Epoch 160/200, Loss: 1.9604, Train Acc: 0.6361, Val Acc: 0.6206\n",
      "Epoch 160/200, Loss: 1.9604, Train Acc: 0.6361, Val Acc: 0.6206\n",
      "Epoch 160/200, Loss: 1.9604, Train Acc: 0.6361, Val Acc: 0.6206\n",
      "Epoch 160/200, Loss: 1.9604, Train Acc: 0.6361, Val Acc: 0.6206\n"
     ]
    },
    {
     "name": "stdout",
     "output_type": "stream",
     "text": [
      "Epoch 160/200, Loss: 1.9604, Train Acc: 0.6361, Val Acc: 0.6206\n"
     ]
    },
    {
     "name": "stderr",
     "output_type": "stream",
     "text": [
      "Iterating eval graphs: 100%|██████████| 65/65 [00:12<00:00,  5.39batch/s]\n",
      "Epoch 161/200, Loss: 1.7874, Train Acc: 0.6520, Val Acc: 0.6372\n",
      "Epoch 161/200, Loss: 1.7874, Train Acc: 0.6520, Val Acc: 0.6372\n",
      "Epoch 161/200, Loss: 1.7874, Train Acc: 0.6520, Val Acc: 0.6372\n",
      "Epoch 161/200, Loss: 1.7874, Train Acc: 0.6520, Val Acc: 0.6372\n"
     ]
    },
    {
     "name": "stdout",
     "output_type": "stream",
     "text": [
      "Epoch 161/200, Loss: 1.7874, Train Acc: 0.6520, Val Acc: 0.6372\n"
     ]
    },
    {
     "name": "stderr",
     "output_type": "stream",
     "text": [
      "Iterating eval graphs: 100%|██████████| 65/65 [00:11<00:00,  5.74batch/s]\n",
      "Epoch 162/200, Loss: 1.7812, Train Acc: 0.6570, Val Acc: 0.6566\n",
      "Epoch 162/200, Loss: 1.7812, Train Acc: 0.6570, Val Acc: 0.6566\n",
      "Epoch 162/200, Loss: 1.7812, Train Acc: 0.6570, Val Acc: 0.6566\n",
      "Epoch 162/200, Loss: 1.7812, Train Acc: 0.6570, Val Acc: 0.6566\n"
     ]
    },
    {
     "name": "stdout",
     "output_type": "stream",
     "text": [
      "Epoch 162/200, Loss: 1.7812, Train Acc: 0.6570, Val Acc: 0.6566\n",
      "Best model updated and saved at /home/onyxia/work/DL-Hackathon/hackaton/checkpoints/model_D_best.pth\n"
     ]
    },
    {
     "name": "stderr",
     "output_type": "stream",
     "text": [
      "Iterating eval graphs: 100%|██████████| 65/65 [00:11<00:00,  5.82batch/s]\n",
      "Epoch 163/200, Loss: 1.8571, Train Acc: 0.6491, Val Acc: 0.6308\n",
      "Epoch 163/200, Loss: 1.8571, Train Acc: 0.6491, Val Acc: 0.6308\n",
      "Epoch 163/200, Loss: 1.8571, Train Acc: 0.6491, Val Acc: 0.6308\n",
      "Epoch 163/200, Loss: 1.8571, Train Acc: 0.6491, Val Acc: 0.6308\n"
     ]
    },
    {
     "name": "stdout",
     "output_type": "stream",
     "text": [
      "Epoch 163/200, Loss: 1.8571, Train Acc: 0.6491, Val Acc: 0.6308\n"
     ]
    },
    {
     "name": "stderr",
     "output_type": "stream",
     "text": [
      "Iterating eval graphs: 100%|██████████| 65/65 [00:11<00:00,  5.85batch/s]\n",
      "Epoch 164/200, Loss: 2.0026, Train Acc: 0.6438, Val Acc: 0.6240\n",
      "Epoch 164/200, Loss: 2.0026, Train Acc: 0.6438, Val Acc: 0.6240\n",
      "Epoch 164/200, Loss: 2.0026, Train Acc: 0.6438, Val Acc: 0.6240\n",
      "Epoch 164/200, Loss: 2.0026, Train Acc: 0.6438, Val Acc: 0.6240\n"
     ]
    },
    {
     "name": "stdout",
     "output_type": "stream",
     "text": [
      "Epoch 164/200, Loss: 2.0026, Train Acc: 0.6438, Val Acc: 0.6240\n"
     ]
    },
    {
     "name": "stderr",
     "output_type": "stream",
     "text": [
      "Iterating eval graphs: 100%|██████████| 65/65 [00:11<00:00,  5.74batch/s]\n",
      "Epoch 165/200, Loss: 1.9128, Train Acc: 0.6415, Val Acc: 0.6342\n",
      "Epoch 165/200, Loss: 1.9128, Train Acc: 0.6415, Val Acc: 0.6342\n",
      "Epoch 165/200, Loss: 1.9128, Train Acc: 0.6415, Val Acc: 0.6342\n",
      "Epoch 165/200, Loss: 1.9128, Train Acc: 0.6415, Val Acc: 0.6342\n"
     ]
    },
    {
     "name": "stdout",
     "output_type": "stream",
     "text": [
      "Epoch 165/200, Loss: 1.9128, Train Acc: 0.6415, Val Acc: 0.6342\n"
     ]
    },
    {
     "name": "stderr",
     "output_type": "stream",
     "text": [
      "Iterating eval graphs: 100%|██████████| 65/65 [00:11<00:00,  5.61batch/s]\n",
      "Epoch 166/200, Loss: 1.8663, Train Acc: 0.6527, Val Acc: 0.6474\n",
      "Epoch 166/200, Loss: 1.8663, Train Acc: 0.6527, Val Acc: 0.6474\n",
      "Epoch 166/200, Loss: 1.8663, Train Acc: 0.6527, Val Acc: 0.6474\n",
      "Epoch 166/200, Loss: 1.8663, Train Acc: 0.6527, Val Acc: 0.6474\n"
     ]
    },
    {
     "name": "stdout",
     "output_type": "stream",
     "text": [
      "Epoch 166/200, Loss: 1.8663, Train Acc: 0.6527, Val Acc: 0.6474\n"
     ]
    },
    {
     "name": "stderr",
     "output_type": "stream",
     "text": [
      "Iterating eval graphs: 100%|██████████| 65/65 [00:11<00:00,  5.72batch/s]\n",
      "Epoch 167/200, Loss: 1.8592, Train Acc: 0.6401, Val Acc: 0.6391\n",
      "Epoch 167/200, Loss: 1.8592, Train Acc: 0.6401, Val Acc: 0.6391\n",
      "Epoch 167/200, Loss: 1.8592, Train Acc: 0.6401, Val Acc: 0.6391\n",
      "Epoch 167/200, Loss: 1.8592, Train Acc: 0.6401, Val Acc: 0.6391\n"
     ]
    },
    {
     "name": "stdout",
     "output_type": "stream",
     "text": [
      "Epoch 167/200, Loss: 1.8592, Train Acc: 0.6401, Val Acc: 0.6391\n"
     ]
    },
    {
     "name": "stderr",
     "output_type": "stream",
     "text": [
      "Iterating eval graphs: 100%|██████████| 65/65 [00:11<00:00,  5.74batch/s]\n",
      "Epoch 168/200, Loss: 1.6243, Train Acc: 0.6651, Val Acc: 0.6547\n",
      "Epoch 168/200, Loss: 1.6243, Train Acc: 0.6651, Val Acc: 0.6547\n",
      "Epoch 168/200, Loss: 1.6243, Train Acc: 0.6651, Val Acc: 0.6547\n",
      "Epoch 168/200, Loss: 1.6243, Train Acc: 0.6651, Val Acc: 0.6547\n"
     ]
    },
    {
     "name": "stdout",
     "output_type": "stream",
     "text": [
      "Epoch 168/200, Loss: 1.6243, Train Acc: 0.6651, Val Acc: 0.6547\n"
     ]
    },
    {
     "name": "stderr",
     "output_type": "stream",
     "text": [
      "Iterating eval graphs: 100%|██████████| 65/65 [00:11<00:00,  5.70batch/s]\n",
      "Epoch 169/200, Loss: 1.6671, Train Acc: 0.6621, Val Acc: 0.6503\n",
      "Epoch 169/200, Loss: 1.6671, Train Acc: 0.6621, Val Acc: 0.6503\n",
      "Epoch 169/200, Loss: 1.6671, Train Acc: 0.6621, Val Acc: 0.6503\n",
      "Epoch 169/200, Loss: 1.6671, Train Acc: 0.6621, Val Acc: 0.6503\n"
     ]
    },
    {
     "name": "stdout",
     "output_type": "stream",
     "text": [
      "Epoch 169/200, Loss: 1.6671, Train Acc: 0.6621, Val Acc: 0.6503\n"
     ]
    },
    {
     "name": "stderr",
     "output_type": "stream",
     "text": [
      "Iterating eval graphs: 100%|██████████| 65/65 [00:11<00:00,  5.75batch/s]\n",
      "Epoch 170/200, Loss: 1.7260, Train Acc: 0.6660, Val Acc: 0.6415\n",
      "Epoch 170/200, Loss: 1.7260, Train Acc: 0.6660, Val Acc: 0.6415\n",
      "Epoch 170/200, Loss: 1.7260, Train Acc: 0.6660, Val Acc: 0.6415\n",
      "Epoch 170/200, Loss: 1.7260, Train Acc: 0.6660, Val Acc: 0.6415\n"
     ]
    },
    {
     "name": "stdout",
     "output_type": "stream",
     "text": [
      "Epoch 170/200, Loss: 1.7260, Train Acc: 0.6660, Val Acc: 0.6415\n"
     ]
    },
    {
     "name": "stderr",
     "output_type": "stream",
     "text": [
      "Iterating eval graphs: 100%|██████████| 65/65 [00:11<00:00,  5.44batch/s]\n",
      "Epoch 171/200, Loss: 1.8825, Train Acc: 0.6515, Val Acc: 0.6415\n",
      "Epoch 171/200, Loss: 1.8825, Train Acc: 0.6515, Val Acc: 0.6415\n",
      "Epoch 171/200, Loss: 1.8825, Train Acc: 0.6515, Val Acc: 0.6415\n",
      "Epoch 171/200, Loss: 1.8825, Train Acc: 0.6515, Val Acc: 0.6415\n"
     ]
    },
    {
     "name": "stdout",
     "output_type": "stream",
     "text": [
      "Epoch 171/200, Loss: 1.8825, Train Acc: 0.6515, Val Acc: 0.6415\n"
     ]
    },
    {
     "name": "stderr",
     "output_type": "stream",
     "text": [
      "Iterating eval graphs: 100%|██████████| 65/65 [00:11<00:00,  5.78batch/s]\n",
      "Epoch 172/200, Loss: 1.7362, Train Acc: 0.6598, Val Acc: 0.6469\n",
      "Epoch 172/200, Loss: 1.7362, Train Acc: 0.6598, Val Acc: 0.6469\n",
      "Epoch 172/200, Loss: 1.7362, Train Acc: 0.6598, Val Acc: 0.6469\n",
      "Epoch 172/200, Loss: 1.7362, Train Acc: 0.6598, Val Acc: 0.6469\n"
     ]
    },
    {
     "name": "stdout",
     "output_type": "stream",
     "text": [
      "Epoch 172/200, Loss: 1.7362, Train Acc: 0.6598, Val Acc: 0.6469\n"
     ]
    },
    {
     "name": "stderr",
     "output_type": "stream",
     "text": [
      "Iterating eval graphs: 100%|██████████| 65/65 [00:11<00:00,  5.69batch/s]\n",
      "Epoch 173/200, Loss: 1.6372, Train Acc: 0.6688, Val Acc: 0.6586\n",
      "Epoch 173/200, Loss: 1.6372, Train Acc: 0.6688, Val Acc: 0.6586\n",
      "Epoch 173/200, Loss: 1.6372, Train Acc: 0.6688, Val Acc: 0.6586\n",
      "Epoch 173/200, Loss: 1.6372, Train Acc: 0.6688, Val Acc: 0.6586\n"
     ]
    },
    {
     "name": "stdout",
     "output_type": "stream",
     "text": [
      "Epoch 173/200, Loss: 1.6372, Train Acc: 0.6688, Val Acc: 0.6586\n",
      "Best model updated and saved at /home/onyxia/work/DL-Hackathon/hackaton/checkpoints/model_D_best.pth\n"
     ]
    },
    {
     "name": "stderr",
     "output_type": "stream",
     "text": [
      "Iterating eval graphs: 100%|██████████| 65/65 [00:11<00:00,  5.62batch/s]\n",
      "Epoch 174/200, Loss: 1.5884, Train Acc: 0.6745, Val Acc: 0.6493\n",
      "Epoch 174/200, Loss: 1.5884, Train Acc: 0.6745, Val Acc: 0.6493\n",
      "Epoch 174/200, Loss: 1.5884, Train Acc: 0.6745, Val Acc: 0.6493\n",
      "Epoch 174/200, Loss: 1.5884, Train Acc: 0.6745, Val Acc: 0.6493\n"
     ]
    },
    {
     "name": "stdout",
     "output_type": "stream",
     "text": [
      "Epoch 174/200, Loss: 1.5884, Train Acc: 0.6745, Val Acc: 0.6493\n"
     ]
    },
    {
     "name": "stderr",
     "output_type": "stream",
     "text": [
      "Iterating eval graphs: 100%|██████████| 65/65 [00:11<00:00,  5.62batch/s]\n",
      "Epoch 175/200, Loss: 1.7185, Train Acc: 0.6701, Val Acc: 0.6518\n",
      "Epoch 175/200, Loss: 1.7185, Train Acc: 0.6701, Val Acc: 0.6518\n",
      "Epoch 175/200, Loss: 1.7185, Train Acc: 0.6701, Val Acc: 0.6518\n",
      "Epoch 175/200, Loss: 1.7185, Train Acc: 0.6701, Val Acc: 0.6518\n"
     ]
    },
    {
     "name": "stdout",
     "output_type": "stream",
     "text": [
      "Epoch 175/200, Loss: 1.7185, Train Acc: 0.6701, Val Acc: 0.6518\n"
     ]
    },
    {
     "name": "stderr",
     "output_type": "stream",
     "text": [
      "Iterating eval graphs: 100%|██████████| 65/65 [00:11<00:00,  5.60batch/s]\n",
      "Epoch 176/200, Loss: 1.7889, Train Acc: 0.6659, Val Acc: 0.6576\n",
      "Epoch 176/200, Loss: 1.7889, Train Acc: 0.6659, Val Acc: 0.6576\n",
      "Epoch 176/200, Loss: 1.7889, Train Acc: 0.6659, Val Acc: 0.6576\n",
      "Epoch 176/200, Loss: 1.7889, Train Acc: 0.6659, Val Acc: 0.6576\n"
     ]
    },
    {
     "name": "stdout",
     "output_type": "stream",
     "text": [
      "Epoch 176/200, Loss: 1.7889, Train Acc: 0.6659, Val Acc: 0.6576\n"
     ]
    },
    {
     "name": "stderr",
     "output_type": "stream",
     "text": [
      "Iterating eval graphs: 100%|██████████| 65/65 [00:11<00:00,  5.75batch/s]\n",
      "Epoch 177/200, Loss: 1.7467, Train Acc: 0.6700, Val Acc: 0.6498\n",
      "Epoch 177/200, Loss: 1.7467, Train Acc: 0.6700, Val Acc: 0.6498\n",
      "Epoch 177/200, Loss: 1.7467, Train Acc: 0.6700, Val Acc: 0.6498\n",
      "Epoch 177/200, Loss: 1.7467, Train Acc: 0.6700, Val Acc: 0.6498\n"
     ]
    },
    {
     "name": "stdout",
     "output_type": "stream",
     "text": [
      "Epoch 177/200, Loss: 1.7467, Train Acc: 0.6700, Val Acc: 0.6498\n"
     ]
    },
    {
     "name": "stderr",
     "output_type": "stream",
     "text": [
      "Iterating eval graphs: 100%|██████████| 65/65 [00:11<00:00,  5.74batch/s]\n",
      "Epoch 178/200, Loss: 1.7343, Train Acc: 0.6705, Val Acc: 0.6493\n",
      "Epoch 178/200, Loss: 1.7343, Train Acc: 0.6705, Val Acc: 0.6493\n",
      "Epoch 178/200, Loss: 1.7343, Train Acc: 0.6705, Val Acc: 0.6493\n",
      "Epoch 178/200, Loss: 1.7343, Train Acc: 0.6705, Val Acc: 0.6493\n"
     ]
    },
    {
     "name": "stdout",
     "output_type": "stream",
     "text": [
      "Epoch 178/200, Loss: 1.7343, Train Acc: 0.6705, Val Acc: 0.6493\n"
     ]
    },
    {
     "name": "stderr",
     "output_type": "stream",
     "text": [
      "Iterating eval graphs: 100%|██████████| 65/65 [00:11<00:00,  5.70batch/s]\n",
      "Epoch 179/200, Loss: 1.8035, Train Acc: 0.6637, Val Acc: 0.6445\n",
      "Epoch 179/200, Loss: 1.8035, Train Acc: 0.6637, Val Acc: 0.6445\n",
      "Epoch 179/200, Loss: 1.8035, Train Acc: 0.6637, Val Acc: 0.6445\n",
      "Epoch 179/200, Loss: 1.8035, Train Acc: 0.6637, Val Acc: 0.6445\n"
     ]
    },
    {
     "name": "stdout",
     "output_type": "stream",
     "text": [
      "Epoch 179/200, Loss: 1.8035, Train Acc: 0.6637, Val Acc: 0.6445\n"
     ]
    },
    {
     "name": "stderr",
     "output_type": "stream",
     "text": [
      "Iterating eval graphs: 100%|██████████| 65/65 [00:11<00:00,  5.59batch/s]\n",
      "Epoch 180/200, Loss: 2.0021, Train Acc: 0.6509, Val Acc: 0.6240\n",
      "Epoch 180/200, Loss: 2.0021, Train Acc: 0.6509, Val Acc: 0.6240\n",
      "Epoch 180/200, Loss: 2.0021, Train Acc: 0.6509, Val Acc: 0.6240\n",
      "Epoch 180/200, Loss: 2.0021, Train Acc: 0.6509, Val Acc: 0.6240\n"
     ]
    },
    {
     "name": "stdout",
     "output_type": "stream",
     "text": [
      "Epoch 180/200, Loss: 2.0021, Train Acc: 0.6509, Val Acc: 0.6240\n"
     ]
    },
    {
     "name": "stderr",
     "output_type": "stream",
     "text": [
      "Iterating eval graphs: 100%|██████████| 65/65 [00:11<00:00,  5.56batch/s]\n",
      "Epoch 181/200, Loss: 1.8493, Train Acc: 0.6616, Val Acc: 0.6518\n",
      "Epoch 181/200, Loss: 1.8493, Train Acc: 0.6616, Val Acc: 0.6518\n",
      "Epoch 181/200, Loss: 1.8493, Train Acc: 0.6616, Val Acc: 0.6518\n",
      "Epoch 181/200, Loss: 1.8493, Train Acc: 0.6616, Val Acc: 0.6518\n"
     ]
    },
    {
     "name": "stdout",
     "output_type": "stream",
     "text": [
      "Epoch 181/200, Loss: 1.8493, Train Acc: 0.6616, Val Acc: 0.6518\n"
     ]
    },
    {
     "name": "stderr",
     "output_type": "stream",
     "text": [
      "Iterating eval graphs: 100%|██████████| 65/65 [00:13<00:00,  4.65batch/s]\n",
      "Epoch 182/200, Loss: 1.8829, Train Acc: 0.6576, Val Acc: 0.6172\n",
      "Epoch 182/200, Loss: 1.8829, Train Acc: 0.6576, Val Acc: 0.6172\n",
      "Epoch 182/200, Loss: 1.8829, Train Acc: 0.6576, Val Acc: 0.6172\n",
      "Epoch 182/200, Loss: 1.8829, Train Acc: 0.6576, Val Acc: 0.6172\n"
     ]
    },
    {
     "name": "stdout",
     "output_type": "stream",
     "text": [
      "Epoch 182/200, Loss: 1.8829, Train Acc: 0.6576, Val Acc: 0.6172\n"
     ]
    },
    {
     "name": "stderr",
     "output_type": "stream",
     "text": [
      "Iterating eval graphs: 100%|██████████| 65/65 [00:11<00:00,  5.73batch/s]\n",
      "Epoch 183/200, Loss: 1.8958, Train Acc: 0.6609, Val Acc: 0.6099\n",
      "Epoch 183/200, Loss: 1.8958, Train Acc: 0.6609, Val Acc: 0.6099\n",
      "Epoch 183/200, Loss: 1.8958, Train Acc: 0.6609, Val Acc: 0.6099\n",
      "Epoch 183/200, Loss: 1.8958, Train Acc: 0.6609, Val Acc: 0.6099\n"
     ]
    },
    {
     "name": "stdout",
     "output_type": "stream",
     "text": [
      "Epoch 183/200, Loss: 1.8958, Train Acc: 0.6609, Val Acc: 0.6099\n"
     ]
    },
    {
     "name": "stderr",
     "output_type": "stream",
     "text": [
      "Iterating eval graphs: 100%|██████████| 65/65 [00:11<00:00,  5.72batch/s]\n",
      "Epoch 184/200, Loss: 1.9267, Train Acc: 0.6578, Val Acc: 0.6532\n",
      "Epoch 184/200, Loss: 1.9267, Train Acc: 0.6578, Val Acc: 0.6532\n",
      "Epoch 184/200, Loss: 1.9267, Train Acc: 0.6578, Val Acc: 0.6532\n",
      "Epoch 184/200, Loss: 1.9267, Train Acc: 0.6578, Val Acc: 0.6532\n"
     ]
    },
    {
     "name": "stdout",
     "output_type": "stream",
     "text": [
      "Epoch 184/200, Loss: 1.9267, Train Acc: 0.6578, Val Acc: 0.6532\n"
     ]
    },
    {
     "name": "stderr",
     "output_type": "stream",
     "text": [
      "Iterating eval graphs: 100%|██████████| 65/65 [00:14<00:00,  4.52batch/s]\n",
      "Epoch 185/200, Loss: 1.6706, Train Acc: 0.6652, Val Acc: 0.6425\n",
      "Epoch 185/200, Loss: 1.6706, Train Acc: 0.6652, Val Acc: 0.6425\n",
      "Epoch 185/200, Loss: 1.6706, Train Acc: 0.6652, Val Acc: 0.6425\n",
      "Epoch 185/200, Loss: 1.6706, Train Acc: 0.6652, Val Acc: 0.6425\n"
     ]
    },
    {
     "name": "stdout",
     "output_type": "stream",
     "text": [
      "Epoch 185/200, Loss: 1.6706, Train Acc: 0.6652, Val Acc: 0.6425\n"
     ]
    },
    {
     "name": "stderr",
     "output_type": "stream",
     "text": [
      "Iterating eval graphs: 100%|██████████| 65/65 [00:20<00:00,  3.23batch/s]\n",
      "Epoch 186/200, Loss: 1.7231, Train Acc: 0.6606, Val Acc: 0.6634\n",
      "Epoch 186/200, Loss: 1.7231, Train Acc: 0.6606, Val Acc: 0.6634\n",
      "Epoch 186/200, Loss: 1.7231, Train Acc: 0.6606, Val Acc: 0.6634\n",
      "Epoch 186/200, Loss: 1.7231, Train Acc: 0.6606, Val Acc: 0.6634\n"
     ]
    },
    {
     "name": "stdout",
     "output_type": "stream",
     "text": [
      "Epoch 186/200, Loss: 1.7231, Train Acc: 0.6606, Val Acc: 0.6634\n",
      "Best model updated and saved at /home/onyxia/work/DL-Hackathon/hackaton/checkpoints/model_D_best.pth\n"
     ]
    },
    {
     "name": "stderr",
     "output_type": "stream",
     "text": [
      "Iterating eval graphs: 100%|██████████| 65/65 [00:11<00:00,  5.68batch/s]\n",
      "Epoch 187/200, Loss: 1.6969, Train Acc: 0.6685, Val Acc: 0.6717\n",
      "Epoch 187/200, Loss: 1.6969, Train Acc: 0.6685, Val Acc: 0.6717\n",
      "Epoch 187/200, Loss: 1.6969, Train Acc: 0.6685, Val Acc: 0.6717\n",
      "Epoch 187/200, Loss: 1.6969, Train Acc: 0.6685, Val Acc: 0.6717\n"
     ]
    },
    {
     "name": "stdout",
     "output_type": "stream",
     "text": [
      "Epoch 187/200, Loss: 1.6969, Train Acc: 0.6685, Val Acc: 0.6717\n",
      "Best model updated and saved at /home/onyxia/work/DL-Hackathon/hackaton/checkpoints/model_D_best.pth\n"
     ]
    },
    {
     "name": "stderr",
     "output_type": "stream",
     "text": [
      "Iterating eval graphs: 100%|██████████| 65/65 [00:12<00:00,  5.41batch/s]\n",
      "Epoch 188/200, Loss: 1.8045, Train Acc: 0.6625, Val Acc: 0.6532\n",
      "Epoch 188/200, Loss: 1.8045, Train Acc: 0.6625, Val Acc: 0.6532\n",
      "Epoch 188/200, Loss: 1.8045, Train Acc: 0.6625, Val Acc: 0.6532\n",
      "Epoch 188/200, Loss: 1.8045, Train Acc: 0.6625, Val Acc: 0.6532\n"
     ]
    },
    {
     "name": "stdout",
     "output_type": "stream",
     "text": [
      "Epoch 188/200, Loss: 1.8045, Train Acc: 0.6625, Val Acc: 0.6532\n"
     ]
    },
    {
     "name": "stderr",
     "output_type": "stream",
     "text": [
      "Iterating eval graphs: 100%|██████████| 65/65 [00:11<00:00,  5.62batch/s]\n",
      "Epoch 189/200, Loss: 1.8712, Train Acc: 0.6656, Val Acc: 0.6547\n",
      "Epoch 189/200, Loss: 1.8712, Train Acc: 0.6656, Val Acc: 0.6547\n",
      "Epoch 189/200, Loss: 1.8712, Train Acc: 0.6656, Val Acc: 0.6547\n",
      "Epoch 189/200, Loss: 1.8712, Train Acc: 0.6656, Val Acc: 0.6547\n"
     ]
    },
    {
     "name": "stdout",
     "output_type": "stream",
     "text": [
      "Epoch 189/200, Loss: 1.8712, Train Acc: 0.6656, Val Acc: 0.6547\n"
     ]
    },
    {
     "name": "stderr",
     "output_type": "stream",
     "text": [
      "Iterating eval graphs: 100%|██████████| 65/65 [00:11<00:00,  5.74batch/s]\n",
      "Epoch 190/200, Loss: 1.7797, Train Acc: 0.6744, Val Acc: 0.6503\n",
      "Epoch 190/200, Loss: 1.7797, Train Acc: 0.6744, Val Acc: 0.6503\n",
      "Epoch 190/200, Loss: 1.7797, Train Acc: 0.6744, Val Acc: 0.6503\n",
      "Epoch 190/200, Loss: 1.7797, Train Acc: 0.6744, Val Acc: 0.6503\n"
     ]
    },
    {
     "name": "stdout",
     "output_type": "stream",
     "text": [
      "Epoch 190/200, Loss: 1.7797, Train Acc: 0.6744, Val Acc: 0.6503\n"
     ]
    },
    {
     "name": "stderr",
     "output_type": "stream",
     "text": [
      "Iterating eval graphs: 100%|██████████| 65/65 [00:12<00:00,  5.35batch/s]\n",
      "Epoch 191/200, Loss: 1.6615, Train Acc: 0.6691, Val Acc: 0.6566\n",
      "Epoch 191/200, Loss: 1.6615, Train Acc: 0.6691, Val Acc: 0.6566\n",
      "Epoch 191/200, Loss: 1.6615, Train Acc: 0.6691, Val Acc: 0.6566\n",
      "Epoch 191/200, Loss: 1.6615, Train Acc: 0.6691, Val Acc: 0.6566\n"
     ]
    },
    {
     "name": "stdout",
     "output_type": "stream",
     "text": [
      "Epoch 191/200, Loss: 1.6615, Train Acc: 0.6691, Val Acc: 0.6566\n"
     ]
    },
    {
     "name": "stderr",
     "output_type": "stream",
     "text": [
      "Iterating eval graphs: 100%|██████████| 65/65 [00:11<00:00,  5.47batch/s]\n",
      "Epoch 192/200, Loss: 1.7309, Train Acc: 0.6719, Val Acc: 0.6464\n",
      "Epoch 192/200, Loss: 1.7309, Train Acc: 0.6719, Val Acc: 0.6464\n",
      "Epoch 192/200, Loss: 1.7309, Train Acc: 0.6719, Val Acc: 0.6464\n",
      "Epoch 192/200, Loss: 1.7309, Train Acc: 0.6719, Val Acc: 0.6464\n"
     ]
    },
    {
     "name": "stdout",
     "output_type": "stream",
     "text": [
      "Epoch 192/200, Loss: 1.7309, Train Acc: 0.6719, Val Acc: 0.6464\n"
     ]
    },
    {
     "name": "stderr",
     "output_type": "stream",
     "text": [
      "Iterating eval graphs: 100%|██████████| 65/65 [00:11<00:00,  5.71batch/s]\n",
      "Epoch 193/200, Loss: 1.5892, Train Acc: 0.6781, Val Acc: 0.6586\n",
      "Epoch 193/200, Loss: 1.5892, Train Acc: 0.6781, Val Acc: 0.6586\n",
      "Epoch 193/200, Loss: 1.5892, Train Acc: 0.6781, Val Acc: 0.6586\n",
      "Epoch 193/200, Loss: 1.5892, Train Acc: 0.6781, Val Acc: 0.6586\n"
     ]
    },
    {
     "name": "stdout",
     "output_type": "stream",
     "text": [
      "Epoch 193/200, Loss: 1.5892, Train Acc: 0.6781, Val Acc: 0.6586\n"
     ]
    },
    {
     "name": "stderr",
     "output_type": "stream",
     "text": [
      "Iterating eval graphs: 100%|██████████| 65/65 [00:11<00:00,  5.85batch/s]\n",
      "Epoch 194/200, Loss: 1.5352, Train Acc: 0.6794, Val Acc: 0.6644\n",
      "Epoch 194/200, Loss: 1.5352, Train Acc: 0.6794, Val Acc: 0.6644\n",
      "Epoch 194/200, Loss: 1.5352, Train Acc: 0.6794, Val Acc: 0.6644\n",
      "Epoch 194/200, Loss: 1.5352, Train Acc: 0.6794, Val Acc: 0.6644\n"
     ]
    },
    {
     "name": "stdout",
     "output_type": "stream",
     "text": [
      "Epoch 194/200, Loss: 1.5352, Train Acc: 0.6794, Val Acc: 0.6644\n"
     ]
    },
    {
     "name": "stderr",
     "output_type": "stream",
     "text": [
      "Iterating eval graphs: 100%|██████████| 65/65 [00:11<00:00,  5.85batch/s]\n",
      "Epoch 195/200, Loss: 1.5546, Train Acc: 0.6727, Val Acc: 0.6362\n",
      "Epoch 195/200, Loss: 1.5546, Train Acc: 0.6727, Val Acc: 0.6362\n",
      "Epoch 195/200, Loss: 1.5546, Train Acc: 0.6727, Val Acc: 0.6362\n",
      "Epoch 195/200, Loss: 1.5546, Train Acc: 0.6727, Val Acc: 0.6362\n"
     ]
    },
    {
     "name": "stdout",
     "output_type": "stream",
     "text": [
      "Epoch 195/200, Loss: 1.5546, Train Acc: 0.6727, Val Acc: 0.6362\n"
     ]
    },
    {
     "name": "stderr",
     "output_type": "stream",
     "text": [
      "Iterating eval graphs: 100%|██████████| 65/65 [00:11<00:00,  5.64batch/s]\n",
      "Epoch 196/200, Loss: 1.4988, Train Acc: 0.6761, Val Acc: 0.6299\n",
      "Epoch 196/200, Loss: 1.4988, Train Acc: 0.6761, Val Acc: 0.6299\n",
      "Epoch 196/200, Loss: 1.4988, Train Acc: 0.6761, Val Acc: 0.6299\n",
      "Epoch 196/200, Loss: 1.4988, Train Acc: 0.6761, Val Acc: 0.6299\n"
     ]
    },
    {
     "name": "stdout",
     "output_type": "stream",
     "text": [
      "Epoch 196/200, Loss: 1.4988, Train Acc: 0.6761, Val Acc: 0.6299\n"
     ]
    },
    {
     "name": "stderr",
     "output_type": "stream",
     "text": [
      "Iterating eval graphs: 100%|██████████| 65/65 [00:11<00:00,  5.75batch/s]\n",
      "Epoch 197/200, Loss: 1.7514, Train Acc: 0.6625, Val Acc: 0.6639\n",
      "Epoch 197/200, Loss: 1.7514, Train Acc: 0.6625, Val Acc: 0.6639\n",
      "Epoch 197/200, Loss: 1.7514, Train Acc: 0.6625, Val Acc: 0.6639\n",
      "Epoch 197/200, Loss: 1.7514, Train Acc: 0.6625, Val Acc: 0.6639\n"
     ]
    },
    {
     "name": "stdout",
     "output_type": "stream",
     "text": [
      "Epoch 197/200, Loss: 1.7514, Train Acc: 0.6625, Val Acc: 0.6639\n"
     ]
    },
    {
     "name": "stderr",
     "output_type": "stream",
     "text": [
      "Iterating eval graphs: 100%|██████████| 65/65 [00:11<00:00,  5.49batch/s]\n",
      "Epoch 198/200, Loss: 1.7597, Train Acc: 0.6708, Val Acc: 0.6445\n",
      "Epoch 198/200, Loss: 1.7597, Train Acc: 0.6708, Val Acc: 0.6445\n",
      "Epoch 198/200, Loss: 1.7597, Train Acc: 0.6708, Val Acc: 0.6445\n",
      "Epoch 198/200, Loss: 1.7597, Train Acc: 0.6708, Val Acc: 0.6445\n"
     ]
    },
    {
     "name": "stdout",
     "output_type": "stream",
     "text": [
      "Epoch 198/200, Loss: 1.7597, Train Acc: 0.6708, Val Acc: 0.6445\n"
     ]
    },
    {
     "name": "stderr",
     "output_type": "stream",
     "text": [
      "Iterating eval graphs: 100%|██████████| 65/65 [00:11<00:00,  5.54batch/s]\n",
      "Epoch 199/200, Loss: 1.6876, Train Acc: 0.6649, Val Acc: 0.6459\n",
      "Epoch 199/200, Loss: 1.6876, Train Acc: 0.6649, Val Acc: 0.6459\n",
      "Epoch 199/200, Loss: 1.6876, Train Acc: 0.6649, Val Acc: 0.6459\n",
      "Epoch 199/200, Loss: 1.6876, Train Acc: 0.6649, Val Acc: 0.6459\n"
     ]
    },
    {
     "name": "stdout",
     "output_type": "stream",
     "text": [
      "Epoch 199/200, Loss: 1.6876, Train Acc: 0.6649, Val Acc: 0.6459\n"
     ]
    },
    {
     "name": "stderr",
     "output_type": "stream",
     "text": [
      "Iterating eval graphs: 100%|██████████| 65/65 [00:11<00:00,  5.83batch/s]\n",
      "Epoch 200/200, Loss: 1.6151, Train Acc: 0.6749, Val Acc: 0.6634\n",
      "Epoch 200/200, Loss: 1.6151, Train Acc: 0.6749, Val Acc: 0.6634\n",
      "Epoch 200/200, Loss: 1.6151, Train Acc: 0.6749, Val Acc: 0.6634\n",
      "Epoch 200/200, Loss: 1.6151, Train Acc: 0.6749, Val Acc: 0.6634\n"
     ]
    },
    {
     "name": "stdout",
     "output_type": "stream",
     "text": [
      "Epoch 200/200, Loss: 1.6151, Train Acc: 0.6749, Val Acc: 0.6634\n"
     ]
    }
   ],
   "source": [
    "from torch.optim.lr_scheduler import ReduceLROnPlateau\n",
    "\n",
    "if args.train_path:\n",
    "    full_dataset = GraphDataset(args.train_path, transform=add_zeros)\n",
    "    val_size = int(0.2 * len(full_dataset))\n",
    "    train_size = len(full_dataset) - val_size\n",
    "\n",
    "    generator = torch.Generator().manual_seed(12)\n",
    "    train_dataset, val_dataset = random_split(full_dataset, [train_size, val_size], generator=generator)\n",
    "\n",
    "    train_dataset = IndexedSubDataset(train_dataset)\n",
    "\n",
    "    if args.baseline_mode == 2:\n",
    "\n",
    "        u = nn.Parameter(torch.zeros(len(train_dataset), device=device))\n",
    "        optimizer_u = torch.optim.Adam([u], lr=1)\n",
    "        optimizer_theta = torch.optim.Adam(model.parameters(), lr=0.001, weight_decay=1e-4)\n",
    "\n",
    "        #scheduler = ReduceLROnPlateau(\n",
    "        #optimizer_theta, \n",
    "        #mode='max',           # maximiser val_acc\n",
    "        #factor=0.5,           # réduction du LR par 2\n",
    "        #patience=5,           # n epochs sans amélioration\n",
    "        #threshold=1e-3,       # tolérance d’amélioration\n",
    "        #min_lr=1e-6           # LR minimum\n",
    "        #)\n",
    "\n",
    "\n",
    "        \n",
    "        criterion = GCODLoss(num_classes=6, alpha=1.0, beta=1.0)\n",
    "\n",
    "\n",
    "    train_loader = DataLoader(train_dataset, batch_size=args.batch_size, shuffle=False)  # shuffle=False mandatory, not to loose indexes ?\n",
    "    val_loader = DataLoader(val_dataset, batch_size=args.batch_size, shuffle=False)\n",
    "\n",
    "    num_epochs = args.epochs\n",
    "    best_val_accuracy = 0.0\n",
    "\n",
    "    train_losses = []\n",
    "    train_accuracies = []\n",
    "    val_losses = []\n",
    "    val_accuracies = []\n",
    "\n",
    "    if num_checkpoints > 1:\n",
    "        checkpoint_intervals = [int((i + 1) * num_epochs / num_checkpoints) for i in range(num_checkpoints)]\n",
    "    else:\n",
    "        checkpoint_intervals = [num_epochs]\n",
    "\n",
    "    for epoch in range(num_epochs):\n",
    "        train_loss, train_acc = train(\n",
    "            train_loader, model, optimizer_theta, optimizer_u, criterion, device\n",
    "        )\n",
    "\n",
    "        val_loss, val_acc = evaluate(val_loader, model, device, calculate_accuracy=True)\n",
    "\n",
    "        print(f\"Epoch {epoch + 1}/{num_epochs}, Loss: {train_loss:.4f}, Train Acc: {train_acc:.4f}, Val Acc: {val_acc:.4f}\")\n",
    "        logging.info(f\"Epoch {epoch + 1}/{num_epochs}, Loss: {train_loss:.4f}, Train Acc: {train_acc:.4f}, Val Acc: {val_acc:.4f}\")\n",
    "\n",
    "        train_losses.append(train_loss)\n",
    "        train_accuracies.append(train_acc)\n",
    "        val_losses.append(val_loss)\n",
    "        val_accuracies.append(val_acc)\n",
    "\n",
    "        # 🔽 Appel du scheduler avec la métrique à surveiller\n",
    "        #scheduler.step(val_acc)\n",
    "\n",
    "        if val_acc > best_val_accuracy:\n",
    "            best_val_accuracy = val_acc\n",
    "            torch.save(model.state_dict(), checkpoint_path)\n",
    "            print(f\"Best model updated and saved at {checkpoint_path}\")\n",
    "\n",
    "    plot_training_progress(train_losses, train_accuracies, os.path.join(logs_folder, \"plots\"))\n",
    "    plot_training_progress(val_losses, val_accuracies, os.path.join(logs_folder, \"plotsVal\"))"
   ]
  },
  {
   "cell_type": "code",
   "execution_count": 46,
   "id": "d73b2490-298c-48db-a841-4129da012472",
   "metadata": {
    "papermill": {
     "duration": null,
     "end_time": null,
     "exception": null,
     "start_time": null,
     "status": "pending"
    },
    "tags": []
   },
   "outputs": [
    {
     "data": {
      "text/plain": [
       "13584"
      ]
     },
     "execution_count": 46,
     "metadata": {},
     "output_type": "execute_result"
    }
   ],
   "source": [
    "import gc\n",
    "del train_dataset\n",
    "del train_loader\n",
    "del full_dataset\n",
    "del val_dataset\n",
    "del val_loader\n",
    "gc.collect()"
   ]
  },
  {
   "cell_type": "code",
   "execution_count": 47,
   "id": "1b4d9100-9af4-499c-a254-649a4d808ca1",
   "metadata": {
    "id": "xsXZIj4Mdu3I",
    "papermill": {
     "duration": null,
     "end_time": null,
     "exception": null,
     "start_time": null,
     "status": "pending"
    },
    "tags": []
   },
   "outputs": [],
   "source": [
    "test_dataset = GraphDataset(args.test_path, transform=add_zeros)\n",
    "test_loader = DataLoader(test_dataset, batch_size=args.batch_size, shuffle=False)"
   ]
  },
  {
   "cell_type": "code",
   "execution_count": 48,
   "id": "f9457899-93b7-45e8-997b-a440ac932c7e",
   "metadata": {
    "id": "x1OnGq_nCmTr",
    "papermill": {
     "duration": null,
     "end_time": null,
     "exception": null,
     "start_time": null,
     "status": "pending"
    },
    "tags": []
   },
   "outputs": [
    {
     "name": "stderr",
     "output_type": "stream",
     "text": [
      "Iterating eval graphs: 100%|██████████| 71/71 [00:11<00:00,  6.26batch/s]\n"
     ]
    },
    {
     "name": "stdout",
     "output_type": "stream",
     "text": [
      "Predictions saved to /home/onyxia/work/DL-Hackathon/hackaton/submission/testset_D.csv\n"
     ]
    },
    {
     "name": "stderr",
     "output_type": "stream",
     "text": [
      "\n"
     ]
    }
   ],
   "source": [
    "model.load_state_dict(torch.load(checkpoint_path))\n",
    "predictions = evaluate(test_loader, model, device, calculate_accuracy=False)\n",
    "save_predictions(predictions, args.test_path)"
   ]
  },
  {
   "cell_type": "markdown",
   "id": "c6ad9bfb-ae6d-48a4-85ac-1db7f9d89310",
   "metadata": {},
   "source": [
    "# Export"
   ]
  },
  {
   "cell_type": "code",
   "execution_count": 49,
   "id": "4f1594ef-0f72-4716-b53f-8da074eae4d5",
   "metadata": {
    "papermill": {
     "duration": null,
     "end_time": null,
     "exception": null,
     "start_time": null,
     "status": "pending"
    },
    "tags": []
   },
   "outputs": [
    {
     "name": "stdout",
     "output_type": "stream",
     "text": [
      "Folder '/home/onyxia/work/DL-Hackathon/hackaton/submission' has been compressed into '/home/onyxia/work/DL-Hackathon/hackaton/submission.gz'\n"
     ]
    }
   ],
   "source": [
    "import tarfile\n",
    "import os\n",
    "\n",
    "def gzip_folder(folder_path, output_file):\n",
    "    \"\"\"\n",
    "    Compresses an entire folder into a single .tar.gz file.\n",
    "\n",
    "    Args:\n",
    "        folder_path (str): Path to the folder to compress.\n",
    "        output_file (str): Path to the output .gz file.\n",
    "    \"\"\"\n",
    "    with tarfile.open(output_file, \"w:gz\") as tar:\n",
    "        tar.add(folder_path, arcname=os.path.basename(folder_path))\n",
    "    print(f\"Folder '{folder_path}' has been compressed into '{output_file}'\")\n",
    "\n",
    "# Example usage\n",
    "folder_path = \"/home/onyxia/work/DL-Hackathon/hackaton/submission\"            # Path to the folder you want to compress\n",
    "output_file = \"/home/onyxia/work/DL-Hackathon/hackaton/submission.gz\"        # Output .gz file name\n",
    "gzip_folder(folder_path, output_file)"
   ]
  },
  {
   "cell_type": "code",
   "execution_count": 51,
   "id": "d1819921-968f-4457-ad59-3c960d92e8eb",
   "metadata": {},
   "outputs": [
    {
     "name": "stdout",
     "output_type": "stream",
     "text": [
      "Folder '/home/onyxia/work/DL-Hackathon/hackaton/logs' has been compressed into '/home/onyxia/work/DL-Hackathon/hackaton/logs.gz'\n"
     ]
    }
   ],
   "source": [
    "# Example usage\n",
    "folder_path = \"/home/onyxia/work/DL-Hackathon/hackaton/logs\"            # Path to the folder you want to compress\n",
    "output_file = \"/home/onyxia/work/DL-Hackathon/hackaton/logs.gz\"        # Output .gz file name\n",
    "gzip_folder(folder_path, output_file)"
   ]
  },
  {
   "cell_type": "code",
   "execution_count": 52,
   "id": "c7f939db-06f0-4f43-92de-03b22cbb90c9",
   "metadata": {},
   "outputs": [
    {
     "name": "stdout",
     "output_type": "stream",
     "text": [
      "Folder '/home/onyxia/work/DL-Hackathon/hackaton/checkpoints' has been compressed into '/home/onyxia/work/DL-Hackathon/hackaton/checkpoints.gz'\n"
     ]
    }
   ],
   "source": [
    "# Example usage\n",
    "folder_path = \"/home/onyxia/work/DL-Hackathon/hackaton/checkpoints\"            # Path to the folder you want to compress\n",
    "output_file = \"/home/onyxia/work/DL-Hackathon/hackaton/checkpoints.gz\"        # Output .gz file name\n",
    "gzip_folder(folder_path, output_file)"
   ]
  },
  {
   "cell_type": "code",
   "execution_count": null,
   "id": "6dd93cef-6ebd-4379-94d1-c1c386c40660",
   "metadata": {},
   "outputs": [],
   "source": []
  }
 ],
 "metadata": {
  "accelerator": "GPU",
  "colab": {
   "gpuType": "T4",
   "provenance": []
  },
  "kaggle": {
   "accelerator": "gpu",
   "dataSources": [],
   "dockerImageVersionId": 30919,
   "isGpuEnabled": true,
   "isInternetEnabled": true,
   "language": "python",
   "sourceType": "notebook"
  },
  "kernelspec": {
   "display_name": "Python 3 (ipykernel)",
   "language": "python",
   "name": "python3"
  },
  "language_info": {
   "codemirror_mode": {
    "name": "ipython",
    "version": 3
   },
   "file_extension": ".py",
   "mimetype": "text/x-python",
   "name": "python",
   "nbconvert_exporter": "python",
   "pygments_lexer": "ipython3",
   "version": "3.12.9"
  },
  "papermill": {
   "default_parameters": {},
   "duration": 108.457758,
   "end_time": "2025-05-21T16:25:04.482169",
   "environment_variables": {},
   "exception": true,
   "input_path": "__notebook__.ipynb",
   "output_path": "__notebook__.ipynb",
   "parameters": {},
   "start_time": "2025-05-21T16:23:16.024411",
   "version": "2.6.0"
  }
 },
 "nbformat": 4,
 "nbformat_minor": 5
}
