{
 "cells": [
  {
   "cell_type": "code",
   "execution_count": 5,
   "id": "6228bc1c",
   "metadata": {
    "id": "xSkgt1zf-raF",
    "outputId": "59f4a52f-5eb4-41e5-9fba-07432989fe78",
    "papermill": {
     "duration": 5.620104,
     "end_time": "2025-05-21T16:23:24.361690",
     "exception": false,
     "start_time": "2025-05-21T16:23:18.741586",
     "status": "completed"
    },
    "tags": []
   },
   "outputs": [],
   "source": [
    "!pip install torch_geometric torch gdown --quiet"
   ]
  },
  {
   "cell_type": "code",
   "execution_count": 2,
   "id": "c86aceda",
   "metadata": {
    "execution": {
     "iopub.execute_input": "2025-05-21T16:23:24.371427Z",
     "iopub.status.busy": "2025-05-21T16:23:24.371136Z",
     "iopub.status.idle": "2025-05-21T16:23:28.413941Z",
     "shell.execute_reply": "2025-05-21T16:23:28.413071Z"
    },
    "id": "5oR2D2Us-xSQ",
    "outputId": "7086cadf-a7fe-4d75-f271-6339bee8164d",
    "papermill": {
     "duration": 4.049235,
     "end_time": "2025-05-21T16:23:28.415556",
     "exception": false,
     "start_time": "2025-05-21T16:23:24.366321",
     "status": "completed"
    },
    "tags": []
   },
   "outputs": [
    {
     "name": "stdout",
     "output_type": "stream",
     "text": [
      "Cloning into 'hackaton'...\r\n",
      "remote: Enumerating objects: 69, done.\u001b[K\r\n",
      "remote: Counting objects: 100% (7/7), done.\u001b[K\r\n",
      "remote: Compressing objects: 100% (7/7), done.\u001b[K\r\n",
      "remote: Total 69 (delta 1), reused 0 (delta 0), pack-reused 62 (from 2)\u001b[K\r\n",
      "Receiving objects: 100% (69/69), 105.83 MiB | 46.69 MiB/s, done.\r\n",
      "Resolving deltas: 100% (2/2), done.\r\n"
     ]
    }
   ],
   "source": [
    "!git clone --branch baselineCe https://github.com/Graph-Classification-Noisy-Label/hackaton.git"
   ]
  },
  {
   "cell_type": "code",
   "execution_count": 6,
   "id": "c129091c",
   "metadata": {
    "id": "tEhfPly6-7UK",
    "outputId": "3078ee06-6312-4fca-f5f9-888fa628c80a",
    "papermill": {
     "duration": 0.013251,
     "end_time": "2025-05-21T16:23:28.434119",
     "exception": false,
     "start_time": "2025-05-21T16:23:28.420868",
     "status": "completed"
    },
    "tags": []
   },
   "outputs": [
    {
     "name": "stdout",
     "output_type": "stream",
     "text": [
      "/home/onyxia/work/DL-Hackathon/hackaton\n"
     ]
    }
   ],
   "source": [
    "%cd hackaton/"
   ]
  },
  {
   "cell_type": "code",
   "execution_count": 4,
   "id": "d48103c0",
   "metadata": {
    "execution": {
     "iopub.execute_input": "2025-05-21T16:23:28.444590Z",
     "iopub.status.busy": "2025-05-21T16:23:28.444373Z",
     "iopub.status.idle": "2025-05-21T16:24:52.394975Z",
     "shell.execute_reply": "2025-05-21T16:24:52.393870Z"
    },
    "id": "PxBvwB0_6xI8",
    "outputId": "5933387c-2cfb-474f-d842-f36a3e2d2a73",
    "papermill": {
     "duration": 83.957666,
     "end_time": "2025-05-21T16:24:52.396720",
     "exception": false,
     "start_time": "2025-05-21T16:23:28.439054",
     "status": "completed"
    },
    "tags": []
   },
   "outputs": [
    {
     "name": "stdout",
     "output_type": "stream",
     "text": [
      "Retrieving folder contents\r\n",
      "Retrieving folder 1wcUVBNQkZ04zStXkglXSgERfIvjSHJiL A\r\n",
      "Processing file 1C8sjkO6JS0j2SyVwQ07m8PhQ-pHpuI78 test.json.gz\r\n",
      "Processing file 12N11n8gufNA_C1ns-1IeBseBHgrSfRI1 train.json.gz\r\n",
      "Retrieving folder 1Tj5YoYYDDXjDxxi-cywZgoDkT0b1Qbz- B\r\n",
      "Processing file 11GBlrXMdP3HSD60w-56Tu6rbGkR-Ifww test.json.gz\r\n",
      "Processing file 13vp-Kwef3UgAwMG-dokGwKyARym9iqtL train.json.gz\r\n",
      "Retrieving folder 1e3B_tBMd693Iwv8x3zRR9c47l5yt_5ey C\r\n",
      "Processing file 18XVe65ZsQ0PDLCqQa4WmneVhyfjGcXmT test.json.gz\r\n",
      "Processing file 1z5lvG2CytbLQZt7Jmo9BopzFd0pKejEj train.json.gz\r\n",
      "Retrieving folder 1cvM0eZwpD4gzjo44_zdodxudVBMrLza1 D\r\n",
      "Processing file 1Gna_dHnBLX8vKaYGAAqAbw5QPerrNK1u test.json.gz\r\n",
      "Processing file 1Pc-6LMML80-AgEoLVs2Q5hLtmR_rTEek train.json.gz\r\n",
      "Retrieving folder contents completed\r\n",
      "Building directory structure\r\n",
      "Building directory structure completed\r\n",
      "Downloading...\r\n",
      "From (original): https://drive.google.com/uc?id=1C8sjkO6JS0j2SyVwQ07m8PhQ-pHpuI78\r\n",
      "From (redirected): https://drive.google.com/uc?id=1C8sjkO6JS0j2SyVwQ07m8PhQ-pHpuI78&confirm=t&uuid=a7856270-3308-4405-9716-a51c178a40cb\r\n",
      "To: /kaggle/working/hackaton/datasets/A/test.json.gz\r\n",
      "100%|██████████████████████████████████████| 92.4M/92.4M [00:01<00:00, 89.0MB/s]\r\n",
      "Downloading...\r\n",
      "From (original): https://drive.google.com/uc?id=12N11n8gufNA_C1ns-1IeBseBHgrSfRI1\r\n",
      "From (redirected): https://drive.google.com/uc?id=12N11n8gufNA_C1ns-1IeBseBHgrSfRI1&confirm=t&uuid=e9ac1b5d-9eb6-4384-8788-244f994ddee7\r\n",
      "To: /kaggle/working/hackaton/datasets/A/train.json.gz\r\n",
      "100%|█████████████████████████████████████████| 465M/465M [00:03<00:00, 134MB/s]\r\n",
      "Downloading...\r\n",
      "From (original): https://drive.google.com/uc?id=11GBlrXMdP3HSD60w-56Tu6rbGkR-Ifww\r\n",
      "From (redirected): https://drive.google.com/uc?id=11GBlrXMdP3HSD60w-56Tu6rbGkR-Ifww&confirm=t&uuid=7a8b3241-0cc6-4db7-9e59-1fe9251ac688\r\n",
      "To: /kaggle/working/hackaton/datasets/B/test.json.gz\r\n",
      "100%|██████████████████████████████████████| 63.0M/63.0M [00:01<00:00, 51.7MB/s]\r\n",
      "Downloading...\r\n",
      "From (original): https://drive.google.com/uc?id=13vp-Kwef3UgAwMG-dokGwKyARym9iqtL\r\n",
      "From (redirected): https://drive.google.com/uc?id=13vp-Kwef3UgAwMG-dokGwKyARym9iqtL&confirm=t&uuid=cda6e860-4391-443e-a3f7-478219208f67\r\n",
      "To: /kaggle/working/hackaton/datasets/B/train.json.gz\r\n",
      "100%|████████████████████████████████████████| 223M/223M [00:03<00:00, 60.9MB/s]\r\n",
      "Downloading...\r\n",
      "From (original): https://drive.google.com/uc?id=18XVe65ZsQ0PDLCqQa4WmneVhyfjGcXmT\r\n",
      "From (redirected): https://drive.google.com/uc?id=18XVe65ZsQ0PDLCqQa4WmneVhyfjGcXmT&confirm=t&uuid=246d080d-822d-4750-bdd9-b4fc48a7c179\r\n",
      "To: /kaggle/working/hackaton/datasets/C/test.json.gz\r\n",
      "100%|███████████████████████████████████████| 60.5M/60.5M [00:00<00:00, 158MB/s]\r\n",
      "Downloading...\r\n",
      "From (original): https://drive.google.com/uc?id=1z5lvG2CytbLQZt7Jmo9BopzFd0pKejEj\r\n",
      "From (redirected): https://drive.google.com/uc?id=1z5lvG2CytbLQZt7Jmo9BopzFd0pKejEj&confirm=t&uuid=4d210b8d-53bf-45e7-978e-af1db98866a3\r\n",
      "To: /kaggle/working/hackaton/datasets/C/train.json.gz\r\n",
      "100%|█████████████████████████████████████████| 308M/308M [00:02<00:00, 117MB/s]\r\n",
      "Downloading...\r\n",
      "From (original): https://drive.google.com/uc?id=1Gna_dHnBLX8vKaYGAAqAbw5QPerrNK1u\r\n",
      "From (redirected): https://drive.google.com/uc?id=1Gna_dHnBLX8vKaYGAAqAbw5QPerrNK1u&confirm=t&uuid=46d41bcf-3b68-4b08-9595-ff46887fcf06\r\n",
      "To: /kaggle/working/hackaton/datasets/D/test.json.gz\r\n",
      "100%|██████████████████████████████████████| 94.0M/94.0M [00:02<00:00, 46.5MB/s]\r\n",
      "Downloading...\r\n",
      "From (original): https://drive.google.com/uc?id=1Pc-6LMML80-AgEoLVs2Q5hLtmR_rTEek\r\n",
      "From (redirected): https://drive.google.com/uc?id=1Pc-6LMML80-AgEoLVs2Q5hLtmR_rTEek&confirm=t&uuid=20f43e5c-4068-4e33-bdaf-636be0c3165d\r\n",
      "To: /kaggle/working/hackaton/datasets/D/train.json.gz\r\n",
      "100%|████████████████████████████████████████| 439M/439M [00:05<00:00, 75.9MB/s]\r\n",
      "Download completed\r\n"
     ]
    }
   ],
   "source": [
    "!gdown --folder https://drive.google.com/drive/folders/1Z-1JkPJ6q4C6jX4brvq1VRbJH5RPUCAk -O datasets\n"
   ]
  },
  {
   "cell_type": "code",
   "execution_count": 7,
   "id": "80dab1bc",
   "metadata": {
    "id": "1rockhiQ7Nny",
    "outputId": "2cd2e6f4-5f8f-4a62-f0ec-53e6fc78c9b7",
    "papermill": {
     "duration": 0.138969,
     "end_time": "2025-05-21T16:24:52.549260",
     "exception": false,
     "start_time": "2025-05-21T16:24:52.410291",
     "status": "completed"
    },
    "tags": []
   },
   "outputs": [
    {
     "name": "stdout",
     "output_type": "stream",
     "text": [
      "total 16K\n",
      "drwxrwsr-x 2 onyxia users 4.0K May 24 07:10 A\n",
      "drwxrwsr-x 2 onyxia users 4.0K May 24 07:11 B\n",
      "drwxrwsr-x 2 onyxia users 4.0K May 24 07:11 C\n",
      "drwxrwsr-x 2 onyxia users 4.0K May 24 07:11 D\n"
     ]
    }
   ],
   "source": [
    "!ls -lh datasets"
   ]
  },
  {
   "cell_type": "code",
   "execution_count": null,
   "id": "5ca06ed0-d9f7-458d-a7ec-c4eef3c5d7c1",
   "metadata": {
    "execution": {
     "iopub.execute_input": "2025-05-21T16:24:52.573213Z",
     "iopub.status.busy": "2025-05-21T16:24:52.572983Z",
     "iopub.status.idle": "2025-05-21T16:25:02.508892Z",
     "shell.execute_reply": "2025-05-21T16:25:02.508145Z"
    },
    "id": "lAQuCuIoBbq5",
    "papermill": {
     "duration": 9.949638,
     "end_time": "2025-05-21T16:25:02.510764",
     "exception": false,
     "start_time": "2025-05-21T16:24:52.561126",
     "status": "completed"
    },
    "tags": []
   },
   "outputs": [],
   "source": [
    "import os\n",
    "import torch\n",
    "import pandas as pd\n",
    "import matplotlib.pyplot as plt\n",
    "import logging\n",
    "from tqdm import tqdm\n",
    "from torch_geometric.loader import DataLoader\n",
    "from torch.utils.data import random_split\n",
    "# Load utility functions from cloned repository\n",
    "from src.loadData import GraphDataset\n",
    "from src.utils import set_seed\n",
    "from src.models import GNN\n",
    "import argparse\n",
    "\n",
    "# Set the random seed\n",
    "set_seed()\n",
    "\n",
    "\n",
    "def add_zeros(data):\n",
    "    data.x = torch.zeros(data.num_nodes, dtype=torch.long)\n",
    "    return data\n",
    "\n",
    "def train(data_loader, model, optimizer, criterion, device, save_checkpoints, checkpoint_path, current_epoch):\n",
    "    model.train()\n",
    "    total_loss = 0\n",
    "    correct = 0\n",
    "    total = 0\n",
    "    for data in tqdm(data_loader, desc=\"Iterating training graphs\", unit=\"batch\"):\n",
    "        data = data.to(device)\n",
    "        optimizer.zero_grad()\n",
    "        output = model(data)\n",
    "        loss = criterion(output, data.y)\n",
    "        loss.backward()\n",
    "        optimizer.step()\n",
    "        total_loss += loss.item()\n",
    "        pred = output.argmax(dim=1)\n",
    "        correct += (pred == data.y).sum().item()\n",
    "        total += data.y.size(0)\n",
    "\n",
    "    # Save checkpoints if required\n",
    "    if save_checkpoints:\n",
    "        checkpoint_file = f\"{checkpoint_path}_epoch_{current_epoch + 1}.pth\"\n",
    "        torch.save(model.state_dict(), checkpoint_file)\n",
    "        print(f\"Checkpoint saved at {checkpoint_file}\")\n",
    "\n",
    "    return total_loss / len(data_loader),  correct / total\n",
    "\n",
    "def evaluate(data_loader, model, device, calculate_accuracy=False):\n",
    "    model.eval()\n",
    "    correct = 0\n",
    "    total = 0\n",
    "    predictions = []\n",
    "    total_loss = 0\n",
    "    criterion = torch.nn.CrossEntropyLoss()\n",
    "    with torch.no_grad():\n",
    "        for data in tqdm(data_loader, desc=\"Iterating eval graphs\", unit=\"batch\"):\n",
    "            data = data.to(device)\n",
    "            output = model(data)\n",
    "            pred = output.argmax(dim=1)\n",
    "            \n",
    "            if calculate_accuracy:\n",
    "                correct += (pred == data.y).sum().item()\n",
    "                total += data.y.size(0)\n",
    "                total_loss += criterion(output, data.y).item()\n",
    "            else:\n",
    "                predictions.extend(pred.cpu().numpy())\n",
    "    if calculate_accuracy:\n",
    "        accuracy = correct / total\n",
    "        return  total_loss / len(data_loader),accuracy\n",
    "    return predictions\n",
    "\n",
    "def save_predictions(predictions, test_path):\n",
    "    script_dir = os.getcwd() \n",
    "    submission_folder = os.path.join(script_dir, \"submission\")\n",
    "    test_dir_name = os.path.basename(os.path.dirname(test_path))\n",
    "    \n",
    "    os.makedirs(submission_folder, exist_ok=True)\n",
    "    \n",
    "    output_csv_path = os.path.join(submission_folder, f\"testset_{test_dir_name}.csv\")\n",
    "    \n",
    "    test_graph_ids = list(range(len(predictions)))\n",
    "    output_df = pd.DataFrame({\n",
    "        \"id\": test_graph_ids,\n",
    "        \"pred\": predictions\n",
    "    })\n",
    "    \n",
    "    output_df.to_csv(output_csv_path, index=False)\n",
    "    print(f\"Predictions saved to {output_csv_path}\")\n",
    "\n",
    "def plot_training_progress(train_losses, train_accuracies, output_dir):\n",
    "    epochs = range(1, len(train_losses) + 1)\n",
    "    plt.figure(figsize=(12, 6))\n",
    "\n",
    "    # Plot loss\n",
    "    plt.subplot(1, 2, 1)\n",
    "    plt.plot(epochs, train_losses, label=\"Training Loss\", color='blue')\n",
    "    plt.xlabel('Epoch')\n",
    "    plt.ylabel('Loss')\n",
    "    plt.title('Training Loss per Epoch')\n",
    "\n",
    "    # Plot accuracy\n",
    "    plt.subplot(1, 2, 2)\n",
    "    plt.plot(epochs, train_accuracies, label=\"Training Accuracy\", color='green')\n",
    "    plt.xlabel('Epoch')\n",
    "    plt.ylabel('Accuracy')\n",
    "    plt.title('Training Accuracy per Epoch')\n",
    "\n",
    "    # Save plots in the current directory\n",
    "    os.makedirs(output_dir, exist_ok=True)\n",
    "    plt.tight_layout()\n",
    "    plt.savefig(os.path.join(output_dir, \"training_progress.png\"))\n",
    "    plt.close()\n",
    "\n",
    "def get_user_input(prompt, default=None, required=False, type_cast=str):\n",
    "\n",
    "    while True:\n",
    "        user_input = input(f\"{prompt} [{default}]: \")\n",
    "        \n",
    "        if user_input == \"\" and required:\n",
    "            print(\"This field is required. Please enter a value.\")\n",
    "            continue\n",
    "        \n",
    "        if user_input == \"\" and default is not None:\n",
    "            return default\n",
    "        \n",
    "        if user_input == \"\" and not required:\n",
    "            return None\n",
    "        \n",
    "        try:\n",
    "            return type_cast(user_input)\n",
    "        except ValueError:\n",
    "            print(f\"Invalid input. Please enter a valid {type_cast.__name__}.\")\n",
    "\n",
    "def get_arguments():\n",
    "    args = {}\n",
    "    args['train_path'] = get_user_input(\"Path to the training dataset (optional)\")\n",
    "    args['test_path'] = get_user_input(\"Path to the test dataset\", required=True)\n",
    "    args['num_checkpoints'] = get_user_input(\"Number of checkpoints to save during training\", type_cast=int)\n",
    "    args['device'] = get_user_input(\"Which GPU to use if any\", default=1, type_cast=int)\n",
    "    args['gnn'] = get_user_input(\"GNN type (gin, gin-virtual, gcn, gcn-virtual)\", default='gin')\n",
    "    args['drop_ratio'] = get_user_input(\"Dropout ratio\", default=0.0, type_cast=float)\n",
    "    args['num_layer'] = get_user_input(\"Number of GNN message passing layers\", default=5, type_cast=int)\n",
    "    args['emb_dim'] = get_user_input(\"Dimensionality of hidden units in GNNs\", default=300, type_cast=int)\n",
    "    args['batch_size'] = get_user_input(\"Input batch size for training\", default=32, type_cast=int)\n",
    "    args['epochs'] = get_user_input(\"Number of epochs to train\", default=10, type_cast=int)\n",
    "    args['baseline_mode'] = get_user_input(\"Baseline mode: 1 (CE), 2 (Noisy CE)\", default=1, type_cast=int)\n",
    "    args['noise_prob'] = get_user_input(\"Noise probability p (used if baseline_mode=2)\", default=0.2, type_cast=float)\n",
    "\n",
    "    \n",
    "    return argparse.Namespace(**args)\n",
    "\n",
    "\n",
    "def populate_args(args):\n",
    "    print(\"Arguments received:\")\n",
    "    for key, value in vars(args).items():\n",
    "        print(f\"{key}: {value}\")\n",
    "args = get_arguments()\n",
    "populate_args(args)\n",
    "\n",
    "class NoisyCrossEntropyLoss(torch.nn.Module):\n",
    "    def __init__(self, p_noisy):\n",
    "        super().__init__()\n",
    "        self.p = p_noisy\n",
    "        self.ce = torch.nn.CrossEntropyLoss(reduction='none')\n",
    "\n",
    "    def forward(self, logits, targets):\n",
    "        losses = self.ce(logits, targets)\n",
    "        weights = (1 - self.p) + self.p * (1 - torch.nn.functional.one_hot(targets, num_classes=logits.size(1)).float().sum(dim=1))\n",
    "        return (losses * weights).mean()\n",
    "\n",
    "script_dir = os.getcwd() \n",
    "# device = torch.device(f\"cuda:{args.device}\" if torch.cuda.is_available() else \"cpu\")\n",
    "device = torch.device(\"cuda\" if torch.cuda.is_available() else \"cpu\")\n",
    "num_checkpoints = args.num_checkpoints if args.num_checkpoints else 3\n",
    "    \n",
    "if args.gnn == 'gin':\n",
    "    model = GNN(gnn_type='gin', num_class=6, num_layer=args.num_layer, emb_dim=args.emb_dim, drop_ratio=args.drop_ratio, virtual_node=False).to(device)\n",
    "elif args.gnn == 'gin-virtual':\n",
    "    model = GNN(gnn_type='gin', num_class=6, num_layer=args.num_layer, emb_dim=args.emb_dim, drop_ratio=args.drop_ratio, virtual_node=True).to(device)\n",
    "elif args.gnn == 'gcn':\n",
    "    model = GNN(gnn_type='gcn', num_class=6, num_layer=args.num_layer, emb_dim=args.emb_dim, drop_ratio=args.drop_ratio, virtual_node=False).to(device)\n",
    "elif args.gnn == 'gcn-virtual':\n",
    "    model = GNN(gnn_type='gcn', num_class=6, num_layer=args.num_layer, emb_dim=args.emb_dim, drop_ratio=args.drop_ratio, virtual_node=True).to(device)\n",
    "else:\n",
    "    raise ValueError('Invalid GNN type')\n",
    "    \n",
    "optimizer = torch.optim.Adam(model.parameters(), lr=0.001)\n",
    "# criterion = torch.nn.CrossEntropyLoss()\n",
    "if args.baseline_mode == 2:\n",
    "    criterion = NoisyCrossEntropyLoss(args.noise_prob)\n",
    "else:\n",
    "    criterion = torch.nn.CrossEntropyLoss()\n",
    "\n",
    "test_dir_name = os.path.basename(os.path.dirname(args.test_path))\n",
    "logs_folder = os.path.join(script_dir, \"logs\", test_dir_name)\n",
    "log_file = os.path.join(logs_folder, \"training.log\")\n",
    "os.makedirs(os.path.dirname(log_file), exist_ok=True)\n",
    "logging.basicConfig(filename=log_file, level=logging.INFO, format='%(asctime)s - %(message)s')\n",
    "logging.getLogger().addHandler(logging.StreamHandler())\n",
    "\n",
    "checkpoint_path = os.path.join(script_dir, \"checkpoints\", f\"model_{test_dir_name}_best.pth\")\n",
    "checkpoints_folder = os.path.join(script_dir, \"checkpoints\", test_dir_name)\n",
    "os.makedirs(checkpoints_folder, exist_ok=True)\n",
    "\n",
    "\n",
    "if os.path.exists(checkpoint_path) and not args.train_path:\n",
    "    model.load_state_dict(torch.load(checkpoint_path))\n",
    "    print(f\"Loaded best model from {checkpoint_path}\")\n",
    "\n",
    "if args.train_path:\n",
    "    full_dataset = GraphDataset(args.train_path, transform=add_zeros)\n",
    "    val_size = int(0.2 * len(full_dataset))\n",
    "    train_size = len(full_dataset) - val_size\n",
    "\n",
    "    \n",
    "    generator = torch.Generator().manual_seed(12)\n",
    "    train_dataset, val_dataset = random_split(full_dataset, [train_size, val_size], generator=generator)\n",
    "\n",
    "    train_loader = DataLoader(train_dataset, batch_size=args.batch_size, shuffle=True)\n",
    "    val_loader = DataLoader(val_dataset, batch_size=args.batch_size, shuffle=False)\n",
    "\n",
    "    num_epochs = args.epochs\n",
    "    best_val_accuracy = 0.0   \n",
    "\n",
    "    train_losses = []\n",
    "    train_accuracies = []\n",
    "    val_losses = []\n",
    "    val_accuracies = []\n",
    "\n",
    "    if num_checkpoints > 1:\n",
    "        checkpoint_intervals = [int((i + 1) * num_epochs / num_checkpoints) for i in range(num_checkpoints)]\n",
    "    else:\n",
    "        checkpoint_intervals = [num_epochs]\n",
    "\n",
    "    for epoch in range(num_epochs):\n",
    "        train_loss, train_acc = train(\n",
    "            train_loader, model, optimizer, criterion, device,\n",
    "            save_checkpoints=(epoch + 1 in checkpoint_intervals),\n",
    "            checkpoint_path=os.path.join(checkpoints_folder, f\"model_{test_dir_name}\"),\n",
    "            current_epoch=epoch\n",
    "        )\n",
    "\n",
    "        val_loss,val_acc = evaluate(val_loader, model, device, calculate_accuracy=True)\n",
    "\n",
    "        print(f\"Epoch {epoch + 1}/{num_epochs}, Loss: {train_loss:.4f}, Train Acc: {train_acc:.4f}, Val Acc: {val_acc:.4f}\")\n",
    "        logging.info(f\"Epoch {epoch + 1}/{num_epochs}, Loss: {train_loss:.4f}, Train Acc: {train_acc:.4f}, Val Acc: {val_acc:.4f}\")\n",
    "\n",
    "        train_losses.append(train_loss)\n",
    "        train_accuracies.append(train_acc)\n",
    "        val_losses.append(val_loss)\n",
    "        val_accuracies.append(val_acc)\n",
    "\n",
    "        \n",
    "        if val_acc > best_val_accuracy:\n",
    "            best_val_accuracy = val_acc\n",
    "            torch.save(model.state_dict(), checkpoint_path)\n",
    "            print(f\"Best model updated and saved at {checkpoint_path}\")\n",
    "\n",
    "    plot_training_progress(train_losses, train_accuracies, os.path.join(logs_folder, \"plots\"))\n",
    "    plot_training_progress(val_losses, val_accuracies, os.path.join(logs_folder, \"plotsVal\"))"
   ]
  },
  {
   "cell_type": "code",
   "execution_count": null,
   "id": "07594aff",
   "metadata": {
    "papermill": {
     "duration": null,
     "end_time": null,
     "exception": null,
     "start_time": null,
     "status": "pending"
    },
    "tags": []
   },
   "outputs": [],
   "source": [
    "import gc\n",
    "del train_dataset\n",
    "del train_loader\n",
    "del full_dataset\n",
    "del val_dataset\n",
    "del val_loader\n",
    "gc.collect()"
   ]
  },
  {
   "cell_type": "code",
   "execution_count": null,
   "id": "ba668fff",
   "metadata": {
    "id": "xsXZIj4Mdu3I",
    "papermill": {
     "duration": null,
     "end_time": null,
     "exception": null,
     "start_time": null,
     "status": "pending"
    },
    "tags": []
   },
   "outputs": [],
   "source": [
    "test_dataset = GraphDataset(args.test_path, transform=add_zeros)\n",
    "test_loader = DataLoader(test_dataset, batch_size=args.batch_size, shuffle=False)\n",
    "    "
   ]
  },
  {
   "cell_type": "code",
   "execution_count": null,
   "id": "7828e983",
   "metadata": {
    "id": "x1OnGq_nCmTr",
    "papermill": {
     "duration": null,
     "end_time": null,
     "exception": null,
     "start_time": null,
     "status": "pending"
    },
    "tags": []
   },
   "outputs": [],
   "source": [
    "model.load_state_dict(torch.load(checkpoint_path))\n",
    "predictions = evaluate(test_loader, model, device, calculate_accuracy=False)\n",
    "save_predictions(predictions, args.test_path)"
   ]
  },
  {
   "cell_type": "code",
   "execution_count": 1,
   "id": "343c36b2",
   "metadata": {
    "papermill": {
     "duration": null,
     "end_time": null,
     "exception": null,
     "start_time": null,
     "status": "pending"
    },
    "tags": []
   },
   "outputs": [],
   "source": [
    "from collections import Counter\n",
    "import matplotlib.pyplot as plt\n",
    "import gzip\n",
    "import json\n",
    "import torch\n",
    "from torch_geometric.data import DataLoader\n",
    "\n",
    "def count_class_distribution(dataset):\n",
    "    all_labels = []\n",
    "\n",
    "    for data in dataset:\n",
    "        if hasattr(data, 'y'):\n",
    "            label = int(data.y.item()) if data.y.numel() == 1 else data.y.tolist()\n",
    "            all_labels.append(label)\n",
    "\n",
    "    counter = Counter(all_labels)\n",
    "    num_classes = max(counter.keys()) + 1\n",
    "    counts = [counter.get(i, 0) for i in range(num_classes)]\n",
    "\n",
    "    print(\"Répartition des classes :\", dict(counter))\n",
    "\n",
    "    # Visualisation\n",
    "    plt.bar(range(num_classes), counts)\n",
    "    plt.xlabel(\"Classe\")\n",
    "    plt.ylabel(\"Nombre d'échantillons\")\n",
    "    plt.title(\"Répartition des classes dans le dataset\")\n",
    "    plt.grid(True, linestyle='--', alpha=0.5)\n",
    "    plt.show()\n",
    "\n",
    "    return counts"
   ]
  },
  {
   "cell_type": "code",
   "execution_count": 2,
   "id": "b167e160-317b-46b9-9d93-7bd32998d3b5",
   "metadata": {},
   "outputs": [
    {
     "ename": "ModuleNotFoundError",
     "evalue": "No module named 'my_dataset_loader'",
     "output_type": "error",
     "traceback": [
      "\u001b[31m---------------------------------------------------------------------------\u001b[39m",
      "\u001b[31mModuleNotFoundError\u001b[39m                       Traceback (most recent call last)",
      "\u001b[36mCell\u001b[39m\u001b[36m \u001b[39m\u001b[32mIn[2]\u001b[39m\u001b[32m, line 1\u001b[39m\n\u001b[32m----> \u001b[39m\u001b[32m1\u001b[39m \u001b[38;5;28;01mfrom\u001b[39;00m\u001b[38;5;250m \u001b[39m\u001b[34;01mmy_dataset_loader\u001b[39;00m\u001b[38;5;250m \u001b[39m\u001b[38;5;28;01mimport\u001b[39;00m get_dataset  \u001b[38;5;66;03m# selon ton code\u001b[39;00m\n\u001b[32m      3\u001b[39m dataset = get_dataset(\u001b[33m\"\u001b[39m\u001b[33mdatasets/A/train.json.gz\u001b[39m\u001b[33m\"\u001b[39m)\n\u001b[32m      4\u001b[39m count_class_distribution(dataset)\n",
      "\u001b[31mModuleNotFoundError\u001b[39m: No module named 'my_dataset_loader'"
     ]
    }
   ],
   "source": [
    "from my_dataset_loader import get_dataset  # selon ton code\n",
    "\n",
    "dataset = get_dataset(\"datasets/A/train.json.gz\")\n",
    "count_class_distribution(dataset)"
   ]
  },
  {
   "cell_type": "code",
   "execution_count": 1,
   "id": "bfc3f73c-f0d7-4381-aabd-c8edf4680ead",
   "metadata": {
    "scrolled": true
   },
   "outputs": [
    {
     "name": "stdout",
     "output_type": "stream",
     "text": [
      "/home/onyxia/work/DL-Hackathon/hackaton\n"
     ]
    },
    {
     "name": "stderr",
     "output_type": "stream",
     "text": [
      "Iterating training graphs:   0%|          | 10/9024 [00:00<03:44, 40.12batch/s]"
     ]
    },
    {
     "name": "stdout",
     "output_type": "stream",
     "text": [
      "tensor([1])\n",
      "tensor([2])\n",
      "tensor([4])\n",
      "tensor([4])\n",
      "tensor([3])\n",
      "tensor([5])\n",
      "tensor([3])\n",
      "tensor([2])\n",
      "tensor([5])\n",
      "tensor([1])\n",
      "tensor([5])\n",
      "tensor([3])\n",
      "tensor([3])\n",
      "tensor([0])\n",
      "tensor([4])\n",
      "tensor([1])\n",
      "tensor([0])\n",
      "tensor([2])\n",
      "tensor([3])\n",
      "tensor([0])\n"
     ]
    },
    {
     "name": "stderr",
     "output_type": "stream",
     "text": [
      "Iterating training graphs:   0%|          | 29/9024 [00:00<02:14, 66.84batch/s]"
     ]
    },
    {
     "name": "stdout",
     "output_type": "stream",
     "text": [
      "tensor([2])\n",
      "tensor([0])\n",
      "tensor([0])\n",
      "tensor([3])\n",
      "tensor([2])\n",
      "tensor([0])\n",
      "tensor([0])\n",
      "tensor([0])\n",
      "tensor([5])\n",
      "tensor([4])\n",
      "tensor([2])\n"
     ]
    },
    {
     "name": "stderr",
     "output_type": "stream",
     "text": [
      "Iterating training graphs:   0%|          | 37/9024 [00:00<02:42, 55.36batch/s]"
     ]
    },
    {
     "name": "stdout",
     "output_type": "stream",
     "text": [
      "tensor([0])\n",
      "tensor([0])\n",
      "tensor([1])\n",
      "tensor([2])\n",
      "tensor([0])\n",
      "tensor([3])\n",
      "tensor([4])\n",
      "tensor([1])\n",
      "tensor([2])\n",
      "tensor([3])\n",
      "tensor([2])\n",
      "tensor([3])\n",
      "tensor([1])\n"
     ]
    },
    {
     "name": "stderr",
     "output_type": "stream",
     "text": [
      "Iterating training graphs:   1%|          | 52/9024 [00:00<02:25, 61.75batch/s]"
     ]
    },
    {
     "name": "stdout",
     "output_type": "stream",
     "text": [
      "tensor([2])\n",
      "tensor([0])\n",
      "tensor([2])\n",
      "tensor([1])\n",
      "tensor([3])\n",
      "tensor([2])\n",
      "tensor([4])\n",
      "tensor([4])\n",
      "tensor([2])\n",
      "tensor([3])\n",
      "tensor([2])\n",
      "tensor([4])\n",
      "tensor([2])\n",
      "tensor([1])\n",
      "tensor([3])\n"
     ]
    },
    {
     "name": "stderr",
     "output_type": "stream",
     "text": [
      "Iterating training graphs:   1%|          | 72/9024 [00:01<02:13, 67.10batch/s]"
     ]
    },
    {
     "name": "stdout",
     "output_type": "stream",
     "text": [
      "tensor([0])\n",
      "tensor([1])\n",
      "tensor([2])\n",
      "tensor([0])\n",
      "tensor([4])\n",
      "tensor([2])\n",
      "tensor([0])\n",
      "tensor([2])\n",
      "tensor([3])\n",
      "tensor([2])\n",
      "tensor([4])\n",
      "tensor([5])\n",
      "tensor([3])\n",
      "tensor([2])\n",
      "tensor([2])\n",
      "tensor([5])\n",
      "tensor([4])\n"
     ]
    },
    {
     "name": "stderr",
     "output_type": "stream",
     "text": [
      "Iterating training graphs:   1%|          | 89/9024 [00:01<02:01, 73.61batch/s]"
     ]
    },
    {
     "name": "stdout",
     "output_type": "stream",
     "text": [
      "tensor([2])\n",
      "tensor([4])\n",
      "tensor([1])\n",
      "tensor([2])\n",
      "tensor([3])\n",
      "tensor([3])\n",
      "tensor([4])\n",
      "tensor([2])\n",
      "tensor([0])\n",
      "tensor([4])\n",
      "tensor([2])\n",
      "tensor([2])\n",
      "tensor([4])\n",
      "tensor([0])\n",
      "tensor([0])\n",
      "tensor([2])\n",
      "tensor([4])\n",
      "tensor([2])\n",
      "tensor([4])\n",
      "tensor([1])\n",
      "tensor([0])\n"
     ]
    },
    {
     "name": "stderr",
     "output_type": "stream",
     "text": [
      "Iterating training graphs:   1%|          | 107/9024 [00:01<01:50, 80.79batch/s]"
     ]
    },
    {
     "name": "stdout",
     "output_type": "stream",
     "text": [
      "tensor([3])\n",
      "tensor([3])\n",
      "tensor([0])\n",
      "tensor([3])\n",
      "tensor([4])\n",
      "tensor([3])\n",
      "tensor([2])\n",
      "tensor([4])\n",
      "tensor([2])\n",
      "tensor([4])\n",
      "tensor([2])\n",
      "tensor([4])\n",
      "tensor([4])\n",
      "tensor([0])\n",
      "tensor([2])\n",
      "tensor([4])\n",
      "tensor([3])\n",
      "tensor([4])\n",
      "tensor([4])\n"
     ]
    },
    {
     "name": "stderr",
     "output_type": "stream",
     "text": [
      "Iterating training graphs:   1%|▏         | 126/9024 [00:01<02:09, 68.59batch/s]"
     ]
    },
    {
     "name": "stdout",
     "output_type": "stream",
     "text": [
      "tensor([2])\n",
      "tensor([2])\n",
      "tensor([3])\n",
      "tensor([3])\n",
      "tensor([1])\n",
      "tensor([0])\n",
      "tensor([2])\n",
      "tensor([3])\n",
      "tensor([1])\n",
      "tensor([3])\n"
     ]
    },
    {
     "name": "stderr",
     "output_type": "stream",
     "text": [
      "Iterating training graphs:   2%|▏         | 136/9024 [00:02<01:57, 75.45batch/s]"
     ]
    },
    {
     "name": "stdout",
     "output_type": "stream",
     "text": [
      "tensor([2])\n",
      "tensor([0])\n",
      "tensor([2])\n",
      "tensor([5])\n",
      "tensor([5])\n",
      "tensor([5])\n",
      "tensor([2])\n",
      "tensor([4])\n",
      "tensor([2])\n",
      "tensor([1])\n",
      "tensor([2])\n",
      "tensor([2])\n",
      "tensor([3])\n",
      "tensor([2])\n",
      "tensor([5])\n",
      "tensor([2])\n",
      "tensor([2])\n"
     ]
    },
    {
     "name": "stderr",
     "output_type": "stream",
     "text": [
      "Iterating training graphs:   2%|▏         | 155/9024 [00:02<02:04, 71.37batch/s]"
     ]
    },
    {
     "name": "stdout",
     "output_type": "stream",
     "text": [
      "tensor([2])\n",
      "tensor([2])\n",
      "tensor([5])\n",
      "tensor([4])\n",
      "tensor([1])\n",
      "tensor([5])\n",
      "tensor([2])\n",
      "tensor([5])\n",
      "tensor([1])\n",
      "tensor([2])\n",
      "tensor([2])\n",
      "tensor([1])\n",
      "tensor([4])\n",
      "tensor([4])\n",
      "tensor([4])\n",
      "tensor([2])\n",
      "tensor([1])\n",
      "tensor([4])\n",
      "tensor([3])\n",
      "tensor([2])\n",
      "tensor([2])\n"
     ]
    },
    {
     "name": "stderr",
     "output_type": "stream",
     "text": [
      "Iterating training graphs:   2%|▏         | 179/9024 [00:02<01:37, 90.70batch/s]"
     ]
    },
    {
     "name": "stdout",
     "output_type": "stream",
     "text": [
      "tensor([2])\n",
      "tensor([1])\n",
      "tensor([1])\n",
      "tensor([2])\n",
      "tensor([2])\n",
      "tensor([2])\n",
      "tensor([0])\n",
      "tensor([4])\n",
      "tensor([0])\n",
      "tensor([2])\n",
      "tensor([4])\n",
      "tensor([2])\n",
      "tensor([1])\n",
      "tensor([1])\n",
      "tensor([1])\n",
      "tensor([2])\n",
      "tensor([3])\n",
      "tensor([3])\n",
      "tensor([2])\n"
     ]
    },
    {
     "name": "stderr",
     "output_type": "stream",
     "text": [
      "Iterating training graphs:   2%|▏         | 200/9024 [00:02<01:46, 83.06batch/s]"
     ]
    },
    {
     "name": "stdout",
     "output_type": "stream",
     "text": [
      "tensor([3])\n",
      "tensor([0])\n",
      "tensor([2])\n",
      "tensor([0])\n",
      "tensor([3])\n",
      "tensor([2])\n",
      "tensor([1])\n",
      "tensor([2])\n",
      "tensor([2])\n",
      "tensor([2])\n",
      "tensor([1])\n",
      "tensor([2])\n",
      "tensor([3])\n",
      "tensor([4])\n",
      "tensor([3])\n",
      "tensor([3])\n",
      "tensor([2])\n",
      "tensor([1])\n"
     ]
    },
    {
     "name": "stderr",
     "output_type": "stream",
     "text": [
      "Iterating training graphs:   2%|▏         | 210/9024 [00:02<01:44, 84.67batch/s]"
     ]
    },
    {
     "name": "stdout",
     "output_type": "stream",
     "text": [
      "tensor([2])\n",
      "tensor([4])\n",
      "tensor([2])\n",
      "tensor([4])\n",
      "tensor([0])\n",
      "tensor([5])\n",
      "tensor([0])\n",
      "tensor([4])\n",
      "tensor([3])\n",
      "tensor([2])\n",
      "tensor([3])\n",
      "tensor([3])\n",
      "tensor([3])\n",
      "tensor([0])\n"
     ]
    },
    {
     "name": "stderr",
     "output_type": "stream",
     "text": [
      "Iterating training graphs:   3%|▎         | 227/9024 [00:03<02:02, 71.73batch/s]"
     ]
    },
    {
     "name": "stdout",
     "output_type": "stream",
     "text": [
      "tensor([5])\n",
      "tensor([4])\n",
      "tensor([2])\n",
      "tensor([2])\n",
      "tensor([2])\n",
      "tensor([4])\n",
      "tensor([2])\n",
      "tensor([2])\n",
      "tensor([4])\n",
      "tensor([0])\n",
      "tensor([0])\n",
      "tensor([2])\n",
      "tensor([1])\n",
      "tensor([2])\n"
     ]
    },
    {
     "name": "stderr",
     "output_type": "stream",
     "text": [
      "Iterating training graphs:   3%|▎         | 243/9024 [00:03<02:02, 71.97batch/s]"
     ]
    },
    {
     "name": "stdout",
     "output_type": "stream",
     "text": [
      "tensor([4])\n",
      "tensor([1])\n",
      "tensor([2])\n",
      "tensor([5])\n",
      "tensor([2])\n",
      "tensor([2])\n",
      "tensor([2])\n",
      "tensor([2])\n",
      "tensor([1])\n",
      "tensor([3])\n",
      "tensor([3])\n",
      "tensor([3])\n",
      "tensor([5])\n",
      "tensor([3])\n",
      "tensor([4])\n",
      "tensor([0])\n",
      "tensor([1])\n"
     ]
    },
    {
     "name": "stderr",
     "output_type": "stream",
     "text": [
      "Iterating training graphs:   3%|▎         | 259/9024 [00:03<02:11, 66.40batch/s]"
     ]
    },
    {
     "name": "stdout",
     "output_type": "stream",
     "text": [
      "tensor([2])\n",
      "tensor([1])\n",
      "tensor([3])\n",
      "tensor([2])\n",
      "tensor([4])\n",
      "tensor([5])\n",
      "tensor([2])\n",
      "tensor([3])\n",
      "tensor([2])\n",
      "tensor([1])\n",
      "tensor([0])\n",
      "tensor([3])\n",
      "tensor([5])\n",
      "tensor([0])\n"
     ]
    },
    {
     "name": "stderr",
     "output_type": "stream",
     "text": [
      "Iterating training graphs:   3%|▎         | 266/9024 [00:03<02:39, 54.87batch/s]"
     ]
    },
    {
     "name": "stdout",
     "output_type": "stream",
     "text": [
      "tensor([2])\n",
      "tensor([4])\n",
      "tensor([2])\n",
      "tensor([1])\n",
      "tensor([4])\n",
      "tensor([5])\n",
      "tensor([3])\n",
      "tensor([2])\n",
      "tensor([3])\n",
      "tensor([3])\n",
      "tensor([3])\n"
     ]
    },
    {
     "name": "stderr",
     "output_type": "stream",
     "text": [
      "Iterating training graphs:   3%|▎         | 285/9024 [00:04<02:07, 68.48batch/s]"
     ]
    },
    {
     "name": "stdout",
     "output_type": "stream",
     "text": [
      "tensor([4])\n",
      "tensor([4])\n",
      "tensor([3])\n",
      "tensor([1])\n",
      "tensor([2])\n",
      "tensor([5])\n",
      "tensor([1])\n",
      "tensor([2])\n",
      "tensor([4])\n",
      "tensor([4])\n",
      "tensor([5])\n",
      "tensor([0])\n",
      "tensor([4])\n",
      "tensor([2])\n"
     ]
    },
    {
     "name": "stderr",
     "output_type": "stream",
     "text": [
      "Iterating training graphs:   3%|▎         | 303/9024 [00:04<01:53, 77.00batch/s]"
     ]
    },
    {
     "name": "stdout",
     "output_type": "stream",
     "text": [
      "tensor([1])\n",
      "tensor([4])\n",
      "tensor([2])\n",
      "tensor([0])\n",
      "tensor([2])\n",
      "tensor([0])\n",
      "tensor([2])\n",
      "tensor([2])\n",
      "tensor([1])\n",
      "tensor([2])\n",
      "tensor([4])\n",
      "tensor([2])\n",
      "tensor([3])\n",
      "tensor([2])\n",
      "tensor([2])\n",
      "tensor([2])\n",
      "tensor([4])\n",
      "tensor([2])\n",
      "tensor([2])\n"
     ]
    },
    {
     "name": "stderr",
     "output_type": "stream",
     "text": [
      "Iterating training graphs:   4%|▎         | 328/9024 [00:04<01:26, 100.59batch/s]"
     ]
    },
    {
     "name": "stdout",
     "output_type": "stream",
     "text": [
      "tensor([5])\n",
      "tensor([2])\n",
      "tensor([1])\n",
      "tensor([1])\n",
      "tensor([2])\n",
      "tensor([2])\n",
      "tensor([2])\n",
      "tensor([4])\n",
      "tensor([1])\n",
      "tensor([2])\n",
      "tensor([4])\n",
      "tensor([2])\n",
      "tensor([2])\n",
      "tensor([3])\n",
      "tensor([1])\n",
      "tensor([0])\n",
      "tensor([4])\n",
      "tensor([4])\n",
      "tensor([3])\n",
      "tensor([2])\n",
      "tensor([2])\n",
      "tensor([4])\n",
      "tensor([2])\n",
      "tensor([3])\n",
      "tensor([1])\n",
      "tensor([0])\n"
     ]
    },
    {
     "name": "stderr",
     "output_type": "stream",
     "text": [
      "Iterating training graphs:   4%|▍         | 339/9024 [00:04<01:43, 83.61batch/s] "
     ]
    },
    {
     "name": "stdout",
     "output_type": "stream",
     "text": [
      "tensor([1])\n",
      "tensor([0])\n",
      "tensor([1])\n",
      "tensor([3])\n",
      "tensor([2])\n",
      "tensor([4])\n",
      "tensor([0])\n",
      "tensor([4])\n",
      "tensor([1])\n",
      "tensor([2])\n",
      "tensor([2])\n",
      "tensor([0])\n",
      "tensor([2])\n",
      "tensor([5])\n",
      "tensor([0])\n",
      "tensor([2])\n"
     ]
    },
    {
     "name": "stderr",
     "output_type": "stream",
     "text": [
      "Iterating training graphs:   4%|▍         | 359/9024 [00:05<01:57, 73.78batch/s]"
     ]
    },
    {
     "name": "stdout",
     "output_type": "stream",
     "text": [
      "tensor([3])\n",
      "tensor([5])\n",
      "tensor([2])\n",
      "tensor([3])\n",
      "tensor([4])\n",
      "tensor([3])\n",
      "tensor([1])\n",
      "tensor([2])\n",
      "tensor([2])\n",
      "tensor([3])\n",
      "tensor([2])\n",
      "tensor([2])\n",
      "tensor([3])\n"
     ]
    },
    {
     "name": "stderr",
     "output_type": "stream",
     "text": [
      "Iterating training graphs:   4%|▍         | 368/9024 [00:05<02:15, 63.98batch/s]"
     ]
    },
    {
     "name": "stdout",
     "output_type": "stream",
     "text": [
      "tensor([2])\n",
      "tensor([1])\n",
      "tensor([4])\n",
      "tensor([3])\n",
      "tensor([3])\n",
      "tensor([4])\n",
      "tensor([3])\n",
      "tensor([1])\n",
      "tensor([4])\n",
      "tensor([2])\n",
      "tensor([0])\n"
     ]
    },
    {
     "name": "stderr",
     "output_type": "stream",
     "text": [
      "Iterating training graphs:   4%|▍         | 376/9024 [00:05<02:13, 64.77batch/s]"
     ]
    },
    {
     "name": "stdout",
     "output_type": "stream",
     "text": [
      "tensor([2])\n",
      "tensor([2])\n",
      "tensor([2])\n",
      "tensor([1])\n",
      "tensor([1])\n",
      "tensor([0])\n",
      "tensor([3])\n",
      "tensor([1])\n",
      "tensor([3])\n",
      "tensor([2])\n"
     ]
    },
    {
     "name": "stderr",
     "output_type": "stream",
     "text": [
      "Iterating training graphs:   4%|▍         | 393/9024 [00:05<02:15, 63.56batch/s]"
     ]
    },
    {
     "name": "stdout",
     "output_type": "stream",
     "text": [
      "tensor([5])\n",
      "tensor([2])\n",
      "tensor([1])\n",
      "tensor([4])\n",
      "tensor([0])\n",
      "tensor([2])\n",
      "tensor([2])\n",
      "tensor([2])\n",
      "tensor([2])\n",
      "tensor([2])\n",
      "tensor([2])\n",
      "tensor([1])\n",
      "tensor([1])\n",
      "tensor([2])\n",
      "tensor([2])\n",
      "tensor([4])\n",
      "tensor([1])\n",
      "tensor([2])\n",
      "tensor([4])\n",
      "tensor([3])\n",
      "tensor([4])\n",
      "tensor([5])\n",
      "tensor([2])\n",
      "tensor([0])\n",
      "tensor([2])\n",
      "tensor([3])\n",
      "tensor([1])\n",
      "tensor([4])\n"
     ]
    },
    {
     "name": "stderr",
     "output_type": "stream",
     "text": [
      "Iterating training graphs:   5%|▍         | 413/9024 [00:05<01:31, 94.45batch/s]"
     ]
    },
    {
     "name": "stdout",
     "output_type": "stream",
     "text": [
      "tensor([4])\n",
      "tensor([1])\n",
      "tensor([2])\n",
      "tensor([5])\n",
      "tensor([3])\n",
      "tensor([0])\n",
      "tensor([0])\n",
      "tensor([1])\n",
      "tensor([3])\n",
      "tensor([1])\n",
      "tensor([2])\n",
      "tensor([0])\n",
      "tensor([3])\n",
      "tensor([3])\n",
      "tensor([4])\n"
     ]
    },
    {
     "name": "stderr",
     "output_type": "stream",
     "text": [
      "Iterating training graphs:   5%|▍         | 434/9024 [00:06<01:44, 81.97batch/s]"
     ]
    },
    {
     "name": "stdout",
     "output_type": "stream",
     "text": [
      "tensor([5])\n",
      "tensor([2])\n",
      "tensor([2])\n",
      "tensor([2])\n",
      "tensor([1])\n",
      "tensor([2])\n",
      "tensor([2])\n",
      "tensor([0])\n",
      "tensor([3])\n",
      "tensor([2])\n",
      "tensor([2])\n",
      "tensor([4])\n",
      "tensor([2])\n",
      "tensor([4])\n",
      "tensor([2])\n",
      "tensor([1])\n",
      "tensor([3])\n"
     ]
    },
    {
     "name": "stderr",
     "output_type": "stream",
     "text": [
      "Iterating training graphs:   5%|▍         | 444/9024 [00:06<01:54, 74.65batch/s]"
     ]
    },
    {
     "name": "stdout",
     "output_type": "stream",
     "text": [
      "tensor([4])\n",
      "tensor([2])\n",
      "tensor([2])\n",
      "tensor([1])\n",
      "tensor([4])\n",
      "tensor([5])\n",
      "tensor([3])\n",
      "tensor([4])\n",
      "tensor([0])\n",
      "tensor([3])\n",
      "tensor([1])\n"
     ]
    },
    {
     "name": "stderr",
     "output_type": "stream",
     "text": [
      "Iterating training graphs:   5%|▌         | 461/9024 [00:06<02:15, 63.01batch/s]"
     ]
    },
    {
     "name": "stdout",
     "output_type": "stream",
     "text": [
      "tensor([3])\n",
      "tensor([2])\n",
      "tensor([3])\n",
      "tensor([3])\n",
      "tensor([5])\n",
      "tensor([2])\n",
      "tensor([1])\n",
      "tensor([0])\n",
      "tensor([3])\n",
      "tensor([4])\n",
      "tensor([2])\n"
     ]
    },
    {
     "name": "stderr",
     "output_type": "stream",
     "text": [
      "Iterating training graphs:   5%|▌         | 475/9024 [00:06<02:27, 58.15batch/s]"
     ]
    },
    {
     "name": "stdout",
     "output_type": "stream",
     "text": [
      "tensor([2])\n",
      "tensor([4])\n",
      "tensor([3])\n",
      "tensor([2])\n",
      "tensor([4])\n",
      "tensor([5])\n",
      "tensor([5])\n",
      "tensor([1])\n",
      "tensor([5])\n",
      "tensor([2])\n",
      "tensor([4])\n",
      "tensor([2])\n",
      "tensor([2])\n"
     ]
    },
    {
     "name": "stderr",
     "output_type": "stream",
     "text": [
      "Iterating training graphs:   5%|▌         | 491/9024 [00:07<02:07, 67.08batch/s]"
     ]
    },
    {
     "name": "stdout",
     "output_type": "stream",
     "text": [
      "tensor([1])\n",
      "tensor([2])\n",
      "tensor([2])\n",
      "tensor([2])\n",
      "tensor([3])\n",
      "tensor([4])\n",
      "tensor([3])\n",
      "tensor([3])\n",
      "tensor([3])\n",
      "tensor([2])\n",
      "tensor([2])\n",
      "tensor([2])\n",
      "tensor([0])\n",
      "tensor([0])\n",
      "tensor([4])\n",
      "tensor([1])\n"
     ]
    },
    {
     "name": "stderr",
     "output_type": "stream",
     "text": [
      "Iterating training graphs:   6%|▌         | 499/9024 [00:07<02:07, 66.82batch/s]"
     ]
    },
    {
     "name": "stdout",
     "output_type": "stream",
     "text": [
      "tensor([0])\n",
      "tensor([2])\n",
      "tensor([1])\n",
      "tensor([1])\n",
      "tensor([3])\n",
      "tensor([1])\n",
      "tensor([1])\n",
      "tensor([4])\n",
      "tensor([3])\n",
      "tensor([4])\n",
      "tensor([2])\n",
      "tensor([0])\n",
      "tensor([0])\n",
      "tensor([4])\n"
     ]
    },
    {
     "name": "stderr",
     "output_type": "stream",
     "text": [
      "Iterating training graphs:   6%|▌         | 516/9024 [00:07<02:13, 63.58batch/s]"
     ]
    },
    {
     "name": "stdout",
     "output_type": "stream",
     "text": [
      "tensor([4])\n",
      "tensor([3])\n",
      "tensor([5])\n",
      "tensor([1])\n",
      "tensor([4])\n",
      "tensor([1])\n",
      "tensor([5])\n",
      "tensor([1])\n",
      "tensor([4])\n",
      "tensor([4])\n",
      "tensor([5])\n",
      "tensor([4])\n",
      "tensor([1])\n",
      "tensor([0])\n"
     ]
    },
    {
     "name": "stderr",
     "output_type": "stream",
     "text": [
      "Iterating training graphs:   6%|▌         | 530/9024 [00:07<02:14, 63.15batch/s]"
     ]
    },
    {
     "name": "stdout",
     "output_type": "stream",
     "text": [
      "tensor([2])\n",
      "tensor([2])\n",
      "tensor([2])\n",
      "tensor([1])\n",
      "tensor([1])\n",
      "tensor([4])\n",
      "tensor([1])\n",
      "tensor([4])\n",
      "tensor([3])\n",
      "tensor([3])\n",
      "tensor([0])\n",
      "tensor([2])\n",
      "tensor([4])\n",
      "tensor([3])\n"
     ]
    },
    {
     "name": "stderr",
     "output_type": "stream",
     "text": [
      "Iterating training graphs:   6%|▌         | 545/9024 [00:07<02:20, 60.52batch/s]"
     ]
    },
    {
     "name": "stdout",
     "output_type": "stream",
     "text": [
      "tensor([3])\n",
      "tensor([1])\n",
      "tensor([2])\n",
      "tensor([3])\n",
      "tensor([4])\n",
      "tensor([2])\n",
      "tensor([0])\n",
      "tensor([0])\n",
      "tensor([0])\n",
      "tensor([2])\n",
      "tensor([3])\n",
      "tensor([2])\n",
      "tensor([0])\n",
      "tensor([4])\n"
     ]
    },
    {
     "name": "stderr",
     "output_type": "stream",
     "text": [
      "Iterating training graphs:   6%|▌         | 563/9024 [00:08<01:55, 73.53batch/s]"
     ]
    },
    {
     "name": "stdout",
     "output_type": "stream",
     "text": [
      "tensor([3])\n",
      "tensor([4])\n",
      "tensor([3])\n",
      "tensor([3])\n",
      "tensor([4])\n",
      "tensor([1])\n",
      "tensor([2])\n",
      "tensor([4])\n",
      "tensor([1])\n",
      "tensor([1])\n",
      "tensor([2])\n",
      "tensor([2])\n",
      "tensor([2])\n",
      "tensor([5])\n",
      "tensor([4])\n",
      "tensor([2])\n",
      "tensor([3])\n"
     ]
    },
    {
     "name": "stderr",
     "output_type": "stream",
     "text": [
      "Iterating training graphs:   6%|▋         | 571/9024 [00:08<02:20, 60.07batch/s]"
     ]
    },
    {
     "name": "stdout",
     "output_type": "stream",
     "text": [
      "tensor([0])\n",
      "tensor([0])\n",
      "tensor([0])\n",
      "tensor([3])\n",
      "tensor([2])\n",
      "tensor([3])\n",
      "tensor([2])\n",
      "tensor([1])\n",
      "tensor([4])\n",
      "tensor([3])\n",
      "tensor([2])\n"
     ]
    },
    {
     "name": "stderr",
     "output_type": "stream",
     "text": [
      "Iterating training graphs:   6%|▋         | 586/9024 [00:08<02:09, 65.40batch/s]"
     ]
    },
    {
     "name": "stdout",
     "output_type": "stream",
     "text": [
      "tensor([4])\n",
      "tensor([2])\n",
      "tensor([5])\n",
      "tensor([2])\n",
      "tensor([2])\n",
      "tensor([4])\n",
      "tensor([1])\n",
      "tensor([3])\n",
      "tensor([5])\n",
      "tensor([2])\n",
      "tensor([2])\n",
      "tensor([5])\n",
      "tensor([2])\n",
      "tensor([2])\n",
      "tensor([3])\n"
     ]
    },
    {
     "name": "stderr",
     "output_type": "stream",
     "text": [
      "Iterating training graphs:   7%|▋         | 604/9024 [00:08<01:50, 76.32batch/s]"
     ]
    },
    {
     "name": "stdout",
     "output_type": "stream",
     "text": [
      "tensor([4])\n",
      "tensor([1])\n",
      "tensor([3])\n",
      "tensor([2])\n",
      "tensor([1])\n",
      "tensor([0])\n",
      "tensor([1])\n",
      "tensor([2])\n",
      "tensor([3])\n",
      "tensor([3])\n",
      "tensor([1])\n",
      "tensor([1])\n",
      "tensor([3])\n",
      "tensor([3])\n",
      "tensor([0])\n"
     ]
    },
    {
     "name": "stderr",
     "output_type": "stream",
     "text": [
      "Iterating training graphs:   7%|▋         | 612/9024 [00:08<02:17, 61.10batch/s]"
     ]
    },
    {
     "name": "stdout",
     "output_type": "stream",
     "text": [
      "tensor([3])\n",
      "tensor([2])\n",
      "tensor([3])\n",
      "tensor([3])\n",
      "tensor([2])\n",
      "tensor([3])\n",
      "tensor([0])\n",
      "tensor([1])\n",
      "tensor([0])\n",
      "tensor([3])\n",
      "tensor([1])\n",
      "tensor([5])\n"
     ]
    },
    {
     "name": "stderr",
     "output_type": "stream",
     "text": [
      "Iterating training graphs:   7%|▋         | 627/9024 [00:09<02:08, 65.20batch/s]"
     ]
    },
    {
     "name": "stdout",
     "output_type": "stream",
     "text": [
      "tensor([4])\n",
      "tensor([4])\n",
      "tensor([2])\n",
      "tensor([2])\n",
      "tensor([2])\n",
      "tensor([1])\n",
      "tensor([1])\n",
      "tensor([5])\n",
      "tensor([1])\n",
      "tensor([2])\n",
      "tensor([4])\n",
      "tensor([4])\n",
      "tensor([2])\n",
      "tensor([2])\n",
      "tensor([4])\n",
      "tensor([2])\n",
      "tensor([5])\n"
     ]
    },
    {
     "name": "stderr",
     "output_type": "stream",
     "text": [
      "Iterating training graphs:   7%|▋         | 646/9024 [00:09<02:03, 67.88batch/s]"
     ]
    },
    {
     "name": "stdout",
     "output_type": "stream",
     "text": [
      "tensor([1])\n",
      "tensor([2])\n",
      "tensor([1])\n",
      "tensor([1])\n",
      "tensor([4])\n",
      "tensor([4])\n",
      "tensor([3])\n",
      "tensor([4])\n",
      "tensor([3])\n",
      "tensor([0])\n",
      "tensor([2])\n",
      "tensor([1])\n",
      "tensor([2])\n",
      "tensor([2])\n",
      "tensor([5])\n"
     ]
    },
    {
     "name": "stderr",
     "output_type": "stream",
     "text": [
      "Iterating training graphs:   7%|▋         | 668/9024 [00:09<01:35, 87.08batch/s]"
     ]
    },
    {
     "name": "stdout",
     "output_type": "stream",
     "text": [
      "tensor([0])\n",
      "tensor([4])\n",
      "tensor([2])\n",
      "tensor([0])\n",
      "tensor([4])\n",
      "tensor([2])\n",
      "tensor([2])\n",
      "tensor([2])\n",
      "tensor([2])\n",
      "tensor([0])\n",
      "tensor([0])\n",
      "tensor([2])\n",
      "tensor([2])\n",
      "tensor([2])\n",
      "tensor([3])\n",
      "tensor([0])\n",
      "tensor([4])\n",
      "tensor([3])\n",
      "tensor([0])\n",
      "tensor([2])\n",
      "tensor([0])\n",
      "tensor([4])\n",
      "tensor([0])\n",
      "tensor([4])\n",
      "tensor([5])\n",
      "tensor([3])\n",
      "tensor([3])\n"
     ]
    },
    {
     "name": "stderr",
     "output_type": "stream",
     "text": [
      "Iterating training graphs:   8%|▊         | 688/9024 [00:09<01:46, 78.25batch/s]"
     ]
    },
    {
     "name": "stdout",
     "output_type": "stream",
     "text": [
      "tensor([5])\n",
      "tensor([1])\n",
      "tensor([3])\n",
      "tensor([3])\n",
      "tensor([4])\n",
      "tensor([3])\n",
      "tensor([0])\n",
      "tensor([3])\n",
      "tensor([2])\n",
      "tensor([3])\n",
      "tensor([4])\n",
      "tensor([3])\n",
      "tensor([0])\n",
      "tensor([4])\n",
      "tensor([4])\n",
      "tensor([4])\n",
      "tensor([3])\n",
      "tensor([2])\n"
     ]
    },
    {
     "name": "stderr",
     "output_type": "stream",
     "text": [
      "Iterating training graphs:   8%|▊         | 708/9024 [00:10<01:42, 80.85batch/s]"
     ]
    },
    {
     "name": "stdout",
     "output_type": "stream",
     "text": [
      "tensor([3])\n",
      "tensor([3])\n",
      "tensor([0])\n",
      "tensor([1])\n",
      "tensor([3])\n",
      "tensor([3])\n",
      "tensor([2])\n",
      "tensor([3])\n",
      "tensor([2])\n",
      "tensor([2])\n",
      "tensor([4])\n",
      "tensor([2])\n",
      "tensor([0])\n",
      "tensor([2])\n"
     ]
    },
    {
     "name": "stderr",
     "output_type": "stream",
     "text": [
      "Iterating training graphs:   8%|▊         | 717/9024 [00:10<01:59, 69.25batch/s]"
     ]
    },
    {
     "name": "stdout",
     "output_type": "stream",
     "text": [
      "tensor([3])\n",
      "tensor([1])\n",
      "tensor([3])\n",
      "tensor([2])\n",
      "tensor([3])\n",
      "tensor([4])\n",
      "tensor([4])\n",
      "tensor([3])\n",
      "tensor([2])\n",
      "tensor([4])\n",
      "tensor([0])\n",
      "tensor([3])\n",
      "tensor([5])\n",
      "tensor([1])\n",
      "tensor([2])\n",
      "tensor([2])\n",
      "tensor([3])\n",
      "tensor([2])\n",
      "tensor([1])\n",
      "tensor([4])\n",
      "tensor([1])\n",
      "tensor([2])\n",
      "tensor([2])\n",
      "tensor([0])\n",
      "tensor([2])\n"
     ]
    },
    {
     "name": "stderr",
     "output_type": "stream",
     "text": [
      "Iterating training graphs:   8%|▊         | 746/9024 [00:10<01:29, 92.58batch/s]"
     ]
    },
    {
     "name": "stdout",
     "output_type": "stream",
     "text": [
      "tensor([2])\n",
      "tensor([2])\n",
      "tensor([4])\n",
      "tensor([1])\n",
      "tensor([4])\n",
      "tensor([0])\n",
      "tensor([0])\n",
      "tensor([1])\n",
      "tensor([0])\n",
      "tensor([2])\n",
      "tensor([1])\n",
      "tensor([4])\n",
      "tensor([2])\n",
      "tensor([3])\n"
     ]
    },
    {
     "name": "stderr",
     "output_type": "stream",
     "text": [
      "Iterating training graphs:   8%|▊         | 756/9024 [00:10<01:44, 79.19batch/s]"
     ]
    },
    {
     "name": "stdout",
     "output_type": "stream",
     "text": [
      "tensor([3])\n",
      "tensor([0])\n",
      "tensor([1])\n",
      "tensor([3])\n",
      "tensor([3])\n",
      "tensor([1])\n",
      "tensor([1])\n",
      "tensor([3])\n",
      "tensor([0])\n",
      "tensor([2])\n",
      "tensor([3])\n",
      "tensor([2])\n",
      "tensor([1])\n",
      "tensor([2])\n",
      "tensor([0])\n",
      "tensor([2])\n"
     ]
    },
    {
     "name": "stderr",
     "output_type": "stream",
     "text": [
      "Iterating training graphs:   9%|▊         | 774/9024 [00:10<01:42, 80.44batch/s]"
     ]
    },
    {
     "name": "stdout",
     "output_type": "stream",
     "text": [
      "tensor([1])\n",
      "tensor([4])\n",
      "tensor([3])\n",
      "tensor([1])\n",
      "tensor([2])\n",
      "tensor([2])\n",
      "tensor([2])\n",
      "tensor([1])\n",
      "tensor([2])\n",
      "tensor([5])\n",
      "tensor([0])\n",
      "tensor([1])\n",
      "tensor([1])\n",
      "tensor([2])\n"
     ]
    },
    {
     "name": "stderr",
     "output_type": "stream",
     "text": [
      "Iterating training graphs:   9%|▊         | 783/9024 [00:11<02:00, 68.34batch/s]"
     ]
    },
    {
     "name": "stdout",
     "output_type": "stream",
     "text": [
      "tensor([2])\n",
      "tensor([2])\n",
      "tensor([4])\n",
      "tensor([3])\n",
      "tensor([1])\n",
      "tensor([4])\n",
      "tensor([5])\n",
      "tensor([3])\n",
      "tensor([0])\n",
      "tensor([3])\n",
      "tensor([3])\n",
      "tensor([3])\n",
      "tensor([3])\n"
     ]
    },
    {
     "name": "stderr",
     "output_type": "stream",
     "text": [
      "Iterating training graphs:   9%|▉         | 799/9024 [00:11<01:57, 69.72batch/s]"
     ]
    },
    {
     "name": "stdout",
     "output_type": "stream",
     "text": [
      "tensor([1])\n",
      "tensor([2])\n",
      "tensor([3])\n",
      "tensor([3])\n",
      "tensor([5])\n",
      "tensor([2])\n",
      "tensor([2])\n",
      "tensor([0])\n",
      "tensor([2])\n",
      "tensor([3])\n",
      "tensor([1])\n",
      "tensor([2])\n",
      "tensor([4])\n",
      "tensor([0])\n",
      "tensor([3])\n"
     ]
    },
    {
     "name": "stderr",
     "output_type": "stream",
     "text": [
      "Iterating training graphs:   9%|▉         | 820/9024 [00:11<01:48, 75.63batch/s]"
     ]
    },
    {
     "name": "stdout",
     "output_type": "stream",
     "text": [
      "tensor([5])\n",
      "tensor([0])\n",
      "tensor([4])\n",
      "tensor([4])\n",
      "tensor([4])\n",
      "tensor([1])\n",
      "tensor([4])\n",
      "tensor([1])\n",
      "tensor([2])\n",
      "tensor([3])\n",
      "tensor([2])\n",
      "tensor([3])\n",
      "tensor([0])\n",
      "tensor([2])\n",
      "tensor([2])\n",
      "tensor([3])\n",
      "tensor([1])\n",
      "tensor([3])\n"
     ]
    },
    {
     "name": "stderr",
     "output_type": "stream",
     "text": [
      "Iterating training graphs:   9%|▉         | 837/9024 [00:11<01:50, 74.40batch/s]"
     ]
    },
    {
     "name": "stdout",
     "output_type": "stream",
     "text": [
      "tensor([1])\n",
      "tensor([2])\n",
      "tensor([3])\n",
      "tensor([0])\n",
      "tensor([2])\n",
      "tensor([2])\n",
      "tensor([4])\n",
      "tensor([3])\n",
      "tensor([2])\n",
      "tensor([2])\n",
      "tensor([2])\n",
      "tensor([2])\n",
      "tensor([3])\n",
      "tensor([4])\n"
     ]
    },
    {
     "name": "stderr",
     "output_type": "stream",
     "text": [
      "Iterating training graphs:   9%|▉         | 851/9024 [00:31<1:05:27,  2.08batch/s]"
     ]
    },
    {
     "name": "stdout",
     "output_type": "stream",
     "text": [
      "tensor([2])\n",
      "tensor([2])\n",
      "tensor([4])\n",
      "tensor([0])\n",
      "tensor([2])\n",
      "tensor([2])\n",
      "tensor([1])\n",
      "tensor([2])\n",
      "tensor([2])\n",
      "tensor([1])\n",
      "tensor([3])\n",
      "tensor([2])\n",
      "tensor([3])\n",
      "tensor([0])\n",
      "tensor([2])\n",
      "tensor([1])\n",
      "tensor([3])\n",
      "tensor([0])\n",
      "tensor([0])\n"
     ]
    },
    {
     "name": "stderr",
     "output_type": "stream",
     "text": [
      "Iterating training graphs:  10%|▉         | 860/9024 [00:31<45:43,  2.98batch/s]  "
     ]
    },
    {
     "name": "stdout",
     "output_type": "stream",
     "text": [
      "tensor([3])\n",
      "tensor([0])\n",
      "tensor([3])\n",
      "tensor([3])\n",
      "tensor([3])\n",
      "tensor([0])\n",
      "tensor([0])\n",
      "tensor([2])\n",
      "tensor([1])\n",
      "tensor([3])\n",
      "tensor([5])\n"
     ]
    },
    {
     "name": "stderr",
     "output_type": "stream",
     "text": [
      "Iterating training graphs:  10%|▉         | 875/9024 [00:31<25:25,  5.34batch/s]"
     ]
    },
    {
     "name": "stdout",
     "output_type": "stream",
     "text": [
      "tensor([4])\n",
      "tensor([3])\n",
      "tensor([0])\n",
      "tensor([3])\n",
      "tensor([3])\n",
      "tensor([2])\n",
      "tensor([2])\n",
      "tensor([2])\n",
      "tensor([4])\n",
      "tensor([1])\n"
     ]
    },
    {
     "name": "stderr",
     "output_type": "stream",
     "text": [
      "Iterating training graphs:  10%|▉         | 882/9024 [00:31<19:31,  6.95batch/s]"
     ]
    },
    {
     "name": "stdout",
     "output_type": "stream",
     "text": [
      "tensor([1])\n",
      "tensor([0])\n",
      "tensor([5])\n",
      "tensor([3])\n",
      "tensor([4])\n",
      "tensor([2])\n",
      "tensor([2])\n",
      "tensor([4])\n",
      "tensor([2])\n",
      "tensor([4])\n",
      "tensor([1])\n",
      "tensor([4])\n",
      "tensor([3])\n"
     ]
    },
    {
     "name": "stderr",
     "output_type": "stream",
     "text": [
      "Iterating training graphs:  10%|▉         | 898/9024 [00:32<10:26, 12.97batch/s]"
     ]
    },
    {
     "name": "stdout",
     "output_type": "stream",
     "text": [
      "tensor([2])\n",
      "tensor([3])\n",
      "tensor([4])\n",
      "tensor([1])\n",
      "tensor([5])\n",
      "tensor([2])\n",
      "tensor([1])\n",
      "tensor([2])\n",
      "tensor([2])\n",
      "tensor([5])\n",
      "tensor([1])\n",
      "tensor([1])\n",
      "tensor([4])\n",
      "tensor([1])\n"
     ]
    },
    {
     "name": "stderr",
     "output_type": "stream",
     "text": [
      "Iterating training graphs:  10%|█         | 918/9024 [00:32<05:05, 26.56batch/s]"
     ]
    },
    {
     "name": "stdout",
     "output_type": "stream",
     "text": [
      "tensor([5])\n",
      "tensor([3])\n",
      "tensor([2])\n",
      "tensor([3])\n",
      "tensor([4])\n",
      "tensor([2])\n",
      "tensor([2])\n",
      "tensor([0])\n",
      "tensor([3])\n",
      "tensor([4])\n",
      "tensor([0])\n",
      "tensor([1])\n",
      "tensor([2])\n",
      "tensor([1])\n",
      "tensor([0])\n",
      "tensor([1])\n",
      "tensor([4])\n",
      "tensor([0])\n",
      "tensor([1])\n",
      "tensor([0])\n",
      "tensor([2])\n",
      "tensor([1])\n",
      "tensor([2])\n"
     ]
    },
    {
     "name": "stderr",
     "output_type": "stream",
     "text": [
      "Iterating training graphs:  10%|█         | 939/9024 [00:32<03:01, 44.54batch/s]"
     ]
    },
    {
     "name": "stdout",
     "output_type": "stream",
     "text": [
      "tensor([1])\n",
      "tensor([4])\n",
      "tensor([2])\n",
      "tensor([2])\n",
      "tensor([2])\n",
      "tensor([0])\n",
      "tensor([3])\n",
      "tensor([3])\n",
      "tensor([5])\n",
      "tensor([1])\n",
      "tensor([0])\n",
      "tensor([1])\n",
      "tensor([2])\n",
      "tensor([3])\n"
     ]
    },
    {
     "name": "stderr",
     "output_type": "stream",
     "text": [
      "Iterating training graphs:  11%|█         | 949/9024 [00:32<02:53, 46.51batch/s]"
     ]
    },
    {
     "name": "stdout",
     "output_type": "stream",
     "text": [
      "tensor([4])\n",
      "tensor([1])\n",
      "tensor([1])\n",
      "tensor([1])\n",
      "tensor([3])\n",
      "tensor([1])\n",
      "tensor([0])\n",
      "tensor([1])\n",
      "tensor([4])\n",
      "tensor([5])\n",
      "tensor([4])\n",
      "tensor([1])\n",
      "tensor([2])\n",
      "tensor([3])\n",
      "tensor([4])\n",
      "tensor([2])\n"
     ]
    },
    {
     "name": "stderr",
     "output_type": "stream",
     "text": [
      "Iterating training graphs:  11%|█         | 969/9024 [00:32<02:17, 58.65batch/s]"
     ]
    },
    {
     "name": "stdout",
     "output_type": "stream",
     "text": [
      "tensor([1])\n",
      "tensor([0])\n",
      "tensor([1])\n",
      "tensor([2])\n",
      "tensor([1])\n",
      "tensor([2])\n",
      "tensor([4])\n",
      "tensor([5])\n",
      "tensor([0])\n",
      "tensor([2])\n",
      "tensor([4])\n",
      "tensor([4])\n",
      "tensor([0])\n",
      "tensor([4])\n",
      "tensor([2])\n",
      "tensor([0])\n",
      "tensor([2])\n",
      "tensor([4])\n",
      "tensor([0])\n",
      "tensor([0])\n"
     ]
    },
    {
     "name": "stderr",
     "output_type": "stream",
     "text": [
      "Iterating training graphs:  11%|█         | 987/9024 [00:33<02:01, 66.30batch/s]"
     ]
    },
    {
     "name": "stdout",
     "output_type": "stream",
     "text": [
      "tensor([2])\n",
      "tensor([5])\n",
      "tensor([2])\n",
      "tensor([2])\n",
      "tensor([2])\n",
      "tensor([1])\n",
      "tensor([1])\n",
      "tensor([2])\n",
      "tensor([2])\n",
      "tensor([5])\n",
      "tensor([5])\n",
      "tensor([2])\n",
      "tensor([2])\n",
      "tensor([4])\n",
      "tensor([3])\n",
      "tensor([2])\n",
      "tensor([3])\n"
     ]
    },
    {
     "name": "stderr",
     "output_type": "stream",
     "text": [
      "Iterating training graphs:  11%|█         | 1007/9024 [00:33<01:56, 68.54batch/s]"
     ]
    },
    {
     "name": "stdout",
     "output_type": "stream",
     "text": [
      "tensor([0])\n",
      "tensor([2])\n",
      "tensor([5])\n",
      "tensor([3])\n",
      "tensor([1])\n",
      "tensor([1])\n",
      "tensor([2])\n",
      "tensor([4])\n",
      "tensor([2])\n",
      "tensor([4])\n",
      "tensor([1])\n",
      "tensor([3])\n",
      "tensor([2])\n",
      "tensor([0])\n"
     ]
    },
    {
     "name": "stderr",
     "output_type": "stream",
     "text": [
      "Iterating training graphs:  11%|█▏        | 1028/9024 [00:33<01:34, 84.93batch/s]"
     ]
    },
    {
     "name": "stdout",
     "output_type": "stream",
     "text": [
      "tensor([2])\n",
      "tensor([1])\n",
      "tensor([4])\n",
      "tensor([2])\n",
      "tensor([0])\n",
      "tensor([2])\n",
      "tensor([1])\n",
      "tensor([2])\n",
      "tensor([2])\n",
      "tensor([4])\n",
      "tensor([3])\n",
      "tensor([0])\n",
      "tensor([0])\n",
      "tensor([1])\n",
      "tensor([4])\n",
      "tensor([4])\n",
      "tensor([0])\n",
      "tensor([2])\n",
      "tensor([4])\n",
      "tensor([4])\n",
      "tensor([0])\n"
     ]
    },
    {
     "name": "stderr",
     "output_type": "stream",
     "text": [
      "Iterating training graphs:  12%|█▏        | 1038/9024 [00:33<01:33, 85.84batch/s]"
     ]
    },
    {
     "name": "stdout",
     "output_type": "stream",
     "text": [
      "tensor([1])\n",
      "tensor([3])\n",
      "tensor([3])\n",
      "tensor([1])\n",
      "tensor([3])\n",
      "tensor([2])\n",
      "tensor([0])\n",
      "tensor([2])\n",
      "tensor([4])\n",
      "tensor([1])\n",
      "tensor([4])\n",
      "tensor([0])\n",
      "tensor([0])\n",
      "tensor([0])\n",
      "tensor([1])\n",
      "tensor([2])\n",
      "tensor([3])\n"
     ]
    },
    {
     "name": "stderr",
     "output_type": "stream",
     "text": [
      "Iterating training graphs:  12%|█▏        | 1056/9024 [00:34<01:48, 73.53batch/s]"
     ]
    },
    {
     "name": "stdout",
     "output_type": "stream",
     "text": [
      "tensor([3])\n",
      "tensor([2])\n",
      "tensor([1])\n",
      "tensor([2])\n",
      "tensor([2])\n",
      "tensor([0])\n",
      "tensor([0])\n",
      "tensor([3])\n",
      "tensor([2])\n",
      "tensor([3])\n",
      "tensor([3])\n",
      "tensor([4])\n"
     ]
    },
    {
     "name": "stderr",
     "output_type": "stream",
     "text": [
      "Iterating training graphs:  12%|█▏        | 1064/9024 [00:34<02:11, 60.56batch/s]"
     ]
    },
    {
     "name": "stdout",
     "output_type": "stream",
     "text": [
      "tensor([3])\n",
      "tensor([4])\n",
      "tensor([3])\n",
      "tensor([3])\n",
      "tensor([2])\n",
      "tensor([4])\n",
      "tensor([1])\n",
      "tensor([0])\n",
      "tensor([4])\n",
      "tensor([0])\n"
     ]
    },
    {
     "name": "stderr",
     "output_type": "stream",
     "text": [
      "Iterating training graphs:  12%|█▏        | 1077/9024 [00:34<02:31, 52.58batch/s]"
     ]
    },
    {
     "name": "stdout",
     "output_type": "stream",
     "text": [
      "tensor([1])\n",
      "tensor([2])\n",
      "tensor([3])\n",
      "tensor([2])\n",
      "tensor([0])\n",
      "tensor([4])\n",
      "tensor([2])\n",
      "tensor([2])\n",
      "tensor([3])\n"
     ]
    },
    {
     "name": "stderr",
     "output_type": "stream",
     "text": [
      "Iterating training graphs:  12%|█▏        | 1083/9024 [00:34<02:31, 52.35batch/s]"
     ]
    },
    {
     "name": "stdout",
     "output_type": "stream",
     "text": [
      "tensor([5])\n",
      "tensor([2])\n",
      "tensor([1])\n",
      "tensor([4])\n",
      "tensor([2])\n",
      "tensor([1])\n",
      "tensor([2])\n",
      "tensor([4])\n",
      "tensor([3])\n",
      "tensor([4])\n"
     ]
    },
    {
     "name": "stderr",
     "output_type": "stream",
     "text": [
      "Iterating training graphs:  12%|█▏        | 1097/9024 [00:34<02:31, 52.19batch/s]"
     ]
    },
    {
     "name": "stdout",
     "output_type": "stream",
     "text": [
      "tensor([4])\n",
      "tensor([1])\n",
      "tensor([4])\n",
      "tensor([4])\n",
      "tensor([0])\n",
      "tensor([0])\n",
      "tensor([1])\n",
      "tensor([0])\n",
      "tensor([5])\n",
      "tensor([2])\n",
      "tensor([5])\n",
      "tensor([4])\n",
      "tensor([3])\n"
     ]
    },
    {
     "name": "stderr",
     "output_type": "stream",
     "text": [
      "Iterating training graphs:  12%|█▏        | 1114/9024 [00:35<01:59, 65.97batch/s]"
     ]
    },
    {
     "name": "stdout",
     "output_type": "stream",
     "text": [
      "tensor([4])\n",
      "tensor([1])\n",
      "tensor([3])\n",
      "tensor([4])\n",
      "tensor([3])\n",
      "tensor([5])\n",
      "tensor([2])\n",
      "tensor([2])\n",
      "tensor([2])\n",
      "tensor([1])\n",
      "tensor([3])\n",
      "tensor([4])\n",
      "tensor([3])\n",
      "tensor([3])\n",
      "tensor([0])\n",
      "tensor([2])\n",
      "tensor([0])\n",
      "tensor([2])\n",
      "tensor([4])\n",
      "tensor([5])\n"
     ]
    },
    {
     "name": "stderr",
     "output_type": "stream",
     "text": [
      "Iterating training graphs:  13%|█▎        | 1132/9024 [00:35<02:03, 64.08batch/s]"
     ]
    },
    {
     "name": "stdout",
     "output_type": "stream",
     "text": [
      "tensor([1])\n",
      "tensor([1])\n",
      "tensor([1])\n",
      "tensor([4])\n",
      "tensor([2])\n",
      "tensor([5])\n",
      "tensor([2])\n",
      "tensor([5])\n",
      "tensor([2])\n",
      "tensor([2])\n",
      "tensor([5])\n",
      "tensor([3])\n",
      "tensor([1])\n"
     ]
    },
    {
     "name": "stderr",
     "output_type": "stream",
     "text": [
      "Iterating training graphs:  13%|█▎        | 1147/9024 [00:35<02:00, 65.30batch/s]"
     ]
    },
    {
     "name": "stdout",
     "output_type": "stream",
     "text": [
      "tensor([2])\n",
      "tensor([3])\n",
      "tensor([5])\n",
      "tensor([3])\n",
      "tensor([4])\n",
      "tensor([5])\n",
      "tensor([3])\n",
      "tensor([1])\n",
      "tensor([2])\n",
      "tensor([2])\n",
      "tensor([1])\n",
      "tensor([3])\n",
      "tensor([3])\n",
      "tensor([3])\n"
     ]
    },
    {
     "name": "stderr",
     "output_type": "stream",
     "text": [
      "Iterating training graphs:  13%|█▎        | 1154/9024 [00:35<01:59, 65.79batch/s]"
     ]
    },
    {
     "name": "stdout",
     "output_type": "stream",
     "text": [
      "tensor([2])\n",
      "tensor([2])\n",
      "tensor([2])\n",
      "tensor([2])\n",
      "tensor([0])\n",
      "tensor([1])\n",
      "tensor([2])\n",
      "tensor([1])\n",
      "tensor([4])\n",
      "tensor([3])\n",
      "tensor([4])\n",
      "tensor([2])\n",
      "tensor([3])\n"
     ]
    },
    {
     "name": "stderr",
     "output_type": "stream",
     "text": [
      "Iterating training graphs:  13%|█▎        | 1170/9024 [00:36<02:04, 63.03batch/s]"
     ]
    },
    {
     "name": "stdout",
     "output_type": "stream",
     "text": [
      "tensor([2])\n",
      "tensor([4])\n",
      "tensor([3])\n",
      "tensor([4])\n",
      "tensor([4])\n",
      "tensor([1])\n",
      "tensor([4])\n",
      "tensor([1])\n",
      "tensor([1])\n",
      "tensor([2])\n",
      "tensor([2])\n",
      "tensor([0])\n",
      "tensor([2])\n",
      "tensor([1])\n",
      "tensor([4])\n",
      "tensor([0])\n",
      "tensor([3])\n",
      "tensor([1])\n",
      "tensor([1])\n",
      "tensor([1])\n",
      "tensor([1])\n",
      "tensor([2])\n"
     ]
    },
    {
     "name": "stderr",
     "output_type": "stream",
     "text": [
      "Iterating training graphs:  13%|█▎        | 1193/9024 [00:36<01:54, 68.24batch/s]"
     ]
    },
    {
     "name": "stdout",
     "output_type": "stream",
     "text": [
      "tensor([1])\n",
      "tensor([0])\n",
      "tensor([2])\n",
      "tensor([3])\n",
      "tensor([3])\n",
      "tensor([2])\n",
      "tensor([3])\n",
      "tensor([4])\n",
      "tensor([3])\n",
      "tensor([4])\n",
      "tensor([3])\n",
      "tensor([1])\n",
      "tensor([2])\n"
     ]
    },
    {
     "name": "stderr",
     "output_type": "stream",
     "text": [
      "Iterating training graphs:  13%|█▎        | 1210/9024 [00:36<01:46, 73.47batch/s]"
     ]
    },
    {
     "name": "stdout",
     "output_type": "stream",
     "text": [
      "tensor([0])\n",
      "tensor([1])\n",
      "tensor([5])\n",
      "tensor([2])\n",
      "tensor([3])\n",
      "tensor([0])\n",
      "tensor([2])\n",
      "tensor([4])\n",
      "tensor([3])\n",
      "tensor([1])\n",
      "tensor([2])\n",
      "tensor([0])\n",
      "tensor([3])\n",
      "tensor([3])\n",
      "tensor([3])\n",
      "tensor([1])\n"
     ]
    },
    {
     "name": "stderr",
     "output_type": "stream",
     "text": [
      "Iterating training graphs:  14%|█▎        | 1226/9024 [00:36<01:44, 74.62batch/s]"
     ]
    },
    {
     "name": "stdout",
     "output_type": "stream",
     "text": [
      "tensor([1])\n",
      "tensor([1])\n",
      "tensor([2])\n",
      "tensor([5])\n",
      "tensor([0])\n",
      "tensor([1])\n",
      "tensor([2])\n",
      "tensor([0])\n",
      "tensor([1])\n",
      "tensor([2])\n",
      "tensor([2])\n",
      "tensor([2])\n",
      "tensor([0])\n",
      "tensor([2])\n",
      "tensor([2])\n",
      "tensor([2])\n",
      "tensor([3])\n"
     ]
    },
    {
     "name": "stderr",
     "output_type": "stream",
     "text": [
      "Iterating training graphs:  14%|█▍        | 1242/9024 [00:36<02:00, 64.47batch/s]"
     ]
    },
    {
     "name": "stdout",
     "output_type": "stream",
     "text": [
      "tensor([5])\n",
      "tensor([3])\n",
      "tensor([3])\n",
      "tensor([3])\n",
      "tensor([4])\n",
      "tensor([3])\n",
      "tensor([1])\n",
      "tensor([2])\n",
      "tensor([3])\n",
      "tensor([2])\n",
      "tensor([3])\n",
      "tensor([5])\n",
      "tensor([3])\n",
      "tensor([2])\n"
     ]
    },
    {
     "name": "stderr",
     "output_type": "stream",
     "text": [
      "Iterating training graphs:  14%|█▍        | 1253/9024 [00:37<01:44, 74.35batch/s]"
     ]
    },
    {
     "name": "stdout",
     "output_type": "stream",
     "text": [
      "tensor([2])\n",
      "tensor([1])\n",
      "tensor([4])\n",
      "tensor([0])\n",
      "tensor([4])\n",
      "tensor([2])\n",
      "tensor([5])\n",
      "tensor([4])\n",
      "tensor([0])\n",
      "tensor([2])\n",
      "tensor([2])\n",
      "tensor([1])\n",
      "tensor([2])\n",
      "tensor([4])\n",
      "tensor([2])\n",
      "tensor([0])\n",
      "tensor([4])\n",
      "tensor([5])\n"
     ]
    },
    {
     "name": "stderr",
     "output_type": "stream",
     "text": [
      "Iterating training graphs:  14%|█▍        | 1271/9024 [00:37<01:54, 67.64batch/s]"
     ]
    },
    {
     "name": "stdout",
     "output_type": "stream",
     "text": [
      "tensor([3])\n",
      "tensor([0])\n",
      "tensor([4])\n",
      "tensor([1])\n",
      "tensor([2])\n",
      "tensor([3])\n",
      "tensor([2])\n",
      "tensor([3])\n",
      "tensor([2])\n",
      "tensor([1])\n",
      "tensor([1])\n",
      "tensor([2])\n",
      "tensor([4])\n",
      "tensor([4])\n",
      "tensor([2])\n",
      "tensor([2])\n"
     ]
    },
    {
     "name": "stderr",
     "output_type": "stream",
     "text": [
      "Iterating training graphs:  14%|█▍        | 1293/9024 [00:37<01:33, 82.52batch/s]"
     ]
    },
    {
     "name": "stdout",
     "output_type": "stream",
     "text": [
      "tensor([3])\n",
      "tensor([2])\n",
      "tensor([0])\n",
      "tensor([2])\n",
      "tensor([2])\n",
      "tensor([3])\n",
      "tensor([0])\n",
      "tensor([2])\n",
      "tensor([3])\n",
      "tensor([2])\n",
      "tensor([0])\n",
      "tensor([1])\n",
      "tensor([4])\n",
      "tensor([1])\n",
      "tensor([5])\n",
      "tensor([0])\n",
      "tensor([4])\n",
      "tensor([3])\n"
     ]
    },
    {
     "name": "stderr",
     "output_type": "stream",
     "text": [
      "Iterating training graphs:  14%|█▍        | 1302/9024 [00:37<01:56, 66.54batch/s]"
     ]
    },
    {
     "name": "stdout",
     "output_type": "stream",
     "text": [
      "tensor([3])\n",
      "tensor([2])\n",
      "tensor([0])\n",
      "tensor([5])\n",
      "tensor([3])\n",
      "tensor([2])\n",
      "tensor([5])\n",
      "tensor([2])\n",
      "tensor([3])\n",
      "tensor([3])\n",
      "tensor([2])\n"
     ]
    },
    {
     "name": "stderr",
     "output_type": "stream",
     "text": [
      "Iterating training graphs:  15%|█▍        | 1320/9024 [00:38<01:42, 75.10batch/s]"
     ]
    },
    {
     "name": "stdout",
     "output_type": "stream",
     "text": [
      "tensor([2])\n",
      "tensor([2])\n",
      "tensor([0])\n",
      "tensor([2])\n",
      "tensor([1])\n",
      "tensor([0])\n",
      "tensor([2])\n",
      "tensor([0])\n",
      "tensor([3])\n",
      "tensor([3])\n",
      "tensor([3])\n",
      "tensor([3])\n",
      "tensor([3])\n",
      "tensor([0])\n",
      "tensor([1])\n",
      "tensor([2])\n",
      "tensor([4])\n"
     ]
    },
    {
     "name": "stderr",
     "output_type": "stream",
     "text": [
      "Iterating training graphs:  15%|█▍        | 1337/9024 [00:38<01:54, 67.13batch/s]"
     ]
    },
    {
     "name": "stdout",
     "output_type": "stream",
     "text": [
      "tensor([2])\n",
      "tensor([2])\n",
      "tensor([4])\n",
      "tensor([4])\n",
      "tensor([1])\n",
      "tensor([4])\n",
      "tensor([4])\n",
      "tensor([2])\n",
      "tensor([0])\n",
      "tensor([1])\n",
      "tensor([2])\n",
      "tensor([2])\n",
      "tensor([2])\n",
      "tensor([1])\n",
      "tensor([2])\n",
      "tensor([3])\n",
      "tensor([1])\n"
     ]
    },
    {
     "name": "stderr",
     "output_type": "stream",
     "text": [
      "Iterating training graphs:  15%|█▍        | 1345/9024 [00:38<01:50, 69.44batch/s]"
     ]
    },
    {
     "name": "stdout",
     "output_type": "stream",
     "text": [
      "tensor([2])\n",
      "tensor([2])\n",
      "tensor([1])\n",
      "tensor([4])\n",
      "tensor([2])\n",
      "tensor([5])\n",
      "tensor([4])\n",
      "tensor([2])\n",
      "tensor([0])\n",
      "tensor([0])\n",
      "tensor([2])\n",
      "tensor([4])\n",
      "tensor([0])\n"
     ]
    },
    {
     "name": "stderr",
     "output_type": "stream",
     "text": [
      "Iterating training graphs:  15%|█▌        | 1360/9024 [00:38<02:03, 61.98batch/s]"
     ]
    },
    {
     "name": "stdout",
     "output_type": "stream",
     "text": [
      "tensor([3])\n",
      "tensor([2])\n",
      "tensor([2])\n",
      "tensor([4])\n",
      "tensor([2])\n",
      "tensor([1])\n",
      "tensor([2])\n",
      "tensor([1])\n",
      "tensor([1])\n",
      "tensor([1])\n",
      "tensor([2])\n",
      "tensor([4])\n",
      "tensor([3])\n"
     ]
    },
    {
     "name": "stderr",
     "output_type": "stream",
     "text": [
      "Iterating training graphs:  15%|█▌        | 1376/9024 [00:38<01:51, 68.86batch/s]"
     ]
    },
    {
     "name": "stdout",
     "output_type": "stream",
     "text": [
      "tensor([3])\n",
      "tensor([3])\n",
      "tensor([1])\n",
      "tensor([2])\n",
      "tensor([2])\n",
      "tensor([1])\n",
      "tensor([2])\n",
      "tensor([4])\n",
      "tensor([2])\n",
      "tensor([1])\n",
      "tensor([4])\n",
      "tensor([2])\n",
      "tensor([4])\n",
      "tensor([3])\n",
      "tensor([4])\n",
      "tensor([2])\n",
      "tensor([4])\n",
      "tensor([1])\n",
      "tensor([2])\n",
      "tensor([1])\n",
      "tensor([4])\n",
      "tensor([3])\n"
     ]
    },
    {
     "name": "stderr",
     "output_type": "stream",
     "text": [
      "Iterating training graphs:  15%|█▌        | 1397/9024 [00:39<01:35, 80.15batch/s]"
     ]
    },
    {
     "name": "stdout",
     "output_type": "stream",
     "text": [
      "tensor([2])\n",
      "tensor([5])\n",
      "tensor([4])\n",
      "tensor([2])\n",
      "tensor([1])\n",
      "tensor([2])\n",
      "tensor([4])\n",
      "tensor([4])\n",
      "tensor([3])\n",
      "tensor([3])\n",
      "tensor([0])\n",
      "tensor([0])\n"
     ]
    },
    {
     "name": "stderr",
     "output_type": "stream",
     "text": [
      "Iterating training graphs:  16%|█▌        | 1406/9024 [00:39<01:48, 69.95batch/s]"
     ]
    },
    {
     "name": "stdout",
     "output_type": "stream",
     "text": [
      "tensor([2])\n",
      "tensor([2])\n",
      "tensor([2])\n",
      "tensor([5])\n",
      "tensor([0])\n",
      "tensor([0])\n",
      "tensor([4])\n",
      "tensor([2])\n",
      "tensor([0])\n",
      "tensor([1])\n",
      "tensor([5])\n",
      "tensor([3])\n",
      "tensor([1])\n",
      "tensor([4])\n"
     ]
    },
    {
     "name": "stderr",
     "output_type": "stream",
     "text": [
      "Iterating training graphs:  16%|█▌        | 1422/9024 [00:39<01:53, 67.20batch/s]"
     ]
    },
    {
     "name": "stdout",
     "output_type": "stream",
     "text": [
      "tensor([2])\n",
      "tensor([0])\n",
      "tensor([2])\n",
      "tensor([3])\n",
      "tensor([0])\n",
      "tensor([2])\n",
      "tensor([2])\n",
      "tensor([4])\n",
      "tensor([2])\n",
      "tensor([3])\n",
      "tensor([1])\n",
      "tensor([4])\n",
      "tensor([1])\n",
      "tensor([0])\n",
      "tensor([2])\n",
      "tensor([2])\n",
      "tensor([0])\n",
      "tensor([4])\n",
      "tensor([3])\n",
      "tensor([5])\n"
     ]
    },
    {
     "name": "stderr",
     "output_type": "stream",
     "text": [
      "Iterating training graphs:  16%|█▌        | 1443/9024 [00:39<02:02, 61.89batch/s]"
     ]
    },
    {
     "name": "stdout",
     "output_type": "stream",
     "text": [
      "tensor([1])\n",
      "tensor([0])\n",
      "tensor([3])\n",
      "tensor([2])\n",
      "tensor([2])\n",
      "tensor([4])\n",
      "tensor([3])\n",
      "tensor([5])\n",
      "tensor([5])\n",
      "tensor([2])\n"
     ]
    },
    {
     "name": "stderr",
     "output_type": "stream",
     "text": [
      "Iterating training graphs:  16%|█▌        | 1450/9024 [00:39<02:01, 62.30batch/s]"
     ]
    },
    {
     "name": "stdout",
     "output_type": "stream",
     "text": [
      "tensor([1])\n",
      "tensor([3])\n",
      "tensor([3])\n",
      "tensor([0])\n",
      "tensor([3])\n",
      "tensor([3])\n",
      "tensor([2])\n",
      "tensor([2])\n",
      "tensor([2])\n",
      "tensor([1])\n",
      "tensor([2])\n",
      "tensor([3])\n",
      "tensor([5])\n"
     ]
    },
    {
     "name": "stderr",
     "output_type": "stream",
     "text": [
      "Iterating training graphs:  16%|█▋        | 1467/9024 [00:40<01:45, 71.84batch/s]"
     ]
    },
    {
     "name": "stdout",
     "output_type": "stream",
     "text": [
      "tensor([2])\n",
      "tensor([2])\n",
      "tensor([0])\n",
      "tensor([2])\n",
      "tensor([1])\n",
      "tensor([2])\n",
      "tensor([4])\n",
      "tensor([3])\n",
      "tensor([1])\n",
      "tensor([3])\n",
      "tensor([2])\n",
      "tensor([2])\n",
      "tensor([1])\n",
      "tensor([2])\n",
      "tensor([3])\n",
      "tensor([2])\n",
      "tensor([2])\n",
      "tensor([3])\n"
     ]
    },
    {
     "name": "stderr",
     "output_type": "stream",
     "text": [
      "Iterating training graphs:  16%|█▋        | 1484/9024 [00:40<01:37, 77.70batch/s]"
     ]
    },
    {
     "name": "stdout",
     "output_type": "stream",
     "text": [
      "tensor([0])\n",
      "tensor([3])\n",
      "tensor([0])\n",
      "tensor([4])\n",
      "tensor([1])\n",
      "tensor([3])\n",
      "tensor([4])\n",
      "tensor([5])\n",
      "tensor([4])\n",
      "tensor([2])\n",
      "tensor([0])\n",
      "tensor([2])\n",
      "tensor([5])\n",
      "tensor([4])\n",
      "tensor([5])\n",
      "tensor([2])\n",
      "tensor([3])\n",
      "tensor([3])\n",
      "tensor([2])\n",
      "tensor([2])\n"
     ]
    },
    {
     "name": "stderr",
     "output_type": "stream",
     "text": [
      "Iterating training graphs:  17%|█▋        | 1504/9024 [00:40<01:31, 82.45batch/s]"
     ]
    },
    {
     "name": "stdout",
     "output_type": "stream",
     "text": [
      "tensor([3])\n",
      "tensor([4])\n",
      "tensor([3])\n",
      "tensor([1])\n",
      "tensor([0])\n",
      "tensor([2])\n",
      "tensor([2])\n",
      "tensor([2])\n",
      "tensor([0])\n",
      "tensor([1])\n",
      "tensor([3])\n",
      "tensor([2])\n",
      "tensor([1])\n"
     ]
    },
    {
     "name": "stderr",
     "output_type": "stream",
     "text": [
      "Iterating training graphs:  17%|█▋        | 1513/9024 [00:40<01:43, 72.51batch/s]"
     ]
    },
    {
     "name": "stdout",
     "output_type": "stream",
     "text": [
      "tensor([2])\n",
      "tensor([1])\n",
      "tensor([3])\n",
      "tensor([1])\n",
      "tensor([0])\n",
      "tensor([4])\n",
      "tensor([3])\n",
      "tensor([0])\n",
      "tensor([2])\n",
      "tensor([3])\n",
      "tensor([4])\n",
      "tensor([2])\n"
     ]
    },
    {
     "name": "stderr",
     "output_type": "stream",
     "text": [
      "Iterating training graphs:  17%|█▋        | 1530/9024 [00:41<01:42, 73.18batch/s]"
     ]
    },
    {
     "name": "stdout",
     "output_type": "stream",
     "text": [
      "tensor([3])\n",
      "tensor([2])\n",
      "tensor([4])\n",
      "tensor([4])\n",
      "tensor([3])\n",
      "tensor([0])\n",
      "tensor([1])\n",
      "tensor([2])\n",
      "tensor([0])\n",
      "tensor([3])\n",
      "tensor([1])\n",
      "tensor([4])\n",
      "tensor([1])\n",
      "tensor([3])\n",
      "tensor([3])\n",
      "tensor([2])\n",
      "tensor([5])\n",
      "tensor([3])\n"
     ]
    },
    {
     "name": "stderr",
     "output_type": "stream",
     "text": [
      "Iterating training graphs:  17%|█▋        | 1546/9024 [00:41<01:51, 66.96batch/s]"
     ]
    },
    {
     "name": "stdout",
     "output_type": "stream",
     "text": [
      "tensor([1])\n",
      "tensor([2])\n",
      "tensor([3])\n",
      "tensor([2])\n",
      "tensor([1])\n",
      "tensor([0])\n",
      "tensor([4])\n",
      "tensor([3])\n",
      "tensor([2])\n",
      "tensor([4])\n",
      "tensor([2])\n",
      "tensor([3])\n",
      "tensor([0])\n"
     ]
    },
    {
     "name": "stderr",
     "output_type": "stream",
     "text": [
      "Iterating training graphs:  17%|█▋        | 1560/9024 [00:41<01:58, 63.04batch/s]"
     ]
    },
    {
     "name": "stdout",
     "output_type": "stream",
     "text": [
      "tensor([2])\n",
      "tensor([2])\n",
      "tensor([2])\n",
      "tensor([2])\n",
      "tensor([4])\n",
      "tensor([1])\n",
      "tensor([2])\n",
      "tensor([4])\n",
      "tensor([1])\n",
      "tensor([2])\n",
      "tensor([5])\n"
     ]
    },
    {
     "name": "stderr",
     "output_type": "stream",
     "text": [
      "Iterating training graphs:  18%|█▊        | 1590/9024 [00:41<01:20, 92.63batch/s]"
     ]
    },
    {
     "name": "stdout",
     "output_type": "stream",
     "text": [
      "tensor([0])\n",
      "tensor([5])\n",
      "tensor([1])\n",
      "tensor([0])\n",
      "tensor([4])\n",
      "tensor([4])\n",
      "tensor([0])\n",
      "tensor([4])\n",
      "tensor([3])\n",
      "tensor([1])\n",
      "tensor([4])\n",
      "tensor([1])\n",
      "tensor([0])\n",
      "tensor([2])\n",
      "tensor([1])\n",
      "tensor([3])\n",
      "tensor([2])\n",
      "tensor([1])\n",
      "tensor([2])\n",
      "tensor([5])\n",
      "tensor([0])\n",
      "tensor([3])\n",
      "tensor([0])\n",
      "tensor([2])\n",
      "tensor([4])\n",
      "tensor([0])\n",
      "tensor([2])\n",
      "tensor([2])\n",
      "tensor([5])\n",
      "tensor([1])\n",
      "tensor([1])\n"
     ]
    },
    {
     "name": "stderr",
     "output_type": "stream",
     "text": [
      "Iterating training graphs:  18%|█▊        | 1600/9024 [00:41<01:27, 85.17batch/s]"
     ]
    },
    {
     "name": "stdout",
     "output_type": "stream",
     "text": [
      "tensor([1])\n",
      "tensor([0])\n",
      "tensor([4])\n",
      "tensor([2])\n",
      "tensor([0])\n",
      "tensor([3])\n",
      "tensor([4])\n",
      "tensor([1])\n",
      "tensor([3])\n",
      "tensor([2])\n",
      "tensor([2])\n",
      "tensor([0])\n",
      "tensor([2])\n",
      "tensor([2])\n",
      "tensor([0])\n",
      "tensor([2])\n"
     ]
    },
    {
     "name": "stderr",
     "output_type": "stream",
     "text": [
      "Iterating training graphs:  18%|█▊        | 1618/9024 [00:42<01:40, 73.97batch/s]"
     ]
    },
    {
     "name": "stdout",
     "output_type": "stream",
     "text": [
      "tensor([2])\n",
      "tensor([3])\n",
      "tensor([2])\n",
      "tensor([2])\n",
      "tensor([2])\n",
      "tensor([2])\n",
      "tensor([2])\n",
      "tensor([5])\n",
      "tensor([2])\n",
      "tensor([4])\n",
      "tensor([5])\n"
     ]
    },
    {
     "name": "stderr",
     "output_type": "stream",
     "text": [
      "Iterating training graphs:  18%|█▊        | 1626/9024 [00:42<01:56, 63.30batch/s]"
     ]
    },
    {
     "name": "stdout",
     "output_type": "stream",
     "text": [
      "tensor([1])\n",
      "tensor([3])\n",
      "tensor([2])\n",
      "tensor([1])\n",
      "tensor([2])\n",
      "tensor([4])\n",
      "tensor([3])\n",
      "tensor([2])\n",
      "tensor([0])\n",
      "tensor([4])\n"
     ]
    },
    {
     "name": "stderr",
     "output_type": "stream",
     "text": [
      "Iterating training graphs:  18%|█▊        | 1642/9024 [00:42<01:48, 67.83batch/s]"
     ]
    },
    {
     "name": "stdout",
     "output_type": "stream",
     "text": [
      "tensor([2])\n",
      "tensor([4])\n",
      "tensor([3])\n",
      "tensor([1])\n",
      "tensor([1])\n",
      "tensor([3])\n",
      "tensor([5])\n",
      "tensor([4])\n",
      "tensor([1])\n",
      "tensor([4])\n",
      "tensor([2])\n",
      "tensor([2])\n",
      "tensor([1])\n",
      "tensor([3])\n"
     ]
    },
    {
     "name": "stderr",
     "output_type": "stream",
     "text": [
      "Iterating training graphs:  18%|█▊        | 1658/9024 [00:42<01:48, 67.82batch/s]"
     ]
    },
    {
     "name": "stdout",
     "output_type": "stream",
     "text": [
      "tensor([2])\n",
      "tensor([4])\n",
      "tensor([2])\n",
      "tensor([3])\n",
      "tensor([2])\n",
      "tensor([3])\n",
      "tensor([5])\n",
      "tensor([2])\n",
      "tensor([1])\n",
      "tensor([1])\n",
      "tensor([3])\n",
      "tensor([4])\n",
      "tensor([1])\n",
      "tensor([2])\n",
      "tensor([5])\n",
      "tensor([4])\n",
      "tensor([1])\n",
      "tensor([1])\n",
      "tensor([2])\n",
      "tensor([2])\n",
      "tensor([2])\n",
      "tensor([1])\n"
     ]
    },
    {
     "name": "stderr",
     "output_type": "stream",
     "text": [
      "Iterating training graphs:  19%|█▊        | 1676/9024 [00:43<01:45, 69.71batch/s]"
     ]
    },
    {
     "name": "stdout",
     "output_type": "stream",
     "text": [
      "tensor([2])\n",
      "tensor([5])\n",
      "tensor([5])\n",
      "tensor([2])\n",
      "tensor([0])\n",
      "tensor([1])\n",
      "tensor([1])\n",
      "tensor([2])\n",
      "tensor([4])\n",
      "tensor([2])\n",
      "tensor([0])\n",
      "tensor([4])\n",
      "tensor([2])\n",
      "tensor([0])\n"
     ]
    },
    {
     "name": "stderr",
     "output_type": "stream",
     "text": [
      "Iterating training graphs:  19%|█▉        | 1692/9024 [00:43<01:42, 71.88batch/s]"
     ]
    },
    {
     "name": "stdout",
     "output_type": "stream",
     "text": [
      "tensor([2])\n",
      "tensor([4])\n",
      "tensor([2])\n",
      "tensor([2])\n",
      "tensor([5])\n",
      "tensor([4])\n",
      "tensor([4])\n",
      "tensor([2])\n",
      "tensor([4])\n",
      "tensor([3])\n",
      "tensor([2])\n",
      "tensor([2])\n",
      "tensor([1])\n",
      "tensor([1])\n"
     ]
    },
    {
     "name": "stderr",
     "output_type": "stream",
     "text": [
      "Iterating training graphs:  19%|█▉        | 1700/9024 [00:43<02:03, 59.27batch/s]"
     ]
    },
    {
     "name": "stdout",
     "output_type": "stream",
     "text": [
      "tensor([3])\n",
      "tensor([3])\n",
      "tensor([4])\n",
      "tensor([2])\n",
      "tensor([5])\n",
      "tensor([3])\n",
      "tensor([1])\n",
      "tensor([1])\n",
      "tensor([3])\n",
      "tensor([4])\n"
     ]
    },
    {
     "name": "stderr",
     "output_type": "stream",
     "text": [
      "Iterating training graphs:  19%|█▉        | 1714/9024 [00:43<02:04, 58.85batch/s]"
     ]
    },
    {
     "name": "stdout",
     "output_type": "stream",
     "text": [
      "tensor([3])\n",
      "tensor([4])\n",
      "tensor([1])\n",
      "tensor([5])\n",
      "tensor([2])\n",
      "tensor([0])\n",
      "tensor([1])\n",
      "tensor([3])\n",
      "tensor([2])\n",
      "tensor([3])\n",
      "tensor([2])\n",
      "tensor([0])\n",
      "tensor([4])\n",
      "tensor([3])\n",
      "tensor([2])\n"
     ]
    },
    {
     "name": "stderr",
     "output_type": "stream",
     "text": [
      "Iterating training graphs:  19%|█▉        | 1731/9024 [00:44<01:52, 64.80batch/s]"
     ]
    },
    {
     "name": "stdout",
     "output_type": "stream",
     "text": [
      "tensor([1])\n",
      "tensor([3])\n",
      "tensor([2])\n",
      "tensor([4])\n",
      "tensor([2])\n",
      "tensor([2])\n",
      "tensor([1])\n",
      "tensor([5])\n",
      "tensor([4])\n",
      "tensor([3])\n",
      "tensor([3])\n",
      "tensor([2])\n",
      "tensor([1])\n",
      "tensor([1])\n",
      "tensor([3])\n",
      "tensor([1])\n"
     ]
    },
    {
     "name": "stderr",
     "output_type": "stream",
     "text": [
      "Iterating training graphs:  19%|█▉        | 1745/9024 [00:44<01:52, 64.51batch/s]"
     ]
    },
    {
     "name": "stdout",
     "output_type": "stream",
     "text": [
      "tensor([2])\n",
      "tensor([2])\n",
      "tensor([4])\n",
      "tensor([1])\n",
      "tensor([2])\n",
      "tensor([2])\n",
      "tensor([0])\n",
      "tensor([0])\n",
      "tensor([2])\n",
      "tensor([2])\n",
      "tensor([2])\n",
      "tensor([0])\n",
      "tensor([4])\n",
      "tensor([0])\n",
      "tensor([2])\n",
      "tensor([1])\n"
     ]
    },
    {
     "name": "stderr",
     "output_type": "stream",
     "text": [
      "Iterating training graphs:  20%|█▉        | 1762/9024 [00:44<02:00, 60.04batch/s]"
     ]
    },
    {
     "name": "stdout",
     "output_type": "stream",
     "text": [
      "tensor([4])\n",
      "tensor([2])\n",
      "tensor([4])\n",
      "tensor([1])\n",
      "tensor([3])\n",
      "tensor([4])\n",
      "tensor([0])\n",
      "tensor([3])\n",
      "tensor([5])\n",
      "tensor([3])\n",
      "tensor([3])\n",
      "tensor([5])\n",
      "tensor([2])\n",
      "tensor([1])\n"
     ]
    },
    {
     "name": "stderr",
     "output_type": "stream",
     "text": [
      "Iterating training graphs:  20%|█▉        | 1776/9024 [00:44<01:55, 62.84batch/s]"
     ]
    },
    {
     "name": "stdout",
     "output_type": "stream",
     "text": [
      "tensor([5])\n",
      "tensor([2])\n",
      "tensor([0])\n",
      "tensor([4])\n",
      "tensor([4])\n",
      "tensor([2])\n",
      "tensor([3])\n",
      "tensor([4])\n",
      "tensor([5])\n",
      "tensor([2])\n",
      "tensor([0])\n",
      "tensor([1])\n",
      "tensor([2])\n",
      "tensor([4])\n"
     ]
    },
    {
     "name": "stderr",
     "output_type": "stream",
     "text": [
      "Iterating training graphs:  20%|█▉        | 1791/9024 [00:44<02:01, 59.76batch/s]"
     ]
    },
    {
     "name": "stdout",
     "output_type": "stream",
     "text": [
      "tensor([2])\n",
      "tensor([2])\n",
      "tensor([1])\n",
      "tensor([4])\n",
      "tensor([3])\n",
      "tensor([0])\n",
      "tensor([3])\n",
      "tensor([5])\n",
      "tensor([2])\n",
      "tensor([4])\n",
      "tensor([3])\n",
      "tensor([0])\n",
      "tensor([2])\n",
      "tensor([5])\n"
     ]
    },
    {
     "name": "stderr",
     "output_type": "stream",
     "text": [
      "Iterating training graphs:  20%|█▉        | 1800/9024 [00:45<01:48, 66.71batch/s]"
     ]
    },
    {
     "name": "stdout",
     "output_type": "stream",
     "text": [
      "tensor([1])\n",
      "tensor([3])\n",
      "tensor([1])\n",
      "tensor([3])\n",
      "tensor([2])\n",
      "tensor([1])\n",
      "tensor([3])\n",
      "tensor([3])\n",
      "tensor([4])\n",
      "tensor([2])\n",
      "tensor([0])\n",
      "tensor([3])\n"
     ]
    },
    {
     "name": "stderr",
     "output_type": "stream",
     "text": [
      "Iterating training graphs:  20%|██        | 1815/9024 [00:45<01:51, 64.84batch/s]"
     ]
    },
    {
     "name": "stdout",
     "output_type": "stream",
     "text": [
      "tensor([1])\n",
      "tensor([0])\n",
      "tensor([4])\n",
      "tensor([2])\n",
      "tensor([4])\n",
      "tensor([0])\n",
      "tensor([5])\n",
      "tensor([1])\n",
      "tensor([3])\n",
      "tensor([2])\n",
      "tensor([3])\n",
      "tensor([3])\n",
      "tensor([5])\n",
      "tensor([1])\n"
     ]
    },
    {
     "name": "stderr",
     "output_type": "stream",
     "text": [
      "Iterating training graphs:  20%|██        | 1837/9024 [00:45<01:33, 76.63batch/s]"
     ]
    },
    {
     "name": "stdout",
     "output_type": "stream",
     "text": [
      "tensor([0])\n",
      "tensor([4])\n",
      "tensor([1])\n",
      "tensor([4])\n",
      "tensor([4])\n",
      "tensor([2])\n",
      "tensor([0])\n",
      "tensor([2])\n",
      "tensor([4])\n",
      "tensor([0])\n",
      "tensor([3])\n",
      "tensor([2])\n",
      "tensor([1])\n",
      "tensor([2])\n",
      "tensor([3])\n",
      "tensor([1])\n",
      "tensor([2])\n",
      "tensor([1])\n",
      "tensor([2])\n",
      "tensor([4])\n",
      "tensor([3])\n",
      "tensor([2])\n",
      "tensor([3])\n",
      "tensor([2])\n",
      "tensor([1])\n",
      "tensor([1])\n"
     ]
    },
    {
     "name": "stderr",
     "output_type": "stream",
     "text": [
      "Iterating training graphs:  21%|██        | 1862/9024 [00:45<01:16, 94.11batch/s]"
     ]
    },
    {
     "name": "stdout",
     "output_type": "stream",
     "text": [
      "tensor([2])\n",
      "tensor([5])\n",
      "tensor([0])\n",
      "tensor([4])\n",
      "tensor([1])\n",
      "tensor([1])\n",
      "tensor([3])\n",
      "tensor([4])\n",
      "tensor([2])\n",
      "tensor([1])\n",
      "tensor([2])\n",
      "tensor([2])\n",
      "tensor([3])\n",
      "tensor([2])\n",
      "tensor([0])\n",
      "tensor([4])\n",
      "tensor([2])\n",
      "tensor([2])\n",
      "tensor([2])\n"
     ]
    },
    {
     "name": "stderr",
     "output_type": "stream",
     "text": [
      "Iterating training graphs:  21%|██        | 1873/9024 [00:46<01:27, 81.72batch/s]"
     ]
    },
    {
     "name": "stdout",
     "output_type": "stream",
     "text": [
      "tensor([2])\n",
      "tensor([3])\n",
      "tensor([4])\n",
      "tensor([2])\n",
      "tensor([5])\n",
      "tensor([1])\n",
      "tensor([0])\n",
      "tensor([3])\n",
      "tensor([2])\n",
      "tensor([4])\n",
      "tensor([1])\n",
      "tensor([3])\n",
      "tensor([4])\n",
      "tensor([2])\n"
     ]
    },
    {
     "name": "stderr",
     "output_type": "stream",
     "text": [
      "Iterating training graphs:  21%|██        | 1891/9024 [00:46<01:41, 70.18batch/s]"
     ]
    },
    {
     "name": "stdout",
     "output_type": "stream",
     "text": [
      "tensor([1])\n",
      "tensor([0])\n",
      "tensor([2])\n",
      "tensor([4])\n",
      "tensor([2])\n",
      "tensor([3])\n",
      "tensor([3])\n",
      "tensor([2])\n",
      "tensor([2])\n",
      "tensor([2])\n",
      "tensor([2])\n",
      "tensor([2])\n",
      "tensor([5])\n",
      "tensor([2])\n"
     ]
    },
    {
     "name": "stderr",
     "output_type": "stream",
     "text": [
      "Iterating training graphs:  21%|██        | 1913/9024 [00:46<01:23, 85.64batch/s]"
     ]
    },
    {
     "name": "stdout",
     "output_type": "stream",
     "text": [
      "tensor([1])\n",
      "tensor([1])\n",
      "tensor([2])\n",
      "tensor([2])\n",
      "tensor([0])\n",
      "tensor([3])\n",
      "tensor([3])\n",
      "tensor([4])\n",
      "tensor([4])\n",
      "tensor([4])\n",
      "tensor([0])\n",
      "tensor([0])\n",
      "tensor([1])\n",
      "tensor([0])\n",
      "tensor([5])\n",
      "tensor([3])\n",
      "tensor([5])\n",
      "tensor([1])\n",
      "tensor([1])\n",
      "tensor([1])\n",
      "tensor([3])\n",
      "tensor([3])\n",
      "tensor([0])\n"
     ]
    },
    {
     "name": "stderr",
     "output_type": "stream",
     "text": [
      "Iterating training graphs:  21%|██▏       | 1923/9024 [00:46<01:38, 72.06batch/s]"
     ]
    },
    {
     "name": "stdout",
     "output_type": "stream",
     "text": [
      "tensor([1])\n",
      "tensor([0])\n",
      "tensor([0])\n",
      "tensor([5])\n",
      "tensor([3])\n",
      "tensor([2])\n",
      "tensor([2])\n",
      "tensor([0])\n",
      "tensor([2])\n",
      "tensor([5])\n",
      "tensor([1])\n"
     ]
    },
    {
     "name": "stderr",
     "output_type": "stream",
     "text": [
      "Iterating training graphs:  22%|██▏       | 1943/9024 [00:46<01:26, 82.31batch/s]"
     ]
    },
    {
     "name": "stdout",
     "output_type": "stream",
     "text": [
      "tensor([3])\n",
      "tensor([4])\n",
      "tensor([2])\n",
      "tensor([3])\n",
      "tensor([5])\n",
      "tensor([2])\n",
      "tensor([2])\n",
      "tensor([0])\n",
      "tensor([2])\n",
      "tensor([4])\n",
      "tensor([1])\n",
      "tensor([3])\n",
      "tensor([0])\n",
      "tensor([3])\n",
      "tensor([0])\n",
      "tensor([3])\n",
      "tensor([2])\n",
      "tensor([1])\n",
      "tensor([3])\n",
      "tensor([2])\n"
     ]
    },
    {
     "name": "stderr",
     "output_type": "stream",
     "text": [
      "Iterating training graphs:  22%|██▏       | 1961/9024 [00:47<01:25, 82.83batch/s]"
     ]
    },
    {
     "name": "stdout",
     "output_type": "stream",
     "text": [
      "tensor([3])\n",
      "tensor([3])\n",
      "tensor([1])\n",
      "tensor([3])\n",
      "tensor([0])\n",
      "tensor([1])\n",
      "tensor([2])\n",
      "tensor([1])\n",
      "tensor([4])\n",
      "tensor([2])\n",
      "tensor([2])\n",
      "tensor([2])\n",
      "tensor([2])\n",
      "tensor([4])\n",
      "tensor([2])\n",
      "tensor([3])\n",
      "tensor([2])\n"
     ]
    },
    {
     "name": "stderr",
     "output_type": "stream",
     "text": [
      "Iterating training graphs:  22%|██▏       | 1970/9024 [00:47<01:43, 68.34batch/s]"
     ]
    },
    {
     "name": "stdout",
     "output_type": "stream",
     "text": [
      "tensor([1])\n",
      "tensor([4])\n",
      "tensor([1])\n",
      "tensor([2])\n",
      "tensor([1])\n",
      "tensor([2])\n",
      "tensor([3])\n",
      "tensor([2])\n",
      "tensor([0])\n",
      "tensor([0])\n",
      "tensor([3])\n"
     ]
    },
    {
     "name": "stderr",
     "output_type": "stream",
     "text": [
      "Iterating training graphs:  22%|██▏       | 1987/9024 [00:47<01:48, 64.66batch/s]"
     ]
    },
    {
     "name": "stdout",
     "output_type": "stream",
     "text": [
      "tensor([3])\n",
      "tensor([4])\n",
      "tensor([2])\n",
      "tensor([2])\n",
      "tensor([4])\n",
      "tensor([4])\n",
      "tensor([3])\n",
      "tensor([4])\n",
      "tensor([1])\n",
      "tensor([1])\n",
      "tensor([0])\n",
      "tensor([2])\n",
      "tensor([4])\n",
      "tensor([3])\n",
      "tensor([1])\n",
      "tensor([2])\n"
     ]
    },
    {
     "name": "stderr",
     "output_type": "stream",
     "text": [
      "Iterating training graphs:  22%|██▏       | 1994/9024 [00:47<01:52, 62.32batch/s]"
     ]
    },
    {
     "name": "stdout",
     "output_type": "stream",
     "text": [
      "tensor([2])\n",
      "tensor([1])\n",
      "tensor([2])\n",
      "tensor([0])\n",
      "tensor([3])\n",
      "tensor([2])\n",
      "tensor([1])\n",
      "tensor([3])\n"
     ]
    },
    {
     "name": "stderr",
     "output_type": "stream",
     "text": [
      "Iterating training graphs:  22%|██▏       | 2013/9024 [00:48<01:45, 66.54batch/s]"
     ]
    },
    {
     "name": "stdout",
     "output_type": "stream",
     "text": [
      "tensor([2])\n",
      "tensor([1])\n",
      "tensor([5])\n",
      "tensor([3])\n",
      "tensor([3])\n",
      "tensor([1])\n",
      "tensor([4])\n",
      "tensor([0])\n",
      "tensor([4])\n",
      "tensor([0])\n",
      "tensor([1])\n",
      "tensor([1])\n",
      "tensor([4])\n",
      "tensor([2])\n",
      "tensor([3])\n",
      "tensor([2])\n",
      "tensor([1])\n"
     ]
    },
    {
     "name": "stderr",
     "output_type": "stream",
     "text": [
      "Iterating training graphs:  23%|██▎       | 2035/9024 [00:48<01:22, 84.64batch/s]"
     ]
    },
    {
     "name": "stdout",
     "output_type": "stream",
     "text": [
      "tensor([3])\n",
      "tensor([1])\n",
      "tensor([2])\n",
      "tensor([2])\n",
      "tensor([2])\n",
      "tensor([3])\n",
      "tensor([4])\n",
      "tensor([4])\n",
      "tensor([3])\n",
      "tensor([1])\n",
      "tensor([1])\n",
      "tensor([3])\n",
      "tensor([1])\n",
      "tensor([2])\n",
      "tensor([2])\n",
      "tensor([1])\n",
      "tensor([2])\n",
      "tensor([0])\n",
      "tensor([2])\n",
      "tensor([3])\n",
      "tensor([3])\n",
      "tensor([4])\n",
      "tensor([2])\n",
      "tensor([5])\n",
      "tensor([3])\n"
     ]
    },
    {
     "name": "stderr",
     "output_type": "stream",
     "text": [
      "Iterating training graphs:  23%|██▎       | 2055/9024 [00:48<01:30, 76.63batch/s]"
     ]
    },
    {
     "name": "stdout",
     "output_type": "stream",
     "text": [
      "tensor([0])\n",
      "tensor([1])\n",
      "tensor([4])\n",
      "tensor([3])\n",
      "tensor([1])\n",
      "tensor([3])\n",
      "tensor([2])\n",
      "tensor([5])\n",
      "tensor([5])\n",
      "tensor([2])\n",
      "tensor([0])\n",
      "tensor([2])\n",
      "tensor([0])\n",
      "tensor([3])\n",
      "tensor([3])\n",
      "tensor([2])\n",
      "tensor([1])\n",
      "tensor([1])\n",
      "tensor([4])\n"
     ]
    },
    {
     "name": "stderr",
     "output_type": "stream",
     "text": [
      "Iterating training graphs:  23%|██▎       | 2064/9024 [00:48<01:31, 76.36batch/s]"
     ]
    },
    {
     "name": "stdout",
     "output_type": "stream",
     "text": [
      "tensor([2])\n",
      "tensor([2])\n",
      "tensor([4])\n",
      "tensor([0])\n",
      "tensor([2])\n",
      "tensor([2])\n",
      "tensor([2])\n",
      "tensor([1])\n",
      "tensor([2])\n",
      "tensor([2])\n",
      "tensor([0])\n"
     ]
    },
    {
     "name": "stderr",
     "output_type": "stream",
     "text": [
      "Iterating training graphs:  23%|██▎       | 2081/9024 [00:48<01:44, 66.38batch/s]"
     ]
    },
    {
     "name": "stdout",
     "output_type": "stream",
     "text": [
      "tensor([2])\n",
      "tensor([2])\n",
      "tensor([1])\n",
      "tensor([0])\n",
      "tensor([3])\n",
      "tensor([2])\n",
      "tensor([3])\n",
      "tensor([1])\n",
      "tensor([3])\n",
      "tensor([0])\n",
      "tensor([4])\n",
      "tensor([3])\n",
      "tensor([4])\n",
      "tensor([4])\n",
      "tensor([2])\n"
     ]
    },
    {
     "name": "stderr",
     "output_type": "stream",
     "text": [
      "Iterating training graphs:  23%|██▎       | 2089/9024 [00:49<01:54, 60.68batch/s]"
     ]
    },
    {
     "name": "stdout",
     "output_type": "stream",
     "text": [
      "tensor([2])\n",
      "tensor([3])\n",
      "tensor([2])\n",
      "tensor([3])\n",
      "tensor([1])\n",
      "tensor([4])\n",
      "tensor([4])\n",
      "tensor([5])\n",
      "tensor([0])\n",
      "tensor([2])\n"
     ]
    },
    {
     "name": "stderr",
     "output_type": "stream",
     "text": [
      "Iterating training graphs:  23%|██▎       | 2106/9024 [00:49<01:39, 69.37batch/s]"
     ]
    },
    {
     "name": "stdout",
     "output_type": "stream",
     "text": [
      "tensor([2])\n",
      "tensor([5])\n",
      "tensor([2])\n",
      "tensor([3])\n",
      "tensor([1])\n",
      "tensor([5])\n",
      "tensor([2])\n",
      "tensor([0])\n",
      "tensor([4])\n",
      "tensor([3])\n",
      "tensor([2])\n",
      "tensor([1])\n",
      "tensor([5])\n",
      "tensor([0])\n",
      "tensor([2])\n"
     ]
    },
    {
     "name": "stderr",
     "output_type": "stream",
     "text": [
      "Iterating training graphs:  23%|██▎       | 2114/9024 [00:49<02:00, 57.37batch/s]"
     ]
    },
    {
     "name": "stdout",
     "output_type": "stream",
     "text": [
      "tensor([1])\n",
      "tensor([2])\n",
      "tensor([5])\n",
      "tensor([4])\n",
      "tensor([0])\n",
      "tensor([1])\n",
      "tensor([5])\n",
      "tensor([1])\n",
      "tensor([2])\n"
     ]
    },
    {
     "name": "stderr",
     "output_type": "stream",
     "text": [
      "Iterating training graphs:  24%|██▎       | 2130/9024 [00:49<01:44, 65.92batch/s]"
     ]
    },
    {
     "name": "stdout",
     "output_type": "stream",
     "text": [
      "tensor([1])\n",
      "tensor([1])\n",
      "tensor([2])\n",
      "tensor([2])\n",
      "tensor([3])\n",
      "tensor([2])\n",
      "tensor([3])\n",
      "tensor([0])\n",
      "tensor([5])\n",
      "tensor([4])\n",
      "tensor([2])\n",
      "tensor([3])\n",
      "tensor([2])\n",
      "tensor([3])\n",
      "tensor([2])\n",
      "tensor([2])\n"
     ]
    },
    {
     "name": "stderr",
     "output_type": "stream",
     "text": [
      "Iterating training graphs:  24%|██▍       | 2146/9024 [00:50<01:49, 62.55batch/s]"
     ]
    },
    {
     "name": "stdout",
     "output_type": "stream",
     "text": [
      "tensor([2])\n",
      "tensor([1])\n",
      "tensor([0])\n",
      "tensor([2])\n",
      "tensor([1])\n",
      "tensor([0])\n",
      "tensor([1])\n",
      "tensor([1])\n",
      "tensor([4])\n",
      "tensor([1])\n",
      "tensor([5])\n",
      "tensor([2])\n",
      "tensor([1])\n",
      "tensor([2])\n",
      "tensor([4])\n"
     ]
    },
    {
     "name": "stderr",
     "output_type": "stream",
     "text": [
      "Iterating training graphs:  24%|██▍       | 2168/9024 [00:50<01:28, 77.36batch/s]"
     ]
    },
    {
     "name": "stdout",
     "output_type": "stream",
     "text": [
      "tensor([1])\n",
      "tensor([1])\n",
      "tensor([2])\n",
      "tensor([5])\n",
      "tensor([5])\n",
      "tensor([0])\n",
      "tensor([1])\n",
      "tensor([1])\n",
      "tensor([1])\n",
      "tensor([5])\n",
      "tensor([1])\n",
      "tensor([2])\n",
      "tensor([4])\n",
      "tensor([2])\n",
      "tensor([4])\n",
      "tensor([4])\n",
      "tensor([2])\n",
      "tensor([4])\n",
      "tensor([4])\n"
     ]
    },
    {
     "name": "stderr",
     "output_type": "stream",
     "text": [
      "Iterating training graphs:  24%|██▍       | 2185/9024 [00:50<01:42, 66.97batch/s]"
     ]
    },
    {
     "name": "stdout",
     "output_type": "stream",
     "text": [
      "tensor([3])\n",
      "tensor([2])\n",
      "tensor([1])\n",
      "tensor([4])\n",
      "tensor([3])\n",
      "tensor([2])\n",
      "tensor([3])\n",
      "tensor([1])\n",
      "tensor([2])\n",
      "tensor([3])\n",
      "tensor([0])\n",
      "tensor([5])\n",
      "tensor([2])\n",
      "tensor([2])\n",
      "tensor([2])\n",
      "tensor([1])\n",
      "tensor([0])\n"
     ]
    },
    {
     "name": "stderr",
     "output_type": "stream",
     "text": [
      "Iterating training graphs:  24%|██▍       | 2193/9024 [00:50<01:56, 58.68batch/s]"
     ]
    },
    {
     "name": "stdout",
     "output_type": "stream",
     "text": [
      "tensor([1])\n",
      "tensor([2])\n",
      "tensor([3])\n",
      "tensor([1])\n",
      "tensor([0])\n",
      "tensor([2])\n",
      "tensor([2])\n",
      "tensor([3])\n",
      "tensor([3])\n",
      "tensor([3])\n",
      "tensor([1])\n",
      "tensor([2])\n",
      "tensor([2])\n",
      "tensor([3])\n"
     ]
    },
    {
     "name": "stderr",
     "output_type": "stream",
     "text": [
      "Iterating training graphs:  24%|██▍       | 2208/9024 [00:50<01:46, 64.29batch/s]"
     ]
    },
    {
     "name": "stdout",
     "output_type": "stream",
     "text": [
      "tensor([2])\n",
      "tensor([4])\n",
      "tensor([3])\n",
      "tensor([4])\n",
      "tensor([3])\n",
      "tensor([2])\n",
      "tensor([1])\n",
      "tensor([5])\n",
      "tensor([3])\n",
      "tensor([2])\n",
      "tensor([2])\n",
      "tensor([0])\n",
      "tensor([2])\n",
      "tensor([5])\n"
     ]
    },
    {
     "name": "stderr",
     "output_type": "stream",
     "text": [
      "Iterating training graphs:  25%|██▍       | 2222/9024 [00:51<02:05, 54.07batch/s]"
     ]
    },
    {
     "name": "stdout",
     "output_type": "stream",
     "text": [
      "tensor([2])\n",
      "tensor([1])\n",
      "tensor([1])\n",
      "tensor([1])\n",
      "tensor([0])\n",
      "tensor([4])\n",
      "tensor([1])\n",
      "tensor([5])\n",
      "tensor([2])\n",
      "tensor([1])\n"
     ]
    },
    {
     "name": "stderr",
     "output_type": "stream",
     "text": [
      "Iterating training graphs:  25%|██▍       | 2243/9024 [00:51<01:31, 74.12batch/s]"
     ]
    },
    {
     "name": "stdout",
     "output_type": "stream",
     "text": [
      "tensor([1])\n",
      "tensor([1])\n",
      "tensor([5])\n",
      "tensor([3])\n",
      "tensor([2])\n",
      "tensor([1])\n",
      "tensor([2])\n",
      "tensor([3])\n",
      "tensor([0])\n",
      "tensor([3])\n",
      "tensor([0])\n",
      "tensor([4])\n",
      "tensor([3])\n",
      "tensor([3])\n",
      "tensor([0])\n",
      "tensor([2])\n",
      "tensor([0])\n",
      "tensor([2])\n",
      "tensor([4])\n",
      "tensor([1])\n"
     ]
    },
    {
     "name": "stderr",
     "output_type": "stream",
     "text": [
      "Iterating training graphs:  25%|██▍       | 2254/9024 [00:51<01:21, 82.77batch/s]"
     ]
    },
    {
     "name": "stdout",
     "output_type": "stream",
     "text": [
      "tensor([1])\n",
      "tensor([2])\n",
      "tensor([2])\n",
      "tensor([1])\n",
      "tensor([2])\n",
      "tensor([2])\n",
      "tensor([0])\n",
      "tensor([1])\n",
      "tensor([3])\n",
      "tensor([3])\n",
      "tensor([2])\n",
      "tensor([3])\n",
      "tensor([3])\n",
      "tensor([2])\n",
      "tensor([2])\n",
      "tensor([3])\n",
      "tensor([4])\n",
      "tensor([0])\n",
      "tensor([2])\n"
     ]
    },
    {
     "name": "stderr",
     "output_type": "stream",
     "text": [
      "Iterating training graphs:  25%|██▌       | 2272/9024 [00:51<01:37, 69.27batch/s]"
     ]
    },
    {
     "name": "stdout",
     "output_type": "stream",
     "text": [
      "tensor([2])\n",
      "tensor([1])\n",
      "tensor([0])\n",
      "tensor([0])\n",
      "tensor([3])\n",
      "tensor([1])\n",
      "tensor([2])\n",
      "tensor([0])\n",
      "tensor([3])\n",
      "tensor([0])\n",
      "tensor([3])\n",
      "tensor([3])\n"
     ]
    },
    {
     "name": "stderr",
     "output_type": "stream",
     "text": [
      "Iterating training graphs:  25%|██▌       | 2288/9024 [00:52<01:36, 69.56batch/s]"
     ]
    },
    {
     "name": "stdout",
     "output_type": "stream",
     "text": [
      "tensor([0])\n",
      "tensor([3])\n",
      "tensor([4])\n",
      "tensor([4])\n",
      "tensor([2])\n",
      "tensor([1])\n",
      "tensor([2])\n",
      "tensor([1])\n",
      "tensor([4])\n",
      "tensor([3])\n",
      "tensor([3])\n",
      "tensor([2])\n",
      "tensor([1])\n",
      "tensor([3])\n"
     ]
    },
    {
     "name": "stderr",
     "output_type": "stream",
     "text": [
      "Iterating training graphs:  26%|██▌       | 2304/9024 [00:52<01:41, 65.96batch/s]"
     ]
    },
    {
     "name": "stdout",
     "output_type": "stream",
     "text": [
      "tensor([2])\n",
      "tensor([1])\n",
      "tensor([1])\n",
      "tensor([3])\n",
      "tensor([4])\n",
      "tensor([2])\n",
      "tensor([5])\n",
      "tensor([2])\n",
      "tensor([5])\n",
      "tensor([2])\n",
      "tensor([2])\n",
      "tensor([3])\n",
      "tensor([2])\n",
      "tensor([2])\n",
      "tensor([4])\n",
      "tensor([2])\n"
     ]
    },
    {
     "name": "stderr",
     "output_type": "stream",
     "text": [
      "Iterating training graphs:  26%|██▌       | 2321/9024 [00:52<01:14, 90.30batch/s]"
     ]
    },
    {
     "name": "stdout",
     "output_type": "stream",
     "text": [
      "tensor([3])\n",
      "tensor([2])\n",
      "tensor([4])\n",
      "tensor([1])\n",
      "tensor([4])\n",
      "tensor([4])\n",
      "tensor([3])\n",
      "tensor([3])\n",
      "tensor([0])\n",
      "tensor([4])\n",
      "tensor([5])\n",
      "tensor([4])\n",
      "tensor([2])\n",
      "tensor([4])\n",
      "tensor([2])\n",
      "tensor([3])\n",
      "tensor([3])\n",
      "tensor([4])\n",
      "tensor([5])\n",
      "tensor([5])\n",
      "tensor([2])\n",
      "tensor([3])\n",
      "tensor([2])\n",
      "tensor([0])\n"
     ]
    },
    {
     "name": "stderr",
     "output_type": "stream",
     "text": [
      "Iterating training graphs:  26%|██▌       | 2342/9024 [00:52<01:10, 94.41batch/s]"
     ]
    },
    {
     "name": "stdout",
     "output_type": "stream",
     "text": [
      "tensor([1])\n",
      "tensor([1])\n",
      "tensor([3])\n",
      "tensor([2])\n",
      "tensor([2])\n",
      "tensor([2])\n",
      "tensor([2])\n",
      "tensor([2])\n",
      "tensor([2])\n",
      "tensor([2])\n",
      "tensor([0])\n",
      "tensor([4])\n",
      "tensor([4])\n",
      "tensor([5])\n",
      "tensor([2])\n",
      "tensor([1])\n",
      "tensor([1])\n",
      "tensor([4])\n",
      "tensor([5])\n",
      "tensor([2])\n",
      "tensor([2])\n",
      "tensor([2])\n",
      "tensor([2])\n",
      "tensor([1])\n",
      "tensor([4])\n"
     ]
    },
    {
     "name": "stderr",
     "output_type": "stream",
     "text": [
      "Iterating training graphs:  26%|██▌       | 2367/9024 [00:52<01:16, 87.02batch/s] "
     ]
    },
    {
     "name": "stdout",
     "output_type": "stream",
     "text": [
      "tensor([5])\n",
      "tensor([0])\n",
      "tensor([1])\n",
      "tensor([2])\n",
      "tensor([5])\n",
      "tensor([5])\n",
      "tensor([1])\n",
      "tensor([3])\n",
      "tensor([2])\n",
      "tensor([1])\n",
      "tensor([1])\n",
      "tensor([2])\n",
      "tensor([0])\n",
      "tensor([2])\n",
      "tensor([4])\n"
     ]
    },
    {
     "name": "stderr",
     "output_type": "stream",
     "text": [
      "Iterating training graphs:  26%|██▋       | 2377/9024 [00:53<01:30, 73.80batch/s]"
     ]
    },
    {
     "name": "stdout",
     "output_type": "stream",
     "text": [
      "tensor([5])\n",
      "tensor([2])\n",
      "tensor([0])\n",
      "tensor([2])\n",
      "tensor([4])\n",
      "tensor([2])\n",
      "tensor([2])\n",
      "tensor([5])\n",
      "tensor([2])\n",
      "tensor([4])\n",
      "tensor([0])\n",
      "tensor([3])\n",
      "tensor([4])\n",
      "tensor([1])\n",
      "tensor([4])\n"
     ]
    },
    {
     "name": "stderr",
     "output_type": "stream",
     "text": [
      "Iterating training graphs:  27%|██▋       | 2396/9024 [00:53<01:36, 68.44batch/s]"
     ]
    },
    {
     "name": "stdout",
     "output_type": "stream",
     "text": [
      "tensor([4])\n",
      "tensor([4])\n",
      "tensor([2])\n",
      "tensor([2])\n",
      "tensor([0])\n",
      "tensor([2])\n",
      "tensor([1])\n",
      "tensor([3])\n",
      "tensor([4])\n",
      "tensor([2])\n",
      "tensor([0])\n",
      "tensor([2])\n",
      "tensor([0])\n",
      "tensor([2])\n"
     ]
    },
    {
     "name": "stderr",
     "output_type": "stream",
     "text": [
      "Iterating training graphs:  27%|██▋       | 2412/9024 [00:53<01:34, 70.20batch/s]"
     ]
    },
    {
     "name": "stdout",
     "output_type": "stream",
     "text": [
      "tensor([3])\n",
      "tensor([5])\n",
      "tensor([1])\n",
      "tensor([1])\n",
      "tensor([2])\n",
      "tensor([2])\n",
      "tensor([1])\n",
      "tensor([2])\n",
      "tensor([1])\n",
      "tensor([4])\n",
      "tensor([3])\n",
      "tensor([1])\n",
      "tensor([5])\n",
      "tensor([5])\n",
      "tensor([3])\n"
     ]
    },
    {
     "name": "stderr",
     "output_type": "stream",
     "text": [
      "Iterating training graphs:  27%|██▋       | 2430/9024 [00:53<01:23, 78.86batch/s]"
     ]
    },
    {
     "name": "stdout",
     "output_type": "stream",
     "text": [
      "tensor([4])\n",
      "tensor([1])\n",
      "tensor([1])\n",
      "tensor([4])\n",
      "tensor([1])\n",
      "tensor([2])\n",
      "tensor([4])\n",
      "tensor([1])\n",
      "tensor([2])\n",
      "tensor([1])\n",
      "tensor([0])\n",
      "tensor([1])\n",
      "tensor([1])\n",
      "tensor([5])\n",
      "tensor([3])\n",
      "tensor([4])\n",
      "tensor([3])\n",
      "tensor([1])\n"
     ]
    },
    {
     "name": "stderr",
     "output_type": "stream",
     "text": [
      "Iterating training graphs:  27%|██▋       | 2439/9024 [00:53<01:36, 68.46batch/s]"
     ]
    },
    {
     "name": "stdout",
     "output_type": "stream",
     "text": [
      "tensor([5])\n",
      "tensor([2])\n",
      "tensor([1])\n",
      "tensor([2])\n",
      "tensor([4])\n",
      "tensor([2])\n",
      "tensor([4])\n",
      "tensor([1])\n",
      "tensor([3])\n",
      "tensor([3])\n",
      "tensor([2])\n",
      "tensor([1])\n"
     ]
    },
    {
     "name": "stderr",
     "output_type": "stream",
     "text": [
      "Iterating training graphs:  27%|██▋       | 2456/9024 [00:54<01:29, 73.12batch/s]"
     ]
    },
    {
     "name": "stdout",
     "output_type": "stream",
     "text": [
      "tensor([2])\n",
      "tensor([1])\n",
      "tensor([1])\n",
      "tensor([3])\n",
      "tensor([0])\n",
      "tensor([1])\n",
      "tensor([0])\n",
      "tensor([2])\n",
      "tensor([5])\n",
      "tensor([4])\n",
      "tensor([1])\n",
      "tensor([3])\n",
      "tensor([0])\n",
      "tensor([4])\n",
      "tensor([1])\n",
      "tensor([1])\n",
      "tensor([3])\n",
      "tensor([2])\n"
     ]
    },
    {
     "name": "stderr",
     "output_type": "stream",
     "text": [
      "Iterating training graphs:  27%|██▋       | 2477/9024 [00:54<01:15, 86.90batch/s]"
     ]
    },
    {
     "name": "stdout",
     "output_type": "stream",
     "text": [
      "tensor([2])\n",
      "tensor([5])\n",
      "tensor([2])\n",
      "tensor([4])\n",
      "tensor([2])\n",
      "tensor([2])\n",
      "tensor([0])\n",
      "tensor([4])\n",
      "tensor([5])\n",
      "tensor([2])\n",
      "tensor([3])\n",
      "tensor([2])\n",
      "tensor([4])\n",
      "tensor([4])\n",
      "tensor([2])\n",
      "tensor([4])\n",
      "tensor([3])\n"
     ]
    },
    {
     "name": "stderr",
     "output_type": "stream",
     "text": [
      "Iterating training graphs:  28%|██▊       | 2486/9024 [00:54<01:33, 69.83batch/s]"
     ]
    },
    {
     "name": "stdout",
     "output_type": "stream",
     "text": [
      "tensor([5])\n",
      "tensor([5])\n",
      "tensor([2])\n",
      "tensor([3])\n",
      "tensor([3])\n",
      "tensor([2])\n",
      "tensor([4])\n",
      "tensor([4])\n",
      "tensor([3])\n",
      "tensor([0])\n",
      "tensor([3])\n",
      "tensor([2])\n",
      "tensor([2])\n",
      "tensor([1])\n",
      "tensor([2])\n"
     ]
    },
    {
     "name": "stderr",
     "output_type": "stream",
     "text": [
      "Iterating training graphs:  28%|██▊       | 2503/9024 [00:54<01:27, 74.63batch/s]"
     ]
    },
    {
     "name": "stdout",
     "output_type": "stream",
     "text": [
      "tensor([2])\n",
      "tensor([4])\n",
      "tensor([3])\n",
      "tensor([0])\n",
      "tensor([2])\n",
      "tensor([5])\n",
      "tensor([0])\n",
      "tensor([5])\n",
      "tensor([3])\n",
      "tensor([0])\n",
      "tensor([2])\n",
      "tensor([2])\n",
      "tensor([1])\n",
      "tensor([2])\n"
     ]
    },
    {
     "name": "stderr",
     "output_type": "stream",
     "text": [
      "Iterating training graphs:  28%|██▊       | 2525/9024 [00:55<01:23, 78.19batch/s]"
     ]
    },
    {
     "name": "stdout",
     "output_type": "stream",
     "text": [
      "tensor([4])\n",
      "tensor([3])\n",
      "tensor([4])\n",
      "tensor([5])\n",
      "tensor([3])\n",
      "tensor([0])\n",
      "tensor([2])\n",
      "tensor([4])\n",
      "tensor([4])\n",
      "tensor([3])\n",
      "tensor([2])\n",
      "tensor([0])\n",
      "tensor([2])\n",
      "tensor([1])\n",
      "tensor([2])\n",
      "tensor([0])\n",
      "tensor([1])\n",
      "tensor([2])\n",
      "tensor([3])\n",
      "tensor([3])\n"
     ]
    },
    {
     "name": "stderr",
     "output_type": "stream",
     "text": [
      "Iterating training graphs:  28%|██▊       | 2533/9024 [00:55<01:27, 74.09batch/s]"
     ]
    },
    {
     "name": "stdout",
     "output_type": "stream",
     "text": [
      "tensor([1])\n",
      "tensor([3])\n",
      "tensor([2])\n",
      "tensor([3])\n",
      "tensor([2])\n",
      "tensor([1])\n",
      "tensor([0])\n",
      "tensor([2])\n",
      "tensor([1])\n",
      "tensor([1])\n",
      "tensor([4])\n",
      "tensor([2])\n",
      "tensor([1])\n"
     ]
    },
    {
     "name": "stderr",
     "output_type": "stream",
     "text": [
      "Iterating training graphs:  28%|██▊       | 2549/9024 [00:55<01:40, 64.26batch/s]"
     ]
    },
    {
     "name": "stdout",
     "output_type": "stream",
     "text": [
      "tensor([1])\n",
      "tensor([0])\n",
      "tensor([2])\n",
      "tensor([3])\n",
      "tensor([2])\n",
      "tensor([2])\n",
      "tensor([2])\n",
      "tensor([2])\n",
      "tensor([0])\n",
      "tensor([2])\n",
      "tensor([2])\n"
     ]
    },
    {
     "name": "stderr",
     "output_type": "stream",
     "text": [
      "Iterating training graphs:  28%|██▊       | 2566/9024 [00:55<01:30, 71.61batch/s]"
     ]
    },
    {
     "name": "stdout",
     "output_type": "stream",
     "text": [
      "tensor([2])\n",
      "tensor([1])\n",
      "tensor([3])\n",
      "tensor([0])\n",
      "tensor([3])\n",
      "tensor([2])\n",
      "tensor([5])\n",
      "tensor([0])\n",
      "tensor([0])\n",
      "tensor([4])\n",
      "tensor([3])\n",
      "tensor([0])\n",
      "tensor([5])\n",
      "tensor([2])\n",
      "tensor([3])\n",
      "tensor([4])\n",
      "tensor([4])\n",
      "tensor([4])\n"
     ]
    },
    {
     "name": "stderr",
     "output_type": "stream",
     "text": [
      "Iterating training graphs:  29%|██▊       | 2577/9024 [00:55<01:20, 79.99batch/s]"
     ]
    },
    {
     "name": "stdout",
     "output_type": "stream",
     "text": [
      "tensor([2])\n",
      "tensor([5])\n",
      "tensor([4])\n",
      "tensor([2])\n",
      "tensor([5])\n",
      "tensor([4])\n",
      "tensor([3])\n",
      "tensor([4])\n",
      "tensor([0])\n",
      "tensor([1])\n",
      "tensor([2])\n",
      "tensor([3])\n",
      "tensor([1])\n",
      "tensor([1])\n",
      "tensor([1])\n",
      "tensor([2])\n"
     ]
    },
    {
     "name": "stderr",
     "output_type": "stream",
     "text": [
      "Iterating training graphs:  29%|██▉       | 2595/9024 [00:56<01:27, 73.41batch/s]"
     ]
    },
    {
     "name": "stdout",
     "output_type": "stream",
     "text": [
      "tensor([0])\n",
      "tensor([3])\n",
      "tensor([2])\n",
      "tensor([4])\n",
      "tensor([4])\n",
      "tensor([1])\n",
      "tensor([2])\n",
      "tensor([0])\n",
      "tensor([2])\n",
      "tensor([5])\n",
      "tensor([1])\n",
      "tensor([2])\n",
      "tensor([4])\n",
      "tensor([1])\n",
      "tensor([1])\n",
      "tensor([2])\n",
      "tensor([4])\n",
      "tensor([4])\n"
     ]
    },
    {
     "name": "stderr",
     "output_type": "stream",
     "text": [
      "Iterating training graphs:  29%|██▉       | 2606/9024 [00:56<01:23, 76.71batch/s]"
     ]
    },
    {
     "name": "stdout",
     "output_type": "stream",
     "text": [
      "tensor([2])\n",
      "tensor([0])\n",
      "tensor([4])\n",
      "tensor([0])\n",
      "tensor([1])\n",
      "tensor([5])\n",
      "tensor([3])\n",
      "tensor([0])\n",
      "tensor([2])\n",
      "tensor([3])\n",
      "tensor([4])\n"
     ]
    },
    {
     "name": "stderr",
     "output_type": "stream",
     "text": [
      "Iterating training graphs:  29%|██▉       | 2622/9024 [00:56<01:43, 61.62batch/s]"
     ]
    },
    {
     "name": "stdout",
     "output_type": "stream",
     "text": [
      "tensor([0])\n",
      "tensor([2])\n",
      "tensor([2])\n",
      "tensor([1])\n",
      "tensor([2])\n",
      "tensor([5])\n",
      "tensor([4])\n",
      "tensor([2])\n",
      "tensor([3])\n",
      "tensor([0])\n",
      "tensor([2])\n",
      "tensor([2])\n",
      "tensor([2])\n",
      "tensor([3])\n",
      "tensor([5])\n",
      "tensor([4])\n",
      "tensor([2])\n"
     ]
    },
    {
     "name": "stderr",
     "output_type": "stream",
     "text": [
      "Iterating training graphs:  29%|██▉       | 2634/9024 [00:56<01:36, 66.35batch/s]"
     ]
    },
    {
     "name": "stdout",
     "output_type": "stream",
     "text": [
      "tensor([4])\n",
      "tensor([5])\n",
      "tensor([2])\n",
      "tensor([2])\n",
      "tensor([4])\n",
      "tensor([1])\n",
      "tensor([2])\n",
      "tensor([2])\n",
      "tensor([2])\n",
      "tensor([3])\n",
      "tensor([1])\n",
      "tensor([3])\n",
      "tensor([2])\n"
     ]
    },
    {
     "name": "stderr",
     "output_type": "stream",
     "text": [
      "Iterating training graphs:  29%|██▉       | 2651/9024 [00:56<01:29, 71.41batch/s]"
     ]
    },
    {
     "name": "stdout",
     "output_type": "stream",
     "text": [
      "tensor([2])\n",
      "tensor([0])\n",
      "tensor([2])\n",
      "tensor([3])\n",
      "tensor([2])\n",
      "tensor([2])\n",
      "tensor([1])\n",
      "tensor([2])\n",
      "tensor([4])\n",
      "tensor([1])\n",
      "tensor([3])\n",
      "tensor([3])\n"
     ]
    },
    {
     "name": "stderr",
     "output_type": "stream",
     "text": [
      "Iterating training graphs:  30%|██▉       | 2670/9024 [00:57<01:20, 79.11batch/s]"
     ]
    },
    {
     "name": "stdout",
     "output_type": "stream",
     "text": [
      "tensor([2])\n",
      "tensor([4])\n",
      "tensor([4])\n",
      "tensor([2])\n",
      "tensor([4])\n",
      "tensor([0])\n",
      "tensor([0])\n",
      "tensor([4])\n",
      "tensor([0])\n",
      "tensor([4])\n",
      "tensor([2])\n",
      "tensor([3])\n",
      "tensor([3])\n",
      "tensor([2])\n",
      "tensor([3])\n",
      "tensor([2])\n",
      "tensor([2])\n"
     ]
    },
    {
     "name": "stderr",
     "output_type": "stream",
     "text": [
      "Iterating training graphs:  30%|██▉       | 2692/9024 [00:57<01:16, 82.82batch/s]"
     ]
    },
    {
     "name": "stdout",
     "output_type": "stream",
     "text": [
      "tensor([1])\n",
      "tensor([2])\n",
      "tensor([2])\n",
      "tensor([1])\n",
      "tensor([3])\n",
      "tensor([3])\n",
      "tensor([4])\n",
      "tensor([4])\n",
      "tensor([1])\n",
      "tensor([4])\n",
      "tensor([2])\n",
      "tensor([3])\n",
      "tensor([3])\n",
      "tensor([0])\n",
      "tensor([4])\n",
      "tensor([1])\n",
      "tensor([1])\n",
      "tensor([4])\n",
      "tensor([4])\n",
      "tensor([2])\n"
     ]
    },
    {
     "name": "stderr",
     "output_type": "stream",
     "text": [
      "Iterating training graphs:  30%|██▉       | 2701/9024 [00:57<01:15, 83.72batch/s]"
     ]
    },
    {
     "name": "stdout",
     "output_type": "stream",
     "text": [
      "tensor([3])\n",
      "tensor([5])\n",
      "tensor([2])\n",
      "tensor([1])\n",
      "tensor([2])\n",
      "tensor([2])\n",
      "tensor([4])\n",
      "tensor([3])\n",
      "tensor([1])\n",
      "tensor([2])\n",
      "tensor([3])\n",
      "tensor([1])\n",
      "tensor([0])\n",
      "tensor([2])\n"
     ]
    },
    {
     "name": "stderr",
     "output_type": "stream",
     "text": [
      "Iterating training graphs:  30%|███       | 2720/9024 [00:57<01:25, 73.69batch/s]"
     ]
    },
    {
     "name": "stdout",
     "output_type": "stream",
     "text": [
      "tensor([2])\n",
      "tensor([2])\n",
      "tensor([0])\n",
      "tensor([4])\n",
      "tensor([5])\n",
      "tensor([2])\n",
      "tensor([2])\n",
      "tensor([4])\n",
      "tensor([3])\n",
      "tensor([4])\n",
      "tensor([1])\n",
      "tensor([1])\n",
      "tensor([1])\n",
      "tensor([4])\n",
      "tensor([5])\n",
      "tensor([5])\n",
      "tensor([1])\n",
      "tensor([1])\n",
      "tensor([2])\n",
      "tensor([0])\n",
      "tensor([1])\n"
     ]
    },
    {
     "name": "stderr",
     "output_type": "stream",
     "text": [
      "Iterating training graphs:  30%|███       | 2743/9024 [00:58<01:21, 76.70batch/s]"
     ]
    },
    {
     "name": "stdout",
     "output_type": "stream",
     "text": [
      "tensor([2])\n",
      "tensor([2])\n",
      "tensor([2])\n",
      "tensor([1])\n",
      "tensor([2])\n",
      "tensor([1])\n",
      "tensor([3])\n",
      "tensor([2])\n",
      "tensor([5])\n",
      "tensor([2])\n",
      "tensor([4])\n",
      "tensor([0])\n",
      "tensor([1])\n",
      "tensor([1])\n",
      "tensor([3])\n",
      "tensor([3])\n"
     ]
    },
    {
     "name": "stderr",
     "output_type": "stream",
     "text": [
      "Iterating training graphs:  30%|███       | 2752/9024 [00:58<01:22, 76.37batch/s]"
     ]
    },
    {
     "name": "stdout",
     "output_type": "stream",
     "text": [
      "tensor([3])\n",
      "tensor([3])\n",
      "tensor([2])\n",
      "tensor([4])\n",
      "tensor([2])\n",
      "tensor([1])\n",
      "tensor([3])\n",
      "tensor([2])\n",
      "tensor([2])\n",
      "tensor([2])\n",
      "tensor([2])\n",
      "tensor([1])\n",
      "tensor([3])\n",
      "tensor([4])\n",
      "tensor([4])\n",
      "tensor([2])\n",
      "tensor([2])\n"
     ]
    },
    {
     "name": "stderr",
     "output_type": "stream",
     "text": [
      "Iterating training graphs:  31%|███       | 2770/9024 [00:58<01:21, 76.91batch/s]"
     ]
    },
    {
     "name": "stdout",
     "output_type": "stream",
     "text": [
      "tensor([1])\n",
      "tensor([3])\n",
      "tensor([4])\n",
      "tensor([2])\n",
      "tensor([2])\n",
      "tensor([3])\n",
      "tensor([3])\n",
      "tensor([3])\n",
      "tensor([4])\n",
      "tensor([1])\n",
      "tensor([4])\n",
      "tensor([2])\n",
      "tensor([3])\n",
      "tensor([2])\n",
      "tensor([2])\n"
     ]
    },
    {
     "name": "stderr",
     "output_type": "stream",
     "text": [
      "Iterating training graphs:  31%|███       | 2786/9024 [00:58<01:31, 68.13batch/s]"
     ]
    },
    {
     "name": "stdout",
     "output_type": "stream",
     "text": [
      "tensor([3])\n",
      "tensor([2])\n",
      "tensor([2])\n",
      "tensor([2])\n",
      "tensor([2])\n",
      "tensor([2])\n",
      "tensor([1])\n",
      "tensor([0])\n",
      "tensor([0])\n",
      "tensor([3])\n",
      "tensor([4])\n",
      "tensor([0])\n"
     ]
    },
    {
     "name": "stderr",
     "output_type": "stream",
     "text": [
      "Iterating training graphs:  31%|███       | 2802/9024 [00:58<01:26, 72.25batch/s]"
     ]
    },
    {
     "name": "stdout",
     "output_type": "stream",
     "text": [
      "tensor([2])\n",
      "tensor([2])\n",
      "tensor([2])\n",
      "tensor([4])\n",
      "tensor([2])\n",
      "tensor([2])\n",
      "tensor([1])\n",
      "tensor([1])\n",
      "tensor([2])\n",
      "tensor([2])\n",
      "tensor([3])\n",
      "tensor([4])\n",
      "tensor([0])\n",
      "tensor([2])\n",
      "tensor([0])\n"
     ]
    },
    {
     "name": "stderr",
     "output_type": "stream",
     "text": [
      "Iterating training graphs:  31%|███       | 2810/9024 [00:59<01:40, 61.68batch/s]"
     ]
    },
    {
     "name": "stdout",
     "output_type": "stream",
     "text": [
      "tensor([3])\n",
      "tensor([4])\n",
      "tensor([5])\n",
      "tensor([2])\n",
      "tensor([2])\n",
      "tensor([3])\n",
      "tensor([5])\n",
      "tensor([1])\n",
      "tensor([0])\n",
      "tensor([1])\n",
      "tensor([3])\n",
      "tensor([2])\n",
      "tensor([5])\n"
     ]
    },
    {
     "name": "stderr",
     "output_type": "stream",
     "text": [
      "Iterating training graphs:  31%|███▏      | 2825/9024 [00:59<01:35, 64.81batch/s]"
     ]
    },
    {
     "name": "stdout",
     "output_type": "stream",
     "text": [
      "tensor([3])\n",
      "tensor([2])\n",
      "tensor([2])\n",
      "tensor([2])\n",
      "tensor([4])\n",
      "tensor([2])\n",
      "tensor([3])\n",
      "tensor([3])\n",
      "tensor([2])\n",
      "tensor([3])\n",
      "tensor([3])\n",
      "tensor([5])\n",
      "tensor([3])\n"
     ]
    },
    {
     "name": "stderr",
     "output_type": "stream",
     "text": [
      "Iterating training graphs:  31%|███▏      | 2839/9024 [00:59<01:46, 57.88batch/s]"
     ]
    },
    {
     "name": "stdout",
     "output_type": "stream",
     "text": [
      "tensor([3])\n",
      "tensor([0])\n",
      "tensor([3])\n",
      "tensor([2])\n",
      "tensor([1])\n",
      "tensor([1])\n",
      "tensor([0])\n",
      "tensor([2])\n",
      "tensor([4])\n",
      "tensor([3])\n",
      "tensor([4])\n",
      "tensor([4])\n",
      "tensor([2])\n",
      "tensor([5])\n"
     ]
    },
    {
     "name": "stderr",
     "output_type": "stream",
     "text": [
      "Iterating training graphs:  32%|███▏      | 2849/9024 [00:59<01:33, 66.24batch/s]"
     ]
    },
    {
     "name": "stdout",
     "output_type": "stream",
     "text": [
      "tensor([5])\n",
      "tensor([4])\n",
      "tensor([0])\n",
      "tensor([4])\n",
      "tensor([2])\n",
      "tensor([2])\n",
      "tensor([3])\n",
      "tensor([2])\n",
      "tensor([3])\n",
      "tensor([3])\n",
      "tensor([0])\n",
      "tensor([3])\n",
      "tensor([1])\n"
     ]
    },
    {
     "name": "stderr",
     "output_type": "stream",
     "text": [
      "Iterating training graphs:  32%|███▏      | 2863/9024 [01:00<01:47, 57.10batch/s]"
     ]
    },
    {
     "name": "stdout",
     "output_type": "stream",
     "text": [
      "tensor([4])\n",
      "tensor([3])\n",
      "tensor([4])\n",
      "tensor([4])\n",
      "tensor([2])\n",
      "tensor([3])\n",
      "tensor([2])\n",
      "tensor([0])\n",
      "tensor([4])\n",
      "tensor([0])\n",
      "tensor([2])\n",
      "tensor([0])\n",
      "tensor([4])\n",
      "tensor([2])\n",
      "tensor([2])\n"
     ]
    },
    {
     "name": "stderr",
     "output_type": "stream",
     "text": [
      "Iterating training graphs:  32%|███▏      | 2874/9024 [01:00<01:29, 68.91batch/s]"
     ]
    },
    {
     "name": "stdout",
     "output_type": "stream",
     "text": [
      "tensor([2])\n",
      "tensor([1])\n",
      "tensor([2])\n",
      "tensor([3])\n",
      "tensor([2])\n",
      "tensor([5])\n",
      "tensor([1])\n",
      "tensor([3])\n",
      "tensor([4])\n",
      "tensor([1])\n",
      "tensor([3])\n"
     ]
    },
    {
     "name": "stderr",
     "output_type": "stream",
     "text": [
      "Iterating training graphs:  32%|███▏      | 2890/9024 [01:00<01:38, 62.43batch/s]"
     ]
    },
    {
     "name": "stdout",
     "output_type": "stream",
     "text": [
      "tensor([0])\n",
      "tensor([2])\n",
      "tensor([4])\n",
      "tensor([0])\n",
      "tensor([5])\n",
      "tensor([4])\n",
      "tensor([1])\n",
      "tensor([3])\n",
      "tensor([4])\n",
      "tensor([2])\n",
      "tensor([5])\n",
      "tensor([2])\n",
      "tensor([4])\n",
      "tensor([0])\n",
      "tensor([4])\n",
      "tensor([2])\n"
     ]
    },
    {
     "name": "stderr",
     "output_type": "stream",
     "text": [
      "Iterating training graphs:  32%|███▏      | 2907/9024 [01:00<01:26, 71.07batch/s]"
     ]
    },
    {
     "name": "stdout",
     "output_type": "stream",
     "text": [
      "tensor([0])\n",
      "tensor([0])\n",
      "tensor([4])\n",
      "tensor([2])\n",
      "tensor([2])\n",
      "tensor([0])\n",
      "tensor([3])\n",
      "tensor([1])\n",
      "tensor([3])\n",
      "tensor([4])\n",
      "tensor([0])\n",
      "tensor([4])\n",
      "tensor([2])\n",
      "tensor([4])\n",
      "tensor([2])\n"
     ]
    },
    {
     "name": "stderr",
     "output_type": "stream",
     "text": [
      "Iterating training graphs:  32%|███▏      | 2922/9024 [01:00<01:38, 62.01batch/s]"
     ]
    },
    {
     "name": "stdout",
     "output_type": "stream",
     "text": [
      "tensor([1])\n",
      "tensor([2])\n",
      "tensor([4])\n",
      "tensor([1])\n",
      "tensor([2])\n",
      "tensor([1])\n",
      "tensor([0])\n",
      "tensor([4])\n",
      "tensor([3])\n",
      "tensor([3])\n",
      "tensor([2])\n",
      "tensor([4])\n"
     ]
    },
    {
     "name": "stderr",
     "output_type": "stream",
     "text": [
      "Iterating training graphs:  33%|███▎      | 2936/9024 [01:01<01:35, 64.00batch/s]"
     ]
    },
    {
     "name": "stdout",
     "output_type": "stream",
     "text": [
      "tensor([3])\n",
      "tensor([3])\n",
      "tensor([4])\n",
      "tensor([1])\n",
      "tensor([1])\n",
      "tensor([3])\n",
      "tensor([0])\n",
      "tensor([2])\n",
      "tensor([4])\n",
      "tensor([0])\n",
      "tensor([1])\n",
      "tensor([1])\n",
      "tensor([3])\n",
      "tensor([3])\n",
      "tensor([4])\n"
     ]
    },
    {
     "name": "stderr",
     "output_type": "stream",
     "text": [
      "Iterating training graphs:  33%|███▎      | 2944/9024 [01:01<01:29, 68.27batch/s]"
     ]
    },
    {
     "name": "stdout",
     "output_type": "stream",
     "text": [
      "tensor([3])\n",
      "tensor([0])\n",
      "tensor([4])\n",
      "tensor([0])\n",
      "tensor([1])\n",
      "tensor([5])\n",
      "tensor([1])\n",
      "tensor([3])\n",
      "tensor([5])\n"
     ]
    },
    {
     "name": "stderr",
     "output_type": "stream",
     "text": [
      "Iterating training graphs:  33%|███▎      | 2959/9024 [01:01<01:43, 58.85batch/s]"
     ]
    },
    {
     "name": "stdout",
     "output_type": "stream",
     "text": [
      "tensor([3])\n",
      "tensor([4])\n",
      "tensor([2])\n",
      "tensor([3])\n",
      "tensor([2])\n",
      "tensor([2])\n",
      "tensor([4])\n",
      "tensor([4])\n",
      "tensor([2])\n",
      "tensor([5])\n",
      "tensor([2])\n",
      "tensor([2])\n",
      "tensor([3])\n",
      "tensor([4])\n",
      "tensor([3])\n",
      "tensor([3])\n",
      "tensor([1])\n"
     ]
    },
    {
     "name": "stderr",
     "output_type": "stream",
     "text": [
      "Iterating training graphs:  33%|███▎      | 2986/9024 [01:01<01:06, 90.72batch/s]"
     ]
    },
    {
     "name": "stdout",
     "output_type": "stream",
     "text": [
      "tensor([4])\n",
      "tensor([2])\n",
      "tensor([2])\n",
      "tensor([4])\n",
      "tensor([4])\n",
      "tensor([2])\n",
      "tensor([2])\n",
      "tensor([1])\n",
      "tensor([2])\n",
      "tensor([0])\n",
      "tensor([3])\n",
      "tensor([3])\n",
      "tensor([0])\n",
      "tensor([3])\n",
      "tensor([2])\n",
      "tensor([2])\n",
      "tensor([0])\n",
      "tensor([1])\n",
      "tensor([3])\n",
      "tensor([3])\n",
      "tensor([2])\n",
      "tensor([4])\n",
      "tensor([1])\n"
     ]
    },
    {
     "name": "stderr",
     "output_type": "stream",
     "text": [
      "Iterating training graphs:  33%|███▎      | 3005/9024 [01:02<01:17, 77.69batch/s]"
     ]
    },
    {
     "name": "stdout",
     "output_type": "stream",
     "text": [
      "tensor([3])\n",
      "tensor([2])\n",
      "tensor([2])\n",
      "tensor([2])\n",
      "tensor([0])\n",
      "tensor([2])\n",
      "tensor([4])\n",
      "tensor([4])\n",
      "tensor([2])\n",
      "tensor([2])\n",
      "tensor([1])\n",
      "tensor([2])\n",
      "tensor([1])\n",
      "tensor([2])\n",
      "tensor([2])\n",
      "tensor([2])\n",
      "tensor([3])\n",
      "tensor([2])\n"
     ]
    },
    {
     "name": "stderr",
     "output_type": "stream",
     "text": [
      "Iterating training graphs:  33%|███▎      | 3014/9024 [01:02<01:17, 78.03batch/s]"
     ]
    },
    {
     "name": "stdout",
     "output_type": "stream",
     "text": [
      "tensor([3])\n",
      "tensor([1])\n",
      "tensor([4])\n",
      "tensor([0])\n",
      "tensor([3])\n",
      "tensor([2])\n",
      "tensor([4])\n",
      "tensor([2])\n",
      "tensor([4])\n",
      "tensor([0])\n",
      "tensor([2])\n",
      "tensor([0])\n",
      "tensor([2])\n",
      "tensor([0])\n",
      "tensor([3])\n"
     ]
    },
    {
     "name": "stderr",
     "output_type": "stream",
     "text": [
      "Iterating training graphs:  34%|███▎      | 3033/9024 [01:02<01:18, 76.14batch/s]"
     ]
    },
    {
     "name": "stdout",
     "output_type": "stream",
     "text": [
      "tensor([3])\n",
      "tensor([0])\n",
      "tensor([4])\n",
      "tensor([1])\n",
      "tensor([3])\n",
      "tensor([2])\n",
      "tensor([2])\n",
      "tensor([2])\n",
      "tensor([2])\n",
      "tensor([2])\n",
      "tensor([2])\n",
      "tensor([4])\n",
      "tensor([5])\n",
      "tensor([2])\n",
      "tensor([4])\n",
      "tensor([4])\n",
      "tensor([2])\n",
      "tensor([3])\n",
      "tensor([2])\n"
     ]
    },
    {
     "name": "stderr",
     "output_type": "stream",
     "text": [
      "Iterating training graphs:  34%|███▍      | 3051/9024 [01:02<01:14, 79.87batch/s]"
     ]
    },
    {
     "name": "stdout",
     "output_type": "stream",
     "text": [
      "tensor([3])\n",
      "tensor([2])\n",
      "tensor([3])\n",
      "tensor([5])\n",
      "tensor([0])\n",
      "tensor([2])\n",
      "tensor([1])\n",
      "tensor([3])\n",
      "tensor([3])\n",
      "tensor([2])\n",
      "tensor([2])\n",
      "tensor([2])\n",
      "tensor([1])\n",
      "tensor([5])\n",
      "tensor([3])\n",
      "tensor([0])\n",
      "tensor([4])\n",
      "tensor([1])\n",
      "tensor([2])\n"
     ]
    },
    {
     "name": "stderr",
     "output_type": "stream",
     "text": [
      "Iterating training graphs:  34%|███▍      | 3070/9024 [01:02<01:20, 74.26batch/s]"
     ]
    },
    {
     "name": "stdout",
     "output_type": "stream",
     "text": [
      "tensor([2])\n",
      "tensor([1])\n",
      "tensor([2])\n",
      "tensor([3])\n",
      "tensor([0])\n",
      "tensor([2])\n",
      "tensor([0])\n",
      "tensor([2])\n",
      "tensor([2])\n",
      "tensor([4])\n",
      "tensor([0])\n",
      "tensor([1])\n",
      "tensor([2])\n"
     ]
    },
    {
     "name": "stderr",
     "output_type": "stream",
     "text": [
      "Iterating training graphs:  34%|███▍      | 3091/9024 [01:03<01:10, 84.18batch/s]"
     ]
    },
    {
     "name": "stdout",
     "output_type": "stream",
     "text": [
      "tensor([4])\n",
      "tensor([1])\n",
      "tensor([4])\n",
      "tensor([3])\n",
      "tensor([2])\n",
      "tensor([3])\n",
      "tensor([3])\n",
      "tensor([1])\n",
      "tensor([2])\n",
      "tensor([1])\n",
      "tensor([1])\n",
      "tensor([2])\n",
      "tensor([0])\n",
      "tensor([2])\n",
      "tensor([4])\n",
      "tensor([1])\n",
      "tensor([4])\n",
      "tensor([4])\n",
      "tensor([4])\n"
     ]
    },
    {
     "name": "stderr",
     "output_type": "stream",
     "text": [
      "Iterating training graphs:  34%|███▍      | 3100/9024 [01:03<01:25, 69.68batch/s]"
     ]
    },
    {
     "name": "stdout",
     "output_type": "stream",
     "text": [
      "tensor([5])\n",
      "tensor([2])\n",
      "tensor([1])\n",
      "tensor([1])\n",
      "tensor([1])\n",
      "tensor([2])\n",
      "tensor([1])\n",
      "tensor([4])\n",
      "tensor([5])\n",
      "tensor([2])\n",
      "tensor([0])\n",
      "tensor([4])\n",
      "tensor([3])\n"
     ]
    },
    {
     "name": "stderr",
     "output_type": "stream",
     "text": [
      "Iterating training graphs:  35%|███▍      | 3116/9024 [01:03<01:40, 58.79batch/s]"
     ]
    },
    {
     "name": "stdout",
     "output_type": "stream",
     "text": [
      "tensor([2])\n",
      "tensor([4])\n",
      "tensor([1])\n",
      "tensor([2])\n",
      "tensor([5])\n",
      "tensor([4])\n",
      "tensor([3])\n",
      "tensor([4])\n",
      "tensor([4])\n",
      "tensor([0])\n",
      "tensor([4])\n",
      "tensor([3])\n"
     ]
    },
    {
     "name": "stderr",
     "output_type": "stream",
     "text": [
      "Iterating training graphs:  35%|███▍      | 3135/9024 [01:03<01:18, 75.03batch/s]"
     ]
    },
    {
     "name": "stdout",
     "output_type": "stream",
     "text": [
      "tensor([3])\n",
      "tensor([1])\n",
      "tensor([0])\n",
      "tensor([0])\n",
      "tensor([5])\n",
      "tensor([2])\n",
      "tensor([4])\n",
      "tensor([2])\n",
      "tensor([0])\n",
      "tensor([0])\n",
      "tensor([2])\n",
      "tensor([5])\n",
      "tensor([2])\n",
      "tensor([5])\n",
      "tensor([2])\n",
      "tensor([4])\n",
      "tensor([5])\n",
      "tensor([4])\n",
      "tensor([0])\n",
      "tensor([1])\n"
     ]
    },
    {
     "name": "stderr",
     "output_type": "stream",
     "text": [
      "Iterating training graphs:  35%|███▍      | 3144/9024 [01:03<01:16, 77.09batch/s]"
     ]
    },
    {
     "name": "stdout",
     "output_type": "stream",
     "text": [
      "tensor([4])\n",
      "tensor([3])\n",
      "tensor([1])\n",
      "tensor([1])\n",
      "tensor([5])\n",
      "tensor([4])\n",
      "tensor([1])\n",
      "tensor([3])\n",
      "tensor([0])\n",
      "tensor([1])\n",
      "tensor([3])\n",
      "tensor([2])\n",
      "tensor([3])\n",
      "tensor([2])\n"
     ]
    },
    {
     "name": "stderr",
     "output_type": "stream",
     "text": [
      "Iterating training graphs:  35%|███▌      | 3162/9024 [01:04<01:22, 71.00batch/s]"
     ]
    },
    {
     "name": "stdout",
     "output_type": "stream",
     "text": [
      "tensor([3])\n",
      "tensor([1])\n",
      "tensor([2])\n",
      "tensor([0])\n",
      "tensor([4])\n",
      "tensor([3])\n",
      "tensor([2])\n",
      "tensor([1])\n",
      "tensor([4])\n",
      "tensor([0])\n",
      "tensor([4])\n",
      "tensor([2])\n",
      "tensor([2])\n",
      "tensor([4])\n",
      "tensor([2])\n",
      "tensor([1])\n"
     ]
    },
    {
     "name": "stderr",
     "output_type": "stream",
     "text": [
      "Iterating training graphs:  35%|███▌      | 3178/9024 [01:04<01:20, 72.72batch/s]"
     ]
    },
    {
     "name": "stdout",
     "output_type": "stream",
     "text": [
      "tensor([4])\n",
      "tensor([1])\n",
      "tensor([4])\n",
      "tensor([3])\n",
      "tensor([1])\n",
      "tensor([1])\n",
      "tensor([0])\n",
      "tensor([0])\n",
      "tensor([2])\n",
      "tensor([2])\n",
      "tensor([3])\n",
      "tensor([2])\n",
      "tensor([1])\n",
      "tensor([3])\n"
     ]
    },
    {
     "name": "stderr",
     "output_type": "stream",
     "text": [
      "Iterating training graphs:  35%|███▌      | 3193/9024 [01:04<01:32, 62.97batch/s]"
     ]
    },
    {
     "name": "stdout",
     "output_type": "stream",
     "text": [
      "tensor([4])\n",
      "tensor([3])\n",
      "tensor([4])\n",
      "tensor([2])\n",
      "tensor([1])\n",
      "tensor([4])\n",
      "tensor([2])\n",
      "tensor([1])\n",
      "tensor([2])\n",
      "tensor([2])\n",
      "tensor([4])\n",
      "tensor([3])\n",
      "tensor([3])\n"
     ]
    },
    {
     "name": "stderr",
     "output_type": "stream",
     "text": [
      "Iterating training graphs:  35%|███▌      | 3200/9024 [01:04<01:32, 63.21batch/s]"
     ]
    },
    {
     "name": "stdout",
     "output_type": "stream",
     "text": [
      "tensor([1])\n",
      "tensor([0])\n",
      "tensor([3])\n",
      "tensor([4])\n",
      "tensor([2])\n",
      "tensor([2])\n",
      "tensor([0])\n",
      "tensor([1])\n",
      "tensor([3])\n",
      "tensor([4])\n",
      "tensor([3])\n",
      "tensor([0])\n",
      "tensor([3])\n",
      "tensor([2])\n",
      "tensor([2])\n",
      "tensor([1])\n"
     ]
    },
    {
     "name": "stderr",
     "output_type": "stream",
     "text": [
      "Iterating training graphs:  36%|███▌      | 3218/9024 [01:05<01:36, 60.07batch/s]"
     ]
    },
    {
     "name": "stdout",
     "output_type": "stream",
     "text": [
      "tensor([0])\n",
      "tensor([4])\n",
      "tensor([1])\n",
      "tensor([2])\n",
      "tensor([3])\n",
      "tensor([3])\n",
      "tensor([4])\n",
      "tensor([4])\n",
      "tensor([1])\n",
      "tensor([1])\n",
      "tensor([4])\n",
      "tensor([1])\n"
     ]
    },
    {
     "name": "stderr",
     "output_type": "stream",
     "text": [
      "Iterating training graphs:  36%|███▌      | 3235/9024 [01:05<01:24, 68.55batch/s]"
     ]
    },
    {
     "name": "stdout",
     "output_type": "stream",
     "text": [
      "tensor([1])\n",
      "tensor([4])\n",
      "tensor([4])\n",
      "tensor([2])\n",
      "tensor([3])\n",
      "tensor([3])\n",
      "tensor([4])\n",
      "tensor([2])\n",
      "tensor([1])\n",
      "tensor([0])\n",
      "tensor([2])\n",
      "tensor([2])\n",
      "tensor([3])\n",
      "tensor([4])\n",
      "tensor([5])\n"
     ]
    },
    {
     "name": "stderr",
     "output_type": "stream",
     "text": [
      "Iterating training graphs:  36%|███▌      | 3243/9024 [01:05<01:39, 57.96batch/s]"
     ]
    },
    {
     "name": "stdout",
     "output_type": "stream",
     "text": [
      "tensor([4])\n",
      "tensor([3])\n",
      "tensor([2])\n",
      "tensor([1])\n",
      "tensor([3])\n",
      "tensor([2])\n",
      "tensor([5])\n",
      "tensor([1])\n",
      "tensor([0])\n",
      "tensor([2])\n"
     ]
    },
    {
     "name": "stderr",
     "output_type": "stream",
     "text": [
      "Iterating training graphs:  36%|███▌      | 3257/9024 [01:05<01:33, 61.66batch/s]"
     ]
    },
    {
     "name": "stdout",
     "output_type": "stream",
     "text": [
      "tensor([0])\n",
      "tensor([1])\n",
      "tensor([0])\n",
      "tensor([0])\n",
      "tensor([2])\n",
      "tensor([2])\n",
      "tensor([3])\n",
      "tensor([0])\n",
      "tensor([1])\n",
      "tensor([4])\n",
      "tensor([1])\n",
      "tensor([0])\n",
      "tensor([4])\n",
      "tensor([3])\n",
      "tensor([3])\n",
      "tensor([2])\n",
      "tensor([4])\n",
      "tensor([4])\n",
      "tensor([3])\n",
      "tensor([3])\n"
     ]
    },
    {
     "name": "stderr",
     "output_type": "stream",
     "text": [
      "Iterating training graphs:  36%|███▋      | 3276/9024 [01:05<01:31, 62.89batch/s]"
     ]
    },
    {
     "name": "stdout",
     "output_type": "stream",
     "text": [
      "tensor([3])\n",
      "tensor([2])\n",
      "tensor([4])\n",
      "tensor([2])\n",
      "tensor([2])\n",
      "tensor([2])\n",
      "tensor([3])\n",
      "tensor([2])\n",
      "tensor([2])\n",
      "tensor([4])\n"
     ]
    },
    {
     "name": "stderr",
     "output_type": "stream",
     "text": [
      "Iterating training graphs:  36%|███▋      | 3290/9024 [01:06<01:29, 64.27batch/s]"
     ]
    },
    {
     "name": "stdout",
     "output_type": "stream",
     "text": [
      "tensor([3])\n",
      "tensor([1])\n",
      "tensor([2])\n",
      "tensor([3])\n",
      "tensor([4])\n",
      "tensor([2])\n",
      "tensor([4])\n",
      "tensor([1])\n",
      "tensor([1])\n",
      "tensor([4])\n",
      "tensor([4])\n",
      "tensor([0])\n",
      "tensor([0])\n",
      "tensor([4])\n"
     ]
    },
    {
     "name": "stderr",
     "output_type": "stream",
     "text": [
      "Iterating training graphs:  37%|███▋      | 3311/9024 [01:06<01:11, 80.45batch/s]"
     ]
    },
    {
     "name": "stdout",
     "output_type": "stream",
     "text": [
      "tensor([4])\n",
      "tensor([1])\n",
      "tensor([1])\n",
      "tensor([4])\n",
      "tensor([4])\n",
      "tensor([3])\n",
      "tensor([2])\n",
      "tensor([3])\n",
      "tensor([1])\n",
      "tensor([4])\n",
      "tensor([4])\n",
      "tensor([2])\n",
      "tensor([2])\n",
      "tensor([1])\n",
      "tensor([3])\n",
      "tensor([3])\n",
      "tensor([1])\n",
      "tensor([1])\n",
      "tensor([2])\n",
      "tensor([4])\n",
      "tensor([2])\n"
     ]
    },
    {
     "name": "stderr",
     "output_type": "stream",
     "text": [
      "Iterating training graphs:  37%|███▋      | 3320/9024 [01:06<01:09, 82.33batch/s]"
     ]
    },
    {
     "name": "stdout",
     "output_type": "stream",
     "text": [
      "tensor([3])\n",
      "tensor([2])\n",
      "tensor([4])\n",
      "tensor([4])\n",
      "tensor([4])\n",
      "tensor([1])\n",
      "tensor([1])\n",
      "tensor([2])\n",
      "tensor([2])\n",
      "tensor([3])\n",
      "tensor([4])\n",
      "tensor([1])\n",
      "tensor([3])\n",
      "tensor([2])\n",
      "tensor([1])\n",
      "tensor([4])\n"
     ]
    },
    {
     "name": "stderr",
     "output_type": "stream",
     "text": [
      "Iterating training graphs:  37%|███▋      | 3337/9024 [01:06<01:24, 67.02batch/s]"
     ]
    },
    {
     "name": "stdout",
     "output_type": "stream",
     "text": [
      "tensor([2])\n",
      "tensor([3])\n",
      "tensor([1])\n",
      "tensor([4])\n",
      "tensor([2])\n",
      "tensor([2])\n",
      "tensor([2])\n",
      "tensor([2])\n",
      "tensor([1])\n",
      "tensor([2])\n",
      "tensor([2])\n"
     ]
    },
    {
     "name": "stderr",
     "output_type": "stream",
     "text": [
      "Iterating training graphs:  37%|███▋      | 3356/9024 [01:07<01:12, 78.53batch/s]"
     ]
    },
    {
     "name": "stdout",
     "output_type": "stream",
     "text": [
      "tensor([2])\n",
      "tensor([1])\n",
      "tensor([0])\n",
      "tensor([4])\n",
      "tensor([1])\n",
      "tensor([4])\n",
      "tensor([2])\n",
      "tensor([2])\n",
      "tensor([3])\n",
      "tensor([3])\n",
      "tensor([0])\n",
      "tensor([2])\n",
      "tensor([2])\n",
      "tensor([5])\n",
      "tensor([3])\n",
      "tensor([3])\n",
      "tensor([1])\n",
      "tensor([5])\n",
      "tensor([3])\n",
      "tensor([0])\n"
     ]
    },
    {
     "name": "stderr",
     "output_type": "stream",
     "text": [
      "Iterating training graphs:  37%|███▋      | 3365/9024 [01:07<01:19, 71.52batch/s]"
     ]
    },
    {
     "name": "stdout",
     "output_type": "stream",
     "text": [
      "tensor([1])\n",
      "tensor([1])\n",
      "tensor([0])\n",
      "tensor([3])\n",
      "tensor([5])\n",
      "tensor([2])\n",
      "tensor([2])\n",
      "tensor([2])\n",
      "tensor([1])\n",
      "tensor([2])\n",
      "tensor([3])\n",
      "tensor([1])\n",
      "tensor([4])\n",
      "tensor([4])\n"
     ]
    },
    {
     "name": "stderr",
     "output_type": "stream",
     "text": [
      "Iterating training graphs:  38%|███▊      | 3386/9024 [01:07<01:07, 83.25batch/s]"
     ]
    },
    {
     "name": "stdout",
     "output_type": "stream",
     "text": [
      "tensor([3])\n",
      "tensor([2])\n",
      "tensor([3])\n",
      "tensor([2])\n",
      "tensor([0])\n",
      "tensor([2])\n",
      "tensor([4])\n",
      "tensor([5])\n",
      "tensor([1])\n",
      "tensor([0])\n",
      "tensor([4])\n",
      "tensor([5])\n",
      "tensor([2])\n",
      "tensor([0])\n",
      "tensor([3])\n",
      "tensor([2])\n",
      "tensor([0])\n",
      "tensor([4])\n",
      "tensor([1])\n",
      "tensor([2])\n",
      "tensor([0])\n",
      "tensor([2])\n",
      "tensor([2])\n",
      "tensor([4])\n"
     ]
    },
    {
     "name": "stderr",
     "output_type": "stream",
     "text": [
      "Iterating training graphs:  38%|███▊      | 3408/9024 [01:07<00:59, 94.32batch/s]"
     ]
    },
    {
     "name": "stdout",
     "output_type": "stream",
     "text": [
      "tensor([2])\n",
      "tensor([2])\n",
      "tensor([2])\n",
      "tensor([4])\n",
      "tensor([2])\n",
      "tensor([5])\n",
      "tensor([2])\n",
      "tensor([0])\n",
      "tensor([2])\n",
      "tensor([1])\n",
      "tensor([5])\n",
      "tensor([1])\n",
      "tensor([2])\n",
      "tensor([1])\n",
      "tensor([0])\n",
      "tensor([3])\n",
      "tensor([2])\n"
     ]
    },
    {
     "name": "stderr",
     "output_type": "stream",
     "text": [
      "Iterating training graphs:  38%|███▊      | 3429/9024 [01:07<01:07, 83.50batch/s]"
     ]
    },
    {
     "name": "stdout",
     "output_type": "stream",
     "text": [
      "tensor([2])\n",
      "tensor([0])\n",
      "tensor([3])\n",
      "tensor([4])\n",
      "tensor([1])\n",
      "tensor([4])\n",
      "tensor([4])\n",
      "tensor([2])\n",
      "tensor([3])\n",
      "tensor([0])\n",
      "tensor([4])\n",
      "tensor([3])\n",
      "tensor([3])\n",
      "tensor([4])\n",
      "tensor([1])\n",
      "tensor([2])\n"
     ]
    },
    {
     "name": "stderr",
     "output_type": "stream",
     "text": [
      "Iterating training graphs:  38%|███▊      | 3439/9024 [01:08<01:15, 73.85batch/s]"
     ]
    },
    {
     "name": "stdout",
     "output_type": "stream",
     "text": [
      "tensor([3])\n",
      "tensor([1])\n",
      "tensor([4])\n",
      "tensor([4])\n",
      "tensor([4])\n",
      "tensor([4])\n",
      "tensor([1])\n",
      "tensor([2])\n",
      "tensor([0])\n",
      "tensor([2])\n",
      "tensor([2])\n",
      "tensor([2])\n",
      "tensor([1])\n"
     ]
    },
    {
     "name": "stderr",
     "output_type": "stream",
     "text": [
      "Iterating training graphs:  38%|███▊      | 3455/9024 [01:08<01:27, 63.51batch/s]"
     ]
    },
    {
     "name": "stdout",
     "output_type": "stream",
     "text": [
      "tensor([2])\n",
      "tensor([2])\n",
      "tensor([2])\n",
      "tensor([2])\n",
      "tensor([2])\n",
      "tensor([0])\n",
      "tensor([1])\n",
      "tensor([3])\n",
      "tensor([1])\n",
      "tensor([4])\n",
      "tensor([4])\n",
      "tensor([1])\n",
      "tensor([4])\n"
     ]
    },
    {
     "name": "stderr",
     "output_type": "stream",
     "text": [
      "Iterating training graphs:  38%|███▊      | 3462/9024 [01:08<01:28, 62.85batch/s]"
     ]
    },
    {
     "name": "stdout",
     "output_type": "stream",
     "text": [
      "tensor([4])\n",
      "tensor([4])\n",
      "tensor([5])\n",
      "tensor([4])\n",
      "tensor([2])\n",
      "tensor([1])\n",
      "tensor([2])\n",
      "tensor([4])\n",
      "tensor([3])\n",
      "tensor([3])\n",
      "tensor([4])\n",
      "tensor([0])\n"
     ]
    },
    {
     "name": "stderr",
     "output_type": "stream",
     "text": [
      "Iterating training graphs:  39%|███▊      | 3480/9024 [01:08<01:14, 74.88batch/s]"
     ]
    },
    {
     "name": "stdout",
     "output_type": "stream",
     "text": [
      "tensor([2])\n",
      "tensor([5])\n",
      "tensor([2])\n",
      "tensor([4])\n",
      "tensor([2])\n",
      "tensor([2])\n",
      "tensor([2])\n",
      "tensor([3])\n",
      "tensor([2])\n",
      "tensor([3])\n",
      "tensor([2])\n",
      "tensor([1])\n",
      "tensor([0])\n",
      "tensor([2])\n",
      "tensor([1])\n",
      "tensor([4])\n"
     ]
    },
    {
     "name": "stderr",
     "output_type": "stream",
     "text": [
      "Iterating training graphs:  39%|███▉      | 3497/9024 [01:09<01:21, 67.78batch/s]"
     ]
    },
    {
     "name": "stdout",
     "output_type": "stream",
     "text": [
      "tensor([1])\n",
      "tensor([2])\n",
      "tensor([5])\n",
      "tensor([4])\n",
      "tensor([3])\n",
      "tensor([2])\n",
      "tensor([5])\n",
      "tensor([2])\n",
      "tensor([3])\n",
      "tensor([2])\n",
      "tensor([1])\n",
      "tensor([5])\n",
      "tensor([4])\n",
      "tensor([1])\n",
      "tensor([4])\n"
     ]
    },
    {
     "name": "stderr",
     "output_type": "stream",
     "text": [
      "Iterating training graphs:  39%|███▉      | 3505/9024 [01:09<01:33, 58.98batch/s]"
     ]
    },
    {
     "name": "stdout",
     "output_type": "stream",
     "text": [
      "tensor([3])\n",
      "tensor([3])\n",
      "tensor([4])\n",
      "tensor([2])\n",
      "tensor([4])\n",
      "tensor([2])\n",
      "tensor([3])\n",
      "tensor([3])\n",
      "tensor([2])\n",
      "tensor([4])\n",
      "tensor([2])\n",
      "tensor([4])\n",
      "tensor([4])\n"
     ]
    },
    {
     "name": "stderr",
     "output_type": "stream",
     "text": [
      "Iterating training graphs:  39%|███▉      | 3520/9024 [01:09<01:27, 62.82batch/s]"
     ]
    },
    {
     "name": "stdout",
     "output_type": "stream",
     "text": [
      "tensor([2])\n",
      "tensor([3])\n",
      "tensor([1])\n",
      "tensor([2])\n",
      "tensor([3])\n",
      "tensor([2])\n",
      "tensor([5])\n",
      "tensor([1])\n",
      "tensor([4])\n",
      "tensor([4])\n"
     ]
    },
    {
     "name": "stderr",
     "output_type": "stream",
     "text": [
      "Iterating training graphs:  39%|███▉      | 3535/9024 [01:09<01:21, 67.11batch/s]"
     ]
    },
    {
     "name": "stdout",
     "output_type": "stream",
     "text": [
      "tensor([3])\n",
      "tensor([4])\n",
      "tensor([4])\n",
      "tensor([0])\n",
      "tensor([4])\n",
      "tensor([2])\n",
      "tensor([2])\n",
      "tensor([2])\n",
      "tensor([0])\n",
      "tensor([3])\n",
      "tensor([2])\n",
      "tensor([4])\n",
      "tensor([3])\n",
      "tensor([0])\n",
      "tensor([4])\n",
      "tensor([4])\n",
      "tensor([1])\n",
      "tensor([3])\n",
      "tensor([0])\n",
      "tensor([3])\n",
      "tensor([2])\n",
      "tensor([4])\n",
      "tensor([2])\n"
     ]
    },
    {
     "name": "stderr",
     "output_type": "stream",
     "text": [
      "Iterating training graphs:  39%|███▉      | 3560/9024 [01:09<01:11, 76.46batch/s]"
     ]
    },
    {
     "name": "stdout",
     "output_type": "stream",
     "text": [
      "tensor([0])\n",
      "tensor([0])\n",
      "tensor([1])\n",
      "tensor([3])\n",
      "tensor([5])\n",
      "tensor([3])\n",
      "tensor([1])\n",
      "tensor([3])\n",
      "tensor([3])\n",
      "tensor([0])\n",
      "tensor([2])\n",
      "tensor([5])\n",
      "tensor([3])\n",
      "tensor([5])\n",
      "tensor([2])\n",
      "tensor([1])\n"
     ]
    },
    {
     "name": "stderr",
     "output_type": "stream",
     "text": [
      "Iterating training graphs:  40%|███▉      | 3569/9024 [01:10<01:10, 77.60batch/s]"
     ]
    },
    {
     "name": "stdout",
     "output_type": "stream",
     "text": [
      "tensor([0])\n",
      "tensor([2])\n",
      "tensor([1])\n",
      "tensor([0])\n",
      "tensor([4])\n",
      "tensor([4])\n",
      "tensor([1])\n",
      "tensor([2])\n",
      "tensor([3])\n",
      "tensor([5])\n",
      "tensor([4])\n",
      "tensor([2])\n",
      "tensor([4])\n",
      "tensor([0])\n",
      "tensor([3])\n",
      "tensor([3])\n",
      "tensor([5])\n",
      "tensor([0])\n",
      "tensor([2])\n",
      "tensor([4])\n",
      "tensor([5])\n",
      "tensor([1])\n"
     ]
    },
    {
     "name": "stderr",
     "output_type": "stream",
     "text": [
      "Iterating training graphs:  40%|███▉      | 3593/9024 [01:10<01:11, 76.38batch/s]"
     ]
    },
    {
     "name": "stdout",
     "output_type": "stream",
     "text": [
      "tensor([0])\n",
      "tensor([1])\n",
      "tensor([1])\n",
      "tensor([1])\n",
      "tensor([2])\n",
      "tensor([2])\n",
      "tensor([2])\n",
      "tensor([2])\n",
      "tensor([3])\n",
      "tensor([3])\n",
      "tensor([4])\n",
      "tensor([0])\n"
     ]
    },
    {
     "name": "stderr",
     "output_type": "stream",
     "text": [
      "Iterating training graphs:  40%|███▉      | 3602/9024 [01:10<01:09, 77.96batch/s]"
     ]
    },
    {
     "name": "stdout",
     "output_type": "stream",
     "text": [
      "tensor([5])\n",
      "tensor([3])\n",
      "tensor([1])\n",
      "tensor([2])\n",
      "tensor([0])\n",
      "tensor([0])\n",
      "tensor([4])\n",
      "tensor([4])\n",
      "tensor([1])\n",
      "tensor([3])\n",
      "tensor([0])\n",
      "tensor([1])\n",
      "tensor([3])\n",
      "tensor([0])\n",
      "tensor([4])\n"
     ]
    },
    {
     "name": "stderr",
     "output_type": "stream",
     "text": [
      "Iterating training graphs:  40%|████      | 3619/9024 [01:10<01:17, 69.88batch/s]"
     ]
    },
    {
     "name": "stdout",
     "output_type": "stream",
     "text": [
      "tensor([1])\n",
      "tensor([4])\n",
      "tensor([4])\n",
      "tensor([1])\n",
      "tensor([4])\n",
      "tensor([3])\n",
      "tensor([2])\n",
      "tensor([1])\n",
      "tensor([1])\n",
      "tensor([1])\n",
      "tensor([1])\n",
      "tensor([4])\n",
      "tensor([2])\n"
     ]
    },
    {
     "name": "stderr",
     "output_type": "stream",
     "text": [
      "Iterating training graphs:  40%|████      | 3635/9024 [01:10<01:16, 70.12batch/s]"
     ]
    },
    {
     "name": "stdout",
     "output_type": "stream",
     "text": [
      "tensor([3])\n",
      "tensor([4])\n",
      "tensor([0])\n",
      "tensor([2])\n",
      "tensor([1])\n",
      "tensor([5])\n",
      "tensor([0])\n",
      "tensor([2])\n",
      "tensor([3])\n",
      "tensor([5])\n",
      "tensor([2])\n",
      "tensor([1])\n",
      "tensor([4])\n",
      "tensor([5])\n",
      "tensor([4])\n",
      "tensor([0])\n",
      "tensor([1])\n",
      "tensor([2])\n"
     ]
    },
    {
     "name": "stderr",
     "output_type": "stream",
     "text": [
      "Iterating training graphs:  40%|████      | 3653/9024 [01:11<01:15, 71.58batch/s]"
     ]
    },
    {
     "name": "stdout",
     "output_type": "stream",
     "text": [
      "tensor([3])\n",
      "tensor([2])\n",
      "tensor([4])\n",
      "tensor([3])\n",
      "tensor([2])\n",
      "tensor([1])\n",
      "tensor([2])\n",
      "tensor([2])\n",
      "tensor([2])\n",
      "tensor([5])\n",
      "tensor([4])\n",
      "tensor([1])\n",
      "tensor([4])\n",
      "tensor([2])\n",
      "tensor([2])\n"
     ]
    },
    {
     "name": "stderr",
     "output_type": "stream",
     "text": [
      "Iterating training graphs:  41%|████      | 3669/9024 [01:11<01:13, 73.04batch/s]"
     ]
    },
    {
     "name": "stdout",
     "output_type": "stream",
     "text": [
      "tensor([2])\n",
      "tensor([2])\n",
      "tensor([4])\n",
      "tensor([3])\n",
      "tensor([0])\n",
      "tensor([4])\n",
      "tensor([4])\n",
      "tensor([3])\n",
      "tensor([4])\n",
      "tensor([4])\n",
      "tensor([3])\n",
      "tensor([2])\n",
      "tensor([0])\n",
      "tensor([5])\n",
      "tensor([5])\n"
     ]
    },
    {
     "name": "stderr",
     "output_type": "stream",
     "text": [
      "Iterating training graphs:  41%|████      | 3677/9024 [01:11<01:28, 60.30batch/s]"
     ]
    },
    {
     "name": "stdout",
     "output_type": "stream",
     "text": [
      "tensor([0])\n",
      "tensor([2])\n",
      "tensor([0])\n",
      "tensor([1])\n",
      "tensor([2])\n",
      "tensor([0])\n",
      "tensor([4])\n",
      "tensor([2])\n",
      "tensor([4])\n",
      "tensor([4])\n",
      "tensor([1])\n",
      "tensor([2])\n",
      "tensor([3])\n",
      "tensor([1])\n",
      "tensor([4])\n",
      "tensor([1])\n",
      "tensor([2])\n",
      "tensor([1])\n",
      "tensor([2])\n",
      "tensor([5])\n",
      "tensor([2])\n"
     ]
    },
    {
     "name": "stderr",
     "output_type": "stream",
     "text": [
      "Iterating training graphs:  41%|████      | 3693/9024 [01:11<01:04, 82.84batch/s]"
     ]
    },
    {
     "name": "stdout",
     "output_type": "stream",
     "text": [
      "tensor([5])\n",
      "tensor([0])\n",
      "tensor([2])\n",
      "tensor([2])\n",
      "tensor([2])\n",
      "tensor([1])\n",
      "tensor([2])\n",
      "tensor([0])\n",
      "tensor([5])\n",
      "tensor([2])\n",
      "tensor([4])\n"
     ]
    },
    {
     "name": "stderr",
     "output_type": "stream",
     "text": [
      "Iterating training graphs:  41%|████      | 3711/9024 [01:12<01:28, 60.37batch/s]"
     ]
    },
    {
     "name": "stdout",
     "output_type": "stream",
     "text": [
      "tensor([4])\n",
      "tensor([0])\n",
      "tensor([0])\n",
      "tensor([2])\n",
      "tensor([0])\n",
      "tensor([1])\n",
      "tensor([5])\n",
      "tensor([3])\n",
      "tensor([0])\n",
      "tensor([1])\n",
      "tensor([4])\n"
     ]
    },
    {
     "name": "stderr",
     "output_type": "stream",
     "text": [
      "Iterating training graphs:  41%|████▏     | 3728/9024 [01:12<01:15, 70.20batch/s]"
     ]
    },
    {
     "name": "stdout",
     "output_type": "stream",
     "text": [
      "tensor([1])\n",
      "tensor([3])\n",
      "tensor([4])\n",
      "tensor([1])\n",
      "tensor([4])\n",
      "tensor([2])\n",
      "tensor([2])\n",
      "tensor([4])\n",
      "tensor([1])\n",
      "tensor([4])\n",
      "tensor([1])\n",
      "tensor([3])\n",
      "tensor([4])\n",
      "tensor([2])\n",
      "tensor([5])\n",
      "tensor([3])\n",
      "tensor([2])\n",
      "tensor([2])\n",
      "tensor([2])\n",
      "tensor([5])\n"
     ]
    },
    {
     "name": "stderr",
     "output_type": "stream",
     "text": [
      "Iterating training graphs:  42%|████▏     | 3748/9024 [01:12<01:08, 76.55batch/s]"
     ]
    },
    {
     "name": "stdout",
     "output_type": "stream",
     "text": [
      "tensor([1])\n",
      "tensor([3])\n",
      "tensor([4])\n",
      "tensor([1])\n",
      "tensor([0])\n",
      "tensor([2])\n",
      "tensor([4])\n",
      "tensor([2])\n",
      "tensor([3])\n",
      "tensor([2])\n",
      "tensor([0])\n",
      "tensor([4])\n",
      "tensor([4])\n",
      "tensor([5])\n",
      "tensor([1])\n"
     ]
    },
    {
     "name": "stderr",
     "output_type": "stream",
     "text": [
      "Iterating training graphs:  42%|████▏     | 3757/9024 [01:12<01:19, 66.20batch/s]"
     ]
    },
    {
     "name": "stdout",
     "output_type": "stream",
     "text": [
      "tensor([0])\n",
      "tensor([2])\n",
      "tensor([4])\n",
      "tensor([2])\n",
      "tensor([3])\n",
      "tensor([2])\n",
      "tensor([3])\n",
      "tensor([1])\n",
      "tensor([2])\n",
      "tensor([2])\n",
      "tensor([2])\n",
      "tensor([2])\n"
     ]
    },
    {
     "name": "stderr",
     "output_type": "stream",
     "text": [
      "Iterating training graphs:  42%|████▏     | 3773/9024 [01:12<01:14, 70.58batch/s]"
     ]
    },
    {
     "name": "stdout",
     "output_type": "stream",
     "text": [
      "tensor([2])\n",
      "tensor([2])\n",
      "tensor([1])\n",
      "tensor([4])\n",
      "tensor([5])\n",
      "tensor([1])\n",
      "tensor([2])\n",
      "tensor([2])\n",
      "tensor([5])\n",
      "tensor([1])\n",
      "tensor([0])\n",
      "tensor([3])\n",
      "tensor([1])\n",
      "tensor([1])\n",
      "tensor([3])\n",
      "tensor([3])\n",
      "tensor([0])\n",
      "tensor([0])\n",
      "tensor([4])\n",
      "tensor([5])\n",
      "tensor([2])\n"
     ]
    },
    {
     "name": "stderr",
     "output_type": "stream",
     "text": [
      "Iterating training graphs:  42%|████▏     | 3797/9024 [01:13<01:00, 87.10batch/s]"
     ]
    },
    {
     "name": "stdout",
     "output_type": "stream",
     "text": [
      "tensor([3])\n",
      "tensor([4])\n",
      "tensor([0])\n",
      "tensor([1])\n",
      "tensor([3])\n",
      "tensor([4])\n",
      "tensor([0])\n",
      "tensor([4])\n",
      "tensor([4])\n",
      "tensor([3])\n",
      "tensor([3])\n",
      "tensor([2])\n",
      "tensor([3])\n",
      "tensor([4])\n",
      "tensor([4])\n",
      "tensor([2])\n",
      "tensor([2])\n",
      "tensor([2])\n",
      "tensor([2])\n"
     ]
    },
    {
     "name": "stderr",
     "output_type": "stream",
     "text": [
      "Iterating training graphs:  42%|████▏     | 3807/9024 [01:13<01:08, 76.44batch/s]"
     ]
    },
    {
     "name": "stdout",
     "output_type": "stream",
     "text": [
      "tensor([1])\n",
      "tensor([3])\n",
      "tensor([2])\n",
      "tensor([1])\n",
      "tensor([0])\n",
      "tensor([2])\n",
      "tensor([3])\n",
      "tensor([3])\n",
      "tensor([4])\n",
      "tensor([3])\n",
      "tensor([3])\n",
      "tensor([2])\n",
      "tensor([3])\n",
      "tensor([1])\n"
     ]
    },
    {
     "name": "stderr",
     "output_type": "stream",
     "text": [
      "Iterating training graphs:  42%|████▏     | 3824/9024 [01:13<01:20, 64.37batch/s]"
     ]
    },
    {
     "name": "stdout",
     "output_type": "stream",
     "text": [
      "tensor([0])\n",
      "tensor([2])\n",
      "tensor([2])\n",
      "tensor([4])\n",
      "tensor([4])\n",
      "tensor([3])\n",
      "tensor([2])\n",
      "tensor([3])\n",
      "tensor([0])\n",
      "tensor([2])\n"
     ]
    },
    {
     "name": "stderr",
     "output_type": "stream",
     "text": [
      "Iterating training graphs:  43%|████▎     | 3838/9024 [01:13<01:27, 59.01batch/s]"
     ]
    },
    {
     "name": "stdout",
     "output_type": "stream",
     "text": [
      "tensor([5])\n",
      "tensor([3])\n",
      "tensor([1])\n",
      "tensor([3])\n",
      "tensor([0])\n",
      "tensor([5])\n",
      "tensor([1])\n",
      "tensor([2])\n",
      "tensor([1])\n",
      "tensor([0])\n",
      "tensor([4])\n",
      "tensor([1])\n",
      "tensor([5])\n",
      "tensor([4])\n"
     ]
    },
    {
     "name": "stderr",
     "output_type": "stream",
     "text": [
      "Iterating training graphs:  43%|████▎     | 3845/9024 [01:14<01:27, 59.13batch/s]"
     ]
    },
    {
     "name": "stdout",
     "output_type": "stream",
     "text": [
      "tensor([3])\n",
      "tensor([0])\n",
      "tensor([1])\n",
      "tensor([3])\n",
      "tensor([1])\n",
      "tensor([2])\n",
      "tensor([4])\n",
      "tensor([4])\n",
      "tensor([3])\n",
      "tensor([2])\n",
      "tensor([1])\n",
      "tensor([4])\n",
      "tensor([2])\n",
      "tensor([2])\n",
      "tensor([3])\n",
      "tensor([4])\n",
      "tensor([2])\n"
     ]
    },
    {
     "name": "stderr",
     "output_type": "stream",
     "text": [
      "Iterating training graphs:  43%|████▎     | 3866/9024 [01:14<01:17, 66.33batch/s]"
     ]
    },
    {
     "name": "stdout",
     "output_type": "stream",
     "text": [
      "tensor([2])\n",
      "tensor([2])\n",
      "tensor([2])\n",
      "tensor([0])\n",
      "tensor([1])\n",
      "tensor([1])\n",
      "tensor([4])\n",
      "tensor([2])\n",
      "tensor([2])\n",
      "tensor([2])\n",
      "tensor([2])\n",
      "tensor([0])\n",
      "tensor([4])\n",
      "tensor([4])\n",
      "tensor([4])\n",
      "tensor([2])\n"
     ]
    },
    {
     "name": "stderr",
     "output_type": "stream",
     "text": [
      "Iterating training graphs:  43%|████▎     | 3891/9024 [01:14<00:55, 92.31batch/s]"
     ]
    },
    {
     "name": "stdout",
     "output_type": "stream",
     "text": [
      "tensor([2])\n",
      "tensor([0])\n",
      "tensor([3])\n",
      "tensor([4])\n",
      "tensor([3])\n",
      "tensor([1])\n",
      "tensor([4])\n",
      "tensor([4])\n",
      "tensor([1])\n",
      "tensor([2])\n",
      "tensor([2])\n",
      "tensor([0])\n",
      "tensor([4])\n",
      "tensor([5])\n",
      "tensor([2])\n",
      "tensor([4])\n",
      "tensor([2])\n",
      "tensor([3])\n",
      "tensor([2])\n",
      "tensor([4])\n",
      "tensor([1])\n",
      "tensor([3])\n",
      "tensor([4])\n",
      "tensor([1])\n",
      "tensor([3])\n",
      "tensor([4])\n",
      "tensor([1])\n"
     ]
    },
    {
     "name": "stderr",
     "output_type": "stream",
     "text": [
      "Iterating training graphs:  43%|████▎     | 3918/9024 [01:14<00:45, 111.16batch/s]"
     ]
    },
    {
     "name": "stdout",
     "output_type": "stream",
     "text": [
      "tensor([2])\n",
      "tensor([1])\n",
      "tensor([0])\n",
      "tensor([5])\n",
      "tensor([1])\n",
      "tensor([2])\n",
      "tensor([1])\n",
      "tensor([3])\n",
      "tensor([3])\n",
      "tensor([1])\n",
      "tensor([3])\n",
      "tensor([1])\n",
      "tensor([5])\n",
      "tensor([4])\n",
      "tensor([5])\n",
      "tensor([2])\n",
      "tensor([5])\n",
      "tensor([4])\n",
      "tensor([2])\n",
      "tensor([2])\n",
      "tensor([2])\n",
      "tensor([2])\n",
      "tensor([0])\n",
      "tensor([3])\n"
     ]
    },
    {
     "name": "stderr",
     "output_type": "stream",
     "text": [
      "Iterating training graphs:  44%|████▎     | 3930/9024 [01:14<00:57, 88.55batch/s] "
     ]
    },
    {
     "name": "stdout",
     "output_type": "stream",
     "text": [
      "tensor([3])\n",
      "tensor([5])\n",
      "tensor([3])\n",
      "tensor([3])\n",
      "tensor([0])\n",
      "tensor([3])\n",
      "tensor([1])\n",
      "tensor([4])\n",
      "tensor([0])\n",
      "tensor([3])\n",
      "tensor([3])\n",
      "tensor([5])\n",
      "tensor([2])\n"
     ]
    },
    {
     "name": "stderr",
     "output_type": "stream",
     "text": [
      "Iterating training graphs:  44%|████▍     | 3950/9024 [01:15<00:56, 89.60batch/s]"
     ]
    },
    {
     "name": "stdout",
     "output_type": "stream",
     "text": [
      "tensor([3])\n",
      "tensor([2])\n",
      "tensor([2])\n",
      "tensor([4])\n",
      "tensor([2])\n",
      "tensor([2])\n",
      "tensor([2])\n",
      "tensor([5])\n",
      "tensor([0])\n",
      "tensor([2])\n",
      "tensor([3])\n",
      "tensor([3])\n",
      "tensor([4])\n",
      "tensor([1])\n",
      "tensor([3])\n",
      "tensor([0])\n",
      "tensor([3])\n",
      "tensor([4])\n",
      "tensor([4])\n",
      "tensor([3])\n"
     ]
    },
    {
     "name": "stderr",
     "output_type": "stream",
     "text": [
      "Iterating training graphs:  44%|████▍     | 3960/9024 [01:15<01:04, 78.31batch/s]"
     ]
    },
    {
     "name": "stdout",
     "output_type": "stream",
     "text": [
      "tensor([1])\n",
      "tensor([1])\n",
      "tensor([2])\n",
      "tensor([4])\n",
      "tensor([1])\n",
      "tensor([1])\n",
      "tensor([2])\n",
      "tensor([2])\n",
      "tensor([2])\n",
      "tensor([2])\n",
      "tensor([0])\n",
      "tensor([2])\n",
      "tensor([3])\n"
     ]
    },
    {
     "name": "stderr",
     "output_type": "stream",
     "text": [
      "Iterating training graphs:  44%|████▍     | 3978/9024 [01:15<01:12, 69.89batch/s]"
     ]
    },
    {
     "name": "stdout",
     "output_type": "stream",
     "text": [
      "tensor([2])\n",
      "tensor([0])\n",
      "tensor([3])\n",
      "tensor([4])\n",
      "tensor([2])\n",
      "tensor([0])\n",
      "tensor([4])\n",
      "tensor([1])\n",
      "tensor([4])\n",
      "tensor([3])\n",
      "tensor([4])\n",
      "tensor([3])\n",
      "tensor([4])\n",
      "tensor([1])\n"
     ]
    },
    {
     "name": "stderr",
     "output_type": "stream",
     "text": [
      "Iterating training graphs:  44%|████▍     | 3997/9024 [01:15<01:03, 79.61batch/s]"
     ]
    },
    {
     "name": "stdout",
     "output_type": "stream",
     "text": [
      "tensor([5])\n",
      "tensor([1])\n",
      "tensor([1])\n",
      "tensor([2])\n",
      "tensor([5])\n",
      "tensor([2])\n",
      "tensor([2])\n",
      "tensor([1])\n",
      "tensor([2])\n",
      "tensor([2])\n",
      "tensor([3])\n",
      "tensor([1])\n",
      "tensor([2])\n",
      "tensor([4])\n",
      "tensor([4])\n",
      "tensor([3])\n",
      "tensor([1])\n",
      "tensor([2])\n"
     ]
    },
    {
     "name": "stderr",
     "output_type": "stream",
     "text": [
      "Iterating training graphs:  45%|████▍     | 4018/9024 [01:16<01:06, 75.17batch/s]"
     ]
    },
    {
     "name": "stdout",
     "output_type": "stream",
     "text": [
      "tensor([1])\n",
      "tensor([5])\n",
      "tensor([0])\n",
      "tensor([2])\n",
      "tensor([4])\n",
      "tensor([2])\n",
      "tensor([2])\n",
      "tensor([2])\n",
      "tensor([1])\n",
      "tensor([3])\n",
      "tensor([0])\n",
      "tensor([1])\n",
      "tensor([1])\n",
      "tensor([3])\n",
      "tensor([3])\n",
      "tensor([3])\n",
      "tensor([0])\n",
      "tensor([2])\n"
     ]
    },
    {
     "name": "stderr",
     "output_type": "stream",
     "text": [
      "Iterating training graphs:  45%|████▍     | 4026/9024 [01:16<01:06, 74.79batch/s]"
     ]
    },
    {
     "name": "stdout",
     "output_type": "stream",
     "text": [
      "tensor([2])\n",
      "tensor([2])\n",
      "tensor([0])\n",
      "tensor([0])\n",
      "tensor([5])\n",
      "tensor([0])\n",
      "tensor([2])\n",
      "tensor([4])\n",
      "tensor([1])\n",
      "tensor([4])\n",
      "tensor([1])\n"
     ]
    },
    {
     "name": "stderr",
     "output_type": "stream",
     "text": [
      "Iterating training graphs:  45%|████▍     | 4034/9024 [01:16<01:34, 52.64batch/s]"
     ]
    },
    {
     "name": "stdout",
     "output_type": "stream",
     "text": [
      "tensor([4])\n",
      "tensor([2])\n",
      "tensor([0])\n",
      "tensor([2])\n",
      "tensor([4])\n",
      "tensor([3])\n",
      "tensor([0])\n",
      "tensor([4])\n",
      "tensor([4])\n",
      "tensor([3])\n",
      "tensor([2])\n",
      "tensor([0])\n"
     ]
    },
    {
     "name": "stderr",
     "output_type": "stream",
     "text": [
      "Iterating training graphs:  45%|████▍     | 4051/9024 [01:16<01:19, 62.71batch/s]"
     ]
    },
    {
     "name": "stdout",
     "output_type": "stream",
     "text": [
      "tensor([0])\n",
      "tensor([2])\n",
      "tensor([2])\n",
      "tensor([0])\n",
      "tensor([2])\n",
      "tensor([1])\n",
      "tensor([3])\n",
      "tensor([1])\n",
      "tensor([0])\n",
      "tensor([1])\n",
      "tensor([3])\n",
      "tensor([4])\n",
      "tensor([3])\n",
      "tensor([0])\n",
      "tensor([1])\n",
      "tensor([1])\n",
      "tensor([3])\n",
      "tensor([2])\n"
     ]
    },
    {
     "name": "stderr",
     "output_type": "stream",
     "text": [
      "Iterating training graphs:  45%|████▌     | 4071/9024 [01:16<01:06, 75.02batch/s]"
     ]
    },
    {
     "name": "stdout",
     "output_type": "stream",
     "text": [
      "tensor([2])\n",
      "tensor([0])\n",
      "tensor([2])\n",
      "tensor([4])\n",
      "tensor([4])\n",
      "tensor([2])\n",
      "tensor([5])\n",
      "tensor([4])\n",
      "tensor([2])\n",
      "tensor([3])\n",
      "tensor([1])\n",
      "tensor([1])\n",
      "tensor([3])\n",
      "tensor([4])\n"
     ]
    },
    {
     "name": "stderr",
     "output_type": "stream",
     "text": [
      "Iterating training graphs:  45%|████▌     | 4088/9024 [01:17<01:12, 68.15batch/s]"
     ]
    },
    {
     "name": "stdout",
     "output_type": "stream",
     "text": [
      "tensor([3])\n",
      "tensor([4])\n",
      "tensor([1])\n",
      "tensor([1])\n",
      "tensor([1])\n",
      "tensor([1])\n",
      "tensor([4])\n",
      "tensor([4])\n",
      "tensor([3])\n",
      "tensor([4])\n",
      "tensor([2])\n",
      "tensor([0])\n",
      "tensor([5])\n",
      "tensor([1])\n",
      "tensor([2])\n"
     ]
    },
    {
     "name": "stderr",
     "output_type": "stream",
     "text": [
      "Iterating training graphs:  46%|████▌     | 4108/9024 [01:17<01:00, 81.39batch/s]"
     ]
    },
    {
     "name": "stdout",
     "output_type": "stream",
     "text": [
      "tensor([0])\n",
      "tensor([4])\n",
      "tensor([3])\n",
      "tensor([2])\n",
      "tensor([5])\n",
      "tensor([4])\n",
      "tensor([4])\n",
      "tensor([1])\n",
      "tensor([3])\n",
      "tensor([0])\n",
      "tensor([2])\n",
      "tensor([0])\n",
      "tensor([4])\n",
      "tensor([4])\n",
      "tensor([2])\n",
      "tensor([2])\n",
      "tensor([5])\n",
      "tensor([2])\n",
      "tensor([3])\n",
      "tensor([0])\n",
      "tensor([3])\n"
     ]
    },
    {
     "name": "stderr",
     "output_type": "stream",
     "text": [
      "Iterating training graphs:  46%|████▌     | 4117/9024 [01:17<01:12, 68.02batch/s]"
     ]
    },
    {
     "name": "stdout",
     "output_type": "stream",
     "text": [
      "tensor([3])\n",
      "tensor([5])\n",
      "tensor([5])\n",
      "tensor([2])\n",
      "tensor([3])\n",
      "tensor([3])\n",
      "tensor([2])\n",
      "tensor([5])\n",
      "tensor([2])\n",
      "tensor([1])\n"
     ]
    },
    {
     "name": "stderr",
     "output_type": "stream",
     "text": [
      "Iterating training graphs:  46%|████▌     | 4125/9024 [01:17<01:24, 57.75batch/s]"
     ]
    },
    {
     "name": "stdout",
     "output_type": "stream",
     "text": [
      "tensor([5])\n",
      "tensor([2])\n",
      "tensor([2])\n",
      "tensor([1])\n",
      "tensor([5])\n",
      "tensor([2])\n",
      "tensor([2])\n",
      "tensor([0])\n",
      "tensor([1])\n",
      "tensor([2])\n",
      "tensor([3])\n",
      "tensor([3])\n",
      "tensor([4])\n",
      "tensor([2])\n"
     ]
    },
    {
     "name": "stderr",
     "output_type": "stream",
     "text": [
      "Iterating training graphs:  46%|████▌     | 4141/9024 [01:18<01:15, 64.27batch/s]"
     ]
    },
    {
     "name": "stdout",
     "output_type": "stream",
     "text": [
      "tensor([2])\n",
      "tensor([2])\n",
      "tensor([5])\n",
      "tensor([2])\n",
      "tensor([3])\n",
      "tensor([2])\n",
      "tensor([1])\n",
      "tensor([4])\n",
      "tensor([2])\n",
      "tensor([3])\n",
      "tensor([3])\n"
     ]
    },
    {
     "name": "stderr",
     "output_type": "stream",
     "text": [
      "Iterating training graphs:  46%|████▌     | 4155/9024 [01:18<01:27, 55.89batch/s]"
     ]
    },
    {
     "name": "stdout",
     "output_type": "stream",
     "text": [
      "tensor([1])\n",
      "tensor([3])\n",
      "tensor([1])\n",
      "tensor([1])\n",
      "tensor([3])\n",
      "tensor([4])\n",
      "tensor([1])\n",
      "tensor([3])\n",
      "tensor([2])\n",
      "tensor([2])\n",
      "tensor([3])\n",
      "tensor([2])\n",
      "tensor([3])\n",
      "tensor([2])\n",
      "tensor([3])\n"
     ]
    },
    {
     "name": "stderr",
     "output_type": "stream",
     "text": [
      "Iterating training graphs:  46%|████▌     | 4168/9024 [01:18<01:22, 58.81batch/s]"
     ]
    },
    {
     "name": "stdout",
     "output_type": "stream",
     "text": [
      "tensor([0])\n",
      "tensor([1])\n",
      "tensor([1])\n",
      "tensor([3])\n",
      "tensor([0])\n",
      "tensor([1])\n",
      "tensor([1])\n",
      "tensor([2])\n",
      "tensor([4])\n",
      "tensor([2])\n",
      "tensor([1])\n",
      "tensor([3])\n",
      "tensor([3])\n",
      "tensor([4])\n",
      "tensor([4])\n"
     ]
    },
    {
     "name": "stderr",
     "output_type": "stream",
     "text": [
      "Iterating training graphs:  46%|████▋     | 4185/9024 [01:18<01:09, 69.68batch/s]"
     ]
    },
    {
     "name": "stdout",
     "output_type": "stream",
     "text": [
      "tensor([2])\n",
      "tensor([1])\n",
      "tensor([2])\n",
      "tensor([2])\n",
      "tensor([4])\n",
      "tensor([5])\n",
      "tensor([1])\n",
      "tensor([1])\n",
      "tensor([2])\n",
      "tensor([2])\n",
      "tensor([3])\n",
      "tensor([2])\n",
      "tensor([5])\n",
      "tensor([4])\n",
      "tensor([3])\n"
     ]
    },
    {
     "name": "stderr",
     "output_type": "stream",
     "text": [
      "Iterating training graphs:  47%|████▋     | 4203/9024 [01:18<01:01, 79.03batch/s]"
     ]
    },
    {
     "name": "stdout",
     "output_type": "stream",
     "text": [
      "tensor([1])\n",
      "tensor([2])\n",
      "tensor([3])\n",
      "tensor([4])\n",
      "tensor([4])\n",
      "tensor([5])\n",
      "tensor([5])\n",
      "tensor([3])\n",
      "tensor([2])\n",
      "tensor([5])\n",
      "tensor([4])\n",
      "tensor([2])\n",
      "tensor([4])\n",
      "tensor([3])\n",
      "tensor([5])\n",
      "tensor([0])\n",
      "tensor([0])\n",
      "tensor([2])\n",
      "tensor([2])\n",
      "tensor([0])\n",
      "tensor([3])\n",
      "tensor([2])\n",
      "tensor([2])\n",
      "tensor([2])\n"
     ]
    },
    {
     "name": "stderr",
     "output_type": "stream",
     "text": [
      "Iterating training graphs:  47%|████▋     | 4226/9024 [01:19<01:03, 75.29batch/s]"
     ]
    },
    {
     "name": "stdout",
     "output_type": "stream",
     "text": [
      "tensor([2])\n",
      "tensor([0])\n",
      "tensor([3])\n",
      "tensor([5])\n",
      "tensor([3])\n",
      "tensor([5])\n",
      "tensor([3])\n",
      "tensor([2])\n",
      "tensor([2])\n",
      "tensor([2])\n",
      "tensor([0])\n",
      "tensor([2])\n",
      "tensor([0])\n"
     ]
    },
    {
     "name": "stderr",
     "output_type": "stream",
     "text": [
      "Iterating training graphs:  47%|████▋     | 4244/9024 [01:19<00:59, 80.78batch/s]"
     ]
    },
    {
     "name": "stdout",
     "output_type": "stream",
     "text": [
      "tensor([1])\n",
      "tensor([1])\n",
      "tensor([4])\n",
      "tensor([3])\n",
      "tensor([2])\n",
      "tensor([2])\n",
      "tensor([3])\n",
      "tensor([1])\n",
      "tensor([2])\n",
      "tensor([2])\n",
      "tensor([1])\n",
      "tensor([4])\n",
      "tensor([3])\n",
      "tensor([3])\n",
      "tensor([1])\n",
      "tensor([0])\n",
      "tensor([2])\n",
      "tensor([0])\n"
     ]
    },
    {
     "name": "stderr",
     "output_type": "stream",
     "text": [
      "Iterating training graphs:  47%|████▋     | 4253/9024 [01:19<00:57, 82.59batch/s]"
     ]
    },
    {
     "name": "stdout",
     "output_type": "stream",
     "text": [
      "tensor([0])\n",
      "tensor([4])\n",
      "tensor([3])\n",
      "tensor([1])\n",
      "tensor([2])\n",
      "tensor([3])\n",
      "tensor([2])\n",
      "tensor([3])\n",
      "tensor([4])\n",
      "tensor([4])\n",
      "tensor([0])\n",
      "tensor([0])\n",
      "tensor([4])\n",
      "tensor([2])\n"
     ]
    },
    {
     "name": "stderr",
     "output_type": "stream",
     "text": [
      "Iterating training graphs:  47%|████▋     | 4270/9024 [01:19<01:09, 68.82batch/s]"
     ]
    },
    {
     "name": "stdout",
     "output_type": "stream",
     "text": [
      "tensor([3])\n",
      "tensor([1])\n",
      "tensor([3])\n",
      "tensor([2])\n",
      "tensor([1])\n",
      "tensor([5])\n",
      "tensor([1])\n",
      "tensor([2])\n",
      "tensor([3])\n",
      "tensor([2])\n",
      "tensor([2])\n",
      "tensor([0])\n",
      "tensor([4])\n"
     ]
    },
    {
     "name": "stderr",
     "output_type": "stream",
     "text": [
      "Iterating training graphs:  48%|████▊     | 4292/9024 [01:20<00:53, 87.86batch/s]"
     ]
    },
    {
     "name": "stdout",
     "output_type": "stream",
     "text": [
      "tensor([1])\n",
      "tensor([2])\n",
      "tensor([3])\n",
      "tensor([4])\n",
      "tensor([1])\n",
      "tensor([3])\n",
      "tensor([5])\n",
      "tensor([3])\n",
      "tensor([4])\n",
      "tensor([3])\n",
      "tensor([2])\n",
      "tensor([4])\n",
      "tensor([4])\n",
      "tensor([4])\n",
      "tensor([5])\n",
      "tensor([2])\n",
      "tensor([2])\n",
      "tensor([2])\n",
      "tensor([2])\n",
      "tensor([1])\n",
      "tensor([0])\n",
      "tensor([2])\n"
     ]
    },
    {
     "name": "stderr",
     "output_type": "stream",
     "text": [
      "Iterating training graphs:  48%|████▊     | 4312/9024 [01:20<00:58, 80.97batch/s]"
     ]
    },
    {
     "name": "stdout",
     "output_type": "stream",
     "text": [
      "tensor([2])\n",
      "tensor([4])\n",
      "tensor([0])\n",
      "tensor([4])\n",
      "tensor([3])\n",
      "tensor([0])\n",
      "tensor([1])\n",
      "tensor([0])\n",
      "tensor([4])\n",
      "tensor([4])\n",
      "tensor([2])\n",
      "tensor([3])\n",
      "tensor([3])\n",
      "tensor([3])\n",
      "tensor([2])\n",
      "tensor([2])\n",
      "tensor([3])\n",
      "tensor([4])\n",
      "tensor([4])\n"
     ]
    },
    {
     "name": "stderr",
     "output_type": "stream",
     "text": [
      "Iterating training graphs:  48%|████▊     | 4321/9024 [01:20<01:10, 66.82batch/s]"
     ]
    },
    {
     "name": "stdout",
     "output_type": "stream",
     "text": [
      "tensor([2])\n",
      "tensor([5])\n",
      "tensor([4])\n",
      "tensor([3])\n",
      "tensor([0])\n",
      "tensor([3])\n",
      "tensor([0])\n",
      "tensor([2])\n",
      "tensor([2])\n",
      "tensor([1])\n",
      "tensor([2])\n"
     ]
    },
    {
     "name": "stderr",
     "output_type": "stream",
     "text": [
      "Iterating training graphs:  48%|████▊     | 4339/9024 [01:20<01:02, 75.39batch/s]"
     ]
    },
    {
     "name": "stdout",
     "output_type": "stream",
     "text": [
      "tensor([2])\n",
      "tensor([3])\n",
      "tensor([3])\n",
      "tensor([3])\n",
      "tensor([2])\n",
      "tensor([0])\n",
      "tensor([0])\n",
      "tensor([4])\n",
      "tensor([4])\n",
      "tensor([2])\n",
      "tensor([3])\n",
      "tensor([5])\n",
      "tensor([4])\n",
      "tensor([4])\n",
      "tensor([2])\n",
      "tensor([3])\n",
      "tensor([3])\n",
      "tensor([4])\n"
     ]
    },
    {
     "name": "stderr",
     "output_type": "stream",
     "text": [
      "Iterating training graphs:  48%|████▊     | 4364/9024 [01:20<00:47, 98.47batch/s]"
     ]
    },
    {
     "name": "stdout",
     "output_type": "stream",
     "text": [
      "tensor([2])\n",
      "tensor([3])\n",
      "tensor([4])\n",
      "tensor([3])\n",
      "tensor([3])\n",
      "tensor([4])\n",
      "tensor([1])\n",
      "tensor([3])\n",
      "tensor([4])\n",
      "tensor([4])\n",
      "tensor([0])\n",
      "tensor([0])\n",
      "tensor([4])\n",
      "tensor([1])\n",
      "tensor([2])\n",
      "tensor([4])\n",
      "tensor([4])\n",
      "tensor([3])\n",
      "tensor([0])\n",
      "tensor([5])\n",
      "tensor([2])\n",
      "tensor([2])\n",
      "tensor([2])\n",
      "tensor([4])\n"
     ]
    },
    {
     "name": "stderr",
     "output_type": "stream",
     "text": [
      "Iterating training graphs:  48%|████▊     | 4375/9024 [01:21<00:56, 81.57batch/s]"
     ]
    },
    {
     "name": "stdout",
     "output_type": "stream",
     "text": [
      "tensor([1])\n",
      "tensor([3])\n",
      "tensor([3])\n",
      "tensor([0])\n",
      "tensor([4])\n",
      "tensor([4])\n",
      "tensor([3])\n",
      "tensor([3])\n",
      "tensor([1])\n",
      "tensor([2])\n",
      "tensor([2])\n",
      "tensor([2])\n",
      "tensor([4])\n",
      "tensor([4])\n",
      "tensor([2])\n",
      "tensor([3])\n"
     ]
    },
    {
     "name": "stderr",
     "output_type": "stream",
     "text": [
      "Iterating training graphs:  49%|████▊     | 4386/9024 [01:21<00:53, 87.22batch/s]"
     ]
    },
    {
     "name": "stdout",
     "output_type": "stream",
     "text": [
      "tensor([0])\n",
      "tensor([4])\n",
      "tensor([1])\n",
      "tensor([4])\n",
      "tensor([3])\n",
      "tensor([3])\n",
      "tensor([5])\n",
      "tensor([1])\n",
      "tensor([2])\n",
      "tensor([2])\n",
      "tensor([2])\n",
      "tensor([5])\n",
      "tensor([3])\n",
      "tensor([3])\n"
     ]
    },
    {
     "name": "stderr",
     "output_type": "stream",
     "text": [
      "Iterating training graphs:  49%|████▉     | 4405/9024 [01:21<01:01, 75.19batch/s]"
     ]
    },
    {
     "name": "stdout",
     "output_type": "stream",
     "text": [
      "tensor([2])\n",
      "tensor([4])\n",
      "tensor([3])\n",
      "tensor([2])\n",
      "tensor([1])\n",
      "tensor([4])\n",
      "tensor([4])\n",
      "tensor([2])\n",
      "tensor([5])\n",
      "tensor([1])\n",
      "tensor([2])\n",
      "tensor([4])\n"
     ]
    },
    {
     "name": "stderr",
     "output_type": "stream",
     "text": [
      "Iterating training graphs:  49%|████▉     | 4423/9024 [01:21<01:04, 70.97batch/s]"
     ]
    },
    {
     "name": "stdout",
     "output_type": "stream",
     "text": [
      "tensor([3])\n",
      "tensor([5])\n",
      "tensor([4])\n",
      "tensor([2])\n",
      "tensor([2])\n",
      "tensor([4])\n",
      "tensor([1])\n",
      "tensor([2])\n",
      "tensor([3])\n",
      "tensor([5])\n",
      "tensor([0])\n",
      "tensor([2])\n",
      "tensor([1])\n",
      "tensor([2])\n",
      "tensor([2])\n",
      "tensor([4])\n",
      "tensor([1])\n"
     ]
    },
    {
     "name": "stderr",
     "output_type": "stream",
     "text": [
      "Iterating training graphs:  49%|████▉     | 4433/9024 [01:21<00:59, 77.41batch/s]"
     ]
    },
    {
     "name": "stdout",
     "output_type": "stream",
     "text": [
      "tensor([2])\n",
      "tensor([1])\n",
      "tensor([3])\n",
      "tensor([4])\n",
      "tensor([1])\n",
      "tensor([5])\n",
      "tensor([3])\n",
      "tensor([3])\n",
      "tensor([2])\n",
      "tensor([2])\n",
      "tensor([2])\n",
      "tensor([1])\n",
      "tensor([3])\n",
      "tensor([1])\n",
      "tensor([1])\n",
      "tensor([2])\n",
      "tensor([2])\n"
     ]
    },
    {
     "name": "stderr",
     "output_type": "stream",
     "text": [
      "Iterating training graphs:  49%|████▉     | 4451/9024 [01:22<01:06, 69.14batch/s]"
     ]
    },
    {
     "name": "stdout",
     "output_type": "stream",
     "text": [
      "tensor([2])\n",
      "tensor([1])\n",
      "tensor([4])\n",
      "tensor([1])\n",
      "tensor([4])\n",
      "tensor([3])\n",
      "tensor([2])\n",
      "tensor([3])\n",
      "tensor([4])\n",
      "tensor([4])\n",
      "tensor([2])\n",
      "tensor([1])\n",
      "tensor([3])\n",
      "tensor([4])\n",
      "tensor([3])\n"
     ]
    },
    {
     "name": "stderr",
     "output_type": "stream",
     "text": [
      "Iterating training graphs:  50%|████▉     | 4467/9024 [01:22<01:06, 68.85batch/s]"
     ]
    },
    {
     "name": "stdout",
     "output_type": "stream",
     "text": [
      "tensor([3])\n",
      "tensor([4])\n",
      "tensor([3])\n",
      "tensor([4])\n",
      "tensor([3])\n",
      "tensor([0])\n",
      "tensor([5])\n",
      "tensor([3])\n",
      "tensor([1])\n",
      "tensor([0])\n",
      "tensor([3])\n"
     ]
    },
    {
     "name": "stderr",
     "output_type": "stream",
     "text": [
      "Iterating training graphs:  50%|████▉     | 4482/9024 [01:22<01:15, 60.55batch/s]"
     ]
    },
    {
     "name": "stdout",
     "output_type": "stream",
     "text": [
      "tensor([3])\n",
      "tensor([2])\n",
      "tensor([0])\n",
      "tensor([4])\n",
      "tensor([1])\n",
      "tensor([1])\n",
      "tensor([3])\n",
      "tensor([1])\n",
      "tensor([0])\n",
      "tensor([3])\n",
      "tensor([1])\n",
      "tensor([3])\n",
      "tensor([2])\n",
      "tensor([4])\n",
      "tensor([4])\n"
     ]
    },
    {
     "name": "stderr",
     "output_type": "stream",
     "text": [
      "Iterating training graphs:  50%|████▉     | 4489/9024 [01:22<01:28, 51.06batch/s]"
     ]
    },
    {
     "name": "stdout",
     "output_type": "stream",
     "text": [
      "tensor([1])\n",
      "tensor([4])\n",
      "tensor([2])\n",
      "tensor([2])\n",
      "tensor([2])\n",
      "tensor([2])\n",
      "tensor([1])\n",
      "tensor([3])\n",
      "tensor([0])\n"
     ]
    },
    {
     "name": "stderr",
     "output_type": "stream",
     "text": [
      "Iterating training graphs:  50%|████▉     | 4506/9024 [01:23<01:10, 64.18batch/s]"
     ]
    },
    {
     "name": "stdout",
     "output_type": "stream",
     "text": [
      "tensor([2])\n",
      "tensor([4])\n",
      "tensor([4])\n",
      "tensor([5])\n",
      "tensor([2])\n",
      "tensor([4])\n",
      "tensor([3])\n",
      "tensor([4])\n",
      "tensor([0])\n",
      "tensor([0])\n",
      "tensor([3])\n",
      "tensor([2])\n",
      "tensor([3])\n",
      "tensor([2])\n",
      "tensor([0])\n",
      "tensor([0])\n",
      "tensor([4])\n"
     ]
    },
    {
     "name": "stderr",
     "output_type": "stream",
     "text": [
      "Iterating training graphs:  50%|█████     | 4513/9024 [01:23<01:09, 64.78batch/s]"
     ]
    },
    {
     "name": "stdout",
     "output_type": "stream",
     "text": [
      "tensor([0])\n",
      "tensor([4])\n",
      "tensor([4])\n",
      "tensor([5])\n",
      "tensor([3])\n",
      "tensor([5])\n",
      "tensor([4])\n",
      "tensor([0])\n",
      "tensor([2])\n",
      "tensor([2])\n",
      "tensor([5])\n",
      "tensor([2])\n"
     ]
    },
    {
     "name": "stderr",
     "output_type": "stream",
     "text": [
      "Iterating training graphs:  50%|█████     | 4537/9024 [01:23<01:06, 67.61batch/s]"
     ]
    },
    {
     "name": "stdout",
     "output_type": "stream",
     "text": [
      "tensor([5])\n",
      "tensor([1])\n",
      "tensor([2])\n",
      "tensor([4])\n",
      "tensor([3])\n",
      "tensor([4])\n",
      "tensor([4])\n",
      "tensor([2])\n",
      "tensor([1])\n",
      "tensor([5])\n",
      "tensor([1])\n",
      "tensor([3])\n",
      "tensor([4])\n",
      "tensor([2])\n",
      "tensor([2])\n",
      "tensor([5])\n",
      "tensor([2])\n"
     ]
    },
    {
     "name": "stderr",
     "output_type": "stream",
     "text": [
      "Iterating training graphs:  50%|█████     | 4553/9024 [01:23<01:04, 69.49batch/s]"
     ]
    },
    {
     "name": "stdout",
     "output_type": "stream",
     "text": [
      "tensor([3])\n",
      "tensor([1])\n",
      "tensor([4])\n",
      "tensor([0])\n",
      "tensor([5])\n",
      "tensor([0])\n",
      "tensor([5])\n",
      "tensor([3])\n",
      "tensor([4])\n",
      "tensor([4])\n",
      "tensor([0])\n",
      "tensor([0])\n",
      "tensor([2])\n",
      "tensor([3])\n",
      "tensor([3])\n",
      "tensor([2])\n"
     ]
    },
    {
     "name": "stderr",
     "output_type": "stream",
     "text": [
      "Iterating training graphs:  51%|█████     | 4561/9024 [01:24<01:14, 60.30batch/s]"
     ]
    },
    {
     "name": "stdout",
     "output_type": "stream",
     "text": [
      "tensor([0])\n",
      "tensor([0])\n",
      "tensor([4])\n",
      "tensor([2])\n",
      "tensor([2])\n",
      "tensor([3])\n",
      "tensor([2])\n",
      "tensor([2])\n",
      "tensor([3])\n",
      "tensor([4])\n",
      "tensor([5])\n",
      "tensor([4])\n",
      "tensor([4])\n"
     ]
    },
    {
     "name": "stderr",
     "output_type": "stream",
     "text": [
      "Iterating training graphs:  51%|█████     | 4575/9024 [01:24<01:25, 51.81batch/s]"
     ]
    },
    {
     "name": "stdout",
     "output_type": "stream",
     "text": [
      "tensor([3])\n",
      "tensor([5])\n",
      "tensor([3])\n",
      "tensor([5])\n",
      "tensor([0])\n",
      "tensor([4])\n",
      "tensor([4])\n",
      "tensor([0])\n",
      "tensor([4])\n"
     ]
    },
    {
     "name": "stderr",
     "output_type": "stream",
     "text": [
      "Iterating training graphs:  51%|█████     | 4581/9024 [01:24<01:23, 53.20batch/s]"
     ]
    },
    {
     "name": "stdout",
     "output_type": "stream",
     "text": [
      "tensor([3])\n",
      "tensor([0])\n",
      "tensor([0])\n",
      "tensor([2])\n",
      "tensor([4])\n",
      "tensor([2])\n",
      "tensor([4])\n",
      "tensor([4])\n",
      "tensor([1])\n",
      "tensor([1])\n",
      "tensor([2])\n",
      "tensor([0])\n"
     ]
    },
    {
     "name": "stderr",
     "output_type": "stream",
     "text": [
      "Iterating training graphs:  51%|█████     | 4594/9024 [01:24<01:16, 57.58batch/s]"
     ]
    },
    {
     "name": "stdout",
     "output_type": "stream",
     "text": [
      "tensor([0])\n",
      "tensor([2])\n",
      "tensor([4])\n",
      "tensor([4])\n",
      "tensor([3])\n",
      "tensor([4])\n",
      "tensor([0])\n",
      "tensor([2])\n",
      "tensor([4])\n",
      "tensor([2])\n",
      "tensor([4])\n",
      "tensor([1])\n",
      "tensor([0])\n",
      "tensor([4])\n"
     ]
    },
    {
     "name": "stderr",
     "output_type": "stream",
     "text": [
      "Iterating training graphs:  51%|█████     | 4609/9024 [01:24<01:21, 54.11batch/s]"
     ]
    },
    {
     "name": "stdout",
     "output_type": "stream",
     "text": [
      "tensor([4])\n",
      "tensor([2])\n",
      "tensor([2])\n",
      "tensor([2])\n",
      "tensor([4])\n",
      "tensor([4])\n",
      "tensor([4])\n",
      "tensor([4])\n",
      "tensor([1])\n",
      "tensor([2])\n",
      "tensor([4])\n",
      "tensor([1])\n"
     ]
    },
    {
     "name": "stderr",
     "output_type": "stream",
     "text": [
      "Iterating training graphs:  51%|█████▏    | 4626/9024 [01:25<01:10, 62.44batch/s]"
     ]
    },
    {
     "name": "stdout",
     "output_type": "stream",
     "text": [
      "tensor([4])\n",
      "tensor([1])\n",
      "tensor([2])\n",
      "tensor([3])\n",
      "tensor([1])\n",
      "tensor([2])\n",
      "tensor([4])\n",
      "tensor([1])\n",
      "tensor([2])\n",
      "tensor([2])\n",
      "tensor([3])\n",
      "tensor([1])\n",
      "tensor([2])\n"
     ]
    },
    {
     "name": "stderr",
     "output_type": "stream",
     "text": [
      "Iterating training graphs:  51%|█████▏    | 4641/9024 [01:25<01:04, 67.84batch/s]"
     ]
    },
    {
     "name": "stdout",
     "output_type": "stream",
     "text": [
      "tensor([2])\n",
      "tensor([1])\n",
      "tensor([0])\n",
      "tensor([4])\n",
      "tensor([2])\n",
      "tensor([1])\n",
      "tensor([3])\n",
      "tensor([2])\n",
      "tensor([1])\n",
      "tensor([2])\n",
      "tensor([4])\n",
      "tensor([0])\n",
      "tensor([1])\n",
      "tensor([1])\n",
      "tensor([3])\n",
      "tensor([0])\n"
     ]
    },
    {
     "name": "stderr",
     "output_type": "stream",
     "text": [
      "Iterating training graphs:  52%|█████▏    | 4654/9024 [01:25<01:00, 72.77batch/s]"
     ]
    },
    {
     "name": "stdout",
     "output_type": "stream",
     "text": [
      "tensor([3])\n",
      "tensor([0])\n",
      "tensor([2])\n",
      "tensor([1])\n",
      "tensor([2])\n",
      "tensor([3])\n",
      "tensor([0])\n",
      "tensor([4])\n",
      "tensor([2])\n",
      "tensor([5])\n",
      "tensor([2])\n",
      "tensor([3])\n",
      "tensor([3])\n",
      "tensor([3])\n",
      "tensor([5])\n"
     ]
    },
    {
     "name": "stderr",
     "output_type": "stream",
     "text": [
      "Iterating training graphs:  52%|█████▏    | 4673/9024 [01:25<00:54, 79.51batch/s]"
     ]
    },
    {
     "name": "stdout",
     "output_type": "stream",
     "text": [
      "tensor([2])\n",
      "tensor([0])\n",
      "tensor([3])\n",
      "tensor([2])\n",
      "tensor([1])\n",
      "tensor([5])\n",
      "tensor([2])\n",
      "tensor([2])\n",
      "tensor([0])\n",
      "tensor([4])\n",
      "tensor([2])\n",
      "tensor([1])\n",
      "tensor([5])\n",
      "tensor([4])\n",
      "tensor([2])\n",
      "tensor([3])\n",
      "tensor([4])\n"
     ]
    },
    {
     "name": "stderr",
     "output_type": "stream",
     "text": [
      "Iterating training graphs:  52%|█████▏    | 4682/9024 [01:25<01:04, 67.09batch/s]"
     ]
    },
    {
     "name": "stdout",
     "output_type": "stream",
     "text": [
      "tensor([1])\n",
      "tensor([0])\n",
      "tensor([2])\n",
      "tensor([1])\n",
      "tensor([4])\n",
      "tensor([0])\n",
      "tensor([2])\n",
      "tensor([3])\n",
      "tensor([0])\n",
      "tensor([1])\n",
      "tensor([1])\n",
      "tensor([3])\n",
      "tensor([2])\n"
     ]
    },
    {
     "name": "stderr",
     "output_type": "stream",
     "text": [
      "Iterating training graphs:  52%|█████▏    | 4698/9024 [01:26<01:13, 58.78batch/s]"
     ]
    },
    {
     "name": "stdout",
     "output_type": "stream",
     "text": [
      "tensor([3])\n",
      "tensor([2])\n",
      "tensor([2])\n",
      "tensor([1])\n",
      "tensor([0])\n",
      "tensor([4])\n",
      "tensor([5])\n",
      "tensor([3])\n",
      "tensor([3])\n",
      "tensor([4])\n",
      "tensor([0])\n",
      "tensor([0])\n"
     ]
    },
    {
     "name": "stderr",
     "output_type": "stream",
     "text": [
      "Iterating training graphs:  52%|█████▏    | 4721/9024 [01:26<00:51, 83.53batch/s]"
     ]
    },
    {
     "name": "stdout",
     "output_type": "stream",
     "text": [
      "tensor([2])\n",
      "tensor([2])\n",
      "tensor([2])\n",
      "tensor([3])\n",
      "tensor([2])\n",
      "tensor([2])\n",
      "tensor([2])\n",
      "tensor([1])\n",
      "tensor([2])\n",
      "tensor([4])\n",
      "tensor([0])\n",
      "tensor([2])\n",
      "tensor([2])\n",
      "tensor([5])\n",
      "tensor([2])\n",
      "tensor([2])\n",
      "tensor([4])\n",
      "tensor([0])\n",
      "tensor([1])\n",
      "tensor([2])\n",
      "tensor([2])\n",
      "tensor([0])\n"
     ]
    },
    {
     "name": "stderr",
     "output_type": "stream",
     "text": [
      "Iterating training graphs:  52%|█████▏    | 4731/9024 [01:26<00:59, 72.55batch/s]"
     ]
    },
    {
     "name": "stdout",
     "output_type": "stream",
     "text": [
      "tensor([5])\n",
      "tensor([1])\n",
      "tensor([3])\n",
      "tensor([2])\n",
      "tensor([5])\n",
      "tensor([2])\n",
      "tensor([4])\n",
      "tensor([3])\n",
      "tensor([5])\n",
      "tensor([3])\n",
      "tensor([1])\n",
      "tensor([3])\n"
     ]
    },
    {
     "name": "stderr",
     "output_type": "stream",
     "text": [
      "Iterating training graphs:  53%|█████▎    | 4750/9024 [01:26<00:53, 79.99batch/s]"
     ]
    },
    {
     "name": "stdout",
     "output_type": "stream",
     "text": [
      "tensor([3])\n",
      "tensor([2])\n",
      "tensor([4])\n",
      "tensor([0])\n",
      "tensor([1])\n",
      "tensor([0])\n",
      "tensor([3])\n",
      "tensor([3])\n",
      "tensor([2])\n",
      "tensor([2])\n",
      "tensor([3])\n",
      "tensor([2])\n",
      "tensor([2])\n",
      "tensor([3])\n",
      "tensor([1])\n",
      "tensor([4])\n",
      "tensor([0])\n",
      "tensor([0])\n"
     ]
    },
    {
     "name": "stderr",
     "output_type": "stream",
     "text": [
      "Iterating training graphs:  53%|█████▎    | 4769/9024 [01:27<00:57, 74.21batch/s]"
     ]
    },
    {
     "name": "stdout",
     "output_type": "stream",
     "text": [
      "tensor([1])\n",
      "tensor([4])\n",
      "tensor([3])\n",
      "tensor([2])\n",
      "tensor([1])\n",
      "tensor([2])\n",
      "tensor([2])\n",
      "tensor([3])\n",
      "tensor([2])\n",
      "tensor([1])\n",
      "tensor([2])\n",
      "tensor([2])\n",
      "tensor([5])\n",
      "tensor([2])\n",
      "tensor([1])\n",
      "tensor([0])\n",
      "tensor([3])\n",
      "tensor([0])\n",
      "tensor([3])\n"
     ]
    },
    {
     "name": "stderr",
     "output_type": "stream",
     "text": [
      "Iterating training graphs:  53%|█████▎    | 4777/9024 [01:27<01:10, 60.29batch/s]"
     ]
    },
    {
     "name": "stdout",
     "output_type": "stream",
     "text": [
      "tensor([2])\n",
      "tensor([1])\n",
      "tensor([1])\n",
      "tensor([2])\n",
      "tensor([4])\n",
      "tensor([1])\n",
      "tensor([2])\n",
      "tensor([4])\n",
      "tensor([3])\n",
      "tensor([1])\n",
      "tensor([2])\n",
      "tensor([5])\n"
     ]
    },
    {
     "name": "stderr",
     "output_type": "stream",
     "text": [
      "Iterating training graphs:  53%|█████▎    | 4802/9024 [01:27<00:51, 82.02batch/s]"
     ]
    },
    {
     "name": "stdout",
     "output_type": "stream",
     "text": [
      "tensor([2])\n",
      "tensor([4])\n",
      "tensor([0])\n",
      "tensor([0])\n",
      "tensor([2])\n",
      "tensor([5])\n",
      "tensor([0])\n",
      "tensor([1])\n",
      "tensor([4])\n",
      "tensor([2])\n",
      "tensor([3])\n",
      "tensor([2])\n",
      "tensor([5])\n",
      "tensor([5])\n",
      "tensor([3])\n",
      "tensor([0])\n",
      "tensor([2])\n",
      "tensor([4])\n",
      "tensor([0])\n",
      "tensor([2])\n",
      "tensor([3])\n",
      "tensor([2])\n"
     ]
    },
    {
     "name": "stderr",
     "output_type": "stream",
     "text": [
      "Iterating training graphs:  53%|█████▎    | 4811/9024 [01:27<00:51, 81.82batch/s]"
     ]
    },
    {
     "name": "stdout",
     "output_type": "stream",
     "text": [
      "tensor([4])\n",
      "tensor([0])\n",
      "tensor([1])\n",
      "tensor([2])\n",
      "tensor([4])\n",
      "tensor([4])\n",
      "tensor([3])\n",
      "tensor([2])\n",
      "tensor([0])\n",
      "tensor([2])\n",
      "tensor([3])\n",
      "tensor([4])\n",
      "tensor([2])\n",
      "tensor([1])\n"
     ]
    },
    {
     "name": "stderr",
     "output_type": "stream",
     "text": [
      "Iterating training graphs:  54%|█████▎    | 4828/9024 [01:27<01:00, 69.41batch/s]"
     ]
    },
    {
     "name": "stdout",
     "output_type": "stream",
     "text": [
      "tensor([0])\n",
      "tensor([1])\n",
      "tensor([4])\n",
      "tensor([3])\n",
      "tensor([3])\n",
      "tensor([5])\n",
      "tensor([4])\n",
      "tensor([2])\n",
      "tensor([1])\n",
      "tensor([2])\n",
      "tensor([2])\n",
      "tensor([3])\n",
      "tensor([2])\n"
     ]
    },
    {
     "name": "stderr",
     "output_type": "stream",
     "text": [
      "Iterating training graphs:  54%|█████▎    | 4846/9024 [01:28<00:54, 77.23batch/s]"
     ]
    },
    {
     "name": "stdout",
     "output_type": "stream",
     "text": [
      "tensor([0])\n",
      "tensor([2])\n",
      "tensor([4])\n",
      "tensor([4])\n",
      "tensor([2])\n",
      "tensor([4])\n",
      "tensor([2])\n",
      "tensor([2])\n",
      "tensor([1])\n",
      "tensor([0])\n",
      "tensor([2])\n",
      "tensor([4])\n",
      "tensor([1])\n",
      "tensor([2])\n",
      "tensor([3])\n",
      "tensor([4])\n",
      "tensor([2])\n",
      "tensor([1])\n",
      "tensor([2])\n",
      "tensor([4])\n"
     ]
    },
    {
     "name": "stderr",
     "output_type": "stream",
     "text": [
      "Iterating training graphs:  54%|█████▍    | 4865/9024 [01:28<00:55, 74.68batch/s]"
     ]
    },
    {
     "name": "stdout",
     "output_type": "stream",
     "text": [
      "tensor([0])\n",
      "tensor([1])\n",
      "tensor([5])\n",
      "tensor([3])\n",
      "tensor([1])\n",
      "tensor([5])\n",
      "tensor([1])\n",
      "tensor([4])\n",
      "tensor([0])\n",
      "tensor([3])\n",
      "tensor([2])\n",
      "tensor([2])\n",
      "tensor([4])\n",
      "tensor([0])\n",
      "tensor([5])\n"
     ]
    },
    {
     "name": "stderr",
     "output_type": "stream",
     "text": [
      "Iterating training graphs:  54%|█████▍    | 4875/9024 [01:28<00:52, 79.24batch/s]"
     ]
    },
    {
     "name": "stdout",
     "output_type": "stream",
     "text": [
      "tensor([0])\n",
      "tensor([0])\n",
      "tensor([4])\n",
      "tensor([1])\n",
      "tensor([3])\n",
      "tensor([1])\n",
      "tensor([1])\n",
      "tensor([0])\n",
      "tensor([0])\n",
      "tensor([2])\n",
      "tensor([3])\n",
      "tensor([2])\n",
      "tensor([2])\n",
      "tensor([2])\n",
      "tensor([3])\n",
      "tensor([2])\n",
      "tensor([5])\n"
     ]
    },
    {
     "name": "stderr",
     "output_type": "stream",
     "text": [
      "Iterating training graphs:  54%|█████▍    | 4892/9024 [01:28<01:00, 68.17batch/s]"
     ]
    },
    {
     "name": "stdout",
     "output_type": "stream",
     "text": [
      "tensor([3])\n",
      "tensor([3])\n",
      "tensor([2])\n",
      "tensor([1])\n",
      "tensor([1])\n",
      "tensor([4])\n",
      "tensor([2])\n",
      "tensor([2])\n",
      "tensor([4])\n",
      "tensor([2])\n",
      "tensor([2])\n",
      "tensor([3])\n",
      "tensor([0])\n",
      "tensor([0])\n",
      "tensor([0])\n",
      "tensor([4])\n",
      "tensor([2])\n"
     ]
    },
    {
     "name": "stderr",
     "output_type": "stream",
     "text": [
      "Iterating training graphs:  54%|█████▍    | 4912/9024 [01:29<01:01, 67.39batch/s]"
     ]
    },
    {
     "name": "stdout",
     "output_type": "stream",
     "text": [
      "tensor([2])\n",
      "tensor([3])\n",
      "tensor([4])\n",
      "tensor([2])\n",
      "tensor([4])\n",
      "tensor([2])\n",
      "tensor([4])\n",
      "tensor([4])\n",
      "tensor([2])\n",
      "tensor([2])\n",
      "tensor([2])\n",
      "tensor([2])\n"
     ]
    },
    {
     "name": "stderr",
     "output_type": "stream",
     "text": [
      "Iterating training graphs:  55%|█████▍    | 4920/9024 [01:29<01:00, 68.02batch/s]"
     ]
    },
    {
     "name": "stdout",
     "output_type": "stream",
     "text": [
      "tensor([0])\n",
      "tensor([1])\n",
      "tensor([0])\n",
      "tensor([5])\n",
      "tensor([1])\n",
      "tensor([2])\n",
      "tensor([5])\n",
      "tensor([2])\n",
      "tensor([4])\n",
      "tensor([0])\n",
      "tensor([3])\n",
      "tensor([4])\n"
     ]
    },
    {
     "name": "stderr",
     "output_type": "stream",
     "text": [
      "Iterating training graphs:  55%|█████▍    | 4935/9024 [01:29<01:09, 59.07batch/s]"
     ]
    },
    {
     "name": "stdout",
     "output_type": "stream",
     "text": [
      "tensor([5])\n",
      "tensor([1])\n",
      "tensor([5])\n",
      "tensor([1])\n",
      "tensor([5])\n",
      "tensor([1])\n",
      "tensor([4])\n",
      "tensor([3])\n",
      "tensor([4])\n",
      "tensor([1])\n",
      "tensor([4])\n",
      "tensor([1])\n"
     ]
    },
    {
     "name": "stderr",
     "output_type": "stream",
     "text": [
      "Iterating training graphs:  55%|█████▍    | 4942/9024 [01:29<01:08, 59.53batch/s]"
     ]
    },
    {
     "name": "stdout",
     "output_type": "stream",
     "text": [
      "tensor([3])\n",
      "tensor([0])\n",
      "tensor([2])\n",
      "tensor([2])\n",
      "tensor([0])\n",
      "tensor([2])\n",
      "tensor([2])\n",
      "tensor([2])\n",
      "tensor([1])\n",
      "tensor([3])\n",
      "tensor([1])\n",
      "tensor([0])\n",
      "tensor([3])\n",
      "tensor([5])\n",
      "tensor([3])\n",
      "tensor([4])\n"
     ]
    },
    {
     "name": "stderr",
     "output_type": "stream",
     "text": [
      "Iterating training graphs:  55%|█████▍    | 4961/9024 [01:29<01:02, 65.51batch/s]"
     ]
    },
    {
     "name": "stdout",
     "output_type": "stream",
     "text": [
      "tensor([1])\n",
      "tensor([2])\n",
      "tensor([1])\n",
      "tensor([1])\n",
      "tensor([2])\n",
      "tensor([2])\n",
      "tensor([3])\n",
      "tensor([4])\n",
      "tensor([1])\n",
      "tensor([2])\n",
      "tensor([2])\n",
      "tensor([1])\n",
      "tensor([0])\n",
      "tensor([0])\n"
     ]
    },
    {
     "name": "stderr",
     "output_type": "stream",
     "text": [
      "Iterating training graphs:  55%|█████▌    | 4976/9024 [01:30<01:10, 57.16batch/s]"
     ]
    },
    {
     "name": "stdout",
     "output_type": "stream",
     "text": [
      "tensor([0])\n",
      "tensor([1])\n",
      "tensor([2])\n",
      "tensor([3])\n",
      "tensor([1])\n",
      "tensor([3])\n",
      "tensor([3])\n",
      "tensor([2])\n",
      "tensor([4])\n",
      "tensor([4])\n",
      "tensor([1])\n",
      "tensor([2])\n",
      "tensor([1])\n",
      "tensor([2])\n",
      "tensor([5])\n",
      "tensor([4])\n",
      "tensor([4])\n",
      "tensor([0])\n",
      "tensor([2])\n"
     ]
    },
    {
     "name": "stderr",
     "output_type": "stream",
     "text": [
      "Iterating training graphs:  55%|█████▌    | 5000/9024 [01:30<00:51, 78.46batch/s]"
     ]
    },
    {
     "name": "stdout",
     "output_type": "stream",
     "text": [
      "tensor([4])\n",
      "tensor([2])\n",
      "tensor([1])\n",
      "tensor([2])\n",
      "tensor([2])\n",
      "tensor([2])\n",
      "tensor([3])\n",
      "tensor([3])\n",
      "tensor([3])\n",
      "tensor([0])\n",
      "tensor([2])\n",
      "tensor([4])\n",
      "tensor([2])\n",
      "tensor([3])\n",
      "tensor([3])\n",
      "tensor([1])\n",
      "tensor([0])\n",
      "tensor([2])\n",
      "tensor([2])\n"
     ]
    },
    {
     "name": "stderr",
     "output_type": "stream",
     "text": [
      "Iterating training graphs:  56%|█████▌    | 5009/9024 [01:30<00:59, 67.33batch/s]"
     ]
    },
    {
     "name": "stdout",
     "output_type": "stream",
     "text": [
      "tensor([5])\n",
      "tensor([5])\n",
      "tensor([2])\n",
      "tensor([2])\n",
      "tensor([3])\n",
      "tensor([3])\n",
      "tensor([1])\n",
      "tensor([1])\n",
      "tensor([4])\n",
      "tensor([2])\n"
     ]
    },
    {
     "name": "stderr",
     "output_type": "stream",
     "text": [
      "Iterating training graphs:  56%|█████▌    | 5017/9024 [01:30<01:01, 65.44batch/s]"
     ]
    },
    {
     "name": "stdout",
     "output_type": "stream",
     "text": [
      "tensor([3])\n",
      "tensor([0])\n",
      "tensor([2])\n",
      "tensor([1])\n",
      "tensor([2])\n",
      "tensor([2])\n",
      "tensor([2])\n",
      "tensor([4])\n",
      "tensor([4])\n"
     ]
    },
    {
     "name": "stderr",
     "output_type": "stream",
     "text": [
      "Iterating training graphs:  56%|█████▌    | 5031/9024 [01:31<01:07, 59.49batch/s]"
     ]
    },
    {
     "name": "stdout",
     "output_type": "stream",
     "text": [
      "tensor([2])\n",
      "tensor([1])\n",
      "tensor([2])\n",
      "tensor([0])\n",
      "tensor([5])\n",
      "tensor([4])\n",
      "tensor([3])\n",
      "tensor([0])\n",
      "tensor([2])\n",
      "tensor([1])\n",
      "tensor([2])\n",
      "tensor([3])\n",
      "tensor([0])\n",
      "tensor([2])\n",
      "tensor([4])\n",
      "tensor([2])\n",
      "tensor([1])\n",
      "tensor([4])\n"
     ]
    },
    {
     "name": "stderr",
     "output_type": "stream",
     "text": [
      "Iterating training graphs:  56%|█████▌    | 5051/9024 [01:31<00:53, 74.69batch/s]"
     ]
    },
    {
     "name": "stdout",
     "output_type": "stream",
     "text": [
      "tensor([0])\n",
      "tensor([0])\n",
      "tensor([4])\n",
      "tensor([2])\n",
      "tensor([3])\n",
      "tensor([1])\n",
      "tensor([0])\n",
      "tensor([0])\n",
      "tensor([0])\n",
      "tensor([1])\n",
      "tensor([2])\n",
      "tensor([0])\n",
      "tensor([1])\n",
      "tensor([3])\n",
      "tensor([0])\n",
      "tensor([3])\n",
      "tensor([4])\n"
     ]
    },
    {
     "name": "stderr",
     "output_type": "stream",
     "text": [
      "Iterating training graphs:  56%|█████▌    | 5067/9024 [01:31<01:03, 62.48batch/s]"
     ]
    },
    {
     "name": "stdout",
     "output_type": "stream",
     "text": [
      "tensor([1])\n",
      "tensor([2])\n",
      "tensor([3])\n",
      "tensor([3])\n",
      "tensor([0])\n",
      "tensor([2])\n",
      "tensor([1])\n",
      "tensor([2])\n",
      "tensor([3])\n",
      "tensor([0])\n"
     ]
    },
    {
     "name": "stderr",
     "output_type": "stream",
     "text": [
      "Iterating training graphs:  56%|█████▋    | 5083/9024 [01:31<00:57, 68.24batch/s]"
     ]
    },
    {
     "name": "stdout",
     "output_type": "stream",
     "text": [
      "tensor([1])\n",
      "tensor([2])\n",
      "tensor([0])\n",
      "tensor([2])\n",
      "tensor([2])\n",
      "tensor([1])\n",
      "tensor([0])\n",
      "tensor([1])\n",
      "tensor([5])\n",
      "tensor([2])\n",
      "tensor([1])\n",
      "tensor([2])\n",
      "tensor([4])\n",
      "tensor([0])\n",
      "tensor([3])\n"
     ]
    },
    {
     "name": "stderr",
     "output_type": "stream",
     "text": [
      "Iterating training graphs:  56%|█████▋    | 5091/9024 [01:31<01:08, 57.41batch/s]"
     ]
    },
    {
     "name": "stdout",
     "output_type": "stream",
     "text": [
      "tensor([5])\n",
      "tensor([2])\n",
      "tensor([2])\n",
      "tensor([3])\n",
      "tensor([4])\n",
      "tensor([2])\n",
      "tensor([5])\n",
      "tensor([2])\n",
      "tensor([2])\n",
      "tensor([3])\n",
      "tensor([2])\n",
      "tensor([0])\n",
      "tensor([0])\n",
      "tensor([3])\n",
      "tensor([4])\n"
     ]
    },
    {
     "name": "stderr",
     "output_type": "stream",
     "text": [
      "Iterating training graphs:  57%|█████▋    | 5110/9024 [01:32<00:53, 73.68batch/s]"
     ]
    },
    {
     "name": "stdout",
     "output_type": "stream",
     "text": [
      "tensor([3])\n",
      "tensor([1])\n",
      "tensor([4])\n",
      "tensor([2])\n",
      "tensor([5])\n",
      "tensor([2])\n",
      "tensor([3])\n",
      "tensor([0])\n",
      "tensor([3])\n",
      "tensor([1])\n",
      "tensor([0])\n",
      "tensor([1])\n",
      "tensor([3])\n",
      "tensor([0])\n",
      "tensor([2])\n",
      "tensor([0])\n",
      "tensor([1])\n",
      "tensor([2])\n",
      "tensor([2])\n",
      "tensor([2])\n",
      "tensor([1])\n",
      "tensor([0])\n",
      "tensor([2])\n",
      "tensor([4])\n",
      "tensor([3])\n"
     ]
    },
    {
     "name": "stderr",
     "output_type": "stream",
     "text": [
      "Iterating training graphs:  57%|█████▋    | 5134/9024 [01:32<00:43, 88.60batch/s]"
     ]
    },
    {
     "name": "stdout",
     "output_type": "stream",
     "text": [
      "tensor([2])\n",
      "tensor([2])\n",
      "tensor([1])\n",
      "tensor([4])\n",
      "tensor([2])\n",
      "tensor([3])\n",
      "tensor([2])\n",
      "tensor([4])\n",
      "tensor([3])\n",
      "tensor([4])\n",
      "tensor([4])\n",
      "tensor([2])\n",
      "tensor([1])\n",
      "tensor([3])\n",
      "tensor([4])\n",
      "tensor([2])\n",
      "tensor([2])\n",
      "tensor([4])\n",
      "tensor([2])\n",
      "tensor([3])\n",
      "tensor([4])\n",
      "tensor([2])\n",
      "tensor([3])\n",
      "tensor([2])\n",
      "tensor([3])\n",
      "tensor([1])\n",
      "tensor([2])\n",
      "tensor([3])\n",
      "tensor([2])\n",
      "tensor([2])\n",
      "tensor([4])\n",
      "tensor([1])\n",
      "tensor([3])\n"
     ]
    },
    {
     "name": "stderr",
     "output_type": "stream",
     "text": [
      "Iterating training graphs:  57%|█████▋    | 5159/9024 [01:32<00:34, 113.20batch/s]"
     ]
    },
    {
     "name": "stdout",
     "output_type": "stream",
     "text": [
      "tensor([1])\n",
      "tensor([0])\n",
      "tensor([2])\n",
      "tensor([0])\n",
      "tensor([2])\n",
      "tensor([4])\n",
      "tensor([5])\n",
      "tensor([5])\n",
      "tensor([2])\n",
      "tensor([2])\n",
      "tensor([0])\n",
      "tensor([2])\n",
      "tensor([4])\n",
      "tensor([3])\n"
     ]
    },
    {
     "name": "stderr",
     "output_type": "stream",
     "text": [
      "Iterating training graphs:  57%|█████▋    | 5181/9024 [01:32<00:42, 90.86batch/s] "
     ]
    },
    {
     "name": "stdout",
     "output_type": "stream",
     "text": [
      "tensor([2])\n",
      "tensor([1])\n",
      "tensor([2])\n",
      "tensor([3])\n",
      "tensor([4])\n",
      "tensor([1])\n",
      "tensor([4])\n",
      "tensor([1])\n",
      "tensor([4])\n",
      "tensor([3])\n",
      "tensor([3])\n",
      "tensor([4])\n",
      "tensor([3])\n",
      "tensor([5])\n",
      "tensor([1])\n",
      "tensor([5])\n"
     ]
    },
    {
     "name": "stderr",
     "output_type": "stream",
     "text": [
      "Iterating training graphs:  58%|█████▊    | 5191/9024 [01:32<00:49, 77.58batch/s]"
     ]
    },
    {
     "name": "stdout",
     "output_type": "stream",
     "text": [
      "tensor([3])\n",
      "tensor([5])\n",
      "tensor([0])\n",
      "tensor([2])\n",
      "tensor([4])\n",
      "tensor([2])\n",
      "tensor([1])\n",
      "tensor([1])\n",
      "tensor([2])\n",
      "tensor([2])\n",
      "tensor([0])\n",
      "tensor([3])\n",
      "tensor([2])\n",
      "tensor([2])\n",
      "tensor([3])\n",
      "tensor([1])\n",
      "tensor([1])\n",
      "tensor([4])\n",
      "tensor([0])\n"
     ]
    },
    {
     "name": "stderr",
     "output_type": "stream",
     "text": [
      "Iterating training graphs:  58%|█████▊    | 5216/9024 [01:33<00:45, 84.18batch/s]"
     ]
    },
    {
     "name": "stdout",
     "output_type": "stream",
     "text": [
      "tensor([1])\n",
      "tensor([3])\n",
      "tensor([3])\n",
      "tensor([0])\n",
      "tensor([3])\n",
      "tensor([1])\n",
      "tensor([5])\n",
      "tensor([2])\n",
      "tensor([1])\n",
      "tensor([2])\n",
      "tensor([4])\n"
     ]
    },
    {
     "name": "stderr",
     "output_type": "stream",
     "text": [
      "Iterating training graphs:  58%|█████▊    | 5225/9024 [01:33<00:51, 73.75batch/s]"
     ]
    },
    {
     "name": "stdout",
     "output_type": "stream",
     "text": [
      "tensor([0])\n",
      "tensor([2])\n",
      "tensor([0])\n",
      "tensor([2])\n",
      "tensor([5])\n",
      "tensor([1])\n",
      "tensor([0])\n",
      "tensor([1])\n",
      "tensor([4])\n",
      "tensor([1])\n",
      "tensor([2])\n",
      "tensor([4])\n"
     ]
    },
    {
     "name": "stderr",
     "output_type": "stream",
     "text": [
      "Iterating training graphs:  58%|█████▊    | 5233/9024 [01:33<01:00, 62.27batch/s]"
     ]
    },
    {
     "name": "stdout",
     "output_type": "stream",
     "text": [
      "tensor([3])\n",
      "tensor([0])\n",
      "tensor([5])\n",
      "tensor([2])\n",
      "tensor([1])\n",
      "tensor([2])\n",
      "tensor([2])\n",
      "tensor([2])\n",
      "tensor([1])\n",
      "tensor([5])\n",
      "tensor([3])\n"
     ]
    },
    {
     "name": "stderr",
     "output_type": "stream",
     "text": [
      "Iterating training graphs:  58%|█████▊    | 5246/9024 [01:33<01:09, 54.24batch/s]"
     ]
    },
    {
     "name": "stdout",
     "output_type": "stream",
     "text": [
      "tensor([4])\n",
      "tensor([2])\n",
      "tensor([0])\n",
      "tensor([1])\n",
      "tensor([3])\n",
      "tensor([4])\n",
      "tensor([5])\n",
      "tensor([0])\n",
      "tensor([3])\n",
      "tensor([2])\n",
      "tensor([2])\n",
      "tensor([1])\n",
      "tensor([2])\n",
      "tensor([2])\n",
      "tensor([2])\n",
      "tensor([5])\n",
      "tensor([0])\n"
     ]
    },
    {
     "name": "stderr",
     "output_type": "stream",
     "text": [
      "Iterating training graphs:  58%|█████▊    | 5267/9024 [01:34<00:53, 70.67batch/s]"
     ]
    },
    {
     "name": "stdout",
     "output_type": "stream",
     "text": [
      "tensor([4])\n",
      "tensor([5])\n",
      "tensor([4])\n",
      "tensor([5])\n",
      "tensor([1])\n",
      "tensor([3])\n",
      "tensor([0])\n",
      "tensor([0])\n",
      "tensor([5])\n",
      "tensor([4])\n",
      "tensor([3])\n",
      "tensor([4])\n",
      "tensor([2])\n",
      "tensor([1])\n",
      "tensor([4])\n"
     ]
    },
    {
     "name": "stderr",
     "output_type": "stream",
     "text": [
      "Iterating training graphs:  59%|█████▊    | 5284/9024 [01:34<00:57, 65.42batch/s]"
     ]
    },
    {
     "name": "stdout",
     "output_type": "stream",
     "text": [
      "tensor([0])\n",
      "tensor([2])\n",
      "tensor([4])\n",
      "tensor([0])\n",
      "tensor([1])\n",
      "tensor([3])\n",
      "tensor([2])\n",
      "tensor([2])\n",
      "tensor([0])\n",
      "tensor([2])\n",
      "tensor([5])\n",
      "tensor([0])\n",
      "tensor([5])\n",
      "tensor([2])\n",
      "tensor([3])\n"
     ]
    },
    {
     "name": "stderr",
     "output_type": "stream",
     "text": [
      "Iterating training graphs:  59%|█████▊    | 5298/9024 [01:34<00:58, 63.74batch/s]"
     ]
    },
    {
     "name": "stdout",
     "output_type": "stream",
     "text": [
      "tensor([4])\n",
      "tensor([1])\n",
      "tensor([3])\n",
      "tensor([4])\n",
      "tensor([1])\n",
      "tensor([5])\n",
      "tensor([4])\n",
      "tensor([3])\n",
      "tensor([4])\n",
      "tensor([3])\n",
      "tensor([1])\n",
      "tensor([3])\n",
      "tensor([2])\n",
      "tensor([2])\n",
      "tensor([0])\n",
      "tensor([5])\n",
      "tensor([4])\n"
     ]
    },
    {
     "name": "stderr",
     "output_type": "stream",
     "text": [
      "Iterating training graphs:  59%|█████▉    | 5315/9024 [01:34<01:00, 61.19batch/s]"
     ]
    },
    {
     "name": "stdout",
     "output_type": "stream",
     "text": [
      "tensor([3])\n",
      "tensor([0])\n",
      "tensor([2])\n",
      "tensor([3])\n",
      "tensor([1])\n",
      "tensor([2])\n",
      "tensor([2])\n",
      "tensor([2])\n",
      "tensor([4])\n",
      "tensor([4])\n",
      "tensor([1])\n",
      "tensor([0])\n",
      "tensor([3])\n",
      "tensor([0])\n",
      "tensor([4])\n"
     ]
    },
    {
     "name": "stderr",
     "output_type": "stream",
     "text": [
      "Iterating training graphs:  59%|█████▉    | 5322/9024 [01:35<01:11, 51.77batch/s]"
     ]
    },
    {
     "name": "stdout",
     "output_type": "stream",
     "text": [
      "tensor([2])\n",
      "tensor([3])\n",
      "tensor([5])\n",
      "tensor([0])\n",
      "tensor([0])\n",
      "tensor([1])\n"
     ]
    },
    {
     "name": "stderr",
     "output_type": "stream",
     "text": [
      "Iterating training graphs:  59%|█████▉    | 5337/9024 [01:35<01:12, 51.14batch/s]"
     ]
    },
    {
     "name": "stdout",
     "output_type": "stream",
     "text": [
      "tensor([4])\n",
      "tensor([1])\n",
      "tensor([1])\n",
      "tensor([4])\n",
      "tensor([2])\n",
      "tensor([2])\n",
      "tensor([3])\n",
      "tensor([1])\n",
      "tensor([0])\n",
      "tensor([2])\n",
      "tensor([4])\n",
      "tensor([3])\n",
      "tensor([3])\n",
      "tensor([2])\n"
     ]
    },
    {
     "name": "stderr",
     "output_type": "stream",
     "text": [
      "Iterating training graphs:  59%|█████▉    | 5357/9024 [01:35<00:53, 68.19batch/s]"
     ]
    },
    {
     "name": "stdout",
     "output_type": "stream",
     "text": [
      "tensor([5])\n",
      "tensor([1])\n",
      "tensor([3])\n",
      "tensor([2])\n",
      "tensor([0])\n",
      "tensor([2])\n",
      "tensor([2])\n",
      "tensor([2])\n",
      "tensor([3])\n",
      "tensor([2])\n",
      "tensor([4])\n",
      "tensor([1])\n",
      "tensor([2])\n",
      "tensor([0])\n",
      "tensor([3])\n",
      "tensor([4])\n",
      "tensor([3])\n",
      "tensor([5])\n",
      "tensor([4])\n",
      "tensor([5])\n"
     ]
    },
    {
     "name": "stderr",
     "output_type": "stream",
     "text": [
      "Iterating training graphs:  59%|█████▉    | 5366/9024 [01:35<00:49, 73.49batch/s]"
     ]
    },
    {
     "name": "stdout",
     "output_type": "stream",
     "text": [
      "tensor([2])\n",
      "tensor([3])\n",
      "tensor([2])\n",
      "tensor([3])\n",
      "tensor([1])\n",
      "tensor([3])\n",
      "tensor([2])\n",
      "tensor([0])\n",
      "tensor([1])\n",
      "tensor([3])\n",
      "tensor([2])\n",
      "tensor([4])\n",
      "tensor([4])\n"
     ]
    },
    {
     "name": "stderr",
     "output_type": "stream",
     "text": [
      "Iterating training graphs:  60%|█████▉    | 5382/9024 [01:36<00:59, 60.81batch/s]"
     ]
    },
    {
     "name": "stdout",
     "output_type": "stream",
     "text": [
      "tensor([0])\n",
      "tensor([1])\n",
      "tensor([1])\n",
      "tensor([2])\n",
      "tensor([4])\n",
      "tensor([1])\n",
      "tensor([2])\n",
      "tensor([1])\n",
      "tensor([5])\n",
      "tensor([2])\n",
      "tensor([5])\n",
      "tensor([0])\n"
     ]
    },
    {
     "name": "stderr",
     "output_type": "stream",
     "text": [
      "Iterating training graphs:  60%|█████▉    | 5389/9024 [01:36<00:59, 60.77batch/s]"
     ]
    },
    {
     "name": "stdout",
     "output_type": "stream",
     "text": [
      "tensor([4])\n",
      "tensor([2])\n",
      "tensor([2])\n",
      "tensor([1])\n",
      "tensor([3])\n",
      "tensor([2])\n",
      "tensor([2])\n",
      "tensor([2])\n",
      "tensor([2])\n",
      "tensor([1])\n",
      "tensor([1])\n",
      "tensor([4])\n"
     ]
    },
    {
     "name": "stderr",
     "output_type": "stream",
     "text": [
      "Iterating training graphs:  60%|█████▉    | 5403/9024 [01:36<01:07, 53.63batch/s]"
     ]
    },
    {
     "name": "stdout",
     "output_type": "stream",
     "text": [
      "tensor([5])\n",
      "tensor([2])\n",
      "tensor([3])\n",
      "tensor([0])\n",
      "tensor([3])\n",
      "tensor([4])\n",
      "tensor([3])\n",
      "tensor([0])\n",
      "tensor([2])\n",
      "tensor([1])\n",
      "tensor([3])\n",
      "tensor([3])\n"
     ]
    },
    {
     "name": "stderr",
     "output_type": "stream",
     "text": [
      "Iterating training graphs:  60%|██████    | 5417/9024 [01:36<01:00, 59.44batch/s]"
     ]
    },
    {
     "name": "stdout",
     "output_type": "stream",
     "text": [
      "tensor([2])\n",
      "tensor([1])\n",
      "tensor([2])\n",
      "tensor([4])\n",
      "tensor([0])\n",
      "tensor([0])\n",
      "tensor([3])\n",
      "tensor([2])\n",
      "tensor([2])\n",
      "tensor([2])\n",
      "tensor([3])\n",
      "tensor([3])\n",
      "tensor([4])\n",
      "tensor([4])\n"
     ]
    },
    {
     "name": "stderr",
     "output_type": "stream",
     "text": [
      "Iterating training graphs:  60%|██████    | 5424/9024 [01:36<00:58, 61.74batch/s]"
     ]
    },
    {
     "name": "stdout",
     "output_type": "stream",
     "text": [
      "tensor([1])\n",
      "tensor([1])\n",
      "tensor([2])\n",
      "tensor([2])\n",
      "tensor([3])\n",
      "tensor([4])\n",
      "tensor([1])\n",
      "tensor([2])\n",
      "tensor([1])\n"
     ]
    },
    {
     "name": "stderr",
     "output_type": "stream",
     "text": [
      "Iterating training graphs:  60%|██████    | 5437/9024 [01:37<01:07, 53.32batch/s]"
     ]
    },
    {
     "name": "stdout",
     "output_type": "stream",
     "text": [
      "tensor([2])\n",
      "tensor([3])\n",
      "tensor([2])\n",
      "tensor([2])\n",
      "tensor([1])\n",
      "tensor([2])\n",
      "tensor([2])\n",
      "tensor([0])\n",
      "tensor([3])\n",
      "tensor([4])\n",
      "tensor([3])\n",
      "tensor([0])\n"
     ]
    },
    {
     "name": "stderr",
     "output_type": "stream",
     "text": [
      "Iterating training graphs:  60%|██████    | 5450/9024 [01:37<01:01, 57.95batch/s]"
     ]
    },
    {
     "name": "stdout",
     "output_type": "stream",
     "text": [
      "tensor([3])\n",
      "tensor([2])\n",
      "tensor([3])\n",
      "tensor([5])\n",
      "tensor([0])\n",
      "tensor([4])\n",
      "tensor([2])\n",
      "tensor([1])\n",
      "tensor([0])\n",
      "tensor([0])\n",
      "tensor([2])\n",
      "tensor([2])\n",
      "tensor([4])\n",
      "tensor([2])\n",
      "tensor([2])\n"
     ]
    },
    {
     "name": "stderr",
     "output_type": "stream",
     "text": [
      "Iterating training graphs:  61%|██████    | 5468/9024 [01:37<00:57, 61.56batch/s]"
     ]
    },
    {
     "name": "stdout",
     "output_type": "stream",
     "text": [
      "tensor([2])\n",
      "tensor([1])\n",
      "tensor([2])\n",
      "tensor([1])\n",
      "tensor([2])\n",
      "tensor([2])\n",
      "tensor([5])\n",
      "tensor([0])\n",
      "tensor([2])\n",
      "tensor([2])\n",
      "tensor([5])\n",
      "tensor([1])\n",
      "tensor([0])\n",
      "tensor([1])\n",
      "tensor([1])\n"
     ]
    },
    {
     "name": "stderr",
     "output_type": "stream",
     "text": [
      "Iterating training graphs:  61%|██████    | 5493/9024 [01:37<00:42, 83.56batch/s]"
     ]
    },
    {
     "name": "stdout",
     "output_type": "stream",
     "text": [
      "tensor([0])\n",
      "tensor([2])\n",
      "tensor([5])\n",
      "tensor([2])\n",
      "tensor([2])\n",
      "tensor([2])\n",
      "tensor([4])\n",
      "tensor([2])\n",
      "tensor([3])\n",
      "tensor([3])\n",
      "tensor([4])\n",
      "tensor([4])\n",
      "tensor([4])\n",
      "tensor([1])\n",
      "tensor([2])\n",
      "tensor([3])\n",
      "tensor([2])\n",
      "tensor([2])\n",
      "tensor([1])\n",
      "tensor([2])\n",
      "tensor([2])\n",
      "tensor([4])\n",
      "tensor([3])\n",
      "tensor([2])\n"
     ]
    },
    {
     "name": "stderr",
     "output_type": "stream",
     "text": [
      "Iterating training graphs:  61%|██████    | 5502/9024 [01:37<00:52, 67.71batch/s]"
     ]
    },
    {
     "name": "stdout",
     "output_type": "stream",
     "text": [
      "tensor([5])\n",
      "tensor([1])\n",
      "tensor([1])\n",
      "tensor([2])\n",
      "tensor([1])\n",
      "tensor([2])\n",
      "tensor([4])\n",
      "tensor([5])\n",
      "tensor([3])\n",
      "tensor([3])\n",
      "tensor([1])\n"
     ]
    },
    {
     "name": "stderr",
     "output_type": "stream",
     "text": [
      "Iterating training graphs:  61%|██████    | 5525/9024 [01:38<00:45, 76.14batch/s]"
     ]
    },
    {
     "name": "stdout",
     "output_type": "stream",
     "text": [
      "tensor([2])\n",
      "tensor([1])\n",
      "tensor([2])\n",
      "tensor([1])\n",
      "tensor([2])\n",
      "tensor([4])\n",
      "tensor([1])\n",
      "tensor([2])\n",
      "tensor([5])\n",
      "tensor([4])\n",
      "tensor([2])\n",
      "tensor([4])\n",
      "tensor([1])\n",
      "tensor([0])\n",
      "tensor([4])\n",
      "tensor([0])\n",
      "tensor([1])\n",
      "tensor([4])\n",
      "tensor([2])\n",
      "tensor([1])\n",
      "tensor([2])\n",
      "tensor([0])\n",
      "tensor([3])\n"
     ]
    },
    {
     "name": "stderr",
     "output_type": "stream",
     "text": [
      "Iterating training graphs:  61%|██████▏   | 5541/9024 [01:38<00:46, 74.97batch/s]"
     ]
    },
    {
     "name": "stdout",
     "output_type": "stream",
     "text": [
      "tensor([3])\n",
      "tensor([2])\n",
      "tensor([2])\n",
      "tensor([2])\n",
      "tensor([2])\n",
      "tensor([2])\n",
      "tensor([0])\n",
      "tensor([3])\n",
      "tensor([3])\n",
      "tensor([3])\n",
      "tensor([4])\n",
      "tensor([3])\n",
      "tensor([2])\n",
      "tensor([0])\n"
     ]
    },
    {
     "name": "stderr",
     "output_type": "stream",
     "text": [
      "Iterating training graphs:  62%|██████▏   | 5558/9024 [01:38<00:43, 78.80batch/s]"
     ]
    },
    {
     "name": "stdout",
     "output_type": "stream",
     "text": [
      "tensor([2])\n",
      "tensor([1])\n",
      "tensor([0])\n",
      "tensor([3])\n",
      "tensor([3])\n",
      "tensor([4])\n",
      "tensor([2])\n",
      "tensor([1])\n",
      "tensor([1])\n",
      "tensor([2])\n",
      "tensor([5])\n",
      "tensor([1])\n",
      "tensor([2])\n",
      "tensor([1])\n",
      "tensor([2])\n",
      "tensor([3])\n",
      "tensor([2])\n",
      "tensor([2])\n",
      "tensor([1])\n",
      "tensor([1])\n"
     ]
    },
    {
     "name": "stderr",
     "output_type": "stream",
     "text": [
      "Iterating training graphs:  62%|██████▏   | 5577/9024 [01:38<00:43, 79.67batch/s]"
     ]
    },
    {
     "name": "stdout",
     "output_type": "stream",
     "text": [
      "tensor([1])\n",
      "tensor([5])\n",
      "tensor([1])\n",
      "tensor([5])\n",
      "tensor([2])\n",
      "tensor([3])\n",
      "tensor([2])\n",
      "tensor([4])\n",
      "tensor([4])\n",
      "tensor([0])\n",
      "tensor([3])\n",
      "tensor([2])\n",
      "tensor([0])\n",
      "tensor([4])\n",
      "tensor([4])\n",
      "tensor([4])\n"
     ]
    },
    {
     "name": "stderr",
     "output_type": "stream",
     "text": [
      "Iterating training graphs:  62%|██████▏   | 5586/9024 [01:39<00:49, 70.15batch/s]"
     ]
    },
    {
     "name": "stdout",
     "output_type": "stream",
     "text": [
      "tensor([4])\n",
      "tensor([2])\n",
      "tensor([2])\n",
      "tensor([2])\n",
      "tensor([5])\n",
      "tensor([4])\n",
      "tensor([1])\n",
      "tensor([2])\n",
      "tensor([2])\n"
     ]
    },
    {
     "name": "stderr",
     "output_type": "stream",
     "text": [
      "Iterating training graphs:  62%|██████▏   | 5594/9024 [01:39<00:59, 57.88batch/s]"
     ]
    },
    {
     "name": "stdout",
     "output_type": "stream",
     "text": [
      "tensor([4])\n",
      "tensor([2])\n",
      "tensor([3])\n",
      "tensor([3])\n",
      "tensor([1])\n",
      "tensor([2])\n",
      "tensor([2])\n",
      "tensor([2])\n",
      "tensor([2])\n",
      "tensor([5])\n",
      "tensor([3])\n"
     ]
    },
    {
     "name": "stderr",
     "output_type": "stream",
     "text": [
      "Iterating training graphs:  62%|██████▏   | 5609/9024 [01:39<00:53, 63.64batch/s]"
     ]
    },
    {
     "name": "stdout",
     "output_type": "stream",
     "text": [
      "tensor([5])\n",
      "tensor([2])\n",
      "tensor([1])\n",
      "tensor([0])\n",
      "tensor([2])\n",
      "tensor([3])\n",
      "tensor([2])\n",
      "tensor([2])\n",
      "tensor([2])\n",
      "tensor([4])\n",
      "tensor([3])\n",
      "tensor([2])\n"
     ]
    },
    {
     "name": "stderr",
     "output_type": "stream",
     "text": [
      "Iterating training graphs:  62%|██████▏   | 5622/9024 [01:39<01:03, 53.44batch/s]"
     ]
    },
    {
     "name": "stdout",
     "output_type": "stream",
     "text": [
      "tensor([4])\n",
      "tensor([2])\n",
      "tensor([4])\n",
      "tensor([5])\n",
      "tensor([2])\n",
      "tensor([2])\n",
      "tensor([4])\n",
      "tensor([0])\n",
      "tensor([5])\n",
      "tensor([0])\n",
      "tensor([2])\n"
     ]
    },
    {
     "name": "stderr",
     "output_type": "stream",
     "text": [
      "Iterating training graphs:  62%|██████▏   | 5630/9024 [01:39<00:57, 59.10batch/s]"
     ]
    },
    {
     "name": "stdout",
     "output_type": "stream",
     "text": [
      "tensor([2])\n",
      "tensor([2])\n",
      "tensor([1])\n",
      "tensor([2])\n",
      "tensor([3])\n",
      "tensor([3])\n",
      "tensor([5])\n",
      "tensor([4])\n",
      "tensor([2])\n",
      "tensor([0])\n",
      "tensor([4])\n"
     ]
    },
    {
     "name": "stderr",
     "output_type": "stream",
     "text": [
      "Iterating training graphs:  63%|██████▎   | 5648/9024 [01:40<00:52, 64.11batch/s]"
     ]
    },
    {
     "name": "stdout",
     "output_type": "stream",
     "text": [
      "tensor([2])\n",
      "tensor([1])\n",
      "tensor([1])\n",
      "tensor([4])\n",
      "tensor([4])\n",
      "tensor([1])\n",
      "tensor([4])\n",
      "tensor([3])\n",
      "tensor([0])\n",
      "tensor([5])\n",
      "tensor([2])\n",
      "tensor([0])\n",
      "tensor([2])\n",
      "tensor([0])\n",
      "tensor([1])\n",
      "tensor([4])\n"
     ]
    },
    {
     "name": "stderr",
     "output_type": "stream",
     "text": [
      "Iterating training graphs:  63%|██████▎   | 5667/9024 [01:40<00:49, 67.92batch/s]"
     ]
    },
    {
     "name": "stdout",
     "output_type": "stream",
     "text": [
      "tensor([0])\n",
      "tensor([3])\n",
      "tensor([2])\n",
      "tensor([3])\n",
      "tensor([2])\n",
      "tensor([3])\n",
      "tensor([1])\n",
      "tensor([3])\n",
      "tensor([4])\n",
      "tensor([5])\n",
      "tensor([4])\n",
      "tensor([2])\n",
      "tensor([5])\n",
      "tensor([1])\n",
      "tensor([4])\n",
      "tensor([3])\n",
      "tensor([2])\n",
      "tensor([4])\n"
     ]
    },
    {
     "name": "stderr",
     "output_type": "stream",
     "text": [
      "Iterating training graphs:  63%|██████▎   | 5687/9024 [01:40<00:40, 82.81batch/s]"
     ]
    },
    {
     "name": "stdout",
     "output_type": "stream",
     "text": [
      "tensor([3])\n",
      "tensor([3])\n",
      "tensor([4])\n",
      "tensor([1])\n",
      "tensor([1])\n",
      "tensor([4])\n",
      "tensor([4])\n",
      "tensor([2])\n",
      "tensor([1])\n",
      "tensor([4])\n",
      "tensor([4])\n",
      "tensor([2])\n",
      "tensor([1])\n",
      "tensor([3])\n",
      "tensor([1])\n",
      "tensor([4])\n",
      "tensor([3])\n",
      "tensor([2])\n",
      "tensor([4])\n",
      "tensor([2])\n",
      "tensor([5])\n"
     ]
    },
    {
     "name": "stderr",
     "output_type": "stream",
     "text": [
      "Iterating training graphs:  63%|██████▎   | 5708/9024 [01:40<00:36, 90.34batch/s]"
     ]
    },
    {
     "name": "stdout",
     "output_type": "stream",
     "text": [
      "tensor([0])\n",
      "tensor([2])\n",
      "tensor([4])\n",
      "tensor([1])\n",
      "tensor([2])\n",
      "tensor([3])\n",
      "tensor([0])\n",
      "tensor([0])\n",
      "tensor([2])\n",
      "tensor([3])\n",
      "tensor([4])\n",
      "tensor([4])\n",
      "tensor([2])\n",
      "tensor([2])\n",
      "tensor([1])\n",
      "tensor([2])\n",
      "tensor([0])\n",
      "tensor([3])\n",
      "tensor([2])\n",
      "tensor([4])\n"
     ]
    },
    {
     "name": "stderr",
     "output_type": "stream",
     "text": [
      "Iterating training graphs:  63%|██████▎   | 5718/9024 [01:41<00:51, 64.21batch/s]"
     ]
    },
    {
     "name": "stdout",
     "output_type": "stream",
     "text": [
      "tensor([2])\n",
      "tensor([5])\n",
      "tensor([4])\n",
      "tensor([1])\n",
      "tensor([3])\n",
      "tensor([1])\n",
      "tensor([4])\n",
      "tensor([3])\n",
      "tensor([4])\n",
      "tensor([1])\n",
      "tensor([3])\n"
     ]
    },
    {
     "name": "stderr",
     "output_type": "stream",
     "text": [
      "Iterating training graphs:  64%|██████▎   | 5736/9024 [01:41<00:45, 72.26batch/s]"
     ]
    },
    {
     "name": "stdout",
     "output_type": "stream",
     "text": [
      "tensor([2])\n",
      "tensor([3])\n",
      "tensor([2])\n",
      "tensor([2])\n",
      "tensor([2])\n",
      "tensor([0])\n",
      "tensor([4])\n",
      "tensor([0])\n",
      "tensor([2])\n",
      "tensor([2])\n",
      "tensor([2])\n",
      "tensor([2])\n",
      "tensor([5])\n",
      "tensor([3])\n",
      "tensor([4])\n",
      "tensor([2])\n"
     ]
    },
    {
     "name": "stderr",
     "output_type": "stream",
     "text": [
      "Iterating training graphs:  64%|██████▍   | 5754/9024 [01:41<00:47, 68.31batch/s]"
     ]
    },
    {
     "name": "stdout",
     "output_type": "stream",
     "text": [
      "tensor([1])\n",
      "tensor([4])\n",
      "tensor([1])\n",
      "tensor([3])\n",
      "tensor([3])\n",
      "tensor([2])\n",
      "tensor([2])\n",
      "tensor([2])\n",
      "tensor([2])\n",
      "tensor([3])\n",
      "tensor([1])\n",
      "tensor([1])\n",
      "tensor([4])\n",
      "tensor([3])\n",
      "tensor([2])\n",
      "tensor([2])\n",
      "tensor([2])\n",
      "tensor([3])\n"
     ]
    },
    {
     "name": "stderr",
     "output_type": "stream",
     "text": [
      "Iterating training graphs:  64%|██████▍   | 5774/9024 [01:41<00:39, 82.15batch/s]"
     ]
    },
    {
     "name": "stdout",
     "output_type": "stream",
     "text": [
      "tensor([2])\n",
      "tensor([4])\n",
      "tensor([4])\n",
      "tensor([2])\n",
      "tensor([2])\n",
      "tensor([1])\n",
      "tensor([2])\n",
      "tensor([2])\n",
      "tensor([3])\n",
      "tensor([2])\n",
      "tensor([4])\n",
      "tensor([0])\n",
      "tensor([4])\n",
      "tensor([2])\n",
      "tensor([2])\n",
      "tensor([2])\n",
      "tensor([3])\n",
      "tensor([4])\n",
      "tensor([1])\n",
      "tensor([2])\n",
      "tensor([4])\n",
      "tensor([2])\n",
      "tensor([3])\n"
     ]
    },
    {
     "name": "stderr",
     "output_type": "stream",
     "text": [
      "Iterating training graphs:  64%|██████▍   | 5783/9024 [01:41<00:40, 79.77batch/s]"
     ]
    },
    {
     "name": "stdout",
     "output_type": "stream",
     "text": [
      "tensor([2])\n",
      "tensor([2])\n",
      "tensor([3])\n",
      "tensor([2])\n",
      "tensor([2])\n",
      "tensor([3])\n",
      "tensor([0])\n",
      "tensor([2])\n",
      "tensor([3])\n",
      "tensor([2])\n",
      "tensor([3])\n",
      "tensor([2])\n",
      "tensor([2])\n",
      "tensor([1])\n"
     ]
    },
    {
     "name": "stderr",
     "output_type": "stream",
     "text": [
      "Iterating training graphs:  64%|██████▍   | 5801/9024 [01:42<00:47, 67.18batch/s]"
     ]
    },
    {
     "name": "stdout",
     "output_type": "stream",
     "text": [
      "tensor([3])\n",
      "tensor([1])\n",
      "tensor([4])\n",
      "tensor([2])\n",
      "tensor([3])\n",
      "tensor([2])\n",
      "tensor([5])\n",
      "tensor([4])\n",
      "tensor([2])\n",
      "tensor([5])\n",
      "tensor([4])\n",
      "tensor([3])\n"
     ]
    },
    {
     "name": "stderr",
     "output_type": "stream",
     "text": [
      "Iterating training graphs:  64%|██████▍   | 5809/9024 [01:42<00:47, 67.62batch/s]"
     ]
    },
    {
     "name": "stdout",
     "output_type": "stream",
     "text": [
      "tensor([2])\n",
      "tensor([5])\n",
      "tensor([1])\n",
      "tensor([2])\n",
      "tensor([3])\n",
      "tensor([3])\n",
      "tensor([4])\n",
      "tensor([0])\n",
      "tensor([0])\n",
      "tensor([2])\n",
      "tensor([1])\n"
     ]
    },
    {
     "name": "stderr",
     "output_type": "stream",
     "text": [
      "Iterating training graphs:  65%|██████▍   | 5824/9024 [01:42<00:52, 61.15batch/s]"
     ]
    },
    {
     "name": "stdout",
     "output_type": "stream",
     "text": [
      "tensor([4])\n",
      "tensor([5])\n",
      "tensor([1])\n",
      "tensor([0])\n",
      "tensor([0])\n",
      "tensor([2])\n",
      "tensor([2])\n",
      "tensor([2])\n",
      "tensor([3])\n",
      "tensor([2])\n",
      "tensor([2])\n",
      "tensor([0])\n",
      "tensor([1])\n",
      "tensor([1])\n"
     ]
    },
    {
     "name": "stderr",
     "output_type": "stream",
     "text": [
      "Iterating training graphs:  65%|██████▍   | 5831/9024 [01:42<00:50, 62.98batch/s]"
     ]
    },
    {
     "name": "stdout",
     "output_type": "stream",
     "text": [
      "tensor([3])\n",
      "tensor([4])\n",
      "tensor([2])\n",
      "tensor([3])\n",
      "tensor([2])\n",
      "tensor([2])\n",
      "tensor([2])\n",
      "tensor([5])\n",
      "tensor([3])\n"
     ]
    },
    {
     "name": "stderr",
     "output_type": "stream",
     "text": [
      "Iterating training graphs:  65%|██████▍   | 5845/9024 [01:42<00:56, 56.29batch/s]"
     ]
    },
    {
     "name": "stdout",
     "output_type": "stream",
     "text": [
      "tensor([1])\n",
      "tensor([3])\n",
      "tensor([4])\n",
      "tensor([2])\n",
      "tensor([2])\n",
      "tensor([4])\n",
      "tensor([2])\n",
      "tensor([2])\n",
      "tensor([1])\n",
      "tensor([0])\n",
      "tensor([5])\n"
     ]
    },
    {
     "name": "stderr",
     "output_type": "stream",
     "text": [
      "Iterating training graphs:  65%|██████▍   | 5862/9024 [01:43<00:45, 68.86batch/s]"
     ]
    },
    {
     "name": "stdout",
     "output_type": "stream",
     "text": [
      "tensor([2])\n",
      "tensor([2])\n",
      "tensor([3])\n",
      "tensor([5])\n",
      "tensor([2])\n",
      "tensor([4])\n",
      "tensor([3])\n",
      "tensor([2])\n",
      "tensor([4])\n",
      "tensor([4])\n",
      "tensor([1])\n",
      "tensor([1])\n",
      "tensor([2])\n",
      "tensor([2])\n",
      "tensor([5])\n",
      "tensor([2])\n",
      "tensor([0])\n",
      "tensor([2])\n",
      "tensor([5])\n",
      "tensor([4])\n"
     ]
    },
    {
     "name": "stderr",
     "output_type": "stream",
     "text": [
      "Iterating training graphs:  65%|██████▌   | 5870/9024 [01:43<00:44, 70.37batch/s]"
     ]
    },
    {
     "name": "stdout",
     "output_type": "stream",
     "text": [
      "tensor([3])\n",
      "tensor([3])\n",
      "tensor([0])\n",
      "tensor([2])\n",
      "tensor([1])\n",
      "tensor([2])\n",
      "tensor([5])\n",
      "tensor([4])\n"
     ]
    },
    {
     "name": "stderr",
     "output_type": "stream",
     "text": [
      "Iterating training graphs:  65%|██████▌   | 5878/9024 [01:43<00:53, 58.41batch/s]"
     ]
    },
    {
     "name": "stdout",
     "output_type": "stream",
     "text": [
      "tensor([2])\n",
      "tensor([2])\n",
      "tensor([4])\n",
      "tensor([5])\n",
      "tensor([2])\n",
      "tensor([2])\n",
      "tensor([2])\n"
     ]
    },
    {
     "name": "stderr",
     "output_type": "stream",
     "text": [
      "Iterating training graphs:  65%|██████▌   | 5893/9024 [01:43<01:04, 48.26batch/s]"
     ]
    },
    {
     "name": "stdout",
     "output_type": "stream",
     "text": [
      "tensor([3])\n",
      "tensor([2])\n",
      "tensor([3])\n",
      "tensor([0])\n",
      "tensor([0])\n",
      "tensor([2])\n",
      "tensor([1])\n",
      "tensor([2])\n",
      "tensor([1])\n",
      "tensor([1])\n",
      "tensor([3])\n",
      "tensor([2])\n",
      "tensor([5])\n"
     ]
    },
    {
     "name": "stderr",
     "output_type": "stream",
     "text": [
      "Iterating training graphs:  65%|██████▌   | 5907/9024 [01:44<00:58, 53.42batch/s]"
     ]
    },
    {
     "name": "stdout",
     "output_type": "stream",
     "text": [
      "tensor([1])\n",
      "tensor([4])\n",
      "tensor([0])\n",
      "tensor([2])\n",
      "tensor([3])\n",
      "tensor([0])\n",
      "tensor([3])\n",
      "tensor([4])\n",
      "tensor([2])\n",
      "tensor([2])\n",
      "tensor([2])\n",
      "tensor([1])\n"
     ]
    },
    {
     "name": "stderr",
     "output_type": "stream",
     "text": [
      "Iterating training graphs:  66%|██████▌   | 5917/9024 [01:44<00:49, 62.93batch/s]"
     ]
    },
    {
     "name": "stdout",
     "output_type": "stream",
     "text": [
      "tensor([4])\n",
      "tensor([5])\n",
      "tensor([2])\n",
      "tensor([2])\n",
      "tensor([0])\n",
      "tensor([5])\n",
      "tensor([2])\n",
      "tensor([2])\n",
      "tensor([1])\n",
      "tensor([0])\n",
      "tensor([1])\n",
      "tensor([3])\n",
      "tensor([3])\n"
     ]
    },
    {
     "name": "stderr",
     "output_type": "stream",
     "text": [
      "Iterating training graphs:  66%|██████▌   | 5936/9024 [01:44<00:44, 69.64batch/s]"
     ]
    },
    {
     "name": "stdout",
     "output_type": "stream",
     "text": [
      "tensor([1])\n",
      "tensor([3])\n",
      "tensor([1])\n",
      "tensor([0])\n",
      "tensor([4])\n",
      "tensor([2])\n",
      "tensor([5])\n",
      "tensor([2])\n",
      "tensor([0])\n",
      "tensor([1])\n",
      "tensor([4])\n",
      "tensor([5])\n",
      "tensor([2])\n",
      "tensor([4])\n",
      "tensor([2])\n",
      "tensor([3])\n",
      "tensor([0])\n",
      "tensor([4])\n",
      "tensor([4])\n",
      "tensor([5])\n",
      "tensor([5])\n",
      "tensor([5])\n",
      "tensor([3])\n"
     ]
    },
    {
     "name": "stderr",
     "output_type": "stream",
     "text": [
      "Iterating training graphs:  66%|██████▌   | 5954/9024 [01:44<00:39, 77.28batch/s]"
     ]
    },
    {
     "name": "stdout",
     "output_type": "stream",
     "text": [
      "tensor([2])\n",
      "tensor([2])\n",
      "tensor([4])\n",
      "tensor([2])\n",
      "tensor([5])\n",
      "tensor([0])\n",
      "tensor([2])\n",
      "tensor([0])\n",
      "tensor([0])\n",
      "tensor([3])\n",
      "tensor([4])\n",
      "tensor([4])\n",
      "tensor([3])\n"
     ]
    },
    {
     "name": "stderr",
     "output_type": "stream",
     "text": [
      "Iterating training graphs:  66%|██████▌   | 5963/9024 [01:44<00:49, 62.21batch/s]"
     ]
    },
    {
     "name": "stdout",
     "output_type": "stream",
     "text": [
      "tensor([1])\n",
      "tensor([4])\n",
      "tensor([0])\n",
      "tensor([1])\n",
      "tensor([2])\n",
      "tensor([0])\n",
      "tensor([4])\n",
      "tensor([0])\n",
      "tensor([2])\n",
      "tensor([3])\n"
     ]
    },
    {
     "name": "stderr",
     "output_type": "stream",
     "text": [
      "Iterating training graphs:  66%|██████▋   | 5979/9024 [01:45<00:47, 64.69batch/s]"
     ]
    },
    {
     "name": "stdout",
     "output_type": "stream",
     "text": [
      "tensor([1])\n",
      "tensor([4])\n",
      "tensor([1])\n",
      "tensor([4])\n",
      "tensor([4])\n",
      "tensor([5])\n",
      "tensor([3])\n",
      "tensor([3])\n",
      "tensor([3])\n",
      "tensor([2])\n",
      "tensor([1])\n",
      "tensor([2])\n",
      "tensor([1])\n",
      "tensor([4])\n",
      "tensor([1])\n"
     ]
    },
    {
     "name": "stderr",
     "output_type": "stream",
     "text": [
      "Iterating training graphs:  67%|██████▋   | 6005/9024 [01:45<00:33, 89.51batch/s]"
     ]
    },
    {
     "name": "stdout",
     "output_type": "stream",
     "text": [
      "tensor([3])\n",
      "tensor([0])\n",
      "tensor([2])\n",
      "tensor([3])\n",
      "tensor([1])\n",
      "tensor([0])\n",
      "tensor([2])\n",
      "tensor([2])\n",
      "tensor([1])\n",
      "tensor([1])\n",
      "tensor([1])\n",
      "tensor([1])\n",
      "tensor([2])\n",
      "tensor([1])\n",
      "tensor([4])\n",
      "tensor([0])\n",
      "tensor([1])\n",
      "tensor([5])\n",
      "tensor([3])\n",
      "tensor([2])\n",
      "tensor([1])\n",
      "tensor([2])\n",
      "tensor([0])\n",
      "tensor([4])\n",
      "tensor([1])\n",
      "tensor([4])\n",
      "tensor([2])\n"
     ]
    },
    {
     "name": "stderr",
     "output_type": "stream",
     "text": [
      "Iterating training graphs:  67%|██████▋   | 6015/9024 [01:45<00:34, 87.34batch/s]"
     ]
    },
    {
     "name": "stdout",
     "output_type": "stream",
     "text": [
      "tensor([3])\n",
      "tensor([1])\n",
      "tensor([0])\n",
      "tensor([2])\n",
      "tensor([2])\n",
      "tensor([3])\n",
      "tensor([1])\n",
      "tensor([0])\n",
      "tensor([3])\n",
      "tensor([2])\n",
      "tensor([3])\n",
      "tensor([4])\n",
      "tensor([3])\n",
      "tensor([3])\n"
     ]
    },
    {
     "name": "stderr",
     "output_type": "stream",
     "text": [
      "Iterating training graphs:  67%|██████▋   | 6034/9024 [01:45<00:40, 73.10batch/s]"
     ]
    },
    {
     "name": "stdout",
     "output_type": "stream",
     "text": [
      "tensor([2])\n",
      "tensor([3])\n",
      "tensor([4])\n",
      "tensor([0])\n",
      "tensor([2])\n",
      "tensor([3])\n",
      "tensor([0])\n",
      "tensor([4])\n",
      "tensor([0])\n",
      "tensor([2])\n",
      "tensor([1])\n",
      "tensor([1])\n"
     ]
    },
    {
     "name": "stderr",
     "output_type": "stream",
     "text": [
      "Iterating training graphs:  67%|██████▋   | 6042/9024 [01:45<00:46, 63.97batch/s]"
     ]
    },
    {
     "name": "stdout",
     "output_type": "stream",
     "text": [
      "tensor([5])\n",
      "tensor([1])\n",
      "tensor([2])\n",
      "tensor([1])\n",
      "tensor([2])\n",
      "tensor([3])\n",
      "tensor([3])\n",
      "tensor([4])\n",
      "tensor([2])\n",
      "tensor([3])\n",
      "tensor([1])\n",
      "tensor([1])\n",
      "tensor([1])\n"
     ]
    },
    {
     "name": "stderr",
     "output_type": "stream",
     "text": [
      "Iterating training graphs:  67%|██████▋   | 6056/9024 [01:46<00:46, 63.64batch/s]"
     ]
    },
    {
     "name": "stdout",
     "output_type": "stream",
     "text": [
      "tensor([2])\n",
      "tensor([1])\n",
      "tensor([2])\n",
      "tensor([1])\n",
      "tensor([1])\n",
      "tensor([1])\n",
      "tensor([5])\n",
      "tensor([5])\n",
      "tensor([5])\n",
      "tensor([2])\n",
      "tensor([0])\n",
      "tensor([5])\n"
     ]
    },
    {
     "name": "stderr",
     "output_type": "stream",
     "text": [
      "Iterating training graphs:  67%|██████▋   | 6071/9024 [01:46<00:50, 59.05batch/s]"
     ]
    },
    {
     "name": "stdout",
     "output_type": "stream",
     "text": [
      "tensor([1])\n",
      "tensor([1])\n",
      "tensor([0])\n",
      "tensor([3])\n",
      "tensor([2])\n",
      "tensor([4])\n",
      "tensor([4])\n",
      "tensor([4])\n",
      "tensor([1])\n",
      "tensor([2])\n",
      "tensor([2])\n",
      "tensor([0])\n"
     ]
    },
    {
     "name": "stderr",
     "output_type": "stream",
     "text": [
      "Iterating training graphs:  67%|██████▋   | 6079/9024 [01:46<00:46, 62.97batch/s]"
     ]
    },
    {
     "name": "stdout",
     "output_type": "stream",
     "text": [
      "tensor([1])\n",
      "tensor([5])\n",
      "tensor([2])\n",
      "tensor([1])\n",
      "tensor([1])\n",
      "tensor([2])\n",
      "tensor([3])\n",
      "tensor([0])\n",
      "tensor([4])\n",
      "tensor([1])\n",
      "tensor([1])\n",
      "tensor([2])\n"
     ]
    },
    {
     "name": "stderr",
     "output_type": "stream",
     "text": [
      "Iterating training graphs:  68%|██████▊   | 6092/9024 [01:46<00:56, 52.06batch/s]"
     ]
    },
    {
     "name": "stdout",
     "output_type": "stream",
     "text": [
      "tensor([4])\n",
      "tensor([2])\n",
      "tensor([2])\n",
      "tensor([4])\n",
      "tensor([1])\n",
      "tensor([2])\n",
      "tensor([2])\n",
      "tensor([2])\n",
      "tensor([2])\n",
      "tensor([1])\n"
     ]
    },
    {
     "name": "stderr",
     "output_type": "stream",
     "text": [
      "Iterating training graphs:  68%|██████▊   | 6112/9024 [01:47<00:40, 71.99batch/s]"
     ]
    },
    {
     "name": "stdout",
     "output_type": "stream",
     "text": [
      "tensor([0])\n",
      "tensor([3])\n",
      "tensor([0])\n",
      "tensor([3])\n",
      "tensor([2])\n",
      "tensor([2])\n",
      "tensor([3])\n",
      "tensor([1])\n",
      "tensor([0])\n",
      "tensor([4])\n",
      "tensor([4])\n",
      "tensor([1])\n",
      "tensor([1])\n",
      "tensor([2])\n",
      "tensor([5])\n",
      "tensor([4])\n",
      "tensor([3])\n",
      "tensor([5])\n",
      "tensor([4])\n",
      "tensor([3])\n",
      "tensor([5])\n",
      "tensor([3])\n",
      "tensor([4])\n"
     ]
    },
    {
     "name": "stderr",
     "output_type": "stream",
     "text": [
      "Iterating training graphs:  68%|██████▊   | 6129/9024 [01:47<00:43, 66.42batch/s]"
     ]
    },
    {
     "name": "stdout",
     "output_type": "stream",
     "text": [
      "tensor([2])\n",
      "tensor([3])\n",
      "tensor([4])\n",
      "tensor([2])\n",
      "tensor([3])\n",
      "tensor([4])\n",
      "tensor([3])\n",
      "tensor([3])\n",
      "tensor([1])\n",
      "tensor([0])\n",
      "tensor([4])\n",
      "tensor([5])\n"
     ]
    },
    {
     "name": "stderr",
     "output_type": "stream",
     "text": [
      "Iterating training graphs:  68%|██████▊   | 6137/9024 [01:47<00:41, 69.70batch/s]"
     ]
    },
    {
     "name": "stdout",
     "output_type": "stream",
     "text": [
      "tensor([4])\n",
      "tensor([1])\n",
      "tensor([2])\n",
      "tensor([5])\n",
      "tensor([1])\n",
      "tensor([2])\n",
      "tensor([4])\n",
      "tensor([4])\n",
      "tensor([2])\n",
      "tensor([4])\n",
      "tensor([0])\n",
      "tensor([3])\n",
      "tensor([0])\n",
      "tensor([1])\n",
      "tensor([3])\n"
     ]
    },
    {
     "name": "stderr",
     "output_type": "stream",
     "text": [
      "Iterating training graphs:  68%|██████▊   | 6161/9024 [01:47<00:34, 82.07batch/s]"
     ]
    },
    {
     "name": "stdout",
     "output_type": "stream",
     "text": [
      "tensor([5])\n",
      "tensor([2])\n",
      "tensor([2])\n",
      "tensor([4])\n",
      "tensor([2])\n",
      "tensor([1])\n",
      "tensor([2])\n",
      "tensor([2])\n",
      "tensor([0])\n",
      "tensor([0])\n",
      "tensor([2])\n",
      "tensor([2])\n",
      "tensor([1])\n",
      "tensor([4])\n",
      "tensor([1])\n",
      "tensor([2])\n",
      "tensor([1])\n",
      "tensor([4])\n",
      "tensor([2])\n",
      "tensor([4])\n",
      "tensor([5])\n",
      "tensor([2])\n",
      "tensor([3])\n"
     ]
    },
    {
     "name": "stderr",
     "output_type": "stream",
     "text": [
      "Iterating training graphs:  68%|██████▊   | 6171/9024 [01:48<00:42, 67.91batch/s]"
     ]
    },
    {
     "name": "stdout",
     "output_type": "stream",
     "text": [
      "tensor([2])\n",
      "tensor([5])\n",
      "tensor([4])\n",
      "tensor([0])\n",
      "tensor([2])\n",
      "tensor([2])\n",
      "tensor([4])\n",
      "tensor([2])\n",
      "tensor([2])\n",
      "tensor([5])\n"
     ]
    },
    {
     "name": "stderr",
     "output_type": "stream",
     "text": [
      "Iterating training graphs:  69%|██████▊   | 6188/9024 [01:48<00:38, 73.73batch/s]"
     ]
    },
    {
     "name": "stdout",
     "output_type": "stream",
     "text": [
      "tensor([4])\n",
      "tensor([2])\n",
      "tensor([2])\n",
      "tensor([1])\n",
      "tensor([4])\n",
      "tensor([4])\n",
      "tensor([3])\n",
      "tensor([4])\n",
      "tensor([4])\n",
      "tensor([0])\n",
      "tensor([2])\n",
      "tensor([1])\n",
      "tensor([0])\n",
      "tensor([3])\n",
      "tensor([0])\n",
      "tensor([2])\n",
      "tensor([3])\n",
      "tensor([1])\n",
      "tensor([1])\n",
      "tensor([2])\n"
     ]
    },
    {
     "name": "stderr",
     "output_type": "stream",
     "text": [
      "Iterating training graphs:  69%|██████▉   | 6208/9024 [01:48<00:37, 75.52batch/s]"
     ]
    },
    {
     "name": "stdout",
     "output_type": "stream",
     "text": [
      "tensor([2])\n",
      "tensor([5])\n",
      "tensor([3])\n",
      "tensor([2])\n",
      "tensor([0])\n",
      "tensor([0])\n",
      "tensor([3])\n",
      "tensor([3])\n",
      "tensor([1])\n",
      "tensor([1])\n",
      "tensor([1])\n",
      "tensor([2])\n",
      "tensor([0])\n"
     ]
    },
    {
     "name": "stderr",
     "output_type": "stream",
     "text": [
      "Iterating training graphs:  69%|██████▉   | 6232/9024 [01:48<00:35, 79.76batch/s]"
     ]
    },
    {
     "name": "stdout",
     "output_type": "stream",
     "text": [
      "tensor([4])\n",
      "tensor([3])\n",
      "tensor([2])\n",
      "tensor([4])\n",
      "tensor([5])\n",
      "tensor([2])\n",
      "tensor([0])\n",
      "tensor([1])\n",
      "tensor([3])\n",
      "tensor([2])\n",
      "tensor([3])\n",
      "tensor([1])\n",
      "tensor([1])\n",
      "tensor([3])\n",
      "tensor([0])\n",
      "tensor([2])\n",
      "tensor([3])\n",
      "tensor([5])\n",
      "tensor([1])\n",
      "tensor([2])\n",
      "tensor([1])\n",
      "tensor([0])\n",
      "tensor([3])\n",
      "tensor([4])\n"
     ]
    },
    {
     "name": "stderr",
     "output_type": "stream",
     "text": [
      "Iterating training graphs:  69%|██████▉   | 6252/9024 [01:49<00:31, 87.46batch/s]"
     ]
    },
    {
     "name": "stdout",
     "output_type": "stream",
     "text": [
      "tensor([2])\n",
      "tensor([2])\n",
      "tensor([3])\n",
      "tensor([3])\n",
      "tensor([2])\n",
      "tensor([0])\n",
      "tensor([2])\n",
      "tensor([3])\n",
      "tensor([5])\n",
      "tensor([3])\n",
      "tensor([4])\n",
      "tensor([1])\n",
      "tensor([2])\n",
      "tensor([1])\n",
      "tensor([1])\n",
      "tensor([1])\n",
      "tensor([2])\n",
      "tensor([1])\n",
      "tensor([4])\n"
     ]
    },
    {
     "name": "stderr",
     "output_type": "stream",
     "text": [
      "Iterating training graphs:  69%|██████▉   | 6261/9024 [01:49<00:31, 87.38batch/s]"
     ]
    },
    {
     "name": "stdout",
     "output_type": "stream",
     "text": [
      "tensor([0])\n",
      "tensor([3])\n",
      "tensor([0])\n",
      "tensor([1])\n",
      "tensor([4])\n",
      "tensor([2])\n",
      "tensor([0])\n",
      "tensor([0])\n",
      "tensor([5])\n",
      "tensor([2])\n",
      "tensor([4])\n",
      "tensor([0])\n",
      "tensor([0])\n",
      "tensor([5])\n",
      "tensor([3])\n"
     ]
    },
    {
     "name": "stderr",
     "output_type": "stream",
     "text": [
      "Iterating training graphs:  70%|██████▉   | 6278/9024 [01:49<00:37, 72.61batch/s]"
     ]
    },
    {
     "name": "stdout",
     "output_type": "stream",
     "text": [
      "tensor([0])\n",
      "tensor([5])\n",
      "tensor([3])\n",
      "tensor([2])\n",
      "tensor([1])\n",
      "tensor([4])\n",
      "tensor([3])\n",
      "tensor([1])\n",
      "tensor([3])\n",
      "tensor([3])\n",
      "tensor([2])\n",
      "tensor([2])\n",
      "tensor([2])\n",
      "tensor([3])\n",
      "tensor([3])\n"
     ]
    },
    {
     "name": "stderr",
     "output_type": "stream",
     "text": [
      "Iterating training graphs:  70%|██████▉   | 6294/9024 [01:49<00:44, 61.80batch/s]"
     ]
    },
    {
     "name": "stdout",
     "output_type": "stream",
     "text": [
      "tensor([1])\n",
      "tensor([1])\n",
      "tensor([2])\n",
      "tensor([2])\n",
      "tensor([1])\n",
      "tensor([2])\n",
      "tensor([4])\n",
      "tensor([3])\n",
      "tensor([0])\n",
      "tensor([4])\n",
      "tensor([4])\n"
     ]
    },
    {
     "name": "stderr",
     "output_type": "stream",
     "text": [
      "Iterating training graphs:  70%|██████▉   | 6308/9024 [01:49<00:42, 63.54batch/s]"
     ]
    },
    {
     "name": "stdout",
     "output_type": "stream",
     "text": [
      "tensor([4])\n",
      "tensor([1])\n",
      "tensor([2])\n",
      "tensor([1])\n",
      "tensor([3])\n",
      "tensor([2])\n",
      "tensor([1])\n",
      "tensor([2])\n",
      "tensor([2])\n",
      "tensor([2])\n",
      "tensor([0])\n",
      "tensor([2])\n",
      "tensor([3])\n",
      "tensor([1])\n",
      "tensor([2])\n",
      "tensor([3])\n"
     ]
    },
    {
     "name": "stderr",
     "output_type": "stream",
     "text": [
      "Iterating training graphs:  70%|██████▉   | 6315/9024 [01:50<00:42, 63.19batch/s]"
     ]
    },
    {
     "name": "stdout",
     "output_type": "stream",
     "text": [
      "tensor([0])\n",
      "tensor([1])\n",
      "tensor([2])\n",
      "tensor([5])\n",
      "tensor([4])\n",
      "tensor([1])\n",
      "tensor([1])\n",
      "tensor([4])\n",
      "tensor([0])\n"
     ]
    },
    {
     "name": "stderr",
     "output_type": "stream",
     "text": [
      "Iterating training graphs:  70%|███████   | 6328/9024 [01:50<00:50, 53.59batch/s]"
     ]
    },
    {
     "name": "stdout",
     "output_type": "stream",
     "text": [
      "tensor([3])\n",
      "tensor([2])\n",
      "tensor([3])\n",
      "tensor([2])\n",
      "tensor([1])\n",
      "tensor([4])\n",
      "tensor([3])\n",
      "tensor([0])\n",
      "tensor([3])\n",
      "tensor([4])\n",
      "tensor([4])\n",
      "tensor([3])\n",
      "tensor([2])\n"
     ]
    },
    {
     "name": "stderr",
     "output_type": "stream",
     "text": [
      "Iterating training graphs:  70%|███████   | 6347/9024 [01:50<00:36, 73.44batch/s]"
     ]
    },
    {
     "name": "stdout",
     "output_type": "stream",
     "text": [
      "tensor([2])\n",
      "tensor([3])\n",
      "tensor([2])\n",
      "tensor([2])\n",
      "tensor([3])\n",
      "tensor([2])\n",
      "tensor([4])\n",
      "tensor([1])\n",
      "tensor([2])\n",
      "tensor([4])\n",
      "tensor([0])\n",
      "tensor([2])\n",
      "tensor([2])\n",
      "tensor([4])\n",
      "tensor([1])\n",
      "tensor([2])\n",
      "tensor([0])\n",
      "tensor([1])\n",
      "tensor([2])\n",
      "tensor([5])\n",
      "tensor([2])\n"
     ]
    },
    {
     "name": "stderr",
     "output_type": "stream",
     "text": [
      "Iterating training graphs:  71%|███████   | 6363/9024 [01:50<00:37, 70.99batch/s]"
     ]
    },
    {
     "name": "stdout",
     "output_type": "stream",
     "text": [
      "tensor([1])\n",
      "tensor([4])\n",
      "tensor([3])\n",
      "tensor([1])\n",
      "tensor([1])\n",
      "tensor([2])\n",
      "tensor([1])\n",
      "tensor([2])\n",
      "tensor([0])\n",
      "tensor([1])\n",
      "tensor([1])\n",
      "tensor([2])\n",
      "tensor([2])\n"
     ]
    },
    {
     "name": "stderr",
     "output_type": "stream",
     "text": [
      "Iterating training graphs:  71%|███████   | 6371/9024 [01:50<00:43, 60.39batch/s]"
     ]
    },
    {
     "name": "stdout",
     "output_type": "stream",
     "text": [
      "tensor([5])\n",
      "tensor([0])\n",
      "tensor([2])\n",
      "tensor([1])\n",
      "tensor([1])\n",
      "tensor([2])\n",
      "tensor([3])\n",
      "tensor([2])\n",
      "tensor([3])\n",
      "tensor([0])\n",
      "tensor([1])\n",
      "tensor([2])\n",
      "tensor([3])\n"
     ]
    },
    {
     "name": "stderr",
     "output_type": "stream",
     "text": [
      "Iterating training graphs:  71%|███████   | 6389/9024 [01:51<00:40, 64.31batch/s]"
     ]
    },
    {
     "name": "stdout",
     "output_type": "stream",
     "text": [
      "tensor([2])\n",
      "tensor([5])\n",
      "tensor([0])\n",
      "tensor([5])\n",
      "tensor([4])\n",
      "tensor([2])\n",
      "tensor([5])\n",
      "tensor([0])\n",
      "tensor([1])\n",
      "tensor([3])\n",
      "tensor([4])\n",
      "tensor([4])\n",
      "tensor([5])\n",
      "tensor([4])\n",
      "tensor([2])\n",
      "tensor([2])\n",
      "tensor([1])\n"
     ]
    },
    {
     "name": "stderr",
     "output_type": "stream",
     "text": [
      "Iterating training graphs:  71%|███████   | 6405/9024 [01:51<00:38, 67.39batch/s]"
     ]
    },
    {
     "name": "stdout",
     "output_type": "stream",
     "text": [
      "tensor([4])\n",
      "tensor([4])\n",
      "tensor([4])\n",
      "tensor([3])\n",
      "tensor([0])\n",
      "tensor([3])\n",
      "tensor([5])\n",
      "tensor([0])\n",
      "tensor([0])\n",
      "tensor([0])\n",
      "tensor([4])\n"
     ]
    },
    {
     "name": "stderr",
     "output_type": "stream",
     "text": [
      "Iterating training graphs:  71%|███████   | 6419/9024 [01:51<00:45, 57.61batch/s]"
     ]
    },
    {
     "name": "stdout",
     "output_type": "stream",
     "text": [
      "tensor([0])\n",
      "tensor([3])\n",
      "tensor([4])\n",
      "tensor([1])\n",
      "tensor([0])\n",
      "tensor([4])\n",
      "tensor([3])\n",
      "tensor([4])\n",
      "tensor([4])\n",
      "tensor([1])\n",
      "tensor([4])\n",
      "tensor([5])\n",
      "tensor([2])\n"
     ]
    },
    {
     "name": "stderr",
     "output_type": "stream",
     "text": [
      "Iterating training graphs:  71%|███████▏  | 6435/9024 [01:51<00:38, 66.59batch/s]"
     ]
    },
    {
     "name": "stdout",
     "output_type": "stream",
     "text": [
      "tensor([2])\n",
      "tensor([2])\n",
      "tensor([3])\n",
      "tensor([0])\n",
      "tensor([2])\n",
      "tensor([0])\n",
      "tensor([4])\n",
      "tensor([1])\n",
      "tensor([2])\n",
      "tensor([2])\n",
      "tensor([5])\n",
      "tensor([4])\n",
      "tensor([0])\n",
      "tensor([4])\n",
      "tensor([2])\n",
      "tensor([3])\n"
     ]
    },
    {
     "name": "stderr",
     "output_type": "stream",
     "text": [
      "Iterating training graphs:  71%|███████▏  | 6450/9024 [01:52<00:37, 68.55batch/s]"
     ]
    },
    {
     "name": "stdout",
     "output_type": "stream",
     "text": [
      "tensor([1])\n",
      "tensor([1])\n",
      "tensor([3])\n",
      "tensor([2])\n",
      "tensor([2])\n",
      "tensor([2])\n",
      "tensor([1])\n",
      "tensor([2])\n",
      "tensor([2])\n",
      "tensor([1])\n",
      "tensor([0])\n",
      "tensor([2])\n",
      "tensor([3])\n",
      "tensor([2])\n",
      "tensor([4])\n"
     ]
    },
    {
     "name": "stderr",
     "output_type": "stream",
     "text": [
      "Iterating training graphs:  72%|███████▏  | 6468/9024 [01:52<00:33, 77.39batch/s]"
     ]
    },
    {
     "name": "stdout",
     "output_type": "stream",
     "text": [
      "tensor([3])\n",
      "tensor([2])\n",
      "tensor([2])\n",
      "tensor([1])\n",
      "tensor([2])\n",
      "tensor([4])\n",
      "tensor([2])\n",
      "tensor([0])\n",
      "tensor([0])\n",
      "tensor([0])\n",
      "tensor([1])\n",
      "tensor([1])\n",
      "tensor([5])\n",
      "tensor([4])\n",
      "tensor([4])\n",
      "tensor([3])\n",
      "tensor([3])\n"
     ]
    },
    {
     "name": "stderr",
     "output_type": "stream",
     "text": [
      "Iterating training graphs:  72%|███████▏  | 6479/9024 [01:52<00:31, 81.60batch/s]"
     ]
    },
    {
     "name": "stdout",
     "output_type": "stream",
     "text": [
      "tensor([3])\n",
      "tensor([1])\n",
      "tensor([2])\n",
      "tensor([2])\n",
      "tensor([0])\n",
      "tensor([2])\n",
      "tensor([2])\n",
      "tensor([1])\n",
      "tensor([5])\n",
      "tensor([3])\n",
      "tensor([0])\n",
      "tensor([2])\n",
      "tensor([4])\n",
      "tensor([0])\n",
      "tensor([3])\n",
      "tensor([1])\n",
      "tensor([4])\n",
      "tensor([2])\n",
      "tensor([1])\n",
      "tensor([3])\n",
      "tensor([1])\n",
      "tensor([0])\n",
      "tensor([1])\n",
      "tensor([0])\n"
     ]
    },
    {
     "name": "stderr",
     "output_type": "stream",
     "text": [
      "Iterating training graphs:  72%|███████▏  | 6502/9024 [01:52<00:30, 82.03batch/s]"
     ]
    },
    {
     "name": "stdout",
     "output_type": "stream",
     "text": [
      "tensor([5])\n",
      "tensor([2])\n",
      "tensor([2])\n",
      "tensor([4])\n",
      "tensor([2])\n",
      "tensor([2])\n",
      "tensor([2])\n",
      "tensor([0])\n",
      "tensor([3])\n",
      "tensor([4])\n",
      "tensor([4])\n"
     ]
    },
    {
     "name": "stderr",
     "output_type": "stream",
     "text": [
      "Iterating training graphs:  72%|███████▏  | 6511/9024 [01:52<00:38, 65.79batch/s]"
     ]
    },
    {
     "name": "stdout",
     "output_type": "stream",
     "text": [
      "tensor([4])\n",
      "tensor([3])\n",
      "tensor([0])\n",
      "tensor([3])\n",
      "tensor([5])\n",
      "tensor([3])\n",
      "tensor([1])\n",
      "tensor([2])\n",
      "tensor([5])\n",
      "tensor([5])\n",
      "tensor([1])\n"
     ]
    },
    {
     "name": "stderr",
     "output_type": "stream",
     "text": [
      "Iterating training graphs:  72%|███████▏  | 6527/9024 [01:53<00:39, 63.31batch/s]"
     ]
    },
    {
     "name": "stdout",
     "output_type": "stream",
     "text": [
      "tensor([2])\n",
      "tensor([1])\n",
      "tensor([3])\n",
      "tensor([1])\n",
      "tensor([2])\n",
      "tensor([0])\n",
      "tensor([2])\n",
      "tensor([5])\n",
      "tensor([4])\n",
      "tensor([4])\n",
      "tensor([1])\n",
      "tensor([4])\n",
      "tensor([2])\n",
      "tensor([2])\n",
      "tensor([1])\n"
     ]
    },
    {
     "name": "stderr",
     "output_type": "stream",
     "text": [
      "Iterating training graphs:  72%|███████▏  | 6542/9024 [01:53<00:37, 66.73batch/s]"
     ]
    },
    {
     "name": "stdout",
     "output_type": "stream",
     "text": [
      "tensor([1])\n",
      "tensor([2])\n",
      "tensor([0])\n",
      "tensor([0])\n",
      "tensor([1])\n",
      "tensor([2])\n",
      "tensor([3])\n",
      "tensor([2])\n",
      "tensor([0])\n",
      "tensor([4])\n",
      "tensor([2])\n",
      "tensor([3])\n",
      "tensor([3])\n",
      "tensor([2])\n",
      "tensor([1])\n"
     ]
    },
    {
     "name": "stderr",
     "output_type": "stream",
     "text": [
      "Iterating training graphs:  73%|███████▎  | 6555/9024 [01:53<00:29, 82.45batch/s]"
     ]
    },
    {
     "name": "stdout",
     "output_type": "stream",
     "text": [
      "tensor([1])\n",
      "tensor([0])\n",
      "tensor([4])\n",
      "tensor([2])\n",
      "tensor([0])\n",
      "tensor([1])\n",
      "tensor([2])\n",
      "tensor([0])\n",
      "tensor([2])\n",
      "tensor([4])\n",
      "tensor([2])\n",
      "tensor([3])\n",
      "tensor([3])\n",
      "tensor([3])\n",
      "tensor([3])\n",
      "tensor([0])\n",
      "tensor([4])\n"
     ]
    },
    {
     "name": "stderr",
     "output_type": "stream",
     "text": [
      "Iterating training graphs:  73%|███████▎  | 6572/9024 [01:53<00:37, 64.81batch/s]"
     ]
    },
    {
     "name": "stdout",
     "output_type": "stream",
     "text": [
      "tensor([1])\n",
      "tensor([2])\n",
      "tensor([0])\n",
      "tensor([1])\n",
      "tensor([1])\n",
      "tensor([4])\n",
      "tensor([3])\n",
      "tensor([2])\n",
      "tensor([3])\n",
      "tensor([3])\n",
      "tensor([2])\n",
      "tensor([3])\n"
     ]
    },
    {
     "name": "stderr",
     "output_type": "stream",
     "text": [
      "Iterating training graphs:  73%|███████▎  | 6579/9024 [01:54<00:41, 58.38batch/s]"
     ]
    },
    {
     "name": "stdout",
     "output_type": "stream",
     "text": [
      "tensor([1])\n",
      "tensor([0])\n",
      "tensor([2])\n",
      "tensor([2])\n",
      "tensor([1])\n",
      "tensor([1])\n",
      "tensor([2])\n",
      "tensor([4])\n",
      "tensor([4])\n",
      "tensor([3])\n",
      "tensor([3])\n",
      "tensor([4])\n",
      "tensor([3])\n",
      "tensor([2])\n",
      "tensor([0])\n"
     ]
    },
    {
     "name": "stderr",
     "output_type": "stream",
     "text": [
      "Iterating training graphs:  73%|███████▎  | 6597/9024 [01:54<00:34, 70.13batch/s]"
     ]
    },
    {
     "name": "stdout",
     "output_type": "stream",
     "text": [
      "tensor([2])\n",
      "tensor([3])\n",
      "tensor([1])\n",
      "tensor([2])\n",
      "tensor([4])\n",
      "tensor([4])\n",
      "tensor([3])\n",
      "tensor([3])\n",
      "tensor([4])\n",
      "tensor([1])\n",
      "tensor([3])\n"
     ]
    },
    {
     "name": "stderr",
     "output_type": "stream",
     "text": [
      "Iterating training graphs:  73%|███████▎  | 6613/9024 [01:54<00:33, 71.81batch/s]"
     ]
    },
    {
     "name": "stdout",
     "output_type": "stream",
     "text": [
      "tensor([2])\n",
      "tensor([2])\n",
      "tensor([1])\n",
      "tensor([3])\n",
      "tensor([3])\n",
      "tensor([2])\n",
      "tensor([3])\n",
      "tensor([2])\n",
      "tensor([1])\n",
      "tensor([0])\n",
      "tensor([1])\n",
      "tensor([2])\n",
      "tensor([0])\n",
      "tensor([1])\n",
      "tensor([2])\n",
      "tensor([2])\n",
      "tensor([3])\n"
     ]
    },
    {
     "name": "stderr",
     "output_type": "stream",
     "text": [
      "Iterating training graphs:  73%|███████▎  | 6628/9024 [01:54<00:38, 62.83batch/s]"
     ]
    },
    {
     "name": "stdout",
     "output_type": "stream",
     "text": [
      "tensor([0])\n",
      "tensor([2])\n",
      "tensor([1])\n",
      "tensor([2])\n",
      "tensor([1])\n",
      "tensor([3])\n",
      "tensor([2])\n",
      "tensor([1])\n",
      "tensor([0])\n",
      "tensor([2])\n",
      "tensor([3])\n",
      "tensor([3])\n",
      "tensor([2])\n",
      "tensor([4])\n",
      "tensor([3])\n"
     ]
    },
    {
     "name": "stderr",
     "output_type": "stream",
     "text": [
      "Iterating training graphs:  74%|███████▎  | 6642/9024 [01:54<00:36, 65.65batch/s]"
     ]
    },
    {
     "name": "stdout",
     "output_type": "stream",
     "text": [
      "tensor([1])\n",
      "tensor([1])\n",
      "tensor([4])\n",
      "tensor([0])\n",
      "tensor([4])\n",
      "tensor([1])\n",
      "tensor([2])\n",
      "tensor([2])\n",
      "tensor([2])\n",
      "tensor([2])\n",
      "tensor([0])\n",
      "tensor([3])\n",
      "tensor([0])\n",
      "tensor([2])\n"
     ]
    },
    {
     "name": "stderr",
     "output_type": "stream",
     "text": [
      "Iterating training graphs:  74%|███████▍  | 6656/9024 [01:55<00:36, 65.42batch/s]"
     ]
    },
    {
     "name": "stdout",
     "output_type": "stream",
     "text": [
      "tensor([0])\n",
      "tensor([1])\n",
      "tensor([2])\n",
      "tensor([0])\n",
      "tensor([1])\n",
      "tensor([2])\n",
      "tensor([2])\n",
      "tensor([2])\n",
      "tensor([1])\n",
      "tensor([2])\n",
      "tensor([4])\n"
     ]
    },
    {
     "name": "stderr",
     "output_type": "stream",
     "text": [
      "Iterating training graphs:  74%|███████▍  | 6677/9024 [01:55<00:31, 75.48batch/s]"
     ]
    },
    {
     "name": "stdout",
     "output_type": "stream",
     "text": [
      "tensor([0])\n",
      "tensor([1])\n",
      "tensor([0])\n",
      "tensor([5])\n",
      "tensor([2])\n",
      "tensor([4])\n",
      "tensor([4])\n",
      "tensor([3])\n",
      "tensor([4])\n",
      "tensor([4])\n",
      "tensor([1])\n",
      "tensor([2])\n",
      "tensor([2])\n",
      "tensor([2])\n",
      "tensor([2])\n",
      "tensor([4])\n",
      "tensor([2])\n",
      "tensor([2])\n",
      "tensor([1])\n",
      "tensor([4])\n",
      "tensor([4])\n",
      "tensor([4])\n",
      "tensor([3])\n",
      "tensor([1])\n"
     ]
    },
    {
     "name": "stderr",
     "output_type": "stream",
     "text": [
      "Iterating training graphs:  74%|███████▍  | 6706/9024 [01:55<00:20, 110.66batch/s]"
     ]
    },
    {
     "name": "stdout",
     "output_type": "stream",
     "text": [
      "tensor([5])\n",
      "tensor([3])\n",
      "tensor([1])\n",
      "tensor([2])\n",
      "tensor([2])\n",
      "tensor([0])\n",
      "tensor([1])\n",
      "tensor([2])\n",
      "tensor([2])\n",
      "tensor([4])\n",
      "tensor([1])\n",
      "tensor([0])\n",
      "tensor([4])\n",
      "tensor([4])\n",
      "tensor([4])\n",
      "tensor([1])\n",
      "tensor([2])\n",
      "tensor([0])\n",
      "tensor([2])\n",
      "tensor([0])\n",
      "tensor([4])\n",
      "tensor([1])\n",
      "tensor([1])\n",
      "tensor([2])\n",
      "tensor([2])\n",
      "tensor([3])\n",
      "tensor([1])\n",
      "tensor([2])\n",
      "tensor([0])\n",
      "tensor([2])\n",
      "tensor([1])\n"
     ]
    },
    {
     "name": "stderr",
     "output_type": "stream",
     "text": [
      "Iterating training graphs:  74%|███████▍  | 6718/9024 [01:55<00:26, 86.63batch/s] "
     ]
    },
    {
     "name": "stdout",
     "output_type": "stream",
     "text": [
      "tensor([2])\n",
      "tensor([4])\n",
      "tensor([2])\n",
      "tensor([0])\n",
      "tensor([2])\n",
      "tensor([3])\n",
      "tensor([3])\n",
      "tensor([2])\n",
      "tensor([0])\n",
      "tensor([1])\n",
      "tensor([0])\n",
      "tensor([1])\n"
     ]
    },
    {
     "name": "stderr",
     "output_type": "stream",
     "text": [
      "Iterating training graphs:  75%|███████▍  | 6738/9024 [01:56<00:25, 89.04batch/s]"
     ]
    },
    {
     "name": "stdout",
     "output_type": "stream",
     "text": [
      "tensor([2])\n",
      "tensor([4])\n",
      "tensor([4])\n",
      "tensor([0])\n",
      "tensor([3])\n",
      "tensor([1])\n",
      "tensor([2])\n",
      "tensor([0])\n",
      "tensor([3])\n",
      "tensor([3])\n",
      "tensor([3])\n",
      "tensor([4])\n",
      "tensor([3])\n",
      "tensor([2])\n",
      "tensor([4])\n",
      "tensor([4])\n",
      "tensor([2])\n"
     ]
    },
    {
     "name": "stderr",
     "output_type": "stream",
     "text": [
      "Iterating training graphs:  75%|███████▍  | 6748/9024 [01:56<00:30, 74.57batch/s]"
     ]
    },
    {
     "name": "stdout",
     "output_type": "stream",
     "text": [
      "tensor([3])\n",
      "tensor([1])\n",
      "tensor([1])\n",
      "tensor([1])\n",
      "tensor([4])\n",
      "tensor([3])\n",
      "tensor([1])\n",
      "tensor([2])\n",
      "tensor([3])\n",
      "tensor([2])\n",
      "tensor([2])\n",
      "tensor([5])\n"
     ]
    },
    {
     "name": "stderr",
     "output_type": "stream",
     "text": [
      "Iterating training graphs:  75%|███████▍  | 6765/9024 [01:56<00:33, 67.06batch/s]"
     ]
    },
    {
     "name": "stdout",
     "output_type": "stream",
     "text": [
      "tensor([2])\n",
      "tensor([4])\n",
      "tensor([3])\n",
      "tensor([2])\n",
      "tensor([1])\n",
      "tensor([1])\n",
      "tensor([1])\n",
      "tensor([4])\n",
      "tensor([2])\n",
      "tensor([1])\n",
      "tensor([4])\n",
      "tensor([5])\n",
      "tensor([5])\n",
      "tensor([2])\n",
      "tensor([2])\n"
     ]
    },
    {
     "name": "stderr",
     "output_type": "stream",
     "text": [
      "Iterating training graphs:  75%|███████▌  | 6795/9024 [01:56<00:21, 104.89batch/s]"
     ]
    },
    {
     "name": "stdout",
     "output_type": "stream",
     "text": [
      "tensor([4])\n",
      "tensor([0])\n",
      "tensor([0])\n",
      "tensor([4])\n",
      "tensor([4])\n",
      "tensor([2])\n",
      "tensor([5])\n",
      "tensor([2])\n",
      "tensor([3])\n",
      "tensor([2])\n",
      "tensor([3])\n",
      "tensor([5])\n",
      "tensor([2])\n",
      "tensor([1])\n",
      "tensor([2])\n",
      "tensor([2])\n",
      "tensor([2])\n",
      "tensor([0])\n",
      "tensor([3])\n",
      "tensor([4])\n",
      "tensor([2])\n",
      "tensor([2])\n",
      "tensor([5])\n",
      "tensor([2])\n",
      "tensor([2])\n",
      "tensor([5])\n",
      "tensor([1])\n",
      "tensor([5])\n",
      "tensor([4])\n",
      "tensor([2])\n",
      "tensor([2])\n",
      "tensor([3])\n"
     ]
    },
    {
     "name": "stderr",
     "output_type": "stream",
     "text": [
      "Iterating training graphs:  75%|███████▌  | 6807/9024 [01:56<00:25, 88.64batch/s] "
     ]
    },
    {
     "name": "stdout",
     "output_type": "stream",
     "text": [
      "tensor([1])\n",
      "tensor([0])\n",
      "tensor([3])\n",
      "tensor([1])\n",
      "tensor([2])\n",
      "tensor([2])\n",
      "tensor([4])\n",
      "tensor([1])\n",
      "tensor([2])\n",
      "tensor([1])\n",
      "tensor([1])\n",
      "tensor([4])\n",
      "tensor([2])\n",
      "tensor([3])\n",
      "tensor([0])\n",
      "tensor([2])\n"
     ]
    },
    {
     "name": "stderr",
     "output_type": "stream",
     "text": [
      "Iterating training graphs:  76%|███████▌  | 6827/9024 [01:57<00:24, 88.27batch/s]"
     ]
    },
    {
     "name": "stdout",
     "output_type": "stream",
     "text": [
      "tensor([0])\n",
      "tensor([2])\n",
      "tensor([5])\n",
      "tensor([2])\n",
      "tensor([5])\n",
      "tensor([5])\n",
      "tensor([2])\n",
      "tensor([3])\n",
      "tensor([4])\n",
      "tensor([2])\n",
      "tensor([3])\n",
      "tensor([0])\n",
      "tensor([2])\n",
      "tensor([2])\n",
      "tensor([2])\n",
      "tensor([4])\n",
      "tensor([2])\n"
     ]
    },
    {
     "name": "stderr",
     "output_type": "stream",
     "text": [
      "Iterating training graphs:  76%|███████▌  | 6837/9024 [01:57<00:27, 79.36batch/s]"
     ]
    },
    {
     "name": "stdout",
     "output_type": "stream",
     "text": [
      "tensor([4])\n",
      "tensor([4])\n",
      "tensor([3])\n",
      "tensor([1])\n",
      "tensor([4])\n",
      "tensor([1])\n",
      "tensor([3])\n",
      "tensor([3])\n",
      "tensor([1])\n",
      "tensor([1])\n",
      "tensor([4])\n",
      "tensor([5])\n",
      "tensor([2])\n"
     ]
    },
    {
     "name": "stderr",
     "output_type": "stream",
     "text": [
      "Iterating training graphs:  76%|███████▌  | 6855/9024 [01:57<00:27, 78.13batch/s]"
     ]
    },
    {
     "name": "stdout",
     "output_type": "stream",
     "text": [
      "tensor([1])\n",
      "tensor([2])\n",
      "tensor([4])\n",
      "tensor([1])\n",
      "tensor([0])\n",
      "tensor([1])\n",
      "tensor([4])\n",
      "tensor([3])\n",
      "tensor([4])\n",
      "tensor([3])\n",
      "tensor([1])\n",
      "tensor([4])\n",
      "tensor([2])\n"
     ]
    },
    {
     "name": "stderr",
     "output_type": "stream",
     "text": [
      "Iterating training graphs:  76%|███████▌  | 6871/9024 [01:57<00:36, 59.11batch/s]"
     ]
    },
    {
     "name": "stdout",
     "output_type": "stream",
     "text": [
      "tensor([4])\n",
      "tensor([3])\n",
      "tensor([1])\n",
      "tensor([2])\n",
      "tensor([4])\n",
      "tensor([3])\n",
      "tensor([2])\n",
      "tensor([2])\n",
      "tensor([2])\n",
      "tensor([2])\n",
      "tensor([3])\n",
      "tensor([1])\n",
      "tensor([1])\n"
     ]
    },
    {
     "name": "stderr",
     "output_type": "stream",
     "text": [
      "Iterating training graphs:  76%|███████▋  | 6884/9024 [01:58<00:28, 74.65batch/s]"
     ]
    },
    {
     "name": "stdout",
     "output_type": "stream",
     "text": [
      "tensor([3])\n",
      "tensor([2])\n",
      "tensor([3])\n",
      "tensor([4])\n",
      "tensor([1])\n",
      "tensor([0])\n",
      "tensor([1])\n",
      "tensor([4])\n",
      "tensor([3])\n",
      "tensor([0])\n",
      "tensor([3])\n",
      "tensor([2])\n",
      "tensor([3])\n",
      "tensor([0])\n",
      "tensor([2])\n",
      "tensor([1])\n",
      "tensor([0])\n",
      "tensor([2])\n",
      "tensor([5])\n",
      "tensor([4])\n"
     ]
    },
    {
     "name": "stderr",
     "output_type": "stream",
     "text": [
      "Iterating training graphs:  76%|███████▋  | 6902/9024 [01:58<00:32, 65.36batch/s]"
     ]
    },
    {
     "name": "stdout",
     "output_type": "stream",
     "text": [
      "tensor([5])\n",
      "tensor([1])\n",
      "tensor([2])\n",
      "tensor([4])\n",
      "tensor([3])\n",
      "tensor([2])\n",
      "tensor([2])\n",
      "tensor([3])\n",
      "tensor([2])\n",
      "tensor([3])\n",
      "tensor([0])\n",
      "tensor([4])\n"
     ]
    },
    {
     "name": "stderr",
     "output_type": "stream",
     "text": [
      "Iterating training graphs:  77%|███████▋  | 6915/9024 [01:58<00:26, 79.90batch/s]"
     ]
    },
    {
     "name": "stdout",
     "output_type": "stream",
     "text": [
      "tensor([2])\n",
      "tensor([1])\n",
      "tensor([0])\n",
      "tensor([2])\n",
      "tensor([4])\n",
      "tensor([5])\n",
      "tensor([3])\n",
      "tensor([2])\n",
      "tensor([4])\n",
      "tensor([4])\n",
      "tensor([0])\n",
      "tensor([5])\n",
      "tensor([3])\n",
      "tensor([1])\n",
      "tensor([3])\n"
     ]
    },
    {
     "name": "stderr",
     "output_type": "stream",
     "text": [
      "Iterating training graphs:  77%|███████▋  | 6924/9024 [01:58<00:32, 64.75batch/s]"
     ]
    },
    {
     "name": "stdout",
     "output_type": "stream",
     "text": [
      "tensor([3])\n",
      "tensor([0])\n",
      "tensor([1])\n",
      "tensor([1])\n",
      "tensor([1])\n",
      "tensor([5])\n",
      "tensor([2])\n",
      "tensor([2])\n",
      "tensor([1])\n",
      "tensor([3])\n",
      "tensor([0])\n",
      "tensor([2])\n"
     ]
    },
    {
     "name": "stderr",
     "output_type": "stream",
     "text": [
      "Iterating training graphs:  77%|███████▋  | 6939/9024 [01:58<00:34, 60.44batch/s]"
     ]
    },
    {
     "name": "stdout",
     "output_type": "stream",
     "text": [
      "tensor([3])\n",
      "tensor([3])\n",
      "tensor([1])\n",
      "tensor([2])\n",
      "tensor([2])\n",
      "tensor([2])\n",
      "tensor([2])\n",
      "tensor([2])\n",
      "tensor([2])\n",
      "tensor([3])\n",
      "tensor([2])\n",
      "tensor([3])\n",
      "tensor([2])\n"
     ]
    },
    {
     "name": "stderr",
     "output_type": "stream",
     "text": [
      "Iterating training graphs:  77%|███████▋  | 6955/9024 [01:59<00:30, 68.34batch/s]"
     ]
    },
    {
     "name": "stdout",
     "output_type": "stream",
     "text": [
      "tensor([4])\n",
      "tensor([1])\n",
      "tensor([3])\n",
      "tensor([4])\n",
      "tensor([3])\n",
      "tensor([2])\n",
      "tensor([2])\n",
      "tensor([3])\n",
      "tensor([2])\n",
      "tensor([4])\n",
      "tensor([3])\n",
      "tensor([5])\n",
      "tensor([1])\n",
      "tensor([1])\n",
      "tensor([3])\n",
      "tensor([3])\n",
      "tensor([4])\n"
     ]
    },
    {
     "name": "stderr",
     "output_type": "stream",
     "text": [
      "Iterating training graphs:  77%|███████▋  | 6974/9024 [01:59<00:26, 77.55batch/s]"
     ]
    },
    {
     "name": "stdout",
     "output_type": "stream",
     "text": [
      "tensor([5])\n",
      "tensor([4])\n",
      "tensor([4])\n",
      "tensor([0])\n",
      "tensor([3])\n",
      "tensor([0])\n",
      "tensor([1])\n",
      "tensor([4])\n",
      "tensor([0])\n",
      "tensor([5])\n",
      "tensor([2])\n",
      "tensor([0])\n",
      "tensor([2])\n",
      "tensor([1])\n",
      "tensor([1])\n",
      "tensor([2])\n",
      "tensor([2])\n",
      "tensor([2])\n",
      "tensor([3])\n",
      "tensor([5])\n",
      "tensor([2])\n",
      "tensor([2])\n",
      "tensor([1])\n"
     ]
    },
    {
     "name": "stderr",
     "output_type": "stream",
     "text": [
      "Iterating training graphs:  77%|███████▋  | 6987/9024 [01:59<00:22, 91.37batch/s]"
     ]
    },
    {
     "name": "stdout",
     "output_type": "stream",
     "text": [
      "tensor([2])\n",
      "tensor([2])\n",
      "tensor([4])\n",
      "tensor([1])\n",
      "tensor([3])\n",
      "tensor([3])\n",
      "tensor([1])\n",
      "tensor([3])\n",
      "tensor([0])\n",
      "tensor([1])\n",
      "tensor([1])\n",
      "tensor([2])\n"
     ]
    },
    {
     "name": "stderr",
     "output_type": "stream",
     "text": [
      "Iterating training graphs:  78%|███████▊  | 7007/9024 [01:59<00:29, 69.23batch/s]"
     ]
    },
    {
     "name": "stdout",
     "output_type": "stream",
     "text": [
      "tensor([3])\n",
      "tensor([2])\n",
      "tensor([3])\n",
      "tensor([1])\n",
      "tensor([1])\n",
      "tensor([1])\n",
      "tensor([2])\n",
      "tensor([3])\n",
      "tensor([3])\n",
      "tensor([4])\n",
      "tensor([3])\n",
      "tensor([2])\n",
      "tensor([5])\n",
      "tensor([0])\n",
      "tensor([2])\n"
     ]
    },
    {
     "name": "stderr",
     "output_type": "stream",
     "text": [
      "Iterating training graphs:  78%|███████▊  | 7015/9024 [01:59<00:30, 66.05batch/s]"
     ]
    },
    {
     "name": "stdout",
     "output_type": "stream",
     "text": [
      "tensor([2])\n",
      "tensor([0])\n",
      "tensor([2])\n",
      "tensor([1])\n",
      "tensor([2])\n",
      "tensor([2])\n",
      "tensor([3])\n",
      "tensor([1])\n",
      "tensor([2])\n",
      "tensor([2])\n"
     ]
    },
    {
     "name": "stderr",
     "output_type": "stream",
     "text": [
      "Iterating training graphs:  78%|███████▊  | 7029/9024 [02:00<00:39, 51.07batch/s]"
     ]
    },
    {
     "name": "stdout",
     "output_type": "stream",
     "text": [
      "tensor([4])\n",
      "tensor([4])\n",
      "tensor([2])\n",
      "tensor([1])\n",
      "tensor([2])\n",
      "tensor([3])\n",
      "tensor([5])\n",
      "tensor([4])\n",
      "tensor([3])\n",
      "tensor([3])\n",
      "tensor([3])\n",
      "tensor([2])\n"
     ]
    },
    {
     "name": "stderr",
     "output_type": "stream",
     "text": [
      "Iterating training graphs:  78%|███████▊  | 7043/9024 [02:00<00:34, 57.89batch/s]"
     ]
    },
    {
     "name": "stdout",
     "output_type": "stream",
     "text": [
      "tensor([5])\n",
      "tensor([3])\n",
      "tensor([2])\n",
      "tensor([1])\n",
      "tensor([3])\n",
      "tensor([5])\n",
      "tensor([4])\n",
      "tensor([1])\n",
      "tensor([1])\n",
      "tensor([1])\n",
      "tensor([2])\n",
      "tensor([4])\n",
      "tensor([3])\n",
      "tensor([2])\n"
     ]
    },
    {
     "name": "stderr",
     "output_type": "stream",
     "text": [
      "Iterating training graphs:  78%|███████▊  | 7057/9024 [02:00<00:32, 60.85batch/s]"
     ]
    },
    {
     "name": "stdout",
     "output_type": "stream",
     "text": [
      "tensor([3])\n",
      "tensor([4])\n",
      "tensor([2])\n",
      "tensor([1])\n",
      "tensor([3])\n",
      "tensor([3])\n",
      "tensor([0])\n",
      "tensor([0])\n",
      "tensor([0])\n",
      "tensor([2])\n",
      "tensor([2])\n",
      "tensor([2])\n",
      "tensor([4])\n",
      "tensor([2])\n",
      "tensor([2])\n",
      "tensor([4])\n",
      "tensor([4])\n"
     ]
    },
    {
     "name": "stderr",
     "output_type": "stream",
     "text": [
      "Iterating training graphs:  78%|███████▊  | 7071/9024 [02:01<00:34, 56.33batch/s]"
     ]
    },
    {
     "name": "stdout",
     "output_type": "stream",
     "text": [
      "tensor([3])\n",
      "tensor([2])\n",
      "tensor([3])\n",
      "tensor([0])\n",
      "tensor([1])\n",
      "tensor([0])\n",
      "tensor([2])\n",
      "tensor([1])\n",
      "tensor([3])\n",
      "tensor([1])\n"
     ]
    },
    {
     "name": "stderr",
     "output_type": "stream",
     "text": [
      "Iterating training graphs:  79%|███████▊  | 7086/9024 [02:01<00:30, 64.48batch/s]"
     ]
    },
    {
     "name": "stdout",
     "output_type": "stream",
     "text": [
      "tensor([0])\n",
      "tensor([1])\n",
      "tensor([2])\n",
      "tensor([3])\n",
      "tensor([2])\n",
      "tensor([5])\n",
      "tensor([0])\n",
      "tensor([2])\n",
      "tensor([3])\n",
      "tensor([0])\n",
      "tensor([4])\n",
      "tensor([2])\n",
      "tensor([2])\n",
      "tensor([3])\n",
      "tensor([1])\n"
     ]
    },
    {
     "name": "stderr",
     "output_type": "stream",
     "text": [
      "Iterating training graphs:  79%|███████▊  | 7093/9024 [02:01<00:30, 63.36batch/s]"
     ]
    },
    {
     "name": "stdout",
     "output_type": "stream",
     "text": [
      "tensor([0])\n",
      "tensor([1])\n",
      "tensor([3])\n",
      "tensor([0])\n",
      "tensor([0])\n",
      "tensor([2])\n",
      "tensor([4])\n",
      "tensor([0])\n",
      "tensor([0])\n"
     ]
    },
    {
     "name": "stderr",
     "output_type": "stream",
     "text": [
      "Iterating training graphs:  79%|███████▉  | 7115/9024 [02:01<00:29, 64.28batch/s]"
     ]
    },
    {
     "name": "stdout",
     "output_type": "stream",
     "text": [
      "tensor([2])\n",
      "tensor([4])\n",
      "tensor([2])\n",
      "tensor([5])\n",
      "tensor([1])\n",
      "tensor([1])\n",
      "tensor([1])\n",
      "tensor([1])\n",
      "tensor([1])\n",
      "tensor([4])\n",
      "tensor([3])\n",
      "tensor([2])\n",
      "tensor([2])\n",
      "tensor([4])\n",
      "tensor([4])\n",
      "tensor([2])\n",
      "tensor([4])\n",
      "tensor([1])\n",
      "tensor([5])\n",
      "tensor([4])\n",
      "tensor([4])\n",
      "tensor([4])\n"
     ]
    },
    {
     "name": "stderr",
     "output_type": "stream",
     "text": [
      "Iterating training graphs:  79%|███████▉  | 7136/9024 [02:01<00:24, 75.65batch/s]"
     ]
    },
    {
     "name": "stdout",
     "output_type": "stream",
     "text": [
      "tensor([2])\n",
      "tensor([3])\n",
      "tensor([4])\n",
      "tensor([2])\n",
      "tensor([2])\n",
      "tensor([4])\n",
      "tensor([1])\n",
      "tensor([0])\n",
      "tensor([3])\n",
      "tensor([4])\n",
      "tensor([3])\n",
      "tensor([1])\n",
      "tensor([2])\n",
      "tensor([3])\n",
      "tensor([2])\n",
      "tensor([2])\n",
      "tensor([3])\n",
      "tensor([5])\n"
     ]
    },
    {
     "name": "stderr",
     "output_type": "stream",
     "text": [
      "Iterating training graphs:  79%|███████▉  | 7145/9024 [02:02<00:24, 77.41batch/s]"
     ]
    },
    {
     "name": "stdout",
     "output_type": "stream",
     "text": [
      "tensor([2])\n",
      "tensor([4])\n",
      "tensor([3])\n",
      "tensor([2])\n",
      "tensor([1])\n",
      "tensor([1])\n",
      "tensor([4])\n",
      "tensor([4])\n",
      "tensor([4])\n",
      "tensor([2])\n",
      "tensor([1])\n",
      "tensor([1])\n",
      "tensor([4])\n",
      "tensor([2])\n",
      "tensor([1])\n"
     ]
    },
    {
     "name": "stderr",
     "output_type": "stream",
     "text": [
      "Iterating training graphs:  79%|███████▉  | 7162/9024 [02:02<00:25, 72.26batch/s]"
     ]
    },
    {
     "name": "stdout",
     "output_type": "stream",
     "text": [
      "tensor([2])\n",
      "tensor([5])\n",
      "tensor([3])\n",
      "tensor([2])\n",
      "tensor([2])\n",
      "tensor([2])\n",
      "tensor([5])\n",
      "tensor([3])\n",
      "tensor([4])\n",
      "tensor([1])\n",
      "tensor([4])\n",
      "tensor([4])\n",
      "tensor([1])\n",
      "tensor([0])\n",
      "tensor([2])\n"
     ]
    },
    {
     "name": "stderr",
     "output_type": "stream",
     "text": [
      "Iterating training graphs:  80%|███████▉  | 7179/9024 [02:02<00:25, 72.77batch/s]"
     ]
    },
    {
     "name": "stdout",
     "output_type": "stream",
     "text": [
      "tensor([4])\n",
      "tensor([5])\n",
      "tensor([2])\n",
      "tensor([5])\n",
      "tensor([2])\n",
      "tensor([2])\n",
      "tensor([2])\n",
      "tensor([4])\n",
      "tensor([3])\n",
      "tensor([2])\n",
      "tensor([4])\n",
      "tensor([2])\n",
      "tensor([2])\n",
      "tensor([1])\n",
      "tensor([3])\n",
      "tensor([2])\n",
      "tensor([4])\n"
     ]
    },
    {
     "name": "stderr",
     "output_type": "stream",
     "text": [
      "Iterating training graphs:  80%|███████▉  | 7195/9024 [02:02<00:29, 61.71batch/s]"
     ]
    },
    {
     "name": "stdout",
     "output_type": "stream",
     "text": [
      "tensor([4])\n",
      "tensor([1])\n",
      "tensor([2])\n",
      "tensor([2])\n",
      "tensor([3])\n",
      "tensor([3])\n",
      "tensor([2])\n",
      "tensor([3])\n",
      "tensor([3])\n",
      "tensor([5])\n",
      "tensor([4])\n",
      "tensor([1])\n"
     ]
    },
    {
     "name": "stderr",
     "output_type": "stream",
     "text": [
      "Iterating training graphs:  80%|███████▉  | 7209/9024 [02:03<00:28, 63.39batch/s]"
     ]
    },
    {
     "name": "stdout",
     "output_type": "stream",
     "text": [
      "tensor([1])\n",
      "tensor([3])\n",
      "tensor([4])\n",
      "tensor([5])\n",
      "tensor([2])\n",
      "tensor([0])\n",
      "tensor([2])\n",
      "tensor([3])\n",
      "tensor([2])\n",
      "tensor([5])\n",
      "tensor([2])\n",
      "tensor([2])\n",
      "tensor([5])\n",
      "tensor([2])\n",
      "tensor([1])\n"
     ]
    },
    {
     "name": "stderr",
     "output_type": "stream",
     "text": [
      "Iterating training graphs:  80%|████████  | 7228/9024 [02:03<00:23, 77.72batch/s]"
     ]
    },
    {
     "name": "stdout",
     "output_type": "stream",
     "text": [
      "tensor([1])\n",
      "tensor([0])\n",
      "tensor([5])\n",
      "tensor([4])\n",
      "tensor([4])\n",
      "tensor([4])\n",
      "tensor([2])\n",
      "tensor([4])\n",
      "tensor([2])\n",
      "tensor([1])\n",
      "tensor([2])\n",
      "tensor([3])\n",
      "tensor([1])\n",
      "tensor([1])\n",
      "tensor([3])\n",
      "tensor([3])\n",
      "tensor([2])\n",
      "tensor([1])\n",
      "tensor([2])\n",
      "tensor([5])\n"
     ]
    },
    {
     "name": "stderr",
     "output_type": "stream",
     "text": [
      "Iterating training graphs:  80%|████████  | 7237/9024 [02:03<00:25, 70.44batch/s]"
     ]
    },
    {
     "name": "stdout",
     "output_type": "stream",
     "text": [
      "tensor([4])\n",
      "tensor([4])\n",
      "tensor([3])\n",
      "tensor([2])\n",
      "tensor([4])\n",
      "tensor([5])\n",
      "tensor([0])\n",
      "tensor([3])\n",
      "tensor([2])\n",
      "tensor([0])\n",
      "tensor([2])\n"
     ]
    },
    {
     "name": "stderr",
     "output_type": "stream",
     "text": [
      "Iterating training graphs:  80%|████████  | 7253/9024 [02:03<00:30, 58.44batch/s]"
     ]
    },
    {
     "name": "stdout",
     "output_type": "stream",
     "text": [
      "tensor([2])\n",
      "tensor([2])\n",
      "tensor([4])\n",
      "tensor([1])\n",
      "tensor([1])\n",
      "tensor([3])\n",
      "tensor([0])\n",
      "tensor([2])\n",
      "tensor([4])\n",
      "tensor([2])\n",
      "tensor([3])\n"
     ]
    },
    {
     "name": "stderr",
     "output_type": "stream",
     "text": [
      "Iterating training graphs:  80%|████████  | 7260/9024 [02:03<00:29, 60.03batch/s]"
     ]
    },
    {
     "name": "stdout",
     "output_type": "stream",
     "text": [
      "tensor([1])\n",
      "tensor([2])\n",
      "tensor([1])\n",
      "tensor([4])\n",
      "tensor([0])\n",
      "tensor([4])\n",
      "tensor([3])\n",
      "tensor([0])\n",
      "tensor([0])\n",
      "tensor([2])\n",
      "tensor([5])\n",
      "tensor([1])\n",
      "tensor([1])\n"
     ]
    },
    {
     "name": "stderr",
     "output_type": "stream",
     "text": [
      "Iterating training graphs:  81%|████████  | 7267/9024 [02:03<00:29, 59.93batch/s]"
     ]
    },
    {
     "name": "stdout",
     "output_type": "stream",
     "text": [
      "tensor([2])\n",
      "tensor([3])\n",
      "tensor([3])\n",
      "tensor([4])\n",
      "tensor([2])\n",
      "tensor([3])\n",
      "tensor([3])\n"
     ]
    },
    {
     "name": "stderr",
     "output_type": "stream",
     "text": [
      "Iterating training graphs:  81%|████████  | 7280/9024 [02:04<00:36, 47.20batch/s]"
     ]
    },
    {
     "name": "stdout",
     "output_type": "stream",
     "text": [
      "tensor([4])\n",
      "tensor([4])\n",
      "tensor([1])\n",
      "tensor([4])\n",
      "tensor([2])\n",
      "tensor([2])\n",
      "tensor([3])\n",
      "tensor([2])\n",
      "tensor([2])\n",
      "tensor([2])\n",
      "tensor([2])\n",
      "tensor([5])\n",
      "tensor([2])\n"
     ]
    },
    {
     "name": "stderr",
     "output_type": "stream",
     "text": [
      "Iterating training graphs:  81%|████████  | 7295/9024 [02:04<00:30, 56.64batch/s]"
     ]
    },
    {
     "name": "stdout",
     "output_type": "stream",
     "text": [
      "tensor([4])\n",
      "tensor([2])\n",
      "tensor([1])\n",
      "tensor([1])\n",
      "tensor([3])\n",
      "tensor([4])\n",
      "tensor([4])\n",
      "tensor([2])\n",
      "tensor([5])\n",
      "tensor([2])\n",
      "tensor([3])\n",
      "tensor([2])\n"
     ]
    },
    {
     "name": "stderr",
     "output_type": "stream",
     "text": [
      "Iterating training graphs:  81%|████████  | 7302/9024 [02:04<00:29, 57.68batch/s]"
     ]
    },
    {
     "name": "stdout",
     "output_type": "stream",
     "text": [
      "tensor([0])\n",
      "tensor([2])\n",
      "tensor([2])\n",
      "tensor([3])\n",
      "tensor([2])\n",
      "tensor([4])\n",
      "tensor([0])\n",
      "tensor([3])\n",
      "tensor([2])\n",
      "tensor([1])\n"
     ]
    },
    {
     "name": "stderr",
     "output_type": "stream",
     "text": [
      "Iterating training graphs:  81%|████████  | 7319/9024 [02:04<00:28, 59.94batch/s]"
     ]
    },
    {
     "name": "stdout",
     "output_type": "stream",
     "text": [
      "tensor([4])\n",
      "tensor([2])\n",
      "tensor([1])\n",
      "tensor([0])\n",
      "tensor([2])\n",
      "tensor([1])\n",
      "tensor([1])\n",
      "tensor([4])\n",
      "tensor([4])\n",
      "tensor([4])\n",
      "tensor([4])\n",
      "tensor([2])\n",
      "tensor([4])\n",
      "tensor([2])\n",
      "tensor([1])\n"
     ]
    },
    {
     "name": "stderr",
     "output_type": "stream",
     "text": [
      "Iterating training graphs:  81%|████████  | 7326/9024 [02:05<00:32, 52.19batch/s]"
     ]
    },
    {
     "name": "stdout",
     "output_type": "stream",
     "text": [
      "tensor([4])\n",
      "tensor([3])\n",
      "tensor([2])\n",
      "tensor([0])\n",
      "tensor([2])\n",
      "tensor([1])\n"
     ]
    },
    {
     "name": "stderr",
     "output_type": "stream",
     "text": [
      "Iterating training graphs:  81%|████████▏ | 7339/9024 [02:05<00:30, 55.14batch/s]"
     ]
    },
    {
     "name": "stdout",
     "output_type": "stream",
     "text": [
      "tensor([0])\n",
      "tensor([2])\n",
      "tensor([0])\n",
      "tensor([4])\n",
      "tensor([2])\n",
      "tensor([4])\n",
      "tensor([1])\n",
      "tensor([2])\n",
      "tensor([4])\n",
      "tensor([2])\n",
      "tensor([0])\n",
      "tensor([0])\n",
      "tensor([4])\n",
      "tensor([2])\n",
      "tensor([4])\n",
      "tensor([0])\n",
      "tensor([1])\n"
     ]
    },
    {
     "name": "stderr",
     "output_type": "stream",
     "text": [
      "Iterating training graphs:  82%|████████▏ | 7359/9024 [02:05<00:24, 66.94batch/s]"
     ]
    },
    {
     "name": "stdout",
     "output_type": "stream",
     "text": [
      "tensor([2])\n",
      "tensor([1])\n",
      "tensor([0])\n",
      "tensor([2])\n",
      "tensor([4])\n",
      "tensor([0])\n",
      "tensor([2])\n",
      "tensor([2])\n",
      "tensor([4])\n",
      "tensor([2])\n",
      "tensor([2])\n",
      "tensor([3])\n",
      "tensor([5])\n",
      "tensor([4])\n",
      "tensor([4])\n",
      "tensor([5])\n",
      "tensor([0])\n"
     ]
    },
    {
     "name": "stderr",
     "output_type": "stream",
     "text": [
      "Iterating training graphs:  82%|████████▏ | 7379/9024 [02:05<00:20, 81.65batch/s]"
     ]
    },
    {
     "name": "stdout",
     "output_type": "stream",
     "text": [
      "tensor([2])\n",
      "tensor([1])\n",
      "tensor([4])\n",
      "tensor([4])\n",
      "tensor([1])\n",
      "tensor([2])\n",
      "tensor([2])\n",
      "tensor([2])\n",
      "tensor([3])\n",
      "tensor([5])\n",
      "tensor([4])\n",
      "tensor([4])\n",
      "tensor([5])\n",
      "tensor([1])\n",
      "tensor([2])\n",
      "tensor([1])\n",
      "tensor([2])\n",
      "tensor([3])\n",
      "tensor([2])\n"
     ]
    },
    {
     "name": "stderr",
     "output_type": "stream",
     "text": [
      "Iterating training graphs:  82%|████████▏ | 7388/9024 [02:06<00:24, 66.22batch/s]"
     ]
    },
    {
     "name": "stdout",
     "output_type": "stream",
     "text": [
      "tensor([1])\n",
      "tensor([2])\n",
      "tensor([2])\n",
      "tensor([3])\n",
      "tensor([3])\n",
      "tensor([4])\n",
      "tensor([5])\n",
      "tensor([2])\n",
      "tensor([2])\n",
      "tensor([4])\n"
     ]
    },
    {
     "name": "stderr",
     "output_type": "stream",
     "text": [
      "Iterating training graphs:  82%|████████▏ | 7396/9024 [02:06<00:28, 56.67batch/s]"
     ]
    },
    {
     "name": "stdout",
     "output_type": "stream",
     "text": [
      "tensor([1])\n",
      "tensor([4])\n",
      "tensor([3])\n",
      "tensor([2])\n",
      "tensor([2])\n",
      "tensor([2])\n",
      "tensor([1])\n",
      "tensor([4])\n",
      "tensor([0])\n"
     ]
    },
    {
     "name": "stderr",
     "output_type": "stream",
     "text": [
      "Iterating training graphs:  82%|████████▏ | 7409/9024 [02:06<00:31, 51.85batch/s]"
     ]
    },
    {
     "name": "stdout",
     "output_type": "stream",
     "text": [
      "tensor([4])\n",
      "tensor([2])\n",
      "tensor([5])\n",
      "tensor([3])\n",
      "tensor([1])\n",
      "tensor([1])\n",
      "tensor([3])\n",
      "tensor([4])\n",
      "tensor([5])\n",
      "tensor([4])\n",
      "tensor([3])\n",
      "tensor([2])\n",
      "tensor([0])\n",
      "tensor([5])\n",
      "tensor([1])\n",
      "tensor([4])\n",
      "tensor([1])\n"
     ]
    },
    {
     "name": "stderr",
     "output_type": "stream",
     "text": [
      "Iterating training graphs:  82%|████████▏ | 7428/9024 [02:06<00:23, 69.02batch/s]"
     ]
    },
    {
     "name": "stdout",
     "output_type": "stream",
     "text": [
      "tensor([3])\n",
      "tensor([2])\n",
      "tensor([4])\n",
      "tensor([2])\n",
      "tensor([4])\n",
      "tensor([4])\n",
      "tensor([4])\n",
      "tensor([2])\n",
      "tensor([1])\n",
      "tensor([2])\n",
      "tensor([2])\n",
      "tensor([4])\n",
      "tensor([1])\n",
      "tensor([1])\n",
      "tensor([0])\n"
     ]
    },
    {
     "name": "stderr",
     "output_type": "stream",
     "text": [
      "Iterating training graphs:  82%|████████▏ | 7444/9024 [02:06<00:23, 68.38batch/s]"
     ]
    },
    {
     "name": "stdout",
     "output_type": "stream",
     "text": [
      "tensor([2])\n",
      "tensor([2])\n",
      "tensor([4])\n",
      "tensor([0])\n",
      "tensor([1])\n",
      "tensor([3])\n",
      "tensor([3])\n",
      "tensor([2])\n",
      "tensor([3])\n",
      "tensor([0])\n",
      "tensor([5])\n",
      "tensor([4])\n",
      "tensor([0])\n",
      "tensor([2])\n",
      "tensor([1])\n"
     ]
    },
    {
     "name": "stderr",
     "output_type": "stream",
     "text": [
      "Iterating training graphs:  83%|████████▎ | 7461/9024 [02:07<00:23, 67.07batch/s]"
     ]
    },
    {
     "name": "stdout",
     "output_type": "stream",
     "text": [
      "tensor([4])\n",
      "tensor([2])\n",
      "tensor([3])\n",
      "tensor([1])\n",
      "tensor([1])\n",
      "tensor([4])\n",
      "tensor([0])\n",
      "tensor([1])\n",
      "tensor([4])\n",
      "tensor([3])\n",
      "tensor([1])\n",
      "tensor([0])\n",
      "tensor([2])\n",
      "tensor([2])\n",
      "tensor([2])\n"
     ]
    },
    {
     "name": "stderr",
     "output_type": "stream",
     "text": [
      "Iterating training graphs:  83%|████████▎ | 7475/9024 [02:07<00:26, 57.93batch/s]"
     ]
    },
    {
     "name": "stdout",
     "output_type": "stream",
     "text": [
      "tensor([3])\n",
      "tensor([2])\n",
      "tensor([3])\n",
      "tensor([2])\n",
      "tensor([1])\n",
      "tensor([2])\n",
      "tensor([1])\n",
      "tensor([2])\n",
      "tensor([4])\n",
      "tensor([2])\n",
      "tensor([1])\n",
      "tensor([2])\n"
     ]
    },
    {
     "name": "stderr",
     "output_type": "stream",
     "text": [
      "Iterating training graphs:  83%|████████▎ | 7488/9024 [02:07<00:20, 74.69batch/s]"
     ]
    },
    {
     "name": "stdout",
     "output_type": "stream",
     "text": [
      "tensor([2])\n",
      "tensor([4])\n",
      "tensor([4])\n",
      "tensor([0])\n",
      "tensor([2])\n",
      "tensor([3])\n",
      "tensor([0])\n",
      "tensor([2])\n",
      "tensor([1])\n",
      "tensor([2])\n",
      "tensor([2])\n",
      "tensor([2])\n",
      "tensor([3])\n",
      "tensor([3])\n",
      "tensor([3])\n",
      "tensor([4])\n",
      "tensor([4])\n",
      "tensor([0])\n",
      "tensor([0])\n",
      "tensor([2])\n",
      "tensor([3])\n"
     ]
    },
    {
     "name": "stderr",
     "output_type": "stream",
     "text": [
      "Iterating training graphs:  83%|████████▎ | 7505/9024 [02:07<00:20, 74.59batch/s]"
     ]
    },
    {
     "name": "stdout",
     "output_type": "stream",
     "text": [
      "tensor([0])\n",
      "tensor([4])\n",
      "tensor([2])\n",
      "tensor([4])\n",
      "tensor([3])\n",
      "tensor([5])\n",
      "tensor([2])\n",
      "tensor([3])\n",
      "tensor([3])\n",
      "tensor([1])\n",
      "tensor([4])\n",
      "tensor([0])\n"
     ]
    },
    {
     "name": "stderr",
     "output_type": "stream",
     "text": [
      "Iterating training graphs:  83%|████████▎ | 7520/9024 [02:08<00:23, 64.39batch/s]"
     ]
    },
    {
     "name": "stdout",
     "output_type": "stream",
     "text": [
      "tensor([0])\n",
      "tensor([1])\n",
      "tensor([5])\n",
      "tensor([1])\n",
      "tensor([2])\n",
      "tensor([2])\n",
      "tensor([2])\n",
      "tensor([2])\n",
      "tensor([1])\n",
      "tensor([4])\n",
      "tensor([5])\n",
      "tensor([0])\n",
      "tensor([2])\n",
      "tensor([4])\n",
      "tensor([2])\n"
     ]
    },
    {
     "name": "stderr",
     "output_type": "stream",
     "text": [
      "Iterating training graphs:  84%|████████▎ | 7539/9024 [02:08<00:19, 76.43batch/s]"
     ]
    },
    {
     "name": "stdout",
     "output_type": "stream",
     "text": [
      "tensor([1])\n",
      "tensor([2])\n",
      "tensor([2])\n",
      "tensor([3])\n",
      "tensor([2])\n",
      "tensor([1])\n",
      "tensor([1])\n",
      "tensor([4])\n",
      "tensor([1])\n",
      "tensor([3])\n",
      "tensor([4])\n",
      "tensor([3])\n",
      "tensor([4])\n",
      "tensor([4])\n",
      "tensor([4])\n",
      "tensor([3])\n",
      "tensor([2])\n",
      "tensor([1])\n",
      "tensor([2])\n",
      "tensor([0])\n"
     ]
    },
    {
     "name": "stderr",
     "output_type": "stream",
     "text": [
      "Iterating training graphs:  84%|████████▎ | 7557/9024 [02:08<00:21, 67.72batch/s]"
     ]
    },
    {
     "name": "stdout",
     "output_type": "stream",
     "text": [
      "tensor([4])\n",
      "tensor([5])\n",
      "tensor([1])\n",
      "tensor([4])\n",
      "tensor([2])\n",
      "tensor([4])\n",
      "tensor([0])\n",
      "tensor([3])\n",
      "tensor([2])\n",
      "tensor([0])\n",
      "tensor([2])\n",
      "tensor([0])\n",
      "tensor([3])\n",
      "tensor([3])\n"
     ]
    },
    {
     "name": "stderr",
     "output_type": "stream",
     "text": [
      "Iterating training graphs:  84%|████████▍ | 7565/9024 [02:08<00:22, 63.96batch/s]"
     ]
    },
    {
     "name": "stdout",
     "output_type": "stream",
     "text": [
      "tensor([2])\n",
      "tensor([5])\n",
      "tensor([4])\n",
      "tensor([5])\n",
      "tensor([4])\n",
      "tensor([2])\n",
      "tensor([3])\n",
      "tensor([1])\n",
      "tensor([1])\n",
      "tensor([0])\n",
      "tensor([0])\n",
      "tensor([3])\n"
     ]
    },
    {
     "name": "stderr",
     "output_type": "stream",
     "text": [
      "Iterating training graphs:  84%|████████▍ | 7589/9024 [02:08<00:17, 83.60batch/s]"
     ]
    },
    {
     "name": "stdout",
     "output_type": "stream",
     "text": [
      "tensor([3])\n",
      "tensor([2])\n",
      "tensor([5])\n",
      "tensor([2])\n",
      "tensor([5])\n",
      "tensor([1])\n",
      "tensor([2])\n",
      "tensor([0])\n",
      "tensor([3])\n",
      "tensor([4])\n",
      "tensor([2])\n",
      "tensor([2])\n",
      "tensor([5])\n",
      "tensor([4])\n",
      "tensor([3])\n",
      "tensor([2])\n",
      "tensor([4])\n",
      "tensor([2])\n",
      "tensor([2])\n",
      "tensor([3])\n",
      "tensor([2])\n",
      "tensor([4])\n",
      "tensor([1])\n",
      "tensor([1])\n",
      "tensor([0])\n",
      "tensor([2])\n",
      "tensor([0])\n",
      "tensor([2])\n"
     ]
    },
    {
     "name": "stderr",
     "output_type": "stream",
     "text": [
      "Iterating training graphs:  84%|████████▍ | 7611/9024 [02:09<00:16, 86.13batch/s]"
     ]
    },
    {
     "name": "stdout",
     "output_type": "stream",
     "text": [
      "tensor([2])\n",
      "tensor([4])\n",
      "tensor([2])\n",
      "tensor([4])\n",
      "tensor([2])\n",
      "tensor([0])\n",
      "tensor([1])\n",
      "tensor([0])\n",
      "tensor([0])\n",
      "tensor([1])\n",
      "tensor([4])\n",
      "tensor([4])\n",
      "tensor([2])\n",
      "tensor([4])\n",
      "tensor([0])\n"
     ]
    },
    {
     "name": "stderr",
     "output_type": "stream",
     "text": [
      "Iterating training graphs:  84%|████████▍ | 7621/9024 [02:09<00:19, 71.44batch/s]"
     ]
    },
    {
     "name": "stdout",
     "output_type": "stream",
     "text": [
      "tensor([4])\n",
      "tensor([3])\n",
      "tensor([0])\n",
      "tensor([0])\n",
      "tensor([1])\n",
      "tensor([5])\n",
      "tensor([5])\n",
      "tensor([3])\n",
      "tensor([1])\n",
      "tensor([2])\n",
      "tensor([4])\n",
      "tensor([4])\n",
      "tensor([1])\n"
     ]
    },
    {
     "name": "stderr",
     "output_type": "stream",
     "text": [
      "Iterating training graphs:  85%|████████▍ | 7631/9024 [02:09<00:20, 67.91batch/s]"
     ]
    },
    {
     "name": "stdout",
     "output_type": "stream",
     "text": [
      "tensor([3])\n",
      "tensor([3])\n",
      "tensor([0])\n",
      "tensor([1])\n",
      "tensor([4])\n",
      "tensor([1])\n",
      "tensor([2])\n",
      "tensor([0])\n",
      "tensor([1])\n",
      "tensor([0])\n",
      "tensor([5])\n",
      "tensor([2])\n",
      "tensor([4])\n",
      "tensor([1])\n"
     ]
    },
    {
     "name": "stderr",
     "output_type": "stream",
     "text": [
      "Iterating training graphs:  85%|████████▍ | 7647/9024 [02:09<00:23, 57.78batch/s]"
     ]
    },
    {
     "name": "stdout",
     "output_type": "stream",
     "text": [
      "tensor([2])\n",
      "tensor([2])\n",
      "tensor([2])\n",
      "tensor([3])\n",
      "tensor([1])\n",
      "tensor([5])\n",
      "tensor([0])\n",
      "tensor([5])\n",
      "tensor([5])\n",
      "tensor([1])\n",
      "tensor([1])\n",
      "tensor([2])\n"
     ]
    },
    {
     "name": "stderr",
     "output_type": "stream",
     "text": [
      "Iterating training graphs:  85%|████████▍ | 7665/9024 [02:10<00:19, 71.49batch/s]"
     ]
    },
    {
     "name": "stdout",
     "output_type": "stream",
     "text": [
      "tensor([1])\n",
      "tensor([0])\n",
      "tensor([4])\n",
      "tensor([1])\n",
      "tensor([2])\n",
      "tensor([2])\n",
      "tensor([4])\n",
      "tensor([2])\n",
      "tensor([3])\n",
      "tensor([2])\n",
      "tensor([2])\n",
      "tensor([2])\n",
      "tensor([3])\n",
      "tensor([1])\n",
      "tensor([2])\n",
      "tensor([3])\n",
      "tensor([4])\n",
      "tensor([4])\n",
      "tensor([4])\n",
      "tensor([4])\n",
      "tensor([2])\n"
     ]
    },
    {
     "name": "stderr",
     "output_type": "stream",
     "text": [
      "Iterating training graphs:  85%|████████▌ | 7685/9024 [02:10<00:16, 81.86batch/s]"
     ]
    },
    {
     "name": "stdout",
     "output_type": "stream",
     "text": [
      "tensor([1])\n",
      "tensor([2])\n",
      "tensor([1])\n",
      "tensor([0])\n",
      "tensor([4])\n",
      "tensor([4])\n",
      "tensor([2])\n",
      "tensor([4])\n",
      "tensor([4])\n",
      "tensor([3])\n",
      "tensor([1])\n",
      "tensor([2])\n",
      "tensor([0])\n",
      "tensor([1])\n",
      "tensor([2])\n",
      "tensor([0])\n",
      "tensor([2])\n",
      "tensor([3])\n",
      "tensor([2])\n",
      "tensor([2])\n"
     ]
    },
    {
     "name": "stderr",
     "output_type": "stream",
     "text": [
      "Iterating training graphs:  85%|████████▌ | 7704/9024 [02:10<00:15, 86.22batch/s]"
     ]
    },
    {
     "name": "stdout",
     "output_type": "stream",
     "text": [
      "tensor([2])\n",
      "tensor([3])\n",
      "tensor([4])\n",
      "tensor([2])\n",
      "tensor([1])\n",
      "tensor([2])\n",
      "tensor([4])\n",
      "tensor([4])\n",
      "tensor([2])\n",
      "tensor([2])\n",
      "tensor([2])\n",
      "tensor([4])\n",
      "tensor([0])\n",
      "tensor([0])\n",
      "tensor([3])\n",
      "tensor([4])\n",
      "tensor([2])\n",
      "tensor([4])\n"
     ]
    },
    {
     "name": "stderr",
     "output_type": "stream",
     "text": [
      "Iterating training graphs:  86%|████████▌ | 7722/9024 [02:10<00:17, 75.20batch/s]"
     ]
    },
    {
     "name": "stdout",
     "output_type": "stream",
     "text": [
      "tensor([3])\n",
      "tensor([0])\n",
      "tensor([2])\n",
      "tensor([4])\n",
      "tensor([4])\n",
      "tensor([4])\n",
      "tensor([4])\n",
      "tensor([2])\n",
      "tensor([0])\n",
      "tensor([2])\n",
      "tensor([4])\n",
      "tensor([2])\n",
      "tensor([2])\n",
      "tensor([3])\n"
     ]
    },
    {
     "name": "stderr",
     "output_type": "stream",
     "text": [
      "Iterating training graphs:  86%|████████▌ | 7730/9024 [02:11<00:20, 62.07batch/s]"
     ]
    },
    {
     "name": "stdout",
     "output_type": "stream",
     "text": [
      "tensor([1])\n",
      "tensor([3])\n",
      "tensor([0])\n",
      "tensor([3])\n",
      "tensor([0])\n",
      "tensor([3])\n",
      "tensor([3])\n",
      "tensor([4])\n",
      "tensor([0])\n"
     ]
    },
    {
     "name": "stderr",
     "output_type": "stream",
     "text": [
      "Iterating training graphs:  86%|████████▌ | 7748/9024 [02:11<00:17, 71.81batch/s]"
     ]
    },
    {
     "name": "stdout",
     "output_type": "stream",
     "text": [
      "tensor([0])\n",
      "tensor([1])\n",
      "tensor([4])\n",
      "tensor([0])\n",
      "tensor([2])\n",
      "tensor([1])\n",
      "tensor([1])\n",
      "tensor([2])\n",
      "tensor([4])\n",
      "tensor([1])\n",
      "tensor([2])\n",
      "tensor([1])\n",
      "tensor([1])\n",
      "tensor([2])\n",
      "tensor([0])\n",
      "tensor([4])\n"
     ]
    },
    {
     "name": "stderr",
     "output_type": "stream",
     "text": [
      "Iterating training graphs:  86%|████████▌ | 7767/9024 [02:11<00:15, 80.78batch/s]"
     ]
    },
    {
     "name": "stdout",
     "output_type": "stream",
     "text": [
      "tensor([2])\n",
      "tensor([4])\n",
      "tensor([3])\n",
      "tensor([4])\n",
      "tensor([0])\n",
      "tensor([2])\n",
      "tensor([4])\n",
      "tensor([1])\n",
      "tensor([1])\n",
      "tensor([1])\n",
      "tensor([2])\n",
      "tensor([1])\n",
      "tensor([2])\n",
      "tensor([3])\n",
      "tensor([1])\n",
      "tensor([2])\n",
      "tensor([2])\n",
      "tensor([1])\n",
      "tensor([1])\n",
      "tensor([0])\n",
      "tensor([3])\n",
      "tensor([4])\n"
     ]
    },
    {
     "name": "stderr",
     "output_type": "stream",
     "text": [
      "Iterating training graphs:  86%|████████▌ | 7776/9024 [02:11<00:17, 72.82batch/s]"
     ]
    },
    {
     "name": "stdout",
     "output_type": "stream",
     "text": [
      "tensor([3])\n",
      "tensor([2])\n",
      "tensor([5])\n",
      "tensor([2])\n",
      "tensor([2])\n",
      "tensor([0])\n",
      "tensor([0])\n",
      "tensor([2])\n",
      "tensor([4])\n",
      "tensor([0])\n"
     ]
    },
    {
     "name": "stderr",
     "output_type": "stream",
     "text": [
      "Iterating training graphs:  86%|████████▋ | 7784/9024 [02:11<00:20, 59.54batch/s]"
     ]
    },
    {
     "name": "stdout",
     "output_type": "stream",
     "text": [
      "tensor([3])\n",
      "tensor([4])\n",
      "tensor([1])\n",
      "tensor([2])\n",
      "tensor([2])\n",
      "tensor([0])\n",
      "tensor([1])\n"
     ]
    },
    {
     "name": "stderr",
     "output_type": "stream",
     "text": [
      "Iterating training graphs:  86%|████████▋ | 7798/9024 [02:12<00:23, 52.76batch/s]"
     ]
    },
    {
     "name": "stdout",
     "output_type": "stream",
     "text": [
      "tensor([2])\n",
      "tensor([4])\n",
      "tensor([0])\n",
      "tensor([3])\n",
      "tensor([2])\n",
      "tensor([2])\n",
      "tensor([3])\n",
      "tensor([5])\n",
      "tensor([1])\n",
      "tensor([0])\n",
      "tensor([1])\n",
      "tensor([2])\n"
     ]
    },
    {
     "name": "stderr",
     "output_type": "stream",
     "text": [
      "Iterating training graphs:  87%|████████▋ | 7816/9024 [02:12<00:17, 69.11batch/s]"
     ]
    },
    {
     "name": "stdout",
     "output_type": "stream",
     "text": [
      "tensor([3])\n",
      "tensor([4])\n",
      "tensor([5])\n",
      "tensor([1])\n",
      "tensor([4])\n",
      "tensor([3])\n",
      "tensor([0])\n",
      "tensor([2])\n",
      "tensor([0])\n",
      "tensor([1])\n",
      "tensor([3])\n",
      "tensor([3])\n",
      "tensor([1])\n",
      "tensor([3])\n",
      "tensor([1])\n",
      "tensor([5])\n",
      "tensor([3])\n",
      "tensor([4])\n",
      "tensor([4])\n"
     ]
    },
    {
     "name": "stderr",
     "output_type": "stream",
     "text": [
      "Iterating training graphs:  87%|████████▋ | 7832/9024 [02:12<00:16, 71.04batch/s]"
     ]
    },
    {
     "name": "stdout",
     "output_type": "stream",
     "text": [
      "tensor([5])\n",
      "tensor([2])\n",
      "tensor([2])\n",
      "tensor([2])\n",
      "tensor([4])\n",
      "tensor([0])\n",
      "tensor([1])\n",
      "tensor([1])\n",
      "tensor([3])\n",
      "tensor([3])\n",
      "tensor([2])\n",
      "tensor([3])\n",
      "tensor([1])\n",
      "tensor([2])\n",
      "tensor([0])\n"
     ]
    },
    {
     "name": "stderr",
     "output_type": "stream",
     "text": [
      "Iterating training graphs:  87%|████████▋ | 7848/9024 [02:12<00:16, 73.29batch/s]"
     ]
    },
    {
     "name": "stdout",
     "output_type": "stream",
     "text": [
      "tensor([1])\n",
      "tensor([0])\n",
      "tensor([2])\n",
      "tensor([3])\n",
      "tensor([2])\n",
      "tensor([1])\n",
      "tensor([2])\n",
      "tensor([3])\n",
      "tensor([1])\n",
      "tensor([3])\n",
      "tensor([2])\n",
      "tensor([4])\n",
      "tensor([3])\n",
      "tensor([2])\n",
      "tensor([2])\n",
      "tensor([2])\n",
      "tensor([0])\n",
      "tensor([0])\n",
      "tensor([3])\n"
     ]
    },
    {
     "name": "stderr",
     "output_type": "stream",
     "text": [
      "Iterating training graphs:  87%|████████▋ | 7863/9024 [02:12<00:18, 63.72batch/s]"
     ]
    },
    {
     "name": "stdout",
     "output_type": "stream",
     "text": [
      "tensor([0])\n",
      "tensor([4])\n",
      "tensor([2])\n",
      "tensor([3])\n",
      "tensor([0])\n",
      "tensor([5])\n",
      "tensor([1])\n",
      "tensor([2])\n",
      "tensor([3])\n",
      "tensor([1])\n",
      "tensor([0])\n"
     ]
    },
    {
     "name": "stderr",
     "output_type": "stream",
     "text": [
      "Iterating training graphs:  87%|████████▋ | 7878/9024 [02:13<00:16, 68.42batch/s]"
     ]
    },
    {
     "name": "stdout",
     "output_type": "stream",
     "text": [
      "tensor([2])\n",
      "tensor([4])\n",
      "tensor([1])\n",
      "tensor([2])\n",
      "tensor([2])\n",
      "tensor([2])\n",
      "tensor([3])\n",
      "tensor([4])\n",
      "tensor([2])\n",
      "tensor([2])\n",
      "tensor([2])\n",
      "tensor([3])\n",
      "tensor([0])\n",
      "tensor([3])\n",
      "tensor([4])\n",
      "tensor([4])\n"
     ]
    },
    {
     "name": "stderr",
     "output_type": "stream",
     "text": [
      "Iterating training graphs:  88%|████████▊ | 7900/9024 [02:13<00:13, 84.96batch/s]"
     ]
    },
    {
     "name": "stdout",
     "output_type": "stream",
     "text": [
      "tensor([3])\n",
      "tensor([4])\n",
      "tensor([4])\n",
      "tensor([4])\n",
      "tensor([2])\n",
      "tensor([0])\n",
      "tensor([2])\n",
      "tensor([2])\n",
      "tensor([3])\n",
      "tensor([2])\n",
      "tensor([5])\n",
      "tensor([4])\n",
      "tensor([4])\n",
      "tensor([5])\n",
      "tensor([2])\n",
      "tensor([3])\n",
      "tensor([2])\n",
      "tensor([1])\n",
      "tensor([2])\n",
      "tensor([5])\n",
      "tensor([2])\n",
      "tensor([2])\n",
      "tensor([5])\n"
     ]
    },
    {
     "name": "stderr",
     "output_type": "stream",
     "text": [
      "Iterating training graphs:  88%|████████▊ | 7919/9024 [02:13<00:12, 87.27batch/s]"
     ]
    },
    {
     "name": "stdout",
     "output_type": "stream",
     "text": [
      "tensor([1])\n",
      "tensor([5])\n",
      "tensor([5])\n",
      "tensor([4])\n",
      "tensor([5])\n",
      "tensor([4])\n",
      "tensor([4])\n",
      "tensor([2])\n",
      "tensor([2])\n",
      "tensor([2])\n",
      "tensor([2])\n",
      "tensor([3])\n",
      "tensor([4])\n",
      "tensor([1])\n",
      "tensor([4])\n",
      "tensor([5])\n",
      "tensor([2])\n"
     ]
    },
    {
     "name": "stderr",
     "output_type": "stream",
     "text": [
      "Iterating training graphs:  88%|████████▊ | 7929/9024 [02:13<00:12, 90.31batch/s]"
     ]
    },
    {
     "name": "stdout",
     "output_type": "stream",
     "text": [
      "tensor([4])\n",
      "tensor([2])\n",
      "tensor([3])\n",
      "tensor([0])\n",
      "tensor([1])\n",
      "tensor([1])\n",
      "tensor([1])\n",
      "tensor([4])\n",
      "tensor([1])\n",
      "tensor([1])\n",
      "tensor([4])\n",
      "tensor([0])\n",
      "tensor([5])\n",
      "tensor([4])\n",
      "tensor([4])\n",
      "tensor([4])\n",
      "tensor([3])\n",
      "tensor([4])\n"
     ]
    },
    {
     "name": "stderr",
     "output_type": "stream",
     "text": [
      "Iterating training graphs:  88%|████████▊ | 7948/9024 [02:14<00:14, 76.13batch/s]"
     ]
    },
    {
     "name": "stdout",
     "output_type": "stream",
     "text": [
      "tensor([2])\n",
      "tensor([3])\n",
      "tensor([1])\n",
      "tensor([3])\n",
      "tensor([2])\n",
      "tensor([1])\n",
      "tensor([3])\n",
      "tensor([2])\n",
      "tensor([0])\n",
      "tensor([4])\n",
      "tensor([2])\n",
      "tensor([2])\n",
      "tensor([5])\n",
      "tensor([0])\n",
      "tensor([1])\n",
      "tensor([3])\n",
      "tensor([4])\n"
     ]
    },
    {
     "name": "stderr",
     "output_type": "stream",
     "text": [
      "Iterating training graphs:  88%|████████▊ | 7957/9024 [02:14<00:15, 68.99batch/s]"
     ]
    },
    {
     "name": "stdout",
     "output_type": "stream",
     "text": [
      "tensor([4])\n",
      "tensor([0])\n",
      "tensor([3])\n",
      "tensor([3])\n",
      "tensor([1])\n",
      "tensor([1])\n",
      "tensor([2])\n",
      "tensor([3])\n"
     ]
    },
    {
     "name": "stderr",
     "output_type": "stream",
     "text": [
      "Iterating training graphs:  88%|████████▊ | 7965/9024 [02:14<00:18, 57.19batch/s]"
     ]
    },
    {
     "name": "stdout",
     "output_type": "stream",
     "text": [
      "tensor([3])\n",
      "tensor([2])\n",
      "tensor([1])\n",
      "tensor([5])\n",
      "tensor([2])\n",
      "tensor([3])\n",
      "tensor([1])\n"
     ]
    },
    {
     "name": "stderr",
     "output_type": "stream",
     "text": [
      "Iterating training graphs:  88%|████████▊ | 7978/9024 [02:14<00:20, 51.09batch/s]"
     ]
    },
    {
     "name": "stdout",
     "output_type": "stream",
     "text": [
      "tensor([4])\n",
      "tensor([4])\n",
      "tensor([3])\n",
      "tensor([4])\n",
      "tensor([5])\n",
      "tensor([2])\n",
      "tensor([1])\n",
      "tensor([1])\n",
      "tensor([1])\n",
      "tensor([4])\n",
      "tensor([0])\n"
     ]
    },
    {
     "name": "stderr",
     "output_type": "stream",
     "text": [
      "Iterating training graphs:  89%|████████▊ | 7993/9024 [02:14<00:17, 60.52batch/s]"
     ]
    },
    {
     "name": "stdout",
     "output_type": "stream",
     "text": [
      "tensor([3])\n",
      "tensor([5])\n",
      "tensor([1])\n",
      "tensor([1])\n",
      "tensor([3])\n",
      "tensor([2])\n",
      "tensor([4])\n",
      "tensor([2])\n",
      "tensor([1])\n",
      "tensor([0])\n",
      "tensor([4])\n",
      "tensor([1])\n",
      "tensor([2])\n",
      "tensor([4])\n",
      "tensor([2])\n",
      "tensor([2])\n",
      "tensor([2])\n",
      "tensor([4])\n"
     ]
    },
    {
     "name": "stderr",
     "output_type": "stream",
     "text": [
      "Iterating training graphs:  89%|████████▉ | 8010/9024 [02:15<00:17, 58.96batch/s]"
     ]
    },
    {
     "name": "stdout",
     "output_type": "stream",
     "text": [
      "tensor([0])\n",
      "tensor([3])\n",
      "tensor([2])\n",
      "tensor([3])\n",
      "tensor([2])\n",
      "tensor([1])\n",
      "tensor([2])\n",
      "tensor([4])\n",
      "tensor([4])\n",
      "tensor([4])\n",
      "tensor([2])\n",
      "tensor([2])\n"
     ]
    },
    {
     "name": "stderr",
     "output_type": "stream",
     "text": [
      "Iterating training graphs:  89%|████████▉ | 8017/9024 [02:15<00:16, 61.08batch/s]"
     ]
    },
    {
     "name": "stdout",
     "output_type": "stream",
     "text": [
      "tensor([2])\n",
      "tensor([2])\n",
      "tensor([1])\n",
      "tensor([5])\n",
      "tensor([4])\n",
      "tensor([2])\n",
      "tensor([5])\n",
      "tensor([3])\n",
      "tensor([1])\n",
      "tensor([4])\n",
      "tensor([1])\n",
      "tensor([4])\n"
     ]
    },
    {
     "name": "stderr",
     "output_type": "stream",
     "text": [
      "Iterating training graphs:  89%|████████▉ | 8043/9024 [02:15<00:12, 76.68batch/s]"
     ]
    },
    {
     "name": "stdout",
     "output_type": "stream",
     "text": [
      "tensor([1])\n",
      "tensor([0])\n",
      "tensor([0])\n",
      "tensor([2])\n",
      "tensor([3])\n",
      "tensor([2])\n",
      "tensor([1])\n",
      "tensor([2])\n",
      "tensor([4])\n",
      "tensor([2])\n",
      "tensor([3])\n",
      "tensor([2])\n",
      "tensor([4])\n",
      "tensor([4])\n",
      "tensor([0])\n",
      "tensor([1])\n",
      "tensor([0])\n",
      "tensor([0])\n",
      "tensor([0])\n",
      "tensor([2])\n"
     ]
    },
    {
     "name": "stderr",
     "output_type": "stream",
     "text": [
      "Iterating training graphs:  89%|████████▉ | 8051/9024 [02:15<00:15, 63.27batch/s]"
     ]
    },
    {
     "name": "stdout",
     "output_type": "stream",
     "text": [
      "tensor([1])\n",
      "tensor([2])\n",
      "tensor([1])\n",
      "tensor([4])\n",
      "tensor([1])\n",
      "tensor([2])\n",
      "tensor([2])\n",
      "tensor([5])\n",
      "tensor([1])\n",
      "tensor([3])\n",
      "tensor([0])\n",
      "tensor([0])\n"
     ]
    },
    {
     "name": "stderr",
     "output_type": "stream",
     "text": [
      "Iterating training graphs:  89%|████████▉ | 8068/9024 [02:16<00:13, 71.68batch/s]"
     ]
    },
    {
     "name": "stdout",
     "output_type": "stream",
     "text": [
      "tensor([1])\n",
      "tensor([3])\n",
      "tensor([3])\n",
      "tensor([0])\n",
      "tensor([5])\n",
      "tensor([1])\n",
      "tensor([3])\n",
      "tensor([4])\n",
      "tensor([3])\n",
      "tensor([3])\n",
      "tensor([2])\n",
      "tensor([2])\n",
      "tensor([5])\n",
      "tensor([2])\n",
      "tensor([2])\n",
      "tensor([4])\n",
      "tensor([2])\n",
      "tensor([4])\n",
      "tensor([3])\n"
     ]
    },
    {
     "name": "stderr",
     "output_type": "stream",
     "text": [
      "Iterating training graphs:  90%|████████▉ | 8092/9024 [02:16<00:09, 94.29batch/s]"
     ]
    },
    {
     "name": "stdout",
     "output_type": "stream",
     "text": [
      "tensor([3])\n",
      "tensor([2])\n",
      "tensor([4])\n",
      "tensor([2])\n",
      "tensor([1])\n",
      "tensor([3])\n",
      "tensor([1])\n",
      "tensor([0])\n",
      "tensor([4])\n",
      "tensor([3])\n",
      "tensor([2])\n",
      "tensor([1])\n",
      "tensor([4])\n",
      "tensor([3])\n",
      "tensor([1])\n",
      "tensor([2])\n",
      "tensor([0])\n",
      "tensor([2])\n",
      "tensor([2])\n",
      "tensor([4])\n"
     ]
    },
    {
     "name": "stderr",
     "output_type": "stream",
     "text": [
      "Iterating training graphs:  90%|████████▉ | 8102/9024 [02:16<00:12, 75.20batch/s]"
     ]
    },
    {
     "name": "stdout",
     "output_type": "stream",
     "text": [
      "tensor([2])\n",
      "tensor([1])\n",
      "tensor([2])\n",
      "tensor([2])\n",
      "tensor([5])\n",
      "tensor([2])\n",
      "tensor([1])\n",
      "tensor([3])\n",
      "tensor([4])\n",
      "tensor([2])\n",
      "tensor([2])\n",
      "tensor([0])\n",
      "tensor([5])\n"
     ]
    },
    {
     "name": "stderr",
     "output_type": "stream",
     "text": [
      "Iterating training graphs:  90%|████████▉ | 8120/9024 [02:16<00:12, 70.20batch/s]"
     ]
    },
    {
     "name": "stdout",
     "output_type": "stream",
     "text": [
      "tensor([5])\n",
      "tensor([1])\n",
      "tensor([1])\n",
      "tensor([5])\n",
      "tensor([2])\n",
      "tensor([3])\n",
      "tensor([1])\n",
      "tensor([0])\n",
      "tensor([0])\n",
      "tensor([4])\n",
      "tensor([3])\n",
      "tensor([4])\n",
      "tensor([0])\n",
      "tensor([1])\n",
      "tensor([2])\n",
      "tensor([5])\n",
      "tensor([2])\n",
      "tensor([1])\n"
     ]
    },
    {
     "name": "stderr",
     "output_type": "stream",
     "text": [
      "Iterating training graphs:  90%|█████████ | 8143/9024 [02:16<00:09, 89.10batch/s]"
     ]
    },
    {
     "name": "stdout",
     "output_type": "stream",
     "text": [
      "tensor([2])\n",
      "tensor([3])\n",
      "tensor([1])\n",
      "tensor([5])\n",
      "tensor([4])\n",
      "tensor([2])\n",
      "tensor([1])\n",
      "tensor([3])\n",
      "tensor([0])\n",
      "tensor([0])\n",
      "tensor([2])\n",
      "tensor([1])\n",
      "tensor([1])\n",
      "tensor([2])\n",
      "tensor([3])\n",
      "tensor([1])\n",
      "tensor([0])\n",
      "tensor([4])\n",
      "tensor([2])\n",
      "tensor([4])\n",
      "tensor([4])\n",
      "tensor([1])\n"
     ]
    },
    {
     "name": "stderr",
     "output_type": "stream",
     "text": [
      "Iterating training graphs:  90%|█████████ | 8163/9024 [02:17<00:09, 91.03batch/s]"
     ]
    },
    {
     "name": "stdout",
     "output_type": "stream",
     "text": [
      "tensor([5])\n",
      "tensor([0])\n",
      "tensor([2])\n",
      "tensor([1])\n",
      "tensor([1])\n",
      "tensor([5])\n",
      "tensor([1])\n",
      "tensor([2])\n",
      "tensor([4])\n",
      "tensor([3])\n",
      "tensor([4])\n",
      "tensor([4])\n",
      "tensor([3])\n",
      "tensor([2])\n",
      "tensor([0])\n",
      "tensor([2])\n",
      "tensor([1])\n",
      "tensor([1])\n"
     ]
    },
    {
     "name": "stderr",
     "output_type": "stream",
     "text": [
      "Iterating training graphs:  91%|█████████ | 8173/9024 [02:17<00:11, 74.08batch/s]"
     ]
    },
    {
     "name": "stdout",
     "output_type": "stream",
     "text": [
      "tensor([1])\n",
      "tensor([2])\n",
      "tensor([0])\n",
      "tensor([0])\n",
      "tensor([5])\n",
      "tensor([0])\n",
      "tensor([2])\n",
      "tensor([4])\n",
      "tensor([3])\n",
      "tensor([2])\n"
     ]
    },
    {
     "name": "stderr",
     "output_type": "stream",
     "text": [
      "Iterating training graphs:  91%|█████████ | 8182/9024 [02:17<00:12, 66.78batch/s]"
     ]
    },
    {
     "name": "stdout",
     "output_type": "stream",
     "text": [
      "tensor([5])\n",
      "tensor([3])\n",
      "tensor([4])\n",
      "tensor([5])\n",
      "tensor([2])\n",
      "tensor([4])\n",
      "tensor([4])\n",
      "tensor([4])\n",
      "tensor([4])\n",
      "tensor([3])\n",
      "tensor([1])\n",
      "tensor([1])\n",
      "tensor([4])\n",
      "tensor([4])\n"
     ]
    },
    {
     "name": "stderr",
     "output_type": "stream",
     "text": [
      "Iterating training graphs:  91%|█████████ | 8198/9024 [02:17<00:11, 68.98batch/s]"
     ]
    },
    {
     "name": "stdout",
     "output_type": "stream",
     "text": [
      "tensor([1])\n",
      "tensor([4])\n",
      "tensor([1])\n",
      "tensor([3])\n",
      "tensor([4])\n",
      "tensor([5])\n",
      "tensor([3])\n",
      "tensor([2])\n",
      "tensor([1])\n",
      "tensor([4])\n",
      "tensor([4])\n",
      "tensor([2])\n",
      "tensor([3])\n",
      "tensor([5])\n",
      "tensor([3])\n",
      "tensor([1])\n",
      "tensor([5])\n",
      "tensor([2])\n",
      "tensor([3])\n",
      "tensor([0])\n",
      "tensor([4])\n",
      "tensor([1])\n",
      "tensor([2])\n"
     ]
    },
    {
     "name": "stderr",
     "output_type": "stream",
     "text": [
      "Iterating training graphs:  91%|█████████ | 8231/9024 [02:17<00:07, 111.81batch/s]"
     ]
    },
    {
     "name": "stdout",
     "output_type": "stream",
     "text": [
      "tensor([4])\n",
      "tensor([0])\n",
      "tensor([3])\n",
      "tensor([3])\n",
      "tensor([3])\n",
      "tensor([4])\n",
      "tensor([3])\n",
      "tensor([2])\n",
      "tensor([4])\n",
      "tensor([2])\n",
      "tensor([1])\n",
      "tensor([2])\n",
      "tensor([3])\n",
      "tensor([4])\n",
      "tensor([2])\n",
      "tensor([4])\n",
      "tensor([1])\n",
      "tensor([3])\n",
      "tensor([5])\n",
      "tensor([0])\n",
      "tensor([1])\n",
      "tensor([0])\n",
      "tensor([0])\n",
      "tensor([0])\n",
      "tensor([1])\n",
      "tensor([2])\n",
      "tensor([4])\n",
      "tensor([4])\n",
      "tensor([0])\n"
     ]
    },
    {
     "name": "stderr",
     "output_type": "stream",
     "text": [
      "Iterating training graphs:  91%|█████████▏| 8255/9024 [02:18<00:08, 93.06batch/s] "
     ]
    },
    {
     "name": "stdout",
     "output_type": "stream",
     "text": [
      "tensor([4])\n",
      "tensor([4])\n",
      "tensor([0])\n",
      "tensor([3])\n",
      "tensor([1])\n",
      "tensor([2])\n",
      "tensor([3])\n",
      "tensor([0])\n",
      "tensor([2])\n",
      "tensor([3])\n",
      "tensor([2])\n",
      "tensor([2])\n",
      "tensor([4])\n",
      "tensor([3])\n",
      "tensor([5])\n",
      "tensor([1])\n",
      "tensor([1])\n",
      "tensor([2])\n"
     ]
    },
    {
     "name": "stderr",
     "output_type": "stream",
     "text": [
      "Iterating training graphs:  92%|█████████▏| 8270/9024 [02:18<00:07, 106.49batch/s]"
     ]
    },
    {
     "name": "stdout",
     "output_type": "stream",
     "text": [
      "tensor([0])\n",
      "tensor([2])\n",
      "tensor([0])\n",
      "tensor([1])\n",
      "tensor([3])\n",
      "tensor([3])\n",
      "tensor([5])\n",
      "tensor([4])\n",
      "tensor([1])\n",
      "tensor([0])\n",
      "tensor([2])\n",
      "tensor([4])\n",
      "tensor([3])\n",
      "tensor([3])\n",
      "tensor([3])\n",
      "tensor([4])\n",
      "tensor([3])\n",
      "tensor([4])\n",
      "tensor([2])\n",
      "tensor([0])\n"
     ]
    },
    {
     "name": "stderr",
     "output_type": "stream",
     "text": [
      "Iterating training graphs:  92%|█████████▏| 8282/9024 [02:18<00:08, 86.30batch/s] "
     ]
    },
    {
     "name": "stdout",
     "output_type": "stream",
     "text": [
      "tensor([4])\n",
      "tensor([5])\n",
      "tensor([2])\n",
      "tensor([0])\n",
      "tensor([1])\n",
      "tensor([1])\n",
      "tensor([2])\n",
      "tensor([3])\n",
      "tensor([4])\n",
      "tensor([3])\n"
     ]
    },
    {
     "name": "stderr",
     "output_type": "stream",
     "text": [
      "Iterating training graphs:  92%|█████████▏| 8301/9024 [02:18<00:09, 73.87batch/s]"
     ]
    },
    {
     "name": "stdout",
     "output_type": "stream",
     "text": [
      "tensor([5])\n",
      "tensor([2])\n",
      "tensor([1])\n",
      "tensor([1])\n",
      "tensor([4])\n",
      "tensor([3])\n",
      "tensor([2])\n",
      "tensor([0])\n",
      "tensor([0])\n",
      "tensor([0])\n",
      "tensor([3])\n",
      "tensor([2])\n",
      "tensor([1])\n",
      "tensor([1])\n"
     ]
    },
    {
     "name": "stderr",
     "output_type": "stream",
     "text": [
      "Iterating training graphs:  92%|█████████▏| 8319/9024 [02:19<00:10, 69.64batch/s]"
     ]
    },
    {
     "name": "stdout",
     "output_type": "stream",
     "text": [
      "tensor([1])\n",
      "tensor([2])\n",
      "tensor([1])\n",
      "tensor([1])\n",
      "tensor([0])\n",
      "tensor([4])\n",
      "tensor([1])\n",
      "tensor([3])\n",
      "tensor([2])\n",
      "tensor([2])\n",
      "tensor([4])\n",
      "tensor([2])\n",
      "tensor([1])\n",
      "tensor([1])\n",
      "tensor([1])\n",
      "tensor([2])\n",
      "tensor([3])\n"
     ]
    },
    {
     "name": "stderr",
     "output_type": "stream",
     "text": [
      "Iterating training graphs:  92%|█████████▏| 8335/9024 [02:19<00:09, 71.68batch/s]"
     ]
    },
    {
     "name": "stdout",
     "output_type": "stream",
     "text": [
      "tensor([3])\n",
      "tensor([4])\n",
      "tensor([2])\n",
      "tensor([1])\n",
      "tensor([1])\n",
      "tensor([1])\n",
      "tensor([3])\n",
      "tensor([4])\n",
      "tensor([5])\n",
      "tensor([4])\n",
      "tensor([2])\n",
      "tensor([0])\n",
      "tensor([4])\n",
      "tensor([2])\n",
      "tensor([2])\n"
     ]
    },
    {
     "name": "stderr",
     "output_type": "stream",
     "text": [
      "Iterating training graphs:  92%|█████████▏| 8343/9024 [02:19<00:11, 61.60batch/s]"
     ]
    },
    {
     "name": "stdout",
     "output_type": "stream",
     "text": [
      "tensor([4])\n",
      "tensor([1])\n",
      "tensor([2])\n",
      "tensor([3])\n",
      "tensor([4])\n",
      "tensor([1])\n",
      "tensor([3])\n",
      "tensor([1])\n",
      "tensor([3])\n",
      "tensor([3])\n",
      "tensor([2])\n",
      "tensor([5])\n",
      "tensor([4])\n",
      "tensor([3])\n",
      "tensor([4])\n",
      "tensor([0])\n",
      "tensor([2])\n"
     ]
    },
    {
     "name": "stderr",
     "output_type": "stream",
     "text": [
      "Iterating training graphs:  93%|█████████▎| 8361/9024 [02:19<00:09, 72.20batch/s]"
     ]
    },
    {
     "name": "stdout",
     "output_type": "stream",
     "text": [
      "tensor([0])\n",
      "tensor([5])\n",
      "tensor([2])\n",
      "tensor([2])\n",
      "tensor([2])\n",
      "tensor([0])\n",
      "tensor([2])\n",
      "tensor([2])\n",
      "tensor([4])\n",
      "tensor([3])\n",
      "tensor([2])\n",
      "tensor([5])\n",
      "tensor([2])\n",
      "tensor([0])\n",
      "tensor([0])\n",
      "tensor([1])\n"
     ]
    },
    {
     "name": "stderr",
     "output_type": "stream",
     "text": [
      "Iterating training graphs:  93%|█████████▎| 8377/9024 [02:19<00:09, 71.75batch/s]"
     ]
    },
    {
     "name": "stdout",
     "output_type": "stream",
     "text": [
      "tensor([2])\n",
      "tensor([5])\n",
      "tensor([3])\n",
      "tensor([2])\n",
      "tensor([3])\n",
      "tensor([1])\n",
      "tensor([3])\n",
      "tensor([2])\n",
      "tensor([0])\n",
      "tensor([5])\n",
      "tensor([2])\n",
      "tensor([2])\n"
     ]
    },
    {
     "name": "stderr",
     "output_type": "stream",
     "text": [
      "Iterating training graphs:  93%|█████████▎| 8399/9024 [02:20<00:07, 79.18batch/s]"
     ]
    },
    {
     "name": "stdout",
     "output_type": "stream",
     "text": [
      "tensor([4])\n",
      "tensor([4])\n",
      "tensor([0])\n",
      "tensor([2])\n",
      "tensor([3])\n",
      "tensor([4])\n",
      "tensor([4])\n",
      "tensor([2])\n",
      "tensor([3])\n",
      "tensor([4])\n",
      "tensor([2])\n",
      "tensor([1])\n",
      "tensor([1])\n",
      "tensor([2])\n",
      "tensor([2])\n",
      "tensor([4])\n",
      "tensor([1])\n",
      "tensor([1])\n",
      "tensor([5])\n",
      "tensor([4])\n",
      "tensor([4])\n",
      "tensor([4])\n"
     ]
    },
    {
     "name": "stderr",
     "output_type": "stream",
     "text": [
      "Iterating training graphs:  93%|█████████▎| 8407/9024 [02:20<00:08, 74.05batch/s]"
     ]
    },
    {
     "name": "stdout",
     "output_type": "stream",
     "text": [
      "tensor([1])\n",
      "tensor([1])\n",
      "tensor([2])\n",
      "tensor([0])\n",
      "tensor([2])\n",
      "tensor([1])\n",
      "tensor([1])\n",
      "tensor([2])\n",
      "tensor([2])\n",
      "tensor([3])\n",
      "tensor([2])\n"
     ]
    },
    {
     "name": "stderr",
     "output_type": "stream",
     "text": [
      "Iterating training graphs:  93%|█████████▎| 8422/9024 [02:20<00:09, 62.06batch/s]"
     ]
    },
    {
     "name": "stdout",
     "output_type": "stream",
     "text": [
      "tensor([3])\n",
      "tensor([1])\n",
      "tensor([1])\n",
      "tensor([2])\n",
      "tensor([4])\n",
      "tensor([0])\n",
      "tensor([2])\n",
      "tensor([4])\n",
      "tensor([4])\n",
      "tensor([1])\n",
      "tensor([1])\n",
      "tensor([4])\n",
      "tensor([2])\n",
      "tensor([3])\n",
      "tensor([4])\n",
      "tensor([0])\n"
     ]
    },
    {
     "name": "stderr",
     "output_type": "stream",
     "text": [
      "Iterating training graphs:  94%|█████████▎| 8439/9024 [02:20<00:10, 57.63batch/s]"
     ]
    },
    {
     "name": "stdout",
     "output_type": "stream",
     "text": [
      "tensor([3])\n",
      "tensor([3])\n",
      "tensor([3])\n",
      "tensor([3])\n",
      "tensor([3])\n",
      "tensor([2])\n",
      "tensor([1])\n",
      "tensor([2])\n",
      "tensor([2])\n",
      "tensor([4])\n",
      "tensor([5])\n"
     ]
    },
    {
     "name": "stderr",
     "output_type": "stream",
     "text": [
      "Iterating training graphs:  94%|█████████▎| 8458/9024 [02:21<00:07, 71.56batch/s]"
     ]
    },
    {
     "name": "stdout",
     "output_type": "stream",
     "text": [
      "tensor([3])\n",
      "tensor([0])\n",
      "tensor([2])\n",
      "tensor([0])\n",
      "tensor([1])\n",
      "tensor([1])\n",
      "tensor([1])\n",
      "tensor([4])\n",
      "tensor([3])\n",
      "tensor([1])\n",
      "tensor([2])\n",
      "tensor([1])\n",
      "tensor([2])\n",
      "tensor([2])\n",
      "tensor([2])\n",
      "tensor([4])\n",
      "tensor([2])\n",
      "tensor([3])\n"
     ]
    },
    {
     "name": "stderr",
     "output_type": "stream",
     "text": [
      "Iterating training graphs:  94%|█████████▍| 8474/9024 [02:21<00:08, 66.67batch/s]"
     ]
    },
    {
     "name": "stdout",
     "output_type": "stream",
     "text": [
      "tensor([4])\n",
      "tensor([2])\n",
      "tensor([1])\n",
      "tensor([2])\n",
      "tensor([4])\n",
      "tensor([1])\n",
      "tensor([0])\n",
      "tensor([2])\n",
      "tensor([1])\n",
      "tensor([4])\n",
      "tensor([0])\n",
      "tensor([2])\n",
      "tensor([2])\n",
      "tensor([2])\n",
      "tensor([2])\n",
      "tensor([2])\n"
     ]
    },
    {
     "name": "stderr",
     "output_type": "stream",
     "text": [
      "Iterating training graphs:  94%|█████████▍| 8482/9024 [02:21<00:07, 68.37batch/s]"
     ]
    },
    {
     "name": "stdout",
     "output_type": "stream",
     "text": [
      "tensor([1])\n",
      "tensor([4])\n",
      "tensor([4])\n",
      "tensor([0])\n",
      "tensor([4])\n",
      "tensor([1])\n",
      "tensor([1])\n",
      "tensor([4])\n",
      "tensor([0])\n",
      "tensor([2])\n",
      "tensor([1])\n",
      "tensor([3])\n"
     ]
    },
    {
     "name": "stderr",
     "output_type": "stream",
     "text": [
      "Iterating training graphs:  94%|█████████▍| 8497/9024 [02:21<00:08, 60.28batch/s]"
     ]
    },
    {
     "name": "stdout",
     "output_type": "stream",
     "text": [
      "tensor([3])\n",
      "tensor([2])\n",
      "tensor([2])\n",
      "tensor([3])\n",
      "tensor([1])\n",
      "tensor([4])\n",
      "tensor([2])\n",
      "tensor([4])\n",
      "tensor([2])\n",
      "tensor([3])\n",
      "tensor([1])\n",
      "tensor([3])\n",
      "tensor([1])\n",
      "tensor([1])\n"
     ]
    },
    {
     "name": "stderr",
     "output_type": "stream",
     "text": [
      "Iterating training graphs:  94%|█████████▍| 8513/9024 [02:22<00:07, 67.76batch/s]"
     ]
    },
    {
     "name": "stdout",
     "output_type": "stream",
     "text": [
      "tensor([2])\n",
      "tensor([3])\n",
      "tensor([5])\n",
      "tensor([4])\n",
      "tensor([2])\n",
      "tensor([2])\n",
      "tensor([2])\n",
      "tensor([1])\n",
      "tensor([2])\n",
      "tensor([2])\n",
      "tensor([2])\n",
      "tensor([2])\n",
      "tensor([2])\n"
     ]
    },
    {
     "name": "stderr",
     "output_type": "stream",
     "text": [
      "Iterating training graphs:  94%|█████████▍| 8521/9024 [02:22<00:08, 57.86batch/s]"
     ]
    },
    {
     "name": "stdout",
     "output_type": "stream",
     "text": [
      "tensor([2])\n",
      "tensor([2])\n",
      "tensor([3])\n",
      "tensor([2])\n",
      "tensor([0])\n",
      "tensor([1])\n",
      "tensor([2])\n",
      "tensor([1])\n",
      "tensor([4])\n",
      "tensor([5])\n",
      "tensor([1])\n",
      "tensor([2])\n",
      "tensor([1])\n",
      "tensor([2])\n",
      "tensor([2])\n",
      "tensor([2])\n",
      "tensor([2])\n"
     ]
    },
    {
     "name": "stderr",
     "output_type": "stream",
     "text": [
      "Iterating training graphs:  95%|█████████▍| 8539/9024 [02:22<00:07, 68.72batch/s]"
     ]
    },
    {
     "name": "stdout",
     "output_type": "stream",
     "text": [
      "tensor([3])\n",
      "tensor([4])\n",
      "tensor([1])\n",
      "tensor([3])\n",
      "tensor([4])\n",
      "tensor([3])\n",
      "tensor([3])\n",
      "tensor([2])\n",
      "tensor([0])\n",
      "tensor([1])\n",
      "tensor([3])\n",
      "tensor([1])\n",
      "tensor([1])\n",
      "tensor([1])\n",
      "tensor([2])\n",
      "tensor([2])\n",
      "tensor([1])\n",
      "tensor([5])\n",
      "tensor([4])\n",
      "tensor([4])\n",
      "tensor([4])\n"
     ]
    },
    {
     "name": "stderr",
     "output_type": "stream",
     "text": [
      "Iterating training graphs:  95%|█████████▍| 8562/9024 [02:22<00:06, 68.58batch/s]"
     ]
    },
    {
     "name": "stdout",
     "output_type": "stream",
     "text": [
      "tensor([3])\n",
      "tensor([5])\n",
      "tensor([0])\n",
      "tensor([0])\n",
      "tensor([5])\n",
      "tensor([0])\n",
      "tensor([3])\n",
      "tensor([2])\n",
      "tensor([1])\n",
      "tensor([1])\n",
      "tensor([2])\n"
     ]
    },
    {
     "name": "stderr",
     "output_type": "stream",
     "text": [
      "Iterating training graphs:  95%|█████████▌| 8573/9024 [02:22<00:05, 77.05batch/s]"
     ]
    },
    {
     "name": "stdout",
     "output_type": "stream",
     "text": [
      "tensor([4])\n",
      "tensor([2])\n",
      "tensor([2])\n",
      "tensor([1])\n",
      "tensor([4])\n",
      "tensor([2])\n",
      "tensor([0])\n",
      "tensor([2])\n",
      "tensor([4])\n",
      "tensor([2])\n",
      "tensor([2])\n",
      "tensor([3])\n",
      "tensor([2])\n",
      "tensor([2])\n",
      "tensor([0])\n",
      "tensor([3])\n",
      "tensor([4])\n",
      "tensor([2])\n",
      "tensor([4])\n"
     ]
    },
    {
     "name": "stderr",
     "output_type": "stream",
     "text": [
      "Iterating training graphs:  95%|█████████▌| 8592/9024 [02:23<00:05, 75.83batch/s]"
     ]
    },
    {
     "name": "stdout",
     "output_type": "stream",
     "text": [
      "tensor([2])\n",
      "tensor([1])\n",
      "tensor([0])\n",
      "tensor([2])\n",
      "tensor([1])\n",
      "tensor([2])\n",
      "tensor([1])\n",
      "tensor([1])\n",
      "tensor([0])\n",
      "tensor([1])\n",
      "tensor([2])\n",
      "tensor([3])\n",
      "tensor([1])\n",
      "tensor([4])\n",
      "tensor([3])\n"
     ]
    },
    {
     "name": "stderr",
     "output_type": "stream",
     "text": [
      "Iterating training graphs:  95%|█████████▌| 8609/9024 [02:23<00:06, 65.96batch/s]"
     ]
    },
    {
     "name": "stdout",
     "output_type": "stream",
     "text": [
      "tensor([2])\n",
      "tensor([3])\n",
      "tensor([2])\n",
      "tensor([3])\n",
      "tensor([4])\n",
      "tensor([2])\n",
      "tensor([1])\n",
      "tensor([0])\n",
      "tensor([2])\n",
      "tensor([3])\n",
      "tensor([2])\n",
      "tensor([3])\n",
      "tensor([2])\n"
     ]
    },
    {
     "name": "stderr",
     "output_type": "stream",
     "text": [
      "Iterating training graphs:  95%|█████████▌| 8617/9024 [02:23<00:07, 56.62batch/s]"
     ]
    },
    {
     "name": "stdout",
     "output_type": "stream",
     "text": [
      "tensor([4])\n",
      "tensor([2])\n",
      "tensor([3])\n",
      "tensor([2])\n",
      "tensor([3])\n",
      "tensor([1])\n",
      "tensor([0])\n",
      "tensor([3])\n",
      "tensor([2])\n",
      "tensor([4])\n",
      "tensor([5])\n"
     ]
    },
    {
     "name": "stderr",
     "output_type": "stream",
     "text": [
      "Iterating training graphs:  96%|█████████▌| 8632/9024 [02:23<00:06, 60.04batch/s]"
     ]
    },
    {
     "name": "stdout",
     "output_type": "stream",
     "text": [
      "tensor([2])\n",
      "tensor([2])\n",
      "tensor([0])\n",
      "tensor([5])\n",
      "tensor([2])\n",
      "tensor([1])\n",
      "tensor([2])\n",
      "tensor([2])\n",
      "tensor([3])\n",
      "tensor([1])\n",
      "tensor([3])\n",
      "tensor([1])\n"
     ]
    },
    {
     "name": "stderr",
     "output_type": "stream",
     "text": [
      "Iterating training graphs:  96%|█████████▌| 8639/9024 [02:23<00:07, 53.37batch/s]"
     ]
    },
    {
     "name": "stdout",
     "output_type": "stream",
     "text": [
      "tensor([0])\n",
      "tensor([3])\n",
      "tensor([4])\n",
      "tensor([2])\n",
      "tensor([3])\n",
      "tensor([2])\n",
      "tensor([1])\n",
      "tensor([3])\n",
      "tensor([4])\n",
      "tensor([0])\n",
      "tensor([2])\n"
     ]
    },
    {
     "name": "stderr",
     "output_type": "stream",
     "text": [
      "Iterating training graphs:  96%|█████████▌| 8654/9024 [02:24<00:06, 60.83batch/s]"
     ]
    },
    {
     "name": "stdout",
     "output_type": "stream",
     "text": [
      "tensor([1])\n",
      "tensor([1])\n",
      "tensor([1])\n",
      "tensor([4])\n",
      "tensor([2])\n",
      "tensor([1])\n",
      "tensor([2])\n",
      "tensor([2])\n",
      "tensor([0])\n",
      "tensor([2])\n",
      "tensor([2])\n",
      "tensor([5])\n",
      "tensor([2])\n",
      "tensor([2])\n",
      "tensor([1])\n"
     ]
    },
    {
     "name": "stderr",
     "output_type": "stream",
     "text": [
      "Iterating training graphs:  96%|█████████▌| 8671/9024 [02:24<00:05, 69.19batch/s]"
     ]
    },
    {
     "name": "stdout",
     "output_type": "stream",
     "text": [
      "tensor([4])\n",
      "tensor([2])\n",
      "tensor([2])\n",
      "tensor([1])\n",
      "tensor([3])\n",
      "tensor([4])\n",
      "tensor([1])\n",
      "tensor([0])\n",
      "tensor([0])\n",
      "tensor([2])\n",
      "tensor([2])\n",
      "tensor([2])\n",
      "tensor([2])\n",
      "tensor([1])\n"
     ]
    },
    {
     "name": "stderr",
     "output_type": "stream",
     "text": [
      "Iterating training graphs:  96%|█████████▌| 8679/9024 [02:24<00:05, 59.99batch/s]"
     ]
    },
    {
     "name": "stdout",
     "output_type": "stream",
     "text": [
      "tensor([5])\n",
      "tensor([4])\n",
      "tensor([4])\n",
      "tensor([4])\n",
      "tensor([2])\n",
      "tensor([2])\n",
      "tensor([1])\n",
      "tensor([3])\n",
      "tensor([0])\n",
      "tensor([0])\n",
      "tensor([4])\n",
      "tensor([0])\n"
     ]
    },
    {
     "name": "stderr",
     "output_type": "stream",
     "text": [
      "Iterating training graphs:  96%|█████████▋| 8694/9024 [02:24<00:05, 63.49batch/s]"
     ]
    },
    {
     "name": "stdout",
     "output_type": "stream",
     "text": [
      "tensor([3])\n",
      "tensor([1])\n",
      "tensor([0])\n",
      "tensor([3])\n",
      "tensor([5])\n",
      "tensor([3])\n",
      "tensor([4])\n",
      "tensor([4])\n",
      "tensor([2])\n",
      "tensor([3])\n",
      "tensor([3])\n",
      "tensor([1])\n"
     ]
    },
    {
     "name": "stderr",
     "output_type": "stream",
     "text": [
      "Iterating training graphs:  96%|█████████▋| 8708/9024 [02:25<00:05, 56.03batch/s]"
     ]
    },
    {
     "name": "stdout",
     "output_type": "stream",
     "text": [
      "tensor([2])\n",
      "tensor([2])\n",
      "tensor([0])\n",
      "tensor([5])\n",
      "tensor([3])\n",
      "tensor([4])\n",
      "tensor([4])\n",
      "tensor([1])\n",
      "tensor([2])\n",
      "tensor([2])\n",
      "tensor([1])\n",
      "tensor([1])\n"
     ]
    },
    {
     "name": "stderr",
     "output_type": "stream",
     "text": [
      "Iterating training graphs:  97%|█████████▋| 8725/9024 [02:25<00:04, 69.20batch/s]"
     ]
    },
    {
     "name": "stdout",
     "output_type": "stream",
     "text": [
      "tensor([4])\n",
      "tensor([2])\n",
      "tensor([2])\n",
      "tensor([3])\n",
      "tensor([4])\n",
      "tensor([5])\n",
      "tensor([0])\n",
      "tensor([3])\n",
      "tensor([3])\n",
      "tensor([3])\n",
      "tensor([2])\n",
      "tensor([4])\n",
      "tensor([4])\n",
      "tensor([2])\n",
      "tensor([2])\n",
      "tensor([4])\n",
      "tensor([2])\n"
     ]
    },
    {
     "name": "stderr",
     "output_type": "stream",
     "text": [
      "Iterating training graphs:  97%|█████████▋| 8733/9024 [02:25<00:04, 71.25batch/s]"
     ]
    },
    {
     "name": "stdout",
     "output_type": "stream",
     "text": [
      "tensor([3])\n",
      "tensor([4])\n",
      "tensor([0])\n",
      "tensor([1])\n",
      "tensor([0])\n",
      "tensor([2])\n",
      "tensor([2])\n",
      "tensor([3])\n",
      "tensor([0])\n",
      "tensor([3])\n",
      "tensor([3])\n",
      "tensor([4])\n"
     ]
    },
    {
     "name": "stderr",
     "output_type": "stream",
     "text": [
      "Iterating training graphs:  97%|█████████▋| 8741/9024 [02:25<00:04, 59.27batch/s]"
     ]
    },
    {
     "name": "stdout",
     "output_type": "stream",
     "text": [
      "tensor([2])\n",
      "tensor([0])\n",
      "tensor([0])\n",
      "tensor([3])\n",
      "tensor([3])\n",
      "tensor([2])\n",
      "tensor([2])\n",
      "tensor([3])\n"
     ]
    },
    {
     "name": "stderr",
     "output_type": "stream",
     "text": [
      "Iterating training graphs:  97%|█████████▋| 8755/9024 [02:25<00:05, 48.37batch/s]"
     ]
    },
    {
     "name": "stdout",
     "output_type": "stream",
     "text": [
      "tensor([2])\n",
      "tensor([0])\n",
      "tensor([1])\n",
      "tensor([1])\n",
      "tensor([1])\n",
      "tensor([4])\n",
      "tensor([3])\n",
      "tensor([2])\n",
      "tensor([2])\n",
      "tensor([2])\n",
      "tensor([4])\n"
     ]
    },
    {
     "name": "stderr",
     "output_type": "stream",
     "text": [
      "Iterating training graphs:  97%|█████████▋| 8769/9024 [02:26<00:04, 56.23batch/s]"
     ]
    },
    {
     "name": "stdout",
     "output_type": "stream",
     "text": [
      "tensor([1])\n",
      "tensor([4])\n",
      "tensor([4])\n",
      "tensor([1])\n",
      "tensor([3])\n",
      "tensor([4])\n",
      "tensor([2])\n",
      "tensor([4])\n",
      "tensor([0])\n",
      "tensor([2])\n",
      "tensor([4])\n",
      "tensor([2])\n",
      "tensor([3])\n",
      "tensor([0])\n",
      "tensor([2])\n",
      "tensor([1])\n",
      "tensor([2])\n",
      "tensor([0])\n"
     ]
    },
    {
     "name": "stderr",
     "output_type": "stream",
     "text": [
      "Iterating training graphs:  97%|█████████▋| 8780/9024 [02:26<00:03, 68.63batch/s]"
     ]
    },
    {
     "name": "stdout",
     "output_type": "stream",
     "text": [
      "tensor([0])\n",
      "tensor([2])\n",
      "tensor([1])\n",
      "tensor([2])\n",
      "tensor([3])\n",
      "tensor([3])\n",
      "tensor([1])\n",
      "tensor([3])\n",
      "tensor([4])\n",
      "tensor([2])\n",
      "tensor([3])\n",
      "tensor([3])\n"
     ]
    },
    {
     "name": "stderr",
     "output_type": "stream",
     "text": [
      "Iterating training graphs:  98%|█████████▊| 8799/9024 [02:26<00:03, 68.52batch/s]"
     ]
    },
    {
     "name": "stdout",
     "output_type": "stream",
     "text": [
      "tensor([1])\n",
      "tensor([5])\n",
      "tensor([3])\n",
      "tensor([1])\n",
      "tensor([1])\n",
      "tensor([4])\n",
      "tensor([2])\n",
      "tensor([2])\n",
      "tensor([4])\n",
      "tensor([2])\n",
      "tensor([0])\n",
      "tensor([1])\n",
      "tensor([5])\n",
      "tensor([2])\n",
      "tensor([5])\n",
      "tensor([2])\n",
      "tensor([1])\n",
      "tensor([2])\n"
     ]
    },
    {
     "name": "stderr",
     "output_type": "stream",
     "text": [
      "Iterating training graphs:  98%|█████████▊| 8815/9024 [02:26<00:02, 71.41batch/s]"
     ]
    },
    {
     "name": "stdout",
     "output_type": "stream",
     "text": [
      "tensor([4])\n",
      "tensor([2])\n",
      "tensor([2])\n",
      "tensor([5])\n",
      "tensor([1])\n",
      "tensor([2])\n",
      "tensor([2])\n",
      "tensor([4])\n",
      "tensor([1])\n",
      "tensor([3])\n",
      "tensor([3])\n",
      "tensor([5])\n",
      "tensor([3])\n",
      "tensor([2])\n",
      "tensor([2])\n",
      "tensor([2])\n",
      "tensor([1])\n"
     ]
    },
    {
     "name": "stderr",
     "output_type": "stream",
     "text": [
      "Iterating training graphs:  98%|█████████▊| 8832/9024 [02:27<00:02, 76.41batch/s]"
     ]
    },
    {
     "name": "stdout",
     "output_type": "stream",
     "text": [
      "tensor([0])\n",
      "tensor([0])\n",
      "tensor([5])\n",
      "tensor([3])\n",
      "tensor([4])\n",
      "tensor([2])\n",
      "tensor([1])\n",
      "tensor([1])\n",
      "tensor([4])\n",
      "tensor([4])\n",
      "tensor([1])\n",
      "tensor([4])\n",
      "tensor([2])\n",
      "tensor([2])\n",
      "tensor([4])\n",
      "tensor([4])\n",
      "tensor([1])\n",
      "tensor([3])\n",
      "tensor([4])\n",
      "tensor([1])\n",
      "tensor([2])\n"
     ]
    },
    {
     "name": "stderr",
     "output_type": "stream",
     "text": [
      "Iterating training graphs:  98%|█████████▊| 8845/9024 [02:27<00:01, 91.28batch/s]"
     ]
    },
    {
     "name": "stdout",
     "output_type": "stream",
     "text": [
      "tensor([2])\n",
      "tensor([4])\n",
      "tensor([2])\n",
      "tensor([2])\n",
      "tensor([0])\n",
      "tensor([4])\n",
      "tensor([0])\n",
      "tensor([2])\n",
      "tensor([0])\n",
      "tensor([0])\n",
      "tensor([3])\n"
     ]
    },
    {
     "name": "stderr",
     "output_type": "stream",
     "text": [
      "Iterating training graphs:  98%|█████████▊| 8863/9024 [02:27<00:02, 65.70batch/s]"
     ]
    },
    {
     "name": "stdout",
     "output_type": "stream",
     "text": [
      "tensor([5])\n",
      "tensor([2])\n",
      "tensor([2])\n",
      "tensor([2])\n",
      "tensor([0])\n",
      "tensor([4])\n",
      "tensor([2])\n",
      "tensor([2])\n",
      "tensor([4])\n",
      "tensor([1])\n",
      "tensor([3])\n",
      "tensor([2])\n",
      "tensor([1])\n",
      "tensor([2])\n",
      "tensor([0])\n"
     ]
    },
    {
     "name": "stderr",
     "output_type": "stream",
     "text": [
      "Iterating training graphs:  98%|█████████▊| 8879/9024 [02:27<00:02, 69.53batch/s]"
     ]
    },
    {
     "name": "stdout",
     "output_type": "stream",
     "text": [
      "tensor([2])\n",
      "tensor([0])\n",
      "tensor([0])\n",
      "tensor([2])\n",
      "tensor([3])\n",
      "tensor([3])\n",
      "tensor([2])\n",
      "tensor([2])\n",
      "tensor([2])\n",
      "tensor([0])\n",
      "tensor([5])\n",
      "tensor([4])\n",
      "tensor([2])\n",
      "tensor([2])\n",
      "tensor([4])\n"
     ]
    },
    {
     "name": "stderr",
     "output_type": "stream",
     "text": [
      "Iterating training graphs:  99%|█████████▊| 8895/9024 [02:27<00:02, 61.80batch/s]"
     ]
    },
    {
     "name": "stdout",
     "output_type": "stream",
     "text": [
      "tensor([4])\n",
      "tensor([3])\n",
      "tensor([3])\n",
      "tensor([2])\n",
      "tensor([0])\n",
      "tensor([2])\n",
      "tensor([3])\n",
      "tensor([0])\n",
      "tensor([4])\n",
      "tensor([2])\n",
      "tensor([2])\n",
      "tensor([4])\n",
      "tensor([1])\n",
      "tensor([4])\n",
      "tensor([0])\n",
      "tensor([5])\n",
      "tensor([4])\n"
     ]
    },
    {
     "name": "stderr",
     "output_type": "stream",
     "text": [
      "Iterating training graphs:  99%|█████████▉| 8918/9024 [02:28<00:01, 82.67batch/s]"
     ]
    },
    {
     "name": "stdout",
     "output_type": "stream",
     "text": [
      "tensor([4])\n",
      "tensor([3])\n",
      "tensor([1])\n",
      "tensor([2])\n",
      "tensor([3])\n",
      "tensor([3])\n",
      "tensor([5])\n",
      "tensor([4])\n",
      "tensor([4])\n",
      "tensor([5])\n",
      "tensor([2])\n",
      "tensor([3])\n",
      "tensor([1])\n",
      "tensor([5])\n",
      "tensor([2])\n",
      "tensor([0])\n",
      "tensor([4])\n",
      "tensor([5])\n",
      "tensor([2])\n",
      "tensor([2])\n"
     ]
    },
    {
     "name": "stderr",
     "output_type": "stream",
     "text": [
      "Iterating training graphs:  99%|█████████▉| 8936/9024 [02:28<00:01, 83.19batch/s]"
     ]
    },
    {
     "name": "stdout",
     "output_type": "stream",
     "text": [
      "tensor([2])\n",
      "tensor([1])\n",
      "tensor([1])\n",
      "tensor([0])\n",
      "tensor([2])\n",
      "tensor([4])\n",
      "tensor([2])\n",
      "tensor([4])\n",
      "tensor([3])\n",
      "tensor([1])\n",
      "tensor([1])\n",
      "tensor([2])\n",
      "tensor([2])\n",
      "tensor([0])\n",
      "tensor([4])\n",
      "tensor([2])\n",
      "tensor([0])\n",
      "tensor([2])\n",
      "tensor([0])\n"
     ]
    },
    {
     "name": "stderr",
     "output_type": "stream",
     "text": [
      "Iterating training graphs:  99%|█████████▉| 8946/9024 [02:28<00:01, 73.97batch/s]"
     ]
    },
    {
     "name": "stdout",
     "output_type": "stream",
     "text": [
      "tensor([3])\n",
      "tensor([3])\n",
      "tensor([2])\n",
      "tensor([1])\n",
      "tensor([0])\n",
      "tensor([2])\n",
      "tensor([2])\n",
      "tensor([5])\n",
      "tensor([2])\n",
      "tensor([1])\n",
      "tensor([2])\n",
      "tensor([1])\n",
      "tensor([2])\n"
     ]
    },
    {
     "name": "stderr",
     "output_type": "stream",
     "text": [
      "Iterating training graphs:  99%|█████████▉| 8962/9024 [02:28<00:00, 72.20batch/s]"
     ]
    },
    {
     "name": "stdout",
     "output_type": "stream",
     "text": [
      "tensor([3])\n",
      "tensor([0])\n",
      "tensor([3])\n",
      "tensor([4])\n",
      "tensor([3])\n",
      "tensor([4])\n",
      "tensor([4])\n",
      "tensor([3])\n",
      "tensor([2])\n",
      "tensor([3])\n",
      "tensor([2])\n",
      "tensor([3])\n",
      "tensor([0])\n",
      "tensor([3])\n",
      "tensor([0])\n",
      "tensor([3])\n",
      "tensor([2])\n"
     ]
    },
    {
     "name": "stderr",
     "output_type": "stream",
     "text": [
      "Iterating training graphs: 100%|█████████▉| 8983/9024 [02:29<00:00, 84.84batch/s]"
     ]
    },
    {
     "name": "stdout",
     "output_type": "stream",
     "text": [
      "tensor([0])\n",
      "tensor([1])\n",
      "tensor([2])\n",
      "tensor([0])\n",
      "tensor([0])\n",
      "tensor([0])\n",
      "tensor([2])\n",
      "tensor([0])\n",
      "tensor([0])\n",
      "tensor([2])\n",
      "tensor([2])\n",
      "tensor([3])\n",
      "tensor([5])\n",
      "tensor([1])\n",
      "tensor([4])\n",
      "tensor([1])\n",
      "tensor([2])\n",
      "tensor([3])\n",
      "tensor([0])\n"
     ]
    },
    {
     "name": "stderr",
     "output_type": "stream",
     "text": [
      "Iterating training graphs: 100%|█████████▉| 9004/9024 [02:29<00:00, 84.89batch/s]"
     ]
    },
    {
     "name": "stdout",
     "output_type": "stream",
     "text": [
      "tensor([1])\n",
      "tensor([3])\n",
      "tensor([3])\n",
      "tensor([4])\n",
      "tensor([2])\n",
      "tensor([2])\n",
      "tensor([1])\n",
      "tensor([3])\n",
      "tensor([3])\n",
      "tensor([1])\n",
      "tensor([1])\n",
      "tensor([0])\n",
      "tensor([2])\n",
      "tensor([3])\n",
      "tensor([3])\n",
      "tensor([5])\n",
      "tensor([3])\n",
      "tensor([4])\n",
      "tensor([4])\n"
     ]
    },
    {
     "name": "stderr",
     "output_type": "stream",
     "text": [
      "Iterating training graphs: 100%|██████████| 9024/9024 [02:29<00:00, 60.35batch/s]"
     ]
    },
    {
     "name": "stdout",
     "output_type": "stream",
     "text": [
      "tensor([4])\n",
      "tensor([0])\n",
      "tensor([3])\n",
      "tensor([1])\n",
      "tensor([3])\n",
      "tensor([4])\n",
      "tensor([1])\n",
      "tensor([4])\n",
      "tensor([3])\n",
      "tensor([2])\n",
      "tensor([1])\n",
      "tensor([3])\n",
      "tensor([0])\n",
      "tensor([4])\n",
      "tensor([2])\n",
      "tensor([5])\n",
      "tensor([5])\n",
      "count : 9024\n"
     ]
    },
    {
     "name": "stderr",
     "output_type": "stream",
     "text": [
      "\n"
     ]
    }
   ],
   "source": [
    "!pip install torch_geometric torch gdown --quiet\n",
    "\n",
    "%cd hackaton/\n",
    "\n",
    "import os\n",
    "import torch\n",
    "import pandas as pd\n",
    "import matplotlib.pyplot as plt\n",
    "import logging\n",
    "from tqdm import tqdm\n",
    "from torch_geometric.loader import DataLoader\n",
    "from torch.utils.data import random_split\n",
    "# Load utility functions from cloned repository\n",
    "from src.loadData import GraphDataset\n",
    "from src.utils import set_seed\n",
    "from src.models import GNN\n",
    "import argparse\n",
    "\n",
    "def add_zeros(data):\n",
    "    data.x = torch.zeros(data.num_nodes, dtype=torch.long)\n",
    "    return data\n",
    "\n",
    "full_dataset = GraphDataset('datasets/A/train.json.gz', transform=add_zeros)\n",
    "val_size = int(0.2 * len(full_dataset))\n",
    "train_size = len(full_dataset) - val_size\n",
    "\n",
    "    \n",
    "generator = torch.Generator().manual_seed(12)\n",
    "train_dataset, val_dataset = random_split(full_dataset, [train_size, val_size], generator=generator)\n",
    "train_loader = DataLoader(train_dataset, batch_size=1, shuffle=False)\n",
    "val_loader = DataLoader(val_dataset, batch_size=1, shuffle=False)\n",
    "\n",
    "count=0\n",
    "for data in tqdm(train_loader, desc=\"Iterating training graphs\", unit=\"batch\"):\n",
    "    count += 1\n",
    "    print(data.y)\n",
    "\n",
    "print('count :', count)"
   ]
  }
 ],
 "metadata": {
  "accelerator": "GPU",
  "colab": {
   "gpuType": "T4",
   "provenance": []
  },
  "kaggle": {
   "accelerator": "gpu",
   "dataSources": [],
   "dockerImageVersionId": 30919,
   "isGpuEnabled": true,
   "isInternetEnabled": true,
   "language": "python",
   "sourceType": "notebook"
  },
  "kernelspec": {
   "display_name": "Python 3 (ipykernel)",
   "language": "python",
   "name": "python3"
  },
  "language_info": {
   "codemirror_mode": {
    "name": "ipython",
    "version": 3
   },
   "file_extension": ".py",
   "mimetype": "text/x-python",
   "name": "python",
   "nbconvert_exporter": "python",
   "pygments_lexer": "ipython3",
   "version": "3.12.9"
  },
  "papermill": {
   "default_parameters": {},
   "duration": 108.457758,
   "end_time": "2025-05-21T16:25:04.482169",
   "environment_variables": {},
   "exception": true,
   "input_path": "__notebook__.ipynb",
   "output_path": "__notebook__.ipynb",
   "parameters": {},
   "start_time": "2025-05-21T16:23:16.024411",
   "version": "2.6.0"
  }
 },
 "nbformat": 4,
 "nbformat_minor": 5
}
