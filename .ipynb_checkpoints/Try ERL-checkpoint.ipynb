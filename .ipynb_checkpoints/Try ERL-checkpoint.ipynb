{
  "metadata": {
    "kernelspec": {
      "name": "python3",
      "display_name": "Python 3",
      "language": "python"
    },
    "language_info": {
      "name": "python",
      "version": "3.10.12",
      "mimetype": "text/x-python",
      "codemirror_mode": {
        "name": "ipython",
        "version": 3
      },
      "pygments_lexer": "ipython3",
      "nbconvert_exporter": "python",
      "file_extension": ".py"
    },
    "colab": {
      "provenance": [],
      "gpuType": "T4",
      "name": "Baseline"
    },
    "accelerator": "GPU",
    "kaggle": {
      "accelerator": "gpu",
      "dataSources": [],
      "dockerImageVersionId": 30919,
      "isInternetEnabled": true,
      "language": "python",
      "sourceType": "notebook",
      "isGpuEnabled": true
    }
  },
  "nbformat_minor": 0,
  "nbformat": 4,
  "cells": [
    {
      "cell_type": "code",
      "source": [
        "!pip install torch_geometric"
      ],
      "metadata": {
        "id": "xSkgt1zf-raF",
        "trusted": true
      },
      "outputs": [],
      "execution_count": null
    },
    {
      "cell_type": "code",
      "source": [
        "!git clone --branch baselineCe https://github.com/Graph-Classification-Noisy-Label/hackaton.git"
      ],
      "metadata": {
        "id": "5oR2D2Us-xSQ",
        "trusted": true
      },
      "outputs": [],
      "execution_count": null
    },
    {
      "cell_type": "code",
      "source": [
        "%cd hackaton/"
      ],
      "metadata": {
        "id": "tEhfPly6-7UK",
        "trusted": true
      },
      "outputs": [],
      "execution_count": null
    },
    {
      "cell_type": "code",
      "source": [
        "!gdown --folder https://drive.google.com/drive/folders/1Z-1JkPJ6q4C6jX4brvq1VRbJH5RPUCAk -O datasets\n"
      ],
      "metadata": {
        "id": "PxBvwB0_6xI8",
        "trusted": true
      },
      "outputs": [],
      "execution_count": null
    },
    {
      "cell_type": "code",
      "source": [
        "!ls -lh datasets"
      ],
      "metadata": {
        "id": "1rockhiQ7Nny",
        "trusted": true
      },
      "outputs": [],
      "execution_count": null
    },
    {
      "cell_type": "code",
      "source": [
        "import os\n",
        "import torch\n",
        "import pandas as pd\n",
        "import matplotlib.pyplot as plt\n",
        "import logging\n",
        "from tqdm import tqdm\n",
        "from torch_geometric.loader import DataLoader\n",
        "from torch.utils.data import random_split\n",
        "# Load utility functions from cloned repository\n",
        "from src.loadData import GraphDataset\n",
        "from src.utils import set_seed\n",
        "from src.models import GNN\n",
        "import argparse\n",
        "\n",
        "# Set the random seed\n",
        "set_seed()\n"
      ],
      "metadata": {
        "id": "lAQuCuIoBbq5",
        "trusted": true
      },
      "outputs": [],
      "execution_count": null
    },
    {
      "cell_type": "code",
      "source": [
        "def add_zeros(data):\n",
        "    data.x = torch.zeros(data.num_nodes, dtype=torch.long)\n",
        "    return data"
      ],
      "metadata": {
        "id": "Dyf0I2-t9IcW",
        "trusted": true
      },
      "outputs": [],
      "execution_count": null
    },
    {
      "cell_type": "code",
      "source": [
        "def train(data_loader, model, optimizer, criterion, device, save_checkpoints, checkpoint_path, current_epoch):\n",
        "    model.train()\n",
        "    total_loss = 0\n",
        "    correct = 0\n",
        "    total = 0\n",
        "    for data in tqdm(data_loader, desc=\"Iterating training graphs\", unit=\"batch\"):\n",
        "        data = data.to(device)\n",
        "        optimizer.zero_grad()\n",
        "        output = model(data)\n",
        "\n",
        "        # Assure-toi que data a bien un attribut idx (indices des exemples dans dataset)\n",
        "        loss = criterion(output, data.y, data.idx.to(device))\n",
        "\n",
        "        loss.backward()\n",
        "        optimizer.step()\n",
        "        total_loss += loss.item()\n",
        "        pred = output.argmax(dim=1)\n",
        "        correct += (pred == data.y).sum().item()\n",
        "        total += data.y.size(0)\n",
        "\n",
        "    # Save checkpoints if required\n",
        "    if save_checkpoints:\n",
        "        checkpoint_file = f\"{checkpoint_path}_epoch_{current_epoch + 1}.pth\"\n",
        "        torch.save(model.state_dict(), checkpoint_file)\n",
        "        print(f\"Checkpoint saved at {checkpoint_file}\")\n",
        "\n",
        "    return total_loss / len(data_loader),  correct / total\n"
      ],
      "metadata": {
        "id": "3jKvoQYI9Zbc",
        "trusted": true
      },
      "outputs": [],
      "execution_count": null
    },
    {
      "cell_type": "code",
      "source": [
        "def evaluate(data_loader, model, device, calculate_accuracy=False):\n",
        "    model.eval()\n",
        "    correct = 0\n",
        "    total = 0\n",
        "    predictions = []\n",
        "    total_loss = 0\n",
        "    criterion = torch.nn.CrossEntropyLoss()\n",
        "    with torch.no_grad():\n",
        "        for data in tqdm(data_loader, desc=\"Iterating eval graphs\", unit=\"batch\"):\n",
        "            data = data.to(device)\n",
        "            output = model(data)\n",
        "            pred = output.argmax(dim=1)\n",
        "\n",
        "            if calculate_accuracy:\n",
        "                correct += (pred == data.y).sum().item()\n",
        "                total += data.y.size(0)\n",
        "                total_loss += criterion(output, data.y).item()\n",
        "            else:\n",
        "                predictions.extend(pred.cpu().numpy())\n",
        "    if calculate_accuracy:\n",
        "        accuracy = correct / total\n",
        "        return  total_loss / len(data_loader),accuracy\n",
        "    return predictions"
      ],
      "metadata": {
        "id": "8peFiIS19ZpK",
        "trusted": true
      },
      "outputs": [],
      "execution_count": null
    },
    {
      "cell_type": "code",
      "source": [
        "def save_predictions(predictions, test_path):\n",
        "    script_dir = os.getcwd()\n",
        "    submission_folder = os.path.join(script_dir, \"submission\")\n",
        "    test_dir_name = os.path.basename(os.path.dirname(test_path))\n",
        "\n",
        "    os.makedirs(submission_folder, exist_ok=True)\n",
        "\n",
        "    output_csv_path = os.path.join(submission_folder, f\"testset_{test_dir_name}.csv\")\n",
        "\n",
        "    test_graph_ids = list(range(len(predictions)))\n",
        "    output_df = pd.DataFrame({\n",
        "        \"id\": test_graph_ids,\n",
        "        \"pred\": predictions\n",
        "    })\n",
        "\n",
        "    output_df.to_csv(output_csv_path, index=False)\n",
        "    print(f\"Predictions saved to {output_csv_path}\")"
      ],
      "metadata": {
        "id": "WanuZKxy9Zs-",
        "trusted": true
      },
      "outputs": [],
      "execution_count": null
    },
    {
      "cell_type": "code",
      "source": [
        "def plot_training_progress(train_losses, train_accuracies, output_dir):\n",
        "    epochs = range(1, len(train_losses) + 1)\n",
        "    plt.figure(figsize=(12, 6))\n",
        "\n",
        "    # Plot loss\n",
        "    plt.subplot(1, 2, 1)\n",
        "    plt.plot(epochs, train_losses, label=\"Training Loss\", color='blue')\n",
        "    plt.xlabel('Epoch')\n",
        "    plt.ylabel('Loss')\n",
        "    plt.title('Training Loss per Epoch')\n",
        "\n",
        "    # Plot accuracy\n",
        "    plt.subplot(1, 2, 2)\n",
        "    plt.plot(epochs, train_accuracies, label=\"Training Accuracy\", color='green')\n",
        "    plt.xlabel('Epoch')\n",
        "    plt.ylabel('Accuracy')\n",
        "    plt.title('Training Accuracy per Epoch')\n",
        "\n",
        "    # Save plots in the current directory\n",
        "    os.makedirs(output_dir, exist_ok=True)\n",
        "    plt.tight_layout()\n",
        "    plt.savefig(os.path.join(output_dir, \"training_progress.png\"))\n",
        "    plt.close()"
      ],
      "metadata": {
        "id": "uyHIJS5U9ZzB",
        "trusted": true
      },
      "outputs": [],
      "execution_count": null
    },
    {
      "cell_type": "code",
      "source": [
        "def get_user_input(prompt, default=None, required=False, type_cast=str):\n",
        "\n",
        "    while True:\n",
        "        user_input = input(f\"{prompt} [{default}]: \")\n",
        "\n",
        "        if user_input == \"\" and required:\n",
        "            print(\"This field is required. Please enter a value.\")\n",
        "            continue\n",
        "\n",
        "        if user_input == \"\" and default is not None:\n",
        "            return default\n",
        "\n",
        "        if user_input == \"\" and not required:\n",
        "            return None\n",
        "\n",
        "        try:\n",
        "            return type_cast(user_input)\n",
        "        except ValueError:\n",
        "            print(f\"Invalid input. Please enter a valid {type_cast.__name__}.\")"
      ],
      "metadata": {
        "trusted": true,
        "id": "nlqOL-9IOYYn"
      },
      "outputs": [],
      "execution_count": null
    },
    {
      "cell_type": "code",
      "source": [
        "def get_arguments():\n",
        "    args = {}\n",
        "    args['train_path'] = get_user_input(\"Path to the training dataset (optional)\")\n",
        "    args['test_path'] = get_user_input(\"Path to the test dataset\", required=True)\n",
        "    args['num_checkpoints'] = get_user_input(\"Number of checkpoints to save during training\", type_cast=int)\n",
        "    args['device'] = get_user_input(\"Which GPU to use if any\", default=1, type_cast=int)\n",
        "    args['gnn'] = get_user_input(\"GNN type (gin, gin-virtual, gcn, gcn-virtual)\", default='gin')\n",
        "    args['drop_ratio'] = get_user_input(\"Dropout ratio\", default=0.0, type_cast=float)\n",
        "    args['num_layer'] = get_user_input(\"Number of GNN message passing layers\", default=5, type_cast=int)\n",
        "    args['emb_dim'] = get_user_input(\"Dimensionality of hidden units in GNNs\", default=300, type_cast=int)\n",
        "    args['batch_size'] = get_user_input(\"Input batch size for training\", default=32, type_cast=int)\n",
        "    args['epochs'] = get_user_input(\"Number of epochs to train\", default=10, type_cast=int)\n",
        "    args['lambda_reg'] = get_user_input(\"lambda in regularization \", default=3, type_cast=float)\n",
        "\n",
        "\n",
        "    return argparse.Namespace(**args)\n"
      ],
      "metadata": {
        "trusted": true,
        "id": "-X0C5MfNOYYn"
      },
      "outputs": [],
      "execution_count": null
    },
    {
      "cell_type": "code",
      "source": [
        "def populate_args(args):\n",
        "    print(\"Arguments received:\")\n",
        "    for key, value in vars(args).items():\n",
        "        print(f\"{key}: {value}\")\n",
        "args = get_arguments()\n",
        "populate_args(args)"
      ],
      "metadata": {
        "trusted": true,
        "id": "-ousVD7lOYYo"
      },
      "outputs": [],
      "execution_count": null
    },
    {
      "cell_type": "code",
      "source": [
        "class NoisyCrossEntropyLoss(torch.nn.Module):\n",
        "    def __init__(self, p_noisy):\n",
        "        super().__init__()\n",
        "        self.p = p_noisy\n",
        "        self.ce = torch.nn.CrossEntropyLoss(reduction='none')\n",
        "\n",
        "    def forward(self, logits, targets):\n",
        "        losses = self.ce(logits, targets)\n",
        "        weights = (1 - self.p) + self.p * (1 - torch.nn.functional.one_hot(targets, num_classes=logits.size(1)).float().sum(dim=1))\n",
        "        return (losses * weights).mean()"
      ],
      "metadata": {
        "trusted": true,
        "id": "7tWJNEnCOYYo"
      },
      "outputs": [],
      "execution_count": null
    },
    {
      "cell_type": "code",
      "source": [
        "# L_ELR =L_CE+λ⋅ 1/n ∑_{i=1}^n log(1−⟨p_i,q_i⟩) où :\n",
        "# L_ELR est la loss early stopping,\n",
        "#L_CE est la cross entropy loss,\n",
        "# p_i : la prédiction du modèle pour l’exemple (vecteur de probabilités).\n",
        "# q_i  : l'estimation corrigée du label pour l’exemple (aussi un vecteur de probabilités).\n",
        "\n",
        "# On peut stocker un vecteur Q de taille dataset, que tu mets à jour au fur et à mesure.\n",
        "# Le problème c’est que le batch ne donne pas forcément l’index des exemples dans le dataset.\n",
        "# Mais en général, avec PyG, tu peux garder un data.idx ou une façon d’identifier chaque graphe.\n",
        "# Sinon, on peut stocker q_i dans data.idx ou au niveau dataset.\n",
        "\n",
        "# ATTENTION : Si GraphDataset ne renvoie pas les indices, il faut modifier la classe pour qu’elle les fournisse.\n",
        "\n",
        "class ELRLoss(torch.nn.Module):\n",
        "    def __init__(self, dataset_size, num_classes, lambda_reg=3.0, device='cpu', alpha=0.9):\n",
        "        super().__init__()\n",
        "        self.lambda_reg = lambda_reg\n",
        "        self.ce = torch.nn.CrossEntropyLoss()\n",
        "        self.device = device\n",
        "        self.alpha = alpha  # facteur pour mettre à jour q_i (momentum)\n",
        "\n",
        "        # Initialisation Q : q_i vecteurs de probas corrigées pour chaque échantillon (dataset_size x num_classes)\n",
        "        self.register_buffer('Q', torch.zeros(dataset_size, num_classes))\n",
        "\n",
        "    def forward(self, logits, targets, indices):\n",
        "        \"\"\"\n",
        "        logits : sortie brute du modèle (batch_size x num_classes)\n",
        "        targets : labels entiers (batch_size)\n",
        "        indices : indices des exemples dans le dataset (batch_size)\n",
        "        \"\"\"\n",
        "        batch_size = logits.size(0)\n",
        "        probas = torch.softmax(logits, dim=1)  # p_i\n",
        "\n",
        "        # Mettre à jour Q avec momentum : q_i ← α q_i + (1 - α) p_i\n",
        "        self.Q[indices] = self.alpha * self.Q[indices] + (1 - self.alpha) * probas.detach()\n",
        "\n",
        "        q_i = self.Q[indices]\n",
        "\n",
        "        # Calcul L_CE classique\n",
        "        loss_ce = self.ce(logits, targets)\n",
        "\n",
        "        # Calcul du terme régularisateur\n",
        "        inner_product = (probas * q_i).sum(dim=1)  # <p_i, q_i>\n",
        "        reg_term = torch.log(1 - inner_product + 1e-8).mean()  # on ajoute epsilon pour éviter log(0)\n",
        "\n",
        "        loss = loss_ce + self.lambda_reg * reg_term\n",
        "\n",
        "        return loss"
      ],
      "metadata": {
        "id": "oFdMmMmJPMzx"
      },
      "execution_count": null,
      "outputs": []
    },
    {
      "cell_type": "code",
      "source": [
        "script_dir = os.getcwd()\n",
        "# device = torch.device(f\"cuda:{args.device}\" if torch.cuda.is_available() else \"cpu\")\n",
        "device = torch.device(\"cuda\" if torch.cuda.is_available() else \"cpu\")\n",
        "num_checkpoints = args.num_checkpoints if args.num_checkpoints else 3\n",
        "\n",
        "if args.gnn == 'gin':\n",
        "    model = GNN(gnn_type='gin', num_class=6, num_layer=args.num_layer, emb_dim=args.emb_dim, drop_ratio=args.drop_ratio, virtual_node=False).to(device)\n",
        "elif args.gnn == 'gin-virtual':\n",
        "    model = GNN(gnn_type='gin', num_class=6, num_layer=args.num_layer, emb_dim=args.emb_dim, drop_ratio=args.drop_ratio, virtual_node=True).to(device)\n",
        "elif args.gnn == 'gcn':\n",
        "    model = GNN(gnn_type='gcn', num_class=6, num_layer=args.num_layer, emb_dim=args.emb_dim, drop_ratio=args.drop_ratio, virtual_node=False).to(device)\n",
        "elif args.gnn == 'gcn-virtual':\n",
        "    model = GNN(gnn_type='gcn', num_class=6, num_layer=args.num_layer, emb_dim=args.emb_dim, drop_ratio=args.drop_ratio, virtual_node=True).to(device)\n",
        "else:\n",
        "    raise ValueError('Invalid GNN type')\n",
        "\n",
        "optimizer = torch.optim.Adam(model.parameters(), lr=0.001)"
      ],
      "metadata": {
        "id": "lHX55XGECXBr",
        "trusted": true
      },
      "outputs": [],
      "execution_count": null
    },
    {
      "cell_type": "code",
      "source": [
        "test_dir_name = os.path.basename(os.path.dirname(args.test_path))\n",
        "logs_folder = os.path.join(script_dir, \"logs\", test_dir_name)\n",
        "log_file = os.path.join(logs_folder, \"training.log\")\n",
        "os.makedirs(os.path.dirname(log_file), exist_ok=True)\n",
        "logging.basicConfig(filename=log_file, level=logging.INFO, format='%(asctime)s - %(message)s')\n",
        "logging.getLogger().addHandler(logging.StreamHandler())\n",
        "\n",
        "checkpoint_path = os.path.join(script_dir, \"checkpoints\", f\"model_{test_dir_name}_best.pth\")\n",
        "checkpoints_folder = os.path.join(script_dir, \"checkpoints\", test_dir_name)\n",
        "os.makedirs(checkpoints_folder, exist_ok=True)\n"
      ],
      "metadata": {
        "id": "BTYT5jYuChPb",
        "trusted": true
      },
      "outputs": [],
      "execution_count": null
    },
    {
      "cell_type": "code",
      "source": [
        "if os.path.exists(checkpoint_path) and not args.train_path:\n",
        "    model.load_state_dict(torch.load(checkpoint_path))\n",
        "    print(f\"Loaded best model from {checkpoint_path}\")"
      ],
      "metadata": {
        "trusted": true,
        "id": "u9Dz7M4-OYYp"
      },
      "outputs": [],
      "execution_count": null
    },
    {
      "cell_type": "code",
      "source": [
        "if args.train_path:\n",
        "    full_dataset = GraphDataset(args.train_path, transform=add_zeros)\n",
        "    val_size = int(0.2 * len(full_dataset))\n",
        "    train_size = len(full_dataset) - val_size\n",
        "\n",
        "    criterion = ELRLoss(dataset_size=len(full_dataset), num_classes=6, lambda_reg=args.lambda_reg, device=device)\n",
        "\n",
        "    generator = torch.Generator().manual_seed(12)\n",
        "    train_dataset, val_dataset = random_split(full_dataset, [train_size, val_size], generator=generator)\n",
        "\n",
        "    train_loader = DataLoader(train_dataset, batch_size=args.batch_size, shuffle=True)\n",
        "    val_loader = DataLoader(val_dataset, batch_size=args.batch_size, shuffle=False)\n",
        "\n",
        "    num_epochs = args.epochs\n",
        "    best_val_accuracy = 0.0\n",
        "\n",
        "    train_losses = []\n",
        "    train_accuracies = []\n",
        "    val_losses = []\n",
        "    val_accuracies = []\n",
        "\n",
        "    if num_checkpoints > 1:\n",
        "        checkpoint_intervals = [int((i + 1) * num_epochs / num_checkpoints) for i in range(num_checkpoints)]\n",
        "    else:\n",
        "        checkpoint_intervals = [num_epochs]\n",
        "\n",
        "    for epoch in range(num_epochs):\n",
        "        train_loss, train_acc = train(\n",
        "            train_loader, model, optimizer, criterion, device,\n",
        "            save_checkpoints=(epoch + 1 in checkpoint_intervals),\n",
        "            checkpoint_path=os.path.join(checkpoints_folder, f\"model_{test_dir_name}\"),\n",
        "            current_epoch=epoch\n",
        "        )\n",
        "\n",
        "        val_loss,val_acc = evaluate(val_loader, model, device, calculate_accuracy=True)\n",
        "\n",
        "        print(f\"Epoch {epoch + 1}/{num_epochs}, Loss: {train_loss:.4f}, Train Acc: {train_acc:.4f}, Val Acc: {val_acc:.4f}\")\n",
        "        logging.info(f\"Epoch {epoch + 1}/{num_epochs}, Loss: {train_loss:.4f}, Train Acc: {train_acc:.4f}, Val Acc: {val_acc:.4f}\")\n",
        "\n",
        "        train_losses.append(train_loss)\n",
        "        train_accuracies.append(train_acc)\n",
        "        val_losses.append(val_loss)\n",
        "        val_accuracies.append(val_acc)\n",
        "\n",
        "\n",
        "        if val_acc > best_val_accuracy:\n",
        "            best_val_accuracy = val_acc\n",
        "            torch.save(model.state_dict(), checkpoint_path)\n",
        "            print(f\"Best model updated and saved at {checkpoint_path}\")\n",
        "\n",
        "    plot_training_progress(train_losses, train_accuracies, os.path.join(logs_folder, \"plots\"))\n",
        "    plot_training_progress(val_losses, val_accuracies, os.path.join(logs_folder, \"plotsVal\"))"
      ],
      "metadata": {
        "trusted": true,
        "id": "MpG5NpQTOYYp"
      },
      "outputs": [],
      "execution_count": null
    },
    {
      "cell_type": "code",
      "source": [
        "import gc\n",
        "del train_dataset\n",
        "del train_loader\n",
        "del full_dataset\n",
        "del val_dataset\n",
        "del val_loader\n",
        "gc.collect()"
      ],
      "metadata": {
        "trusted": true,
        "id": "m55j4MorOYYp"
      },
      "outputs": [],
      "execution_count": null
    },
    {
      "cell_type": "code",
      "source": [
        "test_dataset = GraphDataset(args.test_path, transform=add_zeros)\n",
        "test_loader = DataLoader(test_dataset, batch_size=args.batch_size, shuffle=False)\n",
        ""
      ],
      "metadata": {
        "id": "xsXZIj4Mdu3I",
        "trusted": true
      },
      "outputs": [],
      "execution_count": null
    },
    {
      "cell_type": "code",
      "source": [
        "model.load_state_dict(torch.load(checkpoint_path))\n",
        "predictions = evaluate(test_loader, model, device, calculate_accuracy=False)\n",
        "save_predictions(predictions, args.test_path)"
      ],
      "metadata": {
        "id": "x1OnGq_nCmTr",
        "trusted": true
      },
      "outputs": [],
      "execution_count": null
    },
    {
      "cell_type": "code",
      "source": [],
      "metadata": {
        "trusted": true,
        "id": "M6MD6iL0OYYq"
      },
      "outputs": [],
      "execution_count": null
    }
  ]
}