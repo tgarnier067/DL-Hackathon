{
 "cells": [
  {
   "cell_type": "code",
   "execution_count": 1,
   "id": "6228bc1c",
   "metadata": {
    "id": "xSkgt1zf-raF",
    "outputId": "59f4a52f-5eb4-41e5-9fba-07432989fe78",
    "papermill": {
     "duration": 5.620104,
     "end_time": "2025-05-21T16:23:24.361690",
     "exception": false,
     "start_time": "2025-05-21T16:23:18.741586",
     "status": "completed"
    },
    "tags": []
   },
   "outputs": [],
   "source": [
    "!pip install torch_geometric torch gdown --quiet"
   ]
  },
  {
   "cell_type": "code",
   "execution_count": null,
   "id": "c86aceda",
   "metadata": {
    "id": "5oR2D2Us-xSQ",
    "outputId": "7086cadf-a7fe-4d75-f271-6339bee8164d",
    "papermill": {
     "duration": 4.049235,
     "end_time": "2025-05-21T16:23:28.415556",
     "exception": false,
     "start_time": "2025-05-21T16:23:24.366321",
     "status": "completed"
    },
    "tags": []
   },
   "outputs": [],
   "source": [
    "!git clone --branch baselineCe https://github.com/Graph-Classification-Noisy-Label/hackaton.git"
   ]
  },
  {
   "cell_type": "code",
   "execution_count": 2,
   "id": "c129091c",
   "metadata": {
    "id": "tEhfPly6-7UK",
    "outputId": "3078ee06-6312-4fca-f5f9-888fa628c80a",
    "papermill": {
     "duration": 0.013251,
     "end_time": "2025-05-21T16:23:28.434119",
     "exception": false,
     "start_time": "2025-05-21T16:23:28.420868",
     "status": "completed"
    },
    "tags": []
   },
   "outputs": [
    {
     "name": "stdout",
     "output_type": "stream",
     "text": [
      "/home/onyxia/work/DL-Hackathon/hackaton\n"
     ]
    }
   ],
   "source": [
    "%cd hackaton/"
   ]
  },
  {
   "cell_type": "code",
   "execution_count": null,
   "id": "d48103c0",
   "metadata": {
    "id": "PxBvwB0_6xI8",
    "outputId": "5933387c-2cfb-474f-d842-f36a3e2d2a73",
    "papermill": {
     "duration": 83.957666,
     "end_time": "2025-05-21T16:24:52.396720",
     "exception": false,
     "start_time": "2025-05-21T16:23:28.439054",
     "status": "completed"
    },
    "tags": []
   },
   "outputs": [],
   "source": [
    "!gdown --folder https://drive.google.com/drive/folders/1Z-1JkPJ6q4C6jX4brvq1VRbJH5RPUCAk -O datasets\n"
   ]
  },
  {
   "cell_type": "code",
   "execution_count": 3,
   "id": "80dab1bc",
   "metadata": {
    "id": "1rockhiQ7Nny",
    "outputId": "2cd2e6f4-5f8f-4a62-f0ec-53e6fc78c9b7",
    "papermill": {
     "duration": 0.138969,
     "end_time": "2025-05-21T16:24:52.549260",
     "exception": false,
     "start_time": "2025-05-21T16:24:52.410291",
     "status": "completed"
    },
    "tags": []
   },
   "outputs": [
    {
     "name": "stdout",
     "output_type": "stream",
     "text": [
      "total 16K\n",
      "drwxr-sr-x 2 onyxia users 4.0K May 29 04:03 A\n",
      "drwxr-sr-x 2 onyxia users 4.0K May 29 04:04 B\n",
      "drwxr-sr-x 2 onyxia users 4.0K May 29 04:04 C\n",
      "drwxr-sr-x 2 onyxia users 4.0K May 29 04:04 D\n"
     ]
    }
   ],
   "source": [
    "!ls -lh datasets"
   ]
  },
  {
   "cell_type": "code",
   "execution_count": 4,
   "id": "817b1078",
   "metadata": {
    "id": "lAQuCuIoBbq5",
    "papermill": {
     "duration": 9.949638,
     "end_time": "2025-05-21T16:25:02.510764",
     "exception": false,
     "start_time": "2025-05-21T16:24:52.561126",
     "status": "completed"
    },
    "tags": []
   },
   "outputs": [],
   "source": [
    "import os\n",
    "import torch\n",
    "import pandas as pd\n",
    "import matplotlib.pyplot as plt\n",
    "import logging\n",
    "from tqdm import tqdm\n",
    "from torch_geometric.loader import DataLoader\n",
    "from torch.utils.data import random_split\n",
    "# Load utility functions from cloned repository\n",
    "from src.loadData import GraphDataset\n",
    "from src.utils import set_seed\n",
    "from src.models import GNN\n",
    "import argparse\n",
    "\n",
    "import torch.nn.functional as F\n",
    "\n",
    "# Set the random seed\n",
    "set_seed()\n"
   ]
  },
  {
   "cell_type": "code",
   "execution_count": 5,
   "id": "0a9c70d7",
   "metadata": {
    "id": "Dyf0I2-t9IcW",
    "papermill": {
     "duration": 0.019268,
     "end_time": "2025-05-21T16:25:02.544583",
     "exception": false,
     "start_time": "2025-05-21T16:25:02.525315",
     "status": "completed"
    },
    "tags": []
   },
   "outputs": [],
   "source": [
    "def add_zeros(data):\n",
    "    data.x = torch.zeros(data.num_nodes, dtype=torch.long)\n",
    "    return data"
   ]
  },
  {
   "cell_type": "code",
   "execution_count": 6,
   "id": "f61babe5-4786-4543-b885-7f67079a053c",
   "metadata": {},
   "outputs": [],
   "source": [
    "class GCODLoss(torch.nn.Module):\n",
    "    def __init__(self, gamma=0.2):\n",
    "        super(GCODLoss, self).__init__()\n",
    "        self.gamma = gamma\n",
    "\n",
    "    def forward(self, logits, labels):\n",
    "        ce_loss = F.cross_entropy(logits, labels, reduction='none')\n",
    "\n",
    "        probs = F.softmax(logits, dim=1)\n",
    "        true_probs = probs[range(len(labels)), labels]\n",
    "\n",
    "        weight = (true_probs.detach() ** self.gamma)\n",
    "\n",
    "        loss = weight * ce_loss\n",
    "        return loss.mean()"
   ]
  },
  {
   "cell_type": "code",
   "execution_count": 7,
   "id": "3622cfa1",
   "metadata": {
    "id": "3jKvoQYI9Zbc",
    "papermill": {
     "duration": 0.019599,
     "end_time": "2025-05-21T16:25:02.577661",
     "exception": false,
     "start_time": "2025-05-21T16:25:02.558062",
     "status": "completed"
    },
    "tags": []
   },
   "outputs": [],
   "source": [
    "def train(data_loader, model, optimizer, criterion, device, save_checkpoints, checkpoint_path, current_epoch):\n",
    "    model.train()\n",
    "    total_loss = 0\n",
    "    correct = 0\n",
    "    total = 0\n",
    "    for data in tqdm(data_loader, desc=\"Iterating training graphs\", unit=\"batch\"):\n",
    "        data = data.to(device)\n",
    "        optimizer.zero_grad()\n",
    "        output = model(data)\n",
    "        loss = criterion(output, data.y)\n",
    "        loss.backward()\n",
    "        optimizer.step()\n",
    "        total_loss += loss.item()\n",
    "        pred = output.argmax(dim=1)\n",
    "        correct += (pred == data.y).sum().item()\n",
    "        total += data.y.size(0)\n",
    "\n",
    "    # Save checkpoints if required\n",
    "    if save_checkpoints:\n",
    "        checkpoint_file = f\"{checkpoint_path}_epoch_{current_epoch + 1}.pth\"\n",
    "        torch.save(model.state_dict(), checkpoint_file)\n",
    "        print(f\"Checkpoint saved at {checkpoint_file}\")\n",
    "\n",
    "    return total_loss / len(data_loader),  correct / total"
   ]
  },
  {
   "cell_type": "code",
   "execution_count": 8,
   "id": "6139b912",
   "metadata": {
    "id": "8peFiIS19ZpK",
    "papermill": {
     "duration": 0.017908,
     "end_time": "2025-05-21T16:25:02.607848",
     "exception": false,
     "start_time": "2025-05-21T16:25:02.589940",
     "status": "completed"
    },
    "tags": []
   },
   "outputs": [],
   "source": [
    "def evaluate(data_loader, model, device, calculate_accuracy=False):\n",
    "    model.eval()\n",
    "    correct = 0\n",
    "    total = 0\n",
    "    predictions = []\n",
    "    total_loss = 0\n",
    "    criterion = torch.nn.CrossEntropyLoss()\n",
    "    with torch.no_grad():\n",
    "        for data in tqdm(data_loader, desc=\"Iterating eval graphs\", unit=\"batch\"):\n",
    "            data = data.to(device)\n",
    "            output = model(data)\n",
    "            pred = output.argmax(dim=1)\n",
    "            \n",
    "            if calculate_accuracy:\n",
    "                correct += (pred == data.y).sum().item()\n",
    "                total += data.y.size(0)\n",
    "                total_loss += criterion(output, data.y).item()\n",
    "            else:\n",
    "                predictions.extend(pred.cpu().numpy())\n",
    "    if calculate_accuracy:\n",
    "        accuracy = correct / total\n",
    "        return  total_loss / len(data_loader),accuracy\n",
    "    return predictions"
   ]
  },
  {
   "cell_type": "code",
   "execution_count": 9,
   "id": "fbdbd871",
   "metadata": {
    "id": "WanuZKxy9Zs-",
    "papermill": {
     "duration": 0.016728,
     "end_time": "2025-05-21T16:25:02.635694",
     "exception": false,
     "start_time": "2025-05-21T16:25:02.618966",
     "status": "completed"
    },
    "tags": []
   },
   "outputs": [],
   "source": [
    "def save_predictions(predictions, test_path):\n",
    "    script_dir = os.getcwd() \n",
    "    submission_folder = os.path.join(script_dir, \"submission\")\n",
    "    test_dir_name = os.path.basename(os.path.dirname(test_path))\n",
    "    \n",
    "    os.makedirs(submission_folder, exist_ok=True)\n",
    "    \n",
    "    output_csv_path = os.path.join(submission_folder, f\"testset_{test_dir_name}.csv\")\n",
    "    \n",
    "    test_graph_ids = list(range(len(predictions)))\n",
    "    output_df = pd.DataFrame({\n",
    "        \"id\": test_graph_ids,\n",
    "        \"pred\": predictions\n",
    "    })\n",
    "    \n",
    "    output_df.to_csv(output_csv_path, index=False)\n",
    "    print(f\"Predictions saved to {output_csv_path}\")"
   ]
  },
  {
   "cell_type": "code",
   "execution_count": 10,
   "id": "fc3d24da",
   "metadata": {
    "id": "uyHIJS5U9ZzB",
    "papermill": {
     "duration": 0.017765,
     "end_time": "2025-05-21T16:25:02.664538",
     "exception": false,
     "start_time": "2025-05-21T16:25:02.646773",
     "status": "completed"
    },
    "tags": []
   },
   "outputs": [],
   "source": [
    "def plot_training_progress(train_losses, train_accuracies, output_dir):\n",
    "    epochs = range(1, len(train_losses) + 1)\n",
    "    plt.figure(figsize=(12, 6))\n",
    "\n",
    "    # Plot loss\n",
    "    plt.subplot(1, 2, 1)\n",
    "    plt.plot(epochs, train_losses, label=\"Training Loss\", color='blue')\n",
    "    plt.xlabel('Epoch')\n",
    "    plt.ylabel('Loss')\n",
    "    plt.title('Training Loss per Epoch')\n",
    "\n",
    "    # Plot accuracy\n",
    "    plt.subplot(1, 2, 2)\n",
    "    plt.plot(epochs, train_accuracies, label=\"Training Accuracy\", color='green')\n",
    "    plt.xlabel('Epoch')\n",
    "    plt.ylabel('Accuracy')\n",
    "    plt.title('Training Accuracy per Epoch')\n",
    "\n",
    "    # Save plots in the current directory\n",
    "    os.makedirs(output_dir, exist_ok=True)\n",
    "    plt.tight_layout()\n",
    "    plt.savefig(os.path.join(output_dir, \"training_progress.png\"))\n",
    "    plt.close()"
   ]
  },
  {
   "cell_type": "code",
   "execution_count": 11,
   "id": "22574fa5",
   "metadata": {
    "papermill": {
     "duration": 0.016577,
     "end_time": "2025-05-21T16:25:02.692205",
     "exception": false,
     "start_time": "2025-05-21T16:25:02.675628",
     "status": "completed"
    },
    "tags": []
   },
   "outputs": [],
   "source": [
    "def get_user_input(prompt, default=None, required=False, type_cast=str):\n",
    "\n",
    "    while True:\n",
    "        user_input = input(f\"{prompt} [{default}]: \")\n",
    "        \n",
    "        if user_input == \"\" and required:\n",
    "            print(\"This field is required. Please enter a value.\")\n",
    "            continue\n",
    "        \n",
    "        if user_input == \"\" and default is not None:\n",
    "            return default\n",
    "        \n",
    "        if user_input == \"\" and not required:\n",
    "            return None\n",
    "        \n",
    "        try:\n",
    "            return type_cast(user_input)\n",
    "        except ValueError:\n",
    "            print(f\"Invalid input. Please enter a valid {type_cast.__name__}.\")"
   ]
  },
  {
   "cell_type": "code",
   "execution_count": 12,
   "id": "139e88b2",
   "metadata": {
    "papermill": {
     "duration": 0.017703,
     "end_time": "2025-05-21T16:25:02.721184",
     "exception": false,
     "start_time": "2025-05-21T16:25:02.703481",
     "status": "completed"
    },
    "tags": []
   },
   "outputs": [],
   "source": [
    "def get_arguments():\n",
    "    args = {}\n",
    "    args['train_path'] = get_user_input(\"Path to the training dataset (optional)\")\n",
    "    args['test_path'] = get_user_input(\"Path to the test dataset\", required=True)\n",
    "    args['num_checkpoints'] = get_user_input(\"Number of checkpoints to save during training\", type_cast=int)\n",
    "    args['device'] = get_user_input(\"Which GPU to use if any\", default=1, type_cast=int)\n",
    "    args['gnn'] = get_user_input(\"GNN type (gin, gin-virtual, gcn, gcn-virtual)\", default='gin')\n",
    "    args['drop_ratio'] = get_user_input(\"Dropout ratio\", default=0.0, type_cast=float)\n",
    "    args['num_layer'] = get_user_input(\"Number of GNN message passing layers\", default=5, type_cast=int)\n",
    "    args['emb_dim'] = get_user_input(\"Dimensionality of hidden units in GNNs\", default=300, type_cast=int)\n",
    "    args['batch_size'] = get_user_input(\"Input batch size for training\", default=32, type_cast=int)\n",
    "    args['epochs'] = get_user_input(\"Number of epochs to train\", default=10, type_cast=int)\n",
    "    args['baseline_mode'] = get_user_input(\"Baseline mode: 1 (CE), 2 (Noisy CE)\", default=1, type_cast=int)\n",
    "    args['noise_prob'] = get_user_input(\"Noise probability p (used if baseline_mode=2)\", default=0.2, type_cast=float)\n",
    "\n",
    "    \n",
    "    return argparse.Namespace(**args)\n"
   ]
  },
  {
   "cell_type": "markdown",
   "id": "446c7284-5a21-4e4b-8d44-d64d484fbece",
   "metadata": {},
   "source": [
    "# A"
   ]
  },
  {
   "cell_type": "code",
   "execution_count": 49,
   "id": "45bffa19",
   "metadata": {
    "papermill": {
     "duration": 0.118164,
     "end_time": "2025-05-21T16:25:02.850799",
     "exception": true,
     "start_time": "2025-05-21T16:25:02.732635",
     "status": "failed"
    },
    "scrolled": true,
    "tags": []
   },
   "outputs": [
    {
     "name": "stdin",
     "output_type": "stream",
     "text": [
      "Path to the training dataset (optional) [None]:  datasets/A/train.json.gz\n",
      "Path to the test dataset [None]:  datasets/A/test.json.gz\n",
      "Number of checkpoints to save during training [None]:  10\n",
      "Which GPU to use if any [1]:  \n",
      "GNN type (gin, gin-virtual, gcn, gcn-virtual) [gin]:  gin\n",
      "Dropout ratio [0.0]:  0.5\n",
      "Number of GNN message passing layers [5]:  \n",
      "Dimensionality of hidden units in GNNs [300]:  \n",
      "Input batch size for training [32]:  \n",
      "Number of epochs to train [10]:  50\n",
      "Baseline mode: 1 (CE), 2 (Noisy CE) [1]:  2\n",
      "Noise probability p (used if baseline_mode=2) [0.2]:  \n"
     ]
    },
    {
     "name": "stdout",
     "output_type": "stream",
     "text": [
      "Arguments received:\n",
      "train_path: datasets/A/train.json.gz\n",
      "test_path: datasets/A/test.json.gz\n",
      "num_checkpoints: 10\n",
      "device: 1\n",
      "gnn: gin\n",
      "drop_ratio: 0.5\n",
      "num_layer: 5\n",
      "emb_dim: 300\n",
      "batch_size: 32\n",
      "epochs: 50\n",
      "baseline_mode: 2\n",
      "noise_prob: 0.2\n"
     ]
    }
   ],
   "source": [
    "def populate_args(args):\n",
    "    print(\"Arguments received:\")\n",
    "    for key, value in vars(args).items():\n",
    "        print(f\"{key}: {value}\")\n",
    "args = get_arguments()\n",
    "populate_args(args)"
   ]
  },
  {
   "cell_type": "code",
   "execution_count": 50,
   "id": "f58745df",
   "metadata": {
    "id": "lHX55XGECXBr",
    "papermill": {
     "duration": null,
     "end_time": null,
     "exception": null,
     "start_time": null,
     "status": "pending"
    },
    "tags": []
   },
   "outputs": [],
   "source": [
    "script_dir = os.getcwd() \n",
    "# device = torch.device(f\"cuda:{args.device}\" if torch.cuda.is_available() else \"cpu\")\n",
    "device = torch.device(\"cuda\" if torch.cuda.is_available() else \"cpu\")\n",
    "num_checkpoints = args.num_checkpoints if args.num_checkpoints else 3\n",
    "    \n",
    "if args.gnn == 'gin':\n",
    "    model = GNN(gnn_type='gin', num_class=6, num_layer=args.num_layer, emb_dim=args.emb_dim, drop_ratio=args.drop_ratio, virtual_node=False).to(device)\n",
    "elif args.gnn == 'gin-virtual':\n",
    "    model = GNN(gnn_type='gin', num_class=6, num_layer=args.num_layer, emb_dim=args.emb_dim, drop_ratio=args.drop_ratio, virtual_node=True).to(device)\n",
    "elif args.gnn == 'gcn':\n",
    "    model = GNN(gnn_type='gcn', num_class=6, num_layer=args.num_layer, emb_dim=args.emb_dim, drop_ratio=args.drop_ratio, virtual_node=False).to(device)\n",
    "elif args.gnn == 'gcn-virtual':\n",
    "    model = GNN(gnn_type='gcn', num_class=6, num_layer=args.num_layer, emb_dim=args.emb_dim, drop_ratio=args.drop_ratio, virtual_node=True).to(device)\n",
    "else:\n",
    "    raise ValueError('Invalid GNN type')\n",
    "    \n",
    "optimizer = torch.optim.Adam(model.parameters(), lr=0.001)\n",
    "# criterion = torch.nn.CrossEntropyLoss()\n",
    "if args.baseline_mode == 2:\n",
    "    criterion = GCODLoss(gamma=0.2)\n",
    "else:\n",
    "    criterion = torch.nn.CrossEntropyLoss()"
   ]
  },
  {
   "cell_type": "code",
   "execution_count": 51,
   "id": "6a025914",
   "metadata": {
    "id": "BTYT5jYuChPb",
    "papermill": {
     "duration": null,
     "end_time": null,
     "exception": null,
     "start_time": null,
     "status": "pending"
    },
    "tags": []
   },
   "outputs": [],
   "source": [
    "test_dir_name = os.path.basename(os.path.dirname(args.test_path))\n",
    "logs_folder = os.path.join(script_dir, \"logs\", test_dir_name)\n",
    "log_file = os.path.join(logs_folder, \"training.log\")\n",
    "os.makedirs(os.path.dirname(log_file), exist_ok=True)\n",
    "logging.basicConfig(filename=log_file, level=logging.INFO, format='%(asctime)s - %(message)s')\n",
    "logging.getLogger().addHandler(logging.StreamHandler())\n",
    "\n",
    "checkpoint_path = os.path.join(script_dir, \"checkpoints\", f\"model_{test_dir_name}_best.pth\")\n",
    "checkpoints_folder = os.path.join(script_dir, \"checkpoints\", test_dir_name)\n",
    "os.makedirs(checkpoints_folder, exist_ok=True)\n"
   ]
  },
  {
   "cell_type": "code",
   "execution_count": 52,
   "id": "dbca6779",
   "metadata": {
    "papermill": {
     "duration": null,
     "end_time": null,
     "exception": null,
     "start_time": null,
     "status": "pending"
    },
    "tags": []
   },
   "outputs": [],
   "source": [
    "if os.path.exists(checkpoint_path) and not args.train_path:\n",
    "    model.load_state_dict(torch.load(checkpoint_path))\n",
    "    print(f\"Loaded best model from {checkpoint_path}\")"
   ]
  },
  {
   "cell_type": "code",
   "execution_count": 53,
   "id": "ef4a359c",
   "metadata": {
    "papermill": {
     "duration": null,
     "end_time": null,
     "exception": null,
     "start_time": null,
     "status": "pending"
    },
    "tags": []
   },
   "outputs": [
    {
     "name": "stderr",
     "output_type": "stream",
     "text": [
      "Iterating training graphs: 100%|██████████| 282/282 [01:33<00:00,  3.02batch/s]\n",
      "Iterating eval graphs: 100%|██████████| 71/71 [00:14<00:00,  5.01batch/s]\n",
      "Epoch 1/50, Loss: 1.1653, Train Acc: 0.3308, Val Acc: 0.3041\n",
      "Epoch 1/50, Loss: 1.1653, Train Acc: 0.3308, Val Acc: 0.3041\n",
      "Epoch 1/50, Loss: 1.1653, Train Acc: 0.3308, Val Acc: 0.3041\n",
      "Epoch 1/50, Loss: 1.1653, Train Acc: 0.3308, Val Acc: 0.3041\n",
      "Epoch 1/50, Loss: 1.1653, Train Acc: 0.3308, Val Acc: 0.3041\n"
     ]
    },
    {
     "name": "stdout",
     "output_type": "stream",
     "text": [
      "Epoch 1/50, Loss: 1.1653, Train Acc: 0.3308, Val Acc: 0.3041\n",
      "Best model updated and saved at /home/onyxia/work/DL-Hackathon/hackaton/checkpoints/model_A_best.pth\n"
     ]
    },
    {
     "name": "stderr",
     "output_type": "stream",
     "text": [
      "Iterating training graphs: 100%|██████████| 282/282 [01:07<00:00,  4.18batch/s]\n",
      "Iterating eval graphs: 100%|██████████| 71/71 [00:15<00:00,  4.59batch/s]\n",
      "Epoch 2/50, Loss: 1.1098, Train Acc: 0.3602, Val Acc: 0.3635\n",
      "Epoch 2/50, Loss: 1.1098, Train Acc: 0.3602, Val Acc: 0.3635\n",
      "Epoch 2/50, Loss: 1.1098, Train Acc: 0.3602, Val Acc: 0.3635\n",
      "Epoch 2/50, Loss: 1.1098, Train Acc: 0.3602, Val Acc: 0.3635\n",
      "Epoch 2/50, Loss: 1.1098, Train Acc: 0.3602, Val Acc: 0.3635\n"
     ]
    },
    {
     "name": "stdout",
     "output_type": "stream",
     "text": [
      "Epoch 2/50, Loss: 1.1098, Train Acc: 0.3602, Val Acc: 0.3635\n",
      "Best model updated and saved at /home/onyxia/work/DL-Hackathon/hackaton/checkpoints/model_A_best.pth\n"
     ]
    },
    {
     "name": "stderr",
     "output_type": "stream",
     "text": [
      "Iterating training graphs: 100%|██████████| 282/282 [01:16<00:00,  3.69batch/s]\n",
      "Iterating eval graphs: 100%|██████████| 71/71 [00:16<00:00,  4.36batch/s]\n",
      "Epoch 3/50, Loss: 1.0920, Train Acc: 0.3753, Val Acc: 0.3537\n",
      "Epoch 3/50, Loss: 1.0920, Train Acc: 0.3753, Val Acc: 0.3537\n",
      "Epoch 3/50, Loss: 1.0920, Train Acc: 0.3753, Val Acc: 0.3537\n",
      "Epoch 3/50, Loss: 1.0920, Train Acc: 0.3753, Val Acc: 0.3537\n",
      "Epoch 3/50, Loss: 1.0920, Train Acc: 0.3753, Val Acc: 0.3537\n"
     ]
    },
    {
     "name": "stdout",
     "output_type": "stream",
     "text": [
      "Epoch 3/50, Loss: 1.0920, Train Acc: 0.3753, Val Acc: 0.3537\n"
     ]
    },
    {
     "name": "stderr",
     "output_type": "stream",
     "text": [
      "Iterating training graphs: 100%|██████████| 282/282 [01:11<00:00,  3.97batch/s]\n",
      "Iterating eval graphs: 100%|██████████| 71/71 [00:13<00:00,  5.43batch/s]\n",
      "Epoch 4/50, Loss: 1.0846, Train Acc: 0.3816, Val Acc: 0.3027\n",
      "Epoch 4/50, Loss: 1.0846, Train Acc: 0.3816, Val Acc: 0.3027\n",
      "Epoch 4/50, Loss: 1.0846, Train Acc: 0.3816, Val Acc: 0.3027\n",
      "Epoch 4/50, Loss: 1.0846, Train Acc: 0.3816, Val Acc: 0.3027\n",
      "Epoch 4/50, Loss: 1.0846, Train Acc: 0.3816, Val Acc: 0.3027\n"
     ]
    },
    {
     "name": "stdout",
     "output_type": "stream",
     "text": [
      "Epoch 4/50, Loss: 1.0846, Train Acc: 0.3816, Val Acc: 0.3027\n"
     ]
    },
    {
     "name": "stderr",
     "output_type": "stream",
     "text": [
      "Iterating training graphs: 100%|██████████| 282/282 [01:06<00:00,  4.25batch/s]\n"
     ]
    },
    {
     "name": "stdout",
     "output_type": "stream",
     "text": [
      "Checkpoint saved at /home/onyxia/work/DL-Hackathon/hackaton/checkpoints/A/model_A_epoch_5.pth\n"
     ]
    },
    {
     "name": "stderr",
     "output_type": "stream",
     "text": [
      "Iterating eval graphs: 100%|██████████| 71/71 [00:13<00:00,  5.16batch/s]\n",
      "Epoch 5/50, Loss: 1.0724, Train Acc: 0.3905, Val Acc: 0.3302\n",
      "Epoch 5/50, Loss: 1.0724, Train Acc: 0.3905, Val Acc: 0.3302\n",
      "Epoch 5/50, Loss: 1.0724, Train Acc: 0.3905, Val Acc: 0.3302\n",
      "Epoch 5/50, Loss: 1.0724, Train Acc: 0.3905, Val Acc: 0.3302\n",
      "Epoch 5/50, Loss: 1.0724, Train Acc: 0.3905, Val Acc: 0.3302\n"
     ]
    },
    {
     "name": "stdout",
     "output_type": "stream",
     "text": [
      "Epoch 5/50, Loss: 1.0724, Train Acc: 0.3905, Val Acc: 0.3302\n"
     ]
    },
    {
     "name": "stderr",
     "output_type": "stream",
     "text": [
      "Iterating training graphs: 100%|██████████| 282/282 [01:08<00:00,  4.12batch/s]\n",
      "Iterating eval graphs: 100%|██████████| 71/71 [00:12<00:00,  5.51batch/s]\n",
      "Epoch 6/50, Loss: 1.0574, Train Acc: 0.3928, Val Acc: 0.3604\n",
      "Epoch 6/50, Loss: 1.0574, Train Acc: 0.3928, Val Acc: 0.3604\n",
      "Epoch 6/50, Loss: 1.0574, Train Acc: 0.3928, Val Acc: 0.3604\n",
      "Epoch 6/50, Loss: 1.0574, Train Acc: 0.3928, Val Acc: 0.3604\n",
      "Epoch 6/50, Loss: 1.0574, Train Acc: 0.3928, Val Acc: 0.3604\n"
     ]
    },
    {
     "name": "stdout",
     "output_type": "stream",
     "text": [
      "Epoch 6/50, Loss: 1.0574, Train Acc: 0.3928, Val Acc: 0.3604\n"
     ]
    },
    {
     "name": "stderr",
     "output_type": "stream",
     "text": [
      "Iterating training graphs: 100%|██████████| 282/282 [01:06<00:00,  4.24batch/s]\n",
      "Iterating eval graphs: 100%|██████████| 71/71 [00:12<00:00,  5.67batch/s]\n",
      "Epoch 7/50, Loss: 1.0538, Train Acc: 0.3934, Val Acc: 0.3803\n",
      "Epoch 7/50, Loss: 1.0538, Train Acc: 0.3934, Val Acc: 0.3803\n",
      "Epoch 7/50, Loss: 1.0538, Train Acc: 0.3934, Val Acc: 0.3803\n",
      "Epoch 7/50, Loss: 1.0538, Train Acc: 0.3934, Val Acc: 0.3803\n",
      "Epoch 7/50, Loss: 1.0538, Train Acc: 0.3934, Val Acc: 0.3803\n"
     ]
    },
    {
     "name": "stdout",
     "output_type": "stream",
     "text": [
      "Epoch 7/50, Loss: 1.0538, Train Acc: 0.3934, Val Acc: 0.3803\n",
      "Best model updated and saved at /home/onyxia/work/DL-Hackathon/hackaton/checkpoints/model_A_best.pth\n"
     ]
    },
    {
     "name": "stderr",
     "output_type": "stream",
     "text": [
      "Iterating training graphs: 100%|██████████| 282/282 [01:06<00:00,  4.26batch/s]\n",
      "Iterating eval graphs: 100%|██████████| 71/71 [00:12<00:00,  5.53batch/s]\n",
      "Epoch 8/50, Loss: 1.0495, Train Acc: 0.3993, Val Acc: 0.3945\n",
      "Epoch 8/50, Loss: 1.0495, Train Acc: 0.3993, Val Acc: 0.3945\n",
      "Epoch 8/50, Loss: 1.0495, Train Acc: 0.3993, Val Acc: 0.3945\n",
      "Epoch 8/50, Loss: 1.0495, Train Acc: 0.3993, Val Acc: 0.3945\n",
      "Epoch 8/50, Loss: 1.0495, Train Acc: 0.3993, Val Acc: 0.3945\n"
     ]
    },
    {
     "name": "stdout",
     "output_type": "stream",
     "text": [
      "Epoch 8/50, Loss: 1.0495, Train Acc: 0.3993, Val Acc: 0.3945\n",
      "Best model updated and saved at /home/onyxia/work/DL-Hackathon/hackaton/checkpoints/model_A_best.pth\n"
     ]
    },
    {
     "name": "stderr",
     "output_type": "stream",
     "text": [
      "Iterating training graphs: 100%|██████████| 282/282 [01:06<00:00,  4.26batch/s]\n",
      "Iterating eval graphs: 100%|██████████| 71/71 [00:12<00:00,  5.48batch/s]\n",
      "Epoch 9/50, Loss: 1.0388, Train Acc: 0.4030, Val Acc: 0.3848\n",
      "Epoch 9/50, Loss: 1.0388, Train Acc: 0.4030, Val Acc: 0.3848\n",
      "Epoch 9/50, Loss: 1.0388, Train Acc: 0.4030, Val Acc: 0.3848\n",
      "Epoch 9/50, Loss: 1.0388, Train Acc: 0.4030, Val Acc: 0.3848\n",
      "Epoch 9/50, Loss: 1.0388, Train Acc: 0.4030, Val Acc: 0.3848\n"
     ]
    },
    {
     "name": "stdout",
     "output_type": "stream",
     "text": [
      "Epoch 9/50, Loss: 1.0388, Train Acc: 0.4030, Val Acc: 0.3848\n"
     ]
    },
    {
     "name": "stderr",
     "output_type": "stream",
     "text": [
      "Iterating training graphs: 100%|██████████| 282/282 [01:05<00:00,  4.28batch/s]\n"
     ]
    },
    {
     "name": "stdout",
     "output_type": "stream",
     "text": [
      "Checkpoint saved at /home/onyxia/work/DL-Hackathon/hackaton/checkpoints/A/model_A_epoch_10.pth\n"
     ]
    },
    {
     "name": "stderr",
     "output_type": "stream",
     "text": [
      "Iterating eval graphs: 100%|██████████| 71/71 [00:12<00:00,  5.49batch/s]\n",
      "Epoch 10/50, Loss: 1.0448, Train Acc: 0.3969, Val Acc: 0.3573\n",
      "Epoch 10/50, Loss: 1.0448, Train Acc: 0.3969, Val Acc: 0.3573\n",
      "Epoch 10/50, Loss: 1.0448, Train Acc: 0.3969, Val Acc: 0.3573\n",
      "Epoch 10/50, Loss: 1.0448, Train Acc: 0.3969, Val Acc: 0.3573\n",
      "Epoch 10/50, Loss: 1.0448, Train Acc: 0.3969, Val Acc: 0.3573\n"
     ]
    },
    {
     "name": "stdout",
     "output_type": "stream",
     "text": [
      "Epoch 10/50, Loss: 1.0448, Train Acc: 0.3969, Val Acc: 0.3573\n"
     ]
    },
    {
     "name": "stderr",
     "output_type": "stream",
     "text": [
      "Iterating training graphs: 100%|██████████| 282/282 [01:06<00:00,  4.26batch/s]\n",
      "Iterating eval graphs: 100%|██████████| 71/71 [00:12<00:00,  5.60batch/s]\n",
      "Epoch 11/50, Loss: 1.0442, Train Acc: 0.3985, Val Acc: 0.3972\n",
      "Epoch 11/50, Loss: 1.0442, Train Acc: 0.3985, Val Acc: 0.3972\n",
      "Epoch 11/50, Loss: 1.0442, Train Acc: 0.3985, Val Acc: 0.3972\n",
      "Epoch 11/50, Loss: 1.0442, Train Acc: 0.3985, Val Acc: 0.3972\n",
      "Epoch 11/50, Loss: 1.0442, Train Acc: 0.3985, Val Acc: 0.3972\n"
     ]
    },
    {
     "name": "stdout",
     "output_type": "stream",
     "text": [
      "Epoch 11/50, Loss: 1.0442, Train Acc: 0.3985, Val Acc: 0.3972\n",
      "Best model updated and saved at /home/onyxia/work/DL-Hackathon/hackaton/checkpoints/model_A_best.pth\n"
     ]
    },
    {
     "name": "stderr",
     "output_type": "stream",
     "text": [
      "Iterating training graphs: 100%|██████████| 282/282 [01:06<00:00,  4.24batch/s]\n",
      "Iterating eval graphs: 100%|██████████| 71/71 [00:13<00:00,  5.43batch/s]\n",
      "Epoch 12/50, Loss: 1.0326, Train Acc: 0.4082, Val Acc: 0.3972\n",
      "Epoch 12/50, Loss: 1.0326, Train Acc: 0.4082, Val Acc: 0.3972\n",
      "Epoch 12/50, Loss: 1.0326, Train Acc: 0.4082, Val Acc: 0.3972\n",
      "Epoch 12/50, Loss: 1.0326, Train Acc: 0.4082, Val Acc: 0.3972\n",
      "Epoch 12/50, Loss: 1.0326, Train Acc: 0.4082, Val Acc: 0.3972\n"
     ]
    },
    {
     "name": "stdout",
     "output_type": "stream",
     "text": [
      "Epoch 12/50, Loss: 1.0326, Train Acc: 0.4082, Val Acc: 0.3972\n"
     ]
    },
    {
     "name": "stderr",
     "output_type": "stream",
     "text": [
      "Iterating training graphs: 100%|██████████| 282/282 [01:06<00:00,  4.26batch/s]\n",
      "Iterating eval graphs: 100%|██████████| 71/71 [00:12<00:00,  5.61batch/s]\n",
      "Epoch 13/50, Loss: 1.0266, Train Acc: 0.4120, Val Acc: 0.4074\n",
      "Epoch 13/50, Loss: 1.0266, Train Acc: 0.4120, Val Acc: 0.4074\n",
      "Epoch 13/50, Loss: 1.0266, Train Acc: 0.4120, Val Acc: 0.4074\n",
      "Epoch 13/50, Loss: 1.0266, Train Acc: 0.4120, Val Acc: 0.4074\n",
      "Epoch 13/50, Loss: 1.0266, Train Acc: 0.4120, Val Acc: 0.4074\n"
     ]
    },
    {
     "name": "stdout",
     "output_type": "stream",
     "text": [
      "Epoch 13/50, Loss: 1.0266, Train Acc: 0.4120, Val Acc: 0.4074\n",
      "Best model updated and saved at /home/onyxia/work/DL-Hackathon/hackaton/checkpoints/model_A_best.pth\n"
     ]
    },
    {
     "name": "stderr",
     "output_type": "stream",
     "text": [
      "Iterating training graphs: 100%|██████████| 282/282 [01:05<00:00,  4.28batch/s]\n",
      "Iterating eval graphs: 100%|██████████| 71/71 [00:13<00:00,  5.46batch/s]\n",
      "Epoch 14/50, Loss: 1.0228, Train Acc: 0.4176, Val Acc: 0.3914\n",
      "Epoch 14/50, Loss: 1.0228, Train Acc: 0.4176, Val Acc: 0.3914\n",
      "Epoch 14/50, Loss: 1.0228, Train Acc: 0.4176, Val Acc: 0.3914\n",
      "Epoch 14/50, Loss: 1.0228, Train Acc: 0.4176, Val Acc: 0.3914\n",
      "Epoch 14/50, Loss: 1.0228, Train Acc: 0.4176, Val Acc: 0.3914\n"
     ]
    },
    {
     "name": "stdout",
     "output_type": "stream",
     "text": [
      "Epoch 14/50, Loss: 1.0228, Train Acc: 0.4176, Val Acc: 0.3914\n"
     ]
    },
    {
     "name": "stderr",
     "output_type": "stream",
     "text": [
      "Iterating training graphs: 100%|██████████| 282/282 [01:06<00:00,  4.25batch/s]\n"
     ]
    },
    {
     "name": "stdout",
     "output_type": "stream",
     "text": [
      "Checkpoint saved at /home/onyxia/work/DL-Hackathon/hackaton/checkpoints/A/model_A_epoch_15.pth\n"
     ]
    },
    {
     "name": "stderr",
     "output_type": "stream",
     "text": [
      "Iterating eval graphs: 100%|██████████| 71/71 [00:13<00:00,  5.44batch/s]\n",
      "Epoch 15/50, Loss: 1.0213, Train Acc: 0.4173, Val Acc: 0.4016\n",
      "Epoch 15/50, Loss: 1.0213, Train Acc: 0.4173, Val Acc: 0.4016\n",
      "Epoch 15/50, Loss: 1.0213, Train Acc: 0.4173, Val Acc: 0.4016\n",
      "Epoch 15/50, Loss: 1.0213, Train Acc: 0.4173, Val Acc: 0.4016\n",
      "Epoch 15/50, Loss: 1.0213, Train Acc: 0.4173, Val Acc: 0.4016\n"
     ]
    },
    {
     "name": "stdout",
     "output_type": "stream",
     "text": [
      "Epoch 15/50, Loss: 1.0213, Train Acc: 0.4173, Val Acc: 0.4016\n"
     ]
    },
    {
     "name": "stderr",
     "output_type": "stream",
     "text": [
      "Iterating training graphs: 100%|██████████| 282/282 [01:06<00:00,  4.24batch/s]\n",
      "Iterating eval graphs: 100%|██████████| 71/71 [00:13<00:00,  5.42batch/s]\n",
      "Epoch 16/50, Loss: 1.0169, Train Acc: 0.4229, Val Acc: 0.4286\n",
      "Epoch 16/50, Loss: 1.0169, Train Acc: 0.4229, Val Acc: 0.4286\n",
      "Epoch 16/50, Loss: 1.0169, Train Acc: 0.4229, Val Acc: 0.4286\n",
      "Epoch 16/50, Loss: 1.0169, Train Acc: 0.4229, Val Acc: 0.4286\n",
      "Epoch 16/50, Loss: 1.0169, Train Acc: 0.4229, Val Acc: 0.4286\n"
     ]
    },
    {
     "name": "stdout",
     "output_type": "stream",
     "text": [
      "Epoch 16/50, Loss: 1.0169, Train Acc: 0.4229, Val Acc: 0.4286\n",
      "Best model updated and saved at /home/onyxia/work/DL-Hackathon/hackaton/checkpoints/model_A_best.pth\n"
     ]
    },
    {
     "name": "stderr",
     "output_type": "stream",
     "text": [
      "Iterating training graphs: 100%|██████████| 282/282 [01:05<00:00,  4.29batch/s]\n",
      "Iterating eval graphs: 100%|██████████| 71/71 [00:12<00:00,  5.61batch/s]\n",
      "Epoch 17/50, Loss: 1.0091, Train Acc: 0.4318, Val Acc: 0.4207\n",
      "Epoch 17/50, Loss: 1.0091, Train Acc: 0.4318, Val Acc: 0.4207\n",
      "Epoch 17/50, Loss: 1.0091, Train Acc: 0.4318, Val Acc: 0.4207\n",
      "Epoch 17/50, Loss: 1.0091, Train Acc: 0.4318, Val Acc: 0.4207\n",
      "Epoch 17/50, Loss: 1.0091, Train Acc: 0.4318, Val Acc: 0.4207\n"
     ]
    },
    {
     "name": "stdout",
     "output_type": "stream",
     "text": [
      "Epoch 17/50, Loss: 1.0091, Train Acc: 0.4318, Val Acc: 0.4207\n"
     ]
    },
    {
     "name": "stderr",
     "output_type": "stream",
     "text": [
      "Iterating training graphs: 100%|██████████| 282/282 [01:05<00:00,  4.31batch/s]\n",
      "Iterating eval graphs: 100%|██████████| 71/71 [00:14<00:00,  4.84batch/s]\n",
      "Epoch 18/50, Loss: 1.0046, Train Acc: 0.4372, Val Acc: 0.4069\n",
      "Epoch 18/50, Loss: 1.0046, Train Acc: 0.4372, Val Acc: 0.4069\n",
      "Epoch 18/50, Loss: 1.0046, Train Acc: 0.4372, Val Acc: 0.4069\n",
      "Epoch 18/50, Loss: 1.0046, Train Acc: 0.4372, Val Acc: 0.4069\n",
      "Epoch 18/50, Loss: 1.0046, Train Acc: 0.4372, Val Acc: 0.4069\n"
     ]
    },
    {
     "name": "stdout",
     "output_type": "stream",
     "text": [
      "Epoch 18/50, Loss: 1.0046, Train Acc: 0.4372, Val Acc: 0.4069\n"
     ]
    },
    {
     "name": "stderr",
     "output_type": "stream",
     "text": [
      "Iterating training graphs: 100%|██████████| 282/282 [01:08<00:00,  4.12batch/s]\n",
      "Iterating eval graphs: 100%|██████████| 71/71 [00:12<00:00,  5.60batch/s]\n",
      "Epoch 19/50, Loss: 0.9909, Train Acc: 0.4478, Val Acc: 0.4486\n",
      "Epoch 19/50, Loss: 0.9909, Train Acc: 0.4478, Val Acc: 0.4486\n",
      "Epoch 19/50, Loss: 0.9909, Train Acc: 0.4478, Val Acc: 0.4486\n",
      "Epoch 19/50, Loss: 0.9909, Train Acc: 0.4478, Val Acc: 0.4486\n",
      "Epoch 19/50, Loss: 0.9909, Train Acc: 0.4478, Val Acc: 0.4486\n"
     ]
    },
    {
     "name": "stdout",
     "output_type": "stream",
     "text": [
      "Epoch 19/50, Loss: 0.9909, Train Acc: 0.4478, Val Acc: 0.4486\n",
      "Best model updated and saved at /home/onyxia/work/DL-Hackathon/hackaton/checkpoints/model_A_best.pth\n"
     ]
    },
    {
     "name": "stderr",
     "output_type": "stream",
     "text": [
      "Iterating training graphs: 100%|██████████| 282/282 [01:05<00:00,  4.30batch/s]\n"
     ]
    },
    {
     "name": "stdout",
     "output_type": "stream",
     "text": [
      "Checkpoint saved at /home/onyxia/work/DL-Hackathon/hackaton/checkpoints/A/model_A_epoch_20.pth\n"
     ]
    },
    {
     "name": "stderr",
     "output_type": "stream",
     "text": [
      "Iterating eval graphs: 100%|██████████| 71/71 [00:12<00:00,  5.48batch/s]\n",
      "Epoch 20/50, Loss: 0.9873, Train Acc: 0.4523, Val Acc: 0.4774\n",
      "Epoch 20/50, Loss: 0.9873, Train Acc: 0.4523, Val Acc: 0.4774\n",
      "Epoch 20/50, Loss: 0.9873, Train Acc: 0.4523, Val Acc: 0.4774\n",
      "Epoch 20/50, Loss: 0.9873, Train Acc: 0.4523, Val Acc: 0.4774\n",
      "Epoch 20/50, Loss: 0.9873, Train Acc: 0.4523, Val Acc: 0.4774\n"
     ]
    },
    {
     "name": "stdout",
     "output_type": "stream",
     "text": [
      "Epoch 20/50, Loss: 0.9873, Train Acc: 0.4523, Val Acc: 0.4774\n",
      "Best model updated and saved at /home/onyxia/work/DL-Hackathon/hackaton/checkpoints/model_A_best.pth\n"
     ]
    },
    {
     "name": "stderr",
     "output_type": "stream",
     "text": [
      "Iterating training graphs: 100%|██████████| 282/282 [01:06<00:00,  4.26batch/s]\n",
      "Iterating eval graphs: 100%|██████████| 71/71 [00:12<00:00,  5.47batch/s]\n",
      "Epoch 21/50, Loss: 0.9787, Train Acc: 0.4589, Val Acc: 0.3223\n",
      "Epoch 21/50, Loss: 0.9787, Train Acc: 0.4589, Val Acc: 0.3223\n",
      "Epoch 21/50, Loss: 0.9787, Train Acc: 0.4589, Val Acc: 0.3223\n",
      "Epoch 21/50, Loss: 0.9787, Train Acc: 0.4589, Val Acc: 0.3223\n",
      "Epoch 21/50, Loss: 0.9787, Train Acc: 0.4589, Val Acc: 0.3223\n"
     ]
    },
    {
     "name": "stdout",
     "output_type": "stream",
     "text": [
      "Epoch 21/50, Loss: 0.9787, Train Acc: 0.4589, Val Acc: 0.3223\n"
     ]
    },
    {
     "name": "stderr",
     "output_type": "stream",
     "text": [
      "Iterating training graphs: 100%|██████████| 282/282 [01:05<00:00,  4.28batch/s]\n",
      "Iterating eval graphs: 100%|██████████| 71/71 [00:13<00:00,  5.27batch/s]\n",
      "Epoch 22/50, Loss: 0.9697, Train Acc: 0.4639, Val Acc: 0.2957\n",
      "Epoch 22/50, Loss: 0.9697, Train Acc: 0.4639, Val Acc: 0.2957\n",
      "Epoch 22/50, Loss: 0.9697, Train Acc: 0.4639, Val Acc: 0.2957\n",
      "Epoch 22/50, Loss: 0.9697, Train Acc: 0.4639, Val Acc: 0.2957\n",
      "Epoch 22/50, Loss: 0.9697, Train Acc: 0.4639, Val Acc: 0.2957\n"
     ]
    },
    {
     "name": "stdout",
     "output_type": "stream",
     "text": [
      "Epoch 22/50, Loss: 0.9697, Train Acc: 0.4639, Val Acc: 0.2957\n"
     ]
    },
    {
     "name": "stderr",
     "output_type": "stream",
     "text": [
      "Iterating training graphs: 100%|██████████| 282/282 [01:06<00:00,  4.25batch/s]\n",
      "Iterating eval graphs: 100%|██████████| 71/71 [00:12<00:00,  5.53batch/s]\n",
      "Epoch 23/50, Loss: 0.9613, Train Acc: 0.4729, Val Acc: 0.3524\n",
      "Epoch 23/50, Loss: 0.9613, Train Acc: 0.4729, Val Acc: 0.3524\n",
      "Epoch 23/50, Loss: 0.9613, Train Acc: 0.4729, Val Acc: 0.3524\n",
      "Epoch 23/50, Loss: 0.9613, Train Acc: 0.4729, Val Acc: 0.3524\n",
      "Epoch 23/50, Loss: 0.9613, Train Acc: 0.4729, Val Acc: 0.3524\n"
     ]
    },
    {
     "name": "stdout",
     "output_type": "stream",
     "text": [
      "Epoch 23/50, Loss: 0.9613, Train Acc: 0.4729, Val Acc: 0.3524\n"
     ]
    },
    {
     "name": "stderr",
     "output_type": "stream",
     "text": [
      "Iterating training graphs: 100%|██████████| 282/282 [01:06<00:00,  4.26batch/s]\n",
      "Iterating eval graphs: 100%|██████████| 71/71 [00:13<00:00,  5.24batch/s]\n",
      "Epoch 24/50, Loss: 0.9488, Train Acc: 0.4787, Val Acc: 0.4402\n",
      "Epoch 24/50, Loss: 0.9488, Train Acc: 0.4787, Val Acc: 0.4402\n",
      "Epoch 24/50, Loss: 0.9488, Train Acc: 0.4787, Val Acc: 0.4402\n",
      "Epoch 24/50, Loss: 0.9488, Train Acc: 0.4787, Val Acc: 0.4402\n",
      "Epoch 24/50, Loss: 0.9488, Train Acc: 0.4787, Val Acc: 0.4402\n"
     ]
    },
    {
     "name": "stdout",
     "output_type": "stream",
     "text": [
      "Epoch 24/50, Loss: 0.9488, Train Acc: 0.4787, Val Acc: 0.4402\n"
     ]
    },
    {
     "name": "stderr",
     "output_type": "stream",
     "text": [
      "Iterating training graphs: 100%|██████████| 282/282 [01:07<00:00,  4.21batch/s]\n"
     ]
    },
    {
     "name": "stdout",
     "output_type": "stream",
     "text": [
      "Checkpoint saved at /home/onyxia/work/DL-Hackathon/hackaton/checkpoints/A/model_A_epoch_25.pth\n"
     ]
    },
    {
     "name": "stderr",
     "output_type": "stream",
     "text": [
      "Iterating eval graphs: 100%|██████████| 71/71 [00:12<00:00,  5.68batch/s]\n",
      "Epoch 25/50, Loss: 0.9365, Train Acc: 0.4853, Val Acc: 0.4419\n",
      "Epoch 25/50, Loss: 0.9365, Train Acc: 0.4853, Val Acc: 0.4419\n",
      "Epoch 25/50, Loss: 0.9365, Train Acc: 0.4853, Val Acc: 0.4419\n",
      "Epoch 25/50, Loss: 0.9365, Train Acc: 0.4853, Val Acc: 0.4419\n",
      "Epoch 25/50, Loss: 0.9365, Train Acc: 0.4853, Val Acc: 0.4419\n"
     ]
    },
    {
     "name": "stdout",
     "output_type": "stream",
     "text": [
      "Epoch 25/50, Loss: 0.9365, Train Acc: 0.4853, Val Acc: 0.4419\n"
     ]
    },
    {
     "name": "stderr",
     "output_type": "stream",
     "text": [
      "Iterating training graphs: 100%|██████████| 282/282 [01:05<00:00,  4.31batch/s]\n",
      "Iterating eval graphs: 100%|██████████| 71/71 [00:13<00:00,  5.39batch/s]\n",
      "Epoch 26/50, Loss: 0.9291, Train Acc: 0.4907, Val Acc: 0.4987\n",
      "Epoch 26/50, Loss: 0.9291, Train Acc: 0.4907, Val Acc: 0.4987\n",
      "Epoch 26/50, Loss: 0.9291, Train Acc: 0.4907, Val Acc: 0.4987\n",
      "Epoch 26/50, Loss: 0.9291, Train Acc: 0.4907, Val Acc: 0.4987\n",
      "Epoch 26/50, Loss: 0.9291, Train Acc: 0.4907, Val Acc: 0.4987\n"
     ]
    },
    {
     "name": "stdout",
     "output_type": "stream",
     "text": [
      "Epoch 26/50, Loss: 0.9291, Train Acc: 0.4907, Val Acc: 0.4987\n",
      "Best model updated and saved at /home/onyxia/work/DL-Hackathon/hackaton/checkpoints/model_A_best.pth\n"
     ]
    },
    {
     "name": "stderr",
     "output_type": "stream",
     "text": [
      "Iterating training graphs: 100%|██████████| 282/282 [01:06<00:00,  4.27batch/s]\n",
      "Iterating eval graphs: 100%|██████████| 71/71 [00:13<00:00,  5.36batch/s]\n",
      "Epoch 27/50, Loss: 0.9188, Train Acc: 0.4970, Val Acc: 0.4783\n",
      "Epoch 27/50, Loss: 0.9188, Train Acc: 0.4970, Val Acc: 0.4783\n",
      "Epoch 27/50, Loss: 0.9188, Train Acc: 0.4970, Val Acc: 0.4783\n",
      "Epoch 27/50, Loss: 0.9188, Train Acc: 0.4970, Val Acc: 0.4783\n",
      "Epoch 27/50, Loss: 0.9188, Train Acc: 0.4970, Val Acc: 0.4783\n"
     ]
    },
    {
     "name": "stdout",
     "output_type": "stream",
     "text": [
      "Epoch 27/50, Loss: 0.9188, Train Acc: 0.4970, Val Acc: 0.4783\n"
     ]
    },
    {
     "name": "stderr",
     "output_type": "stream",
     "text": [
      "Iterating training graphs: 100%|██████████| 282/282 [01:05<00:00,  4.27batch/s]\n",
      "Iterating eval graphs: 100%|██████████| 71/71 [00:13<00:00,  5.27batch/s]\n",
      "Epoch 28/50, Loss: 0.9136, Train Acc: 0.4967, Val Acc: 0.4566\n",
      "Epoch 28/50, Loss: 0.9136, Train Acc: 0.4967, Val Acc: 0.4566\n",
      "Epoch 28/50, Loss: 0.9136, Train Acc: 0.4967, Val Acc: 0.4566\n",
      "Epoch 28/50, Loss: 0.9136, Train Acc: 0.4967, Val Acc: 0.4566\n",
      "Epoch 28/50, Loss: 0.9136, Train Acc: 0.4967, Val Acc: 0.4566\n"
     ]
    },
    {
     "name": "stdout",
     "output_type": "stream",
     "text": [
      "Epoch 28/50, Loss: 0.9136, Train Acc: 0.4967, Val Acc: 0.4566\n"
     ]
    },
    {
     "name": "stderr",
     "output_type": "stream",
     "text": [
      "Iterating training graphs: 100%|██████████| 282/282 [01:06<00:00,  4.24batch/s]\n",
      "Iterating eval graphs: 100%|██████████| 71/71 [00:12<00:00,  5.63batch/s]\n",
      "Epoch 29/50, Loss: 0.8999, Train Acc: 0.5095, Val Acc: 0.3821\n",
      "Epoch 29/50, Loss: 0.8999, Train Acc: 0.5095, Val Acc: 0.3821\n",
      "Epoch 29/50, Loss: 0.8999, Train Acc: 0.5095, Val Acc: 0.3821\n",
      "Epoch 29/50, Loss: 0.8999, Train Acc: 0.5095, Val Acc: 0.3821\n",
      "Epoch 29/50, Loss: 0.8999, Train Acc: 0.5095, Val Acc: 0.3821\n"
     ]
    },
    {
     "name": "stdout",
     "output_type": "stream",
     "text": [
      "Epoch 29/50, Loss: 0.8999, Train Acc: 0.5095, Val Acc: 0.3821\n"
     ]
    },
    {
     "name": "stderr",
     "output_type": "stream",
     "text": [
      "Iterating training graphs: 100%|██████████| 282/282 [01:05<00:00,  4.30batch/s]\n"
     ]
    },
    {
     "name": "stdout",
     "output_type": "stream",
     "text": [
      "Checkpoint saved at /home/onyxia/work/DL-Hackathon/hackaton/checkpoints/A/model_A_epoch_30.pth\n"
     ]
    },
    {
     "name": "stderr",
     "output_type": "stream",
     "text": [
      "Iterating eval graphs: 100%|██████████| 71/71 [00:12<00:00,  5.48batch/s]\n",
      "Epoch 30/50, Loss: 0.8964, Train Acc: 0.5084, Val Acc: 0.4619\n",
      "Epoch 30/50, Loss: 0.8964, Train Acc: 0.5084, Val Acc: 0.4619\n",
      "Epoch 30/50, Loss: 0.8964, Train Acc: 0.5084, Val Acc: 0.4619\n",
      "Epoch 30/50, Loss: 0.8964, Train Acc: 0.5084, Val Acc: 0.4619\n",
      "Epoch 30/50, Loss: 0.8964, Train Acc: 0.5084, Val Acc: 0.4619\n"
     ]
    },
    {
     "name": "stdout",
     "output_type": "stream",
     "text": [
      "Epoch 30/50, Loss: 0.8964, Train Acc: 0.5084, Val Acc: 0.4619\n"
     ]
    },
    {
     "name": "stderr",
     "output_type": "stream",
     "text": [
      "Iterating training graphs: 100%|██████████| 282/282 [01:07<00:00,  4.20batch/s]\n",
      "Iterating eval graphs: 100%|██████████| 71/71 [00:13<00:00,  5.29batch/s]\n",
      "Epoch 31/50, Loss: 0.8883, Train Acc: 0.5154, Val Acc: 0.5040\n",
      "Epoch 31/50, Loss: 0.8883, Train Acc: 0.5154, Val Acc: 0.5040\n",
      "Epoch 31/50, Loss: 0.8883, Train Acc: 0.5154, Val Acc: 0.5040\n",
      "Epoch 31/50, Loss: 0.8883, Train Acc: 0.5154, Val Acc: 0.5040\n",
      "Epoch 31/50, Loss: 0.8883, Train Acc: 0.5154, Val Acc: 0.5040\n"
     ]
    },
    {
     "name": "stdout",
     "output_type": "stream",
     "text": [
      "Epoch 31/50, Loss: 0.8883, Train Acc: 0.5154, Val Acc: 0.5040\n",
      "Best model updated and saved at /home/onyxia/work/DL-Hackathon/hackaton/checkpoints/model_A_best.pth\n"
     ]
    },
    {
     "name": "stderr",
     "output_type": "stream",
     "text": [
      "Iterating training graphs: 100%|██████████| 282/282 [01:07<00:00,  4.20batch/s]\n",
      "Iterating eval graphs: 100%|██████████| 71/71 [00:13<00:00,  5.38batch/s]\n",
      "Epoch 32/50, Loss: 0.8796, Train Acc: 0.5178, Val Acc: 0.5355\n",
      "Epoch 32/50, Loss: 0.8796, Train Acc: 0.5178, Val Acc: 0.5355\n",
      "Epoch 32/50, Loss: 0.8796, Train Acc: 0.5178, Val Acc: 0.5355\n",
      "Epoch 32/50, Loss: 0.8796, Train Acc: 0.5178, Val Acc: 0.5355\n",
      "Epoch 32/50, Loss: 0.8796, Train Acc: 0.5178, Val Acc: 0.5355\n"
     ]
    },
    {
     "name": "stdout",
     "output_type": "stream",
     "text": [
      "Epoch 32/50, Loss: 0.8796, Train Acc: 0.5178, Val Acc: 0.5355\n",
      "Best model updated and saved at /home/onyxia/work/DL-Hackathon/hackaton/checkpoints/model_A_best.pth\n"
     ]
    },
    {
     "name": "stderr",
     "output_type": "stream",
     "text": [
      "Iterating training graphs: 100%|██████████| 282/282 [01:06<00:00,  4.25batch/s]\n",
      "Iterating eval graphs: 100%|██████████| 71/71 [00:13<00:00,  5.29batch/s]\n",
      "Epoch 33/50, Loss: 0.8646, Train Acc: 0.5297, Val Acc: 0.5275\n",
      "Epoch 33/50, Loss: 0.8646, Train Acc: 0.5297, Val Acc: 0.5275\n",
      "Epoch 33/50, Loss: 0.8646, Train Acc: 0.5297, Val Acc: 0.5275\n",
      "Epoch 33/50, Loss: 0.8646, Train Acc: 0.5297, Val Acc: 0.5275\n",
      "Epoch 33/50, Loss: 0.8646, Train Acc: 0.5297, Val Acc: 0.5275\n"
     ]
    },
    {
     "name": "stdout",
     "output_type": "stream",
     "text": [
      "Epoch 33/50, Loss: 0.8646, Train Acc: 0.5297, Val Acc: 0.5275\n"
     ]
    },
    {
     "name": "stderr",
     "output_type": "stream",
     "text": [
      "Iterating training graphs: 100%|██████████| 282/282 [01:05<00:00,  4.28batch/s]\n",
      "Iterating eval graphs: 100%|██████████| 71/71 [00:13<00:00,  5.44batch/s]\n",
      "Epoch 34/50, Loss: 0.8554, Train Acc: 0.5354, Val Acc: 0.5058\n",
      "Epoch 34/50, Loss: 0.8554, Train Acc: 0.5354, Val Acc: 0.5058\n",
      "Epoch 34/50, Loss: 0.8554, Train Acc: 0.5354, Val Acc: 0.5058\n",
      "Epoch 34/50, Loss: 0.8554, Train Acc: 0.5354, Val Acc: 0.5058\n",
      "Epoch 34/50, Loss: 0.8554, Train Acc: 0.5354, Val Acc: 0.5058\n"
     ]
    },
    {
     "name": "stdout",
     "output_type": "stream",
     "text": [
      "Epoch 34/50, Loss: 0.8554, Train Acc: 0.5354, Val Acc: 0.5058\n"
     ]
    },
    {
     "name": "stderr",
     "output_type": "stream",
     "text": [
      "Iterating training graphs: 100%|██████████| 282/282 [01:06<00:00,  4.26batch/s]\n"
     ]
    },
    {
     "name": "stdout",
     "output_type": "stream",
     "text": [
      "Checkpoint saved at /home/onyxia/work/DL-Hackathon/hackaton/checkpoints/A/model_A_epoch_35.pth\n"
     ]
    },
    {
     "name": "stderr",
     "output_type": "stream",
     "text": [
      "Iterating eval graphs: 100%|██████████| 71/71 [00:13<00:00,  5.29batch/s]\n",
      "Epoch 35/50, Loss: 0.8488, Train Acc: 0.5378, Val Acc: 0.4304\n",
      "Epoch 35/50, Loss: 0.8488, Train Acc: 0.5378, Val Acc: 0.4304\n",
      "Epoch 35/50, Loss: 0.8488, Train Acc: 0.5378, Val Acc: 0.4304\n",
      "Epoch 35/50, Loss: 0.8488, Train Acc: 0.5378, Val Acc: 0.4304\n",
      "Epoch 35/50, Loss: 0.8488, Train Acc: 0.5378, Val Acc: 0.4304\n"
     ]
    },
    {
     "name": "stdout",
     "output_type": "stream",
     "text": [
      "Epoch 35/50, Loss: 0.8488, Train Acc: 0.5378, Val Acc: 0.4304\n"
     ]
    },
    {
     "name": "stderr",
     "output_type": "stream",
     "text": [
      "Iterating training graphs: 100%|██████████| 282/282 [01:12<00:00,  3.87batch/s]\n",
      "Iterating eval graphs: 100%|██████████| 71/71 [00:37<00:00,  1.88batch/s]\n",
      "Epoch 36/50, Loss: 0.8351, Train Acc: 0.5480, Val Acc: 0.5532\n",
      "Epoch 36/50, Loss: 0.8351, Train Acc: 0.5480, Val Acc: 0.5532\n",
      "Epoch 36/50, Loss: 0.8351, Train Acc: 0.5480, Val Acc: 0.5532\n",
      "Epoch 36/50, Loss: 0.8351, Train Acc: 0.5480, Val Acc: 0.5532\n",
      "Epoch 36/50, Loss: 0.8351, Train Acc: 0.5480, Val Acc: 0.5532\n"
     ]
    },
    {
     "name": "stdout",
     "output_type": "stream",
     "text": [
      "Epoch 36/50, Loss: 0.8351, Train Acc: 0.5480, Val Acc: 0.5532\n",
      "Best model updated and saved at /home/onyxia/work/DL-Hackathon/hackaton/checkpoints/model_A_best.pth\n"
     ]
    },
    {
     "name": "stderr",
     "output_type": "stream",
     "text": [
      "Iterating training graphs: 100%|██████████| 282/282 [01:19<00:00,  3.56batch/s]\n",
      "Iterating eval graphs: 100%|██████████| 71/71 [00:16<00:00,  4.28batch/s]\n",
      "Epoch 37/50, Loss: 0.8250, Train Acc: 0.5541, Val Acc: 0.5000\n",
      "Epoch 37/50, Loss: 0.8250, Train Acc: 0.5541, Val Acc: 0.5000\n",
      "Epoch 37/50, Loss: 0.8250, Train Acc: 0.5541, Val Acc: 0.5000\n",
      "Epoch 37/50, Loss: 0.8250, Train Acc: 0.5541, Val Acc: 0.5000\n",
      "Epoch 37/50, Loss: 0.8250, Train Acc: 0.5541, Val Acc: 0.5000\n"
     ]
    },
    {
     "name": "stdout",
     "output_type": "stream",
     "text": [
      "Epoch 37/50, Loss: 0.8250, Train Acc: 0.5541, Val Acc: 0.5000\n"
     ]
    },
    {
     "name": "stderr",
     "output_type": "stream",
     "text": [
      "Iterating training graphs: 100%|██████████| 282/282 [01:34<00:00,  2.99batch/s]\n",
      "Iterating eval graphs: 100%|██████████| 71/71 [00:16<00:00,  4.28batch/s]\n",
      "Epoch 38/50, Loss: 0.8139, Train Acc: 0.5618, Val Acc: 0.5563\n",
      "Epoch 38/50, Loss: 0.8139, Train Acc: 0.5618, Val Acc: 0.5563\n",
      "Epoch 38/50, Loss: 0.8139, Train Acc: 0.5618, Val Acc: 0.5563\n",
      "Epoch 38/50, Loss: 0.8139, Train Acc: 0.5618, Val Acc: 0.5563\n",
      "Epoch 38/50, Loss: 0.8139, Train Acc: 0.5618, Val Acc: 0.5563\n"
     ]
    },
    {
     "name": "stdout",
     "output_type": "stream",
     "text": [
      "Epoch 38/50, Loss: 0.8139, Train Acc: 0.5618, Val Acc: 0.5563\n",
      "Best model updated and saved at /home/onyxia/work/DL-Hackathon/hackaton/checkpoints/model_A_best.pth\n"
     ]
    },
    {
     "name": "stderr",
     "output_type": "stream",
     "text": [
      "Iterating training graphs: 100%|██████████| 282/282 [01:08<00:00,  4.11batch/s]\n",
      "Iterating eval graphs: 100%|██████████| 71/71 [00:15<00:00,  4.57batch/s]\n",
      "Epoch 39/50, Loss: 0.8057, Train Acc: 0.5663, Val Acc: 0.5660\n",
      "Epoch 39/50, Loss: 0.8057, Train Acc: 0.5663, Val Acc: 0.5660\n",
      "Epoch 39/50, Loss: 0.8057, Train Acc: 0.5663, Val Acc: 0.5660\n",
      "Epoch 39/50, Loss: 0.8057, Train Acc: 0.5663, Val Acc: 0.5660\n",
      "Epoch 39/50, Loss: 0.8057, Train Acc: 0.5663, Val Acc: 0.5660\n"
     ]
    },
    {
     "name": "stdout",
     "output_type": "stream",
     "text": [
      "Epoch 39/50, Loss: 0.8057, Train Acc: 0.5663, Val Acc: 0.5660\n",
      "Best model updated and saved at /home/onyxia/work/DL-Hackathon/hackaton/checkpoints/model_A_best.pth\n"
     ]
    },
    {
     "name": "stderr",
     "output_type": "stream",
     "text": [
      "Iterating training graphs: 100%|██████████| 282/282 [01:12<00:00,  3.90batch/s]\n"
     ]
    },
    {
     "name": "stdout",
     "output_type": "stream",
     "text": [
      "Checkpoint saved at /home/onyxia/work/DL-Hackathon/hackaton/checkpoints/A/model_A_epoch_40.pth\n"
     ]
    },
    {
     "name": "stderr",
     "output_type": "stream",
     "text": [
      "Iterating eval graphs: 100%|██████████| 71/71 [00:15<00:00,  4.57batch/s]\n",
      "Epoch 40/50, Loss: 0.7950, Train Acc: 0.5736, Val Acc: 0.5895\n",
      "Epoch 40/50, Loss: 0.7950, Train Acc: 0.5736, Val Acc: 0.5895\n",
      "Epoch 40/50, Loss: 0.7950, Train Acc: 0.5736, Val Acc: 0.5895\n",
      "Epoch 40/50, Loss: 0.7950, Train Acc: 0.5736, Val Acc: 0.5895\n",
      "Epoch 40/50, Loss: 0.7950, Train Acc: 0.5736, Val Acc: 0.5895\n"
     ]
    },
    {
     "name": "stdout",
     "output_type": "stream",
     "text": [
      "Epoch 40/50, Loss: 0.7950, Train Acc: 0.5736, Val Acc: 0.5895\n",
      "Best model updated and saved at /home/onyxia/work/DL-Hackathon/hackaton/checkpoints/model_A_best.pth\n"
     ]
    },
    {
     "name": "stderr",
     "output_type": "stream",
     "text": [
      "Iterating training graphs: 100%|██████████| 282/282 [01:09<00:00,  4.07batch/s]\n",
      "Iterating eval graphs: 100%|██████████| 71/71 [00:13<00:00,  5.34batch/s]\n",
      "Epoch 41/50, Loss: 0.7830, Train Acc: 0.5838, Val Acc: 0.4561\n",
      "Epoch 41/50, Loss: 0.7830, Train Acc: 0.5838, Val Acc: 0.4561\n",
      "Epoch 41/50, Loss: 0.7830, Train Acc: 0.5838, Val Acc: 0.4561\n",
      "Epoch 41/50, Loss: 0.7830, Train Acc: 0.5838, Val Acc: 0.4561\n",
      "Epoch 41/50, Loss: 0.7830, Train Acc: 0.5838, Val Acc: 0.4561\n"
     ]
    },
    {
     "name": "stdout",
     "output_type": "stream",
     "text": [
      "Epoch 41/50, Loss: 0.7830, Train Acc: 0.5838, Val Acc: 0.4561\n"
     ]
    },
    {
     "name": "stderr",
     "output_type": "stream",
     "text": [
      "Iterating training graphs: 100%|██████████| 282/282 [01:07<00:00,  4.15batch/s]\n",
      "Iterating eval graphs: 100%|██████████| 71/71 [00:13<00:00,  5.38batch/s]\n",
      "Epoch 42/50, Loss: 0.7821, Train Acc: 0.5803, Val Acc: 0.5891\n",
      "Epoch 42/50, Loss: 0.7821, Train Acc: 0.5803, Val Acc: 0.5891\n",
      "Epoch 42/50, Loss: 0.7821, Train Acc: 0.5803, Val Acc: 0.5891\n",
      "Epoch 42/50, Loss: 0.7821, Train Acc: 0.5803, Val Acc: 0.5891\n",
      "Epoch 42/50, Loss: 0.7821, Train Acc: 0.5803, Val Acc: 0.5891\n"
     ]
    },
    {
     "name": "stdout",
     "output_type": "stream",
     "text": [
      "Epoch 42/50, Loss: 0.7821, Train Acc: 0.5803, Val Acc: 0.5891\n"
     ]
    },
    {
     "name": "stderr",
     "output_type": "stream",
     "text": [
      "Iterating training graphs: 100%|██████████| 282/282 [01:06<00:00,  4.26batch/s]\n",
      "Iterating eval graphs: 100%|██████████| 71/71 [00:13<00:00,  5.41batch/s]\n",
      "Epoch 43/50, Loss: 0.7667, Train Acc: 0.5932, Val Acc: 0.5514\n",
      "Epoch 43/50, Loss: 0.7667, Train Acc: 0.5932, Val Acc: 0.5514\n",
      "Epoch 43/50, Loss: 0.7667, Train Acc: 0.5932, Val Acc: 0.5514\n",
      "Epoch 43/50, Loss: 0.7667, Train Acc: 0.5932, Val Acc: 0.5514\n",
      "Epoch 43/50, Loss: 0.7667, Train Acc: 0.5932, Val Acc: 0.5514\n"
     ]
    },
    {
     "name": "stdout",
     "output_type": "stream",
     "text": [
      "Epoch 43/50, Loss: 0.7667, Train Acc: 0.5932, Val Acc: 0.5514\n"
     ]
    },
    {
     "name": "stderr",
     "output_type": "stream",
     "text": [
      "Iterating training graphs: 100%|██████████| 282/282 [01:05<00:00,  4.30batch/s]\n",
      "Iterating eval graphs: 100%|██████████| 71/71 [00:12<00:00,  5.61batch/s]\n",
      "Epoch 44/50, Loss: 0.7661, Train Acc: 0.5965, Val Acc: 0.5780\n",
      "Epoch 44/50, Loss: 0.7661, Train Acc: 0.5965, Val Acc: 0.5780\n",
      "Epoch 44/50, Loss: 0.7661, Train Acc: 0.5965, Val Acc: 0.5780\n",
      "Epoch 44/50, Loss: 0.7661, Train Acc: 0.5965, Val Acc: 0.5780\n",
      "Epoch 44/50, Loss: 0.7661, Train Acc: 0.5965, Val Acc: 0.5780\n"
     ]
    },
    {
     "name": "stdout",
     "output_type": "stream",
     "text": [
      "Epoch 44/50, Loss: 0.7661, Train Acc: 0.5965, Val Acc: 0.5780\n"
     ]
    },
    {
     "name": "stderr",
     "output_type": "stream",
     "text": [
      "Iterating training graphs: 100%|██████████| 282/282 [01:06<00:00,  4.25batch/s]\n"
     ]
    },
    {
     "name": "stdout",
     "output_type": "stream",
     "text": [
      "Checkpoint saved at /home/onyxia/work/DL-Hackathon/hackaton/checkpoints/A/model_A_epoch_45.pth\n"
     ]
    },
    {
     "name": "stderr",
     "output_type": "stream",
     "text": [
      "Iterating eval graphs: 100%|██████████| 71/71 [00:12<00:00,  5.53batch/s]\n",
      "Epoch 45/50, Loss: 0.7554, Train Acc: 0.6015, Val Acc: 0.6184\n",
      "Epoch 45/50, Loss: 0.7554, Train Acc: 0.6015, Val Acc: 0.6184\n",
      "Epoch 45/50, Loss: 0.7554, Train Acc: 0.6015, Val Acc: 0.6184\n",
      "Epoch 45/50, Loss: 0.7554, Train Acc: 0.6015, Val Acc: 0.6184\n",
      "Epoch 45/50, Loss: 0.7554, Train Acc: 0.6015, Val Acc: 0.6184\n"
     ]
    },
    {
     "name": "stdout",
     "output_type": "stream",
     "text": [
      "Epoch 45/50, Loss: 0.7554, Train Acc: 0.6015, Val Acc: 0.6184\n",
      "Best model updated and saved at /home/onyxia/work/DL-Hackathon/hackaton/checkpoints/model_A_best.pth\n"
     ]
    },
    {
     "name": "stderr",
     "output_type": "stream",
     "text": [
      "Iterating training graphs: 100%|██████████| 282/282 [01:05<00:00,  4.30batch/s]\n",
      "Iterating eval graphs: 100%|██████████| 71/71 [00:12<00:00,  5.60batch/s]\n",
      "Epoch 46/50, Loss: 0.7324, Train Acc: 0.6162, Val Acc: 0.5612\n",
      "Epoch 46/50, Loss: 0.7324, Train Acc: 0.6162, Val Acc: 0.5612\n",
      "Epoch 46/50, Loss: 0.7324, Train Acc: 0.6162, Val Acc: 0.5612\n",
      "Epoch 46/50, Loss: 0.7324, Train Acc: 0.6162, Val Acc: 0.5612\n",
      "Epoch 46/50, Loss: 0.7324, Train Acc: 0.6162, Val Acc: 0.5612\n"
     ]
    },
    {
     "name": "stdout",
     "output_type": "stream",
     "text": [
      "Epoch 46/50, Loss: 0.7324, Train Acc: 0.6162, Val Acc: 0.5612\n"
     ]
    },
    {
     "name": "stderr",
     "output_type": "stream",
     "text": [
      "Iterating training graphs: 100%|██████████| 282/282 [01:05<00:00,  4.29batch/s]\n",
      "Iterating eval graphs: 100%|██████████| 71/71 [00:13<00:00,  5.38batch/s]\n",
      "Epoch 47/50, Loss: 0.7276, Train Acc: 0.6227, Val Acc: 0.6321\n",
      "Epoch 47/50, Loss: 0.7276, Train Acc: 0.6227, Val Acc: 0.6321\n",
      "Epoch 47/50, Loss: 0.7276, Train Acc: 0.6227, Val Acc: 0.6321\n",
      "Epoch 47/50, Loss: 0.7276, Train Acc: 0.6227, Val Acc: 0.6321\n",
      "Epoch 47/50, Loss: 0.7276, Train Acc: 0.6227, Val Acc: 0.6321\n"
     ]
    },
    {
     "name": "stdout",
     "output_type": "stream",
     "text": [
      "Epoch 47/50, Loss: 0.7276, Train Acc: 0.6227, Val Acc: 0.6321\n",
      "Best model updated and saved at /home/onyxia/work/DL-Hackathon/hackaton/checkpoints/model_A_best.pth\n"
     ]
    },
    {
     "name": "stderr",
     "output_type": "stream",
     "text": [
      "Iterating training graphs: 100%|██████████| 282/282 [01:05<00:00,  4.31batch/s]\n",
      "Iterating eval graphs: 100%|██████████| 71/71 [00:12<00:00,  5.50batch/s]\n",
      "Epoch 48/50, Loss: 0.7185, Train Acc: 0.6272, Val Acc: 0.4570\n",
      "Epoch 48/50, Loss: 0.7185, Train Acc: 0.6272, Val Acc: 0.4570\n",
      "Epoch 48/50, Loss: 0.7185, Train Acc: 0.6272, Val Acc: 0.4570\n",
      "Epoch 48/50, Loss: 0.7185, Train Acc: 0.6272, Val Acc: 0.4570\n",
      "Epoch 48/50, Loss: 0.7185, Train Acc: 0.6272, Val Acc: 0.4570\n"
     ]
    },
    {
     "name": "stdout",
     "output_type": "stream",
     "text": [
      "Epoch 48/50, Loss: 0.7185, Train Acc: 0.6272, Val Acc: 0.4570\n"
     ]
    },
    {
     "name": "stderr",
     "output_type": "stream",
     "text": [
      "Iterating training graphs: 100%|██████████| 282/282 [01:05<00:00,  4.33batch/s]\n",
      "Iterating eval graphs: 100%|██████████| 71/71 [00:12<00:00,  5.48batch/s]\n",
      "Epoch 49/50, Loss: 0.7097, Train Acc: 0.6304, Val Acc: 0.6290\n",
      "Epoch 49/50, Loss: 0.7097, Train Acc: 0.6304, Val Acc: 0.6290\n",
      "Epoch 49/50, Loss: 0.7097, Train Acc: 0.6304, Val Acc: 0.6290\n",
      "Epoch 49/50, Loss: 0.7097, Train Acc: 0.6304, Val Acc: 0.6290\n",
      "Epoch 49/50, Loss: 0.7097, Train Acc: 0.6304, Val Acc: 0.6290\n"
     ]
    },
    {
     "name": "stdout",
     "output_type": "stream",
     "text": [
      "Epoch 49/50, Loss: 0.7097, Train Acc: 0.6304, Val Acc: 0.6290\n"
     ]
    },
    {
     "name": "stderr",
     "output_type": "stream",
     "text": [
      "Iterating training graphs: 100%|██████████| 282/282 [01:05<00:00,  4.30batch/s]\n"
     ]
    },
    {
     "name": "stdout",
     "output_type": "stream",
     "text": [
      "Checkpoint saved at /home/onyxia/work/DL-Hackathon/hackaton/checkpoints/A/model_A_epoch_50.pth\n"
     ]
    },
    {
     "name": "stderr",
     "output_type": "stream",
     "text": [
      "Iterating eval graphs: 100%|██████████| 71/71 [00:13<00:00,  5.36batch/s]\n",
      "Epoch 50/50, Loss: 0.7026, Train Acc: 0.6397, Val Acc: 0.5674\n",
      "Epoch 50/50, Loss: 0.7026, Train Acc: 0.6397, Val Acc: 0.5674\n",
      "Epoch 50/50, Loss: 0.7026, Train Acc: 0.6397, Val Acc: 0.5674\n",
      "Epoch 50/50, Loss: 0.7026, Train Acc: 0.6397, Val Acc: 0.5674\n",
      "Epoch 50/50, Loss: 0.7026, Train Acc: 0.6397, Val Acc: 0.5674\n"
     ]
    },
    {
     "name": "stdout",
     "output_type": "stream",
     "text": [
      "Epoch 50/50, Loss: 0.7026, Train Acc: 0.6397, Val Acc: 0.5674\n"
     ]
    }
   ],
   "source": [
    "if args.train_path:\n",
    "    full_dataset = GraphDataset(args.train_path, transform=add_zeros)\n",
    "    val_size = int(0.2 * len(full_dataset))\n",
    "    train_size = len(full_dataset) - val_size\n",
    "    \n",
    "    generator = torch.Generator().manual_seed(12)\n",
    "    train_dataset, val_dataset = random_split(full_dataset, [train_size, val_size], generator=generator)\n",
    "\n",
    "    train_loader = DataLoader(train_dataset, batch_size=args.batch_size, shuffle=True)\n",
    "    val_loader = DataLoader(val_dataset, batch_size=args.batch_size, shuffle=False)\n",
    "\n",
    "    num_epochs = args.epochs\n",
    "    best_val_accuracy = 0.0   \n",
    "\n",
    "    train_losses = []\n",
    "    train_accuracies = []\n",
    "    val_losses = []\n",
    "    val_accuracies = []\n",
    "\n",
    "    if num_checkpoints > 1:\n",
    "        checkpoint_intervals = [int((i + 1) * num_epochs / num_checkpoints) for i in range(num_checkpoints)]\n",
    "    else:\n",
    "        checkpoint_intervals = [num_epochs]\n",
    "\n",
    "    for epoch in range(num_epochs):\n",
    "        train_loss, train_acc = train(\n",
    "            train_loader, model, optimizer, criterion, device,\n",
    "            save_checkpoints=(epoch + 1 in checkpoint_intervals),\n",
    "            checkpoint_path=os.path.join(checkpoints_folder, f\"model_{test_dir_name}\"),\n",
    "            current_epoch=epoch\n",
    "        )\n",
    "\n",
    "        val_loss,val_acc = evaluate(val_loader, model, device, calculate_accuracy=True)\n",
    "\n",
    "        print(f\"Epoch {epoch + 1}/{num_epochs}, Loss: {train_loss:.4f}, Train Acc: {train_acc:.4f}, Val Acc: {val_acc:.4f}\")\n",
    "        logging.info(f\"Epoch {epoch + 1}/{num_epochs}, Loss: {train_loss:.4f}, Train Acc: {train_acc:.4f}, Val Acc: {val_acc:.4f}\")\n",
    "\n",
    "        train_losses.append(train_loss)\n",
    "        train_accuracies.append(train_acc)\n",
    "        val_losses.append(val_loss)\n",
    "        val_accuracies.append(val_acc)\n",
    "\n",
    "        \n",
    "        if val_acc > best_val_accuracy:\n",
    "            best_val_accuracy = val_acc\n",
    "            torch.save(model.state_dict(), checkpoint_path)\n",
    "            print(f\"Best model updated and saved at {checkpoint_path}\")\n",
    "\n",
    "    plot_training_progress(train_losses, train_accuracies, os.path.join(logs_folder, \"plots\"))\n",
    "    plot_training_progress(val_losses, val_accuracies, os.path.join(logs_folder, \"plotsVal\"))"
   ]
  },
  {
   "cell_type": "code",
   "execution_count": 54,
   "id": "07594aff",
   "metadata": {
    "papermill": {
     "duration": null,
     "end_time": null,
     "exception": null,
     "start_time": null,
     "status": "pending"
    },
    "tags": []
   },
   "outputs": [
    {
     "data": {
      "text/plain": [
       "11935"
      ]
     },
     "execution_count": 54,
     "metadata": {},
     "output_type": "execute_result"
    }
   ],
   "source": [
    "import gc\n",
    "del train_dataset\n",
    "del train_loader\n",
    "del full_dataset\n",
    "del val_dataset\n",
    "del val_loader\n",
    "gc.collect()"
   ]
  },
  {
   "cell_type": "code",
   "execution_count": 55,
   "id": "ba668fff",
   "metadata": {
    "id": "xsXZIj4Mdu3I",
    "papermill": {
     "duration": null,
     "end_time": null,
     "exception": null,
     "start_time": null,
     "status": "pending"
    },
    "tags": []
   },
   "outputs": [],
   "source": [
    "test_dataset = GraphDataset(args.test_path, transform=add_zeros)\n",
    "test_loader = DataLoader(test_dataset, batch_size=args.batch_size, shuffle=False)\n",
    "    "
   ]
  },
  {
   "cell_type": "code",
   "execution_count": 56,
   "id": "7828e983",
   "metadata": {
    "id": "x1OnGq_nCmTr",
    "papermill": {
     "duration": null,
     "end_time": null,
     "exception": null,
     "start_time": null,
     "status": "pending"
    },
    "tags": []
   },
   "outputs": [
    {
     "name": "stderr",
     "output_type": "stream",
     "text": [
      "Iterating eval graphs: 100%|██████████| 74/74 [00:12<00:00,  5.90batch/s]"
     ]
    },
    {
     "name": "stdout",
     "output_type": "stream",
     "text": [
      "Predictions saved to /home/onyxia/work/DL-Hackathon/hackaton/submission/testset_A.csv\n"
     ]
    },
    {
     "name": "stderr",
     "output_type": "stream",
     "text": [
      "\n"
     ]
    }
   ],
   "source": [
    "model.load_state_dict(torch.load(checkpoint_path))\n",
    "predictions = evaluate(test_loader, model, device, calculate_accuracy=False)\n",
    "save_predictions(predictions, args.test_path)"
   ]
  },
  {
   "cell_type": "markdown",
   "id": "de029d26-cbae-4fe5-9787-f67d11028818",
   "metadata": {},
   "source": [
    "# B"
   ]
  },
  {
   "cell_type": "code",
   "execution_count": 22,
   "id": "a88add3c-e7e8-4844-8047-dd8538c39fbe",
   "metadata": {
    "papermill": {
     "duration": 0.118164,
     "end_time": "2025-05-21T16:25:02.850799",
     "exception": true,
     "start_time": "2025-05-21T16:25:02.732635",
     "status": "failed"
    },
    "tags": []
   },
   "outputs": [],
   "source": [
    "args.train_path = 'datasets/B/train.json.gz'\n",
    "args.test_path = 'datasets/B/test.json.gz'"
   ]
  },
  {
   "cell_type": "code",
   "execution_count": 23,
   "id": "a0bae7c0-2792-4a65-8a76-d18bd2bc89d3",
   "metadata": {
    "id": "lHX55XGECXBr",
    "papermill": {
     "duration": null,
     "end_time": null,
     "exception": null,
     "start_time": null,
     "status": "pending"
    },
    "tags": []
   },
   "outputs": [],
   "source": [
    "script_dir = os.getcwd() \n",
    "# device = torch.device(f\"cuda:{args.device}\" if torch.cuda.is_available() else \"cpu\")\n",
    "device = torch.device(\"cuda\" if torch.cuda.is_available() else \"cpu\")\n",
    "num_checkpoints = args.num_checkpoints if args.num_checkpoints else 3\n",
    "    \n",
    "if args.gnn == 'gin':\n",
    "    model = GNN(gnn_type='gin', num_class=6, num_layer=args.num_layer, emb_dim=args.emb_dim, drop_ratio=args.drop_ratio, virtual_node=False).to(device)\n",
    "elif args.gnn == 'gin-virtual':\n",
    "    model = GNN(gnn_type='gin', num_class=6, num_layer=args.num_layer, emb_dim=args.emb_dim, drop_ratio=args.drop_ratio, virtual_node=True).to(device)\n",
    "elif args.gnn == 'gcn':\n",
    "    model = GNN(gnn_type='gcn', num_class=6, num_layer=args.num_layer, emb_dim=args.emb_dim, drop_ratio=args.drop_ratio, virtual_node=False).to(device)\n",
    "elif args.gnn == 'gcn-virtual':\n",
    "    model = GNN(gnn_type='gcn', num_class=6, num_layer=args.num_layer, emb_dim=args.emb_dim, drop_ratio=args.drop_ratio, virtual_node=True).to(device)\n",
    "else:\n",
    "    raise ValueError('Invalid GNN type')\n",
    "    \n",
    "optimizer = torch.optim.Adam(model.parameters(), lr=0.001)\n",
    "# criterion = torch.nn.CrossEntropyLoss()\n",
    "if args.baseline_mode == 2:\n",
    "    criterion = GCODLoss(gamma=0.2)\n",
    "else:\n",
    "    criterion = torch.nn.CrossEntropyLoss()"
   ]
  },
  {
   "cell_type": "code",
   "execution_count": 24,
   "id": "52cc7e58-43f4-43fa-ab5e-7650d8ceffbc",
   "metadata": {
    "id": "BTYT5jYuChPb",
    "papermill": {
     "duration": null,
     "end_time": null,
     "exception": null,
     "start_time": null,
     "status": "pending"
    },
    "tags": []
   },
   "outputs": [],
   "source": [
    "test_dir_name = os.path.basename(os.path.dirname(args.test_path))\n",
    "logs_folder = os.path.join(script_dir, \"logs\", test_dir_name)\n",
    "log_file = os.path.join(logs_folder, \"training.log\")\n",
    "os.makedirs(os.path.dirname(log_file), exist_ok=True)\n",
    "logging.basicConfig(filename=log_file, level=logging.INFO, format='%(asctime)s - %(message)s')\n",
    "logging.getLogger().addHandler(logging.StreamHandler())\n",
    "\n",
    "checkpoint_path = os.path.join(script_dir, \"checkpoints\", f\"model_{test_dir_name}_best.pth\")\n",
    "checkpoints_folder = os.path.join(script_dir, \"checkpoints\", test_dir_name)\n",
    "os.makedirs(checkpoints_folder, exist_ok=True)"
   ]
  },
  {
   "cell_type": "code",
   "execution_count": 25,
   "id": "88189503-21d9-414a-8de6-c1e194170ed6",
   "metadata": {
    "papermill": {
     "duration": null,
     "end_time": null,
     "exception": null,
     "start_time": null,
     "status": "pending"
    },
    "tags": []
   },
   "outputs": [],
   "source": [
    "if os.path.exists(checkpoint_path) and not args.train_path:\n",
    "    model.load_state_dict(torch.load(checkpoint_path))\n",
    "    print(f\"Loaded best model from {checkpoint_path}\")"
   ]
  },
  {
   "cell_type": "code",
   "execution_count": 26,
   "id": "4660432e-a7f2-4756-9c8c-a0c17888dab0",
   "metadata": {
    "papermill": {
     "duration": null,
     "end_time": null,
     "exception": null,
     "start_time": null,
     "status": "pending"
    },
    "tags": []
   },
   "outputs": [
    {
     "name": "stderr",
     "output_type": "stream",
     "text": [
      "Iterating training graphs: 100%|██████████| 140/140 [00:30<00:00,  4.64batch/s]\n"
     ]
    },
    {
     "name": "stdout",
     "output_type": "stream",
     "text": [
      "Checkpoint saved at /home/onyxia/work/DL-Hackathon/hackaton/checkpoints/B/model_B_epoch_1.pth\n"
     ]
    },
    {
     "name": "stderr",
     "output_type": "stream",
     "text": [
      "Iterating eval graphs: 100%|██████████| 35/35 [00:06<00:00,  5.81batch/s]\n",
      "Epoch 1/50, Loss: 1.1412, Train Acc: 0.3643, Val Acc: 0.3598\n",
      "Epoch 1/50, Loss: 1.1412, Train Acc: 0.3643, Val Acc: 0.3598\n"
     ]
    },
    {
     "name": "stdout",
     "output_type": "stream",
     "text": [
      "Epoch 1/50, Loss: 1.1412, Train Acc: 0.3643, Val Acc: 0.3598\n",
      "Best model updated and saved at /home/onyxia/work/DL-Hackathon/hackaton/checkpoints/model_B_best.pth\n"
     ]
    },
    {
     "name": "stderr",
     "output_type": "stream",
     "text": [
      "Iterating training graphs: 100%|██████████| 140/140 [00:31<00:00,  4.51batch/s]\n"
     ]
    },
    {
     "name": "stdout",
     "output_type": "stream",
     "text": [
      "Checkpoint saved at /home/onyxia/work/DL-Hackathon/hackaton/checkpoints/B/model_B_epoch_2.pth\n"
     ]
    },
    {
     "name": "stderr",
     "output_type": "stream",
     "text": [
      "Iterating eval graphs: 100%|██████████| 35/35 [00:06<00:00,  5.63batch/s]\n",
      "Epoch 2/50, Loss: 1.0672, Train Acc: 0.4212, Val Acc: 0.3295\n",
      "Epoch 2/50, Loss: 1.0672, Train Acc: 0.4212, Val Acc: 0.3295\n"
     ]
    },
    {
     "name": "stdout",
     "output_type": "stream",
     "text": [
      "Epoch 2/50, Loss: 1.0672, Train Acc: 0.4212, Val Acc: 0.3295\n"
     ]
    },
    {
     "name": "stderr",
     "output_type": "stream",
     "text": [
      "Iterating training graphs: 100%|██████████| 140/140 [00:41<00:00,  3.40batch/s]\n"
     ]
    },
    {
     "name": "stdout",
     "output_type": "stream",
     "text": [
      "Checkpoint saved at /home/onyxia/work/DL-Hackathon/hackaton/checkpoints/B/model_B_epoch_3.pth\n"
     ]
    },
    {
     "name": "stderr",
     "output_type": "stream",
     "text": [
      "Iterating eval graphs: 100%|██████████| 35/35 [00:05<00:00,  5.88batch/s]\n",
      "Epoch 3/50, Loss: 1.0370, Train Acc: 0.4504, Val Acc: 0.4759\n",
      "Epoch 3/50, Loss: 1.0370, Train Acc: 0.4504, Val Acc: 0.4759\n"
     ]
    },
    {
     "name": "stdout",
     "output_type": "stream",
     "text": [
      "Epoch 3/50, Loss: 1.0370, Train Acc: 0.4504, Val Acc: 0.4759\n",
      "Best model updated and saved at /home/onyxia/work/DL-Hackathon/hackaton/checkpoints/model_B_best.pth\n"
     ]
    },
    {
     "name": "stderr",
     "output_type": "stream",
     "text": [
      "Iterating training graphs: 100%|██████████| 140/140 [00:31<00:00,  4.45batch/s]\n"
     ]
    },
    {
     "name": "stdout",
     "output_type": "stream",
     "text": [
      "Checkpoint saved at /home/onyxia/work/DL-Hackathon/hackaton/checkpoints/B/model_B_epoch_4.pth\n"
     ]
    },
    {
     "name": "stderr",
     "output_type": "stream",
     "text": [
      "Iterating eval graphs: 100%|██████████| 35/35 [00:06<00:00,  5.80batch/s]\n",
      "Epoch 4/50, Loss: 1.0262, Train Acc: 0.4509, Val Acc: 0.2107\n",
      "Epoch 4/50, Loss: 1.0262, Train Acc: 0.4509, Val Acc: 0.2107\n"
     ]
    },
    {
     "name": "stdout",
     "output_type": "stream",
     "text": [
      "Epoch 4/50, Loss: 1.0262, Train Acc: 0.4509, Val Acc: 0.2107\n"
     ]
    },
    {
     "name": "stderr",
     "output_type": "stream",
     "text": [
      "Iterating training graphs: 100%|██████████| 140/140 [00:31<00:00,  4.42batch/s]\n"
     ]
    },
    {
     "name": "stdout",
     "output_type": "stream",
     "text": [
      "Checkpoint saved at /home/onyxia/work/DL-Hackathon/hackaton/checkpoints/B/model_B_epoch_5.pth\n"
     ]
    },
    {
     "name": "stderr",
     "output_type": "stream",
     "text": [
      "Iterating eval graphs: 100%|██████████| 35/35 [00:06<00:00,  5.54batch/s]\n",
      "Epoch 5/50, Loss: 1.0047, Train Acc: 0.4723, Val Acc: 0.4920\n",
      "Epoch 5/50, Loss: 1.0047, Train Acc: 0.4723, Val Acc: 0.4920\n"
     ]
    },
    {
     "name": "stdout",
     "output_type": "stream",
     "text": [
      "Epoch 5/50, Loss: 1.0047, Train Acc: 0.4723, Val Acc: 0.4920\n",
      "Best model updated and saved at /home/onyxia/work/DL-Hackathon/hackaton/checkpoints/model_B_best.pth\n"
     ]
    },
    {
     "name": "stderr",
     "output_type": "stream",
     "text": [
      "Iterating training graphs: 100%|██████████| 140/140 [00:31<00:00,  4.46batch/s]\n"
     ]
    },
    {
     "name": "stdout",
     "output_type": "stream",
     "text": [
      "Checkpoint saved at /home/onyxia/work/DL-Hackathon/hackaton/checkpoints/B/model_B_epoch_6.pth\n"
     ]
    },
    {
     "name": "stderr",
     "output_type": "stream",
     "text": [
      "Iterating eval graphs: 100%|██████████| 35/35 [00:06<00:00,  5.70batch/s]\n",
      "Epoch 6/50, Loss: 0.9930, Train Acc: 0.4817, Val Acc: 0.4589\n",
      "Epoch 6/50, Loss: 0.9930, Train Acc: 0.4817, Val Acc: 0.4589\n"
     ]
    },
    {
     "name": "stdout",
     "output_type": "stream",
     "text": [
      "Epoch 6/50, Loss: 0.9930, Train Acc: 0.4817, Val Acc: 0.4589\n"
     ]
    },
    {
     "name": "stderr",
     "output_type": "stream",
     "text": [
      "Iterating training graphs: 100%|██████████| 140/140 [00:30<00:00,  4.55batch/s]\n"
     ]
    },
    {
     "name": "stdout",
     "output_type": "stream",
     "text": [
      "Checkpoint saved at /home/onyxia/work/DL-Hackathon/hackaton/checkpoints/B/model_B_epoch_7.pth\n"
     ]
    },
    {
     "name": "stderr",
     "output_type": "stream",
     "text": [
      "Iterating eval graphs: 100%|██████████| 35/35 [00:06<00:00,  5.73batch/s]\n",
      "Epoch 7/50, Loss: 0.9801, Train Acc: 0.4875, Val Acc: 0.4107\n",
      "Epoch 7/50, Loss: 0.9801, Train Acc: 0.4875, Val Acc: 0.4107\n"
     ]
    },
    {
     "name": "stdout",
     "output_type": "stream",
     "text": [
      "Epoch 7/50, Loss: 0.9801, Train Acc: 0.4875, Val Acc: 0.4107\n"
     ]
    },
    {
     "name": "stderr",
     "output_type": "stream",
     "text": [
      "Iterating training graphs: 100%|██████████| 140/140 [00:30<00:00,  4.55batch/s]\n"
     ]
    },
    {
     "name": "stdout",
     "output_type": "stream",
     "text": [
      "Checkpoint saved at /home/onyxia/work/DL-Hackathon/hackaton/checkpoints/B/model_B_epoch_8.pth\n"
     ]
    },
    {
     "name": "stderr",
     "output_type": "stream",
     "text": [
      "Iterating eval graphs: 100%|██████████| 35/35 [00:05<00:00,  5.86batch/s]\n",
      "Epoch 8/50, Loss: 0.9745, Train Acc: 0.4922, Val Acc: 0.3964\n",
      "Epoch 8/50, Loss: 0.9745, Train Acc: 0.4922, Val Acc: 0.3964\n"
     ]
    },
    {
     "name": "stdout",
     "output_type": "stream",
     "text": [
      "Epoch 8/50, Loss: 0.9745, Train Acc: 0.4922, Val Acc: 0.3964\n"
     ]
    },
    {
     "name": "stderr",
     "output_type": "stream",
     "text": [
      "Iterating training graphs: 100%|██████████| 140/140 [00:31<00:00,  4.42batch/s]\n"
     ]
    },
    {
     "name": "stdout",
     "output_type": "stream",
     "text": [
      "Checkpoint saved at /home/onyxia/work/DL-Hackathon/hackaton/checkpoints/B/model_B_epoch_9.pth\n"
     ]
    },
    {
     "name": "stderr",
     "output_type": "stream",
     "text": [
      "Iterating eval graphs: 100%|██████████| 35/35 [00:06<00:00,  5.50batch/s]\n",
      "Epoch 9/50, Loss: 0.9671, Train Acc: 0.4989, Val Acc: 0.3420\n",
      "Epoch 9/50, Loss: 0.9671, Train Acc: 0.4989, Val Acc: 0.3420\n"
     ]
    },
    {
     "name": "stdout",
     "output_type": "stream",
     "text": [
      "Epoch 9/50, Loss: 0.9671, Train Acc: 0.4989, Val Acc: 0.3420\n"
     ]
    },
    {
     "name": "stderr",
     "output_type": "stream",
     "text": [
      "Iterating training graphs: 100%|██████████| 140/140 [00:31<00:00,  4.50batch/s]\n"
     ]
    },
    {
     "name": "stdout",
     "output_type": "stream",
     "text": [
      "Checkpoint saved at /home/onyxia/work/DL-Hackathon/hackaton/checkpoints/B/model_B_epoch_10.pth\n"
     ]
    },
    {
     "name": "stderr",
     "output_type": "stream",
     "text": [
      "Iterating eval graphs: 100%|██████████| 35/35 [00:06<00:00,  5.61batch/s]\n",
      "Epoch 10/50, Loss: 0.9641, Train Acc: 0.5013, Val Acc: 0.4964\n",
      "Epoch 10/50, Loss: 0.9641, Train Acc: 0.5013, Val Acc: 0.4964\n"
     ]
    },
    {
     "name": "stdout",
     "output_type": "stream",
     "text": [
      "Epoch 10/50, Loss: 0.9641, Train Acc: 0.5013, Val Acc: 0.4964\n",
      "Best model updated and saved at /home/onyxia/work/DL-Hackathon/hackaton/checkpoints/model_B_best.pth\n"
     ]
    },
    {
     "name": "stderr",
     "output_type": "stream",
     "text": [
      "Iterating training graphs: 100%|██████████| 140/140 [00:31<00:00,  4.51batch/s]\n"
     ]
    },
    {
     "name": "stdout",
     "output_type": "stream",
     "text": [
      "Checkpoint saved at /home/onyxia/work/DL-Hackathon/hackaton/checkpoints/B/model_B_epoch_11.pth\n"
     ]
    },
    {
     "name": "stderr",
     "output_type": "stream",
     "text": [
      "Iterating eval graphs: 100%|██████████| 35/35 [00:06<00:00,  5.68batch/s]\n",
      "Epoch 11/50, Loss: 0.9557, Train Acc: 0.5013, Val Acc: 0.4571\n",
      "Epoch 11/50, Loss: 0.9557, Train Acc: 0.5013, Val Acc: 0.4571\n"
     ]
    },
    {
     "name": "stdout",
     "output_type": "stream",
     "text": [
      "Epoch 11/50, Loss: 0.9557, Train Acc: 0.5013, Val Acc: 0.4571\n"
     ]
    },
    {
     "name": "stderr",
     "output_type": "stream",
     "text": [
      "Iterating training graphs: 100%|██████████| 140/140 [00:31<00:00,  4.47batch/s]\n"
     ]
    },
    {
     "name": "stdout",
     "output_type": "stream",
     "text": [
      "Checkpoint saved at /home/onyxia/work/DL-Hackathon/hackaton/checkpoints/B/model_B_epoch_12.pth\n"
     ]
    },
    {
     "name": "stderr",
     "output_type": "stream",
     "text": [
      "Iterating eval graphs: 100%|██████████| 35/35 [00:06<00:00,  5.68batch/s]\n",
      "Epoch 12/50, Loss: 0.9470, Train Acc: 0.5109, Val Acc: 0.4634\n",
      "Epoch 12/50, Loss: 0.9470, Train Acc: 0.5109, Val Acc: 0.4634\n"
     ]
    },
    {
     "name": "stdout",
     "output_type": "stream",
     "text": [
      "Epoch 12/50, Loss: 0.9470, Train Acc: 0.5109, Val Acc: 0.4634\n"
     ]
    },
    {
     "name": "stderr",
     "output_type": "stream",
     "text": [
      "Iterating training graphs: 100%|██████████| 140/140 [00:30<00:00,  4.52batch/s]\n"
     ]
    },
    {
     "name": "stdout",
     "output_type": "stream",
     "text": [
      "Checkpoint saved at /home/onyxia/work/DL-Hackathon/hackaton/checkpoints/B/model_B_epoch_13.pth\n"
     ]
    },
    {
     "name": "stderr",
     "output_type": "stream",
     "text": [
      "Iterating eval graphs: 100%|██████████| 35/35 [00:06<00:00,  5.81batch/s]\n",
      "Epoch 13/50, Loss: 0.9428, Train Acc: 0.5136, Val Acc: 0.5009\n",
      "Epoch 13/50, Loss: 0.9428, Train Acc: 0.5136, Val Acc: 0.5009\n"
     ]
    },
    {
     "name": "stdout",
     "output_type": "stream",
     "text": [
      "Epoch 13/50, Loss: 0.9428, Train Acc: 0.5136, Val Acc: 0.5009\n",
      "Best model updated and saved at /home/onyxia/work/DL-Hackathon/hackaton/checkpoints/model_B_best.pth\n"
     ]
    },
    {
     "name": "stderr",
     "output_type": "stream",
     "text": [
      "Iterating training graphs: 100%|██████████| 140/140 [00:31<00:00,  4.50batch/s]\n"
     ]
    },
    {
     "name": "stdout",
     "output_type": "stream",
     "text": [
      "Checkpoint saved at /home/onyxia/work/DL-Hackathon/hackaton/checkpoints/B/model_B_epoch_14.pth\n"
     ]
    },
    {
     "name": "stderr",
     "output_type": "stream",
     "text": [
      "Iterating eval graphs: 100%|██████████| 35/35 [00:06<00:00,  5.78batch/s]\n",
      "Epoch 14/50, Loss: 0.9344, Train Acc: 0.5154, Val Acc: 0.4839\n",
      "Epoch 14/50, Loss: 0.9344, Train Acc: 0.5154, Val Acc: 0.4839\n"
     ]
    },
    {
     "name": "stdout",
     "output_type": "stream",
     "text": [
      "Epoch 14/50, Loss: 0.9344, Train Acc: 0.5154, Val Acc: 0.4839\n"
     ]
    },
    {
     "name": "stderr",
     "output_type": "stream",
     "text": [
      "Iterating training graphs: 100%|██████████| 140/140 [00:31<00:00,  4.45batch/s]\n"
     ]
    },
    {
     "name": "stdout",
     "output_type": "stream",
     "text": [
      "Checkpoint saved at /home/onyxia/work/DL-Hackathon/hackaton/checkpoints/B/model_B_epoch_15.pth\n"
     ]
    },
    {
     "name": "stderr",
     "output_type": "stream",
     "text": [
      "Iterating eval graphs: 100%|██████████| 35/35 [00:05<00:00,  5.88batch/s]\n",
      "Epoch 15/50, Loss: 0.9306, Train Acc: 0.5208, Val Acc: 0.4732\n",
      "Epoch 15/50, Loss: 0.9306, Train Acc: 0.5208, Val Acc: 0.4732\n"
     ]
    },
    {
     "name": "stdout",
     "output_type": "stream",
     "text": [
      "Epoch 15/50, Loss: 0.9306, Train Acc: 0.5208, Val Acc: 0.4732\n"
     ]
    },
    {
     "name": "stderr",
     "output_type": "stream",
     "text": [
      "Iterating training graphs: 100%|██████████| 140/140 [00:30<00:00,  4.55batch/s]\n"
     ]
    },
    {
     "name": "stdout",
     "output_type": "stream",
     "text": [
      "Checkpoint saved at /home/onyxia/work/DL-Hackathon/hackaton/checkpoints/B/model_B_epoch_16.pth\n"
     ]
    },
    {
     "name": "stderr",
     "output_type": "stream",
     "text": [
      "Iterating eval graphs: 100%|██████████| 35/35 [00:06<00:00,  5.51batch/s]\n",
      "Epoch 16/50, Loss: 0.9253, Train Acc: 0.5246, Val Acc: 0.5152\n",
      "Epoch 16/50, Loss: 0.9253, Train Acc: 0.5246, Val Acc: 0.5152\n"
     ]
    },
    {
     "name": "stdout",
     "output_type": "stream",
     "text": [
      "Epoch 16/50, Loss: 0.9253, Train Acc: 0.5246, Val Acc: 0.5152\n",
      "Best model updated and saved at /home/onyxia/work/DL-Hackathon/hackaton/checkpoints/model_B_best.pth\n"
     ]
    },
    {
     "name": "stderr",
     "output_type": "stream",
     "text": [
      "Iterating training graphs: 100%|██████████| 140/140 [00:31<00:00,  4.49batch/s]\n"
     ]
    },
    {
     "name": "stdout",
     "output_type": "stream",
     "text": [
      "Checkpoint saved at /home/onyxia/work/DL-Hackathon/hackaton/checkpoints/B/model_B_epoch_17.pth\n"
     ]
    },
    {
     "name": "stderr",
     "output_type": "stream",
     "text": [
      "Iterating eval graphs: 100%|██████████| 35/35 [00:05<00:00,  5.90batch/s]\n",
      "Epoch 17/50, Loss: 0.9197, Train Acc: 0.5283, Val Acc: 0.4393\n",
      "Epoch 17/50, Loss: 0.9197, Train Acc: 0.5283, Val Acc: 0.4393\n"
     ]
    },
    {
     "name": "stdout",
     "output_type": "stream",
     "text": [
      "Epoch 17/50, Loss: 0.9197, Train Acc: 0.5283, Val Acc: 0.4393\n"
     ]
    },
    {
     "name": "stderr",
     "output_type": "stream",
     "text": [
      "Iterating training graphs: 100%|██████████| 140/140 [00:31<00:00,  4.46batch/s]\n"
     ]
    },
    {
     "name": "stdout",
     "output_type": "stream",
     "text": [
      "Checkpoint saved at /home/onyxia/work/DL-Hackathon/hackaton/checkpoints/B/model_B_epoch_18.pth\n"
     ]
    },
    {
     "name": "stderr",
     "output_type": "stream",
     "text": [
      "Iterating eval graphs: 100%|██████████| 35/35 [00:06<00:00,  5.68batch/s]\n",
      "Epoch 18/50, Loss: 0.9126, Train Acc: 0.5353, Val Acc: 0.5027\n",
      "Epoch 18/50, Loss: 0.9126, Train Acc: 0.5353, Val Acc: 0.5027\n"
     ]
    },
    {
     "name": "stdout",
     "output_type": "stream",
     "text": [
      "Epoch 18/50, Loss: 0.9126, Train Acc: 0.5353, Val Acc: 0.5027\n"
     ]
    },
    {
     "name": "stderr",
     "output_type": "stream",
     "text": [
      "Iterating training graphs: 100%|██████████| 140/140 [00:31<00:00,  4.48batch/s]\n"
     ]
    },
    {
     "name": "stdout",
     "output_type": "stream",
     "text": [
      "Checkpoint saved at /home/onyxia/work/DL-Hackathon/hackaton/checkpoints/B/model_B_epoch_19.pth\n"
     ]
    },
    {
     "name": "stderr",
     "output_type": "stream",
     "text": [
      "Iterating eval graphs: 100%|██████████| 35/35 [00:05<00:00,  5.98batch/s]\n",
      "Epoch 19/50, Loss: 0.9081, Train Acc: 0.5310, Val Acc: 0.3732\n",
      "Epoch 19/50, Loss: 0.9081, Train Acc: 0.5310, Val Acc: 0.3732\n"
     ]
    },
    {
     "name": "stdout",
     "output_type": "stream",
     "text": [
      "Epoch 19/50, Loss: 0.9081, Train Acc: 0.5310, Val Acc: 0.3732\n"
     ]
    },
    {
     "name": "stderr",
     "output_type": "stream",
     "text": [
      "Iterating training graphs: 100%|██████████| 140/140 [00:31<00:00,  4.49batch/s]\n"
     ]
    },
    {
     "name": "stdout",
     "output_type": "stream",
     "text": [
      "Checkpoint saved at /home/onyxia/work/DL-Hackathon/hackaton/checkpoints/B/model_B_epoch_20.pth\n"
     ]
    },
    {
     "name": "stderr",
     "output_type": "stream",
     "text": [
      "Iterating eval graphs: 100%|██████████| 35/35 [00:05<00:00,  5.86batch/s]\n",
      "Epoch 20/50, Loss: 0.9096, Train Acc: 0.5335, Val Acc: 0.5357\n",
      "Epoch 20/50, Loss: 0.9096, Train Acc: 0.5335, Val Acc: 0.5357\n"
     ]
    },
    {
     "name": "stdout",
     "output_type": "stream",
     "text": [
      "Epoch 20/50, Loss: 0.9096, Train Acc: 0.5335, Val Acc: 0.5357\n",
      "Best model updated and saved at /home/onyxia/work/DL-Hackathon/hackaton/checkpoints/model_B_best.pth\n"
     ]
    },
    {
     "name": "stderr",
     "output_type": "stream",
     "text": [
      "Iterating training graphs: 100%|██████████| 140/140 [00:31<00:00,  4.46batch/s]\n"
     ]
    },
    {
     "name": "stdout",
     "output_type": "stream",
     "text": [
      "Checkpoint saved at /home/onyxia/work/DL-Hackathon/hackaton/checkpoints/B/model_B_epoch_21.pth\n"
     ]
    },
    {
     "name": "stderr",
     "output_type": "stream",
     "text": [
      "Iterating eval graphs: 100%|██████████| 35/35 [00:05<00:00,  5.84batch/s]\n",
      "Epoch 21/50, Loss: 0.8933, Train Acc: 0.5395, Val Acc: 0.5107\n",
      "Epoch 21/50, Loss: 0.8933, Train Acc: 0.5395, Val Acc: 0.5107\n"
     ]
    },
    {
     "name": "stdout",
     "output_type": "stream",
     "text": [
      "Epoch 21/50, Loss: 0.8933, Train Acc: 0.5395, Val Acc: 0.5107\n"
     ]
    },
    {
     "name": "stderr",
     "output_type": "stream",
     "text": [
      "Iterating training graphs: 100%|██████████| 140/140 [00:31<00:00,  4.45batch/s]\n"
     ]
    },
    {
     "name": "stdout",
     "output_type": "stream",
     "text": [
      "Checkpoint saved at /home/onyxia/work/DL-Hackathon/hackaton/checkpoints/B/model_B_epoch_22.pth\n"
     ]
    },
    {
     "name": "stderr",
     "output_type": "stream",
     "text": [
      "Iterating eval graphs: 100%|██████████| 35/35 [00:06<00:00,  5.71batch/s]\n",
      "Epoch 22/50, Loss: 0.8935, Train Acc: 0.5464, Val Acc: 0.5116\n",
      "Epoch 22/50, Loss: 0.8935, Train Acc: 0.5464, Val Acc: 0.5116\n"
     ]
    },
    {
     "name": "stdout",
     "output_type": "stream",
     "text": [
      "Epoch 22/50, Loss: 0.8935, Train Acc: 0.5464, Val Acc: 0.5116\n"
     ]
    },
    {
     "name": "stderr",
     "output_type": "stream",
     "text": [
      "Iterating training graphs: 100%|██████████| 140/140 [00:30<00:00,  4.53batch/s]\n"
     ]
    },
    {
     "name": "stdout",
     "output_type": "stream",
     "text": [
      "Checkpoint saved at /home/onyxia/work/DL-Hackathon/hackaton/checkpoints/B/model_B_epoch_23.pth\n"
     ]
    },
    {
     "name": "stderr",
     "output_type": "stream",
     "text": [
      "Iterating eval graphs: 100%|██████████| 35/35 [00:05<00:00,  5.92batch/s]\n",
      "Epoch 23/50, Loss: 0.8905, Train Acc: 0.5511, Val Acc: 0.5348\n",
      "Epoch 23/50, Loss: 0.8905, Train Acc: 0.5511, Val Acc: 0.5348\n"
     ]
    },
    {
     "name": "stdout",
     "output_type": "stream",
     "text": [
      "Epoch 23/50, Loss: 0.8905, Train Acc: 0.5511, Val Acc: 0.5348\n"
     ]
    },
    {
     "name": "stderr",
     "output_type": "stream",
     "text": [
      "Iterating training graphs: 100%|██████████| 140/140 [00:30<00:00,  4.53batch/s]\n"
     ]
    },
    {
     "name": "stdout",
     "output_type": "stream",
     "text": [
      "Checkpoint saved at /home/onyxia/work/DL-Hackathon/hackaton/checkpoints/B/model_B_epoch_24.pth\n"
     ]
    },
    {
     "name": "stderr",
     "output_type": "stream",
     "text": [
      "Iterating eval graphs: 100%|██████████| 35/35 [00:06<00:00,  5.80batch/s]\n",
      "Epoch 24/50, Loss: 0.8889, Train Acc: 0.5435, Val Acc: 0.3054\n",
      "Epoch 24/50, Loss: 0.8889, Train Acc: 0.5435, Val Acc: 0.3054\n"
     ]
    },
    {
     "name": "stdout",
     "output_type": "stream",
     "text": [
      "Epoch 24/50, Loss: 0.8889, Train Acc: 0.5435, Val Acc: 0.3054\n"
     ]
    },
    {
     "name": "stderr",
     "output_type": "stream",
     "text": [
      "Iterating training graphs: 100%|██████████| 140/140 [00:31<00:00,  4.50batch/s]\n"
     ]
    },
    {
     "name": "stdout",
     "output_type": "stream",
     "text": [
      "Checkpoint saved at /home/onyxia/work/DL-Hackathon/hackaton/checkpoints/B/model_B_epoch_25.pth\n"
     ]
    },
    {
     "name": "stderr",
     "output_type": "stream",
     "text": [
      "Iterating eval graphs: 100%|██████████| 35/35 [00:06<00:00,  5.74batch/s]\n",
      "Epoch 25/50, Loss: 0.8840, Train Acc: 0.5455, Val Acc: 0.5321\n",
      "Epoch 25/50, Loss: 0.8840, Train Acc: 0.5455, Val Acc: 0.5321\n"
     ]
    },
    {
     "name": "stdout",
     "output_type": "stream",
     "text": [
      "Epoch 25/50, Loss: 0.8840, Train Acc: 0.5455, Val Acc: 0.5321\n"
     ]
    },
    {
     "name": "stderr",
     "output_type": "stream",
     "text": [
      "Iterating training graphs: 100%|██████████| 140/140 [00:31<00:00,  4.50batch/s]\n"
     ]
    },
    {
     "name": "stdout",
     "output_type": "stream",
     "text": [
      "Checkpoint saved at /home/onyxia/work/DL-Hackathon/hackaton/checkpoints/B/model_B_epoch_26.pth\n"
     ]
    },
    {
     "name": "stderr",
     "output_type": "stream",
     "text": [
      "Iterating eval graphs: 100%|██████████| 35/35 [00:05<00:00,  6.08batch/s]\n",
      "Epoch 26/50, Loss: 0.8758, Train Acc: 0.5482, Val Acc: 0.5027\n",
      "Epoch 26/50, Loss: 0.8758, Train Acc: 0.5482, Val Acc: 0.5027\n"
     ]
    },
    {
     "name": "stdout",
     "output_type": "stream",
     "text": [
      "Epoch 26/50, Loss: 0.8758, Train Acc: 0.5482, Val Acc: 0.5027\n"
     ]
    },
    {
     "name": "stderr",
     "output_type": "stream",
     "text": [
      "Iterating training graphs: 100%|██████████| 140/140 [00:30<00:00,  4.52batch/s]\n"
     ]
    },
    {
     "name": "stdout",
     "output_type": "stream",
     "text": [
      "Checkpoint saved at /home/onyxia/work/DL-Hackathon/hackaton/checkpoints/B/model_B_epoch_27.pth\n"
     ]
    },
    {
     "name": "stderr",
     "output_type": "stream",
     "text": [
      "Iterating eval graphs: 100%|██████████| 35/35 [00:05<00:00,  5.88batch/s]\n",
      "Epoch 27/50, Loss: 0.8693, Train Acc: 0.5545, Val Acc: 0.5304\n",
      "Epoch 27/50, Loss: 0.8693, Train Acc: 0.5545, Val Acc: 0.5304\n"
     ]
    },
    {
     "name": "stdout",
     "output_type": "stream",
     "text": [
      "Epoch 27/50, Loss: 0.8693, Train Acc: 0.5545, Val Acc: 0.5304\n"
     ]
    },
    {
     "name": "stderr",
     "output_type": "stream",
     "text": [
      "Iterating training graphs: 100%|██████████| 140/140 [00:31<00:00,  4.47batch/s]\n"
     ]
    },
    {
     "name": "stdout",
     "output_type": "stream",
     "text": [
      "Checkpoint saved at /home/onyxia/work/DL-Hackathon/hackaton/checkpoints/B/model_B_epoch_28.pth\n"
     ]
    },
    {
     "name": "stderr",
     "output_type": "stream",
     "text": [
      "Iterating eval graphs: 100%|██████████| 35/35 [00:06<00:00,  5.80batch/s]\n",
      "Epoch 28/50, Loss: 0.8576, Train Acc: 0.5585, Val Acc: 0.5295\n",
      "Epoch 28/50, Loss: 0.8576, Train Acc: 0.5585, Val Acc: 0.5295\n"
     ]
    },
    {
     "name": "stdout",
     "output_type": "stream",
     "text": [
      "Epoch 28/50, Loss: 0.8576, Train Acc: 0.5585, Val Acc: 0.5295\n"
     ]
    },
    {
     "name": "stderr",
     "output_type": "stream",
     "text": [
      "Iterating training graphs: 100%|██████████| 140/140 [00:31<00:00,  4.47batch/s]\n"
     ]
    },
    {
     "name": "stdout",
     "output_type": "stream",
     "text": [
      "Checkpoint saved at /home/onyxia/work/DL-Hackathon/hackaton/checkpoints/B/model_B_epoch_29.pth\n"
     ]
    },
    {
     "name": "stderr",
     "output_type": "stream",
     "text": [
      "Iterating eval graphs: 100%|██████████| 35/35 [00:06<00:00,  5.68batch/s]\n",
      "Epoch 29/50, Loss: 0.8606, Train Acc: 0.5607, Val Acc: 0.5080\n",
      "Epoch 29/50, Loss: 0.8606, Train Acc: 0.5607, Val Acc: 0.5080\n"
     ]
    },
    {
     "name": "stdout",
     "output_type": "stream",
     "text": [
      "Epoch 29/50, Loss: 0.8606, Train Acc: 0.5607, Val Acc: 0.5080\n"
     ]
    },
    {
     "name": "stderr",
     "output_type": "stream",
     "text": [
      "Iterating training graphs: 100%|██████████| 140/140 [00:31<00:00,  4.46batch/s]\n"
     ]
    },
    {
     "name": "stdout",
     "output_type": "stream",
     "text": [
      "Checkpoint saved at /home/onyxia/work/DL-Hackathon/hackaton/checkpoints/B/model_B_epoch_30.pth\n"
     ]
    },
    {
     "name": "stderr",
     "output_type": "stream",
     "text": [
      "Iterating eval graphs: 100%|██████████| 35/35 [00:06<00:00,  5.72batch/s]\n",
      "Epoch 30/50, Loss: 0.8577, Train Acc: 0.5629, Val Acc: 0.5295\n",
      "Epoch 30/50, Loss: 0.8577, Train Acc: 0.5629, Val Acc: 0.5295\n"
     ]
    },
    {
     "name": "stdout",
     "output_type": "stream",
     "text": [
      "Epoch 30/50, Loss: 0.8577, Train Acc: 0.5629, Val Acc: 0.5295\n"
     ]
    },
    {
     "name": "stderr",
     "output_type": "stream",
     "text": [
      "Iterating training graphs: 100%|██████████| 140/140 [00:31<00:00,  4.47batch/s]\n"
     ]
    },
    {
     "name": "stdout",
     "output_type": "stream",
     "text": [
      "Checkpoint saved at /home/onyxia/work/DL-Hackathon/hackaton/checkpoints/B/model_B_epoch_31.pth\n"
     ]
    },
    {
     "name": "stderr",
     "output_type": "stream",
     "text": [
      "Iterating eval graphs: 100%|██████████| 35/35 [00:06<00:00,  5.55batch/s]\n",
      "Epoch 31/50, Loss: 0.8520, Train Acc: 0.5632, Val Acc: 0.5402\n",
      "Epoch 31/50, Loss: 0.8520, Train Acc: 0.5632, Val Acc: 0.5402\n"
     ]
    },
    {
     "name": "stdout",
     "output_type": "stream",
     "text": [
      "Epoch 31/50, Loss: 0.8520, Train Acc: 0.5632, Val Acc: 0.5402\n",
      "Best model updated and saved at /home/onyxia/work/DL-Hackathon/hackaton/checkpoints/model_B_best.pth\n"
     ]
    },
    {
     "name": "stderr",
     "output_type": "stream",
     "text": [
      "Iterating training graphs: 100%|██████████| 140/140 [00:31<00:00,  4.49batch/s]\n"
     ]
    },
    {
     "name": "stdout",
     "output_type": "stream",
     "text": [
      "Checkpoint saved at /home/onyxia/work/DL-Hackathon/hackaton/checkpoints/B/model_B_epoch_32.pth\n"
     ]
    },
    {
     "name": "stderr",
     "output_type": "stream",
     "text": [
      "Iterating eval graphs: 100%|██████████| 35/35 [00:05<00:00,  5.86batch/s]\n",
      "Epoch 32/50, Loss: 0.8477, Train Acc: 0.5690, Val Acc: 0.3830\n",
      "Epoch 32/50, Loss: 0.8477, Train Acc: 0.5690, Val Acc: 0.3830\n"
     ]
    },
    {
     "name": "stdout",
     "output_type": "stream",
     "text": [
      "Epoch 32/50, Loss: 0.8477, Train Acc: 0.5690, Val Acc: 0.3830\n"
     ]
    },
    {
     "name": "stderr",
     "output_type": "stream",
     "text": [
      "Iterating training graphs: 100%|██████████| 140/140 [00:31<00:00,  4.50batch/s]\n"
     ]
    },
    {
     "name": "stdout",
     "output_type": "stream",
     "text": [
      "Checkpoint saved at /home/onyxia/work/DL-Hackathon/hackaton/checkpoints/B/model_B_epoch_33.pth\n"
     ]
    },
    {
     "name": "stderr",
     "output_type": "stream",
     "text": [
      "Iterating eval graphs: 100%|██████████| 35/35 [00:05<00:00,  5.97batch/s]\n",
      "Epoch 33/50, Loss: 0.8360, Train Acc: 0.5694, Val Acc: 0.5116\n",
      "Epoch 33/50, Loss: 0.8360, Train Acc: 0.5694, Val Acc: 0.5116\n"
     ]
    },
    {
     "name": "stdout",
     "output_type": "stream",
     "text": [
      "Epoch 33/50, Loss: 0.8360, Train Acc: 0.5694, Val Acc: 0.5116\n"
     ]
    },
    {
     "name": "stderr",
     "output_type": "stream",
     "text": [
      "Iterating training graphs: 100%|██████████| 140/140 [00:31<00:00,  4.48batch/s]\n"
     ]
    },
    {
     "name": "stdout",
     "output_type": "stream",
     "text": [
      "Checkpoint saved at /home/onyxia/work/DL-Hackathon/hackaton/checkpoints/B/model_B_epoch_34.pth\n"
     ]
    },
    {
     "name": "stderr",
     "output_type": "stream",
     "text": [
      "Iterating eval graphs: 100%|██████████| 35/35 [00:05<00:00,  5.84batch/s]\n",
      "Epoch 34/50, Loss: 0.8337, Train Acc: 0.5694, Val Acc: 0.5241\n",
      "Epoch 34/50, Loss: 0.8337, Train Acc: 0.5694, Val Acc: 0.5241\n"
     ]
    },
    {
     "name": "stdout",
     "output_type": "stream",
     "text": [
      "Epoch 34/50, Loss: 0.8337, Train Acc: 0.5694, Val Acc: 0.5241\n"
     ]
    },
    {
     "name": "stderr",
     "output_type": "stream",
     "text": [
      "Iterating training graphs: 100%|██████████| 140/140 [00:30<00:00,  4.54batch/s]\n"
     ]
    },
    {
     "name": "stdout",
     "output_type": "stream",
     "text": [
      "Checkpoint saved at /home/onyxia/work/DL-Hackathon/hackaton/checkpoints/B/model_B_epoch_35.pth\n"
     ]
    },
    {
     "name": "stderr",
     "output_type": "stream",
     "text": [
      "Iterating eval graphs: 100%|██████████| 35/35 [00:05<00:00,  5.92batch/s]\n",
      "Epoch 35/50, Loss: 0.8318, Train Acc: 0.5725, Val Acc: 0.4723\n",
      "Epoch 35/50, Loss: 0.8318, Train Acc: 0.5725, Val Acc: 0.4723\n"
     ]
    },
    {
     "name": "stdout",
     "output_type": "stream",
     "text": [
      "Epoch 35/50, Loss: 0.8318, Train Acc: 0.5725, Val Acc: 0.4723\n"
     ]
    },
    {
     "name": "stderr",
     "output_type": "stream",
     "text": [
      "Iterating training graphs: 100%|██████████| 140/140 [00:30<00:00,  4.52batch/s]\n"
     ]
    },
    {
     "name": "stdout",
     "output_type": "stream",
     "text": [
      "Checkpoint saved at /home/onyxia/work/DL-Hackathon/hackaton/checkpoints/B/model_B_epoch_36.pth\n"
     ]
    },
    {
     "name": "stderr",
     "output_type": "stream",
     "text": [
      "Iterating eval graphs: 100%|██████████| 35/35 [00:06<00:00,  5.79batch/s]\n",
      "Epoch 36/50, Loss: 0.8251, Train Acc: 0.5754, Val Acc: 0.4938\n",
      "Epoch 36/50, Loss: 0.8251, Train Acc: 0.5754, Val Acc: 0.4938\n"
     ]
    },
    {
     "name": "stdout",
     "output_type": "stream",
     "text": [
      "Epoch 36/50, Loss: 0.8251, Train Acc: 0.5754, Val Acc: 0.4938\n"
     ]
    },
    {
     "name": "stderr",
     "output_type": "stream",
     "text": [
      "Iterating training graphs: 100%|██████████| 140/140 [00:31<00:00,  4.52batch/s]\n"
     ]
    },
    {
     "name": "stdout",
     "output_type": "stream",
     "text": [
      "Checkpoint saved at /home/onyxia/work/DL-Hackathon/hackaton/checkpoints/B/model_B_epoch_37.pth\n"
     ]
    },
    {
     "name": "stderr",
     "output_type": "stream",
     "text": [
      "Iterating eval graphs: 100%|██████████| 35/35 [00:06<00:00,  5.73batch/s]\n",
      "Epoch 37/50, Loss: 0.8216, Train Acc: 0.5743, Val Acc: 0.5277\n",
      "Epoch 37/50, Loss: 0.8216, Train Acc: 0.5743, Val Acc: 0.5277\n"
     ]
    },
    {
     "name": "stdout",
     "output_type": "stream",
     "text": [
      "Epoch 37/50, Loss: 0.8216, Train Acc: 0.5743, Val Acc: 0.5277\n"
     ]
    },
    {
     "name": "stderr",
     "output_type": "stream",
     "text": [
      "Iterating training graphs: 100%|██████████| 140/140 [00:31<00:00,  4.50batch/s]\n"
     ]
    },
    {
     "name": "stdout",
     "output_type": "stream",
     "text": [
      "Checkpoint saved at /home/onyxia/work/DL-Hackathon/hackaton/checkpoints/B/model_B_epoch_38.pth\n"
     ]
    },
    {
     "name": "stderr",
     "output_type": "stream",
     "text": [
      "Iterating eval graphs: 100%|██████████| 35/35 [00:06<00:00,  5.60batch/s]\n",
      "Epoch 38/50, Loss: 0.8113, Train Acc: 0.5871, Val Acc: 0.5214\n",
      "Epoch 38/50, Loss: 0.8113, Train Acc: 0.5871, Val Acc: 0.5214\n"
     ]
    },
    {
     "name": "stdout",
     "output_type": "stream",
     "text": [
      "Epoch 38/50, Loss: 0.8113, Train Acc: 0.5871, Val Acc: 0.5214\n"
     ]
    },
    {
     "name": "stderr",
     "output_type": "stream",
     "text": [
      "Iterating training graphs: 100%|██████████| 140/140 [00:31<00:00,  4.46batch/s]\n"
     ]
    },
    {
     "name": "stdout",
     "output_type": "stream",
     "text": [
      "Checkpoint saved at /home/onyxia/work/DL-Hackathon/hackaton/checkpoints/B/model_B_epoch_39.pth\n"
     ]
    },
    {
     "name": "stderr",
     "output_type": "stream",
     "text": [
      "Iterating eval graphs: 100%|██████████| 35/35 [00:06<00:00,  5.59batch/s]\n",
      "Epoch 39/50, Loss: 0.8085, Train Acc: 0.5826, Val Acc: 0.4759\n",
      "Epoch 39/50, Loss: 0.8085, Train Acc: 0.5826, Val Acc: 0.4759\n"
     ]
    },
    {
     "name": "stdout",
     "output_type": "stream",
     "text": [
      "Epoch 39/50, Loss: 0.8085, Train Acc: 0.5826, Val Acc: 0.4759\n"
     ]
    },
    {
     "name": "stderr",
     "output_type": "stream",
     "text": [
      "Iterating training graphs: 100%|██████████| 140/140 [00:31<00:00,  4.50batch/s]\n"
     ]
    },
    {
     "name": "stdout",
     "output_type": "stream",
     "text": [
      "Checkpoint saved at /home/onyxia/work/DL-Hackathon/hackaton/checkpoints/B/model_B_epoch_40.pth\n"
     ]
    },
    {
     "name": "stderr",
     "output_type": "stream",
     "text": [
      "Iterating eval graphs: 100%|██████████| 35/35 [00:06<00:00,  5.65batch/s]\n",
      "Epoch 40/50, Loss: 0.8019, Train Acc: 0.5875, Val Acc: 0.5348\n",
      "Epoch 40/50, Loss: 0.8019, Train Acc: 0.5875, Val Acc: 0.5348\n"
     ]
    },
    {
     "name": "stdout",
     "output_type": "stream",
     "text": [
      "Epoch 40/50, Loss: 0.8019, Train Acc: 0.5875, Val Acc: 0.5348\n"
     ]
    },
    {
     "name": "stderr",
     "output_type": "stream",
     "text": [
      "Iterating training graphs: 100%|██████████| 140/140 [00:30<00:00,  4.56batch/s]\n"
     ]
    },
    {
     "name": "stdout",
     "output_type": "stream",
     "text": [
      "Checkpoint saved at /home/onyxia/work/DL-Hackathon/hackaton/checkpoints/B/model_B_epoch_41.pth\n"
     ]
    },
    {
     "name": "stderr",
     "output_type": "stream",
     "text": [
      "Iterating eval graphs: 100%|██████████| 35/35 [00:05<00:00,  5.88batch/s]\n",
      "Epoch 41/50, Loss: 0.7983, Train Acc: 0.5891, Val Acc: 0.4554\n",
      "Epoch 41/50, Loss: 0.7983, Train Acc: 0.5891, Val Acc: 0.4554\n"
     ]
    },
    {
     "name": "stdout",
     "output_type": "stream",
     "text": [
      "Epoch 41/50, Loss: 0.7983, Train Acc: 0.5891, Val Acc: 0.4554\n"
     ]
    },
    {
     "name": "stderr",
     "output_type": "stream",
     "text": [
      "Iterating training graphs: 100%|██████████| 140/140 [00:31<00:00,  4.43batch/s]\n"
     ]
    },
    {
     "name": "stdout",
     "output_type": "stream",
     "text": [
      "Checkpoint saved at /home/onyxia/work/DL-Hackathon/hackaton/checkpoints/B/model_B_epoch_42.pth\n"
     ]
    },
    {
     "name": "stderr",
     "output_type": "stream",
     "text": [
      "Iterating eval graphs: 100%|██████████| 35/35 [00:05<00:00,  6.00batch/s]\n",
      "Epoch 42/50, Loss: 0.8010, Train Acc: 0.5835, Val Acc: 0.5027\n",
      "Epoch 42/50, Loss: 0.8010, Train Acc: 0.5835, Val Acc: 0.5027\n"
     ]
    },
    {
     "name": "stdout",
     "output_type": "stream",
     "text": [
      "Epoch 42/50, Loss: 0.8010, Train Acc: 0.5835, Val Acc: 0.5027\n"
     ]
    },
    {
     "name": "stderr",
     "output_type": "stream",
     "text": [
      "Iterating training graphs: 100%|██████████| 140/140 [00:31<00:00,  4.48batch/s]\n"
     ]
    },
    {
     "name": "stdout",
     "output_type": "stream",
     "text": [
      "Checkpoint saved at /home/onyxia/work/DL-Hackathon/hackaton/checkpoints/B/model_B_epoch_43.pth\n"
     ]
    },
    {
     "name": "stderr",
     "output_type": "stream",
     "text": [
      "Iterating eval graphs: 100%|██████████| 35/35 [00:06<00:00,  5.55batch/s]\n",
      "Epoch 43/50, Loss: 0.7979, Train Acc: 0.5929, Val Acc: 0.5161\n",
      "Epoch 43/50, Loss: 0.7979, Train Acc: 0.5929, Val Acc: 0.5161\n"
     ]
    },
    {
     "name": "stdout",
     "output_type": "stream",
     "text": [
      "Epoch 43/50, Loss: 0.7979, Train Acc: 0.5929, Val Acc: 0.5161\n"
     ]
    },
    {
     "name": "stderr",
     "output_type": "stream",
     "text": [
      "Iterating training graphs: 100%|██████████| 140/140 [00:30<00:00,  4.53batch/s]\n"
     ]
    },
    {
     "name": "stdout",
     "output_type": "stream",
     "text": [
      "Checkpoint saved at /home/onyxia/work/DL-Hackathon/hackaton/checkpoints/B/model_B_epoch_44.pth\n"
     ]
    },
    {
     "name": "stderr",
     "output_type": "stream",
     "text": [
      "Iterating eval graphs: 100%|██████████| 35/35 [00:06<00:00,  5.63batch/s]\n",
      "Epoch 44/50, Loss: 0.8045, Train Acc: 0.5813, Val Acc: 0.4821\n",
      "Epoch 44/50, Loss: 0.8045, Train Acc: 0.5813, Val Acc: 0.4821\n"
     ]
    },
    {
     "name": "stdout",
     "output_type": "stream",
     "text": [
      "Epoch 44/50, Loss: 0.8045, Train Acc: 0.5813, Val Acc: 0.4821\n"
     ]
    },
    {
     "name": "stderr",
     "output_type": "stream",
     "text": [
      "Iterating training graphs: 100%|██████████| 140/140 [00:31<00:00,  4.51batch/s]\n"
     ]
    },
    {
     "name": "stdout",
     "output_type": "stream",
     "text": [
      "Checkpoint saved at /home/onyxia/work/DL-Hackathon/hackaton/checkpoints/B/model_B_epoch_45.pth\n"
     ]
    },
    {
     "name": "stderr",
     "output_type": "stream",
     "text": [
      "Iterating eval graphs: 100%|██████████| 35/35 [00:06<00:00,  5.82batch/s]\n",
      "Epoch 45/50, Loss: 0.7808, Train Acc: 0.5973, Val Acc: 0.1643\n",
      "Epoch 45/50, Loss: 0.7808, Train Acc: 0.5973, Val Acc: 0.1643\n"
     ]
    },
    {
     "name": "stdout",
     "output_type": "stream",
     "text": [
      "Epoch 45/50, Loss: 0.7808, Train Acc: 0.5973, Val Acc: 0.1643\n"
     ]
    },
    {
     "name": "stderr",
     "output_type": "stream",
     "text": [
      "Iterating training graphs: 100%|██████████| 140/140 [00:31<00:00,  4.47batch/s]\n"
     ]
    },
    {
     "name": "stdout",
     "output_type": "stream",
     "text": [
      "Checkpoint saved at /home/onyxia/work/DL-Hackathon/hackaton/checkpoints/B/model_B_epoch_46.pth\n"
     ]
    },
    {
     "name": "stderr",
     "output_type": "stream",
     "text": [
      "Iterating eval graphs: 100%|██████████| 35/35 [00:06<00:00,  5.57batch/s]\n",
      "Epoch 46/50, Loss: 0.7804, Train Acc: 0.5984, Val Acc: 0.5250\n",
      "Epoch 46/50, Loss: 0.7804, Train Acc: 0.5984, Val Acc: 0.5250\n"
     ]
    },
    {
     "name": "stdout",
     "output_type": "stream",
     "text": [
      "Epoch 46/50, Loss: 0.7804, Train Acc: 0.5984, Val Acc: 0.5250\n"
     ]
    },
    {
     "name": "stderr",
     "output_type": "stream",
     "text": [
      "Iterating training graphs: 100%|██████████| 140/140 [00:31<00:00,  4.50batch/s]\n"
     ]
    },
    {
     "name": "stdout",
     "output_type": "stream",
     "text": [
      "Checkpoint saved at /home/onyxia/work/DL-Hackathon/hackaton/checkpoints/B/model_B_epoch_47.pth\n"
     ]
    },
    {
     "name": "stderr",
     "output_type": "stream",
     "text": [
      "Iterating eval graphs: 100%|██████████| 35/35 [00:05<00:00,  5.99batch/s]\n",
      "Epoch 47/50, Loss: 0.7779, Train Acc: 0.5933, Val Acc: 0.5286\n",
      "Epoch 47/50, Loss: 0.7779, Train Acc: 0.5933, Val Acc: 0.5286\n"
     ]
    },
    {
     "name": "stdout",
     "output_type": "stream",
     "text": [
      "Epoch 47/50, Loss: 0.7779, Train Acc: 0.5933, Val Acc: 0.5286\n"
     ]
    },
    {
     "name": "stderr",
     "output_type": "stream",
     "text": [
      "Iterating training graphs: 100%|██████████| 140/140 [00:31<00:00,  4.48batch/s]\n"
     ]
    },
    {
     "name": "stdout",
     "output_type": "stream",
     "text": [
      "Checkpoint saved at /home/onyxia/work/DL-Hackathon/hackaton/checkpoints/B/model_B_epoch_48.pth\n"
     ]
    },
    {
     "name": "stderr",
     "output_type": "stream",
     "text": [
      "Iterating eval graphs: 100%|██████████| 35/35 [00:05<00:00,  5.89batch/s]\n",
      "Epoch 48/50, Loss: 0.7600, Train Acc: 0.6083, Val Acc: 0.5196\n",
      "Epoch 48/50, Loss: 0.7600, Train Acc: 0.6083, Val Acc: 0.5196\n"
     ]
    },
    {
     "name": "stdout",
     "output_type": "stream",
     "text": [
      "Epoch 48/50, Loss: 0.7600, Train Acc: 0.6083, Val Acc: 0.5196\n"
     ]
    },
    {
     "name": "stderr",
     "output_type": "stream",
     "text": [
      "Iterating training graphs: 100%|██████████| 140/140 [00:31<00:00,  4.49batch/s]\n"
     ]
    },
    {
     "name": "stdout",
     "output_type": "stream",
     "text": [
      "Checkpoint saved at /home/onyxia/work/DL-Hackathon/hackaton/checkpoints/B/model_B_epoch_49.pth\n"
     ]
    },
    {
     "name": "stderr",
     "output_type": "stream",
     "text": [
      "Iterating eval graphs: 100%|██████████| 35/35 [00:05<00:00,  5.93batch/s]\n",
      "Epoch 49/50, Loss: 0.7720, Train Acc: 0.6020, Val Acc: 0.5214\n",
      "Epoch 49/50, Loss: 0.7720, Train Acc: 0.6020, Val Acc: 0.5214\n"
     ]
    },
    {
     "name": "stdout",
     "output_type": "stream",
     "text": [
      "Epoch 49/50, Loss: 0.7720, Train Acc: 0.6020, Val Acc: 0.5214\n"
     ]
    },
    {
     "name": "stderr",
     "output_type": "stream",
     "text": [
      "Iterating training graphs: 100%|██████████| 140/140 [00:31<00:00,  4.51batch/s]\n"
     ]
    },
    {
     "name": "stdout",
     "output_type": "stream",
     "text": [
      "Checkpoint saved at /home/onyxia/work/DL-Hackathon/hackaton/checkpoints/B/model_B_epoch_50.pth\n"
     ]
    },
    {
     "name": "stderr",
     "output_type": "stream",
     "text": [
      "Iterating eval graphs: 100%|██████████| 35/35 [00:05<00:00,  5.90batch/s]\n",
      "Epoch 50/50, Loss: 0.7583, Train Acc: 0.6085, Val Acc: 0.5000\n",
      "Epoch 50/50, Loss: 0.7583, Train Acc: 0.6085, Val Acc: 0.5000\n"
     ]
    },
    {
     "name": "stdout",
     "output_type": "stream",
     "text": [
      "Epoch 50/50, Loss: 0.7583, Train Acc: 0.6085, Val Acc: 0.5000\n"
     ]
    }
   ],
   "source": [
    "if args.train_path:\n",
    "    full_dataset = GraphDataset(args.train_path, transform=add_zeros)\n",
    "    val_size = int(0.2 * len(full_dataset))\n",
    "    train_size = len(full_dataset) - val_size\n",
    "    \n",
    "    generator = torch.Generator().manual_seed(12)\n",
    "    train_dataset, val_dataset = random_split(full_dataset, [train_size, val_size], generator=generator)\n",
    "\n",
    "    train_loader = DataLoader(train_dataset, batch_size=args.batch_size, shuffle=True)\n",
    "    val_loader = DataLoader(val_dataset, batch_size=args.batch_size, shuffle=False)\n",
    "\n",
    "    num_epochs = args.epochs\n",
    "    best_val_accuracy = 0.0   \n",
    "\n",
    "    train_losses = []\n",
    "    train_accuracies = []\n",
    "    val_losses = []\n",
    "    val_accuracies = []\n",
    "\n",
    "    if num_checkpoints > 1:\n",
    "        checkpoint_intervals = [int((i + 1) * num_epochs / num_checkpoints) for i in range(num_checkpoints)]\n",
    "    else:\n",
    "        checkpoint_intervals = [num_epochs]\n",
    "\n",
    "    for epoch in range(num_epochs):\n",
    "        train_loss, train_acc = train(\n",
    "            train_loader, model, optimizer, criterion, device,\n",
    "            save_checkpoints=(epoch + 1 in checkpoint_intervals),\n",
    "            checkpoint_path=os.path.join(checkpoints_folder, f\"model_{test_dir_name}\"),\n",
    "            current_epoch=epoch\n",
    "        )\n",
    "\n",
    "        val_loss,val_acc = evaluate(val_loader, model, device, calculate_accuracy=True)\n",
    "\n",
    "        print(f\"Epoch {epoch + 1}/{num_epochs}, Loss: {train_loss:.4f}, Train Acc: {train_acc:.4f}, Val Acc: {val_acc:.4f}\")\n",
    "        logging.info(f\"Epoch {epoch + 1}/{num_epochs}, Loss: {train_loss:.4f}, Train Acc: {train_acc:.4f}, Val Acc: {val_acc:.4f}\")\n",
    "\n",
    "        train_losses.append(train_loss)\n",
    "        train_accuracies.append(train_acc)\n",
    "        val_losses.append(val_loss)\n",
    "        val_accuracies.append(val_acc)\n",
    "\n",
    "        \n",
    "        if val_acc > best_val_accuracy:\n",
    "            best_val_accuracy = val_acc\n",
    "            torch.save(model.state_dict(), checkpoint_path)\n",
    "            print(f\"Best model updated and saved at {checkpoint_path}\")\n",
    "\n",
    "    plot_training_progress(train_losses, train_accuracies, os.path.join(logs_folder, \"plots\"))\n",
    "    plot_training_progress(val_losses, val_accuracies, os.path.join(logs_folder, \"plotsVal\"))"
   ]
  },
  {
   "cell_type": "code",
   "execution_count": 27,
   "id": "228abfb4-ec7e-423f-be97-16eabeca1dd4",
   "metadata": {
    "papermill": {
     "duration": null,
     "end_time": null,
     "exception": null,
     "start_time": null,
     "status": "pending"
    },
    "tags": []
   },
   "outputs": [
    {
     "data": {
      "text/plain": [
       "12162"
      ]
     },
     "execution_count": 27,
     "metadata": {},
     "output_type": "execute_result"
    }
   ],
   "source": [
    "import gc\n",
    "del train_dataset\n",
    "del train_loader\n",
    "del full_dataset\n",
    "del val_dataset\n",
    "del val_loader\n",
    "gc.collect()"
   ]
  },
  {
   "cell_type": "code",
   "execution_count": 28,
   "id": "6cff8d55-4606-4f50-9867-366093faa908",
   "metadata": {
    "id": "xsXZIj4Mdu3I",
    "papermill": {
     "duration": null,
     "end_time": null,
     "exception": null,
     "start_time": null,
     "status": "pending"
    },
    "tags": []
   },
   "outputs": [],
   "source": [
    "test_dataset = GraphDataset(args.test_path, transform=add_zeros)\n",
    "test_loader = DataLoader(test_dataset, batch_size=args.batch_size, shuffle=False)\n",
    "    "
   ]
  },
  {
   "cell_type": "code",
   "execution_count": 29,
   "id": "82ad51fe-713b-45fc-890f-a00f60d155b2",
   "metadata": {
    "id": "x1OnGq_nCmTr",
    "papermill": {
     "duration": null,
     "end_time": null,
     "exception": null,
     "start_time": null,
     "status": "pending"
    },
    "tags": []
   },
   "outputs": [
    {
     "name": "stderr",
     "output_type": "stream",
     "text": [
      "Iterating eval graphs: 100%|██████████| 49/49 [00:08<00:00,  5.72batch/s]"
     ]
    },
    {
     "name": "stdout",
     "output_type": "stream",
     "text": [
      "Predictions saved to /home/onyxia/work/DL-Hackathon/hackaton/submission/testset_B.csv\n"
     ]
    },
    {
     "name": "stderr",
     "output_type": "stream",
     "text": [
      "\n"
     ]
    }
   ],
   "source": [
    "model.load_state_dict(torch.load(checkpoint_path))\n",
    "predictions = evaluate(test_loader, model, device, calculate_accuracy=False)\n",
    "save_predictions(predictions, args.test_path)"
   ]
  },
  {
   "cell_type": "markdown",
   "id": "88bb51bb-17d1-46e3-9264-00213ce92cd2",
   "metadata": {},
   "source": [
    "# C"
   ]
  },
  {
   "cell_type": "code",
   "execution_count": 30,
   "id": "2512f8ec-d5a9-4ed4-b8ca-cb08d6c4afc8",
   "metadata": {
    "papermill": {
     "duration": 0.118164,
     "end_time": "2025-05-21T16:25:02.850799",
     "exception": true,
     "start_time": "2025-05-21T16:25:02.732635",
     "status": "failed"
    },
    "tags": []
   },
   "outputs": [],
   "source": [
    "args.train_path = 'datasets/C/train.json.gz'\n",
    "args.test_path = 'datasets/C/test.json.gz'"
   ]
  },
  {
   "cell_type": "code",
   "execution_count": 31,
   "id": "9234db4f-c71b-4172-9e2f-543f58d7e3e7",
   "metadata": {
    "id": "lHX55XGECXBr",
    "papermill": {
     "duration": null,
     "end_time": null,
     "exception": null,
     "start_time": null,
     "status": "pending"
    },
    "tags": []
   },
   "outputs": [],
   "source": [
    "script_dir = os.getcwd() \n",
    "# device = torch.device(f\"cuda:{args.device}\" if torch.cuda.is_available() else \"cpu\")\n",
    "device = torch.device(\"cuda\" if torch.cuda.is_available() else \"cpu\")\n",
    "num_checkpoints = args.num_checkpoints if args.num_checkpoints else 3\n",
    "    \n",
    "if args.gnn == 'gin':\n",
    "    model = GNN(gnn_type='gin', num_class=6, num_layer=args.num_layer, emb_dim=args.emb_dim, drop_ratio=args.drop_ratio, virtual_node=False).to(device)\n",
    "elif args.gnn == 'gin-virtual':\n",
    "    model = GNN(gnn_type='gin', num_class=6, num_layer=args.num_layer, emb_dim=args.emb_dim, drop_ratio=args.drop_ratio, virtual_node=True).to(device)\n",
    "elif args.gnn == 'gcn':\n",
    "    model = GNN(gnn_type='gcn', num_class=6, num_layer=args.num_layer, emb_dim=args.emb_dim, drop_ratio=args.drop_ratio, virtual_node=False).to(device)\n",
    "elif args.gnn == 'gcn-virtual':\n",
    "    model = GNN(gnn_type='gcn', num_class=6, num_layer=args.num_layer, emb_dim=args.emb_dim, drop_ratio=args.drop_ratio, virtual_node=True).to(device)\n",
    "else:\n",
    "    raise ValueError('Invalid GNN type')\n",
    "    \n",
    "optimizer = torch.optim.Adam(model.parameters(), lr=0.001)\n",
    "# criterion = torch.nn.CrossEntropyLoss()\n",
    "if args.baseline_mode == 2:\n",
    "    criterion = GCODLoss(gamma=0.2)\n",
    "else:\n",
    "    criterion = torch.nn.CrossEntropyLoss()"
   ]
  },
  {
   "cell_type": "code",
   "execution_count": 32,
   "id": "a92658fe-93a5-48f0-be23-917352ab9aa5",
   "metadata": {
    "id": "BTYT5jYuChPb",
    "papermill": {
     "duration": null,
     "end_time": null,
     "exception": null,
     "start_time": null,
     "status": "pending"
    },
    "tags": []
   },
   "outputs": [],
   "source": [
    "test_dir_name = os.path.basename(os.path.dirname(args.test_path))\n",
    "logs_folder = os.path.join(script_dir, \"logs\", test_dir_name)\n",
    "log_file = os.path.join(logs_folder, \"training.log\")\n",
    "os.makedirs(os.path.dirname(log_file), exist_ok=True)\n",
    "logging.basicConfig(filename=log_file, level=logging.INFO, format='%(asctime)s - %(message)s')\n",
    "logging.getLogger().addHandler(logging.StreamHandler())\n",
    "\n",
    "checkpoint_path = os.path.join(script_dir, \"checkpoints\", f\"model_{test_dir_name}_best.pth\")\n",
    "checkpoints_folder = os.path.join(script_dir, \"checkpoints\", test_dir_name)\n",
    "os.makedirs(checkpoints_folder, exist_ok=True)"
   ]
  },
  {
   "cell_type": "code",
   "execution_count": 33,
   "id": "6fdcec7c-1355-41c5-bbf3-2b35517c1999",
   "metadata": {
    "papermill": {
     "duration": null,
     "end_time": null,
     "exception": null,
     "start_time": null,
     "status": "pending"
    },
    "tags": []
   },
   "outputs": [],
   "source": [
    "if os.path.exists(checkpoint_path) and not args.train_path:\n",
    "    model.load_state_dict(torch.load(checkpoint_path))\n",
    "    print(f\"Loaded best model from {checkpoint_path}\")"
   ]
  },
  {
   "cell_type": "code",
   "execution_count": 34,
   "id": "1323b5f0-a559-4320-b5c7-cb369f0cd964",
   "metadata": {
    "papermill": {
     "duration": null,
     "end_time": null,
     "exception": null,
     "start_time": null,
     "status": "pending"
    },
    "tags": []
   },
   "outputs": [
    {
     "name": "stderr",
     "output_type": "stream",
     "text": [
      "Iterating training graphs: 100%|██████████| 192/192 [00:41<00:00,  4.60batch/s]\n"
     ]
    },
    {
     "name": "stdout",
     "output_type": "stream",
     "text": [
      "Checkpoint saved at /home/onyxia/work/DL-Hackathon/hackaton/checkpoints/C/model_C_epoch_1.pth\n"
     ]
    },
    {
     "name": "stderr",
     "output_type": "stream",
     "text": [
      "Iterating eval graphs: 100%|██████████| 48/48 [00:08<00:00,  5.81batch/s]\n",
      "Epoch 1/50, Loss: 0.9984, Train Acc: 0.4497, Val Acc: 0.4486\n",
      "Epoch 1/50, Loss: 0.9984, Train Acc: 0.4497, Val Acc: 0.4486\n",
      "Epoch 1/50, Loss: 0.9984, Train Acc: 0.4497, Val Acc: 0.4486\n"
     ]
    },
    {
     "name": "stdout",
     "output_type": "stream",
     "text": [
      "Epoch 1/50, Loss: 0.9984, Train Acc: 0.4497, Val Acc: 0.4486\n",
      "Best model updated and saved at /home/onyxia/work/DL-Hackathon/hackaton/checkpoints/model_C_best.pth\n"
     ]
    },
    {
     "name": "stderr",
     "output_type": "stream",
     "text": [
      "Iterating training graphs: 100%|██████████| 192/192 [00:43<00:00,  4.45batch/s]\n"
     ]
    },
    {
     "name": "stdout",
     "output_type": "stream",
     "text": [
      "Checkpoint saved at /home/onyxia/work/DL-Hackathon/hackaton/checkpoints/C/model_C_epoch_2.pth\n"
     ]
    },
    {
     "name": "stderr",
     "output_type": "stream",
     "text": [
      "Iterating eval graphs: 100%|██████████| 48/48 [00:26<00:00,  1.84batch/s]\n",
      "Epoch 2/50, Loss: 0.8082, Train Acc: 0.5594, Val Acc: 0.5234\n",
      "Epoch 2/50, Loss: 0.8082, Train Acc: 0.5594, Val Acc: 0.5234\n",
      "Epoch 2/50, Loss: 0.8082, Train Acc: 0.5594, Val Acc: 0.5234\n"
     ]
    },
    {
     "name": "stdout",
     "output_type": "stream",
     "text": [
      "Epoch 2/50, Loss: 0.8082, Train Acc: 0.5594, Val Acc: 0.5234\n",
      "Best model updated and saved at /home/onyxia/work/DL-Hackathon/hackaton/checkpoints/model_C_best.pth\n"
     ]
    },
    {
     "name": "stderr",
     "output_type": "stream",
     "text": [
      "Iterating training graphs: 100%|██████████| 192/192 [00:43<00:00,  4.46batch/s]\n"
     ]
    },
    {
     "name": "stdout",
     "output_type": "stream",
     "text": [
      "Checkpoint saved at /home/onyxia/work/DL-Hackathon/hackaton/checkpoints/C/model_C_epoch_3.pth\n"
     ]
    },
    {
     "name": "stderr",
     "output_type": "stream",
     "text": [
      "Iterating eval graphs: 100%|██████████| 48/48 [00:08<00:00,  5.47batch/s]\n",
      "Epoch 3/50, Loss: 0.7124, Train Acc: 0.6162, Val Acc: 0.6354\n",
      "Epoch 3/50, Loss: 0.7124, Train Acc: 0.6162, Val Acc: 0.6354\n",
      "Epoch 3/50, Loss: 0.7124, Train Acc: 0.6162, Val Acc: 0.6354\n"
     ]
    },
    {
     "name": "stdout",
     "output_type": "stream",
     "text": [
      "Epoch 3/50, Loss: 0.7124, Train Acc: 0.6162, Val Acc: 0.6354\n",
      "Best model updated and saved at /home/onyxia/work/DL-Hackathon/hackaton/checkpoints/model_C_best.pth\n"
     ]
    },
    {
     "name": "stderr",
     "output_type": "stream",
     "text": [
      "Iterating training graphs: 100%|██████████| 192/192 [00:43<00:00,  4.36batch/s]\n"
     ]
    },
    {
     "name": "stdout",
     "output_type": "stream",
     "text": [
      "Checkpoint saved at /home/onyxia/work/DL-Hackathon/hackaton/checkpoints/C/model_C_epoch_4.pth\n"
     ]
    },
    {
     "name": "stderr",
     "output_type": "stream",
     "text": [
      "Iterating eval graphs: 100%|██████████| 48/48 [00:08<00:00,  5.43batch/s]\n",
      "Epoch 4/50, Loss: 0.6431, Train Acc: 0.6471, Val Acc: 0.5872\n",
      "Epoch 4/50, Loss: 0.6431, Train Acc: 0.6471, Val Acc: 0.5872\n",
      "Epoch 4/50, Loss: 0.6431, Train Acc: 0.6471, Val Acc: 0.5872\n"
     ]
    },
    {
     "name": "stdout",
     "output_type": "stream",
     "text": [
      "Epoch 4/50, Loss: 0.6431, Train Acc: 0.6471, Val Acc: 0.5872\n"
     ]
    },
    {
     "name": "stderr",
     "output_type": "stream",
     "text": [
      "Iterating training graphs: 100%|██████████| 192/192 [00:43<00:00,  4.44batch/s]\n"
     ]
    },
    {
     "name": "stdout",
     "output_type": "stream",
     "text": [
      "Checkpoint saved at /home/onyxia/work/DL-Hackathon/hackaton/checkpoints/C/model_C_epoch_5.pth\n"
     ]
    },
    {
     "name": "stderr",
     "output_type": "stream",
     "text": [
      "Iterating eval graphs: 100%|██████████| 48/48 [00:08<00:00,  5.46batch/s]\n",
      "Epoch 5/50, Loss: 0.6063, Train Acc: 0.6732, Val Acc: 0.6732\n",
      "Epoch 5/50, Loss: 0.6063, Train Acc: 0.6732, Val Acc: 0.6732\n",
      "Epoch 5/50, Loss: 0.6063, Train Acc: 0.6732, Val Acc: 0.6732\n"
     ]
    },
    {
     "name": "stdout",
     "output_type": "stream",
     "text": [
      "Epoch 5/50, Loss: 0.6063, Train Acc: 0.6732, Val Acc: 0.6732\n",
      "Best model updated and saved at /home/onyxia/work/DL-Hackathon/hackaton/checkpoints/model_C_best.pth\n"
     ]
    },
    {
     "name": "stderr",
     "output_type": "stream",
     "text": [
      "Iterating training graphs: 100%|██████████| 192/192 [00:43<00:00,  4.43batch/s]\n"
     ]
    },
    {
     "name": "stdout",
     "output_type": "stream",
     "text": [
      "Checkpoint saved at /home/onyxia/work/DL-Hackathon/hackaton/checkpoints/C/model_C_epoch_6.pth\n"
     ]
    },
    {
     "name": "stderr",
     "output_type": "stream",
     "text": [
      "Iterating eval graphs: 100%|██████████| 48/48 [00:08<00:00,  5.62batch/s]\n",
      "Epoch 6/50, Loss: 0.5637, Train Acc: 0.6955, Val Acc: 0.6966\n",
      "Epoch 6/50, Loss: 0.5637, Train Acc: 0.6955, Val Acc: 0.6966\n",
      "Epoch 6/50, Loss: 0.5637, Train Acc: 0.6955, Val Acc: 0.6966\n"
     ]
    },
    {
     "name": "stdout",
     "output_type": "stream",
     "text": [
      "Epoch 6/50, Loss: 0.5637, Train Acc: 0.6955, Val Acc: 0.6966\n",
      "Best model updated and saved at /home/onyxia/work/DL-Hackathon/hackaton/checkpoints/model_C_best.pth\n"
     ]
    },
    {
     "name": "stderr",
     "output_type": "stream",
     "text": [
      "Iterating training graphs: 100%|██████████| 192/192 [00:42<00:00,  4.49batch/s]\n"
     ]
    },
    {
     "name": "stdout",
     "output_type": "stream",
     "text": [
      "Checkpoint saved at /home/onyxia/work/DL-Hackathon/hackaton/checkpoints/C/model_C_epoch_7.pth\n"
     ]
    },
    {
     "name": "stderr",
     "output_type": "stream",
     "text": [
      "Iterating eval graphs: 100%|██████████| 48/48 [00:08<00:00,  5.90batch/s]\n",
      "Epoch 7/50, Loss: 0.5358, Train Acc: 0.7074, Val Acc: 0.7344\n",
      "Epoch 7/50, Loss: 0.5358, Train Acc: 0.7074, Val Acc: 0.7344\n",
      "Epoch 7/50, Loss: 0.5358, Train Acc: 0.7074, Val Acc: 0.7344\n"
     ]
    },
    {
     "name": "stdout",
     "output_type": "stream",
     "text": [
      "Epoch 7/50, Loss: 0.5358, Train Acc: 0.7074, Val Acc: 0.7344\n",
      "Best model updated and saved at /home/onyxia/work/DL-Hackathon/hackaton/checkpoints/model_C_best.pth\n"
     ]
    },
    {
     "name": "stderr",
     "output_type": "stream",
     "text": [
      "Iterating training graphs: 100%|██████████| 192/192 [00:42<00:00,  4.48batch/s]\n"
     ]
    },
    {
     "name": "stdout",
     "output_type": "stream",
     "text": [
      "Checkpoint saved at /home/onyxia/work/DL-Hackathon/hackaton/checkpoints/C/model_C_epoch_8.pth\n"
     ]
    },
    {
     "name": "stderr",
     "output_type": "stream",
     "text": [
      "Iterating eval graphs: 100%|██████████| 48/48 [00:08<00:00,  5.83batch/s]\n",
      "Epoch 8/50, Loss: 0.5175, Train Acc: 0.7214, Val Acc: 0.7044\n",
      "Epoch 8/50, Loss: 0.5175, Train Acc: 0.7214, Val Acc: 0.7044\n",
      "Epoch 8/50, Loss: 0.5175, Train Acc: 0.7214, Val Acc: 0.7044\n"
     ]
    },
    {
     "name": "stdout",
     "output_type": "stream",
     "text": [
      "Epoch 8/50, Loss: 0.5175, Train Acc: 0.7214, Val Acc: 0.7044\n"
     ]
    },
    {
     "name": "stderr",
     "output_type": "stream",
     "text": [
      "Iterating training graphs: 100%|██████████| 192/192 [00:42<00:00,  4.52batch/s]\n"
     ]
    },
    {
     "name": "stdout",
     "output_type": "stream",
     "text": [
      "Checkpoint saved at /home/onyxia/work/DL-Hackathon/hackaton/checkpoints/C/model_C_epoch_9.pth\n"
     ]
    },
    {
     "name": "stderr",
     "output_type": "stream",
     "text": [
      "Iterating eval graphs: 100%|██████████| 48/48 [00:08<00:00,  5.73batch/s]\n",
      "Epoch 9/50, Loss: 0.4978, Train Acc: 0.7334, Val Acc: 0.7396\n",
      "Epoch 9/50, Loss: 0.4978, Train Acc: 0.7334, Val Acc: 0.7396\n",
      "Epoch 9/50, Loss: 0.4978, Train Acc: 0.7334, Val Acc: 0.7396\n"
     ]
    },
    {
     "name": "stdout",
     "output_type": "stream",
     "text": [
      "Epoch 9/50, Loss: 0.4978, Train Acc: 0.7334, Val Acc: 0.7396\n",
      "Best model updated and saved at /home/onyxia/work/DL-Hackathon/hackaton/checkpoints/model_C_best.pth\n"
     ]
    },
    {
     "name": "stderr",
     "output_type": "stream",
     "text": [
      "Iterating training graphs: 100%|██████████| 192/192 [00:43<00:00,  4.45batch/s]\n"
     ]
    },
    {
     "name": "stdout",
     "output_type": "stream",
     "text": [
      "Checkpoint saved at /home/onyxia/work/DL-Hackathon/hackaton/checkpoints/C/model_C_epoch_10.pth\n"
     ]
    },
    {
     "name": "stderr",
     "output_type": "stream",
     "text": [
      "Iterating eval graphs: 100%|██████████| 48/48 [00:08<00:00,  5.68batch/s]\n",
      "Epoch 10/50, Loss: 0.4767, Train Acc: 0.7394, Val Acc: 0.7285\n",
      "Epoch 10/50, Loss: 0.4767, Train Acc: 0.7394, Val Acc: 0.7285\n",
      "Epoch 10/50, Loss: 0.4767, Train Acc: 0.7394, Val Acc: 0.7285\n"
     ]
    },
    {
     "name": "stdout",
     "output_type": "stream",
     "text": [
      "Epoch 10/50, Loss: 0.4767, Train Acc: 0.7394, Val Acc: 0.7285\n"
     ]
    },
    {
     "name": "stderr",
     "output_type": "stream",
     "text": [
      "Iterating training graphs: 100%|██████████| 192/192 [00:42<00:00,  4.49batch/s]\n"
     ]
    },
    {
     "name": "stdout",
     "output_type": "stream",
     "text": [
      "Checkpoint saved at /home/onyxia/work/DL-Hackathon/hackaton/checkpoints/C/model_C_epoch_11.pth\n"
     ]
    },
    {
     "name": "stderr",
     "output_type": "stream",
     "text": [
      "Iterating eval graphs: 100%|██████████| 48/48 [00:08<00:00,  5.39batch/s]\n",
      "Epoch 11/50, Loss: 0.4647, Train Acc: 0.7492, Val Acc: 0.5560\n",
      "Epoch 11/50, Loss: 0.4647, Train Acc: 0.7492, Val Acc: 0.5560\n",
      "Epoch 11/50, Loss: 0.4647, Train Acc: 0.7492, Val Acc: 0.5560\n"
     ]
    },
    {
     "name": "stdout",
     "output_type": "stream",
     "text": [
      "Epoch 11/50, Loss: 0.4647, Train Acc: 0.7492, Val Acc: 0.5560\n"
     ]
    },
    {
     "name": "stderr",
     "output_type": "stream",
     "text": [
      "Iterating training graphs: 100%|██████████| 192/192 [00:43<00:00,  4.44batch/s]\n"
     ]
    },
    {
     "name": "stdout",
     "output_type": "stream",
     "text": [
      "Checkpoint saved at /home/onyxia/work/DL-Hackathon/hackaton/checkpoints/C/model_C_epoch_12.pth\n"
     ]
    },
    {
     "name": "stderr",
     "output_type": "stream",
     "text": [
      "Iterating eval graphs: 100%|██████████| 48/48 [00:08<00:00,  5.51batch/s]\n",
      "Epoch 12/50, Loss: 0.4548, Train Acc: 0.7528, Val Acc: 0.6934\n",
      "Epoch 12/50, Loss: 0.4548, Train Acc: 0.7528, Val Acc: 0.6934\n",
      "Epoch 12/50, Loss: 0.4548, Train Acc: 0.7528, Val Acc: 0.6934\n"
     ]
    },
    {
     "name": "stdout",
     "output_type": "stream",
     "text": [
      "Epoch 12/50, Loss: 0.4548, Train Acc: 0.7528, Val Acc: 0.6934\n"
     ]
    },
    {
     "name": "stderr",
     "output_type": "stream",
     "text": [
      "Iterating training graphs: 100%|██████████| 192/192 [00:43<00:00,  4.44batch/s]\n"
     ]
    },
    {
     "name": "stdout",
     "output_type": "stream",
     "text": [
      "Checkpoint saved at /home/onyxia/work/DL-Hackathon/hackaton/checkpoints/C/model_C_epoch_13.pth\n"
     ]
    },
    {
     "name": "stderr",
     "output_type": "stream",
     "text": [
      "Iterating eval graphs: 100%|██████████| 48/48 [00:08<00:00,  5.49batch/s]\n",
      "Epoch 13/50, Loss: 0.4388, Train Acc: 0.7619, Val Acc: 0.6908\n",
      "Epoch 13/50, Loss: 0.4388, Train Acc: 0.7619, Val Acc: 0.6908\n",
      "Epoch 13/50, Loss: 0.4388, Train Acc: 0.7619, Val Acc: 0.6908\n"
     ]
    },
    {
     "name": "stdout",
     "output_type": "stream",
     "text": [
      "Epoch 13/50, Loss: 0.4388, Train Acc: 0.7619, Val Acc: 0.6908\n"
     ]
    },
    {
     "name": "stderr",
     "output_type": "stream",
     "text": [
      "Iterating training graphs: 100%|██████████| 192/192 [00:42<00:00,  4.48batch/s]\n"
     ]
    },
    {
     "name": "stdout",
     "output_type": "stream",
     "text": [
      "Checkpoint saved at /home/onyxia/work/DL-Hackathon/hackaton/checkpoints/C/model_C_epoch_14.pth\n"
     ]
    },
    {
     "name": "stderr",
     "output_type": "stream",
     "text": [
      "Iterating eval graphs: 100%|██████████| 48/48 [00:08<00:00,  5.79batch/s]\n",
      "Epoch 14/50, Loss: 0.4272, Train Acc: 0.7687, Val Acc: 0.7116\n",
      "Epoch 14/50, Loss: 0.4272, Train Acc: 0.7687, Val Acc: 0.7116\n",
      "Epoch 14/50, Loss: 0.4272, Train Acc: 0.7687, Val Acc: 0.7116\n"
     ]
    },
    {
     "name": "stdout",
     "output_type": "stream",
     "text": [
      "Epoch 14/50, Loss: 0.4272, Train Acc: 0.7687, Val Acc: 0.7116\n"
     ]
    },
    {
     "name": "stderr",
     "output_type": "stream",
     "text": [
      "Iterating training graphs: 100%|██████████| 192/192 [00:42<00:00,  4.50batch/s]\n"
     ]
    },
    {
     "name": "stdout",
     "output_type": "stream",
     "text": [
      "Checkpoint saved at /home/onyxia/work/DL-Hackathon/hackaton/checkpoints/C/model_C_epoch_15.pth\n"
     ]
    },
    {
     "name": "stderr",
     "output_type": "stream",
     "text": [
      "Iterating eval graphs: 100%|██████████| 48/48 [00:08<00:00,  5.84batch/s]\n",
      "Epoch 15/50, Loss: 0.4175, Train Acc: 0.7744, Val Acc: 0.7311\n",
      "Epoch 15/50, Loss: 0.4175, Train Acc: 0.7744, Val Acc: 0.7311\n",
      "Epoch 15/50, Loss: 0.4175, Train Acc: 0.7744, Val Acc: 0.7311\n"
     ]
    },
    {
     "name": "stdout",
     "output_type": "stream",
     "text": [
      "Epoch 15/50, Loss: 0.4175, Train Acc: 0.7744, Val Acc: 0.7311\n"
     ]
    },
    {
     "name": "stderr",
     "output_type": "stream",
     "text": [
      "Iterating training graphs: 100%|██████████| 192/192 [00:43<00:00,  4.45batch/s]\n"
     ]
    },
    {
     "name": "stdout",
     "output_type": "stream",
     "text": [
      "Checkpoint saved at /home/onyxia/work/DL-Hackathon/hackaton/checkpoints/C/model_C_epoch_16.pth\n"
     ]
    },
    {
     "name": "stderr",
     "output_type": "stream",
     "text": [
      "Iterating eval graphs: 100%|██████████| 48/48 [00:08<00:00,  5.77batch/s]\n",
      "Epoch 16/50, Loss: 0.4071, Train Acc: 0.7786, Val Acc: 0.7656\n",
      "Epoch 16/50, Loss: 0.4071, Train Acc: 0.7786, Val Acc: 0.7656\n",
      "Epoch 16/50, Loss: 0.4071, Train Acc: 0.7786, Val Acc: 0.7656\n"
     ]
    },
    {
     "name": "stdout",
     "output_type": "stream",
     "text": [
      "Epoch 16/50, Loss: 0.4071, Train Acc: 0.7786, Val Acc: 0.7656\n",
      "Best model updated and saved at /home/onyxia/work/DL-Hackathon/hackaton/checkpoints/model_C_best.pth\n"
     ]
    },
    {
     "name": "stderr",
     "output_type": "stream",
     "text": [
      "Iterating training graphs: 100%|██████████| 192/192 [00:43<00:00,  4.45batch/s]\n"
     ]
    },
    {
     "name": "stdout",
     "output_type": "stream",
     "text": [
      "Checkpoint saved at /home/onyxia/work/DL-Hackathon/hackaton/checkpoints/C/model_C_epoch_17.pth\n"
     ]
    },
    {
     "name": "stderr",
     "output_type": "stream",
     "text": [
      "Iterating eval graphs: 100%|██████████| 48/48 [00:08<00:00,  5.80batch/s]\n",
      "Epoch 17/50, Loss: 0.3977, Train Acc: 0.7869, Val Acc: 0.7702\n",
      "Epoch 17/50, Loss: 0.3977, Train Acc: 0.7869, Val Acc: 0.7702\n",
      "Epoch 17/50, Loss: 0.3977, Train Acc: 0.7869, Val Acc: 0.7702\n"
     ]
    },
    {
     "name": "stdout",
     "output_type": "stream",
     "text": [
      "Epoch 17/50, Loss: 0.3977, Train Acc: 0.7869, Val Acc: 0.7702\n",
      "Best model updated and saved at /home/onyxia/work/DL-Hackathon/hackaton/checkpoints/model_C_best.pth\n"
     ]
    },
    {
     "name": "stderr",
     "output_type": "stream",
     "text": [
      "Iterating training graphs: 100%|██████████| 192/192 [00:43<00:00,  4.43batch/s]\n"
     ]
    },
    {
     "name": "stdout",
     "output_type": "stream",
     "text": [
      "Checkpoint saved at /home/onyxia/work/DL-Hackathon/hackaton/checkpoints/C/model_C_epoch_18.pth\n"
     ]
    },
    {
     "name": "stderr",
     "output_type": "stream",
     "text": [
      "Iterating eval graphs: 100%|██████████| 48/48 [00:08<00:00,  5.59batch/s]\n",
      "Epoch 18/50, Loss: 0.3893, Train Acc: 0.7889, Val Acc: 0.6784\n",
      "Epoch 18/50, Loss: 0.3893, Train Acc: 0.7889, Val Acc: 0.6784\n",
      "Epoch 18/50, Loss: 0.3893, Train Acc: 0.7889, Val Acc: 0.6784\n"
     ]
    },
    {
     "name": "stdout",
     "output_type": "stream",
     "text": [
      "Epoch 18/50, Loss: 0.3893, Train Acc: 0.7889, Val Acc: 0.6784\n"
     ]
    },
    {
     "name": "stderr",
     "output_type": "stream",
     "text": [
      "Iterating training graphs: 100%|██████████| 192/192 [00:43<00:00,  4.43batch/s]\n"
     ]
    },
    {
     "name": "stdout",
     "output_type": "stream",
     "text": [
      "Checkpoint saved at /home/onyxia/work/DL-Hackathon/hackaton/checkpoints/C/model_C_epoch_19.pth\n"
     ]
    },
    {
     "name": "stderr",
     "output_type": "stream",
     "text": [
      "Iterating eval graphs: 100%|██████████| 48/48 [00:08<00:00,  5.73batch/s]\n",
      "Epoch 19/50, Loss: 0.3820, Train Acc: 0.7936, Val Acc: 0.7682\n",
      "Epoch 19/50, Loss: 0.3820, Train Acc: 0.7936, Val Acc: 0.7682\n",
      "Epoch 19/50, Loss: 0.3820, Train Acc: 0.7936, Val Acc: 0.7682\n"
     ]
    },
    {
     "name": "stdout",
     "output_type": "stream",
     "text": [
      "Epoch 19/50, Loss: 0.3820, Train Acc: 0.7936, Val Acc: 0.7682\n"
     ]
    },
    {
     "name": "stderr",
     "output_type": "stream",
     "text": [
      "Iterating training graphs: 100%|██████████| 192/192 [00:43<00:00,  4.45batch/s]\n"
     ]
    },
    {
     "name": "stdout",
     "output_type": "stream",
     "text": [
      "Checkpoint saved at /home/onyxia/work/DL-Hackathon/hackaton/checkpoints/C/model_C_epoch_20.pth\n"
     ]
    },
    {
     "name": "stderr",
     "output_type": "stream",
     "text": [
      "Iterating eval graphs: 100%|██████████| 48/48 [00:08<00:00,  5.77batch/s]\n",
      "Epoch 20/50, Loss: 0.3675, Train Acc: 0.8039, Val Acc: 0.7689\n",
      "Epoch 20/50, Loss: 0.3675, Train Acc: 0.8039, Val Acc: 0.7689\n",
      "Epoch 20/50, Loss: 0.3675, Train Acc: 0.8039, Val Acc: 0.7689\n"
     ]
    },
    {
     "name": "stdout",
     "output_type": "stream",
     "text": [
      "Epoch 20/50, Loss: 0.3675, Train Acc: 0.8039, Val Acc: 0.7689\n"
     ]
    },
    {
     "name": "stderr",
     "output_type": "stream",
     "text": [
      "Iterating training graphs: 100%|██████████| 192/192 [00:43<00:00,  4.46batch/s]\n"
     ]
    },
    {
     "name": "stdout",
     "output_type": "stream",
     "text": [
      "Checkpoint saved at /home/onyxia/work/DL-Hackathon/hackaton/checkpoints/C/model_C_epoch_21.pth\n"
     ]
    },
    {
     "name": "stderr",
     "output_type": "stream",
     "text": [
      "Iterating eval graphs: 100%|██████████| 48/48 [00:08<00:00,  5.62batch/s]\n",
      "Epoch 21/50, Loss: 0.3645, Train Acc: 0.8055, Val Acc: 0.8001\n",
      "Epoch 21/50, Loss: 0.3645, Train Acc: 0.8055, Val Acc: 0.8001\n",
      "Epoch 21/50, Loss: 0.3645, Train Acc: 0.8055, Val Acc: 0.8001\n"
     ]
    },
    {
     "name": "stdout",
     "output_type": "stream",
     "text": [
      "Epoch 21/50, Loss: 0.3645, Train Acc: 0.8055, Val Acc: 0.8001\n",
      "Best model updated and saved at /home/onyxia/work/DL-Hackathon/hackaton/checkpoints/model_C_best.pth\n"
     ]
    },
    {
     "name": "stderr",
     "output_type": "stream",
     "text": [
      "Iterating training graphs: 100%|██████████| 192/192 [00:43<00:00,  4.45batch/s]\n"
     ]
    },
    {
     "name": "stdout",
     "output_type": "stream",
     "text": [
      "Checkpoint saved at /home/onyxia/work/DL-Hackathon/hackaton/checkpoints/C/model_C_epoch_22.pth\n"
     ]
    },
    {
     "name": "stderr",
     "output_type": "stream",
     "text": [
      "Iterating eval graphs: 100%|██████████| 48/48 [00:08<00:00,  5.81batch/s]\n",
      "Epoch 22/50, Loss: 0.3630, Train Acc: 0.8042, Val Acc: 0.7363\n",
      "Epoch 22/50, Loss: 0.3630, Train Acc: 0.8042, Val Acc: 0.7363\n",
      "Epoch 22/50, Loss: 0.3630, Train Acc: 0.8042, Val Acc: 0.7363\n"
     ]
    },
    {
     "name": "stdout",
     "output_type": "stream",
     "text": [
      "Epoch 22/50, Loss: 0.3630, Train Acc: 0.8042, Val Acc: 0.7363\n"
     ]
    },
    {
     "name": "stderr",
     "output_type": "stream",
     "text": [
      "Iterating training graphs: 100%|██████████| 192/192 [00:42<00:00,  4.50batch/s]\n"
     ]
    },
    {
     "name": "stdout",
     "output_type": "stream",
     "text": [
      "Checkpoint saved at /home/onyxia/work/DL-Hackathon/hackaton/checkpoints/C/model_C_epoch_23.pth\n"
     ]
    },
    {
     "name": "stderr",
     "output_type": "stream",
     "text": [
      "Iterating eval graphs: 100%|██████████| 48/48 [00:08<00:00,  5.63batch/s]\n",
      "Epoch 23/50, Loss: 0.3438, Train Acc: 0.8174, Val Acc: 0.8008\n",
      "Epoch 23/50, Loss: 0.3438, Train Acc: 0.8174, Val Acc: 0.8008\n",
      "Epoch 23/50, Loss: 0.3438, Train Acc: 0.8174, Val Acc: 0.8008\n"
     ]
    },
    {
     "name": "stdout",
     "output_type": "stream",
     "text": [
      "Epoch 23/50, Loss: 0.3438, Train Acc: 0.8174, Val Acc: 0.8008\n",
      "Best model updated and saved at /home/onyxia/work/DL-Hackathon/hackaton/checkpoints/model_C_best.pth\n"
     ]
    },
    {
     "name": "stderr",
     "output_type": "stream",
     "text": [
      "Iterating training graphs: 100%|██████████| 192/192 [00:43<00:00,  4.46batch/s]\n"
     ]
    },
    {
     "name": "stdout",
     "output_type": "stream",
     "text": [
      "Checkpoint saved at /home/onyxia/work/DL-Hackathon/hackaton/checkpoints/C/model_C_epoch_24.pth\n"
     ]
    },
    {
     "name": "stderr",
     "output_type": "stream",
     "text": [
      "Iterating eval graphs: 100%|██████████| 48/48 [00:08<00:00,  5.77batch/s]\n",
      "Epoch 24/50, Loss: 0.3450, Train Acc: 0.8102, Val Acc: 0.7949\n",
      "Epoch 24/50, Loss: 0.3450, Train Acc: 0.8102, Val Acc: 0.7949\n",
      "Epoch 24/50, Loss: 0.3450, Train Acc: 0.8102, Val Acc: 0.7949\n"
     ]
    },
    {
     "name": "stdout",
     "output_type": "stream",
     "text": [
      "Epoch 24/50, Loss: 0.3450, Train Acc: 0.8102, Val Acc: 0.7949\n"
     ]
    },
    {
     "name": "stderr",
     "output_type": "stream",
     "text": [
      "Iterating training graphs: 100%|██████████| 192/192 [00:42<00:00,  4.47batch/s]\n"
     ]
    },
    {
     "name": "stdout",
     "output_type": "stream",
     "text": [
      "Checkpoint saved at /home/onyxia/work/DL-Hackathon/hackaton/checkpoints/C/model_C_epoch_25.pth\n"
     ]
    },
    {
     "name": "stderr",
     "output_type": "stream",
     "text": [
      "Iterating eval graphs: 100%|██████████| 48/48 [00:08<00:00,  5.54batch/s]\n",
      "Epoch 25/50, Loss: 0.3407, Train Acc: 0.8180, Val Acc: 0.8008\n",
      "Epoch 25/50, Loss: 0.3407, Train Acc: 0.8180, Val Acc: 0.8008\n",
      "Epoch 25/50, Loss: 0.3407, Train Acc: 0.8180, Val Acc: 0.8008\n"
     ]
    },
    {
     "name": "stdout",
     "output_type": "stream",
     "text": [
      "Epoch 25/50, Loss: 0.3407, Train Acc: 0.8180, Val Acc: 0.8008\n"
     ]
    },
    {
     "name": "stderr",
     "output_type": "stream",
     "text": [
      "Iterating training graphs: 100%|██████████| 192/192 [00:42<00:00,  4.47batch/s]\n"
     ]
    },
    {
     "name": "stdout",
     "output_type": "stream",
     "text": [
      "Checkpoint saved at /home/onyxia/work/DL-Hackathon/hackaton/checkpoints/C/model_C_epoch_26.pth\n"
     ]
    },
    {
     "name": "stderr",
     "output_type": "stream",
     "text": [
      "Iterating eval graphs: 100%|██████████| 48/48 [00:08<00:00,  5.81batch/s]\n",
      "Epoch 26/50, Loss: 0.3291, Train Acc: 0.8237, Val Acc: 0.7845\n",
      "Epoch 26/50, Loss: 0.3291, Train Acc: 0.8237, Val Acc: 0.7845\n",
      "Epoch 26/50, Loss: 0.3291, Train Acc: 0.8237, Val Acc: 0.7845\n"
     ]
    },
    {
     "name": "stdout",
     "output_type": "stream",
     "text": [
      "Epoch 26/50, Loss: 0.3291, Train Acc: 0.8237, Val Acc: 0.7845\n"
     ]
    },
    {
     "name": "stderr",
     "output_type": "stream",
     "text": [
      "Iterating training graphs: 100%|██████████| 192/192 [00:42<00:00,  4.53batch/s]\n"
     ]
    },
    {
     "name": "stdout",
     "output_type": "stream",
     "text": [
      "Checkpoint saved at /home/onyxia/work/DL-Hackathon/hackaton/checkpoints/C/model_C_epoch_27.pth\n"
     ]
    },
    {
     "name": "stderr",
     "output_type": "stream",
     "text": [
      "Iterating eval graphs: 100%|██████████| 48/48 [00:08<00:00,  5.68batch/s]\n",
      "Epoch 27/50, Loss: 0.3293, Train Acc: 0.8205, Val Acc: 0.7656\n",
      "Epoch 27/50, Loss: 0.3293, Train Acc: 0.8205, Val Acc: 0.7656\n",
      "Epoch 27/50, Loss: 0.3293, Train Acc: 0.8205, Val Acc: 0.7656\n"
     ]
    },
    {
     "name": "stdout",
     "output_type": "stream",
     "text": [
      "Epoch 27/50, Loss: 0.3293, Train Acc: 0.8205, Val Acc: 0.7656\n"
     ]
    },
    {
     "name": "stderr",
     "output_type": "stream",
     "text": [
      "Iterating training graphs: 100%|██████████| 192/192 [00:42<00:00,  4.47batch/s]\n"
     ]
    },
    {
     "name": "stdout",
     "output_type": "stream",
     "text": [
      "Checkpoint saved at /home/onyxia/work/DL-Hackathon/hackaton/checkpoints/C/model_C_epoch_28.pth\n"
     ]
    },
    {
     "name": "stderr",
     "output_type": "stream",
     "text": [
      "Iterating eval graphs: 100%|██████████| 48/48 [00:08<00:00,  5.68batch/s]\n",
      "Epoch 28/50, Loss: 0.3186, Train Acc: 0.8315, Val Acc: 0.8053\n",
      "Epoch 28/50, Loss: 0.3186, Train Acc: 0.8315, Val Acc: 0.8053\n",
      "Epoch 28/50, Loss: 0.3186, Train Acc: 0.8315, Val Acc: 0.8053\n"
     ]
    },
    {
     "name": "stdout",
     "output_type": "stream",
     "text": [
      "Epoch 28/50, Loss: 0.3186, Train Acc: 0.8315, Val Acc: 0.8053\n",
      "Best model updated and saved at /home/onyxia/work/DL-Hackathon/hackaton/checkpoints/model_C_best.pth\n"
     ]
    },
    {
     "name": "stderr",
     "output_type": "stream",
     "text": [
      "Iterating training graphs: 100%|██████████| 192/192 [00:42<00:00,  4.50batch/s]\n"
     ]
    },
    {
     "name": "stdout",
     "output_type": "stream",
     "text": [
      "Checkpoint saved at /home/onyxia/work/DL-Hackathon/hackaton/checkpoints/C/model_C_epoch_29.pth\n"
     ]
    },
    {
     "name": "stderr",
     "output_type": "stream",
     "text": [
      "Iterating eval graphs: 100%|██████████| 48/48 [00:08<00:00,  5.77batch/s]\n",
      "Epoch 29/50, Loss: 0.3198, Train Acc: 0.8267, Val Acc: 0.7995\n",
      "Epoch 29/50, Loss: 0.3198, Train Acc: 0.8267, Val Acc: 0.7995\n",
      "Epoch 29/50, Loss: 0.3198, Train Acc: 0.8267, Val Acc: 0.7995\n"
     ]
    },
    {
     "name": "stdout",
     "output_type": "stream",
     "text": [
      "Epoch 29/50, Loss: 0.3198, Train Acc: 0.8267, Val Acc: 0.7995\n"
     ]
    },
    {
     "name": "stderr",
     "output_type": "stream",
     "text": [
      "Iterating training graphs: 100%|██████████| 192/192 [00:43<00:00,  4.43batch/s]\n"
     ]
    },
    {
     "name": "stdout",
     "output_type": "stream",
     "text": [
      "Checkpoint saved at /home/onyxia/work/DL-Hackathon/hackaton/checkpoints/C/model_C_epoch_30.pth\n"
     ]
    },
    {
     "name": "stderr",
     "output_type": "stream",
     "text": [
      "Iterating eval graphs: 100%|██████████| 48/48 [00:08<00:00,  5.69batch/s]\n",
      "Epoch 30/50, Loss: 0.3122, Train Acc: 0.8298, Val Acc: 0.7630\n",
      "Epoch 30/50, Loss: 0.3122, Train Acc: 0.8298, Val Acc: 0.7630\n",
      "Epoch 30/50, Loss: 0.3122, Train Acc: 0.8298, Val Acc: 0.7630\n"
     ]
    },
    {
     "name": "stdout",
     "output_type": "stream",
     "text": [
      "Epoch 30/50, Loss: 0.3122, Train Acc: 0.8298, Val Acc: 0.7630\n"
     ]
    },
    {
     "name": "stderr",
     "output_type": "stream",
     "text": [
      "Iterating training graphs: 100%|██████████| 192/192 [00:42<00:00,  4.49batch/s]\n"
     ]
    },
    {
     "name": "stdout",
     "output_type": "stream",
     "text": [
      "Checkpoint saved at /home/onyxia/work/DL-Hackathon/hackaton/checkpoints/C/model_C_epoch_31.pth\n"
     ]
    },
    {
     "name": "stderr",
     "output_type": "stream",
     "text": [
      "Iterating eval graphs: 100%|██████████| 48/48 [00:08<00:00,  5.72batch/s]\n",
      "Epoch 31/50, Loss: 0.2956, Train Acc: 0.8397, Val Acc: 0.8047\n",
      "Epoch 31/50, Loss: 0.2956, Train Acc: 0.8397, Val Acc: 0.8047\n",
      "Epoch 31/50, Loss: 0.2956, Train Acc: 0.8397, Val Acc: 0.8047\n"
     ]
    },
    {
     "name": "stdout",
     "output_type": "stream",
     "text": [
      "Epoch 31/50, Loss: 0.2956, Train Acc: 0.8397, Val Acc: 0.8047\n"
     ]
    },
    {
     "name": "stderr",
     "output_type": "stream",
     "text": [
      "Iterating training graphs: 100%|██████████| 192/192 [00:42<00:00,  4.47batch/s]\n"
     ]
    },
    {
     "name": "stdout",
     "output_type": "stream",
     "text": [
      "Checkpoint saved at /home/onyxia/work/DL-Hackathon/hackaton/checkpoints/C/model_C_epoch_32.pth\n"
     ]
    },
    {
     "name": "stderr",
     "output_type": "stream",
     "text": [
      "Iterating eval graphs: 100%|██████████| 48/48 [00:08<00:00,  5.66batch/s]\n",
      "Epoch 32/50, Loss: 0.3049, Train Acc: 0.8307, Val Acc: 0.7949\n",
      "Epoch 32/50, Loss: 0.3049, Train Acc: 0.8307, Val Acc: 0.7949\n",
      "Epoch 32/50, Loss: 0.3049, Train Acc: 0.8307, Val Acc: 0.7949\n"
     ]
    },
    {
     "name": "stdout",
     "output_type": "stream",
     "text": [
      "Epoch 32/50, Loss: 0.3049, Train Acc: 0.8307, Val Acc: 0.7949\n"
     ]
    },
    {
     "name": "stderr",
     "output_type": "stream",
     "text": [
      "Iterating training graphs: 100%|██████████| 192/192 [00:43<00:00,  4.43batch/s]\n"
     ]
    },
    {
     "name": "stdout",
     "output_type": "stream",
     "text": [
      "Checkpoint saved at /home/onyxia/work/DL-Hackathon/hackaton/checkpoints/C/model_C_epoch_33.pth\n"
     ]
    },
    {
     "name": "stderr",
     "output_type": "stream",
     "text": [
      "Iterating eval graphs: 100%|██████████| 48/48 [00:08<00:00,  5.35batch/s]\n",
      "Epoch 33/50, Loss: 0.2988, Train Acc: 0.8348, Val Acc: 0.7227\n",
      "Epoch 33/50, Loss: 0.2988, Train Acc: 0.8348, Val Acc: 0.7227\n",
      "Epoch 33/50, Loss: 0.2988, Train Acc: 0.8348, Val Acc: 0.7227\n"
     ]
    },
    {
     "name": "stdout",
     "output_type": "stream",
     "text": [
      "Epoch 33/50, Loss: 0.2988, Train Acc: 0.8348, Val Acc: 0.7227\n"
     ]
    },
    {
     "name": "stderr",
     "output_type": "stream",
     "text": [
      "Iterating training graphs: 100%|██████████| 192/192 [00:44<00:00,  4.31batch/s]\n"
     ]
    },
    {
     "name": "stdout",
     "output_type": "stream",
     "text": [
      "Checkpoint saved at /home/onyxia/work/DL-Hackathon/hackaton/checkpoints/C/model_C_epoch_34.pth\n"
     ]
    },
    {
     "name": "stderr",
     "output_type": "stream",
     "text": [
      "Iterating eval graphs: 100%|██████████| 48/48 [00:08<00:00,  5.51batch/s]\n",
      "Epoch 34/50, Loss: 0.2963, Train Acc: 0.8394, Val Acc: 0.7663\n",
      "Epoch 34/50, Loss: 0.2963, Train Acc: 0.8394, Val Acc: 0.7663\n",
      "Epoch 34/50, Loss: 0.2963, Train Acc: 0.8394, Val Acc: 0.7663\n"
     ]
    },
    {
     "name": "stdout",
     "output_type": "stream",
     "text": [
      "Epoch 34/50, Loss: 0.2963, Train Acc: 0.8394, Val Acc: 0.7663\n"
     ]
    },
    {
     "name": "stderr",
     "output_type": "stream",
     "text": [
      "Iterating training graphs: 100%|██████████| 192/192 [00:43<00:00,  4.40batch/s]\n"
     ]
    },
    {
     "name": "stdout",
     "output_type": "stream",
     "text": [
      "Checkpoint saved at /home/onyxia/work/DL-Hackathon/hackaton/checkpoints/C/model_C_epoch_35.pth\n"
     ]
    },
    {
     "name": "stderr",
     "output_type": "stream",
     "text": [
      "Iterating eval graphs: 100%|██████████| 48/48 [00:08<00:00,  5.53batch/s]\n",
      "Epoch 35/50, Loss: 0.2900, Train Acc: 0.8452, Val Acc: 0.7754\n",
      "Epoch 35/50, Loss: 0.2900, Train Acc: 0.8452, Val Acc: 0.7754\n",
      "Epoch 35/50, Loss: 0.2900, Train Acc: 0.8452, Val Acc: 0.7754\n"
     ]
    },
    {
     "name": "stdout",
     "output_type": "stream",
     "text": [
      "Epoch 35/50, Loss: 0.2900, Train Acc: 0.8452, Val Acc: 0.7754\n"
     ]
    },
    {
     "name": "stderr",
     "output_type": "stream",
     "text": [
      "Iterating training graphs: 100%|██████████| 192/192 [00:43<00:00,  4.37batch/s]\n"
     ]
    },
    {
     "name": "stdout",
     "output_type": "stream",
     "text": [
      "Checkpoint saved at /home/onyxia/work/DL-Hackathon/hackaton/checkpoints/C/model_C_epoch_36.pth\n"
     ]
    },
    {
     "name": "stderr",
     "output_type": "stream",
     "text": [
      "Iterating eval graphs: 100%|██████████| 48/48 [00:08<00:00,  5.66batch/s]\n",
      "Epoch 36/50, Loss: 0.2912, Train Acc: 0.8395, Val Acc: 0.7741\n",
      "Epoch 36/50, Loss: 0.2912, Train Acc: 0.8395, Val Acc: 0.7741\n",
      "Epoch 36/50, Loss: 0.2912, Train Acc: 0.8395, Val Acc: 0.7741\n"
     ]
    },
    {
     "name": "stdout",
     "output_type": "stream",
     "text": [
      "Epoch 36/50, Loss: 0.2912, Train Acc: 0.8395, Val Acc: 0.7741\n"
     ]
    },
    {
     "name": "stderr",
     "output_type": "stream",
     "text": [
      "Iterating training graphs: 100%|██████████| 192/192 [00:44<00:00,  4.30batch/s]\n"
     ]
    },
    {
     "name": "stdout",
     "output_type": "stream",
     "text": [
      "Checkpoint saved at /home/onyxia/work/DL-Hackathon/hackaton/checkpoints/C/model_C_epoch_37.pth\n"
     ]
    },
    {
     "name": "stderr",
     "output_type": "stream",
     "text": [
      "Iterating eval graphs: 100%|██████████| 48/48 [00:08<00:00,  5.66batch/s]\n",
      "Epoch 37/50, Loss: 0.2847, Train Acc: 0.8459, Val Acc: 0.7669\n",
      "Epoch 37/50, Loss: 0.2847, Train Acc: 0.8459, Val Acc: 0.7669\n",
      "Epoch 37/50, Loss: 0.2847, Train Acc: 0.8459, Val Acc: 0.7669\n"
     ]
    },
    {
     "name": "stdout",
     "output_type": "stream",
     "text": [
      "Epoch 37/50, Loss: 0.2847, Train Acc: 0.8459, Val Acc: 0.7669\n"
     ]
    },
    {
     "name": "stderr",
     "output_type": "stream",
     "text": [
      "Iterating training graphs: 100%|██████████| 192/192 [00:43<00:00,  4.41batch/s]\n"
     ]
    },
    {
     "name": "stdout",
     "output_type": "stream",
     "text": [
      "Checkpoint saved at /home/onyxia/work/DL-Hackathon/hackaton/checkpoints/C/model_C_epoch_38.pth\n"
     ]
    },
    {
     "name": "stderr",
     "output_type": "stream",
     "text": [
      "Iterating eval graphs: 100%|██████████| 48/48 [00:08<00:00,  5.41batch/s]\n",
      "Epoch 38/50, Loss: 0.2756, Train Acc: 0.8498, Val Acc: 0.7943\n",
      "Epoch 38/50, Loss: 0.2756, Train Acc: 0.8498, Val Acc: 0.7943\n",
      "Epoch 38/50, Loss: 0.2756, Train Acc: 0.8498, Val Acc: 0.7943\n"
     ]
    },
    {
     "name": "stdout",
     "output_type": "stream",
     "text": [
      "Epoch 38/50, Loss: 0.2756, Train Acc: 0.8498, Val Acc: 0.7943\n"
     ]
    },
    {
     "name": "stderr",
     "output_type": "stream",
     "text": [
      "Iterating training graphs: 100%|██████████| 192/192 [00:43<00:00,  4.38batch/s]\n"
     ]
    },
    {
     "name": "stdout",
     "output_type": "stream",
     "text": [
      "Checkpoint saved at /home/onyxia/work/DL-Hackathon/hackaton/checkpoints/C/model_C_epoch_39.pth\n"
     ]
    },
    {
     "name": "stderr",
     "output_type": "stream",
     "text": [
      "Iterating eval graphs: 100%|██████████| 48/48 [00:08<00:00,  5.71batch/s]\n",
      "Epoch 39/50, Loss: 0.2783, Train Acc: 0.8477, Val Acc: 0.7845\n",
      "Epoch 39/50, Loss: 0.2783, Train Acc: 0.8477, Val Acc: 0.7845\n",
      "Epoch 39/50, Loss: 0.2783, Train Acc: 0.8477, Val Acc: 0.7845\n"
     ]
    },
    {
     "name": "stdout",
     "output_type": "stream",
     "text": [
      "Epoch 39/50, Loss: 0.2783, Train Acc: 0.8477, Val Acc: 0.7845\n"
     ]
    },
    {
     "name": "stderr",
     "output_type": "stream",
     "text": [
      "Iterating training graphs: 100%|██████████| 192/192 [00:43<00:00,  4.42batch/s]\n"
     ]
    },
    {
     "name": "stdout",
     "output_type": "stream",
     "text": [
      "Checkpoint saved at /home/onyxia/work/DL-Hackathon/hackaton/checkpoints/C/model_C_epoch_40.pth\n"
     ]
    },
    {
     "name": "stderr",
     "output_type": "stream",
     "text": [
      "Iterating eval graphs: 100%|██████████| 48/48 [00:08<00:00,  5.59batch/s]\n",
      "Epoch 40/50, Loss: 0.2751, Train Acc: 0.8488, Val Acc: 0.7747\n",
      "Epoch 40/50, Loss: 0.2751, Train Acc: 0.8488, Val Acc: 0.7747\n",
      "Epoch 40/50, Loss: 0.2751, Train Acc: 0.8488, Val Acc: 0.7747\n"
     ]
    },
    {
     "name": "stdout",
     "output_type": "stream",
     "text": [
      "Epoch 40/50, Loss: 0.2751, Train Acc: 0.8488, Val Acc: 0.7747\n"
     ]
    },
    {
     "name": "stderr",
     "output_type": "stream",
     "text": [
      "Iterating training graphs: 100%|██████████| 192/192 [00:43<00:00,  4.38batch/s]\n"
     ]
    },
    {
     "name": "stdout",
     "output_type": "stream",
     "text": [
      "Checkpoint saved at /home/onyxia/work/DL-Hackathon/hackaton/checkpoints/C/model_C_epoch_41.pth\n"
     ]
    },
    {
     "name": "stderr",
     "output_type": "stream",
     "text": [
      "Iterating eval graphs: 100%|██████████| 48/48 [00:08<00:00,  5.72batch/s]\n",
      "Epoch 41/50, Loss: 0.2613, Train Acc: 0.8573, Val Acc: 0.8014\n",
      "Epoch 41/50, Loss: 0.2613, Train Acc: 0.8573, Val Acc: 0.8014\n",
      "Epoch 41/50, Loss: 0.2613, Train Acc: 0.8573, Val Acc: 0.8014\n"
     ]
    },
    {
     "name": "stdout",
     "output_type": "stream",
     "text": [
      "Epoch 41/50, Loss: 0.2613, Train Acc: 0.8573, Val Acc: 0.8014\n"
     ]
    },
    {
     "name": "stderr",
     "output_type": "stream",
     "text": [
      "Iterating training graphs: 100%|██████████| 192/192 [00:42<00:00,  4.47batch/s]\n"
     ]
    },
    {
     "name": "stdout",
     "output_type": "stream",
     "text": [
      "Checkpoint saved at /home/onyxia/work/DL-Hackathon/hackaton/checkpoints/C/model_C_epoch_42.pth\n"
     ]
    },
    {
     "name": "stderr",
     "output_type": "stream",
     "text": [
      "Iterating eval graphs: 100%|██████████| 48/48 [00:08<00:00,  5.73batch/s]\n",
      "Epoch 42/50, Loss: 0.2588, Train Acc: 0.8613, Val Acc: 0.7982\n",
      "Epoch 42/50, Loss: 0.2588, Train Acc: 0.8613, Val Acc: 0.7982\n",
      "Epoch 42/50, Loss: 0.2588, Train Acc: 0.8613, Val Acc: 0.7982\n"
     ]
    },
    {
     "name": "stdout",
     "output_type": "stream",
     "text": [
      "Epoch 42/50, Loss: 0.2588, Train Acc: 0.8613, Val Acc: 0.7982\n"
     ]
    },
    {
     "name": "stderr",
     "output_type": "stream",
     "text": [
      "Iterating training graphs: 100%|██████████| 192/192 [00:43<00:00,  4.42batch/s]\n"
     ]
    },
    {
     "name": "stdout",
     "output_type": "stream",
     "text": [
      "Checkpoint saved at /home/onyxia/work/DL-Hackathon/hackaton/checkpoints/C/model_C_epoch_43.pth\n"
     ]
    },
    {
     "name": "stderr",
     "output_type": "stream",
     "text": [
      "Iterating eval graphs: 100%|██████████| 48/48 [00:08<00:00,  5.65batch/s]\n",
      "Epoch 43/50, Loss: 0.2654, Train Acc: 0.8522, Val Acc: 0.6882\n",
      "Epoch 43/50, Loss: 0.2654, Train Acc: 0.8522, Val Acc: 0.6882\n",
      "Epoch 43/50, Loss: 0.2654, Train Acc: 0.8522, Val Acc: 0.6882\n"
     ]
    },
    {
     "name": "stdout",
     "output_type": "stream",
     "text": [
      "Epoch 43/50, Loss: 0.2654, Train Acc: 0.8522, Val Acc: 0.6882\n"
     ]
    },
    {
     "name": "stderr",
     "output_type": "stream",
     "text": [
      "Iterating training graphs: 100%|██████████| 192/192 [00:43<00:00,  4.39batch/s]\n"
     ]
    },
    {
     "name": "stdout",
     "output_type": "stream",
     "text": [
      "Checkpoint saved at /home/onyxia/work/DL-Hackathon/hackaton/checkpoints/C/model_C_epoch_44.pth\n"
     ]
    },
    {
     "name": "stderr",
     "output_type": "stream",
     "text": [
      "Iterating eval graphs: 100%|██████████| 48/48 [00:08<00:00,  5.63batch/s]\n",
      "Epoch 44/50, Loss: 0.2538, Train Acc: 0.8602, Val Acc: 0.8001\n",
      "Epoch 44/50, Loss: 0.2538, Train Acc: 0.8602, Val Acc: 0.8001\n",
      "Epoch 44/50, Loss: 0.2538, Train Acc: 0.8602, Val Acc: 0.8001\n"
     ]
    },
    {
     "name": "stdout",
     "output_type": "stream",
     "text": [
      "Epoch 44/50, Loss: 0.2538, Train Acc: 0.8602, Val Acc: 0.8001\n"
     ]
    },
    {
     "name": "stderr",
     "output_type": "stream",
     "text": [
      "Iterating training graphs: 100%|██████████| 192/192 [00:43<00:00,  4.42batch/s]\n"
     ]
    },
    {
     "name": "stdout",
     "output_type": "stream",
     "text": [
      "Checkpoint saved at /home/onyxia/work/DL-Hackathon/hackaton/checkpoints/C/model_C_epoch_45.pth\n"
     ]
    },
    {
     "name": "stderr",
     "output_type": "stream",
     "text": [
      "Iterating eval graphs: 100%|██████████| 48/48 [00:08<00:00,  5.69batch/s]\n",
      "Epoch 45/50, Loss: 0.2629, Train Acc: 0.8582, Val Acc: 0.7858\n",
      "Epoch 45/50, Loss: 0.2629, Train Acc: 0.8582, Val Acc: 0.7858\n",
      "Epoch 45/50, Loss: 0.2629, Train Acc: 0.8582, Val Acc: 0.7858\n"
     ]
    },
    {
     "name": "stdout",
     "output_type": "stream",
     "text": [
      "Epoch 45/50, Loss: 0.2629, Train Acc: 0.8582, Val Acc: 0.7858\n"
     ]
    },
    {
     "name": "stderr",
     "output_type": "stream",
     "text": [
      "Iterating training graphs: 100%|██████████| 192/192 [00:43<00:00,  4.40batch/s]\n"
     ]
    },
    {
     "name": "stdout",
     "output_type": "stream",
     "text": [
      "Checkpoint saved at /home/onyxia/work/DL-Hackathon/hackaton/checkpoints/C/model_C_epoch_46.pth\n"
     ]
    },
    {
     "name": "stderr",
     "output_type": "stream",
     "text": [
      "Iterating eval graphs: 100%|██████████| 48/48 [00:08<00:00,  5.52batch/s]\n",
      "Epoch 46/50, Loss: 0.2663, Train Acc: 0.8542, Val Acc: 0.7917\n",
      "Epoch 46/50, Loss: 0.2663, Train Acc: 0.8542, Val Acc: 0.7917\n",
      "Epoch 46/50, Loss: 0.2663, Train Acc: 0.8542, Val Acc: 0.7917\n"
     ]
    },
    {
     "name": "stdout",
     "output_type": "stream",
     "text": [
      "Epoch 46/50, Loss: 0.2663, Train Acc: 0.8542, Val Acc: 0.7917\n"
     ]
    },
    {
     "name": "stderr",
     "output_type": "stream",
     "text": [
      "Iterating training graphs: 100%|██████████| 192/192 [00:43<00:00,  4.40batch/s]\n"
     ]
    },
    {
     "name": "stdout",
     "output_type": "stream",
     "text": [
      "Checkpoint saved at /home/onyxia/work/DL-Hackathon/hackaton/checkpoints/C/model_C_epoch_47.pth\n"
     ]
    },
    {
     "name": "stderr",
     "output_type": "stream",
     "text": [
      "Iterating eval graphs: 100%|██████████| 48/48 [00:08<00:00,  5.41batch/s]\n",
      "Epoch 47/50, Loss: 0.2503, Train Acc: 0.8636, Val Acc: 0.7943\n",
      "Epoch 47/50, Loss: 0.2503, Train Acc: 0.8636, Val Acc: 0.7943\n",
      "Epoch 47/50, Loss: 0.2503, Train Acc: 0.8636, Val Acc: 0.7943\n"
     ]
    },
    {
     "name": "stdout",
     "output_type": "stream",
     "text": [
      "Epoch 47/50, Loss: 0.2503, Train Acc: 0.8636, Val Acc: 0.7943\n"
     ]
    },
    {
     "name": "stderr",
     "output_type": "stream",
     "text": [
      "Iterating training graphs: 100%|██████████| 192/192 [00:43<00:00,  4.44batch/s]\n"
     ]
    },
    {
     "name": "stdout",
     "output_type": "stream",
     "text": [
      "Checkpoint saved at /home/onyxia/work/DL-Hackathon/hackaton/checkpoints/C/model_C_epoch_48.pth\n"
     ]
    },
    {
     "name": "stderr",
     "output_type": "stream",
     "text": [
      "Iterating eval graphs: 100%|██████████| 48/48 [00:08<00:00,  5.62batch/s]\n",
      "Epoch 48/50, Loss: 0.2592, Train Acc: 0.8555, Val Acc: 0.7448\n",
      "Epoch 48/50, Loss: 0.2592, Train Acc: 0.8555, Val Acc: 0.7448\n",
      "Epoch 48/50, Loss: 0.2592, Train Acc: 0.8555, Val Acc: 0.7448\n"
     ]
    },
    {
     "name": "stdout",
     "output_type": "stream",
     "text": [
      "Epoch 48/50, Loss: 0.2592, Train Acc: 0.8555, Val Acc: 0.7448\n"
     ]
    },
    {
     "name": "stderr",
     "output_type": "stream",
     "text": [
      "Iterating training graphs: 100%|██████████| 192/192 [00:42<00:00,  4.48batch/s]\n"
     ]
    },
    {
     "name": "stdout",
     "output_type": "stream",
     "text": [
      "Checkpoint saved at /home/onyxia/work/DL-Hackathon/hackaton/checkpoints/C/model_C_epoch_49.pth\n"
     ]
    },
    {
     "name": "stderr",
     "output_type": "stream",
     "text": [
      "Iterating eval graphs: 100%|██████████| 48/48 [00:08<00:00,  5.61batch/s]\n",
      "Epoch 49/50, Loss: 0.2528, Train Acc: 0.8584, Val Acc: 0.7845\n",
      "Epoch 49/50, Loss: 0.2528, Train Acc: 0.8584, Val Acc: 0.7845\n",
      "Epoch 49/50, Loss: 0.2528, Train Acc: 0.8584, Val Acc: 0.7845\n"
     ]
    },
    {
     "name": "stdout",
     "output_type": "stream",
     "text": [
      "Epoch 49/50, Loss: 0.2528, Train Acc: 0.8584, Val Acc: 0.7845\n"
     ]
    },
    {
     "name": "stderr",
     "output_type": "stream",
     "text": [
      "Iterating training graphs: 100%|██████████| 192/192 [00:43<00:00,  4.40batch/s]\n"
     ]
    },
    {
     "name": "stdout",
     "output_type": "stream",
     "text": [
      "Checkpoint saved at /home/onyxia/work/DL-Hackathon/hackaton/checkpoints/C/model_C_epoch_50.pth\n"
     ]
    },
    {
     "name": "stderr",
     "output_type": "stream",
     "text": [
      "Iterating eval graphs: 100%|██████████| 48/48 [00:08<00:00,  5.68batch/s]\n",
      "Epoch 50/50, Loss: 0.2448, Train Acc: 0.8623, Val Acc: 0.7858\n",
      "Epoch 50/50, Loss: 0.2448, Train Acc: 0.8623, Val Acc: 0.7858\n",
      "Epoch 50/50, Loss: 0.2448, Train Acc: 0.8623, Val Acc: 0.7858\n"
     ]
    },
    {
     "name": "stdout",
     "output_type": "stream",
     "text": [
      "Epoch 50/50, Loss: 0.2448, Train Acc: 0.8623, Val Acc: 0.7858\n"
     ]
    }
   ],
   "source": [
    "if args.train_path:\n",
    "    full_dataset = GraphDataset(args.train_path, transform=add_zeros)\n",
    "    val_size = int(0.2 * len(full_dataset))\n",
    "    train_size = len(full_dataset) - val_size\n",
    "    \n",
    "    generator = torch.Generator().manual_seed(12)\n",
    "    train_dataset, val_dataset = random_split(full_dataset, [train_size, val_size], generator=generator)\n",
    "\n",
    "    train_loader = DataLoader(train_dataset, batch_size=args.batch_size, shuffle=True)\n",
    "    val_loader = DataLoader(val_dataset, batch_size=args.batch_size, shuffle=False)\n",
    "\n",
    "    num_epochs = args.epochs\n",
    "    best_val_accuracy = 0.0   \n",
    "\n",
    "    train_losses = []\n",
    "    train_accuracies = []\n",
    "    val_losses = []\n",
    "    val_accuracies = []\n",
    "\n",
    "    if num_checkpoints > 1:\n",
    "        checkpoint_intervals = [int((i + 1) * num_epochs / num_checkpoints) for i in range(num_checkpoints)]\n",
    "    else:\n",
    "        checkpoint_intervals = [num_epochs]\n",
    "\n",
    "    for epoch in range(num_epochs):\n",
    "        train_loss, train_acc = train(\n",
    "            train_loader, model, optimizer, criterion, device,\n",
    "            save_checkpoints=(epoch + 1 in checkpoint_intervals),\n",
    "            checkpoint_path=os.path.join(checkpoints_folder, f\"model_{test_dir_name}\"),\n",
    "            current_epoch=epoch\n",
    "        )\n",
    "\n",
    "        val_loss,val_acc = evaluate(val_loader, model, device, calculate_accuracy=True)\n",
    "\n",
    "        print(f\"Epoch {epoch + 1}/{num_epochs}, Loss: {train_loss:.4f}, Train Acc: {train_acc:.4f}, Val Acc: {val_acc:.4f}\")\n",
    "        logging.info(f\"Epoch {epoch + 1}/{num_epochs}, Loss: {train_loss:.4f}, Train Acc: {train_acc:.4f}, Val Acc: {val_acc:.4f}\")\n",
    "\n",
    "        train_losses.append(train_loss)\n",
    "        train_accuracies.append(train_acc)\n",
    "        val_losses.append(val_loss)\n",
    "        val_accuracies.append(val_acc)\n",
    "\n",
    "        \n",
    "        if val_acc > best_val_accuracy:\n",
    "            best_val_accuracy = val_acc\n",
    "            torch.save(model.state_dict(), checkpoint_path)\n",
    "            print(f\"Best model updated and saved at {checkpoint_path}\")\n",
    "\n",
    "    plot_training_progress(train_losses, train_accuracies, os.path.join(logs_folder, \"plots\"))\n",
    "    plot_training_progress(val_losses, val_accuracies, os.path.join(logs_folder, \"plotsVal\"))"
   ]
  },
  {
   "cell_type": "code",
   "execution_count": 35,
   "id": "d0f938a2-6e10-4c78-a4c4-59f77b2252c8",
   "metadata": {
    "papermill": {
     "duration": null,
     "end_time": null,
     "exception": null,
     "start_time": null,
     "status": "pending"
    },
    "tags": []
   },
   "outputs": [
    {
     "data": {
      "text/plain": [
       "11947"
      ]
     },
     "execution_count": 35,
     "metadata": {},
     "output_type": "execute_result"
    }
   ],
   "source": [
    "import gc\n",
    "del train_dataset\n",
    "del train_loader\n",
    "del full_dataset\n",
    "del val_dataset\n",
    "del val_loader\n",
    "gc.collect()"
   ]
  },
  {
   "cell_type": "code",
   "execution_count": 36,
   "id": "b5ee45ff-16a0-4e8a-a689-9e62ce7d4240",
   "metadata": {
    "id": "xsXZIj4Mdu3I",
    "papermill": {
     "duration": null,
     "end_time": null,
     "exception": null,
     "start_time": null,
     "status": "pending"
    },
    "tags": []
   },
   "outputs": [],
   "source": [
    "test_dataset = GraphDataset(args.test_path, transform=add_zeros)\n",
    "test_loader = DataLoader(test_dataset, batch_size=args.batch_size, shuffle=False)\n",
    "    "
   ]
  },
  {
   "cell_type": "code",
   "execution_count": 37,
   "id": "887b8aaa-821c-4f66-bd60-0fb1f1c10f19",
   "metadata": {
    "id": "x1OnGq_nCmTr",
    "papermill": {
     "duration": null,
     "end_time": null,
     "exception": null,
     "start_time": null,
     "status": "pending"
    },
    "tags": []
   },
   "outputs": [
    {
     "name": "stderr",
     "output_type": "stream",
     "text": [
      "Iterating eval graphs: 100%|██████████| 48/48 [00:09<00:00,  5.27batch/s]"
     ]
    },
    {
     "name": "stdout",
     "output_type": "stream",
     "text": [
      "Predictions saved to /home/onyxia/work/DL-Hackathon/hackaton/submission/testset_C.csv\n"
     ]
    },
    {
     "name": "stderr",
     "output_type": "stream",
     "text": [
      "\n"
     ]
    }
   ],
   "source": [
    "model.load_state_dict(torch.load(checkpoint_path))\n",
    "predictions = evaluate(test_loader, model, device, calculate_accuracy=False)\n",
    "save_predictions(predictions, args.test_path)"
   ]
  },
  {
   "cell_type": "markdown",
   "id": "9f5d109a-f564-432c-b409-4d494fffee54",
   "metadata": {},
   "source": [
    "# D"
   ]
  },
  {
   "cell_type": "code",
   "execution_count": 38,
   "id": "0b5803b1-abe5-43ef-a4e4-c9aa7174551d",
   "metadata": {
    "papermill": {
     "duration": 0.118164,
     "end_time": "2025-05-21T16:25:02.850799",
     "exception": true,
     "start_time": "2025-05-21T16:25:02.732635",
     "status": "failed"
    },
    "tags": []
   },
   "outputs": [],
   "source": [
    "args.train_path = 'datasets/D/train.json.gz'\n",
    "args.test_path = 'datasets/D/test.json.gz'"
   ]
  },
  {
   "cell_type": "code",
   "execution_count": 39,
   "id": "f7cab60a-71a4-45fd-b254-873bfc36a680",
   "metadata": {
    "id": "lHX55XGECXBr",
    "papermill": {
     "duration": null,
     "end_time": null,
     "exception": null,
     "start_time": null,
     "status": "pending"
    },
    "tags": []
   },
   "outputs": [],
   "source": [
    "script_dir = os.getcwd() \n",
    "# device = torch.device(f\"cuda:{args.device}\" if torch.cuda.is_available() else \"cpu\")\n",
    "device = torch.device(\"cuda\" if torch.cuda.is_available() else \"cpu\")\n",
    "num_checkpoints = args.num_checkpoints if args.num_checkpoints else 3\n",
    "    \n",
    "if args.gnn == 'gin':\n",
    "    model = GNN(gnn_type='gin', num_class=6, num_layer=args.num_layer, emb_dim=args.emb_dim, drop_ratio=args.drop_ratio, virtual_node=False).to(device)\n",
    "elif args.gnn == 'gin-virtual':\n",
    "    model = GNN(gnn_type='gin', num_class=6, num_layer=args.num_layer, emb_dim=args.emb_dim, drop_ratio=args.drop_ratio, virtual_node=True).to(device)\n",
    "elif args.gnn == 'gcn':\n",
    "    model = GNN(gnn_type='gcn', num_class=6, num_layer=args.num_layer, emb_dim=args.emb_dim, drop_ratio=args.drop_ratio, virtual_node=False).to(device)\n",
    "elif args.gnn == 'gcn-virtual':\n",
    "    model = GNN(gnn_type='gcn', num_class=6, num_layer=args.num_layer, emb_dim=args.emb_dim, drop_ratio=args.drop_ratio, virtual_node=True).to(device)\n",
    "else:\n",
    "    raise ValueError('Invalid GNN type')\n",
    "    \n",
    "optimizer = torch.optim.Adam(model.parameters(), lr=0.001)\n",
    "# criterion = torch.nn.CrossEntropyLoss()\n",
    "if args.baseline_mode == 2:\n",
    "    criterion = GCODLoss(gamma=0.2)\n",
    "else:\n",
    "    criterion = torch.nn.CrossEntropyLoss()"
   ]
  },
  {
   "cell_type": "code",
   "execution_count": 40,
   "id": "b964441f-8b35-48bb-8cae-93dc77e9c830",
   "metadata": {
    "id": "BTYT5jYuChPb",
    "papermill": {
     "duration": null,
     "end_time": null,
     "exception": null,
     "start_time": null,
     "status": "pending"
    },
    "tags": []
   },
   "outputs": [],
   "source": [
    "test_dir_name = os.path.basename(os.path.dirname(args.test_path))\n",
    "logs_folder = os.path.join(script_dir, \"logs\", test_dir_name)\n",
    "log_file = os.path.join(logs_folder, \"training.log\")\n",
    "os.makedirs(os.path.dirname(log_file), exist_ok=True)\n",
    "logging.basicConfig(filename=log_file, level=logging.INFO, format='%(asctime)s - %(message)s')\n",
    "logging.getLogger().addHandler(logging.StreamHandler())\n",
    "\n",
    "checkpoint_path = os.path.join(script_dir, \"checkpoints\", f\"model_{test_dir_name}_best.pth\")\n",
    "checkpoints_folder = os.path.join(script_dir, \"checkpoints\", test_dir_name)\n",
    "os.makedirs(checkpoints_folder, exist_ok=True)"
   ]
  },
  {
   "cell_type": "code",
   "execution_count": 41,
   "id": "00ef7573-3542-414b-b87a-e68190805a1a",
   "metadata": {
    "papermill": {
     "duration": null,
     "end_time": null,
     "exception": null,
     "start_time": null,
     "status": "pending"
    },
    "tags": []
   },
   "outputs": [],
   "source": [
    "if os.path.exists(checkpoint_path) and not args.train_path:\n",
    "    model.load_state_dict(torch.load(checkpoint_path))\n",
    "    print(f\"Loaded best model from {checkpoint_path}\")"
   ]
  },
  {
   "cell_type": "code",
   "execution_count": 42,
   "id": "7ae26b24-83b8-40b0-9fb2-71dcf0ee1dc7",
   "metadata": {
    "papermill": {
     "duration": null,
     "end_time": null,
     "exception": null,
     "start_time": null,
     "status": "pending"
    },
    "tags": []
   },
   "outputs": [
    {
     "name": "stderr",
     "output_type": "stream",
     "text": [
      "Iterating training graphs: 100%|██████████| 257/257 [00:59<00:00,  4.32batch/s]\n"
     ]
    },
    {
     "name": "stdout",
     "output_type": "stream",
     "text": [
      "Checkpoint saved at /home/onyxia/work/DL-Hackathon/hackaton/checkpoints/D/model_D_epoch_1.pth\n"
     ]
    },
    {
     "name": "stderr",
     "output_type": "stream",
     "text": [
      "Iterating eval graphs: 100%|██████████| 65/65 [00:12<00:00,  5.24batch/s]\n",
      "Epoch 1/50, Loss: 0.9303, Train Acc: 0.4550, Val Acc: 0.2622\n",
      "Epoch 1/50, Loss: 0.9303, Train Acc: 0.4550, Val Acc: 0.2622\n",
      "Epoch 1/50, Loss: 0.9303, Train Acc: 0.4550, Val Acc: 0.2622\n",
      "Epoch 1/50, Loss: 0.9303, Train Acc: 0.4550, Val Acc: 0.2622\n"
     ]
    },
    {
     "name": "stdout",
     "output_type": "stream",
     "text": [
      "Epoch 1/50, Loss: 0.9303, Train Acc: 0.4550, Val Acc: 0.2622\n",
      "Best model updated and saved at /home/onyxia/work/DL-Hackathon/hackaton/checkpoints/model_D_best.pth\n"
     ]
    },
    {
     "name": "stderr",
     "output_type": "stream",
     "text": [
      "Iterating training graphs: 100%|██████████| 257/257 [01:18<00:00,  3.29batch/s]\n"
     ]
    },
    {
     "name": "stdout",
     "output_type": "stream",
     "text": [
      "Checkpoint saved at /home/onyxia/work/DL-Hackathon/hackaton/checkpoints/D/model_D_epoch_2.pth\n"
     ]
    },
    {
     "name": "stderr",
     "output_type": "stream",
     "text": [
      "Iterating eval graphs: 100%|██████████| 65/65 [00:11<00:00,  5.58batch/s]\n",
      "Epoch 2/50, Loss: 0.7032, Train Acc: 0.5755, Val Acc: 0.5394\n",
      "Epoch 2/50, Loss: 0.7032, Train Acc: 0.5755, Val Acc: 0.5394\n",
      "Epoch 2/50, Loss: 0.7032, Train Acc: 0.5755, Val Acc: 0.5394\n",
      "Epoch 2/50, Loss: 0.7032, Train Acc: 0.5755, Val Acc: 0.5394\n"
     ]
    },
    {
     "name": "stdout",
     "output_type": "stream",
     "text": [
      "Epoch 2/50, Loss: 0.7032, Train Acc: 0.5755, Val Acc: 0.5394\n",
      "Best model updated and saved at /home/onyxia/work/DL-Hackathon/hackaton/checkpoints/model_D_best.pth\n"
     ]
    },
    {
     "name": "stderr",
     "output_type": "stream",
     "text": [
      "Iterating training graphs: 100%|██████████| 257/257 [01:00<00:00,  4.27batch/s]\n"
     ]
    },
    {
     "name": "stdout",
     "output_type": "stream",
     "text": [
      "Checkpoint saved at /home/onyxia/work/DL-Hackathon/hackaton/checkpoints/D/model_D_epoch_3.pth\n"
     ]
    },
    {
     "name": "stderr",
     "output_type": "stream",
     "text": [
      "Iterating eval graphs: 100%|██████████| 65/65 [00:12<00:00,  5.35batch/s]\n",
      "Epoch 3/50, Loss: 0.6169, Train Acc: 0.6190, Val Acc: 0.6260\n",
      "Epoch 3/50, Loss: 0.6169, Train Acc: 0.6190, Val Acc: 0.6260\n",
      "Epoch 3/50, Loss: 0.6169, Train Acc: 0.6190, Val Acc: 0.6260\n",
      "Epoch 3/50, Loss: 0.6169, Train Acc: 0.6190, Val Acc: 0.6260\n"
     ]
    },
    {
     "name": "stdout",
     "output_type": "stream",
     "text": [
      "Epoch 3/50, Loss: 0.6169, Train Acc: 0.6190, Val Acc: 0.6260\n",
      "Best model updated and saved at /home/onyxia/work/DL-Hackathon/hackaton/checkpoints/model_D_best.pth\n"
     ]
    },
    {
     "name": "stderr",
     "output_type": "stream",
     "text": [
      "Iterating training graphs: 100%|██████████| 257/257 [00:59<00:00,  4.34batch/s]\n"
     ]
    },
    {
     "name": "stdout",
     "output_type": "stream",
     "text": [
      "Checkpoint saved at /home/onyxia/work/DL-Hackathon/hackaton/checkpoints/D/model_D_epoch_4.pth\n"
     ]
    },
    {
     "name": "stderr",
     "output_type": "stream",
     "text": [
      "Iterating eval graphs: 100%|██████████| 65/65 [00:11<00:00,  5.50batch/s]\n",
      "Epoch 4/50, Loss: 0.5706, Train Acc: 0.6428, Val Acc: 0.6581\n",
      "Epoch 4/50, Loss: 0.5706, Train Acc: 0.6428, Val Acc: 0.6581\n",
      "Epoch 4/50, Loss: 0.5706, Train Acc: 0.6428, Val Acc: 0.6581\n",
      "Epoch 4/50, Loss: 0.5706, Train Acc: 0.6428, Val Acc: 0.6581\n"
     ]
    },
    {
     "name": "stdout",
     "output_type": "stream",
     "text": [
      "Epoch 4/50, Loss: 0.5706, Train Acc: 0.6428, Val Acc: 0.6581\n",
      "Best model updated and saved at /home/onyxia/work/DL-Hackathon/hackaton/checkpoints/model_D_best.pth\n"
     ]
    },
    {
     "name": "stderr",
     "output_type": "stream",
     "text": [
      "Iterating training graphs: 100%|██████████| 257/257 [00:59<00:00,  4.29batch/s]\n"
     ]
    },
    {
     "name": "stdout",
     "output_type": "stream",
     "text": [
      "Checkpoint saved at /home/onyxia/work/DL-Hackathon/hackaton/checkpoints/D/model_D_epoch_5.pth\n"
     ]
    },
    {
     "name": "stderr",
     "output_type": "stream",
     "text": [
      "Iterating eval graphs: 100%|██████████| 65/65 [00:12<00:00,  5.38batch/s]\n",
      "Epoch 5/50, Loss: 0.5364, Train Acc: 0.6606, Val Acc: 0.5657\n",
      "Epoch 5/50, Loss: 0.5364, Train Acc: 0.6606, Val Acc: 0.5657\n",
      "Epoch 5/50, Loss: 0.5364, Train Acc: 0.6606, Val Acc: 0.5657\n",
      "Epoch 5/50, Loss: 0.5364, Train Acc: 0.6606, Val Acc: 0.5657\n"
     ]
    },
    {
     "name": "stdout",
     "output_type": "stream",
     "text": [
      "Epoch 5/50, Loss: 0.5364, Train Acc: 0.6606, Val Acc: 0.5657\n"
     ]
    },
    {
     "name": "stderr",
     "output_type": "stream",
     "text": [
      "Iterating training graphs: 100%|██████████| 257/257 [00:59<00:00,  4.31batch/s]\n"
     ]
    },
    {
     "name": "stdout",
     "output_type": "stream",
     "text": [
      "Checkpoint saved at /home/onyxia/work/DL-Hackathon/hackaton/checkpoints/D/model_D_epoch_6.pth\n"
     ]
    },
    {
     "name": "stderr",
     "output_type": "stream",
     "text": [
      "Iterating eval graphs: 100%|██████████| 65/65 [00:11<00:00,  5.47batch/s]\n",
      "Epoch 6/50, Loss: 0.5026, Train Acc: 0.6795, Val Acc: 0.7155\n",
      "Epoch 6/50, Loss: 0.5026, Train Acc: 0.6795, Val Acc: 0.7155\n",
      "Epoch 6/50, Loss: 0.5026, Train Acc: 0.6795, Val Acc: 0.7155\n",
      "Epoch 6/50, Loss: 0.5026, Train Acc: 0.6795, Val Acc: 0.7155\n"
     ]
    },
    {
     "name": "stdout",
     "output_type": "stream",
     "text": [
      "Epoch 6/50, Loss: 0.5026, Train Acc: 0.6795, Val Acc: 0.7155\n",
      "Best model updated and saved at /home/onyxia/work/DL-Hackathon/hackaton/checkpoints/model_D_best.pth\n"
     ]
    },
    {
     "name": "stderr",
     "output_type": "stream",
     "text": [
      "Iterating training graphs: 100%|██████████| 257/257 [01:00<00:00,  4.28batch/s]\n"
     ]
    },
    {
     "name": "stdout",
     "output_type": "stream",
     "text": [
      "Checkpoint saved at /home/onyxia/work/DL-Hackathon/hackaton/checkpoints/D/model_D_epoch_7.pth\n"
     ]
    },
    {
     "name": "stderr",
     "output_type": "stream",
     "text": [
      "Iterating eval graphs: 100%|██████████| 65/65 [00:11<00:00,  5.59batch/s]\n",
      "Epoch 7/50, Loss: 0.4796, Train Acc: 0.6944, Val Acc: 0.6989\n",
      "Epoch 7/50, Loss: 0.4796, Train Acc: 0.6944, Val Acc: 0.6989\n",
      "Epoch 7/50, Loss: 0.4796, Train Acc: 0.6944, Val Acc: 0.6989\n",
      "Epoch 7/50, Loss: 0.4796, Train Acc: 0.6944, Val Acc: 0.6989\n"
     ]
    },
    {
     "name": "stdout",
     "output_type": "stream",
     "text": [
      "Epoch 7/50, Loss: 0.4796, Train Acc: 0.6944, Val Acc: 0.6989\n"
     ]
    },
    {
     "name": "stderr",
     "output_type": "stream",
     "text": [
      "Iterating training graphs: 100%|██████████| 257/257 [00:59<00:00,  4.29batch/s]\n"
     ]
    },
    {
     "name": "stdout",
     "output_type": "stream",
     "text": [
      "Checkpoint saved at /home/onyxia/work/DL-Hackathon/hackaton/checkpoints/D/model_D_epoch_8.pth\n"
     ]
    },
    {
     "name": "stderr",
     "output_type": "stream",
     "text": [
      "Iterating eval graphs: 100%|██████████| 65/65 [00:12<00:00,  5.39batch/s]\n",
      "Epoch 8/50, Loss: 0.4690, Train Acc: 0.6993, Val Acc: 0.6732\n",
      "Epoch 8/50, Loss: 0.4690, Train Acc: 0.6993, Val Acc: 0.6732\n",
      "Epoch 8/50, Loss: 0.4690, Train Acc: 0.6993, Val Acc: 0.6732\n",
      "Epoch 8/50, Loss: 0.4690, Train Acc: 0.6993, Val Acc: 0.6732\n"
     ]
    },
    {
     "name": "stdout",
     "output_type": "stream",
     "text": [
      "Epoch 8/50, Loss: 0.4690, Train Acc: 0.6993, Val Acc: 0.6732\n"
     ]
    },
    {
     "name": "stderr",
     "output_type": "stream",
     "text": [
      "Iterating training graphs: 100%|██████████| 257/257 [00:59<00:00,  4.32batch/s]\n"
     ]
    },
    {
     "name": "stdout",
     "output_type": "stream",
     "text": [
      "Checkpoint saved at /home/onyxia/work/DL-Hackathon/hackaton/checkpoints/D/model_D_epoch_9.pth\n"
     ]
    },
    {
     "name": "stderr",
     "output_type": "stream",
     "text": [
      "Iterating eval graphs: 100%|██████████| 65/65 [00:12<00:00,  5.26batch/s]\n",
      "Epoch 9/50, Loss: 0.4548, Train Acc: 0.7014, Val Acc: 0.7194\n",
      "Epoch 9/50, Loss: 0.4548, Train Acc: 0.7014, Val Acc: 0.7194\n",
      "Epoch 9/50, Loss: 0.4548, Train Acc: 0.7014, Val Acc: 0.7194\n",
      "Epoch 9/50, Loss: 0.4548, Train Acc: 0.7014, Val Acc: 0.7194\n"
     ]
    },
    {
     "name": "stdout",
     "output_type": "stream",
     "text": [
      "Epoch 9/50, Loss: 0.4548, Train Acc: 0.7014, Val Acc: 0.7194\n",
      "Best model updated and saved at /home/onyxia/work/DL-Hackathon/hackaton/checkpoints/model_D_best.pth\n"
     ]
    },
    {
     "name": "stderr",
     "output_type": "stream",
     "text": [
      "Iterating training graphs: 100%|██████████| 257/257 [01:00<00:00,  4.23batch/s]\n"
     ]
    },
    {
     "name": "stdout",
     "output_type": "stream",
     "text": [
      "Checkpoint saved at /home/onyxia/work/DL-Hackathon/hackaton/checkpoints/D/model_D_epoch_10.pth\n"
     ]
    },
    {
     "name": "stderr",
     "output_type": "stream",
     "text": [
      "Iterating eval graphs: 100%|██████████| 65/65 [00:12<00:00,  5.11batch/s]\n",
      "Epoch 10/50, Loss: 0.4408, Train Acc: 0.7128, Val Acc: 0.6357\n",
      "Epoch 10/50, Loss: 0.4408, Train Acc: 0.7128, Val Acc: 0.6357\n",
      "Epoch 10/50, Loss: 0.4408, Train Acc: 0.7128, Val Acc: 0.6357\n",
      "Epoch 10/50, Loss: 0.4408, Train Acc: 0.7128, Val Acc: 0.6357\n"
     ]
    },
    {
     "name": "stdout",
     "output_type": "stream",
     "text": [
      "Epoch 10/50, Loss: 0.4408, Train Acc: 0.7128, Val Acc: 0.6357\n"
     ]
    },
    {
     "name": "stderr",
     "output_type": "stream",
     "text": [
      "Iterating training graphs: 100%|██████████| 257/257 [01:00<00:00,  4.23batch/s]\n"
     ]
    },
    {
     "name": "stdout",
     "output_type": "stream",
     "text": [
      "Checkpoint saved at /home/onyxia/work/DL-Hackathon/hackaton/checkpoints/D/model_D_epoch_11.pth\n"
     ]
    },
    {
     "name": "stderr",
     "output_type": "stream",
     "text": [
      "Iterating eval graphs: 100%|██████████| 65/65 [00:12<00:00,  5.15batch/s]\n",
      "Epoch 11/50, Loss: 0.4329, Train Acc: 0.7177, Val Acc: 0.7096\n",
      "Epoch 11/50, Loss: 0.4329, Train Acc: 0.7177, Val Acc: 0.7096\n",
      "Epoch 11/50, Loss: 0.4329, Train Acc: 0.7177, Val Acc: 0.7096\n",
      "Epoch 11/50, Loss: 0.4329, Train Acc: 0.7177, Val Acc: 0.7096\n"
     ]
    },
    {
     "name": "stdout",
     "output_type": "stream",
     "text": [
      "Epoch 11/50, Loss: 0.4329, Train Acc: 0.7177, Val Acc: 0.7096\n"
     ]
    },
    {
     "name": "stderr",
     "output_type": "stream",
     "text": [
      "Iterating training graphs: 100%|██████████| 257/257 [01:03<00:00,  4.05batch/s]\n"
     ]
    },
    {
     "name": "stdout",
     "output_type": "stream",
     "text": [
      "Checkpoint saved at /home/onyxia/work/DL-Hackathon/hackaton/checkpoints/D/model_D_epoch_12.pth\n"
     ]
    },
    {
     "name": "stderr",
     "output_type": "stream",
     "text": [
      "Iterating eval graphs: 100%|██████████| 65/65 [00:12<00:00,  5.21batch/s]\n",
      "Epoch 12/50, Loss: 0.4184, Train Acc: 0.7281, Val Acc: 0.7213\n",
      "Epoch 12/50, Loss: 0.4184, Train Acc: 0.7281, Val Acc: 0.7213\n",
      "Epoch 12/50, Loss: 0.4184, Train Acc: 0.7281, Val Acc: 0.7213\n",
      "Epoch 12/50, Loss: 0.4184, Train Acc: 0.7281, Val Acc: 0.7213\n"
     ]
    },
    {
     "name": "stdout",
     "output_type": "stream",
     "text": [
      "Epoch 12/50, Loss: 0.4184, Train Acc: 0.7281, Val Acc: 0.7213\n",
      "Best model updated and saved at /home/onyxia/work/DL-Hackathon/hackaton/checkpoints/model_D_best.pth\n"
     ]
    },
    {
     "name": "stderr",
     "output_type": "stream",
     "text": [
      "Iterating training graphs: 100%|██████████| 257/257 [01:00<00:00,  4.22batch/s]\n"
     ]
    },
    {
     "name": "stdout",
     "output_type": "stream",
     "text": [
      "Checkpoint saved at /home/onyxia/work/DL-Hackathon/hackaton/checkpoints/D/model_D_epoch_13.pth\n"
     ]
    },
    {
     "name": "stderr",
     "output_type": "stream",
     "text": [
      "Iterating eval graphs: 100%|██████████| 65/65 [00:12<00:00,  5.20batch/s]\n",
      "Epoch 13/50, Loss: 0.4151, Train Acc: 0.7263, Val Acc: 0.7038\n",
      "Epoch 13/50, Loss: 0.4151, Train Acc: 0.7263, Val Acc: 0.7038\n",
      "Epoch 13/50, Loss: 0.4151, Train Acc: 0.7263, Val Acc: 0.7038\n",
      "Epoch 13/50, Loss: 0.4151, Train Acc: 0.7263, Val Acc: 0.7038\n"
     ]
    },
    {
     "name": "stdout",
     "output_type": "stream",
     "text": [
      "Epoch 13/50, Loss: 0.4151, Train Acc: 0.7263, Val Acc: 0.7038\n"
     ]
    },
    {
     "name": "stderr",
     "output_type": "stream",
     "text": [
      "Iterating training graphs: 100%|██████████| 257/257 [01:02<00:00,  4.12batch/s]\n"
     ]
    },
    {
     "name": "stdout",
     "output_type": "stream",
     "text": [
      "Checkpoint saved at /home/onyxia/work/DL-Hackathon/hackaton/checkpoints/D/model_D_epoch_14.pth\n"
     ]
    },
    {
     "name": "stderr",
     "output_type": "stream",
     "text": [
      "Iterating eval graphs: 100%|██████████| 65/65 [00:12<00:00,  5.17batch/s]\n",
      "Epoch 14/50, Loss: 0.4087, Train Acc: 0.7313, Val Acc: 0.7276\n",
      "Epoch 14/50, Loss: 0.4087, Train Acc: 0.7313, Val Acc: 0.7276\n",
      "Epoch 14/50, Loss: 0.4087, Train Acc: 0.7313, Val Acc: 0.7276\n",
      "Epoch 14/50, Loss: 0.4087, Train Acc: 0.7313, Val Acc: 0.7276\n"
     ]
    },
    {
     "name": "stdout",
     "output_type": "stream",
     "text": [
      "Epoch 14/50, Loss: 0.4087, Train Acc: 0.7313, Val Acc: 0.7276\n",
      "Best model updated and saved at /home/onyxia/work/DL-Hackathon/hackaton/checkpoints/model_D_best.pth\n"
     ]
    },
    {
     "name": "stderr",
     "output_type": "stream",
     "text": [
      "Iterating training graphs: 100%|██████████| 257/257 [01:01<00:00,  4.19batch/s]\n"
     ]
    },
    {
     "name": "stdout",
     "output_type": "stream",
     "text": [
      "Checkpoint saved at /home/onyxia/work/DL-Hackathon/hackaton/checkpoints/D/model_D_epoch_15.pth\n"
     ]
    },
    {
     "name": "stderr",
     "output_type": "stream",
     "text": [
      "Iterating eval graphs: 100%|██████████| 65/65 [00:12<00:00,  5.21batch/s]\n",
      "Epoch 15/50, Loss: 0.4002, Train Acc: 0.7400, Val Acc: 0.7208\n",
      "Epoch 15/50, Loss: 0.4002, Train Acc: 0.7400, Val Acc: 0.7208\n",
      "Epoch 15/50, Loss: 0.4002, Train Acc: 0.7400, Val Acc: 0.7208\n",
      "Epoch 15/50, Loss: 0.4002, Train Acc: 0.7400, Val Acc: 0.7208\n"
     ]
    },
    {
     "name": "stdout",
     "output_type": "stream",
     "text": [
      "Epoch 15/50, Loss: 0.4002, Train Acc: 0.7400, Val Acc: 0.7208\n"
     ]
    },
    {
     "name": "stderr",
     "output_type": "stream",
     "text": [
      "Iterating training graphs: 100%|██████████| 257/257 [01:00<00:00,  4.27batch/s]\n"
     ]
    },
    {
     "name": "stdout",
     "output_type": "stream",
     "text": [
      "Checkpoint saved at /home/onyxia/work/DL-Hackathon/hackaton/checkpoints/D/model_D_epoch_16.pth\n"
     ]
    },
    {
     "name": "stderr",
     "output_type": "stream",
     "text": [
      "Iterating eval graphs: 100%|██████████| 65/65 [00:12<00:00,  5.36batch/s]\n",
      "Epoch 16/50, Loss: 0.3970, Train Acc: 0.7394, Val Acc: 0.7125\n",
      "Epoch 16/50, Loss: 0.3970, Train Acc: 0.7394, Val Acc: 0.7125\n",
      "Epoch 16/50, Loss: 0.3970, Train Acc: 0.7394, Val Acc: 0.7125\n",
      "Epoch 16/50, Loss: 0.3970, Train Acc: 0.7394, Val Acc: 0.7125\n"
     ]
    },
    {
     "name": "stdout",
     "output_type": "stream",
     "text": [
      "Epoch 16/50, Loss: 0.3970, Train Acc: 0.7394, Val Acc: 0.7125\n"
     ]
    },
    {
     "name": "stderr",
     "output_type": "stream",
     "text": [
      "Iterating training graphs: 100%|██████████| 257/257 [00:59<00:00,  4.31batch/s]\n"
     ]
    },
    {
     "name": "stdout",
     "output_type": "stream",
     "text": [
      "Checkpoint saved at /home/onyxia/work/DL-Hackathon/hackaton/checkpoints/D/model_D_epoch_17.pth\n"
     ]
    },
    {
     "name": "stderr",
     "output_type": "stream",
     "text": [
      "Iterating eval graphs: 100%|██████████| 65/65 [00:12<00:00,  5.39batch/s]\n",
      "Epoch 17/50, Loss: 0.3888, Train Acc: 0.7471, Val Acc: 0.7408\n",
      "Epoch 17/50, Loss: 0.3888, Train Acc: 0.7471, Val Acc: 0.7408\n",
      "Epoch 17/50, Loss: 0.3888, Train Acc: 0.7471, Val Acc: 0.7408\n",
      "Epoch 17/50, Loss: 0.3888, Train Acc: 0.7471, Val Acc: 0.7408\n"
     ]
    },
    {
     "name": "stdout",
     "output_type": "stream",
     "text": [
      "Epoch 17/50, Loss: 0.3888, Train Acc: 0.7471, Val Acc: 0.7408\n",
      "Best model updated and saved at /home/onyxia/work/DL-Hackathon/hackaton/checkpoints/model_D_best.pth\n"
     ]
    },
    {
     "name": "stderr",
     "output_type": "stream",
     "text": [
      "Iterating training graphs: 100%|██████████| 257/257 [00:59<00:00,  4.32batch/s]\n"
     ]
    },
    {
     "name": "stdout",
     "output_type": "stream",
     "text": [
      "Checkpoint saved at /home/onyxia/work/DL-Hackathon/hackaton/checkpoints/D/model_D_epoch_18.pth\n"
     ]
    },
    {
     "name": "stderr",
     "output_type": "stream",
     "text": [
      "Iterating eval graphs: 100%|██████████| 65/65 [00:12<00:00,  5.30batch/s]\n",
      "Epoch 18/50, Loss: 0.3812, Train Acc: 0.7519, Val Acc: 0.7344\n",
      "Epoch 18/50, Loss: 0.3812, Train Acc: 0.7519, Val Acc: 0.7344\n",
      "Epoch 18/50, Loss: 0.3812, Train Acc: 0.7519, Val Acc: 0.7344\n",
      "Epoch 18/50, Loss: 0.3812, Train Acc: 0.7519, Val Acc: 0.7344\n"
     ]
    },
    {
     "name": "stdout",
     "output_type": "stream",
     "text": [
      "Epoch 18/50, Loss: 0.3812, Train Acc: 0.7519, Val Acc: 0.7344\n"
     ]
    },
    {
     "name": "stderr",
     "output_type": "stream",
     "text": [
      "Iterating training graphs: 100%|██████████| 257/257 [00:59<00:00,  4.33batch/s]\n"
     ]
    },
    {
     "name": "stdout",
     "output_type": "stream",
     "text": [
      "Checkpoint saved at /home/onyxia/work/DL-Hackathon/hackaton/checkpoints/D/model_D_epoch_19.pth\n"
     ]
    },
    {
     "name": "stderr",
     "output_type": "stream",
     "text": [
      "Iterating eval graphs: 100%|██████████| 65/65 [00:12<00:00,  5.20batch/s]\n",
      "Epoch 19/50, Loss: 0.3789, Train Acc: 0.7512, Val Acc: 0.6873\n",
      "Epoch 19/50, Loss: 0.3789, Train Acc: 0.7512, Val Acc: 0.6873\n",
      "Epoch 19/50, Loss: 0.3789, Train Acc: 0.7512, Val Acc: 0.6873\n",
      "Epoch 19/50, Loss: 0.3789, Train Acc: 0.7512, Val Acc: 0.6873\n"
     ]
    },
    {
     "name": "stdout",
     "output_type": "stream",
     "text": [
      "Epoch 19/50, Loss: 0.3789, Train Acc: 0.7512, Val Acc: 0.6873\n"
     ]
    },
    {
     "name": "stderr",
     "output_type": "stream",
     "text": [
      "Iterating training graphs: 100%|██████████| 257/257 [01:00<00:00,  4.25batch/s]\n"
     ]
    },
    {
     "name": "stdout",
     "output_type": "stream",
     "text": [
      "Checkpoint saved at /home/onyxia/work/DL-Hackathon/hackaton/checkpoints/D/model_D_epoch_20.pth\n"
     ]
    },
    {
     "name": "stderr",
     "output_type": "stream",
     "text": [
      "Iterating eval graphs: 100%|██████████| 65/65 [00:12<00:00,  5.38batch/s]\n",
      "Epoch 20/50, Loss: 0.3752, Train Acc: 0.7561, Val Acc: 0.6629\n",
      "Epoch 20/50, Loss: 0.3752, Train Acc: 0.7561, Val Acc: 0.6629\n",
      "Epoch 20/50, Loss: 0.3752, Train Acc: 0.7561, Val Acc: 0.6629\n",
      "Epoch 20/50, Loss: 0.3752, Train Acc: 0.7561, Val Acc: 0.6629\n"
     ]
    },
    {
     "name": "stdout",
     "output_type": "stream",
     "text": [
      "Epoch 20/50, Loss: 0.3752, Train Acc: 0.7561, Val Acc: 0.6629\n"
     ]
    },
    {
     "name": "stderr",
     "output_type": "stream",
     "text": [
      "Iterating training graphs: 100%|██████████| 257/257 [00:59<00:00,  4.31batch/s]\n"
     ]
    },
    {
     "name": "stdout",
     "output_type": "stream",
     "text": [
      "Checkpoint saved at /home/onyxia/work/DL-Hackathon/hackaton/checkpoints/D/model_D_epoch_21.pth\n"
     ]
    },
    {
     "name": "stderr",
     "output_type": "stream",
     "text": [
      "Iterating eval graphs: 100%|██████████| 65/65 [00:12<00:00,  5.24batch/s]\n",
      "Epoch 21/50, Loss: 0.3731, Train Acc: 0.7529, Val Acc: 0.5618\n",
      "Epoch 21/50, Loss: 0.3731, Train Acc: 0.7529, Val Acc: 0.5618\n",
      "Epoch 21/50, Loss: 0.3731, Train Acc: 0.7529, Val Acc: 0.5618\n",
      "Epoch 21/50, Loss: 0.3731, Train Acc: 0.7529, Val Acc: 0.5618\n"
     ]
    },
    {
     "name": "stdout",
     "output_type": "stream",
     "text": [
      "Epoch 21/50, Loss: 0.3731, Train Acc: 0.7529, Val Acc: 0.5618\n"
     ]
    },
    {
     "name": "stderr",
     "output_type": "stream",
     "text": [
      "Iterating training graphs: 100%|██████████| 257/257 [00:59<00:00,  4.29batch/s]\n"
     ]
    },
    {
     "name": "stdout",
     "output_type": "stream",
     "text": [
      "Checkpoint saved at /home/onyxia/work/DL-Hackathon/hackaton/checkpoints/D/model_D_epoch_22.pth\n"
     ]
    },
    {
     "name": "stderr",
     "output_type": "stream",
     "text": [
      "Iterating eval graphs: 100%|██████████| 65/65 [00:11<00:00,  5.49batch/s]\n",
      "Epoch 22/50, Loss: 0.3716, Train Acc: 0.7538, Val Acc: 0.7349\n",
      "Epoch 22/50, Loss: 0.3716, Train Acc: 0.7538, Val Acc: 0.7349\n",
      "Epoch 22/50, Loss: 0.3716, Train Acc: 0.7538, Val Acc: 0.7349\n",
      "Epoch 22/50, Loss: 0.3716, Train Acc: 0.7538, Val Acc: 0.7349\n"
     ]
    },
    {
     "name": "stdout",
     "output_type": "stream",
     "text": [
      "Epoch 22/50, Loss: 0.3716, Train Acc: 0.7538, Val Acc: 0.7349\n"
     ]
    },
    {
     "name": "stderr",
     "output_type": "stream",
     "text": [
      "Iterating training graphs: 100%|██████████| 257/257 [01:00<00:00,  4.28batch/s]\n"
     ]
    },
    {
     "name": "stdout",
     "output_type": "stream",
     "text": [
      "Checkpoint saved at /home/onyxia/work/DL-Hackathon/hackaton/checkpoints/D/model_D_epoch_23.pth\n"
     ]
    },
    {
     "name": "stderr",
     "output_type": "stream",
     "text": [
      "Iterating eval graphs: 100%|██████████| 65/65 [00:12<00:00,  5.10batch/s]\n",
      "Epoch 23/50, Loss: 0.3637, Train Acc: 0.7586, Val Acc: 0.7349\n",
      "Epoch 23/50, Loss: 0.3637, Train Acc: 0.7586, Val Acc: 0.7349\n",
      "Epoch 23/50, Loss: 0.3637, Train Acc: 0.7586, Val Acc: 0.7349\n",
      "Epoch 23/50, Loss: 0.3637, Train Acc: 0.7586, Val Acc: 0.7349\n"
     ]
    },
    {
     "name": "stdout",
     "output_type": "stream",
     "text": [
      "Epoch 23/50, Loss: 0.3637, Train Acc: 0.7586, Val Acc: 0.7349\n"
     ]
    },
    {
     "name": "stderr",
     "output_type": "stream",
     "text": [
      "Iterating training graphs: 100%|██████████| 257/257 [01:00<00:00,  4.25batch/s]\n"
     ]
    },
    {
     "name": "stdout",
     "output_type": "stream",
     "text": [
      "Checkpoint saved at /home/onyxia/work/DL-Hackathon/hackaton/checkpoints/D/model_D_epoch_24.pth\n"
     ]
    },
    {
     "name": "stderr",
     "output_type": "stream",
     "text": [
      "Iterating eval graphs: 100%|██████████| 65/65 [00:12<00:00,  5.22batch/s]\n",
      "Epoch 24/50, Loss: 0.3626, Train Acc: 0.7614, Val Acc: 0.7432\n",
      "Epoch 24/50, Loss: 0.3626, Train Acc: 0.7614, Val Acc: 0.7432\n",
      "Epoch 24/50, Loss: 0.3626, Train Acc: 0.7614, Val Acc: 0.7432\n",
      "Epoch 24/50, Loss: 0.3626, Train Acc: 0.7614, Val Acc: 0.7432\n"
     ]
    },
    {
     "name": "stdout",
     "output_type": "stream",
     "text": [
      "Epoch 24/50, Loss: 0.3626, Train Acc: 0.7614, Val Acc: 0.7432\n",
      "Best model updated and saved at /home/onyxia/work/DL-Hackathon/hackaton/checkpoints/model_D_best.pth\n"
     ]
    },
    {
     "name": "stderr",
     "output_type": "stream",
     "text": [
      "Iterating training graphs: 100%|██████████| 257/257 [01:01<00:00,  4.20batch/s]\n"
     ]
    },
    {
     "name": "stdout",
     "output_type": "stream",
     "text": [
      "Checkpoint saved at /home/onyxia/work/DL-Hackathon/hackaton/checkpoints/D/model_D_epoch_25.pth\n"
     ]
    },
    {
     "name": "stderr",
     "output_type": "stream",
     "text": [
      "Iterating eval graphs: 100%|██████████| 65/65 [00:12<00:00,  5.30batch/s]\n",
      "Epoch 25/50, Loss: 0.3581, Train Acc: 0.7667, Val Acc: 0.5530\n",
      "Epoch 25/50, Loss: 0.3581, Train Acc: 0.7667, Val Acc: 0.5530\n",
      "Epoch 25/50, Loss: 0.3581, Train Acc: 0.7667, Val Acc: 0.5530\n",
      "Epoch 25/50, Loss: 0.3581, Train Acc: 0.7667, Val Acc: 0.5530\n"
     ]
    },
    {
     "name": "stdout",
     "output_type": "stream",
     "text": [
      "Epoch 25/50, Loss: 0.3581, Train Acc: 0.7667, Val Acc: 0.5530\n"
     ]
    },
    {
     "name": "stderr",
     "output_type": "stream",
     "text": [
      "Iterating training graphs: 100%|██████████| 257/257 [01:04<00:00,  4.01batch/s]\n"
     ]
    },
    {
     "name": "stdout",
     "output_type": "stream",
     "text": [
      "Checkpoint saved at /home/onyxia/work/DL-Hackathon/hackaton/checkpoints/D/model_D_epoch_26.pth\n"
     ]
    },
    {
     "name": "stderr",
     "output_type": "stream",
     "text": [
      "Iterating eval graphs: 100%|██████████| 65/65 [00:14<00:00,  4.58batch/s]\n",
      "Epoch 26/50, Loss: 0.3556, Train Acc: 0.7651, Val Acc: 0.7276\n",
      "Epoch 26/50, Loss: 0.3556, Train Acc: 0.7651, Val Acc: 0.7276\n",
      "Epoch 26/50, Loss: 0.3556, Train Acc: 0.7651, Val Acc: 0.7276\n",
      "Epoch 26/50, Loss: 0.3556, Train Acc: 0.7651, Val Acc: 0.7276\n"
     ]
    },
    {
     "name": "stdout",
     "output_type": "stream",
     "text": [
      "Epoch 26/50, Loss: 0.3556, Train Acc: 0.7651, Val Acc: 0.7276\n"
     ]
    },
    {
     "name": "stderr",
     "output_type": "stream",
     "text": [
      "Iterating training graphs: 100%|██████████| 257/257 [01:05<00:00,  3.90batch/s]\n"
     ]
    },
    {
     "name": "stdout",
     "output_type": "stream",
     "text": [
      "Checkpoint saved at /home/onyxia/work/DL-Hackathon/hackaton/checkpoints/D/model_D_epoch_27.pth\n"
     ]
    },
    {
     "name": "stderr",
     "output_type": "stream",
     "text": [
      "Iterating eval graphs: 100%|██████████| 65/65 [00:14<00:00,  4.45batch/s]\n",
      "Epoch 27/50, Loss: 0.3497, Train Acc: 0.7709, Val Acc: 0.7330\n",
      "Epoch 27/50, Loss: 0.3497, Train Acc: 0.7709, Val Acc: 0.7330\n",
      "Epoch 27/50, Loss: 0.3497, Train Acc: 0.7709, Val Acc: 0.7330\n",
      "Epoch 27/50, Loss: 0.3497, Train Acc: 0.7709, Val Acc: 0.7330\n"
     ]
    },
    {
     "name": "stdout",
     "output_type": "stream",
     "text": [
      "Epoch 27/50, Loss: 0.3497, Train Acc: 0.7709, Val Acc: 0.7330\n"
     ]
    },
    {
     "name": "stderr",
     "output_type": "stream",
     "text": [
      "Iterating training graphs: 100%|██████████| 257/257 [01:09<00:00,  3.72batch/s]\n"
     ]
    },
    {
     "name": "stdout",
     "output_type": "stream",
     "text": [
      "Checkpoint saved at /home/onyxia/work/DL-Hackathon/hackaton/checkpoints/D/model_D_epoch_28.pth\n"
     ]
    },
    {
     "name": "stderr",
     "output_type": "stream",
     "text": [
      "Iterating eval graphs: 100%|██████████| 65/65 [00:13<00:00,  4.69batch/s]\n",
      "Epoch 28/50, Loss: 0.3459, Train Acc: 0.7761, Val Acc: 0.7077\n",
      "Epoch 28/50, Loss: 0.3459, Train Acc: 0.7761, Val Acc: 0.7077\n",
      "Epoch 28/50, Loss: 0.3459, Train Acc: 0.7761, Val Acc: 0.7077\n",
      "Epoch 28/50, Loss: 0.3459, Train Acc: 0.7761, Val Acc: 0.7077\n"
     ]
    },
    {
     "name": "stdout",
     "output_type": "stream",
     "text": [
      "Epoch 28/50, Loss: 0.3459, Train Acc: 0.7761, Val Acc: 0.7077\n"
     ]
    },
    {
     "name": "stderr",
     "output_type": "stream",
     "text": [
      "Iterating training graphs: 100%|██████████| 257/257 [01:08<00:00,  3.78batch/s]\n"
     ]
    },
    {
     "name": "stdout",
     "output_type": "stream",
     "text": [
      "Checkpoint saved at /home/onyxia/work/DL-Hackathon/hackaton/checkpoints/D/model_D_epoch_29.pth\n"
     ]
    },
    {
     "name": "stderr",
     "output_type": "stream",
     "text": [
      "Iterating eval graphs: 100%|██████████| 65/65 [00:15<00:00,  4.11batch/s]\n",
      "Epoch 29/50, Loss: 0.3435, Train Acc: 0.7704, Val Acc: 0.7403\n",
      "Epoch 29/50, Loss: 0.3435, Train Acc: 0.7704, Val Acc: 0.7403\n",
      "Epoch 29/50, Loss: 0.3435, Train Acc: 0.7704, Val Acc: 0.7403\n",
      "Epoch 29/50, Loss: 0.3435, Train Acc: 0.7704, Val Acc: 0.7403\n"
     ]
    },
    {
     "name": "stdout",
     "output_type": "stream",
     "text": [
      "Epoch 29/50, Loss: 0.3435, Train Acc: 0.7704, Val Acc: 0.7403\n"
     ]
    },
    {
     "name": "stderr",
     "output_type": "stream",
     "text": [
      "Iterating training graphs: 100%|██████████| 257/257 [01:06<00:00,  3.89batch/s]\n"
     ]
    },
    {
     "name": "stdout",
     "output_type": "stream",
     "text": [
      "Checkpoint saved at /home/onyxia/work/DL-Hackathon/hackaton/checkpoints/D/model_D_epoch_30.pth\n"
     ]
    },
    {
     "name": "stderr",
     "output_type": "stream",
     "text": [
      "Iterating eval graphs: 100%|██████████| 65/65 [00:14<00:00,  4.62batch/s]\n",
      "Epoch 30/50, Loss: 0.3308, Train Acc: 0.7850, Val Acc: 0.6926\n",
      "Epoch 30/50, Loss: 0.3308, Train Acc: 0.7850, Val Acc: 0.6926\n",
      "Epoch 30/50, Loss: 0.3308, Train Acc: 0.7850, Val Acc: 0.6926\n",
      "Epoch 30/50, Loss: 0.3308, Train Acc: 0.7850, Val Acc: 0.6926\n"
     ]
    },
    {
     "name": "stdout",
     "output_type": "stream",
     "text": [
      "Epoch 30/50, Loss: 0.3308, Train Acc: 0.7850, Val Acc: 0.6926\n"
     ]
    },
    {
     "name": "stderr",
     "output_type": "stream",
     "text": [
      "Iterating training graphs: 100%|██████████| 257/257 [01:06<00:00,  3.87batch/s]\n"
     ]
    },
    {
     "name": "stdout",
     "output_type": "stream",
     "text": [
      "Checkpoint saved at /home/onyxia/work/DL-Hackathon/hackaton/checkpoints/D/model_D_epoch_31.pth\n"
     ]
    },
    {
     "name": "stderr",
     "output_type": "stream",
     "text": [
      "Iterating eval graphs: 100%|██████████| 65/65 [00:14<00:00,  4.57batch/s]\n",
      "Epoch 31/50, Loss: 0.3351, Train Acc: 0.7808, Val Acc: 0.7471\n",
      "Epoch 31/50, Loss: 0.3351, Train Acc: 0.7808, Val Acc: 0.7471\n",
      "Epoch 31/50, Loss: 0.3351, Train Acc: 0.7808, Val Acc: 0.7471\n",
      "Epoch 31/50, Loss: 0.3351, Train Acc: 0.7808, Val Acc: 0.7471\n"
     ]
    },
    {
     "name": "stdout",
     "output_type": "stream",
     "text": [
      "Epoch 31/50, Loss: 0.3351, Train Acc: 0.7808, Val Acc: 0.7471\n",
      "Best model updated and saved at /home/onyxia/work/DL-Hackathon/hackaton/checkpoints/model_D_best.pth\n"
     ]
    },
    {
     "name": "stderr",
     "output_type": "stream",
     "text": [
      "Iterating training graphs: 100%|██████████| 257/257 [01:05<00:00,  3.95batch/s]\n"
     ]
    },
    {
     "name": "stdout",
     "output_type": "stream",
     "text": [
      "Checkpoint saved at /home/onyxia/work/DL-Hackathon/hackaton/checkpoints/D/model_D_epoch_32.pth\n"
     ]
    },
    {
     "name": "stderr",
     "output_type": "stream",
     "text": [
      "Iterating eval graphs: 100%|██████████| 65/65 [00:13<00:00,  4.76batch/s]\n",
      "Epoch 32/50, Loss: 0.3325, Train Acc: 0.7831, Val Acc: 0.7495\n",
      "Epoch 32/50, Loss: 0.3325, Train Acc: 0.7831, Val Acc: 0.7495\n",
      "Epoch 32/50, Loss: 0.3325, Train Acc: 0.7831, Val Acc: 0.7495\n",
      "Epoch 32/50, Loss: 0.3325, Train Acc: 0.7831, Val Acc: 0.7495\n"
     ]
    },
    {
     "name": "stdout",
     "output_type": "stream",
     "text": [
      "Epoch 32/50, Loss: 0.3325, Train Acc: 0.7831, Val Acc: 0.7495\n",
      "Best model updated and saved at /home/onyxia/work/DL-Hackathon/hackaton/checkpoints/model_D_best.pth\n"
     ]
    },
    {
     "name": "stderr",
     "output_type": "stream",
     "text": [
      "Iterating training graphs: 100%|██████████| 257/257 [01:03<00:00,  4.06batch/s]\n"
     ]
    },
    {
     "name": "stdout",
     "output_type": "stream",
     "text": [
      "Checkpoint saved at /home/onyxia/work/DL-Hackathon/hackaton/checkpoints/D/model_D_epoch_33.pth\n"
     ]
    },
    {
     "name": "stderr",
     "output_type": "stream",
     "text": [
      "Iterating eval graphs: 100%|██████████| 65/65 [00:13<00:00,  4.84batch/s]\n",
      "Epoch 33/50, Loss: 0.3323, Train Acc: 0.7884, Val Acc: 0.7408\n",
      "Epoch 33/50, Loss: 0.3323, Train Acc: 0.7884, Val Acc: 0.7408\n",
      "Epoch 33/50, Loss: 0.3323, Train Acc: 0.7884, Val Acc: 0.7408\n",
      "Epoch 33/50, Loss: 0.3323, Train Acc: 0.7884, Val Acc: 0.7408\n"
     ]
    },
    {
     "name": "stdout",
     "output_type": "stream",
     "text": [
      "Epoch 33/50, Loss: 0.3323, Train Acc: 0.7884, Val Acc: 0.7408\n"
     ]
    },
    {
     "name": "stderr",
     "output_type": "stream",
     "text": [
      "Iterating training graphs: 100%|██████████| 257/257 [01:04<00:00,  3.97batch/s]\n"
     ]
    },
    {
     "name": "stdout",
     "output_type": "stream",
     "text": [
      "Checkpoint saved at /home/onyxia/work/DL-Hackathon/hackaton/checkpoints/D/model_D_epoch_34.pth\n"
     ]
    },
    {
     "name": "stderr",
     "output_type": "stream",
     "text": [
      "Iterating eval graphs: 100%|██████████| 65/65 [00:13<00:00,  4.99batch/s]\n",
      "Epoch 34/50, Loss: 0.3223, Train Acc: 0.7926, Val Acc: 0.7315\n",
      "Epoch 34/50, Loss: 0.3223, Train Acc: 0.7926, Val Acc: 0.7315\n",
      "Epoch 34/50, Loss: 0.3223, Train Acc: 0.7926, Val Acc: 0.7315\n",
      "Epoch 34/50, Loss: 0.3223, Train Acc: 0.7926, Val Acc: 0.7315\n"
     ]
    },
    {
     "name": "stdout",
     "output_type": "stream",
     "text": [
      "Epoch 34/50, Loss: 0.3223, Train Acc: 0.7926, Val Acc: 0.7315\n"
     ]
    },
    {
     "name": "stderr",
     "output_type": "stream",
     "text": [
      "Iterating training graphs: 100%|██████████| 257/257 [01:05<00:00,  3.94batch/s]\n"
     ]
    },
    {
     "name": "stdout",
     "output_type": "stream",
     "text": [
      "Checkpoint saved at /home/onyxia/work/DL-Hackathon/hackaton/checkpoints/D/model_D_epoch_35.pth\n"
     ]
    },
    {
     "name": "stderr",
     "output_type": "stream",
     "text": [
      "Iterating eval graphs: 100%|██████████| 65/65 [00:14<00:00,  4.48batch/s]\n",
      "Epoch 35/50, Loss: 0.3225, Train Acc: 0.7916, Val Acc: 0.7330\n",
      "Epoch 35/50, Loss: 0.3225, Train Acc: 0.7916, Val Acc: 0.7330\n",
      "Epoch 35/50, Loss: 0.3225, Train Acc: 0.7916, Val Acc: 0.7330\n",
      "Epoch 35/50, Loss: 0.3225, Train Acc: 0.7916, Val Acc: 0.7330\n"
     ]
    },
    {
     "name": "stdout",
     "output_type": "stream",
     "text": [
      "Epoch 35/50, Loss: 0.3225, Train Acc: 0.7916, Val Acc: 0.7330\n"
     ]
    },
    {
     "name": "stderr",
     "output_type": "stream",
     "text": [
      "Iterating training graphs: 100%|██████████| 257/257 [01:04<00:00,  3.98batch/s]\n"
     ]
    },
    {
     "name": "stdout",
     "output_type": "stream",
     "text": [
      "Checkpoint saved at /home/onyxia/work/DL-Hackathon/hackaton/checkpoints/D/model_D_epoch_36.pth\n"
     ]
    },
    {
     "name": "stderr",
     "output_type": "stream",
     "text": [
      "Iterating eval graphs: 100%|██████████| 65/65 [00:13<00:00,  4.75batch/s]\n",
      "Epoch 36/50, Loss: 0.3240, Train Acc: 0.7894, Val Acc: 0.7417\n",
      "Epoch 36/50, Loss: 0.3240, Train Acc: 0.7894, Val Acc: 0.7417\n",
      "Epoch 36/50, Loss: 0.3240, Train Acc: 0.7894, Val Acc: 0.7417\n",
      "Epoch 36/50, Loss: 0.3240, Train Acc: 0.7894, Val Acc: 0.7417\n"
     ]
    },
    {
     "name": "stdout",
     "output_type": "stream",
     "text": [
      "Epoch 36/50, Loss: 0.3240, Train Acc: 0.7894, Val Acc: 0.7417\n"
     ]
    },
    {
     "name": "stderr",
     "output_type": "stream",
     "text": [
      "Iterating training graphs: 100%|██████████| 257/257 [01:04<00:00,  4.01batch/s]\n"
     ]
    },
    {
     "name": "stdout",
     "output_type": "stream",
     "text": [
      "Checkpoint saved at /home/onyxia/work/DL-Hackathon/hackaton/checkpoints/D/model_D_epoch_37.pth\n"
     ]
    },
    {
     "name": "stderr",
     "output_type": "stream",
     "text": [
      "Iterating eval graphs: 100%|██████████| 65/65 [00:13<00:00,  4.76batch/s]\n",
      "Epoch 37/50, Loss: 0.3148, Train Acc: 0.8001, Val Acc: 0.7237\n",
      "Epoch 37/50, Loss: 0.3148, Train Acc: 0.8001, Val Acc: 0.7237\n",
      "Epoch 37/50, Loss: 0.3148, Train Acc: 0.8001, Val Acc: 0.7237\n",
      "Epoch 37/50, Loss: 0.3148, Train Acc: 0.8001, Val Acc: 0.7237\n"
     ]
    },
    {
     "name": "stdout",
     "output_type": "stream",
     "text": [
      "Epoch 37/50, Loss: 0.3148, Train Acc: 0.8001, Val Acc: 0.7237\n"
     ]
    },
    {
     "name": "stderr",
     "output_type": "stream",
     "text": [
      "Iterating training graphs: 100%|██████████| 257/257 [01:02<00:00,  4.09batch/s]\n"
     ]
    },
    {
     "name": "stdout",
     "output_type": "stream",
     "text": [
      "Checkpoint saved at /home/onyxia/work/DL-Hackathon/hackaton/checkpoints/D/model_D_epoch_38.pth\n"
     ]
    },
    {
     "name": "stderr",
     "output_type": "stream",
     "text": [
      "Iterating eval graphs: 100%|██████████| 65/65 [00:12<00:00,  5.10batch/s]\n",
      "Epoch 38/50, Loss: 0.3169, Train Acc: 0.7974, Val Acc: 0.7111\n",
      "Epoch 38/50, Loss: 0.3169, Train Acc: 0.7974, Val Acc: 0.7111\n",
      "Epoch 38/50, Loss: 0.3169, Train Acc: 0.7974, Val Acc: 0.7111\n",
      "Epoch 38/50, Loss: 0.3169, Train Acc: 0.7974, Val Acc: 0.7111\n"
     ]
    },
    {
     "name": "stdout",
     "output_type": "stream",
     "text": [
      "Epoch 38/50, Loss: 0.3169, Train Acc: 0.7974, Val Acc: 0.7111\n"
     ]
    },
    {
     "name": "stderr",
     "output_type": "stream",
     "text": [
      "Iterating training graphs: 100%|██████████| 257/257 [01:02<00:00,  4.13batch/s]\n"
     ]
    },
    {
     "name": "stdout",
     "output_type": "stream",
     "text": [
      "Checkpoint saved at /home/onyxia/work/DL-Hackathon/hackaton/checkpoints/D/model_D_epoch_39.pth\n"
     ]
    },
    {
     "name": "stderr",
     "output_type": "stream",
     "text": [
      "Iterating eval graphs: 100%|██████████| 65/65 [00:13<00:00,  4.98batch/s]\n",
      "Epoch 39/50, Loss: 0.3172, Train Acc: 0.7924, Val Acc: 0.7403\n",
      "Epoch 39/50, Loss: 0.3172, Train Acc: 0.7924, Val Acc: 0.7403\n",
      "Epoch 39/50, Loss: 0.3172, Train Acc: 0.7924, Val Acc: 0.7403\n",
      "Epoch 39/50, Loss: 0.3172, Train Acc: 0.7924, Val Acc: 0.7403\n"
     ]
    },
    {
     "name": "stdout",
     "output_type": "stream",
     "text": [
      "Epoch 39/50, Loss: 0.3172, Train Acc: 0.7924, Val Acc: 0.7403\n"
     ]
    },
    {
     "name": "stderr",
     "output_type": "stream",
     "text": [
      "Iterating training graphs: 100%|██████████| 257/257 [01:00<00:00,  4.22batch/s]\n"
     ]
    },
    {
     "name": "stdout",
     "output_type": "stream",
     "text": [
      "Checkpoint saved at /home/onyxia/work/DL-Hackathon/hackaton/checkpoints/D/model_D_epoch_40.pth\n"
     ]
    },
    {
     "name": "stderr",
     "output_type": "stream",
     "text": [
      "Iterating eval graphs: 100%|██████████| 65/65 [00:12<00:00,  5.25batch/s]\n",
      "Epoch 40/50, Loss: 0.3147, Train Acc: 0.7951, Val Acc: 0.7412\n",
      "Epoch 40/50, Loss: 0.3147, Train Acc: 0.7951, Val Acc: 0.7412\n",
      "Epoch 40/50, Loss: 0.3147, Train Acc: 0.7951, Val Acc: 0.7412\n",
      "Epoch 40/50, Loss: 0.3147, Train Acc: 0.7951, Val Acc: 0.7412\n"
     ]
    },
    {
     "name": "stdout",
     "output_type": "stream",
     "text": [
      "Epoch 40/50, Loss: 0.3147, Train Acc: 0.7951, Val Acc: 0.7412\n"
     ]
    },
    {
     "name": "stderr",
     "output_type": "stream",
     "text": [
      "Iterating training graphs: 100%|██████████| 257/257 [01:01<00:00,  4.16batch/s]\n"
     ]
    },
    {
     "name": "stdout",
     "output_type": "stream",
     "text": [
      "Checkpoint saved at /home/onyxia/work/DL-Hackathon/hackaton/checkpoints/D/model_D_epoch_41.pth\n"
     ]
    },
    {
     "name": "stderr",
     "output_type": "stream",
     "text": [
      "Iterating eval graphs: 100%|██████████| 65/65 [00:13<00:00,  4.97batch/s]\n",
      "Epoch 41/50, Loss: 0.3067, Train Acc: 0.8009, Val Acc: 0.7417\n",
      "Epoch 41/50, Loss: 0.3067, Train Acc: 0.8009, Val Acc: 0.7417\n",
      "Epoch 41/50, Loss: 0.3067, Train Acc: 0.8009, Val Acc: 0.7417\n",
      "Epoch 41/50, Loss: 0.3067, Train Acc: 0.8009, Val Acc: 0.7417\n"
     ]
    },
    {
     "name": "stdout",
     "output_type": "stream",
     "text": [
      "Epoch 41/50, Loss: 0.3067, Train Acc: 0.8009, Val Acc: 0.7417\n"
     ]
    },
    {
     "name": "stderr",
     "output_type": "stream",
     "text": [
      "Iterating training graphs: 100%|██████████| 257/257 [01:01<00:00,  4.21batch/s]\n"
     ]
    },
    {
     "name": "stdout",
     "output_type": "stream",
     "text": [
      "Checkpoint saved at /home/onyxia/work/DL-Hackathon/hackaton/checkpoints/D/model_D_epoch_42.pth\n"
     ]
    },
    {
     "name": "stderr",
     "output_type": "stream",
     "text": [
      "Iterating eval graphs: 100%|██████████| 65/65 [00:31<00:00,  2.06batch/s]\n",
      "Epoch 42/50, Loss: 0.3091, Train Acc: 0.8030, Val Acc: 0.7286\n",
      "Epoch 42/50, Loss: 0.3091, Train Acc: 0.8030, Val Acc: 0.7286\n",
      "Epoch 42/50, Loss: 0.3091, Train Acc: 0.8030, Val Acc: 0.7286\n",
      "Epoch 42/50, Loss: 0.3091, Train Acc: 0.8030, Val Acc: 0.7286\n"
     ]
    },
    {
     "name": "stdout",
     "output_type": "stream",
     "text": [
      "Epoch 42/50, Loss: 0.3091, Train Acc: 0.8030, Val Acc: 0.7286\n"
     ]
    },
    {
     "name": "stderr",
     "output_type": "stream",
     "text": [
      "Iterating training graphs: 100%|██████████| 257/257 [01:00<00:00,  4.23batch/s]\n"
     ]
    },
    {
     "name": "stdout",
     "output_type": "stream",
     "text": [
      "Checkpoint saved at /home/onyxia/work/DL-Hackathon/hackaton/checkpoints/D/model_D_epoch_43.pth\n"
     ]
    },
    {
     "name": "stderr",
     "output_type": "stream",
     "text": [
      "Iterating eval graphs: 100%|██████████| 65/65 [00:13<00:00,  4.92batch/s]\n",
      "Epoch 43/50, Loss: 0.3033, Train Acc: 0.8039, Val Acc: 0.7369\n",
      "Epoch 43/50, Loss: 0.3033, Train Acc: 0.8039, Val Acc: 0.7369\n",
      "Epoch 43/50, Loss: 0.3033, Train Acc: 0.8039, Val Acc: 0.7369\n",
      "Epoch 43/50, Loss: 0.3033, Train Acc: 0.8039, Val Acc: 0.7369\n"
     ]
    },
    {
     "name": "stdout",
     "output_type": "stream",
     "text": [
      "Epoch 43/50, Loss: 0.3033, Train Acc: 0.8039, Val Acc: 0.7369\n"
     ]
    },
    {
     "name": "stderr",
     "output_type": "stream",
     "text": [
      "Iterating training graphs: 100%|██████████| 257/257 [01:00<00:00,  4.22batch/s]\n"
     ]
    },
    {
     "name": "stdout",
     "output_type": "stream",
     "text": [
      "Checkpoint saved at /home/onyxia/work/DL-Hackathon/hackaton/checkpoints/D/model_D_epoch_44.pth\n"
     ]
    },
    {
     "name": "stderr",
     "output_type": "stream",
     "text": [
      "Iterating eval graphs: 100%|██████████| 65/65 [00:12<00:00,  5.05batch/s]\n",
      "Epoch 44/50, Loss: 0.2979, Train Acc: 0.8065, Val Acc: 0.7101\n",
      "Epoch 44/50, Loss: 0.2979, Train Acc: 0.8065, Val Acc: 0.7101\n",
      "Epoch 44/50, Loss: 0.2979, Train Acc: 0.8065, Val Acc: 0.7101\n",
      "Epoch 44/50, Loss: 0.2979, Train Acc: 0.8065, Val Acc: 0.7101\n"
     ]
    },
    {
     "name": "stdout",
     "output_type": "stream",
     "text": [
      "Epoch 44/50, Loss: 0.2979, Train Acc: 0.8065, Val Acc: 0.7101\n"
     ]
    },
    {
     "name": "stderr",
     "output_type": "stream",
     "text": [
      "Iterating training graphs: 100%|██████████| 257/257 [01:01<00:00,  4.20batch/s]\n"
     ]
    },
    {
     "name": "stdout",
     "output_type": "stream",
     "text": [
      "Checkpoint saved at /home/onyxia/work/DL-Hackathon/hackaton/checkpoints/D/model_D_epoch_45.pth\n"
     ]
    },
    {
     "name": "stderr",
     "output_type": "stream",
     "text": [
      "Iterating eval graphs: 100%|██████████| 65/65 [00:13<00:00,  4.95batch/s]\n",
      "Epoch 45/50, Loss: 0.3018, Train Acc: 0.8020, Val Acc: 0.7155\n",
      "Epoch 45/50, Loss: 0.3018, Train Acc: 0.8020, Val Acc: 0.7155\n",
      "Epoch 45/50, Loss: 0.3018, Train Acc: 0.8020, Val Acc: 0.7155\n",
      "Epoch 45/50, Loss: 0.3018, Train Acc: 0.8020, Val Acc: 0.7155\n"
     ]
    },
    {
     "name": "stdout",
     "output_type": "stream",
     "text": [
      "Epoch 45/50, Loss: 0.3018, Train Acc: 0.8020, Val Acc: 0.7155\n"
     ]
    },
    {
     "name": "stderr",
     "output_type": "stream",
     "text": [
      "Iterating training graphs: 100%|██████████| 257/257 [01:01<00:00,  4.19batch/s]\n"
     ]
    },
    {
     "name": "stdout",
     "output_type": "stream",
     "text": [
      "Checkpoint saved at /home/onyxia/work/DL-Hackathon/hackaton/checkpoints/D/model_D_epoch_46.pth\n"
     ]
    },
    {
     "name": "stderr",
     "output_type": "stream",
     "text": [
      "Iterating eval graphs: 100%|██████████| 65/65 [00:12<00:00,  5.30batch/s]\n",
      "Epoch 46/50, Loss: 0.2999, Train Acc: 0.8084, Val Acc: 0.7267\n",
      "Epoch 46/50, Loss: 0.2999, Train Acc: 0.8084, Val Acc: 0.7267\n",
      "Epoch 46/50, Loss: 0.2999, Train Acc: 0.8084, Val Acc: 0.7267\n",
      "Epoch 46/50, Loss: 0.2999, Train Acc: 0.8084, Val Acc: 0.7267\n"
     ]
    },
    {
     "name": "stdout",
     "output_type": "stream",
     "text": [
      "Epoch 46/50, Loss: 0.2999, Train Acc: 0.8084, Val Acc: 0.7267\n"
     ]
    },
    {
     "name": "stderr",
     "output_type": "stream",
     "text": [
      "Iterating training graphs: 100%|██████████| 257/257 [01:01<00:00,  4.20batch/s]\n"
     ]
    },
    {
     "name": "stdout",
     "output_type": "stream",
     "text": [
      "Checkpoint saved at /home/onyxia/work/DL-Hackathon/hackaton/checkpoints/D/model_D_epoch_47.pth\n"
     ]
    },
    {
     "name": "stderr",
     "output_type": "stream",
     "text": [
      "Iterating eval graphs: 100%|██████████| 65/65 [00:12<00:00,  5.16batch/s]\n",
      "Epoch 47/50, Loss: 0.2936, Train Acc: 0.8099, Val Acc: 0.7505\n",
      "Epoch 47/50, Loss: 0.2936, Train Acc: 0.8099, Val Acc: 0.7505\n",
      "Epoch 47/50, Loss: 0.2936, Train Acc: 0.8099, Val Acc: 0.7505\n",
      "Epoch 47/50, Loss: 0.2936, Train Acc: 0.8099, Val Acc: 0.7505\n"
     ]
    },
    {
     "name": "stdout",
     "output_type": "stream",
     "text": [
      "Epoch 47/50, Loss: 0.2936, Train Acc: 0.8099, Val Acc: 0.7505\n",
      "Best model updated and saved at /home/onyxia/work/DL-Hackathon/hackaton/checkpoints/model_D_best.pth\n"
     ]
    },
    {
     "name": "stderr",
     "output_type": "stream",
     "text": [
      "Iterating training graphs: 100%|██████████| 257/257 [01:01<00:00,  4.16batch/s]\n"
     ]
    },
    {
     "name": "stdout",
     "output_type": "stream",
     "text": [
      "Checkpoint saved at /home/onyxia/work/DL-Hackathon/hackaton/checkpoints/D/model_D_epoch_48.pth\n"
     ]
    },
    {
     "name": "stderr",
     "output_type": "stream",
     "text": [
      "Iterating eval graphs: 100%|██████████| 65/65 [00:12<00:00,  5.17batch/s]\n",
      "Epoch 48/50, Loss: 0.2930, Train Acc: 0.8157, Val Acc: 0.7422\n",
      "Epoch 48/50, Loss: 0.2930, Train Acc: 0.8157, Val Acc: 0.7422\n",
      "Epoch 48/50, Loss: 0.2930, Train Acc: 0.8157, Val Acc: 0.7422\n",
      "Epoch 48/50, Loss: 0.2930, Train Acc: 0.8157, Val Acc: 0.7422\n"
     ]
    },
    {
     "name": "stdout",
     "output_type": "stream",
     "text": [
      "Epoch 48/50, Loss: 0.2930, Train Acc: 0.8157, Val Acc: 0.7422\n"
     ]
    },
    {
     "name": "stderr",
     "output_type": "stream",
     "text": [
      "Iterating training graphs: 100%|██████████| 257/257 [01:00<00:00,  4.21batch/s]\n"
     ]
    },
    {
     "name": "stdout",
     "output_type": "stream",
     "text": [
      "Checkpoint saved at /home/onyxia/work/DL-Hackathon/hackaton/checkpoints/D/model_D_epoch_49.pth\n"
     ]
    },
    {
     "name": "stderr",
     "output_type": "stream",
     "text": [
      "Iterating eval graphs: 100%|██████████| 65/65 [00:12<00:00,  5.27batch/s]\n",
      "Epoch 49/50, Loss: 0.2876, Train Acc: 0.8161, Val Acc: 0.7087\n",
      "Epoch 49/50, Loss: 0.2876, Train Acc: 0.8161, Val Acc: 0.7087\n",
      "Epoch 49/50, Loss: 0.2876, Train Acc: 0.8161, Val Acc: 0.7087\n",
      "Epoch 49/50, Loss: 0.2876, Train Acc: 0.8161, Val Acc: 0.7087\n"
     ]
    },
    {
     "name": "stdout",
     "output_type": "stream",
     "text": [
      "Epoch 49/50, Loss: 0.2876, Train Acc: 0.8161, Val Acc: 0.7087\n"
     ]
    },
    {
     "name": "stderr",
     "output_type": "stream",
     "text": [
      "Iterating training graphs: 100%|██████████| 257/257 [01:01<00:00,  4.20batch/s]\n"
     ]
    },
    {
     "name": "stdout",
     "output_type": "stream",
     "text": [
      "Checkpoint saved at /home/onyxia/work/DL-Hackathon/hackaton/checkpoints/D/model_D_epoch_50.pth\n"
     ]
    },
    {
     "name": "stderr",
     "output_type": "stream",
     "text": [
      "Iterating eval graphs: 100%|██████████| 65/65 [00:12<00:00,  5.22batch/s]\n",
      "Epoch 50/50, Loss: 0.2818, Train Acc: 0.8198, Val Acc: 0.7174\n",
      "Epoch 50/50, Loss: 0.2818, Train Acc: 0.8198, Val Acc: 0.7174\n",
      "Epoch 50/50, Loss: 0.2818, Train Acc: 0.8198, Val Acc: 0.7174\n",
      "Epoch 50/50, Loss: 0.2818, Train Acc: 0.8198, Val Acc: 0.7174\n"
     ]
    },
    {
     "name": "stdout",
     "output_type": "stream",
     "text": [
      "Epoch 50/50, Loss: 0.2818, Train Acc: 0.8198, Val Acc: 0.7174\n"
     ]
    }
   ],
   "source": [
    "if args.train_path:\n",
    "    full_dataset = GraphDataset(args.train_path, transform=add_zeros)\n",
    "    val_size = int(0.2 * len(full_dataset))\n",
    "    train_size = len(full_dataset) - val_size\n",
    "    \n",
    "    generator = torch.Generator().manual_seed(12)\n",
    "    train_dataset, val_dataset = random_split(full_dataset, [train_size, val_size], generator=generator)\n",
    "\n",
    "    train_loader = DataLoader(train_dataset, batch_size=args.batch_size, shuffle=True)\n",
    "    val_loader = DataLoader(val_dataset, batch_size=args.batch_size, shuffle=False)\n",
    "\n",
    "    num_epochs = args.epochs\n",
    "    best_val_accuracy = 0.0   \n",
    "\n",
    "    train_losses = []\n",
    "    train_accuracies = []\n",
    "    val_losses = []\n",
    "    val_accuracies = []\n",
    "\n",
    "    if num_checkpoints > 1:\n",
    "        checkpoint_intervals = [int((i + 1) * num_epochs / num_checkpoints) for i in range(num_checkpoints)]\n",
    "    else:\n",
    "        checkpoint_intervals = [num_epochs]\n",
    "\n",
    "    for epoch in range(num_epochs):\n",
    "        train_loss, train_acc = train(\n",
    "            train_loader, model, optimizer, criterion, device,\n",
    "            save_checkpoints=(epoch + 1 in checkpoint_intervals),\n",
    "            checkpoint_path=os.path.join(checkpoints_folder, f\"model_{test_dir_name}\"),\n",
    "            current_epoch=epoch\n",
    "        )\n",
    "\n",
    "        val_loss,val_acc = evaluate(val_loader, model, device, calculate_accuracy=True)\n",
    "\n",
    "        print(f\"Epoch {epoch + 1}/{num_epochs}, Loss: {train_loss:.4f}, Train Acc: {train_acc:.4f}, Val Acc: {val_acc:.4f}\")\n",
    "        logging.info(f\"Epoch {epoch + 1}/{num_epochs}, Loss: {train_loss:.4f}, Train Acc: {train_acc:.4f}, Val Acc: {val_acc:.4f}\")\n",
    "\n",
    "        train_losses.append(train_loss)\n",
    "        train_accuracies.append(train_acc)\n",
    "        val_losses.append(val_loss)\n",
    "        val_accuracies.append(val_acc)\n",
    "\n",
    "        \n",
    "        if val_acc > best_val_accuracy:\n",
    "            best_val_accuracy = val_acc\n",
    "            torch.save(model.state_dict(), checkpoint_path)\n",
    "            print(f\"Best model updated and saved at {checkpoint_path}\")\n",
    "\n",
    "    plot_training_progress(train_losses, train_accuracies, os.path.join(logs_folder, \"plots\"))\n",
    "    plot_training_progress(val_losses, val_accuracies, os.path.join(logs_folder, \"plotsVal\"))"
   ]
  },
  {
   "cell_type": "code",
   "execution_count": 43,
   "id": "ddcb6238-3cbe-46e2-9874-e45dd2c6e330",
   "metadata": {
    "papermill": {
     "duration": null,
     "end_time": null,
     "exception": null,
     "start_time": null,
     "status": "pending"
    },
    "tags": []
   },
   "outputs": [
    {
     "data": {
      "text/plain": [
       "11961"
      ]
     },
     "execution_count": 43,
     "metadata": {},
     "output_type": "execute_result"
    }
   ],
   "source": [
    "import gc\n",
    "del train_dataset\n",
    "del train_loader\n",
    "del full_dataset\n",
    "del val_dataset\n",
    "del val_loader\n",
    "gc.collect()"
   ]
  },
  {
   "cell_type": "code",
   "execution_count": 44,
   "id": "8a300649-0094-426a-96b7-dfc77257b36c",
   "metadata": {
    "id": "xsXZIj4Mdu3I",
    "papermill": {
     "duration": null,
     "end_time": null,
     "exception": null,
     "start_time": null,
     "status": "pending"
    },
    "tags": []
   },
   "outputs": [],
   "source": [
    "test_dataset = GraphDataset(args.test_path, transform=add_zeros)\n",
    "test_loader = DataLoader(test_dataset, batch_size=args.batch_size, shuffle=False)\n",
    "    "
   ]
  },
  {
   "cell_type": "code",
   "execution_count": 45,
   "id": "3c333536-7d7c-4165-babe-375488fe9a64",
   "metadata": {
    "id": "x1OnGq_nCmTr",
    "papermill": {
     "duration": null,
     "end_time": null,
     "exception": null,
     "start_time": null,
     "status": "pending"
    },
    "tags": []
   },
   "outputs": [
    {
     "name": "stderr",
     "output_type": "stream",
     "text": [
      "Iterating eval graphs: 100%|██████████| 71/71 [00:12<00:00,  5.53batch/s]"
     ]
    },
    {
     "name": "stdout",
     "output_type": "stream",
     "text": [
      "Predictions saved to /home/onyxia/work/DL-Hackathon/hackaton/submission/testset_D.csv\n"
     ]
    },
    {
     "name": "stderr",
     "output_type": "stream",
     "text": [
      "\n"
     ]
    }
   ],
   "source": [
    "model.load_state_dict(torch.load(checkpoint_path))\n",
    "predictions = evaluate(test_loader, model, device, calculate_accuracy=False)\n",
    "save_predictions(predictions, args.test_path)"
   ]
  },
  {
   "cell_type": "code",
   "execution_count": null,
   "id": "ec812922-a153-4b61-9d6f-0b18b22c7739",
   "metadata": {},
   "outputs": [],
   "source": []
  },
  {
   "cell_type": "code",
   "execution_count": null,
   "id": "c6efe512-3b3f-4aaf-9620-29f3cf7355f6",
   "metadata": {},
   "outputs": [],
   "source": []
  },
  {
   "cell_type": "code",
   "execution_count": null,
   "id": "976b86e9-af08-4da8-ac7d-fcddfd650c8e",
   "metadata": {},
   "outputs": [],
   "source": []
  },
  {
   "cell_type": "code",
   "execution_count": null,
   "id": "3303b437-4799-4a8c-b515-14c0a3c60a39",
   "metadata": {},
   "outputs": [],
   "source": []
  },
  {
   "cell_type": "code",
   "execution_count": 57,
   "id": "4f1594ef-0f72-4716-b53f-8da074eae4d5",
   "metadata": {
    "papermill": {
     "duration": null,
     "end_time": null,
     "exception": null,
     "start_time": null,
     "status": "pending"
    },
    "tags": []
   },
   "outputs": [
    {
     "name": "stdout",
     "output_type": "stream",
     "text": [
      "Folder '/home/onyxia/work/DL-Hackathon/hackaton/logs' has been compressed into '/home/onyxia/work/DL-Hackathon/hackaton/logs.gz'\n"
     ]
    }
   ],
   "source": [
    "import tarfile\n",
    "import os\n",
    "\n",
    "def gzip_folder(folder_path, output_file):\n",
    "    \"\"\"\n",
    "    Compresses an entire folder into a single .tar.gz file.\n",
    "\n",
    "    Args:\n",
    "        folder_path (str): Path to the folder to compress.\n",
    "        output_file (str): Path to the output .gz file.\n",
    "    \"\"\"\n",
    "    with tarfile.open(output_file, \"w:gz\") as tar:\n",
    "        tar.add(folder_path, arcname=os.path.basename(folder_path))\n",
    "    print(f\"Folder '{folder_path}' has been compressed into '{output_file}'\")\n",
    "\n",
    "# Example usage\n",
    "folder_path = \"/home/onyxia/work/DL-Hackathon/hackaton/logs\"            # Path to the folder you want to compress\n",
    "output_file = \"/home/onyxia/work/DL-Hackathon/hackaton/logs.gz\"        # Output .gz file name\n",
    "gzip_folder(folder_path, output_file)"
   ]
  },
  {
   "cell_type": "code",
   "execution_count": 58,
   "id": "2fbdc8fc-d540-4e42-8614-c96433553847",
   "metadata": {},
   "outputs": [
    {
     "name": "stdout",
     "output_type": "stream",
     "text": [
      "Folder '/home/onyxia/work/DL-Hackathon/hackaton/submission' has been compressed into '/home/onyxia/work/DL-Hackathon/hackaton/submission.gz'\n"
     ]
    }
   ],
   "source": [
    "# Example usage\n",
    "folder_path = \"/home/onyxia/work/DL-Hackathon/hackaton/submission\"            # Path to the folder you want to compress\n",
    "output_file = \"/home/onyxia/work/DL-Hackathon/hackaton/submission.gz\"        # Output .gz file name\n",
    "gzip_folder(folder_path, output_file)"
   ]
  },
  {
   "cell_type": "code",
   "execution_count": 59,
   "id": "263e876c-255a-45da-be29-813ad63210af",
   "metadata": {},
   "outputs": [
    {
     "name": "stdout",
     "output_type": "stream",
     "text": [
      "Folder '/home/onyxia/work/DL-Hackathon/hackaton/checkpoints' has been compressed into '/home/onyxia/work/DL-Hackathon/hackaton/checkpoints.gz'\n"
     ]
    }
   ],
   "source": [
    "# Example usage\n",
    "folder_path = \"/home/onyxia/work/DL-Hackathon/hackaton/checkpoints\"            # Path to the folder you want to compress\n",
    "output_file = \"/home/onyxia/work/DL-Hackathon/hackaton/checkpoints.gz\"        # Output .gz file name\n",
    "gzip_folder(folder_path, output_file)"
   ]
  },
  {
   "cell_type": "code",
   "execution_count": null,
   "id": "e019da58-7886-4480-87b3-12c0edfa5a8c",
   "metadata": {},
   "outputs": [],
   "source": []
  }
 ],
 "metadata": {
  "accelerator": "GPU",
  "colab": {
   "gpuType": "T4",
   "provenance": []
  },
  "kaggle": {
   "accelerator": "gpu",
   "dataSources": [],
   "dockerImageVersionId": 30919,
   "isGpuEnabled": true,
   "isInternetEnabled": true,
   "language": "python",
   "sourceType": "notebook"
  },
  "kernelspec": {
   "display_name": "Python 3 (ipykernel)",
   "language": "python",
   "name": "python3"
  },
  "language_info": {
   "codemirror_mode": {
    "name": "ipython",
    "version": 3
   },
   "file_extension": ".py",
   "mimetype": "text/x-python",
   "name": "python",
   "nbconvert_exporter": "python",
   "pygments_lexer": "ipython3",
   "version": "3.12.9"
  },
  "papermill": {
   "default_parameters": {},
   "duration": 108.457758,
   "end_time": "2025-05-21T16:25:04.482169",
   "environment_variables": {},
   "exception": true,
   "input_path": "__notebook__.ipynb",
   "output_path": "__notebook__.ipynb",
   "parameters": {},
   "start_time": "2025-05-21T16:23:16.024411",
   "version": "2.6.0"
  }
 },
 "nbformat": 4,
 "nbformat_minor": 5
}
