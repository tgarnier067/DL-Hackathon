{
 "cells": [
  {
   "cell_type": "code",
   "execution_count": 1,
   "id": "6228bc1c",
   "metadata": {
    "id": "xSkgt1zf-raF",
    "outputId": "59f4a52f-5eb4-41e5-9fba-07432989fe78",
    "papermill": {
     "duration": 5.620104,
     "end_time": "2025-05-21T16:23:24.361690",
     "exception": false,
     "start_time": "2025-05-21T16:23:18.741586",
     "status": "completed"
    },
    "tags": []
   },
   "outputs": [],
   "source": [
    "!pip install torch_geometric torch gdown --quiet"
   ]
  },
  {
   "cell_type": "code",
   "execution_count": null,
   "id": "c86aceda",
   "metadata": {
    "id": "5oR2D2Us-xSQ",
    "outputId": "7086cadf-a7fe-4d75-f271-6339bee8164d",
    "papermill": {
     "duration": 4.049235,
     "end_time": "2025-05-21T16:23:28.415556",
     "exception": false,
     "start_time": "2025-05-21T16:23:24.366321",
     "status": "completed"
    },
    "tags": []
   },
   "outputs": [],
   "source": [
    "!git clone --branch baselineCe https://github.com/Graph-Classification-Noisy-Label/hackaton.git"
   ]
  },
  {
   "cell_type": "code",
   "execution_count": 2,
   "id": "c129091c",
   "metadata": {
    "id": "tEhfPly6-7UK",
    "outputId": "3078ee06-6312-4fca-f5f9-888fa628c80a",
    "papermill": {
     "duration": 0.013251,
     "end_time": "2025-05-21T16:23:28.434119",
     "exception": false,
     "start_time": "2025-05-21T16:23:28.420868",
     "status": "completed"
    },
    "tags": []
   },
   "outputs": [
    {
     "name": "stdout",
     "output_type": "stream",
     "text": [
      "/home/onyxia/work/DL-Hackathon/hackaton\n"
     ]
    }
   ],
   "source": [
    "%cd hackaton/"
   ]
  },
  {
   "cell_type": "code",
   "execution_count": null,
   "id": "d48103c0",
   "metadata": {
    "id": "PxBvwB0_6xI8",
    "outputId": "5933387c-2cfb-474f-d842-f36a3e2d2a73",
    "papermill": {
     "duration": 83.957666,
     "end_time": "2025-05-21T16:24:52.396720",
     "exception": false,
     "start_time": "2025-05-21T16:23:28.439054",
     "status": "completed"
    },
    "tags": []
   },
   "outputs": [],
   "source": [
    "!gdown --folder https://drive.google.com/drive/folders/1Z-1JkPJ6q4C6jX4brvq1VRbJH5RPUCAk -O datasets\n"
   ]
  },
  {
   "cell_type": "code",
   "execution_count": 3,
   "id": "80dab1bc",
   "metadata": {
    "id": "1rockhiQ7Nny",
    "outputId": "2cd2e6f4-5f8f-4a62-f0ec-53e6fc78c9b7",
    "papermill": {
     "duration": 0.138969,
     "end_time": "2025-05-21T16:24:52.549260",
     "exception": false,
     "start_time": "2025-05-21T16:24:52.410291",
     "status": "completed"
    },
    "tags": []
   },
   "outputs": [
    {
     "name": "stdout",
     "output_type": "stream",
     "text": [
      "total 16K\n",
      "drwxr-sr-x 2 onyxia users 4.0K May 25 17:03 A\n",
      "drwxr-sr-x 2 onyxia users 4.0K May 25 17:03 B\n",
      "drwxr-sr-x 2 onyxia users 4.0K May 25 17:04 C\n",
      "drwxr-sr-x 2 onyxia users 4.0K May 25 17:04 D\n"
     ]
    }
   ],
   "source": [
    "!ls -lh datasets"
   ]
  },
  {
   "cell_type": "code",
   "execution_count": 4,
   "id": "817b1078",
   "metadata": {
    "id": "lAQuCuIoBbq5",
    "papermill": {
     "duration": 9.949638,
     "end_time": "2025-05-21T16:25:02.510764",
     "exception": false,
     "start_time": "2025-05-21T16:24:52.561126",
     "status": "completed"
    },
    "tags": []
   },
   "outputs": [],
   "source": [
    "import os\n",
    "import torch\n",
    "import pandas as pd\n",
    "import matplotlib.pyplot as plt\n",
    "import logging\n",
    "from tqdm import tqdm\n",
    "from torch_geometric.loader import DataLoader\n",
    "from torch.utils.data import random_split\n",
    "# Load utility functions from cloned repository\n",
    "from src.loadData import GraphDataset\n",
    "from src.utils import set_seed\n",
    "from src.models import GNN\n",
    "import argparse\n",
    "import torch.nn.functional as F\n",
    "\n",
    "# Set the random seed\n",
    "set_seed()\n"
   ]
  },
  {
   "cell_type": "code",
   "execution_count": 5,
   "id": "0a9c70d7",
   "metadata": {
    "id": "Dyf0I2-t9IcW",
    "papermill": {
     "duration": 0.019268,
     "end_time": "2025-05-21T16:25:02.544583",
     "exception": false,
     "start_time": "2025-05-21T16:25:02.525315",
     "status": "completed"
    },
    "tags": []
   },
   "outputs": [],
   "source": [
    "def add_zeros(data):\n",
    "    data.x = torch.zeros(data.num_nodes, dtype=torch.long)\n",
    "    return data"
   ]
  },
  {
   "cell_type": "code",
   "execution_count": 6,
   "id": "3622cfa1",
   "metadata": {
    "id": "3jKvoQYI9Zbc",
    "papermill": {
     "duration": 0.019599,
     "end_time": "2025-05-21T16:25:02.577661",
     "exception": false,
     "start_time": "2025-05-21T16:25:02.558062",
     "status": "completed"
    },
    "tags": []
   },
   "outputs": [],
   "source": [
    "def train(data_loader, model, optimizer, criterion, device, save_checkpoints, checkpoint_path, current_epoch):\n",
    "    model.train()\n",
    "    total_loss = 0\n",
    "    correct = 0\n",
    "    total = 0\n",
    "    for data in tqdm(data_loader, desc=\"Iterating training graphs\", unit=\"batch\"):\n",
    "        data = data.to(device)\n",
    "        optimizer.zero_grad()\n",
    "        output = model(data)\n",
    "        loss = criterion(output, data.y)\n",
    "        loss.backward()\n",
    "        optimizer.step()\n",
    "        total_loss += loss.item()\n",
    "        pred = output.argmax(dim=1)\n",
    "        correct += (pred == data.y).sum().item()\n",
    "        total += data.y.size(0)\n",
    "\n",
    "    # Save checkpoints if required\n",
    "    if save_checkpoints:\n",
    "        checkpoint_file = f\"{checkpoint_path}_epoch_{current_epoch + 1}.pth\"\n",
    "        torch.save(model.state_dict(), checkpoint_file)\n",
    "        print(f\"Checkpoint saved at {checkpoint_file}\")\n",
    "\n",
    "    return total_loss / len(data_loader),  correct / total"
   ]
  },
  {
   "cell_type": "code",
   "execution_count": 7,
   "id": "6139b912",
   "metadata": {
    "id": "8peFiIS19ZpK",
    "papermill": {
     "duration": 0.017908,
     "end_time": "2025-05-21T16:25:02.607848",
     "exception": false,
     "start_time": "2025-05-21T16:25:02.589940",
     "status": "completed"
    },
    "tags": []
   },
   "outputs": [],
   "source": [
    "def evaluate(data_loader, model, device, calculate_accuracy=False):\n",
    "    model.eval()\n",
    "    correct = 0\n",
    "    total = 0\n",
    "    predictions = []\n",
    "    total_loss = 0\n",
    "    criterion = torch.nn.CrossEntropyLoss()\n",
    "    with torch.no_grad():\n",
    "        for data in tqdm(data_loader, desc=\"Iterating eval graphs\", unit=\"batch\"):\n",
    "            data = data.to(device)\n",
    "            output = model(data)\n",
    "            pred = output.argmax(dim=1)\n",
    "            \n",
    "            if calculate_accuracy:\n",
    "                correct += (pred == data.y).sum().item()\n",
    "                total += data.y.size(0)\n",
    "                total_loss += criterion(output, data.y).item()\n",
    "            else:\n",
    "                predictions.extend(pred.cpu().numpy())\n",
    "    if calculate_accuracy:\n",
    "        accuracy = correct / total\n",
    "        return  total_loss / len(data_loader),accuracy\n",
    "    return predictions"
   ]
  },
  {
   "cell_type": "code",
   "execution_count": 8,
   "id": "fbdbd871",
   "metadata": {
    "id": "WanuZKxy9Zs-",
    "papermill": {
     "duration": 0.016728,
     "end_time": "2025-05-21T16:25:02.635694",
     "exception": false,
     "start_time": "2025-05-21T16:25:02.618966",
     "status": "completed"
    },
    "tags": []
   },
   "outputs": [],
   "source": [
    "def save_predictions(predictions, test_path):\n",
    "    script_dir = os.getcwd() \n",
    "    submission_folder = os.path.join(script_dir, \"submission\")\n",
    "    test_dir_name = os.path.basename(os.path.dirname(test_path))\n",
    "    \n",
    "    os.makedirs(submission_folder, exist_ok=True)\n",
    "    \n",
    "    output_csv_path = os.path.join(submission_folder, f\"testset_{test_dir_name}.csv\")\n",
    "    \n",
    "    test_graph_ids = list(range(len(predictions)))\n",
    "    output_df = pd.DataFrame({\n",
    "        \"id\": test_graph_ids,\n",
    "        \"pred\": predictions\n",
    "    })\n",
    "    \n",
    "    output_df.to_csv(output_csv_path, index=False)\n",
    "    print(f\"Predictions saved to {output_csv_path}\")"
   ]
  },
  {
   "cell_type": "code",
   "execution_count": 9,
   "id": "fc3d24da",
   "metadata": {
    "id": "uyHIJS5U9ZzB",
    "papermill": {
     "duration": 0.017765,
     "end_time": "2025-05-21T16:25:02.664538",
     "exception": false,
     "start_time": "2025-05-21T16:25:02.646773",
     "status": "completed"
    },
    "tags": []
   },
   "outputs": [],
   "source": [
    "def plot_training_progress(train_losses, train_accuracies, output_dir):\n",
    "    epochs = range(1, len(train_losses) + 1)\n",
    "    plt.figure(figsize=(12, 6))\n",
    "\n",
    "    # Plot loss\n",
    "    plt.subplot(1, 2, 1)\n",
    "    plt.plot(epochs, train_losses, label=\"Training Loss\", color='blue')\n",
    "    plt.xlabel('Epoch')\n",
    "    plt.ylabel('Loss')\n",
    "    plt.title('Training Loss per Epoch')\n",
    "\n",
    "    # Plot accuracy\n",
    "    plt.subplot(1, 2, 2)\n",
    "    plt.plot(epochs, train_accuracies, label=\"Training Accuracy\", color='green')\n",
    "    plt.xlabel('Epoch')\n",
    "    plt.ylabel('Accuracy')\n",
    "    plt.title('Training Accuracy per Epoch')\n",
    "\n",
    "    # Save plots in the current directory\n",
    "    os.makedirs(output_dir, exist_ok=True)\n",
    "    plt.tight_layout()\n",
    "    plt.savefig(os.path.join(output_dir, \"training_progress.png\"))\n",
    "    plt.close()"
   ]
  },
  {
   "cell_type": "code",
   "execution_count": 10,
   "id": "22574fa5",
   "metadata": {
    "papermill": {
     "duration": 0.016577,
     "end_time": "2025-05-21T16:25:02.692205",
     "exception": false,
     "start_time": "2025-05-21T16:25:02.675628",
     "status": "completed"
    },
    "tags": []
   },
   "outputs": [],
   "source": [
    "def get_user_input(prompt, default=None, required=False, type_cast=str):\n",
    "\n",
    "    while True:\n",
    "        user_input = input(f\"{prompt} [{default}]: \")\n",
    "        \n",
    "        if user_input == \"\" and required:\n",
    "            print(\"This field is required. Please enter a value.\")\n",
    "            continue\n",
    "        \n",
    "        if user_input == \"\" and default is not None:\n",
    "            return default\n",
    "        \n",
    "        if user_input == \"\" and not required:\n",
    "            return None\n",
    "        \n",
    "        try:\n",
    "            return type_cast(user_input)\n",
    "        except ValueError:\n",
    "            print(f\"Invalid input. Please enter a valid {type_cast.__name__}.\")"
   ]
  },
  {
   "cell_type": "code",
   "execution_count": 11,
   "id": "139e88b2",
   "metadata": {
    "papermill": {
     "duration": 0.017703,
     "end_time": "2025-05-21T16:25:02.721184",
     "exception": false,
     "start_time": "2025-05-21T16:25:02.703481",
     "status": "completed"
    },
    "tags": []
   },
   "outputs": [],
   "source": [
    "def get_arguments():\n",
    "    args = {}\n",
    "    args['train_path'] = get_user_input(\"Path to the training dataset (optional)\")\n",
    "    args['test_path'] = get_user_input(\"Path to the test dataset\", required=True)\n",
    "    args['num_checkpoints'] = get_user_input(\"Number of checkpoints to save during training\", type_cast=int)\n",
    "    args['device'] = get_user_input(\"Which GPU to use if any\", default=1, type_cast=int)\n",
    "    args['gnn'] = get_user_input(\"GNN type (gin, gin-virtual, gcn, gcn-virtual)\", default='gin')\n",
    "    args['res'] = get_user_input(\"Residuals in GNN ? (1 yes, 0 no)\", default=0)\n",
    "    args['drop_ratio'] = get_user_input(\"Dropout ratio\", default=0.0, type_cast=float)\n",
    "    args['num_layer'] = get_user_input(\"Number of GNN message passing layers\", default=5, type_cast=int)\n",
    "    args['emb_dim'] = get_user_input(\"Dimensionality of hidden units in GNNs\", default=300, type_cast=int)\n",
    "    args['batch_size'] = get_user_input(\"Input batch size for training\", default=32, type_cast=int)\n",
    "    args['epochs'] = get_user_input(\"Number of epochs to train\", default=10, type_cast=int)\n",
    "    args['baseline_mode'] = get_user_input(\"Baseline mode: 1 (CE), 2 (Noisy CE)\", default=1, type_cast=int)\n",
    "    args['noise_prob'] = get_user_input(\"Noise probability p (used if baseline_mode=2)\", default=0.2, type_cast=float)\n",
    "    args['forget_rate'] = get_user_input(\"Forget rate for co teaching\", default=0.2, type_cast=float)\n",
    "    args['pooling'] = get_user_input(\"type of pooling (sum, mean, max, attention, set2set)\", default='mean')\n",
    "    \n",
    "    return argparse.Namespace(**args)"
   ]
  },
  {
   "cell_type": "code",
   "execution_count": 12,
   "id": "45bffa19",
   "metadata": {
    "papermill": {
     "duration": 0.118164,
     "end_time": "2025-05-21T16:25:02.850799",
     "exception": true,
     "start_time": "2025-05-21T16:25:02.732635",
     "status": "failed"
    },
    "tags": []
   },
   "outputs": [
    {
     "name": "stdin",
     "output_type": "stream",
     "text": [
      "Path to the training dataset (optional) [None]:  datasets/D/train.json.gz\n",
      "Path to the test dataset [None]:  datasets/D/test.json.gz\n",
      "Number of checkpoints to save during training [None]:  30\n",
      "Which GPU to use if any [1]:  \n",
      "GNN type (gin, gin-virtual, gcn, gcn-virtual) [gin]:  gcn\n",
      "Residuals in GNN ? (1 yes, 0 no) [0]:  1\n",
      "Dropout ratio [0.0]:  0.5\n",
      "Number of GNN message passing layers [5]:  \n",
      "Dimensionality of hidden units in GNNs [300]:  \n",
      "Input batch size for training [32]:  \n",
      "Number of epochs to train [10]:  30\n",
      "Baseline mode: 1 (CE), 2 (Noisy CE) [1]:  \n",
      "Noise probability p (used if baseline_mode=2) [0.2]:  \n",
      "Forget rate for co teaching [0.2]:  0.4\n",
      "type of pooling (sum, mean, max, attention, set2set) [mean]:  \n"
     ]
    },
    {
     "name": "stdout",
     "output_type": "stream",
     "text": [
      "Arguments received:\n",
      "train_path: datasets/D/train.json.gz\n",
      "test_path: datasets/D/test.json.gz\n",
      "num_checkpoints: 30\n",
      "device: 1\n",
      "gnn: gcn\n",
      "res: 1\n",
      "drop_ratio: 0.5\n",
      "num_layer: 5\n",
      "emb_dim: 300\n",
      "batch_size: 32\n",
      "epochs: 30\n",
      "baseline_mode: 1\n",
      "noise_prob: 0.2\n",
      "forget_rate: 0.4\n",
      "pooling: mean\n"
     ]
    }
   ],
   "source": [
    "def populate_args(args):\n",
    "    print(\"Arguments received:\")\n",
    "    for key, value in vars(args).items():\n",
    "        print(f\"{key}: {value}\")\n",
    "args = get_arguments()\n",
    "populate_args(args)"
   ]
  },
  {
   "cell_type": "code",
   "execution_count": 13,
   "id": "09b57d62",
   "metadata": {
    "papermill": {
     "duration": null,
     "end_time": null,
     "exception": null,
     "start_time": null,
     "status": "pending"
    },
    "tags": []
   },
   "outputs": [],
   "source": [
    "class NoisyCrossEntropyLoss(torch.nn.Module):\n",
    "    def __init__(self, p_noisy):\n",
    "        super().__init__()\n",
    "        self.p = p_noisy\n",
    "        self.ce = torch.nn.CrossEntropyLoss(reduction='none')\n",
    "\n",
    "    def forward(self, logits, targets):\n",
    "        losses = self.ce(logits, targets)\n",
    "        weights = (1 - self.p) + self.p * (1 - torch.nn.functional.one_hot(targets, num_classes=logits.size(1)).float().sum(dim=1))\n",
    "        return (losses * weights).mean()"
   ]
  },
  {
   "cell_type": "code",
   "execution_count": 14,
   "id": "f58745df",
   "metadata": {
    "id": "lHX55XGECXBr",
    "papermill": {
     "duration": null,
     "end_time": null,
     "exception": null,
     "start_time": null,
     "status": "pending"
    },
    "tags": []
   },
   "outputs": [],
   "source": [
    "script_dir = os.getcwd() \n",
    "# device = torch.device(f\"cuda:{args.device}\" if torch.cuda.is_available() else \"cpu\")\n",
    "device = torch.device(\"cuda\" if torch.cuda.is_available() else \"cpu\")\n",
    "num_checkpoints = args.num_checkpoints if args.num_checkpoints else 3\n",
    "    \n",
    "# Création des deux modèles pour Co-Teaching\n",
    "def build_model():\n",
    "    if args.gnn == 'gin':\n",
    "        return GNN(gnn_type='gin', num_class=6, num_layer=args.num_layer, emb_dim=args.emb_dim, drop_ratio=args.drop_ratio, virtual_node=False, residual = True if args.res == 1 else False, graph_pooling=args.pooling).to(device)\n",
    "    elif args.gnn == 'gin-virtual':\n",
    "        return GNN(gnn_type='gin-virtual', num_class=6, num_layer=args.num_layer, emb_dim=args.emb_dim, drop_ratio=args.drop_ratio, virtual_node=True, residual = True if args.res == 1 else False, graph_pooling=args.pooling).to(device)\n",
    "    elif args.gnn == 'gcn':\n",
    "        return GNN(gnn_type='gcn', num_class=6, num_layer=args.num_layer, emb_dim=args.emb_dim, drop_ratio=args.drop_ratio, virtual_node=False, residual = True if args.res == 1 else False, graph_pooling=args.pooling).to(device)\n",
    "    elif args.gnn == 'gcn-virtual':\n",
    "        return GNN(gnn_type='gcn-virtual', num_class=6, num_layer=args.num_layer, emb_dim=args.emb_dim, drop_ratio=args.drop_ratio, virtual_node=True, residual = True if args.res == 1 else False, graph_pooling=args.pooling).to(device)\n",
    "    else:\n",
    "        raise ValueError('Invalid GNN type')\n",
    "\n",
    "# Initialise les deux modèles\n",
    "model1 = build_model()\n",
    "model2 = build_model()\n",
    "\n",
    "# Deux optimiseurs séparés\n",
    "optimizer1 = torch.optim.Adam(model1.parameters(), lr=0.001)\n",
    "optimizer2 = torch.optim.Adam(model2.parameters(), lr=0.001)\n",
    "\n",
    "# Critère (possiblement bruité)\n",
    "if args.baseline_mode == 2:\n",
    "    criterion = NoisyCrossEntropyLoss(args.noise_prob)\n",
    "else:\n",
    "    criterion = torch.nn.CrossEntropyLoss()"
   ]
  },
  {
   "cell_type": "code",
   "execution_count": 15,
   "id": "6a025914",
   "metadata": {
    "id": "BTYT5jYuChPb",
    "papermill": {
     "duration": null,
     "end_time": null,
     "exception": null,
     "start_time": null,
     "status": "pending"
    },
    "tags": []
   },
   "outputs": [],
   "source": [
    "test_dir_name = os.path.basename(os.path.dirname(args.test_path))\n",
    "logs_folder = os.path.join(script_dir, \"logs\", test_dir_name)\n",
    "log_file = os.path.join(logs_folder, \"training.log\")\n",
    "os.makedirs(os.path.dirname(log_file), exist_ok=True)\n",
    "logging.basicConfig(filename=log_file, level=logging.INFO, format='%(asctime)s - %(message)s')\n",
    "logging.getLogger().addHandler(logging.StreamHandler())\n",
    "\n",
    "checkpoint_path = os.path.join(script_dir, \"checkpoints\", f\"model_{test_dir_name}_best.pth\")\n",
    "checkpoints_folder = os.path.join(script_dir, \"checkpoints\", test_dir_name)\n",
    "os.makedirs(checkpoints_folder, exist_ok=True)\n"
   ]
  },
  {
   "cell_type": "code",
   "execution_count": 16,
   "id": "dbca6779",
   "metadata": {
    "papermill": {
     "duration": null,
     "end_time": null,
     "exception": null,
     "start_time": null,
     "status": "pending"
    },
    "tags": []
   },
   "outputs": [],
   "source": [
    "if os.path.exists(checkpoint_path) and not args.train_path:\n",
    "    model.load_state_dict(torch.load(checkpoint_path))\n",
    "    print(f\"Loaded best model from {checkpoint_path}\")"
   ]
  },
  {
   "cell_type": "code",
   "execution_count": 17,
   "id": "9651da00-36c7-4366-8ec7-7e208752970d",
   "metadata": {},
   "outputs": [],
   "source": [
    "def co_teaching_train(train_loader, model1, model2, optimizer1, optimizer2, criterion, device, forget_rate):\n",
    "    model1.train()\n",
    "    model2.train()\n",
    "\n",
    "    total_loss1, total_loss2 = 0.0, 0.0\n",
    "    total_correct1, total_correct2 = 0, 0\n",
    "    total_samples = 0\n",
    "\n",
    "    for data in train_loader:\n",
    "        data = data.to(device)\n",
    "        optimizer1.zero_grad()\n",
    "        optimizer2.zero_grad()\n",
    "\n",
    "        logits1 = model1(data)\n",
    "        logits2 = model2(data)\n",
    "\n",
    "        loss1 = F.cross_entropy(logits1, data.y, reduction='none')\n",
    "        loss2 = F.cross_entropy(logits2, data.y, reduction='none')\n",
    "\n",
    "        # Sélection des indices avec plus faible perte\n",
    "        num_remember = int((1 - forget_rate) * len(loss1))\n",
    "        _, ind1_sorted = torch.sort(loss1)\n",
    "        _, ind2_sorted = torch.sort(loss2)\n",
    "        ind1_update = ind2_sorted[:num_remember]\n",
    "        ind2_update = ind1_sorted[:num_remember]\n",
    "\n",
    "        # Rétropropagation croisée\n",
    "        final_loss1 = criterion(logits1[ind1_update], data.y[ind1_update])\n",
    "        final_loss2 = criterion(logits2[ind2_update], data.y[ind2_update])\n",
    "\n",
    "        final_loss1.backward()\n",
    "        final_loss2.backward()\n",
    "        optimizer1.step()\n",
    "        optimizer2.step()\n",
    "\n",
    "        total_loss1 += final_loss1.item()\n",
    "        total_loss2 += final_loss2.item()\n",
    "\n",
    "        total_correct1 += (logits1.argmax(dim=1) == data.y).sum().item()\n",
    "        total_correct2 += (logits2.argmax(dim=1) == data.y).sum().item()\n",
    "        total_samples += data.num_graphs\n",
    "\n",
    "    acc1 = total_correct1 / total_samples\n",
    "    acc2 = total_correct2 / total_samples\n",
    "\n",
    "    # Retourner les losses et accuracies de chaque modèle séparément\n",
    "    return total_loss1 / len(train_loader), total_loss2 / len(train_loader), acc1, acc2"
   ]
  },
  {
   "cell_type": "code",
   "execution_count": 18,
   "id": "41826813-8f2a-454b-bf5d-2677d2553c8e",
   "metadata": {},
   "outputs": [],
   "source": [
    "def get_forget_rate_linear_growth(epoch, max_epochs, target_forget_rate):\n",
    "    half_epochs = max_epochs // 2\n",
    "    if epoch < half_epochs:\n",
    "        return (epoch / half_epochs) * target_forget_rate\n",
    "    else:\n",
    "        return target_forget_rate"
   ]
  },
  {
   "cell_type": "code",
   "execution_count": 19,
   "id": "ef4a359c",
   "metadata": {
    "papermill": {
     "duration": null,
     "end_time": null,
     "exception": null,
     "start_time": null,
     "status": "pending"
    },
    "tags": []
   },
   "outputs": [
    {
     "name": "stderr",
     "output_type": "stream",
     "text": [
      "Iterating eval graphs: 100%|██████████| 65/65 [00:15<00:00,  4.08batch/s]\n",
      "Epoch 1/30, Forget Rate: 0.0000, Train Loss Model1: 1.3880, Train Acc Model1: 0.4393, Train Loss Model2: 1.3775, Train Acc Model2: 0.4515, Val Acc Model1: 0.5058\n"
     ]
    },
    {
     "name": "stdout",
     "output_type": "stream",
     "text": [
      "Epoch 1/30, Forget Rate: 0.0000, Train Loss Model1: 1.3880, Train Acc Model1: 0.4393, Train Loss Model2: 1.3775, Train Acc Model2: 0.4515, Val Acc Model1: 0.5058\n",
      "Best model1 updated and saved at /home/onyxia/work/DL-Hackathon/hackaton/checkpoints/model_D_best.pth\n"
     ]
    },
    {
     "name": "stderr",
     "output_type": "stream",
     "text": [
      "Iterating eval graphs: 100%|██████████| 65/65 [00:34<00:00,  1.86batch/s]\n",
      "Epoch 2/30, Forget Rate: 0.0267, Train Loss Model1: 0.9810, Train Acc Model1: 0.5649, Train Loss Model2: 0.9973, Train Acc Model2: 0.5589, Val Acc Model1: 0.5345\n"
     ]
    },
    {
     "name": "stdout",
     "output_type": "stream",
     "text": [
      "Epoch 2/30, Forget Rate: 0.0267, Train Loss Model1: 0.9810, Train Acc Model1: 0.5649, Train Loss Model2: 0.9973, Train Acc Model2: 0.5589, Val Acc Model1: 0.5345\n",
      "Best model1 updated and saved at /home/onyxia/work/DL-Hackathon/hackaton/checkpoints/model_D_best.pth\n"
     ]
    },
    {
     "name": "stderr",
     "output_type": "stream",
     "text": [
      "Iterating eval graphs: 100%|██████████| 65/65 [00:16<00:00,  3.99batch/s]\n",
      "Epoch 3/30, Forget Rate: 0.0533, Train Loss Model1: 0.7972, Train Acc Model1: 0.6058, Train Loss Model2: 0.7970, Train Acc Model2: 0.6051, Val Acc Model1: 0.6284\n"
     ]
    },
    {
     "name": "stdout",
     "output_type": "stream",
     "text": [
      "Epoch 3/30, Forget Rate: 0.0533, Train Loss Model1: 0.7972, Train Acc Model1: 0.6058, Train Loss Model2: 0.7970, Train Acc Model2: 0.6051, Val Acc Model1: 0.6284\n",
      "Best model1 updated and saved at /home/onyxia/work/DL-Hackathon/hackaton/checkpoints/model_D_best.pth\n"
     ]
    },
    {
     "name": "stderr",
     "output_type": "stream",
     "text": [
      "Iterating eval graphs: 100%|██████████| 65/65 [00:15<00:00,  4.07batch/s]\n",
      "Epoch 4/30, Forget Rate: 0.0800, Train Loss Model1: 0.6841, Train Acc Model1: 0.6291, Train Loss Model2: 0.6695, Train Acc Model2: 0.6345, Val Acc Model1: 0.4460\n"
     ]
    },
    {
     "name": "stdout",
     "output_type": "stream",
     "text": [
      "Epoch 4/30, Forget Rate: 0.0800, Train Loss Model1: 0.6841, Train Acc Model1: 0.6291, Train Loss Model2: 0.6695, Train Acc Model2: 0.6345, Val Acc Model1: 0.4460\n"
     ]
    },
    {
     "name": "stderr",
     "output_type": "stream",
     "text": [
      "Iterating eval graphs: 100%|██████████| 65/65 [00:16<00:00,  4.02batch/s]\n",
      "Epoch 5/30, Forget Rate: 0.1067, Train Loss Model1: 0.6049, Train Acc Model1: 0.6471, Train Loss Model2: 0.6024, Train Acc Model2: 0.6477, Val Acc Model1: 0.6357\n"
     ]
    },
    {
     "name": "stdout",
     "output_type": "stream",
     "text": [
      "Epoch 5/30, Forget Rate: 0.1067, Train Loss Model1: 0.6049, Train Acc Model1: 0.6471, Train Loss Model2: 0.6024, Train Acc Model2: 0.6477, Val Acc Model1: 0.6357\n",
      "Best model1 updated and saved at /home/onyxia/work/DL-Hackathon/hackaton/checkpoints/model_D_best.pth\n"
     ]
    },
    {
     "name": "stderr",
     "output_type": "stream",
     "text": [
      "Iterating eval graphs: 100%|██████████| 65/65 [00:16<00:00,  4.01batch/s]\n",
      "Epoch 6/30, Forget Rate: 0.1333, Train Loss Model1: 0.5386, Train Acc Model1: 0.6571, Train Loss Model2: 0.5344, Train Acc Model2: 0.6539, Val Acc Model1: 0.6474\n"
     ]
    },
    {
     "name": "stdout",
     "output_type": "stream",
     "text": [
      "Epoch 6/30, Forget Rate: 0.1333, Train Loss Model1: 0.5386, Train Acc Model1: 0.6571, Train Loss Model2: 0.5344, Train Acc Model2: 0.6539, Val Acc Model1: 0.6474\n",
      "Best model1 updated and saved at /home/onyxia/work/DL-Hackathon/hackaton/checkpoints/model_D_best.pth\n"
     ]
    },
    {
     "name": "stderr",
     "output_type": "stream",
     "text": [
      "Iterating eval graphs: 100%|██████████| 65/65 [00:15<00:00,  4.07batch/s]\n",
      "Epoch 7/30, Forget Rate: 0.1600, Train Loss Model1: 0.4852, Train Acc Model1: 0.6694, Train Loss Model2: 0.4826, Train Acc Model2: 0.6701, Val Acc Model1: 0.6522\n"
     ]
    },
    {
     "name": "stdout",
     "output_type": "stream",
     "text": [
      "Epoch 7/30, Forget Rate: 0.1600, Train Loss Model1: 0.4852, Train Acc Model1: 0.6694, Train Loss Model2: 0.4826, Train Acc Model2: 0.6701, Val Acc Model1: 0.6522\n",
      "Best model1 updated and saved at /home/onyxia/work/DL-Hackathon/hackaton/checkpoints/model_D_best.pth\n"
     ]
    },
    {
     "name": "stderr",
     "output_type": "stream",
     "text": [
      "Iterating eval graphs: 100%|██████████| 65/65 [00:15<00:00,  4.11batch/s]\n",
      "Epoch 8/30, Forget Rate: 0.1867, Train Loss Model1: 0.4559, Train Acc Model1: 0.6710, Train Loss Model2: 0.4401, Train Acc Model2: 0.6756, Val Acc Model1: 0.6926\n"
     ]
    },
    {
     "name": "stdout",
     "output_type": "stream",
     "text": [
      "Epoch 8/30, Forget Rate: 0.1867, Train Loss Model1: 0.4559, Train Acc Model1: 0.6710, Train Loss Model2: 0.4401, Train Acc Model2: 0.6756, Val Acc Model1: 0.6926\n",
      "Best model1 updated and saved at /home/onyxia/work/DL-Hackathon/hackaton/checkpoints/model_D_best.pth\n"
     ]
    },
    {
     "name": "stderr",
     "output_type": "stream",
     "text": [
      "Iterating eval graphs: 100%|██████████| 65/65 [00:15<00:00,  4.07batch/s]\n",
      "Epoch 9/30, Forget Rate: 0.2133, Train Loss Model1: 0.4004, Train Acc Model1: 0.6809, Train Loss Model2: 0.4077, Train Acc Model2: 0.6826, Val Acc Model1: 0.7087\n"
     ]
    },
    {
     "name": "stdout",
     "output_type": "stream",
     "text": [
      "Epoch 9/30, Forget Rate: 0.2133, Train Loss Model1: 0.4004, Train Acc Model1: 0.6809, Train Loss Model2: 0.4077, Train Acc Model2: 0.6826, Val Acc Model1: 0.7087\n",
      "Best model1 updated and saved at /home/onyxia/work/DL-Hackathon/hackaton/checkpoints/model_D_best.pth\n"
     ]
    },
    {
     "name": "stderr",
     "output_type": "stream",
     "text": [
      "Iterating eval graphs: 100%|██████████| 65/65 [00:15<00:00,  4.07batch/s]\n",
      "Epoch 10/30, Forget Rate: 0.2400, Train Loss Model1: 0.3406, Train Acc Model1: 0.6846, Train Loss Model2: 0.3204, Train Acc Model2: 0.6921, Val Acc Model1: 0.6717\n"
     ]
    },
    {
     "name": "stdout",
     "output_type": "stream",
     "text": [
      "Epoch 10/30, Forget Rate: 0.2400, Train Loss Model1: 0.3406, Train Acc Model1: 0.6846, Train Loss Model2: 0.3204, Train Acc Model2: 0.6921, Val Acc Model1: 0.6717\n"
     ]
    },
    {
     "name": "stderr",
     "output_type": "stream",
     "text": [
      "Iterating eval graphs: 100%|██████████| 65/65 [00:16<00:00,  4.04batch/s]\n",
      "Epoch 11/30, Forget Rate: 0.2667, Train Loss Model1: 0.2772, Train Acc Model1: 0.6905, Train Loss Model2: 0.2787, Train Acc Model2: 0.6931, Val Acc Model1: 0.6600\n"
     ]
    },
    {
     "name": "stdout",
     "output_type": "stream",
     "text": [
      "Epoch 11/30, Forget Rate: 0.2667, Train Loss Model1: 0.2772, Train Acc Model1: 0.6905, Train Loss Model2: 0.2787, Train Acc Model2: 0.6931, Val Acc Model1: 0.6600\n"
     ]
    },
    {
     "name": "stderr",
     "output_type": "stream",
     "text": [
      "Iterating eval graphs: 100%|██████████| 65/65 [00:15<00:00,  4.21batch/s]\n",
      "Epoch 12/30, Forget Rate: 0.2933, Train Loss Model1: 0.2205, Train Acc Model1: 0.6955, Train Loss Model2: 0.2127, Train Acc Model2: 0.6992, Val Acc Model1: 0.7057\n"
     ]
    },
    {
     "name": "stdout",
     "output_type": "stream",
     "text": [
      "Epoch 12/30, Forget Rate: 0.2933, Train Loss Model1: 0.2205, Train Acc Model1: 0.6955, Train Loss Model2: 0.2127, Train Acc Model2: 0.6992, Val Acc Model1: 0.7057\n"
     ]
    },
    {
     "name": "stderr",
     "output_type": "stream",
     "text": [
      "Iterating eval graphs: 100%|██████████| 65/65 [00:14<00:00,  4.35batch/s]\n",
      "Epoch 13/30, Forget Rate: 0.3200, Train Loss Model1: 0.1676, Train Acc Model1: 0.7021, Train Loss Model2: 0.1799, Train Acc Model2: 0.6980, Val Acc Model1: 0.7111\n"
     ]
    },
    {
     "name": "stdout",
     "output_type": "stream",
     "text": [
      "Epoch 13/30, Forget Rate: 0.3200, Train Loss Model1: 0.1676, Train Acc Model1: 0.7021, Train Loss Model2: 0.1799, Train Acc Model2: 0.6980, Val Acc Model1: 0.7111\n",
      "Best model1 updated and saved at /home/onyxia/work/DL-Hackathon/hackaton/checkpoints/model_D_best.pth\n"
     ]
    },
    {
     "name": "stderr",
     "output_type": "stream",
     "text": [
      "Iterating eval graphs: 100%|██████████| 65/65 [00:16<00:00,  3.98batch/s]\n",
      "Epoch 14/30, Forget Rate: 0.3467, Train Loss Model1: 0.1415, Train Acc Model1: 0.6978, Train Loss Model2: 0.1395, Train Acc Model2: 0.6929, Val Acc Model1: 0.7053\n"
     ]
    },
    {
     "name": "stdout",
     "output_type": "stream",
     "text": [
      "Epoch 14/30, Forget Rate: 0.3467, Train Loss Model1: 0.1415, Train Acc Model1: 0.6978, Train Loss Model2: 0.1395, Train Acc Model2: 0.6929, Val Acc Model1: 0.7053\n"
     ]
    },
    {
     "name": "stderr",
     "output_type": "stream",
     "text": [
      "Iterating eval graphs: 100%|██████████| 65/65 [00:15<00:00,  4.10batch/s]\n",
      "Epoch 15/30, Forget Rate: 0.3733, Train Loss Model1: 0.1331, Train Acc Model1: 0.7003, Train Loss Model2: 0.1329, Train Acc Model2: 0.7004, Val Acc Model1: 0.7111\n"
     ]
    },
    {
     "name": "stdout",
     "output_type": "stream",
     "text": [
      "Epoch 15/30, Forget Rate: 0.3733, Train Loss Model1: 0.1331, Train Acc Model1: 0.7003, Train Loss Model2: 0.1329, Train Acc Model2: 0.7004, Val Acc Model1: 0.7111\n"
     ]
    },
    {
     "name": "stderr",
     "output_type": "stream",
     "text": [
      "Iterating eval graphs: 100%|██████████| 65/65 [00:15<00:00,  4.23batch/s]\n",
      "Epoch 16/30, Forget Rate: 0.4000, Train Loss Model1: 0.1198, Train Acc Model1: 0.6954, Train Loss Model2: 0.1025, Train Acc Model2: 0.7000, Val Acc Model1: 0.7179\n"
     ]
    },
    {
     "name": "stdout",
     "output_type": "stream",
     "text": [
      "Epoch 16/30, Forget Rate: 0.4000, Train Loss Model1: 0.1198, Train Acc Model1: 0.6954, Train Loss Model2: 0.1025, Train Acc Model2: 0.7000, Val Acc Model1: 0.7179\n",
      "Best model1 updated and saved at /home/onyxia/work/DL-Hackathon/hackaton/checkpoints/model_D_best.pth\n"
     ]
    },
    {
     "name": "stderr",
     "output_type": "stream",
     "text": [
      "Iterating eval graphs: 100%|██████████| 65/65 [00:15<00:00,  4.06batch/s]\n",
      "Epoch 17/30, Forget Rate: 0.4000, Train Loss Model1: 0.1094, Train Acc Model1: 0.6956, Train Loss Model2: 0.1244, Train Acc Model2: 0.6949, Val Acc Model1: 0.6970\n"
     ]
    },
    {
     "name": "stdout",
     "output_type": "stream",
     "text": [
      "Epoch 17/30, Forget Rate: 0.4000, Train Loss Model1: 0.1094, Train Acc Model1: 0.6956, Train Loss Model2: 0.1244, Train Acc Model2: 0.6949, Val Acc Model1: 0.6970\n"
     ]
    },
    {
     "name": "stderr",
     "output_type": "stream",
     "text": [
      "Iterating eval graphs: 100%|██████████| 65/65 [00:15<00:00,  4.17batch/s]\n",
      "Epoch 18/30, Forget Rate: 0.4000, Train Loss Model1: 0.1160, Train Acc Model1: 0.6939, Train Loss Model2: 0.0961, Train Acc Model2: 0.7045, Val Acc Model1: 0.7228\n"
     ]
    },
    {
     "name": "stdout",
     "output_type": "stream",
     "text": [
      "Epoch 18/30, Forget Rate: 0.4000, Train Loss Model1: 0.1160, Train Acc Model1: 0.6939, Train Loss Model2: 0.0961, Train Acc Model2: 0.7045, Val Acc Model1: 0.7228\n",
      "Best model1 updated and saved at /home/onyxia/work/DL-Hackathon/hackaton/checkpoints/model_D_best.pth\n"
     ]
    },
    {
     "name": "stderr",
     "output_type": "stream",
     "text": [
      "Iterating eval graphs: 100%|██████████| 65/65 [00:15<00:00,  4.10batch/s]\n",
      "Epoch 19/30, Forget Rate: 0.4000, Train Loss Model1: 0.0903, Train Acc Model1: 0.7008, Train Loss Model2: 0.0930, Train Acc Model2: 0.7051, Val Acc Model1: 0.7023\n"
     ]
    },
    {
     "name": "stdout",
     "output_type": "stream",
     "text": [
      "Epoch 19/30, Forget Rate: 0.4000, Train Loss Model1: 0.0903, Train Acc Model1: 0.7008, Train Loss Model2: 0.0930, Train Acc Model2: 0.7051, Val Acc Model1: 0.7023\n"
     ]
    },
    {
     "name": "stderr",
     "output_type": "stream",
     "text": [
      "Iterating eval graphs: 100%|██████████| 65/65 [00:15<00:00,  4.11batch/s]\n",
      "Epoch 20/30, Forget Rate: 0.4000, Train Loss Model1: 0.1095, Train Acc Model1: 0.6978, Train Loss Model2: 0.1011, Train Acc Model2: 0.6995, Val Acc Model1: 0.7067\n"
     ]
    },
    {
     "name": "stdout",
     "output_type": "stream",
     "text": [
      "Epoch 20/30, Forget Rate: 0.4000, Train Loss Model1: 0.1095, Train Acc Model1: 0.6978, Train Loss Model2: 0.1011, Train Acc Model2: 0.6995, Val Acc Model1: 0.7067\n"
     ]
    },
    {
     "name": "stderr",
     "output_type": "stream",
     "text": [
      "Iterating eval graphs: 100%|██████████| 65/65 [00:37<00:00,  1.72batch/s]\n",
      "Epoch 21/30, Forget Rate: 0.4000, Train Loss Model1: 0.1012, Train Acc Model1: 0.7043, Train Loss Model2: 0.1053, Train Acc Model2: 0.7029, Val Acc Model1: 0.7053\n"
     ]
    },
    {
     "name": "stdout",
     "output_type": "stream",
     "text": [
      "Epoch 21/30, Forget Rate: 0.4000, Train Loss Model1: 0.1012, Train Acc Model1: 0.7043, Train Loss Model2: 0.1053, Train Acc Model2: 0.7029, Val Acc Model1: 0.7053\n"
     ]
    },
    {
     "name": "stderr",
     "output_type": "stream",
     "text": [
      "Iterating eval graphs: 100%|██████████| 65/65 [00:15<00:00,  4.09batch/s]\n",
      "Epoch 22/30, Forget Rate: 0.4000, Train Loss Model1: 0.1096, Train Acc Model1: 0.7044, Train Loss Model2: 0.1035, Train Acc Model2: 0.7072, Val Acc Model1: 0.7130\n"
     ]
    },
    {
     "name": "stdout",
     "output_type": "stream",
     "text": [
      "Epoch 22/30, Forget Rate: 0.4000, Train Loss Model1: 0.1096, Train Acc Model1: 0.7044, Train Loss Model2: 0.1035, Train Acc Model2: 0.7072, Val Acc Model1: 0.7130\n"
     ]
    },
    {
     "name": "stderr",
     "output_type": "stream",
     "text": [
      "Iterating eval graphs: 100%|██████████| 65/65 [00:15<00:00,  4.09batch/s]\n",
      "Epoch 23/30, Forget Rate: 0.4000, Train Loss Model1: 0.1006, Train Acc Model1: 0.7014, Train Loss Model2: 0.0903, Train Acc Model2: 0.7017, Val Acc Model1: 0.5151\n"
     ]
    },
    {
     "name": "stdout",
     "output_type": "stream",
     "text": [
      "Epoch 23/30, Forget Rate: 0.4000, Train Loss Model1: 0.1006, Train Acc Model1: 0.7014, Train Loss Model2: 0.0903, Train Acc Model2: 0.7017, Val Acc Model1: 0.5151\n"
     ]
    },
    {
     "name": "stderr",
     "output_type": "stream",
     "text": [
      "Iterating eval graphs: 100%|██████████| 65/65 [00:15<00:00,  4.07batch/s]\n",
      "Epoch 24/30, Forget Rate: 0.4000, Train Loss Model1: 0.1046, Train Acc Model1: 0.6988, Train Loss Model2: 0.0773, Train Acc Model2: 0.7105, Val Acc Model1: 0.7198\n"
     ]
    },
    {
     "name": "stdout",
     "output_type": "stream",
     "text": [
      "Epoch 24/30, Forget Rate: 0.4000, Train Loss Model1: 0.1046, Train Acc Model1: 0.6988, Train Loss Model2: 0.0773, Train Acc Model2: 0.7105, Val Acc Model1: 0.7198\n"
     ]
    },
    {
     "name": "stderr",
     "output_type": "stream",
     "text": [
      "Iterating eval graphs: 100%|██████████| 65/65 [00:17<00:00,  3.82batch/s]\n",
      "Epoch 25/30, Forget Rate: 0.4000, Train Loss Model1: 0.0949, Train Acc Model1: 0.7073, Train Loss Model2: 0.0863, Train Acc Model2: 0.7104, Val Acc Model1: 0.7174\n"
     ]
    },
    {
     "name": "stdout",
     "output_type": "stream",
     "text": [
      "Epoch 25/30, Forget Rate: 0.4000, Train Loss Model1: 0.0949, Train Acc Model1: 0.7073, Train Loss Model2: 0.0863, Train Acc Model2: 0.7104, Val Acc Model1: 0.7174\n"
     ]
    },
    {
     "name": "stderr",
     "output_type": "stream",
     "text": [
      "Iterating eval graphs: 100%|██████████| 65/65 [00:16<00:00,  3.84batch/s]\n",
      "Epoch 26/30, Forget Rate: 0.4000, Train Loss Model1: 0.0973, Train Acc Model1: 0.7074, Train Loss Model2: 0.0971, Train Acc Model2: 0.7095, Val Acc Model1: 0.7033\n"
     ]
    },
    {
     "name": "stdout",
     "output_type": "stream",
     "text": [
      "Epoch 26/30, Forget Rate: 0.4000, Train Loss Model1: 0.0973, Train Acc Model1: 0.7074, Train Loss Model2: 0.0971, Train Acc Model2: 0.7095, Val Acc Model1: 0.7033\n"
     ]
    },
    {
     "name": "stderr",
     "output_type": "stream",
     "text": [
      "Iterating eval graphs: 100%|██████████| 65/65 [00:16<00:00,  3.90batch/s]\n",
      "Epoch 27/30, Forget Rate: 0.4000, Train Loss Model1: 0.0967, Train Acc Model1: 0.7094, Train Loss Model2: 0.0908, Train Acc Model2: 0.7067, Val Acc Model1: 0.7194\n"
     ]
    },
    {
     "name": "stdout",
     "output_type": "stream",
     "text": [
      "Epoch 27/30, Forget Rate: 0.4000, Train Loss Model1: 0.0967, Train Acc Model1: 0.7094, Train Loss Model2: 0.0908, Train Acc Model2: 0.7067, Val Acc Model1: 0.7194\n"
     ]
    },
    {
     "name": "stderr",
     "output_type": "stream",
     "text": [
      "Iterating eval graphs: 100%|██████████| 65/65 [00:16<00:00,  3.94batch/s]\n",
      "Epoch 28/30, Forget Rate: 0.4000, Train Loss Model1: 0.0708, Train Acc Model1: 0.7100, Train Loss Model2: 0.0700, Train Acc Model2: 0.7104, Val Acc Model1: 0.6975\n"
     ]
    },
    {
     "name": "stdout",
     "output_type": "stream",
     "text": [
      "Epoch 28/30, Forget Rate: 0.4000, Train Loss Model1: 0.0708, Train Acc Model1: 0.7100, Train Loss Model2: 0.0700, Train Acc Model2: 0.7104, Val Acc Model1: 0.6975\n"
     ]
    },
    {
     "name": "stderr",
     "output_type": "stream",
     "text": [
      "Iterating eval graphs: 100%|██████████| 65/65 [00:16<00:00,  4.03batch/s]\n",
      "Epoch 29/30, Forget Rate: 0.4000, Train Loss Model1: 0.0816, Train Acc Model1: 0.7096, Train Loss Model2: 0.0695, Train Acc Model2: 0.7106, Val Acc Model1: 0.4266\n"
     ]
    },
    {
     "name": "stdout",
     "output_type": "stream",
     "text": [
      "Epoch 29/30, Forget Rate: 0.4000, Train Loss Model1: 0.0816, Train Acc Model1: 0.7096, Train Loss Model2: 0.0695, Train Acc Model2: 0.7106, Val Acc Model1: 0.4266\n"
     ]
    },
    {
     "name": "stderr",
     "output_type": "stream",
     "text": [
      "Iterating eval graphs: 100%|██████████| 65/65 [00:16<00:00,  4.06batch/s]\n",
      "Epoch 30/30, Forget Rate: 0.4000, Train Loss Model1: 0.0703, Train Acc Model1: 0.7145, Train Loss Model2: 0.0652, Train Acc Model2: 0.7222, Val Acc Model1: 0.6829\n"
     ]
    },
    {
     "name": "stdout",
     "output_type": "stream",
     "text": [
      "Epoch 30/30, Forget Rate: 0.4000, Train Loss Model1: 0.0703, Train Acc Model1: 0.7145, Train Loss Model2: 0.0652, Train Acc Model2: 0.7222, Val Acc Model1: 0.6829\n"
     ]
    }
   ],
   "source": [
    "if args.train_path:\n",
    "    full_dataset = GraphDataset(args.train_path, transform=add_zeros)\n",
    "    val_size = int(0.2 * len(full_dataset))\n",
    "    train_size = len(full_dataset) - val_size\n",
    "\n",
    "    generator = torch.Generator().manual_seed(12)\n",
    "    train_dataset, val_dataset = random_split(full_dataset, [train_size, val_size], generator=generator)\n",
    "\n",
    "    train_loader = DataLoader(train_dataset, batch_size=args.batch_size, shuffle=True)\n",
    "    val_loader = DataLoader(val_dataset, batch_size=args.batch_size, shuffle=False)\n",
    "\n",
    "    num_epochs = args.epochs\n",
    "    best_val_accuracy = 0.0   \n",
    "\n",
    "    # Valeurs de suivi\n",
    "    train_losses_model1, train_losses_model2 = [], []\n",
    "    train_accuracies_model1, train_accuracies_model2 = [], []\n",
    "    val_losses, val_accuracies = [], []\n",
    "    \n",
    "    # Définir les intervalles de sauvegarde\n",
    "    if num_checkpoints > 1:\n",
    "        checkpoint_intervals = [int((i + 1) * num_epochs / num_checkpoints) for i in range(num_checkpoints)]\n",
    "    else:\n",
    "        checkpoint_intervals = [num_epochs]\n",
    "    \n",
    "    target_forget_rate = args.forget_rate if hasattr(args, 'forget_rate') else 0.2\n",
    "\n",
    "    for epoch in range(num_epochs):\n",
    "        current_forget_rate = get_forget_rate_linear_growth(epoch, num_epochs, target_forget_rate)\n",
    "\n",
    "        # Co-teaching training step\n",
    "        loss1, loss2, acc1, acc2 = co_teaching_train(\n",
    "            train_loader, model1, model2, optimizer1, optimizer2,\n",
    "            criterion, device, current_forget_rate\n",
    "        )\n",
    "    \n",
    "        # Évaluer uniquement model1 (ou les deux si tu veux)\n",
    "        val_loss, val_acc = evaluate(val_loader, model1, device, calculate_accuracy=True)\n",
    "    \n",
    "        print(f\"Epoch {epoch + 1}/{num_epochs}, \"\n",
    "              f\"Forget Rate: {current_forget_rate:.4f}, \"\n",
    "              f\"Train Loss Model1: {loss1:.4f}, Train Acc Model1: {acc1:.4f}, \"\n",
    "              f\"Train Loss Model2: {loss2:.4f}, Train Acc Model2: {acc2:.4f}, \"\n",
    "              f\"Val Acc Model1: {val_acc:.4f}\")\n",
    "        logging.info(f\"Epoch {epoch + 1}/{num_epochs}, \"\n",
    "                     f\"Forget Rate: {current_forget_rate:.4f}, \"\n",
    "                     f\"Train Loss Model1: {loss1:.4f}, Train Acc Model1: {acc1:.4f}, \"\n",
    "                     f\"Train Loss Model2: {loss2:.4f}, Train Acc Model2: {acc2:.4f}, \"\n",
    "                     f\"Val Acc Model1: {val_acc:.4f}\")\n",
    "    \n",
    "        train_losses_model1.append(loss1)\n",
    "        train_accuracies_model1.append(acc1)\n",
    "        train_losses_model2.append(loss2)\n",
    "        train_accuracies_model2.append(acc2)\n",
    "        val_losses.append(val_loss)\n",
    "        val_accuracies.append(val_acc)\n",
    "    \n",
    "        # Sauvegarde du modèle s'il s’améliore\n",
    "        if val_acc > best_val_accuracy:\n",
    "            best_val_accuracy = val_acc\n",
    "            torch.save(model1.state_dict(), checkpoint_path)\n",
    "            print(f\"Best model1 updated and saved at {checkpoint_path}\")\n",
    "\n",
    "    plot_training_progress(train_losses_model1, train_accuracies_model1, os.path.join(logs_folder, \"plots_model1\"))\n",
    "    plot_training_progress(val_losses, val_accuracies, os.path.join(logs_folder, \"plotsVal\"))\n"
   ]
  },
  {
   "cell_type": "code",
   "execution_count": 20,
   "id": "07594aff",
   "metadata": {
    "papermill": {
     "duration": null,
     "end_time": null,
     "exception": null,
     "start_time": null,
     "status": "pending"
    },
    "tags": []
   },
   "outputs": [
    {
     "data": {
      "text/plain": [
       "12272"
      ]
     },
     "execution_count": 20,
     "metadata": {},
     "output_type": "execute_result"
    }
   ],
   "source": [
    "import gc\n",
    "del train_dataset\n",
    "del train_loader\n",
    "del full_dataset\n",
    "del val_dataset\n",
    "del val_loader\n",
    "gc.collect()"
   ]
  },
  {
   "cell_type": "code",
   "execution_count": 21,
   "id": "ba668fff",
   "metadata": {
    "id": "xsXZIj4Mdu3I",
    "papermill": {
     "duration": null,
     "end_time": null,
     "exception": null,
     "start_time": null,
     "status": "pending"
    },
    "tags": []
   },
   "outputs": [],
   "source": [
    "test_dataset = GraphDataset(args.test_path, transform=add_zeros)\n",
    "test_loader = DataLoader(test_dataset, batch_size=args.batch_size, shuffle=False)"
   ]
  },
  {
   "cell_type": "code",
   "execution_count": 22,
   "id": "7828e983",
   "metadata": {
    "id": "x1OnGq_nCmTr",
    "papermill": {
     "duration": null,
     "end_time": null,
     "exception": null,
     "start_time": null,
     "status": "pending"
    },
    "tags": []
   },
   "outputs": [
    {
     "name": "stderr",
     "output_type": "stream",
     "text": [
      "Iterating eval graphs: 100%|██████████| 71/71 [00:16<00:00,  4.35batch/s]"
     ]
    },
    {
     "name": "stdout",
     "output_type": "stream",
     "text": [
      "Predictions saved to /home/onyxia/work/DL-Hackathon/hackaton/submission/testset_D.csv\n"
     ]
    },
    {
     "name": "stderr",
     "output_type": "stream",
     "text": [
      "\n"
     ]
    }
   ],
   "source": [
    "model1.load_state_dict(torch.load(checkpoint_path))\n",
    "predictions = evaluate(test_loader, model1, device, calculate_accuracy=False)\n",
    "save_predictions(predictions, args.test_path)"
   ]
  },
  {
   "cell_type": "code",
   "execution_count": 25,
   "id": "b51b73e9-0d7c-4620-a6d0-ec742b21a92c",
   "metadata": {},
   "outputs": [
    {
     "name": "stdout",
     "output_type": "stream",
     "text": [
      "Folder '/home/onyxia/work/DL-Hackathon/hackaton/checkpoints' has been compressed into '/home/onyxia/work/DL-Hackathon/hackaton/checkpoints.gz'\n"
     ]
    }
   ],
   "source": [
    "import tarfile\n",
    "import os\n",
    "\n",
    "def gzip_folder(folder_path, output_file):\n",
    "    \"\"\"\n",
    "    Compresses an entire folder into a single .tar.gz file.\n",
    "\n",
    "    Args:\n",
    "        folder_path (str): Path to the folder to compress.\n",
    "        output_file (str): Path to the output .gz file.\n",
    "    \"\"\"\n",
    "    with tarfile.open(output_file, \"w:gz\") as tar:\n",
    "        tar.add(folder_path, arcname=os.path.basename(folder_path))\n",
    "    print(f\"Folder '{folder_path}' has been compressed into '{output_file}'\")\n",
    "\n",
    "# Example usage\n",
    "folder_path = \"/home/onyxia/work/DL-Hackathon/hackaton/checkpoints\"            # Path to the folder you want to compress\n",
    "output_file = \"/home/onyxia/work/DL-Hackathon/hackaton/checkpoints.gz\"        # Output .gz file name\n",
    "gzip_folder(folder_path, output_file)"
   ]
  }
 ],
 "metadata": {
  "accelerator": "GPU",
  "colab": {
   "gpuType": "T4",
   "provenance": []
  },
  "kaggle": {
   "accelerator": "gpu",
   "dataSources": [],
   "dockerImageVersionId": 30919,
   "isGpuEnabled": true,
   "isInternetEnabled": true,
   "language": "python",
   "sourceType": "notebook"
  },
  "kernelspec": {
   "display_name": "Python 3 (ipykernel)",
   "language": "python",
   "name": "python3"
  },
  "language_info": {
   "codemirror_mode": {
    "name": "ipython",
    "version": 3
   },
   "file_extension": ".py",
   "mimetype": "text/x-python",
   "name": "python",
   "nbconvert_exporter": "python",
   "pygments_lexer": "ipython3",
   "version": "3.12.9"
  },
  "papermill": {
   "default_parameters": {},
   "duration": 108.457758,
   "end_time": "2025-05-21T16:25:04.482169",
   "environment_variables": {},
   "exception": true,
   "input_path": "__notebook__.ipynb",
   "output_path": "__notebook__.ipynb",
   "parameters": {},
   "start_time": "2025-05-21T16:23:16.024411",
   "version": "2.6.0"
  }
 },
 "nbformat": 4,
 "nbformat_minor": 5
}
