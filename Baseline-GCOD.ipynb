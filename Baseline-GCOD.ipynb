{
 "cells": [
  {
   "cell_type": "code",
   "execution_count": 1,
   "id": "6228bc1c",
   "metadata": {
    "id": "xSkgt1zf-raF",
    "outputId": "59f4a52f-5eb4-41e5-9fba-07432989fe78",
    "papermill": {
     "duration": 5.620104,
     "end_time": "2025-05-21T16:23:24.361690",
     "exception": false,
     "start_time": "2025-05-21T16:23:18.741586",
     "status": "completed"
    },
    "tags": []
   },
   "outputs": [],
   "source": [
    "!pip install matplotlib torch_geometric torch gdown --quiet"
   ]
  },
  {
   "cell_type": "code",
   "execution_count": null,
   "id": "c86aceda",
   "metadata": {
    "id": "5oR2D2Us-xSQ",
    "outputId": "7086cadf-a7fe-4d75-f271-6339bee8164d",
    "papermill": {
     "duration": 4.049235,
     "end_time": "2025-05-21T16:23:28.415556",
     "exception": false,
     "start_time": "2025-05-21T16:23:24.366321",
     "status": "completed"
    },
    "tags": []
   },
   "outputs": [],
   "source": [
    "!git clone --branch baselineCe https://github.com/Graph-Classification-Noisy-Label/hackaton.git"
   ]
  },
  {
   "cell_type": "code",
   "execution_count": 2,
   "id": "c129091c",
   "metadata": {
    "id": "tEhfPly6-7UK",
    "outputId": "3078ee06-6312-4fca-f5f9-888fa628c80a",
    "papermill": {
     "duration": 0.013251,
     "end_time": "2025-05-21T16:23:28.434119",
     "exception": false,
     "start_time": "2025-05-21T16:23:28.420868",
     "status": "completed"
    },
    "tags": []
   },
   "outputs": [
    {
     "name": "stdout",
     "output_type": "stream",
     "text": [
      "/home/onyxia/work/DL-Hackathon/hackaton\n"
     ]
    }
   ],
   "source": [
    "%cd hackaton/"
   ]
  },
  {
   "cell_type": "code",
   "execution_count": null,
   "id": "d48103c0",
   "metadata": {
    "id": "PxBvwB0_6xI8",
    "outputId": "5933387c-2cfb-474f-d842-f36a3e2d2a73",
    "papermill": {
     "duration": 83.957666,
     "end_time": "2025-05-21T16:24:52.396720",
     "exception": false,
     "start_time": "2025-05-21T16:23:28.439054",
     "status": "completed"
    },
    "scrolled": true,
    "tags": []
   },
   "outputs": [],
   "source": [
    "!gdown --folder https://drive.google.com/drive/folders/1Z-1JkPJ6q4C6jX4brvq1VRbJH5RPUCAk -O datasets\n"
   ]
  },
  {
   "cell_type": "code",
   "execution_count": 3,
   "id": "80dab1bc",
   "metadata": {
    "id": "1rockhiQ7Nny",
    "outputId": "2cd2e6f4-5f8f-4a62-f0ec-53e6fc78c9b7",
    "papermill": {
     "duration": 0.138969,
     "end_time": "2025-05-21T16:24:52.549260",
     "exception": false,
     "start_time": "2025-05-21T16:24:52.410291",
     "status": "completed"
    },
    "tags": []
   },
   "outputs": [
    {
     "name": "stdout",
     "output_type": "stream",
     "text": [
      "total 16K\n",
      "drwxr-sr-x 2 onyxia users 4.0K May 26 16:09 A\n",
      "drwxr-sr-x 2 onyxia users 4.0K May 26 16:09 B\n",
      "drwxr-sr-x 2 onyxia users 4.0K May 26 16:10 C\n",
      "drwxr-sr-x 2 onyxia users 4.0K May 26 16:10 D\n"
     ]
    }
   ],
   "source": [
    "!ls -lh datasets"
   ]
  },
  {
   "cell_type": "code",
   "execution_count": 4,
   "id": "817b1078",
   "metadata": {
    "id": "lAQuCuIoBbq5",
    "papermill": {
     "duration": 9.949638,
     "end_time": "2025-05-21T16:25:02.510764",
     "exception": false,
     "start_time": "2025-05-21T16:24:52.561126",
     "status": "completed"
    },
    "tags": []
   },
   "outputs": [],
   "source": [
    "import os\n",
    "import torch\n",
    "import pandas as pd\n",
    "import matplotlib.pyplot as plt\n",
    "import logging\n",
    "from tqdm import tqdm\n",
    "from torch_geometric.loader import DataLoader\n",
    "from torch.utils.data import random_split\n",
    "# Load utility functions from cloned repository\n",
    "from src.loadData import GraphDataset\n",
    "from src.utils import set_seed\n",
    "from src.models import GNN\n",
    "import argparse\n",
    "\n",
    "# Set the random seed\n",
    "set_seed()\n",
    "\n",
    "\n",
    "os.environ[\"CUDA_LAUNCH_BLOCKING\"] = \"1\"\n"
   ]
  },
  {
   "cell_type": "code",
   "execution_count": 5,
   "id": "6fc6f726-09e8-4e45-8d64-78f97ba07c98",
   "metadata": {},
   "outputs": [],
   "source": [
    "# Modification de GraphDataset pour récupérer les indices (ajout de get)\n",
    "\n",
    "import gzip\n",
    "import json\n",
    "import torch\n",
    "from torch_geometric.data import Dataset, Data\n",
    "from torch_geometric.loader import DataLoader\n",
    "\n",
    "class GraphDataset(Dataset):\n",
    "    def __init__(self, filename, transform=None, pre_transform=None):\n",
    "        self.raw = filename\n",
    "        self.num_graphs, self.graphs_dicts = self._count_graphs() \n",
    "        super().__init__(None, transform, pre_transform)\n",
    "\n",
    "    def len(self):\n",
    "        return self.num_graphs  \n",
    "    \n",
    "    def get(self, idx):\n",
    "        data = dictToGraphObject(self.graphs_dicts[idx])\n",
    "        data.idx = idx  # 🔥 Ajoute l'indice global dans l'objet Data\n",
    "        return data\n",
    "\n",
    "    def _count_graphs(self):\n",
    "        with gzip.open(self.raw, \"rt\", encoding=\"utf-8\") as f:\n",
    "            graphs_dicts = json.load(f)\n",
    "            return len(graphs_dicts), graphs_dicts\n",
    "\n",
    "def dictToGraphObject(graph_dict):\n",
    "    edge_index = torch.tensor(graph_dict[\"edge_index\"], dtype=torch.long)\n",
    "    edge_attr = torch.tensor(graph_dict[\"edge_attr\"], dtype=torch.float) if graph_dict[\"edge_attr\"] else None\n",
    "    num_nodes = graph_dict[\"num_nodes\"]\n",
    "    y = torch.tensor(graph_dict[\"y\"][0], dtype=torch.long) if graph_dict[\"y\"] is not None else None\n",
    "    return Data(edge_index=edge_index, edge_attr=edge_attr, num_nodes=num_nodes, y=y)"
   ]
  },
  {
   "cell_type": "code",
   "execution_count": 6,
   "id": "0a9c70d7",
   "metadata": {
    "id": "Dyf0I2-t9IcW",
    "papermill": {
     "duration": 0.019268,
     "end_time": "2025-05-21T16:25:02.544583",
     "exception": false,
     "start_time": "2025-05-21T16:25:02.525315",
     "status": "completed"
    },
    "tags": []
   },
   "outputs": [],
   "source": [
    "def add_zeros(data):\n",
    "    data.x = torch.zeros(data.num_nodes, dtype=torch.long)\n",
    "    return data"
   ]
  },
  {
   "cell_type": "code",
   "execution_count": 7,
   "id": "6139b912",
   "metadata": {
    "id": "8peFiIS19ZpK",
    "papermill": {
     "duration": 0.017908,
     "end_time": "2025-05-21T16:25:02.607848",
     "exception": false,
     "start_time": "2025-05-21T16:25:02.589940",
     "status": "completed"
    },
    "tags": []
   },
   "outputs": [],
   "source": [
    "def evaluate(data_loader, model, device, calculate_accuracy=False):\n",
    "    model.eval()\n",
    "    correct = 0\n",
    "    total = 0\n",
    "    predictions = []\n",
    "    total_loss = 0\n",
    "    criterion = torch.nn.CrossEntropyLoss()\n",
    "    with torch.no_grad():\n",
    "        for data in tqdm(data_loader, desc=\"Iterating eval graphs\", unit=\"batch\"):\n",
    "            data = data.to(device)\n",
    "            output = model(data)\n",
    "            pred = output.argmax(dim=1)\n",
    "            \n",
    "            if calculate_accuracy:\n",
    "                correct += (pred == data.y).sum().item()\n",
    "                total += data.y.size(0)\n",
    "                total_loss += criterion(output, data.y).item()\n",
    "            else:\n",
    "                predictions.extend(pred.cpu().numpy())\n",
    "    if calculate_accuracy:\n",
    "        accuracy = correct / total\n",
    "        return  total_loss / len(data_loader),accuracy\n",
    "    return predictions"
   ]
  },
  {
   "cell_type": "code",
   "execution_count": 8,
   "id": "fbdbd871",
   "metadata": {
    "id": "WanuZKxy9Zs-",
    "papermill": {
     "duration": 0.016728,
     "end_time": "2025-05-21T16:25:02.635694",
     "exception": false,
     "start_time": "2025-05-21T16:25:02.618966",
     "status": "completed"
    },
    "tags": []
   },
   "outputs": [],
   "source": [
    "def save_predictions(predictions, test_path):\n",
    "    script_dir = os.getcwd() \n",
    "    submission_folder = os.path.join(script_dir, \"submission\")\n",
    "    test_dir_name = os.path.basename(os.path.dirname(test_path))\n",
    "    \n",
    "    os.makedirs(submission_folder, exist_ok=True)\n",
    "    \n",
    "    output_csv_path = os.path.join(submission_folder, f\"testset_{test_dir_name}.csv\")\n",
    "    \n",
    "    test_graph_ids = list(range(len(predictions)))\n",
    "    output_df = pd.DataFrame({\n",
    "        \"id\": test_graph_ids,\n",
    "        \"pred\": predictions\n",
    "    })\n",
    "    \n",
    "    output_df.to_csv(output_csv_path, index=False)\n",
    "    print(f\"Predictions saved to {output_csv_path}\")"
   ]
  },
  {
   "cell_type": "code",
   "execution_count": 9,
   "id": "fc3d24da",
   "metadata": {
    "id": "uyHIJS5U9ZzB",
    "papermill": {
     "duration": 0.017765,
     "end_time": "2025-05-21T16:25:02.664538",
     "exception": false,
     "start_time": "2025-05-21T16:25:02.646773",
     "status": "completed"
    },
    "tags": []
   },
   "outputs": [],
   "source": [
    "def plot_training_progress(train_losses, train_accuracies, output_dir):\n",
    "    epochs = range(1, len(train_losses) + 1)\n",
    "    plt.figure(figsize=(12, 6))\n",
    "\n",
    "    # Plot loss\n",
    "    plt.subplot(1, 2, 1)\n",
    "    plt.plot(epochs, train_losses, label=\"Training Loss\", color='blue')\n",
    "    plt.xlabel('Epoch')\n",
    "    plt.ylabel('Loss')\n",
    "    plt.title('Training Loss per Epoch')\n",
    "\n",
    "    # Plot accuracy\n",
    "    plt.subplot(1, 2, 2)\n",
    "    plt.plot(epochs, train_accuracies, label=\"Training Accuracy\", color='green')\n",
    "    plt.xlabel('Epoch')\n",
    "    plt.ylabel('Accuracy')\n",
    "    plt.title('Training Accuracy per Epoch')\n",
    "\n",
    "    # Save plots in the current directory\n",
    "    os.makedirs(output_dir, exist_ok=True)\n",
    "    plt.tight_layout()\n",
    "    plt.savefig(os.path.join(output_dir, \"training_progress.png\"))\n",
    "    plt.close()"
   ]
  },
  {
   "cell_type": "code",
   "execution_count": 10,
   "id": "22574fa5",
   "metadata": {
    "papermill": {
     "duration": 0.016577,
     "end_time": "2025-05-21T16:25:02.692205",
     "exception": false,
     "start_time": "2025-05-21T16:25:02.675628",
     "status": "completed"
    },
    "tags": []
   },
   "outputs": [],
   "source": [
    "def get_user_input(prompt, default=None, required=False, type_cast=str):\n",
    "\n",
    "    while True:\n",
    "        user_input = input(f\"{prompt} [{default}]: \")\n",
    "        \n",
    "        if user_input == \"\" and required:\n",
    "            print(\"This field is required. Please enter a value.\")\n",
    "            continue\n",
    "        \n",
    "        if user_input == \"\" and default is not None:\n",
    "            return default\n",
    "        \n",
    "        if user_input == \"\" and not required:\n",
    "            return None\n",
    "        \n",
    "        try:\n",
    "            return type_cast(user_input)\n",
    "        except ValueError:\n",
    "            print(f\"Invalid input. Please enter a valid {type_cast.__name__}.\")"
   ]
  },
  {
   "cell_type": "code",
   "execution_count": 11,
   "id": "139e88b2",
   "metadata": {
    "papermill": {
     "duration": 0.017703,
     "end_time": "2025-05-21T16:25:02.721184",
     "exception": false,
     "start_time": "2025-05-21T16:25:02.703481",
     "status": "completed"
    },
    "tags": []
   },
   "outputs": [],
   "source": [
    "def get_arguments():\n",
    "    args = {}\n",
    "    args['train_path'] = get_user_input(\"Path to the training dataset (optional)\")\n",
    "    args['test_path'] = get_user_input(\"Path to the test dataset\", required=True)\n",
    "    args['num_checkpoints'] = get_user_input(\"Number of checkpoints to save during training\", type_cast=int)\n",
    "    args['device'] = get_user_input(\"Which GPU to use if any\", default=1, type_cast=int)\n",
    "    args['gnn'] = get_user_input(\"GNN type (gin, gin-virtual, gcn, gcn-virtual)\", default='gin')\n",
    "    args['drop_ratio'] = get_user_input(\"Dropout ratio\", default=0.0, type_cast=float)\n",
    "    args['num_layer'] = get_user_input(\"Number of GNN message passing layers\", default=5, type_cast=int)\n",
    "    args['emb_dim'] = get_user_input(\"Dimensionality of hidden units in GNNs\", default=300, type_cast=int)\n",
    "    args['batch_size'] = get_user_input(\"Input batch size for training\", default=32, type_cast=int)\n",
    "    args['epochs'] = get_user_input(\"Number of epochs to train\", default=10, type_cast=int)\n",
    "    args['baseline_mode'] = get_user_input(\"Baseline mode: 1 (CE), 2 (GCOD)\", default=1, type_cast=int)\n",
    "    args['noise_prob'] = get_user_input(\"Noise probability p (used if baseline_mode=2)\", default=0.2, type_cast=float)\n",
    "\n",
    "    \n",
    "    return argparse.Namespace(**args)\n"
   ]
  },
  {
   "cell_type": "code",
   "execution_count": 24,
   "id": "45bffa19",
   "metadata": {
    "papermill": {
     "duration": 0.118164,
     "end_time": "2025-05-21T16:25:02.850799",
     "exception": true,
     "start_time": "2025-05-21T16:25:02.732635",
     "status": "failed"
    },
    "tags": []
   },
   "outputs": [
    {
     "name": "stdin",
     "output_type": "stream",
     "text": [
      "Path to the training dataset (optional) [None]:  datasets/D/train.json.gz\n",
      "Path to the test dataset [None]:  datasets/D/test.json.gz\n",
      "Number of checkpoints to save during training [None]:  50\n",
      "Which GPU to use if any [1]:  \n",
      "GNN type (gin, gin-virtual, gcn, gcn-virtual) [gin]:  gcn\n",
      "Dropout ratio [0.0]:  \n",
      "Number of GNN message passing layers [5]:  \n",
      "Dimensionality of hidden units in GNNs [300]:  \n",
      "Input batch size for training [32]:  \n",
      "Number of epochs to train [10]:  50\n",
      "Baseline mode: 1 (CE), 2 (GCOD) [1]:  2\n",
      "Noise probability p (used if baseline_mode=2) [0.2]:  \n"
     ]
    },
    {
     "name": "stdout",
     "output_type": "stream",
     "text": [
      "Arguments received:\n",
      "train_path: datasets/D/train.json.gz\n",
      "test_path: datasets/D/test.json.gz\n",
      "num_checkpoints: 50\n",
      "device: 1\n",
      "gnn: gcn\n",
      "drop_ratio: 0.0\n",
      "num_layer: 5\n",
      "emb_dim: 300\n",
      "batch_size: 32\n",
      "epochs: 50\n",
      "baseline_mode: 2\n",
      "noise_prob: 0.2\n"
     ]
    }
   ],
   "source": [
    "def populate_args(args):\n",
    "    print(\"Arguments received:\")\n",
    "    for key, value in vars(args).items():\n",
    "        print(f\"{key}: {value}\")\n",
    "args = get_arguments()\n",
    "populate_args(args)"
   ]
  },
  {
   "cell_type": "code",
   "execution_count": 25,
   "id": "f58745df",
   "metadata": {
    "id": "lHX55XGECXBr",
    "papermill": {
     "duration": null,
     "end_time": null,
     "exception": null,
     "start_time": null,
     "status": "pending"
    },
    "tags": []
   },
   "outputs": [],
   "source": [
    "script_dir = os.getcwd() \n",
    "# device = torch.device(f\"cuda:{args.device}\" if torch.cuda.is_available() else \"cpu\")\n",
    "device = torch.device(\"cuda\" if torch.cuda.is_available() else \"cpu\")\n",
    "num_checkpoints = args.num_checkpoints if args.num_checkpoints else 3\n",
    "    \n",
    "if args.gnn == 'gin':\n",
    "    model = GNN(gnn_type='gin', num_class=6, num_layer=args.num_layer, emb_dim=args.emb_dim, drop_ratio=args.drop_ratio, virtual_node=False).to(device)\n",
    "elif args.gnn == 'gin-virtual':\n",
    "    model = GNN(gnn_type='gin', num_class=6, num_layer=args.num_layer, emb_dim=args.emb_dim, drop_ratio=args.drop_ratio, virtual_node=True).to(device)\n",
    "elif args.gnn == 'gcn':\n",
    "    model = GNN(gnn_type='gcn', num_class=6, num_layer=args.num_layer, emb_dim=args.emb_dim, drop_ratio=args.drop_ratio, virtual_node=False).to(device)\n",
    "elif args.gnn == 'gcn-virtual':\n",
    "    model = GNN(gnn_type='gcn', num_class=6, num_layer=args.num_layer, emb_dim=args.emb_dim, drop_ratio=args.drop_ratio, virtual_node=True).to(device)\n",
    "else:\n",
    "    raise ValueError('Invalid GNN type')\n",
    "    \n",
    "optimizer = torch.optim.Adam(model.parameters(), lr=0.001)\n",
    "# criterion = torch.nn.CrossEntropyLoss()\n",
    "if args.baseline_mode == 2:\n",
    "    # On initialise tout (criterion et optimizer) dans la boucle après la définition de full_dataset, car on a besoin du nombre de sample\n",
    "    pass\n",
    "else:\n",
    "    criterion = torch.nn.CrossEntropyLoss()"
   ]
  },
  {
   "cell_type": "code",
   "execution_count": 26,
   "id": "6a025914",
   "metadata": {
    "id": "BTYT5jYuChPb",
    "papermill": {
     "duration": null,
     "end_time": null,
     "exception": null,
     "start_time": null,
     "status": "pending"
    },
    "tags": []
   },
   "outputs": [],
   "source": [
    "test_dir_name = os.path.basename(os.path.dirname(args.test_path))\n",
    "logs_folder = os.path.join(script_dir, \"logs\", test_dir_name)\n",
    "log_file = os.path.join(logs_folder, \"training.log\")\n",
    "os.makedirs(os.path.dirname(log_file), exist_ok=True)\n",
    "logging.basicConfig(filename=log_file, level=logging.INFO, format='%(asctime)s - %(message)s')\n",
    "logging.getLogger().addHandler(logging.StreamHandler())\n",
    "\n",
    "checkpoint_path = os.path.join(script_dir, \"checkpoints\", f\"model_{test_dir_name}_best.pth\")\n",
    "checkpoints_folder = os.path.join(script_dir, \"checkpoints\", test_dir_name)\n",
    "os.makedirs(checkpoints_folder, exist_ok=True)\n"
   ]
  },
  {
   "cell_type": "code",
   "execution_count": 27,
   "id": "dbca6779",
   "metadata": {
    "papermill": {
     "duration": null,
     "end_time": null,
     "exception": null,
     "start_time": null,
     "status": "pending"
    },
    "tags": []
   },
   "outputs": [],
   "source": [
    "if os.path.exists(checkpoint_path) and not args.train_path:\n",
    "    model.load_state_dict(torch.load(checkpoint_path))\n",
    "    print(f\"Loaded best model from {checkpoint_path}\")"
   ]
  },
  {
   "cell_type": "code",
   "execution_count": 28,
   "id": "40cbffaf-190a-4e81-8be1-9972a709ad65",
   "metadata": {},
   "outputs": [],
   "source": [
    "class IndexedSubDataset(Dataset):\n",
    "    def __init__(self, subset):\n",
    "        self.subset = subset\n",
    "\n",
    "    def __len__(self):\n",
    "        return len(self.subset)\n",
    "\n",
    "    def __getitem__(self, i):\n",
    "        data = self.subset[i]\n",
    "        data.idx = i  # 👈 réindexe localement\n",
    "        return data"
   ]
  },
  {
   "cell_type": "code",
   "execution_count": 29,
   "id": "96036e5b-e165-4bf7-9665-19cf3c17861b",
   "metadata": {},
   "outputs": [],
   "source": [
    "import torch\n",
    "import torch.nn as nn\n",
    "import torch.nn.functional as F\n",
    "\n",
    "class GCODLoss(nn.Module):\n",
    "    #def __init__(self, num_samples, num_classes=6, alpha=1.0, beta=1.0):\n",
    "    def __init__(self, num_classes=6, alpha=1.0, beta=1.0):\n",
    "        super().__init__()\n",
    "        self.num_classes = num_classes\n",
    "        self.alpha = alpha\n",
    "        self.beta = beta\n",
    "\n",
    "        # u est un vecteur trainable de taille num_samples\n",
    "        #self.register_parameter(\"u\", nn.Parameter(torch.ones(num_samples)))\n",
    "\n",
    "    def forward(self, logits, u_batch, y_onehot, y_soft, a_train):\n",
    "        \"\"\"\n",
    "        logits: (B, C)\n",
    "        u_batch: (B,)\n",
    "        y_onehot: (B, C)\n",
    "        y_soft: (B, C)\n",
    "        a_train: float\n",
    "        \"\"\"\n",
    "        B, C = logits.shape\n",
    "\n",
    "        u_diag_y = u_batch.unsqueeze(1) * y_onehot  # (B, C)\n",
    "\n",
    "        # L1: weighted cross-entropy with soft labels\n",
    "        logits_mod = logits + a_train * u_diag_y\n",
    "        L1 = F.cross_entropy(logits_mod, y_soft.argmax(dim=1))\n",
    "\n",
    "        # L2: squared norm alignment\n",
    "        y_pred_onehot = torch.zeros_like(y_onehot)\n",
    "        y_pred_onehot.scatter_(1, logits.argmax(dim=1, keepdim=True), 1)\n",
    "        L2 = (1 / C) * ((y_pred_onehot + u_diag_y - y_onehot).pow(2).sum(dim=1).mean())\n",
    "\n",
    "        # L3: KL regularization\n",
    "        diag_logits_y = (logits * y_onehot).sum(dim=1)\n",
    "        L = torch.log(torch.sigmoid(diag_logits_y) + 1e-12)\n",
    "        sigma_neg_log_u = 1.0 / (1.0 + u_batch)\n",
    "\n",
    "        P = torch.sigmoid(L)\n",
    "        Q = sigma_neg_log_u.clamp(min=1e-6, max=1 - 1e-6)\n",
    "        L3 = (1 - a_train) * (P * (torch.log(P + 1e-12) - torch.log(Q))).mean()\n",
    "\n",
    "        return L1 + L3, L2"
   ]
  },
  {
   "cell_type": "code",
   "execution_count": 30,
   "id": "9acafb80-607f-4ee3-9a46-cc72479c47e3",
   "metadata": {},
   "outputs": [],
   "source": [
    "def train(train_loader, model, optimizer_theta, optimizer_u, criterion, device):\n",
    "    model.train()\n",
    "    total_loss = 0\n",
    "    correct = 0\n",
    "    total = 0\n",
    "\n",
    "    for batch in train_loader:\n",
    "        batch = batch.to(device)\n",
    "\n",
    "        optimizer_theta.zero_grad()\n",
    "        optimizer_u.zero_grad()\n",
    "\n",
    "        logits = model(batch)\n",
    "\n",
    "        y = batch.y\n",
    "        y_onehot = F.one_hot(y, num_classes=criterion.num_classes).float()\n",
    "        y_soft = y_onehot.clone()\n",
    "\n",
    "        # Récupère les indices des graphes dans le batch\n",
    "        #graph_indices = batch.idx.to(criterion.u.device)        \n",
    "        #u_batch = criterion.u[graph_indices]\n",
    "\n",
    "        # Récupération des indices (par exemple avec batch.ptr)\n",
    "        graph_indices = batch.idx.to(device)\n",
    "        u_batch = u[graph_indices]  # 🔁 u est passé de l'extérieur\n",
    "\n",
    "\n",
    "        # ➕ Calcul des prédictions pour accuracy\n",
    "        preds = logits.argmax(dim=1)\n",
    "        correct += (preds == y).sum().item()\n",
    "        total += y.size(0)\n",
    "        train_acc = correct / total\n",
    "\n",
    "        # ➕ Calcul des pertes\n",
    "        loss_theta, loss_u = criterion(logits, u_batch, y_onehot, y_soft, train_acc)\n",
    "\n",
    "        # ➕ Backpropagation\n",
    "        loss_theta.backward(retain_graph=True)\n",
    "        optimizer_theta.step()\n",
    "\n",
    "        loss_u.backward()\n",
    "        optimizer_u.step()\n",
    "\n",
    "        # ✅ Clamp u entre 0 et 1 pour éviter qu’il devienne négatif ou explose\n",
    "        u.data.clamp_(0, 1)\n",
    "\n",
    "\n",
    "        total_loss += loss_theta.item()\n",
    "\n",
    "    avg_loss = total_loss / len(train_loader)\n",
    "    final_train_acc = correct / total\n",
    "    return avg_loss, final_train_acc\n"
   ]
  },
  {
   "cell_type": "code",
   "execution_count": 31,
   "id": "64e363d9-4b20-49ee-bd97-44e9e5608b19",
   "metadata": {},
   "outputs": [
    {
     "name": "stderr",
     "output_type": "stream",
     "text": [
      "Iterating eval graphs: 100%|██████████| 65/65 [00:13<00:00,  4.87batch/s]\n",
      "Epoch 1/50, Loss: 0.9459, Train Acc: 0.5066, Val Acc: 0.2758\n",
      "Epoch 1/50, Loss: 0.9459, Train Acc: 0.5066, Val Acc: 0.2758\n"
     ]
    },
    {
     "name": "stdout",
     "output_type": "stream",
     "text": [
      "Epoch 1/50, Loss: 0.9459, Train Acc: 0.5066, Val Acc: 0.2758\n",
      "Best model updated and saved at /home/onyxia/work/DL-Hackathon/hackaton/checkpoints/model_D_best.pth\n"
     ]
    },
    {
     "name": "stderr",
     "output_type": "stream",
     "text": [
      "Iterating eval graphs: 100%|██████████| 65/65 [00:12<00:00,  5.01batch/s]\n",
      "Epoch 2/50, Loss: 0.6187, Train Acc: 0.6007, Val Acc: 0.3181\n",
      "Epoch 2/50, Loss: 0.6187, Train Acc: 0.6007, Val Acc: 0.3181\n"
     ]
    },
    {
     "name": "stdout",
     "output_type": "stream",
     "text": [
      "Epoch 2/50, Loss: 0.6187, Train Acc: 0.6007, Val Acc: 0.3181\n",
      "Best model updated and saved at /home/onyxia/work/DL-Hackathon/hackaton/checkpoints/model_D_best.pth\n"
     ]
    },
    {
     "name": "stderr",
     "output_type": "stream",
     "text": [
      "Iterating eval graphs: 100%|██████████| 65/65 [00:13<00:00,  4.91batch/s]\n",
      "Epoch 3/50, Loss: 0.4832, Train Acc: 0.6577, Val Acc: 0.6873\n",
      "Epoch 3/50, Loss: 0.4832, Train Acc: 0.6577, Val Acc: 0.6873\n"
     ]
    },
    {
     "name": "stdout",
     "output_type": "stream",
     "text": [
      "Epoch 3/50, Loss: 0.4832, Train Acc: 0.6577, Val Acc: 0.6873\n",
      "Best model updated and saved at /home/onyxia/work/DL-Hackathon/hackaton/checkpoints/model_D_best.pth\n"
     ]
    },
    {
     "name": "stderr",
     "output_type": "stream",
     "text": [
      "Iterating eval graphs: 100%|██████████| 65/65 [00:12<00:00,  5.12batch/s]\n",
      "Epoch 4/50, Loss: 0.4183, Train Acc: 0.6825, Val Acc: 0.5229\n",
      "Epoch 4/50, Loss: 0.4183, Train Acc: 0.6825, Val Acc: 0.5229\n"
     ]
    },
    {
     "name": "stdout",
     "output_type": "stream",
     "text": [
      "Epoch 4/50, Loss: 0.4183, Train Acc: 0.6825, Val Acc: 0.5229\n"
     ]
    },
    {
     "name": "stderr",
     "output_type": "stream",
     "text": [
      "Iterating eval graphs: 100%|██████████| 65/65 [00:13<00:00,  4.91batch/s]\n",
      "Epoch 5/50, Loss: 0.3743, Train Acc: 0.7037, Val Acc: 0.6162\n",
      "Epoch 5/50, Loss: 0.3743, Train Acc: 0.7037, Val Acc: 0.6162\n"
     ]
    },
    {
     "name": "stdout",
     "output_type": "stream",
     "text": [
      "Epoch 5/50, Loss: 0.3743, Train Acc: 0.7037, Val Acc: 0.6162\n"
     ]
    },
    {
     "name": "stderr",
     "output_type": "stream",
     "text": [
      "Iterating eval graphs: 100%|██████████| 65/65 [00:12<00:00,  5.14batch/s]\n",
      "Epoch 6/50, Loss: 0.3300, Train Acc: 0.7240, Val Acc: 0.5798\n",
      "Epoch 6/50, Loss: 0.3300, Train Acc: 0.7240, Val Acc: 0.5798\n"
     ]
    },
    {
     "name": "stdout",
     "output_type": "stream",
     "text": [
      "Epoch 6/50, Loss: 0.3300, Train Acc: 0.7240, Val Acc: 0.5798\n"
     ]
    },
    {
     "name": "stderr",
     "output_type": "stream",
     "text": [
      "Iterating eval graphs: 100%|██████████| 65/65 [00:12<00:00,  5.00batch/s]\n",
      "Epoch 7/50, Loss: 0.3136, Train Acc: 0.7291, Val Acc: 0.5545\n",
      "Epoch 7/50, Loss: 0.3136, Train Acc: 0.7291, Val Acc: 0.5545\n"
     ]
    },
    {
     "name": "stdout",
     "output_type": "stream",
     "text": [
      "Epoch 7/50, Loss: 0.3136, Train Acc: 0.7291, Val Acc: 0.5545\n"
     ]
    },
    {
     "name": "stderr",
     "output_type": "stream",
     "text": [
      "Iterating eval graphs: 100%|██████████| 65/65 [00:12<00:00,  5.20batch/s]\n",
      "Epoch 8/50, Loss: 0.2829, Train Acc: 0.7443, Val Acc: 0.6304\n",
      "Epoch 8/50, Loss: 0.2829, Train Acc: 0.7443, Val Acc: 0.6304\n"
     ]
    },
    {
     "name": "stdout",
     "output_type": "stream",
     "text": [
      "Epoch 8/50, Loss: 0.2829, Train Acc: 0.7443, Val Acc: 0.6304\n"
     ]
    },
    {
     "name": "stderr",
     "output_type": "stream",
     "text": [
      "Iterating eval graphs: 100%|██████████| 65/65 [00:12<00:00,  5.31batch/s]\n",
      "Epoch 9/50, Loss: 0.2469, Train Acc: 0.7634, Val Acc: 0.6921\n",
      "Epoch 9/50, Loss: 0.2469, Train Acc: 0.7634, Val Acc: 0.6921\n"
     ]
    },
    {
     "name": "stdout",
     "output_type": "stream",
     "text": [
      "Epoch 9/50, Loss: 0.2469, Train Acc: 0.7634, Val Acc: 0.6921\n",
      "Best model updated and saved at /home/onyxia/work/DL-Hackathon/hackaton/checkpoints/model_D_best.pth\n"
     ]
    },
    {
     "name": "stderr",
     "output_type": "stream",
     "text": [
      "Iterating eval graphs: 100%|██████████| 65/65 [00:13<00:00,  4.97batch/s]\n",
      "Epoch 10/50, Loss: 0.2531, Train Acc: 0.7577, Val Acc: 0.6839\n",
      "Epoch 10/50, Loss: 0.2531, Train Acc: 0.7577, Val Acc: 0.6839\n"
     ]
    },
    {
     "name": "stdout",
     "output_type": "stream",
     "text": [
      "Epoch 10/50, Loss: 0.2531, Train Acc: 0.7577, Val Acc: 0.6839\n"
     ]
    },
    {
     "name": "stderr",
     "output_type": "stream",
     "text": [
      "Iterating eval graphs: 100%|██████████| 65/65 [00:12<00:00,  5.12batch/s]\n",
      "Epoch 11/50, Loss: 0.2252, Train Acc: 0.7752, Val Acc: 0.6133\n",
      "Epoch 11/50, Loss: 0.2252, Train Acc: 0.7752, Val Acc: 0.6133\n"
     ]
    },
    {
     "name": "stdout",
     "output_type": "stream",
     "text": [
      "Epoch 11/50, Loss: 0.2252, Train Acc: 0.7752, Val Acc: 0.6133\n"
     ]
    },
    {
     "name": "stderr",
     "output_type": "stream",
     "text": [
      "Iterating eval graphs: 100%|██████████| 65/65 [00:12<00:00,  5.02batch/s]\n",
      "Epoch 12/50, Loss: 0.2335, Train Acc: 0.7702, Val Acc: 0.6882\n",
      "Epoch 12/50, Loss: 0.2335, Train Acc: 0.7702, Val Acc: 0.6882\n"
     ]
    },
    {
     "name": "stdout",
     "output_type": "stream",
     "text": [
      "Epoch 12/50, Loss: 0.2335, Train Acc: 0.7702, Val Acc: 0.6882\n"
     ]
    },
    {
     "name": "stderr",
     "output_type": "stream",
     "text": [
      "Iterating eval graphs: 100%|██████████| 65/65 [00:12<00:00,  5.03batch/s]\n",
      "Epoch 13/50, Loss: 0.2168, Train Acc: 0.7812, Val Acc: 0.6848\n",
      "Epoch 13/50, Loss: 0.2168, Train Acc: 0.7812, Val Acc: 0.6848\n"
     ]
    },
    {
     "name": "stdout",
     "output_type": "stream",
     "text": [
      "Epoch 13/50, Loss: 0.2168, Train Acc: 0.7812, Val Acc: 0.6848\n"
     ]
    },
    {
     "name": "stderr",
     "output_type": "stream",
     "text": [
      "Iterating eval graphs: 100%|██████████| 65/65 [00:12<00:00,  5.09batch/s]\n",
      "Epoch 14/50, Loss: 0.1998, Train Acc: 0.7956, Val Acc: 0.6668\n",
      "Epoch 14/50, Loss: 0.1998, Train Acc: 0.7956, Val Acc: 0.6668\n"
     ]
    },
    {
     "name": "stdout",
     "output_type": "stream",
     "text": [
      "Epoch 14/50, Loss: 0.1998, Train Acc: 0.7956, Val Acc: 0.6668\n"
     ]
    },
    {
     "name": "stderr",
     "output_type": "stream",
     "text": [
      "Iterating eval graphs: 100%|██████████| 65/65 [00:12<00:00,  5.03batch/s]\n",
      "Epoch 15/50, Loss: 0.1691, Train Acc: 0.8149, Val Acc: 0.6907\n",
      "Epoch 15/50, Loss: 0.1691, Train Acc: 0.8149, Val Acc: 0.6907\n"
     ]
    },
    {
     "name": "stdout",
     "output_type": "stream",
     "text": [
      "Epoch 15/50, Loss: 0.1691, Train Acc: 0.8149, Val Acc: 0.6907\n"
     ]
    },
    {
     "name": "stderr",
     "output_type": "stream",
     "text": [
      "Iterating eval graphs: 100%|██████████| 65/65 [00:13<00:00,  4.94batch/s]\n",
      "Epoch 16/50, Loss: 0.1659, Train Acc: 0.8239, Val Acc: 0.6673\n",
      "Epoch 16/50, Loss: 0.1659, Train Acc: 0.8239, Val Acc: 0.6673\n"
     ]
    },
    {
     "name": "stdout",
     "output_type": "stream",
     "text": [
      "Epoch 16/50, Loss: 0.1659, Train Acc: 0.8239, Val Acc: 0.6673\n"
     ]
    },
    {
     "name": "stderr",
     "output_type": "stream",
     "text": [
      "Iterating eval graphs: 100%|██████████| 65/65 [00:12<00:00,  5.18batch/s]\n",
      "Epoch 17/50, Loss: 0.1816, Train Acc: 0.8092, Val Acc: 0.3341\n",
      "Epoch 17/50, Loss: 0.1816, Train Acc: 0.8092, Val Acc: 0.3341\n"
     ]
    },
    {
     "name": "stdout",
     "output_type": "stream",
     "text": [
      "Epoch 17/50, Loss: 0.1816, Train Acc: 0.8092, Val Acc: 0.3341\n"
     ]
    },
    {
     "name": "stderr",
     "output_type": "stream",
     "text": [
      "Iterating eval graphs: 100%|██████████| 65/65 [00:12<00:00,  5.10batch/s]\n",
      "Epoch 18/50, Loss: 0.1891, Train Acc: 0.8110, Val Acc: 0.6240\n",
      "Epoch 18/50, Loss: 0.1891, Train Acc: 0.8110, Val Acc: 0.6240\n"
     ]
    },
    {
     "name": "stdout",
     "output_type": "stream",
     "text": [
      "Epoch 18/50, Loss: 0.1891, Train Acc: 0.8110, Val Acc: 0.6240\n"
     ]
    },
    {
     "name": "stderr",
     "output_type": "stream",
     "text": [
      "Iterating eval graphs: 100%|██████████| 65/65 [00:13<00:00,  5.00batch/s]\n",
      "Epoch 19/50, Loss: 0.1569, Train Acc: 0.8343, Val Acc: 0.7155\n",
      "Epoch 19/50, Loss: 0.1569, Train Acc: 0.8343, Val Acc: 0.7155\n"
     ]
    },
    {
     "name": "stdout",
     "output_type": "stream",
     "text": [
      "Epoch 19/50, Loss: 0.1569, Train Acc: 0.8343, Val Acc: 0.7155\n",
      "Best model updated and saved at /home/onyxia/work/DL-Hackathon/hackaton/checkpoints/model_D_best.pth\n"
     ]
    },
    {
     "name": "stderr",
     "output_type": "stream",
     "text": [
      "Iterating eval graphs: 100%|██████████| 65/65 [00:12<00:00,  5.01batch/s]\n",
      "Epoch 20/50, Loss: 0.1270, Train Acc: 0.8603, Val Acc: 0.7276\n",
      "Epoch 20/50, Loss: 0.1270, Train Acc: 0.8603, Val Acc: 0.7276\n"
     ]
    },
    {
     "name": "stdout",
     "output_type": "stream",
     "text": [
      "Epoch 20/50, Loss: 0.1270, Train Acc: 0.8603, Val Acc: 0.7276\n",
      "Best model updated and saved at /home/onyxia/work/DL-Hackathon/hackaton/checkpoints/model_D_best.pth\n"
     ]
    },
    {
     "name": "stderr",
     "output_type": "stream",
     "text": [
      "Iterating eval graphs: 100%|██████████| 65/65 [00:12<00:00,  5.17batch/s]\n",
      "Epoch 21/50, Loss: 0.1264, Train Acc: 0.8720, Val Acc: 0.6245\n",
      "Epoch 21/50, Loss: 0.1264, Train Acc: 0.8720, Val Acc: 0.6245\n"
     ]
    },
    {
     "name": "stdout",
     "output_type": "stream",
     "text": [
      "Epoch 21/50, Loss: 0.1264, Train Acc: 0.8720, Val Acc: 0.6245\n"
     ]
    },
    {
     "name": "stderr",
     "output_type": "stream",
     "text": [
      "Iterating eval graphs: 100%|██████████| 65/65 [00:12<00:00,  5.07batch/s]\n",
      "Epoch 22/50, Loss: 0.1422, Train Acc: 0.8619, Val Acc: 0.6688\n",
      "Epoch 22/50, Loss: 0.1422, Train Acc: 0.8619, Val Acc: 0.6688\n"
     ]
    },
    {
     "name": "stdout",
     "output_type": "stream",
     "text": [
      "Epoch 22/50, Loss: 0.1422, Train Acc: 0.8619, Val Acc: 0.6688\n"
     ]
    },
    {
     "name": "stderr",
     "output_type": "stream",
     "text": [
      "Iterating eval graphs: 100%|██████████| 65/65 [00:13<00:00,  4.91batch/s]\n",
      "Epoch 23/50, Loss: 0.1148, Train Acc: 0.8863, Val Acc: 0.7262\n",
      "Epoch 23/50, Loss: 0.1148, Train Acc: 0.8863, Val Acc: 0.7262\n"
     ]
    },
    {
     "name": "stdout",
     "output_type": "stream",
     "text": [
      "Epoch 23/50, Loss: 0.1148, Train Acc: 0.8863, Val Acc: 0.7262\n"
     ]
    },
    {
     "name": "stderr",
     "output_type": "stream",
     "text": [
      "Iterating eval graphs: 100%|██████████| 65/65 [00:13<00:00,  4.83batch/s]\n",
      "Epoch 24/50, Loss: 0.0977, Train Acc: 0.9048, Val Acc: 0.4567\n",
      "Epoch 24/50, Loss: 0.0977, Train Acc: 0.9048, Val Acc: 0.4567\n"
     ]
    },
    {
     "name": "stdout",
     "output_type": "stream",
     "text": [
      "Epoch 24/50, Loss: 0.0977, Train Acc: 0.9048, Val Acc: 0.4567\n"
     ]
    },
    {
     "name": "stderr",
     "output_type": "stream",
     "text": [
      "Iterating eval graphs: 100%|██████████| 65/65 [00:12<00:00,  5.04batch/s]\n",
      "Epoch 25/50, Loss: 0.1082, Train Acc: 0.9005, Val Acc: 0.5559\n",
      "Epoch 25/50, Loss: 0.1082, Train Acc: 0.9005, Val Acc: 0.5559\n"
     ]
    },
    {
     "name": "stdout",
     "output_type": "stream",
     "text": [
      "Epoch 25/50, Loss: 0.1082, Train Acc: 0.9005, Val Acc: 0.5559\n"
     ]
    },
    {
     "name": "stderr",
     "output_type": "stream",
     "text": [
      "Iterating eval graphs: 100%|██████████| 65/65 [00:12<00:00,  5.08batch/s]\n",
      "Epoch 26/50, Loss: 0.1489, Train Acc: 0.8698, Val Acc: 0.6873\n",
      "Epoch 26/50, Loss: 0.1489, Train Acc: 0.8698, Val Acc: 0.6873\n"
     ]
    },
    {
     "name": "stdout",
     "output_type": "stream",
     "text": [
      "Epoch 26/50, Loss: 0.1489, Train Acc: 0.8698, Val Acc: 0.6873\n"
     ]
    },
    {
     "name": "stderr",
     "output_type": "stream",
     "text": [
      "Iterating eval graphs: 100%|██████████| 65/65 [00:12<00:00,  5.11batch/s]\n",
      "Epoch 27/50, Loss: 0.1050, Train Acc: 0.9044, Val Acc: 0.7247\n",
      "Epoch 27/50, Loss: 0.1050, Train Acc: 0.9044, Val Acc: 0.7247\n"
     ]
    },
    {
     "name": "stdout",
     "output_type": "stream",
     "text": [
      "Epoch 27/50, Loss: 0.1050, Train Acc: 0.9044, Val Acc: 0.7247\n"
     ]
    },
    {
     "name": "stderr",
     "output_type": "stream",
     "text": [
      "Iterating eval graphs: 100%|██████████| 65/65 [00:13<00:00,  4.98batch/s]\n",
      "Epoch 28/50, Loss: 0.0707, Train Acc: 0.9379, Val Acc: 0.7301\n",
      "Epoch 28/50, Loss: 0.0707, Train Acc: 0.9379, Val Acc: 0.7301\n"
     ]
    },
    {
     "name": "stdout",
     "output_type": "stream",
     "text": [
      "Epoch 28/50, Loss: 0.0707, Train Acc: 0.9379, Val Acc: 0.7301\n",
      "Best model updated and saved at /home/onyxia/work/DL-Hackathon/hackaton/checkpoints/model_D_best.pth\n"
     ]
    },
    {
     "name": "stderr",
     "output_type": "stream",
     "text": [
      "Iterating eval graphs: 100%|██████████| 65/65 [00:12<00:00,  5.10batch/s]\n",
      "Epoch 29/50, Loss: 0.0650, Train Acc: 0.9450, Val Acc: 0.7252\n",
      "Epoch 29/50, Loss: 0.0650, Train Acc: 0.9450, Val Acc: 0.7252\n"
     ]
    },
    {
     "name": "stdout",
     "output_type": "stream",
     "text": [
      "Epoch 29/50, Loss: 0.0650, Train Acc: 0.9450, Val Acc: 0.7252\n"
     ]
    },
    {
     "name": "stderr",
     "output_type": "stream",
     "text": [
      "Iterating eval graphs: 100%|██████████| 65/65 [00:12<00:00,  5.12batch/s]\n",
      "Epoch 30/50, Loss: 0.0634, Train Acc: 0.9491, Val Acc: 0.7179\n",
      "Epoch 30/50, Loss: 0.0634, Train Acc: 0.9491, Val Acc: 0.7179\n"
     ]
    },
    {
     "name": "stdout",
     "output_type": "stream",
     "text": [
      "Epoch 30/50, Loss: 0.0634, Train Acc: 0.9491, Val Acc: 0.7179\n"
     ]
    },
    {
     "name": "stderr",
     "output_type": "stream",
     "text": [
      "Iterating eval graphs: 100%|██████████| 65/65 [00:12<00:00,  5.24batch/s]\n",
      "Epoch 31/50, Loss: 0.0782, Train Acc: 0.9370, Val Acc: 0.6751\n",
      "Epoch 31/50, Loss: 0.0782, Train Acc: 0.9370, Val Acc: 0.6751\n"
     ]
    },
    {
     "name": "stdout",
     "output_type": "stream",
     "text": [
      "Epoch 31/50, Loss: 0.0782, Train Acc: 0.9370, Val Acc: 0.6751\n"
     ]
    },
    {
     "name": "stderr",
     "output_type": "stream",
     "text": [
      "Iterating eval graphs: 100%|██████████| 65/65 [00:13<00:00,  5.00batch/s]\n",
      "Epoch 32/50, Loss: 0.1076, Train Acc: 0.9127, Val Acc: 0.7004\n",
      "Epoch 32/50, Loss: 0.1076, Train Acc: 0.9127, Val Acc: 0.7004\n"
     ]
    },
    {
     "name": "stdout",
     "output_type": "stream",
     "text": [
      "Epoch 32/50, Loss: 0.1076, Train Acc: 0.9127, Val Acc: 0.7004\n"
     ]
    },
    {
     "name": "stderr",
     "output_type": "stream",
     "text": [
      "Iterating eval graphs: 100%|██████████| 65/65 [00:12<00:00,  5.07batch/s]\n",
      "Epoch 33/50, Loss: 0.0801, Train Acc: 0.9377, Val Acc: 0.7116\n",
      "Epoch 33/50, Loss: 0.0801, Train Acc: 0.9377, Val Acc: 0.7116\n"
     ]
    },
    {
     "name": "stdout",
     "output_type": "stream",
     "text": [
      "Epoch 33/50, Loss: 0.0801, Train Acc: 0.9377, Val Acc: 0.7116\n"
     ]
    },
    {
     "name": "stderr",
     "output_type": "stream",
     "text": [
      "Iterating eval graphs: 100%|██████████| 65/65 [00:13<00:00,  4.98batch/s]\n",
      "Epoch 34/50, Loss: 0.0444, Train Acc: 0.9683, Val Acc: 0.7271\n",
      "Epoch 34/50, Loss: 0.0444, Train Acc: 0.9683, Val Acc: 0.7271\n"
     ]
    },
    {
     "name": "stdout",
     "output_type": "stream",
     "text": [
      "Epoch 34/50, Loss: 0.0444, Train Acc: 0.9683, Val Acc: 0.7271\n"
     ]
    },
    {
     "name": "stderr",
     "output_type": "stream",
     "text": [
      "Iterating eval graphs: 100%|██████████| 65/65 [00:12<00:00,  5.14batch/s]\n",
      "Epoch 35/50, Loss: 0.0322, Train Acc: 0.9799, Val Acc: 0.7160\n",
      "Epoch 35/50, Loss: 0.0322, Train Acc: 0.9799, Val Acc: 0.7160\n"
     ]
    },
    {
     "name": "stdout",
     "output_type": "stream",
     "text": [
      "Epoch 35/50, Loss: 0.0322, Train Acc: 0.9799, Val Acc: 0.7160\n"
     ]
    },
    {
     "name": "stderr",
     "output_type": "stream",
     "text": [
      "Iterating eval graphs: 100%|██████████| 65/65 [00:12<00:00,  5.04batch/s]\n",
      "Epoch 36/50, Loss: 0.0412, Train Acc: 0.9702, Val Acc: 0.6921\n",
      "Epoch 36/50, Loss: 0.0412, Train Acc: 0.9702, Val Acc: 0.6921\n"
     ]
    },
    {
     "name": "stdout",
     "output_type": "stream",
     "text": [
      "Epoch 36/50, Loss: 0.0412, Train Acc: 0.9702, Val Acc: 0.6921\n"
     ]
    },
    {
     "name": "stderr",
     "output_type": "stream",
     "text": [
      "Iterating eval graphs: 100%|██████████| 65/65 [00:12<00:00,  5.37batch/s]\n",
      "Epoch 37/50, Loss: 0.1245, Train Acc: 0.9103, Val Acc: 0.6620\n",
      "Epoch 37/50, Loss: 0.1245, Train Acc: 0.9103, Val Acc: 0.6620\n"
     ]
    },
    {
     "name": "stdout",
     "output_type": "stream",
     "text": [
      "Epoch 37/50, Loss: 0.1245, Train Acc: 0.9103, Val Acc: 0.6620\n"
     ]
    },
    {
     "name": "stderr",
     "output_type": "stream",
     "text": [
      "Iterating eval graphs: 100%|██████████| 65/65 [00:12<00:00,  5.18batch/s]\n",
      "Epoch 38/50, Loss: 0.0782, Train Acc: 0.9411, Val Acc: 0.7014\n",
      "Epoch 38/50, Loss: 0.0782, Train Acc: 0.9411, Val Acc: 0.7014\n"
     ]
    },
    {
     "name": "stdout",
     "output_type": "stream",
     "text": [
      "Epoch 38/50, Loss: 0.0782, Train Acc: 0.9411, Val Acc: 0.7014\n"
     ]
    },
    {
     "name": "stderr",
     "output_type": "stream",
     "text": [
      "Iterating eval graphs: 100%|██████████| 65/65 [00:12<00:00,  5.10batch/s]\n",
      "Epoch 39/50, Loss: 0.0332, Train Acc: 0.9805, Val Acc: 0.7325\n",
      "Epoch 39/50, Loss: 0.0332, Train Acc: 0.9805, Val Acc: 0.7325\n"
     ]
    },
    {
     "name": "stdout",
     "output_type": "stream",
     "text": [
      "Epoch 39/50, Loss: 0.0332, Train Acc: 0.9805, Val Acc: 0.7325\n",
      "Best model updated and saved at /home/onyxia/work/DL-Hackathon/hackaton/checkpoints/model_D_best.pth\n"
     ]
    },
    {
     "name": "stderr",
     "output_type": "stream",
     "text": [
      "Iterating eval graphs: 100%|██████████| 65/65 [00:13<00:00,  4.84batch/s]\n",
      "Epoch 40/50, Loss: 0.0168, Train Acc: 0.9943, Val Acc: 0.7262\n",
      "Epoch 40/50, Loss: 0.0168, Train Acc: 0.9943, Val Acc: 0.7262\n"
     ]
    },
    {
     "name": "stdout",
     "output_type": "stream",
     "text": [
      "Epoch 40/50, Loss: 0.0168, Train Acc: 0.9943, Val Acc: 0.7262\n"
     ]
    },
    {
     "name": "stderr",
     "output_type": "stream",
     "text": [
      "Iterating eval graphs: 100%|██████████| 65/65 [00:13<00:00,  4.88batch/s]\n",
      "Epoch 41/50, Loss: 0.0127, Train Acc: 0.9972, Val Acc: 0.7179\n",
      "Epoch 41/50, Loss: 0.0127, Train Acc: 0.9972, Val Acc: 0.7179\n"
     ]
    },
    {
     "name": "stdout",
     "output_type": "stream",
     "text": [
      "Epoch 41/50, Loss: 0.0127, Train Acc: 0.9972, Val Acc: 0.7179\n"
     ]
    },
    {
     "name": "stderr",
     "output_type": "stream",
     "text": [
      "Iterating eval graphs: 100%|██████████| 65/65 [00:12<00:00,  5.04batch/s]\n",
      "Epoch 42/50, Loss: 0.1272, Train Acc: 0.9313, Val Acc: 0.6508\n",
      "Epoch 42/50, Loss: 0.1272, Train Acc: 0.9313, Val Acc: 0.6508\n"
     ]
    },
    {
     "name": "stdout",
     "output_type": "stream",
     "text": [
      "Epoch 42/50, Loss: 0.1272, Train Acc: 0.9313, Val Acc: 0.6508\n"
     ]
    },
    {
     "name": "stderr",
     "output_type": "stream",
     "text": [
      "Iterating eval graphs: 100%|██████████| 65/65 [00:12<00:00,  5.07batch/s]\n",
      "Epoch 43/50, Loss: 0.1449, Train Acc: 0.8920, Val Acc: 0.7247\n",
      "Epoch 43/50, Loss: 0.1449, Train Acc: 0.8920, Val Acc: 0.7247\n"
     ]
    },
    {
     "name": "stdout",
     "output_type": "stream",
     "text": [
      "Epoch 43/50, Loss: 0.1449, Train Acc: 0.8920, Val Acc: 0.7247\n"
     ]
    },
    {
     "name": "stderr",
     "output_type": "stream",
     "text": [
      "Iterating eval graphs: 100%|██████████| 65/65 [00:12<00:00,  5.05batch/s]\n",
      "Epoch 44/50, Loss: 0.0417, Train Acc: 0.9731, Val Acc: 0.7247\n",
      "Epoch 44/50, Loss: 0.0417, Train Acc: 0.9731, Val Acc: 0.7247\n"
     ]
    },
    {
     "name": "stdout",
     "output_type": "stream",
     "text": [
      "Epoch 44/50, Loss: 0.0417, Train Acc: 0.9731, Val Acc: 0.7247\n"
     ]
    },
    {
     "name": "stderr",
     "output_type": "stream",
     "text": [
      "Iterating eval graphs: 100%|██████████| 65/65 [00:12<00:00,  5.01batch/s]\n",
      "Epoch 45/50, Loss: 0.0205, Train Acc: 0.9936, Val Acc: 0.7339\n",
      "Epoch 45/50, Loss: 0.0205, Train Acc: 0.9936, Val Acc: 0.7339\n"
     ]
    },
    {
     "name": "stdout",
     "output_type": "stream",
     "text": [
      "Epoch 45/50, Loss: 0.0205, Train Acc: 0.9936, Val Acc: 0.7339\n",
      "Best model updated and saved at /home/onyxia/work/DL-Hackathon/hackaton/checkpoints/model_D_best.pth\n"
     ]
    },
    {
     "name": "stderr",
     "output_type": "stream",
     "text": [
      "Iterating eval graphs: 100%|██████████| 65/65 [00:12<00:00,  5.27batch/s]\n",
      "Epoch 46/50, Loss: 0.0106, Train Acc: 0.9989, Val Acc: 0.7271\n",
      "Epoch 46/50, Loss: 0.0106, Train Acc: 0.9989, Val Acc: 0.7271\n"
     ]
    },
    {
     "name": "stdout",
     "output_type": "stream",
     "text": [
      "Epoch 46/50, Loss: 0.0106, Train Acc: 0.9989, Val Acc: 0.7271\n"
     ]
    },
    {
     "name": "stderr",
     "output_type": "stream",
     "text": [
      "Iterating eval graphs: 100%|██████████| 65/65 [00:12<00:00,  5.10batch/s]\n",
      "Epoch 47/50, Loss: 0.0062, Train Acc: 0.9998, Val Acc: 0.7320\n",
      "Epoch 47/50, Loss: 0.0062, Train Acc: 0.9998, Val Acc: 0.7320\n"
     ]
    },
    {
     "name": "stdout",
     "output_type": "stream",
     "text": [
      "Epoch 47/50, Loss: 0.0062, Train Acc: 0.9998, Val Acc: 0.7320\n"
     ]
    },
    {
     "name": "stderr",
     "output_type": "stream",
     "text": [
      "Iterating eval graphs: 100%|██████████| 65/65 [00:12<00:00,  5.01batch/s]\n",
      "Epoch 48/50, Loss: 0.0042, Train Acc: 0.9995, Val Acc: 0.7349\n",
      "Epoch 48/50, Loss: 0.0042, Train Acc: 0.9995, Val Acc: 0.7349\n"
     ]
    },
    {
     "name": "stdout",
     "output_type": "stream",
     "text": [
      "Epoch 48/50, Loss: 0.0042, Train Acc: 0.9995, Val Acc: 0.7349\n",
      "Best model updated and saved at /home/onyxia/work/DL-Hackathon/hackaton/checkpoints/model_D_best.pth\n"
     ]
    },
    {
     "name": "stderr",
     "output_type": "stream",
     "text": [
      "Iterating eval graphs: 100%|██████████| 65/65 [00:12<00:00,  5.09batch/s]\n",
      "Epoch 49/50, Loss: 0.0063, Train Acc: 0.9982, Val Acc: 0.5136\n",
      "Epoch 49/50, Loss: 0.0063, Train Acc: 0.9982, Val Acc: 0.5136\n"
     ]
    },
    {
     "name": "stdout",
     "output_type": "stream",
     "text": [
      "Epoch 49/50, Loss: 0.0063, Train Acc: 0.9982, Val Acc: 0.5136\n"
     ]
    },
    {
     "name": "stderr",
     "output_type": "stream",
     "text": [
      "Iterating eval graphs: 100%|██████████| 65/65 [00:12<00:00,  5.02batch/s]\n",
      "Epoch 50/50, Loss: 0.2539, Train Acc: 0.8496, Val Acc: 0.7023\n",
      "Epoch 50/50, Loss: 0.2539, Train Acc: 0.8496, Val Acc: 0.7023\n"
     ]
    },
    {
     "name": "stdout",
     "output_type": "stream",
     "text": [
      "Epoch 50/50, Loss: 0.2539, Train Acc: 0.8496, Val Acc: 0.7023\n"
     ]
    }
   ],
   "source": [
    "if args.train_path:\n",
    "    full_dataset = GraphDataset(args.train_path, transform=add_zeros)\n",
    "    val_size = int(0.2 * len(full_dataset))\n",
    "    train_size = len(full_dataset) - val_size\n",
    "\n",
    "    generator = torch.Generator().manual_seed(12)\n",
    "    train_dataset, val_dataset = random_split(full_dataset, [train_size, val_size], generator=generator)\n",
    "\n",
    "    train_dataset = IndexedSubDataset(train_dataset)\n",
    "\n",
    "    if args.baseline_mode == 2:\n",
    "\n",
    "        u = nn.Parameter(torch.ones(len(train_dataset), device=device))\n",
    "        optimizer_u = torch.optim.Adam([u], lr=1)\n",
    "        optimizer_theta = torch.optim.Adam(model.parameters(), lr=0.001, weight_decay=1e-4)\n",
    "        \n",
    "        criterion = GCODLoss(num_classes=6, alpha=1.0, beta=1.0)\n",
    "\n",
    "\n",
    "    train_loader = DataLoader(train_dataset, batch_size=args.batch_size, shuffle=False)  # shuffle=False obligatoire\n",
    "    val_loader = DataLoader(val_dataset, batch_size=args.batch_size, shuffle=False)\n",
    "\n",
    "    num_epochs = args.epochs\n",
    "    best_val_accuracy = 0.0\n",
    "\n",
    "    train_losses = []\n",
    "    train_accuracies = []\n",
    "    val_losses = []\n",
    "    val_accuracies = []\n",
    "\n",
    "    if num_checkpoints > 1:\n",
    "        checkpoint_intervals = [int((i + 1) * num_epochs / num_checkpoints) for i in range(num_checkpoints)]\n",
    "    else:\n",
    "        checkpoint_intervals = [num_epochs]\n",
    "\n",
    "    for epoch in range(num_epochs):\n",
    "        train_loss, train_acc = train(\n",
    "            train_loader, model, optimizer_theta, optimizer_u, criterion, device\n",
    "        )\n",
    "\n",
    "        val_loss, val_acc = evaluate(val_loader, model, device, calculate_accuracy=True)\n",
    "\n",
    "        print(f\"Epoch {epoch + 1}/{num_epochs}, Loss: {train_loss:.4f}, Train Acc: {train_acc:.4f}, Val Acc: {val_acc:.4f}\")\n",
    "        logging.info(f\"Epoch {epoch + 1}/{num_epochs}, Loss: {train_loss:.4f}, Train Acc: {train_acc:.4f}, Val Acc: {val_acc:.4f}\")\n",
    "\n",
    "        train_losses.append(train_loss)\n",
    "        train_accuracies.append(train_acc)\n",
    "        val_losses.append(val_loss)\n",
    "        val_accuracies.append(val_acc)\n",
    "\n",
    "        if val_acc > best_val_accuracy:\n",
    "            best_val_accuracy = val_acc\n",
    "            torch.save(model.state_dict(), checkpoint_path)\n",
    "            print(f\"Best model updated and saved at {checkpoint_path}\")\n",
    "\n",
    "    plot_training_progress(train_losses, train_accuracies, os.path.join(logs_folder, \"plots\"))\n",
    "    plot_training_progress(val_losses, val_accuracies, os.path.join(logs_folder, \"plotsVal\"))"
   ]
  },
  {
   "cell_type": "code",
   "execution_count": 32,
   "id": "07594aff",
   "metadata": {
    "papermill": {
     "duration": null,
     "end_time": null,
     "exception": null,
     "start_time": null,
     "status": "pending"
    },
    "tags": []
   },
   "outputs": [
    {
     "data": {
      "text/plain": [
       "11621"
      ]
     },
     "execution_count": 32,
     "metadata": {},
     "output_type": "execute_result"
    }
   ],
   "source": [
    "import gc\n",
    "del train_dataset\n",
    "del train_loader\n",
    "del full_dataset\n",
    "del val_dataset\n",
    "del val_loader\n",
    "gc.collect()"
   ]
  },
  {
   "cell_type": "code",
   "execution_count": 33,
   "id": "ba668fff",
   "metadata": {
    "id": "xsXZIj4Mdu3I",
    "papermill": {
     "duration": null,
     "end_time": null,
     "exception": null,
     "start_time": null,
     "status": "pending"
    },
    "tags": []
   },
   "outputs": [],
   "source": [
    "test_dataset = GraphDataset(args.test_path, transform=add_zeros)\n",
    "test_loader = DataLoader(test_dataset, batch_size=args.batch_size, shuffle=False)\n",
    "    "
   ]
  },
  {
   "cell_type": "code",
   "execution_count": 34,
   "id": "7828e983",
   "metadata": {
    "id": "x1OnGq_nCmTr",
    "papermill": {
     "duration": null,
     "end_time": null,
     "exception": null,
     "start_time": null,
     "status": "pending"
    },
    "tags": []
   },
   "outputs": [
    {
     "name": "stderr",
     "output_type": "stream",
     "text": [
      "Iterating eval graphs: 100%|██████████| 71/71 [00:13<00:00,  5.45batch/s]"
     ]
    },
    {
     "name": "stdout",
     "output_type": "stream",
     "text": [
      "Predictions saved to /home/onyxia/work/DL-Hackathon/hackaton/submission/testset_D.csv\n"
     ]
    },
    {
     "name": "stderr",
     "output_type": "stream",
     "text": [
      "\n"
     ]
    }
   ],
   "source": [
    "model.load_state_dict(torch.load(checkpoint_path))\n",
    "predictions = evaluate(test_loader, model, device, calculate_accuracy=False)\n",
    "save_predictions(predictions, args.test_path)"
   ]
  },
  {
   "cell_type": "code",
   "execution_count": null,
   "id": "729eea6c-f238-4c5b-a8e4-9aa0cbfd2d18",
   "metadata": {},
   "outputs": [],
   "source": []
  },
  {
   "cell_type": "code",
   "execution_count": null,
   "id": "a4760ca2-e725-477f-8516-8eefe245d7bb",
   "metadata": {},
   "outputs": [],
   "source": []
  },
  {
   "cell_type": "code",
   "execution_count": null,
   "id": "88ec9648-e773-4758-a04a-7af79e34f575",
   "metadata": {},
   "outputs": [],
   "source": []
  },
  {
   "cell_type": "code",
   "execution_count": null,
   "id": "d4197534-13f8-490d-8712-93126da3e73d",
   "metadata": {},
   "outputs": [],
   "source": []
  },
  {
   "cell_type": "code",
   "execution_count": null,
   "id": "a8d5bb7a-cf27-4135-ac25-b505a8cfaa57",
   "metadata": {},
   "outputs": [],
   "source": []
  },
  {
   "cell_type": "code",
   "execution_count": 35,
   "id": "4f1594ef-0f72-4716-b53f-8da074eae4d5",
   "metadata": {
    "papermill": {
     "duration": null,
     "end_time": null,
     "exception": null,
     "start_time": null,
     "status": "pending"
    },
    "tags": []
   },
   "outputs": [
    {
     "name": "stdout",
     "output_type": "stream",
     "text": [
      "Folder '/home/onyxia/work/DL-Hackathon/hackaton/submission' has been compressed into '/home/onyxia/work/DL-Hackathon/hackaton/submission.gz'\n"
     ]
    }
   ],
   "source": [
    "import tarfile\n",
    "import os\n",
    "\n",
    "def gzip_folder(folder_path, output_file):\n",
    "    \"\"\"\n",
    "    Compresses an entire folder into a single .tar.gz file.\n",
    "\n",
    "    Args:\n",
    "        folder_path (str): Path to the folder to compress.\n",
    "        output_file (str): Path to the output .gz file.\n",
    "    \"\"\"\n",
    "    with tarfile.open(output_file, \"w:gz\") as tar:\n",
    "        tar.add(folder_path, arcname=os.path.basename(folder_path))\n",
    "    print(f\"Folder '{folder_path}' has been compressed into '{output_file}'\")\n",
    "\n",
    "# Example usage\n",
    "folder_path = \"/home/onyxia/work/DL-Hackathon/hackaton/submission\"            # Path to the folder you want to compress\n",
    "output_file = \"/home/onyxia/work/DL-Hackathon/hackaton/submission.gz\"        # Output .gz file name\n",
    "gzip_folder(folder_path, output_file)"
   ]
  }
 ],
 "metadata": {
  "accelerator": "GPU",
  "colab": {
   "gpuType": "T4",
   "provenance": []
  },
  "kaggle": {
   "accelerator": "gpu",
   "dataSources": [],
   "dockerImageVersionId": 30919,
   "isGpuEnabled": true,
   "isInternetEnabled": true,
   "language": "python",
   "sourceType": "notebook"
  },
  "kernelspec": {
   "display_name": "Python 3 (ipykernel)",
   "language": "python",
   "name": "python3"
  },
  "language_info": {
   "codemirror_mode": {
    "name": "ipython",
    "version": 3
   },
   "file_extension": ".py",
   "mimetype": "text/x-python",
   "name": "python",
   "nbconvert_exporter": "python",
   "pygments_lexer": "ipython3",
   "version": "3.12.9"
  },
  "papermill": {
   "default_parameters": {},
   "duration": 108.457758,
   "end_time": "2025-05-21T16:25:04.482169",
   "environment_variables": {},
   "exception": true,
   "input_path": "__notebook__.ipynb",
   "output_path": "__notebook__.ipynb",
   "parameters": {},
   "start_time": "2025-05-21T16:23:16.024411",
   "version": "2.6.0"
  }
 },
 "nbformat": 4,
 "nbformat_minor": 5
}
