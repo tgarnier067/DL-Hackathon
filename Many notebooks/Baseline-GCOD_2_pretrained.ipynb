{
 "cells": [
  {
   "cell_type": "code",
   "execution_count": 23,
   "id": "6228bc1c",
   "metadata": {
    "id": "xSkgt1zf-raF",
    "outputId": "59f4a52f-5eb4-41e5-9fba-07432989fe78",
    "papermill": {
     "duration": 5.620104,
     "end_time": "2025-05-21T16:23:24.361690",
     "exception": false,
     "start_time": "2025-05-21T16:23:18.741586",
     "status": "completed"
    },
    "tags": []
   },
   "outputs": [],
   "source": [
    "!pip install torch_geometric torch gdown --quiet"
   ]
  },
  {
   "cell_type": "code",
   "execution_count": 2,
   "id": "c86aceda",
   "metadata": {
    "id": "5oR2D2Us-xSQ",
    "outputId": "7086cadf-a7fe-4d75-f271-6339bee8164d",
    "papermill": {
     "duration": 4.049235,
     "end_time": "2025-05-21T16:23:28.415556",
     "exception": false,
     "start_time": "2025-05-21T16:23:24.366321",
     "status": "completed"
    },
    "tags": []
   },
   "outputs": [
    {
     "name": "stdout",
     "output_type": "stream",
     "text": [
      "Cloning into 'hackaton'...\n",
      "remote: Enumerating objects: 81, done.\u001b[K\n",
      "remote: Counting objects: 100% (11/11), done.\u001b[K\n",
      "remote: Compressing objects: 100% (7/7), done.\u001b[K\n",
      "remote: Total 81 (delta 4), reused 4 (delta 4), pack-reused 70 (from 1)\u001b[K\n",
      "Receiving objects: 100% (81/81), 105.83 MiB | 41.41 MiB/s, done.\n",
      "Resolving deltas: 100% (13/13), done.\n"
     ]
    }
   ],
   "source": [
    "!git clone --branch baselineCe https://github.com/Graph-Classification-Noisy-Label/hackaton.git"
   ]
  },
  {
   "cell_type": "code",
   "execution_count": 24,
   "id": "c129091c",
   "metadata": {
    "id": "tEhfPly6-7UK",
    "outputId": "3078ee06-6312-4fca-f5f9-888fa628c80a",
    "papermill": {
     "duration": 0.013251,
     "end_time": "2025-05-21T16:23:28.434119",
     "exception": false,
     "start_time": "2025-05-21T16:23:28.420868",
     "status": "completed"
    },
    "tags": []
   },
   "outputs": [
    {
     "name": "stdout",
     "output_type": "stream",
     "text": [
      "[Errno 2] No such file or directory: 'hackaton/'\n",
      "/home/onyxia/work/DL-Hackathon/hackaton\n"
     ]
    }
   ],
   "source": [
    "%cd hackaton/"
   ]
  },
  {
   "cell_type": "code",
   "execution_count": 4,
   "id": "d48103c0",
   "metadata": {
    "id": "PxBvwB0_6xI8",
    "outputId": "5933387c-2cfb-474f-d842-f36a3e2d2a73",
    "papermill": {
     "duration": 83.957666,
     "end_time": "2025-05-21T16:24:52.396720",
     "exception": false,
     "start_time": "2025-05-21T16:23:28.439054",
     "status": "completed"
    },
    "tags": []
   },
   "outputs": [
    {
     "name": "stdout",
     "output_type": "stream",
     "text": [
      "Retrieving folder contents\n",
      "Retrieving folder 1wcUVBNQkZ04zStXkglXSgERfIvjSHJiL A\n",
      "Processing file 1C8sjkO6JS0j2SyVwQ07m8PhQ-pHpuI78 test.json.gz\n",
      "Processing file 12N11n8gufNA_C1ns-1IeBseBHgrSfRI1 train.json.gz\n",
      "Retrieving folder 1Tj5YoYYDDXjDxxi-cywZgoDkT0b1Qbz- B\n",
      "Processing file 11GBlrXMdP3HSD60w-56Tu6rbGkR-Ifww test.json.gz\n",
      "Processing file 13vp-Kwef3UgAwMG-dokGwKyARym9iqtL train.json.gz\n",
      "Retrieving folder 1e3B_tBMd693Iwv8x3zRR9c47l5yt_5ey C\n",
      "Processing file 18XVe65ZsQ0PDLCqQa4WmneVhyfjGcXmT test.json.gz\n",
      "Processing file 1z5lvG2CytbLQZt7Jmo9BopzFd0pKejEj train.json.gz\n",
      "Retrieving folder 1cvM0eZwpD4gzjo44_zdodxudVBMrLza1 D\n",
      "Processing file 1Gna_dHnBLX8vKaYGAAqAbw5QPerrNK1u test.json.gz\n",
      "Processing file 1Pc-6LMML80-AgEoLVs2Q5hLtmR_rTEek train.json.gz\n",
      "Retrieving folder contents completed\n",
      "Building directory structure\n",
      "Building directory structure completed\n",
      "Downloading...\n",
      "From (original): https://drive.google.com/uc?id=1C8sjkO6JS0j2SyVwQ07m8PhQ-pHpuI78\n",
      "From (redirected): https://drive.google.com/uc?id=1C8sjkO6JS0j2SyVwQ07m8PhQ-pHpuI78&confirm=t&uuid=ff04d4eb-5b3f-44e5-8cc0-63db43b80e0a\n",
      "To: /home/onyxia/work/DL-Hackathon/hackaton/datasets/A/test.json.gz\n",
      "100%|███████████████████████████████████████| 92.4M/92.4M [00:00<00:00, 101MB/s]\n",
      "Downloading...\n",
      "From (original): https://drive.google.com/uc?id=12N11n8gufNA_C1ns-1IeBseBHgrSfRI1\n",
      "From (redirected): https://drive.google.com/uc?id=12N11n8gufNA_C1ns-1IeBseBHgrSfRI1&confirm=t&uuid=cd55c45e-4197-4afe-b44b-c4170f605edf\n",
      "To: /home/onyxia/work/DL-Hackathon/hackaton/datasets/A/train.json.gz\n",
      "100%|█████████████████████████████████████████| 465M/465M [00:04<00:00, 104MB/s]\n",
      "Downloading...\n",
      "From (original): https://drive.google.com/uc?id=11GBlrXMdP3HSD60w-56Tu6rbGkR-Ifww\n",
      "From (redirected): https://drive.google.com/uc?id=11GBlrXMdP3HSD60w-56Tu6rbGkR-Ifww&confirm=t&uuid=5ebc80d1-ff66-42e4-b5aa-bc8e289aae49\n",
      "To: /home/onyxia/work/DL-Hackathon/hackaton/datasets/B/test.json.gz\n",
      "100%|██████████████████████████████████████| 63.0M/63.0M [00:00<00:00, 94.3MB/s]\n",
      "Downloading...\n",
      "From (original): https://drive.google.com/uc?id=13vp-Kwef3UgAwMG-dokGwKyARym9iqtL\n",
      "From (redirected): https://drive.google.com/uc?id=13vp-Kwef3UgAwMG-dokGwKyARym9iqtL&confirm=t&uuid=7a54e609-e8ee-40e2-a668-1cdcb79f1a49\n",
      "To: /home/onyxia/work/DL-Hackathon/hackaton/datasets/B/train.json.gz\n",
      "100%|█████████████████████████████████████████| 223M/223M [00:02<00:00, 104MB/s]\n",
      "Downloading...\n",
      "From (original): https://drive.google.com/uc?id=18XVe65ZsQ0PDLCqQa4WmneVhyfjGcXmT\n",
      "From (redirected): https://drive.google.com/uc?id=18XVe65ZsQ0PDLCqQa4WmneVhyfjGcXmT&confirm=t&uuid=5f6d58ea-28f7-4dbd-8e0a-018627a2917b\n",
      "To: /home/onyxia/work/DL-Hackathon/hackaton/datasets/C/test.json.gz\n",
      "100%|███████████████████████████████████████| 60.5M/60.5M [00:00<00:00, 108MB/s]\n",
      "Downloading...\n",
      "From (original): https://drive.google.com/uc?id=1z5lvG2CytbLQZt7Jmo9BopzFd0pKejEj\n",
      "From (redirected): https://drive.google.com/uc?id=1z5lvG2CytbLQZt7Jmo9BopzFd0pKejEj&confirm=t&uuid=3014072a-a07d-4dae-a241-db14dbc84273\n",
      "To: /home/onyxia/work/DL-Hackathon/hackaton/datasets/C/train.json.gz\n",
      "100%|█████████████████████████████████████████| 308M/308M [00:02<00:00, 104MB/s]\n",
      "Downloading...\n",
      "From (original): https://drive.google.com/uc?id=1Gna_dHnBLX8vKaYGAAqAbw5QPerrNK1u\n",
      "From (redirected): https://drive.google.com/uc?id=1Gna_dHnBLX8vKaYGAAqAbw5QPerrNK1u&confirm=t&uuid=7eedb8e6-a1b0-4505-959f-afe7121f6a00\n",
      "To: /home/onyxia/work/DL-Hackathon/hackaton/datasets/D/test.json.gz\n",
      "100%|██████████████████████████████████████| 94.0M/94.0M [00:01<00:00, 68.7MB/s]\n",
      "Downloading...\n",
      "From (original): https://drive.google.com/uc?id=1Pc-6LMML80-AgEoLVs2Q5hLtmR_rTEek\n",
      "From (redirected): https://drive.google.com/uc?id=1Pc-6LMML80-AgEoLVs2Q5hLtmR_rTEek&confirm=t&uuid=91487e95-6f21-4169-b366-eed4b6762b7b\n",
      "To: /home/onyxia/work/DL-Hackathon/hackaton/datasets/D/train.json.gz\n",
      "100%|████████████████████████████████████████| 439M/439M [00:04<00:00, 94.7MB/s]\n",
      "Download completed\n"
     ]
    }
   ],
   "source": [
    "!gdown --folder https://drive.google.com/drive/folders/1Z-1JkPJ6q4C6jX4brvq1VRbJH5RPUCAk -O datasets\n"
   ]
  },
  {
   "cell_type": "code",
   "execution_count": 25,
   "id": "80dab1bc",
   "metadata": {
    "id": "1rockhiQ7Nny",
    "outputId": "2cd2e6f4-5f8f-4a62-f0ec-53e6fc78c9b7",
    "papermill": {
     "duration": 0.138969,
     "end_time": "2025-05-21T16:24:52.549260",
     "exception": false,
     "start_time": "2025-05-21T16:24:52.410291",
     "status": "completed"
    },
    "tags": []
   },
   "outputs": [
    {
     "name": "stdout",
     "output_type": "stream",
     "text": [
      "total 16K\n",
      "drwxr-sr-x 2 onyxia users 4.0K May 31 07:01 A\n",
      "drwxr-sr-x 2 onyxia users 4.0K May 31 07:01 B\n",
      "drwxr-sr-x 2 onyxia users 4.0K May 31 07:01 C\n",
      "drwxr-sr-x 2 onyxia users 4.0K May 31 07:02 D\n"
     ]
    }
   ],
   "source": [
    "!ls -lh datasets"
   ]
  },
  {
   "cell_type": "code",
   "execution_count": 26,
   "id": "817b1078",
   "metadata": {
    "id": "lAQuCuIoBbq5",
    "papermill": {
     "duration": 9.949638,
     "end_time": "2025-05-21T16:25:02.510764",
     "exception": false,
     "start_time": "2025-05-21T16:24:52.561126",
     "status": "completed"
    },
    "tags": []
   },
   "outputs": [],
   "source": [
    "import os\n",
    "import torch\n",
    "import pandas as pd\n",
    "import matplotlib.pyplot as plt\n",
    "import logging\n",
    "from tqdm import tqdm\n",
    "from torch_geometric.loader import DataLoader\n",
    "from torch.utils.data import random_split\n",
    "# Load utility functions from cloned repository\n",
    "from src.loadData import GraphDataset\n",
    "from src.utils import set_seed\n",
    "from src.models import GNN\n",
    "import argparse\n",
    "\n",
    "import torch.nn.functional as F\n",
    "\n",
    "# Set the random seed\n",
    "set_seed()\n"
   ]
  },
  {
   "cell_type": "code",
   "execution_count": 27,
   "id": "4f220d25-2739-48c0-a5fa-02b94e3689ef",
   "metadata": {},
   "outputs": [],
   "source": [
    "# try to use this one \n",
    "import gzip\n",
    "import json\n",
    "import torch\n",
    "from torch_geometric.data import Dataset, Data\n",
    "import os\n",
    "from tqdm import tqdm \n",
    "from torch_geometric.loader import DataLoader\n",
    "\n",
    "class GraphDataset(Dataset):\n",
    "    def __init__(self, filename, transform=None, pre_transform=None):\n",
    "        self.raw = filename\n",
    "        self.graphs = self.loadGraphs(self.raw)\n",
    "        super().__init__(None, transform, pre_transform)\n",
    "\n",
    "    def len(self):\n",
    "        return len(self.graphs)\n",
    "\n",
    "    def get(self, idx):\n",
    "        return self.graphs[idx]\n",
    "\n",
    "    @staticmethod\n",
    "    def loadGraphs(path):\n",
    "        print(f\"Loading graphs from {path}...\")\n",
    "        print(\"This may take a few minutes, please wait...\")\n",
    "        with gzip.open(path, \"rt\", encoding=\"utf-8\") as f:\n",
    "            graphs_dicts = json.load(f)\n",
    "        graphs = []\n",
    "        for graph_dict in tqdm(graphs_dicts, desc=\"Processing graphs\", unit=\"graph\"):\n",
    "            graphs.append(dictToGraphObject(graph_dict))\n",
    "        return graphs\n",
    "\n",
    "\n",
    "\n",
    "def dictToGraphObject(graph_dict):\n",
    "    edge_index = torch.tensor(graph_dict[\"edge_index\"], dtype=torch.long)\n",
    "    edge_attr = torch.tensor(graph_dict[\"edge_attr\"], dtype=torch.float) if graph_dict[\"edge_attr\"] else None\n",
    "    num_nodes = graph_dict[\"num_nodes\"]\n",
    "    y = torch.tensor(graph_dict[\"y\"][0], dtype=torch.long) if graph_dict[\"y\"] is not None else None\n",
    "    return Data(edge_index=edge_index, edge_attr=edge_attr, num_nodes=num_nodes, y=y)"
   ]
  },
  {
   "cell_type": "code",
   "execution_count": 28,
   "id": "0a9c70d7",
   "metadata": {
    "id": "Dyf0I2-t9IcW",
    "papermill": {
     "duration": 0.019268,
     "end_time": "2025-05-21T16:25:02.544583",
     "exception": false,
     "start_time": "2025-05-21T16:25:02.525315",
     "status": "completed"
    },
    "tags": []
   },
   "outputs": [],
   "source": [
    "def add_zeros(data):\n",
    "    data.x = torch.zeros(data.num_nodes, dtype=torch.long)\n",
    "    return data"
   ]
  },
  {
   "cell_type": "code",
   "execution_count": 29,
   "id": "f61babe5-4786-4543-b885-7f67079a053c",
   "metadata": {},
   "outputs": [],
   "source": [
    "class GCODLoss(torch.nn.Module):\n",
    "    def __init__(self, gamma=0.2):\n",
    "        super(GCODLoss, self).__init__()\n",
    "        self.gamma = gamma\n",
    "\n",
    "    def forward(self, logits, labels):\n",
    "        ce_loss = F.cross_entropy(logits, labels, reduction='none')\n",
    "\n",
    "        probs = F.softmax(logits, dim=1)\n",
    "        true_probs = probs[range(len(labels)), labels]\n",
    "\n",
    "        weight = (true_probs.detach() ** self.gamma)\n",
    "\n",
    "        loss = weight * ce_loss\n",
    "        return loss.mean()"
   ]
  },
  {
   "cell_type": "code",
   "execution_count": 30,
   "id": "3622cfa1",
   "metadata": {
    "id": "3jKvoQYI9Zbc",
    "papermill": {
     "duration": 0.019599,
     "end_time": "2025-05-21T16:25:02.577661",
     "exception": false,
     "start_time": "2025-05-21T16:25:02.558062",
     "status": "completed"
    },
    "tags": []
   },
   "outputs": [],
   "source": [
    "def train(data_loader, model, optimizer, criterion, device, save_checkpoints, checkpoint_path, current_epoch):\n",
    "    model.train()\n",
    "    total_loss = 0\n",
    "    correct = 0\n",
    "    total = 0\n",
    "    for data in tqdm(data_loader, desc=\"Iterating training graphs\", unit=\"batch\"):\n",
    "        data = data.to(device)\n",
    "        optimizer.zero_grad()\n",
    "        output = model(data)\n",
    "        loss = criterion(output, data.y)\n",
    "        loss.backward()\n",
    "        optimizer.step()\n",
    "        total_loss += loss.item()\n",
    "        pred = output.argmax(dim=1)\n",
    "        correct += (pred == data.y).sum().item()\n",
    "        total += data.y.size(0)\n",
    "\n",
    "    # Save checkpoints if required\n",
    "    if save_checkpoints:\n",
    "        checkpoint_file = f\"{checkpoint_path}_epoch_{current_epoch + 1}.pth\"\n",
    "        torch.save(model.state_dict(), checkpoint_file)\n",
    "        print(f\"Checkpoint saved at {checkpoint_file}\")\n",
    "\n",
    "    return total_loss / len(data_loader),  correct / total"
   ]
  },
  {
   "cell_type": "code",
   "execution_count": 31,
   "id": "6139b912",
   "metadata": {
    "id": "8peFiIS19ZpK",
    "papermill": {
     "duration": 0.017908,
     "end_time": "2025-05-21T16:25:02.607848",
     "exception": false,
     "start_time": "2025-05-21T16:25:02.589940",
     "status": "completed"
    },
    "tags": []
   },
   "outputs": [],
   "source": [
    "def evaluate(data_loader, model, device, calculate_accuracy=False):\n",
    "    model.eval()\n",
    "    correct = 0\n",
    "    total = 0\n",
    "    predictions = []\n",
    "    total_loss = 0\n",
    "    criterion = torch.nn.CrossEntropyLoss()\n",
    "    with torch.no_grad():\n",
    "        for data in tqdm(data_loader, desc=\"Iterating eval graphs\", unit=\"batch\"):\n",
    "            data = data.to(device)\n",
    "            output = model(data)\n",
    "            pred = output.argmax(dim=1)\n",
    "            \n",
    "            if calculate_accuracy:\n",
    "                correct += (pred == data.y).sum().item()\n",
    "                total += data.y.size(0)\n",
    "                total_loss += criterion(output, data.y).item()\n",
    "            else:\n",
    "                predictions.extend(pred.cpu().numpy())\n",
    "    if calculate_accuracy:\n",
    "        accuracy = correct / total\n",
    "        return  total_loss / len(data_loader),accuracy\n",
    "    return predictions"
   ]
  },
  {
   "cell_type": "code",
   "execution_count": 32,
   "id": "fbdbd871",
   "metadata": {
    "id": "WanuZKxy9Zs-",
    "papermill": {
     "duration": 0.016728,
     "end_time": "2025-05-21T16:25:02.635694",
     "exception": false,
     "start_time": "2025-05-21T16:25:02.618966",
     "status": "completed"
    },
    "tags": []
   },
   "outputs": [],
   "source": [
    "def save_predictions(predictions, test_path):\n",
    "    script_dir = os.getcwd() \n",
    "    submission_folder = os.path.join(script_dir, \"submission\")\n",
    "    test_dir_name = os.path.basename(os.path.dirname(test_path))\n",
    "    \n",
    "    os.makedirs(submission_folder, exist_ok=True)\n",
    "    \n",
    "    output_csv_path = os.path.join(submission_folder, f\"testset_{test_dir_name}.csv\")\n",
    "    \n",
    "    test_graph_ids = list(range(len(predictions)))\n",
    "    output_df = pd.DataFrame({\n",
    "        \"id\": test_graph_ids,\n",
    "        \"pred\": predictions\n",
    "    })\n",
    "    \n",
    "    output_df.to_csv(output_csv_path, index=False)\n",
    "    print(f\"Predictions saved to {output_csv_path}\")"
   ]
  },
  {
   "cell_type": "code",
   "execution_count": 33,
   "id": "fc3d24da",
   "metadata": {
    "id": "uyHIJS5U9ZzB",
    "papermill": {
     "duration": 0.017765,
     "end_time": "2025-05-21T16:25:02.664538",
     "exception": false,
     "start_time": "2025-05-21T16:25:02.646773",
     "status": "completed"
    },
    "tags": []
   },
   "outputs": [],
   "source": [
    "def plot_training_progress(train_losses, train_accuracies, output_dir):\n",
    "    epochs = range(1, len(train_losses) + 1)\n",
    "    plt.figure(figsize=(12, 6))\n",
    "\n",
    "    # Plot loss\n",
    "    plt.subplot(1, 2, 1)\n",
    "    plt.plot(epochs, train_losses, label=\"Training Loss\", color='blue')\n",
    "    plt.xlabel('Epoch')\n",
    "    plt.ylabel('Loss')\n",
    "    plt.title('Training Loss per Epoch')\n",
    "\n",
    "    # Plot accuracy\n",
    "    plt.subplot(1, 2, 2)\n",
    "    plt.plot(epochs, train_accuracies, label=\"Training Accuracy\", color='green')\n",
    "    plt.xlabel('Epoch')\n",
    "    plt.ylabel('Accuracy')\n",
    "    plt.title('Training Accuracy per Epoch')\n",
    "\n",
    "    # Save plots in the current directory\n",
    "    os.makedirs(output_dir, exist_ok=True)\n",
    "    plt.tight_layout()\n",
    "    plt.savefig(os.path.join(output_dir, \"training_progress.png\"))\n",
    "    plt.close()"
   ]
  },
  {
   "cell_type": "code",
   "execution_count": 34,
   "id": "22574fa5",
   "metadata": {
    "papermill": {
     "duration": 0.016577,
     "end_time": "2025-05-21T16:25:02.692205",
     "exception": false,
     "start_time": "2025-05-21T16:25:02.675628",
     "status": "completed"
    },
    "tags": []
   },
   "outputs": [],
   "source": [
    "def get_user_input(prompt, default=None, required=False, type_cast=str):\n",
    "\n",
    "    while True:\n",
    "        user_input = input(f\"{prompt} [{default}]: \")\n",
    "        \n",
    "        if user_input == \"\" and required:\n",
    "            print(\"This field is required. Please enter a value.\")\n",
    "            continue\n",
    "        \n",
    "        if user_input == \"\" and default is not None:\n",
    "            return default\n",
    "        \n",
    "        if user_input == \"\" and not required:\n",
    "            return None\n",
    "        \n",
    "        try:\n",
    "            return type_cast(user_input)\n",
    "        except ValueError:\n",
    "            print(f\"Invalid input. Please enter a valid {type_cast.__name__}.\")"
   ]
  },
  {
   "cell_type": "code",
   "execution_count": 35,
   "id": "139e88b2",
   "metadata": {
    "papermill": {
     "duration": 0.017703,
     "end_time": "2025-05-21T16:25:02.721184",
     "exception": false,
     "start_time": "2025-05-21T16:25:02.703481",
     "status": "completed"
    },
    "tags": []
   },
   "outputs": [],
   "source": [
    "def get_arguments():\n",
    "    args = {}\n",
    "    args['train_path'] = get_user_input(\"Path to the training dataset (optional)\")\n",
    "    args['test_path'] = get_user_input(\"Path to the test dataset\", required=True)\n",
    "    args['num_checkpoints'] = get_user_input(\"Number of checkpoints to save during training\", type_cast=int)\n",
    "    args['device'] = get_user_input(\"Which GPU to use if any\", default=1, type_cast=int)\n",
    "    args['gnn'] = get_user_input(\"GNN type (gin, gin-virtual, gcn, gcn-virtual)\", default='gin')\n",
    "    args['drop_ratio'] = get_user_input(\"Dropout ratio\", default=0.0, type_cast=float)\n",
    "    args['num_layer'] = get_user_input(\"Number of GNN message passing layers\", default=5, type_cast=int)\n",
    "    args['emb_dim'] = get_user_input(\"Dimensionality of hidden units in GNNs\", default=300, type_cast=int)\n",
    "    args['batch_size'] = get_user_input(\"Input batch size for training\", default=32, type_cast=int)\n",
    "    args['epochs'] = get_user_input(\"Number of epochs to train\", default=10, type_cast=int)\n",
    "    args['baseline_mode'] = get_user_input(\"Baseline mode: 1 (CE), 2 (Noisy CE)\", default=1, type_cast=int)\n",
    "    args['noise_prob'] = get_user_input(\"Noise probability p (used if baseline_mode=2)\", default=0.2, type_cast=float)\n",
    "\n",
    "    \n",
    "    return argparse.Namespace(**args)\n"
   ]
  },
  {
   "cell_type": "markdown",
   "id": "446c7284-5a21-4e4b-8d44-d64d484fbece",
   "metadata": {},
   "source": [
    "# ABCD"
   ]
  },
  {
   "cell_type": "code",
   "execution_count": 37,
   "id": "19c7b5fa-7a3c-4859-aab1-1e049aa95ea2",
   "metadata": {},
   "outputs": [],
   "source": [
    "gnn = 'gcn'\n",
    "num_layer = 5\n",
    "emb_dim = 300\n",
    "drop_ratio = 0.5\n",
    "baseline_mode = 2\n",
    "num_checkpoints = 10\n",
    "\n",
    "\n",
    "script_dir = os.getcwd() \n",
    "# device = torch.device(f\"cuda:{args.device}\" if torch.cuda.is_available() else \"cpu\")\n",
    "device = torch.device(\"cuda\" if torch.cuda.is_available() else \"cpu\")\n",
    "num_checkpoints = num_checkpoints if num_checkpoints else 3\n",
    "    \n",
    "if gnn == 'gin':\n",
    "    model = GNN(gnn_type='gin', num_class=6, num_layer=num_layer, emb_dim=emb_dim, drop_ratio=drop_ratio, virtual_node=False).to(device)\n",
    "elif gnn == 'gin-virtual':\n",
    "    model = GNN(gnn_type='gin', num_class=6, num_layer=num_layer, emb_dim=emb_dim, drop_ratio=drop_ratio, virtual_node=True).to(device)\n",
    "elif gnn == 'gcn':\n",
    "    model = GNN(gnn_type='gcn', num_class=6, num_layer=num_layer, emb_dim=emb_dim, drop_ratio=drop_ratio, virtual_node=False).to(device)\n",
    "elif gnn == 'gcn-virtual':\n",
    "    model = GNN(gnn_type='gcn', num_class=6, num_layer=num_layer, emb_dim=emb_dim, drop_ratio=drop_ratio, virtual_node=True).to(device)\n",
    "else:\n",
    "    raise ValueError('Invalid GNN type')\n",
    "    \n",
    "optimizer = torch.optim.Adam(model.parameters(), lr=0.001)\n",
    "# criterion = torch.nn.CrossEntropyLoss()\n",
    "if baseline_mode == 2:\n",
    "    criterion = GCODLoss(gamma=0.2)\n",
    "else:\n",
    "    criterion = torch.nn.CrossEntropyLoss()"
   ]
  },
  {
   "cell_type": "code",
   "execution_count": 38,
   "id": "cc6d9482-0b98-40ec-bbe1-99865423c3a9",
   "metadata": {},
   "outputs": [
    {
     "name": "stderr",
     "output_type": "stream",
     "text": [
      "Dossiers créés pour pré-entraînement multi-dataset : pretrain_ABCD\n",
      "Dossiers créés pour pré-entraînement multi-dataset : pretrain_ABCD\n",
      "Dossiers créés pour pré-entraînement multi-dataset : pretrain_ABCD\n",
      "Checkpoint sauvegardé dans : /home/onyxia/work/DL-Hackathon/hackaton/checkpoints/pretrain_ABCD/model_pretrain_ABCD_best.pth\n",
      "Checkpoint sauvegardé dans : /home/onyxia/work/DL-Hackathon/hackaton/checkpoints/pretrain_ABCD/model_pretrain_ABCD_best.pth\n",
      "Checkpoint sauvegardé dans : /home/onyxia/work/DL-Hackathon/hackaton/checkpoints/pretrain_ABCD/model_pretrain_ABCD_best.pth\n"
     ]
    }
   ],
   "source": [
    "import os\n",
    "import logging\n",
    "\n",
    "# Nom spécial pour indiquer que c'est un pré-entraînement multi-dataset\n",
    "pretrain_tag = \"pretrain_ABCD\"\n",
    "\n",
    "# Dossier courant du script\n",
    "script_dir = os.getcwd()\n",
    "\n",
    "# === Logs ===\n",
    "logs_folder = os.path.join(script_dir, \"logs\", pretrain_tag)\n",
    "log_file = os.path.join(logs_folder, \"training.log\")\n",
    "os.makedirs(os.path.dirname(log_file), exist_ok=True)\n",
    "\n",
    "logging.basicConfig(\n",
    "    filename=log_file,\n",
    "    level=logging.INFO,\n",
    "    format='%(asctime)s - %(message)s'\n",
    ")\n",
    "logging.getLogger().addHandler(logging.StreamHandler())\n",
    "\n",
    "# === Checkpoints ===\n",
    "checkpoints_folder = os.path.join(script_dir, \"checkpoints\", pretrain_tag)\n",
    "checkpoint_path = os.path.join(checkpoints_folder, f\"model_{pretrain_tag}_best.pth\")\n",
    "os.makedirs(checkpoints_folder, exist_ok=True)\n",
    "\n",
    "# Exemple de log\n",
    "logging.info(f\"Dossiers créés pour pré-entraînement multi-dataset : {pretrain_tag}\")\n",
    "logging.info(f\"Checkpoint sauvegardé dans : {checkpoint_path}\")"
   ]
  },
  {
   "cell_type": "code",
   "execution_count": 40,
   "id": "ef4a359c",
   "metadata": {
    "papermill": {
     "duration": null,
     "end_time": null,
     "exception": null,
     "start_time": null,
     "status": "pending"
    },
    "scrolled": true,
    "tags": []
   },
   "outputs": [
    {
     "name": "stdout",
     "output_type": "stream",
     "text": [
      "Loading graphs from datasets/A/train.json.gz...\n",
      "This may take a few minutes, please wait...\n"
     ]
    },
    {
     "name": "stderr",
     "output_type": "stream",
     "text": [
      "Processing graphs: 100%|██████████| 11280/11280 [01:04<00:00, 174.28graph/s]\n",
      "Iterating training graphs: 100%|██████████| 282/282 [00:32<00:00,  8.60batch/s]\n"
     ]
    },
    {
     "name": "stdout",
     "output_type": "stream",
     "text": [
      "Checkpoint saved at /home/onyxia/work/DL-Hackathon/hackaton/checkpoints/pretrain_ABCD/model_A_epoch_1.pth\n"
     ]
    },
    {
     "name": "stderr",
     "output_type": "stream",
     "text": [
      "Iterating eval graphs: 100%|██████████| 71/71 [00:04<00:00, 15.44batch/s]\n",
      "Epoch 1/5, Loss: 0.9710, Train Acc: 0.4598, Val Acc: 0.3830\n",
      "Epoch 1/5, Loss: 0.9710, Train Acc: 0.4598, Val Acc: 0.3830\n",
      "Epoch 1/5, Loss: 0.9710, Train Acc: 0.4598, Val Acc: 0.3830\n"
     ]
    },
    {
     "name": "stdout",
     "output_type": "stream",
     "text": [
      "Epoch 1/5, Loss: 0.9710, Train Acc: 0.4598, Val Acc: 0.3830\n",
      "Best model updated and saved at /home/onyxia/work/DL-Hackathon/hackaton/checkpoints/pretrain_ABCD/model_pretrain_ABCD_best.pth\n"
     ]
    },
    {
     "name": "stderr",
     "output_type": "stream",
     "text": [
      "Iterating training graphs: 100%|██████████| 282/282 [00:32<00:00,  8.62batch/s]\n"
     ]
    },
    {
     "name": "stdout",
     "output_type": "stream",
     "text": [
      "Checkpoint saved at /home/onyxia/work/DL-Hackathon/hackaton/checkpoints/pretrain_ABCD/model_A_epoch_2.pth\n"
     ]
    },
    {
     "name": "stderr",
     "output_type": "stream",
     "text": [
      "Iterating eval graphs: 100%|██████████| 71/71 [00:04<00:00, 15.54batch/s]\n",
      "Epoch 2/5, Loss: 0.9278, Train Acc: 0.4877, Val Acc: 0.3825\n",
      "Epoch 2/5, Loss: 0.9278, Train Acc: 0.4877, Val Acc: 0.3825\n",
      "Epoch 2/5, Loss: 0.9278, Train Acc: 0.4877, Val Acc: 0.3825\n"
     ]
    },
    {
     "name": "stdout",
     "output_type": "stream",
     "text": [
      "Epoch 2/5, Loss: 0.9278, Train Acc: 0.4877, Val Acc: 0.3825\n"
     ]
    },
    {
     "name": "stderr",
     "output_type": "stream",
     "text": [
      "Iterating training graphs: 100%|██████████| 282/282 [00:32<00:00,  8.56batch/s]\n"
     ]
    },
    {
     "name": "stdout",
     "output_type": "stream",
     "text": [
      "Checkpoint saved at /home/onyxia/work/DL-Hackathon/hackaton/checkpoints/pretrain_ABCD/model_A_epoch_3.pth\n"
     ]
    },
    {
     "name": "stderr",
     "output_type": "stream",
     "text": [
      "Iterating eval graphs: 100%|██████████| 71/71 [00:04<00:00, 15.55batch/s]\n",
      "Epoch 3/5, Loss: 0.8869, Train Acc: 0.5126, Val Acc: 0.5235\n",
      "Epoch 3/5, Loss: 0.8869, Train Acc: 0.5126, Val Acc: 0.5235\n",
      "Epoch 3/5, Loss: 0.8869, Train Acc: 0.5126, Val Acc: 0.5235\n"
     ]
    },
    {
     "name": "stdout",
     "output_type": "stream",
     "text": [
      "Epoch 3/5, Loss: 0.8869, Train Acc: 0.5126, Val Acc: 0.5235\n",
      "Best model updated and saved at /home/onyxia/work/DL-Hackathon/hackaton/checkpoints/pretrain_ABCD/model_pretrain_ABCD_best.pth\n"
     ]
    },
    {
     "name": "stderr",
     "output_type": "stream",
     "text": [
      "Iterating training graphs: 100%|██████████| 282/282 [00:32<00:00,  8.55batch/s]\n"
     ]
    },
    {
     "name": "stdout",
     "output_type": "stream",
     "text": [
      "Checkpoint saved at /home/onyxia/work/DL-Hackathon/hackaton/checkpoints/pretrain_ABCD/model_A_epoch_4.pth\n"
     ]
    },
    {
     "name": "stderr",
     "output_type": "stream",
     "text": [
      "Iterating eval graphs: 100%|██████████| 71/71 [00:04<00:00, 15.57batch/s]\n",
      "Epoch 4/5, Loss: 0.8580, Train Acc: 0.5342, Val Acc: 0.5523\n",
      "Epoch 4/5, Loss: 0.8580, Train Acc: 0.5342, Val Acc: 0.5523\n",
      "Epoch 4/5, Loss: 0.8580, Train Acc: 0.5342, Val Acc: 0.5523\n"
     ]
    },
    {
     "name": "stdout",
     "output_type": "stream",
     "text": [
      "Epoch 4/5, Loss: 0.8580, Train Acc: 0.5342, Val Acc: 0.5523\n",
      "Best model updated and saved at /home/onyxia/work/DL-Hackathon/hackaton/checkpoints/pretrain_ABCD/model_pretrain_ABCD_best.pth\n"
     ]
    },
    {
     "name": "stderr",
     "output_type": "stream",
     "text": [
      "Iterating training graphs: 100%|██████████| 282/282 [00:32<00:00,  8.58batch/s]\n"
     ]
    },
    {
     "name": "stdout",
     "output_type": "stream",
     "text": [
      "Checkpoint saved at /home/onyxia/work/DL-Hackathon/hackaton/checkpoints/pretrain_ABCD/model_A_epoch_5.pth\n"
     ]
    },
    {
     "name": "stderr",
     "output_type": "stream",
     "text": [
      "Iterating eval graphs: 100%|██████████| 71/71 [00:04<00:00, 15.59batch/s]\n",
      "Epoch 5/5, Loss: 0.8387, Train Acc: 0.5541, Val Acc: 0.5780\n",
      "Epoch 5/5, Loss: 0.8387, Train Acc: 0.5541, Val Acc: 0.5780\n",
      "Epoch 5/5, Loss: 0.8387, Train Acc: 0.5541, Val Acc: 0.5780\n"
     ]
    },
    {
     "name": "stdout",
     "output_type": "stream",
     "text": [
      "Epoch 5/5, Loss: 0.8387, Train Acc: 0.5541, Val Acc: 0.5780\n",
      "Best model updated and saved at /home/onyxia/work/DL-Hackathon/hackaton/checkpoints/pretrain_ABCD/model_pretrain_ABCD_best.pth\n",
      "Loading graphs from datasets/B/train.json.gz...\n",
      "This may take a few minutes, please wait...\n"
     ]
    },
    {
     "name": "stderr",
     "output_type": "stream",
     "text": [
      "Processing graphs: 100%|██████████| 5600/5600 [00:27<00:00, 200.94graph/s]\n",
      "Iterating training graphs: 100%|██████████| 140/140 [00:15<00:00,  8.94batch/s]\n"
     ]
    },
    {
     "name": "stdout",
     "output_type": "stream",
     "text": [
      "Checkpoint saved at /home/onyxia/work/DL-Hackathon/hackaton/checkpoints/pretrain_ABCD/model_A_epoch_1.pth\n"
     ]
    },
    {
     "name": "stderr",
     "output_type": "stream",
     "text": [
      "Iterating eval graphs: 100%|██████████| 35/35 [00:02<00:00, 15.93batch/s]\n",
      "Epoch 1/5, Loss: 1.0691, Train Acc: 0.4188, Val Acc: 0.4679\n",
      "Epoch 1/5, Loss: 1.0691, Train Acc: 0.4188, Val Acc: 0.4679\n",
      "Epoch 1/5, Loss: 1.0691, Train Acc: 0.4188, Val Acc: 0.4679\n"
     ]
    },
    {
     "name": "stdout",
     "output_type": "stream",
     "text": [
      "Epoch 1/5, Loss: 1.0691, Train Acc: 0.4188, Val Acc: 0.4679\n"
     ]
    },
    {
     "name": "stderr",
     "output_type": "stream",
     "text": [
      "Iterating training graphs: 100%|██████████| 140/140 [00:15<00:00,  8.86batch/s]\n"
     ]
    },
    {
     "name": "stdout",
     "output_type": "stream",
     "text": [
      "Checkpoint saved at /home/onyxia/work/DL-Hackathon/hackaton/checkpoints/pretrain_ABCD/model_A_epoch_2.pth\n"
     ]
    },
    {
     "name": "stderr",
     "output_type": "stream",
     "text": [
      "Iterating eval graphs: 100%|██████████| 35/35 [00:02<00:00, 16.13batch/s]\n",
      "Epoch 2/5, Loss: 1.0000, Train Acc: 0.4871, Val Acc: 0.4402\n",
      "Epoch 2/5, Loss: 1.0000, Train Acc: 0.4871, Val Acc: 0.4402\n",
      "Epoch 2/5, Loss: 1.0000, Train Acc: 0.4871, Val Acc: 0.4402\n"
     ]
    },
    {
     "name": "stdout",
     "output_type": "stream",
     "text": [
      "Epoch 2/5, Loss: 1.0000, Train Acc: 0.4871, Val Acc: 0.4402\n"
     ]
    },
    {
     "name": "stderr",
     "output_type": "stream",
     "text": [
      "Iterating training graphs: 100%|██████████| 140/140 [00:16<00:00,  8.73batch/s]\n"
     ]
    },
    {
     "name": "stdout",
     "output_type": "stream",
     "text": [
      "Checkpoint saved at /home/onyxia/work/DL-Hackathon/hackaton/checkpoints/pretrain_ABCD/model_A_epoch_3.pth\n"
     ]
    },
    {
     "name": "stderr",
     "output_type": "stream",
     "text": [
      "Iterating eval graphs: 100%|██████████| 35/35 [00:02<00:00, 16.13batch/s]\n",
      "Epoch 3/5, Loss: 0.9878, Train Acc: 0.4900, Val Acc: 0.5027\n",
      "Epoch 3/5, Loss: 0.9878, Train Acc: 0.4900, Val Acc: 0.5027\n",
      "Epoch 3/5, Loss: 0.9878, Train Acc: 0.4900, Val Acc: 0.5027\n"
     ]
    },
    {
     "name": "stdout",
     "output_type": "stream",
     "text": [
      "Epoch 3/5, Loss: 0.9878, Train Acc: 0.4900, Val Acc: 0.5027\n"
     ]
    },
    {
     "name": "stderr",
     "output_type": "stream",
     "text": [
      "Iterating training graphs: 100%|██████████| 140/140 [00:15<00:00,  8.76batch/s]\n"
     ]
    },
    {
     "name": "stdout",
     "output_type": "stream",
     "text": [
      "Checkpoint saved at /home/onyxia/work/DL-Hackathon/hackaton/checkpoints/pretrain_ABCD/model_A_epoch_4.pth\n"
     ]
    },
    {
     "name": "stderr",
     "output_type": "stream",
     "text": [
      "Iterating eval graphs: 100%|██████████| 35/35 [00:02<00:00, 16.02batch/s]\n",
      "Epoch 4/5, Loss: 0.9683, Train Acc: 0.5027, Val Acc: 0.5080\n",
      "Epoch 4/5, Loss: 0.9683, Train Acc: 0.5027, Val Acc: 0.5080\n",
      "Epoch 4/5, Loss: 0.9683, Train Acc: 0.5027, Val Acc: 0.5080\n"
     ]
    },
    {
     "name": "stdout",
     "output_type": "stream",
     "text": [
      "Epoch 4/5, Loss: 0.9683, Train Acc: 0.5027, Val Acc: 0.5080\n"
     ]
    },
    {
     "name": "stderr",
     "output_type": "stream",
     "text": [
      "Iterating training graphs: 100%|██████████| 140/140 [00:15<00:00,  8.76batch/s]\n"
     ]
    },
    {
     "name": "stdout",
     "output_type": "stream",
     "text": [
      "Checkpoint saved at /home/onyxia/work/DL-Hackathon/hackaton/checkpoints/pretrain_ABCD/model_A_epoch_5.pth\n"
     ]
    },
    {
     "name": "stderr",
     "output_type": "stream",
     "text": [
      "Iterating eval graphs: 100%|██████████| 35/35 [00:02<00:00, 16.05batch/s]\n",
      "Epoch 5/5, Loss: 0.9596, Train Acc: 0.5069, Val Acc: 0.5027\n",
      "Epoch 5/5, Loss: 0.9596, Train Acc: 0.5069, Val Acc: 0.5027\n",
      "Epoch 5/5, Loss: 0.9596, Train Acc: 0.5069, Val Acc: 0.5027\n"
     ]
    },
    {
     "name": "stdout",
     "output_type": "stream",
     "text": [
      "Epoch 5/5, Loss: 0.9596, Train Acc: 0.5069, Val Acc: 0.5027\n",
      "Loading graphs from datasets/C/train.json.gz...\n",
      "This may take a few minutes, please wait...\n"
     ]
    },
    {
     "name": "stderr",
     "output_type": "stream",
     "text": [
      "Processing graphs: 100%|██████████| 7680/7680 [00:44<00:00, 173.04graph/s]\n",
      "Iterating training graphs: 100%|██████████| 192/192 [00:21<00:00,  8.75batch/s]\n"
     ]
    },
    {
     "name": "stdout",
     "output_type": "stream",
     "text": [
      "Checkpoint saved at /home/onyxia/work/DL-Hackathon/hackaton/checkpoints/pretrain_ABCD/model_A_epoch_1.pth\n"
     ]
    },
    {
     "name": "stderr",
     "output_type": "stream",
     "text": [
      "Iterating eval graphs: 100%|██████████| 48/48 [00:03<00:00, 15.90batch/s]\n",
      "Epoch 1/5, Loss: 0.8466, Train Acc: 0.5451, Val Acc: 0.6764\n",
      "Epoch 1/5, Loss: 0.8466, Train Acc: 0.5451, Val Acc: 0.6764\n",
      "Epoch 1/5, Loss: 0.8466, Train Acc: 0.5451, Val Acc: 0.6764\n"
     ]
    },
    {
     "name": "stdout",
     "output_type": "stream",
     "text": [
      "Epoch 1/5, Loss: 0.8466, Train Acc: 0.5451, Val Acc: 0.6764\n",
      "Best model updated and saved at /home/onyxia/work/DL-Hackathon/hackaton/checkpoints/pretrain_ABCD/model_pretrain_ABCD_best.pth\n"
     ]
    },
    {
     "name": "stderr",
     "output_type": "stream",
     "text": [
      "Iterating training graphs: 100%|██████████| 192/192 [00:21<00:00,  8.75batch/s]\n"
     ]
    },
    {
     "name": "stdout",
     "output_type": "stream",
     "text": [
      "Checkpoint saved at /home/onyxia/work/DL-Hackathon/hackaton/checkpoints/pretrain_ABCD/model_A_epoch_2.pth\n"
     ]
    },
    {
     "name": "stderr",
     "output_type": "stream",
     "text": [
      "Iterating eval graphs: 100%|██████████| 48/48 [00:03<00:00, 15.92batch/s]\n",
      "Epoch 2/5, Loss: 0.6351, Train Acc: 0.6595, Val Acc: 0.7103\n",
      "Epoch 2/5, Loss: 0.6351, Train Acc: 0.6595, Val Acc: 0.7103\n",
      "Epoch 2/5, Loss: 0.6351, Train Acc: 0.6595, Val Acc: 0.7103\n"
     ]
    },
    {
     "name": "stdout",
     "output_type": "stream",
     "text": [
      "Epoch 2/5, Loss: 0.6351, Train Acc: 0.6595, Val Acc: 0.7103\n",
      "Best model updated and saved at /home/onyxia/work/DL-Hackathon/hackaton/checkpoints/pretrain_ABCD/model_pretrain_ABCD_best.pth\n"
     ]
    },
    {
     "name": "stderr",
     "output_type": "stream",
     "text": [
      "Iterating training graphs: 100%|██████████| 192/192 [00:21<00:00,  8.78batch/s]\n"
     ]
    },
    {
     "name": "stdout",
     "output_type": "stream",
     "text": [
      "Checkpoint saved at /home/onyxia/work/DL-Hackathon/hackaton/checkpoints/pretrain_ABCD/model_A_epoch_3.pth\n"
     ]
    },
    {
     "name": "stderr",
     "output_type": "stream",
     "text": [
      "Iterating eval graphs: 100%|██████████| 48/48 [00:03<00:00, 15.76batch/s]\n",
      "Epoch 3/5, Loss: 0.5619, Train Acc: 0.7012, Val Acc: 0.7148\n",
      "Epoch 3/5, Loss: 0.5619, Train Acc: 0.7012, Val Acc: 0.7148\n",
      "Epoch 3/5, Loss: 0.5619, Train Acc: 0.7012, Val Acc: 0.7148\n"
     ]
    },
    {
     "name": "stdout",
     "output_type": "stream",
     "text": [
      "Epoch 3/5, Loss: 0.5619, Train Acc: 0.7012, Val Acc: 0.7148\n",
      "Best model updated and saved at /home/onyxia/work/DL-Hackathon/hackaton/checkpoints/pretrain_ABCD/model_pretrain_ABCD_best.pth\n"
     ]
    },
    {
     "name": "stderr",
     "output_type": "stream",
     "text": [
      "Iterating training graphs: 100%|██████████| 192/192 [00:21<00:00,  8.76batch/s]\n"
     ]
    },
    {
     "name": "stdout",
     "output_type": "stream",
     "text": [
      "Checkpoint saved at /home/onyxia/work/DL-Hackathon/hackaton/checkpoints/pretrain_ABCD/model_A_epoch_4.pth\n"
     ]
    },
    {
     "name": "stderr",
     "output_type": "stream",
     "text": [
      "Iterating eval graphs: 100%|██████████| 48/48 [00:03<00:00, 15.77batch/s]\n",
      "Epoch 4/5, Loss: 0.5219, Train Acc: 0.7194, Val Acc: 0.7103\n",
      "Epoch 4/5, Loss: 0.5219, Train Acc: 0.7194, Val Acc: 0.7103\n",
      "Epoch 4/5, Loss: 0.5219, Train Acc: 0.7194, Val Acc: 0.7103\n"
     ]
    },
    {
     "name": "stdout",
     "output_type": "stream",
     "text": [
      "Epoch 4/5, Loss: 0.5219, Train Acc: 0.7194, Val Acc: 0.7103\n"
     ]
    },
    {
     "name": "stderr",
     "output_type": "stream",
     "text": [
      "Iterating training graphs: 100%|██████████| 192/192 [00:22<00:00,  8.69batch/s]\n"
     ]
    },
    {
     "name": "stdout",
     "output_type": "stream",
     "text": [
      "Checkpoint saved at /home/onyxia/work/DL-Hackathon/hackaton/checkpoints/pretrain_ABCD/model_A_epoch_5.pth\n"
     ]
    },
    {
     "name": "stderr",
     "output_type": "stream",
     "text": [
      "Iterating eval graphs: 100%|██████████| 48/48 [00:03<00:00, 15.75batch/s]\n",
      "Epoch 5/5, Loss: 0.4955, Train Acc: 0.7345, Val Acc: 0.4056\n",
      "Epoch 5/5, Loss: 0.4955, Train Acc: 0.7345, Val Acc: 0.4056\n",
      "Epoch 5/5, Loss: 0.4955, Train Acc: 0.7345, Val Acc: 0.4056\n"
     ]
    },
    {
     "name": "stdout",
     "output_type": "stream",
     "text": [
      "Epoch 5/5, Loss: 0.4955, Train Acc: 0.7345, Val Acc: 0.4056\n",
      "Loading graphs from datasets/D/train.json.gz...\n",
      "This may take a few minutes, please wait...\n"
     ]
    },
    {
     "name": "stderr",
     "output_type": "stream",
     "text": [
      "Processing graphs: 100%|██████████| 10280/10280 [00:56<00:00, 182.15graph/s]\n",
      "Iterating training graphs: 100%|██████████| 257/257 [00:30<00:00,  8.53batch/s]\n"
     ]
    },
    {
     "name": "stdout",
     "output_type": "stream",
     "text": [
      "Checkpoint saved at /home/onyxia/work/DL-Hackathon/hackaton/checkpoints/pretrain_ABCD/model_A_epoch_1.pth\n"
     ]
    },
    {
     "name": "stderr",
     "output_type": "stream",
     "text": [
      "Iterating eval graphs: 100%|██████████| 65/65 [00:04<00:00, 15.36batch/s]\n",
      "Epoch 1/5, Loss: 0.7648, Train Acc: 0.5368, Val Acc: 0.6216\n",
      "Epoch 1/5, Loss: 0.7648, Train Acc: 0.5368, Val Acc: 0.6216\n",
      "Epoch 1/5, Loss: 0.7648, Train Acc: 0.5368, Val Acc: 0.6216\n"
     ]
    },
    {
     "name": "stdout",
     "output_type": "stream",
     "text": [
      "Epoch 1/5, Loss: 0.7648, Train Acc: 0.5368, Val Acc: 0.6216\n"
     ]
    },
    {
     "name": "stderr",
     "output_type": "stream",
     "text": [
      "Iterating training graphs: 100%|██████████| 257/257 [00:30<00:00,  8.48batch/s]\n"
     ]
    },
    {
     "name": "stdout",
     "output_type": "stream",
     "text": [
      "Checkpoint saved at /home/onyxia/work/DL-Hackathon/hackaton/checkpoints/pretrain_ABCD/model_A_epoch_2.pth\n"
     ]
    },
    {
     "name": "stderr",
     "output_type": "stream",
     "text": [
      "Iterating eval graphs: 100%|██████████| 65/65 [00:04<00:00, 14.95batch/s]\n",
      "Epoch 2/5, Loss: 0.5749, Train Acc: 0.6432, Val Acc: 0.6532\n",
      "Epoch 2/5, Loss: 0.5749, Train Acc: 0.6432, Val Acc: 0.6532\n",
      "Epoch 2/5, Loss: 0.5749, Train Acc: 0.6432, Val Acc: 0.6532\n"
     ]
    },
    {
     "name": "stdout",
     "output_type": "stream",
     "text": [
      "Epoch 2/5, Loss: 0.5749, Train Acc: 0.6432, Val Acc: 0.6532\n"
     ]
    },
    {
     "name": "stderr",
     "output_type": "stream",
     "text": [
      "Iterating training graphs: 100%|██████████| 257/257 [00:30<00:00,  8.45batch/s]\n"
     ]
    },
    {
     "name": "stdout",
     "output_type": "stream",
     "text": [
      "Checkpoint saved at /home/onyxia/work/DL-Hackathon/hackaton/checkpoints/pretrain_ABCD/model_A_epoch_3.pth\n"
     ]
    },
    {
     "name": "stderr",
     "output_type": "stream",
     "text": [
      "Iterating eval graphs: 100%|██████████| 65/65 [00:04<00:00, 15.05batch/s]\n",
      "Epoch 3/5, Loss: 0.5137, Train Acc: 0.6751, Val Acc: 0.6566\n",
      "Epoch 3/5, Loss: 0.5137, Train Acc: 0.6751, Val Acc: 0.6566\n",
      "Epoch 3/5, Loss: 0.5137, Train Acc: 0.6751, Val Acc: 0.6566\n"
     ]
    },
    {
     "name": "stdout",
     "output_type": "stream",
     "text": [
      "Epoch 3/5, Loss: 0.5137, Train Acc: 0.6751, Val Acc: 0.6566\n"
     ]
    },
    {
     "name": "stderr",
     "output_type": "stream",
     "text": [
      "Iterating training graphs: 100%|██████████| 257/257 [00:30<00:00,  8.41batch/s]\n"
     ]
    },
    {
     "name": "stdout",
     "output_type": "stream",
     "text": [
      "Checkpoint saved at /home/onyxia/work/DL-Hackathon/hackaton/checkpoints/pretrain_ABCD/model_A_epoch_4.pth\n"
     ]
    },
    {
     "name": "stderr",
     "output_type": "stream",
     "text": [
      "Iterating eval graphs: 100%|██████████| 65/65 [00:04<00:00, 14.80batch/s]\n",
      "Epoch 4/5, Loss: 0.4797, Train Acc: 0.6970, Val Acc: 0.6975\n",
      "Epoch 4/5, Loss: 0.4797, Train Acc: 0.6970, Val Acc: 0.6975\n",
      "Epoch 4/5, Loss: 0.4797, Train Acc: 0.6970, Val Acc: 0.6975\n"
     ]
    },
    {
     "name": "stdout",
     "output_type": "stream",
     "text": [
      "Epoch 4/5, Loss: 0.4797, Train Acc: 0.6970, Val Acc: 0.6975\n"
     ]
    },
    {
     "name": "stderr",
     "output_type": "stream",
     "text": [
      "Iterating training graphs: 100%|██████████| 257/257 [00:30<00:00,  8.41batch/s]\n"
     ]
    },
    {
     "name": "stdout",
     "output_type": "stream",
     "text": [
      "Checkpoint saved at /home/onyxia/work/DL-Hackathon/hackaton/checkpoints/pretrain_ABCD/model_A_epoch_5.pth\n"
     ]
    },
    {
     "name": "stderr",
     "output_type": "stream",
     "text": [
      "Iterating eval graphs: 100%|██████████| 65/65 [00:04<00:00, 15.20batch/s]\n",
      "Epoch 5/5, Loss: 0.4636, Train Acc: 0.7014, Val Acc: 0.7130\n",
      "Epoch 5/5, Loss: 0.4636, Train Acc: 0.7014, Val Acc: 0.7130\n",
      "Epoch 5/5, Loss: 0.4636, Train Acc: 0.7014, Val Acc: 0.7130\n"
     ]
    },
    {
     "name": "stdout",
     "output_type": "stream",
     "text": [
      "Epoch 5/5, Loss: 0.4636, Train Acc: 0.7014, Val Acc: 0.7130\n"
     ]
    }
   ],
   "source": [
    "path = {\n",
    "    'A' : ['datasets/A/train.json.gz', 'datasets/A/test.json.gz'],\n",
    "    'B' : ['datasets/B/train.json.gz', 'datasets/B/test.json.gz'],\n",
    "    'C' : ['datasets/C/train.json.gz', 'datasets/C/test.json.gz'],\n",
    "    'D' : ['datasets/D/train.json.gz', 'datasets/D/test.json.gz'],\n",
    "}\n",
    "\n",
    "batch_size = 32\n",
    "epochs = 5 # For each dataset. Total epochs = 4*epochs\n",
    "\n",
    "\n",
    "train_losses = []\n",
    "train_accuracies = []\n",
    "val_losses = []\n",
    "val_accuracies = []\n",
    "\n",
    "best_val_accuracy = 0\n",
    "\n",
    "\n",
    "for data in path.values():\n",
    "    train_path = data[0]\n",
    "    test_path = data[1]\n",
    "\n",
    "    full_dataset = GraphDataset(train_path, transform=add_zeros)\n",
    "    val_size = int(0.2 * len(full_dataset))\n",
    "    train_size = len(full_dataset) - val_size\n",
    "    \n",
    "    generator = torch.Generator().manual_seed(12)\n",
    "    train_dataset, val_dataset = random_split(full_dataset, [train_size, val_size], generator=generator)\n",
    "\n",
    "    train_loader = DataLoader(train_dataset, batch_size=batch_size, shuffle=True)\n",
    "    val_loader = DataLoader(val_dataset, batch_size=batch_size, shuffle=False)\n",
    "\n",
    "    num_epochs = epochs  \n",
    "\n",
    "    if num_checkpoints > 1:\n",
    "        checkpoint_intervals = [int((i + 1) * num_epochs / num_checkpoints) for i in range(num_checkpoints)]\n",
    "    else:\n",
    "        checkpoint_intervals = [num_epochs]\n",
    "\n",
    "    for epoch in range(num_epochs):\n",
    "        train_loss, train_acc = train(\n",
    "            train_loader, model, optimizer, criterion, device,\n",
    "            save_checkpoints=(epoch + 1 in checkpoint_intervals),\n",
    "            checkpoint_path=os.path.join(checkpoints_folder, f\"model_{test_dir_name}\"),\n",
    "            current_epoch=epoch\n",
    "        )\n",
    "\n",
    "        val_loss,val_acc = evaluate(val_loader, model, device, calculate_accuracy=True)\n",
    "\n",
    "        print(f\"Epoch {epoch + 1}/{num_epochs}, Loss: {train_loss:.4f}, Train Acc: {train_acc:.4f}, Val Acc: {val_acc:.4f}\")\n",
    "        logging.info(f\"Epoch {epoch + 1}/{num_epochs}, Loss: {train_loss:.4f}, Train Acc: {train_acc:.4f}, Val Acc: {val_acc:.4f}\")\n",
    "\n",
    "        train_losses.append(train_loss)\n",
    "        train_accuracies.append(train_acc)\n",
    "        val_losses.append(val_loss)\n",
    "        val_accuracies.append(val_acc)\n",
    "\n",
    "        \n",
    "        if val_acc > best_val_accuracy:\n",
    "            best_val_accuracy = val_acc\n",
    "            torch.save(model.state_dict(), checkpoint_path)\n",
    "            print(f\"Best model updated and saved at {checkpoint_path}\")\n",
    "\n",
    "plot_training_progress(train_losses, train_accuracies, os.path.join(logs_folder, \"plots\"))\n",
    "plot_training_progress(val_losses, val_accuracies, os.path.join(logs_folder, \"plotsVal\"))"
   ]
  },
  {
   "cell_type": "code",
   "execution_count": 41,
   "id": "126d80e7-8a71-4ca7-b250-8968155f8390",
   "metadata": {},
   "outputs": [],
   "source": [
    "torch.save(model.state_dict(), checkpoint_path)"
   ]
  },
  {
   "cell_type": "markdown",
   "id": "ace1b0be-91ed-4bbe-9126-effa27b990af",
   "metadata": {
    "jp-MarkdownHeadingCollapsed": true
   },
   "source": [
    "# A"
   ]
  },
  {
   "cell_type": "code",
   "execution_count": 17,
   "id": "92751e25-1576-4cd0-baa0-da14463ac738",
   "metadata": {
    "papermill": {
     "duration": 0.118164,
     "end_time": "2025-05-21T16:25:02.850799",
     "exception": true,
     "start_time": "2025-05-21T16:25:02.732635",
     "status": "failed"
    },
    "scrolled": true,
    "tags": []
   },
   "outputs": [
    {
     "name": "stdin",
     "output_type": "stream",
     "text": [
      "Path to the training dataset (optional) [None]:  datasets/A/train.json.gz\n",
      "Path to the test dataset [None]:  datasets/A/test.json.gz\n",
      "Number of checkpoints to save during training [None]:  20\n",
      "Which GPU to use if any [1]:  \n",
      "GNN type (gin, gin-virtual, gcn, gcn-virtual) [gin]:  gcn-virtual\n",
      "Dropout ratio [0.0]:  0.5\n",
      "Number of GNN message passing layers [5]:  \n",
      "Dimensionality of hidden units in GNNs [300]:  \n",
      "Input batch size for training [32]:  \n",
      "Number of epochs to train [10]:  400\n",
      "Baseline mode: 1 (CE), 2 (Noisy CE) [1]:  2\n",
      "Noise probability p (used if baseline_mode=2) [0.2]:  \n"
     ]
    },
    {
     "name": "stdout",
     "output_type": "stream",
     "text": [
      "Arguments received:\n",
      "train_path: datasets/A/train.json.gz\n",
      "test_path: datasets/A/test.json.gz\n",
      "num_checkpoints: 20\n",
      "device: 1\n",
      "gnn: gcn-virtual\n",
      "drop_ratio: 0.5\n",
      "num_layer: 5\n",
      "emb_dim: 300\n",
      "batch_size: 32\n",
      "epochs: 400\n",
      "baseline_mode: 2\n",
      "noise_prob: 0.2\n"
     ]
    }
   ],
   "source": [
    "def populate_args(args):\n",
    "    print(\"Arguments received:\")\n",
    "    for key, value in vars(args).items():\n",
    "        print(f\"{key}: {value}\")\n",
    "args = get_arguments()\n",
    "populate_args(args)"
   ]
  },
  {
   "cell_type": "code",
   "execution_count": 18,
   "id": "fb9aa9d1-c74c-4089-9806-c1772a3c98e2",
   "metadata": {
    "id": "lHX55XGECXBr",
    "papermill": {
     "duration": null,
     "end_time": null,
     "exception": null,
     "start_time": null,
     "status": "pending"
    },
    "tags": []
   },
   "outputs": [],
   "source": [
    "script_dir = os.getcwd() \n",
    "# device = torch.device(f\"cuda:{args.device}\" if torch.cuda.is_available() else \"cpu\")\n",
    "device = torch.device(\"cuda\" if torch.cuda.is_available() else \"cpu\")\n",
    "num_checkpoints = args.num_checkpoints if args.num_checkpoints else 3\n",
    "    \n",
    "if args.gnn == 'gin':\n",
    "    model = GNN(gnn_type='gin', num_class=6, num_layer=args.num_layer, emb_dim=args.emb_dim, drop_ratio=args.drop_ratio, virtual_node=False).to(device)\n",
    "elif args.gnn == 'gin-virtual':\n",
    "    model = GNN(gnn_type='gin', num_class=6, num_layer=args.num_layer, emb_dim=args.emb_dim, drop_ratio=args.drop_ratio, virtual_node=True).to(device)\n",
    "elif args.gnn == 'gcn':\n",
    "    model = GNN(gnn_type='gcn', num_class=6, num_layer=args.num_layer, emb_dim=args.emb_dim, drop_ratio=args.drop_ratio, virtual_node=False).to(device)\n",
    "elif args.gnn == 'gcn-virtual':\n",
    "    model = GNN(gnn_type='gcn', num_class=6, num_layer=args.num_layer, emb_dim=args.emb_dim, drop_ratio=args.drop_ratio, virtual_node=True).to(device)\n",
    "else:\n",
    "    raise ValueError('Invalid GNN type')\n",
    "    \n",
    "optimizer = torch.optim.Adam(model.parameters(), lr=0.001)\n",
    "# criterion = torch.nn.CrossEntropyLoss()\n",
    "if args.baseline_mode == 2:\n",
    "    criterion = GCODLoss(gamma=0.2)\n",
    "else:\n",
    "    criterion = torch.nn.CrossEntropyLoss()"
   ]
  },
  {
   "cell_type": "code",
   "execution_count": 19,
   "id": "7646a9d9-47ae-4bfb-bb6a-060c3516be6c",
   "metadata": {
    "id": "BTYT5jYuChPb",
    "papermill": {
     "duration": null,
     "end_time": null,
     "exception": null,
     "start_time": null,
     "status": "pending"
    },
    "tags": []
   },
   "outputs": [],
   "source": [
    "test_dir_name = os.path.basename(os.path.dirname(args.test_path))\n",
    "logs_folder = os.path.join(script_dir, \"logs\", test_dir_name)\n",
    "log_file = os.path.join(logs_folder, \"training.log\")\n",
    "os.makedirs(os.path.dirname(log_file), exist_ok=True)\n",
    "logging.basicConfig(filename=log_file, level=logging.INFO, format='%(asctime)s - %(message)s')\n",
    "logging.getLogger().addHandler(logging.StreamHandler())\n",
    "\n",
    "checkpoint_path = os.path.join(script_dir, \"checkpoints\", f\"model_{test_dir_name}_best.pth\")\n",
    "checkpoints_folder = os.path.join(script_dir, \"checkpoints\", test_dir_name)\n",
    "os.makedirs(checkpoints_folder, exist_ok=True)\n"
   ]
  },
  {
   "cell_type": "code",
   "execution_count": 20,
   "id": "745d96d5-0a3f-4af1-a3af-754b593bb0db",
   "metadata": {
    "papermill": {
     "duration": null,
     "end_time": null,
     "exception": null,
     "start_time": null,
     "status": "pending"
    },
    "tags": []
   },
   "outputs": [],
   "source": [
    "if os.path.exists(checkpoint_path) and not args.train_path:\n",
    "    model.load_state_dict(torch.load(checkpoint_path))\n",
    "    print(f\"Loaded best model from {checkpoint_path}\")"
   ]
  },
  {
   "cell_type": "code",
   "execution_count": 21,
   "id": "54e48b2b-b9e7-4264-9844-e129a6b74483",
   "metadata": {
    "papermill": {
     "duration": null,
     "end_time": null,
     "exception": null,
     "start_time": null,
     "status": "pending"
    },
    "scrolled": true,
    "tags": []
   },
   "outputs": [
    {
     "name": "stdout",
     "output_type": "stream",
     "text": [
      "Loading graphs from datasets/A/train.json.gz...\n",
      "This may take a few minutes, please wait...\n"
     ]
    },
    {
     "name": "stderr",
     "output_type": "stream",
     "text": [
      "Processing graphs: 100%|██████████| 11280/11280 [01:00<00:00, 185.39graph/s]\n",
      "Iterating training graphs: 100%|██████████| 282/282 [00:32<00:00,  8.60batch/s]\n",
      "Iterating eval graphs: 100%|██████████| 71/71 [00:04<00:00, 15.79batch/s]\n",
      "Epoch 1/400, Loss: 1.2063, Train Acc: 0.2596, Val Acc: 0.3032\n"
     ]
    },
    {
     "name": "stdout",
     "output_type": "stream",
     "text": [
      "Epoch 1/400, Loss: 1.2063, Train Acc: 0.2596, Val Acc: 0.3032\n",
      "Best model updated and saved at /home/onyxia/work/DL-Hackathon/hackaton/checkpoints/model_A_best.pth\n"
     ]
    },
    {
     "name": "stderr",
     "output_type": "stream",
     "text": [
      "Iterating training graphs: 100%|██████████| 282/282 [00:32<00:00,  8.55batch/s]\n",
      "Iterating eval graphs: 100%|██████████| 71/71 [00:04<00:00, 15.80batch/s]\n",
      "Epoch 2/400, Loss: 1.1585, Train Acc: 0.3096, Val Acc: 0.2779\n"
     ]
    },
    {
     "name": "stdout",
     "output_type": "stream",
     "text": [
      "Epoch 2/400, Loss: 1.1585, Train Acc: 0.3096, Val Acc: 0.2779\n"
     ]
    },
    {
     "name": "stderr",
     "output_type": "stream",
     "text": [
      "Iterating training graphs: 100%|██████████| 282/282 [00:33<00:00,  8.38batch/s]\n",
      "Iterating eval graphs: 100%|██████████| 71/71 [00:04<00:00, 15.86batch/s]\n",
      "Epoch 3/400, Loss: 1.1462, Train Acc: 0.3182, Val Acc: 0.3160\n"
     ]
    },
    {
     "name": "stdout",
     "output_type": "stream",
     "text": [
      "Epoch 3/400, Loss: 1.1462, Train Acc: 0.3182, Val Acc: 0.3160\n",
      "Best model updated and saved at /home/onyxia/work/DL-Hackathon/hackaton/checkpoints/model_A_best.pth\n"
     ]
    },
    {
     "name": "stderr",
     "output_type": "stream",
     "text": [
      "Iterating training graphs: 100%|██████████| 282/282 [00:33<00:00,  8.47batch/s]\n",
      "Iterating eval graphs: 100%|██████████| 71/71 [00:04<00:00, 15.66batch/s]\n",
      "Epoch 4/400, Loss: 1.1347, Train Acc: 0.3338, Val Acc: 0.3209\n"
     ]
    },
    {
     "name": "stdout",
     "output_type": "stream",
     "text": [
      "Epoch 4/400, Loss: 1.1347, Train Acc: 0.3338, Val Acc: 0.3209\n",
      "Best model updated and saved at /home/onyxia/work/DL-Hackathon/hackaton/checkpoints/model_A_best.pth\n"
     ]
    },
    {
     "name": "stderr",
     "output_type": "stream",
     "text": [
      "Iterating training graphs: 100%|██████████| 282/282 [00:33<00:00,  8.41batch/s]\n",
      "Iterating eval graphs: 100%|██████████| 71/71 [00:04<00:00, 15.84batch/s]\n",
      "Epoch 5/400, Loss: 1.1188, Train Acc: 0.3440, Val Acc: 0.2983\n"
     ]
    },
    {
     "name": "stdout",
     "output_type": "stream",
     "text": [
      "Epoch 5/400, Loss: 1.1188, Train Acc: 0.3440, Val Acc: 0.2983\n"
     ]
    },
    {
     "name": "stderr",
     "output_type": "stream",
     "text": [
      "Iterating training graphs: 100%|██████████| 282/282 [00:33<00:00,  8.46batch/s]\n",
      "Iterating eval graphs: 100%|██████████| 71/71 [00:04<00:00, 15.26batch/s]\n",
      "Epoch 6/400, Loss: 1.1067, Train Acc: 0.3483, Val Acc: 0.3630\n"
     ]
    },
    {
     "name": "stdout",
     "output_type": "stream",
     "text": [
      "Epoch 6/400, Loss: 1.1067, Train Acc: 0.3483, Val Acc: 0.3630\n",
      "Best model updated and saved at /home/onyxia/work/DL-Hackathon/hackaton/checkpoints/model_A_best.pth\n"
     ]
    },
    {
     "name": "stderr",
     "output_type": "stream",
     "text": [
      "Iterating training graphs: 100%|██████████| 282/282 [00:33<00:00,  8.44batch/s]\n",
      "Iterating eval graphs: 100%|██████████| 71/71 [00:04<00:00, 15.35batch/s]\n",
      "Epoch 7/400, Loss: 1.0890, Train Acc: 0.3696, Val Acc: 0.3790\n"
     ]
    },
    {
     "name": "stdout",
     "output_type": "stream",
     "text": [
      "Epoch 7/400, Loss: 1.0890, Train Acc: 0.3696, Val Acc: 0.3790\n",
      "Best model updated and saved at /home/onyxia/work/DL-Hackathon/hackaton/checkpoints/model_A_best.pth\n"
     ]
    },
    {
     "name": "stderr",
     "output_type": "stream",
     "text": [
      "Iterating training graphs: 100%|██████████| 282/282 [00:33<00:00,  8.49batch/s]\n",
      "Iterating eval graphs: 100%|██████████| 71/71 [00:04<00:00, 15.76batch/s]\n",
      "Epoch 8/400, Loss: 1.0745, Train Acc: 0.3779, Val Acc: 0.3409\n"
     ]
    },
    {
     "name": "stdout",
     "output_type": "stream",
     "text": [
      "Epoch 8/400, Loss: 1.0745, Train Acc: 0.3779, Val Acc: 0.3409\n"
     ]
    },
    {
     "name": "stderr",
     "output_type": "stream",
     "text": [
      "Iterating training graphs: 100%|██████████| 282/282 [00:33<00:00,  8.46batch/s]\n",
      "Iterating eval graphs: 100%|██████████| 71/71 [00:04<00:00, 15.87batch/s]\n",
      "Epoch 9/400, Loss: 1.0576, Train Acc: 0.3938, Val Acc: 0.3834\n"
     ]
    },
    {
     "name": "stdout",
     "output_type": "stream",
     "text": [
      "Epoch 9/400, Loss: 1.0576, Train Acc: 0.3938, Val Acc: 0.3834\n",
      "Best model updated and saved at /home/onyxia/work/DL-Hackathon/hackaton/checkpoints/model_A_best.pth\n"
     ]
    },
    {
     "name": "stderr",
     "output_type": "stream",
     "text": [
      "Iterating training graphs: 100%|██████████| 282/282 [00:33<00:00,  8.47batch/s]\n",
      "Iterating eval graphs: 100%|██████████| 71/71 [00:04<00:00, 15.34batch/s]\n",
      "Epoch 10/400, Loss: 1.0489, Train Acc: 0.3996, Val Acc: 0.3967\n"
     ]
    },
    {
     "name": "stdout",
     "output_type": "stream",
     "text": [
      "Epoch 10/400, Loss: 1.0489, Train Acc: 0.3996, Val Acc: 0.3967\n",
      "Best model updated and saved at /home/onyxia/work/DL-Hackathon/hackaton/checkpoints/model_A_best.pth\n"
     ]
    },
    {
     "name": "stderr",
     "output_type": "stream",
     "text": [
      "Iterating training graphs: 100%|██████████| 282/282 [00:33<00:00,  8.48batch/s]\n",
      "Iterating eval graphs: 100%|██████████| 71/71 [00:04<00:00, 15.70batch/s]\n",
      "Epoch 11/400, Loss: 1.0277, Train Acc: 0.4170, Val Acc: 0.4375\n"
     ]
    },
    {
     "name": "stdout",
     "output_type": "stream",
     "text": [
      "Epoch 11/400, Loss: 1.0277, Train Acc: 0.4170, Val Acc: 0.4375\n",
      "Best model updated and saved at /home/onyxia/work/DL-Hackathon/hackaton/checkpoints/model_A_best.pth\n"
     ]
    },
    {
     "name": "stderr",
     "output_type": "stream",
     "text": [
      "Iterating training graphs: 100%|██████████| 282/282 [00:33<00:00,  8.48batch/s]\n",
      "Iterating eval graphs: 100%|██████████| 71/71 [00:04<00:00, 15.73batch/s]\n",
      "Epoch 12/400, Loss: 1.0124, Train Acc: 0.4307, Val Acc: 0.4614\n"
     ]
    },
    {
     "name": "stdout",
     "output_type": "stream",
     "text": [
      "Epoch 12/400, Loss: 1.0124, Train Acc: 0.4307, Val Acc: 0.4614\n",
      "Best model updated and saved at /home/onyxia/work/DL-Hackathon/hackaton/checkpoints/model_A_best.pth\n"
     ]
    },
    {
     "name": "stderr",
     "output_type": "stream",
     "text": [
      "Iterating training graphs: 100%|██████████| 282/282 [00:33<00:00,  8.52batch/s]\n",
      "Iterating eval graphs: 100%|██████████| 71/71 [00:04<00:00, 15.78batch/s]\n",
      "Epoch 13/400, Loss: 0.9972, Train Acc: 0.4406, Val Acc: 0.4574\n"
     ]
    },
    {
     "name": "stdout",
     "output_type": "stream",
     "text": [
      "Epoch 13/400, Loss: 0.9972, Train Acc: 0.4406, Val Acc: 0.4574\n"
     ]
    },
    {
     "name": "stderr",
     "output_type": "stream",
     "text": [
      "Iterating training graphs: 100%|██████████| 282/282 [00:33<00:00,  8.46batch/s]\n",
      "Iterating eval graphs: 100%|██████████| 71/71 [00:04<00:00, 15.56batch/s]\n",
      "Epoch 14/400, Loss: 0.9816, Train Acc: 0.4476, Val Acc: 0.4902\n"
     ]
    },
    {
     "name": "stdout",
     "output_type": "stream",
     "text": [
      "Epoch 14/400, Loss: 0.9816, Train Acc: 0.4476, Val Acc: 0.4902\n",
      "Best model updated and saved at /home/onyxia/work/DL-Hackathon/hackaton/checkpoints/model_A_best.pth\n"
     ]
    },
    {
     "name": "stderr",
     "output_type": "stream",
     "text": [
      "Iterating training graphs: 100%|██████████| 282/282 [00:33<00:00,  8.50batch/s]\n",
      "Iterating eval graphs: 100%|██████████| 71/71 [00:04<00:00, 15.65batch/s]\n",
      "Epoch 15/400, Loss: 0.9701, Train Acc: 0.4641, Val Acc: 0.4987\n"
     ]
    },
    {
     "name": "stdout",
     "output_type": "stream",
     "text": [
      "Epoch 15/400, Loss: 0.9701, Train Acc: 0.4641, Val Acc: 0.4987\n",
      "Best model updated and saved at /home/onyxia/work/DL-Hackathon/hackaton/checkpoints/model_A_best.pth\n"
     ]
    },
    {
     "name": "stderr",
     "output_type": "stream",
     "text": [
      "Iterating training graphs: 100%|██████████| 282/282 [00:33<00:00,  8.49batch/s]\n",
      "Iterating eval graphs: 100%|██████████| 71/71 [00:04<00:00, 15.79batch/s]\n",
      "Epoch 16/400, Loss: 0.9590, Train Acc: 0.4688, Val Acc: 0.5133\n"
     ]
    },
    {
     "name": "stdout",
     "output_type": "stream",
     "text": [
      "Epoch 16/400, Loss: 0.9590, Train Acc: 0.4688, Val Acc: 0.5133\n",
      "Best model updated and saved at /home/onyxia/work/DL-Hackathon/hackaton/checkpoints/model_A_best.pth\n"
     ]
    },
    {
     "name": "stderr",
     "output_type": "stream",
     "text": [
      "Iterating training graphs: 100%|██████████| 282/282 [00:33<00:00,  8.49batch/s]\n",
      "Iterating eval graphs: 100%|██████████| 71/71 [00:04<00:00, 15.63batch/s]\n",
      "Epoch 17/400, Loss: 0.9506, Train Acc: 0.4804, Val Acc: 0.5115\n"
     ]
    },
    {
     "name": "stdout",
     "output_type": "stream",
     "text": [
      "Epoch 17/400, Loss: 0.9506, Train Acc: 0.4804, Val Acc: 0.5115\n"
     ]
    },
    {
     "name": "stderr",
     "output_type": "stream",
     "text": [
      "Iterating training graphs: 100%|██████████| 282/282 [00:33<00:00,  8.50batch/s]\n",
      "Iterating eval graphs: 100%|██████████| 71/71 [00:04<00:00, 15.40batch/s]\n",
      "Epoch 18/400, Loss: 0.9423, Train Acc: 0.4855, Val Acc: 0.5035\n"
     ]
    },
    {
     "name": "stdout",
     "output_type": "stream",
     "text": [
      "Epoch 18/400, Loss: 0.9423, Train Acc: 0.4855, Val Acc: 0.5035\n"
     ]
    },
    {
     "name": "stderr",
     "output_type": "stream",
     "text": [
      "Iterating training graphs: 100%|██████████| 282/282 [00:33<00:00,  8.50batch/s]\n",
      "Iterating eval graphs: 100%|██████████| 71/71 [00:04<00:00, 15.75batch/s]\n",
      "Epoch 19/400, Loss: 0.9272, Train Acc: 0.4948, Val Acc: 0.5253\n"
     ]
    },
    {
     "name": "stdout",
     "output_type": "stream",
     "text": [
      "Epoch 19/400, Loss: 0.9272, Train Acc: 0.4948, Val Acc: 0.5253\n",
      "Best model updated and saved at /home/onyxia/work/DL-Hackathon/hackaton/checkpoints/model_A_best.pth\n"
     ]
    },
    {
     "name": "stderr",
     "output_type": "stream",
     "text": [
      "Iterating training graphs: 100%|██████████| 282/282 [00:33<00:00,  8.51batch/s]\n"
     ]
    },
    {
     "name": "stdout",
     "output_type": "stream",
     "text": [
      "Checkpoint saved at /home/onyxia/work/DL-Hackathon/hackaton/checkpoints/A/model_A_epoch_20.pth\n"
     ]
    },
    {
     "name": "stderr",
     "output_type": "stream",
     "text": [
      "Iterating eval graphs: 100%|██████████| 71/71 [00:04<00:00, 15.66batch/s]\n",
      "Epoch 20/400, Loss: 0.9198, Train Acc: 0.5002, Val Acc: 0.5386\n"
     ]
    },
    {
     "name": "stdout",
     "output_type": "stream",
     "text": [
      "Epoch 20/400, Loss: 0.9198, Train Acc: 0.5002, Val Acc: 0.5386\n",
      "Best model updated and saved at /home/onyxia/work/DL-Hackathon/hackaton/checkpoints/model_A_best.pth\n"
     ]
    },
    {
     "name": "stderr",
     "output_type": "stream",
     "text": [
      "Iterating training graphs: 100%|██████████| 282/282 [00:33<00:00,  8.49batch/s]\n",
      "Iterating eval graphs: 100%|██████████| 71/71 [00:04<00:00, 15.82batch/s]\n",
      "Epoch 21/400, Loss: 0.9065, Train Acc: 0.5057, Val Acc: 0.5527\n"
     ]
    },
    {
     "name": "stdout",
     "output_type": "stream",
     "text": [
      "Epoch 21/400, Loss: 0.9065, Train Acc: 0.5057, Val Acc: 0.5527\n",
      "Best model updated and saved at /home/onyxia/work/DL-Hackathon/hackaton/checkpoints/model_A_best.pth\n"
     ]
    },
    {
     "name": "stderr",
     "output_type": "stream",
     "text": [
      "Iterating training graphs: 100%|██████████| 282/282 [00:33<00:00,  8.47batch/s]\n",
      "Iterating eval graphs: 100%|██████████| 71/71 [00:04<00:00, 15.73batch/s]\n",
      "Epoch 22/400, Loss: 0.9090, Train Acc: 0.5051, Val Acc: 0.5598\n"
     ]
    },
    {
     "name": "stdout",
     "output_type": "stream",
     "text": [
      "Epoch 22/400, Loss: 0.9090, Train Acc: 0.5051, Val Acc: 0.5598\n",
      "Best model updated and saved at /home/onyxia/work/DL-Hackathon/hackaton/checkpoints/model_A_best.pth\n"
     ]
    },
    {
     "name": "stderr",
     "output_type": "stream",
     "text": [
      "Iterating training graphs: 100%|██████████| 282/282 [00:33<00:00,  8.52batch/s]\n",
      "Iterating eval graphs: 100%|██████████| 71/71 [00:04<00:00, 15.76batch/s]\n",
      "Epoch 23/400, Loss: 0.8881, Train Acc: 0.5186, Val Acc: 0.5421\n"
     ]
    },
    {
     "name": "stdout",
     "output_type": "stream",
     "text": [
      "Epoch 23/400, Loss: 0.8881, Train Acc: 0.5186, Val Acc: 0.5421\n"
     ]
    },
    {
     "name": "stderr",
     "output_type": "stream",
     "text": [
      "Iterating training graphs: 100%|██████████| 282/282 [00:33<00:00,  8.49batch/s]\n",
      "Iterating eval graphs: 100%|██████████| 71/71 [00:04<00:00, 15.80batch/s]\n",
      "Epoch 24/400, Loss: 0.8787, Train Acc: 0.5262, Val Acc: 0.5439\n"
     ]
    },
    {
     "name": "stdout",
     "output_type": "stream",
     "text": [
      "Epoch 24/400, Loss: 0.8787, Train Acc: 0.5262, Val Acc: 0.5439\n"
     ]
    },
    {
     "name": "stderr",
     "output_type": "stream",
     "text": [
      "Iterating training graphs: 100%|██████████| 282/282 [00:33<00:00,  8.51batch/s]\n",
      "Iterating eval graphs: 100%|██████████| 71/71 [00:04<00:00, 15.79batch/s]\n",
      "Epoch 25/400, Loss: 0.8799, Train Acc: 0.5300, Val Acc: 0.5678\n"
     ]
    },
    {
     "name": "stdout",
     "output_type": "stream",
     "text": [
      "Epoch 25/400, Loss: 0.8799, Train Acc: 0.5300, Val Acc: 0.5678\n",
      "Best model updated and saved at /home/onyxia/work/DL-Hackathon/hackaton/checkpoints/model_A_best.pth\n"
     ]
    },
    {
     "name": "stderr",
     "output_type": "stream",
     "text": [
      "Iterating training graphs: 100%|██████████| 282/282 [00:33<00:00,  8.48batch/s]\n",
      "Iterating eval graphs: 100%|██████████| 71/71 [00:04<00:00, 15.72batch/s]\n",
      "Epoch 26/400, Loss: 0.8689, Train Acc: 0.5311, Val Acc: 0.5674\n"
     ]
    },
    {
     "name": "stdout",
     "output_type": "stream",
     "text": [
      "Epoch 26/400, Loss: 0.8689, Train Acc: 0.5311, Val Acc: 0.5674\n"
     ]
    },
    {
     "name": "stderr",
     "output_type": "stream",
     "text": [
      "Iterating training graphs: 100%|██████████| 282/282 [00:33<00:00,  8.51batch/s]\n",
      "Iterating eval graphs: 100%|██████████| 71/71 [00:04<00:00, 15.75batch/s]\n",
      "Epoch 27/400, Loss: 0.8666, Train Acc: 0.5380, Val Acc: 0.5754\n"
     ]
    },
    {
     "name": "stdout",
     "output_type": "stream",
     "text": [
      "Epoch 27/400, Loss: 0.8666, Train Acc: 0.5380, Val Acc: 0.5754\n",
      "Best model updated and saved at /home/onyxia/work/DL-Hackathon/hackaton/checkpoints/model_A_best.pth\n"
     ]
    },
    {
     "name": "stderr",
     "output_type": "stream",
     "text": [
      "Iterating training graphs: 100%|██████████| 282/282 [00:33<00:00,  8.49batch/s]\n",
      "Iterating eval graphs: 100%|██████████| 71/71 [00:04<00:00, 15.94batch/s]\n",
      "Epoch 28/400, Loss: 0.8725, Train Acc: 0.5312, Val Acc: 0.5683\n"
     ]
    },
    {
     "name": "stdout",
     "output_type": "stream",
     "text": [
      "Epoch 28/400, Loss: 0.8725, Train Acc: 0.5312, Val Acc: 0.5683\n"
     ]
    },
    {
     "name": "stderr",
     "output_type": "stream",
     "text": [
      "Iterating training graphs: 100%|██████████| 282/282 [00:33<00:00,  8.52batch/s]\n",
      "Iterating eval graphs: 100%|██████████| 71/71 [00:04<00:00, 15.85batch/s]\n",
      "Epoch 29/400, Loss: 0.8766, Train Acc: 0.5224, Val Acc: 0.5634\n"
     ]
    },
    {
     "name": "stdout",
     "output_type": "stream",
     "text": [
      "Epoch 29/400, Loss: 0.8766, Train Acc: 0.5224, Val Acc: 0.5634\n"
     ]
    },
    {
     "name": "stderr",
     "output_type": "stream",
     "text": [
      "Iterating training graphs: 100%|██████████| 282/282 [00:33<00:00,  8.48batch/s]\n",
      "Iterating eval graphs: 100%|██████████| 71/71 [00:04<00:00, 15.70batch/s]\n",
      "Epoch 30/400, Loss: 0.8502, Train Acc: 0.5481, Val Acc: 0.5745\n"
     ]
    },
    {
     "name": "stdout",
     "output_type": "stream",
     "text": [
      "Epoch 30/400, Loss: 0.8502, Train Acc: 0.5481, Val Acc: 0.5745\n"
     ]
    },
    {
     "name": "stderr",
     "output_type": "stream",
     "text": [
      "Iterating training graphs: 100%|██████████| 282/282 [00:33<00:00,  8.48batch/s]\n",
      "Iterating eval graphs: 100%|██████████| 71/71 [00:04<00:00, 15.48batch/s]\n",
      "Epoch 31/400, Loss: 0.8481, Train Acc: 0.5454, Val Acc: 0.5793\n"
     ]
    },
    {
     "name": "stdout",
     "output_type": "stream",
     "text": [
      "Epoch 31/400, Loss: 0.8481, Train Acc: 0.5454, Val Acc: 0.5793\n",
      "Best model updated and saved at /home/onyxia/work/DL-Hackathon/hackaton/checkpoints/model_A_best.pth\n"
     ]
    },
    {
     "name": "stderr",
     "output_type": "stream",
     "text": [
      "Iterating training graphs: 100%|██████████| 282/282 [00:33<00:00,  8.51batch/s]\n",
      "Iterating eval graphs: 100%|██████████| 71/71 [00:04<00:00, 15.82batch/s]\n",
      "Epoch 32/400, Loss: 0.8382, Train Acc: 0.5602, Val Acc: 0.5864\n"
     ]
    },
    {
     "name": "stdout",
     "output_type": "stream",
     "text": [
      "Epoch 32/400, Loss: 0.8382, Train Acc: 0.5602, Val Acc: 0.5864\n",
      "Best model updated and saved at /home/onyxia/work/DL-Hackathon/hackaton/checkpoints/model_A_best.pth\n"
     ]
    },
    {
     "name": "stderr",
     "output_type": "stream",
     "text": [
      "Iterating training graphs: 100%|██████████| 282/282 [00:33<00:00,  8.51batch/s]\n",
      "Iterating eval graphs: 100%|██████████| 71/71 [00:04<00:00, 15.25batch/s]\n",
      "Epoch 33/400, Loss: 0.8300, Train Acc: 0.5634, Val Acc: 0.5975\n"
     ]
    },
    {
     "name": "stdout",
     "output_type": "stream",
     "text": [
      "Epoch 33/400, Loss: 0.8300, Train Acc: 0.5634, Val Acc: 0.5975\n",
      "Best model updated and saved at /home/onyxia/work/DL-Hackathon/hackaton/checkpoints/model_A_best.pth\n"
     ]
    },
    {
     "name": "stderr",
     "output_type": "stream",
     "text": [
      "Iterating training graphs: 100%|██████████| 282/282 [00:33<00:00,  8.51batch/s]\n",
      "Iterating eval graphs: 100%|██████████| 71/71 [00:04<00:00, 15.75batch/s]\n",
      "Epoch 34/400, Loss: 0.8309, Train Acc: 0.5588, Val Acc: 0.5891\n"
     ]
    },
    {
     "name": "stdout",
     "output_type": "stream",
     "text": [
      "Epoch 34/400, Loss: 0.8309, Train Acc: 0.5588, Val Acc: 0.5891\n"
     ]
    },
    {
     "name": "stderr",
     "output_type": "stream",
     "text": [
      "Iterating training graphs: 100%|██████████| 282/282 [00:33<00:00,  8.54batch/s]\n",
      "Iterating eval graphs: 100%|██████████| 71/71 [00:04<00:00, 15.75batch/s]\n",
      "Epoch 35/400, Loss: 0.8293, Train Acc: 0.5638, Val Acc: 0.6020\n"
     ]
    },
    {
     "name": "stdout",
     "output_type": "stream",
     "text": [
      "Epoch 35/400, Loss: 0.8293, Train Acc: 0.5638, Val Acc: 0.6020\n",
      "Best model updated and saved at /home/onyxia/work/DL-Hackathon/hackaton/checkpoints/model_A_best.pth\n"
     ]
    },
    {
     "name": "stderr",
     "output_type": "stream",
     "text": [
      "Iterating training graphs: 100%|██████████| 282/282 [00:33<00:00,  8.50batch/s]\n",
      "Iterating eval graphs: 100%|██████████| 71/71 [00:04<00:00, 15.94batch/s]\n",
      "Epoch 36/400, Loss: 0.8308, Train Acc: 0.5570, Val Acc: 0.5962\n"
     ]
    },
    {
     "name": "stdout",
     "output_type": "stream",
     "text": [
      "Epoch 36/400, Loss: 0.8308, Train Acc: 0.5570, Val Acc: 0.5962\n"
     ]
    },
    {
     "name": "stderr",
     "output_type": "stream",
     "text": [
      "Iterating training graphs: 100%|██████████| 282/282 [00:33<00:00,  8.51batch/s]\n",
      "Iterating eval graphs: 100%|██████████| 71/71 [00:04<00:00, 15.95batch/s]\n",
      "Epoch 37/400, Loss: 0.8414, Train Acc: 0.5511, Val Acc: 0.6059\n"
     ]
    },
    {
     "name": "stdout",
     "output_type": "stream",
     "text": [
      "Epoch 37/400, Loss: 0.8414, Train Acc: 0.5511, Val Acc: 0.6059\n",
      "Best model updated and saved at /home/onyxia/work/DL-Hackathon/hackaton/checkpoints/model_A_best.pth\n"
     ]
    },
    {
     "name": "stderr",
     "output_type": "stream",
     "text": [
      "Iterating training graphs: 100%|██████████| 282/282 [00:33<00:00,  8.52batch/s]\n",
      "Iterating eval graphs: 100%|██████████| 71/71 [00:04<00:00, 15.80batch/s]\n",
      "Epoch 38/400, Loss: 0.8256, Train Acc: 0.5677, Val Acc: 0.5962\n"
     ]
    },
    {
     "name": "stdout",
     "output_type": "stream",
     "text": [
      "Epoch 38/400, Loss: 0.8256, Train Acc: 0.5677, Val Acc: 0.5962\n"
     ]
    },
    {
     "name": "stderr",
     "output_type": "stream",
     "text": [
      "Iterating training graphs: 100%|██████████| 282/282 [00:33<00:00,  8.36batch/s]\n",
      "Iterating eval graphs: 100%|██████████| 71/71 [00:04<00:00, 15.72batch/s]\n",
      "Epoch 39/400, Loss: 0.8266, Train Acc: 0.5590, Val Acc: 0.6046\n"
     ]
    },
    {
     "name": "stdout",
     "output_type": "stream",
     "text": [
      "Epoch 39/400, Loss: 0.8266, Train Acc: 0.5590, Val Acc: 0.6046\n"
     ]
    },
    {
     "name": "stderr",
     "output_type": "stream",
     "text": [
      "Iterating training graphs: 100%|██████████| 282/282 [00:33<00:00,  8.51batch/s]\n"
     ]
    },
    {
     "name": "stdout",
     "output_type": "stream",
     "text": [
      "Checkpoint saved at /home/onyxia/work/DL-Hackathon/hackaton/checkpoints/A/model_A_epoch_40.pth\n"
     ]
    },
    {
     "name": "stderr",
     "output_type": "stream",
     "text": [
      "Iterating eval graphs: 100%|██████████| 71/71 [00:04<00:00, 15.60batch/s]\n",
      "Epoch 40/400, Loss: 0.8155, Train Acc: 0.5697, Val Acc: 0.6020\n"
     ]
    },
    {
     "name": "stdout",
     "output_type": "stream",
     "text": [
      "Epoch 40/400, Loss: 0.8155, Train Acc: 0.5697, Val Acc: 0.6020\n"
     ]
    },
    {
     "name": "stderr",
     "output_type": "stream",
     "text": [
      "Iterating training graphs: 100%|██████████| 282/282 [00:33<00:00,  8.48batch/s]\n",
      "Iterating eval graphs: 100%|██████████| 71/71 [00:04<00:00, 15.20batch/s]\n",
      "Epoch 41/400, Loss: 0.8126, Train Acc: 0.5685, Val Acc: 0.6028\n"
     ]
    },
    {
     "name": "stdout",
     "output_type": "stream",
     "text": [
      "Epoch 41/400, Loss: 0.8126, Train Acc: 0.5685, Val Acc: 0.6028\n"
     ]
    },
    {
     "name": "stderr",
     "output_type": "stream",
     "text": [
      "Iterating training graphs: 100%|██████████| 282/282 [00:33<00:00,  8.47batch/s]\n",
      "Iterating eval graphs: 100%|██████████| 71/71 [00:04<00:00, 15.71batch/s]\n",
      "Epoch 42/400, Loss: 0.8110, Train Acc: 0.5746, Val Acc: 0.5802\n"
     ]
    },
    {
     "name": "stdout",
     "output_type": "stream",
     "text": [
      "Epoch 42/400, Loss: 0.8110, Train Acc: 0.5746, Val Acc: 0.5802\n"
     ]
    },
    {
     "name": "stderr",
     "output_type": "stream",
     "text": [
      "Iterating training graphs: 100%|██████████| 282/282 [00:33<00:00,  8.49batch/s]\n",
      "Iterating eval graphs: 100%|██████████| 71/71 [00:04<00:00, 15.68batch/s]\n",
      "Epoch 43/400, Loss: 0.8028, Train Acc: 0.5766, Val Acc: 0.6073\n"
     ]
    },
    {
     "name": "stdout",
     "output_type": "stream",
     "text": [
      "Epoch 43/400, Loss: 0.8028, Train Acc: 0.5766, Val Acc: 0.6073\n",
      "Best model updated and saved at /home/onyxia/work/DL-Hackathon/hackaton/checkpoints/model_A_best.pth\n"
     ]
    },
    {
     "name": "stderr",
     "output_type": "stream",
     "text": [
      "Iterating training graphs: 100%|██████████| 282/282 [00:33<00:00,  8.52batch/s]\n",
      "Iterating eval graphs: 100%|██████████| 71/71 [00:04<00:00, 15.78batch/s]\n",
      "Epoch 44/400, Loss: 0.8075, Train Acc: 0.5689, Val Acc: 0.6139\n"
     ]
    },
    {
     "name": "stdout",
     "output_type": "stream",
     "text": [
      "Epoch 44/400, Loss: 0.8075, Train Acc: 0.5689, Val Acc: 0.6139\n",
      "Best model updated and saved at /home/onyxia/work/DL-Hackathon/hackaton/checkpoints/model_A_best.pth\n"
     ]
    },
    {
     "name": "stderr",
     "output_type": "stream",
     "text": [
      "Iterating training graphs: 100%|██████████| 282/282 [00:33<00:00,  8.43batch/s]\n",
      "Iterating eval graphs: 100%|██████████| 71/71 [00:04<00:00, 15.75batch/s]\n",
      "Epoch 45/400, Loss: 0.7995, Train Acc: 0.5769, Val Acc: 0.6099\n"
     ]
    },
    {
     "name": "stdout",
     "output_type": "stream",
     "text": [
      "Epoch 45/400, Loss: 0.7995, Train Acc: 0.5769, Val Acc: 0.6099\n"
     ]
    },
    {
     "name": "stderr",
     "output_type": "stream",
     "text": [
      "Iterating training graphs: 100%|██████████| 282/282 [00:33<00:00,  8.50batch/s]\n",
      "Iterating eval graphs: 100%|██████████| 71/71 [00:04<00:00, 15.99batch/s]\n",
      "Epoch 46/400, Loss: 0.8012, Train Acc: 0.5766, Val Acc: 0.6144\n"
     ]
    },
    {
     "name": "stdout",
     "output_type": "stream",
     "text": [
      "Epoch 46/400, Loss: 0.8012, Train Acc: 0.5766, Val Acc: 0.6144\n",
      "Best model updated and saved at /home/onyxia/work/DL-Hackathon/hackaton/checkpoints/model_A_best.pth\n"
     ]
    },
    {
     "name": "stderr",
     "output_type": "stream",
     "text": [
      "Iterating training graphs: 100%|██████████| 282/282 [00:33<00:00,  8.52batch/s]\n",
      "Iterating eval graphs: 100%|██████████| 71/71 [00:04<00:00, 15.41batch/s]\n",
      "Epoch 47/400, Loss: 0.7971, Train Acc: 0.5802, Val Acc: 0.6166\n"
     ]
    },
    {
     "name": "stdout",
     "output_type": "stream",
     "text": [
      "Epoch 47/400, Loss: 0.7971, Train Acc: 0.5802, Val Acc: 0.6166\n",
      "Best model updated and saved at /home/onyxia/work/DL-Hackathon/hackaton/checkpoints/model_A_best.pth\n"
     ]
    },
    {
     "name": "stderr",
     "output_type": "stream",
     "text": [
      "Iterating training graphs: 100%|██████████| 282/282 [00:33<00:00,  8.48batch/s]\n",
      "Iterating eval graphs: 100%|██████████| 71/71 [00:04<00:00, 15.74batch/s]\n",
      "Epoch 48/400, Loss: 0.7920, Train Acc: 0.5857, Val Acc: 0.6219\n"
     ]
    },
    {
     "name": "stdout",
     "output_type": "stream",
     "text": [
      "Epoch 48/400, Loss: 0.7920, Train Acc: 0.5857, Val Acc: 0.6219\n",
      "Best model updated and saved at /home/onyxia/work/DL-Hackathon/hackaton/checkpoints/model_A_best.pth\n"
     ]
    },
    {
     "name": "stderr",
     "output_type": "stream",
     "text": [
      "Iterating training graphs: 100%|██████████| 282/282 [00:33<00:00,  8.50batch/s]\n",
      "Iterating eval graphs: 100%|██████████| 71/71 [00:04<00:00, 15.71batch/s]\n",
      "Epoch 49/400, Loss: 0.7827, Train Acc: 0.5865, Val Acc: 0.6272\n"
     ]
    },
    {
     "name": "stdout",
     "output_type": "stream",
     "text": [
      "Epoch 49/400, Loss: 0.7827, Train Acc: 0.5865, Val Acc: 0.6272\n",
      "Best model updated and saved at /home/onyxia/work/DL-Hackathon/hackaton/checkpoints/model_A_best.pth\n"
     ]
    },
    {
     "name": "stderr",
     "output_type": "stream",
     "text": [
      "Iterating training graphs: 100%|██████████| 282/282 [00:33<00:00,  8.54batch/s]\n",
      "Iterating eval graphs: 100%|██████████| 71/71 [00:04<00:00, 15.55batch/s]\n",
      "Epoch 50/400, Loss: 0.7841, Train Acc: 0.5901, Val Acc: 0.6099\n"
     ]
    },
    {
     "name": "stdout",
     "output_type": "stream",
     "text": [
      "Epoch 50/400, Loss: 0.7841, Train Acc: 0.5901, Val Acc: 0.6099\n"
     ]
    },
    {
     "name": "stderr",
     "output_type": "stream",
     "text": [
      "Iterating training graphs: 100%|██████████| 282/282 [00:33<00:00,  8.50batch/s]\n",
      "Iterating eval graphs: 100%|██████████| 71/71 [00:04<00:00, 15.78batch/s]\n",
      "Epoch 51/400, Loss: 0.7821, Train Acc: 0.5938, Val Acc: 0.6343\n"
     ]
    },
    {
     "name": "stdout",
     "output_type": "stream",
     "text": [
      "Epoch 51/400, Loss: 0.7821, Train Acc: 0.5938, Val Acc: 0.6343\n",
      "Best model updated and saved at /home/onyxia/work/DL-Hackathon/hackaton/checkpoints/model_A_best.pth\n"
     ]
    },
    {
     "name": "stderr",
     "output_type": "stream",
     "text": [
      "Iterating training graphs: 100%|██████████| 282/282 [00:33<00:00,  8.52batch/s]\n",
      "Iterating eval graphs: 100%|██████████| 71/71 [00:04<00:00, 15.76batch/s]\n",
      "Epoch 52/400, Loss: 0.7758, Train Acc: 0.5974, Val Acc: 0.6321\n"
     ]
    },
    {
     "name": "stdout",
     "output_type": "stream",
     "text": [
      "Epoch 52/400, Loss: 0.7758, Train Acc: 0.5974, Val Acc: 0.6321\n"
     ]
    },
    {
     "name": "stderr",
     "output_type": "stream",
     "text": [
      "Iterating training graphs: 100%|██████████| 282/282 [00:33<00:00,  8.39batch/s]\n",
      "Iterating eval graphs: 100%|██████████| 71/71 [00:04<00:00, 15.51batch/s]\n",
      "Epoch 53/400, Loss: 0.7753, Train Acc: 0.5967, Val Acc: 0.6179\n"
     ]
    },
    {
     "name": "stdout",
     "output_type": "stream",
     "text": [
      "Epoch 53/400, Loss: 0.7753, Train Acc: 0.5967, Val Acc: 0.6179\n"
     ]
    },
    {
     "name": "stderr",
     "output_type": "stream",
     "text": [
      "Iterating training graphs: 100%|██████████| 282/282 [00:33<00:00,  8.52batch/s]\n",
      "Iterating eval graphs: 100%|██████████| 71/71 [00:04<00:00, 15.90batch/s]\n",
      "Epoch 54/400, Loss: 0.7707, Train Acc: 0.5945, Val Acc: 0.6272\n"
     ]
    },
    {
     "name": "stdout",
     "output_type": "stream",
     "text": [
      "Epoch 54/400, Loss: 0.7707, Train Acc: 0.5945, Val Acc: 0.6272\n"
     ]
    },
    {
     "name": "stderr",
     "output_type": "stream",
     "text": [
      "Iterating training graphs: 100%|██████████| 282/282 [00:33<00:00,  8.43batch/s]\n",
      "Iterating eval graphs: 100%|██████████| 71/71 [00:04<00:00, 15.67batch/s]\n",
      "Epoch 55/400, Loss: 0.7675, Train Acc: 0.6015, Val Acc: 0.6303\n"
     ]
    },
    {
     "name": "stdout",
     "output_type": "stream",
     "text": [
      "Epoch 55/400, Loss: 0.7675, Train Acc: 0.6015, Val Acc: 0.6303\n"
     ]
    },
    {
     "name": "stderr",
     "output_type": "stream",
     "text": [
      "Iterating training graphs: 100%|██████████| 282/282 [00:33<00:00,  8.44batch/s]\n",
      "Iterating eval graphs: 100%|██████████| 71/71 [00:04<00:00, 15.77batch/s]\n",
      "Epoch 56/400, Loss: 0.7671, Train Acc: 0.6000, Val Acc: 0.6161\n"
     ]
    },
    {
     "name": "stdout",
     "output_type": "stream",
     "text": [
      "Epoch 56/400, Loss: 0.7671, Train Acc: 0.6000, Val Acc: 0.6161\n"
     ]
    },
    {
     "name": "stderr",
     "output_type": "stream",
     "text": [
      "Iterating training graphs: 100%|██████████| 282/282 [00:33<00:00,  8.50batch/s]\n",
      "Iterating eval graphs: 100%|██████████| 71/71 [00:04<00:00, 15.85batch/s]\n",
      "Epoch 57/400, Loss: 0.7627, Train Acc: 0.6031, Val Acc: 0.6250\n"
     ]
    },
    {
     "name": "stdout",
     "output_type": "stream",
     "text": [
      "Epoch 57/400, Loss: 0.7627, Train Acc: 0.6031, Val Acc: 0.6250\n"
     ]
    },
    {
     "name": "stderr",
     "output_type": "stream",
     "text": [
      "Iterating training graphs: 100%|██████████| 282/282 [00:33<00:00,  8.52batch/s]\n",
      "Iterating eval graphs: 100%|██████████| 71/71 [00:04<00:00, 15.75batch/s]\n",
      "Epoch 58/400, Loss: 0.7628, Train Acc: 0.6046, Val Acc: 0.6294\n"
     ]
    },
    {
     "name": "stdout",
     "output_type": "stream",
     "text": [
      "Epoch 58/400, Loss: 0.7628, Train Acc: 0.6046, Val Acc: 0.6294\n"
     ]
    },
    {
     "name": "stderr",
     "output_type": "stream",
     "text": [
      "Iterating training graphs: 100%|██████████| 282/282 [00:33<00:00,  8.54batch/s]\n",
      "Iterating eval graphs: 100%|██████████| 71/71 [00:04<00:00, 15.83batch/s]\n",
      "Epoch 59/400, Loss: 0.7604, Train Acc: 0.6063, Val Acc: 0.6277\n"
     ]
    },
    {
     "name": "stdout",
     "output_type": "stream",
     "text": [
      "Epoch 59/400, Loss: 0.7604, Train Acc: 0.6063, Val Acc: 0.6277\n"
     ]
    },
    {
     "name": "stderr",
     "output_type": "stream",
     "text": [
      "Iterating training graphs: 100%|██████████| 282/282 [00:33<00:00,  8.51batch/s]\n"
     ]
    },
    {
     "name": "stdout",
     "output_type": "stream",
     "text": [
      "Checkpoint saved at /home/onyxia/work/DL-Hackathon/hackaton/checkpoints/A/model_A_epoch_60.pth\n"
     ]
    },
    {
     "name": "stderr",
     "output_type": "stream",
     "text": [
      "Iterating eval graphs: 100%|██████████| 71/71 [00:04<00:00, 15.01batch/s]\n",
      "Epoch 60/400, Loss: 0.7530, Train Acc: 0.6103, Val Acc: 0.6237\n"
     ]
    },
    {
     "name": "stdout",
     "output_type": "stream",
     "text": [
      "Epoch 60/400, Loss: 0.7530, Train Acc: 0.6103, Val Acc: 0.6237\n"
     ]
    },
    {
     "name": "stderr",
     "output_type": "stream",
     "text": [
      "Iterating training graphs: 100%|██████████| 282/282 [00:33<00:00,  8.47batch/s]\n",
      "Iterating eval graphs: 100%|██████████| 71/71 [00:04<00:00, 15.28batch/s]\n",
      "Epoch 61/400, Loss: 0.7535, Train Acc: 0.6054, Val Acc: 0.6188\n"
     ]
    },
    {
     "name": "stdout",
     "output_type": "stream",
     "text": [
      "Epoch 61/400, Loss: 0.7535, Train Acc: 0.6054, Val Acc: 0.6188\n"
     ]
    },
    {
     "name": "stderr",
     "output_type": "stream",
     "text": [
      "Iterating training graphs: 100%|██████████| 282/282 [00:33<00:00,  8.51batch/s]\n",
      "Iterating eval graphs: 100%|██████████| 71/71 [00:04<00:00, 15.92batch/s]\n",
      "Epoch 62/400, Loss: 0.7554, Train Acc: 0.6062, Val Acc: 0.6312\n"
     ]
    },
    {
     "name": "stdout",
     "output_type": "stream",
     "text": [
      "Epoch 62/400, Loss: 0.7554, Train Acc: 0.6062, Val Acc: 0.6312\n"
     ]
    },
    {
     "name": "stderr",
     "output_type": "stream",
     "text": [
      "Iterating training graphs: 100%|██████████| 282/282 [00:33<00:00,  8.52batch/s]\n",
      "Iterating eval graphs: 100%|██████████| 71/71 [00:04<00:00, 15.39batch/s]\n",
      "Epoch 63/400, Loss: 0.7581, Train Acc: 0.6017, Val Acc: 0.6250\n"
     ]
    },
    {
     "name": "stdout",
     "output_type": "stream",
     "text": [
      "Epoch 63/400, Loss: 0.7581, Train Acc: 0.6017, Val Acc: 0.6250\n"
     ]
    },
    {
     "name": "stderr",
     "output_type": "stream",
     "text": [
      "Iterating training graphs: 100%|██████████| 282/282 [00:33<00:00,  8.54batch/s]\n",
      "Iterating eval graphs: 100%|██████████| 71/71 [00:04<00:00, 15.60batch/s]\n",
      "Epoch 64/400, Loss: 0.7500, Train Acc: 0.6146, Val Acc: 0.6281\n"
     ]
    },
    {
     "name": "stdout",
     "output_type": "stream",
     "text": [
      "Epoch 64/400, Loss: 0.7500, Train Acc: 0.6146, Val Acc: 0.6281\n"
     ]
    },
    {
     "name": "stderr",
     "output_type": "stream",
     "text": [
      "Iterating training graphs: 100%|██████████| 282/282 [00:33<00:00,  8.51batch/s]\n",
      "Iterating eval graphs: 100%|██████████| 71/71 [00:04<00:00, 15.94batch/s]\n",
      "Epoch 65/400, Loss: 0.7464, Train Acc: 0.6104, Val Acc: 0.6379\n"
     ]
    },
    {
     "name": "stdout",
     "output_type": "stream",
     "text": [
      "Epoch 65/400, Loss: 0.7464, Train Acc: 0.6104, Val Acc: 0.6379\n",
      "Best model updated and saved at /home/onyxia/work/DL-Hackathon/hackaton/checkpoints/model_A_best.pth\n"
     ]
    },
    {
     "name": "stderr",
     "output_type": "stream",
     "text": [
      "Iterating training graphs: 100%|██████████| 282/282 [00:33<00:00,  8.48batch/s]\n",
      "Iterating eval graphs: 100%|██████████| 71/71 [00:04<00:00, 15.72batch/s]\n",
      "Epoch 66/400, Loss: 0.7483, Train Acc: 0.6076, Val Acc: 0.6414\n"
     ]
    },
    {
     "name": "stdout",
     "output_type": "stream",
     "text": [
      "Epoch 66/400, Loss: 0.7483, Train Acc: 0.6076, Val Acc: 0.6414\n",
      "Best model updated and saved at /home/onyxia/work/DL-Hackathon/hackaton/checkpoints/model_A_best.pth\n"
     ]
    },
    {
     "name": "stderr",
     "output_type": "stream",
     "text": [
      "Iterating training graphs: 100%|██████████| 282/282 [00:33<00:00,  8.46batch/s]\n",
      "Iterating eval graphs: 100%|██████████| 71/71 [00:04<00:00, 15.90batch/s]\n",
      "Epoch 67/400, Loss: 0.7422, Train Acc: 0.6181, Val Acc: 0.6374\n"
     ]
    },
    {
     "name": "stdout",
     "output_type": "stream",
     "text": [
      "Epoch 67/400, Loss: 0.7422, Train Acc: 0.6181, Val Acc: 0.6374\n"
     ]
    },
    {
     "name": "stderr",
     "output_type": "stream",
     "text": [
      "Iterating training graphs: 100%|██████████| 282/282 [00:33<00:00,  8.49batch/s]\n",
      "Iterating eval graphs: 100%|██████████| 71/71 [00:04<00:00, 14.83batch/s]\n",
      "Epoch 68/400, Loss: 0.7379, Train Acc: 0.6162, Val Acc: 0.6299\n"
     ]
    },
    {
     "name": "stdout",
     "output_type": "stream",
     "text": [
      "Epoch 68/400, Loss: 0.7379, Train Acc: 0.6162, Val Acc: 0.6299\n"
     ]
    },
    {
     "name": "stderr",
     "output_type": "stream",
     "text": [
      "Iterating training graphs: 100%|██████████| 282/282 [00:33<00:00,  8.46batch/s]\n",
      "Iterating eval graphs: 100%|██████████| 71/71 [00:04<00:00, 15.58batch/s]\n",
      "Epoch 69/400, Loss: 0.7342, Train Acc: 0.6246, Val Acc: 0.6348\n"
     ]
    },
    {
     "name": "stdout",
     "output_type": "stream",
     "text": [
      "Epoch 69/400, Loss: 0.7342, Train Acc: 0.6246, Val Acc: 0.6348\n"
     ]
    },
    {
     "name": "stderr",
     "output_type": "stream",
     "text": [
      "Iterating training graphs: 100%|██████████| 282/282 [00:33<00:00,  8.52batch/s]\n",
      "Iterating eval graphs: 100%|██████████| 71/71 [00:04<00:00, 15.09batch/s]\n",
      "Epoch 70/400, Loss: 0.7299, Train Acc: 0.6236, Val Acc: 0.6387\n"
     ]
    },
    {
     "name": "stdout",
     "output_type": "stream",
     "text": [
      "Epoch 70/400, Loss: 0.7299, Train Acc: 0.6236, Val Acc: 0.6387\n"
     ]
    },
    {
     "name": "stderr",
     "output_type": "stream",
     "text": [
      "Iterating training graphs: 100%|██████████| 282/282 [00:33<00:00,  8.47batch/s]\n",
      "Iterating eval graphs: 100%|██████████| 71/71 [00:04<00:00, 15.89batch/s]\n",
      "Epoch 71/400, Loss: 0.7340, Train Acc: 0.6160, Val Acc: 0.6494\n"
     ]
    },
    {
     "name": "stdout",
     "output_type": "stream",
     "text": [
      "Epoch 71/400, Loss: 0.7340, Train Acc: 0.6160, Val Acc: 0.6494\n",
      "Best model updated and saved at /home/onyxia/work/DL-Hackathon/hackaton/checkpoints/model_A_best.pth\n"
     ]
    },
    {
     "name": "stderr",
     "output_type": "stream",
     "text": [
      "Iterating training graphs: 100%|██████████| 282/282 [00:33<00:00,  8.49batch/s]\n",
      "Iterating eval graphs: 100%|██████████| 71/71 [00:04<00:00, 15.17batch/s]\n",
      "Epoch 72/400, Loss: 0.7305, Train Acc: 0.6199, Val Acc: 0.6379\n"
     ]
    },
    {
     "name": "stdout",
     "output_type": "stream",
     "text": [
      "Epoch 72/400, Loss: 0.7305, Train Acc: 0.6199, Val Acc: 0.6379\n"
     ]
    },
    {
     "name": "stderr",
     "output_type": "stream",
     "text": [
      "Iterating training graphs: 100%|██████████| 282/282 [00:33<00:00,  8.48batch/s]\n",
      "Iterating eval graphs: 100%|██████████| 71/71 [00:04<00:00, 15.89batch/s]\n",
      "Epoch 73/400, Loss: 0.7258, Train Acc: 0.6236, Val Acc: 0.6401\n"
     ]
    },
    {
     "name": "stdout",
     "output_type": "stream",
     "text": [
      "Epoch 73/400, Loss: 0.7258, Train Acc: 0.6236, Val Acc: 0.6401\n"
     ]
    },
    {
     "name": "stderr",
     "output_type": "stream",
     "text": [
      "Iterating training graphs: 100%|██████████| 282/282 [00:33<00:00,  8.52batch/s]\n",
      "Iterating eval graphs: 100%|██████████| 71/71 [00:04<00:00, 15.99batch/s]\n",
      "Epoch 74/400, Loss: 0.7255, Train Acc: 0.6256, Val Acc: 0.6374\n"
     ]
    },
    {
     "name": "stdout",
     "output_type": "stream",
     "text": [
      "Epoch 74/400, Loss: 0.7255, Train Acc: 0.6256, Val Acc: 0.6374\n"
     ]
    },
    {
     "name": "stderr",
     "output_type": "stream",
     "text": [
      "Iterating training graphs: 100%|██████████| 282/282 [00:33<00:00,  8.55batch/s]\n",
      "Iterating eval graphs: 100%|██████████| 71/71 [00:04<00:00, 15.70batch/s]\n",
      "Epoch 75/400, Loss: 0.7217, Train Acc: 0.6251, Val Acc: 0.6467\n"
     ]
    },
    {
     "name": "stdout",
     "output_type": "stream",
     "text": [
      "Epoch 75/400, Loss: 0.7217, Train Acc: 0.6251, Val Acc: 0.6467\n"
     ]
    },
    {
     "name": "stderr",
     "output_type": "stream",
     "text": [
      "Iterating training graphs: 100%|██████████| 282/282 [00:33<00:00,  8.45batch/s]\n",
      "Iterating eval graphs: 100%|██████████| 71/71 [00:04<00:00, 15.70batch/s]\n",
      "Epoch 76/400, Loss: 0.7270, Train Acc: 0.6213, Val Acc: 0.6436\n"
     ]
    },
    {
     "name": "stdout",
     "output_type": "stream",
     "text": [
      "Epoch 76/400, Loss: 0.7270, Train Acc: 0.6213, Val Acc: 0.6436\n"
     ]
    },
    {
     "name": "stderr",
     "output_type": "stream",
     "text": [
      "Iterating training graphs: 100%|██████████| 282/282 [00:33<00:00,  8.48batch/s]\n",
      "Iterating eval graphs: 100%|██████████| 71/71 [00:04<00:00, 15.95batch/s]\n",
      "Epoch 77/400, Loss: 0.7178, Train Acc: 0.6285, Val Acc: 0.6480\n"
     ]
    },
    {
     "name": "stdout",
     "output_type": "stream",
     "text": [
      "Epoch 77/400, Loss: 0.7178, Train Acc: 0.6285, Val Acc: 0.6480\n"
     ]
    },
    {
     "name": "stderr",
     "output_type": "stream",
     "text": [
      "Iterating training graphs: 100%|██████████| 282/282 [00:33<00:00,  8.44batch/s]\n",
      "Iterating eval graphs: 100%|██████████| 71/71 [00:04<00:00, 15.29batch/s]\n",
      "Epoch 78/400, Loss: 0.7208, Train Acc: 0.6321, Val Acc: 0.6423\n"
     ]
    },
    {
     "name": "stdout",
     "output_type": "stream",
     "text": [
      "Epoch 78/400, Loss: 0.7208, Train Acc: 0.6321, Val Acc: 0.6423\n"
     ]
    },
    {
     "name": "stderr",
     "output_type": "stream",
     "text": [
      "Iterating training graphs: 100%|██████████| 282/282 [00:33<00:00,  8.47batch/s]\n",
      "Iterating eval graphs: 100%|██████████| 71/71 [00:04<00:00, 15.71batch/s]\n",
      "Epoch 79/400, Loss: 0.7185, Train Acc: 0.6264, Val Acc: 0.6467\n"
     ]
    },
    {
     "name": "stdout",
     "output_type": "stream",
     "text": [
      "Epoch 79/400, Loss: 0.7185, Train Acc: 0.6264, Val Acc: 0.6467\n"
     ]
    },
    {
     "name": "stderr",
     "output_type": "stream",
     "text": [
      "Iterating training graphs: 100%|██████████| 282/282 [00:33<00:00,  8.52batch/s]\n"
     ]
    },
    {
     "name": "stdout",
     "output_type": "stream",
     "text": [
      "Checkpoint saved at /home/onyxia/work/DL-Hackathon/hackaton/checkpoints/A/model_A_epoch_80.pth\n"
     ]
    },
    {
     "name": "stderr",
     "output_type": "stream",
     "text": [
      "Iterating eval graphs: 100%|██████████| 71/71 [00:04<00:00, 14.81batch/s]\n",
      "Epoch 80/400, Loss: 0.7171, Train Acc: 0.6298, Val Acc: 0.6410\n"
     ]
    },
    {
     "name": "stdout",
     "output_type": "stream",
     "text": [
      "Epoch 80/400, Loss: 0.7171, Train Acc: 0.6298, Val Acc: 0.6410\n"
     ]
    },
    {
     "name": "stderr",
     "output_type": "stream",
     "text": [
      "Iterating training graphs: 100%|██████████| 282/282 [00:33<00:00,  8.47batch/s]\n",
      "Iterating eval graphs: 100%|██████████| 71/71 [00:04<00:00, 15.72batch/s]\n",
      "Epoch 81/400, Loss: 0.7168, Train Acc: 0.6299, Val Acc: 0.6498\n"
     ]
    },
    {
     "name": "stdout",
     "output_type": "stream",
     "text": [
      "Epoch 81/400, Loss: 0.7168, Train Acc: 0.6299, Val Acc: 0.6498\n",
      "Best model updated and saved at /home/onyxia/work/DL-Hackathon/hackaton/checkpoints/model_A_best.pth\n"
     ]
    },
    {
     "name": "stderr",
     "output_type": "stream",
     "text": [
      "Iterating training graphs: 100%|██████████| 282/282 [00:33<00:00,  8.52batch/s]\n",
      "Iterating eval graphs: 100%|██████████| 71/71 [00:04<00:00, 15.88batch/s]\n",
      "Epoch 82/400, Loss: 0.7148, Train Acc: 0.6321, Val Acc: 0.6392\n"
     ]
    },
    {
     "name": "stdout",
     "output_type": "stream",
     "text": [
      "Epoch 82/400, Loss: 0.7148, Train Acc: 0.6321, Val Acc: 0.6392\n"
     ]
    },
    {
     "name": "stderr",
     "output_type": "stream",
     "text": [
      "Iterating training graphs: 100%|██████████| 282/282 [00:33<00:00,  8.51batch/s]\n",
      "Iterating eval graphs: 100%|██████████| 71/71 [00:04<00:00, 15.87batch/s]\n",
      "Epoch 83/400, Loss: 0.7100, Train Acc: 0.6333, Val Acc: 0.6538\n"
     ]
    },
    {
     "name": "stdout",
     "output_type": "stream",
     "text": [
      "Epoch 83/400, Loss: 0.7100, Train Acc: 0.6333, Val Acc: 0.6538\n",
      "Best model updated and saved at /home/onyxia/work/DL-Hackathon/hackaton/checkpoints/model_A_best.pth\n"
     ]
    },
    {
     "name": "stderr",
     "output_type": "stream",
     "text": [
      "Iterating training graphs: 100%|██████████| 282/282 [00:33<00:00,  8.51batch/s]\n",
      "Iterating eval graphs: 100%|██████████| 71/71 [00:04<00:00, 15.96batch/s]\n",
      "Epoch 84/400, Loss: 0.7053, Train Acc: 0.6403, Val Acc: 0.6485\n"
     ]
    },
    {
     "name": "stdout",
     "output_type": "stream",
     "text": [
      "Epoch 84/400, Loss: 0.7053, Train Acc: 0.6403, Val Acc: 0.6485\n"
     ]
    },
    {
     "name": "stderr",
     "output_type": "stream",
     "text": [
      "Iterating training graphs: 100%|██████████| 282/282 [00:33<00:00,  8.53batch/s]\n",
      "Iterating eval graphs: 100%|██████████| 71/71 [00:04<00:00, 15.74batch/s]\n",
      "Epoch 85/400, Loss: 0.7036, Train Acc: 0.6369, Val Acc: 0.6529\n"
     ]
    },
    {
     "name": "stdout",
     "output_type": "stream",
     "text": [
      "Epoch 85/400, Loss: 0.7036, Train Acc: 0.6369, Val Acc: 0.6529\n"
     ]
    },
    {
     "name": "stderr",
     "output_type": "stream",
     "text": [
      "Iterating training graphs: 100%|██████████| 282/282 [00:33<00:00,  8.50batch/s]\n",
      "Iterating eval graphs: 100%|██████████| 71/71 [00:04<00:00, 15.74batch/s]\n",
      "Epoch 86/400, Loss: 0.7031, Train Acc: 0.6384, Val Acc: 0.6498\n"
     ]
    },
    {
     "name": "stdout",
     "output_type": "stream",
     "text": [
      "Epoch 86/400, Loss: 0.7031, Train Acc: 0.6384, Val Acc: 0.6498\n"
     ]
    },
    {
     "name": "stderr",
     "output_type": "stream",
     "text": [
      "Iterating training graphs: 100%|██████████| 282/282 [00:33<00:00,  8.49batch/s]\n",
      "Iterating eval graphs: 100%|██████████| 71/71 [00:04<00:00, 15.46batch/s]\n",
      "Epoch 87/400, Loss: 0.7032, Train Acc: 0.6346, Val Acc: 0.6441\n"
     ]
    },
    {
     "name": "stdout",
     "output_type": "stream",
     "text": [
      "Epoch 87/400, Loss: 0.7032, Train Acc: 0.6346, Val Acc: 0.6441\n"
     ]
    },
    {
     "name": "stderr",
     "output_type": "stream",
     "text": [
      "Iterating training graphs: 100%|██████████| 282/282 [00:33<00:00,  8.53batch/s]\n",
      "Iterating eval graphs: 100%|██████████| 71/71 [00:04<00:00, 15.43batch/s]\n",
      "Epoch 88/400, Loss: 0.6995, Train Acc: 0.6427, Val Acc: 0.6449\n"
     ]
    },
    {
     "name": "stdout",
     "output_type": "stream",
     "text": [
      "Epoch 88/400, Loss: 0.6995, Train Acc: 0.6427, Val Acc: 0.6449\n"
     ]
    },
    {
     "name": "stderr",
     "output_type": "stream",
     "text": [
      "Iterating training graphs: 100%|██████████| 282/282 [00:33<00:00,  8.51batch/s]\n",
      "Iterating eval graphs: 100%|██████████| 71/71 [00:04<00:00, 15.74batch/s]\n",
      "Epoch 89/400, Loss: 0.7000, Train Acc: 0.6377, Val Acc: 0.6494\n"
     ]
    },
    {
     "name": "stdout",
     "output_type": "stream",
     "text": [
      "Epoch 89/400, Loss: 0.7000, Train Acc: 0.6377, Val Acc: 0.6494\n"
     ]
    },
    {
     "name": "stderr",
     "output_type": "stream",
     "text": [
      "Iterating training graphs: 100%|██████████| 282/282 [00:33<00:00,  8.51batch/s]\n",
      "Iterating eval graphs: 100%|██████████| 71/71 [00:04<00:00, 15.77batch/s]\n",
      "Epoch 90/400, Loss: 0.7013, Train Acc: 0.6377, Val Acc: 0.6494\n"
     ]
    },
    {
     "name": "stdout",
     "output_type": "stream",
     "text": [
      "Epoch 90/400, Loss: 0.7013, Train Acc: 0.6377, Val Acc: 0.6494\n"
     ]
    },
    {
     "name": "stderr",
     "output_type": "stream",
     "text": [
      "Iterating training graphs: 100%|██████████| 282/282 [00:33<00:00,  8.54batch/s]\n",
      "Iterating eval graphs: 100%|██████████| 71/71 [00:04<00:00, 15.88batch/s]\n",
      "Epoch 91/400, Loss: 0.6999, Train Acc: 0.6390, Val Acc: 0.6556\n"
     ]
    },
    {
     "name": "stdout",
     "output_type": "stream",
     "text": [
      "Epoch 91/400, Loss: 0.6999, Train Acc: 0.6390, Val Acc: 0.6556\n",
      "Best model updated and saved at /home/onyxia/work/DL-Hackathon/hackaton/checkpoints/model_A_best.pth\n"
     ]
    },
    {
     "name": "stderr",
     "output_type": "stream",
     "text": [
      "Iterating training graphs: 100%|██████████| 282/282 [00:33<00:00,  8.47batch/s]\n",
      "Iterating eval graphs: 100%|██████████| 71/71 [00:04<00:00, 15.74batch/s]\n",
      "Epoch 92/400, Loss: 0.6999, Train Acc: 0.6406, Val Acc: 0.6432\n"
     ]
    },
    {
     "name": "stdout",
     "output_type": "stream",
     "text": [
      "Epoch 92/400, Loss: 0.6999, Train Acc: 0.6406, Val Acc: 0.6432\n"
     ]
    },
    {
     "name": "stderr",
     "output_type": "stream",
     "text": [
      "Iterating training graphs: 100%|██████████| 282/282 [00:33<00:00,  8.46batch/s]\n",
      "Iterating eval graphs: 100%|██████████| 71/71 [00:04<00:00, 15.91batch/s]\n",
      "Epoch 93/400, Loss: 0.6940, Train Acc: 0.6453, Val Acc: 0.6525\n"
     ]
    },
    {
     "name": "stdout",
     "output_type": "stream",
     "text": [
      "Epoch 93/400, Loss: 0.6940, Train Acc: 0.6453, Val Acc: 0.6525\n"
     ]
    },
    {
     "name": "stderr",
     "output_type": "stream",
     "text": [
      "Iterating training graphs: 100%|██████████| 282/282 [00:33<00:00,  8.46batch/s]\n",
      "Iterating eval graphs: 100%|██████████| 71/71 [00:04<00:00, 15.98batch/s]\n",
      "Epoch 94/400, Loss: 0.6972, Train Acc: 0.6443, Val Acc: 0.6591\n"
     ]
    },
    {
     "name": "stdout",
     "output_type": "stream",
     "text": [
      "Epoch 94/400, Loss: 0.6972, Train Acc: 0.6443, Val Acc: 0.6591\n",
      "Best model updated and saved at /home/onyxia/work/DL-Hackathon/hackaton/checkpoints/model_A_best.pth\n"
     ]
    },
    {
     "name": "stderr",
     "output_type": "stream",
     "text": [
      "Iterating training graphs: 100%|██████████| 282/282 [00:33<00:00,  8.47batch/s]\n",
      "Iterating eval graphs: 100%|██████████| 71/71 [00:04<00:00, 15.37batch/s]\n",
      "Epoch 95/400, Loss: 0.6970, Train Acc: 0.6441, Val Acc: 0.6600\n"
     ]
    },
    {
     "name": "stdout",
     "output_type": "stream",
     "text": [
      "Epoch 95/400, Loss: 0.6970, Train Acc: 0.6441, Val Acc: 0.6600\n",
      "Best model updated and saved at /home/onyxia/work/DL-Hackathon/hackaton/checkpoints/model_A_best.pth\n"
     ]
    },
    {
     "name": "stderr",
     "output_type": "stream",
     "text": [
      "Iterating training graphs: 100%|██████████| 282/282 [00:32<00:00,  8.57batch/s]\n",
      "Iterating eval graphs: 100%|██████████| 71/71 [00:04<00:00, 15.31batch/s]\n",
      "Epoch 96/400, Loss: 0.6916, Train Acc: 0.6421, Val Acc: 0.6569\n"
     ]
    },
    {
     "name": "stdout",
     "output_type": "stream",
     "text": [
      "Epoch 96/400, Loss: 0.6916, Train Acc: 0.6421, Val Acc: 0.6569\n"
     ]
    },
    {
     "name": "stderr",
     "output_type": "stream",
     "text": [
      "Iterating training graphs: 100%|██████████| 282/282 [00:33<00:00,  8.54batch/s]\n",
      "Iterating eval graphs: 100%|██████████| 71/71 [00:04<00:00, 15.47batch/s]\n",
      "Epoch 97/400, Loss: 0.6919, Train Acc: 0.6423, Val Acc: 0.6516\n"
     ]
    },
    {
     "name": "stdout",
     "output_type": "stream",
     "text": [
      "Epoch 97/400, Loss: 0.6919, Train Acc: 0.6423, Val Acc: 0.6516\n"
     ]
    },
    {
     "name": "stderr",
     "output_type": "stream",
     "text": [
      "Iterating training graphs: 100%|██████████| 282/282 [00:32<00:00,  8.56batch/s]\n",
      "Iterating eval graphs: 100%|██████████| 71/71 [00:04<00:00, 15.76batch/s]\n",
      "Epoch 98/400, Loss: 0.6841, Train Acc: 0.6462, Val Acc: 0.6538\n"
     ]
    },
    {
     "name": "stdout",
     "output_type": "stream",
     "text": [
      "Epoch 98/400, Loss: 0.6841, Train Acc: 0.6462, Val Acc: 0.6538\n"
     ]
    },
    {
     "name": "stderr",
     "output_type": "stream",
     "text": [
      "Iterating training graphs: 100%|██████████| 282/282 [00:33<00:00,  8.50batch/s]\n",
      "Iterating eval graphs: 100%|██████████| 71/71 [00:04<00:00, 15.59batch/s]\n",
      "Epoch 99/400, Loss: 0.6912, Train Acc: 0.6463, Val Acc: 0.6618\n"
     ]
    },
    {
     "name": "stdout",
     "output_type": "stream",
     "text": [
      "Epoch 99/400, Loss: 0.6912, Train Acc: 0.6463, Val Acc: 0.6618\n",
      "Best model updated and saved at /home/onyxia/work/DL-Hackathon/hackaton/checkpoints/model_A_best.pth\n"
     ]
    },
    {
     "name": "stderr",
     "output_type": "stream",
     "text": [
      "Iterating training graphs: 100%|██████████| 282/282 [00:33<00:00,  8.50batch/s]\n"
     ]
    },
    {
     "name": "stdout",
     "output_type": "stream",
     "text": [
      "Checkpoint saved at /home/onyxia/work/DL-Hackathon/hackaton/checkpoints/A/model_A_epoch_100.pth\n"
     ]
    },
    {
     "name": "stderr",
     "output_type": "stream",
     "text": [
      "Iterating eval graphs: 100%|██████████| 71/71 [00:04<00:00, 15.82batch/s]\n",
      "Epoch 100/400, Loss: 0.6856, Train Acc: 0.6484, Val Acc: 0.6658\n"
     ]
    },
    {
     "name": "stdout",
     "output_type": "stream",
     "text": [
      "Epoch 100/400, Loss: 0.6856, Train Acc: 0.6484, Val Acc: 0.6658\n",
      "Best model updated and saved at /home/onyxia/work/DL-Hackathon/hackaton/checkpoints/model_A_best.pth\n"
     ]
    },
    {
     "name": "stderr",
     "output_type": "stream",
     "text": [
      "Iterating training graphs: 100%|██████████| 282/282 [00:33<00:00,  8.50batch/s]\n",
      "Iterating eval graphs: 100%|██████████| 71/71 [00:04<00:00, 15.82batch/s]\n",
      "Epoch 101/400, Loss: 0.6795, Train Acc: 0.6530, Val Acc: 0.6556\n"
     ]
    },
    {
     "name": "stdout",
     "output_type": "stream",
     "text": [
      "Epoch 101/400, Loss: 0.6795, Train Acc: 0.6530, Val Acc: 0.6556\n"
     ]
    },
    {
     "name": "stderr",
     "output_type": "stream",
     "text": [
      "Iterating training graphs: 100%|██████████| 282/282 [00:33<00:00,  8.50batch/s]\n",
      "Iterating eval graphs: 100%|██████████| 71/71 [00:04<00:00, 15.97batch/s]\n",
      "Epoch 102/400, Loss: 0.6816, Train Acc: 0.6485, Val Acc: 0.6658\n"
     ]
    },
    {
     "name": "stdout",
     "output_type": "stream",
     "text": [
      "Epoch 102/400, Loss: 0.6816, Train Acc: 0.6485, Val Acc: 0.6658\n"
     ]
    },
    {
     "name": "stderr",
     "output_type": "stream",
     "text": [
      "Iterating training graphs: 100%|██████████| 282/282 [00:33<00:00,  8.49batch/s]\n",
      "Iterating eval graphs: 100%|██████████| 71/71 [00:04<00:00, 15.31batch/s]\n",
      "Epoch 103/400, Loss: 0.6768, Train Acc: 0.6538, Val Acc: 0.6609\n"
     ]
    },
    {
     "name": "stdout",
     "output_type": "stream",
     "text": [
      "Epoch 103/400, Loss: 0.6768, Train Acc: 0.6538, Val Acc: 0.6609\n"
     ]
    },
    {
     "name": "stderr",
     "output_type": "stream",
     "text": [
      "Iterating training graphs: 100%|██████████| 282/282 [00:33<00:00,  8.51batch/s]\n",
      "Iterating eval graphs: 100%|██████████| 71/71 [00:04<00:00, 15.75batch/s]\n",
      "Epoch 104/400, Loss: 0.6826, Train Acc: 0.6497, Val Acc: 0.6582\n"
     ]
    },
    {
     "name": "stdout",
     "output_type": "stream",
     "text": [
      "Epoch 104/400, Loss: 0.6826, Train Acc: 0.6497, Val Acc: 0.6582\n"
     ]
    },
    {
     "name": "stderr",
     "output_type": "stream",
     "text": [
      "Iterating training graphs: 100%|██████████| 282/282 [00:33<00:00,  8.46batch/s]\n",
      "Iterating eval graphs: 100%|██████████| 71/71 [00:04<00:00, 15.65batch/s]\n",
      "Epoch 105/400, Loss: 0.6772, Train Acc: 0.6526, Val Acc: 0.6600\n"
     ]
    },
    {
     "name": "stdout",
     "output_type": "stream",
     "text": [
      "Epoch 105/400, Loss: 0.6772, Train Acc: 0.6526, Val Acc: 0.6600\n"
     ]
    },
    {
     "name": "stderr",
     "output_type": "stream",
     "text": [
      "Iterating training graphs: 100%|██████████| 282/282 [00:33<00:00,  8.54batch/s]\n",
      "Iterating eval graphs: 100%|██████████| 71/71 [00:04<00:00, 15.82batch/s]\n",
      "Epoch 106/400, Loss: 0.6752, Train Acc: 0.6533, Val Acc: 0.6574\n"
     ]
    },
    {
     "name": "stdout",
     "output_type": "stream",
     "text": [
      "Epoch 106/400, Loss: 0.6752, Train Acc: 0.6533, Val Acc: 0.6574\n"
     ]
    },
    {
     "name": "stderr",
     "output_type": "stream",
     "text": [
      "Iterating training graphs: 100%|██████████| 282/282 [00:33<00:00,  8.45batch/s]\n",
      "Iterating eval graphs: 100%|██████████| 71/71 [00:04<00:00, 15.27batch/s]\n",
      "Epoch 107/400, Loss: 0.6778, Train Acc: 0.6535, Val Acc: 0.6551\n"
     ]
    },
    {
     "name": "stdout",
     "output_type": "stream",
     "text": [
      "Epoch 107/400, Loss: 0.6778, Train Acc: 0.6535, Val Acc: 0.6551\n"
     ]
    },
    {
     "name": "stderr",
     "output_type": "stream",
     "text": [
      "Iterating training graphs: 100%|██████████| 282/282 [00:33<00:00,  8.52batch/s]\n",
      "Iterating eval graphs: 100%|██████████| 71/71 [00:04<00:00, 15.98batch/s]\n",
      "Epoch 108/400, Loss: 0.6773, Train Acc: 0.6499, Val Acc: 0.6600\n"
     ]
    },
    {
     "name": "stdout",
     "output_type": "stream",
     "text": [
      "Epoch 108/400, Loss: 0.6773, Train Acc: 0.6499, Val Acc: 0.6600\n"
     ]
    },
    {
     "name": "stderr",
     "output_type": "stream",
     "text": [
      "Iterating training graphs: 100%|██████████| 282/282 [00:33<00:00,  8.54batch/s]\n",
      "Iterating eval graphs: 100%|██████████| 71/71 [00:04<00:00, 15.48batch/s]\n",
      "Epoch 109/400, Loss: 0.6749, Train Acc: 0.6520, Val Acc: 0.6605\n"
     ]
    },
    {
     "name": "stdout",
     "output_type": "stream",
     "text": [
      "Epoch 109/400, Loss: 0.6749, Train Acc: 0.6520, Val Acc: 0.6605\n"
     ]
    },
    {
     "name": "stderr",
     "output_type": "stream",
     "text": [
      "Iterating training graphs: 100%|██████████| 282/282 [00:33<00:00,  8.52batch/s]\n",
      "Iterating eval graphs: 100%|██████████| 71/71 [00:04<00:00, 15.93batch/s]\n",
      "Epoch 110/400, Loss: 0.6722, Train Acc: 0.6576, Val Acc: 0.6609\n"
     ]
    },
    {
     "name": "stdout",
     "output_type": "stream",
     "text": [
      "Epoch 110/400, Loss: 0.6722, Train Acc: 0.6576, Val Acc: 0.6609\n"
     ]
    },
    {
     "name": "stderr",
     "output_type": "stream",
     "text": [
      "Iterating training graphs: 100%|██████████| 282/282 [00:33<00:00,  8.51batch/s]\n",
      "Iterating eval graphs: 100%|██████████| 71/71 [00:04<00:00, 15.67batch/s]\n",
      "Epoch 111/400, Loss: 0.6725, Train Acc: 0.6569, Val Acc: 0.6489\n"
     ]
    },
    {
     "name": "stdout",
     "output_type": "stream",
     "text": [
      "Epoch 111/400, Loss: 0.6725, Train Acc: 0.6569, Val Acc: 0.6489\n"
     ]
    },
    {
     "name": "stderr",
     "output_type": "stream",
     "text": [
      "Iterating training graphs: 100%|██████████| 282/282 [00:33<00:00,  8.53batch/s]\n",
      "Iterating eval graphs: 100%|██████████| 71/71 [00:04<00:00, 15.88batch/s]\n",
      "Epoch 112/400, Loss: 0.6723, Train Acc: 0.6547, Val Acc: 0.6529\n"
     ]
    },
    {
     "name": "stdout",
     "output_type": "stream",
     "text": [
      "Epoch 112/400, Loss: 0.6723, Train Acc: 0.6547, Val Acc: 0.6529\n"
     ]
    },
    {
     "name": "stderr",
     "output_type": "stream",
     "text": [
      "Iterating training graphs: 100%|██████████| 282/282 [00:32<00:00,  8.57batch/s]\n",
      "Iterating eval graphs: 100%|██████████| 71/71 [00:04<00:00, 15.74batch/s]\n",
      "Epoch 113/400, Loss: 0.6674, Train Acc: 0.6575, Val Acc: 0.6662\n"
     ]
    },
    {
     "name": "stdout",
     "output_type": "stream",
     "text": [
      "Epoch 113/400, Loss: 0.6674, Train Acc: 0.6575, Val Acc: 0.6662\n",
      "Best model updated and saved at /home/onyxia/work/DL-Hackathon/hackaton/checkpoints/model_A_best.pth\n"
     ]
    },
    {
     "name": "stderr",
     "output_type": "stream",
     "text": [
      "Iterating training graphs: 100%|██████████| 282/282 [00:32<00:00,  8.58batch/s]\n",
      "Iterating eval graphs: 100%|██████████| 71/71 [00:04<00:00, 15.60batch/s]\n",
      "Epoch 114/400, Loss: 0.6643, Train Acc: 0.6608, Val Acc: 0.6556\n"
     ]
    },
    {
     "name": "stdout",
     "output_type": "stream",
     "text": [
      "Epoch 114/400, Loss: 0.6643, Train Acc: 0.6608, Val Acc: 0.6556\n"
     ]
    },
    {
     "name": "stderr",
     "output_type": "stream",
     "text": [
      "Iterating training graphs: 100%|██████████| 282/282 [00:33<00:00,  8.52batch/s]\n",
      "Iterating eval graphs: 100%|██████████| 71/71 [00:04<00:00, 15.42batch/s]\n",
      "Epoch 115/400, Loss: 0.6694, Train Acc: 0.6567, Val Acc: 0.6636\n"
     ]
    },
    {
     "name": "stdout",
     "output_type": "stream",
     "text": [
      "Epoch 115/400, Loss: 0.6694, Train Acc: 0.6567, Val Acc: 0.6636\n"
     ]
    },
    {
     "name": "stderr",
     "output_type": "stream",
     "text": [
      "Iterating training graphs: 100%|██████████| 282/282 [00:32<00:00,  8.57batch/s]\n",
      "Iterating eval graphs: 100%|██████████| 71/71 [00:04<00:00, 15.39batch/s]\n",
      "Epoch 116/400, Loss: 0.6636, Train Acc: 0.6582, Val Acc: 0.6569\n"
     ]
    },
    {
     "name": "stdout",
     "output_type": "stream",
     "text": [
      "Epoch 116/400, Loss: 0.6636, Train Acc: 0.6582, Val Acc: 0.6569\n"
     ]
    },
    {
     "name": "stderr",
     "output_type": "stream",
     "text": [
      "Iterating training graphs: 100%|██████████| 282/282 [00:32<00:00,  8.55batch/s]\n",
      "Iterating eval graphs: 100%|██████████| 71/71 [00:04<00:00, 16.00batch/s]\n",
      "Epoch 117/400, Loss: 0.6637, Train Acc: 0.6638, Val Acc: 0.6631\n"
     ]
    },
    {
     "name": "stdout",
     "output_type": "stream",
     "text": [
      "Epoch 117/400, Loss: 0.6637, Train Acc: 0.6638, Val Acc: 0.6631\n"
     ]
    },
    {
     "name": "stderr",
     "output_type": "stream",
     "text": [
      "Iterating training graphs: 100%|██████████| 282/282 [00:32<00:00,  8.55batch/s]\n",
      "Iterating eval graphs: 100%|██████████| 71/71 [00:04<00:00, 15.85batch/s]\n",
      "Epoch 118/400, Loss: 0.6610, Train Acc: 0.6608, Val Acc: 0.6512\n"
     ]
    },
    {
     "name": "stdout",
     "output_type": "stream",
     "text": [
      "Epoch 118/400, Loss: 0.6610, Train Acc: 0.6608, Val Acc: 0.6512\n"
     ]
    },
    {
     "name": "stderr",
     "output_type": "stream",
     "text": [
      "Iterating training graphs: 100%|██████████| 282/282 [00:33<00:00,  8.50batch/s]\n",
      "Iterating eval graphs: 100%|██████████| 71/71 [00:04<00:00, 15.60batch/s]\n",
      "Epoch 119/400, Loss: 0.6590, Train Acc: 0.6589, Val Acc: 0.6565\n"
     ]
    },
    {
     "name": "stdout",
     "output_type": "stream",
     "text": [
      "Epoch 119/400, Loss: 0.6590, Train Acc: 0.6589, Val Acc: 0.6565\n"
     ]
    },
    {
     "name": "stderr",
     "output_type": "stream",
     "text": [
      "Iterating training graphs: 100%|██████████| 282/282 [00:33<00:00,  8.51batch/s]\n"
     ]
    },
    {
     "name": "stdout",
     "output_type": "stream",
     "text": [
      "Checkpoint saved at /home/onyxia/work/DL-Hackathon/hackaton/checkpoints/A/model_A_epoch_120.pth\n"
     ]
    },
    {
     "name": "stderr",
     "output_type": "stream",
     "text": [
      "Iterating eval graphs: 100%|██████████| 71/71 [00:04<00:00, 15.83batch/s]\n",
      "Epoch 120/400, Loss: 0.6571, Train Acc: 0.6633, Val Acc: 0.6534\n"
     ]
    },
    {
     "name": "stdout",
     "output_type": "stream",
     "text": [
      "Epoch 120/400, Loss: 0.6571, Train Acc: 0.6633, Val Acc: 0.6534\n"
     ]
    },
    {
     "name": "stderr",
     "output_type": "stream",
     "text": [
      "Iterating training graphs: 100%|██████████| 282/282 [00:33<00:00,  8.54batch/s]\n",
      "Iterating eval graphs: 100%|██████████| 71/71 [00:04<00:00, 15.87batch/s]\n",
      "Epoch 121/400, Loss: 0.6616, Train Acc: 0.6612, Val Acc: 0.6605\n"
     ]
    },
    {
     "name": "stdout",
     "output_type": "stream",
     "text": [
      "Epoch 121/400, Loss: 0.6616, Train Acc: 0.6612, Val Acc: 0.6605\n"
     ]
    },
    {
     "name": "stderr",
     "output_type": "stream",
     "text": [
      "Iterating training graphs: 100%|██████████| 282/282 [00:32<00:00,  8.56batch/s]\n",
      "Iterating eval graphs: 100%|██████████| 71/71 [00:04<00:00, 15.10batch/s]\n",
      "Epoch 122/400, Loss: 0.6572, Train Acc: 0.6636, Val Acc: 0.6565\n"
     ]
    },
    {
     "name": "stdout",
     "output_type": "stream",
     "text": [
      "Epoch 122/400, Loss: 0.6572, Train Acc: 0.6636, Val Acc: 0.6565\n"
     ]
    },
    {
     "name": "stderr",
     "output_type": "stream",
     "text": [
      "Iterating training graphs: 100%|██████████| 282/282 [00:33<00:00,  8.51batch/s]\n",
      "Iterating eval graphs: 100%|██████████| 71/71 [00:04<00:00, 15.34batch/s]\n",
      "Epoch 123/400, Loss: 0.6578, Train Acc: 0.6674, Val Acc: 0.6605\n"
     ]
    },
    {
     "name": "stdout",
     "output_type": "stream",
     "text": [
      "Epoch 123/400, Loss: 0.6578, Train Acc: 0.6674, Val Acc: 0.6605\n"
     ]
    },
    {
     "name": "stderr",
     "output_type": "stream",
     "text": [
      "Iterating training graphs: 100%|██████████| 282/282 [00:32<00:00,  8.58batch/s]\n",
      "Iterating eval graphs: 100%|██████████| 71/71 [00:04<00:00, 15.72batch/s]\n",
      "Epoch 124/400, Loss: 0.6489, Train Acc: 0.6676, Val Acc: 0.6560\n"
     ]
    },
    {
     "name": "stdout",
     "output_type": "stream",
     "text": [
      "Epoch 124/400, Loss: 0.6489, Train Acc: 0.6676, Val Acc: 0.6560\n"
     ]
    },
    {
     "name": "stderr",
     "output_type": "stream",
     "text": [
      "Iterating training graphs: 100%|██████████| 282/282 [00:33<00:00,  8.54batch/s]\n",
      "Iterating eval graphs: 100%|██████████| 71/71 [00:04<00:00, 15.90batch/s]\n",
      "Epoch 125/400, Loss: 0.6516, Train Acc: 0.6686, Val Acc: 0.6534\n"
     ]
    },
    {
     "name": "stdout",
     "output_type": "stream",
     "text": [
      "Epoch 125/400, Loss: 0.6516, Train Acc: 0.6686, Val Acc: 0.6534\n"
     ]
    },
    {
     "name": "stderr",
     "output_type": "stream",
     "text": [
      "Iterating training graphs: 100%|██████████| 282/282 [00:33<00:00,  8.53batch/s]\n",
      "Iterating eval graphs: 100%|██████████| 71/71 [00:04<00:00, 15.82batch/s]\n",
      "Epoch 126/400, Loss: 0.6518, Train Acc: 0.6680, Val Acc: 0.6636\n"
     ]
    },
    {
     "name": "stdout",
     "output_type": "stream",
     "text": [
      "Epoch 126/400, Loss: 0.6518, Train Acc: 0.6680, Val Acc: 0.6636\n"
     ]
    },
    {
     "name": "stderr",
     "output_type": "stream",
     "text": [
      "Iterating training graphs: 100%|██████████| 282/282 [00:33<00:00,  8.53batch/s]\n",
      "Iterating eval graphs: 100%|██████████| 71/71 [00:04<00:00, 15.89batch/s]\n",
      "Epoch 127/400, Loss: 0.6565, Train Acc: 0.6679, Val Acc: 0.6636\n"
     ]
    },
    {
     "name": "stdout",
     "output_type": "stream",
     "text": [
      "Epoch 127/400, Loss: 0.6565, Train Acc: 0.6679, Val Acc: 0.6636\n"
     ]
    },
    {
     "name": "stderr",
     "output_type": "stream",
     "text": [
      "Iterating training graphs: 100%|██████████| 282/282 [00:32<00:00,  8.58batch/s]\n",
      "Iterating eval graphs: 100%|██████████| 71/71 [00:04<00:00, 15.61batch/s]\n",
      "Epoch 128/400, Loss: 0.6510, Train Acc: 0.6666, Val Acc: 0.6538\n"
     ]
    },
    {
     "name": "stdout",
     "output_type": "stream",
     "text": [
      "Epoch 128/400, Loss: 0.6510, Train Acc: 0.6666, Val Acc: 0.6538\n"
     ]
    },
    {
     "name": "stderr",
     "output_type": "stream",
     "text": [
      "Iterating training graphs: 100%|██████████| 282/282 [00:33<00:00,  8.51batch/s]\n",
      "Iterating eval graphs: 100%|██████████| 71/71 [00:04<00:00, 16.15batch/s]\n",
      "Epoch 129/400, Loss: 0.6507, Train Acc: 0.6630, Val Acc: 0.6569\n"
     ]
    },
    {
     "name": "stdout",
     "output_type": "stream",
     "text": [
      "Epoch 129/400, Loss: 0.6507, Train Acc: 0.6630, Val Acc: 0.6569\n"
     ]
    },
    {
     "name": "stderr",
     "output_type": "stream",
     "text": [
      "Iterating training graphs: 100%|██████████| 282/282 [00:32<00:00,  8.61batch/s]\n",
      "Iterating eval graphs: 100%|██████████| 71/71 [00:04<00:00, 15.98batch/s]\n",
      "Epoch 130/400, Loss: 0.6503, Train Acc: 0.6632, Val Acc: 0.6627\n"
     ]
    },
    {
     "name": "stdout",
     "output_type": "stream",
     "text": [
      "Epoch 130/400, Loss: 0.6503, Train Acc: 0.6632, Val Acc: 0.6627\n"
     ]
    },
    {
     "name": "stderr",
     "output_type": "stream",
     "text": [
      "Iterating training graphs: 100%|██████████| 282/282 [00:32<00:00,  8.55batch/s]\n",
      "Iterating eval graphs: 100%|██████████| 71/71 [00:04<00:00, 15.25batch/s]\n",
      "Epoch 131/400, Loss: 0.6506, Train Acc: 0.6639, Val Acc: 0.6578\n"
     ]
    },
    {
     "name": "stdout",
     "output_type": "stream",
     "text": [
      "Epoch 131/400, Loss: 0.6506, Train Acc: 0.6639, Val Acc: 0.6578\n"
     ]
    },
    {
     "name": "stderr",
     "output_type": "stream",
     "text": [
      "Iterating training graphs: 100%|██████████| 282/282 [00:32<00:00,  8.56batch/s]\n",
      "Iterating eval graphs: 100%|██████████| 71/71 [00:04<00:00, 15.98batch/s]\n",
      "Epoch 132/400, Loss: 0.6545, Train Acc: 0.6649, Val Acc: 0.6618\n"
     ]
    },
    {
     "name": "stdout",
     "output_type": "stream",
     "text": [
      "Epoch 132/400, Loss: 0.6545, Train Acc: 0.6649, Val Acc: 0.6618\n"
     ]
    },
    {
     "name": "stderr",
     "output_type": "stream",
     "text": [
      "Iterating training graphs: 100%|██████████| 282/282 [00:32<00:00,  8.58batch/s]\n",
      "Iterating eval graphs: 100%|██████████| 71/71 [00:04<00:00, 15.91batch/s]\n",
      "Epoch 133/400, Loss: 0.6470, Train Acc: 0.6666, Val Acc: 0.6560\n"
     ]
    },
    {
     "name": "stdout",
     "output_type": "stream",
     "text": [
      "Epoch 133/400, Loss: 0.6470, Train Acc: 0.6666, Val Acc: 0.6560\n"
     ]
    },
    {
     "name": "stderr",
     "output_type": "stream",
     "text": [
      "Iterating training graphs: 100%|██████████| 282/282 [00:32<00:00,  8.55batch/s]\n",
      "Iterating eval graphs: 100%|██████████| 71/71 [00:04<00:00, 15.21batch/s]\n",
      "Epoch 134/400, Loss: 0.6461, Train Acc: 0.6672, Val Acc: 0.6574\n"
     ]
    },
    {
     "name": "stdout",
     "output_type": "stream",
     "text": [
      "Epoch 134/400, Loss: 0.6461, Train Acc: 0.6672, Val Acc: 0.6574\n"
     ]
    },
    {
     "name": "stderr",
     "output_type": "stream",
     "text": [
      "Iterating training graphs: 100%|██████████| 282/282 [00:33<00:00,  8.54batch/s]\n",
      "Iterating eval graphs: 100%|██████████| 71/71 [00:04<00:00, 15.89batch/s]\n",
      "Epoch 135/400, Loss: 0.6442, Train Acc: 0.6761, Val Acc: 0.6574\n"
     ]
    },
    {
     "name": "stdout",
     "output_type": "stream",
     "text": [
      "Epoch 135/400, Loss: 0.6442, Train Acc: 0.6761, Val Acc: 0.6574\n"
     ]
    },
    {
     "name": "stderr",
     "output_type": "stream",
     "text": [
      "Iterating training graphs: 100%|██████████| 282/282 [00:32<00:00,  8.64batch/s]\n",
      "Iterating eval graphs: 100%|██████████| 71/71 [00:04<00:00, 16.02batch/s]\n",
      "Epoch 136/400, Loss: 0.6500, Train Acc: 0.6654, Val Acc: 0.6618\n"
     ]
    },
    {
     "name": "stdout",
     "output_type": "stream",
     "text": [
      "Epoch 136/400, Loss: 0.6500, Train Acc: 0.6654, Val Acc: 0.6618\n"
     ]
    },
    {
     "name": "stderr",
     "output_type": "stream",
     "text": [
      "Iterating training graphs: 100%|██████████| 282/282 [00:32<00:00,  8.61batch/s]\n",
      "Iterating eval graphs: 100%|██████████| 71/71 [00:04<00:00, 16.00batch/s]\n",
      "Epoch 137/400, Loss: 0.6425, Train Acc: 0.6691, Val Acc: 0.6529\n"
     ]
    },
    {
     "name": "stdout",
     "output_type": "stream",
     "text": [
      "Epoch 137/400, Loss: 0.6425, Train Acc: 0.6691, Val Acc: 0.6529\n"
     ]
    },
    {
     "name": "stderr",
     "output_type": "stream",
     "text": [
      "Iterating training graphs: 100%|██████████| 282/282 [00:32<00:00,  8.63batch/s]\n",
      "Iterating eval graphs: 100%|██████████| 71/71 [00:04<00:00, 16.15batch/s]\n",
      "Epoch 138/400, Loss: 0.6472, Train Acc: 0.6637, Val Acc: 0.6662\n"
     ]
    },
    {
     "name": "stdout",
     "output_type": "stream",
     "text": [
      "Epoch 138/400, Loss: 0.6472, Train Acc: 0.6637, Val Acc: 0.6662\n"
     ]
    },
    {
     "name": "stderr",
     "output_type": "stream",
     "text": [
      "Iterating training graphs: 100%|██████████| 282/282 [00:32<00:00,  8.67batch/s]\n",
      "Iterating eval graphs: 100%|██████████| 71/71 [00:04<00:00, 15.75batch/s]\n",
      "Epoch 139/400, Loss: 0.6410, Train Acc: 0.6704, Val Acc: 0.6645\n"
     ]
    },
    {
     "name": "stdout",
     "output_type": "stream",
     "text": [
      "Epoch 139/400, Loss: 0.6410, Train Acc: 0.6704, Val Acc: 0.6645\n"
     ]
    },
    {
     "name": "stderr",
     "output_type": "stream",
     "text": [
      "Iterating training graphs: 100%|██████████| 282/282 [00:32<00:00,  8.61batch/s]\n"
     ]
    },
    {
     "name": "stdout",
     "output_type": "stream",
     "text": [
      "Checkpoint saved at /home/onyxia/work/DL-Hackathon/hackaton/checkpoints/A/model_A_epoch_140.pth\n"
     ]
    },
    {
     "name": "stderr",
     "output_type": "stream",
     "text": [
      "Iterating eval graphs: 100%|██████████| 71/71 [00:04<00:00, 16.25batch/s]\n",
      "Epoch 140/400, Loss: 0.6420, Train Acc: 0.6742, Val Acc: 0.6689\n"
     ]
    },
    {
     "name": "stdout",
     "output_type": "stream",
     "text": [
      "Epoch 140/400, Loss: 0.6420, Train Acc: 0.6742, Val Acc: 0.6689\n",
      "Best model updated and saved at /home/onyxia/work/DL-Hackathon/hackaton/checkpoints/model_A_best.pth\n"
     ]
    },
    {
     "name": "stderr",
     "output_type": "stream",
     "text": [
      "Iterating training graphs: 100%|██████████| 282/282 [00:32<00:00,  8.64batch/s]\n",
      "Iterating eval graphs: 100%|██████████| 71/71 [00:04<00:00, 16.03batch/s]\n",
      "Epoch 141/400, Loss: 0.6372, Train Acc: 0.6703, Val Acc: 0.6773\n"
     ]
    },
    {
     "name": "stdout",
     "output_type": "stream",
     "text": [
      "Epoch 141/400, Loss: 0.6372, Train Acc: 0.6703, Val Acc: 0.6773\n",
      "Best model updated and saved at /home/onyxia/work/DL-Hackathon/hackaton/checkpoints/model_A_best.pth\n"
     ]
    },
    {
     "name": "stderr",
     "output_type": "stream",
     "text": [
      "Iterating training graphs: 100%|██████████| 282/282 [00:32<00:00,  8.63batch/s]\n",
      "Iterating eval graphs: 100%|██████████| 71/71 [00:04<00:00, 16.25batch/s]\n",
      "Epoch 142/400, Loss: 0.6359, Train Acc: 0.6761, Val Acc: 0.6742\n"
     ]
    },
    {
     "name": "stdout",
     "output_type": "stream",
     "text": [
      "Epoch 142/400, Loss: 0.6359, Train Acc: 0.6761, Val Acc: 0.6742\n"
     ]
    },
    {
     "name": "stderr",
     "output_type": "stream",
     "text": [
      "Iterating training graphs: 100%|██████████| 282/282 [00:32<00:00,  8.62batch/s]\n",
      "Iterating eval graphs: 100%|██████████| 71/71 [00:04<00:00, 15.45batch/s]\n",
      "Epoch 143/400, Loss: 0.6385, Train Acc: 0.6694, Val Acc: 0.6600\n"
     ]
    },
    {
     "name": "stdout",
     "output_type": "stream",
     "text": [
      "Epoch 143/400, Loss: 0.6385, Train Acc: 0.6694, Val Acc: 0.6600\n"
     ]
    },
    {
     "name": "stderr",
     "output_type": "stream",
     "text": [
      "Iterating training graphs: 100%|██████████| 282/282 [00:32<00:00,  8.62batch/s]\n",
      "Iterating eval graphs: 100%|██████████| 71/71 [00:04<00:00, 15.87batch/s]\n",
      "Epoch 144/400, Loss: 0.6404, Train Acc: 0.6692, Val Acc: 0.6733\n"
     ]
    },
    {
     "name": "stdout",
     "output_type": "stream",
     "text": [
      "Epoch 144/400, Loss: 0.6404, Train Acc: 0.6692, Val Acc: 0.6733\n"
     ]
    },
    {
     "name": "stderr",
     "output_type": "stream",
     "text": [
      "Iterating training graphs: 100%|██████████| 282/282 [00:32<00:00,  8.60batch/s]\n",
      "Iterating eval graphs: 100%|██████████| 71/71 [00:04<00:00, 16.21batch/s]\n",
      "Epoch 145/400, Loss: 0.6421, Train Acc: 0.6720, Val Acc: 0.6596\n"
     ]
    },
    {
     "name": "stdout",
     "output_type": "stream",
     "text": [
      "Epoch 145/400, Loss: 0.6421, Train Acc: 0.6720, Val Acc: 0.6596\n"
     ]
    },
    {
     "name": "stderr",
     "output_type": "stream",
     "text": [
      "Iterating training graphs: 100%|██████████| 282/282 [00:32<00:00,  8.63batch/s]\n",
      "Iterating eval graphs: 100%|██████████| 71/71 [00:04<00:00, 16.26batch/s]\n",
      "Epoch 146/400, Loss: 0.6374, Train Acc: 0.6714, Val Acc: 0.6631\n"
     ]
    },
    {
     "name": "stdout",
     "output_type": "stream",
     "text": [
      "Epoch 146/400, Loss: 0.6374, Train Acc: 0.6714, Val Acc: 0.6631\n"
     ]
    },
    {
     "name": "stderr",
     "output_type": "stream",
     "text": [
      "Iterating training graphs: 100%|██████████| 282/282 [00:32<00:00,  8.55batch/s]\n",
      "Iterating eval graphs: 100%|██████████| 71/71 [00:04<00:00, 15.62batch/s]\n",
      "Epoch 147/400, Loss: 0.6359, Train Acc: 0.6752, Val Acc: 0.6746\n"
     ]
    },
    {
     "name": "stdout",
     "output_type": "stream",
     "text": [
      "Epoch 147/400, Loss: 0.6359, Train Acc: 0.6752, Val Acc: 0.6746\n"
     ]
    },
    {
     "name": "stderr",
     "output_type": "stream",
     "text": [
      "Iterating training graphs: 100%|██████████| 282/282 [00:32<00:00,  8.66batch/s]\n",
      "Iterating eval graphs: 100%|██████████| 71/71 [00:04<00:00, 16.30batch/s]\n",
      "Epoch 148/400, Loss: 0.6298, Train Acc: 0.6773, Val Acc: 0.6658\n"
     ]
    },
    {
     "name": "stdout",
     "output_type": "stream",
     "text": [
      "Epoch 148/400, Loss: 0.6298, Train Acc: 0.6773, Val Acc: 0.6658\n"
     ]
    },
    {
     "name": "stderr",
     "output_type": "stream",
     "text": [
      "Iterating training graphs: 100%|██████████| 282/282 [00:32<00:00,  8.68batch/s]\n",
      "Iterating eval graphs: 100%|██████████| 71/71 [00:04<00:00, 16.04batch/s]\n",
      "Epoch 149/400, Loss: 0.6335, Train Acc: 0.6785, Val Acc: 0.6436\n"
     ]
    },
    {
     "name": "stdout",
     "output_type": "stream",
     "text": [
      "Epoch 149/400, Loss: 0.6335, Train Acc: 0.6785, Val Acc: 0.6436\n"
     ]
    },
    {
     "name": "stderr",
     "output_type": "stream",
     "text": [
      "Iterating training graphs: 100%|██████████| 282/282 [00:32<00:00,  8.64batch/s]\n",
      "Iterating eval graphs: 100%|██████████| 71/71 [00:04<00:00, 16.25batch/s]\n",
      "Epoch 150/400, Loss: 0.6295, Train Acc: 0.6761, Val Acc: 0.6605\n"
     ]
    },
    {
     "name": "stdout",
     "output_type": "stream",
     "text": [
      "Epoch 150/400, Loss: 0.6295, Train Acc: 0.6761, Val Acc: 0.6605\n"
     ]
    },
    {
     "name": "stderr",
     "output_type": "stream",
     "text": [
      "Iterating training graphs: 100%|██████████| 282/282 [00:32<00:00,  8.69batch/s]\n",
      "Iterating eval graphs: 100%|██████████| 71/71 [00:04<00:00, 16.23batch/s]\n",
      "Epoch 151/400, Loss: 0.6245, Train Acc: 0.6830, Val Acc: 0.6534\n"
     ]
    },
    {
     "name": "stdout",
     "output_type": "stream",
     "text": [
      "Epoch 151/400, Loss: 0.6245, Train Acc: 0.6830, Val Acc: 0.6534\n"
     ]
    },
    {
     "name": "stderr",
     "output_type": "stream",
     "text": [
      "Iterating training graphs: 100%|██████████| 282/282 [00:32<00:00,  8.69batch/s]\n",
      "Iterating eval graphs: 100%|██████████| 71/71 [00:04<00:00, 15.42batch/s]\n",
      "Epoch 152/400, Loss: 0.6261, Train Acc: 0.6791, Val Acc: 0.6613\n"
     ]
    },
    {
     "name": "stdout",
     "output_type": "stream",
     "text": [
      "Epoch 152/400, Loss: 0.6261, Train Acc: 0.6791, Val Acc: 0.6613\n"
     ]
    },
    {
     "name": "stderr",
     "output_type": "stream",
     "text": [
      "Iterating training graphs: 100%|██████████| 282/282 [00:32<00:00,  8.66batch/s]\n",
      "Iterating eval graphs: 100%|██████████| 71/71 [00:04<00:00, 16.43batch/s]\n",
      "Epoch 153/400, Loss: 0.6292, Train Acc: 0.6759, Val Acc: 0.6649\n"
     ]
    },
    {
     "name": "stdout",
     "output_type": "stream",
     "text": [
      "Epoch 153/400, Loss: 0.6292, Train Acc: 0.6759, Val Acc: 0.6649\n"
     ]
    },
    {
     "name": "stderr",
     "output_type": "stream",
     "text": [
      "Iterating training graphs: 100%|██████████| 282/282 [00:32<00:00,  8.70batch/s]\n",
      "Iterating eval graphs: 100%|██████████| 71/71 [00:04<00:00, 16.09batch/s]\n",
      "Epoch 154/400, Loss: 0.6290, Train Acc: 0.6748, Val Acc: 0.6693\n"
     ]
    },
    {
     "name": "stdout",
     "output_type": "stream",
     "text": [
      "Epoch 154/400, Loss: 0.6290, Train Acc: 0.6748, Val Acc: 0.6693\n"
     ]
    },
    {
     "name": "stderr",
     "output_type": "stream",
     "text": [
      "Iterating training graphs: 100%|██████████| 282/282 [00:32<00:00,  8.73batch/s]\n",
      "Iterating eval graphs: 100%|██████████| 71/71 [00:04<00:00, 16.55batch/s]\n",
      "Epoch 155/400, Loss: 0.6225, Train Acc: 0.6830, Val Acc: 0.6618\n"
     ]
    },
    {
     "name": "stdout",
     "output_type": "stream",
     "text": [
      "Epoch 155/400, Loss: 0.6225, Train Acc: 0.6830, Val Acc: 0.6618\n"
     ]
    },
    {
     "name": "stderr",
     "output_type": "stream",
     "text": [
      "Iterating training graphs: 100%|██████████| 282/282 [00:32<00:00,  8.65batch/s]\n",
      "Iterating eval graphs: 100%|██████████| 71/71 [00:04<00:00, 15.59batch/s]\n",
      "Epoch 156/400, Loss: 0.6215, Train Acc: 0.6813, Val Acc: 0.6605\n"
     ]
    },
    {
     "name": "stdout",
     "output_type": "stream",
     "text": [
      "Epoch 156/400, Loss: 0.6215, Train Acc: 0.6813, Val Acc: 0.6605\n"
     ]
    },
    {
     "name": "stderr",
     "output_type": "stream",
     "text": [
      "Iterating training graphs: 100%|██████████| 282/282 [00:32<00:00,  8.71batch/s]\n",
      "Iterating eval graphs: 100%|██████████| 71/71 [00:04<00:00, 16.12batch/s]\n",
      "Epoch 157/400, Loss: 0.6209, Train Acc: 0.6856, Val Acc: 0.6702\n"
     ]
    },
    {
     "name": "stdout",
     "output_type": "stream",
     "text": [
      "Epoch 157/400, Loss: 0.6209, Train Acc: 0.6856, Val Acc: 0.6702\n"
     ]
    },
    {
     "name": "stderr",
     "output_type": "stream",
     "text": [
      "Iterating training graphs: 100%|██████████| 282/282 [00:32<00:00,  8.72batch/s]\n",
      "Iterating eval graphs: 100%|██████████| 71/71 [00:04<00:00, 16.09batch/s]\n",
      "Epoch 158/400, Loss: 0.6192, Train Acc: 0.6804, Val Acc: 0.6569\n"
     ]
    },
    {
     "name": "stdout",
     "output_type": "stream",
     "text": [
      "Epoch 158/400, Loss: 0.6192, Train Acc: 0.6804, Val Acc: 0.6569\n"
     ]
    },
    {
     "name": "stderr",
     "output_type": "stream",
     "text": [
      "Iterating training graphs: 100%|██████████| 282/282 [00:32<00:00,  8.70batch/s]\n",
      "Iterating eval graphs: 100%|██████████| 71/71 [00:04<00:00, 16.32batch/s]\n",
      "Epoch 159/400, Loss: 0.6176, Train Acc: 0.6854, Val Acc: 0.6658\n"
     ]
    },
    {
     "name": "stdout",
     "output_type": "stream",
     "text": [
      "Epoch 159/400, Loss: 0.6176, Train Acc: 0.6854, Val Acc: 0.6658\n"
     ]
    },
    {
     "name": "stderr",
     "output_type": "stream",
     "text": [
      "Iterating training graphs: 100%|██████████| 282/282 [00:32<00:00,  8.74batch/s]\n"
     ]
    },
    {
     "name": "stdout",
     "output_type": "stream",
     "text": [
      "Checkpoint saved at /home/onyxia/work/DL-Hackathon/hackaton/checkpoints/A/model_A_epoch_160.pth\n"
     ]
    },
    {
     "name": "stderr",
     "output_type": "stream",
     "text": [
      "Iterating eval graphs: 100%|██████████| 71/71 [00:04<00:00, 16.49batch/s]\n",
      "Epoch 160/400, Loss: 0.6156, Train Acc: 0.6857, Val Acc: 0.6702\n"
     ]
    },
    {
     "name": "stdout",
     "output_type": "stream",
     "text": [
      "Epoch 160/400, Loss: 0.6156, Train Acc: 0.6857, Val Acc: 0.6702\n"
     ]
    },
    {
     "name": "stderr",
     "output_type": "stream",
     "text": [
      "Iterating training graphs: 100%|██████████| 282/282 [00:32<00:00,  8.74batch/s]\n",
      "Iterating eval graphs: 100%|██████████| 71/71 [00:04<00:00, 16.16batch/s]\n",
      "Epoch 161/400, Loss: 0.6226, Train Acc: 0.6755, Val Acc: 0.6658\n"
     ]
    },
    {
     "name": "stdout",
     "output_type": "stream",
     "text": [
      "Epoch 161/400, Loss: 0.6226, Train Acc: 0.6755, Val Acc: 0.6658\n"
     ]
    },
    {
     "name": "stderr",
     "output_type": "stream",
     "text": [
      "Iterating training graphs: 100%|██████████| 282/282 [00:32<00:00,  8.74batch/s]\n",
      "Iterating eval graphs: 100%|██████████| 71/71 [00:04<00:00, 16.47batch/s]\n",
      "Epoch 162/400, Loss: 0.6129, Train Acc: 0.6844, Val Acc: 0.6760\n"
     ]
    },
    {
     "name": "stdout",
     "output_type": "stream",
     "text": [
      "Epoch 162/400, Loss: 0.6129, Train Acc: 0.6844, Val Acc: 0.6760\n"
     ]
    },
    {
     "name": "stderr",
     "output_type": "stream",
     "text": [
      "Iterating training graphs: 100%|██████████| 282/282 [00:32<00:00,  8.75batch/s]\n",
      "Iterating eval graphs: 100%|██████████| 71/71 [00:04<00:00, 16.60batch/s]\n",
      "Epoch 163/400, Loss: 0.6162, Train Acc: 0.6861, Val Acc: 0.6698\n"
     ]
    },
    {
     "name": "stdout",
     "output_type": "stream",
     "text": [
      "Epoch 163/400, Loss: 0.6162, Train Acc: 0.6861, Val Acc: 0.6698\n"
     ]
    },
    {
     "name": "stderr",
     "output_type": "stream",
     "text": [
      "Iterating training graphs: 100%|██████████| 282/282 [00:32<00:00,  8.76batch/s]\n",
      "Iterating eval graphs: 100%|██████████| 71/71 [00:04<00:00, 16.40batch/s]\n",
      "Epoch 164/400, Loss: 0.6132, Train Acc: 0.6867, Val Acc: 0.6640\n"
     ]
    },
    {
     "name": "stdout",
     "output_type": "stream",
     "text": [
      "Epoch 164/400, Loss: 0.6132, Train Acc: 0.6867, Val Acc: 0.6640\n"
     ]
    },
    {
     "name": "stderr",
     "output_type": "stream",
     "text": [
      "Iterating training graphs: 100%|██████████| 282/282 [00:32<00:00,  8.75batch/s]\n",
      "Iterating eval graphs: 100%|██████████| 71/71 [00:04<00:00, 15.87batch/s]\n",
      "Epoch 165/400, Loss: 0.6152, Train Acc: 0.6879, Val Acc: 0.6733\n"
     ]
    },
    {
     "name": "stdout",
     "output_type": "stream",
     "text": [
      "Epoch 165/400, Loss: 0.6152, Train Acc: 0.6879, Val Acc: 0.6733\n"
     ]
    },
    {
     "name": "stderr",
     "output_type": "stream",
     "text": [
      "Iterating training graphs: 100%|██████████| 282/282 [00:32<00:00,  8.79batch/s]\n",
      "Iterating eval graphs: 100%|██████████| 71/71 [00:04<00:00, 16.45batch/s]\n",
      "Epoch 166/400, Loss: 0.6126, Train Acc: 0.6872, Val Acc: 0.6724\n"
     ]
    },
    {
     "name": "stdout",
     "output_type": "stream",
     "text": [
      "Epoch 166/400, Loss: 0.6126, Train Acc: 0.6872, Val Acc: 0.6724\n"
     ]
    },
    {
     "name": "stderr",
     "output_type": "stream",
     "text": [
      "Iterating training graphs: 100%|██████████| 282/282 [00:32<00:00,  8.71batch/s]\n",
      "Iterating eval graphs: 100%|██████████| 71/71 [00:04<00:00, 16.58batch/s]\n",
      "Epoch 167/400, Loss: 0.6148, Train Acc: 0.6825, Val Acc: 0.6698\n"
     ]
    },
    {
     "name": "stdout",
     "output_type": "stream",
     "text": [
      "Epoch 167/400, Loss: 0.6148, Train Acc: 0.6825, Val Acc: 0.6698\n"
     ]
    },
    {
     "name": "stderr",
     "output_type": "stream",
     "text": [
      "Iterating training graphs: 100%|██████████| 282/282 [00:32<00:00,  8.77batch/s]\n",
      "Iterating eval graphs: 100%|██████████| 71/71 [00:04<00:00, 16.37batch/s]\n",
      "Epoch 168/400, Loss: 0.6059, Train Acc: 0.6881, Val Acc: 0.6729\n"
     ]
    },
    {
     "name": "stdout",
     "output_type": "stream",
     "text": [
      "Epoch 168/400, Loss: 0.6059, Train Acc: 0.6881, Val Acc: 0.6729\n"
     ]
    },
    {
     "name": "stderr",
     "output_type": "stream",
     "text": [
      "Iterating training graphs: 100%|██████████| 282/282 [00:32<00:00,  8.76batch/s]\n",
      "Iterating eval graphs: 100%|██████████| 71/71 [00:04<00:00, 16.29batch/s]\n",
      "Epoch 169/400, Loss: 0.6052, Train Acc: 0.6938, Val Acc: 0.6640\n"
     ]
    },
    {
     "name": "stdout",
     "output_type": "stream",
     "text": [
      "Epoch 169/400, Loss: 0.6052, Train Acc: 0.6938, Val Acc: 0.6640\n"
     ]
    },
    {
     "name": "stderr",
     "output_type": "stream",
     "text": [
      "Iterating training graphs: 100%|██████████| 282/282 [00:32<00:00,  8.75batch/s]\n",
      "Iterating eval graphs: 100%|██████████| 71/71 [00:04<00:00, 16.41batch/s]\n",
      "Epoch 170/400, Loss: 0.6084, Train Acc: 0.6876, Val Acc: 0.6627\n"
     ]
    },
    {
     "name": "stdout",
     "output_type": "stream",
     "text": [
      "Epoch 170/400, Loss: 0.6084, Train Acc: 0.6876, Val Acc: 0.6627\n"
     ]
    },
    {
     "name": "stderr",
     "output_type": "stream",
     "text": [
      "Iterating training graphs: 100%|██████████| 282/282 [00:32<00:00,  8.70batch/s]\n",
      "Iterating eval graphs: 100%|██████████| 71/71 [00:04<00:00, 16.69batch/s]\n",
      "Epoch 171/400, Loss: 0.5990, Train Acc: 0.6941, Val Acc: 0.6738\n"
     ]
    },
    {
     "name": "stdout",
     "output_type": "stream",
     "text": [
      "Epoch 171/400, Loss: 0.5990, Train Acc: 0.6941, Val Acc: 0.6738\n"
     ]
    },
    {
     "name": "stderr",
     "output_type": "stream",
     "text": [
      "Iterating training graphs: 100%|██████████| 282/282 [00:32<00:00,  8.81batch/s]\n",
      "Iterating eval graphs: 100%|██████████| 71/71 [00:04<00:00, 16.68batch/s]\n",
      "Epoch 172/400, Loss: 0.6041, Train Acc: 0.6917, Val Acc: 0.6631\n"
     ]
    },
    {
     "name": "stdout",
     "output_type": "stream",
     "text": [
      "Epoch 172/400, Loss: 0.6041, Train Acc: 0.6917, Val Acc: 0.6631\n"
     ]
    },
    {
     "name": "stderr",
     "output_type": "stream",
     "text": [
      "Iterating training graphs: 100%|██████████| 282/282 [00:32<00:00,  8.78batch/s]\n",
      "Iterating eval graphs: 100%|██████████| 71/71 [00:04<00:00, 16.50batch/s]\n",
      "Epoch 173/400, Loss: 0.6054, Train Acc: 0.6879, Val Acc: 0.6676\n"
     ]
    },
    {
     "name": "stdout",
     "output_type": "stream",
     "text": [
      "Epoch 173/400, Loss: 0.6054, Train Acc: 0.6879, Val Acc: 0.6676\n"
     ]
    },
    {
     "name": "stderr",
     "output_type": "stream",
     "text": [
      "Iterating training graphs: 100%|██████████| 282/282 [00:32<00:00,  8.76batch/s]\n",
      "Iterating eval graphs: 100%|██████████| 71/71 [00:04<00:00, 16.29batch/s]\n",
      "Epoch 174/400, Loss: 0.5971, Train Acc: 0.6944, Val Acc: 0.6680\n"
     ]
    },
    {
     "name": "stdout",
     "output_type": "stream",
     "text": [
      "Epoch 174/400, Loss: 0.5971, Train Acc: 0.6944, Val Acc: 0.6680\n"
     ]
    },
    {
     "name": "stderr",
     "output_type": "stream",
     "text": [
      "Iterating training graphs: 100%|██████████| 282/282 [00:32<00:00,  8.74batch/s]\n",
      "Iterating eval graphs: 100%|██████████| 71/71 [00:04<00:00, 16.23batch/s]\n",
      "Epoch 175/400, Loss: 0.6047, Train Acc: 0.6898, Val Acc: 0.6760\n"
     ]
    },
    {
     "name": "stdout",
     "output_type": "stream",
     "text": [
      "Epoch 175/400, Loss: 0.6047, Train Acc: 0.6898, Val Acc: 0.6760\n"
     ]
    },
    {
     "name": "stderr",
     "output_type": "stream",
     "text": [
      "Iterating training graphs: 100%|██████████| 282/282 [00:32<00:00,  8.77batch/s]\n",
      "Iterating eval graphs: 100%|██████████| 71/71 [00:04<00:00, 16.41batch/s]\n",
      "Epoch 176/400, Loss: 0.6017, Train Acc: 0.6906, Val Acc: 0.6645\n"
     ]
    },
    {
     "name": "stdout",
     "output_type": "stream",
     "text": [
      "Epoch 176/400, Loss: 0.6017, Train Acc: 0.6906, Val Acc: 0.6645\n"
     ]
    },
    {
     "name": "stderr",
     "output_type": "stream",
     "text": [
      "Iterating training graphs: 100%|██████████| 282/282 [00:32<00:00,  8.76batch/s]\n",
      "Iterating eval graphs: 100%|██████████| 71/71 [00:04<00:00, 16.72batch/s]\n",
      "Epoch 177/400, Loss: 0.6018, Train Acc: 0.6882, Val Acc: 0.6622\n"
     ]
    },
    {
     "name": "stdout",
     "output_type": "stream",
     "text": [
      "Epoch 177/400, Loss: 0.6018, Train Acc: 0.6882, Val Acc: 0.6622\n"
     ]
    },
    {
     "name": "stderr",
     "output_type": "stream",
     "text": [
      "Iterating training graphs: 100%|██████████| 282/282 [00:32<00:00,  8.80batch/s]\n",
      "Iterating eval graphs: 100%|██████████| 71/71 [00:04<00:00, 16.44batch/s]\n",
      "Epoch 178/400, Loss: 0.5980, Train Acc: 0.6940, Val Acc: 0.6746\n"
     ]
    },
    {
     "name": "stdout",
     "output_type": "stream",
     "text": [
      "Epoch 178/400, Loss: 0.5980, Train Acc: 0.6940, Val Acc: 0.6746\n"
     ]
    },
    {
     "name": "stderr",
     "output_type": "stream",
     "text": [
      "Iterating training graphs: 100%|██████████| 282/282 [00:32<00:00,  8.63batch/s]\n",
      "Iterating eval graphs: 100%|██████████| 71/71 [00:04<00:00, 16.46batch/s]\n",
      "Epoch 179/400, Loss: 0.6023, Train Acc: 0.6892, Val Acc: 0.6653\n"
     ]
    },
    {
     "name": "stdout",
     "output_type": "stream",
     "text": [
      "Epoch 179/400, Loss: 0.6023, Train Acc: 0.6892, Val Acc: 0.6653\n"
     ]
    },
    {
     "name": "stderr",
     "output_type": "stream",
     "text": [
      "Iterating training graphs: 100%|██████████| 282/282 [00:32<00:00,  8.78batch/s]\n"
     ]
    },
    {
     "name": "stdout",
     "output_type": "stream",
     "text": [
      "Checkpoint saved at /home/onyxia/work/DL-Hackathon/hackaton/checkpoints/A/model_A_epoch_180.pth\n"
     ]
    },
    {
     "name": "stderr",
     "output_type": "stream",
     "text": [
      "Iterating eval graphs: 100%|██████████| 71/71 [00:04<00:00, 16.56batch/s]\n",
      "Epoch 180/400, Loss: 0.5964, Train Acc: 0.6945, Val Acc: 0.6658\n"
     ]
    },
    {
     "name": "stdout",
     "output_type": "stream",
     "text": [
      "Epoch 180/400, Loss: 0.5964, Train Acc: 0.6945, Val Acc: 0.6658\n"
     ]
    },
    {
     "name": "stderr",
     "output_type": "stream",
     "text": [
      "Iterating training graphs: 100%|██████████| 282/282 [00:32<00:00,  8.77batch/s]\n",
      "Iterating eval graphs: 100%|██████████| 71/71 [00:04<00:00, 16.37batch/s]\n",
      "Epoch 181/400, Loss: 0.5940, Train Acc: 0.6928, Val Acc: 0.6684\n"
     ]
    },
    {
     "name": "stdout",
     "output_type": "stream",
     "text": [
      "Epoch 181/400, Loss: 0.5940, Train Acc: 0.6928, Val Acc: 0.6684\n"
     ]
    },
    {
     "name": "stderr",
     "output_type": "stream",
     "text": [
      "Iterating training graphs: 100%|██████████| 282/282 [00:32<00:00,  8.79batch/s]\n",
      "Iterating eval graphs: 100%|██████████| 71/71 [00:04<00:00, 16.68batch/s]\n",
      "Epoch 182/400, Loss: 0.5978, Train Acc: 0.6927, Val Acc: 0.6698\n"
     ]
    },
    {
     "name": "stdout",
     "output_type": "stream",
     "text": [
      "Epoch 182/400, Loss: 0.5978, Train Acc: 0.6927, Val Acc: 0.6698\n"
     ]
    },
    {
     "name": "stderr",
     "output_type": "stream",
     "text": [
      "Iterating training graphs: 100%|██████████| 282/282 [00:32<00:00,  8.76batch/s]\n",
      "Iterating eval graphs: 100%|██████████| 71/71 [00:04<00:00, 16.24batch/s]\n",
      "Epoch 183/400, Loss: 0.5929, Train Acc: 0.6929, Val Acc: 0.6676\n"
     ]
    },
    {
     "name": "stdout",
     "output_type": "stream",
     "text": [
      "Epoch 183/400, Loss: 0.5929, Train Acc: 0.6929, Val Acc: 0.6676\n"
     ]
    },
    {
     "name": "stderr",
     "output_type": "stream",
     "text": [
      "Iterating training graphs: 100%|██████████| 282/282 [00:32<00:00,  8.73batch/s]\n",
      "Iterating eval graphs: 100%|██████████| 71/71 [00:04<00:00, 16.58batch/s]\n",
      "Epoch 184/400, Loss: 0.5870, Train Acc: 0.6996, Val Acc: 0.6658\n"
     ]
    },
    {
     "name": "stdout",
     "output_type": "stream",
     "text": [
      "Epoch 184/400, Loss: 0.5870, Train Acc: 0.6996, Val Acc: 0.6658\n"
     ]
    },
    {
     "name": "stderr",
     "output_type": "stream",
     "text": [
      "Iterating training graphs: 100%|██████████| 282/282 [00:32<00:00,  8.73batch/s]\n",
      "Iterating eval graphs: 100%|██████████| 71/71 [00:04<00:00, 16.44batch/s]\n",
      "Epoch 185/400, Loss: 0.5846, Train Acc: 0.6999, Val Acc: 0.6702\n"
     ]
    },
    {
     "name": "stdout",
     "output_type": "stream",
     "text": [
      "Epoch 185/400, Loss: 0.5846, Train Acc: 0.6999, Val Acc: 0.6702\n"
     ]
    },
    {
     "name": "stderr",
     "output_type": "stream",
     "text": [
      "Iterating training graphs: 100%|██████████| 282/282 [00:32<00:00,  8.79batch/s]\n",
      "Iterating eval graphs: 100%|██████████| 71/71 [00:04<00:00, 16.61batch/s]\n",
      "Epoch 186/400, Loss: 0.5903, Train Acc: 0.6940, Val Acc: 0.6742\n"
     ]
    },
    {
     "name": "stdout",
     "output_type": "stream",
     "text": [
      "Epoch 186/400, Loss: 0.5903, Train Acc: 0.6940, Val Acc: 0.6742\n"
     ]
    },
    {
     "name": "stderr",
     "output_type": "stream",
     "text": [
      "Iterating training graphs: 100%|██████████| 282/282 [00:32<00:00,  8.76batch/s]\n",
      "Iterating eval graphs: 100%|██████████| 71/71 [00:04<00:00, 16.57batch/s]\n",
      "Epoch 187/400, Loss: 0.5848, Train Acc: 0.6971, Val Acc: 0.6636\n"
     ]
    },
    {
     "name": "stdout",
     "output_type": "stream",
     "text": [
      "Epoch 187/400, Loss: 0.5848, Train Acc: 0.6971, Val Acc: 0.6636\n"
     ]
    },
    {
     "name": "stderr",
     "output_type": "stream",
     "text": [
      "Iterating training graphs: 100%|██████████| 282/282 [00:32<00:00,  8.76batch/s]\n",
      "Iterating eval graphs: 100%|██████████| 71/71 [00:04<00:00, 16.03batch/s]\n",
      "Epoch 188/400, Loss: 0.5931, Train Acc: 0.6925, Val Acc: 0.6645\n"
     ]
    },
    {
     "name": "stdout",
     "output_type": "stream",
     "text": [
      "Epoch 188/400, Loss: 0.5931, Train Acc: 0.6925, Val Acc: 0.6645\n"
     ]
    },
    {
     "name": "stderr",
     "output_type": "stream",
     "text": [
      "Iterating training graphs: 100%|██████████| 282/282 [00:32<00:00,  8.70batch/s]\n",
      "Iterating eval graphs: 100%|██████████| 71/71 [00:04<00:00, 16.53batch/s]\n",
      "Epoch 189/400, Loss: 0.5842, Train Acc: 0.6982, Val Acc: 0.6676\n"
     ]
    },
    {
     "name": "stdout",
     "output_type": "stream",
     "text": [
      "Epoch 189/400, Loss: 0.5842, Train Acc: 0.6982, Val Acc: 0.6676\n"
     ]
    },
    {
     "name": "stderr",
     "output_type": "stream",
     "text": [
      "Iterating training graphs: 100%|██████████| 282/282 [00:32<00:00,  8.73batch/s]\n",
      "Iterating eval graphs: 100%|██████████| 71/71 [00:04<00:00, 16.55batch/s]\n",
      "Epoch 190/400, Loss: 0.5949, Train Acc: 0.6933, Val Acc: 0.6622\n"
     ]
    },
    {
     "name": "stdout",
     "output_type": "stream",
     "text": [
      "Epoch 190/400, Loss: 0.5949, Train Acc: 0.6933, Val Acc: 0.6622\n"
     ]
    },
    {
     "name": "stderr",
     "output_type": "stream",
     "text": [
      "Iterating training graphs: 100%|██████████| 282/282 [00:32<00:00,  8.72batch/s]\n",
      "Iterating eval graphs: 100%|██████████| 71/71 [00:04<00:00, 16.42batch/s]\n",
      "Epoch 191/400, Loss: 0.5870, Train Acc: 0.6939, Val Acc: 0.6658\n"
     ]
    },
    {
     "name": "stdout",
     "output_type": "stream",
     "text": [
      "Epoch 191/400, Loss: 0.5870, Train Acc: 0.6939, Val Acc: 0.6658\n"
     ]
    },
    {
     "name": "stderr",
     "output_type": "stream",
     "text": [
      "Iterating training graphs: 100%|██████████| 282/282 [00:32<00:00,  8.76batch/s]\n",
      "Iterating eval graphs: 100%|██████████| 71/71 [00:04<00:00, 15.80batch/s]\n",
      "Epoch 192/400, Loss: 0.5747, Train Acc: 0.7062, Val Acc: 0.6715\n"
     ]
    },
    {
     "name": "stdout",
     "output_type": "stream",
     "text": [
      "Epoch 192/400, Loss: 0.5747, Train Acc: 0.7062, Val Acc: 0.6715\n"
     ]
    },
    {
     "name": "stderr",
     "output_type": "stream",
     "text": [
      "Iterating training graphs: 100%|██████████| 282/282 [00:32<00:00,  8.74batch/s]\n",
      "Iterating eval graphs: 100%|██████████| 71/71 [00:04<00:00, 15.15batch/s]\n",
      "Epoch 193/400, Loss: 0.5731, Train Acc: 0.7032, Val Acc: 0.6698\n"
     ]
    },
    {
     "name": "stdout",
     "output_type": "stream",
     "text": [
      "Epoch 193/400, Loss: 0.5731, Train Acc: 0.7032, Val Acc: 0.6698\n"
     ]
    },
    {
     "name": "stderr",
     "output_type": "stream",
     "text": [
      "Iterating training graphs: 100%|██████████| 282/282 [00:32<00:00,  8.71batch/s]\n",
      "Iterating eval graphs: 100%|██████████| 71/71 [00:04<00:00, 16.55batch/s]\n",
      "Epoch 194/400, Loss: 0.5885, Train Acc: 0.6969, Val Acc: 0.6693\n"
     ]
    },
    {
     "name": "stdout",
     "output_type": "stream",
     "text": [
      "Epoch 194/400, Loss: 0.5885, Train Acc: 0.6969, Val Acc: 0.6693\n"
     ]
    },
    {
     "name": "stderr",
     "output_type": "stream",
     "text": [
      "Iterating training graphs: 100%|██████████| 282/282 [00:32<00:00,  8.73batch/s]\n",
      "Iterating eval graphs: 100%|██████████| 71/71 [00:04<00:00, 16.34batch/s]\n",
      "Epoch 195/400, Loss: 0.5809, Train Acc: 0.7001, Val Acc: 0.6662\n"
     ]
    },
    {
     "name": "stdout",
     "output_type": "stream",
     "text": [
      "Epoch 195/400, Loss: 0.5809, Train Acc: 0.7001, Val Acc: 0.6662\n"
     ]
    },
    {
     "name": "stderr",
     "output_type": "stream",
     "text": [
      "Iterating training graphs: 100%|██████████| 282/282 [00:32<00:00,  8.74batch/s]\n",
      "Iterating eval graphs: 100%|██████████| 71/71 [00:04<00:00, 16.60batch/s]\n",
      "Epoch 196/400, Loss: 0.5797, Train Acc: 0.7036, Val Acc: 0.6680\n"
     ]
    },
    {
     "name": "stdout",
     "output_type": "stream",
     "text": [
      "Epoch 196/400, Loss: 0.5797, Train Acc: 0.7036, Val Acc: 0.6680\n"
     ]
    },
    {
     "name": "stderr",
     "output_type": "stream",
     "text": [
      "Iterating training graphs: 100%|██████████| 282/282 [00:32<00:00,  8.80batch/s]\n",
      "Iterating eval graphs: 100%|██████████| 71/71 [00:04<00:00, 15.87batch/s]\n",
      "Epoch 197/400, Loss: 0.5820, Train Acc: 0.6999, Val Acc: 0.6636\n"
     ]
    },
    {
     "name": "stdout",
     "output_type": "stream",
     "text": [
      "Epoch 197/400, Loss: 0.5820, Train Acc: 0.6999, Val Acc: 0.6636\n"
     ]
    },
    {
     "name": "stderr",
     "output_type": "stream",
     "text": [
      "Iterating training graphs: 100%|██████████| 282/282 [00:32<00:00,  8.76batch/s]\n",
      "Iterating eval graphs: 100%|██████████| 71/71 [00:04<00:00, 16.31batch/s]\n",
      "Epoch 198/400, Loss: 0.5766, Train Acc: 0.7023, Val Acc: 0.6693\n"
     ]
    },
    {
     "name": "stdout",
     "output_type": "stream",
     "text": [
      "Epoch 198/400, Loss: 0.5766, Train Acc: 0.7023, Val Acc: 0.6693\n"
     ]
    },
    {
     "name": "stderr",
     "output_type": "stream",
     "text": [
      "Iterating training graphs: 100%|██████████| 282/282 [00:32<00:00,  8.77batch/s]\n",
      "Iterating eval graphs: 100%|██████████| 71/71 [00:04<00:00, 16.28batch/s]\n",
      "Epoch 199/400, Loss: 0.5720, Train Acc: 0.7046, Val Acc: 0.6676\n"
     ]
    },
    {
     "name": "stdout",
     "output_type": "stream",
     "text": [
      "Epoch 199/400, Loss: 0.5720, Train Acc: 0.7046, Val Acc: 0.6676\n"
     ]
    },
    {
     "name": "stderr",
     "output_type": "stream",
     "text": [
      "Iterating training graphs: 100%|██████████| 282/282 [00:32<00:00,  8.80batch/s]\n"
     ]
    },
    {
     "name": "stdout",
     "output_type": "stream",
     "text": [
      "Checkpoint saved at /home/onyxia/work/DL-Hackathon/hackaton/checkpoints/A/model_A_epoch_200.pth\n"
     ]
    },
    {
     "name": "stderr",
     "output_type": "stream",
     "text": [
      "Iterating eval graphs: 100%|██████████| 71/71 [00:04<00:00, 16.19batch/s]\n",
      "Epoch 200/400, Loss: 0.5730, Train Acc: 0.7055, Val Acc: 0.6653\n"
     ]
    },
    {
     "name": "stdout",
     "output_type": "stream",
     "text": [
      "Epoch 200/400, Loss: 0.5730, Train Acc: 0.7055, Val Acc: 0.6653\n"
     ]
    },
    {
     "name": "stderr",
     "output_type": "stream",
     "text": [
      "Iterating training graphs:   4%|▎         | 10/282 [00:01<00:31,  8.50batch/s]\n"
     ]
    },
    {
     "ename": "KeyboardInterrupt",
     "evalue": "",
     "output_type": "error",
     "traceback": [
      "\u001b[31m---------------------------------------------------------------------------\u001b[39m",
      "\u001b[31mKeyboardInterrupt\u001b[39m                         Traceback (most recent call last)",
      "\u001b[36mCell\u001b[39m\u001b[36m \u001b[39m\u001b[32mIn[21]\u001b[39m\u001b[32m, line 26\u001b[39m\n\u001b[32m     23\u001b[39m     checkpoint_intervals = [num_epochs]\n\u001b[32m     25\u001b[39m \u001b[38;5;28;01mfor\u001b[39;00m epoch \u001b[38;5;129;01min\u001b[39;00m \u001b[38;5;28mrange\u001b[39m(num_epochs):\n\u001b[32m---> \u001b[39m\u001b[32m26\u001b[39m     train_loss, train_acc = \u001b[43mtrain\u001b[49m\u001b[43m(\u001b[49m\n\u001b[32m     27\u001b[39m \u001b[43m        \u001b[49m\u001b[43mtrain_loader\u001b[49m\u001b[43m,\u001b[49m\u001b[43m \u001b[49m\u001b[43mmodel\u001b[49m\u001b[43m,\u001b[49m\u001b[43m \u001b[49m\u001b[43moptimizer\u001b[49m\u001b[43m,\u001b[49m\u001b[43m \u001b[49m\u001b[43mcriterion\u001b[49m\u001b[43m,\u001b[49m\u001b[43m \u001b[49m\u001b[43mdevice\u001b[49m\u001b[43m,\u001b[49m\n\u001b[32m     28\u001b[39m \u001b[43m        \u001b[49m\u001b[43msave_checkpoints\u001b[49m\u001b[43m=\u001b[49m\u001b[43m(\u001b[49m\u001b[43mepoch\u001b[49m\u001b[43m \u001b[49m\u001b[43m+\u001b[49m\u001b[43m \u001b[49m\u001b[32;43m1\u001b[39;49m\u001b[43m \u001b[49m\u001b[38;5;129;43;01min\u001b[39;49;00m\u001b[43m \u001b[49m\u001b[43mcheckpoint_intervals\u001b[49m\u001b[43m)\u001b[49m\u001b[43m,\u001b[49m\n\u001b[32m     29\u001b[39m \u001b[43m        \u001b[49m\u001b[43mcheckpoint_path\u001b[49m\u001b[43m=\u001b[49m\u001b[43mos\u001b[49m\u001b[43m.\u001b[49m\u001b[43mpath\u001b[49m\u001b[43m.\u001b[49m\u001b[43mjoin\u001b[49m\u001b[43m(\u001b[49m\u001b[43mcheckpoints_folder\u001b[49m\u001b[43m,\u001b[49m\u001b[43m \u001b[49m\u001b[33;43mf\u001b[39;49m\u001b[33;43m\"\u001b[39;49m\u001b[33;43mmodel_\u001b[39;49m\u001b[38;5;132;43;01m{\u001b[39;49;00m\u001b[43mtest_dir_name\u001b[49m\u001b[38;5;132;43;01m}\u001b[39;49;00m\u001b[33;43m\"\u001b[39;49m\u001b[43m)\u001b[49m\u001b[43m,\u001b[49m\n\u001b[32m     30\u001b[39m \u001b[43m        \u001b[49m\u001b[43mcurrent_epoch\u001b[49m\u001b[43m=\u001b[49m\u001b[43mepoch\u001b[49m\n\u001b[32m     31\u001b[39m \u001b[43m    \u001b[49m\u001b[43m)\u001b[49m\n\u001b[32m     33\u001b[39m     val_loss,val_acc = evaluate(val_loader, model, device, calculate_accuracy=\u001b[38;5;28;01mTrue\u001b[39;00m)\n\u001b[32m     35\u001b[39m     \u001b[38;5;28mprint\u001b[39m(\u001b[33mf\u001b[39m\u001b[33m\"\u001b[39m\u001b[33mEpoch \u001b[39m\u001b[38;5;132;01m{\u001b[39;00mepoch\u001b[38;5;250m \u001b[39m+\u001b[38;5;250m \u001b[39m\u001b[32m1\u001b[39m\u001b[38;5;132;01m}\u001b[39;00m\u001b[33m/\u001b[39m\u001b[38;5;132;01m{\u001b[39;00mnum_epochs\u001b[38;5;132;01m}\u001b[39;00m\u001b[33m, Loss: \u001b[39m\u001b[38;5;132;01m{\u001b[39;00mtrain_loss\u001b[38;5;132;01m:\u001b[39;00m\u001b[33m.4f\u001b[39m\u001b[38;5;132;01m}\u001b[39;00m\u001b[33m, Train Acc: \u001b[39m\u001b[38;5;132;01m{\u001b[39;00mtrain_acc\u001b[38;5;132;01m:\u001b[39;00m\u001b[33m.4f\u001b[39m\u001b[38;5;132;01m}\u001b[39;00m\u001b[33m, Val Acc: \u001b[39m\u001b[38;5;132;01m{\u001b[39;00mval_acc\u001b[38;5;132;01m:\u001b[39;00m\u001b[33m.4f\u001b[39m\u001b[38;5;132;01m}\u001b[39;00m\u001b[33m\"\u001b[39m)\n",
      "\u001b[36mCell\u001b[39m\u001b[36m \u001b[39m\u001b[32mIn[9]\u001b[39m\u001b[32m, line 11\u001b[39m, in \u001b[36mtrain\u001b[39m\u001b[34m(data_loader, model, optimizer, criterion, device, save_checkpoints, checkpoint_path, current_epoch)\u001b[39m\n\u001b[32m      9\u001b[39m output = model(data)\n\u001b[32m     10\u001b[39m loss = criterion(output, data.y)\n\u001b[32m---> \u001b[39m\u001b[32m11\u001b[39m \u001b[43mloss\u001b[49m\u001b[43m.\u001b[49m\u001b[43mbackward\u001b[49m\u001b[43m(\u001b[49m\u001b[43m)\u001b[49m\n\u001b[32m     12\u001b[39m optimizer.step()\n\u001b[32m     13\u001b[39m total_loss += loss.item()\n",
      "\u001b[36mFile \u001b[39m\u001b[32m/usr/local/lib/python3.12/site-packages/torch/_tensor.py:648\u001b[39m, in \u001b[36mTensor.backward\u001b[39m\u001b[34m(self, gradient, retain_graph, create_graph, inputs)\u001b[39m\n\u001b[32m    638\u001b[39m \u001b[38;5;28;01mif\u001b[39;00m has_torch_function_unary(\u001b[38;5;28mself\u001b[39m):\n\u001b[32m    639\u001b[39m     \u001b[38;5;28;01mreturn\u001b[39;00m handle_torch_function(\n\u001b[32m    640\u001b[39m         Tensor.backward,\n\u001b[32m    641\u001b[39m         (\u001b[38;5;28mself\u001b[39m,),\n\u001b[32m   (...)\u001b[39m\u001b[32m    646\u001b[39m         inputs=inputs,\n\u001b[32m    647\u001b[39m     )\n\u001b[32m--> \u001b[39m\u001b[32m648\u001b[39m \u001b[43mtorch\u001b[49m\u001b[43m.\u001b[49m\u001b[43mautograd\u001b[49m\u001b[43m.\u001b[49m\u001b[43mbackward\u001b[49m\u001b[43m(\u001b[49m\n\u001b[32m    649\u001b[39m \u001b[43m    \u001b[49m\u001b[38;5;28;43mself\u001b[39;49m\u001b[43m,\u001b[49m\u001b[43m \u001b[49m\u001b[43mgradient\u001b[49m\u001b[43m,\u001b[49m\u001b[43m \u001b[49m\u001b[43mretain_graph\u001b[49m\u001b[43m,\u001b[49m\u001b[43m \u001b[49m\u001b[43mcreate_graph\u001b[49m\u001b[43m,\u001b[49m\u001b[43m \u001b[49m\u001b[43minputs\u001b[49m\u001b[43m=\u001b[49m\u001b[43minputs\u001b[49m\n\u001b[32m    650\u001b[39m \u001b[43m\u001b[49m\u001b[43m)\u001b[49m\n",
      "\u001b[36mFile \u001b[39m\u001b[32m/usr/local/lib/python3.12/site-packages/torch/autograd/__init__.py:353\u001b[39m, in \u001b[36mbackward\u001b[39m\u001b[34m(tensors, grad_tensors, retain_graph, create_graph, grad_variables, inputs)\u001b[39m\n\u001b[32m    348\u001b[39m     retain_graph = create_graph\n\u001b[32m    350\u001b[39m \u001b[38;5;66;03m# The reason we repeat the same comment below is that\u001b[39;00m\n\u001b[32m    351\u001b[39m \u001b[38;5;66;03m# some Python versions print out the first line of a multi-line function\u001b[39;00m\n\u001b[32m    352\u001b[39m \u001b[38;5;66;03m# calls in the traceback and some print out the last line\u001b[39;00m\n\u001b[32m--> \u001b[39m\u001b[32m353\u001b[39m \u001b[43m_engine_run_backward\u001b[49m\u001b[43m(\u001b[49m\n\u001b[32m    354\u001b[39m \u001b[43m    \u001b[49m\u001b[43mtensors\u001b[49m\u001b[43m,\u001b[49m\n\u001b[32m    355\u001b[39m \u001b[43m    \u001b[49m\u001b[43mgrad_tensors_\u001b[49m\u001b[43m,\u001b[49m\n\u001b[32m    356\u001b[39m \u001b[43m    \u001b[49m\u001b[43mretain_graph\u001b[49m\u001b[43m,\u001b[49m\n\u001b[32m    357\u001b[39m \u001b[43m    \u001b[49m\u001b[43mcreate_graph\u001b[49m\u001b[43m,\u001b[49m\n\u001b[32m    358\u001b[39m \u001b[43m    \u001b[49m\u001b[43minputs\u001b[49m\u001b[43m,\u001b[49m\n\u001b[32m    359\u001b[39m \u001b[43m    \u001b[49m\u001b[43mallow_unreachable\u001b[49m\u001b[43m=\u001b[49m\u001b[38;5;28;43;01mTrue\u001b[39;49;00m\u001b[43m,\u001b[49m\n\u001b[32m    360\u001b[39m \u001b[43m    \u001b[49m\u001b[43maccumulate_grad\u001b[49m\u001b[43m=\u001b[49m\u001b[38;5;28;43;01mTrue\u001b[39;49;00m\u001b[43m,\u001b[49m\n\u001b[32m    361\u001b[39m \u001b[43m\u001b[49m\u001b[43m)\u001b[49m\n",
      "\u001b[36mFile \u001b[39m\u001b[32m/usr/local/lib/python3.12/site-packages/torch/autograd/graph.py:824\u001b[39m, in \u001b[36m_engine_run_backward\u001b[39m\u001b[34m(t_outputs, *args, **kwargs)\u001b[39m\n\u001b[32m    822\u001b[39m     unregister_hooks = _register_logging_hooks_on_whole_graph(t_outputs)\n\u001b[32m    823\u001b[39m \u001b[38;5;28;01mtry\u001b[39;00m:\n\u001b[32m--> \u001b[39m\u001b[32m824\u001b[39m     \u001b[38;5;28;01mreturn\u001b[39;00m \u001b[43mVariable\u001b[49m\u001b[43m.\u001b[49m\u001b[43m_execution_engine\u001b[49m\u001b[43m.\u001b[49m\u001b[43mrun_backward\u001b[49m\u001b[43m(\u001b[49m\u001b[43m  \u001b[49m\u001b[38;5;66;43;03m# Calls into the C++ engine to run the backward pass\u001b[39;49;00m\n\u001b[32m    825\u001b[39m \u001b[43m        \u001b[49m\u001b[43mt_outputs\u001b[49m\u001b[43m,\u001b[49m\u001b[43m \u001b[49m\u001b[43m*\u001b[49m\u001b[43margs\u001b[49m\u001b[43m,\u001b[49m\u001b[43m \u001b[49m\u001b[43m*\u001b[49m\u001b[43m*\u001b[49m\u001b[43mkwargs\u001b[49m\n\u001b[32m    826\u001b[39m \u001b[43m    \u001b[49m\u001b[43m)\u001b[49m  \u001b[38;5;66;03m# Calls into the C++ engine to run the backward pass\u001b[39;00m\n\u001b[32m    827\u001b[39m \u001b[38;5;28;01mfinally\u001b[39;00m:\n\u001b[32m    828\u001b[39m     \u001b[38;5;28;01mif\u001b[39;00m attach_logging_hooks:\n",
      "\u001b[31mKeyboardInterrupt\u001b[39m: "
     ]
    }
   ],
   "source": [
    "if args.train_path:\n",
    "    full_dataset = GraphDataset(args.train_path, transform=add_zeros)\n",
    "    val_size = int(0.2 * len(full_dataset))\n",
    "    train_size = len(full_dataset) - val_size\n",
    "    \n",
    "    generator = torch.Generator().manual_seed(12)\n",
    "    train_dataset, val_dataset = random_split(full_dataset, [train_size, val_size], generator=generator)\n",
    "\n",
    "    train_loader = DataLoader(train_dataset, batch_size=args.batch_size, shuffle=True)\n",
    "    val_loader = DataLoader(val_dataset, batch_size=args.batch_size, shuffle=False)\n",
    "\n",
    "    num_epochs = args.epochs\n",
    "    best_val_accuracy = 0.0   \n",
    "\n",
    "    train_losses = []\n",
    "    train_accuracies = []\n",
    "    val_losses = []\n",
    "    val_accuracies = []\n",
    "\n",
    "    if num_checkpoints > 1:\n",
    "        checkpoint_intervals = [int((i + 1) * num_epochs / num_checkpoints) for i in range(num_checkpoints)]\n",
    "    else:\n",
    "        checkpoint_intervals = [num_epochs]\n",
    "\n",
    "    for epoch in range(num_epochs):\n",
    "        train_loss, train_acc = train(\n",
    "            train_loader, model, optimizer, criterion, device,\n",
    "            save_checkpoints=(epoch + 1 in checkpoint_intervals),\n",
    "            checkpoint_path=os.path.join(checkpoints_folder, f\"model_{test_dir_name}\"),\n",
    "            current_epoch=epoch\n",
    "        )\n",
    "\n",
    "        val_loss,val_acc = evaluate(val_loader, model, device, calculate_accuracy=True)\n",
    "\n",
    "        print(f\"Epoch {epoch + 1}/{num_epochs}, Loss: {train_loss:.4f}, Train Acc: {train_acc:.4f}, Val Acc: {val_acc:.4f}\")\n",
    "        logging.info(f\"Epoch {epoch + 1}/{num_epochs}, Loss: {train_loss:.4f}, Train Acc: {train_acc:.4f}, Val Acc: {val_acc:.4f}\")\n",
    "\n",
    "        train_losses.append(train_loss)\n",
    "        train_accuracies.append(train_acc)\n",
    "        val_losses.append(val_loss)\n",
    "        val_accuracies.append(val_acc)\n",
    "\n",
    "        \n",
    "        if val_acc > best_val_accuracy:\n",
    "            best_val_accuracy = val_acc\n",
    "            torch.save(model.state_dict(), checkpoint_path)\n",
    "            print(f\"Best model updated and saved at {checkpoint_path}\")\n",
    "\n",
    "    plot_training_progress(train_losses, train_accuracies, os.path.join(logs_folder, \"plots\"))\n",
    "    plot_training_progress(val_losses, val_accuracies, os.path.join(logs_folder, \"plotsVal\"))"
   ]
  },
  {
   "cell_type": "code",
   "execution_count": null,
   "id": "278b42f2-8517-42ef-aa7e-f2005a620a4f",
   "metadata": {
    "papermill": {
     "duration": null,
     "end_time": null,
     "exception": null,
     "start_time": null,
     "status": "pending"
    },
    "tags": []
   },
   "outputs": [],
   "source": [
    "import gc\n",
    "del train_dataset\n",
    "del train_loader\n",
    "del full_dataset\n",
    "del val_dataset\n",
    "del val_loader\n",
    "gc.collect()"
   ]
  },
  {
   "cell_type": "code",
   "execution_count": null,
   "id": "13b4bc0b-21dc-4277-8836-5775ce58d874",
   "metadata": {
    "id": "xsXZIj4Mdu3I",
    "papermill": {
     "duration": null,
     "end_time": null,
     "exception": null,
     "start_time": null,
     "status": "pending"
    },
    "tags": []
   },
   "outputs": [],
   "source": [
    "test_dataset = GraphDataset(args.test_path, transform=add_zeros)\n",
    "test_loader = DataLoader(test_dataset, batch_size=args.batch_size, shuffle=False)\n",
    "    "
   ]
  },
  {
   "cell_type": "code",
   "execution_count": null,
   "id": "28a53284-09ac-4499-8876-fc640857dcea",
   "metadata": {
    "id": "x1OnGq_nCmTr",
    "papermill": {
     "duration": null,
     "end_time": null,
     "exception": null,
     "start_time": null,
     "status": "pending"
    },
    "tags": []
   },
   "outputs": [],
   "source": [
    "model.load_state_dict(torch.load(checkpoint_path))\n",
    "predictions = evaluate(test_loader, model, device, calculate_accuracy=False)\n",
    "save_predictions(predictions, args.test_path)"
   ]
  },
  {
   "cell_type": "markdown",
   "id": "de029d26-cbae-4fe5-9787-f67d11028818",
   "metadata": {},
   "source": [
    "# B"
   ]
  },
  {
   "cell_type": "code",
   "execution_count": 47,
   "id": "7464e4eb-0b2f-405f-b5ce-795286694a4a",
   "metadata": {},
   "outputs": [
    {
     "name": "stdin",
     "output_type": "stream",
     "text": [
      "Path to the training dataset (optional) [None]:  datasets/B/train.json.gz\n",
      "Path to the test dataset [None]:  datasets/B/test.json.gz\n",
      "Number of checkpoints to save during training [None]:  20\n",
      "Which GPU to use if any [1]:  \n",
      "GNN type (gin, gin-virtual, gcn, gcn-virtual) [gin]:  gcn-virtual\n",
      "Dropout ratio [0.0]:  0.5\n",
      "Number of GNN message passing layers [5]:  \n",
      "Dimensionality of hidden units in GNNs [300]:  \n",
      "Input batch size for training [32]:  \n",
      "Number of epochs to train [10]:  200\n",
      "Baseline mode: 1 (CE), 2 (Noisy CE) [1]:  2\n",
      "Noise probability p (used if baseline_mode=2) [0.2]:  \n"
     ]
    },
    {
     "name": "stdout",
     "output_type": "stream",
     "text": [
      "Arguments received:\n",
      "train_path: datasets/B/train.json.gz\n",
      "test_path: datasets/B/test.json.gz\n",
      "num_checkpoints: 20\n",
      "device: 1\n",
      "gnn: gcn-virtual\n",
      "drop_ratio: 0.5\n",
      "num_layer: 5\n",
      "emb_dim: 300\n",
      "batch_size: 32\n",
      "epochs: 200\n",
      "baseline_mode: 2\n",
      "noise_prob: 0.2\n"
     ]
    }
   ],
   "source": [
    "def populate_args(args):\n",
    "    print(\"Arguments received:\")\n",
    "    for key, value in vars(args).items():\n",
    "        print(f\"{key}: {value}\")\n",
    "args = get_arguments()\n",
    "populate_args(args)"
   ]
  },
  {
   "cell_type": "code",
   "execution_count": 48,
   "id": "a88add3c-e7e8-4844-8047-dd8538c39fbe",
   "metadata": {
    "papermill": {
     "duration": 0.118164,
     "end_time": "2025-05-21T16:25:02.850799",
     "exception": true,
     "start_time": "2025-05-21T16:25:02.732635",
     "status": "failed"
    },
    "tags": []
   },
   "outputs": [],
   "source": [
    "args.train_path = 'datasets/B/train.json.gz'\n",
    "args.test_path = 'datasets/B/test.json.gz'"
   ]
  },
  {
   "cell_type": "code",
   "execution_count": 49,
   "id": "a0bae7c0-2792-4a65-8a76-d18bd2bc89d3",
   "metadata": {
    "id": "lHX55XGECXBr",
    "papermill": {
     "duration": null,
     "end_time": null,
     "exception": null,
     "start_time": null,
     "status": "pending"
    },
    "tags": []
   },
   "outputs": [],
   "source": [
    "script_dir = os.getcwd() \n",
    "# device = torch.device(f\"cuda:{args.device}\" if torch.cuda.is_available() else \"cpu\")\n",
    "device = torch.device(\"cuda\" if torch.cuda.is_available() else \"cpu\")\n",
    "num_checkpoints = args.num_checkpoints if args.num_checkpoints else 3\n",
    "\n",
    "checkpoint_path = '/home/onyxia/work/DL-Hackathon/hackaton/checkpoints/pretrain_ABCD/model_pretrain_ABCD_best.pth'\n",
    "model.load_state_dict(torch.load(checkpoint_path))\n",
    "    \n",
    "optimizer = torch.optim.Adam(model.parameters(), lr=0.001)\n",
    "# criterion = torch.nn.CrossEntropyLoss()\n",
    "if args.baseline_mode == 2:\n",
    "    criterion = GCODLoss(gamma=0.2)\n",
    "else:\n",
    "    criterion = torch.nn.CrossEntropyLoss()"
   ]
  },
  {
   "cell_type": "code",
   "execution_count": 50,
   "id": "52cc7e58-43f4-43fa-ab5e-7650d8ceffbc",
   "metadata": {
    "id": "BTYT5jYuChPb",
    "papermill": {
     "duration": null,
     "end_time": null,
     "exception": null,
     "start_time": null,
     "status": "pending"
    },
    "tags": []
   },
   "outputs": [],
   "source": [
    "test_dir_name = os.path.basename(os.path.dirname(args.test_path))\n",
    "logs_folder = os.path.join(script_dir, \"logs\", test_dir_name)\n",
    "log_file = os.path.join(logs_folder, \"training.log\")\n",
    "os.makedirs(os.path.dirname(log_file), exist_ok=True)\n",
    "logging.basicConfig(filename=log_file, level=logging.INFO, format='%(asctime)s - %(message)s')\n",
    "logging.getLogger().addHandler(logging.StreamHandler())\n",
    "\n",
    "checkpoint_path = os.path.join(script_dir, \"checkpoints\", f\"model_{test_dir_name}_best.pth\")\n",
    "checkpoints_folder = os.path.join(script_dir, \"checkpoints\", test_dir_name)\n",
    "os.makedirs(checkpoints_folder, exist_ok=True)"
   ]
  },
  {
   "cell_type": "code",
   "execution_count": 51,
   "id": "88189503-21d9-414a-8de6-c1e194170ed6",
   "metadata": {
    "papermill": {
     "duration": null,
     "end_time": null,
     "exception": null,
     "start_time": null,
     "status": "pending"
    },
    "tags": []
   },
   "outputs": [],
   "source": [
    "if os.path.exists(checkpoint_path) and not args.train_path:\n",
    "    model.load_state_dict(torch.load(checkpoint_path))\n",
    "    print(f\"Loaded best model from {checkpoint_path}\")"
   ]
  },
  {
   "cell_type": "code",
   "execution_count": 52,
   "id": "4660432e-a7f2-4756-9c8c-a0c17888dab0",
   "metadata": {
    "papermill": {
     "duration": null,
     "end_time": null,
     "exception": null,
     "start_time": null,
     "status": "pending"
    },
    "scrolled": true,
    "tags": []
   },
   "outputs": [
    {
     "name": "stdout",
     "output_type": "stream",
     "text": [
      "Loading graphs from datasets/B/train.json.gz...\n",
      "This may take a few minutes, please wait...\n"
     ]
    },
    {
     "name": "stderr",
     "output_type": "stream",
     "text": [
      "Processing graphs: 100%|██████████| 5600/5600 [00:31<00:00, 176.30graph/s]\n",
      "Iterating training graphs: 100%|██████████| 140/140 [00:15<00:00,  8.80batch/s]\n",
      "Iterating eval graphs: 100%|██████████| 35/35 [00:02<00:00, 16.01batch/s]\n",
      "Epoch 1/200, Loss: 1.0634, Train Acc: 0.4031, Val Acc: 0.4607\n",
      "Epoch 1/200, Loss: 1.0634, Train Acc: 0.4031, Val Acc: 0.4607\n",
      "Epoch 1/200, Loss: 1.0634, Train Acc: 0.4031, Val Acc: 0.4607\n",
      "Epoch 1/200, Loss: 1.0634, Train Acc: 0.4031, Val Acc: 0.4607\n",
      "Epoch 1/200, Loss: 1.0634, Train Acc: 0.4031, Val Acc: 0.4607\n"
     ]
    },
    {
     "name": "stdout",
     "output_type": "stream",
     "text": [
      "Epoch 1/200, Loss: 1.0634, Train Acc: 0.4031, Val Acc: 0.4607\n",
      "Best model updated and saved at /home/onyxia/work/DL-Hackathon/hackaton/checkpoints/model_B_best.pth\n"
     ]
    },
    {
     "name": "stderr",
     "output_type": "stream",
     "text": [
      "Iterating training graphs: 100%|██████████| 140/140 [00:15<00:00,  8.79batch/s]\n",
      "Iterating eval graphs: 100%|██████████| 35/35 [00:02<00:00, 15.69batch/s]\n",
      "Epoch 2/200, Loss: 0.9761, Train Acc: 0.4951, Val Acc: 0.4768\n",
      "Epoch 2/200, Loss: 0.9761, Train Acc: 0.4951, Val Acc: 0.4768\n",
      "Epoch 2/200, Loss: 0.9761, Train Acc: 0.4951, Val Acc: 0.4768\n",
      "Epoch 2/200, Loss: 0.9761, Train Acc: 0.4951, Val Acc: 0.4768\n",
      "Epoch 2/200, Loss: 0.9761, Train Acc: 0.4951, Val Acc: 0.4768\n"
     ]
    },
    {
     "name": "stdout",
     "output_type": "stream",
     "text": [
      "Epoch 2/200, Loss: 0.9761, Train Acc: 0.4951, Val Acc: 0.4768\n",
      "Best model updated and saved at /home/onyxia/work/DL-Hackathon/hackaton/checkpoints/model_B_best.pth\n"
     ]
    },
    {
     "name": "stderr",
     "output_type": "stream",
     "text": [
      "Iterating training graphs: 100%|██████████| 140/140 [00:16<00:00,  8.72batch/s]\n",
      "Iterating eval graphs: 100%|██████████| 35/35 [00:02<00:00, 15.93batch/s]\n",
      "Epoch 3/200, Loss: 0.9530, Train Acc: 0.5121, Val Acc: 0.4562\n",
      "Epoch 3/200, Loss: 0.9530, Train Acc: 0.5121, Val Acc: 0.4562\n",
      "Epoch 3/200, Loss: 0.9530, Train Acc: 0.5121, Val Acc: 0.4562\n",
      "Epoch 3/200, Loss: 0.9530, Train Acc: 0.5121, Val Acc: 0.4562\n",
      "Epoch 3/200, Loss: 0.9530, Train Acc: 0.5121, Val Acc: 0.4562\n"
     ]
    },
    {
     "name": "stdout",
     "output_type": "stream",
     "text": [
      "Epoch 3/200, Loss: 0.9530, Train Acc: 0.5121, Val Acc: 0.4562\n"
     ]
    },
    {
     "name": "stderr",
     "output_type": "stream",
     "text": [
      "Iterating training graphs: 100%|██████████| 140/140 [00:15<00:00,  8.78batch/s]\n",
      "Iterating eval graphs: 100%|██████████| 35/35 [00:02<00:00, 15.95batch/s]\n",
      "Epoch 4/200, Loss: 0.9355, Train Acc: 0.5239, Val Acc: 0.4714\n",
      "Epoch 4/200, Loss: 0.9355, Train Acc: 0.5239, Val Acc: 0.4714\n",
      "Epoch 4/200, Loss: 0.9355, Train Acc: 0.5239, Val Acc: 0.4714\n",
      "Epoch 4/200, Loss: 0.9355, Train Acc: 0.5239, Val Acc: 0.4714\n",
      "Epoch 4/200, Loss: 0.9355, Train Acc: 0.5239, Val Acc: 0.4714\n"
     ]
    },
    {
     "name": "stdout",
     "output_type": "stream",
     "text": [
      "Epoch 4/200, Loss: 0.9355, Train Acc: 0.5239, Val Acc: 0.4714\n"
     ]
    },
    {
     "name": "stderr",
     "output_type": "stream",
     "text": [
      "Iterating training graphs: 100%|██████████| 140/140 [00:15<00:00,  8.82batch/s]\n",
      "Iterating eval graphs: 100%|██████████| 35/35 [00:02<00:00, 15.86batch/s]\n",
      "Epoch 5/200, Loss: 0.9266, Train Acc: 0.5275, Val Acc: 0.5411\n",
      "Epoch 5/200, Loss: 0.9266, Train Acc: 0.5275, Val Acc: 0.5411\n",
      "Epoch 5/200, Loss: 0.9266, Train Acc: 0.5275, Val Acc: 0.5411\n",
      "Epoch 5/200, Loss: 0.9266, Train Acc: 0.5275, Val Acc: 0.5411\n",
      "Epoch 5/200, Loss: 0.9266, Train Acc: 0.5275, Val Acc: 0.5411\n"
     ]
    },
    {
     "name": "stdout",
     "output_type": "stream",
     "text": [
      "Epoch 5/200, Loss: 0.9266, Train Acc: 0.5275, Val Acc: 0.5411\n",
      "Best model updated and saved at /home/onyxia/work/DL-Hackathon/hackaton/checkpoints/model_B_best.pth\n"
     ]
    },
    {
     "name": "stderr",
     "output_type": "stream",
     "text": [
      "Iterating training graphs: 100%|██████████| 140/140 [00:16<00:00,  8.73batch/s]\n",
      "Iterating eval graphs: 100%|██████████| 35/35 [00:02<00:00, 15.83batch/s]\n",
      "Epoch 6/200, Loss: 0.9072, Train Acc: 0.5422, Val Acc: 0.4804\n",
      "Epoch 6/200, Loss: 0.9072, Train Acc: 0.5422, Val Acc: 0.4804\n",
      "Epoch 6/200, Loss: 0.9072, Train Acc: 0.5422, Val Acc: 0.4804\n",
      "Epoch 6/200, Loss: 0.9072, Train Acc: 0.5422, Val Acc: 0.4804\n",
      "Epoch 6/200, Loss: 0.9072, Train Acc: 0.5422, Val Acc: 0.4804\n"
     ]
    },
    {
     "name": "stdout",
     "output_type": "stream",
     "text": [
      "Epoch 6/200, Loss: 0.9072, Train Acc: 0.5422, Val Acc: 0.4804\n"
     ]
    },
    {
     "name": "stderr",
     "output_type": "stream",
     "text": [
      "Iterating training graphs: 100%|██████████| 140/140 [00:16<00:00,  8.70batch/s]\n",
      "Iterating eval graphs: 100%|██████████| 35/35 [00:02<00:00, 15.48batch/s]\n",
      "Epoch 7/200, Loss: 0.9024, Train Acc: 0.5471, Val Acc: 0.3991\n",
      "Epoch 7/200, Loss: 0.9024, Train Acc: 0.5471, Val Acc: 0.3991\n",
      "Epoch 7/200, Loss: 0.9024, Train Acc: 0.5471, Val Acc: 0.3991\n",
      "Epoch 7/200, Loss: 0.9024, Train Acc: 0.5471, Val Acc: 0.3991\n",
      "Epoch 7/200, Loss: 0.9024, Train Acc: 0.5471, Val Acc: 0.3991\n"
     ]
    },
    {
     "name": "stdout",
     "output_type": "stream",
     "text": [
      "Epoch 7/200, Loss: 0.9024, Train Acc: 0.5471, Val Acc: 0.3991\n"
     ]
    },
    {
     "name": "stderr",
     "output_type": "stream",
     "text": [
      "Iterating training graphs: 100%|██████████| 140/140 [00:16<00:00,  8.73batch/s]\n",
      "Iterating eval graphs: 100%|██████████| 35/35 [00:02<00:00, 15.81batch/s]\n",
      "Epoch 8/200, Loss: 0.8885, Train Acc: 0.5518, Val Acc: 0.5170\n",
      "Epoch 8/200, Loss: 0.8885, Train Acc: 0.5518, Val Acc: 0.5170\n",
      "Epoch 8/200, Loss: 0.8885, Train Acc: 0.5518, Val Acc: 0.5170\n",
      "Epoch 8/200, Loss: 0.8885, Train Acc: 0.5518, Val Acc: 0.5170\n",
      "Epoch 8/200, Loss: 0.8885, Train Acc: 0.5518, Val Acc: 0.5170\n"
     ]
    },
    {
     "name": "stdout",
     "output_type": "stream",
     "text": [
      "Epoch 8/200, Loss: 0.8885, Train Acc: 0.5518, Val Acc: 0.5170\n"
     ]
    },
    {
     "name": "stderr",
     "output_type": "stream",
     "text": [
      "Iterating training graphs: 100%|██████████| 140/140 [00:15<00:00,  8.78batch/s]\n",
      "Iterating eval graphs: 100%|██████████| 35/35 [00:02<00:00, 15.80batch/s]\n",
      "Epoch 9/200, Loss: 0.8804, Train Acc: 0.5540, Val Acc: 0.5304\n",
      "Epoch 9/200, Loss: 0.8804, Train Acc: 0.5540, Val Acc: 0.5304\n",
      "Epoch 9/200, Loss: 0.8804, Train Acc: 0.5540, Val Acc: 0.5304\n",
      "Epoch 9/200, Loss: 0.8804, Train Acc: 0.5540, Val Acc: 0.5304\n",
      "Epoch 9/200, Loss: 0.8804, Train Acc: 0.5540, Val Acc: 0.5304\n"
     ]
    },
    {
     "name": "stdout",
     "output_type": "stream",
     "text": [
      "Epoch 9/200, Loss: 0.8804, Train Acc: 0.5540, Val Acc: 0.5304\n"
     ]
    },
    {
     "name": "stderr",
     "output_type": "stream",
     "text": [
      "Iterating training graphs: 100%|██████████| 140/140 [00:16<00:00,  8.75batch/s]\n"
     ]
    },
    {
     "name": "stdout",
     "output_type": "stream",
     "text": [
      "Checkpoint saved at /home/onyxia/work/DL-Hackathon/hackaton/checkpoints/B/model_B_epoch_10.pth\n"
     ]
    },
    {
     "name": "stderr",
     "output_type": "stream",
     "text": [
      "Iterating eval graphs: 100%|██████████| 35/35 [00:02<00:00, 15.67batch/s]\n",
      "Epoch 10/200, Loss: 0.8726, Train Acc: 0.5585, Val Acc: 0.5366\n",
      "Epoch 10/200, Loss: 0.8726, Train Acc: 0.5585, Val Acc: 0.5366\n",
      "Epoch 10/200, Loss: 0.8726, Train Acc: 0.5585, Val Acc: 0.5366\n",
      "Epoch 10/200, Loss: 0.8726, Train Acc: 0.5585, Val Acc: 0.5366\n",
      "Epoch 10/200, Loss: 0.8726, Train Acc: 0.5585, Val Acc: 0.5366\n"
     ]
    },
    {
     "name": "stdout",
     "output_type": "stream",
     "text": [
      "Epoch 10/200, Loss: 0.8726, Train Acc: 0.5585, Val Acc: 0.5366\n"
     ]
    },
    {
     "name": "stderr",
     "output_type": "stream",
     "text": [
      "Iterating training graphs: 100%|██████████| 140/140 [00:16<00:00,  8.66batch/s]\n",
      "Iterating eval graphs: 100%|██████████| 35/35 [00:02<00:00, 15.97batch/s]\n",
      "Epoch 11/200, Loss: 0.8671, Train Acc: 0.5612, Val Acc: 0.5437\n",
      "Epoch 11/200, Loss: 0.8671, Train Acc: 0.5612, Val Acc: 0.5437\n",
      "Epoch 11/200, Loss: 0.8671, Train Acc: 0.5612, Val Acc: 0.5437\n",
      "Epoch 11/200, Loss: 0.8671, Train Acc: 0.5612, Val Acc: 0.5437\n",
      "Epoch 11/200, Loss: 0.8671, Train Acc: 0.5612, Val Acc: 0.5437\n"
     ]
    },
    {
     "name": "stdout",
     "output_type": "stream",
     "text": [
      "Epoch 11/200, Loss: 0.8671, Train Acc: 0.5612, Val Acc: 0.5437\n",
      "Best model updated and saved at /home/onyxia/work/DL-Hackathon/hackaton/checkpoints/model_B_best.pth\n"
     ]
    },
    {
     "name": "stderr",
     "output_type": "stream",
     "text": [
      "Iterating training graphs: 100%|██████████| 140/140 [00:16<00:00,  8.74batch/s]\n",
      "Iterating eval graphs: 100%|██████████| 35/35 [00:02<00:00, 15.40batch/s]\n",
      "Epoch 12/200, Loss: 0.8543, Train Acc: 0.5676, Val Acc: 0.5384\n",
      "Epoch 12/200, Loss: 0.8543, Train Acc: 0.5676, Val Acc: 0.5384\n",
      "Epoch 12/200, Loss: 0.8543, Train Acc: 0.5676, Val Acc: 0.5384\n",
      "Epoch 12/200, Loss: 0.8543, Train Acc: 0.5676, Val Acc: 0.5384\n",
      "Epoch 12/200, Loss: 0.8543, Train Acc: 0.5676, Val Acc: 0.5384\n"
     ]
    },
    {
     "name": "stdout",
     "output_type": "stream",
     "text": [
      "Epoch 12/200, Loss: 0.8543, Train Acc: 0.5676, Val Acc: 0.5384\n"
     ]
    },
    {
     "name": "stderr",
     "output_type": "stream",
     "text": [
      "Iterating training graphs: 100%|██████████| 140/140 [00:16<00:00,  8.75batch/s]\n",
      "Iterating eval graphs: 100%|██████████| 35/35 [00:02<00:00, 15.86batch/s]\n",
      "Epoch 13/200, Loss: 0.8533, Train Acc: 0.5701, Val Acc: 0.5330\n",
      "Epoch 13/200, Loss: 0.8533, Train Acc: 0.5701, Val Acc: 0.5330\n",
      "Epoch 13/200, Loss: 0.8533, Train Acc: 0.5701, Val Acc: 0.5330\n",
      "Epoch 13/200, Loss: 0.8533, Train Acc: 0.5701, Val Acc: 0.5330\n",
      "Epoch 13/200, Loss: 0.8533, Train Acc: 0.5701, Val Acc: 0.5330\n"
     ]
    },
    {
     "name": "stdout",
     "output_type": "stream",
     "text": [
      "Epoch 13/200, Loss: 0.8533, Train Acc: 0.5701, Val Acc: 0.5330\n"
     ]
    },
    {
     "name": "stderr",
     "output_type": "stream",
     "text": [
      "Iterating training graphs: 100%|██████████| 140/140 [00:16<00:00,  8.72batch/s]\n",
      "Iterating eval graphs: 100%|██████████| 35/35 [00:02<00:00, 16.08batch/s]\n",
      "Epoch 14/200, Loss: 0.8431, Train Acc: 0.5705, Val Acc: 0.5491\n",
      "Epoch 14/200, Loss: 0.8431, Train Acc: 0.5705, Val Acc: 0.5491\n",
      "Epoch 14/200, Loss: 0.8431, Train Acc: 0.5705, Val Acc: 0.5491\n",
      "Epoch 14/200, Loss: 0.8431, Train Acc: 0.5705, Val Acc: 0.5491\n",
      "Epoch 14/200, Loss: 0.8431, Train Acc: 0.5705, Val Acc: 0.5491\n"
     ]
    },
    {
     "name": "stdout",
     "output_type": "stream",
     "text": [
      "Epoch 14/200, Loss: 0.8431, Train Acc: 0.5705, Val Acc: 0.5491\n",
      "Best model updated and saved at /home/onyxia/work/DL-Hackathon/hackaton/checkpoints/model_B_best.pth\n"
     ]
    },
    {
     "name": "stderr",
     "output_type": "stream",
     "text": [
      "Iterating training graphs: 100%|██████████| 140/140 [00:15<00:00,  8.76batch/s]\n",
      "Iterating eval graphs: 100%|██████████| 35/35 [00:02<00:00, 16.01batch/s]\n",
      "Epoch 15/200, Loss: 0.8309, Train Acc: 0.5797, Val Acc: 0.5330\n",
      "Epoch 15/200, Loss: 0.8309, Train Acc: 0.5797, Val Acc: 0.5330\n",
      "Epoch 15/200, Loss: 0.8309, Train Acc: 0.5797, Val Acc: 0.5330\n",
      "Epoch 15/200, Loss: 0.8309, Train Acc: 0.5797, Val Acc: 0.5330\n",
      "Epoch 15/200, Loss: 0.8309, Train Acc: 0.5797, Val Acc: 0.5330\n"
     ]
    },
    {
     "name": "stdout",
     "output_type": "stream",
     "text": [
      "Epoch 15/200, Loss: 0.8309, Train Acc: 0.5797, Val Acc: 0.5330\n"
     ]
    },
    {
     "name": "stderr",
     "output_type": "stream",
     "text": [
      "Iterating training graphs: 100%|██████████| 140/140 [00:16<00:00,  8.73batch/s]\n",
      "Iterating eval graphs: 100%|██████████| 35/35 [00:02<00:00, 15.75batch/s]\n",
      "Epoch 16/200, Loss: 0.8298, Train Acc: 0.5754, Val Acc: 0.5321\n",
      "Epoch 16/200, Loss: 0.8298, Train Acc: 0.5754, Val Acc: 0.5321\n",
      "Epoch 16/200, Loss: 0.8298, Train Acc: 0.5754, Val Acc: 0.5321\n",
      "Epoch 16/200, Loss: 0.8298, Train Acc: 0.5754, Val Acc: 0.5321\n",
      "Epoch 16/200, Loss: 0.8298, Train Acc: 0.5754, Val Acc: 0.5321\n"
     ]
    },
    {
     "name": "stdout",
     "output_type": "stream",
     "text": [
      "Epoch 16/200, Loss: 0.8298, Train Acc: 0.5754, Val Acc: 0.5321\n"
     ]
    },
    {
     "name": "stderr",
     "output_type": "stream",
     "text": [
      "Iterating training graphs: 100%|██████████| 140/140 [00:15<00:00,  8.76batch/s]\n",
      "Iterating eval graphs: 100%|██████████| 35/35 [00:02<00:00, 15.77batch/s]\n",
      "Epoch 17/200, Loss: 0.8249, Train Acc: 0.5752, Val Acc: 0.5304\n",
      "Epoch 17/200, Loss: 0.8249, Train Acc: 0.5752, Val Acc: 0.5304\n",
      "Epoch 17/200, Loss: 0.8249, Train Acc: 0.5752, Val Acc: 0.5304\n",
      "Epoch 17/200, Loss: 0.8249, Train Acc: 0.5752, Val Acc: 0.5304\n",
      "Epoch 17/200, Loss: 0.8249, Train Acc: 0.5752, Val Acc: 0.5304\n"
     ]
    },
    {
     "name": "stdout",
     "output_type": "stream",
     "text": [
      "Epoch 17/200, Loss: 0.8249, Train Acc: 0.5752, Val Acc: 0.5304\n"
     ]
    },
    {
     "name": "stderr",
     "output_type": "stream",
     "text": [
      "Iterating training graphs: 100%|██████████| 140/140 [00:15<00:00,  8.79batch/s]\n",
      "Iterating eval graphs: 100%|██████████| 35/35 [00:02<00:00, 15.87batch/s]\n",
      "Epoch 18/200, Loss: 0.8129, Train Acc: 0.5830, Val Acc: 0.5036\n",
      "Epoch 18/200, Loss: 0.8129, Train Acc: 0.5830, Val Acc: 0.5036\n",
      "Epoch 18/200, Loss: 0.8129, Train Acc: 0.5830, Val Acc: 0.5036\n",
      "Epoch 18/200, Loss: 0.8129, Train Acc: 0.5830, Val Acc: 0.5036\n",
      "Epoch 18/200, Loss: 0.8129, Train Acc: 0.5830, Val Acc: 0.5036\n"
     ]
    },
    {
     "name": "stdout",
     "output_type": "stream",
     "text": [
      "Epoch 18/200, Loss: 0.8129, Train Acc: 0.5830, Val Acc: 0.5036\n"
     ]
    },
    {
     "name": "stderr",
     "output_type": "stream",
     "text": [
      "Iterating training graphs: 100%|██████████| 140/140 [00:15<00:00,  8.79batch/s]\n",
      "Iterating eval graphs: 100%|██████████| 35/35 [00:02<00:00, 15.73batch/s]\n",
      "Epoch 19/200, Loss: 0.8071, Train Acc: 0.5924, Val Acc: 0.5089\n",
      "Epoch 19/200, Loss: 0.8071, Train Acc: 0.5924, Val Acc: 0.5089\n",
      "Epoch 19/200, Loss: 0.8071, Train Acc: 0.5924, Val Acc: 0.5089\n",
      "Epoch 19/200, Loss: 0.8071, Train Acc: 0.5924, Val Acc: 0.5089\n",
      "Epoch 19/200, Loss: 0.8071, Train Acc: 0.5924, Val Acc: 0.5089\n"
     ]
    },
    {
     "name": "stdout",
     "output_type": "stream",
     "text": [
      "Epoch 19/200, Loss: 0.8071, Train Acc: 0.5924, Val Acc: 0.5089\n"
     ]
    },
    {
     "name": "stderr",
     "output_type": "stream",
     "text": [
      "Iterating training graphs: 100%|██████████| 140/140 [00:15<00:00,  8.83batch/s]\n"
     ]
    },
    {
     "name": "stdout",
     "output_type": "stream",
     "text": [
      "Checkpoint saved at /home/onyxia/work/DL-Hackathon/hackaton/checkpoints/B/model_B_epoch_20.pth\n"
     ]
    },
    {
     "name": "stderr",
     "output_type": "stream",
     "text": [
      "Iterating eval graphs: 100%|██████████| 35/35 [00:02<00:00, 16.12batch/s]\n",
      "Epoch 20/200, Loss: 0.8019, Train Acc: 0.5830, Val Acc: 0.5062\n",
      "Epoch 20/200, Loss: 0.8019, Train Acc: 0.5830, Val Acc: 0.5062\n",
      "Epoch 20/200, Loss: 0.8019, Train Acc: 0.5830, Val Acc: 0.5062\n",
      "Epoch 20/200, Loss: 0.8019, Train Acc: 0.5830, Val Acc: 0.5062\n",
      "Epoch 20/200, Loss: 0.8019, Train Acc: 0.5830, Val Acc: 0.5062\n"
     ]
    },
    {
     "name": "stdout",
     "output_type": "stream",
     "text": [
      "Epoch 20/200, Loss: 0.8019, Train Acc: 0.5830, Val Acc: 0.5062\n"
     ]
    },
    {
     "name": "stderr",
     "output_type": "stream",
     "text": [
      "Iterating training graphs: 100%|██████████| 140/140 [00:16<00:00,  8.74batch/s]\n",
      "Iterating eval graphs: 100%|██████████| 35/35 [00:02<00:00, 15.88batch/s]\n",
      "Epoch 21/200, Loss: 0.7890, Train Acc: 0.5944, Val Acc: 0.5464\n",
      "Epoch 21/200, Loss: 0.7890, Train Acc: 0.5944, Val Acc: 0.5464\n",
      "Epoch 21/200, Loss: 0.7890, Train Acc: 0.5944, Val Acc: 0.5464\n",
      "Epoch 21/200, Loss: 0.7890, Train Acc: 0.5944, Val Acc: 0.5464\n",
      "Epoch 21/200, Loss: 0.7890, Train Acc: 0.5944, Val Acc: 0.5464\n"
     ]
    },
    {
     "name": "stdout",
     "output_type": "stream",
     "text": [
      "Epoch 21/200, Loss: 0.7890, Train Acc: 0.5944, Val Acc: 0.5464\n"
     ]
    },
    {
     "name": "stderr",
     "output_type": "stream",
     "text": [
      "Iterating training graphs: 100%|██████████| 140/140 [00:16<00:00,  8.74batch/s]\n",
      "Iterating eval graphs: 100%|██████████| 35/35 [00:02<00:00, 16.01batch/s]\n",
      "Epoch 22/200, Loss: 0.7846, Train Acc: 0.5973, Val Acc: 0.5321\n",
      "Epoch 22/200, Loss: 0.7846, Train Acc: 0.5973, Val Acc: 0.5321\n",
      "Epoch 22/200, Loss: 0.7846, Train Acc: 0.5973, Val Acc: 0.5321\n",
      "Epoch 22/200, Loss: 0.7846, Train Acc: 0.5973, Val Acc: 0.5321\n",
      "Epoch 22/200, Loss: 0.7846, Train Acc: 0.5973, Val Acc: 0.5321\n"
     ]
    },
    {
     "name": "stdout",
     "output_type": "stream",
     "text": [
      "Epoch 22/200, Loss: 0.7846, Train Acc: 0.5973, Val Acc: 0.5321\n"
     ]
    },
    {
     "name": "stderr",
     "output_type": "stream",
     "text": [
      "Iterating training graphs: 100%|██████████| 140/140 [00:15<00:00,  8.78batch/s]\n",
      "Iterating eval graphs: 100%|██████████| 35/35 [00:02<00:00, 16.08batch/s]\n",
      "Epoch 23/200, Loss: 0.7772, Train Acc: 0.5982, Val Acc: 0.4866\n",
      "Epoch 23/200, Loss: 0.7772, Train Acc: 0.5982, Val Acc: 0.4866\n",
      "Epoch 23/200, Loss: 0.7772, Train Acc: 0.5982, Val Acc: 0.4866\n",
      "Epoch 23/200, Loss: 0.7772, Train Acc: 0.5982, Val Acc: 0.4866\n",
      "Epoch 23/200, Loss: 0.7772, Train Acc: 0.5982, Val Acc: 0.4866\n"
     ]
    },
    {
     "name": "stdout",
     "output_type": "stream",
     "text": [
      "Epoch 23/200, Loss: 0.7772, Train Acc: 0.5982, Val Acc: 0.4866\n"
     ]
    },
    {
     "name": "stderr",
     "output_type": "stream",
     "text": [
      "Iterating training graphs: 100%|██████████| 140/140 [00:15<00:00,  8.76batch/s]\n",
      "Iterating eval graphs: 100%|██████████| 35/35 [00:02<00:00, 15.81batch/s]\n",
      "Epoch 24/200, Loss: 0.7743, Train Acc: 0.6002, Val Acc: 0.5330\n",
      "Epoch 24/200, Loss: 0.7743, Train Acc: 0.6002, Val Acc: 0.5330\n",
      "Epoch 24/200, Loss: 0.7743, Train Acc: 0.6002, Val Acc: 0.5330\n",
      "Epoch 24/200, Loss: 0.7743, Train Acc: 0.6002, Val Acc: 0.5330\n",
      "Epoch 24/200, Loss: 0.7743, Train Acc: 0.6002, Val Acc: 0.5330\n"
     ]
    },
    {
     "name": "stdout",
     "output_type": "stream",
     "text": [
      "Epoch 24/200, Loss: 0.7743, Train Acc: 0.6002, Val Acc: 0.5330\n"
     ]
    },
    {
     "name": "stderr",
     "output_type": "stream",
     "text": [
      "Iterating training graphs: 100%|██████████| 140/140 [00:15<00:00,  8.86batch/s]\n",
      "Iterating eval graphs: 100%|██████████| 35/35 [00:02<00:00, 16.21batch/s]\n",
      "Epoch 25/200, Loss: 0.7603, Train Acc: 0.6103, Val Acc: 0.4964\n",
      "Epoch 25/200, Loss: 0.7603, Train Acc: 0.6103, Val Acc: 0.4964\n",
      "Epoch 25/200, Loss: 0.7603, Train Acc: 0.6103, Val Acc: 0.4964\n",
      "Epoch 25/200, Loss: 0.7603, Train Acc: 0.6103, Val Acc: 0.4964\n",
      "Epoch 25/200, Loss: 0.7603, Train Acc: 0.6103, Val Acc: 0.4964\n"
     ]
    },
    {
     "name": "stdout",
     "output_type": "stream",
     "text": [
      "Epoch 25/200, Loss: 0.7603, Train Acc: 0.6103, Val Acc: 0.4964\n"
     ]
    },
    {
     "name": "stderr",
     "output_type": "stream",
     "text": [
      "Iterating training graphs: 100%|██████████| 140/140 [00:15<00:00,  8.81batch/s]\n",
      "Iterating eval graphs: 100%|██████████| 35/35 [00:02<00:00, 16.04batch/s]\n",
      "Epoch 26/200, Loss: 0.7538, Train Acc: 0.6121, Val Acc: 0.5134\n",
      "Epoch 26/200, Loss: 0.7538, Train Acc: 0.6121, Val Acc: 0.5134\n",
      "Epoch 26/200, Loss: 0.7538, Train Acc: 0.6121, Val Acc: 0.5134\n",
      "Epoch 26/200, Loss: 0.7538, Train Acc: 0.6121, Val Acc: 0.5134\n",
      "Epoch 26/200, Loss: 0.7538, Train Acc: 0.6121, Val Acc: 0.5134\n"
     ]
    },
    {
     "name": "stdout",
     "output_type": "stream",
     "text": [
      "Epoch 26/200, Loss: 0.7538, Train Acc: 0.6121, Val Acc: 0.5134\n"
     ]
    },
    {
     "name": "stderr",
     "output_type": "stream",
     "text": [
      "Iterating training graphs: 100%|██████████| 140/140 [00:15<00:00,  8.84batch/s]\n",
      "Iterating eval graphs: 100%|██████████| 35/35 [00:02<00:00, 15.77batch/s]\n",
      "Epoch 27/200, Loss: 0.7544, Train Acc: 0.6103, Val Acc: 0.5089\n",
      "Epoch 27/200, Loss: 0.7544, Train Acc: 0.6103, Val Acc: 0.5089\n",
      "Epoch 27/200, Loss: 0.7544, Train Acc: 0.6103, Val Acc: 0.5089\n",
      "Epoch 27/200, Loss: 0.7544, Train Acc: 0.6103, Val Acc: 0.5089\n",
      "Epoch 27/200, Loss: 0.7544, Train Acc: 0.6103, Val Acc: 0.5089\n"
     ]
    },
    {
     "name": "stdout",
     "output_type": "stream",
     "text": [
      "Epoch 27/200, Loss: 0.7544, Train Acc: 0.6103, Val Acc: 0.5089\n"
     ]
    },
    {
     "name": "stderr",
     "output_type": "stream",
     "text": [
      "Iterating training graphs: 100%|██████████| 140/140 [00:15<00:00,  8.82batch/s]\n",
      "Iterating eval graphs: 100%|██████████| 35/35 [00:02<00:00, 15.81batch/s]\n",
      "Epoch 28/200, Loss: 0.7427, Train Acc: 0.6092, Val Acc: 0.5223\n",
      "Epoch 28/200, Loss: 0.7427, Train Acc: 0.6092, Val Acc: 0.5223\n",
      "Epoch 28/200, Loss: 0.7427, Train Acc: 0.6092, Val Acc: 0.5223\n",
      "Epoch 28/200, Loss: 0.7427, Train Acc: 0.6092, Val Acc: 0.5223\n",
      "Epoch 28/200, Loss: 0.7427, Train Acc: 0.6092, Val Acc: 0.5223\n"
     ]
    },
    {
     "name": "stdout",
     "output_type": "stream",
     "text": [
      "Epoch 28/200, Loss: 0.7427, Train Acc: 0.6092, Val Acc: 0.5223\n"
     ]
    },
    {
     "name": "stderr",
     "output_type": "stream",
     "text": [
      "Iterating training graphs: 100%|██████████| 140/140 [00:16<00:00,  8.73batch/s]\n",
      "Iterating eval graphs: 100%|██████████| 35/35 [00:02<00:00, 16.21batch/s]\n",
      "Epoch 29/200, Loss: 0.7408, Train Acc: 0.6136, Val Acc: 0.5000\n",
      "Epoch 29/200, Loss: 0.7408, Train Acc: 0.6136, Val Acc: 0.5000\n",
      "Epoch 29/200, Loss: 0.7408, Train Acc: 0.6136, Val Acc: 0.5000\n",
      "Epoch 29/200, Loss: 0.7408, Train Acc: 0.6136, Val Acc: 0.5000\n",
      "Epoch 29/200, Loss: 0.7408, Train Acc: 0.6136, Val Acc: 0.5000\n"
     ]
    },
    {
     "name": "stdout",
     "output_type": "stream",
     "text": [
      "Epoch 29/200, Loss: 0.7408, Train Acc: 0.6136, Val Acc: 0.5000\n"
     ]
    },
    {
     "name": "stderr",
     "output_type": "stream",
     "text": [
      "Iterating training graphs: 100%|██████████| 140/140 [00:15<00:00,  8.78batch/s]\n"
     ]
    },
    {
     "name": "stdout",
     "output_type": "stream",
     "text": [
      "Checkpoint saved at /home/onyxia/work/DL-Hackathon/hackaton/checkpoints/B/model_B_epoch_30.pth\n"
     ]
    },
    {
     "name": "stderr",
     "output_type": "stream",
     "text": [
      "Iterating eval graphs: 100%|██████████| 35/35 [00:02<00:00, 15.30batch/s]\n",
      "Epoch 30/200, Loss: 0.7198, Train Acc: 0.6243, Val Acc: 0.5027\n",
      "Epoch 30/200, Loss: 0.7198, Train Acc: 0.6243, Val Acc: 0.5027\n",
      "Epoch 30/200, Loss: 0.7198, Train Acc: 0.6243, Val Acc: 0.5027\n",
      "Epoch 30/200, Loss: 0.7198, Train Acc: 0.6243, Val Acc: 0.5027\n",
      "Epoch 30/200, Loss: 0.7198, Train Acc: 0.6243, Val Acc: 0.5027\n"
     ]
    },
    {
     "name": "stdout",
     "output_type": "stream",
     "text": [
      "Epoch 30/200, Loss: 0.7198, Train Acc: 0.6243, Val Acc: 0.5027\n"
     ]
    },
    {
     "name": "stderr",
     "output_type": "stream",
     "text": [
      "Iterating training graphs: 100%|██████████| 140/140 [00:15<00:00,  8.83batch/s]\n",
      "Iterating eval graphs: 100%|██████████| 35/35 [00:02<00:00, 15.81batch/s]\n",
      "Epoch 31/200, Loss: 0.7221, Train Acc: 0.6248, Val Acc: 0.5161\n",
      "Epoch 31/200, Loss: 0.7221, Train Acc: 0.6248, Val Acc: 0.5161\n",
      "Epoch 31/200, Loss: 0.7221, Train Acc: 0.6248, Val Acc: 0.5161\n",
      "Epoch 31/200, Loss: 0.7221, Train Acc: 0.6248, Val Acc: 0.5161\n",
      "Epoch 31/200, Loss: 0.7221, Train Acc: 0.6248, Val Acc: 0.5161\n"
     ]
    },
    {
     "name": "stdout",
     "output_type": "stream",
     "text": [
      "Epoch 31/200, Loss: 0.7221, Train Acc: 0.6248, Val Acc: 0.5161\n"
     ]
    },
    {
     "name": "stderr",
     "output_type": "stream",
     "text": [
      "Iterating training graphs: 100%|██████████| 140/140 [00:16<00:00,  8.73batch/s]\n",
      "Iterating eval graphs: 100%|██████████| 35/35 [00:02<00:00, 15.47batch/s]\n",
      "Epoch 32/200, Loss: 0.7148, Train Acc: 0.6297, Val Acc: 0.5009\n",
      "Epoch 32/200, Loss: 0.7148, Train Acc: 0.6297, Val Acc: 0.5009\n",
      "Epoch 32/200, Loss: 0.7148, Train Acc: 0.6297, Val Acc: 0.5009\n",
      "Epoch 32/200, Loss: 0.7148, Train Acc: 0.6297, Val Acc: 0.5009\n",
      "Epoch 32/200, Loss: 0.7148, Train Acc: 0.6297, Val Acc: 0.5009\n"
     ]
    },
    {
     "name": "stdout",
     "output_type": "stream",
     "text": [
      "Epoch 32/200, Loss: 0.7148, Train Acc: 0.6297, Val Acc: 0.5009\n"
     ]
    },
    {
     "name": "stderr",
     "output_type": "stream",
     "text": [
      "Iterating training graphs: 100%|██████████| 140/140 [00:15<00:00,  8.81batch/s]\n",
      "Iterating eval graphs: 100%|██████████| 35/35 [00:02<00:00, 15.87batch/s]\n",
      "Epoch 33/200, Loss: 0.7037, Train Acc: 0.6304, Val Acc: 0.4821\n",
      "Epoch 33/200, Loss: 0.7037, Train Acc: 0.6304, Val Acc: 0.4821\n",
      "Epoch 33/200, Loss: 0.7037, Train Acc: 0.6304, Val Acc: 0.4821\n",
      "Epoch 33/200, Loss: 0.7037, Train Acc: 0.6304, Val Acc: 0.4821\n",
      "Epoch 33/200, Loss: 0.7037, Train Acc: 0.6304, Val Acc: 0.4821\n"
     ]
    },
    {
     "name": "stdout",
     "output_type": "stream",
     "text": [
      "Epoch 33/200, Loss: 0.7037, Train Acc: 0.6304, Val Acc: 0.4821\n"
     ]
    },
    {
     "name": "stderr",
     "output_type": "stream",
     "text": [
      "Iterating training graphs: 100%|██████████| 140/140 [00:15<00:00,  8.77batch/s]\n",
      "Iterating eval graphs: 100%|██████████| 35/35 [00:02<00:00, 15.94batch/s]\n",
      "Epoch 34/200, Loss: 0.6989, Train Acc: 0.6301, Val Acc: 0.5062\n",
      "Epoch 34/200, Loss: 0.6989, Train Acc: 0.6301, Val Acc: 0.5062\n",
      "Epoch 34/200, Loss: 0.6989, Train Acc: 0.6301, Val Acc: 0.5062\n",
      "Epoch 34/200, Loss: 0.6989, Train Acc: 0.6301, Val Acc: 0.5062\n",
      "Epoch 34/200, Loss: 0.6989, Train Acc: 0.6301, Val Acc: 0.5062\n"
     ]
    },
    {
     "name": "stdout",
     "output_type": "stream",
     "text": [
      "Epoch 34/200, Loss: 0.6989, Train Acc: 0.6301, Val Acc: 0.5062\n"
     ]
    },
    {
     "name": "stderr",
     "output_type": "stream",
     "text": [
      "Iterating training graphs: 100%|██████████| 140/140 [00:15<00:00,  8.82batch/s]\n",
      "Iterating eval graphs: 100%|██████████| 35/35 [00:02<00:00, 15.95batch/s]\n",
      "Epoch 35/200, Loss: 0.6920, Train Acc: 0.6386, Val Acc: 0.5125\n",
      "Epoch 35/200, Loss: 0.6920, Train Acc: 0.6386, Val Acc: 0.5125\n",
      "Epoch 35/200, Loss: 0.6920, Train Acc: 0.6386, Val Acc: 0.5125\n",
      "Epoch 35/200, Loss: 0.6920, Train Acc: 0.6386, Val Acc: 0.5125\n",
      "Epoch 35/200, Loss: 0.6920, Train Acc: 0.6386, Val Acc: 0.5125\n"
     ]
    },
    {
     "name": "stdout",
     "output_type": "stream",
     "text": [
      "Epoch 35/200, Loss: 0.6920, Train Acc: 0.6386, Val Acc: 0.5125\n"
     ]
    },
    {
     "name": "stderr",
     "output_type": "stream",
     "text": [
      "Iterating training graphs: 100%|██████████| 140/140 [00:15<00:00,  8.77batch/s]\n",
      "Iterating eval graphs: 100%|██████████| 35/35 [00:02<00:00, 16.04batch/s]\n",
      "Epoch 36/200, Loss: 0.6920, Train Acc: 0.6324, Val Acc: 0.4884\n",
      "Epoch 36/200, Loss: 0.6920, Train Acc: 0.6324, Val Acc: 0.4884\n",
      "Epoch 36/200, Loss: 0.6920, Train Acc: 0.6324, Val Acc: 0.4884\n",
      "Epoch 36/200, Loss: 0.6920, Train Acc: 0.6324, Val Acc: 0.4884\n",
      "Epoch 36/200, Loss: 0.6920, Train Acc: 0.6324, Val Acc: 0.4884\n"
     ]
    },
    {
     "name": "stdout",
     "output_type": "stream",
     "text": [
      "Epoch 36/200, Loss: 0.6920, Train Acc: 0.6324, Val Acc: 0.4884\n"
     ]
    },
    {
     "name": "stderr",
     "output_type": "stream",
     "text": [
      "Iterating training graphs: 100%|██████████| 140/140 [00:15<00:00,  8.79batch/s]\n",
      "Iterating eval graphs: 100%|██████████| 35/35 [00:02<00:00, 16.02batch/s]\n",
      "Epoch 37/200, Loss: 0.6716, Train Acc: 0.6484, Val Acc: 0.4643\n",
      "Epoch 37/200, Loss: 0.6716, Train Acc: 0.6484, Val Acc: 0.4643\n",
      "Epoch 37/200, Loss: 0.6716, Train Acc: 0.6484, Val Acc: 0.4643\n",
      "Epoch 37/200, Loss: 0.6716, Train Acc: 0.6484, Val Acc: 0.4643\n",
      "Epoch 37/200, Loss: 0.6716, Train Acc: 0.6484, Val Acc: 0.4643\n"
     ]
    },
    {
     "name": "stdout",
     "output_type": "stream",
     "text": [
      "Epoch 37/200, Loss: 0.6716, Train Acc: 0.6484, Val Acc: 0.4643\n"
     ]
    },
    {
     "name": "stderr",
     "output_type": "stream",
     "text": [
      "Iterating training graphs: 100%|██████████| 140/140 [00:15<00:00,  8.79batch/s]\n",
      "Iterating eval graphs: 100%|██████████| 35/35 [00:02<00:00, 16.01batch/s]\n",
      "Epoch 38/200, Loss: 0.6709, Train Acc: 0.6513, Val Acc: 0.4920\n",
      "Epoch 38/200, Loss: 0.6709, Train Acc: 0.6513, Val Acc: 0.4920\n",
      "Epoch 38/200, Loss: 0.6709, Train Acc: 0.6513, Val Acc: 0.4920\n",
      "Epoch 38/200, Loss: 0.6709, Train Acc: 0.6513, Val Acc: 0.4920\n",
      "Epoch 38/200, Loss: 0.6709, Train Acc: 0.6513, Val Acc: 0.4920\n"
     ]
    },
    {
     "name": "stdout",
     "output_type": "stream",
     "text": [
      "Epoch 38/200, Loss: 0.6709, Train Acc: 0.6513, Val Acc: 0.4920\n"
     ]
    },
    {
     "name": "stderr",
     "output_type": "stream",
     "text": [
      "Iterating training graphs: 100%|██████████| 140/140 [00:16<00:00,  8.72batch/s]\n",
      "Iterating eval graphs: 100%|██████████| 35/35 [00:02<00:00, 15.86batch/s]\n",
      "Epoch 39/200, Loss: 0.6636, Train Acc: 0.6502, Val Acc: 0.4786\n",
      "Epoch 39/200, Loss: 0.6636, Train Acc: 0.6502, Val Acc: 0.4786\n",
      "Epoch 39/200, Loss: 0.6636, Train Acc: 0.6502, Val Acc: 0.4786\n",
      "Epoch 39/200, Loss: 0.6636, Train Acc: 0.6502, Val Acc: 0.4786\n",
      "Epoch 39/200, Loss: 0.6636, Train Acc: 0.6502, Val Acc: 0.4786\n"
     ]
    },
    {
     "name": "stdout",
     "output_type": "stream",
     "text": [
      "Epoch 39/200, Loss: 0.6636, Train Acc: 0.6502, Val Acc: 0.4786\n"
     ]
    },
    {
     "name": "stderr",
     "output_type": "stream",
     "text": [
      "Iterating training graphs: 100%|██████████| 140/140 [00:15<00:00,  8.79batch/s]\n"
     ]
    },
    {
     "name": "stdout",
     "output_type": "stream",
     "text": [
      "Checkpoint saved at /home/onyxia/work/DL-Hackathon/hackaton/checkpoints/B/model_B_epoch_40.pth\n"
     ]
    },
    {
     "name": "stderr",
     "output_type": "stream",
     "text": [
      "Iterating eval graphs: 100%|██████████| 35/35 [00:02<00:00, 15.88batch/s]\n",
      "Epoch 40/200, Loss: 0.6598, Train Acc: 0.6542, Val Acc: 0.4920\n",
      "Epoch 40/200, Loss: 0.6598, Train Acc: 0.6542, Val Acc: 0.4920\n",
      "Epoch 40/200, Loss: 0.6598, Train Acc: 0.6542, Val Acc: 0.4920\n",
      "Epoch 40/200, Loss: 0.6598, Train Acc: 0.6542, Val Acc: 0.4920\n",
      "Epoch 40/200, Loss: 0.6598, Train Acc: 0.6542, Val Acc: 0.4920\n"
     ]
    },
    {
     "name": "stdout",
     "output_type": "stream",
     "text": [
      "Epoch 40/200, Loss: 0.6598, Train Acc: 0.6542, Val Acc: 0.4920\n"
     ]
    },
    {
     "name": "stderr",
     "output_type": "stream",
     "text": [
      "Iterating training graphs: 100%|██████████| 140/140 [00:15<00:00,  8.79batch/s]\n",
      "Iterating eval graphs: 100%|██████████| 35/35 [00:02<00:00, 15.78batch/s]\n",
      "Epoch 41/200, Loss: 0.6539, Train Acc: 0.6520, Val Acc: 0.4759\n",
      "Epoch 41/200, Loss: 0.6539, Train Acc: 0.6520, Val Acc: 0.4759\n",
      "Epoch 41/200, Loss: 0.6539, Train Acc: 0.6520, Val Acc: 0.4759\n",
      "Epoch 41/200, Loss: 0.6539, Train Acc: 0.6520, Val Acc: 0.4759\n",
      "Epoch 41/200, Loss: 0.6539, Train Acc: 0.6520, Val Acc: 0.4759\n"
     ]
    },
    {
     "name": "stdout",
     "output_type": "stream",
     "text": [
      "Epoch 41/200, Loss: 0.6539, Train Acc: 0.6520, Val Acc: 0.4759\n"
     ]
    },
    {
     "name": "stderr",
     "output_type": "stream",
     "text": [
      "Iterating training graphs: 100%|██████████| 140/140 [00:15<00:00,  8.77batch/s]\n",
      "Iterating eval graphs: 100%|██████████| 35/35 [00:02<00:00, 15.86batch/s]\n",
      "Epoch 42/200, Loss: 0.6411, Train Acc: 0.6627, Val Acc: 0.4741\n",
      "Epoch 42/200, Loss: 0.6411, Train Acc: 0.6627, Val Acc: 0.4741\n",
      "Epoch 42/200, Loss: 0.6411, Train Acc: 0.6627, Val Acc: 0.4741\n",
      "Epoch 42/200, Loss: 0.6411, Train Acc: 0.6627, Val Acc: 0.4741\n",
      "Epoch 42/200, Loss: 0.6411, Train Acc: 0.6627, Val Acc: 0.4741\n"
     ]
    },
    {
     "name": "stdout",
     "output_type": "stream",
     "text": [
      "Epoch 42/200, Loss: 0.6411, Train Acc: 0.6627, Val Acc: 0.4741\n"
     ]
    },
    {
     "name": "stderr",
     "output_type": "stream",
     "text": [
      "Iterating training graphs: 100%|██████████| 140/140 [00:15<00:00,  8.77batch/s]\n",
      "Iterating eval graphs: 100%|██████████| 35/35 [00:02<00:00, 16.10batch/s]\n",
      "Epoch 43/200, Loss: 0.6337, Train Acc: 0.6638, Val Acc: 0.4429\n",
      "Epoch 43/200, Loss: 0.6337, Train Acc: 0.6638, Val Acc: 0.4429\n",
      "Epoch 43/200, Loss: 0.6337, Train Acc: 0.6638, Val Acc: 0.4429\n",
      "Epoch 43/200, Loss: 0.6337, Train Acc: 0.6638, Val Acc: 0.4429\n",
      "Epoch 43/200, Loss: 0.6337, Train Acc: 0.6638, Val Acc: 0.4429\n"
     ]
    },
    {
     "name": "stdout",
     "output_type": "stream",
     "text": [
      "Epoch 43/200, Loss: 0.6337, Train Acc: 0.6638, Val Acc: 0.4429\n"
     ]
    },
    {
     "name": "stderr",
     "output_type": "stream",
     "text": [
      "Iterating training graphs: 100%|██████████| 140/140 [00:16<00:00,  8.74batch/s]\n",
      "Iterating eval graphs: 100%|██████████| 35/35 [00:02<00:00, 15.94batch/s]\n",
      "Epoch 44/200, Loss: 0.6324, Train Acc: 0.6672, Val Acc: 0.3946\n",
      "Epoch 44/200, Loss: 0.6324, Train Acc: 0.6672, Val Acc: 0.3946\n",
      "Epoch 44/200, Loss: 0.6324, Train Acc: 0.6672, Val Acc: 0.3946\n",
      "Epoch 44/200, Loss: 0.6324, Train Acc: 0.6672, Val Acc: 0.3946\n",
      "Epoch 44/200, Loss: 0.6324, Train Acc: 0.6672, Val Acc: 0.3946\n"
     ]
    },
    {
     "name": "stdout",
     "output_type": "stream",
     "text": [
      "Epoch 44/200, Loss: 0.6324, Train Acc: 0.6672, Val Acc: 0.3946\n"
     ]
    },
    {
     "name": "stderr",
     "output_type": "stream",
     "text": [
      "Iterating training graphs: 100%|██████████| 140/140 [00:15<00:00,  8.87batch/s]\n",
      "Iterating eval graphs: 100%|██████████| 35/35 [00:02<00:00, 15.05batch/s]\n",
      "Epoch 45/200, Loss: 0.6252, Train Acc: 0.6685, Val Acc: 0.4446\n",
      "Epoch 45/200, Loss: 0.6252, Train Acc: 0.6685, Val Acc: 0.4446\n",
      "Epoch 45/200, Loss: 0.6252, Train Acc: 0.6685, Val Acc: 0.4446\n",
      "Epoch 45/200, Loss: 0.6252, Train Acc: 0.6685, Val Acc: 0.4446\n",
      "Epoch 45/200, Loss: 0.6252, Train Acc: 0.6685, Val Acc: 0.4446\n"
     ]
    },
    {
     "name": "stdout",
     "output_type": "stream",
     "text": [
      "Epoch 45/200, Loss: 0.6252, Train Acc: 0.6685, Val Acc: 0.4446\n"
     ]
    },
    {
     "name": "stderr",
     "output_type": "stream",
     "text": [
      "Iterating training graphs: 100%|██████████| 140/140 [00:15<00:00,  8.84batch/s]\n",
      "Iterating eval graphs: 100%|██████████| 35/35 [00:02<00:00, 15.97batch/s]\n",
      "Epoch 46/200, Loss: 0.6216, Train Acc: 0.6705, Val Acc: 0.4580\n",
      "Epoch 46/200, Loss: 0.6216, Train Acc: 0.6705, Val Acc: 0.4580\n",
      "Epoch 46/200, Loss: 0.6216, Train Acc: 0.6705, Val Acc: 0.4580\n",
      "Epoch 46/200, Loss: 0.6216, Train Acc: 0.6705, Val Acc: 0.4580\n",
      "Epoch 46/200, Loss: 0.6216, Train Acc: 0.6705, Val Acc: 0.4580\n"
     ]
    },
    {
     "name": "stdout",
     "output_type": "stream",
     "text": [
      "Epoch 46/200, Loss: 0.6216, Train Acc: 0.6705, Val Acc: 0.4580\n"
     ]
    },
    {
     "name": "stderr",
     "output_type": "stream",
     "text": [
      "Iterating training graphs: 100%|██████████| 140/140 [00:15<00:00,  8.82batch/s]\n",
      "Iterating eval graphs: 100%|██████████| 35/35 [00:02<00:00, 16.03batch/s]\n",
      "Epoch 47/200, Loss: 0.6181, Train Acc: 0.6730, Val Acc: 0.4393\n",
      "Epoch 47/200, Loss: 0.6181, Train Acc: 0.6730, Val Acc: 0.4393\n",
      "Epoch 47/200, Loss: 0.6181, Train Acc: 0.6730, Val Acc: 0.4393\n",
      "Epoch 47/200, Loss: 0.6181, Train Acc: 0.6730, Val Acc: 0.4393\n",
      "Epoch 47/200, Loss: 0.6181, Train Acc: 0.6730, Val Acc: 0.4393\n"
     ]
    },
    {
     "name": "stdout",
     "output_type": "stream",
     "text": [
      "Epoch 47/200, Loss: 0.6181, Train Acc: 0.6730, Val Acc: 0.4393\n"
     ]
    },
    {
     "name": "stderr",
     "output_type": "stream",
     "text": [
      "Iterating training graphs: 100%|██████████| 140/140 [00:15<00:00,  8.79batch/s]\n",
      "Iterating eval graphs: 100%|██████████| 35/35 [00:02<00:00, 15.95batch/s]\n",
      "Epoch 48/200, Loss: 0.6166, Train Acc: 0.6728, Val Acc: 0.4348\n",
      "Epoch 48/200, Loss: 0.6166, Train Acc: 0.6728, Val Acc: 0.4348\n",
      "Epoch 48/200, Loss: 0.6166, Train Acc: 0.6728, Val Acc: 0.4348\n",
      "Epoch 48/200, Loss: 0.6166, Train Acc: 0.6728, Val Acc: 0.4348\n",
      "Epoch 48/200, Loss: 0.6166, Train Acc: 0.6728, Val Acc: 0.4348\n"
     ]
    },
    {
     "name": "stdout",
     "output_type": "stream",
     "text": [
      "Epoch 48/200, Loss: 0.6166, Train Acc: 0.6728, Val Acc: 0.4348\n"
     ]
    },
    {
     "name": "stderr",
     "output_type": "stream",
     "text": [
      "Iterating training graphs: 100%|██████████| 140/140 [00:15<00:00,  8.78batch/s]\n",
      "Iterating eval graphs: 100%|██████████| 35/35 [00:02<00:00, 15.57batch/s]\n",
      "Epoch 49/200, Loss: 0.5998, Train Acc: 0.6817, Val Acc: 0.4830\n",
      "Epoch 49/200, Loss: 0.5998, Train Acc: 0.6817, Val Acc: 0.4830\n",
      "Epoch 49/200, Loss: 0.5998, Train Acc: 0.6817, Val Acc: 0.4830\n",
      "Epoch 49/200, Loss: 0.5998, Train Acc: 0.6817, Val Acc: 0.4830\n",
      "Epoch 49/200, Loss: 0.5998, Train Acc: 0.6817, Val Acc: 0.4830\n"
     ]
    },
    {
     "name": "stdout",
     "output_type": "stream",
     "text": [
      "Epoch 49/200, Loss: 0.5998, Train Acc: 0.6817, Val Acc: 0.4830\n"
     ]
    },
    {
     "name": "stderr",
     "output_type": "stream",
     "text": [
      "Iterating training graphs: 100%|██████████| 140/140 [00:15<00:00,  8.78batch/s]\n"
     ]
    },
    {
     "name": "stdout",
     "output_type": "stream",
     "text": [
      "Checkpoint saved at /home/onyxia/work/DL-Hackathon/hackaton/checkpoints/B/model_B_epoch_50.pth\n"
     ]
    },
    {
     "name": "stderr",
     "output_type": "stream",
     "text": [
      "Iterating eval graphs: 100%|██████████| 35/35 [00:02<00:00, 15.91batch/s]\n",
      "Epoch 50/200, Loss: 0.5958, Train Acc: 0.6839, Val Acc: 0.4473\n",
      "Epoch 50/200, Loss: 0.5958, Train Acc: 0.6839, Val Acc: 0.4473\n",
      "Epoch 50/200, Loss: 0.5958, Train Acc: 0.6839, Val Acc: 0.4473\n",
      "Epoch 50/200, Loss: 0.5958, Train Acc: 0.6839, Val Acc: 0.4473\n",
      "Epoch 50/200, Loss: 0.5958, Train Acc: 0.6839, Val Acc: 0.4473\n"
     ]
    },
    {
     "name": "stdout",
     "output_type": "stream",
     "text": [
      "Epoch 50/200, Loss: 0.5958, Train Acc: 0.6839, Val Acc: 0.4473\n"
     ]
    },
    {
     "name": "stderr",
     "output_type": "stream",
     "text": [
      "Iterating training graphs: 100%|██████████| 140/140 [00:15<00:00,  8.81batch/s]\n",
      "Iterating eval graphs: 100%|██████████| 35/35 [00:02<00:00, 15.94batch/s]\n",
      "Epoch 51/200, Loss: 0.5904, Train Acc: 0.6819, Val Acc: 0.4527\n",
      "Epoch 51/200, Loss: 0.5904, Train Acc: 0.6819, Val Acc: 0.4527\n",
      "Epoch 51/200, Loss: 0.5904, Train Acc: 0.6819, Val Acc: 0.4527\n",
      "Epoch 51/200, Loss: 0.5904, Train Acc: 0.6819, Val Acc: 0.4527\n",
      "Epoch 51/200, Loss: 0.5904, Train Acc: 0.6819, Val Acc: 0.4527\n"
     ]
    },
    {
     "name": "stdout",
     "output_type": "stream",
     "text": [
      "Epoch 51/200, Loss: 0.5904, Train Acc: 0.6819, Val Acc: 0.4527\n"
     ]
    },
    {
     "name": "stderr",
     "output_type": "stream",
     "text": [
      "Iterating training graphs: 100%|██████████| 140/140 [00:16<00:00,  8.73batch/s]\n",
      "Iterating eval graphs: 100%|██████████| 35/35 [00:02<00:00, 16.15batch/s]\n",
      "Epoch 52/200, Loss: 0.5710, Train Acc: 0.6929, Val Acc: 0.4661\n",
      "Epoch 52/200, Loss: 0.5710, Train Acc: 0.6929, Val Acc: 0.4661\n",
      "Epoch 52/200, Loss: 0.5710, Train Acc: 0.6929, Val Acc: 0.4661\n",
      "Epoch 52/200, Loss: 0.5710, Train Acc: 0.6929, Val Acc: 0.4661\n",
      "Epoch 52/200, Loss: 0.5710, Train Acc: 0.6929, Val Acc: 0.4661\n"
     ]
    },
    {
     "name": "stdout",
     "output_type": "stream",
     "text": [
      "Epoch 52/200, Loss: 0.5710, Train Acc: 0.6929, Val Acc: 0.4661\n"
     ]
    },
    {
     "name": "stderr",
     "output_type": "stream",
     "text": [
      "Iterating training graphs: 100%|██████████| 140/140 [00:15<00:00,  8.84batch/s]\n",
      "Iterating eval graphs: 100%|██████████| 35/35 [00:02<00:00, 15.80batch/s]\n",
      "Epoch 53/200, Loss: 0.5931, Train Acc: 0.6779, Val Acc: 0.4562\n",
      "Epoch 53/200, Loss: 0.5931, Train Acc: 0.6779, Val Acc: 0.4562\n",
      "Epoch 53/200, Loss: 0.5931, Train Acc: 0.6779, Val Acc: 0.4562\n",
      "Epoch 53/200, Loss: 0.5931, Train Acc: 0.6779, Val Acc: 0.4562\n",
      "Epoch 53/200, Loss: 0.5931, Train Acc: 0.6779, Val Acc: 0.4562\n"
     ]
    },
    {
     "name": "stdout",
     "output_type": "stream",
     "text": [
      "Epoch 53/200, Loss: 0.5931, Train Acc: 0.6779, Val Acc: 0.4562\n"
     ]
    },
    {
     "name": "stderr",
     "output_type": "stream",
     "text": [
      "Iterating training graphs:  86%|████████▌ | 120/140 [00:13<00:02,  8.74batch/s]\n"
     ]
    },
    {
     "ename": "KeyboardInterrupt",
     "evalue": "",
     "output_type": "error",
     "traceback": [
      "\u001b[31m---------------------------------------------------------------------------\u001b[39m",
      "\u001b[31mKeyboardInterrupt\u001b[39m                         Traceback (most recent call last)",
      "\u001b[36mCell\u001b[39m\u001b[36m \u001b[39m\u001b[32mIn[52]\u001b[39m\u001b[32m, line 26\u001b[39m\n\u001b[32m     23\u001b[39m     checkpoint_intervals = [num_epochs]\n\u001b[32m     25\u001b[39m \u001b[38;5;28;01mfor\u001b[39;00m epoch \u001b[38;5;129;01min\u001b[39;00m \u001b[38;5;28mrange\u001b[39m(num_epochs):\n\u001b[32m---> \u001b[39m\u001b[32m26\u001b[39m     train_loss, train_acc = \u001b[43mtrain\u001b[49m\u001b[43m(\u001b[49m\n\u001b[32m     27\u001b[39m \u001b[43m        \u001b[49m\u001b[43mtrain_loader\u001b[49m\u001b[43m,\u001b[49m\u001b[43m \u001b[49m\u001b[43mmodel\u001b[49m\u001b[43m,\u001b[49m\u001b[43m \u001b[49m\u001b[43moptimizer\u001b[49m\u001b[43m,\u001b[49m\u001b[43m \u001b[49m\u001b[43mcriterion\u001b[49m\u001b[43m,\u001b[49m\u001b[43m \u001b[49m\u001b[43mdevice\u001b[49m\u001b[43m,\u001b[49m\n\u001b[32m     28\u001b[39m \u001b[43m        \u001b[49m\u001b[43msave_checkpoints\u001b[49m\u001b[43m=\u001b[49m\u001b[43m(\u001b[49m\u001b[43mepoch\u001b[49m\u001b[43m \u001b[49m\u001b[43m+\u001b[49m\u001b[43m \u001b[49m\u001b[32;43m1\u001b[39;49m\u001b[43m \u001b[49m\u001b[38;5;129;43;01min\u001b[39;49;00m\u001b[43m \u001b[49m\u001b[43mcheckpoint_intervals\u001b[49m\u001b[43m)\u001b[49m\u001b[43m,\u001b[49m\n\u001b[32m     29\u001b[39m \u001b[43m        \u001b[49m\u001b[43mcheckpoint_path\u001b[49m\u001b[43m=\u001b[49m\u001b[43mos\u001b[49m\u001b[43m.\u001b[49m\u001b[43mpath\u001b[49m\u001b[43m.\u001b[49m\u001b[43mjoin\u001b[49m\u001b[43m(\u001b[49m\u001b[43mcheckpoints_folder\u001b[49m\u001b[43m,\u001b[49m\u001b[43m \u001b[49m\u001b[33;43mf\u001b[39;49m\u001b[33;43m\"\u001b[39;49m\u001b[33;43mmodel_\u001b[39;49m\u001b[38;5;132;43;01m{\u001b[39;49;00m\u001b[43mtest_dir_name\u001b[49m\u001b[38;5;132;43;01m}\u001b[39;49;00m\u001b[33;43m\"\u001b[39;49m\u001b[43m)\u001b[49m\u001b[43m,\u001b[49m\n\u001b[32m     30\u001b[39m \u001b[43m        \u001b[49m\u001b[43mcurrent_epoch\u001b[49m\u001b[43m=\u001b[49m\u001b[43mepoch\u001b[49m\n\u001b[32m     31\u001b[39m \u001b[43m    \u001b[49m\u001b[43m)\u001b[49m\n\u001b[32m     33\u001b[39m     val_loss,val_acc = evaluate(val_loader, model, device, calculate_accuracy=\u001b[38;5;28;01mTrue\u001b[39;00m)\n\u001b[32m     35\u001b[39m     \u001b[38;5;28mprint\u001b[39m(\u001b[33mf\u001b[39m\u001b[33m\"\u001b[39m\u001b[33mEpoch \u001b[39m\u001b[38;5;132;01m{\u001b[39;00mepoch\u001b[38;5;250m \u001b[39m+\u001b[38;5;250m \u001b[39m\u001b[32m1\u001b[39m\u001b[38;5;132;01m}\u001b[39;00m\u001b[33m/\u001b[39m\u001b[38;5;132;01m{\u001b[39;00mnum_epochs\u001b[38;5;132;01m}\u001b[39;00m\u001b[33m, Loss: \u001b[39m\u001b[38;5;132;01m{\u001b[39;00mtrain_loss\u001b[38;5;132;01m:\u001b[39;00m\u001b[33m.4f\u001b[39m\u001b[38;5;132;01m}\u001b[39;00m\u001b[33m, Train Acc: \u001b[39m\u001b[38;5;132;01m{\u001b[39;00mtrain_acc\u001b[38;5;132;01m:\u001b[39;00m\u001b[33m.4f\u001b[39m\u001b[38;5;132;01m}\u001b[39;00m\u001b[33m, Val Acc: \u001b[39m\u001b[38;5;132;01m{\u001b[39;00mval_acc\u001b[38;5;132;01m:\u001b[39;00m\u001b[33m.4f\u001b[39m\u001b[38;5;132;01m}\u001b[39;00m\u001b[33m\"\u001b[39m)\n",
      "\u001b[36mCell\u001b[39m\u001b[36m \u001b[39m\u001b[32mIn[30]\u001b[39m\u001b[32m, line 13\u001b[39m, in \u001b[36mtrain\u001b[39m\u001b[34m(data_loader, model, optimizer, criterion, device, save_checkpoints, checkpoint_path, current_epoch)\u001b[39m\n\u001b[32m     11\u001b[39m loss.backward()\n\u001b[32m     12\u001b[39m optimizer.step()\n\u001b[32m---> \u001b[39m\u001b[32m13\u001b[39m total_loss += \u001b[43mloss\u001b[49m\u001b[43m.\u001b[49m\u001b[43mitem\u001b[49m\u001b[43m(\u001b[49m\u001b[43m)\u001b[49m\n\u001b[32m     14\u001b[39m pred = output.argmax(dim=\u001b[32m1\u001b[39m)\n\u001b[32m     15\u001b[39m correct += (pred == data.y).sum().item()\n",
      "\u001b[31mKeyboardInterrupt\u001b[39m: "
     ]
    }
   ],
   "source": [
    "if args.train_path:\n",
    "    full_dataset = GraphDataset(args.train_path, transform=add_zeros)\n",
    "    val_size = int(0.2 * len(full_dataset))\n",
    "    train_size = len(full_dataset) - val_size\n",
    "    \n",
    "    generator = torch.Generator().manual_seed(12)\n",
    "    train_dataset, val_dataset = random_split(full_dataset, [train_size, val_size], generator=generator)\n",
    "\n",
    "    train_loader = DataLoader(train_dataset, batch_size=args.batch_size, shuffle=True)\n",
    "    val_loader = DataLoader(val_dataset, batch_size=args.batch_size, shuffle=False)\n",
    "\n",
    "    num_epochs = args.epochs\n",
    "    best_val_accuracy = 0.0   \n",
    "\n",
    "    train_losses = []\n",
    "    train_accuracies = []\n",
    "    val_losses = []\n",
    "    val_accuracies = []\n",
    "\n",
    "    if num_checkpoints > 1:\n",
    "        checkpoint_intervals = [int((i + 1) * num_epochs / num_checkpoints) for i in range(num_checkpoints)]\n",
    "    else:\n",
    "        checkpoint_intervals = [num_epochs]\n",
    "\n",
    "    for epoch in range(num_epochs):\n",
    "        train_loss, train_acc = train(\n",
    "            train_loader, model, optimizer, criterion, device,\n",
    "            save_checkpoints=(epoch + 1 in checkpoint_intervals),\n",
    "            checkpoint_path=os.path.join(checkpoints_folder, f\"model_{test_dir_name}\"),\n",
    "            current_epoch=epoch\n",
    "        )\n",
    "\n",
    "        val_loss,val_acc = evaluate(val_loader, model, device, calculate_accuracy=True)\n",
    "\n",
    "        print(f\"Epoch {epoch + 1}/{num_epochs}, Loss: {train_loss:.4f}, Train Acc: {train_acc:.4f}, Val Acc: {val_acc:.4f}\")\n",
    "        logging.info(f\"Epoch {epoch + 1}/{num_epochs}, Loss: {train_loss:.4f}, Train Acc: {train_acc:.4f}, Val Acc: {val_acc:.4f}\")\n",
    "\n",
    "        train_losses.append(train_loss)\n",
    "        train_accuracies.append(train_acc)\n",
    "        val_losses.append(val_loss)\n",
    "        val_accuracies.append(val_acc)\n",
    "\n",
    "        \n",
    "        if val_acc > best_val_accuracy:\n",
    "            best_val_accuracy = val_acc\n",
    "            torch.save(model.state_dict(), checkpoint_path)\n",
    "            print(f\"Best model updated and saved at {checkpoint_path}\")\n",
    "\n",
    "    plot_training_progress(train_losses, train_accuracies, os.path.join(logs_folder, \"plots\"))\n",
    "    plot_training_progress(val_losses, val_accuracies, os.path.join(logs_folder, \"plotsVal\"))"
   ]
  },
  {
   "cell_type": "code",
   "execution_count": 53,
   "id": "8eb95042-07f2-49a9-ab28-85ae1b809de0",
   "metadata": {},
   "outputs": [],
   "source": [
    "torch.save(model.state_dict(), checkpoint_path)"
   ]
  },
  {
   "cell_type": "code",
   "execution_count": 34,
   "id": "39a7643e-e33d-4c0b-9d54-db9b2b095f49",
   "metadata": {},
   "outputs": [],
   "source": [
    "plot_training_progress(train_losses, train_accuracies, os.path.join(logs_folder, \"plots\"))\n",
    "plot_training_progress(val_losses, val_accuracies, os.path.join(logs_folder, \"plotsVal\"))"
   ]
  },
  {
   "cell_type": "code",
   "execution_count": 54,
   "id": "228abfb4-ec7e-423f-be97-16eabeca1dd4",
   "metadata": {
    "papermill": {
     "duration": null,
     "end_time": null,
     "exception": null,
     "start_time": null,
     "status": "pending"
    },
    "tags": []
   },
   "outputs": [
    {
     "data": {
      "text/plain": [
       "2479"
      ]
     },
     "execution_count": 54,
     "metadata": {},
     "output_type": "execute_result"
    }
   ],
   "source": [
    "import gc\n",
    "del train_dataset\n",
    "del train_loader\n",
    "del full_dataset\n",
    "del val_dataset\n",
    "del val_loader\n",
    "gc.collect()"
   ]
  },
  {
   "cell_type": "code",
   "execution_count": 55,
   "id": "6cff8d55-4606-4f50-9867-366093faa908",
   "metadata": {
    "id": "xsXZIj4Mdu3I",
    "papermill": {
     "duration": null,
     "end_time": null,
     "exception": null,
     "start_time": null,
     "status": "pending"
    },
    "tags": []
   },
   "outputs": [
    {
     "name": "stdout",
     "output_type": "stream",
     "text": [
      "Loading graphs from datasets/B/test.json.gz...\n",
      "This may take a few minutes, please wait...\n"
     ]
    },
    {
     "name": "stderr",
     "output_type": "stream",
     "text": [
      "Processing graphs: 100%|██████████| 1560/1560 [00:06<00:00, 258.74graph/s]\n"
     ]
    }
   ],
   "source": [
    "test_dataset = GraphDataset(args.test_path, transform=add_zeros)\n",
    "test_loader = DataLoader(test_dataset, batch_size=args.batch_size, shuffle=False)\n",
    "    "
   ]
  },
  {
   "cell_type": "code",
   "execution_count": 56,
   "id": "82ad51fe-713b-45fc-890f-a00f60d155b2",
   "metadata": {
    "id": "x1OnGq_nCmTr",
    "papermill": {
     "duration": null,
     "end_time": null,
     "exception": null,
     "start_time": null,
     "status": "pending"
    },
    "tags": []
   },
   "outputs": [
    {
     "name": "stderr",
     "output_type": "stream",
     "text": [
      "Iterating eval graphs: 100%|██████████| 49/49 [00:03<00:00, 16.13batch/s]"
     ]
    },
    {
     "name": "stdout",
     "output_type": "stream",
     "text": [
      "Predictions saved to /home/onyxia/work/DL-Hackathon/hackaton/submission/testset_B.csv\n"
     ]
    },
    {
     "name": "stderr",
     "output_type": "stream",
     "text": [
      "\n"
     ]
    }
   ],
   "source": [
    "model.load_state_dict(torch.load(checkpoint_path))\n",
    "predictions = evaluate(test_loader, model, device, calculate_accuracy=False)\n",
    "save_predictions(predictions, args.test_path)"
   ]
  },
  {
   "cell_type": "markdown",
   "id": "88bb51bb-17d1-46e3-9264-00213ce92cd2",
   "metadata": {},
   "source": [
    "# C"
   ]
  },
  {
   "cell_type": "code",
   "execution_count": 35,
   "id": "2512f8ec-d5a9-4ed4-b8ca-cb08d6c4afc8",
   "metadata": {
    "papermill": {
     "duration": 0.118164,
     "end_time": "2025-05-21T16:25:02.850799",
     "exception": true,
     "start_time": "2025-05-21T16:25:02.732635",
     "status": "failed"
    },
    "tags": []
   },
   "outputs": [],
   "source": [
    "args.train_path = 'datasets/C/train.json.gz'\n",
    "args.test_path = 'datasets/C/test.json.gz'"
   ]
  },
  {
   "cell_type": "code",
   "execution_count": 36,
   "id": "9234db4f-c71b-4172-9e2f-543f58d7e3e7",
   "metadata": {
    "id": "lHX55XGECXBr",
    "papermill": {
     "duration": null,
     "end_time": null,
     "exception": null,
     "start_time": null,
     "status": "pending"
    },
    "tags": []
   },
   "outputs": [],
   "source": [
    "script_dir = os.getcwd() \n",
    "# device = torch.device(f\"cuda:{args.device}\" if torch.cuda.is_available() else \"cpu\")\n",
    "device = torch.device(\"cuda\" if torch.cuda.is_available() else \"cpu\")\n",
    "num_checkpoints = args.num_checkpoints if args.num_checkpoints else 3\n",
    "    \n",
    "if args.gnn == 'gin':\n",
    "    model = GNN(gnn_type='gin', num_class=6, num_layer=args.num_layer, emb_dim=args.emb_dim, drop_ratio=args.drop_ratio, virtual_node=False).to(device)\n",
    "elif args.gnn == 'gin-virtual':\n",
    "    model = GNN(gnn_type='gin', num_class=6, num_layer=args.num_layer, emb_dim=args.emb_dim, drop_ratio=args.drop_ratio, virtual_node=True).to(device)\n",
    "elif args.gnn == 'gcn':\n",
    "    model = GNN(gnn_type='gcn', num_class=6, num_layer=args.num_layer, emb_dim=args.emb_dim, drop_ratio=args.drop_ratio, virtual_node=False).to(device)\n",
    "elif args.gnn == 'gcn-virtual':\n",
    "    model = GNN(gnn_type='gcn', num_class=6, num_layer=args.num_layer, emb_dim=args.emb_dim, drop_ratio=args.drop_ratio, virtual_node=True).to(device)\n",
    "else:\n",
    "    raise ValueError('Invalid GNN type')\n",
    "    \n",
    "optimizer = torch.optim.Adam(model.parameters(), lr=0.001)\n",
    "# criterion = torch.nn.CrossEntropyLoss()\n",
    "if args.baseline_mode == 2:\n",
    "    criterion = GCODLoss(gamma=0.2)\n",
    "else:\n",
    "    criterion = torch.nn.CrossEntropyLoss()"
   ]
  },
  {
   "cell_type": "code",
   "execution_count": 37,
   "id": "a92658fe-93a5-48f0-be23-917352ab9aa5",
   "metadata": {
    "id": "BTYT5jYuChPb",
    "papermill": {
     "duration": null,
     "end_time": null,
     "exception": null,
     "start_time": null,
     "status": "pending"
    },
    "tags": []
   },
   "outputs": [],
   "source": [
    "test_dir_name = os.path.basename(os.path.dirname(args.test_path))\n",
    "logs_folder = os.path.join(script_dir, \"logs\", test_dir_name)\n",
    "log_file = os.path.join(logs_folder, \"training.log\")\n",
    "os.makedirs(os.path.dirname(log_file), exist_ok=True)\n",
    "logging.basicConfig(filename=log_file, level=logging.INFO, format='%(asctime)s - %(message)s')\n",
    "logging.getLogger().addHandler(logging.StreamHandler())\n",
    "\n",
    "checkpoint_path = os.path.join(script_dir, \"checkpoints\", f\"model_{test_dir_name}_best.pth\")\n",
    "checkpoints_folder = os.path.join(script_dir, \"checkpoints\", test_dir_name)\n",
    "os.makedirs(checkpoints_folder, exist_ok=True)"
   ]
  },
  {
   "cell_type": "code",
   "execution_count": 38,
   "id": "6fdcec7c-1355-41c5-bbf3-2b35517c1999",
   "metadata": {
    "papermill": {
     "duration": null,
     "end_time": null,
     "exception": null,
     "start_time": null,
     "status": "pending"
    },
    "tags": []
   },
   "outputs": [],
   "source": [
    "if os.path.exists(checkpoint_path) and not args.train_path:\n",
    "    model.load_state_dict(torch.load(checkpoint_path))\n",
    "    print(f\"Loaded best model from {checkpoint_path}\")"
   ]
  },
  {
   "cell_type": "code",
   "execution_count": 39,
   "id": "1323b5f0-a559-4320-b5c7-cb369f0cd964",
   "metadata": {
    "papermill": {
     "duration": null,
     "end_time": null,
     "exception": null,
     "start_time": null,
     "status": "pending"
    },
    "scrolled": true,
    "tags": []
   },
   "outputs": [
    {
     "name": "stdout",
     "output_type": "stream",
     "text": [
      "Loading graphs from datasets/C/train.json.gz...\n",
      "This may take a few minutes, please wait...\n"
     ]
    },
    {
     "name": "stderr",
     "output_type": "stream",
     "text": [
      "Processing graphs: 100%|██████████| 7680/7680 [00:37<00:00, 203.58graph/s]\n",
      "Iterating training graphs: 100%|██████████| 192/192 [00:21<00:00,  8.76batch/s]\n",
      "Iterating eval graphs: 100%|██████████| 48/48 [00:02<00:00, 16.15batch/s]\n",
      "Epoch 1/400, Loss: 1.1726, Train Acc: 0.3019, Val Acc: 0.4056\n",
      "Epoch 1/400, Loss: 1.1726, Train Acc: 0.3019, Val Acc: 0.4056\n",
      "Epoch 1/400, Loss: 1.1726, Train Acc: 0.3019, Val Acc: 0.4056\n"
     ]
    },
    {
     "name": "stdout",
     "output_type": "stream",
     "text": [
      "Epoch 1/400, Loss: 1.1726, Train Acc: 0.3019, Val Acc: 0.4056\n",
      "Best model updated and saved at /home/onyxia/work/DL-Hackathon/hackaton/checkpoints/model_C_best.pth\n"
     ]
    },
    {
     "name": "stderr",
     "output_type": "stream",
     "text": [
      "Iterating training graphs: 100%|██████████| 192/192 [00:22<00:00,  8.72batch/s]\n",
      "Iterating eval graphs: 100%|██████████| 48/48 [00:03<00:00, 14.87batch/s]\n",
      "Epoch 2/400, Loss: 1.0786, Train Acc: 0.3962, Val Acc: 0.4154\n",
      "Epoch 2/400, Loss: 1.0786, Train Acc: 0.3962, Val Acc: 0.4154\n",
      "Epoch 2/400, Loss: 1.0786, Train Acc: 0.3962, Val Acc: 0.4154\n"
     ]
    },
    {
     "name": "stdout",
     "output_type": "stream",
     "text": [
      "Epoch 2/400, Loss: 1.0786, Train Acc: 0.3962, Val Acc: 0.4154\n",
      "Best model updated and saved at /home/onyxia/work/DL-Hackathon/hackaton/checkpoints/model_C_best.pth\n"
     ]
    },
    {
     "name": "stderr",
     "output_type": "stream",
     "text": [
      "Iterating training graphs: 100%|██████████| 192/192 [00:21<00:00,  8.74batch/s]\n",
      "Iterating eval graphs: 100%|██████████| 48/48 [00:03<00:00, 15.78batch/s]\n",
      "Epoch 3/400, Loss: 1.0627, Train Acc: 0.4014, Val Acc: 0.4049\n",
      "Epoch 3/400, Loss: 1.0627, Train Acc: 0.4014, Val Acc: 0.4049\n",
      "Epoch 3/400, Loss: 1.0627, Train Acc: 0.4014, Val Acc: 0.4049\n"
     ]
    },
    {
     "name": "stdout",
     "output_type": "stream",
     "text": [
      "Epoch 3/400, Loss: 1.0627, Train Acc: 0.4014, Val Acc: 0.4049\n"
     ]
    },
    {
     "name": "stderr",
     "output_type": "stream",
     "text": [
      "Iterating training graphs: 100%|██████████| 192/192 [00:22<00:00,  8.63batch/s]\n",
      "Iterating eval graphs: 100%|██████████| 48/48 [00:02<00:00, 16.14batch/s]\n",
      "Epoch 4/400, Loss: 1.0519, Train Acc: 0.4059, Val Acc: 0.4167\n",
      "Epoch 4/400, Loss: 1.0519, Train Acc: 0.4059, Val Acc: 0.4167\n",
      "Epoch 4/400, Loss: 1.0519, Train Acc: 0.4059, Val Acc: 0.4167\n"
     ]
    },
    {
     "name": "stdout",
     "output_type": "stream",
     "text": [
      "Epoch 4/400, Loss: 1.0519, Train Acc: 0.4059, Val Acc: 0.4167\n",
      "Best model updated and saved at /home/onyxia/work/DL-Hackathon/hackaton/checkpoints/model_C_best.pth\n"
     ]
    },
    {
     "name": "stderr",
     "output_type": "stream",
     "text": [
      "Iterating training graphs: 100%|██████████| 192/192 [00:22<00:00,  8.65batch/s]\n",
      "Iterating eval graphs: 100%|██████████| 48/48 [00:02<00:00, 16.07batch/s]\n",
      "Epoch 5/400, Loss: 1.0415, Train Acc: 0.4090, Val Acc: 0.4154\n",
      "Epoch 5/400, Loss: 1.0415, Train Acc: 0.4090, Val Acc: 0.4154\n",
      "Epoch 5/400, Loss: 1.0415, Train Acc: 0.4090, Val Acc: 0.4154\n"
     ]
    },
    {
     "name": "stdout",
     "output_type": "stream",
     "text": [
      "Epoch 5/400, Loss: 1.0415, Train Acc: 0.4090, Val Acc: 0.4154\n"
     ]
    },
    {
     "name": "stderr",
     "output_type": "stream",
     "text": [
      "Iterating training graphs: 100%|██████████| 192/192 [00:22<00:00,  8.55batch/s]\n",
      "Iterating eval graphs: 100%|██████████| 48/48 [00:02<00:00, 16.23batch/s]\n",
      "Epoch 6/400, Loss: 1.0305, Train Acc: 0.4157, Val Acc: 0.4349\n",
      "Epoch 6/400, Loss: 1.0305, Train Acc: 0.4157, Val Acc: 0.4349\n",
      "Epoch 6/400, Loss: 1.0305, Train Acc: 0.4157, Val Acc: 0.4349\n"
     ]
    },
    {
     "name": "stdout",
     "output_type": "stream",
     "text": [
      "Epoch 6/400, Loss: 1.0305, Train Acc: 0.4157, Val Acc: 0.4349\n",
      "Best model updated and saved at /home/onyxia/work/DL-Hackathon/hackaton/checkpoints/model_C_best.pth\n"
     ]
    },
    {
     "name": "stderr",
     "output_type": "stream",
     "text": [
      "Iterating training graphs: 100%|██████████| 192/192 [00:22<00:00,  8.67batch/s]\n",
      "Iterating eval graphs: 100%|██████████| 48/48 [00:02<00:00, 16.14batch/s]\n",
      "Epoch 7/400, Loss: 1.0190, Train Acc: 0.4189, Val Acc: 0.4102\n",
      "Epoch 7/400, Loss: 1.0190, Train Acc: 0.4189, Val Acc: 0.4102\n",
      "Epoch 7/400, Loss: 1.0190, Train Acc: 0.4189, Val Acc: 0.4102\n"
     ]
    },
    {
     "name": "stdout",
     "output_type": "stream",
     "text": [
      "Epoch 7/400, Loss: 1.0190, Train Acc: 0.4189, Val Acc: 0.4102\n"
     ]
    },
    {
     "name": "stderr",
     "output_type": "stream",
     "text": [
      "Iterating training graphs: 100%|██████████| 192/192 [00:22<00:00,  8.71batch/s]\n",
      "Iterating eval graphs: 100%|██████████| 48/48 [00:02<00:00, 16.23batch/s]\n",
      "Epoch 8/400, Loss: 1.0037, Train Acc: 0.4302, Val Acc: 0.4199\n",
      "Epoch 8/400, Loss: 1.0037, Train Acc: 0.4302, Val Acc: 0.4199\n",
      "Epoch 8/400, Loss: 1.0037, Train Acc: 0.4302, Val Acc: 0.4199\n"
     ]
    },
    {
     "name": "stdout",
     "output_type": "stream",
     "text": [
      "Epoch 8/400, Loss: 1.0037, Train Acc: 0.4302, Val Acc: 0.4199\n"
     ]
    },
    {
     "name": "stderr",
     "output_type": "stream",
     "text": [
      "Iterating training graphs: 100%|██████████| 192/192 [00:22<00:00,  8.67batch/s]\n",
      "Iterating eval graphs: 100%|██████████| 48/48 [00:02<00:00, 16.25batch/s]\n",
      "Epoch 9/400, Loss: 0.9778, Train Acc: 0.4419, Val Acc: 0.4974\n",
      "Epoch 9/400, Loss: 0.9778, Train Acc: 0.4419, Val Acc: 0.4974\n",
      "Epoch 9/400, Loss: 0.9778, Train Acc: 0.4419, Val Acc: 0.4974\n"
     ]
    },
    {
     "name": "stdout",
     "output_type": "stream",
     "text": [
      "Epoch 9/400, Loss: 0.9778, Train Acc: 0.4419, Val Acc: 0.4974\n",
      "Best model updated and saved at /home/onyxia/work/DL-Hackathon/hackaton/checkpoints/model_C_best.pth\n"
     ]
    },
    {
     "name": "stderr",
     "output_type": "stream",
     "text": [
      "Iterating training graphs: 100%|██████████| 192/192 [00:22<00:00,  8.67batch/s]\n",
      "Iterating eval graphs: 100%|██████████| 48/48 [00:03<00:00, 15.97batch/s]\n",
      "Epoch 10/400, Loss: 0.9494, Train Acc: 0.4666, Val Acc: 0.5065\n",
      "Epoch 10/400, Loss: 0.9494, Train Acc: 0.4666, Val Acc: 0.5065\n",
      "Epoch 10/400, Loss: 0.9494, Train Acc: 0.4666, Val Acc: 0.5065\n"
     ]
    },
    {
     "name": "stdout",
     "output_type": "stream",
     "text": [
      "Epoch 10/400, Loss: 0.9494, Train Acc: 0.4666, Val Acc: 0.5065\n",
      "Best model updated and saved at /home/onyxia/work/DL-Hackathon/hackaton/checkpoints/model_C_best.pth\n"
     ]
    },
    {
     "name": "stderr",
     "output_type": "stream",
     "text": [
      "Iterating training graphs: 100%|██████████| 192/192 [00:22<00:00,  8.71batch/s]\n",
      "Iterating eval graphs: 100%|██████████| 48/48 [00:02<00:00, 16.28batch/s]\n",
      "Epoch 11/400, Loss: 0.9355, Train Acc: 0.4715, Val Acc: 0.4870\n",
      "Epoch 11/400, Loss: 0.9355, Train Acc: 0.4715, Val Acc: 0.4870\n",
      "Epoch 11/400, Loss: 0.9355, Train Acc: 0.4715, Val Acc: 0.4870\n"
     ]
    },
    {
     "name": "stdout",
     "output_type": "stream",
     "text": [
      "Epoch 11/400, Loss: 0.9355, Train Acc: 0.4715, Val Acc: 0.4870\n"
     ]
    },
    {
     "name": "stderr",
     "output_type": "stream",
     "text": [
      "Iterating training graphs: 100%|██████████| 192/192 [00:22<00:00,  8.70batch/s]\n",
      "Iterating eval graphs: 100%|██████████| 48/48 [00:02<00:00, 16.05batch/s]\n",
      "Epoch 12/400, Loss: 0.9051, Train Acc: 0.4951, Val Acc: 0.5371\n",
      "Epoch 12/400, Loss: 0.9051, Train Acc: 0.4951, Val Acc: 0.5371\n",
      "Epoch 12/400, Loss: 0.9051, Train Acc: 0.4951, Val Acc: 0.5371\n"
     ]
    },
    {
     "name": "stdout",
     "output_type": "stream",
     "text": [
      "Epoch 12/400, Loss: 0.9051, Train Acc: 0.4951, Val Acc: 0.5371\n",
      "Best model updated and saved at /home/onyxia/work/DL-Hackathon/hackaton/checkpoints/model_C_best.pth\n"
     ]
    },
    {
     "name": "stderr",
     "output_type": "stream",
     "text": [
      "Iterating training graphs: 100%|██████████| 192/192 [00:22<00:00,  8.65batch/s]\n",
      "Iterating eval graphs: 100%|██████████| 48/48 [00:02<00:00, 16.01batch/s]\n",
      "Epoch 13/400, Loss: 0.8664, Train Acc: 0.5164, Val Acc: 0.5671\n",
      "Epoch 13/400, Loss: 0.8664, Train Acc: 0.5164, Val Acc: 0.5671\n",
      "Epoch 13/400, Loss: 0.8664, Train Acc: 0.5164, Val Acc: 0.5671\n"
     ]
    },
    {
     "name": "stdout",
     "output_type": "stream",
     "text": [
      "Epoch 13/400, Loss: 0.8664, Train Acc: 0.5164, Val Acc: 0.5671\n",
      "Best model updated and saved at /home/onyxia/work/DL-Hackathon/hackaton/checkpoints/model_C_best.pth\n"
     ]
    },
    {
     "name": "stderr",
     "output_type": "stream",
     "text": [
      "Iterating training graphs: 100%|██████████| 192/192 [00:21<00:00,  8.74batch/s]\n",
      "Iterating eval graphs: 100%|██████████| 48/48 [00:03<00:00, 15.63batch/s]\n",
      "Epoch 14/400, Loss: 0.8224, Train Acc: 0.5457, Val Acc: 0.5820\n",
      "Epoch 14/400, Loss: 0.8224, Train Acc: 0.5457, Val Acc: 0.5820\n",
      "Epoch 14/400, Loss: 0.8224, Train Acc: 0.5457, Val Acc: 0.5820\n"
     ]
    },
    {
     "name": "stdout",
     "output_type": "stream",
     "text": [
      "Epoch 14/400, Loss: 0.8224, Train Acc: 0.5457, Val Acc: 0.5820\n",
      "Best model updated and saved at /home/onyxia/work/DL-Hackathon/hackaton/checkpoints/model_C_best.pth\n"
     ]
    },
    {
     "name": "stderr",
     "output_type": "stream",
     "text": [
      "Iterating training graphs: 100%|██████████| 192/192 [00:22<00:00,  8.72batch/s]\n",
      "Iterating eval graphs: 100%|██████████| 48/48 [00:02<00:00, 16.27batch/s]\n",
      "Epoch 15/400, Loss: 0.7840, Train Acc: 0.5643, Val Acc: 0.6100\n",
      "Epoch 15/400, Loss: 0.7840, Train Acc: 0.5643, Val Acc: 0.6100\n",
      "Epoch 15/400, Loss: 0.7840, Train Acc: 0.5643, Val Acc: 0.6100\n"
     ]
    },
    {
     "name": "stdout",
     "output_type": "stream",
     "text": [
      "Epoch 15/400, Loss: 0.7840, Train Acc: 0.5643, Val Acc: 0.6100\n",
      "Best model updated and saved at /home/onyxia/work/DL-Hackathon/hackaton/checkpoints/model_C_best.pth\n"
     ]
    },
    {
     "name": "stderr",
     "output_type": "stream",
     "text": [
      "Iterating training graphs: 100%|██████████| 192/192 [00:22<00:00,  8.65batch/s]\n",
      "Iterating eval graphs: 100%|██████████| 48/48 [00:02<00:00, 16.12batch/s]\n",
      "Epoch 16/400, Loss: 0.7466, Train Acc: 0.5858, Val Acc: 0.6497\n",
      "Epoch 16/400, Loss: 0.7466, Train Acc: 0.5858, Val Acc: 0.6497\n",
      "Epoch 16/400, Loss: 0.7466, Train Acc: 0.5858, Val Acc: 0.6497\n"
     ]
    },
    {
     "name": "stdout",
     "output_type": "stream",
     "text": [
      "Epoch 16/400, Loss: 0.7466, Train Acc: 0.5858, Val Acc: 0.6497\n",
      "Best model updated and saved at /home/onyxia/work/DL-Hackathon/hackaton/checkpoints/model_C_best.pth\n"
     ]
    },
    {
     "name": "stderr",
     "output_type": "stream",
     "text": [
      "Iterating training graphs: 100%|██████████| 192/192 [00:22<00:00,  8.68batch/s]\n",
      "Iterating eval graphs: 100%|██████████| 48/48 [00:02<00:00, 16.34batch/s]\n",
      "Epoch 17/400, Loss: 0.7151, Train Acc: 0.6076, Val Acc: 0.6686\n",
      "Epoch 17/400, Loss: 0.7151, Train Acc: 0.6076, Val Acc: 0.6686\n",
      "Epoch 17/400, Loss: 0.7151, Train Acc: 0.6076, Val Acc: 0.6686\n"
     ]
    },
    {
     "name": "stdout",
     "output_type": "stream",
     "text": [
      "Epoch 17/400, Loss: 0.7151, Train Acc: 0.6076, Val Acc: 0.6686\n",
      "Best model updated and saved at /home/onyxia/work/DL-Hackathon/hackaton/checkpoints/model_C_best.pth\n"
     ]
    },
    {
     "name": "stderr",
     "output_type": "stream",
     "text": [
      "Iterating training graphs: 100%|██████████| 192/192 [00:22<00:00,  8.68batch/s]\n",
      "Iterating eval graphs: 100%|██████████| 48/48 [00:02<00:00, 16.26batch/s]\n",
      "Epoch 18/400, Loss: 0.6959, Train Acc: 0.6190, Val Acc: 0.6328\n",
      "Epoch 18/400, Loss: 0.6959, Train Acc: 0.6190, Val Acc: 0.6328\n",
      "Epoch 18/400, Loss: 0.6959, Train Acc: 0.6190, Val Acc: 0.6328\n"
     ]
    },
    {
     "name": "stdout",
     "output_type": "stream",
     "text": [
      "Epoch 18/400, Loss: 0.6959, Train Acc: 0.6190, Val Acc: 0.6328\n"
     ]
    },
    {
     "name": "stderr",
     "output_type": "stream",
     "text": [
      "Iterating training graphs: 100%|██████████| 192/192 [00:22<00:00,  8.71batch/s]\n",
      "Iterating eval graphs: 100%|██████████| 48/48 [00:02<00:00, 16.19batch/s]\n",
      "Epoch 19/400, Loss: 0.6645, Train Acc: 0.6340, Val Acc: 0.6855\n",
      "Epoch 19/400, Loss: 0.6645, Train Acc: 0.6340, Val Acc: 0.6855\n",
      "Epoch 19/400, Loss: 0.6645, Train Acc: 0.6340, Val Acc: 0.6855\n"
     ]
    },
    {
     "name": "stdout",
     "output_type": "stream",
     "text": [
      "Epoch 19/400, Loss: 0.6645, Train Acc: 0.6340, Val Acc: 0.6855\n",
      "Best model updated and saved at /home/onyxia/work/DL-Hackathon/hackaton/checkpoints/model_C_best.pth\n"
     ]
    },
    {
     "name": "stderr",
     "output_type": "stream",
     "text": [
      "Iterating training graphs: 100%|██████████| 192/192 [00:21<00:00,  8.75batch/s]\n"
     ]
    },
    {
     "name": "stdout",
     "output_type": "stream",
     "text": [
      "Checkpoint saved at /home/onyxia/work/DL-Hackathon/hackaton/checkpoints/C/model_C_epoch_20.pth\n"
     ]
    },
    {
     "name": "stderr",
     "output_type": "stream",
     "text": [
      "Iterating eval graphs: 100%|██████████| 48/48 [00:03<00:00, 15.59batch/s]\n",
      "Epoch 20/400, Loss: 0.6449, Train Acc: 0.6471, Val Acc: 0.6738\n",
      "Epoch 20/400, Loss: 0.6449, Train Acc: 0.6471, Val Acc: 0.6738\n",
      "Epoch 20/400, Loss: 0.6449, Train Acc: 0.6471, Val Acc: 0.6738\n"
     ]
    },
    {
     "name": "stdout",
     "output_type": "stream",
     "text": [
      "Epoch 20/400, Loss: 0.6449, Train Acc: 0.6471, Val Acc: 0.6738\n"
     ]
    },
    {
     "name": "stderr",
     "output_type": "stream",
     "text": [
      "Iterating training graphs: 100%|██████████| 192/192 [00:21<00:00,  8.73batch/s]\n",
      "Iterating eval graphs: 100%|██████████| 48/48 [00:02<00:00, 16.11batch/s]\n",
      "Epoch 21/400, Loss: 0.6260, Train Acc: 0.6584, Val Acc: 0.6790\n",
      "Epoch 21/400, Loss: 0.6260, Train Acc: 0.6584, Val Acc: 0.6790\n",
      "Epoch 21/400, Loss: 0.6260, Train Acc: 0.6584, Val Acc: 0.6790\n"
     ]
    },
    {
     "name": "stdout",
     "output_type": "stream",
     "text": [
      "Epoch 21/400, Loss: 0.6260, Train Acc: 0.6584, Val Acc: 0.6790\n"
     ]
    },
    {
     "name": "stderr",
     "output_type": "stream",
     "text": [
      "Iterating training graphs: 100%|██████████| 192/192 [00:21<00:00,  8.73batch/s]\n",
      "Iterating eval graphs: 100%|██████████| 48/48 [00:02<00:00, 16.25batch/s]\n",
      "Epoch 22/400, Loss: 0.6135, Train Acc: 0.6626, Val Acc: 0.7057\n",
      "Epoch 22/400, Loss: 0.6135, Train Acc: 0.6626, Val Acc: 0.7057\n",
      "Epoch 22/400, Loss: 0.6135, Train Acc: 0.6626, Val Acc: 0.7057\n"
     ]
    },
    {
     "name": "stdout",
     "output_type": "stream",
     "text": [
      "Epoch 22/400, Loss: 0.6135, Train Acc: 0.6626, Val Acc: 0.7057\n",
      "Best model updated and saved at /home/onyxia/work/DL-Hackathon/hackaton/checkpoints/model_C_best.pth\n"
     ]
    },
    {
     "name": "stderr",
     "output_type": "stream",
     "text": [
      "Iterating training graphs: 100%|██████████| 192/192 [00:22<00:00,  8.65batch/s]\n",
      "Iterating eval graphs: 100%|██████████| 48/48 [00:02<00:00, 16.15batch/s]\n",
      "Epoch 23/400, Loss: 0.6017, Train Acc: 0.6733, Val Acc: 0.6999\n",
      "Epoch 23/400, Loss: 0.6017, Train Acc: 0.6733, Val Acc: 0.6999\n",
      "Epoch 23/400, Loss: 0.6017, Train Acc: 0.6733, Val Acc: 0.6999\n"
     ]
    },
    {
     "name": "stdout",
     "output_type": "stream",
     "text": [
      "Epoch 23/400, Loss: 0.6017, Train Acc: 0.6733, Val Acc: 0.6999\n"
     ]
    },
    {
     "name": "stderr",
     "output_type": "stream",
     "text": [
      "Iterating training graphs: 100%|██████████| 192/192 [00:21<00:00,  8.74batch/s]\n",
      "Iterating eval graphs: 100%|██████████| 48/48 [00:02<00:00, 16.47batch/s]\n",
      "Epoch 24/400, Loss: 0.5889, Train Acc: 0.6820, Val Acc: 0.6973\n",
      "Epoch 24/400, Loss: 0.5889, Train Acc: 0.6820, Val Acc: 0.6973\n",
      "Epoch 24/400, Loss: 0.5889, Train Acc: 0.6820, Val Acc: 0.6973\n"
     ]
    },
    {
     "name": "stdout",
     "output_type": "stream",
     "text": [
      "Epoch 24/400, Loss: 0.5889, Train Acc: 0.6820, Val Acc: 0.6973\n"
     ]
    },
    {
     "name": "stderr",
     "output_type": "stream",
     "text": [
      "Iterating training graphs: 100%|██████████| 192/192 [00:21<00:00,  8.73batch/s]\n",
      "Iterating eval graphs: 100%|██████████| 48/48 [00:02<00:00, 16.33batch/s]\n",
      "Epoch 25/400, Loss: 0.5890, Train Acc: 0.6768, Val Acc: 0.7181\n",
      "Epoch 25/400, Loss: 0.5890, Train Acc: 0.6768, Val Acc: 0.7181\n",
      "Epoch 25/400, Loss: 0.5890, Train Acc: 0.6768, Val Acc: 0.7181\n"
     ]
    },
    {
     "name": "stdout",
     "output_type": "stream",
     "text": [
      "Epoch 25/400, Loss: 0.5890, Train Acc: 0.6768, Val Acc: 0.7181\n",
      "Best model updated and saved at /home/onyxia/work/DL-Hackathon/hackaton/checkpoints/model_C_best.pth\n"
     ]
    },
    {
     "name": "stderr",
     "output_type": "stream",
     "text": [
      "Iterating training graphs: 100%|██████████| 192/192 [00:22<00:00,  8.70batch/s]\n",
      "Iterating eval graphs: 100%|██████████| 48/48 [00:02<00:00, 16.10batch/s]\n",
      "Epoch 26/400, Loss: 0.5673, Train Acc: 0.6951, Val Acc: 0.7331\n",
      "Epoch 26/400, Loss: 0.5673, Train Acc: 0.6951, Val Acc: 0.7331\n",
      "Epoch 26/400, Loss: 0.5673, Train Acc: 0.6951, Val Acc: 0.7331\n"
     ]
    },
    {
     "name": "stdout",
     "output_type": "stream",
     "text": [
      "Epoch 26/400, Loss: 0.5673, Train Acc: 0.6951, Val Acc: 0.7331\n",
      "Best model updated and saved at /home/onyxia/work/DL-Hackathon/hackaton/checkpoints/model_C_best.pth\n"
     ]
    },
    {
     "name": "stderr",
     "output_type": "stream",
     "text": [
      "Iterating training graphs: 100%|██████████| 192/192 [00:22<00:00,  8.72batch/s]\n",
      "Iterating eval graphs: 100%|██████████| 48/48 [00:02<00:00, 16.12batch/s]\n",
      "Epoch 27/400, Loss: 0.5665, Train Acc: 0.6940, Val Acc: 0.7389\n",
      "Epoch 27/400, Loss: 0.5665, Train Acc: 0.6940, Val Acc: 0.7389\n",
      "Epoch 27/400, Loss: 0.5665, Train Acc: 0.6940, Val Acc: 0.7389\n"
     ]
    },
    {
     "name": "stdout",
     "output_type": "stream",
     "text": [
      "Epoch 27/400, Loss: 0.5665, Train Acc: 0.6940, Val Acc: 0.7389\n",
      "Best model updated and saved at /home/onyxia/work/DL-Hackathon/hackaton/checkpoints/model_C_best.pth\n"
     ]
    },
    {
     "name": "stderr",
     "output_type": "stream",
     "text": [
      "Iterating training graphs: 100%|██████████| 192/192 [00:22<00:00,  8.69batch/s]\n",
      "Iterating eval graphs: 100%|██████████| 48/48 [00:02<00:00, 16.48batch/s]\n",
      "Epoch 28/400, Loss: 0.5586, Train Acc: 0.6943, Val Acc: 0.7155\n",
      "Epoch 28/400, Loss: 0.5586, Train Acc: 0.6943, Val Acc: 0.7155\n",
      "Epoch 28/400, Loss: 0.5586, Train Acc: 0.6943, Val Acc: 0.7155\n"
     ]
    },
    {
     "name": "stdout",
     "output_type": "stream",
     "text": [
      "Epoch 28/400, Loss: 0.5586, Train Acc: 0.6943, Val Acc: 0.7155\n"
     ]
    },
    {
     "name": "stderr",
     "output_type": "stream",
     "text": [
      "Iterating training graphs: 100%|██████████| 192/192 [00:22<00:00,  8.72batch/s]\n",
      "Iterating eval graphs: 100%|██████████| 48/48 [00:02<00:00, 16.39batch/s]\n",
      "Epoch 29/400, Loss: 0.5540, Train Acc: 0.6938, Val Acc: 0.7513\n",
      "Epoch 29/400, Loss: 0.5540, Train Acc: 0.6938, Val Acc: 0.7513\n",
      "Epoch 29/400, Loss: 0.5540, Train Acc: 0.6938, Val Acc: 0.7513\n"
     ]
    },
    {
     "name": "stdout",
     "output_type": "stream",
     "text": [
      "Epoch 29/400, Loss: 0.5540, Train Acc: 0.6938, Val Acc: 0.7513\n",
      "Best model updated and saved at /home/onyxia/work/DL-Hackathon/hackaton/checkpoints/model_C_best.pth\n"
     ]
    },
    {
     "name": "stderr",
     "output_type": "stream",
     "text": [
      "Iterating training graphs: 100%|██████████| 192/192 [00:22<00:00,  8.68batch/s]\n",
      "Iterating eval graphs: 100%|██████████| 48/48 [00:02<00:00, 16.42batch/s]\n",
      "Epoch 30/400, Loss: 0.5498, Train Acc: 0.7002, Val Acc: 0.7370\n",
      "Epoch 30/400, Loss: 0.5498, Train Acc: 0.7002, Val Acc: 0.7370\n",
      "Epoch 30/400, Loss: 0.5498, Train Acc: 0.7002, Val Acc: 0.7370\n"
     ]
    },
    {
     "name": "stdout",
     "output_type": "stream",
     "text": [
      "Epoch 30/400, Loss: 0.5498, Train Acc: 0.7002, Val Acc: 0.7370\n"
     ]
    },
    {
     "name": "stderr",
     "output_type": "stream",
     "text": [
      "Iterating training graphs: 100%|██████████| 192/192 [00:22<00:00,  8.70batch/s]\n",
      "Iterating eval graphs: 100%|██████████| 48/48 [00:02<00:00, 16.17batch/s]\n",
      "Epoch 31/400, Loss: 0.5458, Train Acc: 0.7074, Val Acc: 0.7487\n",
      "Epoch 31/400, Loss: 0.5458, Train Acc: 0.7074, Val Acc: 0.7487\n",
      "Epoch 31/400, Loss: 0.5458, Train Acc: 0.7074, Val Acc: 0.7487\n"
     ]
    },
    {
     "name": "stdout",
     "output_type": "stream",
     "text": [
      "Epoch 31/400, Loss: 0.5458, Train Acc: 0.7074, Val Acc: 0.7487\n"
     ]
    },
    {
     "name": "stderr",
     "output_type": "stream",
     "text": [
      "Iterating training graphs: 100%|██████████| 192/192 [00:21<00:00,  8.76batch/s]\n",
      "Iterating eval graphs: 100%|██████████| 48/48 [00:03<00:00, 15.53batch/s]\n",
      "Epoch 32/400, Loss: 0.5392, Train Acc: 0.7026, Val Acc: 0.7376\n",
      "Epoch 32/400, Loss: 0.5392, Train Acc: 0.7026, Val Acc: 0.7376\n",
      "Epoch 32/400, Loss: 0.5392, Train Acc: 0.7026, Val Acc: 0.7376\n"
     ]
    },
    {
     "name": "stdout",
     "output_type": "stream",
     "text": [
      "Epoch 32/400, Loss: 0.5392, Train Acc: 0.7026, Val Acc: 0.7376\n"
     ]
    },
    {
     "name": "stderr",
     "output_type": "stream",
     "text": [
      "Iterating training graphs: 100%|██████████| 192/192 [00:22<00:00,  8.71batch/s]\n",
      "Iterating eval graphs: 100%|██████████| 48/48 [00:02<00:00, 16.13batch/s]\n",
      "Epoch 33/400, Loss: 0.5304, Train Acc: 0.7131, Val Acc: 0.7546\n",
      "Epoch 33/400, Loss: 0.5304, Train Acc: 0.7131, Val Acc: 0.7546\n",
      "Epoch 33/400, Loss: 0.5304, Train Acc: 0.7131, Val Acc: 0.7546\n"
     ]
    },
    {
     "name": "stdout",
     "output_type": "stream",
     "text": [
      "Epoch 33/400, Loss: 0.5304, Train Acc: 0.7131, Val Acc: 0.7546\n",
      "Best model updated and saved at /home/onyxia/work/DL-Hackathon/hackaton/checkpoints/model_C_best.pth\n"
     ]
    },
    {
     "name": "stderr",
     "output_type": "stream",
     "text": [
      "Iterating training graphs: 100%|██████████| 192/192 [00:22<00:00,  8.64batch/s]\n",
      "Iterating eval graphs: 100%|██████████| 48/48 [00:02<00:00, 16.06batch/s]\n",
      "Epoch 34/400, Loss: 0.5273, Train Acc: 0.7121, Val Acc: 0.7480\n",
      "Epoch 34/400, Loss: 0.5273, Train Acc: 0.7121, Val Acc: 0.7480\n",
      "Epoch 34/400, Loss: 0.5273, Train Acc: 0.7121, Val Acc: 0.7480\n"
     ]
    },
    {
     "name": "stdout",
     "output_type": "stream",
     "text": [
      "Epoch 34/400, Loss: 0.5273, Train Acc: 0.7121, Val Acc: 0.7480\n"
     ]
    },
    {
     "name": "stderr",
     "output_type": "stream",
     "text": [
      "Iterating training graphs: 100%|██████████| 192/192 [00:22<00:00,  8.62batch/s]\n",
      "Iterating eval graphs: 100%|██████████| 48/48 [00:02<00:00, 16.07batch/s]\n",
      "Epoch 35/400, Loss: 0.5338, Train Acc: 0.7064, Val Acc: 0.7383\n",
      "Epoch 35/400, Loss: 0.5338, Train Acc: 0.7064, Val Acc: 0.7383\n",
      "Epoch 35/400, Loss: 0.5338, Train Acc: 0.7064, Val Acc: 0.7383\n"
     ]
    },
    {
     "name": "stdout",
     "output_type": "stream",
     "text": [
      "Epoch 35/400, Loss: 0.5338, Train Acc: 0.7064, Val Acc: 0.7383\n"
     ]
    },
    {
     "name": "stderr",
     "output_type": "stream",
     "text": [
      "Iterating training graphs: 100%|██████████| 192/192 [00:22<00:00,  8.70batch/s]\n",
      "Iterating eval graphs: 100%|██████████| 48/48 [00:02<00:00, 16.40batch/s]\n",
      "Epoch 36/400, Loss: 0.5252, Train Acc: 0.7111, Val Acc: 0.7207\n",
      "Epoch 36/400, Loss: 0.5252, Train Acc: 0.7111, Val Acc: 0.7207\n",
      "Epoch 36/400, Loss: 0.5252, Train Acc: 0.7111, Val Acc: 0.7207\n"
     ]
    },
    {
     "name": "stdout",
     "output_type": "stream",
     "text": [
      "Epoch 36/400, Loss: 0.5252, Train Acc: 0.7111, Val Acc: 0.7207\n"
     ]
    },
    {
     "name": "stderr",
     "output_type": "stream",
     "text": [
      "Iterating training graphs: 100%|██████████| 192/192 [00:22<00:00,  8.67batch/s]\n",
      "Iterating eval graphs: 100%|██████████| 48/48 [00:03<00:00, 15.86batch/s]\n",
      "Epoch 37/400, Loss: 0.5205, Train Acc: 0.7176, Val Acc: 0.7604\n",
      "Epoch 37/400, Loss: 0.5205, Train Acc: 0.7176, Val Acc: 0.7604\n",
      "Epoch 37/400, Loss: 0.5205, Train Acc: 0.7176, Val Acc: 0.7604\n"
     ]
    },
    {
     "name": "stdout",
     "output_type": "stream",
     "text": [
      "Epoch 37/400, Loss: 0.5205, Train Acc: 0.7176, Val Acc: 0.7604\n",
      "Best model updated and saved at /home/onyxia/work/DL-Hackathon/hackaton/checkpoints/model_C_best.pth\n"
     ]
    },
    {
     "name": "stderr",
     "output_type": "stream",
     "text": [
      "Iterating training graphs: 100%|██████████| 192/192 [00:22<00:00,  8.69batch/s]\n",
      "Iterating eval graphs: 100%|██████████| 48/48 [00:02<00:00, 16.48batch/s]\n",
      "Epoch 38/400, Loss: 0.5143, Train Acc: 0.7225, Val Acc: 0.7520\n",
      "Epoch 38/400, Loss: 0.5143, Train Acc: 0.7225, Val Acc: 0.7520\n",
      "Epoch 38/400, Loss: 0.5143, Train Acc: 0.7225, Val Acc: 0.7520\n"
     ]
    },
    {
     "name": "stdout",
     "output_type": "stream",
     "text": [
      "Epoch 38/400, Loss: 0.5143, Train Acc: 0.7225, Val Acc: 0.7520\n"
     ]
    },
    {
     "name": "stderr",
     "output_type": "stream",
     "text": [
      "Iterating training graphs: 100%|██████████| 192/192 [00:21<00:00,  8.75batch/s]\n",
      "Iterating eval graphs: 100%|██████████| 48/48 [00:02<00:00, 16.19batch/s]\n",
      "Epoch 39/400, Loss: 0.5105, Train Acc: 0.7231, Val Acc: 0.7018\n",
      "Epoch 39/400, Loss: 0.5105, Train Acc: 0.7231, Val Acc: 0.7018\n",
      "Epoch 39/400, Loss: 0.5105, Train Acc: 0.7231, Val Acc: 0.7018\n"
     ]
    },
    {
     "name": "stdout",
     "output_type": "stream",
     "text": [
      "Epoch 39/400, Loss: 0.5105, Train Acc: 0.7231, Val Acc: 0.7018\n"
     ]
    },
    {
     "name": "stderr",
     "output_type": "stream",
     "text": [
      "Iterating training graphs: 100%|██████████| 192/192 [00:22<00:00,  8.71batch/s]\n"
     ]
    },
    {
     "name": "stdout",
     "output_type": "stream",
     "text": [
      "Checkpoint saved at /home/onyxia/work/DL-Hackathon/hackaton/checkpoints/C/model_C_epoch_40.pth\n"
     ]
    },
    {
     "name": "stderr",
     "output_type": "stream",
     "text": [
      "Iterating eval graphs: 100%|██████████| 48/48 [00:02<00:00, 16.38batch/s]\n",
      "Epoch 40/400, Loss: 0.5099, Train Acc: 0.7207, Val Acc: 0.7441\n",
      "Epoch 40/400, Loss: 0.5099, Train Acc: 0.7207, Val Acc: 0.7441\n",
      "Epoch 40/400, Loss: 0.5099, Train Acc: 0.7207, Val Acc: 0.7441\n"
     ]
    },
    {
     "name": "stdout",
     "output_type": "stream",
     "text": [
      "Epoch 40/400, Loss: 0.5099, Train Acc: 0.7207, Val Acc: 0.7441\n"
     ]
    },
    {
     "name": "stderr",
     "output_type": "stream",
     "text": [
      "Iterating training graphs: 100%|██████████| 192/192 [00:21<00:00,  8.74batch/s]\n",
      "Iterating eval graphs: 100%|██████████| 48/48 [00:02<00:00, 16.06batch/s]\n",
      "Epoch 41/400, Loss: 0.5056, Train Acc: 0.7262, Val Acc: 0.7728\n",
      "Epoch 41/400, Loss: 0.5056, Train Acc: 0.7262, Val Acc: 0.7728\n",
      "Epoch 41/400, Loss: 0.5056, Train Acc: 0.7262, Val Acc: 0.7728\n"
     ]
    },
    {
     "name": "stdout",
     "output_type": "stream",
     "text": [
      "Epoch 41/400, Loss: 0.5056, Train Acc: 0.7262, Val Acc: 0.7728\n",
      "Best model updated and saved at /home/onyxia/work/DL-Hackathon/hackaton/checkpoints/model_C_best.pth\n"
     ]
    },
    {
     "name": "stderr",
     "output_type": "stream",
     "text": [
      "Iterating training graphs: 100%|██████████| 192/192 [00:22<00:00,  8.70batch/s]\n",
      "Iterating eval graphs: 100%|██████████| 48/48 [00:02<00:00, 16.04batch/s]\n",
      "Epoch 42/400, Loss: 0.5054, Train Acc: 0.7251, Val Acc: 0.7656\n",
      "Epoch 42/400, Loss: 0.5054, Train Acc: 0.7251, Val Acc: 0.7656\n",
      "Epoch 42/400, Loss: 0.5054, Train Acc: 0.7251, Val Acc: 0.7656\n"
     ]
    },
    {
     "name": "stdout",
     "output_type": "stream",
     "text": [
      "Epoch 42/400, Loss: 0.5054, Train Acc: 0.7251, Val Acc: 0.7656\n"
     ]
    },
    {
     "name": "stderr",
     "output_type": "stream",
     "text": [
      "Iterating training graphs: 100%|██████████| 192/192 [00:22<00:00,  8.66batch/s]\n",
      "Iterating eval graphs: 100%|██████████| 48/48 [00:02<00:00, 16.40batch/s]\n",
      "Epoch 43/400, Loss: 0.4944, Train Acc: 0.7288, Val Acc: 0.7598\n",
      "Epoch 43/400, Loss: 0.4944, Train Acc: 0.7288, Val Acc: 0.7598\n",
      "Epoch 43/400, Loss: 0.4944, Train Acc: 0.7288, Val Acc: 0.7598\n"
     ]
    },
    {
     "name": "stdout",
     "output_type": "stream",
     "text": [
      "Epoch 43/400, Loss: 0.4944, Train Acc: 0.7288, Val Acc: 0.7598\n"
     ]
    },
    {
     "name": "stderr",
     "output_type": "stream",
     "text": [
      "Iterating training graphs: 100%|██████████| 192/192 [00:22<00:00,  8.72batch/s]\n",
      "Iterating eval graphs: 100%|██████████| 48/48 [00:03<00:00, 15.28batch/s]\n",
      "Epoch 44/400, Loss: 0.4966, Train Acc: 0.7282, Val Acc: 0.7539\n",
      "Epoch 44/400, Loss: 0.4966, Train Acc: 0.7282, Val Acc: 0.7539\n",
      "Epoch 44/400, Loss: 0.4966, Train Acc: 0.7282, Val Acc: 0.7539\n"
     ]
    },
    {
     "name": "stdout",
     "output_type": "stream",
     "text": [
      "Epoch 44/400, Loss: 0.4966, Train Acc: 0.7282, Val Acc: 0.7539\n"
     ]
    },
    {
     "name": "stderr",
     "output_type": "stream",
     "text": [
      "Iterating training graphs: 100%|██████████| 192/192 [00:21<00:00,  8.75batch/s]\n",
      "Iterating eval graphs: 100%|██████████| 48/48 [00:02<00:00, 16.24batch/s]\n",
      "Epoch 45/400, Loss: 0.4894, Train Acc: 0.7345, Val Acc: 0.7656\n",
      "Epoch 45/400, Loss: 0.4894, Train Acc: 0.7345, Val Acc: 0.7656\n",
      "Epoch 45/400, Loss: 0.4894, Train Acc: 0.7345, Val Acc: 0.7656\n"
     ]
    },
    {
     "name": "stdout",
     "output_type": "stream",
     "text": [
      "Epoch 45/400, Loss: 0.4894, Train Acc: 0.7345, Val Acc: 0.7656\n"
     ]
    },
    {
     "name": "stderr",
     "output_type": "stream",
     "text": [
      "Iterating training graphs: 100%|██████████| 192/192 [00:22<00:00,  8.67batch/s]\n",
      "Iterating eval graphs: 100%|██████████| 48/48 [00:02<00:00, 16.35batch/s]\n",
      "Epoch 46/400, Loss: 0.4903, Train Acc: 0.7295, Val Acc: 0.7656\n",
      "Epoch 46/400, Loss: 0.4903, Train Acc: 0.7295, Val Acc: 0.7656\n",
      "Epoch 46/400, Loss: 0.4903, Train Acc: 0.7295, Val Acc: 0.7656\n"
     ]
    },
    {
     "name": "stdout",
     "output_type": "stream",
     "text": [
      "Epoch 46/400, Loss: 0.4903, Train Acc: 0.7295, Val Acc: 0.7656\n"
     ]
    },
    {
     "name": "stderr",
     "output_type": "stream",
     "text": [
      "Iterating training graphs: 100%|██████████| 192/192 [00:21<00:00,  8.75batch/s]\n",
      "Iterating eval graphs: 100%|██████████| 48/48 [00:02<00:00, 16.27batch/s]\n",
      "Epoch 47/400, Loss: 0.4881, Train Acc: 0.7350, Val Acc: 0.7767\n",
      "Epoch 47/400, Loss: 0.4881, Train Acc: 0.7350, Val Acc: 0.7767\n",
      "Epoch 47/400, Loss: 0.4881, Train Acc: 0.7350, Val Acc: 0.7767\n"
     ]
    },
    {
     "name": "stdout",
     "output_type": "stream",
     "text": [
      "Epoch 47/400, Loss: 0.4881, Train Acc: 0.7350, Val Acc: 0.7767\n",
      "Best model updated and saved at /home/onyxia/work/DL-Hackathon/hackaton/checkpoints/model_C_best.pth\n"
     ]
    },
    {
     "name": "stderr",
     "output_type": "stream",
     "text": [
      "Iterating training graphs: 100%|██████████| 192/192 [00:21<00:00,  8.74batch/s]\n",
      "Iterating eval graphs: 100%|██████████| 48/48 [00:02<00:00, 16.06batch/s]\n",
      "Epoch 48/400, Loss: 0.4885, Train Acc: 0.7300, Val Acc: 0.7578\n",
      "Epoch 48/400, Loss: 0.4885, Train Acc: 0.7300, Val Acc: 0.7578\n",
      "Epoch 48/400, Loss: 0.4885, Train Acc: 0.7300, Val Acc: 0.7578\n"
     ]
    },
    {
     "name": "stdout",
     "output_type": "stream",
     "text": [
      "Epoch 48/400, Loss: 0.4885, Train Acc: 0.7300, Val Acc: 0.7578\n"
     ]
    },
    {
     "name": "stderr",
     "output_type": "stream",
     "text": [
      "Iterating training graphs: 100%|██████████| 192/192 [00:22<00:00,  8.65batch/s]\n",
      "Iterating eval graphs: 100%|██████████| 48/48 [00:02<00:00, 16.44batch/s]\n",
      "Epoch 49/400, Loss: 0.4803, Train Acc: 0.7375, Val Acc: 0.7669\n",
      "Epoch 49/400, Loss: 0.4803, Train Acc: 0.7375, Val Acc: 0.7669\n",
      "Epoch 49/400, Loss: 0.4803, Train Acc: 0.7375, Val Acc: 0.7669\n"
     ]
    },
    {
     "name": "stdout",
     "output_type": "stream",
     "text": [
      "Epoch 49/400, Loss: 0.4803, Train Acc: 0.7375, Val Acc: 0.7669\n"
     ]
    },
    {
     "name": "stderr",
     "output_type": "stream",
     "text": [
      "Iterating training graphs: 100%|██████████| 192/192 [00:21<00:00,  8.73batch/s]\n",
      "Iterating eval graphs: 100%|██████████| 48/48 [00:02<00:00, 16.19batch/s]\n",
      "Epoch 50/400, Loss: 0.4686, Train Acc: 0.7469, Val Acc: 0.7598\n",
      "Epoch 50/400, Loss: 0.4686, Train Acc: 0.7469, Val Acc: 0.7598\n",
      "Epoch 50/400, Loss: 0.4686, Train Acc: 0.7469, Val Acc: 0.7598\n"
     ]
    },
    {
     "name": "stdout",
     "output_type": "stream",
     "text": [
      "Epoch 50/400, Loss: 0.4686, Train Acc: 0.7469, Val Acc: 0.7598\n"
     ]
    },
    {
     "name": "stderr",
     "output_type": "stream",
     "text": [
      "Iterating training graphs: 100%|██████████| 192/192 [00:21<00:00,  8.74batch/s]\n",
      "Iterating eval graphs: 100%|██████████| 48/48 [00:02<00:00, 16.42batch/s]\n",
      "Epoch 51/400, Loss: 0.4676, Train Acc: 0.7432, Val Acc: 0.7767\n",
      "Epoch 51/400, Loss: 0.4676, Train Acc: 0.7432, Val Acc: 0.7767\n",
      "Epoch 51/400, Loss: 0.4676, Train Acc: 0.7432, Val Acc: 0.7767\n"
     ]
    },
    {
     "name": "stdout",
     "output_type": "stream",
     "text": [
      "Epoch 51/400, Loss: 0.4676, Train Acc: 0.7432, Val Acc: 0.7767\n"
     ]
    },
    {
     "name": "stderr",
     "output_type": "stream",
     "text": [
      "Iterating training graphs: 100%|██████████| 192/192 [00:22<00:00,  8.65batch/s]\n",
      "Iterating eval graphs: 100%|██████████| 48/48 [00:02<00:00, 16.04batch/s]\n",
      "Epoch 52/400, Loss: 0.4740, Train Acc: 0.7388, Val Acc: 0.7689\n",
      "Epoch 52/400, Loss: 0.4740, Train Acc: 0.7388, Val Acc: 0.7689\n",
      "Epoch 52/400, Loss: 0.4740, Train Acc: 0.7388, Val Acc: 0.7689\n"
     ]
    },
    {
     "name": "stdout",
     "output_type": "stream",
     "text": [
      "Epoch 52/400, Loss: 0.4740, Train Acc: 0.7388, Val Acc: 0.7689\n"
     ]
    },
    {
     "name": "stderr",
     "output_type": "stream",
     "text": [
      "Iterating training graphs: 100%|██████████| 192/192 [00:22<00:00,  8.68batch/s]\n",
      "Iterating eval graphs: 100%|██████████| 48/48 [00:02<00:00, 16.31batch/s]\n",
      "Epoch 53/400, Loss: 0.4727, Train Acc: 0.7420, Val Acc: 0.7708\n",
      "Epoch 53/400, Loss: 0.4727, Train Acc: 0.7420, Val Acc: 0.7708\n",
      "Epoch 53/400, Loss: 0.4727, Train Acc: 0.7420, Val Acc: 0.7708\n"
     ]
    },
    {
     "name": "stdout",
     "output_type": "stream",
     "text": [
      "Epoch 53/400, Loss: 0.4727, Train Acc: 0.7420, Val Acc: 0.7708\n"
     ]
    },
    {
     "name": "stderr",
     "output_type": "stream",
     "text": [
      "Iterating training graphs: 100%|██████████| 192/192 [00:22<00:00,  8.72batch/s]\n",
      "Iterating eval graphs: 100%|██████████| 48/48 [00:02<00:00, 16.22batch/s]\n",
      "Epoch 54/400, Loss: 0.4669, Train Acc: 0.7454, Val Acc: 0.7676\n",
      "Epoch 54/400, Loss: 0.4669, Train Acc: 0.7454, Val Acc: 0.7676\n",
      "Epoch 54/400, Loss: 0.4669, Train Acc: 0.7454, Val Acc: 0.7676\n"
     ]
    },
    {
     "name": "stdout",
     "output_type": "stream",
     "text": [
      "Epoch 54/400, Loss: 0.4669, Train Acc: 0.7454, Val Acc: 0.7676\n"
     ]
    },
    {
     "name": "stderr",
     "output_type": "stream",
     "text": [
      "Iterating training graphs: 100%|██████████| 192/192 [00:22<00:00,  8.72batch/s]\n",
      "Iterating eval graphs: 100%|██████████| 48/48 [00:02<00:00, 16.51batch/s]\n",
      "Epoch 55/400, Loss: 0.4583, Train Acc: 0.7516, Val Acc: 0.7702\n",
      "Epoch 55/400, Loss: 0.4583, Train Acc: 0.7516, Val Acc: 0.7702\n",
      "Epoch 55/400, Loss: 0.4583, Train Acc: 0.7516, Val Acc: 0.7702\n"
     ]
    },
    {
     "name": "stdout",
     "output_type": "stream",
     "text": [
      "Epoch 55/400, Loss: 0.4583, Train Acc: 0.7516, Val Acc: 0.7702\n"
     ]
    },
    {
     "name": "stderr",
     "output_type": "stream",
     "text": [
      "Iterating training graphs: 100%|██████████| 192/192 [00:21<00:00,  8.73batch/s]\n",
      "Iterating eval graphs: 100%|██████████| 48/48 [00:02<00:00, 16.05batch/s]\n",
      "Epoch 56/400, Loss: 0.4627, Train Acc: 0.7479, Val Acc: 0.7728\n",
      "Epoch 56/400, Loss: 0.4627, Train Acc: 0.7479, Val Acc: 0.7728\n",
      "Epoch 56/400, Loss: 0.4627, Train Acc: 0.7479, Val Acc: 0.7728\n"
     ]
    },
    {
     "name": "stdout",
     "output_type": "stream",
     "text": [
      "Epoch 56/400, Loss: 0.4627, Train Acc: 0.7479, Val Acc: 0.7728\n"
     ]
    },
    {
     "name": "stderr",
     "output_type": "stream",
     "text": [
      "Iterating training graphs: 100%|██████████| 192/192 [00:21<00:00,  8.73batch/s]\n",
      "Iterating eval graphs: 100%|██████████| 48/48 [00:03<00:00, 15.88batch/s]\n",
      "Epoch 57/400, Loss: 0.4611, Train Acc: 0.7503, Val Acc: 0.7617\n",
      "Epoch 57/400, Loss: 0.4611, Train Acc: 0.7503, Val Acc: 0.7617\n",
      "Epoch 57/400, Loss: 0.4611, Train Acc: 0.7503, Val Acc: 0.7617\n"
     ]
    },
    {
     "name": "stdout",
     "output_type": "stream",
     "text": [
      "Epoch 57/400, Loss: 0.4611, Train Acc: 0.7503, Val Acc: 0.7617\n"
     ]
    },
    {
     "name": "stderr",
     "output_type": "stream",
     "text": [
      "Iterating training graphs: 100%|██████████| 192/192 [00:22<00:00,  8.71batch/s]\n",
      "Iterating eval graphs: 100%|██████████| 48/48 [00:02<00:00, 16.13batch/s]\n",
      "Epoch 58/400, Loss: 0.4561, Train Acc: 0.7490, Val Acc: 0.7754\n",
      "Epoch 58/400, Loss: 0.4561, Train Acc: 0.7490, Val Acc: 0.7754\n",
      "Epoch 58/400, Loss: 0.4561, Train Acc: 0.7490, Val Acc: 0.7754\n"
     ]
    },
    {
     "name": "stdout",
     "output_type": "stream",
     "text": [
      "Epoch 58/400, Loss: 0.4561, Train Acc: 0.7490, Val Acc: 0.7754\n"
     ]
    },
    {
     "name": "stderr",
     "output_type": "stream",
     "text": [
      "Iterating training graphs: 100%|██████████| 192/192 [00:21<00:00,  8.74batch/s]\n",
      "Iterating eval graphs: 100%|██████████| 48/48 [00:02<00:00, 16.27batch/s]\n",
      "Epoch 59/400, Loss: 0.4471, Train Acc: 0.7573, Val Acc: 0.7760\n",
      "Epoch 59/400, Loss: 0.4471, Train Acc: 0.7573, Val Acc: 0.7760\n",
      "Epoch 59/400, Loss: 0.4471, Train Acc: 0.7573, Val Acc: 0.7760\n"
     ]
    },
    {
     "name": "stdout",
     "output_type": "stream",
     "text": [
      "Epoch 59/400, Loss: 0.4471, Train Acc: 0.7573, Val Acc: 0.7760\n"
     ]
    },
    {
     "name": "stderr",
     "output_type": "stream",
     "text": [
      "Iterating training graphs: 100%|██████████| 192/192 [00:22<00:00,  8.70batch/s]\n"
     ]
    },
    {
     "name": "stdout",
     "output_type": "stream",
     "text": [
      "Checkpoint saved at /home/onyxia/work/DL-Hackathon/hackaton/checkpoints/C/model_C_epoch_60.pth\n"
     ]
    },
    {
     "name": "stderr",
     "output_type": "stream",
     "text": [
      "Iterating eval graphs: 100%|██████████| 48/48 [00:02<00:00, 16.28batch/s]\n",
      "Epoch 60/400, Loss: 0.4438, Train Acc: 0.7549, Val Acc: 0.7708\n",
      "Epoch 60/400, Loss: 0.4438, Train Acc: 0.7549, Val Acc: 0.7708\n",
      "Epoch 60/400, Loss: 0.4438, Train Acc: 0.7549, Val Acc: 0.7708\n"
     ]
    },
    {
     "name": "stdout",
     "output_type": "stream",
     "text": [
      "Epoch 60/400, Loss: 0.4438, Train Acc: 0.7549, Val Acc: 0.7708\n"
     ]
    },
    {
     "name": "stderr",
     "output_type": "stream",
     "text": [
      "Iterating training graphs: 100%|██████████| 192/192 [00:22<00:00,  8.69batch/s]\n",
      "Iterating eval graphs: 100%|██████████| 48/48 [00:02<00:00, 16.29batch/s]\n",
      "Epoch 61/400, Loss: 0.4462, Train Acc: 0.7534, Val Acc: 0.7806\n",
      "Epoch 61/400, Loss: 0.4462, Train Acc: 0.7534, Val Acc: 0.7806\n",
      "Epoch 61/400, Loss: 0.4462, Train Acc: 0.7534, Val Acc: 0.7806\n"
     ]
    },
    {
     "name": "stdout",
     "output_type": "stream",
     "text": [
      "Epoch 61/400, Loss: 0.4462, Train Acc: 0.7534, Val Acc: 0.7806\n",
      "Best model updated and saved at /home/onyxia/work/DL-Hackathon/hackaton/checkpoints/model_C_best.pth\n"
     ]
    },
    {
     "name": "stderr",
     "output_type": "stream",
     "text": [
      "Iterating training graphs: 100%|██████████| 192/192 [00:22<00:00,  8.72batch/s]\n",
      "Iterating eval graphs: 100%|██████████| 48/48 [00:02<00:00, 16.26batch/s]\n",
      "Epoch 62/400, Loss: 0.4356, Train Acc: 0.7643, Val Acc: 0.7741\n",
      "Epoch 62/400, Loss: 0.4356, Train Acc: 0.7643, Val Acc: 0.7741\n",
      "Epoch 62/400, Loss: 0.4356, Train Acc: 0.7643, Val Acc: 0.7741\n"
     ]
    },
    {
     "name": "stdout",
     "output_type": "stream",
     "text": [
      "Epoch 62/400, Loss: 0.4356, Train Acc: 0.7643, Val Acc: 0.7741\n"
     ]
    },
    {
     "name": "stderr",
     "output_type": "stream",
     "text": [
      "Iterating training graphs: 100%|██████████| 192/192 [00:22<00:00,  8.71batch/s]\n",
      "Iterating eval graphs: 100%|██████████| 48/48 [00:02<00:00, 16.38batch/s]\n",
      "Epoch 63/400, Loss: 0.4344, Train Acc: 0.7594, Val Acc: 0.7793\n",
      "Epoch 63/400, Loss: 0.4344, Train Acc: 0.7594, Val Acc: 0.7793\n",
      "Epoch 63/400, Loss: 0.4344, Train Acc: 0.7594, Val Acc: 0.7793\n"
     ]
    },
    {
     "name": "stdout",
     "output_type": "stream",
     "text": [
      "Epoch 63/400, Loss: 0.4344, Train Acc: 0.7594, Val Acc: 0.7793\n"
     ]
    },
    {
     "name": "stderr",
     "output_type": "stream",
     "text": [
      "Iterating training graphs: 100%|██████████| 192/192 [00:22<00:00,  8.69batch/s]\n",
      "Iterating eval graphs: 100%|██████████| 48/48 [00:03<00:00, 15.78batch/s]\n",
      "Epoch 64/400, Loss: 0.4277, Train Acc: 0.7603, Val Acc: 0.7799\n",
      "Epoch 64/400, Loss: 0.4277, Train Acc: 0.7603, Val Acc: 0.7799\n",
      "Epoch 64/400, Loss: 0.4277, Train Acc: 0.7603, Val Acc: 0.7799\n"
     ]
    },
    {
     "name": "stdout",
     "output_type": "stream",
     "text": [
      "Epoch 64/400, Loss: 0.4277, Train Acc: 0.7603, Val Acc: 0.7799\n"
     ]
    },
    {
     "name": "stderr",
     "output_type": "stream",
     "text": [
      "Iterating training graphs: 100%|██████████| 192/192 [00:22<00:00,  8.71batch/s]\n",
      "Iterating eval graphs: 100%|██████████| 48/48 [00:02<00:00, 16.37batch/s]\n",
      "Epoch 65/400, Loss: 0.4188, Train Acc: 0.7712, Val Acc: 0.7878\n",
      "Epoch 65/400, Loss: 0.4188, Train Acc: 0.7712, Val Acc: 0.7878\n",
      "Epoch 65/400, Loss: 0.4188, Train Acc: 0.7712, Val Acc: 0.7878\n"
     ]
    },
    {
     "name": "stdout",
     "output_type": "stream",
     "text": [
      "Epoch 65/400, Loss: 0.4188, Train Acc: 0.7712, Val Acc: 0.7878\n",
      "Best model updated and saved at /home/onyxia/work/DL-Hackathon/hackaton/checkpoints/model_C_best.pth\n"
     ]
    },
    {
     "name": "stderr",
     "output_type": "stream",
     "text": [
      "Iterating training graphs: 100%|██████████| 192/192 [00:22<00:00,  8.72batch/s]\n",
      "Iterating eval graphs: 100%|██████████| 48/48 [00:02<00:00, 16.03batch/s]\n",
      "Epoch 66/400, Loss: 0.4112, Train Acc: 0.7720, Val Acc: 0.7624\n",
      "Epoch 66/400, Loss: 0.4112, Train Acc: 0.7720, Val Acc: 0.7624\n",
      "Epoch 66/400, Loss: 0.4112, Train Acc: 0.7720, Val Acc: 0.7624\n"
     ]
    },
    {
     "name": "stdout",
     "output_type": "stream",
     "text": [
      "Epoch 66/400, Loss: 0.4112, Train Acc: 0.7720, Val Acc: 0.7624\n"
     ]
    },
    {
     "name": "stderr",
     "output_type": "stream",
     "text": [
      "Iterating training graphs: 100%|██████████| 192/192 [00:22<00:00,  8.65batch/s]\n",
      "Iterating eval graphs: 100%|██████████| 48/48 [00:02<00:00, 16.21batch/s]\n",
      "Epoch 67/400, Loss: 0.4108, Train Acc: 0.7746, Val Acc: 0.7565\n",
      "Epoch 67/400, Loss: 0.4108, Train Acc: 0.7746, Val Acc: 0.7565\n",
      "Epoch 67/400, Loss: 0.4108, Train Acc: 0.7746, Val Acc: 0.7565\n"
     ]
    },
    {
     "name": "stdout",
     "output_type": "stream",
     "text": [
      "Epoch 67/400, Loss: 0.4108, Train Acc: 0.7746, Val Acc: 0.7565\n"
     ]
    },
    {
     "name": "stderr",
     "output_type": "stream",
     "text": [
      "Iterating training graphs: 100%|██████████| 192/192 [00:22<00:00,  8.68batch/s]\n",
      "Iterating eval graphs: 100%|██████████| 48/48 [00:02<00:00, 16.10batch/s]\n",
      "Epoch 68/400, Loss: 0.4135, Train Acc: 0.7710, Val Acc: 0.7721\n",
      "Epoch 68/400, Loss: 0.4135, Train Acc: 0.7710, Val Acc: 0.7721\n",
      "Epoch 68/400, Loss: 0.4135, Train Acc: 0.7710, Val Acc: 0.7721\n"
     ]
    },
    {
     "name": "stdout",
     "output_type": "stream",
     "text": [
      "Epoch 68/400, Loss: 0.4135, Train Acc: 0.7710, Val Acc: 0.7721\n"
     ]
    },
    {
     "name": "stderr",
     "output_type": "stream",
     "text": [
      "Iterating training graphs: 100%|██████████| 192/192 [00:22<00:00,  8.72batch/s]\n",
      "Iterating eval graphs: 100%|██████████| 48/48 [00:03<00:00, 15.20batch/s]\n",
      "Epoch 69/400, Loss: 0.4102, Train Acc: 0.7715, Val Acc: 0.7682\n",
      "Epoch 69/400, Loss: 0.4102, Train Acc: 0.7715, Val Acc: 0.7682\n",
      "Epoch 69/400, Loss: 0.4102, Train Acc: 0.7715, Val Acc: 0.7682\n"
     ]
    },
    {
     "name": "stdout",
     "output_type": "stream",
     "text": [
      "Epoch 69/400, Loss: 0.4102, Train Acc: 0.7715, Val Acc: 0.7682\n"
     ]
    },
    {
     "name": "stderr",
     "output_type": "stream",
     "text": [
      "Iterating training graphs: 100%|██████████| 192/192 [00:22<00:00,  8.65batch/s]\n",
      "Iterating eval graphs: 100%|██████████| 48/48 [00:02<00:00, 16.03batch/s]\n",
      "Epoch 70/400, Loss: 0.4173, Train Acc: 0.7674, Val Acc: 0.7806\n",
      "Epoch 70/400, Loss: 0.4173, Train Acc: 0.7674, Val Acc: 0.7806\n",
      "Epoch 70/400, Loss: 0.4173, Train Acc: 0.7674, Val Acc: 0.7806\n"
     ]
    },
    {
     "name": "stdout",
     "output_type": "stream",
     "text": [
      "Epoch 70/400, Loss: 0.4173, Train Acc: 0.7674, Val Acc: 0.7806\n"
     ]
    },
    {
     "name": "stderr",
     "output_type": "stream",
     "text": [
      "Iterating training graphs: 100%|██████████| 192/192 [00:22<00:00,  8.68batch/s]\n",
      "Iterating eval graphs: 100%|██████████| 48/48 [00:02<00:00, 16.33batch/s]\n",
      "Epoch 71/400, Loss: 0.4033, Train Acc: 0.7751, Val Acc: 0.7826\n",
      "Epoch 71/400, Loss: 0.4033, Train Acc: 0.7751, Val Acc: 0.7826\n",
      "Epoch 71/400, Loss: 0.4033, Train Acc: 0.7751, Val Acc: 0.7826\n"
     ]
    },
    {
     "name": "stdout",
     "output_type": "stream",
     "text": [
      "Epoch 71/400, Loss: 0.4033, Train Acc: 0.7751, Val Acc: 0.7826\n"
     ]
    },
    {
     "name": "stderr",
     "output_type": "stream",
     "text": [
      "Iterating training graphs: 100%|██████████| 192/192 [00:22<00:00,  8.66batch/s]\n",
      "Iterating eval graphs: 100%|██████████| 48/48 [00:02<00:00, 16.23batch/s]\n",
      "Epoch 72/400, Loss: 0.3981, Train Acc: 0.7770, Val Acc: 0.7799\n",
      "Epoch 72/400, Loss: 0.3981, Train Acc: 0.7770, Val Acc: 0.7799\n",
      "Epoch 72/400, Loss: 0.3981, Train Acc: 0.7770, Val Acc: 0.7799\n"
     ]
    },
    {
     "name": "stdout",
     "output_type": "stream",
     "text": [
      "Epoch 72/400, Loss: 0.3981, Train Acc: 0.7770, Val Acc: 0.7799\n"
     ]
    },
    {
     "name": "stderr",
     "output_type": "stream",
     "text": [
      "Iterating training graphs: 100%|██████████| 192/192 [00:22<00:00,  8.68batch/s]\n",
      "Iterating eval graphs: 100%|██████████| 48/48 [00:03<00:00, 15.98batch/s]\n",
      "Epoch 73/400, Loss: 0.3944, Train Acc: 0.7791, Val Acc: 0.7767\n",
      "Epoch 73/400, Loss: 0.3944, Train Acc: 0.7791, Val Acc: 0.7767\n",
      "Epoch 73/400, Loss: 0.3944, Train Acc: 0.7791, Val Acc: 0.7767\n"
     ]
    },
    {
     "name": "stdout",
     "output_type": "stream",
     "text": [
      "Epoch 73/400, Loss: 0.3944, Train Acc: 0.7791, Val Acc: 0.7767\n"
     ]
    },
    {
     "name": "stderr",
     "output_type": "stream",
     "text": [
      "Iterating training graphs: 100%|██████████| 192/192 [00:22<00:00,  8.68batch/s]\n",
      "Iterating eval graphs: 100%|██████████| 48/48 [00:02<00:00, 16.29batch/s]\n",
      "Epoch 74/400, Loss: 0.3938, Train Acc: 0.7775, Val Acc: 0.7878\n",
      "Epoch 74/400, Loss: 0.3938, Train Acc: 0.7775, Val Acc: 0.7878\n",
      "Epoch 74/400, Loss: 0.3938, Train Acc: 0.7775, Val Acc: 0.7878\n"
     ]
    },
    {
     "name": "stdout",
     "output_type": "stream",
     "text": [
      "Epoch 74/400, Loss: 0.3938, Train Acc: 0.7775, Val Acc: 0.7878\n"
     ]
    },
    {
     "name": "stderr",
     "output_type": "stream",
     "text": [
      "Iterating training graphs: 100%|██████████| 192/192 [00:21<00:00,  8.73batch/s]\n",
      "Iterating eval graphs: 100%|██████████| 48/48 [00:02<00:00, 16.20batch/s]\n",
      "Epoch 75/400, Loss: 0.3928, Train Acc: 0.7852, Val Acc: 0.7871\n",
      "Epoch 75/400, Loss: 0.3928, Train Acc: 0.7852, Val Acc: 0.7871\n",
      "Epoch 75/400, Loss: 0.3928, Train Acc: 0.7852, Val Acc: 0.7871\n"
     ]
    },
    {
     "name": "stdout",
     "output_type": "stream",
     "text": [
      "Epoch 75/400, Loss: 0.3928, Train Acc: 0.7852, Val Acc: 0.7871\n"
     ]
    },
    {
     "name": "stderr",
     "output_type": "stream",
     "text": [
      "Iterating training graphs: 100%|██████████| 192/192 [00:21<00:00,  8.74batch/s]\n",
      "Iterating eval graphs: 100%|██████████| 48/48 [00:02<00:00, 16.14batch/s]\n",
      "Epoch 76/400, Loss: 0.3785, Train Acc: 0.7891, Val Acc: 0.7897\n",
      "Epoch 76/400, Loss: 0.3785, Train Acc: 0.7891, Val Acc: 0.7897\n",
      "Epoch 76/400, Loss: 0.3785, Train Acc: 0.7891, Val Acc: 0.7897\n"
     ]
    },
    {
     "name": "stdout",
     "output_type": "stream",
     "text": [
      "Epoch 76/400, Loss: 0.3785, Train Acc: 0.7891, Val Acc: 0.7897\n",
      "Best model updated and saved at /home/onyxia/work/DL-Hackathon/hackaton/checkpoints/model_C_best.pth\n"
     ]
    },
    {
     "name": "stderr",
     "output_type": "stream",
     "text": [
      "Iterating training graphs: 100%|██████████| 192/192 [00:22<00:00,  8.70batch/s]\n",
      "Iterating eval graphs: 100%|██████████| 48/48 [00:02<00:00, 16.18batch/s]\n",
      "Epoch 77/400, Loss: 0.3814, Train Acc: 0.7834, Val Acc: 0.7930\n",
      "Epoch 77/400, Loss: 0.3814, Train Acc: 0.7834, Val Acc: 0.7930\n",
      "Epoch 77/400, Loss: 0.3814, Train Acc: 0.7834, Val Acc: 0.7930\n"
     ]
    },
    {
     "name": "stdout",
     "output_type": "stream",
     "text": [
      "Epoch 77/400, Loss: 0.3814, Train Acc: 0.7834, Val Acc: 0.7930\n",
      "Best model updated and saved at /home/onyxia/work/DL-Hackathon/hackaton/checkpoints/model_C_best.pth\n"
     ]
    },
    {
     "name": "stderr",
     "output_type": "stream",
     "text": [
      "Iterating training graphs: 100%|██████████| 192/192 [00:22<00:00,  8.67batch/s]\n",
      "Iterating eval graphs: 100%|██████████| 48/48 [00:03<00:00, 15.86batch/s]\n",
      "Epoch 78/400, Loss: 0.3807, Train Acc: 0.7869, Val Acc: 0.7904\n",
      "Epoch 78/400, Loss: 0.3807, Train Acc: 0.7869, Val Acc: 0.7904\n",
      "Epoch 78/400, Loss: 0.3807, Train Acc: 0.7869, Val Acc: 0.7904\n"
     ]
    },
    {
     "name": "stdout",
     "output_type": "stream",
     "text": [
      "Epoch 78/400, Loss: 0.3807, Train Acc: 0.7869, Val Acc: 0.7904\n"
     ]
    },
    {
     "name": "stderr",
     "output_type": "stream",
     "text": [
      "Iterating training graphs: 100%|██████████| 192/192 [00:21<00:00,  8.74batch/s]\n",
      "Iterating eval graphs: 100%|██████████| 48/48 [00:02<00:00, 16.50batch/s]\n",
      "Epoch 79/400, Loss: 0.3743, Train Acc: 0.7925, Val Acc: 0.7845\n",
      "Epoch 79/400, Loss: 0.3743, Train Acc: 0.7925, Val Acc: 0.7845\n",
      "Epoch 79/400, Loss: 0.3743, Train Acc: 0.7925, Val Acc: 0.7845\n"
     ]
    },
    {
     "name": "stdout",
     "output_type": "stream",
     "text": [
      "Epoch 79/400, Loss: 0.3743, Train Acc: 0.7925, Val Acc: 0.7845\n"
     ]
    },
    {
     "name": "stderr",
     "output_type": "stream",
     "text": [
      "Iterating training graphs: 100%|██████████| 192/192 [00:21<00:00,  8.77batch/s]\n"
     ]
    },
    {
     "name": "stdout",
     "output_type": "stream",
     "text": [
      "Checkpoint saved at /home/onyxia/work/DL-Hackathon/hackaton/checkpoints/C/model_C_epoch_80.pth\n"
     ]
    },
    {
     "name": "stderr",
     "output_type": "stream",
     "text": [
      "Iterating eval graphs: 100%|██████████| 48/48 [00:02<00:00, 16.14batch/s]\n",
      "Epoch 80/400, Loss: 0.3723, Train Acc: 0.7915, Val Acc: 0.7871\n",
      "Epoch 80/400, Loss: 0.3723, Train Acc: 0.7915, Val Acc: 0.7871\n",
      "Epoch 80/400, Loss: 0.3723, Train Acc: 0.7915, Val Acc: 0.7871\n"
     ]
    },
    {
     "name": "stdout",
     "output_type": "stream",
     "text": [
      "Epoch 80/400, Loss: 0.3723, Train Acc: 0.7915, Val Acc: 0.7871\n"
     ]
    },
    {
     "name": "stderr",
     "output_type": "stream",
     "text": [
      "Iterating training graphs: 100%|██████████| 192/192 [00:21<00:00,  8.79batch/s]\n",
      "Iterating eval graphs: 100%|██████████| 48/48 [00:03<00:00, 15.82batch/s]\n",
      "Epoch 81/400, Loss: 0.3902, Train Acc: 0.7834, Val Acc: 0.7767\n",
      "Epoch 81/400, Loss: 0.3902, Train Acc: 0.7834, Val Acc: 0.7767\n",
      "Epoch 81/400, Loss: 0.3902, Train Acc: 0.7834, Val Acc: 0.7767\n"
     ]
    },
    {
     "name": "stdout",
     "output_type": "stream",
     "text": [
      "Epoch 81/400, Loss: 0.3902, Train Acc: 0.7834, Val Acc: 0.7767\n"
     ]
    },
    {
     "name": "stderr",
     "output_type": "stream",
     "text": [
      "Iterating training graphs: 100%|██████████| 192/192 [00:21<00:00,  8.81batch/s]\n",
      "Iterating eval graphs: 100%|██████████| 48/48 [00:02<00:00, 16.44batch/s]\n",
      "Epoch 82/400, Loss: 0.3738, Train Acc: 0.7938, Val Acc: 0.7878\n",
      "Epoch 82/400, Loss: 0.3738, Train Acc: 0.7938, Val Acc: 0.7878\n",
      "Epoch 82/400, Loss: 0.3738, Train Acc: 0.7938, Val Acc: 0.7878\n"
     ]
    },
    {
     "name": "stdout",
     "output_type": "stream",
     "text": [
      "Epoch 82/400, Loss: 0.3738, Train Acc: 0.7938, Val Acc: 0.7878\n"
     ]
    },
    {
     "name": "stderr",
     "output_type": "stream",
     "text": [
      "Iterating training graphs: 100%|██████████| 192/192 [00:22<00:00,  8.72batch/s]\n",
      "Iterating eval graphs: 100%|██████████| 48/48 [00:02<00:00, 16.14batch/s]\n",
      "Epoch 83/400, Loss: 0.3716, Train Acc: 0.7907, Val Acc: 0.7826\n",
      "Epoch 83/400, Loss: 0.3716, Train Acc: 0.7907, Val Acc: 0.7826\n",
      "Epoch 83/400, Loss: 0.3716, Train Acc: 0.7907, Val Acc: 0.7826\n"
     ]
    },
    {
     "name": "stdout",
     "output_type": "stream",
     "text": [
      "Epoch 83/400, Loss: 0.3716, Train Acc: 0.7907, Val Acc: 0.7826\n"
     ]
    },
    {
     "name": "stderr",
     "output_type": "stream",
     "text": [
      "Iterating training graphs: 100%|██████████| 192/192 [00:21<00:00,  8.78batch/s]\n",
      "Iterating eval graphs: 100%|██████████| 48/48 [00:02<00:00, 16.25batch/s]\n",
      "Epoch 84/400, Loss: 0.3631, Train Acc: 0.8014, Val Acc: 0.7956\n",
      "Epoch 84/400, Loss: 0.3631, Train Acc: 0.8014, Val Acc: 0.7956\n",
      "Epoch 84/400, Loss: 0.3631, Train Acc: 0.8014, Val Acc: 0.7956\n"
     ]
    },
    {
     "name": "stdout",
     "output_type": "stream",
     "text": [
      "Epoch 84/400, Loss: 0.3631, Train Acc: 0.8014, Val Acc: 0.7956\n",
      "Best model updated and saved at /home/onyxia/work/DL-Hackathon/hackaton/checkpoints/model_C_best.pth\n"
     ]
    },
    {
     "name": "stderr",
     "output_type": "stream",
     "text": [
      "Iterating training graphs: 100%|██████████| 192/192 [00:21<00:00,  8.75batch/s]\n",
      "Iterating eval graphs: 100%|██████████| 48/48 [00:02<00:00, 16.19batch/s]\n",
      "Epoch 85/400, Loss: 0.3684, Train Acc: 0.7951, Val Acc: 0.7845\n",
      "Epoch 85/400, Loss: 0.3684, Train Acc: 0.7951, Val Acc: 0.7845\n",
      "Epoch 85/400, Loss: 0.3684, Train Acc: 0.7951, Val Acc: 0.7845\n"
     ]
    },
    {
     "name": "stdout",
     "output_type": "stream",
     "text": [
      "Epoch 85/400, Loss: 0.3684, Train Acc: 0.7951, Val Acc: 0.7845\n"
     ]
    },
    {
     "name": "stderr",
     "output_type": "stream",
     "text": [
      "Iterating training graphs: 100%|██████████| 192/192 [00:21<00:00,  8.74batch/s]\n",
      "Iterating eval graphs: 100%|██████████| 48/48 [00:02<00:00, 16.35batch/s]\n",
      "Epoch 86/400, Loss: 0.3580, Train Acc: 0.8026, Val Acc: 0.7865\n",
      "Epoch 86/400, Loss: 0.3580, Train Acc: 0.8026, Val Acc: 0.7865\n",
      "Epoch 86/400, Loss: 0.3580, Train Acc: 0.8026, Val Acc: 0.7865\n"
     ]
    },
    {
     "name": "stdout",
     "output_type": "stream",
     "text": [
      "Epoch 86/400, Loss: 0.3580, Train Acc: 0.8026, Val Acc: 0.7865\n"
     ]
    },
    {
     "name": "stderr",
     "output_type": "stream",
     "text": [
      "Iterating training graphs: 100%|██████████| 192/192 [00:21<00:00,  8.75batch/s]\n",
      "Iterating eval graphs: 100%|██████████| 48/48 [00:03<00:00, 15.70batch/s]\n",
      "Epoch 87/400, Loss: 0.3545, Train Acc: 0.8029, Val Acc: 0.7956\n",
      "Epoch 87/400, Loss: 0.3545, Train Acc: 0.8029, Val Acc: 0.7956\n",
      "Epoch 87/400, Loss: 0.3545, Train Acc: 0.8029, Val Acc: 0.7956\n"
     ]
    },
    {
     "name": "stdout",
     "output_type": "stream",
     "text": [
      "Epoch 87/400, Loss: 0.3545, Train Acc: 0.8029, Val Acc: 0.7956\n"
     ]
    },
    {
     "name": "stderr",
     "output_type": "stream",
     "text": [
      "Iterating training graphs: 100%|██████████| 192/192 [00:21<00:00,  8.79batch/s]\n",
      "Iterating eval graphs: 100%|██████████| 48/48 [00:02<00:00, 16.34batch/s]\n",
      "Epoch 88/400, Loss: 0.3540, Train Acc: 0.8026, Val Acc: 0.7904\n",
      "Epoch 88/400, Loss: 0.3540, Train Acc: 0.8026, Val Acc: 0.7904\n",
      "Epoch 88/400, Loss: 0.3540, Train Acc: 0.8026, Val Acc: 0.7904\n"
     ]
    },
    {
     "name": "stdout",
     "output_type": "stream",
     "text": [
      "Epoch 88/400, Loss: 0.3540, Train Acc: 0.8026, Val Acc: 0.7904\n"
     ]
    },
    {
     "name": "stderr",
     "output_type": "stream",
     "text": [
      "Iterating training graphs: 100%|██████████| 192/192 [00:22<00:00,  8.70batch/s]\n",
      "Iterating eval graphs: 100%|██████████| 48/48 [00:02<00:00, 16.23batch/s]\n",
      "Epoch 89/400, Loss: 0.3527, Train Acc: 0.8047, Val Acc: 0.7884\n",
      "Epoch 89/400, Loss: 0.3527, Train Acc: 0.8047, Val Acc: 0.7884\n",
      "Epoch 89/400, Loss: 0.3527, Train Acc: 0.8047, Val Acc: 0.7884\n"
     ]
    },
    {
     "name": "stdout",
     "output_type": "stream",
     "text": [
      "Epoch 89/400, Loss: 0.3527, Train Acc: 0.8047, Val Acc: 0.7884\n"
     ]
    },
    {
     "name": "stderr",
     "output_type": "stream",
     "text": [
      "Iterating training graphs: 100%|██████████| 192/192 [00:21<00:00,  8.74batch/s]\n",
      "Iterating eval graphs: 100%|██████████| 48/48 [00:02<00:00, 16.12batch/s]\n",
      "Epoch 90/400, Loss: 0.3494, Train Acc: 0.8081, Val Acc: 0.7936\n",
      "Epoch 90/400, Loss: 0.3494, Train Acc: 0.8081, Val Acc: 0.7936\n",
      "Epoch 90/400, Loss: 0.3494, Train Acc: 0.8081, Val Acc: 0.7936\n"
     ]
    },
    {
     "name": "stdout",
     "output_type": "stream",
     "text": [
      "Epoch 90/400, Loss: 0.3494, Train Acc: 0.8081, Val Acc: 0.7936\n"
     ]
    },
    {
     "name": "stderr",
     "output_type": "stream",
     "text": [
      "Iterating training graphs: 100%|██████████| 192/192 [00:22<00:00,  8.71batch/s]\n",
      "Iterating eval graphs: 100%|██████████| 48/48 [00:02<00:00, 16.19batch/s]\n",
      "Epoch 91/400, Loss: 0.3456, Train Acc: 0.8097, Val Acc: 0.7858\n",
      "Epoch 91/400, Loss: 0.3456, Train Acc: 0.8097, Val Acc: 0.7858\n",
      "Epoch 91/400, Loss: 0.3456, Train Acc: 0.8097, Val Acc: 0.7858\n"
     ]
    },
    {
     "name": "stdout",
     "output_type": "stream",
     "text": [
      "Epoch 91/400, Loss: 0.3456, Train Acc: 0.8097, Val Acc: 0.7858\n"
     ]
    },
    {
     "name": "stderr",
     "output_type": "stream",
     "text": [
      "Iterating training graphs: 100%|██████████| 192/192 [00:21<00:00,  8.74batch/s]\n",
      "Iterating eval graphs: 100%|██████████| 48/48 [00:02<00:00, 16.40batch/s]\n",
      "Epoch 92/400, Loss: 0.3475, Train Acc: 0.8065, Val Acc: 0.7839\n",
      "Epoch 92/400, Loss: 0.3475, Train Acc: 0.8065, Val Acc: 0.7839\n",
      "Epoch 92/400, Loss: 0.3475, Train Acc: 0.8065, Val Acc: 0.7839\n"
     ]
    },
    {
     "name": "stdout",
     "output_type": "stream",
     "text": [
      "Epoch 92/400, Loss: 0.3475, Train Acc: 0.8065, Val Acc: 0.7839\n"
     ]
    },
    {
     "name": "stderr",
     "output_type": "stream",
     "text": [
      "Iterating training graphs: 100%|██████████| 192/192 [00:21<00:00,  8.73batch/s]\n",
      "Iterating eval graphs: 100%|██████████| 48/48 [00:03<00:00, 15.66batch/s]\n",
      "Epoch 93/400, Loss: 0.3474, Train Acc: 0.8076, Val Acc: 0.7852\n",
      "Epoch 93/400, Loss: 0.3474, Train Acc: 0.8076, Val Acc: 0.7852\n",
      "Epoch 93/400, Loss: 0.3474, Train Acc: 0.8076, Val Acc: 0.7852\n"
     ]
    },
    {
     "name": "stdout",
     "output_type": "stream",
     "text": [
      "Epoch 93/400, Loss: 0.3474, Train Acc: 0.8076, Val Acc: 0.7852\n"
     ]
    },
    {
     "name": "stderr",
     "output_type": "stream",
     "text": [
      "Iterating training graphs: 100%|██████████| 192/192 [00:22<00:00,  8.68batch/s]\n",
      "Iterating eval graphs: 100%|██████████| 48/48 [00:03<00:00, 15.98batch/s]\n",
      "Epoch 94/400, Loss: 0.3374, Train Acc: 0.8083, Val Acc: 0.7923\n",
      "Epoch 94/400, Loss: 0.3374, Train Acc: 0.8083, Val Acc: 0.7923\n",
      "Epoch 94/400, Loss: 0.3374, Train Acc: 0.8083, Val Acc: 0.7923\n"
     ]
    },
    {
     "name": "stdout",
     "output_type": "stream",
     "text": [
      "Epoch 94/400, Loss: 0.3374, Train Acc: 0.8083, Val Acc: 0.7923\n"
     ]
    },
    {
     "name": "stderr",
     "output_type": "stream",
     "text": [
      "Iterating training graphs: 100%|██████████| 192/192 [00:22<00:00,  8.52batch/s]\n",
      "Iterating eval graphs: 100%|██████████| 48/48 [00:02<00:00, 16.24batch/s]\n",
      "Epoch 95/400, Loss: 0.3345, Train Acc: 0.8128, Val Acc: 0.7930\n",
      "Epoch 95/400, Loss: 0.3345, Train Acc: 0.8128, Val Acc: 0.7930\n",
      "Epoch 95/400, Loss: 0.3345, Train Acc: 0.8128, Val Acc: 0.7930\n"
     ]
    },
    {
     "name": "stdout",
     "output_type": "stream",
     "text": [
      "Epoch 95/400, Loss: 0.3345, Train Acc: 0.8128, Val Acc: 0.7930\n"
     ]
    },
    {
     "name": "stderr",
     "output_type": "stream",
     "text": [
      "Iterating training graphs: 100%|██████████| 192/192 [00:22<00:00,  8.62batch/s]\n",
      "Iterating eval graphs: 100%|██████████| 48/48 [00:02<00:00, 16.33batch/s]\n",
      "Epoch 96/400, Loss: 0.3395, Train Acc: 0.8138, Val Acc: 0.7819\n",
      "Epoch 96/400, Loss: 0.3395, Train Acc: 0.8138, Val Acc: 0.7819\n",
      "Epoch 96/400, Loss: 0.3395, Train Acc: 0.8138, Val Acc: 0.7819\n"
     ]
    },
    {
     "name": "stdout",
     "output_type": "stream",
     "text": [
      "Epoch 96/400, Loss: 0.3395, Train Acc: 0.8138, Val Acc: 0.7819\n"
     ]
    },
    {
     "name": "stderr",
     "output_type": "stream",
     "text": [
      "Iterating training graphs: 100%|██████████| 192/192 [00:22<00:00,  8.65batch/s]\n",
      "Iterating eval graphs: 100%|██████████| 48/48 [00:03<00:00, 15.27batch/s]\n",
      "Epoch 97/400, Loss: 0.3301, Train Acc: 0.8138, Val Acc: 0.7819\n",
      "Epoch 97/400, Loss: 0.3301, Train Acc: 0.8138, Val Acc: 0.7819\n",
      "Epoch 97/400, Loss: 0.3301, Train Acc: 0.8138, Val Acc: 0.7819\n"
     ]
    },
    {
     "name": "stdout",
     "output_type": "stream",
     "text": [
      "Epoch 97/400, Loss: 0.3301, Train Acc: 0.8138, Val Acc: 0.7819\n"
     ]
    },
    {
     "name": "stderr",
     "output_type": "stream",
     "text": [
      "Iterating training graphs: 100%|██████████| 192/192 [00:22<00:00,  8.61batch/s]\n",
      "Iterating eval graphs: 100%|██████████| 48/48 [00:02<00:00, 16.05batch/s]\n",
      "Epoch 98/400, Loss: 0.3321, Train Acc: 0.8171, Val Acc: 0.7904\n",
      "Epoch 98/400, Loss: 0.3321, Train Acc: 0.8171, Val Acc: 0.7904\n",
      "Epoch 98/400, Loss: 0.3321, Train Acc: 0.8171, Val Acc: 0.7904\n"
     ]
    },
    {
     "name": "stdout",
     "output_type": "stream",
     "text": [
      "Epoch 98/400, Loss: 0.3321, Train Acc: 0.8171, Val Acc: 0.7904\n"
     ]
    },
    {
     "name": "stderr",
     "output_type": "stream",
     "text": [
      "Iterating training graphs: 100%|██████████| 192/192 [00:22<00:00,  8.72batch/s]\n",
      "Iterating eval graphs: 100%|██████████| 48/48 [00:02<00:00, 16.32batch/s]\n",
      "Epoch 99/400, Loss: 0.3339, Train Acc: 0.8151, Val Acc: 0.7897\n",
      "Epoch 99/400, Loss: 0.3339, Train Acc: 0.8151, Val Acc: 0.7897\n",
      "Epoch 99/400, Loss: 0.3339, Train Acc: 0.8151, Val Acc: 0.7897\n"
     ]
    },
    {
     "name": "stdout",
     "output_type": "stream",
     "text": [
      "Epoch 99/400, Loss: 0.3339, Train Acc: 0.8151, Val Acc: 0.7897\n"
     ]
    },
    {
     "name": "stderr",
     "output_type": "stream",
     "text": [
      "Iterating training graphs: 100%|██████████| 192/192 [00:22<00:00,  8.70batch/s]\n"
     ]
    },
    {
     "name": "stdout",
     "output_type": "stream",
     "text": [
      "Checkpoint saved at /home/onyxia/work/DL-Hackathon/hackaton/checkpoints/C/model_C_epoch_100.pth\n"
     ]
    },
    {
     "name": "stderr",
     "output_type": "stream",
     "text": [
      "Iterating eval graphs: 100%|██████████| 48/48 [00:02<00:00, 16.30batch/s]\n",
      "Epoch 100/400, Loss: 0.3294, Train Acc: 0.8164, Val Acc: 0.7995\n",
      "Epoch 100/400, Loss: 0.3294, Train Acc: 0.8164, Val Acc: 0.7995\n",
      "Epoch 100/400, Loss: 0.3294, Train Acc: 0.8164, Val Acc: 0.7995\n"
     ]
    },
    {
     "name": "stdout",
     "output_type": "stream",
     "text": [
      "Epoch 100/400, Loss: 0.3294, Train Acc: 0.8164, Val Acc: 0.7995\n",
      "Best model updated and saved at /home/onyxia/work/DL-Hackathon/hackaton/checkpoints/model_C_best.pth\n"
     ]
    },
    {
     "name": "stderr",
     "output_type": "stream",
     "text": [
      "Iterating training graphs: 100%|██████████| 192/192 [00:22<00:00,  8.72batch/s]\n",
      "Iterating eval graphs: 100%|██████████| 48/48 [00:02<00:00, 16.37batch/s]\n",
      "Epoch 101/400, Loss: 0.3204, Train Acc: 0.8244, Val Acc: 0.7930\n",
      "Epoch 101/400, Loss: 0.3204, Train Acc: 0.8244, Val Acc: 0.7930\n",
      "Epoch 101/400, Loss: 0.3204, Train Acc: 0.8244, Val Acc: 0.7930\n"
     ]
    },
    {
     "name": "stdout",
     "output_type": "stream",
     "text": [
      "Epoch 101/400, Loss: 0.3204, Train Acc: 0.8244, Val Acc: 0.7930\n"
     ]
    },
    {
     "name": "stderr",
     "output_type": "stream",
     "text": [
      "Iterating training graphs: 100%|██████████| 192/192 [00:22<00:00,  8.71batch/s]\n",
      "Iterating eval graphs: 100%|██████████| 48/48 [00:02<00:00, 16.26batch/s]\n",
      "Epoch 102/400, Loss: 0.3252, Train Acc: 0.8185, Val Acc: 0.7956\n",
      "Epoch 102/400, Loss: 0.3252, Train Acc: 0.8185, Val Acc: 0.7956\n",
      "Epoch 102/400, Loss: 0.3252, Train Acc: 0.8185, Val Acc: 0.7956\n"
     ]
    },
    {
     "name": "stdout",
     "output_type": "stream",
     "text": [
      "Epoch 102/400, Loss: 0.3252, Train Acc: 0.8185, Val Acc: 0.7956\n"
     ]
    },
    {
     "name": "stderr",
     "output_type": "stream",
     "text": [
      "Iterating training graphs: 100%|██████████| 192/192 [00:21<00:00,  8.77batch/s]\n",
      "Iterating eval graphs: 100%|██████████| 48/48 [00:02<00:00, 16.34batch/s]\n",
      "Epoch 103/400, Loss: 0.3235, Train Acc: 0.8177, Val Acc: 0.7852\n",
      "Epoch 103/400, Loss: 0.3235, Train Acc: 0.8177, Val Acc: 0.7852\n",
      "Epoch 103/400, Loss: 0.3235, Train Acc: 0.8177, Val Acc: 0.7852\n"
     ]
    },
    {
     "name": "stdout",
     "output_type": "stream",
     "text": [
      "Epoch 103/400, Loss: 0.3235, Train Acc: 0.8177, Val Acc: 0.7852\n"
     ]
    },
    {
     "name": "stderr",
     "output_type": "stream",
     "text": [
      "Iterating training graphs: 100%|██████████| 192/192 [00:22<00:00,  8.73batch/s]\n",
      "Iterating eval graphs: 100%|██████████| 48/48 [00:02<00:00, 16.30batch/s]\n",
      "Epoch 104/400, Loss: 0.3193, Train Acc: 0.8210, Val Acc: 0.7923\n",
      "Epoch 104/400, Loss: 0.3193, Train Acc: 0.8210, Val Acc: 0.7923\n",
      "Epoch 104/400, Loss: 0.3193, Train Acc: 0.8210, Val Acc: 0.7923\n"
     ]
    },
    {
     "name": "stdout",
     "output_type": "stream",
     "text": [
      "Epoch 104/400, Loss: 0.3193, Train Acc: 0.8210, Val Acc: 0.7923\n"
     ]
    },
    {
     "name": "stderr",
     "output_type": "stream",
     "text": [
      "Iterating training graphs: 100%|██████████| 192/192 [00:21<00:00,  8.74batch/s]\n",
      "Iterating eval graphs: 100%|██████████| 48/48 [00:03<00:00, 15.61batch/s]\n",
      "Epoch 105/400, Loss: 0.3171, Train Acc: 0.8267, Val Acc: 0.7858\n",
      "Epoch 105/400, Loss: 0.3171, Train Acc: 0.8267, Val Acc: 0.7858\n",
      "Epoch 105/400, Loss: 0.3171, Train Acc: 0.8267, Val Acc: 0.7858\n"
     ]
    },
    {
     "name": "stdout",
     "output_type": "stream",
     "text": [
      "Epoch 105/400, Loss: 0.3171, Train Acc: 0.8267, Val Acc: 0.7858\n"
     ]
    },
    {
     "name": "stderr",
     "output_type": "stream",
     "text": [
      "Iterating training graphs: 100%|██████████| 192/192 [00:22<00:00,  8.63batch/s]\n",
      "Iterating eval graphs: 100%|██████████| 48/48 [00:02<00:00, 16.14batch/s]\n",
      "Epoch 106/400, Loss: 0.3133, Train Acc: 0.8276, Val Acc: 0.7865\n",
      "Epoch 106/400, Loss: 0.3133, Train Acc: 0.8276, Val Acc: 0.7865\n",
      "Epoch 106/400, Loss: 0.3133, Train Acc: 0.8276, Val Acc: 0.7865\n"
     ]
    },
    {
     "name": "stdout",
     "output_type": "stream",
     "text": [
      "Epoch 106/400, Loss: 0.3133, Train Acc: 0.8276, Val Acc: 0.7865\n"
     ]
    },
    {
     "name": "stderr",
     "output_type": "stream",
     "text": [
      "Iterating training graphs: 100%|██████████| 192/192 [00:22<00:00,  8.72batch/s]\n",
      "Iterating eval graphs: 100%|██████████| 48/48 [00:02<00:00, 16.34batch/s]\n",
      "Epoch 107/400, Loss: 0.3131, Train Acc: 0.8268, Val Acc: 0.7878\n",
      "Epoch 107/400, Loss: 0.3131, Train Acc: 0.8268, Val Acc: 0.7878\n",
      "Epoch 107/400, Loss: 0.3131, Train Acc: 0.8268, Val Acc: 0.7878\n"
     ]
    },
    {
     "name": "stdout",
     "output_type": "stream",
     "text": [
      "Epoch 107/400, Loss: 0.3131, Train Acc: 0.8268, Val Acc: 0.7878\n"
     ]
    },
    {
     "name": "stderr",
     "output_type": "stream",
     "text": [
      "Iterating training graphs: 100%|██████████| 192/192 [00:22<00:00,  8.71batch/s]\n",
      "Iterating eval graphs: 100%|██████████| 48/48 [00:02<00:00, 16.22batch/s]\n",
      "Epoch 108/400, Loss: 0.3104, Train Acc: 0.8263, Val Acc: 0.7871\n",
      "Epoch 108/400, Loss: 0.3104, Train Acc: 0.8263, Val Acc: 0.7871\n",
      "Epoch 108/400, Loss: 0.3104, Train Acc: 0.8263, Val Acc: 0.7871\n"
     ]
    },
    {
     "name": "stdout",
     "output_type": "stream",
     "text": [
      "Epoch 108/400, Loss: 0.3104, Train Acc: 0.8263, Val Acc: 0.7871\n"
     ]
    },
    {
     "name": "stderr",
     "output_type": "stream",
     "text": [
      "Iterating training graphs: 100%|██████████| 192/192 [00:22<00:00,  8.71batch/s]\n",
      "Iterating eval graphs: 100%|██████████| 48/48 [00:02<00:00, 16.22batch/s]\n",
      "Epoch 109/400, Loss: 0.3157, Train Acc: 0.8162, Val Acc: 0.7969\n",
      "Epoch 109/400, Loss: 0.3157, Train Acc: 0.8162, Val Acc: 0.7969\n",
      "Epoch 109/400, Loss: 0.3157, Train Acc: 0.8162, Val Acc: 0.7969\n"
     ]
    },
    {
     "name": "stdout",
     "output_type": "stream",
     "text": [
      "Epoch 109/400, Loss: 0.3157, Train Acc: 0.8162, Val Acc: 0.7969\n"
     ]
    },
    {
     "name": "stderr",
     "output_type": "stream",
     "text": [
      "Iterating training graphs: 100%|██████████| 192/192 [00:21<00:00,  8.74batch/s]\n",
      "Iterating eval graphs: 100%|██████████| 48/48 [00:02<00:00, 16.01batch/s]\n",
      "Epoch 110/400, Loss: 0.3126, Train Acc: 0.8198, Val Acc: 0.8001\n",
      "Epoch 110/400, Loss: 0.3126, Train Acc: 0.8198, Val Acc: 0.8001\n",
      "Epoch 110/400, Loss: 0.3126, Train Acc: 0.8198, Val Acc: 0.8001\n"
     ]
    },
    {
     "name": "stdout",
     "output_type": "stream",
     "text": [
      "Epoch 110/400, Loss: 0.3126, Train Acc: 0.8198, Val Acc: 0.8001\n",
      "Best model updated and saved at /home/onyxia/work/DL-Hackathon/hackaton/checkpoints/model_C_best.pth\n"
     ]
    },
    {
     "name": "stderr",
     "output_type": "stream",
     "text": [
      "Iterating training graphs: 100%|██████████| 192/192 [00:21<00:00,  8.74batch/s]\n",
      "Iterating eval graphs: 100%|██████████| 48/48 [00:02<00:00, 16.34batch/s]\n",
      "Epoch 111/400, Loss: 0.3065, Train Acc: 0.8218, Val Acc: 0.7819\n",
      "Epoch 111/400, Loss: 0.3065, Train Acc: 0.8218, Val Acc: 0.7819\n",
      "Epoch 111/400, Loss: 0.3065, Train Acc: 0.8218, Val Acc: 0.7819\n"
     ]
    },
    {
     "name": "stdout",
     "output_type": "stream",
     "text": [
      "Epoch 111/400, Loss: 0.3065, Train Acc: 0.8218, Val Acc: 0.7819\n"
     ]
    },
    {
     "name": "stderr",
     "output_type": "stream",
     "text": [
      "Iterating training graphs: 100%|██████████| 192/192 [00:22<00:00,  8.63batch/s]\n",
      "Iterating eval graphs: 100%|██████████| 48/48 [00:02<00:00, 16.32batch/s]\n",
      "Epoch 112/400, Loss: 0.3046, Train Acc: 0.8276, Val Acc: 0.8047\n",
      "Epoch 112/400, Loss: 0.3046, Train Acc: 0.8276, Val Acc: 0.8047\n",
      "Epoch 112/400, Loss: 0.3046, Train Acc: 0.8276, Val Acc: 0.8047\n"
     ]
    },
    {
     "name": "stdout",
     "output_type": "stream",
     "text": [
      "Epoch 112/400, Loss: 0.3046, Train Acc: 0.8276, Val Acc: 0.8047\n",
      "Best model updated and saved at /home/onyxia/work/DL-Hackathon/hackaton/checkpoints/model_C_best.pth\n"
     ]
    },
    {
     "name": "stderr",
     "output_type": "stream",
     "text": [
      "Iterating training graphs: 100%|██████████| 192/192 [00:22<00:00,  8.70batch/s]\n",
      "Iterating eval graphs: 100%|██████████| 48/48 [00:02<00:00, 16.16batch/s]\n",
      "Epoch 113/400, Loss: 0.2956, Train Acc: 0.8345, Val Acc: 0.7897\n",
      "Epoch 113/400, Loss: 0.2956, Train Acc: 0.8345, Val Acc: 0.7897\n",
      "Epoch 113/400, Loss: 0.2956, Train Acc: 0.8345, Val Acc: 0.7897\n"
     ]
    },
    {
     "name": "stdout",
     "output_type": "stream",
     "text": [
      "Epoch 113/400, Loss: 0.2956, Train Acc: 0.8345, Val Acc: 0.7897\n"
     ]
    },
    {
     "name": "stderr",
     "output_type": "stream",
     "text": [
      "Iterating training graphs: 100%|██████████| 192/192 [00:22<00:00,  8.67batch/s]\n",
      "Iterating eval graphs: 100%|██████████| 48/48 [00:02<00:00, 16.16batch/s]\n",
      "Epoch 114/400, Loss: 0.3008, Train Acc: 0.8327, Val Acc: 0.8001\n",
      "Epoch 114/400, Loss: 0.3008, Train Acc: 0.8327, Val Acc: 0.8001\n",
      "Epoch 114/400, Loss: 0.3008, Train Acc: 0.8327, Val Acc: 0.8001\n"
     ]
    },
    {
     "name": "stdout",
     "output_type": "stream",
     "text": [
      "Epoch 114/400, Loss: 0.3008, Train Acc: 0.8327, Val Acc: 0.8001\n"
     ]
    },
    {
     "name": "stderr",
     "output_type": "stream",
     "text": [
      "Iterating training graphs: 100%|██████████| 192/192 [00:22<00:00,  8.68batch/s]\n",
      "Iterating eval graphs: 100%|██████████| 48/48 [00:02<00:00, 16.26batch/s]\n",
      "Epoch 115/400, Loss: 0.2932, Train Acc: 0.8374, Val Acc: 0.7897\n",
      "Epoch 115/400, Loss: 0.2932, Train Acc: 0.8374, Val Acc: 0.7897\n",
      "Epoch 115/400, Loss: 0.2932, Train Acc: 0.8374, Val Acc: 0.7897\n"
     ]
    },
    {
     "name": "stdout",
     "output_type": "stream",
     "text": [
      "Epoch 115/400, Loss: 0.2932, Train Acc: 0.8374, Val Acc: 0.7897\n"
     ]
    },
    {
     "name": "stderr",
     "output_type": "stream",
     "text": [
      "Iterating training graphs: 100%|██████████| 192/192 [00:21<00:00,  8.73batch/s]\n",
      "Iterating eval graphs: 100%|██████████| 48/48 [00:02<00:00, 16.29batch/s]\n",
      "Epoch 116/400, Loss: 0.2927, Train Acc: 0.8338, Val Acc: 0.7786\n",
      "Epoch 116/400, Loss: 0.2927, Train Acc: 0.8338, Val Acc: 0.7786\n",
      "Epoch 116/400, Loss: 0.2927, Train Acc: 0.8338, Val Acc: 0.7786\n"
     ]
    },
    {
     "name": "stdout",
     "output_type": "stream",
     "text": [
      "Epoch 116/400, Loss: 0.2927, Train Acc: 0.8338, Val Acc: 0.7786\n"
     ]
    },
    {
     "name": "stderr",
     "output_type": "stream",
     "text": [
      "Iterating training graphs: 100%|██████████| 192/192 [00:21<00:00,  8.75batch/s]\n",
      "Iterating eval graphs: 100%|██████████| 48/48 [00:02<00:00, 16.04batch/s]\n",
      "Epoch 117/400, Loss: 0.2922, Train Acc: 0.8356, Val Acc: 0.7754\n",
      "Epoch 117/400, Loss: 0.2922, Train Acc: 0.8356, Val Acc: 0.7754\n",
      "Epoch 117/400, Loss: 0.2922, Train Acc: 0.8356, Val Acc: 0.7754\n"
     ]
    },
    {
     "name": "stdout",
     "output_type": "stream",
     "text": [
      "Epoch 117/400, Loss: 0.2922, Train Acc: 0.8356, Val Acc: 0.7754\n"
     ]
    },
    {
     "name": "stderr",
     "output_type": "stream",
     "text": [
      "Iterating training graphs: 100%|██████████| 192/192 [00:21<00:00,  8.77batch/s]\n",
      "Iterating eval graphs: 100%|██████████| 48/48 [00:02<00:00, 16.03batch/s]\n",
      "Epoch 118/400, Loss: 0.2894, Train Acc: 0.8418, Val Acc: 0.7760\n",
      "Epoch 118/400, Loss: 0.2894, Train Acc: 0.8418, Val Acc: 0.7760\n",
      "Epoch 118/400, Loss: 0.2894, Train Acc: 0.8418, Val Acc: 0.7760\n"
     ]
    },
    {
     "name": "stdout",
     "output_type": "stream",
     "text": [
      "Epoch 118/400, Loss: 0.2894, Train Acc: 0.8418, Val Acc: 0.7760\n"
     ]
    },
    {
     "name": "stderr",
     "output_type": "stream",
     "text": [
      "Iterating training graphs: 100%|██████████| 192/192 [00:22<00:00,  8.69batch/s]\n",
      "Iterating eval graphs: 100%|██████████| 48/48 [00:02<00:00, 16.33batch/s]\n",
      "Epoch 119/400, Loss: 0.2981, Train Acc: 0.8311, Val Acc: 0.8001\n",
      "Epoch 119/400, Loss: 0.2981, Train Acc: 0.8311, Val Acc: 0.8001\n",
      "Epoch 119/400, Loss: 0.2981, Train Acc: 0.8311, Val Acc: 0.8001\n"
     ]
    },
    {
     "name": "stdout",
     "output_type": "stream",
     "text": [
      "Epoch 119/400, Loss: 0.2981, Train Acc: 0.8311, Val Acc: 0.8001\n"
     ]
    },
    {
     "name": "stderr",
     "output_type": "stream",
     "text": [
      "Iterating training graphs: 100%|██████████| 192/192 [00:22<00:00,  8.71batch/s]\n"
     ]
    },
    {
     "name": "stdout",
     "output_type": "stream",
     "text": [
      "Checkpoint saved at /home/onyxia/work/DL-Hackathon/hackaton/checkpoints/C/model_C_epoch_120.pth\n"
     ]
    },
    {
     "name": "stderr",
     "output_type": "stream",
     "text": [
      "Iterating eval graphs: 100%|██████████| 48/48 [00:02<00:00, 16.38batch/s]\n",
      "Epoch 120/400, Loss: 0.2863, Train Acc: 0.8390, Val Acc: 0.7917\n",
      "Epoch 120/400, Loss: 0.2863, Train Acc: 0.8390, Val Acc: 0.7917\n",
      "Epoch 120/400, Loss: 0.2863, Train Acc: 0.8390, Val Acc: 0.7917\n"
     ]
    },
    {
     "name": "stdout",
     "output_type": "stream",
     "text": [
      "Epoch 120/400, Loss: 0.2863, Train Acc: 0.8390, Val Acc: 0.7917\n"
     ]
    },
    {
     "name": "stderr",
     "output_type": "stream",
     "text": [
      "Iterating training graphs: 100%|██████████| 192/192 [00:22<00:00,  8.72batch/s]\n",
      "Iterating eval graphs: 100%|██████████| 48/48 [00:02<00:00, 16.28batch/s]\n",
      "Epoch 121/400, Loss: 0.2887, Train Acc: 0.8376, Val Acc: 0.7780\n",
      "Epoch 121/400, Loss: 0.2887, Train Acc: 0.8376, Val Acc: 0.7780\n",
      "Epoch 121/400, Loss: 0.2887, Train Acc: 0.8376, Val Acc: 0.7780\n"
     ]
    },
    {
     "name": "stdout",
     "output_type": "stream",
     "text": [
      "Epoch 121/400, Loss: 0.2887, Train Acc: 0.8376, Val Acc: 0.7780\n"
     ]
    },
    {
     "name": "stderr",
     "output_type": "stream",
     "text": [
      "Iterating training graphs: 100%|██████████| 192/192 [00:22<00:00,  8.67batch/s]\n",
      "Iterating eval graphs: 100%|██████████| 48/48 [00:02<00:00, 16.13batch/s]\n",
      "Epoch 122/400, Loss: 0.2882, Train Acc: 0.8382, Val Acc: 0.7897\n",
      "Epoch 122/400, Loss: 0.2882, Train Acc: 0.8382, Val Acc: 0.7897\n",
      "Epoch 122/400, Loss: 0.2882, Train Acc: 0.8382, Val Acc: 0.7897\n"
     ]
    },
    {
     "name": "stdout",
     "output_type": "stream",
     "text": [
      "Epoch 122/400, Loss: 0.2882, Train Acc: 0.8382, Val Acc: 0.7897\n"
     ]
    },
    {
     "name": "stderr",
     "output_type": "stream",
     "text": [
      "Iterating training graphs: 100%|██████████| 192/192 [00:21<00:00,  8.76batch/s]\n",
      "Iterating eval graphs: 100%|██████████| 48/48 [00:02<00:00, 16.21batch/s]\n",
      "Epoch 123/400, Loss: 0.2817, Train Acc: 0.8436, Val Acc: 0.7695\n",
      "Epoch 123/400, Loss: 0.2817, Train Acc: 0.8436, Val Acc: 0.7695\n",
      "Epoch 123/400, Loss: 0.2817, Train Acc: 0.8436, Val Acc: 0.7695\n"
     ]
    },
    {
     "name": "stdout",
     "output_type": "stream",
     "text": [
      "Epoch 123/400, Loss: 0.2817, Train Acc: 0.8436, Val Acc: 0.7695\n"
     ]
    },
    {
     "name": "stderr",
     "output_type": "stream",
     "text": [
      "Iterating training graphs: 100%|██████████| 192/192 [00:21<00:00,  8.74batch/s]\n",
      "Iterating eval graphs: 100%|██████████| 48/48 [00:02<00:00, 16.28batch/s]\n",
      "Epoch 124/400, Loss: 0.2757, Train Acc: 0.8447, Val Acc: 0.7884\n",
      "Epoch 124/400, Loss: 0.2757, Train Acc: 0.8447, Val Acc: 0.7884\n",
      "Epoch 124/400, Loss: 0.2757, Train Acc: 0.8447, Val Acc: 0.7884\n"
     ]
    },
    {
     "name": "stdout",
     "output_type": "stream",
     "text": [
      "Epoch 124/400, Loss: 0.2757, Train Acc: 0.8447, Val Acc: 0.7884\n"
     ]
    },
    {
     "name": "stderr",
     "output_type": "stream",
     "text": [
      "Iterating training graphs: 100%|██████████| 192/192 [00:22<00:00,  8.69batch/s]\n",
      "Iterating eval graphs: 100%|██████████| 48/48 [00:02<00:00, 16.52batch/s]\n",
      "Epoch 125/400, Loss: 0.2913, Train Acc: 0.8379, Val Acc: 0.7793\n",
      "Epoch 125/400, Loss: 0.2913, Train Acc: 0.8379, Val Acc: 0.7793\n",
      "Epoch 125/400, Loss: 0.2913, Train Acc: 0.8379, Val Acc: 0.7793\n"
     ]
    },
    {
     "name": "stdout",
     "output_type": "stream",
     "text": [
      "Epoch 125/400, Loss: 0.2913, Train Acc: 0.8379, Val Acc: 0.7793\n"
     ]
    },
    {
     "name": "stderr",
     "output_type": "stream",
     "text": [
      "Iterating training graphs: 100%|██████████| 192/192 [00:22<00:00,  8.42batch/s]\n",
      "Iterating eval graphs: 100%|██████████| 48/48 [00:04<00:00, 10.37batch/s]\n",
      "Epoch 126/400, Loss: 0.2888, Train Acc: 0.8354, Val Acc: 0.7904\n",
      "Epoch 126/400, Loss: 0.2888, Train Acc: 0.8354, Val Acc: 0.7904\n",
      "Epoch 126/400, Loss: 0.2888, Train Acc: 0.8354, Val Acc: 0.7904\n"
     ]
    },
    {
     "name": "stdout",
     "output_type": "stream",
     "text": [
      "Epoch 126/400, Loss: 0.2888, Train Acc: 0.8354, Val Acc: 0.7904\n"
     ]
    },
    {
     "name": "stderr",
     "output_type": "stream",
     "text": [
      "Iterating training graphs: 100%|██████████| 192/192 [00:22<00:00,  8.35batch/s]\n",
      "Iterating eval graphs: 100%|██████████| 48/48 [00:02<00:00, 16.14batch/s]\n",
      "Epoch 127/400, Loss: 0.2812, Train Acc: 0.8446, Val Acc: 0.7839\n",
      "Epoch 127/400, Loss: 0.2812, Train Acc: 0.8446, Val Acc: 0.7839\n",
      "Epoch 127/400, Loss: 0.2812, Train Acc: 0.8446, Val Acc: 0.7839\n"
     ]
    },
    {
     "name": "stdout",
     "output_type": "stream",
     "text": [
      "Epoch 127/400, Loss: 0.2812, Train Acc: 0.8446, Val Acc: 0.7839\n"
     ]
    },
    {
     "name": "stderr",
     "output_type": "stream",
     "text": [
      "Iterating training graphs: 100%|██████████| 192/192 [00:22<00:00,  8.61batch/s]\n",
      "Iterating eval graphs: 100%|██████████| 48/48 [00:02<00:00, 16.32batch/s]\n",
      "Epoch 128/400, Loss: 0.2682, Train Acc: 0.8498, Val Acc: 0.7728\n",
      "Epoch 128/400, Loss: 0.2682, Train Acc: 0.8498, Val Acc: 0.7728\n",
      "Epoch 128/400, Loss: 0.2682, Train Acc: 0.8498, Val Acc: 0.7728\n"
     ]
    },
    {
     "name": "stdout",
     "output_type": "stream",
     "text": [
      "Epoch 128/400, Loss: 0.2682, Train Acc: 0.8498, Val Acc: 0.7728\n"
     ]
    },
    {
     "name": "stderr",
     "output_type": "stream",
     "text": [
      "Iterating training graphs: 100%|██████████| 192/192 [00:22<00:00,  8.68batch/s]\n",
      "Iterating eval graphs: 100%|██████████| 48/48 [00:02<00:00, 16.22batch/s]\n",
      "Epoch 129/400, Loss: 0.2767, Train Acc: 0.8429, Val Acc: 0.7630\n",
      "Epoch 129/400, Loss: 0.2767, Train Acc: 0.8429, Val Acc: 0.7630\n",
      "Epoch 129/400, Loss: 0.2767, Train Acc: 0.8429, Val Acc: 0.7630\n"
     ]
    },
    {
     "name": "stdout",
     "output_type": "stream",
     "text": [
      "Epoch 129/400, Loss: 0.2767, Train Acc: 0.8429, Val Acc: 0.7630\n"
     ]
    },
    {
     "name": "stderr",
     "output_type": "stream",
     "text": [
      "Iterating training graphs: 100%|██████████| 192/192 [00:21<00:00,  8.75batch/s]\n",
      "Iterating eval graphs: 100%|██████████| 48/48 [00:02<00:00, 16.27batch/s]\n",
      "Epoch 130/400, Loss: 0.2648, Train Acc: 0.8543, Val Acc: 0.7826\n",
      "Epoch 130/400, Loss: 0.2648, Train Acc: 0.8543, Val Acc: 0.7826\n",
      "Epoch 130/400, Loss: 0.2648, Train Acc: 0.8543, Val Acc: 0.7826\n"
     ]
    },
    {
     "name": "stdout",
     "output_type": "stream",
     "text": [
      "Epoch 130/400, Loss: 0.2648, Train Acc: 0.8543, Val Acc: 0.7826\n"
     ]
    },
    {
     "name": "stderr",
     "output_type": "stream",
     "text": [
      "Iterating training graphs: 100%|██████████| 192/192 [00:22<00:00,  8.68batch/s]\n",
      "Iterating eval graphs: 100%|██████████| 48/48 [00:02<00:00, 16.42batch/s]\n",
      "Epoch 131/400, Loss: 0.2646, Train Acc: 0.8491, Val Acc: 0.7650\n",
      "Epoch 131/400, Loss: 0.2646, Train Acc: 0.8491, Val Acc: 0.7650\n",
      "Epoch 131/400, Loss: 0.2646, Train Acc: 0.8491, Val Acc: 0.7650\n"
     ]
    },
    {
     "name": "stdout",
     "output_type": "stream",
     "text": [
      "Epoch 131/400, Loss: 0.2646, Train Acc: 0.8491, Val Acc: 0.7650\n"
     ]
    },
    {
     "name": "stderr",
     "output_type": "stream",
     "text": [
      "Iterating training graphs: 100%|██████████| 192/192 [00:22<00:00,  8.71batch/s]\n",
      "Iterating eval graphs: 100%|██████████| 48/48 [00:02<00:00, 16.11batch/s]\n",
      "Epoch 132/400, Loss: 0.2647, Train Acc: 0.8511, Val Acc: 0.7760\n",
      "Epoch 132/400, Loss: 0.2647, Train Acc: 0.8511, Val Acc: 0.7760\n",
      "Epoch 132/400, Loss: 0.2647, Train Acc: 0.8511, Val Acc: 0.7760\n"
     ]
    },
    {
     "name": "stdout",
     "output_type": "stream",
     "text": [
      "Epoch 132/400, Loss: 0.2647, Train Acc: 0.8511, Val Acc: 0.7760\n"
     ]
    },
    {
     "name": "stderr",
     "output_type": "stream",
     "text": [
      "Iterating training graphs: 100%|██████████| 192/192 [00:22<00:00,  8.70batch/s]\n",
      "Iterating eval graphs: 100%|██████████| 48/48 [00:02<00:00, 16.11batch/s]\n",
      "Epoch 133/400, Loss: 0.2550, Train Acc: 0.8597, Val Acc: 0.7832\n",
      "Epoch 133/400, Loss: 0.2550, Train Acc: 0.8597, Val Acc: 0.7832\n",
      "Epoch 133/400, Loss: 0.2550, Train Acc: 0.8597, Val Acc: 0.7832\n"
     ]
    },
    {
     "name": "stdout",
     "output_type": "stream",
     "text": [
      "Epoch 133/400, Loss: 0.2550, Train Acc: 0.8597, Val Acc: 0.7832\n"
     ]
    },
    {
     "name": "stderr",
     "output_type": "stream",
     "text": [
      "Iterating training graphs: 100%|██████████| 192/192 [00:22<00:00,  8.69batch/s]\n",
      "Iterating eval graphs: 100%|██████████| 48/48 [00:02<00:00, 16.26batch/s]\n",
      "Epoch 134/400, Loss: 0.2556, Train Acc: 0.8586, Val Acc: 0.7897\n",
      "Epoch 134/400, Loss: 0.2556, Train Acc: 0.8586, Val Acc: 0.7897\n",
      "Epoch 134/400, Loss: 0.2556, Train Acc: 0.8586, Val Acc: 0.7897\n"
     ]
    },
    {
     "name": "stdout",
     "output_type": "stream",
     "text": [
      "Epoch 134/400, Loss: 0.2556, Train Acc: 0.8586, Val Acc: 0.7897\n"
     ]
    },
    {
     "name": "stderr",
     "output_type": "stream",
     "text": [
      "Iterating training graphs: 100%|██████████| 192/192 [00:22<00:00,  8.67batch/s]\n",
      "Iterating eval graphs: 100%|██████████| 48/48 [00:02<00:00, 16.29batch/s]\n",
      "Epoch 135/400, Loss: 0.2585, Train Acc: 0.8569, Val Acc: 0.7806\n",
      "Epoch 135/400, Loss: 0.2585, Train Acc: 0.8569, Val Acc: 0.7806\n",
      "Epoch 135/400, Loss: 0.2585, Train Acc: 0.8569, Val Acc: 0.7806\n"
     ]
    },
    {
     "name": "stdout",
     "output_type": "stream",
     "text": [
      "Epoch 135/400, Loss: 0.2585, Train Acc: 0.8569, Val Acc: 0.7806\n"
     ]
    },
    {
     "name": "stderr",
     "output_type": "stream",
     "text": [
      "Iterating training graphs: 100%|██████████| 192/192 [00:22<00:00,  8.71batch/s]\n",
      "Iterating eval graphs: 100%|██████████| 48/48 [00:03<00:00, 15.78batch/s]\n",
      "Epoch 136/400, Loss: 0.2539, Train Acc: 0.8589, Val Acc: 0.7832\n",
      "Epoch 136/400, Loss: 0.2539, Train Acc: 0.8589, Val Acc: 0.7832\n",
      "Epoch 136/400, Loss: 0.2539, Train Acc: 0.8589, Val Acc: 0.7832\n"
     ]
    },
    {
     "name": "stdout",
     "output_type": "stream",
     "text": [
      "Epoch 136/400, Loss: 0.2539, Train Acc: 0.8589, Val Acc: 0.7832\n"
     ]
    },
    {
     "name": "stderr",
     "output_type": "stream",
     "text": [
      "Iterating training graphs: 100%|██████████| 192/192 [00:21<00:00,  8.76batch/s]\n",
      "Iterating eval graphs: 100%|██████████| 48/48 [00:02<00:00, 16.30batch/s]\n",
      "Epoch 137/400, Loss: 0.2478, Train Acc: 0.8646, Val Acc: 0.7643\n",
      "Epoch 137/400, Loss: 0.2478, Train Acc: 0.8646, Val Acc: 0.7643\n",
      "Epoch 137/400, Loss: 0.2478, Train Acc: 0.8646, Val Acc: 0.7643\n"
     ]
    },
    {
     "name": "stdout",
     "output_type": "stream",
     "text": [
      "Epoch 137/400, Loss: 0.2478, Train Acc: 0.8646, Val Acc: 0.7643\n"
     ]
    },
    {
     "name": "stderr",
     "output_type": "stream",
     "text": [
      "Iterating training graphs: 100%|██████████| 192/192 [00:22<00:00,  8.71batch/s]\n",
      "Iterating eval graphs: 100%|██████████| 48/48 [00:02<00:00, 16.30batch/s]\n",
      "Epoch 138/400, Loss: 0.2508, Train Acc: 0.8590, Val Acc: 0.7832\n",
      "Epoch 138/400, Loss: 0.2508, Train Acc: 0.8590, Val Acc: 0.7832\n",
      "Epoch 138/400, Loss: 0.2508, Train Acc: 0.8590, Val Acc: 0.7832\n"
     ]
    },
    {
     "name": "stdout",
     "output_type": "stream",
     "text": [
      "Epoch 138/400, Loss: 0.2508, Train Acc: 0.8590, Val Acc: 0.7832\n"
     ]
    },
    {
     "name": "stderr",
     "output_type": "stream",
     "text": [
      "Iterating training graphs: 100%|██████████| 192/192 [00:22<00:00,  8.70batch/s]\n",
      "Iterating eval graphs: 100%|██████████| 48/48 [00:02<00:00, 16.32batch/s]\n",
      "Epoch 139/400, Loss: 0.2524, Train Acc: 0.8545, Val Acc: 0.7708\n",
      "Epoch 139/400, Loss: 0.2524, Train Acc: 0.8545, Val Acc: 0.7708\n",
      "Epoch 139/400, Loss: 0.2524, Train Acc: 0.8545, Val Acc: 0.7708\n"
     ]
    },
    {
     "name": "stdout",
     "output_type": "stream",
     "text": [
      "Epoch 139/400, Loss: 0.2524, Train Acc: 0.8545, Val Acc: 0.7708\n"
     ]
    },
    {
     "name": "stderr",
     "output_type": "stream",
     "text": [
      "Iterating training graphs: 100%|██████████| 192/192 [00:22<00:00,  8.72batch/s]\n"
     ]
    },
    {
     "name": "stdout",
     "output_type": "stream",
     "text": [
      "Checkpoint saved at /home/onyxia/work/DL-Hackathon/hackaton/checkpoints/C/model_C_epoch_140.pth\n"
     ]
    },
    {
     "name": "stderr",
     "output_type": "stream",
     "text": [
      "Iterating eval graphs: 100%|██████████| 48/48 [00:02<00:00, 16.36batch/s]\n",
      "Epoch 140/400, Loss: 0.2503, Train Acc: 0.8599, Val Acc: 0.7865\n",
      "Epoch 140/400, Loss: 0.2503, Train Acc: 0.8599, Val Acc: 0.7865\n",
      "Epoch 140/400, Loss: 0.2503, Train Acc: 0.8599, Val Acc: 0.7865\n"
     ]
    },
    {
     "name": "stdout",
     "output_type": "stream",
     "text": [
      "Epoch 140/400, Loss: 0.2503, Train Acc: 0.8599, Val Acc: 0.7865\n"
     ]
    },
    {
     "name": "stderr",
     "output_type": "stream",
     "text": [
      "Iterating training graphs: 100%|██████████| 192/192 [00:22<00:00,  8.70batch/s]\n",
      "Iterating eval graphs: 100%|██████████| 48/48 [00:02<00:00, 16.18batch/s]\n",
      "Epoch 141/400, Loss: 0.2498, Train Acc: 0.8615, Val Acc: 0.7695\n",
      "Epoch 141/400, Loss: 0.2498, Train Acc: 0.8615, Val Acc: 0.7695\n",
      "Epoch 141/400, Loss: 0.2498, Train Acc: 0.8615, Val Acc: 0.7695\n"
     ]
    },
    {
     "name": "stdout",
     "output_type": "stream",
     "text": [
      "Epoch 141/400, Loss: 0.2498, Train Acc: 0.8615, Val Acc: 0.7695\n"
     ]
    },
    {
     "name": "stderr",
     "output_type": "stream",
     "text": [
      "Iterating training graphs: 100%|██████████| 192/192 [00:21<00:00,  8.74batch/s]\n",
      "Iterating eval graphs: 100%|██████████| 48/48 [00:02<00:00, 16.08batch/s]\n",
      "Epoch 142/400, Loss: 0.2472, Train Acc: 0.8620, Val Acc: 0.7845\n",
      "Epoch 142/400, Loss: 0.2472, Train Acc: 0.8620, Val Acc: 0.7845\n",
      "Epoch 142/400, Loss: 0.2472, Train Acc: 0.8620, Val Acc: 0.7845\n"
     ]
    },
    {
     "name": "stdout",
     "output_type": "stream",
     "text": [
      "Epoch 142/400, Loss: 0.2472, Train Acc: 0.8620, Val Acc: 0.7845\n"
     ]
    },
    {
     "name": "stderr",
     "output_type": "stream",
     "text": [
      "Iterating training graphs: 100%|██████████| 192/192 [00:21<00:00,  8.73batch/s]\n",
      "Iterating eval graphs: 100%|██████████| 48/48 [00:02<00:00, 16.46batch/s]\n",
      "Epoch 143/400, Loss: 0.2529, Train Acc: 0.8538, Val Acc: 0.7689\n",
      "Epoch 143/400, Loss: 0.2529, Train Acc: 0.8538, Val Acc: 0.7689\n",
      "Epoch 143/400, Loss: 0.2529, Train Acc: 0.8538, Val Acc: 0.7689\n"
     ]
    },
    {
     "name": "stdout",
     "output_type": "stream",
     "text": [
      "Epoch 143/400, Loss: 0.2529, Train Acc: 0.8538, Val Acc: 0.7689\n"
     ]
    },
    {
     "name": "stderr",
     "output_type": "stream",
     "text": [
      "Iterating training graphs: 100%|██████████| 192/192 [00:21<00:00,  8.77batch/s]\n",
      "Iterating eval graphs: 100%|██████████| 48/48 [00:02<00:00, 16.53batch/s]\n",
      "Epoch 144/400, Loss: 0.2571, Train Acc: 0.8498, Val Acc: 0.7884\n",
      "Epoch 144/400, Loss: 0.2571, Train Acc: 0.8498, Val Acc: 0.7884\n",
      "Epoch 144/400, Loss: 0.2571, Train Acc: 0.8498, Val Acc: 0.7884\n"
     ]
    },
    {
     "name": "stdout",
     "output_type": "stream",
     "text": [
      "Epoch 144/400, Loss: 0.2571, Train Acc: 0.8498, Val Acc: 0.7884\n"
     ]
    },
    {
     "name": "stderr",
     "output_type": "stream",
     "text": [
      "Iterating training graphs: 100%|██████████| 192/192 [00:22<00:00,  8.72batch/s]\n",
      "Iterating eval graphs: 100%|██████████| 48/48 [00:02<00:00, 16.36batch/s]\n",
      "Epoch 145/400, Loss: 0.2428, Train Acc: 0.8599, Val Acc: 0.7956\n",
      "Epoch 145/400, Loss: 0.2428, Train Acc: 0.8599, Val Acc: 0.7956\n",
      "Epoch 145/400, Loss: 0.2428, Train Acc: 0.8599, Val Acc: 0.7956\n"
     ]
    },
    {
     "name": "stdout",
     "output_type": "stream",
     "text": [
      "Epoch 145/400, Loss: 0.2428, Train Acc: 0.8599, Val Acc: 0.7956\n"
     ]
    },
    {
     "name": "stderr",
     "output_type": "stream",
     "text": [
      "Iterating training graphs: 100%|██████████| 192/192 [00:22<00:00,  8.70batch/s]\n",
      "Iterating eval graphs: 100%|██████████| 48/48 [00:02<00:00, 16.29batch/s]\n",
      "Epoch 146/400, Loss: 0.2393, Train Acc: 0.8652, Val Acc: 0.7839\n",
      "Epoch 146/400, Loss: 0.2393, Train Acc: 0.8652, Val Acc: 0.7839\n",
      "Epoch 146/400, Loss: 0.2393, Train Acc: 0.8652, Val Acc: 0.7839\n"
     ]
    },
    {
     "name": "stdout",
     "output_type": "stream",
     "text": [
      "Epoch 146/400, Loss: 0.2393, Train Acc: 0.8652, Val Acc: 0.7839\n"
     ]
    },
    {
     "name": "stderr",
     "output_type": "stream",
     "text": [
      "Iterating training graphs: 100%|██████████| 192/192 [00:22<00:00,  8.70batch/s]\n",
      "Iterating eval graphs: 100%|██████████| 48/48 [00:02<00:00, 16.39batch/s]\n",
      "Epoch 147/400, Loss: 0.2472, Train Acc: 0.8604, Val Acc: 0.7923\n",
      "Epoch 147/400, Loss: 0.2472, Train Acc: 0.8604, Val Acc: 0.7923\n",
      "Epoch 147/400, Loss: 0.2472, Train Acc: 0.8604, Val Acc: 0.7923\n"
     ]
    },
    {
     "name": "stdout",
     "output_type": "stream",
     "text": [
      "Epoch 147/400, Loss: 0.2472, Train Acc: 0.8604, Val Acc: 0.7923\n"
     ]
    },
    {
     "name": "stderr",
     "output_type": "stream",
     "text": [
      "Iterating training graphs: 100%|██████████| 192/192 [00:21<00:00,  8.75batch/s]\n",
      "Iterating eval graphs: 100%|██████████| 48/48 [00:03<00:00, 15.82batch/s]\n",
      "Epoch 148/400, Loss: 0.2409, Train Acc: 0.8674, Val Acc: 0.7826\n",
      "Epoch 148/400, Loss: 0.2409, Train Acc: 0.8674, Val Acc: 0.7826\n",
      "Epoch 148/400, Loss: 0.2409, Train Acc: 0.8674, Val Acc: 0.7826\n"
     ]
    },
    {
     "name": "stdout",
     "output_type": "stream",
     "text": [
      "Epoch 148/400, Loss: 0.2409, Train Acc: 0.8674, Val Acc: 0.7826\n"
     ]
    },
    {
     "name": "stderr",
     "output_type": "stream",
     "text": [
      "Iterating training graphs: 100%|██████████| 192/192 [00:21<00:00,  8.76batch/s]\n",
      "Iterating eval graphs: 100%|██████████| 48/48 [00:02<00:00, 16.22batch/s]\n",
      "Epoch 149/400, Loss: 0.2338, Train Acc: 0.8701, Val Acc: 0.7917\n",
      "Epoch 149/400, Loss: 0.2338, Train Acc: 0.8701, Val Acc: 0.7917\n",
      "Epoch 149/400, Loss: 0.2338, Train Acc: 0.8701, Val Acc: 0.7917\n"
     ]
    },
    {
     "name": "stdout",
     "output_type": "stream",
     "text": [
      "Epoch 149/400, Loss: 0.2338, Train Acc: 0.8701, Val Acc: 0.7917\n"
     ]
    },
    {
     "name": "stderr",
     "output_type": "stream",
     "text": [
      "Iterating training graphs: 100%|██████████| 192/192 [00:21<00:00,  8.75batch/s]\n",
      "Iterating eval graphs: 100%|██████████| 48/48 [00:02<00:00, 16.08batch/s]\n",
      "Epoch 150/400, Loss: 0.2343, Train Acc: 0.8701, Val Acc: 0.7812\n",
      "Epoch 150/400, Loss: 0.2343, Train Acc: 0.8701, Val Acc: 0.7812\n",
      "Epoch 150/400, Loss: 0.2343, Train Acc: 0.8701, Val Acc: 0.7812\n"
     ]
    },
    {
     "name": "stdout",
     "output_type": "stream",
     "text": [
      "Epoch 150/400, Loss: 0.2343, Train Acc: 0.8701, Val Acc: 0.7812\n"
     ]
    },
    {
     "name": "stderr",
     "output_type": "stream",
     "text": [
      "Iterating training graphs: 100%|██████████| 192/192 [00:21<00:00,  8.73batch/s]\n",
      "Iterating eval graphs: 100%|██████████| 48/48 [00:02<00:00, 16.21batch/s]\n",
      "Epoch 151/400, Loss: 0.2420, Train Acc: 0.8630, Val Acc: 0.7878\n",
      "Epoch 151/400, Loss: 0.2420, Train Acc: 0.8630, Val Acc: 0.7878\n",
      "Epoch 151/400, Loss: 0.2420, Train Acc: 0.8630, Val Acc: 0.7878\n"
     ]
    },
    {
     "name": "stdout",
     "output_type": "stream",
     "text": [
      "Epoch 151/400, Loss: 0.2420, Train Acc: 0.8630, Val Acc: 0.7878\n"
     ]
    },
    {
     "name": "stderr",
     "output_type": "stream",
     "text": [
      "Iterating training graphs: 100%|██████████| 192/192 [00:22<00:00,  8.70batch/s]\n",
      "Iterating eval graphs: 100%|██████████| 48/48 [00:03<00:00, 15.49batch/s]\n",
      "Epoch 152/400, Loss: 0.2332, Train Acc: 0.8700, Val Acc: 0.7682\n",
      "Epoch 152/400, Loss: 0.2332, Train Acc: 0.8700, Val Acc: 0.7682\n",
      "Epoch 152/400, Loss: 0.2332, Train Acc: 0.8700, Val Acc: 0.7682\n"
     ]
    },
    {
     "name": "stdout",
     "output_type": "stream",
     "text": [
      "Epoch 152/400, Loss: 0.2332, Train Acc: 0.8700, Val Acc: 0.7682\n"
     ]
    },
    {
     "name": "stderr",
     "output_type": "stream",
     "text": [
      "Iterating training graphs: 100%|██████████| 192/192 [00:22<00:00,  8.67batch/s]\n",
      "Iterating eval graphs: 100%|██████████| 48/48 [00:02<00:00, 16.08batch/s]\n",
      "Epoch 153/400, Loss: 0.2423, Train Acc: 0.8634, Val Acc: 0.7663\n",
      "Epoch 153/400, Loss: 0.2423, Train Acc: 0.8634, Val Acc: 0.7663\n",
      "Epoch 153/400, Loss: 0.2423, Train Acc: 0.8634, Val Acc: 0.7663\n"
     ]
    },
    {
     "name": "stdout",
     "output_type": "stream",
     "text": [
      "Epoch 153/400, Loss: 0.2423, Train Acc: 0.8634, Val Acc: 0.7663\n"
     ]
    },
    {
     "name": "stderr",
     "output_type": "stream",
     "text": [
      "Iterating training graphs: 100%|██████████| 192/192 [00:21<00:00,  8.75batch/s]\n",
      "Iterating eval graphs: 100%|██████████| 48/48 [00:02<00:00, 16.15batch/s]\n",
      "Epoch 154/400, Loss: 0.2360, Train Acc: 0.8646, Val Acc: 0.7793\n",
      "Epoch 154/400, Loss: 0.2360, Train Acc: 0.8646, Val Acc: 0.7793\n",
      "Epoch 154/400, Loss: 0.2360, Train Acc: 0.8646, Val Acc: 0.7793\n"
     ]
    },
    {
     "name": "stdout",
     "output_type": "stream",
     "text": [
      "Epoch 154/400, Loss: 0.2360, Train Acc: 0.8646, Val Acc: 0.7793\n"
     ]
    },
    {
     "name": "stderr",
     "output_type": "stream",
     "text": [
      "Iterating training graphs: 100%|██████████| 192/192 [00:22<00:00,  8.69batch/s]\n",
      "Iterating eval graphs: 100%|██████████| 48/48 [00:02<00:00, 16.02batch/s]\n",
      "Epoch 155/400, Loss: 0.2478, Train Acc: 0.8607, Val Acc: 0.7754\n",
      "Epoch 155/400, Loss: 0.2478, Train Acc: 0.8607, Val Acc: 0.7754\n",
      "Epoch 155/400, Loss: 0.2478, Train Acc: 0.8607, Val Acc: 0.7754\n"
     ]
    },
    {
     "name": "stdout",
     "output_type": "stream",
     "text": [
      "Epoch 155/400, Loss: 0.2478, Train Acc: 0.8607, Val Acc: 0.7754\n"
     ]
    },
    {
     "name": "stderr",
     "output_type": "stream",
     "text": [
      "Iterating training graphs: 100%|██████████| 192/192 [00:21<00:00,  8.76batch/s]\n",
      "Iterating eval graphs: 100%|██████████| 48/48 [00:02<00:00, 16.37batch/s]\n",
      "Epoch 156/400, Loss: 0.2379, Train Acc: 0.8685, Val Acc: 0.7930\n",
      "Epoch 156/400, Loss: 0.2379, Train Acc: 0.8685, Val Acc: 0.7930\n",
      "Epoch 156/400, Loss: 0.2379, Train Acc: 0.8685, Val Acc: 0.7930\n"
     ]
    },
    {
     "name": "stdout",
     "output_type": "stream",
     "text": [
      "Epoch 156/400, Loss: 0.2379, Train Acc: 0.8685, Val Acc: 0.7930\n"
     ]
    },
    {
     "name": "stderr",
     "output_type": "stream",
     "text": [
      "Iterating training graphs: 100%|██████████| 192/192 [00:22<00:00,  8.67batch/s]\n",
      "Iterating eval graphs: 100%|██████████| 48/48 [00:02<00:00, 16.21batch/s]\n",
      "Epoch 157/400, Loss: 0.2370, Train Acc: 0.8675, Val Acc: 0.7904\n",
      "Epoch 157/400, Loss: 0.2370, Train Acc: 0.8675, Val Acc: 0.7904\n",
      "Epoch 157/400, Loss: 0.2370, Train Acc: 0.8675, Val Acc: 0.7904\n"
     ]
    },
    {
     "name": "stdout",
     "output_type": "stream",
     "text": [
      "Epoch 157/400, Loss: 0.2370, Train Acc: 0.8675, Val Acc: 0.7904\n"
     ]
    },
    {
     "name": "stderr",
     "output_type": "stream",
     "text": [
      "Iterating training graphs: 100%|██████████| 192/192 [00:21<00:00,  8.75batch/s]\n",
      "Iterating eval graphs: 100%|██████████| 48/48 [00:02<00:00, 16.45batch/s]\n",
      "Epoch 158/400, Loss: 0.2408, Train Acc: 0.8643, Val Acc: 0.7904\n",
      "Epoch 158/400, Loss: 0.2408, Train Acc: 0.8643, Val Acc: 0.7904\n",
      "Epoch 158/400, Loss: 0.2408, Train Acc: 0.8643, Val Acc: 0.7904\n"
     ]
    },
    {
     "name": "stdout",
     "output_type": "stream",
     "text": [
      "Epoch 158/400, Loss: 0.2408, Train Acc: 0.8643, Val Acc: 0.7904\n"
     ]
    },
    {
     "name": "stderr",
     "output_type": "stream",
     "text": [
      "Iterating training graphs: 100%|██████████| 192/192 [00:21<00:00,  8.74batch/s]\n",
      "Iterating eval graphs: 100%|██████████| 48/48 [00:02<00:00, 16.08batch/s]\n",
      "Epoch 159/400, Loss: 0.2234, Train Acc: 0.8768, Val Acc: 0.7852\n",
      "Epoch 159/400, Loss: 0.2234, Train Acc: 0.8768, Val Acc: 0.7852\n",
      "Epoch 159/400, Loss: 0.2234, Train Acc: 0.8768, Val Acc: 0.7852\n"
     ]
    },
    {
     "name": "stdout",
     "output_type": "stream",
     "text": [
      "Epoch 159/400, Loss: 0.2234, Train Acc: 0.8768, Val Acc: 0.7852\n"
     ]
    },
    {
     "name": "stderr",
     "output_type": "stream",
     "text": [
      "Iterating training graphs: 100%|██████████| 192/192 [00:21<00:00,  8.73batch/s]\n"
     ]
    },
    {
     "name": "stdout",
     "output_type": "stream",
     "text": [
      "Checkpoint saved at /home/onyxia/work/DL-Hackathon/hackaton/checkpoints/C/model_C_epoch_160.pth\n"
     ]
    },
    {
     "name": "stderr",
     "output_type": "stream",
     "text": [
      "Iterating eval graphs: 100%|██████████| 48/48 [00:03<00:00, 15.42batch/s]\n",
      "Epoch 160/400, Loss: 0.2276, Train Acc: 0.8737, Val Acc: 0.7852\n",
      "Epoch 160/400, Loss: 0.2276, Train Acc: 0.8737, Val Acc: 0.7852\n",
      "Epoch 160/400, Loss: 0.2276, Train Acc: 0.8737, Val Acc: 0.7852\n"
     ]
    },
    {
     "name": "stdout",
     "output_type": "stream",
     "text": [
      "Epoch 160/400, Loss: 0.2276, Train Acc: 0.8737, Val Acc: 0.7852\n"
     ]
    },
    {
     "name": "stderr",
     "output_type": "stream",
     "text": [
      "Iterating training graphs:  88%|████████▊ | 169/192 [00:19<00:02,  8.73batch/s]\n"
     ]
    },
    {
     "ename": "KeyboardInterrupt",
     "evalue": "",
     "output_type": "error",
     "traceback": [
      "\u001b[31m---------------------------------------------------------------------------\u001b[39m",
      "\u001b[31mKeyboardInterrupt\u001b[39m                         Traceback (most recent call last)",
      "\u001b[36mCell\u001b[39m\u001b[36m \u001b[39m\u001b[32mIn[39]\u001b[39m\u001b[32m, line 26\u001b[39m\n\u001b[32m     23\u001b[39m     checkpoint_intervals = [num_epochs]\n\u001b[32m     25\u001b[39m \u001b[38;5;28;01mfor\u001b[39;00m epoch \u001b[38;5;129;01min\u001b[39;00m \u001b[38;5;28mrange\u001b[39m(num_epochs):\n\u001b[32m---> \u001b[39m\u001b[32m26\u001b[39m     train_loss, train_acc = \u001b[43mtrain\u001b[49m\u001b[43m(\u001b[49m\n\u001b[32m     27\u001b[39m \u001b[43m        \u001b[49m\u001b[43mtrain_loader\u001b[49m\u001b[43m,\u001b[49m\u001b[43m \u001b[49m\u001b[43mmodel\u001b[49m\u001b[43m,\u001b[49m\u001b[43m \u001b[49m\u001b[43moptimizer\u001b[49m\u001b[43m,\u001b[49m\u001b[43m \u001b[49m\u001b[43mcriterion\u001b[49m\u001b[43m,\u001b[49m\u001b[43m \u001b[49m\u001b[43mdevice\u001b[49m\u001b[43m,\u001b[49m\n\u001b[32m     28\u001b[39m \u001b[43m        \u001b[49m\u001b[43msave_checkpoints\u001b[49m\u001b[43m=\u001b[49m\u001b[43m(\u001b[49m\u001b[43mepoch\u001b[49m\u001b[43m \u001b[49m\u001b[43m+\u001b[49m\u001b[43m \u001b[49m\u001b[32;43m1\u001b[39;49m\u001b[43m \u001b[49m\u001b[38;5;129;43;01min\u001b[39;49;00m\u001b[43m \u001b[49m\u001b[43mcheckpoint_intervals\u001b[49m\u001b[43m)\u001b[49m\u001b[43m,\u001b[49m\n\u001b[32m     29\u001b[39m \u001b[43m        \u001b[49m\u001b[43mcheckpoint_path\u001b[49m\u001b[43m=\u001b[49m\u001b[43mos\u001b[49m\u001b[43m.\u001b[49m\u001b[43mpath\u001b[49m\u001b[43m.\u001b[49m\u001b[43mjoin\u001b[49m\u001b[43m(\u001b[49m\u001b[43mcheckpoints_folder\u001b[49m\u001b[43m,\u001b[49m\u001b[43m \u001b[49m\u001b[33;43mf\u001b[39;49m\u001b[33;43m\"\u001b[39;49m\u001b[33;43mmodel_\u001b[39;49m\u001b[38;5;132;43;01m{\u001b[39;49;00m\u001b[43mtest_dir_name\u001b[49m\u001b[38;5;132;43;01m}\u001b[39;49;00m\u001b[33;43m\"\u001b[39;49m\u001b[43m)\u001b[49m\u001b[43m,\u001b[49m\n\u001b[32m     30\u001b[39m \u001b[43m        \u001b[49m\u001b[43mcurrent_epoch\u001b[49m\u001b[43m=\u001b[49m\u001b[43mepoch\u001b[49m\n\u001b[32m     31\u001b[39m \u001b[43m    \u001b[49m\u001b[43m)\u001b[49m\n\u001b[32m     33\u001b[39m     val_loss,val_acc = evaluate(val_loader, model, device, calculate_accuracy=\u001b[38;5;28;01mTrue\u001b[39;00m)\n\u001b[32m     35\u001b[39m     \u001b[38;5;28mprint\u001b[39m(\u001b[33mf\u001b[39m\u001b[33m\"\u001b[39m\u001b[33mEpoch \u001b[39m\u001b[38;5;132;01m{\u001b[39;00mepoch\u001b[38;5;250m \u001b[39m+\u001b[38;5;250m \u001b[39m\u001b[32m1\u001b[39m\u001b[38;5;132;01m}\u001b[39;00m\u001b[33m/\u001b[39m\u001b[38;5;132;01m{\u001b[39;00mnum_epochs\u001b[38;5;132;01m}\u001b[39;00m\u001b[33m, Loss: \u001b[39m\u001b[38;5;132;01m{\u001b[39;00mtrain_loss\u001b[38;5;132;01m:\u001b[39;00m\u001b[33m.4f\u001b[39m\u001b[38;5;132;01m}\u001b[39;00m\u001b[33m, Train Acc: \u001b[39m\u001b[38;5;132;01m{\u001b[39;00mtrain_acc\u001b[38;5;132;01m:\u001b[39;00m\u001b[33m.4f\u001b[39m\u001b[38;5;132;01m}\u001b[39;00m\u001b[33m, Val Acc: \u001b[39m\u001b[38;5;132;01m{\u001b[39;00mval_acc\u001b[38;5;132;01m:\u001b[39;00m\u001b[33m.4f\u001b[39m\u001b[38;5;132;01m}\u001b[39;00m\u001b[33m\"\u001b[39m)\n",
      "\u001b[36mCell\u001b[39m\u001b[36m \u001b[39m\u001b[32mIn[9]\u001b[39m\u001b[32m, line 9\u001b[39m, in \u001b[36mtrain\u001b[39m\u001b[34m(data_loader, model, optimizer, criterion, device, save_checkpoints, checkpoint_path, current_epoch)\u001b[39m\n\u001b[32m      7\u001b[39m data = data.to(device)\n\u001b[32m      8\u001b[39m optimizer.zero_grad()\n\u001b[32m----> \u001b[39m\u001b[32m9\u001b[39m output = \u001b[43mmodel\u001b[49m\u001b[43m(\u001b[49m\u001b[43mdata\u001b[49m\u001b[43m)\u001b[49m\n\u001b[32m     10\u001b[39m loss = criterion(output, data.y)\n\u001b[32m     11\u001b[39m loss.backward()\n",
      "\u001b[36mFile \u001b[39m\u001b[32m/usr/local/lib/python3.12/site-packages/torch/nn/modules/module.py:1751\u001b[39m, in \u001b[36mModule._wrapped_call_impl\u001b[39m\u001b[34m(self, *args, **kwargs)\u001b[39m\n\u001b[32m   1749\u001b[39m     \u001b[38;5;28;01mreturn\u001b[39;00m \u001b[38;5;28mself\u001b[39m._compiled_call_impl(*args, **kwargs)  \u001b[38;5;66;03m# type: ignore[misc]\u001b[39;00m\n\u001b[32m   1750\u001b[39m \u001b[38;5;28;01melse\u001b[39;00m:\n\u001b[32m-> \u001b[39m\u001b[32m1751\u001b[39m     \u001b[38;5;28;01mreturn\u001b[39;00m \u001b[38;5;28;43mself\u001b[39;49m\u001b[43m.\u001b[49m\u001b[43m_call_impl\u001b[49m\u001b[43m(\u001b[49m\u001b[43m*\u001b[49m\u001b[43margs\u001b[49m\u001b[43m,\u001b[49m\u001b[43m \u001b[49m\u001b[43m*\u001b[49m\u001b[43m*\u001b[49m\u001b[43mkwargs\u001b[49m\u001b[43m)\u001b[49m\n",
      "\u001b[36mFile \u001b[39m\u001b[32m/usr/local/lib/python3.12/site-packages/torch/nn/modules/module.py:1762\u001b[39m, in \u001b[36mModule._call_impl\u001b[39m\u001b[34m(self, *args, **kwargs)\u001b[39m\n\u001b[32m   1757\u001b[39m \u001b[38;5;66;03m# If we don't have any hooks, we want to skip the rest of the logic in\u001b[39;00m\n\u001b[32m   1758\u001b[39m \u001b[38;5;66;03m# this function, and just call forward.\u001b[39;00m\n\u001b[32m   1759\u001b[39m \u001b[38;5;28;01mif\u001b[39;00m \u001b[38;5;129;01mnot\u001b[39;00m (\u001b[38;5;28mself\u001b[39m._backward_hooks \u001b[38;5;129;01mor\u001b[39;00m \u001b[38;5;28mself\u001b[39m._backward_pre_hooks \u001b[38;5;129;01mor\u001b[39;00m \u001b[38;5;28mself\u001b[39m._forward_hooks \u001b[38;5;129;01mor\u001b[39;00m \u001b[38;5;28mself\u001b[39m._forward_pre_hooks\n\u001b[32m   1760\u001b[39m         \u001b[38;5;129;01mor\u001b[39;00m _global_backward_pre_hooks \u001b[38;5;129;01mor\u001b[39;00m _global_backward_hooks\n\u001b[32m   1761\u001b[39m         \u001b[38;5;129;01mor\u001b[39;00m _global_forward_hooks \u001b[38;5;129;01mor\u001b[39;00m _global_forward_pre_hooks):\n\u001b[32m-> \u001b[39m\u001b[32m1762\u001b[39m     \u001b[38;5;28;01mreturn\u001b[39;00m \u001b[43mforward_call\u001b[49m\u001b[43m(\u001b[49m\u001b[43m*\u001b[49m\u001b[43margs\u001b[49m\u001b[43m,\u001b[49m\u001b[43m \u001b[49m\u001b[43m*\u001b[49m\u001b[43m*\u001b[49m\u001b[43mkwargs\u001b[49m\u001b[43m)\u001b[49m\n\u001b[32m   1764\u001b[39m result = \u001b[38;5;28;01mNone\u001b[39;00m\n\u001b[32m   1765\u001b[39m called_always_called_hooks = \u001b[38;5;28mset\u001b[39m()\n",
      "\u001b[36mFile \u001b[39m\u001b[32m~/work/DL-Hackathon/hackaton/src/models.py:57\u001b[39m, in \u001b[36mGNN.forward\u001b[39m\u001b[34m(self, batched_data)\u001b[39m\n\u001b[32m     56\u001b[39m \u001b[38;5;28;01mdef\u001b[39;00m\u001b[38;5;250m \u001b[39m\u001b[34mforward\u001b[39m(\u001b[38;5;28mself\u001b[39m, batched_data):\n\u001b[32m---> \u001b[39m\u001b[32m57\u001b[39m     h_node = \u001b[38;5;28;43mself\u001b[39;49m\u001b[43m.\u001b[49m\u001b[43mgnn_node\u001b[49m\u001b[43m(\u001b[49m\u001b[43mbatched_data\u001b[49m\u001b[43m)\u001b[49m\n\u001b[32m     59\u001b[39m     h_graph = \u001b[38;5;28mself\u001b[39m.pool(h_node, batched_data.batch)\n\u001b[32m     61\u001b[39m     \u001b[38;5;28;01mreturn\u001b[39;00m \u001b[38;5;28mself\u001b[39m.graph_pred_linear(h_graph)\n",
      "\u001b[36mFile \u001b[39m\u001b[32m/usr/local/lib/python3.12/site-packages/torch/nn/modules/module.py:1751\u001b[39m, in \u001b[36mModule._wrapped_call_impl\u001b[39m\u001b[34m(self, *args, **kwargs)\u001b[39m\n\u001b[32m   1749\u001b[39m     \u001b[38;5;28;01mreturn\u001b[39;00m \u001b[38;5;28mself\u001b[39m._compiled_call_impl(*args, **kwargs)  \u001b[38;5;66;03m# type: ignore[misc]\u001b[39;00m\n\u001b[32m   1750\u001b[39m \u001b[38;5;28;01melse\u001b[39;00m:\n\u001b[32m-> \u001b[39m\u001b[32m1751\u001b[39m     \u001b[38;5;28;01mreturn\u001b[39;00m \u001b[38;5;28;43mself\u001b[39;49m\u001b[43m.\u001b[49m\u001b[43m_call_impl\u001b[49m\u001b[43m(\u001b[49m\u001b[43m*\u001b[49m\u001b[43margs\u001b[49m\u001b[43m,\u001b[49m\u001b[43m \u001b[49m\u001b[43m*\u001b[49m\u001b[43m*\u001b[49m\u001b[43mkwargs\u001b[49m\u001b[43m)\u001b[49m\n",
      "\u001b[36mFile \u001b[39m\u001b[32m/usr/local/lib/python3.12/site-packages/torch/nn/modules/module.py:1762\u001b[39m, in \u001b[36mModule._call_impl\u001b[39m\u001b[34m(self, *args, **kwargs)\u001b[39m\n\u001b[32m   1757\u001b[39m \u001b[38;5;66;03m# If we don't have any hooks, we want to skip the rest of the logic in\u001b[39;00m\n\u001b[32m   1758\u001b[39m \u001b[38;5;66;03m# this function, and just call forward.\u001b[39;00m\n\u001b[32m   1759\u001b[39m \u001b[38;5;28;01mif\u001b[39;00m \u001b[38;5;129;01mnot\u001b[39;00m (\u001b[38;5;28mself\u001b[39m._backward_hooks \u001b[38;5;129;01mor\u001b[39;00m \u001b[38;5;28mself\u001b[39m._backward_pre_hooks \u001b[38;5;129;01mor\u001b[39;00m \u001b[38;5;28mself\u001b[39m._forward_hooks \u001b[38;5;129;01mor\u001b[39;00m \u001b[38;5;28mself\u001b[39m._forward_pre_hooks\n\u001b[32m   1760\u001b[39m         \u001b[38;5;129;01mor\u001b[39;00m _global_backward_pre_hooks \u001b[38;5;129;01mor\u001b[39;00m _global_backward_hooks\n\u001b[32m   1761\u001b[39m         \u001b[38;5;129;01mor\u001b[39;00m _global_forward_hooks \u001b[38;5;129;01mor\u001b[39;00m _global_forward_pre_hooks):\n\u001b[32m-> \u001b[39m\u001b[32m1762\u001b[39m     \u001b[38;5;28;01mreturn\u001b[39;00m \u001b[43mforward_call\u001b[49m\u001b[43m(\u001b[49m\u001b[43m*\u001b[49m\u001b[43margs\u001b[49m\u001b[43m,\u001b[49m\u001b[43m \u001b[49m\u001b[43m*\u001b[49m\u001b[43m*\u001b[49m\u001b[43mkwargs\u001b[49m\u001b[43m)\u001b[49m\n\u001b[32m   1764\u001b[39m result = \u001b[38;5;28;01mNone\u001b[39;00m\n\u001b[32m   1765\u001b[39m called_always_called_hooks = \u001b[38;5;28mset\u001b[39m()\n",
      "\u001b[36mFile \u001b[39m\u001b[32m~/work/DL-Hackathon/hackaton/src/conv.py:219\u001b[39m, in \u001b[36mGNN_node_Virtualnode.forward\u001b[39m\u001b[34m(self, batched_data)\u001b[39m\n\u001b[32m    216\u001b[39m \u001b[38;5;66;03m### update the virtual nodes\u001b[39;00m\n\u001b[32m    217\u001b[39m \u001b[38;5;28;01mif\u001b[39;00m layer < \u001b[38;5;28mself\u001b[39m.num_layer - \u001b[32m1\u001b[39m:\n\u001b[32m    218\u001b[39m     \u001b[38;5;66;03m### add message from graph nodes to virtual nodes\u001b[39;00m\n\u001b[32m--> \u001b[39m\u001b[32m219\u001b[39m     virtualnode_embedding_temp = \u001b[43mglobal_add_pool\u001b[49m\u001b[43m(\u001b[49m\u001b[43mh_list\u001b[49m\u001b[43m[\u001b[49m\u001b[43mlayer\u001b[49m\u001b[43m]\u001b[49m\u001b[43m,\u001b[49m\u001b[43m \u001b[49m\u001b[43mbatch\u001b[49m\u001b[43m)\u001b[49m + virtualnode_embedding\n\u001b[32m    220\u001b[39m     \u001b[38;5;66;03m### transform virtual nodes using MLP\u001b[39;00m\n\u001b[32m    222\u001b[39m     \u001b[38;5;28;01mif\u001b[39;00m \u001b[38;5;28mself\u001b[39m.residual:\n",
      "\u001b[36mFile \u001b[39m\u001b[32m/usr/local/lib/python3.12/site-packages/torch_geometric/nn/pool/glob.py:34\u001b[39m, in \u001b[36mglobal_add_pool\u001b[39m\u001b[34m(x, batch, size)\u001b[39m\n\u001b[32m     32\u001b[39m \u001b[38;5;28;01mif\u001b[39;00m batch \u001b[38;5;129;01mis\u001b[39;00m \u001b[38;5;28;01mNone\u001b[39;00m:\n\u001b[32m     33\u001b[39m     \u001b[38;5;28;01mreturn\u001b[39;00m x.sum(dim=dim, keepdim=x.dim() <= \u001b[32m2\u001b[39m)\n\u001b[32m---> \u001b[39m\u001b[32m34\u001b[39m \u001b[38;5;28;01mreturn\u001b[39;00m \u001b[43mscatter\u001b[49m\u001b[43m(\u001b[49m\u001b[43mx\u001b[49m\u001b[43m,\u001b[49m\u001b[43m \u001b[49m\u001b[43mbatch\u001b[49m\u001b[43m,\u001b[49m\u001b[43m \u001b[49m\u001b[43mdim\u001b[49m\u001b[43m=\u001b[49m\u001b[43mdim\u001b[49m\u001b[43m,\u001b[49m\u001b[43m \u001b[49m\u001b[43mdim_size\u001b[49m\u001b[43m=\u001b[49m\u001b[43msize\u001b[49m\u001b[43m,\u001b[49m\u001b[43m \u001b[49m\u001b[43mreduce\u001b[49m\u001b[43m=\u001b[49m\u001b[33;43m'\u001b[39;49m\u001b[33;43msum\u001b[39;49m\u001b[33;43m'\u001b[39;49m\u001b[43m)\u001b[49m\n",
      "\u001b[36mFile \u001b[39m\u001b[32m/usr/local/lib/python3.12/site-packages/torch_geometric/utils/_scatter.py:53\u001b[39m, in \u001b[36mscatter\u001b[39m\u001b[34m(src, index, dim, dim_size, reduce)\u001b[39m\n\u001b[32m     49\u001b[39m     \u001b[38;5;28;01mraise\u001b[39;00m \u001b[38;5;167;01mValueError\u001b[39;00m(\u001b[33mf\u001b[39m\u001b[33m\"\u001b[39m\u001b[33mThe `dim` argument must lay between 0 and \u001b[39m\u001b[33m\"\u001b[39m\n\u001b[32m     50\u001b[39m                      \u001b[33mf\u001b[39m\u001b[33m\"\u001b[39m\u001b[38;5;132;01m{\u001b[39;00msrc.dim()\u001b[38;5;250m \u001b[39m-\u001b[38;5;250m \u001b[39m\u001b[32m1\u001b[39m\u001b[38;5;132;01m}\u001b[39;00m\u001b[33m (got \u001b[39m\u001b[38;5;132;01m{\u001b[39;00mdim\u001b[38;5;132;01m}\u001b[39;00m\u001b[33m)\u001b[39m\u001b[33m\"\u001b[39m)\n\u001b[32m     52\u001b[39m \u001b[38;5;28;01mif\u001b[39;00m dim_size \u001b[38;5;129;01mis\u001b[39;00m \u001b[38;5;28;01mNone\u001b[39;00m:\n\u001b[32m---> \u001b[39m\u001b[32m53\u001b[39m     dim_size = \u001b[38;5;28;43mint\u001b[39;49m\u001b[43m(\u001b[49m\u001b[43mindex\u001b[49m\u001b[43m.\u001b[49m\u001b[43mmax\u001b[49m\u001b[43m(\u001b[49m\u001b[43m)\u001b[49m\u001b[43m)\u001b[49m + \u001b[32m1\u001b[39m \u001b[38;5;28;01mif\u001b[39;00m index.numel() > \u001b[32m0\u001b[39m \u001b[38;5;28;01melse\u001b[39;00m \u001b[32m0\u001b[39m\n\u001b[32m     55\u001b[39m \u001b[38;5;66;03m# For now, we maintain various different code paths, based on whether\u001b[39;00m\n\u001b[32m     56\u001b[39m \u001b[38;5;66;03m# the input requires gradients and whether it lays on the CPU/GPU.\u001b[39;00m\n\u001b[32m     57\u001b[39m \u001b[38;5;66;03m# For example, `torch_scatter` is usually faster than\u001b[39;00m\n\u001b[32m   (...)\u001b[39m\u001b[32m     62\u001b[39m \u001b[38;5;66;03m# indices, but is therefore way slower in its backward implementation.\u001b[39;00m\n\u001b[32m     63\u001b[39m \u001b[38;5;66;03m# More insights can be found in `test/utils/test_scatter.py`.\u001b[39;00m\n\u001b[32m     65\u001b[39m size = src.size()[:dim] + (dim_size, ) + src.size()[dim + \u001b[32m1\u001b[39m:]\n",
      "\u001b[31mKeyboardInterrupt\u001b[39m: "
     ]
    }
   ],
   "source": [
    "if args.train_path:\n",
    "    full_dataset = GraphDataset(args.train_path, transform=add_zeros)\n",
    "    val_size = int(0.2 * len(full_dataset))\n",
    "    train_size = len(full_dataset) - val_size\n",
    "    \n",
    "    generator = torch.Generator().manual_seed(12)\n",
    "    train_dataset, val_dataset = random_split(full_dataset, [train_size, val_size], generator=generator)\n",
    "\n",
    "    train_loader = DataLoader(train_dataset, batch_size=args.batch_size, shuffle=True)\n",
    "    val_loader = DataLoader(val_dataset, batch_size=args.batch_size, shuffle=False)\n",
    "\n",
    "    num_epochs = args.epochs\n",
    "    best_val_accuracy = 0.0   \n",
    "\n",
    "    train_losses = []\n",
    "    train_accuracies = []\n",
    "    val_losses = []\n",
    "    val_accuracies = []\n",
    "\n",
    "    if num_checkpoints > 1:\n",
    "        checkpoint_intervals = [int((i + 1) * num_epochs / num_checkpoints) for i in range(num_checkpoints)]\n",
    "    else:\n",
    "        checkpoint_intervals = [num_epochs]\n",
    "\n",
    "    for epoch in range(num_epochs):\n",
    "        train_loss, train_acc = train(\n",
    "            train_loader, model, optimizer, criterion, device,\n",
    "            save_checkpoints=(epoch + 1 in checkpoint_intervals),\n",
    "            checkpoint_path=os.path.join(checkpoints_folder, f\"model_{test_dir_name}\"),\n",
    "            current_epoch=epoch\n",
    "        )\n",
    "\n",
    "        val_loss,val_acc = evaluate(val_loader, model, device, calculate_accuracy=True)\n",
    "\n",
    "        print(f\"Epoch {epoch + 1}/{num_epochs}, Loss: {train_loss:.4f}, Train Acc: {train_acc:.4f}, Val Acc: {val_acc:.4f}\")\n",
    "        logging.info(f\"Epoch {epoch + 1}/{num_epochs}, Loss: {train_loss:.4f}, Train Acc: {train_acc:.4f}, Val Acc: {val_acc:.4f}\")\n",
    "\n",
    "        train_losses.append(train_loss)\n",
    "        train_accuracies.append(train_acc)\n",
    "        val_losses.append(val_loss)\n",
    "        val_accuracies.append(val_acc)\n",
    "\n",
    "        \n",
    "        if val_acc > best_val_accuracy:\n",
    "            best_val_accuracy = val_acc\n",
    "            torch.save(model.state_dict(), checkpoint_path)\n",
    "            print(f\"Best model updated and saved at {checkpoint_path}\")\n",
    "\n",
    "    plot_training_progress(train_losses, train_accuracies, os.path.join(logs_folder, \"plots\"))\n",
    "    plot_training_progress(val_losses, val_accuracies, os.path.join(logs_folder, \"plotsVal\"))"
   ]
  },
  {
   "cell_type": "code",
   "execution_count": 40,
   "id": "6b202b1c-1c8f-400f-95d3-ba783fce55e7",
   "metadata": {},
   "outputs": [],
   "source": [
    "plot_training_progress(train_losses, train_accuracies, os.path.join(logs_folder, \"plots\"))\n",
    "plot_training_progress(val_losses, val_accuracies, os.path.join(logs_folder, \"plotsVal\"))"
   ]
  },
  {
   "cell_type": "code",
   "execution_count": 41,
   "id": "d0f938a2-6e10-4c78-a4c4-59f77b2252c8",
   "metadata": {
    "papermill": {
     "duration": null,
     "end_time": null,
     "exception": null,
     "start_time": null,
     "status": "pending"
    },
    "tags": []
   },
   "outputs": [
    {
     "data": {
      "text/plain": [
       "72858"
      ]
     },
     "execution_count": 41,
     "metadata": {},
     "output_type": "execute_result"
    }
   ],
   "source": [
    "import gc\n",
    "del train_dataset\n",
    "del train_loader\n",
    "del full_dataset\n",
    "del val_dataset\n",
    "del val_loader\n",
    "gc.collect()"
   ]
  },
  {
   "cell_type": "code",
   "execution_count": 42,
   "id": "b5ee45ff-16a0-4e8a-a689-9e62ce7d4240",
   "metadata": {
    "id": "xsXZIj4Mdu3I",
    "papermill": {
     "duration": null,
     "end_time": null,
     "exception": null,
     "start_time": null,
     "status": "pending"
    },
    "tags": []
   },
   "outputs": [
    {
     "name": "stdout",
     "output_type": "stream",
     "text": [
      "Loading graphs from datasets/C/test.json.gz...\n",
      "This may take a few minutes, please wait...\n"
     ]
    },
    {
     "name": "stderr",
     "output_type": "stream",
     "text": [
      "Processing graphs: 100%|██████████| 1530/1530 [00:05<00:00, 257.91graph/s]\n"
     ]
    }
   ],
   "source": [
    "test_dataset = GraphDataset(args.test_path, transform=add_zeros)\n",
    "test_loader = DataLoader(test_dataset, batch_size=args.batch_size, shuffle=False)\n",
    "    "
   ]
  },
  {
   "cell_type": "code",
   "execution_count": 43,
   "id": "887b8aaa-821c-4f66-bd60-0fb1f1c10f19",
   "metadata": {
    "id": "x1OnGq_nCmTr",
    "papermill": {
     "duration": null,
     "end_time": null,
     "exception": null,
     "start_time": null,
     "status": "pending"
    },
    "tags": []
   },
   "outputs": [
    {
     "name": "stderr",
     "output_type": "stream",
     "text": [
      "Iterating eval graphs: 100%|██████████| 48/48 [00:02<00:00, 16.15batch/s]"
     ]
    },
    {
     "name": "stdout",
     "output_type": "stream",
     "text": [
      "Predictions saved to /home/onyxia/work/DL-Hackathon/hackaton/submission/testset_C.csv\n"
     ]
    },
    {
     "name": "stderr",
     "output_type": "stream",
     "text": [
      "\n"
     ]
    }
   ],
   "source": [
    "model.load_state_dict(torch.load(checkpoint_path))\n",
    "predictions = evaluate(test_loader, model, device, calculate_accuracy=False)\n",
    "save_predictions(predictions, args.test_path)"
   ]
  },
  {
   "cell_type": "markdown",
   "id": "9f5d109a-f564-432c-b409-4d494fffee54",
   "metadata": {},
   "source": [
    "# D"
   ]
  },
  {
   "cell_type": "code",
   "execution_count": 44,
   "id": "0b5803b1-abe5-43ef-a4e4-c9aa7174551d",
   "metadata": {
    "papermill": {
     "duration": 0.118164,
     "end_time": "2025-05-21T16:25:02.850799",
     "exception": true,
     "start_time": "2025-05-21T16:25:02.732635",
     "status": "failed"
    },
    "tags": []
   },
   "outputs": [],
   "source": [
    "args.train_path = 'datasets/D/train.json.gz'\n",
    "args.test_path = 'datasets/D/test.json.gz'"
   ]
  },
  {
   "cell_type": "code",
   "execution_count": 45,
   "id": "f7cab60a-71a4-45fd-b254-873bfc36a680",
   "metadata": {
    "id": "lHX55XGECXBr",
    "papermill": {
     "duration": null,
     "end_time": null,
     "exception": null,
     "start_time": null,
     "status": "pending"
    },
    "tags": []
   },
   "outputs": [],
   "source": [
    "script_dir = os.getcwd() \n",
    "# device = torch.device(f\"cuda:{args.device}\" if torch.cuda.is_available() else \"cpu\")\n",
    "device = torch.device(\"cuda\" if torch.cuda.is_available() else \"cpu\")\n",
    "num_checkpoints = args.num_checkpoints if args.num_checkpoints else 3\n",
    "    \n",
    "if args.gnn == 'gin':\n",
    "    model = GNN(gnn_type='gin', num_class=6, num_layer=args.num_layer, emb_dim=args.emb_dim, drop_ratio=args.drop_ratio, virtual_node=False).to(device)\n",
    "elif args.gnn == 'gin-virtual':\n",
    "    model = GNN(gnn_type='gin', num_class=6, num_layer=args.num_layer, emb_dim=args.emb_dim, drop_ratio=args.drop_ratio, virtual_node=True).to(device)\n",
    "elif args.gnn == 'gcn':\n",
    "    model = GNN(gnn_type='gcn', num_class=6, num_layer=args.num_layer, emb_dim=args.emb_dim, drop_ratio=args.drop_ratio, virtual_node=False).to(device)\n",
    "elif args.gnn == 'gcn-virtual':\n",
    "    model = GNN(gnn_type='gcn', num_class=6, num_layer=args.num_layer, emb_dim=args.emb_dim, drop_ratio=args.drop_ratio, virtual_node=True).to(device)\n",
    "else:\n",
    "    raise ValueError('Invalid GNN type')\n",
    "    \n",
    "optimizer = torch.optim.Adam(model.parameters(), lr=0.001)\n",
    "# criterion = torch.nn.CrossEntropyLoss()\n",
    "if args.baseline_mode == 2:\n",
    "    criterion = GCODLoss(gamma=0.2)\n",
    "else:\n",
    "    criterion = torch.nn.CrossEntropyLoss()"
   ]
  },
  {
   "cell_type": "code",
   "execution_count": 46,
   "id": "b964441f-8b35-48bb-8cae-93dc77e9c830",
   "metadata": {
    "id": "BTYT5jYuChPb",
    "papermill": {
     "duration": null,
     "end_time": null,
     "exception": null,
     "start_time": null,
     "status": "pending"
    },
    "tags": []
   },
   "outputs": [],
   "source": [
    "test_dir_name = os.path.basename(os.path.dirname(args.test_path))\n",
    "logs_folder = os.path.join(script_dir, \"logs\", test_dir_name)\n",
    "log_file = os.path.join(logs_folder, \"training.log\")\n",
    "os.makedirs(os.path.dirname(log_file), exist_ok=True)\n",
    "logging.basicConfig(filename=log_file, level=logging.INFO, format='%(asctime)s - %(message)s')\n",
    "logging.getLogger().addHandler(logging.StreamHandler())\n",
    "\n",
    "checkpoint_path = os.path.join(script_dir, \"checkpoints\", f\"model_{test_dir_name}_best.pth\")\n",
    "checkpoints_folder = os.path.join(script_dir, \"checkpoints\", test_dir_name)\n",
    "os.makedirs(checkpoints_folder, exist_ok=True)"
   ]
  },
  {
   "cell_type": "code",
   "execution_count": 47,
   "id": "00ef7573-3542-414b-b87a-e68190805a1a",
   "metadata": {
    "papermill": {
     "duration": null,
     "end_time": null,
     "exception": null,
     "start_time": null,
     "status": "pending"
    },
    "tags": []
   },
   "outputs": [],
   "source": [
    "if os.path.exists(checkpoint_path) and not args.train_path:\n",
    "    model.load_state_dict(torch.load(checkpoint_path))\n",
    "    print(f\"Loaded best model from {checkpoint_path}\")"
   ]
  },
  {
   "cell_type": "code",
   "execution_count": 48,
   "id": "7ae26b24-83b8-40b0-9fb2-71dcf0ee1dc7",
   "metadata": {
    "papermill": {
     "duration": null,
     "end_time": null,
     "exception": null,
     "start_time": null,
     "status": "pending"
    },
    "scrolled": true,
    "tags": []
   },
   "outputs": [
    {
     "name": "stdout",
     "output_type": "stream",
     "text": [
      "Loading graphs from datasets/D/train.json.gz...\n",
      "This may take a few minutes, please wait...\n"
     ]
    },
    {
     "name": "stderr",
     "output_type": "stream",
     "text": [
      "Processing graphs: 100%|██████████| 10280/10280 [00:53<00:00, 191.26graph/s]\n",
      "Iterating training graphs: 100%|██████████| 257/257 [00:30<00:00,  8.44batch/s]\n",
      "Iterating eval graphs: 100%|██████████| 65/65 [00:04<00:00, 15.30batch/s]\n",
      "Epoch 1/400, Loss: 1.1863, Train Acc: 0.2608, Val Acc: 0.3312\n",
      "Epoch 1/400, Loss: 1.1863, Train Acc: 0.2608, Val Acc: 0.3312\n",
      "Epoch 1/400, Loss: 1.1863, Train Acc: 0.2608, Val Acc: 0.3312\n",
      "Epoch 1/400, Loss: 1.1863, Train Acc: 0.2608, Val Acc: 0.3312\n"
     ]
    },
    {
     "name": "stdout",
     "output_type": "stream",
     "text": [
      "Epoch 1/400, Loss: 1.1863, Train Acc: 0.2608, Val Acc: 0.3312\n",
      "Best model updated and saved at /home/onyxia/work/DL-Hackathon/hackaton/checkpoints/model_D_best.pth\n"
     ]
    },
    {
     "name": "stderr",
     "output_type": "stream",
     "text": [
      "Iterating training graphs: 100%|██████████| 257/257 [00:30<00:00,  8.31batch/s]\n",
      "Iterating eval graphs: 100%|██████████| 65/65 [00:04<00:00, 15.34batch/s]\n",
      "Epoch 2/400, Loss: 1.1115, Train Acc: 0.3053, Val Acc: 0.3025\n",
      "Epoch 2/400, Loss: 1.1115, Train Acc: 0.3053, Val Acc: 0.3025\n",
      "Epoch 2/400, Loss: 1.1115, Train Acc: 0.3053, Val Acc: 0.3025\n",
      "Epoch 2/400, Loss: 1.1115, Train Acc: 0.3053, Val Acc: 0.3025\n"
     ]
    },
    {
     "name": "stdout",
     "output_type": "stream",
     "text": [
      "Epoch 2/400, Loss: 1.1115, Train Acc: 0.3053, Val Acc: 0.3025\n"
     ]
    },
    {
     "name": "stderr",
     "output_type": "stream",
     "text": [
      "Iterating training graphs: 100%|██████████| 257/257 [00:31<00:00,  8.28batch/s]\n",
      "Iterating eval graphs: 100%|██████████| 65/65 [00:04<00:00, 15.18batch/s]\n",
      "Epoch 3/400, Loss: 1.0971, Train Acc: 0.3197, Val Acc: 0.3429\n",
      "Epoch 3/400, Loss: 1.0971, Train Acc: 0.3197, Val Acc: 0.3429\n",
      "Epoch 3/400, Loss: 1.0971, Train Acc: 0.3197, Val Acc: 0.3429\n",
      "Epoch 3/400, Loss: 1.0971, Train Acc: 0.3197, Val Acc: 0.3429\n"
     ]
    },
    {
     "name": "stdout",
     "output_type": "stream",
     "text": [
      "Epoch 3/400, Loss: 1.0971, Train Acc: 0.3197, Val Acc: 0.3429\n",
      "Best model updated and saved at /home/onyxia/work/DL-Hackathon/hackaton/checkpoints/model_D_best.pth\n"
     ]
    },
    {
     "name": "stderr",
     "output_type": "stream",
     "text": [
      "Iterating training graphs: 100%|██████████| 257/257 [00:30<00:00,  8.35batch/s]\n",
      "Iterating eval graphs: 100%|██████████| 65/65 [00:04<00:00, 15.38batch/s]\n",
      "Epoch 4/400, Loss: 1.0742, Train Acc: 0.3393, Val Acc: 0.3614\n",
      "Epoch 4/400, Loss: 1.0742, Train Acc: 0.3393, Val Acc: 0.3614\n",
      "Epoch 4/400, Loss: 1.0742, Train Acc: 0.3393, Val Acc: 0.3614\n",
      "Epoch 4/400, Loss: 1.0742, Train Acc: 0.3393, Val Acc: 0.3614\n"
     ]
    },
    {
     "name": "stdout",
     "output_type": "stream",
     "text": [
      "Epoch 4/400, Loss: 1.0742, Train Acc: 0.3393, Val Acc: 0.3614\n",
      "Best model updated and saved at /home/onyxia/work/DL-Hackathon/hackaton/checkpoints/model_D_best.pth\n"
     ]
    },
    {
     "name": "stderr",
     "output_type": "stream",
     "text": [
      "Iterating training graphs: 100%|██████████| 257/257 [00:31<00:00,  8.28batch/s]\n",
      "Iterating eval graphs: 100%|██████████| 65/65 [00:04<00:00, 15.10batch/s]\n",
      "Epoch 5/400, Loss: 1.0646, Train Acc: 0.3469, Val Acc: 0.3701\n",
      "Epoch 5/400, Loss: 1.0646, Train Acc: 0.3469, Val Acc: 0.3701\n",
      "Epoch 5/400, Loss: 1.0646, Train Acc: 0.3469, Val Acc: 0.3701\n",
      "Epoch 5/400, Loss: 1.0646, Train Acc: 0.3469, Val Acc: 0.3701\n"
     ]
    },
    {
     "name": "stdout",
     "output_type": "stream",
     "text": [
      "Epoch 5/400, Loss: 1.0646, Train Acc: 0.3469, Val Acc: 0.3701\n",
      "Best model updated and saved at /home/onyxia/work/DL-Hackathon/hackaton/checkpoints/model_D_best.pth\n"
     ]
    },
    {
     "name": "stderr",
     "output_type": "stream",
     "text": [
      "Iterating training graphs: 100%|██████████| 257/257 [00:31<00:00,  8.27batch/s]\n",
      "Iterating eval graphs: 100%|██████████| 65/65 [00:04<00:00, 15.33batch/s]\n",
      "Epoch 6/400, Loss: 1.0285, Train Acc: 0.3818, Val Acc: 0.3765\n",
      "Epoch 6/400, Loss: 1.0285, Train Acc: 0.3818, Val Acc: 0.3765\n",
      "Epoch 6/400, Loss: 1.0285, Train Acc: 0.3818, Val Acc: 0.3765\n",
      "Epoch 6/400, Loss: 1.0285, Train Acc: 0.3818, Val Acc: 0.3765\n"
     ]
    },
    {
     "name": "stdout",
     "output_type": "stream",
     "text": [
      "Epoch 6/400, Loss: 1.0285, Train Acc: 0.3818, Val Acc: 0.3765\n",
      "Best model updated and saved at /home/onyxia/work/DL-Hackathon/hackaton/checkpoints/model_D_best.pth\n"
     ]
    },
    {
     "name": "stderr",
     "output_type": "stream",
     "text": [
      "Iterating training graphs: 100%|██████████| 257/257 [00:30<00:00,  8.36batch/s]\n",
      "Iterating eval graphs: 100%|██████████| 65/65 [00:04<00:00, 15.52batch/s]\n",
      "Epoch 7/400, Loss: 0.9872, Train Acc: 0.4145, Val Acc: 0.4538\n",
      "Epoch 7/400, Loss: 0.9872, Train Acc: 0.4145, Val Acc: 0.4538\n",
      "Epoch 7/400, Loss: 0.9872, Train Acc: 0.4145, Val Acc: 0.4538\n",
      "Epoch 7/400, Loss: 0.9872, Train Acc: 0.4145, Val Acc: 0.4538\n"
     ]
    },
    {
     "name": "stdout",
     "output_type": "stream",
     "text": [
      "Epoch 7/400, Loss: 0.9872, Train Acc: 0.4145, Val Acc: 0.4538\n",
      "Best model updated and saved at /home/onyxia/work/DL-Hackathon/hackaton/checkpoints/model_D_best.pth\n"
     ]
    },
    {
     "name": "stderr",
     "output_type": "stream",
     "text": [
      "Iterating training graphs: 100%|██████████| 257/257 [00:30<00:00,  8.35batch/s]\n",
      "Iterating eval graphs: 100%|██████████| 65/65 [00:04<00:00, 14.91batch/s]\n",
      "Epoch 8/400, Loss: 0.9355, Train Acc: 0.4419, Val Acc: 0.4645\n",
      "Epoch 8/400, Loss: 0.9355, Train Acc: 0.4419, Val Acc: 0.4645\n",
      "Epoch 8/400, Loss: 0.9355, Train Acc: 0.4419, Val Acc: 0.4645\n",
      "Epoch 8/400, Loss: 0.9355, Train Acc: 0.4419, Val Acc: 0.4645\n"
     ]
    },
    {
     "name": "stdout",
     "output_type": "stream",
     "text": [
      "Epoch 8/400, Loss: 0.9355, Train Acc: 0.4419, Val Acc: 0.4645\n",
      "Best model updated and saved at /home/onyxia/work/DL-Hackathon/hackaton/checkpoints/model_D_best.pth\n"
     ]
    },
    {
     "name": "stderr",
     "output_type": "stream",
     "text": [
      "Iterating training graphs: 100%|██████████| 257/257 [00:30<00:00,  8.30batch/s]\n",
      "Iterating eval graphs: 100%|██████████| 65/65 [00:04<00:00, 15.09batch/s]\n",
      "Epoch 9/400, Loss: 0.8962, Train Acc: 0.4628, Val Acc: 0.5029\n",
      "Epoch 9/400, Loss: 0.8962, Train Acc: 0.4628, Val Acc: 0.5029\n",
      "Epoch 9/400, Loss: 0.8962, Train Acc: 0.4628, Val Acc: 0.5029\n",
      "Epoch 9/400, Loss: 0.8962, Train Acc: 0.4628, Val Acc: 0.5029\n"
     ]
    },
    {
     "name": "stdout",
     "output_type": "stream",
     "text": [
      "Epoch 9/400, Loss: 0.8962, Train Acc: 0.4628, Val Acc: 0.5029\n",
      "Best model updated and saved at /home/onyxia/work/DL-Hackathon/hackaton/checkpoints/model_D_best.pth\n"
     ]
    },
    {
     "name": "stderr",
     "output_type": "stream",
     "text": [
      "Iterating training graphs: 100%|██████████| 257/257 [00:30<00:00,  8.32batch/s]\n",
      "Iterating eval graphs: 100%|██████████| 65/65 [00:04<00:00, 15.31batch/s]\n",
      "Epoch 10/400, Loss: 0.8560, Train Acc: 0.4852, Val Acc: 0.5229\n",
      "Epoch 10/400, Loss: 0.8560, Train Acc: 0.4852, Val Acc: 0.5229\n",
      "Epoch 10/400, Loss: 0.8560, Train Acc: 0.4852, Val Acc: 0.5229\n",
      "Epoch 10/400, Loss: 0.8560, Train Acc: 0.4852, Val Acc: 0.5229\n"
     ]
    },
    {
     "name": "stdout",
     "output_type": "stream",
     "text": [
      "Epoch 10/400, Loss: 0.8560, Train Acc: 0.4852, Val Acc: 0.5229\n",
      "Best model updated and saved at /home/onyxia/work/DL-Hackathon/hackaton/checkpoints/model_D_best.pth\n"
     ]
    },
    {
     "name": "stderr",
     "output_type": "stream",
     "text": [
      "Iterating training graphs: 100%|██████████| 257/257 [00:30<00:00,  8.34batch/s]\n",
      "Iterating eval graphs: 100%|██████████| 65/65 [00:04<00:00, 15.00batch/s]\n",
      "Epoch 11/400, Loss: 0.8164, Train Acc: 0.5050, Val Acc: 0.5618\n",
      "Epoch 11/400, Loss: 0.8164, Train Acc: 0.5050, Val Acc: 0.5618\n",
      "Epoch 11/400, Loss: 0.8164, Train Acc: 0.5050, Val Acc: 0.5618\n",
      "Epoch 11/400, Loss: 0.8164, Train Acc: 0.5050, Val Acc: 0.5618\n"
     ]
    },
    {
     "name": "stdout",
     "output_type": "stream",
     "text": [
      "Epoch 11/400, Loss: 0.8164, Train Acc: 0.5050, Val Acc: 0.5618\n",
      "Best model updated and saved at /home/onyxia/work/DL-Hackathon/hackaton/checkpoints/model_D_best.pth\n"
     ]
    },
    {
     "name": "stderr",
     "output_type": "stream",
     "text": [
      "Iterating training graphs: 100%|██████████| 257/257 [00:30<00:00,  8.38batch/s]\n",
      "Iterating eval graphs: 100%|██████████| 65/65 [00:04<00:00, 14.64batch/s]\n",
      "Epoch 12/400, Loss: 0.7894, Train Acc: 0.5208, Val Acc: 0.5734\n",
      "Epoch 12/400, Loss: 0.7894, Train Acc: 0.5208, Val Acc: 0.5734\n",
      "Epoch 12/400, Loss: 0.7894, Train Acc: 0.5208, Val Acc: 0.5734\n",
      "Epoch 12/400, Loss: 0.7894, Train Acc: 0.5208, Val Acc: 0.5734\n"
     ]
    },
    {
     "name": "stdout",
     "output_type": "stream",
     "text": [
      "Epoch 12/400, Loss: 0.7894, Train Acc: 0.5208, Val Acc: 0.5734\n",
      "Best model updated and saved at /home/onyxia/work/DL-Hackathon/hackaton/checkpoints/model_D_best.pth\n"
     ]
    },
    {
     "name": "stderr",
     "output_type": "stream",
     "text": [
      "Iterating training graphs: 100%|██████████| 257/257 [00:30<00:00,  8.34batch/s]\n",
      "Iterating eval graphs: 100%|██████████| 65/65 [00:04<00:00, 15.30batch/s]\n",
      "Epoch 13/400, Loss: 0.7464, Train Acc: 0.5437, Val Acc: 0.5958\n",
      "Epoch 13/400, Loss: 0.7464, Train Acc: 0.5437, Val Acc: 0.5958\n",
      "Epoch 13/400, Loss: 0.7464, Train Acc: 0.5437, Val Acc: 0.5958\n",
      "Epoch 13/400, Loss: 0.7464, Train Acc: 0.5437, Val Acc: 0.5958\n"
     ]
    },
    {
     "name": "stdout",
     "output_type": "stream",
     "text": [
      "Epoch 13/400, Loss: 0.7464, Train Acc: 0.5437, Val Acc: 0.5958\n",
      "Best model updated and saved at /home/onyxia/work/DL-Hackathon/hackaton/checkpoints/model_D_best.pth\n"
     ]
    },
    {
     "name": "stderr",
     "output_type": "stream",
     "text": [
      "Iterating training graphs: 100%|██████████| 257/257 [00:30<00:00,  8.32batch/s]\n",
      "Iterating eval graphs: 100%|██████████| 65/65 [00:04<00:00, 15.13batch/s]\n",
      "Epoch 14/400, Loss: 0.7169, Train Acc: 0.5614, Val Acc: 0.6201\n",
      "Epoch 14/400, Loss: 0.7169, Train Acc: 0.5614, Val Acc: 0.6201\n",
      "Epoch 14/400, Loss: 0.7169, Train Acc: 0.5614, Val Acc: 0.6201\n",
      "Epoch 14/400, Loss: 0.7169, Train Acc: 0.5614, Val Acc: 0.6201\n"
     ]
    },
    {
     "name": "stdout",
     "output_type": "stream",
     "text": [
      "Epoch 14/400, Loss: 0.7169, Train Acc: 0.5614, Val Acc: 0.6201\n",
      "Best model updated and saved at /home/onyxia/work/DL-Hackathon/hackaton/checkpoints/model_D_best.pth\n"
     ]
    },
    {
     "name": "stderr",
     "output_type": "stream",
     "text": [
      "Iterating training graphs: 100%|██████████| 257/257 [00:30<00:00,  8.34batch/s]\n",
      "Iterating eval graphs: 100%|██████████| 65/65 [00:04<00:00, 15.21batch/s]\n",
      "Epoch 15/400, Loss: 0.6820, Train Acc: 0.5862, Val Acc: 0.6065\n",
      "Epoch 15/400, Loss: 0.6820, Train Acc: 0.5862, Val Acc: 0.6065\n",
      "Epoch 15/400, Loss: 0.6820, Train Acc: 0.5862, Val Acc: 0.6065\n",
      "Epoch 15/400, Loss: 0.6820, Train Acc: 0.5862, Val Acc: 0.6065\n"
     ]
    },
    {
     "name": "stdout",
     "output_type": "stream",
     "text": [
      "Epoch 15/400, Loss: 0.6820, Train Acc: 0.5862, Val Acc: 0.6065\n"
     ]
    },
    {
     "name": "stderr",
     "output_type": "stream",
     "text": [
      "Iterating training graphs: 100%|██████████| 257/257 [00:31<00:00,  8.27batch/s]\n",
      "Iterating eval graphs: 100%|██████████| 65/65 [00:04<00:00, 14.90batch/s]\n",
      "Epoch 16/400, Loss: 0.6569, Train Acc: 0.5901, Val Acc: 0.6440\n",
      "Epoch 16/400, Loss: 0.6569, Train Acc: 0.5901, Val Acc: 0.6440\n",
      "Epoch 16/400, Loss: 0.6569, Train Acc: 0.5901, Val Acc: 0.6440\n",
      "Epoch 16/400, Loss: 0.6569, Train Acc: 0.5901, Val Acc: 0.6440\n"
     ]
    },
    {
     "name": "stdout",
     "output_type": "stream",
     "text": [
      "Epoch 16/400, Loss: 0.6569, Train Acc: 0.5901, Val Acc: 0.6440\n",
      "Best model updated and saved at /home/onyxia/work/DL-Hackathon/hackaton/checkpoints/model_D_best.pth\n"
     ]
    },
    {
     "name": "stderr",
     "output_type": "stream",
     "text": [
      "Iterating training graphs: 100%|██████████| 257/257 [00:30<00:00,  8.30batch/s]\n",
      "Iterating eval graphs: 100%|██████████| 65/65 [00:04<00:00, 15.57batch/s]\n",
      "Epoch 17/400, Loss: 0.6272, Train Acc: 0.6082, Val Acc: 0.6566\n",
      "Epoch 17/400, Loss: 0.6272, Train Acc: 0.6082, Val Acc: 0.6566\n",
      "Epoch 17/400, Loss: 0.6272, Train Acc: 0.6082, Val Acc: 0.6566\n",
      "Epoch 17/400, Loss: 0.6272, Train Acc: 0.6082, Val Acc: 0.6566\n"
     ]
    },
    {
     "name": "stdout",
     "output_type": "stream",
     "text": [
      "Epoch 17/400, Loss: 0.6272, Train Acc: 0.6082, Val Acc: 0.6566\n",
      "Best model updated and saved at /home/onyxia/work/DL-Hackathon/hackaton/checkpoints/model_D_best.pth\n"
     ]
    },
    {
     "name": "stderr",
     "output_type": "stream",
     "text": [
      "Iterating training graphs: 100%|██████████| 257/257 [00:30<00:00,  8.29batch/s]\n",
      "Iterating eval graphs: 100%|██████████| 65/65 [00:04<00:00, 15.17batch/s]\n",
      "Epoch 18/400, Loss: 0.6069, Train Acc: 0.6224, Val Acc: 0.6629\n",
      "Epoch 18/400, Loss: 0.6069, Train Acc: 0.6224, Val Acc: 0.6629\n",
      "Epoch 18/400, Loss: 0.6069, Train Acc: 0.6224, Val Acc: 0.6629\n",
      "Epoch 18/400, Loss: 0.6069, Train Acc: 0.6224, Val Acc: 0.6629\n"
     ]
    },
    {
     "name": "stdout",
     "output_type": "stream",
     "text": [
      "Epoch 18/400, Loss: 0.6069, Train Acc: 0.6224, Val Acc: 0.6629\n",
      "Best model updated and saved at /home/onyxia/work/DL-Hackathon/hackaton/checkpoints/model_D_best.pth\n"
     ]
    },
    {
     "name": "stderr",
     "output_type": "stream",
     "text": [
      "Iterating training graphs: 100%|██████████| 257/257 [00:30<00:00,  8.37batch/s]\n",
      "Iterating eval graphs: 100%|██████████| 65/65 [00:04<00:00, 15.45batch/s]\n",
      "Epoch 19/400, Loss: 0.5842, Train Acc: 0.6356, Val Acc: 0.6654\n",
      "Epoch 19/400, Loss: 0.5842, Train Acc: 0.6356, Val Acc: 0.6654\n",
      "Epoch 19/400, Loss: 0.5842, Train Acc: 0.6356, Val Acc: 0.6654\n",
      "Epoch 19/400, Loss: 0.5842, Train Acc: 0.6356, Val Acc: 0.6654\n"
     ]
    },
    {
     "name": "stdout",
     "output_type": "stream",
     "text": [
      "Epoch 19/400, Loss: 0.5842, Train Acc: 0.6356, Val Acc: 0.6654\n",
      "Best model updated and saved at /home/onyxia/work/DL-Hackathon/hackaton/checkpoints/model_D_best.pth\n"
     ]
    },
    {
     "name": "stderr",
     "output_type": "stream",
     "text": [
      "Iterating training graphs: 100%|██████████| 257/257 [00:30<00:00,  8.34batch/s]\n"
     ]
    },
    {
     "name": "stdout",
     "output_type": "stream",
     "text": [
      "Checkpoint saved at /home/onyxia/work/DL-Hackathon/hackaton/checkpoints/D/model_D_epoch_20.pth\n"
     ]
    },
    {
     "name": "stderr",
     "output_type": "stream",
     "text": [
      "Iterating eval graphs: 100%|██████████| 65/65 [00:04<00:00, 15.28batch/s]\n",
      "Epoch 20/400, Loss: 0.5696, Train Acc: 0.6428, Val Acc: 0.6902\n",
      "Epoch 20/400, Loss: 0.5696, Train Acc: 0.6428, Val Acc: 0.6902\n",
      "Epoch 20/400, Loss: 0.5696, Train Acc: 0.6428, Val Acc: 0.6902\n",
      "Epoch 20/400, Loss: 0.5696, Train Acc: 0.6428, Val Acc: 0.6902\n"
     ]
    },
    {
     "name": "stdout",
     "output_type": "stream",
     "text": [
      "Epoch 20/400, Loss: 0.5696, Train Acc: 0.6428, Val Acc: 0.6902\n",
      "Best model updated and saved at /home/onyxia/work/DL-Hackathon/hackaton/checkpoints/model_D_best.pth\n"
     ]
    },
    {
     "name": "stderr",
     "output_type": "stream",
     "text": [
      "Iterating training graphs: 100%|██████████| 257/257 [00:30<00:00,  8.34batch/s]\n",
      "Iterating eval graphs: 100%|██████████| 65/65 [00:04<00:00, 14.91batch/s]\n",
      "Epoch 21/400, Loss: 0.5409, Train Acc: 0.6612, Val Acc: 0.7009\n",
      "Epoch 21/400, Loss: 0.5409, Train Acc: 0.6612, Val Acc: 0.7009\n",
      "Epoch 21/400, Loss: 0.5409, Train Acc: 0.6612, Val Acc: 0.7009\n",
      "Epoch 21/400, Loss: 0.5409, Train Acc: 0.6612, Val Acc: 0.7009\n"
     ]
    },
    {
     "name": "stdout",
     "output_type": "stream",
     "text": [
      "Epoch 21/400, Loss: 0.5409, Train Acc: 0.6612, Val Acc: 0.7009\n",
      "Best model updated and saved at /home/onyxia/work/DL-Hackathon/hackaton/checkpoints/model_D_best.pth\n"
     ]
    },
    {
     "name": "stderr",
     "output_type": "stream",
     "text": [
      "Iterating training graphs: 100%|██████████| 257/257 [00:30<00:00,  8.36batch/s]\n",
      "Iterating eval graphs: 100%|██████████| 65/65 [00:04<00:00, 15.24batch/s]\n",
      "Epoch 22/400, Loss: 0.5407, Train Acc: 0.6513, Val Acc: 0.6926\n",
      "Epoch 22/400, Loss: 0.5407, Train Acc: 0.6513, Val Acc: 0.6926\n",
      "Epoch 22/400, Loss: 0.5407, Train Acc: 0.6513, Val Acc: 0.6926\n",
      "Epoch 22/400, Loss: 0.5407, Train Acc: 0.6513, Val Acc: 0.6926\n"
     ]
    },
    {
     "name": "stdout",
     "output_type": "stream",
     "text": [
      "Epoch 22/400, Loss: 0.5407, Train Acc: 0.6513, Val Acc: 0.6926\n"
     ]
    },
    {
     "name": "stderr",
     "output_type": "stream",
     "text": [
      "Iterating training graphs: 100%|██████████| 257/257 [00:30<00:00,  8.37batch/s]\n",
      "Iterating eval graphs: 100%|██████████| 65/65 [00:04<00:00, 14.35batch/s]\n",
      "Epoch 23/400, Loss: 0.5253, Train Acc: 0.6702, Val Acc: 0.6989\n",
      "Epoch 23/400, Loss: 0.5253, Train Acc: 0.6702, Val Acc: 0.6989\n",
      "Epoch 23/400, Loss: 0.5253, Train Acc: 0.6702, Val Acc: 0.6989\n",
      "Epoch 23/400, Loss: 0.5253, Train Acc: 0.6702, Val Acc: 0.6989\n"
     ]
    },
    {
     "name": "stdout",
     "output_type": "stream",
     "text": [
      "Epoch 23/400, Loss: 0.5253, Train Acc: 0.6702, Val Acc: 0.6989\n"
     ]
    },
    {
     "name": "stderr",
     "output_type": "stream",
     "text": [
      "Iterating training graphs: 100%|██████████| 257/257 [00:30<00:00,  8.36batch/s]\n",
      "Iterating eval graphs: 100%|██████████| 65/65 [00:04<00:00, 15.42batch/s]\n",
      "Epoch 24/400, Loss: 0.5111, Train Acc: 0.6727, Val Acc: 0.7169\n",
      "Epoch 24/400, Loss: 0.5111, Train Acc: 0.6727, Val Acc: 0.7169\n",
      "Epoch 24/400, Loss: 0.5111, Train Acc: 0.6727, Val Acc: 0.7169\n",
      "Epoch 24/400, Loss: 0.5111, Train Acc: 0.6727, Val Acc: 0.7169\n"
     ]
    },
    {
     "name": "stdout",
     "output_type": "stream",
     "text": [
      "Epoch 24/400, Loss: 0.5111, Train Acc: 0.6727, Val Acc: 0.7169\n",
      "Best model updated and saved at /home/onyxia/work/DL-Hackathon/hackaton/checkpoints/model_D_best.pth\n"
     ]
    },
    {
     "name": "stderr",
     "output_type": "stream",
     "text": [
      "Iterating training graphs: 100%|██████████| 257/257 [00:31<00:00,  8.24batch/s]\n",
      "Iterating eval graphs: 100%|██████████| 65/65 [00:04<00:00, 14.95batch/s]\n",
      "Epoch 25/400, Loss: 0.5103, Train Acc: 0.6769, Val Acc: 0.7174\n",
      "Epoch 25/400, Loss: 0.5103, Train Acc: 0.6769, Val Acc: 0.7174\n",
      "Epoch 25/400, Loss: 0.5103, Train Acc: 0.6769, Val Acc: 0.7174\n",
      "Epoch 25/400, Loss: 0.5103, Train Acc: 0.6769, Val Acc: 0.7174\n"
     ]
    },
    {
     "name": "stdout",
     "output_type": "stream",
     "text": [
      "Epoch 25/400, Loss: 0.5103, Train Acc: 0.6769, Val Acc: 0.7174\n",
      "Best model updated and saved at /home/onyxia/work/DL-Hackathon/hackaton/checkpoints/model_D_best.pth\n"
     ]
    },
    {
     "name": "stderr",
     "output_type": "stream",
     "text": [
      "Iterating training graphs: 100%|██████████| 257/257 [00:30<00:00,  8.29batch/s]\n",
      "Iterating eval graphs: 100%|██████████| 65/65 [00:04<00:00, 15.24batch/s]\n",
      "Epoch 26/400, Loss: 0.4923, Train Acc: 0.6868, Val Acc: 0.7121\n",
      "Epoch 26/400, Loss: 0.4923, Train Acc: 0.6868, Val Acc: 0.7121\n",
      "Epoch 26/400, Loss: 0.4923, Train Acc: 0.6868, Val Acc: 0.7121\n",
      "Epoch 26/400, Loss: 0.4923, Train Acc: 0.6868, Val Acc: 0.7121\n"
     ]
    },
    {
     "name": "stdout",
     "output_type": "stream",
     "text": [
      "Epoch 26/400, Loss: 0.4923, Train Acc: 0.6868, Val Acc: 0.7121\n"
     ]
    },
    {
     "name": "stderr",
     "output_type": "stream",
     "text": [
      "Iterating training graphs: 100%|██████████| 257/257 [00:30<00:00,  8.32batch/s]\n",
      "Iterating eval graphs: 100%|██████████| 65/65 [00:04<00:00, 15.06batch/s]\n",
      "Epoch 27/400, Loss: 0.4772, Train Acc: 0.6929, Val Acc: 0.7091\n",
      "Epoch 27/400, Loss: 0.4772, Train Acc: 0.6929, Val Acc: 0.7091\n",
      "Epoch 27/400, Loss: 0.4772, Train Acc: 0.6929, Val Acc: 0.7091\n",
      "Epoch 27/400, Loss: 0.4772, Train Acc: 0.6929, Val Acc: 0.7091\n"
     ]
    },
    {
     "name": "stdout",
     "output_type": "stream",
     "text": [
      "Epoch 27/400, Loss: 0.4772, Train Acc: 0.6929, Val Acc: 0.7091\n"
     ]
    },
    {
     "name": "stderr",
     "output_type": "stream",
     "text": [
      "Iterating training graphs: 100%|██████████| 257/257 [00:30<00:00,  8.37batch/s]\n",
      "Iterating eval graphs: 100%|██████████| 65/65 [00:04<00:00, 15.24batch/s]\n",
      "Epoch 28/400, Loss: 0.4764, Train Acc: 0.6926, Val Acc: 0.3716\n",
      "Epoch 28/400, Loss: 0.4764, Train Acc: 0.6926, Val Acc: 0.3716\n",
      "Epoch 28/400, Loss: 0.4764, Train Acc: 0.6926, Val Acc: 0.3716\n",
      "Epoch 28/400, Loss: 0.4764, Train Acc: 0.6926, Val Acc: 0.3716\n"
     ]
    },
    {
     "name": "stdout",
     "output_type": "stream",
     "text": [
      "Epoch 28/400, Loss: 0.4764, Train Acc: 0.6926, Val Acc: 0.3716\n"
     ]
    },
    {
     "name": "stderr",
     "output_type": "stream",
     "text": [
      "Iterating training graphs: 100%|██████████| 257/257 [00:30<00:00,  8.40batch/s]\n",
      "Iterating eval graphs: 100%|██████████| 65/65 [00:04<00:00, 14.72batch/s]\n",
      "Epoch 29/400, Loss: 0.4802, Train Acc: 0.6890, Val Acc: 0.7218\n",
      "Epoch 29/400, Loss: 0.4802, Train Acc: 0.6890, Val Acc: 0.7218\n",
      "Epoch 29/400, Loss: 0.4802, Train Acc: 0.6890, Val Acc: 0.7218\n",
      "Epoch 29/400, Loss: 0.4802, Train Acc: 0.6890, Val Acc: 0.7218\n"
     ]
    },
    {
     "name": "stdout",
     "output_type": "stream",
     "text": [
      "Epoch 29/400, Loss: 0.4802, Train Acc: 0.6890, Val Acc: 0.7218\n",
      "Best model updated and saved at /home/onyxia/work/DL-Hackathon/hackaton/checkpoints/model_D_best.pth\n"
     ]
    },
    {
     "name": "stderr",
     "output_type": "stream",
     "text": [
      "Iterating training graphs: 100%|██████████| 257/257 [00:30<00:00,  8.38batch/s]\n",
      "Iterating eval graphs: 100%|██████████| 65/65 [00:04<00:00, 15.35batch/s]\n",
      "Epoch 30/400, Loss: 0.4659, Train Acc: 0.6978, Val Acc: 0.7145\n",
      "Epoch 30/400, Loss: 0.4659, Train Acc: 0.6978, Val Acc: 0.7145\n",
      "Epoch 30/400, Loss: 0.4659, Train Acc: 0.6978, Val Acc: 0.7145\n",
      "Epoch 30/400, Loss: 0.4659, Train Acc: 0.6978, Val Acc: 0.7145\n"
     ]
    },
    {
     "name": "stdout",
     "output_type": "stream",
     "text": [
      "Epoch 30/400, Loss: 0.4659, Train Acc: 0.6978, Val Acc: 0.7145\n"
     ]
    },
    {
     "name": "stderr",
     "output_type": "stream",
     "text": [
      "Iterating training graphs: 100%|██████████| 257/257 [00:30<00:00,  8.36batch/s]\n",
      "Iterating eval graphs: 100%|██████████| 65/65 [00:04<00:00, 15.48batch/s]\n",
      "Epoch 31/400, Loss: 0.4581, Train Acc: 0.7023, Val Acc: 0.7228\n",
      "Epoch 31/400, Loss: 0.4581, Train Acc: 0.7023, Val Acc: 0.7228\n",
      "Epoch 31/400, Loss: 0.4581, Train Acc: 0.7023, Val Acc: 0.7228\n",
      "Epoch 31/400, Loss: 0.4581, Train Acc: 0.7023, Val Acc: 0.7228\n"
     ]
    },
    {
     "name": "stdout",
     "output_type": "stream",
     "text": [
      "Epoch 31/400, Loss: 0.4581, Train Acc: 0.7023, Val Acc: 0.7228\n",
      "Best model updated and saved at /home/onyxia/work/DL-Hackathon/hackaton/checkpoints/model_D_best.pth\n"
     ]
    },
    {
     "name": "stderr",
     "output_type": "stream",
     "text": [
      "Iterating training graphs: 100%|██████████| 257/257 [00:30<00:00,  8.40batch/s]\n",
      "Iterating eval graphs: 100%|██████████| 65/65 [00:04<00:00, 14.95batch/s]\n",
      "Epoch 32/400, Loss: 0.4527, Train Acc: 0.7060, Val Acc: 0.7198\n",
      "Epoch 32/400, Loss: 0.4527, Train Acc: 0.7060, Val Acc: 0.7198\n",
      "Epoch 32/400, Loss: 0.4527, Train Acc: 0.7060, Val Acc: 0.7198\n",
      "Epoch 32/400, Loss: 0.4527, Train Acc: 0.7060, Val Acc: 0.7198\n"
     ]
    },
    {
     "name": "stdout",
     "output_type": "stream",
     "text": [
      "Epoch 32/400, Loss: 0.4527, Train Acc: 0.7060, Val Acc: 0.7198\n"
     ]
    },
    {
     "name": "stderr",
     "output_type": "stream",
     "text": [
      "Iterating training graphs: 100%|██████████| 257/257 [00:30<00:00,  8.37batch/s]\n",
      "Iterating eval graphs: 100%|██████████| 65/65 [00:04<00:00, 15.28batch/s]\n",
      "Epoch 33/400, Loss: 0.4486, Train Acc: 0.7105, Val Acc: 0.7242\n",
      "Epoch 33/400, Loss: 0.4486, Train Acc: 0.7105, Val Acc: 0.7242\n",
      "Epoch 33/400, Loss: 0.4486, Train Acc: 0.7105, Val Acc: 0.7242\n",
      "Epoch 33/400, Loss: 0.4486, Train Acc: 0.7105, Val Acc: 0.7242\n"
     ]
    },
    {
     "name": "stdout",
     "output_type": "stream",
     "text": [
      "Epoch 33/400, Loss: 0.4486, Train Acc: 0.7105, Val Acc: 0.7242\n",
      "Best model updated and saved at /home/onyxia/work/DL-Hackathon/hackaton/checkpoints/model_D_best.pth\n"
     ]
    },
    {
     "name": "stderr",
     "output_type": "stream",
     "text": [
      "Iterating training graphs: 100%|██████████| 257/257 [00:30<00:00,  8.33batch/s]\n",
      "Iterating eval graphs: 100%|██████████| 65/65 [00:04<00:00, 15.45batch/s]\n",
      "Epoch 34/400, Loss: 0.4400, Train Acc: 0.7118, Val Acc: 0.7223\n",
      "Epoch 34/400, Loss: 0.4400, Train Acc: 0.7118, Val Acc: 0.7223\n",
      "Epoch 34/400, Loss: 0.4400, Train Acc: 0.7118, Val Acc: 0.7223\n",
      "Epoch 34/400, Loss: 0.4400, Train Acc: 0.7118, Val Acc: 0.7223\n"
     ]
    },
    {
     "name": "stdout",
     "output_type": "stream",
     "text": [
      "Epoch 34/400, Loss: 0.4400, Train Acc: 0.7118, Val Acc: 0.7223\n"
     ]
    },
    {
     "name": "stderr",
     "output_type": "stream",
     "text": [
      "Iterating training graphs: 100%|██████████| 257/257 [00:31<00:00,  8.24batch/s]\n",
      "Iterating eval graphs: 100%|██████████| 65/65 [00:04<00:00, 14.75batch/s]\n",
      "Epoch 35/400, Loss: 0.4351, Train Acc: 0.7195, Val Acc: 0.7203\n",
      "Epoch 35/400, Loss: 0.4351, Train Acc: 0.7195, Val Acc: 0.7203\n",
      "Epoch 35/400, Loss: 0.4351, Train Acc: 0.7195, Val Acc: 0.7203\n",
      "Epoch 35/400, Loss: 0.4351, Train Acc: 0.7195, Val Acc: 0.7203\n"
     ]
    },
    {
     "name": "stdout",
     "output_type": "stream",
     "text": [
      "Epoch 35/400, Loss: 0.4351, Train Acc: 0.7195, Val Acc: 0.7203\n"
     ]
    },
    {
     "name": "stderr",
     "output_type": "stream",
     "text": [
      "Iterating training graphs: 100%|██████████| 257/257 [00:30<00:00,  8.30batch/s]\n",
      "Iterating eval graphs: 100%|██████████| 65/65 [00:04<00:00, 14.83batch/s]\n",
      "Epoch 36/400, Loss: 0.4315, Train Acc: 0.7147, Val Acc: 0.7101\n",
      "Epoch 36/400, Loss: 0.4315, Train Acc: 0.7147, Val Acc: 0.7101\n",
      "Epoch 36/400, Loss: 0.4315, Train Acc: 0.7147, Val Acc: 0.7101\n",
      "Epoch 36/400, Loss: 0.4315, Train Acc: 0.7147, Val Acc: 0.7101\n"
     ]
    },
    {
     "name": "stdout",
     "output_type": "stream",
     "text": [
      "Epoch 36/400, Loss: 0.4315, Train Acc: 0.7147, Val Acc: 0.7101\n"
     ]
    },
    {
     "name": "stderr",
     "output_type": "stream",
     "text": [
      "Iterating training graphs: 100%|██████████| 257/257 [00:30<00:00,  8.30batch/s]\n",
      "Iterating eval graphs: 100%|██████████| 65/65 [00:04<00:00, 15.41batch/s]\n",
      "Epoch 37/400, Loss: 0.4297, Train Acc: 0.7200, Val Acc: 0.7339\n",
      "Epoch 37/400, Loss: 0.4297, Train Acc: 0.7200, Val Acc: 0.7339\n",
      "Epoch 37/400, Loss: 0.4297, Train Acc: 0.7200, Val Acc: 0.7339\n",
      "Epoch 37/400, Loss: 0.4297, Train Acc: 0.7200, Val Acc: 0.7339\n"
     ]
    },
    {
     "name": "stdout",
     "output_type": "stream",
     "text": [
      "Epoch 37/400, Loss: 0.4297, Train Acc: 0.7200, Val Acc: 0.7339\n",
      "Best model updated and saved at /home/onyxia/work/DL-Hackathon/hackaton/checkpoints/model_D_best.pth\n"
     ]
    },
    {
     "name": "stderr",
     "output_type": "stream",
     "text": [
      "Iterating training graphs: 100%|██████████| 257/257 [00:30<00:00,  8.34batch/s]\n",
      "Iterating eval graphs: 100%|██████████| 65/65 [00:04<00:00, 14.93batch/s]\n",
      "Epoch 38/400, Loss: 0.4260, Train Acc: 0.7212, Val Acc: 0.7325\n",
      "Epoch 38/400, Loss: 0.4260, Train Acc: 0.7212, Val Acc: 0.7325\n",
      "Epoch 38/400, Loss: 0.4260, Train Acc: 0.7212, Val Acc: 0.7325\n",
      "Epoch 38/400, Loss: 0.4260, Train Acc: 0.7212, Val Acc: 0.7325\n"
     ]
    },
    {
     "name": "stdout",
     "output_type": "stream",
     "text": [
      "Epoch 38/400, Loss: 0.4260, Train Acc: 0.7212, Val Acc: 0.7325\n"
     ]
    },
    {
     "name": "stderr",
     "output_type": "stream",
     "text": [
      "Iterating training graphs: 100%|██████████| 257/257 [00:31<00:00,  8.28batch/s]\n",
      "Iterating eval graphs: 100%|██████████| 65/65 [00:04<00:00, 15.34batch/s]\n",
      "Epoch 39/400, Loss: 0.4206, Train Acc: 0.7260, Val Acc: 0.7310\n",
      "Epoch 39/400, Loss: 0.4206, Train Acc: 0.7260, Val Acc: 0.7310\n",
      "Epoch 39/400, Loss: 0.4206, Train Acc: 0.7260, Val Acc: 0.7310\n",
      "Epoch 39/400, Loss: 0.4206, Train Acc: 0.7260, Val Acc: 0.7310\n"
     ]
    },
    {
     "name": "stdout",
     "output_type": "stream",
     "text": [
      "Epoch 39/400, Loss: 0.4206, Train Acc: 0.7260, Val Acc: 0.7310\n"
     ]
    },
    {
     "name": "stderr",
     "output_type": "stream",
     "text": [
      "Iterating training graphs: 100%|██████████| 257/257 [00:30<00:00,  8.32batch/s]\n"
     ]
    },
    {
     "name": "stdout",
     "output_type": "stream",
     "text": [
      "Checkpoint saved at /home/onyxia/work/DL-Hackathon/hackaton/checkpoints/D/model_D_epoch_40.pth\n"
     ]
    },
    {
     "name": "stderr",
     "output_type": "stream",
     "text": [
      "Iterating eval graphs: 100%|██████████| 65/65 [00:04<00:00, 14.91batch/s]\n",
      "Epoch 40/400, Loss: 0.4114, Train Acc: 0.7350, Val Acc: 0.7301\n",
      "Epoch 40/400, Loss: 0.4114, Train Acc: 0.7350, Val Acc: 0.7301\n",
      "Epoch 40/400, Loss: 0.4114, Train Acc: 0.7350, Val Acc: 0.7301\n",
      "Epoch 40/400, Loss: 0.4114, Train Acc: 0.7350, Val Acc: 0.7301\n"
     ]
    },
    {
     "name": "stdout",
     "output_type": "stream",
     "text": [
      "Epoch 40/400, Loss: 0.4114, Train Acc: 0.7350, Val Acc: 0.7301\n"
     ]
    },
    {
     "name": "stderr",
     "output_type": "stream",
     "text": [
      "Iterating training graphs: 100%|██████████| 257/257 [00:30<00:00,  8.40batch/s]\n",
      "Iterating eval graphs: 100%|██████████| 65/65 [00:04<00:00, 14.34batch/s]\n",
      "Epoch 41/400, Loss: 0.4109, Train Acc: 0.7288, Val Acc: 0.7228\n",
      "Epoch 41/400, Loss: 0.4109, Train Acc: 0.7288, Val Acc: 0.7228\n",
      "Epoch 41/400, Loss: 0.4109, Train Acc: 0.7288, Val Acc: 0.7228\n",
      "Epoch 41/400, Loss: 0.4109, Train Acc: 0.7288, Val Acc: 0.7228\n"
     ]
    },
    {
     "name": "stdout",
     "output_type": "stream",
     "text": [
      "Epoch 41/400, Loss: 0.4109, Train Acc: 0.7288, Val Acc: 0.7228\n"
     ]
    },
    {
     "name": "stderr",
     "output_type": "stream",
     "text": [
      "Iterating training graphs: 100%|██████████| 257/257 [00:30<00:00,  8.31batch/s]\n",
      "Iterating eval graphs: 100%|██████████| 65/65 [00:04<00:00, 15.51batch/s]\n",
      "Epoch 42/400, Loss: 0.4199, Train Acc: 0.7229, Val Acc: 0.7349\n",
      "Epoch 42/400, Loss: 0.4199, Train Acc: 0.7229, Val Acc: 0.7349\n",
      "Epoch 42/400, Loss: 0.4199, Train Acc: 0.7229, Val Acc: 0.7349\n",
      "Epoch 42/400, Loss: 0.4199, Train Acc: 0.7229, Val Acc: 0.7349\n"
     ]
    },
    {
     "name": "stdout",
     "output_type": "stream",
     "text": [
      "Epoch 42/400, Loss: 0.4199, Train Acc: 0.7229, Val Acc: 0.7349\n",
      "Best model updated and saved at /home/onyxia/work/DL-Hackathon/hackaton/checkpoints/model_D_best.pth\n"
     ]
    },
    {
     "name": "stderr",
     "output_type": "stream",
     "text": [
      "Iterating training graphs: 100%|██████████| 257/257 [00:30<00:00,  8.35batch/s]\n",
      "Iterating eval graphs: 100%|██████████| 65/65 [00:04<00:00, 15.33batch/s]\n",
      "Epoch 43/400, Loss: 0.4064, Train Acc: 0.7305, Val Acc: 0.7310\n",
      "Epoch 43/400, Loss: 0.4064, Train Acc: 0.7305, Val Acc: 0.7310\n",
      "Epoch 43/400, Loss: 0.4064, Train Acc: 0.7305, Val Acc: 0.7310\n",
      "Epoch 43/400, Loss: 0.4064, Train Acc: 0.7305, Val Acc: 0.7310\n"
     ]
    },
    {
     "name": "stdout",
     "output_type": "stream",
     "text": [
      "Epoch 43/400, Loss: 0.4064, Train Acc: 0.7305, Val Acc: 0.7310\n"
     ]
    },
    {
     "name": "stderr",
     "output_type": "stream",
     "text": [
      "Iterating training graphs: 100%|██████████| 257/257 [00:30<00:00,  8.38batch/s]\n",
      "Iterating eval graphs: 100%|██████████| 65/65 [00:04<00:00, 15.45batch/s]\n",
      "Epoch 44/400, Loss: 0.4014, Train Acc: 0.7372, Val Acc: 0.7310\n",
      "Epoch 44/400, Loss: 0.4014, Train Acc: 0.7372, Val Acc: 0.7310\n",
      "Epoch 44/400, Loss: 0.4014, Train Acc: 0.7372, Val Acc: 0.7310\n",
      "Epoch 44/400, Loss: 0.4014, Train Acc: 0.7372, Val Acc: 0.7310\n"
     ]
    },
    {
     "name": "stdout",
     "output_type": "stream",
     "text": [
      "Epoch 44/400, Loss: 0.4014, Train Acc: 0.7372, Val Acc: 0.7310\n"
     ]
    },
    {
     "name": "stderr",
     "output_type": "stream",
     "text": [
      "Iterating training graphs: 100%|██████████| 257/257 [00:30<00:00,  8.38batch/s]\n",
      "Iterating eval graphs: 100%|██████████| 65/65 [00:04<00:00, 15.44batch/s]\n",
      "Epoch 45/400, Loss: 0.4027, Train Acc: 0.7389, Val Acc: 0.7335\n",
      "Epoch 45/400, Loss: 0.4027, Train Acc: 0.7389, Val Acc: 0.7335\n",
      "Epoch 45/400, Loss: 0.4027, Train Acc: 0.7389, Val Acc: 0.7335\n",
      "Epoch 45/400, Loss: 0.4027, Train Acc: 0.7389, Val Acc: 0.7335\n"
     ]
    },
    {
     "name": "stdout",
     "output_type": "stream",
     "text": [
      "Epoch 45/400, Loss: 0.4027, Train Acc: 0.7389, Val Acc: 0.7335\n"
     ]
    },
    {
     "name": "stderr",
     "output_type": "stream",
     "text": [
      "Iterating training graphs: 100%|██████████| 257/257 [00:30<00:00,  8.39batch/s]\n",
      "Iterating eval graphs: 100%|██████████| 65/65 [00:04<00:00, 15.07batch/s]\n",
      "Epoch 46/400, Loss: 0.3985, Train Acc: 0.7406, Val Acc: 0.7242\n",
      "Epoch 46/400, Loss: 0.3985, Train Acc: 0.7406, Val Acc: 0.7242\n",
      "Epoch 46/400, Loss: 0.3985, Train Acc: 0.7406, Val Acc: 0.7242\n",
      "Epoch 46/400, Loss: 0.3985, Train Acc: 0.7406, Val Acc: 0.7242\n"
     ]
    },
    {
     "name": "stdout",
     "output_type": "stream",
     "text": [
      "Epoch 46/400, Loss: 0.3985, Train Acc: 0.7406, Val Acc: 0.7242\n"
     ]
    },
    {
     "name": "stderr",
     "output_type": "stream",
     "text": [
      "Iterating training graphs: 100%|██████████| 257/257 [00:30<00:00,  8.29batch/s]\n",
      "Iterating eval graphs: 100%|██████████| 65/65 [00:04<00:00, 15.20batch/s]\n",
      "Epoch 47/400, Loss: 0.4049, Train Acc: 0.7371, Val Acc: 0.7339\n",
      "Epoch 47/400, Loss: 0.4049, Train Acc: 0.7371, Val Acc: 0.7339\n",
      "Epoch 47/400, Loss: 0.4049, Train Acc: 0.7371, Val Acc: 0.7339\n",
      "Epoch 47/400, Loss: 0.4049, Train Acc: 0.7371, Val Acc: 0.7339\n"
     ]
    },
    {
     "name": "stdout",
     "output_type": "stream",
     "text": [
      "Epoch 47/400, Loss: 0.4049, Train Acc: 0.7371, Val Acc: 0.7339\n"
     ]
    },
    {
     "name": "stderr",
     "output_type": "stream",
     "text": [
      "Iterating training graphs: 100%|██████████| 257/257 [00:30<00:00,  8.37batch/s]\n",
      "Iterating eval graphs: 100%|██████████| 65/65 [00:04<00:00, 15.07batch/s]\n",
      "Epoch 48/400, Loss: 0.3941, Train Acc: 0.7439, Val Acc: 0.7383\n",
      "Epoch 48/400, Loss: 0.3941, Train Acc: 0.7439, Val Acc: 0.7383\n",
      "Epoch 48/400, Loss: 0.3941, Train Acc: 0.7439, Val Acc: 0.7383\n",
      "Epoch 48/400, Loss: 0.3941, Train Acc: 0.7439, Val Acc: 0.7383\n"
     ]
    },
    {
     "name": "stdout",
     "output_type": "stream",
     "text": [
      "Epoch 48/400, Loss: 0.3941, Train Acc: 0.7439, Val Acc: 0.7383\n",
      "Best model updated and saved at /home/onyxia/work/DL-Hackathon/hackaton/checkpoints/model_D_best.pth\n"
     ]
    },
    {
     "name": "stderr",
     "output_type": "stream",
     "text": [
      "Iterating training graphs: 100%|██████████| 257/257 [00:30<00:00,  8.33batch/s]\n",
      "Iterating eval graphs: 100%|██████████| 65/65 [00:04<00:00, 15.12batch/s]\n",
      "Epoch 49/400, Loss: 0.3969, Train Acc: 0.7432, Val Acc: 0.7228\n",
      "Epoch 49/400, Loss: 0.3969, Train Acc: 0.7432, Val Acc: 0.7228\n",
      "Epoch 49/400, Loss: 0.3969, Train Acc: 0.7432, Val Acc: 0.7228\n",
      "Epoch 49/400, Loss: 0.3969, Train Acc: 0.7432, Val Acc: 0.7228\n"
     ]
    },
    {
     "name": "stdout",
     "output_type": "stream",
     "text": [
      "Epoch 49/400, Loss: 0.3969, Train Acc: 0.7432, Val Acc: 0.7228\n"
     ]
    },
    {
     "name": "stderr",
     "output_type": "stream",
     "text": [
      "Iterating training graphs: 100%|██████████| 257/257 [00:31<00:00,  8.25batch/s]\n",
      "Iterating eval graphs: 100%|██████████| 65/65 [00:04<00:00, 15.29batch/s]\n",
      "Epoch 50/400, Loss: 0.3963, Train Acc: 0.7444, Val Acc: 0.7271\n",
      "Epoch 50/400, Loss: 0.3963, Train Acc: 0.7444, Val Acc: 0.7271\n",
      "Epoch 50/400, Loss: 0.3963, Train Acc: 0.7444, Val Acc: 0.7271\n",
      "Epoch 50/400, Loss: 0.3963, Train Acc: 0.7444, Val Acc: 0.7271\n"
     ]
    },
    {
     "name": "stdout",
     "output_type": "stream",
     "text": [
      "Epoch 50/400, Loss: 0.3963, Train Acc: 0.7444, Val Acc: 0.7271\n"
     ]
    },
    {
     "name": "stderr",
     "output_type": "stream",
     "text": [
      "Iterating training graphs: 100%|██████████| 257/257 [00:30<00:00,  8.31batch/s]\n",
      "Iterating eval graphs: 100%|██████████| 65/65 [00:04<00:00, 15.43batch/s]\n",
      "Epoch 51/400, Loss: 0.3977, Train Acc: 0.7375, Val Acc: 0.7417\n",
      "Epoch 51/400, Loss: 0.3977, Train Acc: 0.7375, Val Acc: 0.7417\n",
      "Epoch 51/400, Loss: 0.3977, Train Acc: 0.7375, Val Acc: 0.7417\n",
      "Epoch 51/400, Loss: 0.3977, Train Acc: 0.7375, Val Acc: 0.7417\n"
     ]
    },
    {
     "name": "stdout",
     "output_type": "stream",
     "text": [
      "Epoch 51/400, Loss: 0.3977, Train Acc: 0.7375, Val Acc: 0.7417\n",
      "Best model updated and saved at /home/onyxia/work/DL-Hackathon/hackaton/checkpoints/model_D_best.pth\n"
     ]
    },
    {
     "name": "stderr",
     "output_type": "stream",
     "text": [
      "Iterating training graphs: 100%|██████████| 257/257 [00:30<00:00,  8.33batch/s]\n",
      "Iterating eval graphs: 100%|██████████| 65/65 [00:04<00:00, 14.27batch/s]\n",
      "Epoch 52/400, Loss: 0.3894, Train Acc: 0.7434, Val Acc: 0.7374\n",
      "Epoch 52/400, Loss: 0.3894, Train Acc: 0.7434, Val Acc: 0.7374\n",
      "Epoch 52/400, Loss: 0.3894, Train Acc: 0.7434, Val Acc: 0.7374\n",
      "Epoch 52/400, Loss: 0.3894, Train Acc: 0.7434, Val Acc: 0.7374\n"
     ]
    },
    {
     "name": "stdout",
     "output_type": "stream",
     "text": [
      "Epoch 52/400, Loss: 0.3894, Train Acc: 0.7434, Val Acc: 0.7374\n"
     ]
    },
    {
     "name": "stderr",
     "output_type": "stream",
     "text": [
      "Iterating training graphs: 100%|██████████| 257/257 [00:30<00:00,  8.32batch/s]\n",
      "Iterating eval graphs: 100%|██████████| 65/65 [00:04<00:00, 15.20batch/s]\n",
      "Epoch 53/400, Loss: 0.3837, Train Acc: 0.7481, Val Acc: 0.7335\n",
      "Epoch 53/400, Loss: 0.3837, Train Acc: 0.7481, Val Acc: 0.7335\n",
      "Epoch 53/400, Loss: 0.3837, Train Acc: 0.7481, Val Acc: 0.7335\n",
      "Epoch 53/400, Loss: 0.3837, Train Acc: 0.7481, Val Acc: 0.7335\n"
     ]
    },
    {
     "name": "stdout",
     "output_type": "stream",
     "text": [
      "Epoch 53/400, Loss: 0.3837, Train Acc: 0.7481, Val Acc: 0.7335\n"
     ]
    },
    {
     "name": "stderr",
     "output_type": "stream",
     "text": [
      "Iterating training graphs: 100%|██████████| 257/257 [00:30<00:00,  8.32batch/s]\n",
      "Iterating eval graphs: 100%|██████████| 65/65 [00:04<00:00, 15.16batch/s]\n",
      "Epoch 54/400, Loss: 0.3871, Train Acc: 0.7459, Val Acc: 0.7378\n",
      "Epoch 54/400, Loss: 0.3871, Train Acc: 0.7459, Val Acc: 0.7378\n",
      "Epoch 54/400, Loss: 0.3871, Train Acc: 0.7459, Val Acc: 0.7378\n",
      "Epoch 54/400, Loss: 0.3871, Train Acc: 0.7459, Val Acc: 0.7378\n"
     ]
    },
    {
     "name": "stdout",
     "output_type": "stream",
     "text": [
      "Epoch 54/400, Loss: 0.3871, Train Acc: 0.7459, Val Acc: 0.7378\n"
     ]
    },
    {
     "name": "stderr",
     "output_type": "stream",
     "text": [
      "Iterating training graphs: 100%|██████████| 257/257 [00:30<00:00,  8.29batch/s]\n",
      "Iterating eval graphs: 100%|██████████| 65/65 [00:04<00:00, 15.30batch/s]\n",
      "Epoch 55/400, Loss: 0.3839, Train Acc: 0.7491, Val Acc: 0.7267\n",
      "Epoch 55/400, Loss: 0.3839, Train Acc: 0.7491, Val Acc: 0.7267\n",
      "Epoch 55/400, Loss: 0.3839, Train Acc: 0.7491, Val Acc: 0.7267\n",
      "Epoch 55/400, Loss: 0.3839, Train Acc: 0.7491, Val Acc: 0.7267\n"
     ]
    },
    {
     "name": "stdout",
     "output_type": "stream",
     "text": [
      "Epoch 55/400, Loss: 0.3839, Train Acc: 0.7491, Val Acc: 0.7267\n"
     ]
    },
    {
     "name": "stderr",
     "output_type": "stream",
     "text": [
      "Iterating training graphs: 100%|██████████| 257/257 [00:30<00:00,  8.40batch/s]\n",
      "Iterating eval graphs: 100%|██████████| 65/65 [00:04<00:00, 15.37batch/s]\n",
      "Epoch 56/400, Loss: 0.3784, Train Acc: 0.7510, Val Acc: 0.7301\n",
      "Epoch 56/400, Loss: 0.3784, Train Acc: 0.7510, Val Acc: 0.7301\n",
      "Epoch 56/400, Loss: 0.3784, Train Acc: 0.7510, Val Acc: 0.7301\n",
      "Epoch 56/400, Loss: 0.3784, Train Acc: 0.7510, Val Acc: 0.7301\n"
     ]
    },
    {
     "name": "stdout",
     "output_type": "stream",
     "text": [
      "Epoch 56/400, Loss: 0.3784, Train Acc: 0.7510, Val Acc: 0.7301\n"
     ]
    },
    {
     "name": "stderr",
     "output_type": "stream",
     "text": [
      "Iterating training graphs: 100%|██████████| 257/257 [00:30<00:00,  8.35batch/s]\n",
      "Iterating eval graphs: 100%|██████████| 65/65 [00:04<00:00, 15.48batch/s]\n",
      "Epoch 57/400, Loss: 0.3787, Train Acc: 0.7490, Val Acc: 0.7257\n",
      "Epoch 57/400, Loss: 0.3787, Train Acc: 0.7490, Val Acc: 0.7257\n",
      "Epoch 57/400, Loss: 0.3787, Train Acc: 0.7490, Val Acc: 0.7257\n",
      "Epoch 57/400, Loss: 0.3787, Train Acc: 0.7490, Val Acc: 0.7257\n"
     ]
    },
    {
     "name": "stdout",
     "output_type": "stream",
     "text": [
      "Epoch 57/400, Loss: 0.3787, Train Acc: 0.7490, Val Acc: 0.7257\n"
     ]
    },
    {
     "name": "stderr",
     "output_type": "stream",
     "text": [
      "Iterating training graphs: 100%|██████████| 257/257 [00:30<00:00,  8.38batch/s]\n",
      "Iterating eval graphs: 100%|██████████| 65/65 [00:04<00:00, 15.01batch/s]\n",
      "Epoch 58/400, Loss: 0.3804, Train Acc: 0.7482, Val Acc: 0.7194\n",
      "Epoch 58/400, Loss: 0.3804, Train Acc: 0.7482, Val Acc: 0.7194\n",
      "Epoch 58/400, Loss: 0.3804, Train Acc: 0.7482, Val Acc: 0.7194\n",
      "Epoch 58/400, Loss: 0.3804, Train Acc: 0.7482, Val Acc: 0.7194\n"
     ]
    },
    {
     "name": "stdout",
     "output_type": "stream",
     "text": [
      "Epoch 58/400, Loss: 0.3804, Train Acc: 0.7482, Val Acc: 0.7194\n"
     ]
    },
    {
     "name": "stderr",
     "output_type": "stream",
     "text": [
      "Iterating training graphs: 100%|██████████| 257/257 [00:30<00:00,  8.33batch/s]\n",
      "Iterating eval graphs: 100%|██████████| 65/65 [00:04<00:00, 15.30batch/s]\n",
      "Epoch 59/400, Loss: 0.3828, Train Acc: 0.7515, Val Acc: 0.7325\n",
      "Epoch 59/400, Loss: 0.3828, Train Acc: 0.7515, Val Acc: 0.7325\n",
      "Epoch 59/400, Loss: 0.3828, Train Acc: 0.7515, Val Acc: 0.7325\n",
      "Epoch 59/400, Loss: 0.3828, Train Acc: 0.7515, Val Acc: 0.7325\n"
     ]
    },
    {
     "name": "stdout",
     "output_type": "stream",
     "text": [
      "Epoch 59/400, Loss: 0.3828, Train Acc: 0.7515, Val Acc: 0.7325\n"
     ]
    },
    {
     "name": "stderr",
     "output_type": "stream",
     "text": [
      "Iterating training graphs: 100%|██████████| 257/257 [00:30<00:00,  8.37batch/s]\n"
     ]
    },
    {
     "name": "stdout",
     "output_type": "stream",
     "text": [
      "Checkpoint saved at /home/onyxia/work/DL-Hackathon/hackaton/checkpoints/D/model_D_epoch_60.pth\n"
     ]
    },
    {
     "name": "stderr",
     "output_type": "stream",
     "text": [
      "Iterating eval graphs: 100%|██████████| 65/65 [00:04<00:00, 14.76batch/s]\n",
      "Epoch 60/400, Loss: 0.3784, Train Acc: 0.7532, Val Acc: 0.7291\n",
      "Epoch 60/400, Loss: 0.3784, Train Acc: 0.7532, Val Acc: 0.7291\n",
      "Epoch 60/400, Loss: 0.3784, Train Acc: 0.7532, Val Acc: 0.7291\n",
      "Epoch 60/400, Loss: 0.3784, Train Acc: 0.7532, Val Acc: 0.7291\n"
     ]
    },
    {
     "name": "stdout",
     "output_type": "stream",
     "text": [
      "Epoch 60/400, Loss: 0.3784, Train Acc: 0.7532, Val Acc: 0.7291\n"
     ]
    },
    {
     "name": "stderr",
     "output_type": "stream",
     "text": [
      "Iterating training graphs: 100%|██████████| 257/257 [00:31<00:00,  8.29batch/s]\n",
      "Iterating eval graphs: 100%|██████████| 65/65 [00:04<00:00, 15.10batch/s]\n",
      "Epoch 61/400, Loss: 0.3700, Train Acc: 0.7589, Val Acc: 0.7349\n",
      "Epoch 61/400, Loss: 0.3700, Train Acc: 0.7589, Val Acc: 0.7349\n",
      "Epoch 61/400, Loss: 0.3700, Train Acc: 0.7589, Val Acc: 0.7349\n",
      "Epoch 61/400, Loss: 0.3700, Train Acc: 0.7589, Val Acc: 0.7349\n"
     ]
    },
    {
     "name": "stdout",
     "output_type": "stream",
     "text": [
      "Epoch 61/400, Loss: 0.3700, Train Acc: 0.7589, Val Acc: 0.7349\n"
     ]
    },
    {
     "name": "stderr",
     "output_type": "stream",
     "text": [
      "Iterating training graphs: 100%|██████████| 257/257 [00:30<00:00,  8.33batch/s]\n",
      "Iterating eval graphs: 100%|██████████| 65/65 [00:04<00:00, 14.79batch/s]\n",
      "Epoch 62/400, Loss: 0.3713, Train Acc: 0.7596, Val Acc: 0.7242\n",
      "Epoch 62/400, Loss: 0.3713, Train Acc: 0.7596, Val Acc: 0.7242\n",
      "Epoch 62/400, Loss: 0.3713, Train Acc: 0.7596, Val Acc: 0.7242\n",
      "Epoch 62/400, Loss: 0.3713, Train Acc: 0.7596, Val Acc: 0.7242\n"
     ]
    },
    {
     "name": "stdout",
     "output_type": "stream",
     "text": [
      "Epoch 62/400, Loss: 0.3713, Train Acc: 0.7596, Val Acc: 0.7242\n"
     ]
    },
    {
     "name": "stderr",
     "output_type": "stream",
     "text": [
      "Iterating training graphs: 100%|██████████| 257/257 [00:30<00:00,  8.40batch/s]\n",
      "Iterating eval graphs: 100%|██████████| 65/65 [00:04<00:00, 15.42batch/s]\n",
      "Epoch 63/400, Loss: 0.3693, Train Acc: 0.7641, Val Acc: 0.7242\n",
      "Epoch 63/400, Loss: 0.3693, Train Acc: 0.7641, Val Acc: 0.7242\n",
      "Epoch 63/400, Loss: 0.3693, Train Acc: 0.7641, Val Acc: 0.7242\n",
      "Epoch 63/400, Loss: 0.3693, Train Acc: 0.7641, Val Acc: 0.7242\n"
     ]
    },
    {
     "name": "stdout",
     "output_type": "stream",
     "text": [
      "Epoch 63/400, Loss: 0.3693, Train Acc: 0.7641, Val Acc: 0.7242\n"
     ]
    },
    {
     "name": "stderr",
     "output_type": "stream",
     "text": [
      "Iterating training graphs: 100%|██████████| 257/257 [00:30<00:00,  8.38batch/s]\n",
      "Iterating eval graphs: 100%|██████████| 65/65 [00:04<00:00, 15.13batch/s]\n",
      "Epoch 64/400, Loss: 0.3674, Train Acc: 0.7634, Val Acc: 0.7232\n",
      "Epoch 64/400, Loss: 0.3674, Train Acc: 0.7634, Val Acc: 0.7232\n",
      "Epoch 64/400, Loss: 0.3674, Train Acc: 0.7634, Val Acc: 0.7232\n",
      "Epoch 64/400, Loss: 0.3674, Train Acc: 0.7634, Val Acc: 0.7232\n"
     ]
    },
    {
     "name": "stdout",
     "output_type": "stream",
     "text": [
      "Epoch 64/400, Loss: 0.3674, Train Acc: 0.7634, Val Acc: 0.7232\n"
     ]
    },
    {
     "name": "stderr",
     "output_type": "stream",
     "text": [
      "Iterating training graphs: 100%|██████████| 257/257 [00:30<00:00,  8.32batch/s]\n",
      "Iterating eval graphs: 100%|██████████| 65/65 [00:04<00:00, 15.28batch/s]\n",
      "Epoch 65/400, Loss: 0.3629, Train Acc: 0.7652, Val Acc: 0.7160\n",
      "Epoch 65/400, Loss: 0.3629, Train Acc: 0.7652, Val Acc: 0.7160\n",
      "Epoch 65/400, Loss: 0.3629, Train Acc: 0.7652, Val Acc: 0.7160\n",
      "Epoch 65/400, Loss: 0.3629, Train Acc: 0.7652, Val Acc: 0.7160\n"
     ]
    },
    {
     "name": "stdout",
     "output_type": "stream",
     "text": [
      "Epoch 65/400, Loss: 0.3629, Train Acc: 0.7652, Val Acc: 0.7160\n"
     ]
    },
    {
     "name": "stderr",
     "output_type": "stream",
     "text": [
      "Iterating training graphs: 100%|██████████| 257/257 [00:30<00:00,  8.38batch/s]\n",
      "Iterating eval graphs: 100%|██████████| 65/65 [00:04<00:00, 15.10batch/s]\n",
      "Epoch 66/400, Loss: 0.3670, Train Acc: 0.7648, Val Acc: 0.7252\n",
      "Epoch 66/400, Loss: 0.3670, Train Acc: 0.7648, Val Acc: 0.7252\n",
      "Epoch 66/400, Loss: 0.3670, Train Acc: 0.7648, Val Acc: 0.7252\n",
      "Epoch 66/400, Loss: 0.3670, Train Acc: 0.7648, Val Acc: 0.7252\n"
     ]
    },
    {
     "name": "stdout",
     "output_type": "stream",
     "text": [
      "Epoch 66/400, Loss: 0.3670, Train Acc: 0.7648, Val Acc: 0.7252\n"
     ]
    },
    {
     "name": "stderr",
     "output_type": "stream",
     "text": [
      "Iterating training graphs: 100%|██████████| 257/257 [00:30<00:00,  8.41batch/s]\n",
      "Iterating eval graphs: 100%|██████████| 65/65 [00:04<00:00, 15.25batch/s]\n",
      "Epoch 67/400, Loss: 0.3619, Train Acc: 0.7686, Val Acc: 0.7364\n",
      "Epoch 67/400, Loss: 0.3619, Train Acc: 0.7686, Val Acc: 0.7364\n",
      "Epoch 67/400, Loss: 0.3619, Train Acc: 0.7686, Val Acc: 0.7364\n",
      "Epoch 67/400, Loss: 0.3619, Train Acc: 0.7686, Val Acc: 0.7364\n"
     ]
    },
    {
     "name": "stdout",
     "output_type": "stream",
     "text": [
      "Epoch 67/400, Loss: 0.3619, Train Acc: 0.7686, Val Acc: 0.7364\n"
     ]
    },
    {
     "name": "stderr",
     "output_type": "stream",
     "text": [
      "Iterating training graphs: 100%|██████████| 257/257 [00:30<00:00,  8.34batch/s]\n",
      "Iterating eval graphs: 100%|██████████| 65/65 [00:04<00:00, 15.28batch/s]\n",
      "Epoch 68/400, Loss: 0.3638, Train Acc: 0.7630, Val Acc: 0.7456\n",
      "Epoch 68/400, Loss: 0.3638, Train Acc: 0.7630, Val Acc: 0.7456\n",
      "Epoch 68/400, Loss: 0.3638, Train Acc: 0.7630, Val Acc: 0.7456\n",
      "Epoch 68/400, Loss: 0.3638, Train Acc: 0.7630, Val Acc: 0.7456\n"
     ]
    },
    {
     "name": "stdout",
     "output_type": "stream",
     "text": [
      "Epoch 68/400, Loss: 0.3638, Train Acc: 0.7630, Val Acc: 0.7456\n",
      "Best model updated and saved at /home/onyxia/work/DL-Hackathon/hackaton/checkpoints/model_D_best.pth\n"
     ]
    },
    {
     "name": "stderr",
     "output_type": "stream",
     "text": [
      "Iterating training graphs: 100%|██████████| 257/257 [00:30<00:00,  8.35batch/s]\n",
      "Iterating eval graphs: 100%|██████████| 65/65 [00:04<00:00, 15.50batch/s]\n",
      "Epoch 69/400, Loss: 0.3664, Train Acc: 0.7650, Val Acc: 0.7276\n",
      "Epoch 69/400, Loss: 0.3664, Train Acc: 0.7650, Val Acc: 0.7276\n",
      "Epoch 69/400, Loss: 0.3664, Train Acc: 0.7650, Val Acc: 0.7276\n",
      "Epoch 69/400, Loss: 0.3664, Train Acc: 0.7650, Val Acc: 0.7276\n"
     ]
    },
    {
     "name": "stdout",
     "output_type": "stream",
     "text": [
      "Epoch 69/400, Loss: 0.3664, Train Acc: 0.7650, Val Acc: 0.7276\n"
     ]
    },
    {
     "name": "stderr",
     "output_type": "stream",
     "text": [
      "Iterating training graphs: 100%|██████████| 257/257 [00:30<00:00,  8.39batch/s]\n",
      "Iterating eval graphs: 100%|██████████| 65/65 [00:04<00:00, 14.92batch/s]\n",
      "Epoch 70/400, Loss: 0.3580, Train Acc: 0.7667, Val Acc: 0.7262\n",
      "Epoch 70/400, Loss: 0.3580, Train Acc: 0.7667, Val Acc: 0.7262\n",
      "Epoch 70/400, Loss: 0.3580, Train Acc: 0.7667, Val Acc: 0.7262\n",
      "Epoch 70/400, Loss: 0.3580, Train Acc: 0.7667, Val Acc: 0.7262\n"
     ]
    },
    {
     "name": "stdout",
     "output_type": "stream",
     "text": [
      "Epoch 70/400, Loss: 0.3580, Train Acc: 0.7667, Val Acc: 0.7262\n"
     ]
    },
    {
     "name": "stderr",
     "output_type": "stream",
     "text": [
      "Iterating training graphs: 100%|██████████| 257/257 [00:30<00:00,  8.37batch/s]\n",
      "Iterating eval graphs: 100%|██████████| 65/65 [00:04<00:00, 15.60batch/s]\n",
      "Epoch 71/400, Loss: 0.3581, Train Acc: 0.7729, Val Acc: 0.7393\n",
      "Epoch 71/400, Loss: 0.3581, Train Acc: 0.7729, Val Acc: 0.7393\n",
      "Epoch 71/400, Loss: 0.3581, Train Acc: 0.7729, Val Acc: 0.7393\n",
      "Epoch 71/400, Loss: 0.3581, Train Acc: 0.7729, Val Acc: 0.7393\n"
     ]
    },
    {
     "name": "stdout",
     "output_type": "stream",
     "text": [
      "Epoch 71/400, Loss: 0.3581, Train Acc: 0.7729, Val Acc: 0.7393\n"
     ]
    },
    {
     "name": "stderr",
     "output_type": "stream",
     "text": [
      "Iterating training graphs: 100%|██████████| 257/257 [00:30<00:00,  8.31batch/s]\n",
      "Iterating eval graphs: 100%|██████████| 65/65 [00:04<00:00, 15.49batch/s]\n",
      "Epoch 72/400, Loss: 0.3569, Train Acc: 0.7720, Val Acc: 0.7286\n",
      "Epoch 72/400, Loss: 0.3569, Train Acc: 0.7720, Val Acc: 0.7286\n",
      "Epoch 72/400, Loss: 0.3569, Train Acc: 0.7720, Val Acc: 0.7286\n",
      "Epoch 72/400, Loss: 0.3569, Train Acc: 0.7720, Val Acc: 0.7286\n"
     ]
    },
    {
     "name": "stdout",
     "output_type": "stream",
     "text": [
      "Epoch 72/400, Loss: 0.3569, Train Acc: 0.7720, Val Acc: 0.7286\n"
     ]
    },
    {
     "name": "stderr",
     "output_type": "stream",
     "text": [
      "Iterating training graphs: 100%|██████████| 257/257 [00:30<00:00,  8.39batch/s]\n",
      "Iterating eval graphs: 100%|██████████| 65/65 [00:04<00:00, 15.31batch/s]\n",
      "Epoch 73/400, Loss: 0.3551, Train Acc: 0.7771, Val Acc: 0.7422\n",
      "Epoch 73/400, Loss: 0.3551, Train Acc: 0.7771, Val Acc: 0.7422\n",
      "Epoch 73/400, Loss: 0.3551, Train Acc: 0.7771, Val Acc: 0.7422\n",
      "Epoch 73/400, Loss: 0.3551, Train Acc: 0.7771, Val Acc: 0.7422\n"
     ]
    },
    {
     "name": "stdout",
     "output_type": "stream",
     "text": [
      "Epoch 73/400, Loss: 0.3551, Train Acc: 0.7771, Val Acc: 0.7422\n"
     ]
    },
    {
     "name": "stderr",
     "output_type": "stream",
     "text": [
      "Iterating training graphs: 100%|██████████| 257/257 [00:30<00:00,  8.43batch/s]\n",
      "Iterating eval graphs: 100%|██████████| 65/65 [00:04<00:00, 15.39batch/s]\n",
      "Epoch 74/400, Loss: 0.3555, Train Acc: 0.7686, Val Acc: 0.7408\n",
      "Epoch 74/400, Loss: 0.3555, Train Acc: 0.7686, Val Acc: 0.7408\n",
      "Epoch 74/400, Loss: 0.3555, Train Acc: 0.7686, Val Acc: 0.7408\n",
      "Epoch 74/400, Loss: 0.3555, Train Acc: 0.7686, Val Acc: 0.7408\n"
     ]
    },
    {
     "name": "stdout",
     "output_type": "stream",
     "text": [
      "Epoch 74/400, Loss: 0.3555, Train Acc: 0.7686, Val Acc: 0.7408\n"
     ]
    },
    {
     "name": "stderr",
     "output_type": "stream",
     "text": [
      "Iterating training graphs: 100%|██████████| 257/257 [00:30<00:00,  8.41batch/s]\n",
      "Iterating eval graphs: 100%|██████████| 65/65 [00:04<00:00, 15.46batch/s]\n",
      "Epoch 75/400, Loss: 0.3466, Train Acc: 0.7793, Val Acc: 0.7408\n",
      "Epoch 75/400, Loss: 0.3466, Train Acc: 0.7793, Val Acc: 0.7408\n",
      "Epoch 75/400, Loss: 0.3466, Train Acc: 0.7793, Val Acc: 0.7408\n",
      "Epoch 75/400, Loss: 0.3466, Train Acc: 0.7793, Val Acc: 0.7408\n"
     ]
    },
    {
     "name": "stdout",
     "output_type": "stream",
     "text": [
      "Epoch 75/400, Loss: 0.3466, Train Acc: 0.7793, Val Acc: 0.7408\n"
     ]
    },
    {
     "name": "stderr",
     "output_type": "stream",
     "text": [
      "Iterating training graphs: 100%|██████████| 257/257 [00:30<00:00,  8.42batch/s]\n",
      "Iterating eval graphs: 100%|██████████| 65/65 [00:04<00:00, 14.68batch/s]\n",
      "Epoch 76/400, Loss: 0.3460, Train Acc: 0.7772, Val Acc: 0.7262\n",
      "Epoch 76/400, Loss: 0.3460, Train Acc: 0.7772, Val Acc: 0.7262\n",
      "Epoch 76/400, Loss: 0.3460, Train Acc: 0.7772, Val Acc: 0.7262\n",
      "Epoch 76/400, Loss: 0.3460, Train Acc: 0.7772, Val Acc: 0.7262\n"
     ]
    },
    {
     "name": "stdout",
     "output_type": "stream",
     "text": [
      "Epoch 76/400, Loss: 0.3460, Train Acc: 0.7772, Val Acc: 0.7262\n"
     ]
    },
    {
     "name": "stderr",
     "output_type": "stream",
     "text": [
      "Iterating training graphs: 100%|██████████| 257/257 [00:30<00:00,  8.37batch/s]\n",
      "Iterating eval graphs: 100%|██████████| 65/65 [00:04<00:00, 15.25batch/s]\n",
      "Epoch 77/400, Loss: 0.3454, Train Acc: 0.7755, Val Acc: 0.7374\n",
      "Epoch 77/400, Loss: 0.3454, Train Acc: 0.7755, Val Acc: 0.7374\n",
      "Epoch 77/400, Loss: 0.3454, Train Acc: 0.7755, Val Acc: 0.7374\n",
      "Epoch 77/400, Loss: 0.3454, Train Acc: 0.7755, Val Acc: 0.7374\n"
     ]
    },
    {
     "name": "stdout",
     "output_type": "stream",
     "text": [
      "Epoch 77/400, Loss: 0.3454, Train Acc: 0.7755, Val Acc: 0.7374\n"
     ]
    },
    {
     "name": "stderr",
     "output_type": "stream",
     "text": [
      "Iterating training graphs: 100%|██████████| 257/257 [00:30<00:00,  8.41batch/s]\n",
      "Iterating eval graphs: 100%|██████████| 65/65 [00:04<00:00, 15.36batch/s]\n",
      "Epoch 78/400, Loss: 0.3458, Train Acc: 0.7837, Val Acc: 0.7155\n",
      "Epoch 78/400, Loss: 0.3458, Train Acc: 0.7837, Val Acc: 0.7155\n",
      "Epoch 78/400, Loss: 0.3458, Train Acc: 0.7837, Val Acc: 0.7155\n",
      "Epoch 78/400, Loss: 0.3458, Train Acc: 0.7837, Val Acc: 0.7155\n"
     ]
    },
    {
     "name": "stdout",
     "output_type": "stream",
     "text": [
      "Epoch 78/400, Loss: 0.3458, Train Acc: 0.7837, Val Acc: 0.7155\n"
     ]
    },
    {
     "name": "stderr",
     "output_type": "stream",
     "text": [
      "Iterating training graphs: 100%|██████████| 257/257 [00:30<00:00,  8.34batch/s]\n",
      "Iterating eval graphs: 100%|██████████| 65/65 [00:04<00:00, 15.27batch/s]\n",
      "Epoch 79/400, Loss: 0.3425, Train Acc: 0.7815, Val Acc: 0.7286\n",
      "Epoch 79/400, Loss: 0.3425, Train Acc: 0.7815, Val Acc: 0.7286\n",
      "Epoch 79/400, Loss: 0.3425, Train Acc: 0.7815, Val Acc: 0.7286\n",
      "Epoch 79/400, Loss: 0.3425, Train Acc: 0.7815, Val Acc: 0.7286\n"
     ]
    },
    {
     "name": "stdout",
     "output_type": "stream",
     "text": [
      "Epoch 79/400, Loss: 0.3425, Train Acc: 0.7815, Val Acc: 0.7286\n"
     ]
    },
    {
     "name": "stderr",
     "output_type": "stream",
     "text": [
      "Iterating training graphs: 100%|██████████| 257/257 [00:30<00:00,  8.35batch/s]\n"
     ]
    },
    {
     "name": "stdout",
     "output_type": "stream",
     "text": [
      "Checkpoint saved at /home/onyxia/work/DL-Hackathon/hackaton/checkpoints/D/model_D_epoch_80.pth\n"
     ]
    },
    {
     "name": "stderr",
     "output_type": "stream",
     "text": [
      "Iterating eval graphs: 100%|██████████| 65/65 [00:04<00:00, 15.19batch/s]\n",
      "Epoch 80/400, Loss: 0.3430, Train Acc: 0.7805, Val Acc: 0.7169\n",
      "Epoch 80/400, Loss: 0.3430, Train Acc: 0.7805, Val Acc: 0.7169\n",
      "Epoch 80/400, Loss: 0.3430, Train Acc: 0.7805, Val Acc: 0.7169\n",
      "Epoch 80/400, Loss: 0.3430, Train Acc: 0.7805, Val Acc: 0.7169\n"
     ]
    },
    {
     "name": "stdout",
     "output_type": "stream",
     "text": [
      "Epoch 80/400, Loss: 0.3430, Train Acc: 0.7805, Val Acc: 0.7169\n"
     ]
    },
    {
     "name": "stderr",
     "output_type": "stream",
     "text": [
      "Iterating training graphs: 100%|██████████| 257/257 [00:30<00:00,  8.37batch/s]\n",
      "Iterating eval graphs: 100%|██████████| 65/65 [00:04<00:00, 15.39batch/s]\n",
      "Epoch 81/400, Loss: 0.3408, Train Acc: 0.7834, Val Acc: 0.7320\n",
      "Epoch 81/400, Loss: 0.3408, Train Acc: 0.7834, Val Acc: 0.7320\n",
      "Epoch 81/400, Loss: 0.3408, Train Acc: 0.7834, Val Acc: 0.7320\n",
      "Epoch 81/400, Loss: 0.3408, Train Acc: 0.7834, Val Acc: 0.7320\n"
     ]
    },
    {
     "name": "stdout",
     "output_type": "stream",
     "text": [
      "Epoch 81/400, Loss: 0.3408, Train Acc: 0.7834, Val Acc: 0.7320\n"
     ]
    },
    {
     "name": "stderr",
     "output_type": "stream",
     "text": [
      "Iterating training graphs: 100%|██████████| 257/257 [00:30<00:00,  8.37batch/s]\n",
      "Iterating eval graphs: 100%|██████████| 65/65 [00:04<00:00, 14.93batch/s]\n",
      "Epoch 82/400, Loss: 0.3323, Train Acc: 0.7893, Val Acc: 0.7116\n",
      "Epoch 82/400, Loss: 0.3323, Train Acc: 0.7893, Val Acc: 0.7116\n",
      "Epoch 82/400, Loss: 0.3323, Train Acc: 0.7893, Val Acc: 0.7116\n",
      "Epoch 82/400, Loss: 0.3323, Train Acc: 0.7893, Val Acc: 0.7116\n"
     ]
    },
    {
     "name": "stdout",
     "output_type": "stream",
     "text": [
      "Epoch 82/400, Loss: 0.3323, Train Acc: 0.7893, Val Acc: 0.7116\n"
     ]
    },
    {
     "name": "stderr",
     "output_type": "stream",
     "text": [
      "Iterating training graphs: 100%|██████████| 257/257 [00:30<00:00,  8.38batch/s]\n",
      "Iterating eval graphs: 100%|██████████| 65/65 [00:04<00:00, 15.35batch/s]\n",
      "Epoch 83/400, Loss: 0.3371, Train Acc: 0.7871, Val Acc: 0.7213\n",
      "Epoch 83/400, Loss: 0.3371, Train Acc: 0.7871, Val Acc: 0.7213\n",
      "Epoch 83/400, Loss: 0.3371, Train Acc: 0.7871, Val Acc: 0.7213\n",
      "Epoch 83/400, Loss: 0.3371, Train Acc: 0.7871, Val Acc: 0.7213\n"
     ]
    },
    {
     "name": "stdout",
     "output_type": "stream",
     "text": [
      "Epoch 83/400, Loss: 0.3371, Train Acc: 0.7871, Val Acc: 0.7213\n"
     ]
    },
    {
     "name": "stderr",
     "output_type": "stream",
     "text": [
      "Iterating training graphs: 100%|██████████| 257/257 [00:30<00:00,  8.37batch/s]\n",
      "Iterating eval graphs: 100%|██████████| 65/65 [00:04<00:00, 15.23batch/s]\n",
      "Epoch 84/400, Loss: 0.3348, Train Acc: 0.7885, Val Acc: 0.7412\n",
      "Epoch 84/400, Loss: 0.3348, Train Acc: 0.7885, Val Acc: 0.7412\n",
      "Epoch 84/400, Loss: 0.3348, Train Acc: 0.7885, Val Acc: 0.7412\n",
      "Epoch 84/400, Loss: 0.3348, Train Acc: 0.7885, Val Acc: 0.7412\n"
     ]
    },
    {
     "name": "stdout",
     "output_type": "stream",
     "text": [
      "Epoch 84/400, Loss: 0.3348, Train Acc: 0.7885, Val Acc: 0.7412\n"
     ]
    },
    {
     "name": "stderr",
     "output_type": "stream",
     "text": [
      "Iterating training graphs: 100%|██████████| 257/257 [00:30<00:00,  8.35batch/s]\n",
      "Iterating eval graphs: 100%|██████████| 65/65 [00:04<00:00, 15.31batch/s]\n",
      "Epoch 85/400, Loss: 0.3290, Train Acc: 0.7939, Val Acc: 0.7427\n",
      "Epoch 85/400, Loss: 0.3290, Train Acc: 0.7939, Val Acc: 0.7427\n",
      "Epoch 85/400, Loss: 0.3290, Train Acc: 0.7939, Val Acc: 0.7427\n",
      "Epoch 85/400, Loss: 0.3290, Train Acc: 0.7939, Val Acc: 0.7427\n"
     ]
    },
    {
     "name": "stdout",
     "output_type": "stream",
     "text": [
      "Epoch 85/400, Loss: 0.3290, Train Acc: 0.7939, Val Acc: 0.7427\n"
     ]
    },
    {
     "name": "stderr",
     "output_type": "stream",
     "text": [
      "Iterating training graphs: 100%|██████████| 257/257 [00:30<00:00,  8.37batch/s]\n",
      "Iterating eval graphs: 100%|██████████| 65/65 [00:04<00:00, 15.58batch/s]\n",
      "Epoch 86/400, Loss: 0.3317, Train Acc: 0.7927, Val Acc: 0.7276\n",
      "Epoch 86/400, Loss: 0.3317, Train Acc: 0.7927, Val Acc: 0.7276\n",
      "Epoch 86/400, Loss: 0.3317, Train Acc: 0.7927, Val Acc: 0.7276\n",
      "Epoch 86/400, Loss: 0.3317, Train Acc: 0.7927, Val Acc: 0.7276\n"
     ]
    },
    {
     "name": "stdout",
     "output_type": "stream",
     "text": [
      "Epoch 86/400, Loss: 0.3317, Train Acc: 0.7927, Val Acc: 0.7276\n"
     ]
    },
    {
     "name": "stderr",
     "output_type": "stream",
     "text": [
      "Iterating training graphs: 100%|██████████| 257/257 [00:30<00:00,  8.37batch/s]\n",
      "Iterating eval graphs: 100%|██████████| 65/65 [00:04<00:00, 15.38batch/s]\n",
      "Epoch 87/400, Loss: 0.3270, Train Acc: 0.7921, Val Acc: 0.7393\n",
      "Epoch 87/400, Loss: 0.3270, Train Acc: 0.7921, Val Acc: 0.7393\n",
      "Epoch 87/400, Loss: 0.3270, Train Acc: 0.7921, Val Acc: 0.7393\n",
      "Epoch 87/400, Loss: 0.3270, Train Acc: 0.7921, Val Acc: 0.7393\n"
     ]
    },
    {
     "name": "stdout",
     "output_type": "stream",
     "text": [
      "Epoch 87/400, Loss: 0.3270, Train Acc: 0.7921, Val Acc: 0.7393\n"
     ]
    },
    {
     "name": "stderr",
     "output_type": "stream",
     "text": [
      "Iterating training graphs: 100%|██████████| 257/257 [00:30<00:00,  8.35batch/s]\n",
      "Iterating eval graphs: 100%|██████████| 65/65 [00:04<00:00, 14.73batch/s]\n",
      "Epoch 88/400, Loss: 0.3286, Train Acc: 0.7986, Val Acc: 0.7291\n",
      "Epoch 88/400, Loss: 0.3286, Train Acc: 0.7986, Val Acc: 0.7291\n",
      "Epoch 88/400, Loss: 0.3286, Train Acc: 0.7986, Val Acc: 0.7291\n",
      "Epoch 88/400, Loss: 0.3286, Train Acc: 0.7986, Val Acc: 0.7291\n"
     ]
    },
    {
     "name": "stdout",
     "output_type": "stream",
     "text": [
      "Epoch 88/400, Loss: 0.3286, Train Acc: 0.7986, Val Acc: 0.7291\n"
     ]
    },
    {
     "name": "stderr",
     "output_type": "stream",
     "text": [
      "Iterating training graphs: 100%|██████████| 257/257 [00:30<00:00,  8.40batch/s]\n",
      "Iterating eval graphs: 100%|██████████| 65/65 [00:04<00:00, 15.49batch/s]\n",
      "Epoch 89/400, Loss: 0.3267, Train Acc: 0.7982, Val Acc: 0.7184\n",
      "Epoch 89/400, Loss: 0.3267, Train Acc: 0.7982, Val Acc: 0.7184\n",
      "Epoch 89/400, Loss: 0.3267, Train Acc: 0.7982, Val Acc: 0.7184\n",
      "Epoch 89/400, Loss: 0.3267, Train Acc: 0.7982, Val Acc: 0.7184\n"
     ]
    },
    {
     "name": "stdout",
     "output_type": "stream",
     "text": [
      "Epoch 89/400, Loss: 0.3267, Train Acc: 0.7982, Val Acc: 0.7184\n"
     ]
    },
    {
     "name": "stderr",
     "output_type": "stream",
     "text": [
      "Iterating training graphs: 100%|██████████| 257/257 [00:30<00:00,  8.34batch/s]\n",
      "Iterating eval graphs: 100%|██████████| 65/65 [00:04<00:00, 15.31batch/s]\n",
      "Epoch 90/400, Loss: 0.3246, Train Acc: 0.7938, Val Acc: 0.7315\n",
      "Epoch 90/400, Loss: 0.3246, Train Acc: 0.7938, Val Acc: 0.7315\n",
      "Epoch 90/400, Loss: 0.3246, Train Acc: 0.7938, Val Acc: 0.7315\n",
      "Epoch 90/400, Loss: 0.3246, Train Acc: 0.7938, Val Acc: 0.7315\n"
     ]
    },
    {
     "name": "stdout",
     "output_type": "stream",
     "text": [
      "Epoch 90/400, Loss: 0.3246, Train Acc: 0.7938, Val Acc: 0.7315\n"
     ]
    },
    {
     "name": "stderr",
     "output_type": "stream",
     "text": [
      "Iterating training graphs: 100%|██████████| 257/257 [00:30<00:00,  8.40batch/s]\n",
      "Iterating eval graphs: 100%|██████████| 65/65 [00:04<00:00, 15.14batch/s]\n",
      "Epoch 91/400, Loss: 0.3260, Train Acc: 0.7949, Val Acc: 0.7296\n",
      "Epoch 91/400, Loss: 0.3260, Train Acc: 0.7949, Val Acc: 0.7296\n",
      "Epoch 91/400, Loss: 0.3260, Train Acc: 0.7949, Val Acc: 0.7296\n",
      "Epoch 91/400, Loss: 0.3260, Train Acc: 0.7949, Val Acc: 0.7296\n"
     ]
    },
    {
     "name": "stdout",
     "output_type": "stream",
     "text": [
      "Epoch 91/400, Loss: 0.3260, Train Acc: 0.7949, Val Acc: 0.7296\n"
     ]
    },
    {
     "name": "stderr",
     "output_type": "stream",
     "text": [
      "Iterating training graphs: 100%|██████████| 257/257 [00:30<00:00,  8.36batch/s]\n",
      "Iterating eval graphs: 100%|██████████| 65/65 [00:04<00:00, 14.73batch/s]\n",
      "Epoch 92/400, Loss: 0.3201, Train Acc: 0.8016, Val Acc: 0.7232\n",
      "Epoch 92/400, Loss: 0.3201, Train Acc: 0.8016, Val Acc: 0.7232\n",
      "Epoch 92/400, Loss: 0.3201, Train Acc: 0.8016, Val Acc: 0.7232\n",
      "Epoch 92/400, Loss: 0.3201, Train Acc: 0.8016, Val Acc: 0.7232\n"
     ]
    },
    {
     "name": "stdout",
     "output_type": "stream",
     "text": [
      "Epoch 92/400, Loss: 0.3201, Train Acc: 0.8016, Val Acc: 0.7232\n"
     ]
    },
    {
     "name": "stderr",
     "output_type": "stream",
     "text": [
      "Iterating training graphs: 100%|██████████| 257/257 [00:30<00:00,  8.34batch/s]\n",
      "Iterating eval graphs: 100%|██████████| 65/65 [00:04<00:00, 15.67batch/s]\n",
      "Epoch 93/400, Loss: 0.3149, Train Acc: 0.8061, Val Acc: 0.7247\n",
      "Epoch 93/400, Loss: 0.3149, Train Acc: 0.8061, Val Acc: 0.7247\n",
      "Epoch 93/400, Loss: 0.3149, Train Acc: 0.8061, Val Acc: 0.7247\n",
      "Epoch 93/400, Loss: 0.3149, Train Acc: 0.8061, Val Acc: 0.7247\n"
     ]
    },
    {
     "name": "stdout",
     "output_type": "stream",
     "text": [
      "Epoch 93/400, Loss: 0.3149, Train Acc: 0.8061, Val Acc: 0.7247\n"
     ]
    },
    {
     "name": "stderr",
     "output_type": "stream",
     "text": [
      "Iterating training graphs: 100%|██████████| 257/257 [00:30<00:00,  8.37batch/s]\n",
      "Iterating eval graphs: 100%|██████████| 65/65 [00:04<00:00, 15.15batch/s]\n",
      "Epoch 94/400, Loss: 0.3198, Train Acc: 0.8005, Val Acc: 0.7378\n",
      "Epoch 94/400, Loss: 0.3198, Train Acc: 0.8005, Val Acc: 0.7378\n",
      "Epoch 94/400, Loss: 0.3198, Train Acc: 0.8005, Val Acc: 0.7378\n",
      "Epoch 94/400, Loss: 0.3198, Train Acc: 0.8005, Val Acc: 0.7378\n"
     ]
    },
    {
     "name": "stdout",
     "output_type": "stream",
     "text": [
      "Epoch 94/400, Loss: 0.3198, Train Acc: 0.8005, Val Acc: 0.7378\n"
     ]
    },
    {
     "name": "stderr",
     "output_type": "stream",
     "text": [
      "Iterating training graphs: 100%|██████████| 257/257 [00:30<00:00,  8.31batch/s]\n",
      "Iterating eval graphs: 100%|██████████| 65/65 [00:04<00:00, 14.99batch/s]\n",
      "Epoch 95/400, Loss: 0.3205, Train Acc: 0.7973, Val Acc: 0.7237\n",
      "Epoch 95/400, Loss: 0.3205, Train Acc: 0.7973, Val Acc: 0.7237\n",
      "Epoch 95/400, Loss: 0.3205, Train Acc: 0.7973, Val Acc: 0.7237\n",
      "Epoch 95/400, Loss: 0.3205, Train Acc: 0.7973, Val Acc: 0.7237\n"
     ]
    },
    {
     "name": "stdout",
     "output_type": "stream",
     "text": [
      "Epoch 95/400, Loss: 0.3205, Train Acc: 0.7973, Val Acc: 0.7237\n"
     ]
    },
    {
     "name": "stderr",
     "output_type": "stream",
     "text": [
      "Iterating training graphs: 100%|██████████| 257/257 [00:30<00:00,  8.31batch/s]\n",
      "Iterating eval graphs: 100%|██████████| 65/65 [00:04<00:00, 15.15batch/s]\n",
      "Epoch 96/400, Loss: 0.3163, Train Acc: 0.8019, Val Acc: 0.7271\n",
      "Epoch 96/400, Loss: 0.3163, Train Acc: 0.8019, Val Acc: 0.7271\n",
      "Epoch 96/400, Loss: 0.3163, Train Acc: 0.8019, Val Acc: 0.7271\n",
      "Epoch 96/400, Loss: 0.3163, Train Acc: 0.8019, Val Acc: 0.7271\n"
     ]
    },
    {
     "name": "stdout",
     "output_type": "stream",
     "text": [
      "Epoch 96/400, Loss: 0.3163, Train Acc: 0.8019, Val Acc: 0.7271\n"
     ]
    },
    {
     "name": "stderr",
     "output_type": "stream",
     "text": [
      "Iterating training graphs: 100%|██████████| 257/257 [00:30<00:00,  8.35batch/s]\n",
      "Iterating eval graphs: 100%|██████████| 65/65 [00:04<00:00, 15.81batch/s]\n",
      "Epoch 97/400, Loss: 0.3135, Train Acc: 0.8081, Val Acc: 0.7325\n",
      "Epoch 97/400, Loss: 0.3135, Train Acc: 0.8081, Val Acc: 0.7325\n",
      "Epoch 97/400, Loss: 0.3135, Train Acc: 0.8081, Val Acc: 0.7325\n",
      "Epoch 97/400, Loss: 0.3135, Train Acc: 0.8081, Val Acc: 0.7325\n"
     ]
    },
    {
     "name": "stdout",
     "output_type": "stream",
     "text": [
      "Epoch 97/400, Loss: 0.3135, Train Acc: 0.8081, Val Acc: 0.7325\n"
     ]
    },
    {
     "name": "stderr",
     "output_type": "stream",
     "text": [
      "Iterating training graphs: 100%|██████████| 257/257 [00:30<00:00,  8.42batch/s]\n",
      "Iterating eval graphs: 100%|██████████| 65/65 [00:04<00:00, 15.11batch/s]\n",
      "Epoch 98/400, Loss: 0.3093, Train Acc: 0.8061, Val Acc: 0.7291\n",
      "Epoch 98/400, Loss: 0.3093, Train Acc: 0.8061, Val Acc: 0.7291\n",
      "Epoch 98/400, Loss: 0.3093, Train Acc: 0.8061, Val Acc: 0.7291\n",
      "Epoch 98/400, Loss: 0.3093, Train Acc: 0.8061, Val Acc: 0.7291\n"
     ]
    },
    {
     "name": "stdout",
     "output_type": "stream",
     "text": [
      "Epoch 98/400, Loss: 0.3093, Train Acc: 0.8061, Val Acc: 0.7291\n"
     ]
    },
    {
     "name": "stderr",
     "output_type": "stream",
     "text": [
      "Iterating training graphs: 100%|██████████| 257/257 [00:30<00:00,  8.44batch/s]\n",
      "Iterating eval graphs: 100%|██████████| 65/65 [00:04<00:00, 15.28batch/s]\n",
      "Epoch 99/400, Loss: 0.3119, Train Acc: 0.8097, Val Acc: 0.7335\n",
      "Epoch 99/400, Loss: 0.3119, Train Acc: 0.8097, Val Acc: 0.7335\n",
      "Epoch 99/400, Loss: 0.3119, Train Acc: 0.8097, Val Acc: 0.7335\n",
      "Epoch 99/400, Loss: 0.3119, Train Acc: 0.8097, Val Acc: 0.7335\n"
     ]
    },
    {
     "name": "stdout",
     "output_type": "stream",
     "text": [
      "Epoch 99/400, Loss: 0.3119, Train Acc: 0.8097, Val Acc: 0.7335\n"
     ]
    },
    {
     "name": "stderr",
     "output_type": "stream",
     "text": [
      "Iterating training graphs: 100%|██████████| 257/257 [00:30<00:00,  8.39batch/s]\n"
     ]
    },
    {
     "name": "stdout",
     "output_type": "stream",
     "text": [
      "Checkpoint saved at /home/onyxia/work/DL-Hackathon/hackaton/checkpoints/D/model_D_epoch_100.pth\n"
     ]
    },
    {
     "name": "stderr",
     "output_type": "stream",
     "text": [
      "Iterating eval graphs: 100%|██████████| 65/65 [00:04<00:00, 14.59batch/s]\n",
      "Epoch 100/400, Loss: 0.3018, Train Acc: 0.8134, Val Acc: 0.7344\n",
      "Epoch 100/400, Loss: 0.3018, Train Acc: 0.8134, Val Acc: 0.7344\n",
      "Epoch 100/400, Loss: 0.3018, Train Acc: 0.8134, Val Acc: 0.7344\n",
      "Epoch 100/400, Loss: 0.3018, Train Acc: 0.8134, Val Acc: 0.7344\n"
     ]
    },
    {
     "name": "stdout",
     "output_type": "stream",
     "text": [
      "Epoch 100/400, Loss: 0.3018, Train Acc: 0.8134, Val Acc: 0.7344\n"
     ]
    },
    {
     "name": "stderr",
     "output_type": "stream",
     "text": [
      "Iterating training graphs:   6%|▌         | 16/257 [00:01<00:28,  8.40batch/s]\n"
     ]
    },
    {
     "ename": "KeyboardInterrupt",
     "evalue": "",
     "output_type": "error",
     "traceback": [
      "\u001b[31m---------------------------------------------------------------------------\u001b[39m",
      "\u001b[31mKeyboardInterrupt\u001b[39m                         Traceback (most recent call last)",
      "\u001b[36mCell\u001b[39m\u001b[36m \u001b[39m\u001b[32mIn[48]\u001b[39m\u001b[32m, line 26\u001b[39m\n\u001b[32m     23\u001b[39m     checkpoint_intervals = [num_epochs]\n\u001b[32m     25\u001b[39m \u001b[38;5;28;01mfor\u001b[39;00m epoch \u001b[38;5;129;01min\u001b[39;00m \u001b[38;5;28mrange\u001b[39m(num_epochs):\n\u001b[32m---> \u001b[39m\u001b[32m26\u001b[39m     train_loss, train_acc = \u001b[43mtrain\u001b[49m\u001b[43m(\u001b[49m\n\u001b[32m     27\u001b[39m \u001b[43m        \u001b[49m\u001b[43mtrain_loader\u001b[49m\u001b[43m,\u001b[49m\u001b[43m \u001b[49m\u001b[43mmodel\u001b[49m\u001b[43m,\u001b[49m\u001b[43m \u001b[49m\u001b[43moptimizer\u001b[49m\u001b[43m,\u001b[49m\u001b[43m \u001b[49m\u001b[43mcriterion\u001b[49m\u001b[43m,\u001b[49m\u001b[43m \u001b[49m\u001b[43mdevice\u001b[49m\u001b[43m,\u001b[49m\n\u001b[32m     28\u001b[39m \u001b[43m        \u001b[49m\u001b[43msave_checkpoints\u001b[49m\u001b[43m=\u001b[49m\u001b[43m(\u001b[49m\u001b[43mepoch\u001b[49m\u001b[43m \u001b[49m\u001b[43m+\u001b[49m\u001b[43m \u001b[49m\u001b[32;43m1\u001b[39;49m\u001b[43m \u001b[49m\u001b[38;5;129;43;01min\u001b[39;49;00m\u001b[43m \u001b[49m\u001b[43mcheckpoint_intervals\u001b[49m\u001b[43m)\u001b[49m\u001b[43m,\u001b[49m\n\u001b[32m     29\u001b[39m \u001b[43m        \u001b[49m\u001b[43mcheckpoint_path\u001b[49m\u001b[43m=\u001b[49m\u001b[43mos\u001b[49m\u001b[43m.\u001b[49m\u001b[43mpath\u001b[49m\u001b[43m.\u001b[49m\u001b[43mjoin\u001b[49m\u001b[43m(\u001b[49m\u001b[43mcheckpoints_folder\u001b[49m\u001b[43m,\u001b[49m\u001b[43m \u001b[49m\u001b[33;43mf\u001b[39;49m\u001b[33;43m\"\u001b[39;49m\u001b[33;43mmodel_\u001b[39;49m\u001b[38;5;132;43;01m{\u001b[39;49;00m\u001b[43mtest_dir_name\u001b[49m\u001b[38;5;132;43;01m}\u001b[39;49;00m\u001b[33;43m\"\u001b[39;49m\u001b[43m)\u001b[49m\u001b[43m,\u001b[49m\n\u001b[32m     30\u001b[39m \u001b[43m        \u001b[49m\u001b[43mcurrent_epoch\u001b[49m\u001b[43m=\u001b[49m\u001b[43mepoch\u001b[49m\n\u001b[32m     31\u001b[39m \u001b[43m    \u001b[49m\u001b[43m)\u001b[49m\n\u001b[32m     33\u001b[39m     val_loss,val_acc = evaluate(val_loader, model, device, calculate_accuracy=\u001b[38;5;28;01mTrue\u001b[39;00m)\n\u001b[32m     35\u001b[39m     \u001b[38;5;28mprint\u001b[39m(\u001b[33mf\u001b[39m\u001b[33m\"\u001b[39m\u001b[33mEpoch \u001b[39m\u001b[38;5;132;01m{\u001b[39;00mepoch\u001b[38;5;250m \u001b[39m+\u001b[38;5;250m \u001b[39m\u001b[32m1\u001b[39m\u001b[38;5;132;01m}\u001b[39;00m\u001b[33m/\u001b[39m\u001b[38;5;132;01m{\u001b[39;00mnum_epochs\u001b[38;5;132;01m}\u001b[39;00m\u001b[33m, Loss: \u001b[39m\u001b[38;5;132;01m{\u001b[39;00mtrain_loss\u001b[38;5;132;01m:\u001b[39;00m\u001b[33m.4f\u001b[39m\u001b[38;5;132;01m}\u001b[39;00m\u001b[33m, Train Acc: \u001b[39m\u001b[38;5;132;01m{\u001b[39;00mtrain_acc\u001b[38;5;132;01m:\u001b[39;00m\u001b[33m.4f\u001b[39m\u001b[38;5;132;01m}\u001b[39;00m\u001b[33m, Val Acc: \u001b[39m\u001b[38;5;132;01m{\u001b[39;00mval_acc\u001b[38;5;132;01m:\u001b[39;00m\u001b[33m.4f\u001b[39m\u001b[38;5;132;01m}\u001b[39;00m\u001b[33m\"\u001b[39m)\n",
      "\u001b[36mCell\u001b[39m\u001b[36m \u001b[39m\u001b[32mIn[9]\u001b[39m\u001b[32m, line 9\u001b[39m, in \u001b[36mtrain\u001b[39m\u001b[34m(data_loader, model, optimizer, criterion, device, save_checkpoints, checkpoint_path, current_epoch)\u001b[39m\n\u001b[32m      7\u001b[39m data = data.to(device)\n\u001b[32m      8\u001b[39m optimizer.zero_grad()\n\u001b[32m----> \u001b[39m\u001b[32m9\u001b[39m output = \u001b[43mmodel\u001b[49m\u001b[43m(\u001b[49m\u001b[43mdata\u001b[49m\u001b[43m)\u001b[49m\n\u001b[32m     10\u001b[39m loss = criterion(output, data.y)\n\u001b[32m     11\u001b[39m loss.backward()\n",
      "\u001b[36mFile \u001b[39m\u001b[32m/usr/local/lib/python3.12/site-packages/torch/nn/modules/module.py:1751\u001b[39m, in \u001b[36mModule._wrapped_call_impl\u001b[39m\u001b[34m(self, *args, **kwargs)\u001b[39m\n\u001b[32m   1749\u001b[39m     \u001b[38;5;28;01mreturn\u001b[39;00m \u001b[38;5;28mself\u001b[39m._compiled_call_impl(*args, **kwargs)  \u001b[38;5;66;03m# type: ignore[misc]\u001b[39;00m\n\u001b[32m   1750\u001b[39m \u001b[38;5;28;01melse\u001b[39;00m:\n\u001b[32m-> \u001b[39m\u001b[32m1751\u001b[39m     \u001b[38;5;28;01mreturn\u001b[39;00m \u001b[38;5;28;43mself\u001b[39;49m\u001b[43m.\u001b[49m\u001b[43m_call_impl\u001b[49m\u001b[43m(\u001b[49m\u001b[43m*\u001b[49m\u001b[43margs\u001b[49m\u001b[43m,\u001b[49m\u001b[43m \u001b[49m\u001b[43m*\u001b[49m\u001b[43m*\u001b[49m\u001b[43mkwargs\u001b[49m\u001b[43m)\u001b[49m\n",
      "\u001b[36mFile \u001b[39m\u001b[32m/usr/local/lib/python3.12/site-packages/torch/nn/modules/module.py:1762\u001b[39m, in \u001b[36mModule._call_impl\u001b[39m\u001b[34m(self, *args, **kwargs)\u001b[39m\n\u001b[32m   1757\u001b[39m \u001b[38;5;66;03m# If we don't have any hooks, we want to skip the rest of the logic in\u001b[39;00m\n\u001b[32m   1758\u001b[39m \u001b[38;5;66;03m# this function, and just call forward.\u001b[39;00m\n\u001b[32m   1759\u001b[39m \u001b[38;5;28;01mif\u001b[39;00m \u001b[38;5;129;01mnot\u001b[39;00m (\u001b[38;5;28mself\u001b[39m._backward_hooks \u001b[38;5;129;01mor\u001b[39;00m \u001b[38;5;28mself\u001b[39m._backward_pre_hooks \u001b[38;5;129;01mor\u001b[39;00m \u001b[38;5;28mself\u001b[39m._forward_hooks \u001b[38;5;129;01mor\u001b[39;00m \u001b[38;5;28mself\u001b[39m._forward_pre_hooks\n\u001b[32m   1760\u001b[39m         \u001b[38;5;129;01mor\u001b[39;00m _global_backward_pre_hooks \u001b[38;5;129;01mor\u001b[39;00m _global_backward_hooks\n\u001b[32m   1761\u001b[39m         \u001b[38;5;129;01mor\u001b[39;00m _global_forward_hooks \u001b[38;5;129;01mor\u001b[39;00m _global_forward_pre_hooks):\n\u001b[32m-> \u001b[39m\u001b[32m1762\u001b[39m     \u001b[38;5;28;01mreturn\u001b[39;00m \u001b[43mforward_call\u001b[49m\u001b[43m(\u001b[49m\u001b[43m*\u001b[49m\u001b[43margs\u001b[49m\u001b[43m,\u001b[49m\u001b[43m \u001b[49m\u001b[43m*\u001b[49m\u001b[43m*\u001b[49m\u001b[43mkwargs\u001b[49m\u001b[43m)\u001b[49m\n\u001b[32m   1764\u001b[39m result = \u001b[38;5;28;01mNone\u001b[39;00m\n\u001b[32m   1765\u001b[39m called_always_called_hooks = \u001b[38;5;28mset\u001b[39m()\n",
      "\u001b[36mFile \u001b[39m\u001b[32m~/work/DL-Hackathon/hackaton/src/models.py:57\u001b[39m, in \u001b[36mGNN.forward\u001b[39m\u001b[34m(self, batched_data)\u001b[39m\n\u001b[32m     56\u001b[39m \u001b[38;5;28;01mdef\u001b[39;00m\u001b[38;5;250m \u001b[39m\u001b[34mforward\u001b[39m(\u001b[38;5;28mself\u001b[39m, batched_data):\n\u001b[32m---> \u001b[39m\u001b[32m57\u001b[39m     h_node = \u001b[38;5;28;43mself\u001b[39;49m\u001b[43m.\u001b[49m\u001b[43mgnn_node\u001b[49m\u001b[43m(\u001b[49m\u001b[43mbatched_data\u001b[49m\u001b[43m)\u001b[49m\n\u001b[32m     59\u001b[39m     h_graph = \u001b[38;5;28mself\u001b[39m.pool(h_node, batched_data.batch)\n\u001b[32m     61\u001b[39m     \u001b[38;5;28;01mreturn\u001b[39;00m \u001b[38;5;28mself\u001b[39m.graph_pred_linear(h_graph)\n",
      "\u001b[36mFile \u001b[39m\u001b[32m/usr/local/lib/python3.12/site-packages/torch/nn/modules/module.py:1751\u001b[39m, in \u001b[36mModule._wrapped_call_impl\u001b[39m\u001b[34m(self, *args, **kwargs)\u001b[39m\n\u001b[32m   1749\u001b[39m     \u001b[38;5;28;01mreturn\u001b[39;00m \u001b[38;5;28mself\u001b[39m._compiled_call_impl(*args, **kwargs)  \u001b[38;5;66;03m# type: ignore[misc]\u001b[39;00m\n\u001b[32m   1750\u001b[39m \u001b[38;5;28;01melse\u001b[39;00m:\n\u001b[32m-> \u001b[39m\u001b[32m1751\u001b[39m     \u001b[38;5;28;01mreturn\u001b[39;00m \u001b[38;5;28;43mself\u001b[39;49m\u001b[43m.\u001b[49m\u001b[43m_call_impl\u001b[49m\u001b[43m(\u001b[49m\u001b[43m*\u001b[49m\u001b[43margs\u001b[49m\u001b[43m,\u001b[49m\u001b[43m \u001b[49m\u001b[43m*\u001b[49m\u001b[43m*\u001b[49m\u001b[43mkwargs\u001b[49m\u001b[43m)\u001b[49m\n",
      "\u001b[36mFile \u001b[39m\u001b[32m/usr/local/lib/python3.12/site-packages/torch/nn/modules/module.py:1762\u001b[39m, in \u001b[36mModule._call_impl\u001b[39m\u001b[34m(self, *args, **kwargs)\u001b[39m\n\u001b[32m   1757\u001b[39m \u001b[38;5;66;03m# If we don't have any hooks, we want to skip the rest of the logic in\u001b[39;00m\n\u001b[32m   1758\u001b[39m \u001b[38;5;66;03m# this function, and just call forward.\u001b[39;00m\n\u001b[32m   1759\u001b[39m \u001b[38;5;28;01mif\u001b[39;00m \u001b[38;5;129;01mnot\u001b[39;00m (\u001b[38;5;28mself\u001b[39m._backward_hooks \u001b[38;5;129;01mor\u001b[39;00m \u001b[38;5;28mself\u001b[39m._backward_pre_hooks \u001b[38;5;129;01mor\u001b[39;00m \u001b[38;5;28mself\u001b[39m._forward_hooks \u001b[38;5;129;01mor\u001b[39;00m \u001b[38;5;28mself\u001b[39m._forward_pre_hooks\n\u001b[32m   1760\u001b[39m         \u001b[38;5;129;01mor\u001b[39;00m _global_backward_pre_hooks \u001b[38;5;129;01mor\u001b[39;00m _global_backward_hooks\n\u001b[32m   1761\u001b[39m         \u001b[38;5;129;01mor\u001b[39;00m _global_forward_hooks \u001b[38;5;129;01mor\u001b[39;00m _global_forward_pre_hooks):\n\u001b[32m-> \u001b[39m\u001b[32m1762\u001b[39m     \u001b[38;5;28;01mreturn\u001b[39;00m \u001b[43mforward_call\u001b[49m\u001b[43m(\u001b[49m\u001b[43m*\u001b[49m\u001b[43margs\u001b[49m\u001b[43m,\u001b[49m\u001b[43m \u001b[49m\u001b[43m*\u001b[49m\u001b[43m*\u001b[49m\u001b[43mkwargs\u001b[49m\u001b[43m)\u001b[49m\n\u001b[32m   1764\u001b[39m result = \u001b[38;5;28;01mNone\u001b[39;00m\n\u001b[32m   1765\u001b[39m called_always_called_hooks = \u001b[38;5;28mset\u001b[39m()\n",
      "\u001b[36mFile \u001b[39m\u001b[32m~/work/DL-Hackathon/hackaton/src/conv.py:219\u001b[39m, in \u001b[36mGNN_node_Virtualnode.forward\u001b[39m\u001b[34m(self, batched_data)\u001b[39m\n\u001b[32m    216\u001b[39m \u001b[38;5;66;03m### update the virtual nodes\u001b[39;00m\n\u001b[32m    217\u001b[39m \u001b[38;5;28;01mif\u001b[39;00m layer < \u001b[38;5;28mself\u001b[39m.num_layer - \u001b[32m1\u001b[39m:\n\u001b[32m    218\u001b[39m     \u001b[38;5;66;03m### add message from graph nodes to virtual nodes\u001b[39;00m\n\u001b[32m--> \u001b[39m\u001b[32m219\u001b[39m     virtualnode_embedding_temp = \u001b[43mglobal_add_pool\u001b[49m\u001b[43m(\u001b[49m\u001b[43mh_list\u001b[49m\u001b[43m[\u001b[49m\u001b[43mlayer\u001b[49m\u001b[43m]\u001b[49m\u001b[43m,\u001b[49m\u001b[43m \u001b[49m\u001b[43mbatch\u001b[49m\u001b[43m)\u001b[49m + virtualnode_embedding\n\u001b[32m    220\u001b[39m     \u001b[38;5;66;03m### transform virtual nodes using MLP\u001b[39;00m\n\u001b[32m    222\u001b[39m     \u001b[38;5;28;01mif\u001b[39;00m \u001b[38;5;28mself\u001b[39m.residual:\n",
      "\u001b[36mFile \u001b[39m\u001b[32m/usr/local/lib/python3.12/site-packages/torch_geometric/nn/pool/glob.py:34\u001b[39m, in \u001b[36mglobal_add_pool\u001b[39m\u001b[34m(x, batch, size)\u001b[39m\n\u001b[32m     32\u001b[39m \u001b[38;5;28;01mif\u001b[39;00m batch \u001b[38;5;129;01mis\u001b[39;00m \u001b[38;5;28;01mNone\u001b[39;00m:\n\u001b[32m     33\u001b[39m     \u001b[38;5;28;01mreturn\u001b[39;00m x.sum(dim=dim, keepdim=x.dim() <= \u001b[32m2\u001b[39m)\n\u001b[32m---> \u001b[39m\u001b[32m34\u001b[39m \u001b[38;5;28;01mreturn\u001b[39;00m \u001b[43mscatter\u001b[49m\u001b[43m(\u001b[49m\u001b[43mx\u001b[49m\u001b[43m,\u001b[49m\u001b[43m \u001b[49m\u001b[43mbatch\u001b[49m\u001b[43m,\u001b[49m\u001b[43m \u001b[49m\u001b[43mdim\u001b[49m\u001b[43m=\u001b[49m\u001b[43mdim\u001b[49m\u001b[43m,\u001b[49m\u001b[43m \u001b[49m\u001b[43mdim_size\u001b[49m\u001b[43m=\u001b[49m\u001b[43msize\u001b[49m\u001b[43m,\u001b[49m\u001b[43m \u001b[49m\u001b[43mreduce\u001b[49m\u001b[43m=\u001b[49m\u001b[33;43m'\u001b[39;49m\u001b[33;43msum\u001b[39;49m\u001b[33;43m'\u001b[39;49m\u001b[43m)\u001b[49m\n",
      "\u001b[36mFile \u001b[39m\u001b[32m/usr/local/lib/python3.12/site-packages/torch_geometric/utils/_scatter.py:53\u001b[39m, in \u001b[36mscatter\u001b[39m\u001b[34m(src, index, dim, dim_size, reduce)\u001b[39m\n\u001b[32m     49\u001b[39m     \u001b[38;5;28;01mraise\u001b[39;00m \u001b[38;5;167;01mValueError\u001b[39;00m(\u001b[33mf\u001b[39m\u001b[33m\"\u001b[39m\u001b[33mThe `dim` argument must lay between 0 and \u001b[39m\u001b[33m\"\u001b[39m\n\u001b[32m     50\u001b[39m                      \u001b[33mf\u001b[39m\u001b[33m\"\u001b[39m\u001b[38;5;132;01m{\u001b[39;00msrc.dim()\u001b[38;5;250m \u001b[39m-\u001b[38;5;250m \u001b[39m\u001b[32m1\u001b[39m\u001b[38;5;132;01m}\u001b[39;00m\u001b[33m (got \u001b[39m\u001b[38;5;132;01m{\u001b[39;00mdim\u001b[38;5;132;01m}\u001b[39;00m\u001b[33m)\u001b[39m\u001b[33m\"\u001b[39m)\n\u001b[32m     52\u001b[39m \u001b[38;5;28;01mif\u001b[39;00m dim_size \u001b[38;5;129;01mis\u001b[39;00m \u001b[38;5;28;01mNone\u001b[39;00m:\n\u001b[32m---> \u001b[39m\u001b[32m53\u001b[39m     dim_size = \u001b[38;5;28;43mint\u001b[39;49m\u001b[43m(\u001b[49m\u001b[43mindex\u001b[49m\u001b[43m.\u001b[49m\u001b[43mmax\u001b[49m\u001b[43m(\u001b[49m\u001b[43m)\u001b[49m\u001b[43m)\u001b[49m + \u001b[32m1\u001b[39m \u001b[38;5;28;01mif\u001b[39;00m index.numel() > \u001b[32m0\u001b[39m \u001b[38;5;28;01melse\u001b[39;00m \u001b[32m0\u001b[39m\n\u001b[32m     55\u001b[39m \u001b[38;5;66;03m# For now, we maintain various different code paths, based on whether\u001b[39;00m\n\u001b[32m     56\u001b[39m \u001b[38;5;66;03m# the input requires gradients and whether it lays on the CPU/GPU.\u001b[39;00m\n\u001b[32m     57\u001b[39m \u001b[38;5;66;03m# For example, `torch_scatter` is usually faster than\u001b[39;00m\n\u001b[32m   (...)\u001b[39m\u001b[32m     62\u001b[39m \u001b[38;5;66;03m# indices, but is therefore way slower in its backward implementation.\u001b[39;00m\n\u001b[32m     63\u001b[39m \u001b[38;5;66;03m# More insights can be found in `test/utils/test_scatter.py`.\u001b[39;00m\n\u001b[32m     65\u001b[39m size = src.size()[:dim] + (dim_size, ) + src.size()[dim + \u001b[32m1\u001b[39m:]\n",
      "\u001b[31mKeyboardInterrupt\u001b[39m: "
     ]
    }
   ],
   "source": [
    "if args.train_path:\n",
    "    full_dataset = GraphDataset(args.train_path, transform=add_zeros)\n",
    "    val_size = int(0.2 * len(full_dataset))\n",
    "    train_size = len(full_dataset) - val_size\n",
    "    \n",
    "    generator = torch.Generator().manual_seed(12)\n",
    "    train_dataset, val_dataset = random_split(full_dataset, [train_size, val_size], generator=generator)\n",
    "\n",
    "    train_loader = DataLoader(train_dataset, batch_size=args.batch_size, shuffle=True)\n",
    "    val_loader = DataLoader(val_dataset, batch_size=args.batch_size, shuffle=False)\n",
    "\n",
    "    num_epochs = args.epochs\n",
    "    best_val_accuracy = 0.0   \n",
    "\n",
    "    train_losses = []\n",
    "    train_accuracies = []\n",
    "    val_losses = []\n",
    "    val_accuracies = []\n",
    "\n",
    "    if num_checkpoints > 1:\n",
    "        checkpoint_intervals = [int((i + 1) * num_epochs / num_checkpoints) for i in range(num_checkpoints)]\n",
    "    else:\n",
    "        checkpoint_intervals = [num_epochs]\n",
    "\n",
    "    for epoch in range(num_epochs):\n",
    "        train_loss, train_acc = train(\n",
    "            train_loader, model, optimizer, criterion, device,\n",
    "            save_checkpoints=(epoch + 1 in checkpoint_intervals),\n",
    "            checkpoint_path=os.path.join(checkpoints_folder, f\"model_{test_dir_name}\"),\n",
    "            current_epoch=epoch\n",
    "        )\n",
    "\n",
    "        val_loss,val_acc = evaluate(val_loader, model, device, calculate_accuracy=True)\n",
    "\n",
    "        print(f\"Epoch {epoch + 1}/{num_epochs}, Loss: {train_loss:.4f}, Train Acc: {train_acc:.4f}, Val Acc: {val_acc:.4f}\")\n",
    "        logging.info(f\"Epoch {epoch + 1}/{num_epochs}, Loss: {train_loss:.4f}, Train Acc: {train_acc:.4f}, Val Acc: {val_acc:.4f}\")\n",
    "\n",
    "        train_losses.append(train_loss)\n",
    "        train_accuracies.append(train_acc)\n",
    "        val_losses.append(val_loss)\n",
    "        val_accuracies.append(val_acc)\n",
    "\n",
    "        \n",
    "        if val_acc > best_val_accuracy:\n",
    "            best_val_accuracy = val_acc\n",
    "            torch.save(model.state_dict(), checkpoint_path)\n",
    "            print(f\"Best model updated and saved at {checkpoint_path}\")\n",
    "\n",
    "    plot_training_progress(train_losses, train_accuracies, os.path.join(logs_folder, \"plots\"))\n",
    "    plot_training_progress(val_losses, val_accuracies, os.path.join(logs_folder, \"plotsVal\"))"
   ]
  },
  {
   "cell_type": "code",
   "execution_count": 49,
   "id": "1deac8dd-dbe7-4014-bd52-a1e659f2a70d",
   "metadata": {},
   "outputs": [],
   "source": [
    "plot_training_progress(train_losses, train_accuracies, os.path.join(logs_folder, \"plots\"))\n",
    "plot_training_progress(val_losses, val_accuracies, os.path.join(logs_folder, \"plotsVal\"))"
   ]
  },
  {
   "cell_type": "code",
   "execution_count": 50,
   "id": "ddcb6238-3cbe-46e2-9874-e45dd2c6e330",
   "metadata": {
    "papermill": {
     "duration": null,
     "end_time": null,
     "exception": null,
     "start_time": null,
     "status": "pending"
    },
    "tags": []
   },
   "outputs": [
    {
     "data": {
      "text/plain": [
       "91702"
      ]
     },
     "execution_count": 50,
     "metadata": {},
     "output_type": "execute_result"
    }
   ],
   "source": [
    "import gc\n",
    "del train_dataset\n",
    "del train_loader\n",
    "del full_dataset\n",
    "del val_dataset\n",
    "del val_loader\n",
    "gc.collect()"
   ]
  },
  {
   "cell_type": "code",
   "execution_count": 51,
   "id": "8a300649-0094-426a-96b7-dfc77257b36c",
   "metadata": {
    "id": "xsXZIj4Mdu3I",
    "papermill": {
     "duration": null,
     "end_time": null,
     "exception": null,
     "start_time": null,
     "status": "pending"
    },
    "tags": []
   },
   "outputs": [
    {
     "name": "stdout",
     "output_type": "stream",
     "text": [
      "Loading graphs from datasets/D/test.json.gz...\n",
      "This may take a few minutes, please wait...\n"
     ]
    },
    {
     "name": "stderr",
     "output_type": "stream",
     "text": [
      "Processing graphs: 100%|██████████| 2250/2250 [00:09<00:00, 238.90graph/s]\n"
     ]
    }
   ],
   "source": [
    "test_dataset = GraphDataset(args.test_path, transform=add_zeros)\n",
    "test_loader = DataLoader(test_dataset, batch_size=args.batch_size, shuffle=False)\n",
    "    "
   ]
  },
  {
   "cell_type": "code",
   "execution_count": 52,
   "id": "3c333536-7d7c-4165-babe-375488fe9a64",
   "metadata": {
    "id": "x1OnGq_nCmTr",
    "papermill": {
     "duration": null,
     "end_time": null,
     "exception": null,
     "start_time": null,
     "status": "pending"
    },
    "tags": []
   },
   "outputs": [
    {
     "name": "stderr",
     "output_type": "stream",
     "text": [
      "Iterating eval graphs: 100%|██████████| 71/71 [00:04<00:00, 16.08batch/s]"
     ]
    },
    {
     "name": "stdout",
     "output_type": "stream",
     "text": [
      "Predictions saved to /home/onyxia/work/DL-Hackathon/hackaton/submission/testset_D.csv\n"
     ]
    },
    {
     "name": "stderr",
     "output_type": "stream",
     "text": [
      "\n"
     ]
    }
   ],
   "source": [
    "model.load_state_dict(torch.load(checkpoint_path))\n",
    "predictions = evaluate(test_loader, model, device, calculate_accuracy=False)\n",
    "save_predictions(predictions, args.test_path)"
   ]
  },
  {
   "cell_type": "code",
   "execution_count": null,
   "id": "ec812922-a153-4b61-9d6f-0b18b22c7739",
   "metadata": {},
   "outputs": [],
   "source": []
  },
  {
   "cell_type": "code",
   "execution_count": null,
   "id": "c6efe512-3b3f-4aaf-9620-29f3cf7355f6",
   "metadata": {},
   "outputs": [],
   "source": []
  },
  {
   "cell_type": "code",
   "execution_count": null,
   "id": "976b86e9-af08-4da8-ac7d-fcddfd650c8e",
   "metadata": {},
   "outputs": [],
   "source": []
  },
  {
   "cell_type": "code",
   "execution_count": null,
   "id": "3303b437-4799-4a8c-b515-14c0a3c60a39",
   "metadata": {},
   "outputs": [],
   "source": []
  },
  {
   "cell_type": "code",
   "execution_count": 57,
   "id": "4f1594ef-0f72-4716-b53f-8da074eae4d5",
   "metadata": {
    "papermill": {
     "duration": null,
     "end_time": null,
     "exception": null,
     "start_time": null,
     "status": "pending"
    },
    "tags": []
   },
   "outputs": [
    {
     "name": "stdout",
     "output_type": "stream",
     "text": [
      "Folder '/home/onyxia/work/DL-Hackathon/hackaton/logs' has been compressed into '/home/onyxia/work/DL-Hackathon/hackaton/logs.gz'\n"
     ]
    }
   ],
   "source": [
    "import tarfile\n",
    "import os\n",
    "\n",
    "def gzip_folder(folder_path, output_file):\n",
    "    \"\"\"\n",
    "    Compresses an entire folder into a single .tar.gz file.\n",
    "\n",
    "    Args:\n",
    "        folder_path (str): Path to the folder to compress.\n",
    "        output_file (str): Path to the output .gz file.\n",
    "    \"\"\"\n",
    "    with tarfile.open(output_file, \"w:gz\") as tar:\n",
    "        tar.add(folder_path, arcname=os.path.basename(folder_path))\n",
    "    print(f\"Folder '{folder_path}' has been compressed into '{output_file}'\")\n",
    "\n",
    "# Example usage\n",
    "folder_path = \"/home/onyxia/work/DL-Hackathon/hackaton/logs\"            # Path to the folder you want to compress\n",
    "output_file = \"/home/onyxia/work/DL-Hackathon/hackaton/logs.gz\"        # Output .gz file name\n",
    "gzip_folder(folder_path, output_file)"
   ]
  },
  {
   "cell_type": "code",
   "execution_count": 58,
   "id": "2fbdc8fc-d540-4e42-8614-c96433553847",
   "metadata": {},
   "outputs": [
    {
     "name": "stdout",
     "output_type": "stream",
     "text": [
      "Folder '/home/onyxia/work/DL-Hackathon/hackaton/submission' has been compressed into '/home/onyxia/work/DL-Hackathon/hackaton/submission.gz'\n"
     ]
    }
   ],
   "source": [
    "# Example usage\n",
    "folder_path = \"/home/onyxia/work/DL-Hackathon/hackaton/submission\"            # Path to the folder you want to compress\n",
    "output_file = \"/home/onyxia/work/DL-Hackathon/hackaton/submission.gz\"        # Output .gz file name\n",
    "gzip_folder(folder_path, output_file)"
   ]
  },
  {
   "cell_type": "code",
   "execution_count": 59,
   "id": "263e876c-255a-45da-be29-813ad63210af",
   "metadata": {},
   "outputs": [
    {
     "name": "stdout",
     "output_type": "stream",
     "text": [
      "Folder '/home/onyxia/work/DL-Hackathon/hackaton/checkpoints' has been compressed into '/home/onyxia/work/DL-Hackathon/hackaton/checkpoints.gz'\n"
     ]
    }
   ],
   "source": [
    "# Example usage\n",
    "folder_path = \"/home/onyxia/work/DL-Hackathon/hackaton/checkpoints\"            # Path to the folder you want to compress\n",
    "output_file = \"/home/onyxia/work/DL-Hackathon/hackaton/checkpoints.gz\"        # Output .gz file name\n",
    "gzip_folder(folder_path, output_file)"
   ]
  },
  {
   "cell_type": "code",
   "execution_count": null,
   "id": "e019da58-7886-4480-87b3-12c0edfa5a8c",
   "metadata": {},
   "outputs": [],
   "source": []
  }
 ],
 "metadata": {
  "accelerator": "GPU",
  "colab": {
   "gpuType": "T4",
   "provenance": []
  },
  "kaggle": {
   "accelerator": "gpu",
   "dataSources": [],
   "dockerImageVersionId": 30919,
   "isGpuEnabled": true,
   "isInternetEnabled": true,
   "language": "python",
   "sourceType": "notebook"
  },
  "kernelspec": {
   "display_name": "Python 3 (ipykernel)",
   "language": "python",
   "name": "python3"
  },
  "language_info": {
   "codemirror_mode": {
    "name": "ipython",
    "version": 3
   },
   "file_extension": ".py",
   "mimetype": "text/x-python",
   "name": "python",
   "nbconvert_exporter": "python",
   "pygments_lexer": "ipython3",
   "version": "3.12.9"
  },
  "papermill": {
   "default_parameters": {},
   "duration": 108.457758,
   "end_time": "2025-05-21T16:25:04.482169",
   "environment_variables": {},
   "exception": true,
   "input_path": "__notebook__.ipynb",
   "output_path": "__notebook__.ipynb",
   "parameters": {},
   "start_time": "2025-05-21T16:23:16.024411",
   "version": "2.6.0"
  }
 },
 "nbformat": 4,
 "nbformat_minor": 5
}
