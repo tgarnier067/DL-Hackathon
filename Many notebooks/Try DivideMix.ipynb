{
 "cells": [
  {
   "cell_type": "code",
   "execution_count": 1,
   "id": "6228bc1c",
   "metadata": {
    "id": "xSkgt1zf-raF",
    "outputId": "59f4a52f-5eb4-41e5-9fba-07432989fe78",
    "papermill": {
     "duration": 5.620104,
     "end_time": "2025-05-21T16:23:24.361690",
     "exception": false,
     "start_time": "2025-05-21T16:23:18.741586",
     "status": "completed"
    },
    "tags": []
   },
   "outputs": [],
   "source": [
    "!pip install torch_geometric torch gdown --quiet"
   ]
  },
  {
   "cell_type": "code",
   "execution_count": 2,
   "id": "c86aceda",
   "metadata": {
    "execution": {
     "iopub.execute_input": "2025-05-21T16:23:24.371427Z",
     "iopub.status.busy": "2025-05-21T16:23:24.371136Z",
     "iopub.status.idle": "2025-05-21T16:23:28.413941Z",
     "shell.execute_reply": "2025-05-21T16:23:28.413071Z"
    },
    "id": "5oR2D2Us-xSQ",
    "outputId": "7086cadf-a7fe-4d75-f271-6339bee8164d",
    "papermill": {
     "duration": 4.049235,
     "end_time": "2025-05-21T16:23:28.415556",
     "exception": false,
     "start_time": "2025-05-21T16:23:24.366321",
     "status": "completed"
    },
    "tags": []
   },
   "outputs": [
    {
     "name": "stdout",
     "output_type": "stream",
     "text": [
      "Cloning into 'hackaton'...\r\n",
      "remote: Enumerating objects: 69, done.\u001b[K\r\n",
      "remote: Counting objects: 100% (7/7), done.\u001b[K\r\n",
      "remote: Compressing objects: 100% (7/7), done.\u001b[K\r\n",
      "remote: Total 69 (delta 1), reused 0 (delta 0), pack-reused 62 (from 2)\u001b[K\r\n",
      "Receiving objects: 100% (69/69), 105.83 MiB | 46.69 MiB/s, done.\r\n",
      "Resolving deltas: 100% (2/2), done.\r\n"
     ]
    }
   ],
   "source": [
    "!git clone --branch baselineCe https://github.com/Graph-Classification-Noisy-Label/hackaton.git"
   ]
  },
  {
   "cell_type": "code",
   "execution_count": 2,
   "id": "c129091c",
   "metadata": {
    "id": "tEhfPly6-7UK",
    "outputId": "3078ee06-6312-4fca-f5f9-888fa628c80a",
    "papermill": {
     "duration": 0.013251,
     "end_time": "2025-05-21T16:23:28.434119",
     "exception": false,
     "start_time": "2025-05-21T16:23:28.420868",
     "status": "completed"
    },
    "tags": []
   },
   "outputs": [
    {
     "name": "stdout",
     "output_type": "stream",
     "text": [
      "/home/onyxia/work/DL-Hackathon/hackaton\n"
     ]
    }
   ],
   "source": [
    "%cd hackaton/"
   ]
  },
  {
   "cell_type": "code",
   "execution_count": 4,
   "id": "d48103c0",
   "metadata": {
    "execution": {
     "iopub.execute_input": "2025-05-21T16:23:28.444590Z",
     "iopub.status.busy": "2025-05-21T16:23:28.444373Z",
     "iopub.status.idle": "2025-05-21T16:24:52.394975Z",
     "shell.execute_reply": "2025-05-21T16:24:52.393870Z"
    },
    "id": "PxBvwB0_6xI8",
    "outputId": "5933387c-2cfb-474f-d842-f36a3e2d2a73",
    "papermill": {
     "duration": 83.957666,
     "end_time": "2025-05-21T16:24:52.396720",
     "exception": false,
     "start_time": "2025-05-21T16:23:28.439054",
     "status": "completed"
    },
    "tags": []
   },
   "outputs": [
    {
     "name": "stdout",
     "output_type": "stream",
     "text": [
      "Retrieving folder contents\r\n",
      "Retrieving folder 1wcUVBNQkZ04zStXkglXSgERfIvjSHJiL A\r\n",
      "Processing file 1C8sjkO6JS0j2SyVwQ07m8PhQ-pHpuI78 test.json.gz\r\n",
      "Processing file 12N11n8gufNA_C1ns-1IeBseBHgrSfRI1 train.json.gz\r\n",
      "Retrieving folder 1Tj5YoYYDDXjDxxi-cywZgoDkT0b1Qbz- B\r\n",
      "Processing file 11GBlrXMdP3HSD60w-56Tu6rbGkR-Ifww test.json.gz\r\n",
      "Processing file 13vp-Kwef3UgAwMG-dokGwKyARym9iqtL train.json.gz\r\n",
      "Retrieving folder 1e3B_tBMd693Iwv8x3zRR9c47l5yt_5ey C\r\n",
      "Processing file 18XVe65ZsQ0PDLCqQa4WmneVhyfjGcXmT test.json.gz\r\n",
      "Processing file 1z5lvG2CytbLQZt7Jmo9BopzFd0pKejEj train.json.gz\r\n",
      "Retrieving folder 1cvM0eZwpD4gzjo44_zdodxudVBMrLza1 D\r\n",
      "Processing file 1Gna_dHnBLX8vKaYGAAqAbw5QPerrNK1u test.json.gz\r\n",
      "Processing file 1Pc-6LMML80-AgEoLVs2Q5hLtmR_rTEek train.json.gz\r\n",
      "Retrieving folder contents completed\r\n",
      "Building directory structure\r\n",
      "Building directory structure completed\r\n",
      "Downloading...\r\n",
      "From (original): https://drive.google.com/uc?id=1C8sjkO6JS0j2SyVwQ07m8PhQ-pHpuI78\r\n",
      "From (redirected): https://drive.google.com/uc?id=1C8sjkO6JS0j2SyVwQ07m8PhQ-pHpuI78&confirm=t&uuid=a7856270-3308-4405-9716-a51c178a40cb\r\n",
      "To: /kaggle/working/hackaton/datasets/A/test.json.gz\r\n",
      "100%|██████████████████████████████████████| 92.4M/92.4M [00:01<00:00, 89.0MB/s]\r\n",
      "Downloading...\r\n",
      "From (original): https://drive.google.com/uc?id=12N11n8gufNA_C1ns-1IeBseBHgrSfRI1\r\n",
      "From (redirected): https://drive.google.com/uc?id=12N11n8gufNA_C1ns-1IeBseBHgrSfRI1&confirm=t&uuid=e9ac1b5d-9eb6-4384-8788-244f994ddee7\r\n",
      "To: /kaggle/working/hackaton/datasets/A/train.json.gz\r\n",
      "100%|█████████████████████████████████████████| 465M/465M [00:03<00:00, 134MB/s]\r\n",
      "Downloading...\r\n",
      "From (original): https://drive.google.com/uc?id=11GBlrXMdP3HSD60w-56Tu6rbGkR-Ifww\r\n",
      "From (redirected): https://drive.google.com/uc?id=11GBlrXMdP3HSD60w-56Tu6rbGkR-Ifww&confirm=t&uuid=7a8b3241-0cc6-4db7-9e59-1fe9251ac688\r\n",
      "To: /kaggle/working/hackaton/datasets/B/test.json.gz\r\n",
      "100%|██████████████████████████████████████| 63.0M/63.0M [00:01<00:00, 51.7MB/s]\r\n",
      "Downloading...\r\n",
      "From (original): https://drive.google.com/uc?id=13vp-Kwef3UgAwMG-dokGwKyARym9iqtL\r\n",
      "From (redirected): https://drive.google.com/uc?id=13vp-Kwef3UgAwMG-dokGwKyARym9iqtL&confirm=t&uuid=cda6e860-4391-443e-a3f7-478219208f67\r\n",
      "To: /kaggle/working/hackaton/datasets/B/train.json.gz\r\n",
      "100%|████████████████████████████████████████| 223M/223M [00:03<00:00, 60.9MB/s]\r\n",
      "Downloading...\r\n",
      "From (original): https://drive.google.com/uc?id=18XVe65ZsQ0PDLCqQa4WmneVhyfjGcXmT\r\n",
      "From (redirected): https://drive.google.com/uc?id=18XVe65ZsQ0PDLCqQa4WmneVhyfjGcXmT&confirm=t&uuid=246d080d-822d-4750-bdd9-b4fc48a7c179\r\n",
      "To: /kaggle/working/hackaton/datasets/C/test.json.gz\r\n",
      "100%|███████████████████████████████████████| 60.5M/60.5M [00:00<00:00, 158MB/s]\r\n",
      "Downloading...\r\n",
      "From (original): https://drive.google.com/uc?id=1z5lvG2CytbLQZt7Jmo9BopzFd0pKejEj\r\n",
      "From (redirected): https://drive.google.com/uc?id=1z5lvG2CytbLQZt7Jmo9BopzFd0pKejEj&confirm=t&uuid=4d210b8d-53bf-45e7-978e-af1db98866a3\r\n",
      "To: /kaggle/working/hackaton/datasets/C/train.json.gz\r\n",
      "100%|█████████████████████████████████████████| 308M/308M [00:02<00:00, 117MB/s]\r\n",
      "Downloading...\r\n",
      "From (original): https://drive.google.com/uc?id=1Gna_dHnBLX8vKaYGAAqAbw5QPerrNK1u\r\n",
      "From (redirected): https://drive.google.com/uc?id=1Gna_dHnBLX8vKaYGAAqAbw5QPerrNK1u&confirm=t&uuid=46d41bcf-3b68-4b08-9595-ff46887fcf06\r\n",
      "To: /kaggle/working/hackaton/datasets/D/test.json.gz\r\n",
      "100%|██████████████████████████████████████| 94.0M/94.0M [00:02<00:00, 46.5MB/s]\r\n",
      "Downloading...\r\n",
      "From (original): https://drive.google.com/uc?id=1Pc-6LMML80-AgEoLVs2Q5hLtmR_rTEek\r\n",
      "From (redirected): https://drive.google.com/uc?id=1Pc-6LMML80-AgEoLVs2Q5hLtmR_rTEek&confirm=t&uuid=20f43e5c-4068-4e33-bdaf-636be0c3165d\r\n",
      "To: /kaggle/working/hackaton/datasets/D/train.json.gz\r\n",
      "100%|████████████████████████████████████████| 439M/439M [00:05<00:00, 75.9MB/s]\r\n",
      "Download completed\r\n"
     ]
    }
   ],
   "source": [
    "!gdown --folder https://drive.google.com/drive/folders/1Z-1JkPJ6q4C6jX4brvq1VRbJH5RPUCAk -O datasets\n"
   ]
  },
  {
   "cell_type": "code",
   "execution_count": 3,
   "id": "80dab1bc",
   "metadata": {
    "id": "1rockhiQ7Nny",
    "outputId": "2cd2e6f4-5f8f-4a62-f0ec-53e6fc78c9b7",
    "papermill": {
     "duration": 0.138969,
     "end_time": "2025-05-21T16:24:52.549260",
     "exception": false,
     "start_time": "2025-05-21T16:24:52.410291",
     "status": "completed"
    },
    "tags": []
   },
   "outputs": [
    {
     "name": "stdout",
     "output_type": "stream",
     "text": [
      "total 16K\n",
      "drwxr-sr-x 2 onyxia users 4.0K May 28 07:46 A\n",
      "drwxr-sr-x 2 onyxia users 4.0K May 28 07:46 B\n",
      "drwxr-sr-x 2 onyxia users 4.0K May 28 07:46 C\n",
      "drwxr-sr-x 2 onyxia users 4.0K May 28 07:47 D\n"
     ]
    }
   ],
   "source": [
    "!ls -lh datasets"
   ]
  },
  {
   "cell_type": "code",
   "execution_count": 4,
   "id": "817b1078",
   "metadata": {
    "id": "lAQuCuIoBbq5",
    "papermill": {
     "duration": 9.949638,
     "end_time": "2025-05-21T16:25:02.510764",
     "exception": false,
     "start_time": "2025-05-21T16:24:52.561126",
     "status": "completed"
    },
    "tags": []
   },
   "outputs": [],
   "source": [
    "import os\n",
    "import torch\n",
    "import pandas as pd\n",
    "import matplotlib.pyplot as plt\n",
    "import logging\n",
    "from tqdm import tqdm\n",
    "from torch_geometric.loader import DataLoader\n",
    "from torch.utils.data import random_split\n",
    "# Load utility functions from cloned repository\n",
    "from src.loadData import GraphDataset\n",
    "from src.utils import set_seed\n",
    "from src.models import GNN\n",
    "import argparse\n",
    "\n",
    "# Set the random seed\n",
    "set_seed(42)\n"
   ]
  },
  {
   "cell_type": "code",
   "execution_count": 5,
   "id": "0a9c70d7",
   "metadata": {
    "id": "Dyf0I2-t9IcW",
    "papermill": {
     "duration": 0.019268,
     "end_time": "2025-05-21T16:25:02.544583",
     "exception": false,
     "start_time": "2025-05-21T16:25:02.525315",
     "status": "completed"
    },
    "tags": []
   },
   "outputs": [],
   "source": [
    "def add_zeros(data):\n",
    "    data.x = torch.zeros(data.num_nodes, dtype=torch.long)\n",
    "    return data"
   ]
  },
  {
   "cell_type": "code",
   "execution_count": 6,
   "id": "3622cfa1",
   "metadata": {
    "id": "3jKvoQYI9Zbc",
    "papermill": {
     "duration": 0.019599,
     "end_time": "2025-05-21T16:25:02.577661",
     "exception": false,
     "start_time": "2025-05-21T16:25:02.558062",
     "status": "completed"
    },
    "tags": []
   },
   "outputs": [],
   "source": [
    "def train(data_loader, model, optimizer, criterion, device, save_checkpoints, checkpoint_path, current_epoch):\n",
    "    model.train()\n",
    "    total_loss = 0\n",
    "    correct = 0\n",
    "    total = 0\n",
    "    for data in tqdm(data_loader, desc=\"Iterating training graphs\", unit=\"batch\"):\n",
    "        data = data.to(device)\n",
    "        optimizer.zero_grad()\n",
    "        output = model(data)\n",
    "        loss = criterion(output, data.y)\n",
    "        loss.backward()\n",
    "        optimizer.step()\n",
    "        total_loss += loss.item()\n",
    "        pred = output.argmax(dim=1)\n",
    "        correct += (pred == data.y).sum().item()\n",
    "        total += data.y.size(0)\n",
    "\n",
    "    # Save checkpoints if required\n",
    "    if save_checkpoints:\n",
    "        checkpoint_file = f\"{checkpoint_path}_epoch_{current_epoch + 1}.pth\"\n",
    "        torch.save(model.state_dict(), checkpoint_file)\n",
    "        print(f\"Checkpoint saved at {checkpoint_file}\")\n",
    "\n",
    "    return total_loss / len(data_loader),  correct / total"
   ]
  },
  {
   "cell_type": "code",
   "execution_count": 7,
   "id": "6139b912",
   "metadata": {
    "id": "8peFiIS19ZpK",
    "papermill": {
     "duration": 0.017908,
     "end_time": "2025-05-21T16:25:02.607848",
     "exception": false,
     "start_time": "2025-05-21T16:25:02.589940",
     "status": "completed"
    },
    "tags": []
   },
   "outputs": [],
   "source": [
    "def evaluate(data_loader, model, device, calculate_accuracy=False):\n",
    "    model.eval()\n",
    "    correct = 0\n",
    "    total = 0\n",
    "    predictions = []\n",
    "    total_loss = 0\n",
    "    criterion = torch.nn.CrossEntropyLoss()\n",
    "    with torch.no_grad():\n",
    "        for data in tqdm(data_loader, desc=\"Iterating eval graphs\", unit=\"batch\"):\n",
    "            data = data.to(device)\n",
    "            output = model(data)\n",
    "            pred = output.argmax(dim=1)\n",
    "            \n",
    "            if calculate_accuracy:\n",
    "                correct += (pred == data.y).sum().item()\n",
    "                total += data.y.size(0)\n",
    "                total_loss += criterion(output, data.y).item()\n",
    "            else:\n",
    "                predictions.extend(pred.cpu().numpy())\n",
    "    if calculate_accuracy:\n",
    "        accuracy = correct / total\n",
    "        return  total_loss / len(data_loader),accuracy\n",
    "    return predictions"
   ]
  },
  {
   "cell_type": "code",
   "execution_count": 8,
   "id": "fbdbd871",
   "metadata": {
    "id": "WanuZKxy9Zs-",
    "papermill": {
     "duration": 0.016728,
     "end_time": "2025-05-21T16:25:02.635694",
     "exception": false,
     "start_time": "2025-05-21T16:25:02.618966",
     "status": "completed"
    },
    "tags": []
   },
   "outputs": [],
   "source": [
    "def save_predictions(predictions, test_path):\n",
    "    script_dir = os.getcwd() \n",
    "    submission_folder = os.path.join(script_dir, \"submission\")\n",
    "    test_dir_name = os.path.basename(os.path.dirname(test_path))\n",
    "    \n",
    "    os.makedirs(submission_folder, exist_ok=True)\n",
    "    \n",
    "    output_csv_path = os.path.join(submission_folder, f\"testset_{test_dir_name}.csv\")\n",
    "    \n",
    "    test_graph_ids = list(range(len(predictions)))\n",
    "    output_df = pd.DataFrame({\n",
    "        \"id\": test_graph_ids,\n",
    "        \"pred\": predictions\n",
    "    })\n",
    "    \n",
    "    output_df.to_csv(output_csv_path, index=False)\n",
    "    print(f\"Predictions saved to {output_csv_path}\")"
   ]
  },
  {
   "cell_type": "code",
   "execution_count": 9,
   "id": "fc3d24da",
   "metadata": {
    "id": "uyHIJS5U9ZzB",
    "papermill": {
     "duration": 0.017765,
     "end_time": "2025-05-21T16:25:02.664538",
     "exception": false,
     "start_time": "2025-05-21T16:25:02.646773",
     "status": "completed"
    },
    "tags": []
   },
   "outputs": [],
   "source": [
    "def plot_training_progress(train_losses, train_accuracies, output_dir):\n",
    "    epochs = range(1, len(train_losses) + 1)\n",
    "    plt.figure(figsize=(12, 6))\n",
    "\n",
    "    # Plot loss\n",
    "    plt.subplot(1, 2, 1)\n",
    "    plt.plot(epochs, train_losses, label=\"Training Loss\", color='blue')\n",
    "    plt.xlabel('Epoch')\n",
    "    plt.ylabel('Loss')\n",
    "    plt.title('Training Loss per Epoch')\n",
    "\n",
    "    # Plot accuracy\n",
    "    plt.subplot(1, 2, 2)\n",
    "    plt.plot(epochs, train_accuracies, label=\"Training Accuracy\", color='green')\n",
    "    plt.xlabel('Epoch')\n",
    "    plt.ylabel('Accuracy')\n",
    "    plt.title('Training Accuracy per Epoch')\n",
    "\n",
    "    # Save plots in the current directory\n",
    "    os.makedirs(output_dir, exist_ok=True)\n",
    "    plt.tight_layout()\n",
    "    plt.savefig(os.path.join(output_dir, \"training_progress.png\"))\n",
    "    plt.close()"
   ]
  },
  {
   "cell_type": "code",
   "execution_count": 10,
   "id": "22574fa5",
   "metadata": {
    "papermill": {
     "duration": 0.016577,
     "end_time": "2025-05-21T16:25:02.692205",
     "exception": false,
     "start_time": "2025-05-21T16:25:02.675628",
     "status": "completed"
    },
    "tags": []
   },
   "outputs": [],
   "source": [
    "def get_user_input(prompt, default=None, required=False, type_cast=str):\n",
    "\n",
    "    while True:\n",
    "        user_input = input(f\"{prompt} [{default}]: \")\n",
    "        \n",
    "        if user_input == \"\" and required:\n",
    "            print(\"This field is required. Please enter a value.\")\n",
    "            continue\n",
    "        \n",
    "        if user_input == \"\" and default is not None:\n",
    "            return default\n",
    "        \n",
    "        if user_input == \"\" and not required:\n",
    "            return None\n",
    "        \n",
    "        try:\n",
    "            return type_cast(user_input)\n",
    "        except ValueError:\n",
    "            print(f\"Invalid input. Please enter a valid {type_cast.__name__}.\")"
   ]
  },
  {
   "cell_type": "code",
   "execution_count": 11,
   "id": "139e88b2",
   "metadata": {
    "papermill": {
     "duration": 0.017703,
     "end_time": "2025-05-21T16:25:02.721184",
     "exception": false,
     "start_time": "2025-05-21T16:25:02.703481",
     "status": "completed"
    },
    "tags": []
   },
   "outputs": [],
   "source": [
    "def get_arguments():\n",
    "    args = {}\n",
    "    args['train_path'] = get_user_input(\"Path to the training dataset (optional)\")\n",
    "    args['test_path'] = get_user_input(\"Path to the test dataset\", required=True)\n",
    "    args['num_checkpoints'] = get_user_input(\"Number of checkpoints to save during training\", type_cast=int)\n",
    "    args['device'] = get_user_input(\"Which GPU to use if any\", default=1, type_cast=int)\n",
    "    args['gnn'] = get_user_input(\"GNN type (gin, gin-virtual, gcn, gcn-virtual)\", default='gin')\n",
    "    args['drop_ratio'] = get_user_input(\"Dropout ratio\", default=0.0, type_cast=float)\n",
    "    args['num_layer'] = get_user_input(\"Number of GNN message passing layers\", default=5, type_cast=int)\n",
    "    args['emb_dim'] = get_user_input(\"Dimensionality of hidden units in GNNs\", default=300, type_cast=int)\n",
    "    args['batch_size'] = get_user_input(\"Input batch size for training\", default=32, type_cast=int)\n",
    "    args['epochs'] = get_user_input(\"Number of epochs to train\", default=10, type_cast=int)\n",
    "    args['baseline_mode'] = get_user_input(\"Baseline mode: 1 (CE), 2 (Noisy CE)\", default=1, type_cast=int)\n",
    "    args['noise_prob'] = get_user_input(\"Noise probability p (used if baseline_mode=2)\", default=0.2, type_cast=float)\n",
    "\n",
    "    \n",
    "    return argparse.Namespace(**args)\n"
   ]
  },
  {
   "cell_type": "code",
   "execution_count": 27,
   "id": "45bffa19",
   "metadata": {
    "papermill": {
     "duration": 0.118164,
     "end_time": "2025-05-21T16:25:02.850799",
     "exception": true,
     "start_time": "2025-05-21T16:25:02.732635",
     "status": "failed"
    },
    "tags": []
   },
   "outputs": [
    {
     "name": "stdin",
     "output_type": "stream",
     "text": [
      "Path to the training dataset (optional) [None]:  datasets/B/train.json.gz\n",
      "Path to the test dataset [None]:  datasets/B/test.json.gz\n",
      "Number of checkpoints to save during training [None]:  20\n",
      "Which GPU to use if any [1]:  \n",
      "GNN type (gin, gin-virtual, gcn, gcn-virtual) [gin]:  gcn\n",
      "Dropout ratio [0.0]:  0.5\n",
      "Number of GNN message passing layers [5]:  \n",
      "Dimensionality of hidden units in GNNs [300]:  \n",
      "Input batch size for training [32]:  \n",
      "Number of epochs to train [10]:  20\n",
      "Baseline mode: 1 (CE), 2 (Noisy CE) [1]:  \n",
      "Noise probability p (used if baseline_mode=2) [0.2]:  0.4\n"
     ]
    },
    {
     "name": "stdout",
     "output_type": "stream",
     "text": [
      "Arguments received:\n",
      "train_path: datasets/B/train.json.gz\n",
      "test_path: datasets/B/test.json.gz\n",
      "num_checkpoints: 20\n",
      "device: 1\n",
      "gnn: gcn\n",
      "drop_ratio: 0.5\n",
      "num_layer: 5\n",
      "emb_dim: 300\n",
      "batch_size: 32\n",
      "epochs: 20\n",
      "baseline_mode: 1\n",
      "noise_prob: 0.4\n"
     ]
    }
   ],
   "source": [
    "def populate_args(args):\n",
    "    print(\"Arguments received:\")\n",
    "    for key, value in vars(args).items():\n",
    "        print(f\"{key}: {value}\")\n",
    "args = get_arguments()\n",
    "populate_args(args)"
   ]
  },
  {
   "cell_type": "code",
   "execution_count": 28,
   "id": "09b57d62",
   "metadata": {
    "papermill": {
     "duration": null,
     "end_time": null,
     "exception": null,
     "start_time": null,
     "status": "pending"
    },
    "tags": []
   },
   "outputs": [],
   "source": [
    "class NoisyCrossEntropyLoss(torch.nn.Module):\n",
    "    def __init__(self, p_noisy):\n",
    "        super().__init__()\n",
    "        self.p = p_noisy\n",
    "        self.ce = torch.nn.CrossEntropyLoss(reduction='none')\n",
    "\n",
    "    def forward(self, logits, targets):\n",
    "        losses = self.ce(logits, targets)\n",
    "        weights = (1 - self.p) + self.p * (1 - torch.nn.functional.one_hot(targets, num_classes=logits.size(1)).float().sum(dim=1))\n",
    "        return (losses * weights).mean()"
   ]
  },
  {
   "cell_type": "code",
   "execution_count": 29,
   "id": "0c3dd17f-bf84-4424-b392-40221c7aa70f",
   "metadata": {},
   "outputs": [],
   "source": [
    "import numpy as np\n",
    "\n",
    "def estimate_loss_distribution(model, dataloader, criterion, device):\n",
    "    model.eval()\n",
    "    losses = []\n",
    "\n",
    "    with torch.no_grad():\n",
    "        for data in dataloader:\n",
    "            data = data.to(device)\n",
    "            outputs = model(data)\n",
    "            loss = criterion(outputs, data.y)\n",
    "            loss = loss.detach().cpu().numpy()\n",
    "            losses.extend(loss)\n",
    "\n",
    "    return np.array(losses)\n",
    "\n",
    "def divide_data_by_loss(losses, threshold):\n",
    "    \"\"\"Divise les indices entre données propres (low loss) et bruitées (high loss).\"\"\"\n",
    "    loss_mean = np.mean(losses)\n",
    "    return np.where(losses < threshold * loss_mean)[0], np.where(losses >= threshold * loss_mean)[0]"
   ]
  },
  {
   "cell_type": "code",
   "execution_count": 30,
   "id": "e4bda1a5-fc22-4232-9ce6-fd4d25ab75ee",
   "metadata": {},
   "outputs": [],
   "source": [
    "def train_dividemix(train_loader, model1, model2, optimizer1, optimizer2, criterion, device, epoch, threshold=1.0):\n",
    "    model1.train()\n",
    "    model2.train()\n",
    "\n",
    "    # Étape 1: Estimation des pertes individuelles\n",
    "    losses1 = estimate_loss_distribution(model1, train_loader, criterion, device)\n",
    "    losses2 = estimate_loss_distribution(model2, train_loader, criterion, device)\n",
    "\n",
    "    idx_clean_1, _ = divide_data_by_loss(losses2, threshold)\n",
    "    idx_clean_2, _ = divide_data_by_loss(losses1, threshold)\n",
    "\n",
    "    total_loss1 = 0.0\n",
    "    total_loss2 = 0.0\n",
    "    num_batches = 0\n",
    "\n",
    "    for i, data in enumerate(train_loader):\n",
    "        data = data.to(device)\n",
    "        optimizer1.zero_grad()\n",
    "        optimizer2.zero_grad()\n",
    "\n",
    "        # Création des masques clean pour le batch courant\n",
    "        batch_indices = torch.arange(data.y.shape[0])\n",
    "        mask_clean1 = torch.tensor([idx in idx_clean_2 for idx in batch_indices], device=device)\n",
    "        mask_clean2 = torch.tensor([idx in idx_clean_1 for idx in batch_indices], device=device)\n",
    "\n",
    "        # Modèle 1 entraîné sur les données propres identifiées par le modèle 2\n",
    "        output1 = model1(data)\n",
    "        if mask_clean2.any():\n",
    "            loss1 = criterion(output1[mask_clean2], data.y[mask_clean2]).mean()\n",
    "            loss1.backward()\n",
    "            optimizer1.step()\n",
    "            total_loss1 += loss1.item()\n",
    "        else:\n",
    "            total_loss1 += 0\n",
    "\n",
    "        # Modèle 2 entraîné sur les données propres identifiées par le modèle 1\n",
    "        output2 = model2(data)\n",
    "        if mask_clean1.any():\n",
    "            loss2 = criterion(output2[mask_clean1], data.y[mask_clean1]).mean()\n",
    "            loss2.backward()\n",
    "            optimizer2.step()\n",
    "            total_loss2 += loss2.item()\n",
    "        else:\n",
    "            total_loss2 += 0\n",
    "\n",
    "        num_batches += 1\n",
    "\n",
    "    avg_loss1 = total_loss1 / num_batches\n",
    "    avg_loss2 = total_loss2 / num_batches\n",
    "\n",
    "    return avg_loss1, avg_loss2"
   ]
  },
  {
   "cell_type": "code",
   "execution_count": 31,
   "id": "f58745df",
   "metadata": {
    "id": "lHX55XGECXBr",
    "papermill": {
     "duration": null,
     "end_time": null,
     "exception": null,
     "start_time": null,
     "status": "pending"
    },
    "tags": []
   },
   "outputs": [],
   "source": [
    "script_dir = os.getcwd() \n",
    "# device = torch.device(f\"cuda:{args.device}\" if torch.cuda.is_available() else \"cpu\")\n",
    "device = torch.device(\"cuda\" if torch.cuda.is_available() else \"cpu\")\n",
    "num_checkpoints = args.num_checkpoints if args.num_checkpoints else 3\n",
    "    \n",
    "if args.gnn == 'gin':\n",
    "    model = GNN(gnn_type='gin', num_class=6, num_layer=args.num_layer, emb_dim=args.emb_dim, drop_ratio=args.drop_ratio, virtual_node=False).to(device)\n",
    "elif args.gnn == 'gin-virtual':\n",
    "    model = GNN(gnn_type='gin', num_class=6, num_layer=args.num_layer, emb_dim=args.emb_dim, drop_ratio=args.drop_ratio, virtual_node=True).to(device)\n",
    "elif args.gnn == 'gcn':\n",
    "    model = GNN(gnn_type='gcn', num_class=6, num_layer=args.num_layer, emb_dim=args.emb_dim, drop_ratio=args.drop_ratio, virtual_node=False).to(device)\n",
    "elif args.gnn == 'gcn-virtual':\n",
    "    model = GNN(gnn_type='gcn', num_class=6, num_layer=args.num_layer, emb_dim=args.emb_dim, drop_ratio=args.drop_ratio, virtual_node=True).to(device)\n",
    "else:\n",
    "    raise ValueError('Invalid GNN type')\n",
    "    \n",
    "optimizer = torch.optim.Adam(model.parameters(), lr=0.001)\n",
    "# criterion = torch.nn.CrossEntropyLoss()\n",
    "if args.baseline_mode == 2:\n",
    "    criterion = NoisyCrossEntropyLoss(args.noise_prob)\n",
    "else:\n",
    "    criterion = torch.nn.CrossEntropyLoss()"
   ]
  },
  {
   "cell_type": "code",
   "execution_count": 32,
   "id": "26154c94-63ba-45b3-9668-15db04b71696",
   "metadata": {},
   "outputs": [],
   "source": [
    "from copy import deepcopy\n",
    "\n",
    "model1 = deepcopy(model)\n",
    "model2 = deepcopy(model)\n",
    "\n",
    "optimizer1 = torch.optim.Adam(model1.parameters(), lr=0.001)\n",
    "optimizer2 = torch.optim.Adam(model2.parameters(), lr=0.001)\n",
    "\n",
    "# Ici, utilise une loss élément par élément\n",
    "criterion_dividemix = torch.nn.CrossEntropyLoss(reduction='none')"
   ]
  },
  {
   "cell_type": "code",
   "execution_count": 33,
   "id": "6a025914",
   "metadata": {
    "id": "BTYT5jYuChPb",
    "papermill": {
     "duration": null,
     "end_time": null,
     "exception": null,
     "start_time": null,
     "status": "pending"
    },
    "tags": []
   },
   "outputs": [],
   "source": [
    "test_dir_name = os.path.basename(os.path.dirname(args.test_path))\n",
    "logs_folder = os.path.join(script_dir, \"logs\", test_dir_name)\n",
    "log_file = os.path.join(logs_folder, \"training.log\")\n",
    "os.makedirs(os.path.dirname(log_file), exist_ok=True)\n",
    "logging.basicConfig(filename=log_file, level=logging.INFO, format='%(asctime)s - %(message)s')\n",
    "logging.getLogger().addHandler(logging.StreamHandler())\n",
    "\n",
    "checkpoint_path = os.path.join(script_dir, \"checkpoints\", f\"model_{test_dir_name}_best.pth\")\n",
    "checkpoints_folder = os.path.join(script_dir, \"checkpoints\", test_dir_name)\n",
    "os.makedirs(checkpoints_folder, exist_ok=True)\n"
   ]
  },
  {
   "cell_type": "code",
   "execution_count": 34,
   "id": "dbca6779",
   "metadata": {
    "papermill": {
     "duration": null,
     "end_time": null,
     "exception": null,
     "start_time": null,
     "status": "pending"
    },
    "tags": []
   },
   "outputs": [],
   "source": [
    "if os.path.exists(checkpoint_path) and not args.train_path:\n",
    "    model.load_state_dict(torch.load(checkpoint_path))\n",
    "    print(f\"Loaded best model from {checkpoint_path}\")"
   ]
  },
  {
   "cell_type": "code",
   "execution_count": 35,
   "id": "ef4a359c",
   "metadata": {
    "papermill": {
     "duration": null,
     "end_time": null,
     "exception": null,
     "start_time": null,
     "status": "pending"
    },
    "tags": []
   },
   "outputs": [
    {
     "name": "stderr",
     "output_type": "stream",
     "text": [
      "Iterating eval graphs: 100%|██████████| 35/35 [00:06<00:00,  5.38batch/s]\n",
      "Iterating eval graphs: 100%|██████████| 35/35 [00:06<00:00,  5.15batch/s]\n"
     ]
    },
    {
     "name": "stdout",
     "output_type": "stream",
     "text": [
      "[Epoch 1]\n",
      "  Model 1 -> Train Loss: 1.7506, Val Loss: 1.7349, Val Acc: 0.2946\n",
      "  Model 2 -> Train Loss: 1.7438, Val Loss: 1.7356, Val Acc: 0.2509\n",
      "Checkpoints saved for both models at epoch 1\n",
      "Best model updated: model1\n"
     ]
    },
    {
     "name": "stderr",
     "output_type": "stream",
     "text": [
      "Iterating eval graphs: 100%|██████████| 35/35 [00:07<00:00,  4.50batch/s]\n",
      "Iterating eval graphs: 100%|██████████| 35/35 [00:07<00:00,  4.73batch/s]\n"
     ]
    },
    {
     "name": "stdout",
     "output_type": "stream",
     "text": [
      "[Epoch 2]\n",
      "  Model 1 -> Train Loss: 1.7449, Val Loss: 1.7567, Val Acc: 0.2616\n",
      "  Model 2 -> Train Loss: 1.7224, Val Loss: 1.7147, Val Acc: 0.2848\n",
      "Checkpoints saved for both models at epoch 2\n"
     ]
    },
    {
     "name": "stderr",
     "output_type": "stream",
     "text": [
      "Iterating eval graphs: 100%|██████████| 35/35 [00:07<00:00,  4.88batch/s]\n",
      "Iterating eval graphs: 100%|██████████| 35/35 [00:06<00:00,  5.28batch/s]\n"
     ]
    },
    {
     "name": "stdout",
     "output_type": "stream",
     "text": [
      "[Epoch 3]\n",
      "  Model 1 -> Train Loss: 1.7117, Val Loss: 1.6851, Val Acc: 0.3384\n",
      "  Model 2 -> Train Loss: 1.7045, Val Loss: 1.7071, Val Acc: 0.3187\n",
      "Checkpoints saved for both models at epoch 3\n",
      "Best model updated: model1\n"
     ]
    },
    {
     "name": "stderr",
     "output_type": "stream",
     "text": [
      "Iterating eval graphs: 100%|██████████| 35/35 [00:07<00:00,  4.53batch/s]\n",
      "Iterating eval graphs: 100%|██████████| 35/35 [00:07<00:00,  4.80batch/s]\n"
     ]
    },
    {
     "name": "stdout",
     "output_type": "stream",
     "text": [
      "[Epoch 4]\n",
      "  Model 1 -> Train Loss: 1.6622, Val Loss: 1.6410, Val Acc: 0.3991\n",
      "  Model 2 -> Train Loss: 1.6814, Val Loss: 1.6558, Val Acc: 0.3857\n",
      "Checkpoints saved for both models at epoch 4\n",
      "Best model updated: model1\n"
     ]
    },
    {
     "name": "stderr",
     "output_type": "stream",
     "text": [
      "Iterating eval graphs: 100%|██████████| 35/35 [00:07<00:00,  4.52batch/s]\n",
      "Iterating eval graphs: 100%|██████████| 35/35 [00:07<00:00,  4.73batch/s]\n"
     ]
    },
    {
     "name": "stdout",
     "output_type": "stream",
     "text": [
      "[Epoch 5]\n",
      "  Model 1 -> Train Loss: 1.6387, Val Loss: 1.6104, Val Acc: 0.4018\n",
      "  Model 2 -> Train Loss: 1.6460, Val Loss: 1.6213, Val Acc: 0.3946\n",
      "Checkpoints saved for both models at epoch 5\n",
      "Best model updated: model1\n"
     ]
    },
    {
     "name": "stderr",
     "output_type": "stream",
     "text": [
      "Iterating eval graphs: 100%|██████████| 35/35 [00:07<00:00,  4.87batch/s]\n",
      "Iterating eval graphs: 100%|██████████| 35/35 [00:07<00:00,  4.75batch/s]\n"
     ]
    },
    {
     "name": "stdout",
     "output_type": "stream",
     "text": [
      "[Epoch 6]\n",
      "  Model 1 -> Train Loss: 1.6158, Val Loss: 1.6051, Val Acc: 0.3955\n",
      "  Model 2 -> Train Loss: 1.6038, Val Loss: 1.5934, Val Acc: 0.4071\n",
      "Checkpoints saved for both models at epoch 6\n",
      "Best model updated: model2\n"
     ]
    },
    {
     "name": "stderr",
     "output_type": "stream",
     "text": [
      "Iterating eval graphs: 100%|██████████| 35/35 [00:07<00:00,  4.50batch/s]\n",
      "Iterating eval graphs: 100%|██████████| 35/35 [00:07<00:00,  4.77batch/s]\n"
     ]
    },
    {
     "name": "stdout",
     "output_type": "stream",
     "text": [
      "[Epoch 7]\n",
      "  Model 1 -> Train Loss: 1.5865, Val Loss: 1.5558, Val Acc: 0.4393\n",
      "  Model 2 -> Train Loss: 1.5874, Val Loss: 1.5745, Val Acc: 0.4214\n",
      "Checkpoints saved for both models at epoch 7\n",
      "Best model updated: model1\n"
     ]
    },
    {
     "name": "stderr",
     "output_type": "stream",
     "text": [
      "Iterating eval graphs: 100%|██████████| 35/35 [00:07<00:00,  4.56batch/s]\n",
      "Iterating eval graphs: 100%|██████████| 35/35 [00:07<00:00,  4.95batch/s]\n"
     ]
    },
    {
     "name": "stdout",
     "output_type": "stream",
     "text": [
      "[Epoch 8]\n",
      "  Model 1 -> Train Loss: 1.5589, Val Loss: 1.5665, Val Acc: 0.4196\n",
      "  Model 2 -> Train Loss: 1.5937, Val Loss: 1.5680, Val Acc: 0.4429\n",
      "Checkpoints saved for both models at epoch 8\n",
      "Best model updated: model2\n"
     ]
    },
    {
     "name": "stderr",
     "output_type": "stream",
     "text": [
      "Iterating eval graphs: 100%|██████████| 35/35 [00:06<00:00,  5.01batch/s]\n",
      "Iterating eval graphs: 100%|██████████| 35/35 [00:07<00:00,  4.74batch/s]\n"
     ]
    },
    {
     "name": "stdout",
     "output_type": "stream",
     "text": [
      "[Epoch 9]\n",
      "  Model 1 -> Train Loss: 1.5815, Val Loss: 1.5587, Val Acc: 0.4545\n",
      "  Model 2 -> Train Loss: 1.5726, Val Loss: 1.5562, Val Acc: 0.4446\n",
      "Checkpoints saved for both models at epoch 9\n",
      "Best model updated: model1\n"
     ]
    },
    {
     "name": "stderr",
     "output_type": "stream",
     "text": [
      "Iterating eval graphs: 100%|██████████| 35/35 [00:07<00:00,  4.81batch/s]\n",
      "Iterating eval graphs: 100%|██████████| 35/35 [00:06<00:00,  5.33batch/s]\n"
     ]
    },
    {
     "name": "stdout",
     "output_type": "stream",
     "text": [
      "[Epoch 10]\n",
      "  Model 1 -> Train Loss: 1.5527, Val Loss: 1.5518, Val Acc: 0.4464\n",
      "  Model 2 -> Train Loss: 1.5576, Val Loss: 1.5614, Val Acc: 0.4188\n",
      "Checkpoints saved for both models at epoch 10\n"
     ]
    },
    {
     "name": "stderr",
     "output_type": "stream",
     "text": [
      "Iterating eval graphs: 100%|██████████| 35/35 [00:06<00:00,  5.17batch/s]\n",
      "Iterating eval graphs: 100%|██████████| 35/35 [00:07<00:00,  4.99batch/s]\n"
     ]
    },
    {
     "name": "stdout",
     "output_type": "stream",
     "text": [
      "[Epoch 11]\n",
      "  Model 1 -> Train Loss: 1.5630, Val Loss: 1.5867, Val Acc: 0.4009\n",
      "  Model 2 -> Train Loss: 1.5627, Val Loss: 1.5737, Val Acc: 0.4232\n",
      "Checkpoints saved for both models at epoch 11\n"
     ]
    },
    {
     "name": "stderr",
     "output_type": "stream",
     "text": [
      "Iterating eval graphs: 100%|██████████| 35/35 [00:07<00:00,  4.67batch/s]\n",
      "Iterating eval graphs: 100%|██████████| 35/35 [00:06<00:00,  5.08batch/s]\n"
     ]
    },
    {
     "name": "stdout",
     "output_type": "stream",
     "text": [
      "[Epoch 12]\n",
      "  Model 1 -> Train Loss: 1.5223, Val Loss: 1.5233, Val Acc: 0.4723\n",
      "  Model 2 -> Train Loss: 1.5542, Val Loss: 1.5444, Val Acc: 0.4554\n",
      "Checkpoints saved for both models at epoch 12\n",
      "Best model updated: model1\n"
     ]
    },
    {
     "name": "stderr",
     "output_type": "stream",
     "text": [
      "Iterating eval graphs: 100%|██████████| 35/35 [00:07<00:00,  4.51batch/s]\n",
      "Iterating eval graphs: 100%|██████████| 35/35 [00:07<00:00,  4.81batch/s]\n"
     ]
    },
    {
     "name": "stdout",
     "output_type": "stream",
     "text": [
      "[Epoch 13]\n",
      "  Model 1 -> Train Loss: 1.5338, Val Loss: 1.5444, Val Acc: 0.4268\n",
      "  Model 2 -> Train Loss: 1.5454, Val Loss: 1.5343, Val Acc: 0.4402\n",
      "Checkpoints saved for both models at epoch 13\n"
     ]
    },
    {
     "name": "stderr",
     "output_type": "stream",
     "text": [
      "Iterating eval graphs: 100%|██████████| 35/35 [00:06<00:00,  5.27batch/s]\n",
      "Iterating eval graphs: 100%|██████████| 35/35 [00:06<00:00,  5.65batch/s]\n"
     ]
    },
    {
     "name": "stdout",
     "output_type": "stream",
     "text": [
      "[Epoch 14]\n",
      "  Model 1 -> Train Loss: 1.5575, Val Loss: 1.5359, Val Acc: 0.4634\n",
      "  Model 2 -> Train Loss: 1.5232, Val Loss: 1.5513, Val Acc: 0.4420\n",
      "Checkpoints saved for both models at epoch 14\n"
     ]
    },
    {
     "name": "stderr",
     "output_type": "stream",
     "text": [
      "Iterating eval graphs: 100%|██████████| 35/35 [00:07<00:00,  4.39batch/s]\n",
      "Iterating eval graphs: 100%|██████████| 35/35 [00:07<00:00,  4.69batch/s]\n"
     ]
    },
    {
     "name": "stdout",
     "output_type": "stream",
     "text": [
      "[Epoch 15]\n",
      "  Model 1 -> Train Loss: 1.5273, Val Loss: 1.5407, Val Acc: 0.4473\n",
      "  Model 2 -> Train Loss: 1.5276, Val Loss: 1.5458, Val Acc: 0.4580\n",
      "Checkpoints saved for both models at epoch 15\n"
     ]
    },
    {
     "name": "stderr",
     "output_type": "stream",
     "text": [
      "Iterating eval graphs: 100%|██████████| 35/35 [00:06<00:00,  5.17batch/s]\n",
      "Iterating eval graphs: 100%|██████████| 35/35 [00:07<00:00,  4.80batch/s]\n"
     ]
    },
    {
     "name": "stdout",
     "output_type": "stream",
     "text": [
      "[Epoch 16]\n",
      "  Model 1 -> Train Loss: 1.5475, Val Loss: 1.5456, Val Acc: 0.4214\n",
      "  Model 2 -> Train Loss: 1.5233, Val Loss: 1.5830, Val Acc: 0.4188\n",
      "Checkpoints saved for both models at epoch 16\n"
     ]
    },
    {
     "name": "stderr",
     "output_type": "stream",
     "text": [
      "Iterating eval graphs: 100%|██████████| 35/35 [00:06<00:00,  5.16batch/s]\n",
      "Iterating eval graphs: 100%|██████████| 35/35 [00:06<00:00,  5.26batch/s]\n"
     ]
    },
    {
     "name": "stdout",
     "output_type": "stream",
     "text": [
      "[Epoch 17]\n",
      "  Model 1 -> Train Loss: 1.5052, Val Loss: 1.5301, Val Acc: 0.4527\n",
      "  Model 2 -> Train Loss: 1.5061, Val Loss: 1.5173, Val Acc: 0.4634\n",
      "Checkpoints saved for both models at epoch 17\n"
     ]
    },
    {
     "name": "stderr",
     "output_type": "stream",
     "text": [
      "Iterating eval graphs: 100%|██████████| 35/35 [00:06<00:00,  5.44batch/s]\n",
      "Iterating eval graphs: 100%|██████████| 35/35 [00:06<00:00,  5.59batch/s]\n"
     ]
    },
    {
     "name": "stdout",
     "output_type": "stream",
     "text": [
      "[Epoch 18]\n",
      "  Model 1 -> Train Loss: 1.5280, Val Loss: 1.5152, Val Acc: 0.4821\n",
      "  Model 2 -> Train Loss: 1.5306, Val Loss: 1.5153, Val Acc: 0.4777\n",
      "Checkpoints saved for both models at epoch 18\n",
      "Best model updated: model1\n"
     ]
    },
    {
     "name": "stderr",
     "output_type": "stream",
     "text": [
      "Iterating eval graphs: 100%|██████████| 35/35 [00:06<00:00,  5.23batch/s]\n",
      "Iterating eval graphs: 100%|██████████| 35/35 [00:07<00:00,  4.77batch/s]\n"
     ]
    },
    {
     "name": "stdout",
     "output_type": "stream",
     "text": [
      "[Epoch 19]\n",
      "  Model 1 -> Train Loss: 1.4968, Val Loss: 1.4972, Val Acc: 0.4821\n",
      "  Model 2 -> Train Loss: 1.4993, Val Loss: 1.5403, Val Acc: 0.4946\n",
      "Checkpoints saved for both models at epoch 19\n",
      "Best model updated: model2\n"
     ]
    },
    {
     "name": "stderr",
     "output_type": "stream",
     "text": [
      "Iterating eval graphs: 100%|██████████| 35/35 [00:07<00:00,  4.43batch/s]\n",
      "Iterating eval graphs: 100%|██████████| 35/35 [00:07<00:00,  4.79batch/s]\n"
     ]
    },
    {
     "name": "stdout",
     "output_type": "stream",
     "text": [
      "[Epoch 20]\n",
      "  Model 1 -> Train Loss: 1.4914, Val Loss: 1.5129, Val Acc: 0.4830\n",
      "  Model 2 -> Train Loss: 1.4863, Val Loss: 1.5129, Val Acc: 0.4938\n",
      "Checkpoints saved for both models at epoch 20\n"
     ]
    }
   ],
   "source": [
    "if args.train_path:\n",
    "    full_dataset = GraphDataset(args.train_path, transform=add_zeros)\n",
    "    val_size = int(0.2 * len(full_dataset))\n",
    "    train_size = len(full_dataset) - val_size\n",
    "\n",
    "    \n",
    "    generator = torch.Generator().manual_seed(12)\n",
    "    train_dataset, val_dataset = random_split(full_dataset, [train_size, val_size], generator=generator)\n",
    "\n",
    "    train_loader = DataLoader(train_dataset, batch_size=args.batch_size, shuffle=True)\n",
    "    val_loader = DataLoader(val_dataset, batch_size=args.batch_size, shuffle=False)\n",
    "\n",
    "    num_epochs = args.epochs\n",
    "    best_val_accuracy = 0.0   \n",
    "\n",
    "\n",
    "    train_losses1 = []\n",
    "    train_losses2 = []\n",
    "    val_losses1 = []\n",
    "    val_losses2 = []\n",
    "    \n",
    "    train_accuracies1 = []\n",
    "    train_accuracies2 = []\n",
    "    val_accuracies1 = []\n",
    "    val_accuracies2 = []\n",
    "    \n",
    "    best_val_accuracy = 0.0\n",
    "    best_model_name = \"\"\n",
    "\n",
    "    if num_checkpoints > 1:\n",
    "        checkpoint_intervals = [int((i + 1) * num_epochs / num_checkpoints) for i in range(num_checkpoints)]\n",
    "    else:\n",
    "        checkpoint_intervals = [num_epochs]\n",
    "\n",
    "    for epoch in range(num_epochs):\n",
    "        train_loss1, train_loss2 = train_dividemix(\n",
    "            train_loader, model1, model2,\n",
    "            optimizer1, optimizer2,\n",
    "            criterion_dividemix, device, epoch, threshold=1.0\n",
    "        )\n",
    "    \n",
    "        val_loss1, val_acc1 = evaluate(val_loader, model1, device, calculate_accuracy=True)\n",
    "        val_loss2, val_acc2 = evaluate(val_loader, model2, device, calculate_accuracy=True)\n",
    "    \n",
    "        print(f\"[Epoch {epoch + 1}]\")\n",
    "        print(f\"  Model 1 -> Train Loss: {train_loss1:.4f}, Val Loss: {val_loss1:.4f}, Val Acc: {val_acc1:.4f}\")\n",
    "        print(f\"  Model 2 -> Train Loss: {train_loss2:.4f}, Val Loss: {val_loss2:.4f}, Val Acc: {val_acc2:.4f}\")\n",
    "    \n",
    "        save_checkpoints = (epoch + 1 in checkpoint_intervals)\n",
    "    \n",
    "        if save_checkpoints:\n",
    "            torch.save(model1.state_dict(), os.path.join(checkpoints_folder, f\"model1_epoch{epoch+1}.pth\"))\n",
    "            torch.save(model2.state_dict(), os.path.join(checkpoints_folder, f\"model2_epoch{epoch+1}.pth\"))\n",
    "            print(f\"Checkpoints saved for both models at epoch {epoch + 1}\")\n",
    "    \n",
    "    \n",
    "        # Stockage des métriques\n",
    "        train_losses1.append(train_loss1)\n",
    "        train_losses2.append(train_loss2)\n",
    "        val_losses1.append(val_loss1)\n",
    "        val_losses2.append(val_loss2)\n",
    "    \n",
    "        val_accuracies1.append(val_acc1)\n",
    "        val_accuracies2.append(val_acc2)\n",
    "    \n",
    "        train_accuracies1.append(None)  # Si besoin de train_acc, implémenter calcul (cf plus bas)\n",
    "        train_accuracies2.append(None)\n",
    "    \n",
    "        # Sauvegarde du meilleur modèle\n",
    "        if val_acc1 > best_val_accuracy:\n",
    "            best_val_accuracy = val_acc1\n",
    "            torch.save(model1.state_dict(), os.path.join(checkpoints_folder, \"best_model1.pth\"))\n",
    "            best_model_name = \"model1\"\n",
    "            print(\"Best model updated: model1\")\n",
    "    \n",
    "        if val_acc2 > best_val_accuracy:\n",
    "            best_val_accuracy = val_acc2\n",
    "            torch.save(model2.state_dict(), os.path.join(checkpoints_folder, \"best_model2.pth\"))\n",
    "            best_model_name = \"model2\"\n",
    "            print(\"Best model updated: model2\")\n",
    "\n",
    "\n",
    "    # Création des dossiers si besoin\n",
    "    os.makedirs(os.path.join(logs_folder, \"plots_model1\"), exist_ok=True)\n",
    "    os.makedirs(os.path.join(logs_folder, \"plots_model2\"), exist_ok=True)\n",
    "    \n",
    "    # Courbes pour model1\n",
    "    plot_training_progress(train_losses1, train_accuracies1, os.path.join(logs_folder, \"plots_model1\"))\n",
    "    plot_training_progress(val_losses1, val_accuracies1, os.path.join(logs_folder, \"plots_model1Val\"))\n",
    "    \n",
    "    # Courbes pour model2\n",
    "    plot_training_progress(train_losses2, train_accuracies2, os.path.join(logs_folder, \"plots_model2\"))\n",
    "    plot_training_progress(val_losses2, val_accuracies2, os.path.join(logs_folder, \"plots_model2Val\"))\n"
   ]
  },
  {
   "cell_type": "code",
   "execution_count": 36,
   "id": "07594aff",
   "metadata": {
    "papermill": {
     "duration": null,
     "end_time": null,
     "exception": null,
     "start_time": null,
     "status": "pending"
    },
    "tags": []
   },
   "outputs": [
    {
     "data": {
      "text/plain": [
       "23773"
      ]
     },
     "execution_count": 36,
     "metadata": {},
     "output_type": "execute_result"
    }
   ],
   "source": [
    "import gc\n",
    "del train_dataset\n",
    "del train_loader\n",
    "del full_dataset\n",
    "del val_dataset\n",
    "del val_loader\n",
    "gc.collect()"
   ]
  },
  {
   "cell_type": "code",
   "execution_count": 37,
   "id": "ba668fff",
   "metadata": {
    "id": "xsXZIj4Mdu3I",
    "papermill": {
     "duration": null,
     "end_time": null,
     "exception": null,
     "start_time": null,
     "status": "pending"
    },
    "tags": []
   },
   "outputs": [],
   "source": [
    "test_dataset = GraphDataset(args.test_path, transform=add_zeros)\n",
    "test_loader = DataLoader(test_dataset, batch_size=args.batch_size, shuffle=False)"
   ]
  },
  {
   "cell_type": "code",
   "execution_count": 38,
   "id": "7828e983",
   "metadata": {
    "id": "x1OnGq_nCmTr",
    "papermill": {
     "duration": null,
     "end_time": null,
     "exception": null,
     "start_time": null,
     "status": "pending"
    },
    "tags": []
   },
   "outputs": [
    {
     "name": "stderr",
     "output_type": "stream",
     "text": [
      "Iterating eval graphs: 100%|██████████| 49/49 [00:10<00:00,  4.71batch/s]"
     ]
    },
    {
     "name": "stdout",
     "output_type": "stream",
     "text": [
      "Predictions saved to /home/onyxia/work/DL-Hackathon/hackaton/submission/testset_B.csv\n"
     ]
    },
    {
     "name": "stderr",
     "output_type": "stream",
     "text": [
      "\n"
     ]
    }
   ],
   "source": [
    "#model1.load_state_dict(torch.load(checkpoint_path, map_location='cuda:0'))\n",
    "predictions = evaluate(test_loader, model1, device, calculate_accuracy=False)\n",
    "save_predictions(predictions, args.test_path)"
   ]
  },
  {
   "cell_type": "code",
   "execution_count": 39,
   "id": "343c36b2",
   "metadata": {
    "papermill": {
     "duration": null,
     "end_time": null,
     "exception": null,
     "start_time": null,
     "status": "pending"
    },
    "tags": []
   },
   "outputs": [
    {
     "name": "stdout",
     "output_type": "stream",
     "text": [
      "Folder '/home/onyxia/work/DL-Hackathon/hackaton/submission' has been compressed into '/home/onyxia/work/DL-Hackathon/hackaton/submission.gz'\n"
     ]
    }
   ],
   "source": [
    "import tarfile\n",
    "import os\n",
    "\n",
    "def gzip_folder(folder_path, output_file):\n",
    "    \"\"\"\n",
    "    Compresses an entire folder into a single .tar.gz file.\n",
    "\n",
    "    Args:\n",
    "        folder_path (str): Path to the folder to compress.\n",
    "        output_file (str): Path to the output .gz file.\n",
    "    \"\"\"\n",
    "    with tarfile.open(output_file, \"w:gz\") as tar:\n",
    "        tar.add(folder_path, arcname=os.path.basename(folder_path))\n",
    "    print(f\"Folder '{folder_path}' has been compressed into '{output_file}'\")\n",
    "\n",
    "# Example usage\n",
    "folder_path = \"/home/onyxia/work/DL-Hackathon/hackaton/submission\"            # Path to the folder you want to compress\n",
    "output_file = \"/home/onyxia/work/DL-Hackathon/hackaton/submission.gz\"        # Output .gz file name\n",
    "gzip_folder(folder_path, output_file)"
   ]
  }
 ],
 "metadata": {
  "accelerator": "GPU",
  "colab": {
   "gpuType": "T4",
   "provenance": []
  },
  "kaggle": {
   "accelerator": "gpu",
   "dataSources": [],
   "dockerImageVersionId": 30919,
   "isGpuEnabled": true,
   "isInternetEnabled": true,
   "language": "python",
   "sourceType": "notebook"
  },
  "kernelspec": {
   "display_name": "Python 3 (ipykernel)",
   "language": "python",
   "name": "python3"
  },
  "language_info": {
   "codemirror_mode": {
    "name": "ipython",
    "version": 3
   },
   "file_extension": ".py",
   "mimetype": "text/x-python",
   "name": "python",
   "nbconvert_exporter": "python",
   "pygments_lexer": "ipython3",
   "version": "3.12.9"
  },
  "papermill": {
   "default_parameters": {},
   "duration": 108.457758,
   "end_time": "2025-05-21T16:25:04.482169",
   "environment_variables": {},
   "exception": true,
   "input_path": "__notebook__.ipynb",
   "output_path": "__notebook__.ipynb",
   "parameters": {},
   "start_time": "2025-05-21T16:23:16.024411",
   "version": "2.6.0"
  }
 },
 "nbformat": 4,
 "nbformat_minor": 5
}
