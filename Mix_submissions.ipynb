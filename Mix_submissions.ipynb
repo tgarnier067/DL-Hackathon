{
 "cells": [
  {
   "cell_type": "code",
   "execution_count": 1,
   "id": "d8876693-cb1b-46e5-ad35-44865b51de75",
   "metadata": {},
   "outputs": [
    {
     "name": "stdout",
     "output_type": "stream",
     "text": [
      "/bin/bash: line 1: cd: DL-hackathon/: No such file or directory\n"
     ]
    }
   ],
   "source": [
    "!cd DL-hackathon/"
   ]
  },
  {
   "cell_type": "code",
   "execution_count": 15,
   "id": "2b9b765c-b178-4ad7-87dd-81a661095fd9",
   "metadata": {},
   "outputs": [
    {
     "name": "stdout",
     "output_type": "stream",
     "text": [
      "testset_A chargé avec 2340 lignes.\n",
      "testset_B chargé avec 1560 lignes.\n",
      "testset_C chargé avec 1530 lignes.\n",
      "testset_D chargé avec 2250 lignes.\n"
     ]
    }
   ],
   "source": [
    "import tarfile\n",
    "import pandas as pd\n",
    "\n",
    "# Dictionnaire pour stocker les DataFrames\n",
    "dataframes1 = {}\n",
    "\n",
    "with tarfile.open('submission.gz', 'r:gz') as tar:\n",
    "    for member in tar.getmembers():\n",
    "        if member.isfile() and member.name.endswith('.csv') and not '.ipynb_checkpoints' in member.name:\n",
    "            f = tar.extractfile(member)\n",
    "            df = pd.read_csv(f)\n",
    "            table_name = member.name.split('/')[-1].replace('.csv', '')  # Exemple : testset_A\n",
    "            dataframes1[table_name] = df\n",
    "            print(f\"{table_name} chargé avec {len(df)} lignes.\")"
   ]
  },
  {
   "cell_type": "code",
   "execution_count": 16,
   "id": "10c06cc1-f6bf-419a-ad54-4b89867916ff",
   "metadata": {},
   "outputs": [
    {
     "data": {
      "text/html": [
       "<div>\n",
       "<style scoped>\n",
       "    .dataframe tbody tr th:only-of-type {\n",
       "        vertical-align: middle;\n",
       "    }\n",
       "\n",
       "    .dataframe tbody tr th {\n",
       "        vertical-align: top;\n",
       "    }\n",
       "\n",
       "    .dataframe thead th {\n",
       "        text-align: right;\n",
       "    }\n",
       "</style>\n",
       "<table border=\"1\" class=\"dataframe\">\n",
       "  <thead>\n",
       "    <tr style=\"text-align: right;\">\n",
       "      <th></th>\n",
       "      <th>id</th>\n",
       "      <th>pred</th>\n",
       "    </tr>\n",
       "  </thead>\n",
       "  <tbody>\n",
       "    <tr>\n",
       "      <th>0</th>\n",
       "      <td>0</td>\n",
       "      <td>2</td>\n",
       "    </tr>\n",
       "    <tr>\n",
       "      <th>1</th>\n",
       "      <td>1</td>\n",
       "      <td>4</td>\n",
       "    </tr>\n",
       "    <tr>\n",
       "      <th>2</th>\n",
       "      <td>2</td>\n",
       "      <td>4</td>\n",
       "    </tr>\n",
       "    <tr>\n",
       "      <th>3</th>\n",
       "      <td>3</td>\n",
       "      <td>2</td>\n",
       "    </tr>\n",
       "    <tr>\n",
       "      <th>4</th>\n",
       "      <td>4</td>\n",
       "      <td>2</td>\n",
       "    </tr>\n",
       "  </tbody>\n",
       "</table>\n",
       "</div>"
      ],
      "text/plain": [
       "   id  pred\n",
       "0   0     2\n",
       "1   1     4\n",
       "2   2     4\n",
       "3   3     2\n",
       "4   4     2"
      ]
     },
     "execution_count": 16,
     "metadata": {},
     "output_type": "execute_result"
    }
   ],
   "source": [
    "dataframes1['testset_A'].head()"
   ]
  },
  {
   "cell_type": "code",
   "execution_count": 17,
   "id": "8ad55bd1-de78-406b-ac3f-f8b1e4d341f7",
   "metadata": {},
   "outputs": [
    {
     "name": "stdout",
     "output_type": "stream",
     "text": [
      "testset_A chargé avec 2340 lignes.\n",
      "testset_B chargé avec 1560 lignes.\n",
      "testset_C chargé avec 1530 lignes.\n",
      "testset_D chargé avec 2250 lignes.\n"
     ]
    }
   ],
   "source": [
    "import tarfile\n",
    "import pandas as pd\n",
    "\n",
    "# Dictionnaire pour stocker les DataFrames\n",
    "dataframes2 = {}\n",
    "\n",
    "with tarfile.open('submission (2).gz', 'r:gz') as tar:\n",
    "    for member in tar.getmembers():\n",
    "        if member.isfile() and member.name.endswith('.csv') and not '.ipynb_checkpoints' in member.name:\n",
    "            f = tar.extractfile(member)\n",
    "            df = pd.read_csv(f)\n",
    "            table_name = member.name.split('/')[-1].replace('.csv', '')  # Exemple : testset_A\n",
    "            dataframes2[table_name] = df\n",
    "            print(f\"{table_name} chargé avec {len(df)} lignes.\")"
   ]
  },
  {
   "cell_type": "code",
   "execution_count": 23,
   "id": "f08c4c5e-a7e0-4f0a-a08f-7db83dfc736f",
   "metadata": {},
   "outputs": [
    {
     "name": "stdout",
     "output_type": "stream",
     "text": [
      "Archive submission_mixed.tar.gz créée avec succès.\n"
     ]
    }
   ],
   "source": [
    "import pandas as pd\n",
    "import tarfile\n",
    "import io\n",
    "\n",
    "# Supposons que final_tables est une liste de DataFrames, et que tu connais leurs noms\n",
    "# Exemple :\n",
    "tables = {\n",
    "    'testset_A.csv': dataframes2['testset_A'],\n",
    "    'testset_B.csv': dataframes1['testset_B'],\n",
    "    'testset_C.csv': dataframes2['testset_C'],\n",
    "    'testset_D.csv': dataframes2['testset_D']\n",
    "}\n",
    "\n",
    "# Nom de l'archive de sortie\n",
    "output_tar_gz = 'submission_mixed.tar.gz'\n",
    "\n",
    "with tarfile.open(output_tar_gz, 'w:gz') as tar:\n",
    "    for filename, df in tables.items():\n",
    "        # Convertir DataFrame en csv en mémoire (buffer)\n",
    "        csv_buffer = io.StringIO()\n",
    "        df.to_csv(csv_buffer, index=False)\n",
    "        csv_bytes = csv_buffer.getvalue().encode('utf-8')\n",
    "\n",
    "        # Créer un objet BytesIO à partir des bytes csv\n",
    "        fileobj = io.BytesIO(csv_bytes)\n",
    "\n",
    "        # Créer un TarInfo pour ce fichier\n",
    "        tarinfo = tarfile.TarInfo(name=f'submission/{filename}')\n",
    "        tarinfo.size = len(csv_bytes)\n",
    "\n",
    "        # Ajouter le fichier au tar.gz\n",
    "        tar.addfile(tarinfo, fileobj)\n",
    "\n",
    "print(f'Archive {output_tar_gz} créée avec succès.')\n"
   ]
  }
 ],
 "metadata": {
  "kernelspec": {
   "display_name": "Python 3 (ipykernel)",
   "language": "python",
   "name": "python3"
  },
  "language_info": {
   "codemirror_mode": {
    "name": "ipython",
    "version": 3
   },
   "file_extension": ".py",
   "mimetype": "text/x-python",
   "name": "python",
   "nbconvert_exporter": "python",
   "pygments_lexer": "ipython3",
   "version": "3.12.9"
  }
 },
 "nbformat": 4,
 "nbformat_minor": 5
}
